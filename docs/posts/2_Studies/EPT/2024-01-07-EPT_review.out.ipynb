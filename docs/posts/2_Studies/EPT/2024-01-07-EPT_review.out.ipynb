{
  "cells": [
    {
      "cell_type": "markdown",
      "metadata": {},
      "source": [
        "# \\[EPT\\]Review(EPT: An R package for ensemble patch transform)\n",
        "\n",
        "SEOYEON CHOI  \n",
        "2024-01-07\n",
        "\n",
        "[R](https://cran.r-project.org/web/packages/EPT/EPT.pdf)"
      ],
      "id": "21ce8682-211e-460a-8681-5ca2043e01bb"
    },
    {
      "cell_type": "code",
      "execution_count": 1,
      "metadata": {},
      "outputs": [],
      "source": [
        "install.(EPT)"
      ],
      "id": "49afb748-0ec9-4926-9343-fa9242c01377"
    },
    {
      "cell_type": "markdown",
      "metadata": {},
      "source": [
        "다변량 신호의 다중척도 분석을 위한 새로운 방법론 제시\n",
        "\n",
        "one-dimensional signals 및 two-dimensional images에 대한 다중척도 분석을\n",
        "위해 제안\n",
        "\n",
        "-   patch process\n",
        "    -   다양한 패치 크기에 따라 데이터의 로컬 특성을 추출하고 요약하는\n",
        "        역할\n",
        "-   ensemble process.\n",
        "    -   신호의 시간적 변동을 효과적으로 나타내기 위해 패치의 위치를 변환\n",
        "    -   원래 다중 스케일 특성을 가지고 있음.\n",
        "\n",
        "두 프로세스로 구성됌.\n",
        "\n",
        "*다양한 필터(비선형 필터 포함)를 디자인할 수 있어 로컬 특성 및 스케일\n",
        "패턴을 식별하는 데 유용*\n",
        "\n",
        "*유연한 필터 디자인을 통해 신호 분해에 적용 가능*\n",
        "\n",
        "R packag 내용\n",
        "\n",
        "-   `eptransf()`\n",
        "-   `meptransf()`\n",
        "-   `eptplot()`\n",
        "-   `eptdecomp()`\n",
        "-   `eptransf2d()`\n",
        "-   `meptransf2d()`"
      ],
      "id": "aacf10ab-7404-4b20-bdde-c7b41ef4d2cd"
    }
  ],
  "nbformat": 4,
  "nbformat_minor": 5,
  "metadata": {
    "kernelspec": {
      "name": "ir",
      "display_name": "R",
      "language": "R"
    },
    "language_info": {
      "name": "R",
      "codemirror_mode": "r",
      "file_extension": ".r",
      "mimetype": "text/x-r-source",
      "pygments_lexer": "r",
      "version": "4.3.0"
    }
  }
}