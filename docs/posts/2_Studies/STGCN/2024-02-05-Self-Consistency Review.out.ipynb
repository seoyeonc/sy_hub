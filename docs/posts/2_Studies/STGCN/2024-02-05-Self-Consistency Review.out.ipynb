{
  "cells": [
    {
      "cell_type": "markdown",
      "metadata": {},
      "source": [
        "# Review: Self-Consistency: A Fundamental Concept in Statistics\n",
        "\n",
        "SEOYEON CHOI  \n",
        "2024-02-05"
      ],
      "id": "8274a77c-bd9b-4699-9db3-fa8f66c586e5"
    }
  ],
  "nbformat": 4,
  "nbformat_minor": 5,
  "metadata": {
    "kernelspec": {
      "name": "python3",
      "display_name": "Python 3",
      "language": "python"
    },
    "language_info": {
      "name": "python",
      "codemirror_mode": {
        "name": "ipython",
        "version": "3"
      },
      "file_extension": ".py",
      "mimetype": "text/x-python",
      "nbconvert_exporter": "python",
      "pygments_lexer": "ipython3",
      "version": "3.8.0"
    }
  }
}