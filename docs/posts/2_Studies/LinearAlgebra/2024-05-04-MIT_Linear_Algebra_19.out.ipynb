{
  "cells": [
    {
      "cell_type": "markdown",
      "metadata": {},
      "source": [
        "# \\[Linear Algebra\\] Lecture 19\n",
        "\n",
        "SEOYEON CHOI  \n",
        "2024-05-04\n",
        "\n",
        "<https://www.youtube.com/watch?v=srxexLishgY&list=PL49CF3715CB9EF31D&index=18>\n",
        "\n",
        "https://twlab.tistory.com/41#google_vignette"
      ],
      "id": "173a2d41-79e1-4c8a-ab2c-664fe0663274"
    }
  ],
  "nbformat": 4,
  "nbformat_minor": 5,
  "metadata": {
    "kernelspec": {
      "name": "python3",
      "display_name": "Python 3",
      "language": "python"
    },
    "language_info": {
      "name": "python",
      "codemirror_mode": {
        "name": "ipython",
        "version": "3"
      },
      "file_extension": ".py",
      "mimetype": "text/x-python",
      "nbconvert_exporter": "python",
      "pygments_lexer": "ipython3",
      "version": "3.8.0"
    }
  }
}