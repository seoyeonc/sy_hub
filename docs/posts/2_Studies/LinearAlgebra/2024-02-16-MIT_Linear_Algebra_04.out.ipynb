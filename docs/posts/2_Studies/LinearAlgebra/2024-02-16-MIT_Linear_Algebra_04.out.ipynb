{
  "cells": [
    {
      "cell_type": "markdown",
      "metadata": {},
      "source": [
        "# \\[Linear Algebra\\] Lecture 3\n",
        "\n",
        "SEOYEON CHOI  \n",
        "2024-02-16\n",
        "\n",
        "<https://www.youtube.com/watch?v=5hO3MrzPa0A&list=PL49CF3715CB9EF31D&index=4>"
      ],
      "id": "f33e6d6f-cc08-4798-bd97-9d4321a3923d"
    }
  ],
  "nbformat": 4,
  "nbformat_minor": 5,
  "metadata": {
    "kernelspec": {
      "name": "python3",
      "display_name": "Python 3",
      "language": "python"
    },
    "language_info": {
      "name": "python",
      "codemirror_mode": {
        "name": "ipython",
        "version": "3"
      },
      "file_extension": ".py",
      "mimetype": "text/x-python",
      "nbconvert_exporter": "python",
      "pygments_lexer": "ipython3",
      "version": "3.8.0"
    }
  }
}