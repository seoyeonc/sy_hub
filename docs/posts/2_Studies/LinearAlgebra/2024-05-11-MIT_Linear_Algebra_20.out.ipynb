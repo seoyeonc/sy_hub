{
  "cells": [
    {
      "cell_type": "markdown",
      "metadata": {},
      "source": [
        "# \\[Linear Algebra\\] Lecture 20\n",
        "\n",
        "SEOYEON CHOI  \n",
        "2024-05-11\n",
        "\n",
        "<https://www.youtube.com/watch?v=23LLB9mNJvc&list=PL49CF3715CB9EF31D&index=19>\n",
        "\n",
        "https://twlab.tistory.com/43#google_vignette"
      ],
      "id": "078c556d-35f0-4b6c-b4ce-5a296dc4935b"
    }
  ],
  "nbformat": 4,
  "nbformat_minor": 5,
  "metadata": {
    "kernelspec": {
      "name": "python3",
      "display_name": "Python 3",
      "language": "python"
    },
    "language_info": {
      "name": "python",
      "codemirror_mode": {
        "name": "ipython",
        "version": "3"
      },
      "file_extension": ".py",
      "mimetype": "text/x-python",
      "nbconvert_exporter": "python",
      "pygments_lexer": "ipython3",
      "version": "3.8.0"
    }
  }
}