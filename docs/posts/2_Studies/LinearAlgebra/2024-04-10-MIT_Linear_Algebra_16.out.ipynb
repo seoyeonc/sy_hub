{
  "cells": [
    {
      "cell_type": "markdown",
      "metadata": {},
      "source": [
        "# \\[Linear Algebra\\] Lecture 16\n",
        "\n",
        "SEOYEON CHOI  \n",
        "2024-04-10\n",
        "\n",
        "<https://www.youtube.com/watch?v=Y_Ac6KiQ1t0&list=PL49CF3715CB9EF31D&index=15>\n",
        "\n",
        "https://twlab.tistory.com/35"
      ],
      "id": "0a554dd1-f92c-46ac-b0f1-834476439a30"
    }
  ],
  "nbformat": 4,
  "nbformat_minor": 5,
  "metadata": {
    "kernelspec": {
      "name": "python3",
      "display_name": "Python 3",
      "language": "python"
    },
    "language_info": {
      "name": "python",
      "codemirror_mode": {
        "name": "ipython",
        "version": "3"
      },
      "file_extension": ".py",
      "mimetype": "text/x-python",
      "nbconvert_exporter": "python",
      "pygments_lexer": "ipython3",
      "version": "3.8.0"
    }
  }
}