{
  "cells": [
    {
      "cell_type": "markdown",
      "metadata": {},
      "source": [
        "# \\[Linear Algebra\\] Lecture 21\n",
        "\n",
        "SEOYEON CHOI  \n",
        "2024-05-18\n",
        "\n",
        "<https://www.youtube.com/watch?v=QNpj-gOXW9M&list=PL49CF3715CB9EF31D&index=20>\n",
        "\n",
        "https://twlab.tistory.com/46#google_vignette"
      ],
      "id": "90b8d886-1835-4b9d-83b0-2edd2be5fdfa"
    }
  ],
  "nbformat": 4,
  "nbformat_minor": 5,
  "metadata": {
    "kernelspec": {
      "name": "python3",
      "display_name": "Python 3",
      "language": "python"
    },
    "language_info": {
      "name": "python",
      "codemirror_mode": {
        "name": "ipython",
        "version": "3"
      },
      "file_extension": ".py",
      "mimetype": "text/x-python",
      "nbconvert_exporter": "python",
      "pygments_lexer": "ipython3",
      "version": "3.8.0"
    }
  }
}