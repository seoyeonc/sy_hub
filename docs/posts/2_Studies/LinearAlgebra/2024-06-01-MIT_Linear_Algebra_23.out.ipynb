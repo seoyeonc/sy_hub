{
  "cells": [
    {
      "cell_type": "markdown",
      "metadata": {},
      "source": [
        "# \\[Linear Algebra\\] Lecture 23\n",
        "\n",
        "SEOYEON CHOI  \n",
        "2024-06-01\n",
        "\n",
        "<https://www.youtube.com/watch?v=IZqwi0wJovM&list=PL49CF3715CB9EF31D&index=23>\n",
        "\n",
        "https://twlab.tistory.com/50"
      ],
      "id": "c0ae6045-420c-4a6b-a9d8-88a0c41ff043"
    }
  ],
  "nbformat": 4,
  "nbformat_minor": 5,
  "metadata": {
    "kernelspec": {
      "name": "python3",
      "display_name": "Python 3",
      "language": "python"
    },
    "language_info": {
      "name": "python",
      "codemirror_mode": {
        "name": "ipython",
        "version": "3"
      },
      "file_extension": ".py",
      "mimetype": "text/x-python",
      "nbconvert_exporter": "python",
      "pygments_lexer": "ipython3",
      "version": "3.8.0"
    }
  }
}