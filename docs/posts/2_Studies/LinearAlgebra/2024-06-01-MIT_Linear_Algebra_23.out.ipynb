{
  "cells": [
    {
      "cell_type": "markdown",
      "metadata": {},
      "source": [
        "# \\[Linear Algebra\\] Lecture 23\n",
        "\n",
        "SEOYEON CHOI  \n",
        "2024-06-01\n",
        "\n",
        "<https://www.youtube.com/watch?v=IZqwi0wJovM&list=PL49CF3715CB9EF31D&index=23>\n",
        "\n",
        "https://twlab.tistory.com/50"
      ],
      "id": "5bf47f28-b922-441d-b3ec-9dc32db81f6a"
    }
  ],
  "nbformat": 4,
  "nbformat_minor": 5,
  "metadata": {
    "kernelspec": {
      "name": "python3",
      "display_name": "Python 3",
      "language": "python"
    },
    "language_info": {
      "name": "python",
      "codemirror_mode": {
        "name": "ipython",
        "version": "3"
      },
      "file_extension": ".py",
      "mimetype": "text/x-python",
      "nbconvert_exporter": "python",
      "pygments_lexer": "ipython3",
      "version": "3.8.0"
    }
  }
}