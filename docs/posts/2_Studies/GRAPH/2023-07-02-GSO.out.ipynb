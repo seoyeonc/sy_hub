{
  "cells": [
    {
      "cell_type": "markdown",
      "metadata": {},
      "source": [
        "# Graph Shift Operator\n",
        "\n",
        "SEOYEON CHOI  \n",
        "2023-07-02\n",
        "\n",
        "**Definition(Djuric and Richard 2018):** Given a normal shift operator\n",
        "${\\bf S}$, we say that a graph signal ${\\bf y}$ is weakly stationary\n",
        "with respect to ${\\bf S}$ if, for all $a$, $b$, and $c \\leq b$, the\n",
        "following equality holds:\n",
        "\n",
        "$$\\mathbb{E} \\bigg[ \\big({\\bf S}^a{\\bf y}\\big)\\Big(\\big({\\bf S}^H)^b {\\bf y}\\Big)^H  \\bigg]=\\mathbb{E}\\bigg[\\big({\\bf S}^{a+c}{\\bf y}\\big)\\Big(\\big({\\bf S}^H\\big)^{b-c}{\\bf y} \\Big)^H \\bigg].$$\n",
        "\n",
        "> **Note**\n",
        ">\n",
        "> Using ${\\bf S}$ as the periodic shift operator\n",
        "> ${\\bf S}=\\begin{cases} 1 & j-j = 1 \\\\ 0 & o.w.\\end{cases}.$, the\n",
        "> definition is equivalent to the traditional stationarity definition in\n",
        "> time series analysis.\n",
        "\n",
        "# Conjugate\n",
        "\n",
        "$E(y)=0$을 가정하고, $y = (y_1,y_2)$의 벡터를 가정했을 때,\n",
        "\n",
        "$Cov(y) = \\begin{pmatrix} cov(y_1,y_2) & cov(y_1,y_2) \\\\ cov(y_2,y_1) & cov(y_2,y_2) \\end{pmatrix}$\n",
        "\n",
        "-   $cov(y_1,y_1) = V(y_1) = E(y_1 - \\mu_1)^2 = E(y_1)^2 (\\therefore \\mu = 0)$\n",
        "-   $cov(y_2,y_1) = E(y_2 - \\mu_2)E(y_1 - \\mu_1) = E(y_2-y_1)$\n",
        "-   $cov(y_2,y_2) = V(y_2) = E(y_2 - \\mu_2)^2 = E(y_2)^2 (\\therefore \\mu = 0)$\n",
        "-   $cov(y_1,y_2) = E(y_1 - \\mu_1)E(y_2 - \\mu_2) = E(y_1-y_2)$\n",
        "\n",
        "$= E \\begin{pmatrix} y_1^2 & y_1y_2 \\\\ y_2 y_1 & y_2^2 \\end{pmatrix} = E(y y^\\top)$\n",
        "\n",
        "$y = (y_q y_2)^\\top$\n",
        "\n",
        "$y^\\top = (y_1,y_2)$\n",
        "\n",
        "$y y^\\top = \\begin{bmatrix} y1 \\\\ y_2 \\end{bmatrix} \\begin{bmatrix} y2 & y_2 \\end{bmatrix} = \\begin{bmatrix} y_1^2 & y_1y_2 \\\\ y_2y_1 & y_2^2 \\end{bmatrix}$\n",
        "\n",
        "$cov(y) = E(y t^\\top) = E(y y^H)$ -\\> **확률변수가 복소수일 경우 가정\n",
        "가능하다**\n",
        "\n",
        "$cov(y\\text{의 } a \\text{만큼 평행이동}) = cov(y\\text{의 } b \\text{만큼 평행이동})$\n",
        "\n",
        "$cov((S^ay)(S^b y)^\\top) = cov((S^c y)(S^d y)^\\top)$\n",
        "\n",
        "-   결국, normal GSO가 주어질 때, $y$는 약정상성을 S에 대해 가지고\n",
        "    있다는 말이 된다.\n",
        "-   정상성 조건: 평균, 분산이 일정할때, 자기 공분산이 시차 t에만 의존할\n",
        "    때\n",
        "\n",
        "Djuric, Petar, and Cédric Richard. 2018. *Cooperative and Graph Signal\n",
        "Processing: Principles and Applications*. Academic Press."
      ],
      "id": "c8667ce5-ba38-47e4-b7eb-dd27d4036f55"
    }
  ],
  "nbformat": 4,
  "nbformat_minor": 5,
  "metadata": {
    "kernelspec": {
      "name": "python3",
      "display_name": "Python 3",
      "language": "python"
    },
    "language_info": {
      "name": "python",
      "codemirror_mode": {
        "name": "ipython",
        "version": "3"
      },
      "file_extension": ".py",
      "mimetype": "text/x-python",
      "nbconvert_exporter": "python",
      "pygments_lexer": "ipython3",
      "version": "3.8.0"
    }
  }
}