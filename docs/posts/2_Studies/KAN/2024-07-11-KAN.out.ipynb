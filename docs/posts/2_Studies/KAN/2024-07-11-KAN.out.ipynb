{
  "cells": [
    {
      "cell_type": "markdown",
      "metadata": {},
      "source": [
        "# \\[KAN\\] Github Examples\n",
        "\n",
        "SEOYEON CHOI  \n",
        "2024-07-11\n",
        "\n",
        "# KAN은 왜 해석 가능할까?"
      ],
      "id": "fbfdd92f-1f1a-42be-a578-6c63f83e5513"
    },
    {
      "cell_type": "code",
      "execution_count": 3,
      "metadata": {},
      "outputs": [],
      "source": [
        "from kan import *"
      ],
      "id": "4cad3c41-9bc7-4cbf-81d8-1705c0586e00"
    },
    {
      "cell_type": "markdown",
      "metadata": {},
      "source": [
        "-   width 2\n",
        "    -   2D input\n",
        "-   width 1\n",
        "    -   1D output\n",
        "-   width 5\n",
        "    -   5 hidden neurons\n",
        "-   k = 3\n",
        "    -   cubic spline\n",
        "-   grid = 5\n",
        "    -   5 grid intervals"
      ],
      "id": "ed6674cc-3829-4524-bb6f-7c90ba735022"
    },
    {
      "cell_type": "code",
      "execution_count": 33,
      "metadata": {},
      "outputs": [],
      "source": [
        "model = KAN(width=[2,5,1], grid = 5, k = 3, seed = 0)"
      ],
      "id": "a7e1abd3-eb9c-45ce-894d-f08101bf5292"
    },
    {
      "cell_type": "markdown",
      "metadata": {},
      "source": [
        "$f(x,y) = \\exp(\\sin (\\pi x ) + y^2)$"
      ],
      "id": "a7d77d65-1846-4000-a158-99da1bce0885"
    },
    {
      "cell_type": "code",
      "execution_count": 34,
      "metadata": {},
      "outputs": [],
      "source": [
        "f = lambda x: torch.exp(torch.sin(torch.pi*x[:,[0]]) + x[:,[1]]**2)"
      ],
      "id": "18332f02-044d-47d4-91dd-6f44df2a0f06"
    },
    {
      "cell_type": "markdown",
      "metadata": {},
      "source": [
        "-   `n_var`는 차원이라고 생각하면 될 듯?($x,y$ 두 개)"
      ],
      "id": "c7e27d9b-794a-45a5-9f58-a3499d052c8a"
    },
    {
      "cell_type": "code",
      "execution_count": 35,
      "metadata": {},
      "outputs": [],
      "source": [
        "dataset = create_dataset(f,n_var = 2)"
      ],
      "id": "d334376d-3b8f-4202-a6d3-2d6a6515c50b"
    },
    {
      "cell_type": "code",
      "execution_count": 36,
      "metadata": {},
      "outputs": [],
      "source": [
        "dataset.keys()"
      ],
      "id": "09423d2f-1fc9-423f-b5bb-070292b0bba4"
    },
    {
      "cell_type": "markdown",
      "metadata": {},
      "source": [
        "dataset이 만들어질때 grid는 shape에 영향을 주지 않음"
      ],
      "id": "e5a615c0-2558-45a8-ab6d-28369f67381f"
    },
    {
      "cell_type": "code",
      "execution_count": 37,
      "metadata": {},
      "outputs": [],
      "source": [
        "dataset['train_input'].shape, dataset['test_input'].shape"
      ],
      "id": "785eb9ca-e35b-4d5b-bd8c-72ac8a10625a"
    },
    {
      "cell_type": "markdown",
      "metadata": {},
      "source": [
        "step 1: sparsification하면서 train(pruning을 위한 과정)\n",
        "\n",
        "모델 훈련하는 코드 마지막에 세미콜론 쓰면 history 안 나온다."
      ],
      "id": "f51729f8-998a-477f-abbe-1a20641f33d1"
    },
    {
      "cell_type": "code",
      "execution_count": 38,
      "metadata": {},
      "outputs": [
        {
          "output_type": "stream",
          "name": "stderr",
          "text": [
            "train loss: 1.25e-01 | test loss: 1.32e-01 | reg: 2.80e+01 : 100%|██| 20/20 [00:04<00:00,  4.35it/s]"
          ]
        }
      ],
      "source": [
        "model.train(dataset, opt = \"LBFGS\", steps = 20, lamb = 0.01, lamb_entropy = 10.);"
      ],
      "id": "21c3205a-a17f-4037-b80e-c743caf042d2"
    },
    {
      "cell_type": "code",
      "execution_count": 39,
      "metadata": {},
      "outputs": [
        {
          "output_type": "display_data",
          "metadata": {},
          "data": {
            "image/png": "[encoded data removed]"
          }
        }
      ],
      "source": [
        "model.plot()"
      ],
      "id": "55989572-3a7b-4363-95a1-27ec674c6796"
    },
    {
      "cell_type": "markdown",
      "metadata": {},
      "source": [
        "step 2: 가지치기prune(학습할때 중요한 파라메터만 남기기 위함)"
      ],
      "id": "82ca62cf-c144-45d2-a76c-fe759bc39f77"
    },
    {
      "cell_type": "code",
      "execution_count": 40,
      "metadata": {},
      "outputs": [],
      "source": [
        "model = model.prune()"
      ],
      "id": "a73a8ce3-a693-4e40-be91-9ee492f28ab3"
    },
    {
      "cell_type": "code",
      "execution_count": 41,
      "metadata": {},
      "outputs": [],
      "source": [
        "model(dataset['train_input']);"
      ],
      "id": "abb19423-3ff7-4554-8659-9c1fe190069b"
    },
    {
      "cell_type": "code",
      "execution_count": 42,
      "metadata": {},
      "outputs": [
        {
          "output_type": "display_data",
          "metadata": {},
          "data": {
            "image/png": "[encoded data removed]"
          }
        }
      ],
      "source": [
        "model.plot()"
      ],
      "id": "9ea2e6c7-1afa-4a8f-be25-273ec3d6cd2c"
    },
    {
      "cell_type": "markdown",
      "metadata": {},
      "source": [
        "Loss Function\n",
        "\n",
        "$\\cal{l}_{total} = \\cal{l}_{pred} = \\lambda (\\mu_1 \\sum^{L-1}_{l=0} |\\Psi_l|_1 + \\mu_2 \\sum^{L-1})_{l=1} S(\\Psi_l))$\n",
        "\n",
        "결과적으로 1output이 형성되는 것을 볼 수 있음.\n",
        "\n",
        "model.suggest_symbolic(0,0,0)\n",
        "\n",
        "sin이 가장 좋음"
      ],
      "id": "09cd06ab-4e16-4c13-8285-9560b788b3b8"
    },
    {
      "cell_type": "code",
      "execution_count": 43,
      "metadata": {},
      "outputs": [
        {
          "output_type": "stream",
          "name": "stdout",
          "text": [
            "function , r2\n",
            "gaussian , 0.941763162612915\n",
            "tanh , 0.9183695912361145\n",
            "sigmoid , 0.9179617166519165\n",
            "arctan , 0.9141409397125244\n",
            "abs , 0.9092889428138733"
          ]
        }
      ],
      "source": [
        "model.suggest_symbolic(1,0,0)"
      ],
      "id": "35d955e3-31e1-484a-a036-ca27a2fe9e4a"
    },
    {
      "cell_type": "code",
      "execution_count": 44,
      "metadata": {},
      "outputs": [
        {
          "output_type": "stream",
          "name": "stdout",
          "text": [
            "function , r2\n",
            "x^4 , 0.9780145883560181\n",
            "cosh , 0.9724222421646118\n",
            "x^2 , 0.8998713493347168\n",
            "sin , 0.8987177014350891\n",
            "gaussian , 0.8974652886390686"
          ]
        }
      ],
      "source": [
        "model.suggest_symbolic(0,1,0)"
      ],
      "id": "5bb17b12-a0b8-44ec-a388-3381cb02691c"
    },
    {
      "cell_type": "code",
      "execution_count": 45,
      "metadata": {},
      "outputs": [
        {
          "output_type": "stream",
          "name": "stdout",
          "text": [
            "function , r2\n",
            "gaussian , 0.941763162612915\n",
            "tanh , 0.9183695912361145\n",
            "sigmoid , 0.9179617166519165\n",
            "arctan , 0.9141409397125244\n",
            "abs , 0.9092889428138733\n",
            "sin , 0.8965499401092529\n",
            "x^2 , 0.8392592668533325\n",
            "cosh , 0.8383433818817139\n",
            "x^3 , 0.8352798223495483\n",
            "x^4 , 0.8342778086662292\n",
            "exp , 0.8325958251953125\n",
            "1/x^4 , 0.8317351341247559\n",
            "1/x^3 , 0.8315536975860596\n",
            "1/x^2 , 0.8312462568283081\n",
            "1/x , 0.8306641578674316"
          ]
        }
      ],
      "source": [
        "model.suggest_symbolic(1,0,0,topk=15)"
      ],
      "id": "e82a056d-aa16-4044-8e05-5db59d250595"
    },
    {
      "cell_type": "code",
      "execution_count": 46,
      "metadata": {},
      "outputs": [
        {
          "output_type": "stream",
          "name": "stderr",
          "text": [
            "train loss: 8.28e-03 | test loss: 8.73e-03 | reg: 8.17e+00 : 100%|██| 20/20 [00:03<00:00,  5.48it/s]"
          ]
        }
      ],
      "source": [
        "model.train(dataset,opt=\"LBFGS\", steps=20);"
      ],
      "id": "5e62d2ae-c79c-42bc-b24d-8d73e73101e3"
    },
    {
      "cell_type": "code",
      "execution_count": 47,
      "metadata": {},
      "outputs": [
        {
          "output_type": "display_data",
          "metadata": {},
          "data": {
            "image/png": "[encoded data removed]"
          }
        }
      ],
      "source": [
        "model.plot()"
      ],
      "id": "c6b5f1ac-0f18-42b6-ab4d-e038881fcfda"
    },
    {
      "cell_type": "code",
      "execution_count": 48,
      "metadata": {},
      "outputs": [
        {
          "output_type": "stream",
          "name": "stdout",
          "text": [
            "function , r2\n",
            "gaussian , 0.9971072673797607\n",
            "sin , 0.9970927834510803\n",
            "x^2 , 0.99686199426651\n",
            "cosh , 0.9968425631523132\n",
            "x^3 , 0.9957089424133301"
          ]
        }
      ],
      "source": [
        "model.suggest_symbolic(0,0,0)"
      ],
      "id": "37e432f4-3bee-446a-b036-0c924f7bf1a7"
    },
    {
      "cell_type": "code",
      "execution_count": 49,
      "metadata": {},
      "outputs": [
        {
          "output_type": "stream",
          "name": "stdout",
          "text": [
            "function , r2\n",
            "abs , 0.918402373790741\n",
            "gaussian , 0.9081349968910217\n",
            "sin , 0.9048529267311096\n",
            "x^2 , 0.8696524500846863\n",
            "cosh , 0.8653781414031982"
          ]
        }
      ],
      "source": [
        "model.suggest_symbolic(0,1,0)"
      ],
      "id": "0299e3f3-23db-4acf-b36a-03b30de50ea4"
    },
    {
      "cell_type": "code",
      "execution_count": 50,
      "metadata": {},
      "outputs": [
        {
          "output_type": "stream",
          "name": "stdout",
          "text": [
            "function , r2\n",
            "arctan , 0.9160346388816833\n",
            "gaussian , 0.9011549949645996\n",
            "tanh , 0.9008036851882935\n",
            "sigmoid , 0.9007985591888428\n",
            "1/x^4 , 0.8955882787704468"
          ]
        }
      ],
      "source": [
        "model.suggest_symbolic(1,0,0)"
      ],
      "id": "5d971cf5-029f-49ab-88f5-83517688944c"
    },
    {
      "cell_type": "code",
      "execution_count": 51,
      "metadata": {},
      "outputs": [
        {
          "output_type": "stream",
          "name": "stdout",
          "text": [
            "fixing (0,0,0) with gaussian, r2=0.9971072673797607\n",
            "fixing (0,0,1) with sin, r2=0.9992966055870056\n",
            "fixing (0,0,2) with sin, r2=0.9987211227416992\n",
            "fixing (0,1,0) with abs, r2=0.918402373790741\n",
            "fixing (0,1,1) with gaussian, r2=0.9743611216545105\n",
            "fixing (0,1,2) with sin, r2=0.9322102665901184\n",
            "fixing (1,0,0) with arctan, r2=0.9160346388816833\n",
            "fixing (1,1,0) with tanh, r2=0.9999632239341736\n",
            "fixing (1,2,0) with cosh, r2=0.9999960660934448"
          ]
        }
      ],
      "source": [
        "model.auto_symbolic()"
      ],
      "id": "beba7c15-8b96-4340-8270-c3433ef3908e"
    },
    {
      "cell_type": "code",
      "execution_count": 52,
      "metadata": {},
      "outputs": [
        {
          "output_type": "stream",
          "name": "stderr",
          "text": [
            "train loss: 4.15e-03 | test loss: 4.18e-03 | reg: 1.40e+01 : 100%|██| 20/20 [00:04<00:00,  4.93it/s]"
          ]
        }
      ],
      "source": [
        "model.train(dataset,opt=\"LBFGS\", steps=20);"
      ],
      "id": "a2652c7e-c8b1-4538-b394-39e17fba07e7"
    },
    {
      "cell_type": "code",
      "execution_count": 53,
      "metadata": {},
      "outputs": [
        {
          "output_type": "display_data",
          "metadata": {},
          "data": {
            "image/png": "[encoded data removed]"
          }
        }
      ],
      "source": [
        "model.plot()"
      ],
      "id": "649154f3-441b-4efa-9691-06207a467051"
    },
    {
      "cell_type": "code",
      "execution_count": 54,
      "metadata": {},
      "outputs": [],
      "source": [
        "formula, variables = model.symbolic_formula()"
      ],
      "id": "0f0aab9a-7080-48d7-821b-877d5998a734"
    },
    {
      "cell_type": "code",
      "execution_count": 55,
      "metadata": {},
      "outputs": [],
      "source": [
        "formula[0]"
      ],
      "id": "788d11f9-66d5-463e-a4d0-36c06e9962d1"
    },
    {
      "cell_type": "code",
      "execution_count": 56,
      "metadata": {},
      "outputs": [],
      "source": [
        "formula, variables = model.symbolic_formula(var=['\\\\alpha','y'])"
      ],
      "id": "4df61c91-6675-4df2-a756-e1a16b20982d"
    },
    {
      "cell_type": "code",
      "execution_count": 57,
      "metadata": {},
      "outputs": [],
      "source": [
        "formula[0]"
      ],
      "id": "101d439f-3cd0-4566-bc0f-e3318668063c"
    },
    {
      "cell_type": "code",
      "execution_count": 58,
      "metadata": {},
      "outputs": [],
      "source": [
        "from sympy import *\n",
        "diff(formula[0], variables[0])"
      ],
      "id": "9b2822f9-110e-4355-8d30-07de8944b6d4"
    },
    {
      "cell_type": "code",
      "execution_count": 59,
      "metadata": {},
      "outputs": [
        {
          "output_type": "stream",
          "name": "stdout",
          "text": [
            "r2 is 0.9257117509841919"
          ]
        }
      ],
      "source": [
        "model.fix_symbolic(0,1,0,'cosh')"
      ],
      "id": "e9aed4de-5660-4ddf-a1be-6ae791086a45"
    },
    {
      "cell_type": "code",
      "execution_count": 60,
      "metadata": {},
      "outputs": [
        {
          "output_type": "stream",
          "name": "stderr",
          "text": [
            "train loss: 3.99e-03 | test loss: 4.03e-03 | reg: 1.40e+01 : 100%|██| 20/20 [00:01<00:00, 16.25it/s]"
          ]
        }
      ],
      "source": [
        "model.train(dataset, opt=\"LBFGS\", steps=20);"
      ],
      "id": "d10658c0-4c42-4ef0-8fbd-eb372b29785b"
    },
    {
      "cell_type": "code",
      "execution_count": 61,
      "metadata": {},
      "outputs": [
        {
          "output_type": "display_data",
          "metadata": {},
          "data": {
            "image/png": "[encoded data removed]"
          }
        }
      ],
      "source": [
        "model.plot()"
      ],
      "id": "26d56349-31f0-4306-8e71-2694f3cd0804"
    }
  ],
  "nbformat": 4,
  "nbformat_minor": 5,
  "metadata": {
    "kernelspec": {
      "name": "python3",
      "display_name": "Python 3",
      "language": "python"
    },
    "language_info": {
      "name": "python",
      "codemirror_mode": {
        "name": "ipython",
        "version": "3"
      },
      "file_extension": ".py",
      "mimetype": "text/x-python",
      "nbconvert_exporter": "python",
      "pygments_lexer": "ipython3",
      "version": "3.8.0"
    }
  }
}