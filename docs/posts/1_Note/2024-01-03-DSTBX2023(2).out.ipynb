{
  "cells": [
    {
      "cell_type": "markdown",
      "metadata": {},
      "source": [
        "# DSTBX2023(2)\n",
        "\n",
        "SEOYEON CHOI  \n",
        "2024-01-03\n",
        "\n",
        "# 실습13: 코드스페이스에 작업한 블로그를 윈도우로 pull (강의용 윈도우 컴퓨터)\n",
        "\n",
        "    git switch gh-pages\n",
        "    git add .\n",
        "    git commit -m .\n",
        "    git switch main\n",
        "    git add .\n",
        "    git commit -m .\n",
        "    git push\n",
        "\n",
        "``` {python}\n",
        "!ls\n",
        "```\n",
        "\n",
        "리눅스 명령어 주피터 노트북에서 쓰기\n",
        "\n",
        "``` {python}\n",
        "!ls ..\n",
        "```\n",
        "\n",
        "상위 목록 보기\n",
        "\n",
        "``` {python}\n",
        "!ls .. > ttt.txt\n",
        "```\n",
        "\n",
        "상위 폴더에 있는 파일 이름들 txt파일로 만들기\n",
        "\n",
        "``` {python}\n",
        "!cat ttt.txt\n",
        "```\n",
        "\n",
        "파일 확인 하는 방법\n",
        "\n",
        "``` {python}\n",
        "!chmod +x ddd.sh\n",
        "```\n",
        "\n",
        "> **Note**\n",
        ">\n",
        "> 리눅스에서 cat 명령어는 concatenate(연결)의 약자로, 파일의 내용을\n",
        "> 화면에 출력하거나 파일을 합쳐주는 데 사용됩니다. 주로 텍스트 파일의\n",
        "> 내용을 확인하거나 여러 파일을 하나로 합칠 때 사용됩니다.\n",
        "\n",
        "``` {python}\n",
        "fnames=(\n",
        "    \"sss.txt\"\n",
        ")\n",
        "for fname in \"${fnames[@]}\"; do\n",
        "    echo \"File: $fname\"\n",
        "    cat \"../1dayhw/$fname\"\n",
        "    echo \"----------------\"\n",
        "done\n",
        "```\n",
        "\n",
        "# 실습14: quarto publish 의 동작이해 (강의용 윈도우 컴퓨터)\n",
        "\n",
        "질문1: git add .\n",
        "\n",
        "-\\> git commit -m .\n",
        "\n",
        "-\\> git push\n",
        "\n",
        "-\\> quarto publish –no-browser –no-prompt 순서로 꼭 업로드 해야하는가?\n",
        "\n",
        "그냥 단순히 “quarto publish –no-browser –no-prompt” 만 하면 안되는가?\n",
        "\n",
        "## 실습13: 숙제검사\n",
        "\n",
        "`-` 이거 클론하세요\n",
        "\n",
        "`-` 방법1"
      ],
      "id": "cbdd5c33-32aa-48f0-8f34-31444b4e51dc"
    },
    {
      "cell_type": "code",
      "execution_count": null,
      "metadata": {
        "tags": []
      },
      "outputs": [
        {
          "output_type": "stream",
          "name": "stdout",
          "text": [
            "baek_gm.txt   guebin.txt     jinsil.txt   seongjoon.txt\n",
            "choyun.txt    handoehee.txt  junhan.txt   seunghoon.txt\n",
            "coco.txt      hyeonji.txt    leejjae.txt  soonwon.txt\n",
            "daehyeon.txt  jeongmin.txt   mingu.txt    suwhan.txt"
          ]
        }
      ],
      "source": [
        "!ls ../1dayhw "
      ],
      "id": "68e63261-c91d-4528-811c-8c02300e0d82"
    },
    {
      "cell_type": "code",
      "execution_count": null,
      "metadata": {
        "tags": []
      },
      "outputs": [],
      "source": [
        "!cat ../1dayhw/choyun.txt"
      ],
      "id": "ed7234d8-a2e3-46ce-97e9-e1b62f3c9a65"
    },
    {
      "cell_type": "markdown",
      "metadata": {},
      "source": [
        "`-` 방법2"
      ],
      "id": "645701e6-8feb-4661-aae7-7f5fb2a3a08f"
    },
    {
      "cell_type": "code",
      "execution_count": null,
      "metadata": {
        "tags": []
      },
      "outputs": [],
      "source": [
        "!ls ../1dayhw > fnames.txt"
      ],
      "id": "ede647f3-cd47-41eb-af93-4da77e9c7bf8"
    },
    {
      "cell_type": "code",
      "execution_count": null,
      "metadata": {
        "tags": []
      },
      "outputs": [],
      "source": [
        "!chmod +x show.sh"
      ],
      "id": "1d5bf07e-97cb-44a2-b6a4-c6d1be023085"
    },
    {
      "cell_type": "code",
      "execution_count": null,
      "metadata": {
        "tags": []
      },
      "outputs": [],
      "source": [
        "#!./show.sh"
      ],
      "id": "6f3527c0-661e-499f-87e3-4c183af03847"
    },
    {
      "cell_type": "markdown",
      "metadata": {},
      "source": [
        "`sh` 확장자는 bash로 하자\n",
        "\n",
        "`-` 방법3: 아래의 파일을 생성하고 출력\n",
        "\n",
        "``` bash\n",
        "fnames=(\n",
        "    \"baek_gm.txt\" \"guebin.txt\" \"jinsil.txt\" \"seongjoon.txt\"\n",
        "    \"choyun.txt\" \"handoehee.txt\" \"junhan.txt\" \"seunghoon.txt\"\n",
        "    \"coco.txt\" \"hyeonji.txt\" \"leejjae.txt\" \"soonwon.txt\"\n",
        "    \"daehyeon.txt\" \"jeongmin.txt\" \"mingu.txt\" \"suwhan.txt\"\n",
        ")\n",
        "for fname in \"${fnames[@]}\"; do\n",
        "    echo \"File: $fname\"\n",
        "    cat \"../1dayhw/$fname\"\n",
        "    echo \"----------------\"\n",
        "done\n",
        "```"
      ],
      "id": "755a729c-df40-4abb-9539-c9d94d6607e2"
    },
    {
      "cell_type": "code",
      "execution_count": null,
      "metadata": {
        "tags": []
      },
      "outputs": [],
      "source": [
        "#!bash show2.sh"
      ],
      "id": "35f25bad-e3a3-4371-ae3c-44f8c096995e"
    },
    {
      "cell_type": "markdown",
      "metadata": {},
      "source": [
        "`-` `./show2.sh` 와 `bash show2.sh` 의 차이?\n",
        "\n",
        "-   스크립트의 권한, 셸 지정\n",
        "-   잘 모르겠어요\n",
        "\n",
        "> **Note**\n",
        ">\n",
        "> `!bash show.sh` 명령어는 show.sh 스크립트를 Bash 셸에서 실행하는\n",
        "> 명령어입니다. 이 명령어는 일반적으로 사용자가 현재 셸에서 직접\n",
        "> 스크립트를 실행하고자 할 때 사용됩니다.\n",
        "\n",
        "------------------------------------------------------------------------\n",
        "\n",
        "저 숙제를 바탕으로 183 컴퓨터에 계정을 생성했습니다.\n",
        "\n",
        "***그냥 참고용.. 이렇게도 가능함 ㅎㅎ***"
      ],
      "id": "fc64c77e-a91e-4f58-a354-9b544b99f59a"
    },
    {
      "cell_type": "code",
      "execution_count": null,
      "metadata": {
        "tags": []
      },
      "outputs": [],
      "source": [
        "file_names = [\n",
        "    \"baek_gm\", \"guebin\", \"jinsil\", \"seongjoon\",\n",
        "    \"choyun\", \"handoehee\", \"junhan\", \"seunghoon\",\n",
        "    \"coco\", \"hyeonji\", \"leejjae\", \"soonwon\",\n",
        "    \"daehyeon\", \"jeongmin\", \"mingu\", \"suwhan\"\n",
        "]"
      ],
      "id": "76793745-5371-4ee9-a96a-2e28af93a8a1"
    },
    {
      "cell_type": "code",
      "execution_count": null,
      "metadata": {
        "tags": []
      },
      "outputs": [
        {
          "output_type": "stream",
          "name": "stdout",
          "text": [
            "adduser baek_gm --gecos \"\" --disabled-password && echo \"baek_gm:jbnu\" | chpasswd && usermod -aG sudo baek_gm\n",
            "adduser guebin --gecos \"\" --disabled-password && echo \"guebin:jbnu\" | chpasswd && usermod -aG sudo guebin\n",
            "adduser jinsil --gecos \"\" --disabled-password && echo \"jinsil:jbnu\" | chpasswd && usermod -aG sudo jinsil\n",
            "adduser seongjoon --gecos \"\" --disabled-password && echo \"seongjoon:jbnu\" | chpasswd && usermod -aG sudo seongjoon\n",
            "adduser choyun --gecos \"\" --disabled-password && echo \"choyun:jbnu\" | chpasswd && usermod -aG sudo choyun\n",
            "adduser handoehee --gecos \"\" --disabled-password && echo \"handoehee:jbnu\" | chpasswd && usermod -aG sudo handoehee\n",
            "adduser junhan --gecos \"\" --disabled-password && echo \"junhan:jbnu\" | chpasswd && usermod -aG sudo junhan\n",
            "adduser seunghoon --gecos \"\" --disabled-password && echo \"seunghoon:jbnu\" | chpasswd && usermod -aG sudo seunghoon\n",
            "adduser coco --gecos \"\" --disabled-password && echo \"coco:jbnu\" | chpasswd && usermod -aG sudo coco\n",
            "adduser hyeonji --gecos \"\" --disabled-password && echo \"hyeonji:jbnu\" | chpasswd && usermod -aG sudo hyeonji\n",
            "adduser leejjae --gecos \"\" --disabled-password && echo \"leejjae:jbnu\" | chpasswd && usermod -aG sudo leejjae\n",
            "adduser soonwon --gecos \"\" --disabled-password && echo \"soonwon:jbnu\" | chpasswd && usermod -aG sudo soonwon\n",
            "adduser daehyeon --gecos \"\" --disabled-password && echo \"daehyeon:jbnu\" | chpasswd && usermod -aG sudo daehyeon\n",
            "adduser jeongmin --gecos \"\" --disabled-password && echo \"jeongmin:jbnu\" | chpasswd && usermod -aG sudo jeongmin\n",
            "adduser mingu --gecos \"\" --disabled-password && echo \"mingu:jbnu\" | chpasswd && usermod -aG sudo mingu\n",
            "adduser suwhan --gecos \"\" --disabled-password && echo \"suwhan:jbnu\" | chpasswd && usermod -aG sudo suwhan"
          ]
        }
      ],
      "source": [
        "for username in file_names:\n",
        "    print(f'adduser {username} --gecos \"\" --disabled-password && echo \"{username}:jbnu\" | chpasswd && usermod -aG sudo {username}')"
      ],
      "id": "19fc6765-dd61-4612-9b72-96c16b1e22c2"
    },
    {
      "cell_type": "markdown",
      "metadata": {},
      "source": [
        "------------------------------------------------------------------------\n",
        "\n",
        "## 실습14: 183 컴퓨터 접속 + passwd\n",
        "\n",
        "    passwd\n",
        "\n",
        "## 실습15: 183에서 git의 설치 및 연결\n",
        "\n",
        "    which git"
      ],
      "id": "08445c68-049f-46de-9e46-1b5a31ea0fbc"
    },
    {
      "cell_type": "code",
      "execution_count": 4,
      "metadata": {},
      "outputs": [
        {
          "output_type": "stream",
          "name": "stdout",
          "text": [
            "/usr/bin/git"
          ]
        }
      ],
      "source": [
        "!which git"
      ],
      "id": "ceb5628c-2187-4422-b6ca-ccb09209235f"
    },
    {
      "cell_type": "markdown",
      "metadata": {},
      "source": [
        "-   위치 확인\n",
        "\n",
        "<!-- -->\n",
        "\n",
        "    ls gi*\n",
        "\n",
        "gi로 시작되는 파일들 찾아줘\n",
        "\n",
        "    sudo apt-get install git\n",
        "\n",
        "-   리눅스 배포판에서 사용되는 패키지 관리 도구인 apt-get\n",
        "\n",
        "설치\n",
        "\n",
        "    sudo apt-get remove git\n",
        "\n",
        "삭제\n",
        "\n",
        "> **Note**\n",
        ">\n",
        "> 일반 사용자, 슈퍼 사용자, 루트 사용자는 리눅스 및 유닉스 기반 운영\n",
        "> 체제에서 사용되는 용어로 각각 다른 권한 수준을 나타냅니다.\n",
        ">\n",
        "> 1.  **일반 사용자 (Regular User):**\n",
        ">     -   일반적인 사용자 계정으로, 시스템에 로그인하여 일반적인 작업을\n",
        ">         수행합니다.\n",
        ">     -   시스템 리소스 및 파일에 대한 접근 권한이 제한적입니다.\n",
        ">     -   시스템 전반을 관리하거나 변경할 수 있는 특별한 권한이\n",
        ">         없습니다.\n",
        "> 2.  **슈퍼 사용자 (Superuser 또는 sudoer):**\n",
        ">     -   일반 사용자 중에서 일시적으로 슈퍼 사용자의 권한을 얻을 수\n",
        ">         있는 계정을 의미합니다.\n",
        ">     -   `sudo` 명령어를 사용하여 특정 명령어나 작업을 슈퍼 사용자\n",
        ">         권한으로 실행할 수 있습니다.\n",
        ">     -   필요한 경우, `sudo` 명령어를 사용하여 일시적으로 루트 권한을\n",
        ">         얻을 수 있습니다.\n",
        "> 3.  **루트 사용자 (Root User):**\n",
        ">     -   시스템에서 최상위 권한을 가진 사용자로, 시스템의 모든 부분에\n",
        ">         접근하고 모든 작업을 수행할 수 있습니다.\n",
        ">     -   일반적으로 시스템의 관리자 또는 슈퍼 사용자로서 시스템의 설정,\n",
        ">         관리, 유지보수 등을 책임집니다.\n",
        ">     -   보안상의 이유로, 루트 계정으로 로그인하는 것은 권장되지\n",
        ">         않으며, 슈퍼 사용자 계정을 통해 필요한 경우에만 루트 권한을\n",
        ">         얻는 것이 일반적입니다.\n",
        ">\n",
        "> 요약하면, 루트 사용자는 시스템에서 모든 권한을 가지며, 슈퍼 사용자는\n",
        "> 필요에 따라 일시적으로 슈퍼 사용자 권한을 얻을 수 있습니다. 그리고\n",
        "> 일반 사용자는 보다 제한된 권한을 갖고 일반적인 사용자 작업을\n",
        "> 수행합니다.\n",
        "\n",
        "## 실습16: 183에서 quarto의 설치\n",
        "\n",
        "-   which quarto\n",
        "-   wget\n",
        "    https://github.com/quarto-dev/quarto-cli/releases/download/v1.4.533/quarto-1.4.533-linux-amd64.deb\n",
        "\n",
        "<!-- -->\n",
        "\n",
        "    cd ~\n",
        "\n",
        "최상위 폴더\n",
        "\n",
        "    sudo dpkg -i quarto-1.4.533-linux-amd64.deb \n",
        "\n",
        "    sudo dpkg -r quarto \n",
        "\n",
        "`i`는 install `r`은 remove\n",
        "\n",
        "## 실습17: 183에서 아나콘다 설치\n",
        "\n",
        "-   https://www.anaconda.com/download \\<- 여기서 다운받을 수 있는 주소\n",
        "    get 하세여\n",
        "-   bash Anaconda3-2019.03-Linux-x86_64.sh\n",
        "\n",
        "아나콘다와 git/quarto의 차이는?\n",
        "\n",
        "## 실습18: 183에서 주피터랩 설치\n",
        "\n",
        "-   conda create py310 python=3.10\n",
        "-   conda activate py310\n",
        "-   conda install -c conda-forge jupyterlab\n",
        "-   conda install -c conda-forge notebook\n",
        "\n",
        "`-` 접속하는 방법1\n",
        "\n",
        "주피터 오픈 후\n",
        "\n",
        "    jupyter lab --ip=\"0.0.0.0\" --port={8888}\n",
        "\n",
        "http://127.0.0.1:1212/lab?token=b07f224ffe23a846b907c496234868acfb52bc381df8f4fd\n",
        "\n",
        "-\\>\n",
        "\n",
        "http://210.117.173.183:1212/lab?token=b07f224ffe23a846b907c496234868acfb52bc381df8f4fd\n",
        "\n",
        "ip 바꿔서 들어가면 됌\n",
        "\n",
        "`-` 접속하는 방법2\n",
        "\n",
        "-   jupyter notebook password\n",
        "\n",
        "비밀번호 설정해서 들어가기\n",
        "\n",
        "이번엔 ip 치고 들어가기\n",
        "\n",
        "    jupyter lab --ip=\"210.117.178.183\" --port={8888}\n",
        "\n",
        "## 실습19: 1일차 숙제 쉽게 하는 방법\n",
        "\n",
        "https://guebin.github.io/IP2022/2022/03/28/(4주차)-3월28일.html\n",
        "\n",
        "`-` 깃헙에서 홈페이지 만들경우 대응하는 레포지토리를 찾으면 쉽게\n",
        "복사가능."
      ],
      "id": "06312ad9-a240-4fcb-aa56-bff358dc6726"
    },
    {
      "cell_type": "code",
      "execution_count": null,
      "metadata": {
        "tags": []
      },
      "outputs": [],
      "source": [
        "#!wget \"https://raw.githubusercontent.com/guebin/IP2022/master/_notebooks/2022-03-28-(4%EC%A3%BC%EC%B0%A8)%203%EC%9B%9428%EC%9D%BC.ipynb\""
      ],
      "id": "13a6036c-0f70-4560-a66e-dde16e95494c"
    },
    {
      "cell_type": "markdown",
      "metadata": {},
      "source": [
        "    !wget 주소 or !wget \"주소\"\n",
        "\n",
        "## 실습20: 블로그 꾸미기\n",
        "\n",
        "## 실습21: 이미지 그리기 (슈퍼유저)\n",
        "\n",
        "`-` 방법1"
      ],
      "id": "0b1de56f-2dd4-4a43-8c1d-09c19b68eb47"
    },
    {
      "cell_type": "code",
      "execution_count": null,
      "metadata": {
        "tags": []
      },
      "outputs": [
        {
          "output_type": "stream",
          "name": "stdout",
          "text": [
            "--2024-01-03 14:08:48--  https://imgs.xkcd.com/comics/sandwich.png\n",
            "Resolving imgs.xkcd.com (imgs.xkcd.com)... 146.75.48.67, 2a04:4e42:7c::67\n",
            "Connecting to imgs.xkcd.com (imgs.xkcd.com)|146.75.48.67|:443... connected.\n",
            "HTTP request sent, awaiting response... 200 OK\n",
            "Length: 11828 (12K) [image/png]\n",
            "Saving to: ‘sandwich.png’\n",
            "\n",
            "sandwich.png        100%[===================>]  11.55K  --.-KB/s    in 0s      \n",
            "\n",
            "2024-01-03 14:08:48 (69.3 MB/s) - ‘sandwich.png’ saved [11828/11828]\n"
          ]
        }
      ],
      "source": [
        "!wget https://imgs.xkcd.com/comics/sandwich.png"
      ],
      "id": "87ac7753-06b9-4a1a-ba9d-aa38abd7f358"
    },
    {
      "cell_type": "code",
      "execution_count": null,
      "metadata": {},
      "outputs": [],
      "source": [
        "# ![](sandwich.png)"
      ],
      "id": "49a96cb0-2289-42fb-bf39-de5f4d2cbde1"
    },
    {
      "cell_type": "markdown",
      "metadata": {},
      "source": [
        "`-` 방법2"
      ],
      "id": "6fd67742-9536-4ebb-a5d5-b9ab986011ef"
    },
    {
      "cell_type": "code",
      "execution_count": null,
      "metadata": {
        "tags": []
      },
      "outputs": [],
      "source": [
        "# ![](https://imgs.xkcd.com/comics/sandwich.png)"
      ],
      "id": "43ca1559-05c1-4024-b9c0-4b46b6a56f09"
    },
    {
      "cell_type": "markdown",
      "metadata": {},
      "source": [
        "`-` 방법3: 스크린샷\n",
        "\n",
        "## 실습22: 182 ssh차단 우회하기 (배운적X)\n",
        "\n",
        "    sudo vi /etc/ssh/sshd_config \n",
        "\n",
        "원래 기본으로 22번으로 인식해서 포트 번호 입력 안 해도 ssh로 들어갈 수\n",
        "있었음.\n",
        "\n",
        "위 코드에서 port 주석처리 풀어주고 포트 번호 지정해준 후\n",
        "\n",
        "    sudo systemctl restart ssh.service\n",
        "\n",
        "하면 ssh 이름@0.0.0.0 -p 번호\n",
        "\n",
        "로 들어갈 수 있음\n",
        "\n",
        "## 실습23: 186 컴퓨터 접속\n",
        "\n",
        "## 실습24: 186 ssh차단 우회하기 (배운적X)\n",
        "\n",
        "## 실습25: 186 컴퓨터 개발환경 셋팅하기"
      ],
      "id": "dd4db8b1-39f0-4926-8865-565407b68da7"
    }
  ],
  "nbformat": 4,
  "nbformat_minor": 5,
  "metadata": {
    "kernelspec": {
      "name": "python3",
      "display_name": "Python 3",
      "language": "python"
    },
    "language_info": {
      "name": "python",
      "codemirror_mode": {
        "name": "ipython",
        "version": "3"
      },
      "file_extension": ".py",
      "mimetype": "text/x-python",
      "nbconvert_exporter": "python",
      "pygments_lexer": "ipython3",
      "version": "3.8.0"
    }
  }
}