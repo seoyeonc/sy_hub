{
  "cells": [
    {
      "cell_type": "markdown",
      "metadata": {},
      "source": [
        "# A1: 깊은복사와 얕은복사 (12주차)\n",
        "\n",
        "SEOYEON CHOI  \n",
        "2022-12-07\n",
        "\n",
        "> copy\n",
        "\n",
        "# Introduction\n",
        "\n",
        "# 비상식적인 append\n",
        "\n",
        "`-` 아래의 코드를 관찰하자."
      ],
      "id": "88f0df58-6e90-4fe6-939e-99512bc41810"
    },
    {
      "cell_type": "code",
      "execution_count": 1,
      "metadata": {},
      "outputs": [],
      "source": [
        "a=[1,2,3]\n",
        "b=a\n",
        "a=a+[4]"
      ],
      "id": "c0547980-98b1-4ec3-bb05-e7946a993ff7"
    },
    {
      "cell_type": "markdown",
      "metadata": {},
      "source": [
        "현재 a,b의 출력결과는?"
      ],
      "id": "160cbd99-267c-4e25-a6b9-5fc9f0bbc91e"
    },
    {
      "cell_type": "code",
      "execution_count": 2,
      "metadata": {},
      "outputs": [],
      "source": [
        "a,b"
      ],
      "id": "3d74df72-01fc-4f4c-a9f1-3f47b44ab141"
    },
    {
      "cell_type": "markdown",
      "metadata": {},
      "source": [
        "`-` 이제 다시 아래의 코드를 관찰하자."
      ],
      "id": "c28f522b-9862-42bd-be62-2a4353ee5a71"
    },
    {
      "cell_type": "code",
      "execution_count": 3,
      "metadata": {},
      "outputs": [],
      "source": [
        "a=[1,2,3]\n",
        "b=a\n",
        "a.append(4) "
      ],
      "id": "51b557ca-b1a8-4a11-88fe-1e58e7f51263"
    },
    {
      "cell_type": "code",
      "execution_count": 4,
      "metadata": {},
      "outputs": [],
      "source": [
        "a,b"
      ],
      "id": "b834ac6a-5f4c-4600-a1d5-f0fcee787ebf"
    },
    {
      "cell_type": "markdown",
      "metadata": {},
      "source": [
        "# append의 동작원리: 틀린상상\n",
        "\n",
        "`-` 아래의 코드를 다시 살펴보자."
      ],
      "id": "a7ac27bc-6faf-4c9b-8c16-a91d8aa62958"
    },
    {
      "cell_type": "code",
      "execution_count": 5,
      "metadata": {},
      "outputs": [],
      "source": [
        "a=[1,2,3]\n",
        "b=a\n",
        "a.append(4)"
      ],
      "id": "083e7654-13e8-4402-829a-a9da8690629b"
    },
    {
      "cell_type": "markdown",
      "metadata": {},
      "source": [
        "a,b라는 변수들은 메모리에 어떻게 저장이 되어있을까?\n",
        "\n",
        "상상력을 조금 발휘하면 아래와 같이 여길 수 있다.\n",
        "\n",
        "1.  메모리는 변수를 담을 방이 여러개 있는 호텔이라고 생각하자.\n",
        "\n",
        "2.  아래를 실행하였을 경우"
      ],
      "id": "c7a4a19d-6622-4c7c-b3d7-297f51b75c6d"
    },
    {
      "cell_type": "code",
      "execution_count": 6,
      "metadata": {},
      "outputs": [],
      "source": [
        "a=[1,2,3]"
      ],
      "id": "12fdd0ee-b13b-4ebd-92a3-15cfba6c512f"
    },
    {
      "cell_type": "markdown",
      "metadata": {},
      "source": [
        "-   메모리주소1에 존재하는 방을 a라고 하고, 그 방에 \\[1,2,3\\]을 넣는다.\n",
        "\n",
        "1.  아래를 실행하였을 경우"
      ],
      "id": "e0485726-3eeb-460c-81dc-eed2fc6a7b3b"
    },
    {
      "cell_type": "code",
      "execution_count": 7,
      "metadata": {},
      "outputs": [],
      "source": [
        "b=a"
      ],
      "id": "8b09be7f-929e-4eb2-9376-872391128804"
    },
    {
      "cell_type": "markdown",
      "metadata": {},
      "source": [
        "-   메모리주소2에 존재하는 방을 b라고 하고, 그 방에 a를 넣어야하는데,\n",
        "    a는 \\[1,2,3\\]이니까 \\[1,2,3\\]을 넣는다.\n",
        "\n",
        "1.  아래를 실행하면"
      ],
      "id": "9ea48af5-42a7-4833-a5a0-e0e82fa3320e"
    },
    {
      "cell_type": "code",
      "execution_count": 8,
      "metadata": {},
      "outputs": [],
      "source": [
        "a.append(4)"
      ],
      "id": "a9922b20-7afb-4bb3-85cf-c2a4962a2e44"
    },
    {
      "cell_type": "markdown",
      "metadata": {},
      "source": [
        "-   방 a로가서 \\[1,2,3\\]을 \\[1,2,3,4\\]로 바꾼다.\n",
        "\n",
        "-   그리고 방 b에는 아무것도 하지 않는다.\n",
        "\n",
        "`-` R에서는 맞는 비유인데, 파이썬은 적절하지 않은 비유이다.\n",
        "\n",
        "## 틀린이유"
      ],
      "id": "62ae9ced-2a6d-4d64-b41c-64396fa8724e"
    },
    {
      "cell_type": "code",
      "execution_count": 9,
      "metadata": {},
      "outputs": [],
      "source": [
        "id(a)"
      ],
      "id": "78069b30-63a6-4f81-bc62-71cd7134e248"
    },
    {
      "cell_type": "code",
      "execution_count": 10,
      "metadata": {},
      "outputs": [],
      "source": [
        "id(b)"
      ],
      "id": "2d848fcf-22dc-4441-8883-dc738605c3c0"
    },
    {
      "cell_type": "markdown",
      "metadata": {},
      "source": [
        "실제로는 a,b가 저장된 메모리 주소가 동일함\n",
        "\n",
        "# append의 동작원리: 올바른 상상\n",
        "\n",
        "`-` 파이썬에서는 아래가 더 적절한 비유이다.\n",
        "\n",
        "1.  메모리는 변수를 담을 방이 여러개 있는 호텔이라고 생각하자.\n",
        "\n",
        "2.  아래를 실행하였을 경우"
      ],
      "id": "71a7175b-fcd7-41d1-9598-e9cff7f289f0"
    },
    {
      "cell_type": "code",
      "execution_count": 11,
      "metadata": {},
      "outputs": [],
      "source": [
        "a=[1,2,3]"
      ],
      "id": "3ebf54a9-2c10-49bf-bb9d-71732d3f5890"
    },
    {
      "cell_type": "markdown",
      "metadata": {},
      "source": [
        "-   메모리주소 `139753545242336`에서 \\[1,2,3\\]을 생성\n",
        "-   방 `139753545242336`의 방문에 a라는 포스트잇을 붙인다.\n",
        "-   앞으로 \\[1,2,3\\]에 접근하기 위해서는 여러 메모리방중에서 a라는\n",
        "    포스트잇이 붙은 방을 찾아가면 된다.\n",
        "\n",
        "1.  아래를 실행하였을 경우"
      ],
      "id": "0e0cfc71-51b0-41e3-afef-7597bd5d405e"
    },
    {
      "cell_type": "code",
      "execution_count": 12,
      "metadata": {},
      "outputs": [],
      "source": [
        "b=a"
      ],
      "id": "3bdca776-3a23-4d6c-b4b9-31fcce7049ce"
    },
    {
      "cell_type": "markdown",
      "metadata": {},
      "source": [
        "-   a라는 포스트잇이 있는데, `a`라는 포스트잇이랑 b라는 포스트잇과 같은\n",
        "    효과를 주도록 한다.\n",
        "-   쉽게말하면 b라는 포스트잇을 방 `139753545242336`의 방문에 붙인다는\n",
        "    이야기.\n",
        "-   앞으로 \\[1,2,3\\]에 접근하기 위해서는 여러 메모리방중에서 a라는\n",
        "    포스트잇이 붙어 있거나 b라는 포스트잇이 붙어있는 방을 찾아가면 된다.\n",
        "\n",
        "1.  아래를 실행하면"
      ],
      "id": "39a15657-7cf7-4a4f-b608-7c51f9f7a221"
    },
    {
      "cell_type": "code",
      "execution_count": 13,
      "metadata": {},
      "outputs": [],
      "source": [
        "a.append(4)"
      ],
      "id": "14996c7f-4fcd-48e3-a2f9-8f018a69a951"
    },
    {
      "cell_type": "markdown",
      "metadata": {},
      "source": [
        "-   `a`라는 포스트잇이 붙어있는 방으로 가서, 그 내용물에 append함수를\n",
        "    적용하여 4를 추가하라. 즉 내용물 \\[1,2,3\\]을 \\[1,2,3,4\\]로 바꾸라.\n",
        "-   같은방(`139753545242336`)에 a,b라는 포스트잇이 모두 붙어있음. 따라서\n",
        "    b라는 포스트잇이 붙은 방을 찾아가서 내용물을 열어보면 \\[1,2,3,4\\]가\n",
        "    나온다.\n",
        "\n",
        "# 할당문(=)의 이해\n",
        "\n",
        "`-` 파이썬에서 할당문을 이해하기 위해서는 언제나 오른쪽을 먼저 읽어야\n",
        "한다.\n",
        "\n",
        "`-` 할당문의 오른쪽에서는 객체를 생성하거나 가져옴 - 그 후에 라벨을\n",
        "붙이듯이 할당문 왼쪽의 변수가 할당문 오른쪽의 객체에 바인딩 된다. (참조)\n",
        "\n",
        "`-` `b=a`는\n",
        "\n",
        "> 나는 이미 a가 의미하는게 무엇인지 알고있어. 그런데 그 실체를 b라고도\n",
        "> 부르고 싶어. $\\to$ 참조\n",
        "\n",
        "라는 것과 같다. 즉 이미 a라고 부르고 있는것을 내가 b라고도 부르고 싶다는\n",
        "의미인데 이는 마치 별명과 같다. (b는 a의 별명, alias) 그리고 이처럼\n",
        "하나의 오브젝트에 여러개의 이름을 붙이는 것을 에일리어싱이라고 부른다.\n",
        "\n",
        "# id, value\n",
        "\n",
        "## 예제1"
      ],
      "id": "2217c339-c415-4205-913d-2e3b8722df86"
    },
    {
      "cell_type": "code",
      "execution_count": 14,
      "metadata": {},
      "outputs": [],
      "source": [
        "a=[1,2,3]\n",
        "b=a\n",
        "a.append(4)\n",
        "c=[1,2,3,4]"
      ],
      "id": "2b0d6710-5005-471b-932b-4c61a6cb2080"
    },
    {
      "cell_type": "markdown",
      "metadata": {},
      "source": [
        "여기에서 a,b,c는 모두 같은 value를 가진다."
      ],
      "id": "94b9da1a-ab79-455a-9184-d7e9c8d94d17"
    },
    {
      "cell_type": "code",
      "execution_count": 15,
      "metadata": {},
      "outputs": [],
      "source": [
        "a"
      ],
      "id": "411edda8-787b-46dd-8985-c767ef9e9b56"
    },
    {
      "cell_type": "code",
      "execution_count": 16,
      "metadata": {},
      "outputs": [],
      "source": [
        "b"
      ],
      "id": "04f311a0-d401-4656-925b-7bb6332a6ae2"
    },
    {
      "cell_type": "code",
      "execution_count": 17,
      "metadata": {},
      "outputs": [],
      "source": [
        "c"
      ],
      "id": "223e70c0-e263-49de-ac79-5f481c6fca7c"
    },
    {
      "cell_type": "markdown",
      "metadata": {},
      "source": [
        "하지만 그 id까지 같은 것은 아니다."
      ],
      "id": "c38f881e-a2c9-437f-a107-8946b0c818a5"
    },
    {
      "cell_type": "code",
      "execution_count": 18,
      "metadata": {},
      "outputs": [],
      "source": [
        "id(a), id(b), id(c)"
      ],
      "id": "2772367a-b8c3-4939-95ff-d585fead0654"
    },
    {
      "cell_type": "markdown",
      "metadata": {},
      "source": [
        "## 예제2"
      ],
      "id": "b4d903e2-cb95-43cf-85a3-32153aa96d88"
    },
    {
      "cell_type": "code",
      "execution_count": 19,
      "metadata": {},
      "outputs": [],
      "source": [
        "a=[1,2,3] \n",
        "b=a \n",
        "a=[1,2,3]+[4] "
      ],
      "id": "1e55505e-5630-414d-93b2-6fa9afd4ed78"
    },
    {
      "cell_type": "markdown",
      "metadata": {},
      "source": [
        "`a`를 다시 정의한 것이라 보면 될 듯"
      ],
      "id": "b0252f26-f2f3-43f6-ba58-64ef10d6ba2c"
    },
    {
      "cell_type": "code",
      "execution_count": 20,
      "metadata": {},
      "outputs": [],
      "source": [
        "a,b"
      ],
      "id": "d54c3ef3-e84d-4d6d-80d5-a00096fdb4ba"
    },
    {
      "cell_type": "code",
      "execution_count": 21,
      "metadata": {},
      "outputs": [],
      "source": [
        "id(a), id(b)"
      ],
      "id": "4accc211-0343-4b45-bb50-c03b8cca3513"
    },
    {
      "cell_type": "markdown",
      "metadata": {},
      "source": [
        "# 이터닝\n",
        "\n",
        "## 예제1"
      ],
      "id": "a505e633-7be0-427b-8feb-302ff27a1372"
    },
    {
      "cell_type": "code",
      "execution_count": 22,
      "metadata": {},
      "outputs": [],
      "source": [
        "a=1+2021\n",
        "id(a)"
      ],
      "id": "6d3a4e56-e311-4224-b267-7f90ac239f84"
    },
    {
      "cell_type": "markdown",
      "metadata": {},
      "source": [
        "일단 할당"
      ],
      "id": "77c291ea-969b-4e40-842e-730c8c90016d"
    },
    {
      "cell_type": "code",
      "execution_count": 23,
      "metadata": {},
      "outputs": [],
      "source": [
        "b=2023-1\n",
        "id(b)"
      ],
      "id": "dfab8c68-3558-41ea-944f-9f5360b309aa"
    },
    {
      "cell_type": "markdown",
      "metadata": {},
      "source": [
        "독립적으로 오브젝트 만들었으니 id가 다르지"
      ],
      "id": "c464efa3-4534-42e9-a5de-403f14094f2c"
    },
    {
      "cell_type": "code",
      "execution_count": 24,
      "metadata": {},
      "outputs": [],
      "source": [
        "id(2022)"
      ],
      "id": "8c958c29-0df8-4511-9357-e214bc8217f7"
    },
    {
      "cell_type": "markdown",
      "metadata": {},
      "source": [
        "## 예제2: 이제 다 이해했다고 생각했는데.."
      ],
      "id": "17275f74-4812-408c-b46b-e14f1686a076"
    },
    {
      "cell_type": "code",
      "execution_count": 25,
      "metadata": {},
      "outputs": [],
      "source": [
        "a=1+2 \n",
        "id(a)"
      ],
      "id": "27cef373-6659-4280-bb2a-eeb86f3dc4db"
    },
    {
      "cell_type": "code",
      "execution_count": 26,
      "metadata": {},
      "outputs": [],
      "source": [
        "b=4-1\n",
        "id(b)"
      ],
      "id": "a4a22d42-7be6-4d93-93a5-845b086821b2"
    },
    {
      "cell_type": "markdown",
      "metadata": {},
      "source": [
        "이게 왜 똑같지..?\n",
        "\n",
        "(해설) 파이썬의 경우 효율성을 위해서 -5~256까지의 정수를 미리 저장해둠."
      ],
      "id": "f0ece21b-9845-4b2e-8c88-cd02d812924f"
    },
    {
      "cell_type": "code",
      "execution_count": 27,
      "metadata": {},
      "outputs": [],
      "source": [
        "id(3)"
      ],
      "id": "1ec0d0c1-f710-41e6-bb96-54158c72db29"
    },
    {
      "cell_type": "markdown",
      "metadata": {},
      "source": [
        "# `.copy()`의 사용 (shallow copy의 사용)\n",
        "\n",
        "## 예제1\n",
        "\n",
        "-   아래의 예제를 살펴보자. (참조를 제대로 이해했다면 아래의 예제는\n",
        "    자연스럽게 이해가능)"
      ],
      "id": "0c0ebcbc-63a7-4ca5-8e8f-708edbc64f76"
    },
    {
      "cell_type": "code",
      "execution_count": 28,
      "metadata": {},
      "outputs": [],
      "source": [
        "l1 = [3, [66,55,44]]\n",
        "l2 = l1"
      ],
      "id": "0c90ff08-2ebf-401f-b68f-b6bc9b8a170e"
    },
    {
      "cell_type": "code",
      "execution_count": 29,
      "metadata": {},
      "outputs": [],
      "source": [
        "id(l1),id(l2)"
      ],
      "id": "1f78fd85-a7d7-4a6d-a482-0b01817f9646"
    },
    {
      "cell_type": "code",
      "execution_count": 30,
      "metadata": {},
      "outputs": [],
      "source": [
        "l1[0]=4"
      ],
      "id": "978a3bb5-1e13-4507-aca3-607be1340c20"
    },
    {
      "cell_type": "code",
      "execution_count": 31,
      "metadata": {},
      "outputs": [],
      "source": [
        "l1"
      ],
      "id": "252454ac-c3e6-453a-9a8f-1b1cb69b7b9d"
    },
    {
      "cell_type": "code",
      "execution_count": 32,
      "metadata": {},
      "outputs": [],
      "source": [
        "l2"
      ],
      "id": "fdf01e87-1429-46f9-81ab-a8fdb6d393d1"
    },
    {
      "cell_type": "code",
      "execution_count": 33,
      "metadata": {},
      "outputs": [],
      "source": [
        "l2.append(5)\n",
        "l2"
      ],
      "id": "e84463a7-47ef-4d32-8930-5a01c3204661"
    },
    {
      "cell_type": "code",
      "execution_count": 34,
      "metadata": {},
      "outputs": [],
      "source": [
        "l1"
      ],
      "id": "66c242f9-f267-4769-b8fa-74584d6f41f4"
    },
    {
      "cell_type": "markdown",
      "metadata": {},
      "source": [
        "## 예제2: R과 같이 = 를 쓰고 싶다면?"
      ],
      "id": "5e44a3bf-1156-4bc8-be6f-03362f52a541"
    },
    {
      "cell_type": "code",
      "execution_count": 35,
      "metadata": {
        "tags": []
      },
      "outputs": [],
      "source": [
        "l1 = [3, [66,55,44]]\n",
        "l2 = l1.copy()"
      ],
      "id": "88a85ac3-3d11-43fc-afea-2d21d2fb2dcc"
    },
    {
      "cell_type": "code",
      "execution_count": 36,
      "metadata": {},
      "outputs": [],
      "source": [
        "id(l1),id(l2) ## 드디어 주소가 달라졌다."
      ],
      "id": "fabdd433-9205-44f7-b317-5a0307531f0c"
    },
    {
      "cell_type": "markdown",
      "metadata": {},
      "source": [
        "주소 달라짐!!"
      ],
      "id": "e7a50550-4fec-475e-bd77-42bf7056bba1"
    },
    {
      "cell_type": "code",
      "execution_count": 37,
      "metadata": {},
      "outputs": [],
      "source": [
        "l1[0]=100"
      ],
      "id": "a143835d-5b1a-474e-8221-d7ba3c6ba7f8"
    },
    {
      "cell_type": "code",
      "execution_count": 38,
      "metadata": {},
      "outputs": [],
      "source": [
        "l1"
      ],
      "id": "e97c9d19-f742-4dbb-9e55-eb7649550cb8"
    },
    {
      "cell_type": "code",
      "execution_count": 39,
      "metadata": {},
      "outputs": [],
      "source": [
        "l2"
      ],
      "id": "ad03b631-e21a-459b-b266-d4e2f2c39a6a"
    },
    {
      "cell_type": "markdown",
      "metadata": {},
      "source": [
        "## 예제3: 이제 다 이해했다고 생각했는데..\n",
        "\n",
        "-   이제 다 이해했다고 생각했는데.."
      ],
      "id": "ba6510cd-7aa8-4e4e-83bf-6e77fbf9696d"
    },
    {
      "cell_type": "code",
      "execution_count": 40,
      "metadata": {},
      "outputs": [],
      "source": [
        "l1 = [3,[66,55,44]]\n",
        "l2 = l1.copy()"
      ],
      "id": "f755e3a0-f1d5-44a2-b284-c71d1b1f28f1"
    },
    {
      "cell_type": "code",
      "execution_count": 41,
      "metadata": {},
      "outputs": [],
      "source": [
        "id(l1),id(l2)"
      ],
      "id": "36c64be6-4fa3-4e19-a5fc-b0ca25f52925"
    },
    {
      "cell_type": "code",
      "execution_count": 42,
      "metadata": {},
      "outputs": [],
      "source": [
        "l1[1].append(33)"
      ],
      "id": "1c0dbb5b-606d-455c-b81c-5261f3a05fb2"
    },
    {
      "cell_type": "code",
      "execution_count": 43,
      "metadata": {},
      "outputs": [],
      "source": [
        "l1"
      ],
      "id": "36457ee5-8536-4956-a9f4-03fda5a43780"
    },
    {
      "cell_type": "code",
      "execution_count": 44,
      "metadata": {},
      "outputs": [],
      "source": [
        "l2"
      ],
      "id": "58acf5f4-28ba-40bb-8d0c-c5085de8113d"
    },
    {
      "cell_type": "markdown",
      "metadata": {},
      "source": [
        "왜 또 참조한것마냥 l1과 l2가 같이 바뀌고 있지?\n",
        "\n",
        "# Shallow copy의 이해\n",
        "\n",
        "-   방금 살펴본 예제3을 이해하기 위해서는 shallow copy를 이해해야 한다.\n",
        "\n",
        "## 예제1"
      ],
      "id": "50ea151f-3c28-4ed8-a157-bd796097da3a"
    },
    {
      "cell_type": "code",
      "execution_count": 45,
      "metadata": {},
      "outputs": [],
      "source": [
        "a=2222\n",
        "b=2222"
      ],
      "id": "d16fc3bb-8af8-4d9b-aac5-ac7cce960ef1"
    },
    {
      "cell_type": "code",
      "execution_count": 46,
      "metadata": {},
      "outputs": [],
      "source": [
        "id(a),id(b)"
      ],
      "id": "ee1b7ab0-034b-4b44-8ae1-d3b653258bba"
    },
    {
      "cell_type": "markdown",
      "metadata": {},
      "source": [
        "메모리 상황\n",
        "\n",
        "1.  2222라는 오브젝트가 어떤공간(id(a): `139753545300880`)에 생성되고 그\n",
        "    공간에 `a`라는 라벨이 붙음\n",
        "2.  2222라는 오브젝트가 어떤공간(id(b): `139753545300880`)에 생성되고 그\n",
        "    공간에 `b`라는 라벨이 붙음\n",
        "\n",
        "즉 -5~256 이외의 2개의 메모리 공간을 추가적으로 사용\n",
        "\n",
        "## 예제2"
      ],
      "id": "6c43391d-b49a-4fcc-8c7e-3a64731c5bfa"
    },
    {
      "cell_type": "code",
      "execution_count": 48,
      "metadata": {},
      "outputs": [],
      "source": [
        "a=[1,2,2222]\n",
        "b=[1,2,2222]"
      ],
      "id": "76b758c8-c4db-4dfb-afe9-955395b3b49e"
    },
    {
      "cell_type": "markdown",
      "metadata": {},
      "source": [
        "메모리 공간에 1,2는 이미 저장되어 있어서 생성할 필요 없고 2022만 메모리\n",
        "공간에 생성하면 된다."
      ],
      "id": "493cc650-af39-42b0-b8f2-8c68b17fa00a"
    },
    {
      "cell_type": "code",
      "execution_count": 49,
      "metadata": {},
      "outputs": [],
      "source": [
        "id(a), [id(a[0]),id(a[1]),id(a[2])] # a=[1,2,2222]"
      ],
      "id": "347dac90-3314-4caf-a151-4ca1deb72f55"
    },
    {
      "cell_type": "code",
      "execution_count": 50,
      "metadata": {},
      "outputs": [],
      "source": [
        "id(b), [id(b[0]),id(b[1]),id(b[2])] # b=[1,2,2222] "
      ],
      "id": "c5efa054-465b-46b9-a8a9-2f39d9d115ab"
    },
    {
      "cell_type": "code",
      "execution_count": 51,
      "metadata": {},
      "outputs": [],
      "source": [
        "a.append(4)"
      ],
      "id": "2e8090d0-bdf3-42e7-ab84-e814741af313"
    },
    {
      "cell_type": "code",
      "execution_count": 52,
      "metadata": {},
      "outputs": [],
      "source": [
        "a"
      ],
      "id": "2268bb70-3960-48be-8c87-c08d88c83382"
    },
    {
      "cell_type": "code",
      "execution_count": 53,
      "metadata": {},
      "outputs": [],
      "source": [
        "b"
      ],
      "id": "c1276683-8af2-49ef-9f50-8f4d472048a7"
    },
    {
      "cell_type": "markdown",
      "metadata": {},
      "source": [
        "메모리상황\n",
        "\n",
        "1.  -5~256까지의 숫자는 미리 메모리에 저장되어 있다.(`이터닝`) 이중에서\n",
        "    1은 id(a\\[0\\]): `7394656`, 2는 id(a\\[1\\]): `7394688`에 저장되어있음.\n",
        "2.  2222가 공간 id(a\\[2\\]): `139753178093776`에서 만들어진다.\n",
        "3.  어떠한 리스트오브젝트가 공간 id(a): `139753182327904`에서 만들어지고\n",
        "    원소로 \\[1,2,2222\\]를 가진다. 이 공간에 a라는 포스트잇을 붙인다.\n",
        "4.  2222가 공간 id(a)\\[2\\]: `139753178095568`에서 만들어진다.\n",
        "5.  어떠한 리스트오브젝트가 공간 id(b): `139753173818656`에서 만들어지고\n",
        "    원소로 \\[1,2,2222\\]를 가진다. 이 공간에 b라는 포스트잇을 붙인다.\n",
        "6.  a라는 포스트잇이 붙은 공간으로 이동하여 원소에 4를 추가시킨다.\n",
        "\n",
        "즉 -5~256이외에 4개의 메모리 공간을 추가사용 (a,b,a의 2222,b의 2222)\n",
        "\n",
        "## 예제3"
      ],
      "id": "4f144241-6f07-4775-ad43-0cdd2e209b5f"
    },
    {
      "cell_type": "code",
      "execution_count": 54,
      "metadata": {},
      "outputs": [],
      "source": [
        "l1 = [3,[66,55,44]]\n",
        "l2 = l1.copy()"
      ],
      "id": "434ded1c-d95d-4bd4-b695-16fced98c573"
    },
    {
      "cell_type": "code",
      "execution_count": 55,
      "metadata": {},
      "outputs": [],
      "source": [
        "id(l1), [id(l1[0]), id(l1[1])]"
      ],
      "id": "e3b27d13-df69-4c32-89d8-7101d3207bc5"
    },
    {
      "cell_type": "code",
      "execution_count": 56,
      "metadata": {},
      "outputs": [],
      "source": [
        "id(l2), [id(l2[0]), id(l2[1])]"
      ],
      "id": "37db6d58-0db4-406f-a801-417f86cbe35d"
    },
    {
      "cell_type": "markdown",
      "metadata": {},
      "source": [
        "메모리상황\n",
        "\n",
        "1.  -5~256까지의 숫자가 메모리에 저장되어 있다.\n",
        "2.  저장된 숫자중 66,55,44를 묶어서 리스트로 구성하고 이 리스트를 공간\n",
        "    id(l1\\[1\\]): `139753183707216`에 저장.\n",
        "3.  숫자 3과 공간 id(l1\\[1\\]): `139753183707216`에 저장된 리스트\n",
        "    \\[66,55,44\\]를 하나로 묶어서 새로운 리스트를 구성하고 이를 공간\n",
        "    id(l1): `139753183437040`에 저장. 공간 id(l1): `139753183437040`에\n",
        "    `l1`이라는 포스트잇 생성.\n",
        "4.  공간 id(l2): `139753182311120`에 `l1`의 원소들을 모아서 새로운\n",
        "    리스트를 구성함. 공간 id(l2): `139753182311120`에 `l2`라는 포스트잇\n",
        "    생성."
      ],
      "id": "902fc388-f395-4a7c-a591-5885889c96e8"
    },
    {
      "cell_type": "code",
      "execution_count": 57,
      "metadata": {},
      "outputs": [],
      "source": [
        "l1[0] = 7777\n",
        "l1,l2"
      ],
      "id": "8f9c4af8-aed7-445a-a618-ae849681c547"
    },
    {
      "cell_type": "code",
      "execution_count": 58,
      "metadata": {},
      "outputs": [],
      "source": [
        "id(l1), [id(l1[0]), id(l1[1])]"
      ],
      "id": "1b09f483-072a-44c5-a2c7-8940586323f2"
    },
    {
      "cell_type": "code",
      "execution_count": 59,
      "metadata": {},
      "outputs": [],
      "source": [
        "id(l2), [id(l2[0]), id(l2[1])]"
      ],
      "id": "954b040b-3139-4b0c-a072-7973a9a61881"
    },
    {
      "cell_type": "markdown",
      "metadata": {},
      "source": [
        "1.  l1\\[0\\]은 원래 공간 `7394720`와 binding 되어 있었음.  \n",
        "2.  그런데 7777이라는 새로운 오브젝트가 공간 id(l1): `139753178092080`에\n",
        "    생성되고 l1\\[0\\]이 공간 `139753178092080`와 다시 binding 됨.\n",
        "\n",
        "## 예제4"
      ],
      "id": "b9ea1901-2e94-42eb-9a5a-b4d676367928"
    },
    {
      "cell_type": "code",
      "execution_count": 60,
      "metadata": {},
      "outputs": [],
      "source": [
        "l1 = [3,[66,55,44]]\n",
        "l2 = l1.copy()\n",
        "l1.append(7777)"
      ],
      "id": "5e278e3b-b4d1-4af6-b7da-62e16c1f6cdd"
    },
    {
      "cell_type": "code",
      "execution_count": 61,
      "metadata": {},
      "outputs": [],
      "source": [
        "l1,l2"
      ],
      "id": "1845c29f-68d9-4c73-9b29-756f395681d6"
    },
    {
      "cell_type": "code",
      "execution_count": 62,
      "metadata": {},
      "outputs": [],
      "source": [
        "id(l1), [id(l1[0]), id(l1[1]), id(l1[2])]"
      ],
      "id": "69747b98-5a41-4c8f-aaa8-3ef02a47afd7"
    },
    {
      "cell_type": "code",
      "execution_count": 63,
      "metadata": {},
      "outputs": [],
      "source": [
        "id(l2), [id(l2[0]), id(l2[1])]"
      ],
      "id": "fd0596a5-4ebd-4c50-acaa-2464d1053c18"
    },
    {
      "cell_type": "markdown",
      "metadata": {},
      "source": [
        "> 예제3, 예제4를 통하여 리스트가 가변형객체라는 것을 확인할 수 있다.\n",
        "> 예제3의 경우 l1이 저장되어있던 메모리공간의 내용물이\n",
        "> \\[3,\\[66,55,44\\]\\] 에서 \\[7777,\\[66,55,44\\]\\] 로 바뀌었다. 예제4의\n",
        "> 경우 l1이 저장되어있던 메모리공간의 내용물이 \\[3,\\[66,55,44\\]\\] 에서\n",
        "> \\[3,\\[66,55,44\\],7777\\] 로 바뀌었다.\n",
        "\n",
        "## 예제5: 우리를 힘들게 했던 그 예제.\n",
        "\n",
        "(시점1)"
      ],
      "id": "d5437967-297d-4ba0-8f89-7594826ebfc5"
    },
    {
      "cell_type": "code",
      "execution_count": 64,
      "metadata": {},
      "outputs": [],
      "source": [
        "l1 = [3,[66,55,44]]\n",
        "l2 = l1.copy()"
      ],
      "id": "9e04a648-d879-4fb3-a0c4-f3d75fab4436"
    },
    {
      "cell_type": "code",
      "execution_count": 65,
      "metadata": {},
      "outputs": [],
      "source": [
        "l1,l2"
      ],
      "id": "bf6440b5-fbc4-4929-9681-1d087ac8926c"
    },
    {
      "cell_type": "code",
      "execution_count": 66,
      "metadata": {},
      "outputs": [],
      "source": [
        "id(l1), [id(l1[0]), id(l1[1])]"
      ],
      "id": "289ee11f-294a-4b2e-9ecb-645055658f55"
    },
    {
      "cell_type": "code",
      "execution_count": 67,
      "metadata": {},
      "outputs": [],
      "source": [
        "id(l2), [id(l2[0]), id(l2[1])]"
      ],
      "id": "e62bea00-9648-47fb-99fe-249275c1e3a8"
    },
    {
      "cell_type": "markdown",
      "metadata": {},
      "source": [
        "(시점2)"
      ],
      "id": "94adf682-8d72-4fd1-beac-c29843703385"
    },
    {
      "cell_type": "code",
      "execution_count": 68,
      "metadata": {},
      "outputs": [],
      "source": [
        "l1[1].append(7777)"
      ],
      "id": "b429f91d-7bde-40ff-af07-1a72a92afd5c"
    },
    {
      "cell_type": "markdown",
      "metadata": {},
      "source": [
        "l1\\[1\\]의 묶음방식이 저장된 공간에 7777 추가할 거야"
      ],
      "id": "184b7996-a3a6-424d-a0f0-e4f8528d19ae"
    },
    {
      "cell_type": "code",
      "execution_count": 69,
      "metadata": {},
      "outputs": [],
      "source": [
        "l1,l2"
      ],
      "id": "a203644f-b066-4a88-b569-24d17a358626"
    },
    {
      "cell_type": "code",
      "execution_count": 70,
      "metadata": {},
      "outputs": [],
      "source": [
        "id(l1), [id(l1[0]), id(l1[1])]"
      ],
      "id": "2f9d38f7-dd16-4a00-b427-3020126163b6"
    },
    {
      "cell_type": "code",
      "execution_count": 71,
      "metadata": {},
      "outputs": [],
      "source": [
        "id(l2), [id(l2[0]), id(l2[1])]"
      ],
      "id": "b9ed88f8-962f-4976-b173-5cecc15b8210"
    },
    {
      "cell_type": "markdown",
      "metadata": {},
      "source": [
        "해설: 사실 시점1에서 메모리 주소상황을 잘 이해했다면 신기한 일이 아니다.\n",
        "`.copy()`는 l1과 l2의 주소만 다르게 만들 뿐 내용물인 `l1[0]`,`l1[1]`는\n",
        "동일하니까.\n",
        "\n",
        "## 예제6: 신임교수=\\[‘최규빈’,‘이영미’\\]\n",
        "\n",
        "`-` 최규빈, 이영미는 신임교수임"
      ],
      "id": "4d72e8dd-bdd0-4c71-8bc4-12f9f62d1736"
    },
    {
      "cell_type": "code",
      "execution_count": 72,
      "metadata": {},
      "outputs": [],
      "source": [
        "신임교수 = ['최규빈','이영미']"
      ],
      "id": "54b3bbc3-2640-4970-9f3d-534b78673cd4"
    },
    {
      "cell_type": "code",
      "execution_count": 73,
      "metadata": {},
      "outputs": [],
      "source": [
        "id(신임교수), id('최규빈'), id('이영미')"
      ],
      "id": "da788bd7-f3c7-4e6b-9a05-2deaaf725d92"
    },
    {
      "cell_type": "markdown",
      "metadata": {},
      "source": [
        "`-` 신임교수를 누군가는 막내들이라고 부르기도 함."
      ],
      "id": "9521fe35-fe27-4fcc-b83e-62763ac228b5"
    },
    {
      "cell_type": "code",
      "execution_count": 74,
      "metadata": {},
      "outputs": [],
      "source": [
        "막내들 = 신임교수 "
      ],
      "id": "f6f11817-fac8-430d-a0eb-c716779ac281"
    },
    {
      "cell_type": "markdown",
      "metadata": {},
      "source": [
        "참조"
      ],
      "id": "2606fb23-76e2-42d3-beae-1496f6781d39"
    },
    {
      "cell_type": "code",
      "execution_count": 75,
      "metadata": {},
      "outputs": [],
      "source": [
        "id(막내들), id(신임교수)"
      ],
      "id": "dfe6250e-a7e8-426d-bff7-1d6f93683780"
    },
    {
      "cell_type": "markdown",
      "metadata": {},
      "source": [
        "“막내들”이라는 단어와 “신임교수”라는 단어는 사실 같은 말임\n",
        "\n",
        "여기까지 참조 설명\n",
        "\n",
        "`-` 새로운 교수 “박혜원”이 뽑혔음."
      ],
      "id": "88348ccb-7627-4530-a2e9-aaf64c50dff8"
    },
    {
      "cell_type": "code",
      "execution_count": 76,
      "metadata": {},
      "outputs": [],
      "source": [
        "신임교수.append(\"박혜원\")"
      ],
      "id": "5a67704f-9f4e-47fc-83be-7b99f75d28c4"
    },
    {
      "cell_type": "code",
      "execution_count": 77,
      "metadata": {},
      "outputs": [],
      "source": [
        "신임교수, 막내들"
      ],
      "id": "3b3f013c-ca5f-42c9-9cad-0fae2ce2385d"
    },
    {
      "cell_type": "markdown",
      "metadata": {},
      "source": [
        "`-` 전북대 통계학과에서 R특강팀을 구성하여 방학중 R교육을 실시하고자함.\n",
        "특강팀은 우선 신임교수들로 구성."
      ],
      "id": "a18db284-7ab4-4f86-8a49-e6de0815988a"
    },
    {
      "cell_type": "code",
      "execution_count": 78,
      "metadata": {},
      "outputs": [],
      "source": [
        "R특강팀 = 신임교수.copy()\n",
        "R특강팀 "
      ],
      "id": "8286f139-7902-4f00-8ef6-34ce8d517b21"
    },
    {
      "cell_type": "markdown",
      "metadata": {},
      "source": [
        "`-` R특강팀에 `최혜미`교수님 추가. (그렇지만 최혜미교수님이 막내는\n",
        "아니야.. // 참조와 shallow copy의 차이점)"
      ],
      "id": "3c72881d-549f-486b-a9aa-a40692be3ba3"
    },
    {
      "cell_type": "code",
      "execution_count": 79,
      "metadata": {},
      "outputs": [],
      "source": [
        "R특강팀.append(\"최혜미\") "
      ],
      "id": "20d6a7f7-f9cd-49c2-a461-6a771ce89468"
    },
    {
      "cell_type": "code",
      "execution_count": 80,
      "metadata": {},
      "outputs": [],
      "source": [
        "R특강팀, 신임교수, 막내들"
      ],
      "id": "894b9912-6caa-496c-acb7-b6e502110b8f"
    },
    {
      "cell_type": "markdown",
      "metadata": {},
      "source": [
        "`-` R특강팀에서 양성준 교수를 추가하여 파이썬 특강팀을 구성"
      ],
      "id": "a374d149-55d9-446a-ae69-6f63178120b5"
    },
    {
      "cell_type": "code",
      "execution_count": 81,
      "metadata": {},
      "outputs": [],
      "source": [
        "파이썬특강팀 = [R특강팀, \"양성준\"]\n",
        "파이썬특강팀"
      ],
      "id": "7a244d77-4e39-406f-8d3e-0afc744a9645"
    },
    {
      "cell_type": "markdown",
      "metadata": {},
      "source": [
        "`-` 이영미교수는 다른 일이 많아서 R특강 팀에서 제외됨. (그럼 자연히\n",
        "파이썬에서도 제외됨!!)"
      ],
      "id": "b9a5e169-7338-45ec-bb0c-27763819d6f0"
    },
    {
      "cell_type": "code",
      "execution_count": 82,
      "metadata": {},
      "outputs": [],
      "source": [
        "R특강팀.remove(\"이영미\")"
      ],
      "id": "faacb22c-219e-4695-ab75-06dca59d29a4"
    },
    {
      "cell_type": "code",
      "execution_count": 83,
      "metadata": {},
      "outputs": [],
      "source": [
        "R특강팀, 파이썬특강팀"
      ],
      "id": "4946991b-5330-449e-be0f-c06522ec89fc"
    },
    {
      "cell_type": "markdown",
      "metadata": {},
      "source": [
        "하지만 이영미교수는 여전히 신임교수이면서 막내들임"
      ],
      "id": "a5d38eb3-ad67-4bed-9f16-fa07cf7df86c"
    },
    {
      "cell_type": "code",
      "execution_count": 84,
      "metadata": {},
      "outputs": [],
      "source": [
        "신임교수, 막내들"
      ],
      "id": "8729da8a-fcab-4d3f-8d0d-31ff5b0809f3"
    },
    {
      "cell_type": "markdown",
      "metadata": {},
      "source": [
        "`-` 새로운 교수로 “손흥민”이 임용됨."
      ],
      "id": "6adce627-6ba0-44d8-b3e6-743976f9b96b"
    },
    {
      "cell_type": "code",
      "execution_count": 85,
      "metadata": {},
      "outputs": [],
      "source": [
        "막내들.append(\"손흥민\")"
      ],
      "id": "f0917d44-d212-48ec-939c-1462593578ac"
    },
    {
      "cell_type": "code",
      "execution_count": 86,
      "metadata": {},
      "outputs": [],
      "source": [
        "막내들, 신임교수"
      ],
      "id": "a264a61f-1295-4d4b-bad0-dc5cd8aa4b4d"
    },
    {
      "cell_type": "markdown",
      "metadata": {},
      "source": [
        "`-` 그렇다고 해서 손흥민 교수가 바로 R이나 파이썬 특강팀에\n",
        "자동소속되는건 아님\n",
        "\n",
        "shallow copy로 id 주소가 각각 할당되었기 때문"
      ],
      "id": "bb48a1ab-6268-48af-b56d-3717a5313c2a"
    },
    {
      "cell_type": "code",
      "execution_count": 87,
      "metadata": {},
      "outputs": [],
      "source": [
        "R특강팀, 파이썬특강팀"
      ],
      "id": "78f88ee6-6192-42fc-817e-ff7bbfb90ce3"
    },
    {
      "cell_type": "markdown",
      "metadata": {},
      "source": [
        "# Deep copy\n",
        "\n",
        "## 예제1: Motivation example\n",
        "\n",
        "`-` 아래의 상황을 다시 생각해보자."
      ],
      "id": "4953e816-c7a6-47c7-95ad-8e790a44efe3"
    },
    {
      "cell_type": "code",
      "execution_count": 88,
      "metadata": {},
      "outputs": [],
      "source": [
        "파이썬특강팀 = [\"양성준\",[\"최규빈\",\"이영미\",\"최혜미\"]]\n",
        "ADSP특강팀 = 파이썬특강팀.copy()\n",
        "파이썬특강팀[-1].remove(\"이영미\")"
      ],
      "id": "87354eac-d26a-47c8-919b-4d56100660b2"
    },
    {
      "cell_type": "code",
      "execution_count": 89,
      "metadata": {},
      "outputs": [],
      "source": [
        "파이썬특강팀, ADSP특강팀"
      ],
      "id": "7069a622-6568-4ddf-8fb8-8af9f6badbc6"
    },
    {
      "cell_type": "markdown",
      "metadata": {},
      "source": [
        "**이슈:** 이영미교수가 파이썬특강에서 제외되면서 ADSP특강팀에서도\n",
        "제외되었음. 그런데 사실 이영미교수가 파이썬특강팀에서만 제외되길 원한\n",
        "것이지 ADSP특강팀에서 제외되길 원한게 아닐수도 있음.\n",
        "\n",
        "**해결**: Deep copy의 사용"
      ],
      "id": "b7984ca9-71a7-4535-8c33-48a4dac5723d"
    },
    {
      "cell_type": "code",
      "execution_count": 90,
      "metadata": {},
      "outputs": [],
      "source": [
        "import copy"
      ],
      "id": "a6617e2a-ff6c-4794-9bf2-377d1a22a31a"
    },
    {
      "cell_type": "markdown",
      "metadata": {},
      "source": [
        "패키지 필요"
      ],
      "id": "1f4bfcca-209f-4008-aba1-21442d88a9d8"
    },
    {
      "cell_type": "code",
      "execution_count": 91,
      "metadata": {},
      "outputs": [],
      "source": [
        "파이썬특강팀 = [\"양성준\",[\"최규빈\",\"이영미\",\"최혜미\"]]\n",
        "ADSP특강팀 = copy.deepcopy(파이썬특강팀)\n",
        "파이썬특강팀[-1].remove(\"이영미\")"
      ],
      "id": "cb1edccc-be95-4420-90dc-bd1100db2a48"
    },
    {
      "cell_type": "code",
      "execution_count": 92,
      "metadata": {},
      "outputs": [],
      "source": [
        "파이썬특강팀, ADSP특강팀"
      ],
      "id": "95cf292c-50a3-4e2d-b662-b566d11dca11"
    },
    {
      "cell_type": "code",
      "execution_count": 93,
      "metadata": {},
      "outputs": [],
      "source": [
        "copy?"
      ],
      "id": "143dd68d-8e44-49c0-a4d1-cda73cfb85ed"
    },
    {
      "cell_type": "markdown",
      "metadata": {},
      "source": [
        "## 예제2\n",
        "\n",
        "`-` deepcopy"
      ],
      "id": "790209f4-5e72-49d0-99ba-70439c9dc3b4"
    },
    {
      "cell_type": "code",
      "execution_count": 94,
      "metadata": {},
      "outputs": [],
      "source": [
        "l1 = [3,[66,[55,44]]] \n",
        "l2 = copy.deepcopy(l1)"
      ],
      "id": "3bde715f-8fda-463b-935b-593d61d39138"
    },
    {
      "cell_type": "code",
      "execution_count": 95,
      "metadata": {},
      "outputs": [],
      "source": [
        "l2[1][1].append(33)"
      ],
      "id": "3d843846-5c1c-4152-986f-24e30b2ead94"
    },
    {
      "cell_type": "code",
      "execution_count": 96,
      "metadata": {},
      "outputs": [],
      "source": [
        "l1,l2"
      ],
      "id": "fb910139-2fdb-4e99-8263-6c271a8f16a9"
    },
    {
      "cell_type": "code",
      "execution_count": 97,
      "metadata": {},
      "outputs": [
        {
          "output_type": "stream",
          "name": "stdout",
          "text": [
            "level 1\n",
            "l1: 139660748278352\n",
            "l2: 139660748540176"
          ]
        }
      ],
      "source": [
        "print('level 1')\n",
        "print('l1:', id(l1))\n",
        "print('l2:', id(l2))"
      ],
      "id": "5706ae9e-05ca-4553-be4d-7755bd6a61e0"
    },
    {
      "cell_type": "code",
      "execution_count": 98,
      "metadata": {},
      "outputs": [
        {
          "output_type": "stream",
          "name": "stdout",
          "text": [
            "level 2\n",
            "l1: 139660748278352 [7402432, 139660739509776]\n",
            "l2: 139660748540176 [7402432, 139660739569056]"
          ]
        }
      ],
      "source": [
        "print('level 2')\n",
        "print('l1:', id(l1), [id(l1[0]),id(l1[1])])\n",
        "print('l2:', id(l2), [id(l2[0]),id(l2[1])])"
      ],
      "id": "e4063de2-ec8e-408e-a95e-bae825ed4db9"
    },
    {
      "cell_type": "code",
      "execution_count": 99,
      "metadata": {},
      "outputs": [
        {
          "output_type": "stream",
          "name": "stdout",
          "text": [
            "level 3\n",
            "l1: 139660748278352 [7402432, [7404448, 139660748244224]]\n",
            "l2: 139660748540176 [7402432, [7404448, 139660739567776]]"
          ]
        }
      ],
      "source": [
        "print('level 3')\n",
        "print('l1:', id(l1), [id(l1[0]),[id(l1[1][0]),id(l1[1][1])]])\n",
        "print('l2:', id(l2), [id(l2[0]),[id(l2[1][0]),id(l2[1][1])]])"
      ],
      "id": "7c5748bf-a81b-4885-add6-65af396f5063"
    },
    {
      "cell_type": "markdown",
      "metadata": {},
      "source": [
        "묶음 방식이 달라지면서 다른 주소가 할당된 모습\n",
        "\n",
        "`-` 비교를 위한 shallow copy"
      ],
      "id": "95d74236-69cc-4a4b-9fb8-5c6142aabb51"
    },
    {
      "cell_type": "code",
      "execution_count": 100,
      "metadata": {},
      "outputs": [],
      "source": [
        "l1 = [3,[66,[55,44]]] \n",
        "l2 = l1.copy()"
      ],
      "id": "5f1f2626-70dd-4920-b623-466a0b777e78"
    },
    {
      "cell_type": "code",
      "execution_count": 101,
      "metadata": {},
      "outputs": [],
      "source": [
        "l2[1][1].append(33)"
      ],
      "id": "19128502-1da8-424f-a6b1-95e43345e457"
    },
    {
      "cell_type": "code",
      "execution_count": 102,
      "metadata": {},
      "outputs": [],
      "source": [
        "l1,l2"
      ],
      "id": "9afa082d-8d53-49da-9554-7b813129b6fd"
    },
    {
      "cell_type": "code",
      "execution_count": 103,
      "metadata": {},
      "outputs": [
        {
          "output_type": "stream",
          "name": "stdout",
          "text": [
            "level 1\n",
            "l1: 139660739568976\n",
            "l2: 139660748318112"
          ]
        }
      ],
      "source": [
        "print('level 1')\n",
        "print('l1:', id(l1))\n",
        "print('l2:', id(l2))"
      ],
      "id": "e496772b-0e89-4c18-9b11-4ae7cb91c733"
    },
    {
      "cell_type": "code",
      "execution_count": 104,
      "metadata": {},
      "outputs": [
        {
          "output_type": "stream",
          "name": "stdout",
          "text": [
            "level 2\n",
            "l1: 139660739568976 [7402432, 139660807428768]\n",
            "l2: 139660748318112 [7402432, 139660807428768]"
          ]
        }
      ],
      "source": [
        "print('level 2')\n",
        "print('l1:', id(l1), [id(l1[0]),id(l1[1])])\n",
        "print('l2:', id(l2), [id(l2[0]),id(l2[1])])"
      ],
      "id": "a09c38a9-b289-4cd9-a892-0331bafc7e62"
    },
    {
      "cell_type": "code",
      "execution_count": 105,
      "metadata": {},
      "outputs": [
        {
          "output_type": "stream",
          "name": "stdout",
          "text": [
            "level 3\n",
            "l1: 139660739568976 [7402432, [7404448, 139660748313776]]\n",
            "l2: 139660748318112 [7402432, [7404448, 139660748313776]]"
          ]
        }
      ],
      "source": [
        "print('level 3')\n",
        "print('l1:', id(l1), [id(l1[0]),[id(l1[1][0]),id(l1[1][1])]])\n",
        "print('l2:', id(l2), [id(l2[0]),[id(l2[1][0]),id(l2[1][1])]])"
      ],
      "id": "6f743f8e-4618-4562-80b5-b622dc4ffaa5"
    },
    {
      "cell_type": "markdown",
      "metadata": {},
      "source": [
        "`-` 비교를 위한 참조"
      ],
      "id": "1d655b02-7c15-4c85-84b3-9c1ee3c1f43e"
    },
    {
      "cell_type": "code",
      "execution_count": 106,
      "metadata": {},
      "outputs": [],
      "source": [
        "l1 = [3,[66,[55,44]]] \n",
        "l2 = l1"
      ],
      "id": "0b768836-7864-4a1a-bcbd-382b8dcfeb39"
    },
    {
      "cell_type": "code",
      "execution_count": 107,
      "metadata": {},
      "outputs": [],
      "source": [
        "l2[1][1].append(33)"
      ],
      "id": "ba5e6948-f50c-4585-b93a-7918559715e3"
    },
    {
      "cell_type": "code",
      "execution_count": 108,
      "metadata": {},
      "outputs": [],
      "source": [
        "l1,l2"
      ],
      "id": "05aef170-0ba2-41c7-aa07-c228d3d06ed4"
    },
    {
      "cell_type": "code",
      "execution_count": 109,
      "metadata": {},
      "outputs": [
        {
          "output_type": "stream",
          "name": "stdout",
          "text": [
            "level 1\n",
            "l1: 139660748238432\n",
            "l2: 139660748238432"
          ]
        }
      ],
      "source": [
        "print('level 1')\n",
        "print('l1:', id(l1))\n",
        "print('l2:', id(l2))"
      ],
      "id": "b80b3c17-3eb5-4920-b7ca-a8c99e3f078f"
    },
    {
      "cell_type": "code",
      "execution_count": 110,
      "metadata": {},
      "outputs": [
        {
          "output_type": "stream",
          "name": "stdout",
          "text": [
            "level 2\n",
            "l1: 139660748238432 [7402432, 139660748240128]\n",
            "l2: 139660748238432 [7402432, 139660748240128]"
          ]
        }
      ],
      "source": [
        "print('level 2')\n",
        "print('l1:', id(l1), [id(l1[0]),id(l1[1])])\n",
        "print('l2:', id(l2), [id(l2[0]),id(l2[1])])"
      ],
      "id": "191dcc5c-98e8-42c2-ada1-115089ced026"
    },
    {
      "cell_type": "code",
      "execution_count": 111,
      "metadata": {},
      "outputs": [
        {
          "output_type": "stream",
          "name": "stdout",
          "text": [
            "level 3\n",
            "l1: 139660748238432 [7402432, [7404448, 139660748531664]]\n",
            "l2: 139660748238432 [7402432, [7404448, 139660748531664]]"
          ]
        }
      ],
      "source": [
        "print('level 3')\n",
        "print('l1:', id(l1), [id(l1[0]),[id(l1[1][0]),id(l1[1][1])]])\n",
        "print('l2:', id(l2), [id(l2[0]),[id(l2[1][0]),id(l2[1][1])]])"
      ],
      "id": "b6fac6b9-0874-405c-bd51-45854c55b3ef"
    },
    {
      "cell_type": "markdown",
      "metadata": {},
      "source": [
        "주소 다 똑같아\n",
        "\n",
        "# Shallow copy 연습문제\n",
        "\n",
        "## 예제1\n",
        "\n",
        "`-` 아래의 코드결과를 예측하라. 결과가 나오는 이유를 설명하라."
      ],
      "id": "e0cf09af-94b8-4d06-81f6-174079b627eb"
    },
    {
      "cell_type": "code",
      "execution_count": 112,
      "metadata": {},
      "outputs": [],
      "source": [
        "l1= [3,[66,55,44]]\n",
        "l2= l1.copy() \n",
        "l1[-1].append(33)"
      ],
      "id": "c2994407-822c-4192-9888-3f1e341bcf0d"
    },
    {
      "cell_type": "code",
      "execution_count": 113,
      "metadata": {},
      "outputs": [],
      "source": [
        "l1,l2"
      ],
      "id": "90176271-b0bb-4e90-816a-488ef080482c"
    },
    {
      "cell_type": "markdown",
      "metadata": {},
      "source": [
        "shallow copy 썼으니까 같이 추가된 모습\n",
        "\n",
        "## 예제2\n",
        "\n",
        "`-` 아래의 코드결과를 예측하라. 결과가 나오는 이유를 설명하라."
      ],
      "id": "06a0465f-9a3b-4dcd-9730-b7646ee13a69"
    },
    {
      "cell_type": "code",
      "execution_count": 114,
      "metadata": {},
      "outputs": [],
      "source": [
        "l1= [3,[66,55,44]] \n",
        "l2= l1.copy() \n",
        "l1[-1] = l1[-1]+[33] "
      ],
      "id": "4a12b304-352e-488d-aa0b-e4ffb7f26327"
    },
    {
      "cell_type": "code",
      "execution_count": 115,
      "metadata": {},
      "outputs": [],
      "source": [
        "l1,l2"
      ],
      "id": "1438b9a3-86b3-4403-89d2-aae8c1c6a088"
    },
    {
      "cell_type": "code",
      "execution_count": 116,
      "metadata": {},
      "outputs": [],
      "source": [
        "id(l1),id(l2)"
      ],
      "id": "09d60bb5-7c12-4a0f-ab66-e56a4ddbfa20"
    },
    {
      "cell_type": "markdown",
      "metadata": {},
      "source": [
        "l1에 재할당한 것이라 생각하면 된다.\n",
        "\n",
        "## 예제3"
      ],
      "id": "1c331f02-cefb-41ec-b058-b2e7eafe2bd7"
    },
    {
      "cell_type": "code",
      "execution_count": 117,
      "metadata": {},
      "outputs": [],
      "source": [
        "l1= [3,[66,55,44]] \n",
        "l2= l1.copy() \n",
        "l1[-1] = l1[-1]+[33] \n",
        "l1[-1].remove(33)"
      ],
      "id": "39b80991-44c9-4187-935e-71aca40a2b3b"
    },
    {
      "cell_type": "code",
      "execution_count": 118,
      "metadata": {},
      "outputs": [],
      "source": [
        "l1,l2"
      ],
      "id": "a1835fe0-91ac-4fa3-87bd-274edfb43e66"
    },
    {
      "cell_type": "code",
      "execution_count": 119,
      "metadata": {},
      "outputs": [],
      "source": [
        "id(l1),id(l2)"
      ],
      "id": "1c766907-fc63-4658-b8da-be3c11a0194b"
    },
    {
      "cell_type": "markdown",
      "metadata": {},
      "source": [
        "## 예제4"
      ],
      "id": "60ea4407-f879-418d-a4ab-a7065316e594"
    },
    {
      "cell_type": "code",
      "execution_count": 120,
      "metadata": {},
      "outputs": [],
      "source": [
        "l1= [3,[66,55,44]] \n",
        "l2= l1.copy() \n",
        "l1[-1] = l1[-1]+[33] \n",
        "l1[-1].remove(33)\n",
        "l1[-1].append(33)"
      ],
      "id": "f4c5d01c-0cab-4e54-a7a3-c975260c7c02"
    },
    {
      "cell_type": "markdown",
      "metadata": {},
      "source": [
        "(잘못된 상상) 아래의 코드와 결과가 같을거야!!"
      ],
      "id": "9917fd80-15a3-4efe-9041-d279fa2a8e97"
    },
    {
      "cell_type": "code",
      "execution_count": 121,
      "metadata": {},
      "outputs": [],
      "source": [
        "l1= [3,[66,55,44]] \n",
        "l2= l1.copy() \n",
        "# l1[-1] = l1[-1]+[33] \n",
        "# l1[-1].remove(33)\n",
        "l1[-1].append(33)"
      ],
      "id": "b73480d3-fe4a-48e6-87e0-5452257af0f7"
    },
    {
      "cell_type": "code",
      "execution_count": 122,
      "metadata": {},
      "outputs": [],
      "source": [
        "l1,l2 "
      ],
      "id": "a4223b3d-e095-4402-b1b9-23d0a15bcd30"
    },
    {
      "cell_type": "markdown",
      "metadata": {},
      "source": [
        "(하지만 현실은)"
      ],
      "id": "ff83b54f-3a7b-4b37-873f-0917d33479c7"
    },
    {
      "cell_type": "code",
      "execution_count": 123,
      "metadata": {},
      "outputs": [],
      "source": [
        "l1= [3,[66,55,44]] \n",
        "l2= l1.copy() \n",
        "l1[-1] = l1[-1]+[33] \n",
        "l1[-1].remove(33)\n",
        "l1[-1].append(33)"
      ],
      "id": "3bea4d23-f6ce-4200-8947-eb98609f8248"
    },
    {
      "cell_type": "code",
      "execution_count": 124,
      "metadata": {},
      "outputs": [],
      "source": [
        "l1,l2"
      ],
      "id": "3f57cc02-3f50-4584-b3e2-b03274207d93"
    },
    {
      "cell_type": "markdown",
      "metadata": {},
      "source": [
        "재할당의 개념이 있었기 때문에 주소가 다른게 할당된 것이고, 결국 다른\n",
        "결과가 나온다.\n",
        "\n",
        "## 예제5"
      ],
      "id": "934d9db9-86e1-4984-8f85-fc822a0521ad"
    },
    {
      "cell_type": "code",
      "execution_count": 125,
      "metadata": {},
      "outputs": [],
      "source": [
        "l1= [3,[66,55,44]] \n",
        "l2= l1.copy() \n",
        "l1[-1] += [33] # l1[-1] = l1[-1]+[33] \n",
        "l1[-1].remove(33)\n",
        "l1[-1].append(33)"
      ],
      "id": "d9249722-b357-4e50-985a-13dec78ff82d"
    },
    {
      "cell_type": "code",
      "execution_count": 126,
      "metadata": {},
      "outputs": [],
      "source": [
        "l1,l2"
      ],
      "id": "cd894af5-5f1e-4230-9a23-61c0c6491021"
    },
    {
      "cell_type": "code",
      "execution_count": 127,
      "metadata": {},
      "outputs": [],
      "source": [
        "id(l1),id(l2)"
      ],
      "id": "4c4fcb2c-b030-47ab-9c0c-0658c7d4df92"
    },
    {
      "cell_type": "markdown",
      "metadata": {},
      "source": [
        "주소는 다르지만 재할당의 개념이 없어!\n",
        "\n",
        "l1에 append 하는 식으로 되어서 묶음 방식이 같이 움직인다.\n",
        "\n",
        "> ??? 예제4랑 예제5는 같은코드가 아니었음!!! `a += [1]` 는 새로운\n",
        "> 오브젝트를 만드는게 아니고, 기존의 오브젝트를 변형하는 스타일의\n",
        "> 코드였음! (마치 append 메소드처럼)\n",
        "\n",
        "# 불변형 객체\n",
        "\n",
        "## Motivation example\n",
        "\n",
        "`-` 우리는 이제 아래의 내용은 마스터함"
      ],
      "id": "8713ec30-64a8-4685-a1e9-8a951c23bf82"
    },
    {
      "cell_type": "code",
      "execution_count": 128,
      "metadata": {},
      "outputs": [],
      "source": [
        "l1= [3,[66,55,44]] \n",
        "l2= l1.copy() \n",
        "l1[-1] += [33] # l1[-1].append(33)이랑 같은거.."
      ],
      "id": "97f83ae7-3cac-4d22-834b-93fe29fa82b2"
    },
    {
      "cell_type": "code",
      "execution_count": 129,
      "metadata": {},
      "outputs": [],
      "source": [
        "l1,l2"
      ],
      "id": "be0d4f25-158c-400e-a2c9-95583b267322"
    },
    {
      "cell_type": "markdown",
      "metadata": {},
      "source": [
        "`-` 아래의 결과를 한번 예측해볼까?"
      ],
      "id": "325d0ffc-f982-4dd4-93c3-157431795f68"
    },
    {
      "cell_type": "code",
      "execution_count": 130,
      "metadata": {},
      "outputs": [],
      "source": [
        "l1=[3,(66,55,44)]\n",
        "l2=l1.copy()\n",
        "l2[1] += (33,)"
      ],
      "id": "64b7d730-889f-45f3-91e6-7f2b84dd7857"
    },
    {
      "cell_type": "markdown",
      "metadata": {},
      "source": [
        "이번엔 튜플로"
      ],
      "id": "a017eb7d-2f93-426c-a654-c5f251e8d3af"
    },
    {
      "cell_type": "code",
      "execution_count": 131,
      "metadata": {},
      "outputs": [],
      "source": [
        "l1,l2"
      ],
      "id": "d56e31d6-de80-424d-aa85-a73e4aa0e4e0"
    },
    {
      "cell_type": "markdown",
      "metadata": {},
      "source": [
        "## 해설\n",
        "\n",
        "(시점1)"
      ],
      "id": "ba6a312e-a31a-4d97-825b-662b2c17d48f"
    },
    {
      "cell_type": "code",
      "execution_count": 132,
      "metadata": {},
      "outputs": [],
      "source": [
        "l1=[3,(66,55,44)]\n",
        "l2=l1.copy()"
      ],
      "id": "e808316a-e575-4551-8da8-94920f2c3862"
    },
    {
      "cell_type": "markdown",
      "metadata": {},
      "source": [
        "이번엔 리스트 안에 튜플을 넣어봄"
      ],
      "id": "6e86aaf2-3cae-41c4-a927-ad4cf0cf087f"
    },
    {
      "cell_type": "code",
      "execution_count": 133,
      "metadata": {},
      "outputs": [],
      "source": [
        "l1,l2"
      ],
      "id": "5174f366-bf2b-4e29-9c1c-67ce8fd9badf"
    },
    {
      "cell_type": "code",
      "execution_count": 134,
      "metadata": {},
      "outputs": [
        {
          "output_type": "stream",
          "name": "stdout",
          "text": [
            "level 1\n",
            "l1: 139660739586080\n",
            "l2: 139660807832512"
          ]
        }
      ],
      "source": [
        "print('level 1')\n",
        "print('l1:', id(l1))\n",
        "print('l2:', id(l2))"
      ],
      "id": "54c01c6d-21c0-4c07-8fd4-1230974d66cc"
    },
    {
      "cell_type": "code",
      "execution_count": 135,
      "metadata": {},
      "outputs": [
        {
          "output_type": "stream",
          "name": "stdout",
          "text": [
            "level 2\n",
            "l1: 139660739586080 [7402432, 139660748091792]\n",
            "l2: 139660807832512 [7402432, 139660748091792]"
          ]
        }
      ],
      "source": [
        "print('level 2')\n",
        "print('l1:', id(l1), [id(l1[0]),id(l1[1])])\n",
        "print('l2:', id(l2), [id(l2[0]),id(l2[1])])"
      ],
      "id": "761a842b-7368-4cac-8b21-c82722454ab4"
    },
    {
      "cell_type": "markdown",
      "metadata": {},
      "source": [
        "(시점2)"
      ],
      "id": "d109b5ff-4482-420a-a46e-8e3e60c157fc"
    },
    {
      "cell_type": "code",
      "execution_count": 136,
      "metadata": {},
      "outputs": [],
      "source": [
        "l2[1] += (33,)"
      ],
      "id": "6736e057-c92e-43e5-aab9-4a8788b491c8"
    },
    {
      "cell_type": "code",
      "execution_count": 137,
      "metadata": {},
      "outputs": [],
      "source": [
        "l1,l2"
      ],
      "id": "7a6079a8-0f69-432f-9747-72660283418a"
    },
    {
      "cell_type": "code",
      "execution_count": 138,
      "metadata": {},
      "outputs": [
        {
          "output_type": "stream",
          "name": "stdout",
          "text": [
            "level 1\n",
            "l1: 139660739586080\n",
            "l2: 139660807832512"
          ]
        }
      ],
      "source": [
        "print('level 1')\n",
        "print('l1:', id(l1))\n",
        "print('l2:', id(l2))"
      ],
      "id": "49596f21-8ab5-4f3b-a78a-abd28ea936b7"
    },
    {
      "cell_type": "code",
      "execution_count": 139,
      "metadata": {},
      "outputs": [
        {
          "output_type": "stream",
          "name": "stdout",
          "text": [
            "level 2\n",
            "l1: 139660739586080 [7402432, 139660748091792]\n",
            "l2: 139660807832512 [7402432, 139660739627824]"
          ]
        }
      ],
      "source": [
        "print('level 2')\n",
        "print('l1:', id(l1), [id(l1[0]),id(l1[1])])\n",
        "print('l2:', id(l2), [id(l2[0]),id(l2[1])])"
      ],
      "id": "b210d631-1432-43b3-bda3-5461a8a0e0a0"
    },
    {
      "cell_type": "markdown",
      "metadata": {},
      "source": [
        "주소 `139753182280032`에 있는 값을 바꾸고 싶지만 불변형이라 못바꿈 $\\to$\n",
        "그냥 새로 만들자. 그래서 그걸 `139753174874064`에 저장하자.\n",
        "\n",
        "튜플의 묶음 방식은 불변형! 정의: 값을 변환할 수 없는 오브젝트다~ 새로\n",
        "오브젝트 만들어 저장함.\n",
        "\n",
        "리스트 : 값을 바꿀 수 있는 오브젝트다, 묶음 방식을 바꿀 수 있다.\n",
        "\n",
        "# Shallow copy vs Deep copy\n",
        "\n",
        "`-` 암기용문구: “shallow copy는 껍데기만 복사한다. deep copy는 내부까지\n",
        "복사한다.”\n",
        "\n",
        "`-` 일부교재에서는 경우에 따라 shallow copy가 선호될 수 있다는 식으로\n",
        "설명되어있으나 솔직히 대부분 코드에서 shallow copy의 동작을 의도하고\n",
        "코드를 사용하진 않는다. 대부분의 경우에서 shallow copy는 불필요한 side\n",
        "effect을 유발하는 쓸모없는 개념이라 생각한다.\n",
        "\n",
        "`-` 그럼 shallow copy의 장점은 무엇인가? shallow copy가 deep copy보다\n",
        "메모리를 더 적게 사용한다.\n",
        "\n",
        "``` python\n",
        "## 예제1\n",
        "lst1 = ['양성준',['최규빈','이영미','최혜미']]\n",
        "lst2 = lst1.copy()\n",
        "## 예제2 \n",
        "lst1 = ['양성준',['최규빈','이영미','최혜미']]\n",
        "lst2 = copy.deepcopy(lst1)\n",
        "```\n",
        "\n",
        "-   예제1: 4+1+2 = 7개의 공간 사용\n",
        "-   예제2: 4+2+2 = 8개의 공간 사용\n",
        "\n",
        "`-` 분노: 참조인지 카피인지 구분하는것도 힘든데, 카피도 shallow 인지\n",
        "deep 인지 구분해서 사용해야해? 겨우 저 메모리때문에?\n",
        "\n",
        "**요약**\n",
        "\n",
        "`-` 파이썬은 메모리를 아끼기 위해서 shallow copy라는 이상한 행동을 한다.\n",
        "\n",
        "`-` 통찰1: 그런데 오묘하게도 \\[1,2,3,4,5,6\\]와 같이 중첩된 리스트가\n",
        "아니라면 문제가 되지 않음. (***메모리는 아끼면서 문제가 되지 않는다??\n",
        "천재인데??***)\n",
        "\n",
        "-   중첩된 리스트가 아닐 경우는 `shallow copy = deep copy` 임.\n",
        "\n",
        "1차원이면 이런 문제 생기지 않지, 하지만 모든 데이터가 1차원?\n",
        "\n",
        "`-` 통찰2: 생각해보니까 모든 자료형이 불변형인 경우에도 문제가 되지\n",
        "않음. (R은 모든 자료형이 불변형이다)\n",
        "\n",
        "`-` 문제상황요약: \\[\\[1,2\\],\\[3,4\\]\\] 와 같이 리스트에 리스트가 포함된\n",
        "형태라면 문제가 생긴다. (이건 개선이 필요함) - 개선1: 깊은복사(import\n",
        "copy) - 개선2: 넘파이\n",
        "\n",
        "# numpy"
      ],
      "id": "25811c5d-9c87-4c4e-b28e-32db41e1296a"
    },
    {
      "cell_type": "code",
      "execution_count": 140,
      "metadata": {},
      "outputs": [],
      "source": [
        "import numpy as np"
      ],
      "id": "1ae73e16-45b2-4a01-a793-749b92526d4f"
    },
    {
      "cell_type": "markdown",
      "metadata": {},
      "source": [
        "## 2차원의 실체\n",
        "\n",
        "`-` 2차원 array a,b를 선언하자."
      ],
      "id": "0ff70f71-bb75-48b8-83ef-8166a369f03f"
    },
    {
      "cell_type": "code",
      "execution_count": 141,
      "metadata": {},
      "outputs": [],
      "source": [
        "a = np.array([[11,22,33,44]]).reshape(2,2)\n",
        "b = np.array([[11,22,33,44,55,66]]).reshape(2,3)\n",
        "c = np.array([11,22,33,44]).reshape(4,1)\n",
        "d = np.array([11,22,33,44])"
      ],
      "id": "5d01d48e-3d9e-4377-9562-456a91b32fd4"
    },
    {
      "cell_type": "markdown",
      "metadata": {},
      "source": [
        "`-` a,b,c,d 속성비교"
      ],
      "id": "09243dba-c226-4fd9-b401-79f93194cf15"
    },
    {
      "cell_type": "code",
      "execution_count": 142,
      "metadata": {},
      "outputs": [],
      "source": [
        "a.shape, b.shape, c.shape, d.shape ## 차원 "
      ],
      "id": "e0fd159f-b35f-4bf4-8efb-97f02a0707c7"
    },
    {
      "cell_type": "code",
      "execution_count": 143,
      "metadata": {},
      "outputs": [],
      "source": [
        "a.strides, b.strides, c.strides, d.strides ## 차원이랑 관련이 있어보임.. + 8의 배수 "
      ],
      "id": "2ec2c9d5-9a2a-4c68-a3b9-01ea4c536f43"
    },
    {
      "cell_type": "markdown",
      "metadata": {},
      "source": [
        "`-` strides는 무엇?\n",
        "\n",
        "-   strides: (다음 행으로 가기위해서 JUMP해야하는 메모리 공간수, 다음\n",
        "    열로 가기위해서 JUMP해야하는 메모리 공간수)\n",
        "\n",
        "`-` 사실 a,b,c,d 는 모두 1차원으로 저장되어있음. (중첩된 리스트꼴이\n",
        "아니라)\n",
        "\n",
        "shape이나 strides 등의 옵션으로 1차원이 아니게 보여지는 것 뿐\n",
        "\n",
        "## 참조\n",
        "\n",
        "`-` a를 선언, b는 a의 참조"
      ],
      "id": "b54bcaf3-5d93-46b8-a0b8-5ce2dc155dbe"
    },
    {
      "cell_type": "code",
      "execution_count": 144,
      "metadata": {},
      "outputs": [],
      "source": [
        "a=np.array([[1,2],[3,4]])\n",
        "b=a ## 참조 "
      ],
      "id": "550def7a-0547-4c14-bee5-607fc130b7b0"
    },
    {
      "cell_type": "code",
      "execution_count": 145,
      "metadata": {},
      "outputs": [],
      "source": [
        "a"
      ],
      "id": "219a0489-e491-425a-b3a5-3fc5dafc84ca"
    },
    {
      "cell_type": "code",
      "execution_count": 146,
      "metadata": {},
      "outputs": [],
      "source": [
        "b"
      ],
      "id": "148c3b29-39f4-46af-aa27-c5d5631724c4"
    },
    {
      "cell_type": "code",
      "execution_count": 147,
      "metadata": {},
      "outputs": [],
      "source": [
        "a.shape"
      ],
      "id": "9477b828-b445-48f0-8fa0-481892372a72"
    },
    {
      "cell_type": "code",
      "execution_count": 148,
      "metadata": {},
      "outputs": [],
      "source": [
        "b.shape"
      ],
      "id": "c3a86cc1-60ff-4c5a-b443-8a85a99be348"
    },
    {
      "cell_type": "markdown",
      "metadata": {},
      "source": [
        "`-` a의 shape을 바꾸어보자 $\\to$ b도 같이 바뀐다"
      ],
      "id": "61942299-5e5a-43b0-aa9f-d0e319406433"
    },
    {
      "cell_type": "code",
      "execution_count": 149,
      "metadata": {},
      "outputs": [],
      "source": [
        "a.shape = (4,)"
      ],
      "id": "e4565ea5-5334-44a6-9bc9-d92255ca94bf"
    },
    {
      "cell_type": "code",
      "execution_count": 150,
      "metadata": {},
      "outputs": [],
      "source": [
        "a"
      ],
      "id": "61ea4e3d-66d2-4008-9904-ccfa883a5ff6"
    },
    {
      "cell_type": "code",
      "execution_count": 151,
      "metadata": {},
      "outputs": [],
      "source": [
        "b"
      ],
      "id": "630ac7d7-847d-452a-b491-90485df00b91"
    },
    {
      "cell_type": "code",
      "execution_count": 152,
      "metadata": {},
      "outputs": [],
      "source": [
        "id(a),id(b)"
      ],
      "id": "45ba0b0d-9d1f-478c-a604-34b9212c974f"
    },
    {
      "cell_type": "markdown",
      "metadata": {},
      "source": [
        "## view\n",
        "\n",
        "`-` a를 선언, b는 a의 view"
      ],
      "id": "951e729e-df2b-43ae-af06-27fc567eeb2f"
    },
    {
      "cell_type": "code",
      "execution_count": 153,
      "metadata": {},
      "outputs": [],
      "source": [
        "a=np.array([[1,2],[3,4]]) \n",
        "b=a.view() ## shallow copy 라고 부르기도 한다. "
      ],
      "id": "ac5714d5-1e11-4a59-9b2e-c390e192d4e7"
    },
    {
      "cell_type": "code",
      "execution_count": 154,
      "metadata": {},
      "outputs": [],
      "source": [
        "a"
      ],
      "id": "c242f5f2-5296-4ef5-a00e-7631739d67de"
    },
    {
      "cell_type": "code",
      "execution_count": 155,
      "metadata": {},
      "outputs": [],
      "source": [
        "b"
      ],
      "id": "bd523457-0607-4783-8540-a936d6507ae8"
    },
    {
      "cell_type": "code",
      "execution_count": 156,
      "metadata": {},
      "outputs": [],
      "source": [
        "a.shape"
      ],
      "id": "4567870d-73e1-4bc4-9b56-f6cdc04bb524"
    },
    {
      "cell_type": "code",
      "execution_count": 157,
      "metadata": {},
      "outputs": [],
      "source": [
        "b.shape"
      ],
      "id": "a5057727-e886-46c2-a027-a16ecc5ea66a"
    },
    {
      "cell_type": "code",
      "execution_count": 158,
      "metadata": {},
      "outputs": [],
      "source": [
        "a.shape= (4,1)"
      ],
      "id": "736809cd-d08e-4fb5-8d1c-44b0833eabd2"
    },
    {
      "cell_type": "code",
      "execution_count": 159,
      "metadata": {},
      "outputs": [],
      "source": [
        "a"
      ],
      "id": "55337459-6379-442e-a369-2deb2b35db3e"
    },
    {
      "cell_type": "code",
      "execution_count": 160,
      "metadata": {},
      "outputs": [],
      "source": [
        "b"
      ],
      "id": "d82235e7-505c-49bd-ad8d-02869b567d25"
    },
    {
      "cell_type": "code",
      "execution_count": 161,
      "metadata": {},
      "outputs": [],
      "source": [
        "id(a), id(b)"
      ],
      "id": "4c2ae89f-b22c-4ca1-82da-f2bb96eac841"
    },
    {
      "cell_type": "markdown",
      "metadata": {},
      "source": [
        "view가 shallow copy 같은 이유 껍데기 주소만 복사해옴, 공간에 대한 주소는\n",
        "같지 않음\n",
        "\n",
        "`-` 그런데.."
      ],
      "id": "1ad4d6e3-99f9-4572-b0cd-685f28f09f1f"
    },
    {
      "cell_type": "code",
      "execution_count": 162,
      "metadata": {},
      "outputs": [],
      "source": [
        "a[0]=100"
      ],
      "id": "bff87cdb-a0c3-4684-acdb-67e3a473f026"
    },
    {
      "cell_type": "code",
      "execution_count": 163,
      "metadata": {},
      "outputs": [],
      "source": [
        "a"
      ],
      "id": "b7e594ae-29a7-4787-99bb-3f1e992ac04a"
    },
    {
      "cell_type": "code",
      "execution_count": 164,
      "metadata": {},
      "outputs": [],
      "source": [
        "b"
      ],
      "id": "b0fda4b0-eb25-417d-8e78-18877a11fd33"
    },
    {
      "cell_type": "markdown",
      "metadata": {},
      "source": [
        "`-` 출생의 비밀"
      ],
      "id": "eceb6def-e772-4a1f-9711-46dd4e9ea076"
    },
    {
      "cell_type": "code",
      "execution_count": 165,
      "metadata": {},
      "outputs": [],
      "source": [
        "b"
      ],
      "id": "0b6caa8d-9606-43e4-ad0a-0e3e5a858ac2"
    },
    {
      "cell_type": "code",
      "execution_count": 166,
      "metadata": {},
      "outputs": [],
      "source": [
        "b.base"
      ],
      "id": "a80b0045-726c-4006-b391-29657de9b622"
    },
    {
      "cell_type": "markdown",
      "metadata": {},
      "source": [
        "-   ? 이거 바뀐 a아니야?"
      ],
      "id": "bfe10ac4-ec48-4a21-ab03-8ad3cb5dd14e"
    },
    {
      "cell_type": "code",
      "execution_count": 167,
      "metadata": {},
      "outputs": [],
      "source": [
        "id(b.base), id(a)"
      ],
      "id": "96294804-eef0-428a-b97d-d8ed5e60ae0c"
    },
    {
      "cell_type": "markdown",
      "metadata": {},
      "source": [
        "`-` View - b가 a의 뷰라는 의미는, b가 a를 소스로하여 만들어진 오브젝트란\n",
        "의미이다. - 따라서 이때 b.base는 a가 된다. - b는 자체적으로 데이터를\n",
        "가지고 있지 않으며 a와 공유한다. - 이러한 의미에서 view를 shallow copy\n",
        "라고 부른다. (stride, shape과 같은 껍데기만 새로 생성, base는 유지)\n",
        "\n",
        "`note1` 원본 ndarray의 일 경우는 .base가 None으로 나온다."
      ],
      "id": "706f98c4-6687-4a2c-9da7-304a6adcd963"
    },
    {
      "cell_type": "code",
      "execution_count": 168,
      "metadata": {},
      "outputs": [],
      "source": [
        "a.base"
      ],
      "id": "4bb884aa-1d10-48e2-98e2-0e281edf6228"
    },
    {
      "cell_type": "code",
      "execution_count": 169,
      "metadata": {},
      "outputs": [
        {
          "output_type": "stream",
          "name": "stdout",
          "text": [
            "None"
          ]
        }
      ],
      "source": [
        "print(a.base)"
      ],
      "id": "449b02d0-dc24-49af-a6ed-661822f9ba0e"
    },
    {
      "cell_type": "markdown",
      "metadata": {},
      "source": [
        "`note2` b.base의 shpae과 b의 shape은 아무 관련없다."
      ],
      "id": "505fc8dc-b02b-472b-a950-469df7c90f7c"
    },
    {
      "cell_type": "code",
      "execution_count": 170,
      "metadata": {},
      "outputs": [],
      "source": [
        "b.shape"
      ],
      "id": "b95c1572-8aee-4c0e-b2e9-fc9a0a80e79d"
    },
    {
      "cell_type": "code",
      "execution_count": 171,
      "metadata": {},
      "outputs": [],
      "source": [
        "b.base.shape"
      ],
      "id": "c170532b-ad7d-41f4-aa41-d67f582976ac"
    },
    {
      "cell_type": "markdown",
      "metadata": {},
      "source": [
        "## copy\n",
        "\n",
        "`-` a를 선언, b는 a의 copy"
      ],
      "id": "b0e8b9ea-065b-40ab-96ee-67c8bcd0add7"
    },
    {
      "cell_type": "code",
      "execution_count": 172,
      "metadata": {},
      "outputs": [],
      "source": [
        "a=np.array([[1,2],[3,4]])\n",
        "b=a.copy() # 껍데기를 새로 생성 (strides, shape) + base도 새로생성 "
      ],
      "id": "e85dd52a-fa50-433b-aba9-f8100bb7179c"
    },
    {
      "cell_type": "code",
      "execution_count": 173,
      "metadata": {},
      "outputs": [],
      "source": [
        "id(a),id(b)"
      ],
      "id": "1d3badf7-7b2b-4b08-8636-a586a8a641ce"
    },
    {
      "cell_type": "markdown",
      "metadata": {},
      "source": [
        "`-` a의 shape을 바꿔도 b에는 적용되지 않음"
      ],
      "id": "15e6a89f-fa55-4587-b9ba-9ce417744dc7"
    },
    {
      "cell_type": "code",
      "execution_count": 174,
      "metadata": {},
      "outputs": [],
      "source": [
        "a.shape = (4,1)\n",
        "a"
      ],
      "id": "7c45d130-1af9-4d33-8de3-12054d642c05"
    },
    {
      "cell_type": "code",
      "execution_count": 175,
      "metadata": {},
      "outputs": [],
      "source": [
        "b"
      ],
      "id": "9900ce1f-048d-4e0b-be32-2fcff4b9d017"
    },
    {
      "cell_type": "markdown",
      "metadata": {},
      "source": [
        "`-` 그리고 a\\[0\\]의 값을 바꿔도 b에는 적용되지 않음."
      ],
      "id": "732b350b-fbc3-4b62-bc2f-8bdbd6b75eb2"
    },
    {
      "cell_type": "code",
      "execution_count": 176,
      "metadata": {},
      "outputs": [],
      "source": [
        "a[0]=100"
      ],
      "id": "62483f9f-9964-40ae-8423-dafa0dd97b28"
    },
    {
      "cell_type": "code",
      "execution_count": 177,
      "metadata": {},
      "outputs": [],
      "source": [
        "a"
      ],
      "id": "aacf34cb-4458-4ba0-9769-95afbe1c6363"
    },
    {
      "cell_type": "code",
      "execution_count": 178,
      "metadata": {},
      "outputs": [],
      "source": [
        "b"
      ],
      "id": "b2f4629a-c469-400e-b5af-1b7c7c8f8173"
    },
    {
      "cell_type": "markdown",
      "metadata": {},
      "source": [
        "`-` b의 출생을 조사해보니.."
      ],
      "id": "8c890106-3c0d-4e57-be23-e952361bfb6c"
    },
    {
      "cell_type": "code",
      "execution_count": 179,
      "metadata": {},
      "outputs": [],
      "source": [
        "a.base,b.base"
      ],
      "id": "77fac26a-daf3-4b64-98aa-34c70c55eaaf"
    },
    {
      "cell_type": "markdown",
      "metadata": {},
      "source": [
        "출생의 비밀은 없었다. 둘다 원본.\n",
        "\n",
        "`-` `.view()` 는 껍데기만, `.copy()` 는 껍데기 + base 까지 새로생성\n",
        "\n",
        "### ***Appendix: .copy의 한계(?)***"
      ],
      "id": "743d1fd0-851c-4daf-9f4f-c321e5eb832f"
    },
    {
      "cell_type": "code",
      "execution_count": 180,
      "metadata": {},
      "outputs": [],
      "source": [
        "a=np.array([1,[1,2]],dtype='O')\n",
        "a"
      ],
      "id": "56b2ea9c-02aa-4d12-9e77-38ff3f6e8dff"
    },
    {
      "cell_type": "code",
      "execution_count": 181,
      "metadata": {},
      "outputs": [],
      "source": [
        "b=a.copy()"
      ],
      "id": "19f8dd95-1141-493a-9eca-ef3bb47b5002"
    },
    {
      "cell_type": "code",
      "execution_count": 182,
      "metadata": {},
      "outputs": [],
      "source": [
        "b"
      ],
      "id": "759bec3a-e4cb-4a2d-b700-83f507be0de9"
    },
    {
      "cell_type": "code",
      "execution_count": 183,
      "metadata": {},
      "outputs": [],
      "source": [
        "a[0]=222"
      ],
      "id": "a80631a9-da0d-4463-98c9-dbc289de866f"
    },
    {
      "cell_type": "code",
      "execution_count": 184,
      "metadata": {},
      "outputs": [],
      "source": [
        "a"
      ],
      "id": "2f1109ae-d906-4ae9-aff1-c55177731141"
    },
    {
      "cell_type": "code",
      "execution_count": 185,
      "metadata": {},
      "outputs": [],
      "source": [
        "b"
      ],
      "id": "5a874179-1395-4d83-9c53-d43205f8484b"
    },
    {
      "cell_type": "code",
      "execution_count": 186,
      "metadata": {},
      "outputs": [],
      "source": [
        "a[1][0]=333"
      ],
      "id": "2d574ef7-d583-44c3-bb31-a7d9daaa43db"
    },
    {
      "cell_type": "code",
      "execution_count": 187,
      "metadata": {},
      "outputs": [],
      "source": [
        "a"
      ],
      "id": "621be79d-6462-460a-ab77-35b03e26918f"
    },
    {
      "cell_type": "code",
      "execution_count": 188,
      "metadata": {},
      "outputs": [],
      "source": [
        "b"
      ],
      "id": "8acd657e-fe1c-460d-a3f5-c55333edc0f2"
    },
    {
      "cell_type": "markdown",
      "metadata": {},
      "source": [
        "***해결책: 더 깊은 복사***"
      ],
      "id": "8f7a6a70-7162-4a06-80a2-671ed428df48"
    },
    {
      "cell_type": "code",
      "execution_count": 189,
      "metadata": {},
      "outputs": [],
      "source": [
        "import copy "
      ],
      "id": "52ce0f16-71ac-4afd-bff7-d86693728443"
    },
    {
      "cell_type": "code",
      "execution_count": 190,
      "metadata": {},
      "outputs": [],
      "source": [
        "a=np.array([1,[1,2]],dtype='O')\n",
        "b=copy.deepcopy(a)"
      ],
      "id": "5eaec091-5c41-4958-ac05-961dee360cd3"
    },
    {
      "cell_type": "code",
      "execution_count": 191,
      "metadata": {},
      "outputs": [],
      "source": [
        "a"
      ],
      "id": "dbd1ee27-cf8b-41b0-9424-2d7e5294fb2b"
    },
    {
      "cell_type": "code",
      "execution_count": 192,
      "metadata": {},
      "outputs": [],
      "source": [
        "b"
      ],
      "id": "233c3ab5-a135-45f7-ac61-0e2bfddfab87"
    },
    {
      "cell_type": "code",
      "execution_count": 193,
      "metadata": {},
      "outputs": [],
      "source": [
        "a[0]=100"
      ],
      "id": "11516781-5786-4245-bc85-62dcccc0891f"
    },
    {
      "cell_type": "code",
      "execution_count": 194,
      "metadata": {},
      "outputs": [],
      "source": [
        "a,b"
      ],
      "id": "00e742ce-7526-4a40-874e-c4b89aa28be8"
    },
    {
      "cell_type": "code",
      "execution_count": 195,
      "metadata": {},
      "outputs": [],
      "source": [
        "a[1][0]=200"
      ],
      "id": "b41ed535-0146-47c2-8abf-1c879e091008"
    },
    {
      "cell_type": "code",
      "execution_count": 196,
      "metadata": {},
      "outputs": [],
      "source": [
        "a,b"
      ],
      "id": "28448080-2cef-4e15-a19d-932090fc9f60"
    },
    {
      "cell_type": "markdown",
      "metadata": {},
      "source": [
        "`-` 중간요약\n",
        "\n",
        "-   사실 `.copy()`는 온전한 deep copy 가 아니라 level 2 deep copy 이다.\n",
        "-   따라서 `.copy()`는 base의 정보를 shallow copy 한다 (level 1 deep\n",
        "    copy 한다.)\n",
        "-   그래서 base가 다시 중첩구조를 가지는 경우는 온전한 deep-copy가\n",
        "    수행되지 않는다.\n",
        "-   그런데 일반적으로 넘파이를 이용할때 자주 사용하는 데이터 구조인\n",
        "    행렬, 텐서등은 base가 중첩구조를 가지지 않는다. (1차원 array로만\n",
        "    저장되어 있음)\n",
        "-   따라서 행렬, 텐서에 한정하면 `.copy()`는 온전한 deep copy라고\n",
        "    이해해도 무방하다.\n",
        "\n",
        "행/열 같지 않으면 numpy쓰면 힘들걸..\n",
        "\n",
        "모든 데이터 구조가 2차원까지로 정리 된다.\n",
        "\n",
        "## 별명, 뷰, 카피\n",
        "\n",
        "`-` test 함수 작성"
      ],
      "id": "95bc15b4-dac3-4ed1-9856-03ad6580c5b2"
    },
    {
      "cell_type": "code",
      "execution_count": 197,
      "metadata": {},
      "outputs": [],
      "source": [
        "def test(a,b): \n",
        "    if id(a) == id(b): \n",
        "        print(\"별명\")\n",
        "    elif id(a) == id(b.base) or id(a.base)==id(b): \n",
        "        print(\"뷰\")\n",
        "    elif (id(a.base)!=id(None) and id(b.base)!=id(None)) and id(a.base) == id(b.base):\n",
        "        print(\"공통의 base를 가짐\")\n",
        "    else: \n",
        "        print(\"카피, 혹은 아무 관련없는 오브젝트\") "
      ],
      "id": "9fe37d75-601d-49a1-8235-fb69c86c82db"
    },
    {
      "cell_type": "markdown",
      "metadata": {},
      "source": [
        "`-` 잘 동작하나?\n",
        "\n",
        "(테스트1)"
      ],
      "id": "2296e9a6-4ee3-48c1-b1ac-22db5f93548a"
    },
    {
      "cell_type": "code",
      "execution_count": 198,
      "metadata": {},
      "outputs": [],
      "source": [
        "a=np.array([1,2,3,4])\n",
        "b=a"
      ],
      "id": "a0acb6b3-aefb-48a4-af18-0018ce4f7ed0"
    },
    {
      "cell_type": "code",
      "execution_count": 199,
      "metadata": {},
      "outputs": [
        {
          "output_type": "stream",
          "name": "stdout",
          "text": [
            "별명"
          ]
        }
      ],
      "source": [
        "test(a,b)"
      ],
      "id": "612dac6a-8141-4845-b64b-568662c6177f"
    },
    {
      "cell_type": "markdown",
      "metadata": {},
      "source": [
        "참조\n",
        "\n",
        "(테스트2)"
      ],
      "id": "f23781c0-378f-49ff-ab99-328322cf4902"
    },
    {
      "cell_type": "code",
      "execution_count": 200,
      "metadata": {},
      "outputs": [],
      "source": [
        "a=np.array([1,2,3,4])\n",
        "b=a.view()"
      ],
      "id": "5895deb3-199c-42ca-a8db-14f832f521c1"
    },
    {
      "cell_type": "code",
      "execution_count": 201,
      "metadata": {},
      "outputs": [
        {
          "output_type": "stream",
          "name": "stdout",
          "text": [
            "뷰"
          ]
        }
      ],
      "source": [
        "test(a,b)"
      ],
      "id": "3f63217d-468f-4f37-9a0e-45e45b4126e8"
    },
    {
      "cell_type": "markdown",
      "metadata": {},
      "source": [
        "(테스트3)"
      ],
      "id": "7da08bc1-c2f3-42d6-ad1d-96fb04dbe4cc"
    },
    {
      "cell_type": "code",
      "execution_count": 202,
      "metadata": {},
      "outputs": [],
      "source": [
        "a=np.array([1,2,3,4])\n",
        "b=a.view()\n",
        "c=a.view()"
      ],
      "id": "4a6e4be3-1dc8-4779-8cf2-2bbe9b762590"
    },
    {
      "cell_type": "code",
      "execution_count": 203,
      "metadata": {},
      "outputs": [
        {
          "output_type": "stream",
          "name": "stdout",
          "text": [
            "공통의 base를 가짐"
          ]
        }
      ],
      "source": [
        "test(b,c)"
      ],
      "id": "aefd3ee4-71c0-490f-9298-f228b1033f3a"
    },
    {
      "cell_type": "code",
      "execution_count": 204,
      "metadata": {},
      "outputs": [
        {
          "output_type": "stream",
          "name": "stdout",
          "text": [
            "뷰"
          ]
        }
      ],
      "source": [
        "test(a,b)"
      ],
      "id": "71a23f92-9a3e-424a-9f67-02e272d415cf"
    },
    {
      "cell_type": "code",
      "execution_count": 205,
      "metadata": {},
      "outputs": [
        {
          "output_type": "stream",
          "name": "stdout",
          "text": [
            "뷰"
          ]
        }
      ],
      "source": [
        "test(a,c)"
      ],
      "id": "ca81a32c-4ca6-4bbd-b9ae-9facbdef3af0"
    },
    {
      "cell_type": "markdown",
      "metadata": {},
      "source": [
        "(테스트4)"
      ],
      "id": "42cd007b-568c-4f7a-89b8-1b0543d6620b"
    },
    {
      "cell_type": "code",
      "execution_count": 206,
      "metadata": {},
      "outputs": [],
      "source": [
        "a=np.array([1,2,3,4])\n",
        "b=a.copy()"
      ],
      "id": "887d05f2-ea7f-41e7-819c-7669aeeaaf10"
    },
    {
      "cell_type": "code",
      "execution_count": 207,
      "metadata": {},
      "outputs": [
        {
          "output_type": "stream",
          "name": "stdout",
          "text": [
            "카피, 혹은 아무 관련없는 오브젝트"
          ]
        }
      ],
      "source": [
        "test(a,b)"
      ],
      "id": "5d6ef4ad-cd90-4a5a-b2dd-1ab3e7b1f1e9"
    },
    {
      "cell_type": "markdown",
      "metadata": {},
      "source": [
        "## 결론\n",
        "\n",
        "`-` 우리가 사용했던 어떠한 것들이 뷰가 나올지 카피가 나올지 사실 잘\n",
        "모른다. (그래서 원리를 이해해도 대응할 방법이 사실없음)\n",
        "\n",
        "### 예시1"
      ],
      "id": "5bf9ca13-95ac-40f4-aea7-10d442787588"
    },
    {
      "cell_type": "code",
      "execution_count": 208,
      "metadata": {},
      "outputs": [],
      "source": [
        "a=np.array([1,2,3,4])\n",
        "b=a[:3]"
      ],
      "id": "261ec62b-664d-4163-977b-a0f5428a88d5"
    },
    {
      "cell_type": "code",
      "execution_count": 209,
      "metadata": {},
      "outputs": [],
      "source": [
        "a"
      ],
      "id": "d8eff61f-7c56-4f41-a4a0-81fc579f7d69"
    },
    {
      "cell_type": "code",
      "execution_count": 210,
      "metadata": {},
      "outputs": [],
      "source": [
        "b"
      ],
      "id": "598a91f8-2a82-402d-aa7a-8d4c21f8cd9a"
    },
    {
      "cell_type": "code",
      "execution_count": 211,
      "metadata": {},
      "outputs": [
        {
          "output_type": "stream",
          "name": "stdout",
          "text": [
            "뷰"
          ]
        }
      ],
      "source": [
        "test(a,b)"
      ],
      "id": "8286317b-9042-4cf3-a786-78c711b52d18"
    },
    {
      "cell_type": "code",
      "execution_count": 212,
      "metadata": {},
      "outputs": [],
      "source": [
        "c=a[[0,1,2]]\n",
        "c"
      ],
      "id": "20a02093-53e7-4838-a6ec-4f53c2cc38c2"
    },
    {
      "cell_type": "code",
      "execution_count": 213,
      "metadata": {},
      "outputs": [
        {
          "output_type": "stream",
          "name": "stdout",
          "text": [
            "카피, 혹은 아무 관련없는 오브젝트"
          ]
        }
      ],
      "source": [
        "test(a,c)"
      ],
      "id": "ac8c4ea5-93bf-456b-9c82-27d3dd477aa4"
    },
    {
      "cell_type": "code",
      "execution_count": 214,
      "metadata": {},
      "outputs": [],
      "source": [
        "d = a[3]"
      ],
      "id": "a09db5c7-9ac3-4bfe-9993-f0dfb125cf46"
    },
    {
      "cell_type": "code",
      "execution_count": 215,
      "metadata": {},
      "outputs": [
        {
          "output_type": "stream",
          "name": "stdout",
          "text": [
            "카피, 혹은 아무 관련없는 오브젝트"
          ]
        }
      ],
      "source": [
        "test(a,d)"
      ],
      "id": "8ecb5c06-890d-425c-bbc9-41522d9912c8"
    },
    {
      "cell_type": "markdown",
      "metadata": {},
      "source": [
        "### 예시2"
      ],
      "id": "4f3625b3-7c35-4b88-8d62-a1d8f4766f79"
    },
    {
      "cell_type": "code",
      "execution_count": 216,
      "metadata": {},
      "outputs": [],
      "source": [
        "a=np.array([[1,2],[3,4]])\n",
        "a"
      ],
      "id": "f9c62e35-07ed-4cde-b205-590097484f7b"
    },
    {
      "cell_type": "code",
      "execution_count": 217,
      "metadata": {},
      "outputs": [],
      "source": [
        "b=a.flatten()\n",
        "c=a.ravel()\n",
        "d=a.reshape(-1)"
      ],
      "id": "4ffa8af7-e25f-4441-afe3-f9da43e09df2"
    },
    {
      "cell_type": "code",
      "execution_count": 218,
      "metadata": {},
      "outputs": [
        {
          "output_type": "stream",
          "name": "stdout",
          "text": [
            "카피, 혹은 아무 관련없는 오브젝트"
          ]
        }
      ],
      "source": [
        "test(a,b)"
      ],
      "id": "eb2bdcf4-c7cf-4caf-a490-7d6415f54b46"
    },
    {
      "cell_type": "code",
      "execution_count": 219,
      "metadata": {},
      "outputs": [
        {
          "output_type": "stream",
          "name": "stdout",
          "text": [
            "뷰"
          ]
        }
      ],
      "source": [
        "test(a,c)"
      ],
      "id": "d91d8ddd-7ce5-4f81-8c23-dfa1b365ef8c"
    },
    {
      "cell_type": "code",
      "execution_count": 220,
      "metadata": {},
      "outputs": [
        {
          "output_type": "stream",
          "name": "stdout",
          "text": [
            "뷰"
          ]
        }
      ],
      "source": [
        "test(a,d)"
      ],
      "id": "8b833924-bdc6-4b84-8645-c7ec0cc41bbe"
    },
    {
      "cell_type": "code",
      "execution_count": 221,
      "metadata": {},
      "outputs": [
        {
          "output_type": "stream",
          "name": "stdout",
          "text": [
            "공통의 base를 가짐"
          ]
        }
      ],
      "source": [
        "test(c,d)"
      ],
      "id": "27607628-bae7-41c5-bef1-02043a848f97"
    },
    {
      "cell_type": "code",
      "execution_count": 222,
      "metadata": {},
      "outputs": [
        {
          "output_type": "stream",
          "name": "stdout",
          "text": [
            "카피, 혹은 아무 관련없는 오브젝트"
          ]
        }
      ],
      "source": [
        "test(b,c)"
      ],
      "id": "559aaad4-c578-4221-85b3-c439c9b5878e"
    }
  ],
  "nbformat": 4,
  "nbformat_minor": 5,
  "metadata": {
    "kernelspec": {
      "name": "python3",
      "display_name": "Python 3",
      "language": "python"
    },
    "language_info": {
      "name": "python",
      "codemirror_mode": {
        "name": "ipython",
        "version": "3"
      },
      "file_extension": ".py",
      "mimetype": "text/x-python",
      "nbconvert_exporter": "python",
      "pygments_lexer": "ipython3",
      "version": "3.8.0"
    }
  }
}