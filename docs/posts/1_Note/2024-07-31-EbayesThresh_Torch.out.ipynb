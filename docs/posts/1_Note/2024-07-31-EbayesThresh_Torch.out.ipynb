{
  "cells": [
    {
      "cell_type": "markdown",
      "metadata": {},
      "source": [
        "# EbayesThresh Torch\n",
        "\n",
        "SEOYEON CHOI  \n",
        "2024-07-31\n",
        "\n",
        "ref\n",
        "\n",
        "-   [R_ebayesthresh](https://cran.r-project.org/web/packages/EbayesThresh/EbayesThresh.pdf)\n",
        "-   [교수님\n",
        "    블로그](https://guebin.github.io/STML2022/posts/II.%20DNN/2022-10-12-6wk.html#%EC%8B%9C%EB%B2%A4%EC%BD%94%EC%A0%95%EB%A6%AC)\n",
        "\n",
        "# Import"
      ],
      "id": "a5740498-49c6-43e2-8640-f0c62f12ad9d"
    },
    {
      "cell_type": "code",
      "execution_count": 20,
      "metadata": {},
      "outputs": [],
      "source": [
        "import matplotlib.pyplot as plt\n",
        "import ebayesthresh_torch\n",
        "import torch"
      ],
      "id": "7b74dbea-662a-4ddf-b71f-b5ad0edf1778"
    },
    {
      "cell_type": "code",
      "execution_count": 2,
      "metadata": {},
      "outputs": [],
      "source": [
        "torch.set_printoptions(precision=15)"
      ],
      "id": "1fe09402-7ce3-430c-b8d9-7e47cedfc0e2"
    },
    {
      "cell_type": "markdown",
      "metadata": {},
      "source": [
        "## import for code check"
      ],
      "id": "058b695f-5d5c-4c71-8bd9-80d593f2b365"
    },
    {
      "cell_type": "code",
      "execution_count": 27,
      "metadata": {},
      "outputs": [],
      "source": [
        "from scipy.stats import norm"
      ],
      "id": "f3cdc0d8-dd47-41bc-b885-310cb7df3bab"
    },
    {
      "cell_type": "markdown",
      "metadata": {},
      "source": [
        "# beta.cauchy\n",
        "\n",
        "> Function beta for the quasi-Cauchy prior\n",
        "\n",
        "-   Description\n",
        "\n",
        "> Given a value or vector x of values, find the value(s) of the function\n",
        "> $\\beta(x) = g(x)/\\phi(x) − 1$, where $g$ is the convolution of the\n",
        "> quasi-Cauchy with the normal density $\\phi(x)$.\n",
        "\n",
        "*x가 입력되면 코시 분포와 정규 분포를 혼합해서 함수 베타 구하기*"
      ],
      "id": "8e1cba7d-2c9e-4331-a3c3-44e376aade41"
    },
    {
      "cell_type": "code",
      "execution_count": 73,
      "metadata": {},
      "outputs": [],
      "source": [
        "x = torch.tensor([-2.0,1.0,0.0,-4.0,8.0,50.0],dtype=torch.float64)\n",
        "x"
      ],
      "id": "6eda332f-56ae-45e3-83d0-60372bbb189d"
    },
    {
      "cell_type": "code",
      "execution_count": 74,
      "metadata": {},
      "outputs": [],
      "source": [
        "phix = torch.tensor(norm.pdf(x, loc=0, scale=1))\n",
        "phix"
      ],
      "id": "fc668167-7b42-4d5b-8df7-f59dc9cc6f50"
    },
    {
      "cell_type": "code",
      "execution_count": 75,
      "metadata": {},
      "outputs": [],
      "source": [
        "j = (x != 0)\n",
        "j"
      ],
      "id": "3ba12ffc-e05c-44c1-813b-31a0e035f2a1"
    },
    {
      "cell_type": "code",
      "execution_count": 76,
      "metadata": {},
      "outputs": [],
      "source": [
        "beta = x.clone()\n",
        "beta"
      ],
      "id": "c266f6ca-5fe4-44f5-95d7-5b784baee24b"
    },
    {
      "cell_type": "code",
      "execution_count": 77,
      "metadata": {},
      "outputs": [],
      "source": [
        "beta = torch.where(j == False, -1/2, beta)\n",
        "beta"
      ],
      "id": "a4f36c1f-c89b-47bb-90ab-b7ba218ae245"
    },
    {
      "cell_type": "code",
      "execution_count": 78,
      "metadata": {},
      "outputs": [],
      "source": [
        "beta[j] = (torch.tensor(norm.pdf(0, loc=0, scale=1)) / phix[j] - 1) / (x[j] ** 2) - 1\n",
        "beta"
      ],
      "id": "d64006bb-cfd1-4ef6-81db-fc0f3b4dfa6a"
    },
    {
      "cell_type": "code",
      "execution_count": 79,
      "metadata": {},
      "outputs": [],
      "source": [
        "beta"
      ],
      "id": "eae54078-b79b-47a5-b7a2-87d34b27ff48"
    },
    {
      "cell_type": "markdown",
      "metadata": {},
      "source": [
        "-   R code\n",
        "\n",
        "``` r\n",
        "beta.cauchy <- function(x) {\n",
        "#\n",
        "#   Find the function beta for the mixed normal prior with Cauchy\n",
        "#   tails.  It is assumed that the noise variance is equal to one.\n",
        "#\n",
        "    phix <- dnorm(x)\n",
        "    j <- (x != 0)\n",
        "    beta <- x\n",
        "    beta[!j] <- -1/2\n",
        "    beta[j] <- (dnorm(0)/phix[j] - 1)/x[j]^2 - 1\n",
        "    return(beta)\n",
        "}\n",
        "```\n",
        "\n",
        "**결과**\n",
        "\n",
        "-   Python"
      ],
      "id": "bed627c7-ff12-4e6f-9a07-12a4283b2bc2"
    },
    {
      "cell_type": "code",
      "execution_count": 1,
      "metadata": {},
      "outputs": [],
      "source": [
        "ebayesthresh_torch.beta_cauchy(torch.tensor([-2,1,0,-4,8,50]))"
      ],
      "id": "bb4b9c53-44e8-45a2-9eb9-abc205f9729e"
    },
    {
      "cell_type": "markdown",
      "metadata": {},
      "source": [
        "-   R\n",
        "\n",
        "``` r\n",
        "> beta.cauchy(c(-2,1,0,-4,8,50))\n",
        "[1]  5.972640e-01 -3.512787e-01 -5.000000e-01  1.852474e+02  1.233796e+12           Inf\n",
        "```\n",
        "\n",
        "# beta.laplace\n",
        "\n",
        "> Function beta for the Laplace prior\n",
        "\n",
        "-   Description\n",
        "\n",
        "> Given a single value or a vector of $x$ and $s$, find the value(s) of\n",
        "> the function $\\beta(x; s, a) = \\frac{g(x; s, a)}{f_n(x; 0, s)}−1$,\n",
        "> where $f_n(x; 0, s)$ is the normal density with mean $0$ and standard\n",
        "> deviation $s$, and $g$ is the convolution of the Laplace density with\n",
        "> scale parameter a, $γa(\\mu)$, with the normal density $f_n(x; µ, s)$\n",
        "> with mean mu and standard deviation $s$.\n",
        "\n",
        "*평균이 $\\mu$이며, 스케일 파라메터 a를 가진 라플라스와 정규분포의\n",
        "합성함수 $g$와 평균이 0이고 표준편차가s인 f로 계산되는 함수 베타*"
      ],
      "id": "f7f0a033-74be-42fc-9bc7-76730d1a4f3d"
    },
    {
      "cell_type": "code",
      "execution_count": 29,
      "metadata": {},
      "outputs": [],
      "source": [
        "x = torch.tensor([-2,1,0,-4,8,50])\n",
        "# x = torch.tensor([2.14])\n",
        "# s = 1\n",
        "s = torch.arange(1, 7)\n",
        "a = 0.5"
      ],
      "id": "231edf1b-c02e-4e9d-bbeb-084b7b5a168e"
    },
    {
      "cell_type": "markdown",
      "metadata": {},
      "source": [
        "-   s는 표준편차\n",
        "-   a는 Laplaxe prior모수, 이 값이 클수록 부포 모양이 뾰족해진다."
      ],
      "id": "cca4add8-c999-466f-bb19-80911c504374"
    },
    {
      "cell_type": "code",
      "execution_count": 30,
      "metadata": {},
      "outputs": [],
      "source": [
        "x = torch.abs(x)"
      ],
      "id": "a1babd46-c8f0-4575-b3c8-8661ce672520"
    },
    {
      "cell_type": "code",
      "execution_count": 35,
      "metadata": {},
      "outputs": [],
      "source": [
        "xpa = x / s + s * a\n",
        "xpa"
      ],
      "id": "37c2e5bd-81aa-4365-9019-40d08310229a"
    },
    {
      "cell_type": "code",
      "execution_count": 36,
      "metadata": {},
      "outputs": [],
      "source": [
        "xma = x / s - s * a\n",
        "xma"
      ],
      "id": "3968f7d1-fc01-476e-b944-c8e231bdf91b"
    },
    {
      "cell_type": "code",
      "execution_count": 37,
      "metadata": {},
      "outputs": [
        {
          "output_type": "stream",
          "name": "stderr",
          "text": [
            "UserWarning: To copy construct from a tensor, it is recommended to use sourceTensor.clone().detach() or sourceTensor.clone().detach().requires_grad_(True), rather than torch.tensor(sourceTensor).\n",
            "  rat1 = torch.tensor(1 / xpa, dtype=torch.float64)"
          ]
        }
      ],
      "source": [
        "rat1 = torch.tensor(1 / xpa, dtype=torch.float64)\n",
        "rat1"
      ],
      "id": "5710c404-5861-4a00-a1ce-10d12b47be56"
    },
    {
      "cell_type": "code",
      "execution_count": 38,
      "metadata": {},
      "outputs": [],
      "source": [
        "rat1[xpa < 35] = torch.tensor(norm.cdf(-xpa[xpa < 35], loc=0, scale=1) / norm.pdf(xpa[xpa < 35], loc=0, scale=1))\n",
        "rat1"
      ],
      "id": "208574c0-82c0-4fc2-a95a-38cc2b754c9a"
    },
    {
      "cell_type": "code",
      "execution_count": 39,
      "metadata": {},
      "outputs": [
        {
          "output_type": "stream",
          "name": "stderr",
          "text": [
            "UserWarning: To copy construct from a tensor, it is recommended to use sourceTensor.clone().detach() or sourceTensor.clone().detach().requires_grad_(True), rather than torch.tensor(sourceTensor).\n",
            "  rat2 = torch.tensor(1 / torch.abs(xma), dtype=torch.float64)"
          ]
        }
      ],
      "source": [
        "rat2 = torch.tensor(1 / torch.abs(xma), dtype=torch.float64)\n",
        "rat2"
      ],
      "id": "ba2da327-d276-4095-80fb-6a5a3889b065"
    },
    {
      "cell_type": "code",
      "execution_count": 40,
      "metadata": {},
      "outputs": [],
      "source": [
        "xma = torch.where(xma > 35, torch.tensor(35.0), xma)\n",
        "xma"
      ],
      "id": "3b5739ac-66c0-4c39-a573-0adae5b68942"
    },
    {
      "cell_type": "code",
      "execution_count": 41,
      "metadata": {},
      "outputs": [],
      "source": [
        "rat2[xma > -35] = torch.tensor(norm.cdf(xma[xma > -35], loc=0, scale=1) / norm.pdf(xma[xma > -35], loc=0, scale=1))\n",
        "rat2"
      ],
      "id": "937fcc63-4dcd-4f69-8a7d-43f5a9b3be77"
    },
    {
      "cell_type": "code",
      "execution_count": 42,
      "metadata": {},
      "outputs": [],
      "source": [
        "beta = (a * s) / 2 * (rat1 + rat2) - 1\n",
        "beta"
      ],
      "id": "c92d8331-7aec-446d-a148-c0e89b610e13"
    },
    {
      "cell_type": "markdown",
      "metadata": {},
      "source": [
        "-   R code\n",
        "\n",
        "``` r\n",
        "beta.laplace <- function(x, s = 1, a = 0.5) {\n",
        "#\n",
        "#  The function beta for the Laplace prior given parameter a and s (sd)\n",
        "#\n",
        "    x <- abs(x)\n",
        "    xpa <- x/s + s*a\n",
        "    xma <- x/s - s*a\n",
        "    rat1 <- 1/xpa\n",
        "    rat1[xpa < 35] <- pnorm( - xpa[xpa < 35])/dnorm(xpa[xpa < 35])\n",
        "    rat2 <- 1/abs(xma)\n",
        "    xma[xma > 35] <- 35\n",
        "    rat2[xma > -35] <- pnorm(xma[xma > -35])/dnorm(xma[xma > -35])\n",
        "    beta <- (a * s) / 2 * (rat1 + rat2) - 1\n",
        "    return(beta)\n",
        "}\n",
        "```\n",
        "\n",
        "**결과**\n",
        "\n",
        "-   Python"
      ],
      "id": "5be5a0ea-c0f2-4d23-b197-e80e35f9c6cf"
    },
    {
      "cell_type": "code",
      "execution_count": 43,
      "metadata": {},
      "outputs": [],
      "source": [
        "ebayesthresh_torch.beta_laplace(torch.tensor([-2,1,0,-4,8,50]),s=1)"
      ],
      "id": "bb7f3af1-e452-4b76-ab27-56d9c1c2c5a8"
    },
    {
      "cell_type": "code",
      "execution_count": 44,
      "metadata": {},
      "outputs": [],
      "source": [
        "ebayesthresh_torch.beta_laplace(torch.tensor([-2.0]),s=1,a=0.5)"
      ],
      "id": "ab955f9b-2802-4199-9db5-2f9ee57a4cb7"
    },
    {
      "cell_type": "code",
      "execution_count": 46,
      "metadata": {},
      "outputs": [],
      "source": [
        "ebayesthresh_torch.beta_laplace(torch.tensor([-2,1,0,-4,8,50]),s=torch.arange(1, 7),a = 1)"
      ],
      "id": "032868a9-2856-4554-89af-3d63a0a30d85"
    },
    {
      "cell_type": "markdown",
      "metadata": {},
      "source": [
        "-   R\n",
        "\n",
        "``` r\n",
        "> beta.laplace(c(-2,1,0,-4,8,50), s=1)\n",
        "[1]   8.898520e-01  -3.800417e-01  -5.618178e-01   2.854595e+02   1.026981e+12  6.344540e+265\n",
        "> beta.laplace(-2, s=1, a=0.5)\n",
        "[1] 0.889852\n",
        "> beta.laplace(c(-2,1,0,-4,8,50), s=1:6, a=1)\n",
        "[1]   0.890821055  -0.129919250  -0.086229104  -0.005203193   0.054213718 112.493576777\n",
        "```\n",
        "\n",
        "# cauchy_medzero\n",
        "\n",
        "> the objective function that has to be zeroed, component by component,\n",
        "> to find the posterior median when the quasi-Cauchy prior is used. x is\n",
        "> the parameter vector, z is the data vector, w is the weight x and z\n",
        "> may be scalars\n",
        "\n",
        "-   quasi-Cauchy prior에서 사후 중앙값 찾기 위한 함수\n",
        "-   x,z는 벡터일수도 있고, 스칼라일 수 도 있다."
      ],
      "id": "bfa94deb-1bbc-430b-9442-7629775ab58d"
    },
    {
      "cell_type": "code",
      "execution_count": 9,
      "metadata": {},
      "outputs": [],
      "source": [
        "x =  torch.tensor([-2,1,0,-4,8,50])\n",
        "# x = torch.tensor(4)\n",
        "z =  torch.tensor([1,0,2,3,-1,-1])\n",
        "# z = torch.tensor(5)\n",
        "w = torch.tensor(0.5)"
      ],
      "id": "110b1f7b-25e8-4439-b088-769895d8782c"
    },
    {
      "cell_type": "code",
      "execution_count": 10,
      "metadata": {},
      "outputs": [],
      "source": [
        "hh = z - x\n",
        "hh"
      ],
      "id": "54e20a49-11c3-47f5-9445-8dd770805f20"
    },
    {
      "cell_type": "code",
      "execution_count": 11,
      "metadata": {},
      "outputs": [],
      "source": [
        "dnhh = torch.tensor(norm.pdf(hh, loc=0, scale=1))\n",
        "dnhh"
      ],
      "id": "a5a8b009-9314-4172-998c-a556c360699a"
    },
    {
      "cell_type": "code",
      "execution_count": 13,
      "metadata": {},
      "outputs": [],
      "source": [
        "norm.cdf(hh, loc=0, scale=1)"
      ],
      "id": "2033cd95-bf8c-43e6-af87-8a93e5a14918"
    },
    {
      "cell_type": "code",
      "execution_count": 14,
      "metadata": {},
      "outputs": [],
      "source": [
        "yleft = torch.tensor(norm.cdf(hh, loc=0, scale=1)) - z * dnhh + ((z * x - 1) * dnhh * torch.tensor(norm.cdf(-x, loc=0, scale=1) )) / torch.tensor(norm.pdf(x, loc=0, scale=1))\n",
        "yleft"
      ],
      "id": "bb79c58a-1aeb-440c-ba8c-bee5d7ad70cf"
    },
    {
      "cell_type": "code",
      "execution_count": 15,
      "metadata": {},
      "outputs": [],
      "source": [
        "yright2 = 1 + torch.exp(-z**2 / 2) * (z**2 * (1/w - 1) - 1)\n",
        "yright2"
      ],
      "id": "4db8a9db-3bd4-4b42-b93a-1a538efdcac0"
    },
    {
      "cell_type": "code",
      "execution_count": 16,
      "metadata": {},
      "outputs": [],
      "source": [
        "yright2 / 2 - yleft"
      ],
      "id": "f33f3337-989a-4d7c-b3c0-4ee15d0f0653"
    },
    {
      "cell_type": "markdown",
      "metadata": {},
      "source": [
        "-   R코드\n",
        "\n",
        "``` r\n",
        "cauchy.medzero <- function(x, z, w) {\n",
        "#    \n",
        "# the objective function that has to be zeroed, component by\n",
        "# component, to find the posterior median when the quasi-Cauchy prior\n",
        "# is used.  x is the parameter vector, z is the data vector, w is the\n",
        "# weight x and z may be scalars\n",
        "#\n",
        "    hh <- z - x\n",
        "    dnhh <- dnorm(hh)\n",
        "    yleft <- pnorm(hh) - z * dnhh + ((z * x - 1) * dnhh * pnorm( - x))/\n",
        "        dnorm(x)\n",
        "    yright2 <- 1 + exp( - z^2/2) * (z^2 * (1/w - 1) - 1)\n",
        "    return(yright2/2 - yleft)\n",
        "}\n",
        "```\n",
        "\n",
        "**결과**\n",
        "\n",
        "-   Python\n",
        "    -   벡터, 스칼라일때 가능한지 확인"
      ],
      "id": "dafa43ca-305f-4062-ad02-409e8db24f0c"
    },
    {
      "cell_type": "code",
      "execution_count": 3,
      "metadata": {},
      "outputs": [],
      "source": [
        "ebayesthresh_torch.cauchy_medzero(torch.tensor([-2,1,0,-4,8,50]),torch.tensor([1,0,2,3,-1,-1]),0.5)"
      ],
      "id": "33c5dc9e-402b-4973-af51-f7e503a389a6"
    },
    {
      "cell_type": "code",
      "execution_count": 4,
      "metadata": {},
      "outputs": [],
      "source": [
        "ebayesthresh_torch.cauchy_medzero(torch.tensor(4),torch.tensor(5),torch.tensor(0.5))"
      ],
      "id": "b0033926-f009-4149-8701-c52b1a4fe29a"
    },
    {
      "cell_type": "markdown",
      "metadata": {},
      "source": [
        "-   R\n",
        "\n",
        "``` r\n",
        "> cauchy.medzero(c(-2,1,0,-4,8,50),c(1,0,2,3,-1,-1),0.5)\n",
        "[1] -0.25356559  0.00000000 -0.09859737 -0.45556313  0.50000000         NaN\n",
        "> cauchy.medzero(4,5,0.5)\n",
        "[1] -0.2194424\n",
        "```\n",
        "\n",
        "# cauchy_threshzero\n",
        "\n",
        "-   cauchy 임계값 찾기 위한 것\n",
        "-   아래에서 반환되는 y가 0에 가깝도록 만들어주는 z를 찾는 과정"
      ],
      "id": "7128242f-0ff1-4150-b87b-65adee0f2cba"
    },
    {
      "cell_type": "code",
      "execution_count": 9,
      "metadata": {},
      "outputs": [],
      "source": [
        "z = torch.tensor([1,0,2,3,-1,-1])\n",
        "# z = 0\n",
        "# w = 0.5\n",
        "w = torch.tensor([0.5,0.4,0.3,0.2,0,0.1])"
      ],
      "id": "36371433-adf0-4635-9714-e244292d1e13"
    },
    {
      "cell_type": "code",
      "execution_count": 10,
      "metadata": {},
      "outputs": [],
      "source": [
        "y = (torch.tensor(norm.cdf(z, loc=0, scale=1)) - z * torch.tensor(norm.pdf(z, loc=0, scale=1)) - 0.5 - (z**2 * torch.exp(-z**2 / 2) * (1/w - 1)) / 2)\n",
        "y"
      ],
      "id": "4c60ce1b-e559-4fe9-b259-ab75997ba62c"
    },
    {
      "cell_type": "markdown",
      "metadata": {},
      "source": [
        "-   R 코드\n",
        "\n",
        "``` r\n",
        "cauchy.threshzero <- function(z, w) {\n",
        "#    \n",
        "# The objective function that has to be zeroed to find the Cauchy\n",
        "# threshold. z is the putative threshold vector, w is the weight w\n",
        "# can be a vector\n",
        "#\n",
        "    y <- pnorm(z) - z * dnorm(z) - 1/2 -\n",
        "         (z^2 * exp( - z^2/2) * (1/w - 1))/2\n",
        "    return(y)\n",
        "}\n",
        "```\n",
        "\n",
        "**결과**\n",
        "\n",
        "-   Python"
      ],
      "id": "c053d652-ef60-449b-958f-f7c9a0cf5934"
    },
    {
      "cell_type": "code",
      "execution_count": 3,
      "metadata": {},
      "outputs": [],
      "source": [
        "ebayesthresh_torch.cauchy_threshzero(torch.tensor([1,0,2,3,-1,-1]),0.5)"
      ],
      "id": "5096b23d-3dac-4a36-968b-ac979e3a9b9c"
    },
    {
      "cell_type": "code",
      "execution_count": 4,
      "metadata": {},
      "outputs": [],
      "source": [
        "ebayesthresh_torch.cauchy_threshzero(torch.tensor([1,0,2,3,-1,-1]),torch.tensor([0.5,0.4,0.3,0.2,0,0.1]))"
      ],
      "id": "8760aa06-b8c9-416e-9f54-6ab88be1496e"
    },
    {
      "cell_type": "markdown",
      "metadata": {},
      "source": [
        "-   R\n",
        "\n",
        "``` r\n",
        "> cauchy.threshzero(c(1,0,2,3,-1,-1),0.5)\n",
        "[1] -0.20389131  0.00000000  0.09859737  0.43536407 -0.40263935 -0.40263935\n",
        "cauchy.threshzero(c(1,0,2,3,-1,-1), c(0.5,0.4,0.3,0.2,0,0.1))\n",
        "[1] -0.2038913  0.0000000 -0.2622967  0.2853926       -Inf -2.8287620\n",
        "```\n",
        "\n",
        "# ebayesthresh"
      ],
      "id": "5dd99d41-ca85-4739-b3a2-d7369ca1077f"
    },
    {
      "cell_type": "code",
      "execution_count": 2,
      "metadata": {},
      "outputs": [],
      "source": [
        "x = np.concatenate([np.random.normal(0, 1, 90), np.random.normal(5, 1, 10)])\n",
        "sdev = 1\n",
        "prior=\"laplace\"\n",
        "a=0.5\n",
        "bayesfac=False\n",
        "verbose=False\n",
        "threshrule=\"median\"\n",
        "universalthresh=True\n",
        "stabadjustment=None"
      ],
      "id": "c1c750ca-c019-4374-9cd7-e488433cd744"
    },
    {
      "cell_type": "code",
      "execution_count": 3,
      "metadata": {},
      "outputs": [],
      "source": [
        "pr = prior[0:1]\n",
        "pr"
      ],
      "id": "dec7ed08-f20b-46d0-832d-929bddc4c829"
    },
    {
      "cell_type": "code",
      "execution_count": 45,
      "metadata": {},
      "outputs": [],
      "source": [
        "if sdev is None:\n",
        "    sdev = ebayesthresh.mad(x, center=0)\n",
        "    stabadjustment_condition = True\n",
        "elif len(np.atleast_1d(sdev)) == 1:\n",
        "    if stabadjustment is not None:\n",
        "        raise ValueError(\"Argument stabadjustment is not applicable when variances are homogeneous.\")\n",
        "    if np.isnan(sdev):\n",
        "        sdev = ebayesthresh.mad(x, center=0)\n",
        "    stabadjustment_condition = True\n",
        "else:\n",
        "    if pr == \"c\":\n",
        "        raise ValueError(\"Standard deviation has to be homogeneous for Cauchy prior.\")\n",
        "    if len(sdev) != len(x):\n",
        "        raise ValueError(\"Standard deviation has to be homogeneous or have the same length as observations.\")\n",
        "    if stabadjustment is None:\n",
        "        stabadjustment = False\n",
        "    stabadjustment_condition = stabadjustment"
      ],
      "id": "7d50fd50-79b4-4d62-8109-e09b21787032"
    },
    {
      "cell_type": "code",
      "execution_count": 46,
      "metadata": {},
      "outputs": [],
      "source": [
        "stabadjustment_condition"
      ],
      "id": "3cbaccb8-c63c-4b4c-9a1d-fb418681b434"
    },
    {
      "cell_type": "code",
      "execution_count": 47,
      "metadata": {},
      "outputs": [],
      "source": [
        "if stabadjustment_condition:\n",
        "    m_sdev = np.mean(sdev)\n",
        "    s = sdev / m_sdev\n",
        "    x = x / m_sdev\n",
        "else:\n",
        "    s = sdev"
      ],
      "id": "6cd4a734-6581-478c-9389-4591e99b70d6"
    },
    {
      "cell_type": "code",
      "execution_count": 48,
      "metadata": {},
      "outputs": [],
      "source": [
        "a"
      ],
      "id": "33cdfff2-dd41-43da-b0a4-ad00a6378438"
    },
    {
      "cell_type": "code",
      "execution_count": 49,
      "metadata": {},
      "outputs": [],
      "source": [
        "if (pr == \"l\") and np.isnan(a):\n",
        "    pp = ebayesthresh.wandafromx(x, s, universalthresh)\n",
        "    w = pp['w']\n",
        "    a = pp['a']\n",
        "else:\n",
        "    w = ebayesthresh.wfromx(x, s, prior=prior, a=a, universalthresh=universalthresh)"
      ],
      "id": "bc073fcc-e844-47a5-8e2b-390e6a0431f4"
    },
    {
      "cell_type": "code",
      "execution_count": 50,
      "metadata": {},
      "outputs": [],
      "source": [
        "w"
      ],
      "id": "b7efd6b1-d527-47ff-be1d-8135d96271b4"
    },
    {
      "cell_type": "code",
      "execution_count": 51,
      "metadata": {},
      "outputs": [],
      "source": [
        "a"
      ],
      "id": "368eb6b2-5c11-44cc-8f35-5698d3553c8b"
    },
    {
      "cell_type": "code",
      "execution_count": 52,
      "metadata": {},
      "outputs": [],
      "source": [
        "s"
      ],
      "id": "b5bd6d78-5c90-4e74-9ff1-518b9c1ade2e"
    },
    {
      "cell_type": "code",
      "execution_count": 53,
      "metadata": {},
      "outputs": [],
      "source": [
        "if pr != \"m\" or verbose:\n",
        "    tt = ebayesthresh.tfromw(w, s, prior=prior, bayesfac=bayesfac, a=a)[0]\n",
        "    if stabadjustment_condition:\n",
        "        tcor = tt * m_sdev\n",
        "    else:\n",
        "        tcor = tt"
      ],
      "id": "b771d6ca-8b27-4096-a55d-39e750aa32cb"
    },
    {
      "cell_type": "code",
      "execution_count": 54,
      "metadata": {},
      "outputs": [],
      "source": [
        "if threshrule == \"median\":\n",
        "    muhat = ebayesthresh.postmed(x, s, w, prior=prior, a=a)\n",
        "elif threshrule == \"mean\":\n",
        "    muhat = ebayesthresh.postmean(x, s, w, prior=prior, a=a)\n",
        "elif threshrule == \"hard\":\n",
        "    muhat = ebayesthresh.threshld(x, tt)\n",
        "elif threshrule == \"soft\":\n",
        "    muhat = ebayesthresh.threshld(x, tt, hard=False)\n",
        "elif threshrule == \"none\":\n",
        "    muhat = None\n",
        "else:\n",
        "    raise ValueError(f\"Unknown threshold rule: {threshrule}\")"
      ],
      "id": "f89246d9-fae4-4b09-9d21-ddfcffc8c205"
    },
    {
      "cell_type": "code",
      "execution_count": 55,
      "metadata": {},
      "outputs": [],
      "source": [
        "muhat"
      ],
      "id": "9995f6bf-1e89-4391-9951-b6f345cb5bfa"
    },
    {
      "cell_type": "code",
      "execution_count": 56,
      "metadata": {},
      "outputs": [],
      "source": [
        "if stabadjustment_condition:\n",
        "    muhat = muhat * m_sdev"
      ],
      "id": "bb7976e6-6a25-4bfd-a03f-2f3ad34d2b88"
    },
    {
      "cell_type": "code",
      "execution_count": 57,
      "metadata": {},
      "outputs": [],
      "source": [
        "muhat"
      ],
      "id": "4f829f40-61e9-4190-9611-af03923a2c41"
    },
    {
      "cell_type": "code",
      "execution_count": 58,
      "metadata": {},
      "outputs": [],
      "source": [
        "if not verbose:\n",
        "    muhat\n",
        "else:\n",
        "    retlist = {\n",
        "        'muhat': muhat,\n",
        "        'x': x,\n",
        "        'threshold.sdevscale': tt,\n",
        "        'threshold.origscale': tcor,\n",
        "        'prior': prior,\n",
        "        'w': w,\n",
        "        'a': a,\n",
        "        'bayesfac': bayesfac,\n",
        "        'sdev': sdev,\n",
        "        'threshrule': threshrule\n",
        "    }\n",
        "    if pr == \"c\":\n",
        "        del retlist['a']\n",
        "    if threshrule == \"none\":\n",
        "        del retlist['muhat']\n",
        "    retlist"
      ],
      "id": "901491d0-4d0e-4e87-a68d-432dfa56ea54"
    },
    {
      "cell_type": "markdown",
      "metadata": {},
      "source": [
        "R코드\n",
        "\n",
        "``` r\n",
        "ebayesthresh <- function (x, prior = \"laplace\", a = 0.5, bayesfac = FALSE,\n",
        "                          sdev = NA, verbose = FALSE, threshrule = \"median\",\n",
        "                          universalthresh = TRUE, stabadjustment) {\n",
        "#  \n",
        "#  Given a vector of data x, find the marginal maximum likelihood\n",
        "#  estimator of the mixing weight w, and apply an appropriate\n",
        "#  thresholding rule using this weight.\n",
        "#\n",
        "#  If the prior is laplace and a=NA, then the inverse scale parameter\n",
        "#  is also found by MML.\n",
        "#\n",
        "#  Standard deviation sdev can be a vector (heterogeneous variance) or\n",
        "#  a single value (homogeneous variance). If sdev=NA, then it is\n",
        "#  estimated using the function mad(x). Heterogeneous variance is\n",
        "#  allowed only for laplace prior currently.\n",
        "#    \n",
        "#  The thresholding rules allowed are \"median\", \"mean\", \"hard\", \"soft\"\n",
        "#  and \"none\"; if \"none\" is used, then only the parameters are worked\n",
        "#  out.\n",
        "#\n",
        "#  If hard or soft thresholding is used, the argument \"bayesfac\"\n",
        "#  specifies whether to use the bayes factor threshold or the\n",
        "#  posterior median threshold.\n",
        "#    \n",
        "#  If universalthresh=TRUE, the thresholds will be upper bounded by\n",
        "#  universal threshold adjusted by standard deviation; otherwise,\n",
        "#  weight w will be searched in [0, 1].\n",
        "#    \n",
        "#  If stabadjustment=TRUE, the observations and standard deviations\n",
        "#  will be first divided by the mean of all given standard deviations\n",
        "#  in case of inefficiency due to large value of standard\n",
        "#  deviation. In the case of homogeneous variance, the standard\n",
        "#  deviations will be normalized to 1 automatically.\n",
        "#\n",
        "#  If verbose=TRUE then the routine returns a list with several\n",
        "#  arguments, including muhat which is the result of the\n",
        "#  thresholding. If verbose=FALSE then only muhat is returned.\n",
        "#\n",
        "    \n",
        "  # Find the standard deviation if necessary and estimate the parameters\n",
        "  pr <- substring(prior, 1, 1)\n",
        "\n",
        "  if(length(sdev) == 1) {\n",
        "      if(!missing(stabadjustment))\n",
        "        stop(paste(\"Argument stabadjustment is not applicable when\",\n",
        "                   \"variances are homogeneous.\"))\n",
        "      if(is.na(sdev)) {\n",
        "          sdev <- mad(x, center = 0)\n",
        "      }\n",
        "      stabadjustment_condition = TRUE\n",
        "  } else{\n",
        "    if(pr == \"c\")\n",
        "      stop(\"Standard deviation has to be homogeneous for Cauchy prior.\")\n",
        "    if(length(sdev) != length(x))\n",
        "      stop(paste(\"Standard deviation has to be homogeneous or has the\",\n",
        "                 \"same length as observations.\"))\n",
        "    if(missing(stabadjustment))\n",
        "      stabadjustment <- FALSE\n",
        "    stabadjustment_condition = stabadjustment\n",
        "  }\n",
        "  \n",
        "  if (stabadjustment_condition) {\n",
        "    m_sdev <- mean(sdev)\n",
        "    s <- sdev/m_sdev\n",
        "    x <- x/m_sdev\n",
        "  } else { s <- sdev }\n",
        "  \n",
        "    if ((pr == \"l\") & is.na(a)) {\n",
        "      pp <- wandafromx(x, s, universalthresh)\n",
        "          w  <- pp$w\n",
        "          a  <- pp$a\n",
        "    }\n",
        "    else\n",
        "          w <- wfromx(x, s, prior = prior, a = a, universalthresh)\n",
        "    if(pr != \"m\" | verbose) {\n",
        "      tt <- tfromw(w, s, prior = prior, bayesfac = bayesfac, a = a)\n",
        "      if(stabadjustment_condition) {\n",
        "        tcor <- tt * m_sdev\n",
        "          } else {\n",
        "            tcor <- tt\n",
        "          }\n",
        "    }\n",
        "    if(threshrule == \"median\")\n",
        "        muhat <- postmed(x, s, w, prior = prior, a = a)\n",
        "    if(threshrule == \"mean\")\n",
        "    muhat <- postmean(x, s, w, prior = prior, a = a)\n",
        "    if(threshrule == \"hard\")\n",
        "        muhat <- threshld(x, tt)\n",
        "    if(threshrule == \"soft\")\n",
        "        muhat <- threshld(x, tt, hard = FALSE)\n",
        "        if(threshrule == \"none\")\n",
        "                muhat <- NA\n",
        "\n",
        "    # Now return desired output\n",
        "    if(stabadjustment_condition) {\n",
        "      muhat <- muhat * m_sdev\n",
        "    }\n",
        "    if(!verbose)\n",
        "            return(muhat)\n",
        "    retlist <- list(muhat = muhat, x = x, threshold.sdevscale = tt, \n",
        "                        threshold.origscale = tcor, prior = prior, w = w,\n",
        "                        a = a, bayesfac = bayesfac, sdev = sdev,\n",
        "                        threshrule = threshrule)\n",
        "    if(pr == \"c\")\n",
        "        retlist <- retlist[-7]\n",
        "    if(threshrule == \"none\")\n",
        "        retlist <- retlist[-1]\n",
        "    return(retlist)\n",
        "}\n",
        "```\n",
        "\n",
        "결과\n",
        "\n",
        "-   Python"
      ],
      "id": "d4d577c4-8a09-4fab-b025-1bbe6691a395"
    },
    {
      "cell_type": "code",
      "execution_count": 5,
      "metadata": {},
      "outputs": [],
      "source": [
        "ebayesthresh.ebayesthresh(x=np.concatenate([np.random.normal(0, 1, 90), np.random.normal(5, 1, 10)]), sdev = 1)"
      ],
      "id": "dd53fa2b-eeb8-4be6-ad1b-379fbe0c0657"
    },
    {
      "cell_type": "markdown",
      "metadata": {},
      "source": [
        "-   R\n",
        "\n",
        "``` r\n",
        "> ebayesthresh(x = rnorm(100, c(rep(0,90), rep(5,10))),\n",
        "+              prior = \"laplace\", sdev = 1)\n",
        "  [1]  0.0000000  0.0000000  0.0000000  0.0000000  0.0000000  0.0000000  0.0000000  0.0000000  0.0000000  0.0000000  0.0000000  0.0000000  0.0000000  0.0000000\n",
        " [15]  0.0000000  0.0000000  0.0000000  0.0000000  0.0000000  0.0000000  0.0000000  0.0000000  0.0000000  0.0000000  0.0000000  0.0000000  0.0000000  0.0000000\n",
        " [29]  0.0000000  0.0000000  0.0000000  0.0000000  0.0000000  0.0000000  0.0000000  0.0000000  0.0000000  0.0000000  0.0000000  0.0000000  0.0000000  0.0000000\n",
        " [43]  0.0000000  0.0000000  0.0000000  0.0000000  0.0000000  0.0000000  0.0000000  0.0000000  0.0000000  0.0000000  0.0000000  0.0000000  0.0000000  0.0000000\n",
        " [57]  0.0000000  0.0000000  0.0000000  0.0000000  0.0000000  0.0000000  0.0000000  0.0000000  0.0000000  0.0000000  0.0000000  0.0000000  0.0000000  0.0000000\n",
        " [71]  0.0000000  0.0000000  0.0000000  0.0000000  0.0000000  0.0000000  0.0000000  0.0000000  0.0000000  0.0000000  0.0000000  0.0000000  0.0000000 -0.4480064\n",
        " [85]  0.0000000  0.0000000  0.0000000  0.0000000  0.0000000  0.0000000  5.1534865  6.2732386  4.4612851  5.9931848  4.5828731  4.6154038  4.8247775  3.6219544\n",
        " [99]  4.4480080  5.4084453\n",
        "```\n",
        "\n",
        "# ebayesthresh.wavelet\n",
        "\n",
        "R코드\n",
        "\n",
        "``` r\n",
        "ebayesthresh.wavelet <-\n",
        "  function (xtr, vscale = \"independent\", smooth.levels = Inf,\n",
        "            prior = \"laplace\", a = 0.5, bayesfac = FALSE,\n",
        "            threshrule = \"median\") {\n",
        "    xcl <- class(xtr)\n",
        "    if (class(xcl) == \"dwt \" && length(xcl) > 1) {\n",
        "            xtr <- ebayesthresh.wavelet.splus(xtr, vscale, smooth.levels,\n",
        "                                              prior, a, bayesfac, threshrule)\n",
        "            return(xtr)\n",
        "        }\n",
        "    if (xcl == \"wd\") {\n",
        "            xtr <- ebayesthresh.wavelet.wd(xtr, vscale, smooth.levels, prior,\n",
        "                                           a, bayesfac, threshrule)\n",
        "            return(xtr)\n",
        "        }\n",
        "        if (xcl == \"dwt\" || xcl==\"modwt\") {\n",
        "            xtr <- ebayesthresh.wavelet.dwt(xtr, vscale, smooth.levels,\n",
        "                                            prior, a, bayesfac, threshrule)\n",
        "            return(xtr)\n",
        "        }\n",
        "    stop(\"Unknown wavelet transform type; no smoothing performed\")\n",
        "    return(xtr)\n",
        "}\n",
        "```\n",
        "\n",
        "결과\n",
        "\n",
        "-   Python\n",
        "\n",
        "-   R\n",
        "\n",
        "``` r\n",
        "```\n",
        "\n",
        "# ebayesthresh.wavelet.dwt"
      ],
      "id": "51c30a48-acf3-433e-8e3c-2b5ea3241328"
    },
    {
      "cell_type": "code",
      "execution_count": 12,
      "metadata": {},
      "outputs": [],
      "source": [
        "data = np.concatenate([np.random.normal(0, 1, 90), np.random.normal(5, 1, 10)])\n",
        "n = len(data)\n",
        "level1 = data[::2] - data[1::2]\n",
        "level2 = level1[::2] - level1[1::2]\n",
        "approximation = level2[::2] + level2[::2]\n",
        "\n",
        "# Create a list of wavelet coefficients for each level\n",
        "x_dwt = [approximation, level2, level1]\n",
        "x_dwt"
      ],
      "id": "19033606-66db-4d10-be59-7d75cc20b343"
    },
    {
      "cell_type": "code",
      "execution_count": 13,
      "metadata": {},
      "outputs": [],
      "source": [
        "# x_dwt\n",
        "vscale=\"independent\"\n",
        "smooth_levels=float('inf')\n",
        "prior=\"laplace\"\n",
        "a=0.5\n",
        "bayesfac=False,\n",
        "threshrule=\"median\""
      ],
      "id": "31216e61-8ce2-4a49-8316-6de2f1db52be"
    },
    {
      "cell_type": "code",
      "execution_count": 7,
      "metadata": {},
      "outputs": [],
      "source": [
        "nlevs = len(x_dwt) - 1\n",
        "nlevs"
      ],
      "id": "186435c3-b17d-40dc-be86-b14c2c0192d7"
    },
    {
      "cell_type": "code",
      "execution_count": 8,
      "metadata": {},
      "outputs": [],
      "source": [
        "slevs = min(nlevs, smooth_levels)\n",
        "slevs"
      ],
      "id": "d2714f03-32e9-4e1b-a76e-fb922e3641a1"
    },
    {
      "cell_type": "code",
      "execution_count": 18,
      "metadata": {},
      "outputs": [],
      "source": [
        "if isinstance(vscale, str):\n",
        "    vs = vscale[0].lower()\n",
        "    if vs == \"i\":\n",
        "        vscale = ebayesthresh.mad(x_dwt[0], center=0)\n",
        "    if vs == \"l\":\n",
        "        vscale = None"
      ],
      "id": "22bc297a-8f78-4b7b-abe6-251902c7018d"
    },
    {
      "cell_type": "code",
      "execution_count": 23,
      "metadata": {},
      "outputs": [
        {
          "output_type": "stream",
          "name": "stdout",
          "text": [
            "Unexpected exception formatting exception. Falling back to standard exception"
          ]
        },
        {
          "output_type": "stream",
          "name": "stderr",
          "text": [
            "Traceback (most recent call last):\n",
            "  File \"/home/csy/anaconda3/envs/temp_csy/lib/python3.8/site-packages/IPython/core/interactiveshell.py\", line 3398, in run_code\n",
            "    exec(code_obj, self.user_global_ns, self.user_ns)\n",
            "  File \"<ipython-input-23-7fc60b3f848b>\", line 2, in <cell line: 1>\n",
            "    x_dwt[j] = EbayesThresh.ebayesthresh(x_dwt[j], prior=prior, a=a, bayesfac=bayesfac,\n",
            "  File \"/home/csy/Dropbox/sy_hub/posts/1_Note/EbayesThresh/utils.py\", line 100, in ebayesthresh\n",
            "    tt = tfromw(w, s, prior=prior, bayesfac=bayesfac, a=a)[0]\n",
            "  File \"/home/csy/Dropbox/sy_hub/posts/1_Note/EbayesThresh/utils.py\", line 713, in tfromw\n",
            "TypeError: object of type 'numpy.float64' has no len()\n",
            "\n",
            "During handling of the above exception, another exception occurred:\n",
            "\n",
            "Traceback (most recent call last):\n",
            "  File \"/home/csy/anaconda3/envs/temp_csy/lib/python3.8/site-packages/IPython/core/interactiveshell.py\", line 1993, in showtraceback\n",
            "    stb = self.InteractiveTB.structured_traceback(\n",
            "  File \"/home/csy/anaconda3/envs/temp_csy/lib/python3.8/site-packages/IPython/core/ultratb.py\", line 1118, in structured_traceback\n",
            "    return FormattedTB.structured_traceback(\n",
            "  File \"/home/csy/anaconda3/envs/temp_csy/lib/python3.8/site-packages/IPython/core/ultratb.py\", line 1012, in structured_traceback\n",
            "    return VerboseTB.structured_traceback(\n",
            "  File \"/home/csy/anaconda3/envs/temp_csy/lib/python3.8/site-packages/IPython/core/ultratb.py\", line 865, in structured_traceback\n",
            "    formatted_exception = self.format_exception_as_a_whole(etype, evalue, etb, number_of_lines_of_context,\n",
            "  File \"/home/csy/anaconda3/envs/temp_csy/lib/python3.8/site-packages/IPython/core/ultratb.py\", line 818, in format_exception_as_a_whole\n",
            "    frames.append(self.format_record(r))\n",
            "  File \"/home/csy/anaconda3/envs/temp_csy/lib/python3.8/site-packages/IPython/core/ultratb.py\", line 736, in format_record\n",
            "    result += ''.join(_format_traceback_lines(frame_info.lines, Colors, self.has_colors, lvals))\n",
            "  File \"/home/csy/anaconda3/envs/temp_csy/lib/python3.8/site-packages/stack_data/utils.py\", line 144, in cached_property_wrapper\n",
            "    value = obj.__dict__[self.func.__name__] = self.func(obj)\n",
            "  File \"/home/csy/anaconda3/envs/temp_csy/lib/python3.8/site-packages/stack_data/core.py\", line 734, in lines\n",
            "    pieces = self.included_pieces\n",
            "  File \"/home/csy/anaconda3/envs/temp_csy/lib/python3.8/site-packages/stack_data/utils.py\", line 144, in cached_property_wrapper\n",
            "    value = obj.__dict__[self.func.__name__] = self.func(obj)\n",
            "  File \"/home/csy/anaconda3/envs/temp_csy/lib/python3.8/site-packages/stack_data/core.py\", line 681, in included_pieces\n",
            "    pos = scope_pieces.index(self.executing_piece)\n",
            "  File \"/home/csy/anaconda3/envs/temp_csy/lib/python3.8/site-packages/stack_data/utils.py\", line 144, in cached_property_wrapper\n",
            "    value = obj.__dict__[self.func.__name__] = self.func(obj)\n",
            "  File \"/home/csy/anaconda3/envs/temp_csy/lib/python3.8/site-packages/stack_data/core.py\", line 660, in executing_piece\n",
            "    return only(\n",
            "  File \"/home/csy/anaconda3/envs/temp_csy/lib/python3.8/site-packages/executing/executing.py\", line 190, in only\n",
            "    raise NotOneValueFound('Expected one value, found 0')\n",
            "executing.executing.NotOneValueFound: Expected one value, found 0"
          ]
        }
      ],
      "source": [
        "for j in range(slevs):\n",
        "    x_dwt[j] = ebayesthresh.ebayesthresh(x_dwt[j], prior=prior, a=a, bayesfac=bayesfac, \n",
        "                            sdev=vscale, verbose=False, threshrule=threshrule)"
      ],
      "id": "596be008-5439-470f-97d8-0a23a2932494"
    },
    {
      "cell_type": "code",
      "execution_count": 24,
      "metadata": {},
      "outputs": [],
      "source": [
        "x_dwt"
      ],
      "id": "25b823f8-2b7b-4ffb-9eb8-8410e1304218"
    },
    {
      "cell_type": "markdown",
      "metadata": {},
      "source": [
        "R코드\n",
        "\n",
        "``` r\n",
        "ebayesthresh.wavelet.dwt <-\n",
        "  function (x.dwt, vscale = \"independent\", smooth.levels = Inf, \n",
        "            prior = \"laplace\", a = 0.5, bayesfac = FALSE,\n",
        "            threshrule = \"median\") {\n",
        "        nlevs <- length(x.dwt)-1\n",
        "        slevs <- min(nlevs, smooth.levels)\n",
        "        if (is.character(vscale)) {\n",
        "            vs <- substring(vscale, 1, 1)\n",
        "            if (vs == \"i\") \n",
        "                vscale <- mad(x.dwt[[1]])\n",
        "            if (vs == \"l\") \n",
        "                vscale <- NA\n",
        "        }\n",
        "        for (j in 1:slevs) {\n",
        "            x.dwt[[j]] <-\n",
        "              ebayesthresh(x.dwt[[j]], prior, a, bayesfac, vscale,\n",
        "                           FALSE, threshrule)\n",
        "        }\n",
        "     return(x.dwt)\n",
        "}\n",
        "```\n",
        "\n",
        "결과\n",
        "\n",
        "-   Python"
      ],
      "id": "698ca0d9-f3e9-4332-9bc3-eaa7156d3b00"
    },
    {
      "cell_type": "code",
      "execution_count": 13,
      "metadata": {},
      "outputs": [],
      "source": [
        "ebayesthresh.ebayesthresh_wavelet_dwt(x_dwt)"
      ],
      "id": "1f2a322b-5c94-470e-b7f7-94928e8588b7"
    },
    {
      "cell_type": "markdown",
      "metadata": {},
      "source": [
        "-   R\n",
        "\n",
        "확인 불가\n",
        "\n",
        "``` r\n",
        "> ebayesthresh.wavelet.dwt(x.dwt=x_dwt)\n",
        "Error in ebayesthresh.wavelet.dwt(x.dwt = x_dwt) : \n",
        "  could not find function \"ebayesthresh.wavelet.dwt\"\n",
        "```\n",
        "\n",
        "# ebayesthresh.wavelet.splus"
      ],
      "id": "8898eaf0-aefc-4f61-917b-1b3cba20a3b4"
    },
    {
      "cell_type": "code",
      "execution_count": 7,
      "metadata": {},
      "outputs": [],
      "source": [
        "data = np.concatenate([np.random.normal(0, 1, 90), np.random.normal(5, 1, 10)])\n",
        "n = len(data)\n",
        "level1 = data[::2] - data[1::2]\n",
        "level2 = level1[::2] - level1[1::2]\n",
        "approximation = level2[::2] + level2[::2]\n",
        "\n",
        "# Create a list of wavelet coefficients for each level\n",
        "x_dwt = [approximation, level2, level1]\n",
        "x_dwt"
      ],
      "id": "ea5a4e9d-83b6-4b92-b28d-acb1ce793133"
    },
    {
      "cell_type": "code",
      "execution_count": 5,
      "metadata": {},
      "outputs": [],
      "source": [
        "vscale=\"independent\"\n",
        "smooth_levels=float('inf')\n",
        "prior=\"laplace\"\n",
        "a=0.5\n",
        "bayesfac=False\n",
        "threshrule=\"median\""
      ],
      "id": "c0993516-28fe-4ec7-b4cf-548100e93974"
    },
    {
      "cell_type": "code",
      "execution_count": 6,
      "metadata": {},
      "outputs": [],
      "source": [
        "nlevs = len(x_dwt)\n",
        "nlevs"
      ],
      "id": "f9dd028f-de60-4e64-8110-702dcc9f6f0b"
    },
    {
      "cell_type": "code",
      "execution_count": 7,
      "metadata": {},
      "outputs": [],
      "source": [
        "slevs = min(nlevs, smooth_levels)\n",
        "slevs"
      ],
      "id": "3b309ac5-c848-4aca-af2b-ad18f03829b4"
    },
    {
      "cell_type": "code",
      "execution_count": 8,
      "metadata": {},
      "outputs": [],
      "source": [
        "if isinstance(vscale, str):\n",
        "    vs = vscale[0].lower()\n",
        "    if vs == \"i\":\n",
        "        vscale = ebayesthresh.mad(x_dwt[-1])  # Use the last level for vscale\n",
        "    elif vs == \"l\":\n",
        "        vscale = None"
      ],
      "id": "0d300712-8cd4-454a-9f9d-275566ad6f28"
    },
    {
      "cell_type": "code",
      "execution_count": 9,
      "metadata": {},
      "outputs": [],
      "source": [
        "vscale"
      ],
      "id": "a6d4700a-b4cb-457e-819c-42b00ae9ccac"
    },
    {
      "cell_type": "code",
      "execution_count": 11,
      "metadata": {},
      "outputs": [],
      "source": [
        "for j in range(nlevs - slevs + 1, nlevs + 1):\n",
        "        x_dwt[j - 1] = ebayesthresh.ebayesthresh(x_dwt[j - 1], prior=prior, a=a, bayesfac=bayesfac, \n",
        "                                    sdev=vscale, verbose=False, threshrule=threshrule)"
      ],
      "id": "1fb655ed-f66a-453a-8854-c4679cffbddf"
    },
    {
      "cell_type": "code",
      "execution_count": 12,
      "metadata": {},
      "outputs": [],
      "source": [
        "x_dwt"
      ],
      "id": "9e99526f-2182-4829-a225-8a3871db6645"
    },
    {
      "cell_type": "markdown",
      "metadata": {},
      "source": [
        "R코드\n",
        "\n",
        "``` r\n",
        "ebayesthresh.wavelet.splus <-\n",
        "  function (x.dwt, vscale = \"independent\", smooth.levels = Inf, \n",
        "            prior = \"laplace\", a = 0.5, bayesfac = FALSE,\n",
        "            threshrule = \"median\") {\n",
        "        nlevs <- attributes(x.dwt)$n.levels\n",
        "        slevs <- min(nlevs, smooth.levels)\n",
        "        if (is.character(vscale)) {\n",
        "            vs <- substring(vscale, 1, 1)\n",
        "            if (vs == \"i\") \n",
        "                vscale <- mad(x.dwt[[nlevs + 1]])\n",
        "            if (vs == \"l\") \n",
        "                vscale <- NA\n",
        "        }\n",
        "        for (j in ((nlevs - slevs + 2):(nlevs + 1)))\n",
        "          x.dwt[[j]] <-\n",
        "            ebayesthresh(as.vector(x.dwt[[j]]), prior, a, bayesfac,\n",
        "                         vscale, FALSE, threshrule)\n",
        "        return(x.dwt)\n",
        "}\n",
        "```\n",
        "\n",
        "결과\n",
        "\n",
        "-   Python"
      ],
      "id": "3ebd0ae9-106c-45a4-ad2b-69bd3c32ea7c"
    },
    {
      "cell_type": "code",
      "execution_count": null,
      "metadata": {},
      "outputs": [],
      "source": [
        "ebayesthresh.ebayesthresh_wavelet_splus(x_dwt=x_dwt)"
      ],
      "id": "7d19b97e-a479-4b15-9e70-7ddadf2a1743"
    },
    {
      "cell_type": "markdown",
      "metadata": {},
      "source": [
        "-   R\n",
        "\n",
        "확인 불가\n",
        "\n",
        "``` r\n",
        "> ebayesthresh.wavelet.splus(x.dwt=x_dwt)\n",
        "Error in ebayesthresh.wavelet.splus(x.dwt = x_dwt) : \n",
        "  could not find function \"ebayesthresh.wavelet.splus\"\n",
        "```\n",
        "\n",
        "# ebayesthresh.wavelet.wd"
      ],
      "id": "f6cf5587-4eb4-4478-b80c-90404aa0d41e"
    },
    {
      "cell_type": "code",
      "execution_count": 15,
      "metadata": {},
      "outputs": [],
      "source": [
        "def get_mother_wavelet_coefficients(data, level):\n",
        "    # Perform wavelet decomposition\n",
        "    coeffs = pywt.wavedec(data, 'db1', level=level)\n",
        "    \n",
        "    # Access the coefficients at the desired resolution level\n",
        "    mother_wavelet_coeffs = coeffs[level]\n",
        "    \n",
        "    return mother_wavelet_coeffs\n",
        "\n",
        "# Example usage:\n",
        "data = [1, 2, 3, 4, 5, 6, 7, 8]\n",
        "level = 2\n",
        "mother_wavelet_coeffs = get_mother_wavelet_coefficients(data, level)"
      ],
      "id": "1b4726be-a951-4fb3-848e-996bbeb291f8"
    },
    {
      "cell_type": "code",
      "execution_count": 16,
      "metadata": {},
      "outputs": [],
      "source": [
        "mother_wavelet_coeffs"
      ],
      "id": "50423893-3171-4063-83bc-631a2f1e4ada"
    },
    {
      "cell_type": "code",
      "execution_count": 17,
      "metadata": {},
      "outputs": [],
      "source": [
        "x_wd = pywt.Wavelet('db1')\n",
        "x_wd"
      ],
      "id": "3b312a0c-e270-4820-ba95-3211c8b2dfd9"
    },
    {
      "cell_type": "code",
      "execution_count": 20,
      "metadata": {},
      "outputs": [],
      "source": [
        "vscale=\"independent\"\n",
        "smooth_levels=float('inf')\n",
        "prior=\"laplace\"\n",
        "a=0.5\n",
        "bayesfac=False\n",
        "threshrule=\"median\""
      ],
      "id": "78abcd0b-3960-4469-b936-e59ef62975ab"
    },
    {
      "cell_type": "code",
      "execution_count": null,
      "metadata": {},
      "outputs": [],
      "source": [
        "nlevs = x_wd['nlevels']\n",
        "nlevs"
      ],
      "id": "7dad812d-26e9-41ef-b7b9-af6f57000b2e"
    },
    {
      "cell_type": "code",
      "execution_count": null,
      "metadata": {},
      "outputs": [],
      "source": [
        "slevs = min(nlevs - 1, smooth_levels)\n",
        "slevs"
      ],
      "id": "9ecae59d-9e8f-4ad7-b01d-9006ddadbd4b"
    },
    {
      "cell_type": "code",
      "execution_count": null,
      "metadata": {},
      "outputs": [],
      "source": [
        "if isinstance(vscale, str):\n",
        "    vs = vscale[0].lower()\n",
        "    if vs == \"i\":\n",
        "        vscale = ebayesthresh.mad(get_mother_wavelet_coefficients(x_wd,-1))  # Use the last level for vscale\n",
        "    elif vs == \"l\":\n",
        "        vscale = None"
      ],
      "id": "8c6775cc-d730-482f-a317-a45bcb40e27b"
    },
    {
      "cell_type": "code",
      "execution_count": null,
      "metadata": {},
      "outputs": [],
      "source": [
        "for j in range(nlevs - slevs, nlevs - 1):\n",
        "        x_wd.d[j] = ebayesthresh(x_wd.d[j], prior=prior, a=a, bayesfac=bayesfac, \n",
        "                                  sdev=vscale, verbose=False, threshrule=threshrule)"
      ],
      "id": "bd2837c7-c785-429b-b805-98555905118d"
    },
    {
      "cell_type": "code",
      "execution_count": null,
      "metadata": {},
      "outputs": [],
      "source": [
        "x_wd"
      ],
      "id": "cd4d2231-5fa7-4b51-8328-0e3ddfab7b5a"
    },
    {
      "cell_type": "markdown",
      "metadata": {},
      "source": [
        "R코드\n",
        "\n",
        "``` r\n",
        "ebayesthresh.wavelet.wd <-\n",
        "  function (x.wd, vscale = \"independent\", smooth.levels = Inf,\n",
        "            prior = \"laplace\", a = 0.5, bayesfac = FALSE,\n",
        "            threshrule = \"median\") {\n",
        "    nlevs <- x.wd$nlevels\n",
        "    slevs <- min(nlevs - 1, smooth.levels)\n",
        "    if (is.character(vscale)) {\n",
        "        vs <- substring(vscale, 1, 1)\n",
        "        if (vs == \"i\")\n",
        "            vscale <- mad(accessD(x.wd, level = nlevs - 1))\n",
        "        if (vs == \"l\")\n",
        "            vscale <- NA\n",
        "    }\n",
        "    for (j in (nlevs - slevs):(nlevs - 1)) {\n",
        "      x.wd <- putD(x.wd, level = j,\n",
        "                   v = ebayesthresh(accessD(x.wd, level = j), prior, a,\n",
        "                                    bayesfac, vscale, FALSE, threshrule))\n",
        "    }\n",
        "    return(x.wd)\n",
        "}\n",
        "```\n",
        "\n",
        "결과\n",
        "\n",
        "-   Python"
      ],
      "id": "32c07fbc-8a79-4919-be8b-d8c9c33760c7"
    },
    {
      "cell_type": "code",
      "execution_count": null,
      "metadata": {},
      "outputs": [],
      "source": [
        "ebayesthresh.ebayesthresh_wavelet_wd(x_wd)"
      ],
      "id": "9b592732-8b13-47ea-8390-0ef2ca9dcf31"
    },
    {
      "cell_type": "markdown",
      "metadata": {},
      "source": [
        "-   R\n",
        "\n",
        "확인 불가\n",
        "\n",
        "``` r\n",
        "> ebayesthresh.wavelet.wd(x.dwt=x_dwt)\n",
        "Error in ebayesthresh.wavelet.wd(x.dwt = x_dwt) : \n",
        "  could not find function \"ebayesthresh.wavelet.wd\"\n",
        "```\n",
        "\n",
        "# isotone\n",
        "\n",
        "> Isotonic Regression은 입력 변수에 따른 출력 변수의 단조 증가(monotonic\n",
        "> increasing) 또는 감소(monotonic decreasing) 패턴을 찾는 방법"
      ],
      "id": "e68df7a8-9647-405f-88da-6b4791408b00"
    },
    {
      "cell_type": "code",
      "execution_count": 3,
      "metadata": {},
      "outputs": [
        {
          "output_type": "stream",
          "name": "stderr",
          "text": [
            "/home/csy/Dropbox/sy_hub/posts/1_Note/ebayesthresh_torch/utils.py:17: UserWarning: To copy construct from a tensor, it is recommended to use sourceTensor.clone().detach() or sourceTensor.clone().detach().requires_grad_(True), rather than torch.tensor(sourceTensor).\n",
            "  x = torch.tensor(x,dtype=torch.float64)"
          ]
        }
      ],
      "source": [
        "beta = ebayesthresh_torch.beta_cauchy(torch.tensor([-2,1,0,-4]))\n",
        "w = torch.ones(len(beta))\n",
        "aa = w + 1/beta\n",
        "x = w + aa\n",
        "wt = 1/aa**2\n",
        "increasing = False"
      ],
      "id": "8ef6ca18-5787-45bd-8b12-7e8102dd08e9"
    },
    {
      "cell_type": "code",
      "execution_count": 4,
      "metadata": {},
      "outputs": [],
      "source": [
        "if wt is None:\n",
        "        wt = torch.ones_like(x)"
      ],
      "id": "7743bfc7-0119-4965-864b-90ab2429cdd7"
    },
    {
      "cell_type": "code",
      "execution_count": 5,
      "metadata": {},
      "outputs": [],
      "source": [
        "nn = len(x)\n",
        "nn"
      ],
      "id": "c963e95a-799e-49a8-b454-dfb0a57ea5f8"
    },
    {
      "cell_type": "code",
      "execution_count": 6,
      "metadata": {},
      "outputs": [],
      "source": [
        "ebayesthresh_torch.beta_cauchy(torch.tensor([-2,1,0,-4]))"
      ],
      "id": "49eb804c-2911-4703-8c2c-ab63f7434ac8"
    },
    {
      "cell_type": "code",
      "execution_count": 7,
      "metadata": {},
      "outputs": [],
      "source": [
        "if nn == 1:\n",
        "    x = x\n",
        "\n",
        "if not increasing:\n",
        "    x = -x"
      ],
      "id": "69ea0bef-29a0-4e7d-aca4-f5b551488271"
    },
    {
      "cell_type": "code",
      "execution_count": 8,
      "metadata": {},
      "outputs": [],
      "source": [
        "ip = torch.arange(nn)\n",
        "ip"
      ],
      "id": "ab575be4-9a95-4277-82b7-c719a9c81d79"
    },
    {
      "cell_type": "code",
      "execution_count": 9,
      "metadata": {},
      "outputs": [],
      "source": [
        "dx = torch.diff(x)\n",
        "dx"
      ],
      "id": "86c27adc-045f-4fb9-8617-a653bdab4cf9"
    },
    {
      "cell_type": "code",
      "execution_count": 10,
      "metadata": {},
      "outputs": [],
      "source": [
        "nx = len(x)\n",
        "nx"
      ],
      "id": "081129ac-e09b-4fb4-b5ec-30b7980ae6fe"
    },
    {
      "cell_type": "code",
      "execution_count": 11,
      "metadata": {},
      "outputs": [],
      "source": [
        "while (nx > 1) and (torch.min(dx) < 0):\n",
        "        jmax = torch.where((torch.cat([dx <= 0, torch.tensor([False])]) & torch.cat([torch.tensor([True]), dx > 0])))[0]\n",
        "        jmin = torch.where((torch.cat([dx > 0, torch.tensor([True])]) & torch.cat([torch.tensor([False]), dx <= 0])))[0]\n",
        "        \n",
        "\n",
        "        for jb in range(len(jmax)):\n",
        "            ind = torch.arange(jmax[jb], jmin[jb] + 1)\n",
        "            wtn = torch.sum(wt[ind])\n",
        "            x[jmax[jb]] = torch.sum(wt[ind] * x[ind]) / wtn\n",
        "            wt[jmax[jb]] = wtn\n",
        "            x[jmax[jb] + 1:jmin[jb] + 1] = torch.nan\n",
        "\n",
        "        ind = ~torch.isnan(x)\n",
        "        x = x[ind]\n",
        "        wt = wt[ind]\n",
        "        ip = ip[ind]\n",
        "        dx = torch.diff(x)\n",
        "        nx = len(x)"
      ],
      "id": "277539d1-d067-4e74-a725-e72bbe1f04cd"
    },
    {
      "cell_type": "code",
      "execution_count": 12,
      "metadata": {},
      "outputs": [],
      "source": [
        "jj = torch.zeros(nn, dtype=torch.int32)\n",
        "jj"
      ],
      "id": "184f9682-5cdd-4dcb-8330-fec4da3294fc"
    },
    {
      "cell_type": "code",
      "execution_count": 13,
      "metadata": {},
      "outputs": [],
      "source": [
        "jj[ip] = 1\n",
        "jj"
      ],
      "id": "3da8e458-724a-4efc-b615-fcf19160dd10"
    },
    {
      "cell_type": "code",
      "execution_count": 14,
      "metadata": {},
      "outputs": [],
      "source": [
        "z = x[torch.cumsum(jj, dim=0) - 1]\n",
        "z"
      ],
      "id": "85b92589-03dc-4a1a-9f9f-19bf75ee36fc"
    },
    {
      "cell_type": "code",
      "execution_count": 15,
      "metadata": {},
      "outputs": [],
      "source": [
        "if not increasing:\n",
        "        z = -z"
      ],
      "id": "0d602022-3f52-4bbd-9213-b29b468f746a"
    },
    {
      "cell_type": "code",
      "execution_count": 16,
      "metadata": {},
      "outputs": [],
      "source": [
        "z"
      ],
      "id": "56e2ae5c-c1b7-4ae0-82dc-1b2fac51c035"
    },
    {
      "cell_type": "markdown",
      "metadata": {},
      "source": [
        "R코드\n",
        "\n",
        "``` r\n",
        "isotone <- function(x, wt = rep(1, length(x)), increasing = FALSE) {\n",
        "#\n",
        "#   find the weighted least squares isotone fit to the \n",
        "#   sequence x, the weights given by the sequence wt\n",
        "#\n",
        "#   if increasing == TRUE the curve is set to be increasing, \n",
        "#   otherwise to be decreasing\n",
        "#\n",
        "#   the vector ip contains the indices on the original scale of the\n",
        "#   breaks in the regression at each stage\n",
        "#\n",
        "    nn <- length(x)\n",
        "    if(nn == 1)\n",
        "        return(x)\n",
        "    if(!increasing)\n",
        "        x <-  - x\n",
        "    ip <- (1:nn)\n",
        "    dx <- diff(x)\n",
        "    nx <- length(x)\n",
        "    while((nx > 1) && (min(dx) < 0)) {\n",
        "#\n",
        "#  do single pool-adjacent-violators step\n",
        "#\n",
        "#  find all local minima and maxima\n",
        "#\n",
        "        jmax <- (1:nx)[c(dx <= 0, FALSE) & c(TRUE, dx > 0)]\n",
        "        jmin <- (1:nx)[c(dx > 0, TRUE) & c(FALSE, dx <= 0)]\n",
        "#  do pav step for each pair of maxima and minima\n",
        "#\n",
        "#  add up weights within subsequence that is pooled\n",
        "#  set first element of subsequence to the weighted average\n",
        "#  the first weight to the sum of the weights within the subsequence\n",
        "#    and remainder of the subsequence to NA\n",
        "#\n",
        "        for(jb in (1:length(jmax))) {\n",
        "            ind <- (jmax[jb]:jmin[jb])\n",
        "            wtn <- sum(wt[ind])\n",
        "            x[jmax[jb]] <- sum(wt[ind] * x[ind])/wtn\n",
        "            wt[jmax[jb]] <- wtn\n",
        "            x[(jmax[jb] + 1):jmin[jb]] <- NA\n",
        "        }\n",
        "#\n",
        "#  clean up within iteration, eliminating the parts of sequences that\n",
        "#  were set to NA\n",
        "#\n",
        "        ind <- !is.na(x)\n",
        "        x <- x[ind]\n",
        "        wt <- wt[ind]\n",
        "        ip <- ip[ind]\n",
        "        dx <- diff(x)\n",
        "        nx <- length(x)\n",
        "    }\n",
        "# \n",
        "#  final cleanup: reconstruct z at all points by repeating the pooled\n",
        "#    values the appropriate number of times\n",
        "#\n",
        "    jj <- rep(0, nn)\n",
        "    jj[ip] <- 1\n",
        "    z <- x[cumsum(jj)]\n",
        "    if(!increasing)\n",
        "        z <-  - z\n",
        "    return(z)\n",
        "}\n",
        "```\n",
        "\n",
        "결과\n",
        "\n",
        "-   Python"
      ],
      "id": "18376ef4-d661-461b-8280-23cd068d5c7d"
    },
    {
      "cell_type": "code",
      "execution_count": 17,
      "metadata": {},
      "outputs": [],
      "source": [
        "beta = ebayesthresh_torch.beta_cauchy(torch.tensor([-2,1,0,-4]))\n",
        "w = torch.ones(len(beta))\n",
        "aa = w + 1/beta\n",
        "ps = w + aa\n",
        "ww = 1/aa**2\n",
        "wnew = ebayesthresh_torch.isotone(ps, ww, increasing = False)\n",
        "wnew"
      ],
      "id": "50d3f97e-3039-4325-98ab-205c5eacc612"
    },
    {
      "cell_type": "markdown",
      "metadata": {},
      "source": [
        "R\n",
        "\n",
        "``` r\n",
        "> beta <- beta.cauchy(c(-2,1,0,-4))\n",
        "> w <- rep(1, length(x))\n",
        "> aa = w + 1/beta\n",
        "> ps = w + aa\n",
        "> ww = 1/aa**2\n",
        "> wnew = isotone(ps, ww, increasing = FALSE)\n",
        "> wnew\n",
        "[1] 3.674301 0.760411 0.760411 0.760411\n",
        "```\n",
        "\n",
        "# laplace_threshzero"
      ],
      "id": "7b3f8372-f657-451f-8cb5-609f444f3f45"
    },
    {
      "cell_type": "code",
      "execution_count": 18,
      "metadata": {},
      "outputs": [],
      "source": [
        "x = torch.tensor([-2,1,0,-4,8,50])\n",
        "s = 1\n",
        "w = 0.5\n",
        "a = 0.5"
      ],
      "id": "ffeb41db-c3fd-44d7-926d-da05b1cde637"
    },
    {
      "cell_type": "code",
      "execution_count": 19,
      "metadata": {},
      "outputs": [],
      "source": [
        "a = min(a, 20)\n",
        "a"
      ],
      "id": "526d78ea-bb08-4464-a2e8-403f601f30ab"
    },
    {
      "cell_type": "code",
      "execution_count": 20,
      "metadata": {},
      "outputs": [],
      "source": [
        "xma = x / s - s * a\n",
        "xma"
      ],
      "id": "ff18e35c-d7e9-4616-951f-9fddcc411160"
    },
    {
      "cell_type": "code",
      "execution_count": 29,
      "metadata": {},
      "outputs": [
        {
          "output_type": "stream",
          "name": "stderr",
          "text": [
            "/home/csy/Dropbox/sy_hub/posts/1_Note/ebayesthresh_torch/utils.py:47: UserWarning: To copy construct from a tensor, it is recommended to use sourceTensor.clone().detach() or sourceTensor.clone().detach().requires_grad_(True), rather than torch.tensor(sourceTensor).\n",
            "  rat1 = torch.tensor(1 / xpa, dtype=torch.float64)\n",
            "/home/csy/Dropbox/sy_hub/posts/1_Note/ebayesthresh_torch/utils.py:51: UserWarning: To copy construct from a tensor, it is recommended to use sourceTensor.clone().detach() or sourceTensor.clone().detach().requires_grad_(True), rather than torch.tensor(sourceTensor).\n",
            "  rat2 = torch.tensor(1 / torch.abs(xma), dtype=torch.float64)"
          ]
        }
      ],
      "source": [
        "z = torch.tensor(norm.cdf(xma, loc=0, scale=1)) - (1 / a) * (1 / s * torch.tensor(norm.pdf(xma, loc=0, scale=1))) * (1 / w + ebayesthresh_torch.beta_laplace(x, s, a))\n",
        "z"
      ],
      "id": "9f271ff4-7b00-4919-8fbf-874166f7b669"
    },
    {
      "cell_type": "markdown",
      "metadata": {},
      "source": [
        "R코드\n",
        "\n",
        "``` r\n",
        "laplace.threshzero <- function(x, s = 1, w = 0.5, a = 0.5) {\n",
        "#\n",
        "# The function that has to be zeroed to find the threshold with the\n",
        "# Laplace prior.  Only allow a < 20 for input value.\n",
        "#    \n",
        "  a <- min(a, 20)\n",
        "  xma <- x/s - s*a\n",
        "  z <- pnorm(xma) - 1/a * (1/s*dnorm(xma)) * (1/w + beta.laplace(x, s, a))\n",
        "  return(z)\n",
        "}\n",
        "```\n",
        "\n",
        "결과\n",
        "\n",
        "-   Python"
      ],
      "id": "d24d8acb-28aa-4c33-92ba-b3e361f0f4b5"
    },
    {
      "cell_type": "code",
      "execution_count": 3,
      "metadata": {},
      "outputs": [
        {
          "output_type": "stream",
          "name": "stderr",
          "text": [
            "/home/csy/Dropbox/sy_hub/posts/1_Note/ebayesthresh_torch/utils.py:47: UserWarning: To copy construct from a tensor, it is recommended to use sourceTensor.clone().detach() or sourceTensor.clone().detach().requires_grad_(True), rather than torch.tensor(sourceTensor).\n",
            "  rat1 = torch.tensor(1 / xpa, dtype=torch.float64)\n",
            "/home/csy/Dropbox/sy_hub/posts/1_Note/ebayesthresh_torch/utils.py:51: UserWarning: To copy construct from a tensor, it is recommended to use sourceTensor.clone().detach() or sourceTensor.clone().detach().requires_grad_(True), rather than torch.tensor(sourceTensor).\n",
            "  rat2 = torch.tensor(1 / torch.abs(xma), dtype=torch.float64)"
          ]
        }
      ],
      "source": [
        "ebayesthresh_torch.laplace_threshzero(torch.tensor([-2,1,0,-4,8,50]), s = 1, w = 0.5, a = 0.5)"
      ],
      "id": "8d2636a6-4869-4b72-960b-cb6ade162743"
    },
    {
      "cell_type": "code",
      "execution_count": 4,
      "metadata": {},
      "outputs": [],
      "source": [
        "ebayesthresh_torch.laplace_threshzero(torch.tensor(-5), s = 1, w = 0.5, a = 0.5)"
      ],
      "id": "fefaea0b-02df-4fe4-9d43-4ebb991938d0"
    },
    {
      "cell_type": "markdown",
      "metadata": {},
      "source": [
        "-   R\n",
        "\n",
        "``` r\n",
        "> laplace.threshzero(c(-2,1,0,-4,8,50), s = 1, w = 0.5, a = 0.5)\n",
        "[1] -0.095098724 -0.449199824 -0.704130654 -0.009185958  0.500000000  1.000000000\n",
        "> laplace.threshzero(-5, s = 1, w = 0.5, a = 0.5)\n",
        "[1] -0.003369168\n",
        "```\n",
        "\n",
        "# negloglik_laplace\n",
        "\n",
        "> Marginal negative log likelihood function for laplace prior.\n",
        "\n",
        "-   라플라스 프라이어에 대한 한계음의로그우도함수 계산"
      ],
      "id": "393ebb22-60e3-4da1-9824-806c9b16e05d"
    },
    {
      "cell_type": "code",
      "execution_count": 5,
      "metadata": {},
      "outputs": [],
      "source": [
        "xpar = torch.tensor([0.5,0.6,0.3])\n",
        "xx = torch.tensor([1,2,3,4,5])\n",
        "ss = torch.tensor([1])\n",
        "tlo = torch.sqrt(2 * torch.log(torch.tensor(len([1, 2, 3, 4, 5])).float())) * 1\n",
        "thi = torch.tensor([0.0,0.0,0.0])"
      ],
      "id": "3388f296-4220-41f8-ac14-38c7e1639ed9"
    },
    {
      "cell_type": "code",
      "execution_count": 6,
      "metadata": {},
      "outputs": [],
      "source": [
        "a = xpar[1]\n",
        "a"
      ],
      "id": "692068d6-1f41-4e88-b044-a299ea64c0db"
    },
    {
      "cell_type": "code",
      "execution_count": 7,
      "metadata": {},
      "outputs": [],
      "source": [
        "wlo = ebayesthresh_torch.wfromt(thi, ss, a=a)\n",
        "wlo"
      ],
      "id": "9a273e60-cedf-413b-90bc-19b3881052b4"
    },
    {
      "cell_type": "code",
      "execution_count": 90,
      "metadata": {},
      "outputs": [],
      "source": [
        "whi = ebayesthresh_torch.wfromt(tlo, ss, a=a)\n",
        "whi"
      ],
      "id": "d61d4985-4bb7-4639-9e4c-9f310233a3f8"
    },
    {
      "cell_type": "code",
      "execution_count": 91,
      "metadata": {},
      "outputs": [],
      "source": [
        "wlo = torch.max(wlo)\n",
        "wlo"
      ],
      "id": "43489205-88aa-4de5-9ff2-2b147d852227"
    },
    {
      "cell_type": "code",
      "execution_count": 92,
      "metadata": {},
      "outputs": [],
      "source": [
        "whi = torch.min(whi)\n",
        "whi"
      ],
      "id": "af55411c-cb15-45c5-b82a-f94a0c4ee7b5"
    },
    {
      "cell_type": "code",
      "execution_count": 93,
      "metadata": {},
      "outputs": [],
      "source": [
        "loglik = torch.sum(torch.log(1 + (xpar[0] * (whi - wlo) + wlo) *\n",
        "                           ebayesthresh_torch.beta_laplace(xx, ss, a)))\n",
        "-loglik"
      ],
      "id": "eb553ee4-84b8-4d66-b320-058ff0d8f33c"
    },
    {
      "cell_type": "markdown",
      "metadata": {},
      "source": [
        "R코드\n",
        "\n",
        "``` r\n",
        "negloglik.laplace <- function(xpar, xx, ss, tlo, thi) {\n",
        "#\n",
        "#  Marginal negative log likelihood function for laplace prior. \n",
        "#   Constraints for thresholds need to be passed externally.\n",
        "#  \n",
        "#  xx   :data\n",
        "#  xpar :vector of two parameters:\n",
        "#      xpar[1] : a value between [0, 1] which will be adjusted to range of w \n",
        "#      xpar[2] : inverse scale (rate) parameter (\"a\")\n",
        "#  ss   :vector of standard deviations\n",
        "#  tlo  :lower bound of thresholds\n",
        "#  thi  :upper bound of thresholds\n",
        "#\n",
        "    a <- xpar[2]\n",
        "        \n",
        "        # Calculate the range of w given a, using negative monotonicity\n",
        "        # between w and t\n",
        "    wlo <- wfromt(thi, ss, a = a)\n",
        "    whi <- wfromt(tlo, ss, a = a)\n",
        "    wlo <- max(wlo)\n",
        "    whi <- min(whi)\n",
        "    loglik <- sum(log(1 + (xpar[1] * (whi - wlo) + wlo) *\n",
        "                          beta.laplace(xx, ss, a)))\n",
        "    return(-loglik)\n",
        "}\n",
        "```\n",
        "\n",
        "결과\n",
        "\n",
        "-   Python"
      ],
      "id": "caac4a86-c1b1-4f54-a151-a255d8a37149"
    },
    {
      "cell_type": "code",
      "execution_count": 94,
      "metadata": {},
      "outputs": [],
      "source": [
        "xpar = torch.tensor([0.5,0.6,0.3])\n",
        "xx = torch.tensor([1,2,3,4,5])\n",
        "ss = torch.tensor([1])\n",
        "tlo = torch.sqrt(2 * torch.log(torch.tensor(len([1, 2, 3, 4, 5])).float())) * 1\n",
        "thi = torch.tensor([0.0,0.0,0.0])"
      ],
      "id": "fa6f36cd-c343-4a35-8e77-bdb85fd10f44"
    },
    {
      "cell_type": "code",
      "execution_count": 95,
      "metadata": {},
      "outputs": [],
      "source": [
        "ebayesthresh_torch.negloglik_laplace(xpar, xx, ss, tlo, thi)"
      ],
      "id": "9afd8514-1c47-4e5d-b70f-a94490fd04a2"
    },
    {
      "cell_type": "markdown",
      "metadata": {},
      "source": [
        "-   R\n",
        "\n",
        "``` r\n",
        "> xpar <- c(0.5, 0.6, 0.3)\n",
        "> xx <- c(1, 2, 3, 4, 5)\n",
        "> ss <- c(1)\n",
        "> tlo <- sqrt(2 * log(length(c(1, 2, 3, 4, 5)))) * 1\n",
        "> thi <- c(0, 0, 0)\n",
        "> negloglik.laplace(xpar, xx, ss, tlo, thi)\n",
        "[1] -16.79727\n",
        "```\n",
        "\n",
        "# postmean\n",
        "\n",
        "> Given a single value or a vector of data and sampling standard\n",
        "> deviations (sd equals 1 for Cauchy prior), find the corresponding\n",
        "> posterior mean estimate(s) of the underlying signal value(s).\n",
        "\n",
        "-   적절한 사후 평균 찾기"
      ],
      "id": "467cec67-11fa-4505-9d6d-1435c71628d3"
    },
    {
      "cell_type": "code",
      "execution_count": 96,
      "metadata": {},
      "outputs": [],
      "source": [
        "x = torch.tensor([-2.0,1.0,0.0,-4.0,8.0,50.0])\n",
        "s = torch.tensor([1.0])\n",
        "w = torch.tensor([0.5])\n",
        "# prior = \"cauchy\"\n",
        "prior = \"laplace\"\n",
        "a = 0.5"
      ],
      "id": "4db78d4f-ee39-42a2-85aa-8b3fd298169d"
    },
    {
      "cell_type": "code",
      "execution_count": 97,
      "metadata": {},
      "outputs": [],
      "source": [
        "pr = prior[0:1]\n",
        "pr"
      ],
      "id": "47751138-2876-4ba8-baaa-825aa496a264"
    },
    {
      "cell_type": "code",
      "execution_count": 98,
      "metadata": {},
      "outputs": [],
      "source": [
        "if pr == \"l\":\n",
        "    mutilde = ebayesthresh_torch.postmean_laplace(x, s, w, a=a)\n",
        "elif pr == \"c\":\n",
        "    if torch.any(s != 1):\n",
        "        raise ValueError(\"Only standard deviation of 1 is allowed for Cauchy prior.\")\n",
        "    mutilde = ebayesthresh_torch.postmean_cauchy(x, w)\n",
        "else:\n",
        "    raise ValueError(\"Unknown prior type.\")"
      ],
      "id": "fd9e3780-6672-4054-bab8-d389dd1515ad"
    },
    {
      "cell_type": "code",
      "execution_count": 99,
      "metadata": {},
      "outputs": [],
      "source": [
        "mutilde"
      ],
      "id": "b0c298aa-dc02-4eb3-9e6e-dbf56036ffb2"
    },
    {
      "cell_type": "markdown",
      "metadata": {},
      "source": [
        "R코드\n",
        "\n",
        "``` r\n",
        "postmean <- function(x, s = 1, w = 0.5, prior = \"laplace\", a = 0.5) {\n",
        "#\n",
        "#  Find the posterior mean for the appropriate prior for \n",
        "#   given x, s (sd), w and a.\n",
        "#\n",
        "    pr <- substring(prior, 1, 1)\n",
        "    if(pr == \"l\")\n",
        "        mutilde <- postmean.laplace(x, s, w, a = a)\n",
        "    if(pr == \"c\"){\n",
        "            if(any(s != 1))\n",
        "                stop(paste(\"Only standard deviation of 1 is allowed\",\n",
        "                           \"for Cauchy prior.\"))\n",
        "        mutilde <- postmean.cauchy(x, w)\n",
        "    }\n",
        "    return(mutilde)\n",
        "}\n",
        "```\n",
        "\n",
        "결과\n",
        "\n",
        "-   Python"
      ],
      "id": "d8eceeb7-0239-4a90-bc24-ddc0f1064e4f"
    },
    {
      "cell_type": "code",
      "execution_count": 100,
      "metadata": {},
      "outputs": [],
      "source": [
        "ebayesthresh_torch.postmean(torch.tensor([-2.0,1.0,0.0,-4.0,8.0,50.0]), s=1, w = 0.5, prior = \"laplace\", a = 0.5)"
      ],
      "id": "4f6ec048-878a-4dde-bbd2-bcaefbd09b1c"
    },
    {
      "cell_type": "markdown",
      "metadata": {},
      "source": [
        "-   R\n",
        "\n",
        "``` r\n",
        "> postmean(c(-2,1,0,-4,8,50), s=1, w = 0.5, prior = \"laplace\", a = 0.5)\n",
        "[1] -1.0115896  0.2709533  0.0000000 -3.4880092  7.5000000 49.5000000\n",
        "```\n",
        "\n",
        "# postmean_cauchy\n",
        "\n",
        "> Find the posterior mean for the quasi-Cauchy prior with mixing weight\n",
        "> w given data x, which may be a scalar or a vector.\n",
        "\n",
        "-   quasi-Cauch에 대한 사후 평균 구하기"
      ],
      "id": "341bd356-8774-4075-b74a-3b2c6faeee3c"
    },
    {
      "cell_type": "code",
      "execution_count": 101,
      "metadata": {},
      "outputs": [],
      "source": [
        "x =torch.tensor([-2.0,1.0,0.0,-4.0,8.0,50.0], dtype=float)\n",
        "w = 0.5"
      ],
      "id": "b74b235e-0245-475b-bc8b-52e5c04e9d8f"
    },
    {
      "cell_type": "code",
      "execution_count": 102,
      "metadata": {},
      "outputs": [],
      "source": [
        "ind = torch.nonzero(x == 0)\n",
        "ind"
      ],
      "id": "fd533bef-cbb8-4c97-93ee-8de4725109a5"
    },
    {
      "cell_type": "code",
      "execution_count": 103,
      "metadata": {},
      "outputs": [],
      "source": [
        "x = x[x != 0] \n",
        "x"
      ],
      "id": "939db8fc-7cbd-480a-b50a-7f8dab1e4d3a"
    },
    {
      "cell_type": "code",
      "execution_count": 104,
      "metadata": {},
      "outputs": [],
      "source": [
        "ex = torch.exp(-x**2/2)\n",
        "ex"
      ],
      "id": "aae66d69-d31b-4618-b979-f3d2d5f869a0"
    },
    {
      "cell_type": "code",
      "execution_count": 105,
      "metadata": {},
      "outputs": [],
      "source": [
        "z = w * (x - (2 * (1 - ex))/x)\n",
        "z"
      ],
      "id": "33da9bfa-9ab0-4e93-80c8-84df66133df4"
    },
    {
      "cell_type": "code",
      "execution_count": 106,
      "metadata": {},
      "outputs": [],
      "source": [
        "z = z / (w * (1 - ex) + (1 - w) * ex * x**2)\n",
        "z"
      ],
      "id": "81ccd9c6-b4b6-404d-ab81-1dbbfaf1f871"
    },
    {
      "cell_type": "code",
      "execution_count": 107,
      "metadata": {},
      "outputs": [],
      "source": [
        "muhat = z\n",
        "muhat"
      ],
      "id": "2491ebf3-5174-4162-ae66-433e8e138ba1"
    },
    {
      "cell_type": "code",
      "execution_count": 108,
      "metadata": {},
      "outputs": [],
      "source": [
        "muhat[ind] = torch.tensor([0.0], dtype=float)"
      ],
      "id": "0e3b52be-59ff-4388-b680-d04ee8f1bef2"
    },
    {
      "cell_type": "code",
      "execution_count": 109,
      "metadata": {},
      "outputs": [],
      "source": [
        "muhat"
      ],
      "id": "b60469d4-ef1e-42c5-880b-bbe8429e6b0b"
    },
    {
      "cell_type": "markdown",
      "metadata": {},
      "source": [
        "R코드\n",
        "\n",
        "``` r\n",
        "postmean.cauchy <- function(x, w) {\n",
        "#\n",
        "#  Find the posterior mean for the quasi-Cauchy prior with mixing\n",
        "#   weight w given data x, which may be a scalar or a vector.\n",
        "#\n",
        "    muhat <- x\n",
        "    ind <- (x == 0)\n",
        "    x <- x[!ind]\n",
        "    ex <- exp( - x^2/2)\n",
        "    z <- w * (x - (2 * (1 - ex))/x)\n",
        "    z <- z/(w * (1 - ex) + (1 - w) * ex * x^2)\n",
        "    muhat[!ind] <- z\n",
        "    return(muhat)\n",
        "}\n",
        "```\n",
        "\n",
        "결과\n",
        "\n",
        "-   Python"
      ],
      "id": "e1f66f4c-d585-4c76-b99d-01f230adf876"
    },
    {
      "cell_type": "code",
      "execution_count": 112,
      "metadata": {},
      "outputs": [],
      "source": [
        "ebayesthresh_torch.postmean_cauchy(torch.tensor([-2,1,0,-4,8,50]),0.5)"
      ],
      "id": "e30de365-f9cf-45bc-87a6-b7b9d89ab545"
    },
    {
      "cell_type": "markdown",
      "metadata": {},
      "source": [
        "-   R\n",
        "\n",
        "``` r\n",
        "> postmean.cauchy(c(-2,1,0,-4,8,50),0.5)\n",
        "[1] -0.8074897  0.2130613  0.0000000 -3.4826433  7.7500000 49.9600000\n",
        "```\n",
        "\n",
        "# postmean.laplace\n",
        "\n",
        "> Find the posterior mean for the double exponential prior for given\n",
        "> $x, s (sd), w$, and $a$.\n",
        "\n",
        "-   이전 지수 분포에 대한 사후 평균"
      ],
      "id": "589e7aaa-0140-482e-a219-484e59181660"
    },
    {
      "cell_type": "code",
      "execution_count": 113,
      "metadata": {},
      "outputs": [],
      "source": [
        "x = torch.tensor([-2,1,0,-4,8,50])\n",
        "s = 1\n",
        "w = 0.5\n",
        "a = 0.5"
      ],
      "id": "a8126ddd-5f06-4aea-814c-766bb7dd4b21"
    },
    {
      "cell_type": "code",
      "execution_count": 114,
      "metadata": {},
      "outputs": [],
      "source": [
        "a = min(a, 20)\n",
        "a"
      ],
      "id": "36407eb7-23ff-4d23-bf8e-6194e6da4cd5"
    },
    {
      "cell_type": "code",
      "execution_count": 115,
      "metadata": {},
      "outputs": [],
      "source": [
        "w_post = ebayesthresh_torch.wpost_laplace(w, x, s, a)\n",
        "w_post"
      ],
      "id": "896face3-440e-48c0-ba29-5fceebcdfe8d"
    },
    {
      "cell_type": "code",
      "execution_count": 116,
      "metadata": {},
      "outputs": [],
      "source": [
        "sx = torch.sign(x)\n",
        "sx"
      ],
      "id": "ad1a9277-496e-4836-b57e-bbb31c3ea02a"
    },
    {
      "cell_type": "code",
      "execution_count": 117,
      "metadata": {},
      "outputs": [],
      "source": [
        "x = torch.abs(x)\n",
        "x"
      ],
      "id": "ea0b5e59-14c4-4945-8fd4-1507581e3017"
    },
    {
      "cell_type": "code",
      "execution_count": 118,
      "metadata": {},
      "outputs": [],
      "source": [
        "xpa = x / s + s * a\n",
        "xpa"
      ],
      "id": "2d44dfa2-a725-4379-9502-8ee8d33191de"
    },
    {
      "cell_type": "code",
      "execution_count": 119,
      "metadata": {},
      "outputs": [],
      "source": [
        "xma = x / s - s * a\n",
        "xma"
      ],
      "id": "09cb6c5b-0bc8-429c-8745-06361ddef666"
    },
    {
      "cell_type": "code",
      "execution_count": 120,
      "metadata": {},
      "outputs": [],
      "source": [
        "xpa = torch.minimum(xpa, torch.tensor(35.0))\n",
        "xpa"
      ],
      "id": "ed72eaa6-281a-4a4f-a527-4517aea9b286"
    },
    {
      "cell_type": "code",
      "execution_count": 121,
      "metadata": {},
      "outputs": [],
      "source": [
        "xma = torch.maximum(xma, torch.tensor(-35.0))\n",
        "xma"
      ],
      "id": "a9d03d5b-468e-4ec9-8bd0-88b82d891e1c"
    },
    {
      "cell_type": "code",
      "execution_count": 122,
      "metadata": {},
      "outputs": [],
      "source": [
        "norm = dist_normal.Normal(0, 1)\n",
        "norm"
      ],
      "id": "497dc70a-8075-4358-8ece-98061dc2e885"
    },
    {
      "cell_type": "code",
      "execution_count": 123,
      "metadata": {},
      "outputs": [],
      "source": [
        "cp1 = norm.cdf(xma)\n",
        "cp1"
      ],
      "id": "60251628-d8e8-4437-b7b5-cf20b05268c2"
    },
    {
      "cell_type": "code",
      "execution_count": 124,
      "metadata": {},
      "outputs": [],
      "source": [
        "cp2 = norm.cdf(-xpa)\n",
        "cp2"
      ],
      "id": "c47208de-54e8-4452-8b6a-b09fc8dfa13e"
    },
    {
      "cell_type": "code",
      "execution_count": 125,
      "metadata": {},
      "outputs": [],
      "source": [
        "ef = torch.exp(torch.minimum(2 * a * x, torch.tensor(100.0, dtype=torch.float32)))\n",
        "ef"
      ],
      "id": "d40fe4d9-ec1f-42b5-97b3-cf4b46015df9"
    },
    {
      "cell_type": "code",
      "execution_count": 126,
      "metadata": {},
      "outputs": [],
      "source": [
        "postmean_cond = x - a * s**2 * (2 * cp1 / (cp1 + ef * cp2) - 1)\n",
        "postmean_cond"
      ],
      "id": "c2fe42ae-862c-4cfb-849c-212a7d3dc534"
    },
    {
      "cell_type": "code",
      "execution_count": 127,
      "metadata": {},
      "outputs": [],
      "source": [
        "sx * w_post * postmean_cond"
      ],
      "id": "a6dd63a1-132c-44fa-84d5-1443dc2af6b2"
    },
    {
      "cell_type": "markdown",
      "metadata": {},
      "source": [
        "R코드\n",
        "\n",
        "``` r\n",
        "postmean.laplace <- function(x, s = 1, w = 0.5, a = 0.5) {\n",
        "#\n",
        "#  Find the posterior mean for the double exponential prior for \n",
        "#   given x, s (sd), w and a.\n",
        "#\n",
        "    \n",
        "  # Only allow a < 20 for input value.\n",
        "  a <- min(a, 20)\n",
        "  \n",
        "  # First find the probability of being non-zero\n",
        "    wpost <- wpost.laplace(w, x, s, a)\n",
        "  \n",
        "  # Now find the posterior mean conditional on being non-zero\n",
        "    sx <- sign(x)\n",
        "    x <- abs(x)\n",
        "    xpa <- x/s + s*a\n",
        "    xma <- x/s - s*a\n",
        "    xpa[xpa > 35] <- 35\n",
        "    xma[xma < -35] <- -35\n",
        "    \n",
        "    cp1 <- pnorm(xma)\n",
        "    cp2 <- pnorm( - xpa)\n",
        "    ef <- exp(pmin(2 * a * x, 100))\n",
        "    postmeancond <- x - a * s^2 * ( 2 * cp1/(cp1 + ef * cp2) - 1)\n",
        "  \n",
        "  # Calculate posterior mean and return\n",
        "    return(sx * wpost * postmeancond)\n",
        "}\n",
        "```\n",
        "\n",
        "결과\n",
        "\n",
        "-   Python"
      ],
      "id": "992cc9a1-6e38-404f-89f6-8dd22c7f5330"
    },
    {
      "cell_type": "code",
      "execution_count": 128,
      "metadata": {},
      "outputs": [],
      "source": [
        "ebayesthresh_torch.postmean_laplace(torch.tensor([-2.0,1.0,0.0,-4.0,8.0,50.0]))"
      ],
      "id": "82b4fc5b-6d08-44d8-bc18-ba08d4f510c4"
    },
    {
      "cell_type": "markdown",
      "metadata": {},
      "source": [
        "-   R\n",
        "\n",
        "``` r\n",
        "> postmean.laplace(c(-2,1,0,-4,8,50))\n",
        "[1] -1.0115896  0.2709533  0.0000000 -3.4880092  7.5000000 49.5000000\n",
        "```\n",
        "\n",
        "# postmed\n",
        "\n",
        "Description\n",
        "\n",
        "> Given a single value or a vector of data and sampling standard\n",
        "> deviations (sd is 1 for Cauchy prior), find the corresponding\n",
        "> posterior median estimate(s) of the underlying signal value(s).\n",
        "\n",
        "사후 확률 중앙값 추정치 구하기"
      ],
      "id": "cae7c42f-1d58-451b-a79e-2b08a95b95a7"
    },
    {
      "cell_type": "code",
      "execution_count": 105,
      "metadata": {},
      "outputs": [],
      "source": [
        "x = np.array([1.5, 2.5, 3.5])\n",
        "s = 1\n",
        "w = 0.5\n",
        "prior = \"laplace\"\n",
        "a = 0.5"
      ],
      "id": "1fbbb2e1-969d-40a5-bf88-6f6998ccd12f"
    },
    {
      "cell_type": "code",
      "execution_count": 106,
      "metadata": {},
      "outputs": [],
      "source": [
        "pr = prior[0:1]\n",
        "pr"
      ],
      "id": "7115ed8e-67d6-4935-88ef-288149d0701c"
    },
    {
      "cell_type": "code",
      "execution_count": 107,
      "metadata": {},
      "outputs": [],
      "source": [
        "if pr == \"l\":\n",
        "    muhat = ebayesthresh.postmed_laplace(x, s, w, a)\n",
        "elif pr == \"c\":\n",
        "    if np.any(s != 1):\n",
        "        raise ValueError(\"Only standard deviation of 1 is allowed for Cauchy prior.\")\n",
        "    muhat = ebayesthresh.postmed_cauchy(x, w)\n",
        "else:\n",
        "    raise ValueError(f\"Unknown prior: {prior}\")"
      ],
      "id": "20cfcfd2-c4d4-4c98-9c4b-d1ec25a94f7a"
    },
    {
      "cell_type": "code",
      "execution_count": 108,
      "metadata": {},
      "outputs": [],
      "source": [
        "muhat"
      ],
      "id": "419c63f7-b1a4-4091-a991-5522da2b08d6"
    },
    {
      "cell_type": "markdown",
      "metadata": {},
      "source": [
        "R코드\n",
        "\n",
        "``` r\n",
        "postmed <- function (x, s = 1, w = 0.5, prior = \"laplace\", a = 0.5) {\n",
        "#\n",
        "#  Find the posterior median for the appropriate prior for \n",
        "#   given x, s (sd), w and a. \n",
        "#\n",
        "    pr <- substring(prior, 1, 1)\n",
        "    if(pr == \"l\")\n",
        "        muhat <- postmed.laplace(x, s, w, a)\n",
        "    if(pr == \"c\") {\n",
        "            if(any(s != 1))\n",
        "                stop(paste(\"Only standard deviation of 1 is allowed\",\n",
        "                           \"for Cauchy prior.\"))\n",
        "        muhat <- postmed.cauchy(x, w)\n",
        "    }\n",
        "    return(muhat)\n",
        "}\n",
        "```\n",
        "\n",
        "결과\n",
        "\n",
        "-   Python"
      ],
      "id": "5ed6aa30-94a9-42c8-bc5f-ddb5d3308543"
    },
    {
      "cell_type": "code",
      "execution_count": 109,
      "metadata": {},
      "outputs": [],
      "source": [
        "ebayesthresh.postmed(x = np.array([1.5, 2.5, 3.5]))"
      ],
      "id": "fc3e6794-fdce-4ecd-a076-d656508773b8"
    },
    {
      "cell_type": "markdown",
      "metadata": {},
      "source": [
        "-   R\n",
        "\n",
        "``` r\n",
        " postmed(x=c(1.5, 2.5, 3.5))\n",
        "[1] 0.000000 1.734132 2.978158\n",
        "```\n",
        "\n",
        "# postmed_cauchy"
      ],
      "id": "ac3c3e31-cd7e-4a3f-8070-b8e1904b9848"
    },
    {
      "cell_type": "code",
      "execution_count": 129,
      "metadata": {},
      "outputs": [],
      "source": [
        "x = torch.tensor([10, 15, 20, 25])\n",
        "w = 0.5"
      ],
      "id": "6b3d3220-3956-4e81-885f-9d9787608323"
    },
    {
      "cell_type": "code",
      "execution_count": 130,
      "metadata": {},
      "outputs": [],
      "source": [
        "nx = len(x)\n",
        "nx"
      ],
      "id": "1ba01671-d551-4f44-86a5-588fa0df51c8"
    },
    {
      "cell_type": "code",
      "execution_count": 131,
      "metadata": {},
      "outputs": [],
      "source": [
        "zest = torch.full((nx,), float('nan'))\n",
        "zest"
      ],
      "id": "1b6fe68c-c2d7-4737-9f4e-7e1a703c56b7"
    },
    {
      "cell_type": "code",
      "execution_count": 132,
      "metadata": {},
      "outputs": [],
      "source": [
        "w = torch.full((nx,), w)\n",
        "w"
      ],
      "id": "a9eb118a-86b1-4422-b6ff-15551cb502c8"
    },
    {
      "cell_type": "code",
      "execution_count": 133,
      "metadata": {},
      "outputs": [],
      "source": [
        "ax = torch.abs(x)\n",
        "ax"
      ],
      "id": "5865aedc-29d2-46f0-aa50-f335c059cca4"
    },
    {
      "cell_type": "code",
      "execution_count": 134,
      "metadata": {},
      "outputs": [],
      "source": [
        "j = ax < 20\n",
        "j"
      ],
      "id": "eefa743b-8d90-49e1-ad39-277fabd5ea82"
    },
    {
      "cell_type": "code",
      "execution_count": 135,
      "metadata": {},
      "outputs": [],
      "source": [
        "zest[~j] = ax[~j] - 2 / ax[~j]\n",
        "zest"
      ],
      "id": "8ab6b946-a281-46b8-a4bc-0a9af1aae8ec"
    },
    {
      "cell_type": "code",
      "execution_count": 136,
      "metadata": {},
      "outputs": [],
      "source": [
        "torch.zeros(torch.sum(j))"
      ],
      "id": "5f5205a0-2b22-432d-9091-8312a93e5970"
    },
    {
      "cell_type": "code",
      "execution_count": 137,
      "metadata": {},
      "outputs": [],
      "source": [
        "torch.zeros(torch.sum(j)).shape[0]"
      ],
      "id": "ba175e06-8b65-463d-8452-ecb452edad85"
    },
    {
      "cell_type": "code",
      "execution_count": 138,
      "metadata": {},
      "outputs": [],
      "source": [
        "if torch.sum(j) > 0:\n",
        "    zest[j] = ebayesthresh_torch.vecbinsolv(zf=torch.zeros(torch.sum(j)),\n",
        "                                            fun=ebayesthresh_torch.cauchy_medzero,\n",
        "                                             tlo=0, thi=torch.max(ax[j]), z=ax[j], w=w[j])"
      ],
      "id": "4706058f-925f-4b75-acfb-55e5dc7d96fc"
    },
    {
      "cell_type": "code",
      "execution_count": 139,
      "metadata": {},
      "outputs": [],
      "source": [
        "zest[zest < 1e-7] = 0\n",
        "zest"
      ],
      "id": "636973b1-2556-4d08-aa24-05df45ea3152"
    },
    {
      "cell_type": "code",
      "execution_count": 140,
      "metadata": {},
      "outputs": [],
      "source": [
        "zest = torch.sign(x) * zest\n",
        "zest"
      ],
      "id": "55ebc905-121b-4708-a6cd-dff8706fbef6"
    },
    {
      "cell_type": "markdown",
      "metadata": {},
      "source": [
        "R코드\n",
        "\n",
        "``` r\n",
        "postmed.cauchy <- function(x, w) {\n",
        "#\n",
        "# find the posterior median of the Cauchy prior with mixing weight w,\n",
        "# pointwise for each of the data points x\n",
        "#\n",
        "    nx <- length(x)\n",
        "    zest <- rep(NA, length(x))\n",
        "    w <- rep(w, length.out = nx)\n",
        "    ax <- abs(x)\n",
        "    j <- (ax < 20)\n",
        "    zest[!j] <- ax[!j] - 2/ax[!j]\n",
        "    if(sum(j) > 0) {\n",
        "      zest[j] <- vecbinsolv(zf = rep(0, sum(j)), fun = cauchy.medzero,\n",
        "                                tlo = 0, thi = max(ax[j]), z = ax[j],\n",
        "                                w = w[j])\n",
        "    }\n",
        "    zest[zest < 1e-007] <- 0\n",
        "    zest <- sign(x) * zest\n",
        "    return(zest)\n",
        "```\n",
        "\n",
        "결과\n",
        "\n",
        "-   Python\n",
        "\n",
        "### 달라!"
      ],
      "id": "c25ef651-43f3-43e4-86a5-01b250a416d1"
    },
    {
      "cell_type": "code",
      "execution_count": 6,
      "metadata": {},
      "outputs": [],
      "source": [
        "ebayesthresh_torch.postmed_cauchy(x=torch.tensor([10.0, 15.0, 20.0, 25.0]), w=0.5)"
      ],
      "id": "09ce651c-8952-423e-80cc-18723c533745"
    },
    {
      "cell_type": "markdown",
      "metadata": {},
      "source": [
        "-   R\n",
        "\n",
        "``` r\n",
        "> postmed.cauchy(x=c(10, 15, 20, 25),w=0.5)\n",
        "[1]  9.800643 14.866861 19.900000 24.920000\n",
        "```\n",
        "\n",
        "# postmed_laplace"
      ],
      "id": "a4dada67-a649-4634-97f4-3bfdeadefce6"
    },
    {
      "cell_type": "code",
      "execution_count": 110,
      "metadata": {},
      "outputs": [],
      "source": [
        "x = np.array([1.5, 2.5, 3.5])\n",
        "s = 1\n",
        "w = 0.5\n",
        "a = 0.5"
      ],
      "id": "f485fb8a-31fb-4bb4-882c-2becec986d39"
    },
    {
      "cell_type": "code",
      "execution_count": 111,
      "metadata": {},
      "outputs": [],
      "source": [
        "a = min(a, 20)\n",
        "a"
      ],
      "id": "752bbe0f-99e2-484c-a983-09da2213bcc9"
    },
    {
      "cell_type": "code",
      "execution_count": 112,
      "metadata": {},
      "outputs": [],
      "source": [
        "sx = np.sign(x)\n",
        "sx"
      ],
      "id": "9079596f-82df-4cd6-b9a7-c314fdfd3d08"
    },
    {
      "cell_type": "code",
      "execution_count": 113,
      "metadata": {},
      "outputs": [],
      "source": [
        "x = np.abs(x)\n",
        "x"
      ],
      "id": "d8b8c65d-39d5-48d4-9486-401188dce551"
    },
    {
      "cell_type": "code",
      "execution_count": 114,
      "metadata": {},
      "outputs": [],
      "source": [
        "xma = x / s - s * a\n",
        "xma"
      ],
      "id": "2b460c56-9d4b-411f-8167-f13075b6153e"
    },
    {
      "cell_type": "code",
      "execution_count": 115,
      "metadata": {},
      "outputs": [],
      "source": [
        "zz = 1 / a * (1 / s * norm.pdf(xma)) * (1 / w + ebayesthresh.beta_laplace(x, s, a))\n",
        "zz"
      ],
      "id": "d76cdd6f-6d87-4ea6-9394-2ab1c8626e2b"
    },
    {
      "cell_type": "code",
      "execution_count": 116,
      "metadata": {},
      "outputs": [],
      "source": [
        "zz[xma > 25] = 0.5\n",
        "zz"
      ],
      "id": "26b4f2f6-0311-4a7b-b03e-56c650996404"
    },
    {
      "cell_type": "code",
      "execution_count": 117,
      "metadata": {},
      "outputs": [],
      "source": [
        "mucor = norm.ppf(np.minimum(zz, 1))\n",
        "mucor"
      ],
      "id": "c1edf1f3-c47e-44fb-818f-3033232ca524"
    },
    {
      "cell_type": "code",
      "execution_count": 118,
      "metadata": {},
      "outputs": [],
      "source": [
        "muhat = sx * np.maximum(0, xma - mucor) * s\n",
        "muhat"
      ],
      "id": "9a3bf836-03b1-440b-b5d8-7fcaade58174"
    },
    {
      "cell_type": "markdown",
      "metadata": {},
      "source": [
        "R코드\n",
        "\n",
        "``` r\n",
        "postmed.laplace <- function(x, s = 1, w = 0.5, a = 0.5) {\n",
        "#\n",
        "#  Find the posterior median for the Laplace prior for \n",
        "#   given x (observations), s (sd), w and a.\n",
        "#\n",
        "    \n",
        "  # Only allow a < 20 for input value\n",
        "  a <- min(a, 20)\n",
        "  \n",
        "  # Work with the absolute value of x, and for x > 25 use the approximation\n",
        "  #  to dnorm(x-a)*beta.laplace(x, a)\n",
        "    sx <- sign(x)\n",
        "    x <- abs(x)\n",
        "    xma <- x/s - s*a\n",
        "    zz <- 1/a * (1/s*dnorm(xma)) * (1/w + beta.laplace(x, s, a))\n",
        "    zz[xma > 25] <- 1/2\n",
        "    mucor <- qnorm(pmin(zz, 1))\n",
        "    muhat <- sx * pmax(0, xma - mucor) * s\n",
        "    return(muhat)\n",
        "}\n",
        "```\n",
        "\n",
        "결과\n",
        "\n",
        "-   Python"
      ],
      "id": "19d518e0-6d58-4cf2-bef6-f49da0f231e6"
    },
    {
      "cell_type": "code",
      "execution_count": 119,
      "metadata": {},
      "outputs": [],
      "source": [
        "ebayesthresh.postmed_laplace(x = np.array([1.5, 2.5, 3.5]))"
      ],
      "id": "cc0cb736-3192-4693-a946-6004a28f7b9f"
    },
    {
      "cell_type": "markdown",
      "metadata": {},
      "source": [
        "-   R\n",
        "\n",
        "``` r\n",
        "> postmed.laplace(x=c(1.5, 2.5, 3.5), s = 1, w = 0.5, a = 0.5)\n",
        "[1] 0.000000 1.734132 2.978158\n",
        "```\n",
        "\n",
        "# threshld\n",
        "\n",
        "> 임계값 t를 이용해서 데이터 조정"
      ],
      "id": "42ae9ac2-c9d7-42d7-8f00-3e04c9e84651"
    },
    {
      "cell_type": "code",
      "execution_count": 4,
      "metadata": {},
      "outputs": [],
      "source": [
        "x = torch.tensor(range(-5,5))\n",
        "t=1.4\n",
        "hard=False"
      ],
      "id": "216a09d4-da51-471d-be9b-f073944c71d2"
    },
    {
      "cell_type": "code",
      "execution_count": 5,
      "metadata": {},
      "outputs": [],
      "source": [
        "if hard:\n",
        "    z = x * (torch.abs(x) >= t)\n",
        "else:\n",
        "    z = torch.sign(x) * torch.maximum(torch.tensor(0.0), torch.abs(x) - t)"
      ],
      "id": "1898d591-06c0-4723-afda-a01f081ee379"
    },
    {
      "cell_type": "code",
      "execution_count": 6,
      "metadata": {},
      "outputs": [],
      "source": [
        "z"
      ],
      "id": "043604e6-2845-48fa-9630-c101da258b50"
    },
    {
      "cell_type": "markdown",
      "metadata": {},
      "source": [
        "R코드\n",
        "\n",
        "``` r\n",
        "threshld <- function(x, t, hard = TRUE) {\n",
        "#\n",
        "#  threshold the data x using threshold t\n",
        "#  if hard=TRUE use hard thresholding\n",
        "#  if hard=FALSE use soft thresholding\n",
        "    if(hard) z <- x * (abs(x) >= t) else {\n",
        "        z <- sign(x) * pmax(0, abs(x) - t)\n",
        "    }\n",
        "    return(z)\n",
        "}\n",
        "```\n",
        "\n",
        "결과\n",
        "\n",
        "-   Python"
      ],
      "id": "2a1a769d-426a-48ef-b05b-8a89dbf1dff7"
    },
    {
      "cell_type": "code",
      "execution_count": 7,
      "metadata": {},
      "outputs": [],
      "source": [
        "ebayesthresh_torch.threshld(torch.tensor(range(-5,5)), t=1.4, hard=False)"
      ],
      "id": "0207eaa7-ba48-48ac-abef-b0bf0ddccd0c"
    },
    {
      "cell_type": "markdown",
      "metadata": {},
      "source": [
        "-   R\n",
        "\n",
        "``` r\n",
        "> threshld(as.array(seq(-5, 5)), t=1.4, hard=FALSE)\n",
        " [1] -3.6 -2.6 -1.6 -0.6  0.0  0.0  0.0  0.6  1.6  2.6  3.6\n",
        "```\n",
        "\n",
        "# wandafromx\n",
        "\n",
        "> Given a vector of data and a single value or vector of sampling\n",
        "> standard deviations, find the marginal maximum likelihood choice of\n",
        "> both weight and scale factor under the Laplace prior"
      ],
      "id": "6b326914-967c-4804-ac85-cb330fc99e0c"
    },
    {
      "cell_type": "code",
      "execution_count": 124,
      "metadata": {},
      "outputs": [],
      "source": [
        "x = np.array([-2,1,0,-4,8], dtype=float)\n",
        "s = 1\n",
        "universalthresh = True"
      ],
      "id": "a4fa125f-fd39-40df-ba23-57465d12e44e"
    },
    {
      "cell_type": "code",
      "execution_count": 125,
      "metadata": {},
      "outputs": [],
      "source": [
        "if universalthresh:\n",
        "    thi = np.sqrt(2 * np.log(len(x))) * s\n",
        "else:\n",
        "    thi = np.inf"
      ],
      "id": "7e3238e2-e904-4fc7-8839-b2adf0ad3f0a"
    },
    {
      "cell_type": "code",
      "execution_count": 126,
      "metadata": {},
      "outputs": [],
      "source": [
        "thi"
      ],
      "id": "c216dbab-0e8c-42d3-9863-b07b725b9c78"
    },
    {
      "cell_type": "code",
      "execution_count": 127,
      "metadata": {},
      "outputs": [],
      "source": [
        "if isinstance(s, int):\n",
        "    tlo = np.zeros(len(str(s)))\n",
        "else:\n",
        "    tlo = np.zeros(len(s))"
      ],
      "id": "cce71525-16f8-4d55-b8a0-e66576b86a87"
    },
    {
      "cell_type": "code",
      "execution_count": 128,
      "metadata": {},
      "outputs": [],
      "source": [
        "tlo"
      ],
      "id": "707b65ee-17ad-4728-b4de-c890809831b7"
    },
    {
      "cell_type": "code",
      "execution_count": 129,
      "metadata": {},
      "outputs": [],
      "source": [
        "lo = np.array([0, 0.04])\n",
        "lo"
      ],
      "id": "aff5dc4d-18fc-4f8e-b8b5-48ff4345fa7e"
    },
    {
      "cell_type": "code",
      "execution_count": 130,
      "metadata": {},
      "outputs": [],
      "source": [
        "hi = np.array([1, 3])\n",
        "hi"
      ],
      "id": "254942b8-ea01-4690-ba94-93059e7de381"
    },
    {
      "cell_type": "code",
      "execution_count": 131,
      "metadata": {},
      "outputs": [],
      "source": [
        "startpar = np.array([0.5, 0.5])\n",
        "startpar"
      ],
      "id": "501f23f2-ded1-4f88-ba65-63f569e25e68"
    },
    {
      "cell_type": "markdown",
      "metadata": {},
      "source": [
        "------------------------------------------------------------------------\n",
        "\n",
        "negloglik_laplace 결과도 같음"
      ],
      "id": "992993cb-d2a6-44b0-a6af-1e90b614ac86"
    },
    {
      "cell_type": "code",
      "execution_count": 132,
      "metadata": {},
      "outputs": [],
      "source": [
        "ebayesthresh.negloglik_laplace(startpar, x, s, tlo, thi).round(5)"
      ],
      "id": "af94037e-8000-4297-9dc0-d363021fb9a4"
    },
    {
      "cell_type": "markdown",
      "metadata": {},
      "source": [
        "-   R\n",
        "\n",
        "``` r\n",
        "> negloglik.laplace(startpar,x,s,thi,tlo)\n",
        "[1] -32.32783\n",
        "```\n",
        "\n",
        "------------------------------------------------------------------------"
      ],
      "id": "9b6f50fd-f99c-48b6-aa61-6b6edcddd8d5"
    },
    {
      "cell_type": "code",
      "execution_count": 133,
      "metadata": {},
      "outputs": [],
      "source": [
        "if 'optim' in globals():\n",
        "    result = minimize(ebayesthresh.negloglik_laplace, startpar, method='L-BFGS-B', bounds=[(lo[0], hi[0]), (lo[1], hi[1])], args=(x, s, tlo, thi))\n",
        "    uu = result.x\n",
        "else:\n",
        "    result = minimize(ebayesthresh.negloglik_laplace, startpar, bounds=[(lo[0], hi[0]), (lo[1], hi[1])], args=(x, s, tlo, thi))\n",
        "    uu = result.x"
      ],
      "id": "ca8d507d-6f28-40f9-a93d-012722318759"
    },
    {
      "cell_type": "code",
      "execution_count": 134,
      "metadata": {},
      "outputs": [],
      "source": [
        "minimize(ebayesthresh.negloglik_laplace, startpar, method='L-BFGS-B',\n",
        "         bounds=[(lo[0], hi[0]), (lo[1], hi[1])], args=(x, s, tlo, thi)).x"
      ],
      "id": "14273393-f09e-4376-b529-bc7f6140946c"
    },
    {
      "cell_type": "code",
      "execution_count": 135,
      "metadata": {},
      "outputs": [],
      "source": [
        "minimize(ebayesthresh.negloglik_laplace, startpar, method='L-BFGS-B',\n",
        "         bounds=[(lo[0], hi[0]), (lo[1], hi[1])], args=(x, s, thi, tlo)).fun.round(5)"
      ],
      "id": "376d5a67-1003-4a53-887d-1fe2928f163d"
    },
    {
      "cell_type": "markdown",
      "metadata": {},
      "source": [
        "``` r\n",
        "> optim(startpar, negloglik.laplace, method=\"L-BFGS-B\",\n",
        "+               lower = lo, upper = hi, xx = x, ss = s, thi = thi,\n",
        "+               tlo = tlo)$par\n",
        "[1] 0.6948121 0.3001091\n",
        "> optim(startpar, negloglik.laplace, method=\"L-BFGS-B\",\n",
        "+               lower = lo, upper = hi, xx = x, ss = s, thi = thi,\n",
        "+               tlo = tlo)$value\n",
        "[1] -33.07559\n",
        "```"
      ],
      "id": "7bbb9103-33c3-4ab8-800c-0c153f081991"
    },
    {
      "cell_type": "code",
      "execution_count": 136,
      "metadata": {},
      "outputs": [],
      "source": [
        "a = uu[1]\n",
        "a"
      ],
      "id": "c2078b68-3a38-4110-ab7f-6ab8a1c73193"
    },
    {
      "cell_type": "code",
      "execution_count": 137,
      "metadata": {},
      "outputs": [],
      "source": [
        "wlo = ebayesthresh.wfromt(thi, s, a=a)\n",
        "wlo"
      ],
      "id": "2920d7e7-9fb5-4109-b8a2-29d17772b3bc"
    },
    {
      "cell_type": "code",
      "execution_count": 138,
      "metadata": {},
      "outputs": [],
      "source": [
        "whi = ebayesthresh.wfromt(tlo, s, a=a)\n",
        "whi"
      ],
      "id": "2abe8d5a-4f63-4e7c-b5d2-d404cfc782c6"
    },
    {
      "cell_type": "code",
      "execution_count": 139,
      "metadata": {},
      "outputs": [],
      "source": [
        "wlo = np.max(wlo)\n",
        "wlo"
      ],
      "id": "a6fa31cc-0444-4c2a-be58-3a62df0f7959"
    },
    {
      "cell_type": "code",
      "execution_count": 140,
      "metadata": {},
      "outputs": [],
      "source": [
        "whi = np.min(whi)\n",
        "whi"
      ],
      "id": "33ba010f-71e3-413e-8e88-ba3f6a1a7f29"
    },
    {
      "cell_type": "markdown",
      "metadata": {},
      "source": [
        "여기서 uu\\[0\\]값이 R과 다름"
      ],
      "id": "6767620b-5aaf-42d3-af6e-3af04828b637"
    },
    {
      "cell_type": "code",
      "execution_count": 141,
      "metadata": {},
      "outputs": [],
      "source": [
        "w = uu[0] * (whi - wlo) + wlo\n",
        "w"
      ],
      "id": "ec7940ed-4b74-4b02-a7f3-985969881764"
    },
    {
      "cell_type": "markdown",
      "metadata": {},
      "source": [
        "R코드\n",
        "\n",
        "``` r\n",
        "wandafromx <- function(x, s = 1, universalthresh = TRUE) {\n",
        "#\n",
        "#  Find the marginal max lik estimators of w and a given standard\n",
        "#   deviation s, using a bivariate optimization;\n",
        "#    \n",
        "#  If universalthresh=TRUE, the thresholds will be upper bounded by\n",
        "#   universal threshold adjusted by standard deviation. The threshold\n",
        "#   is constrained to lie between 0 and sqrt ( 2 log (n)) *\n",
        "#   s. Otherwise, threshold can take any nonnegative value;\n",
        "#\n",
        "#  If running R, the routine optim is used; in S-PLUS the routine is\n",
        "#   nlminb.\n",
        "#\n",
        "    \n",
        "  # Range for thresholds\n",
        "  if(universalthresh) {\n",
        "    thi <- sqrt(2 * log(length(x))) * s\n",
        "  } else{\n",
        "    thi <- Inf\n",
        "  }\n",
        "  \n",
        "    tlo <- rep(0, length(s))\n",
        "    lo  <-  c(0,0.04)\n",
        "    hi  <-  c(1,3)\n",
        "    startpar  <-  c(0.5,0.5)\n",
        "    if (exists(\"optim\")) {\n",
        "      uu <- optim(startpar, negloglik.laplace, method=\"L-BFGS-B\",\n",
        "                      lower = lo, upper = hi, xx = x, ss = s, thi = thi,\n",
        "                      tlo = tlo)\n",
        "          uu <- uu$par\n",
        "    }\n",
        "    else {\n",
        "          uu <- nlminb(startpar, negloglik.laplace, lower = lo,\n",
        "                       upper = hi, xx = x, ss = s, thi = thi, tlo = tlo)\n",
        "          uu <- uu$parameters\n",
        "        }\n",
        "    \n",
        "    a <- uu[2]\n",
        "    wlo <- wfromt(thi, s, a = a)\n",
        "    whi <- wfromt(tlo, s, a = a)\n",
        "    wlo <- max(wlo)\n",
        "    whi <- min(whi)\n",
        "    w <- uu[1]*(whi - wlo) + wlo\n",
        "    return(list(w=w, a=a))\n",
        "}\n",
        "```\n",
        "\n",
        "결과\n",
        "\n",
        "-   Pythom"
      ],
      "id": "09526336-c8ee-4cab-84af-d9539720a440"
    },
    {
      "cell_type": "code",
      "execution_count": 142,
      "metadata": {},
      "outputs": [],
      "source": [
        "ebayesthresh.wandafromx(np.array([-2,1,0,-4,8,50], dtype=float))"
      ],
      "id": "a7131cbd-1729-4ec7-a77d-6906a49c29f2"
    },
    {
      "cell_type": "code",
      "execution_count": 143,
      "metadata": {},
      "outputs": [],
      "source": [
        "ebayesthresh.wandafromx(np.array([-2,1,0,-4,8], dtype=float))"
      ],
      "id": "71589270-c5b6-4144-83e1-6b7108cdfc36"
    },
    {
      "cell_type": "markdown",
      "metadata": {},
      "source": [
        "-   R\n",
        "\n",
        "``` r\n",
        "> wandafromx(c(-2,1,0,-4,8,50))\n",
        "$w\n",
        "[1] 1\n",
        "\n",
        "$a\n",
        "[1] 0.4163946\n",
        "> wandafromx(c(-2,1,0,-4,8))\n",
        "$w\n",
        "[1] 0.8466808\n",
        "\n",
        "$a\n",
        "[1] 0.3001091\n",
        "```\n",
        "\n",
        "# Mad(Median Absolute Deviation)\n",
        "\n",
        "> 중앙값 절대 편차, 분산이나 퍼진 정도 확인 가능\n",
        "\n",
        "결과\n",
        "\n",
        "-   Python"
      ],
      "id": "fcf636fe-4f70-467c-8bf6-1592dadb2ae0"
    },
    {
      "cell_type": "code",
      "execution_count": 3,
      "metadata": {},
      "outputs": [],
      "source": [
        "ebayesthresh_torch.mad(torch.tensor([1, 2, 3, 3, 4, 4, 4, 5, 5.5, 6, 6, 6.5, 7, 7, 7.5, 8, 9, 12, 52, 90]))"
      ],
      "id": "96c83ff1-b6fa-412a-abea-7dd9726c7431"
    },
    {
      "cell_type": "markdown",
      "metadata": {},
      "source": [
        "-   R\n",
        "\n",
        "``` r\n",
        "> mad(c(1, 2, 3, 3, 4, 4, 4, 5, 5.5, 6, 6, 6.5, 7, 7, 7.5, 8, 9, 12, 52, 90))\n",
        "[1] 2.9652\n",
        "```\n",
        "\n",
        "# wfromt\n",
        "\n",
        "Description\n",
        "\n",
        "> Given a value or vector of thresholds and sampling standard deviations\n",
        "> (sd equals 1 for Cauchy prior), find the mixing weight for which this\n",
        "> is(these are) the threshold(s) of the posterior median estimator. If a\n",
        "> vector of threshold values is provided, the vector of corresponding\n",
        "> weights is returned.\n",
        "\n",
        "*주어진 임계값과 표준편차에 대해, posterior median estimator에서 이\n",
        "임계값이 나오도록 하는 혼합 가중치를 계산하는 함수가 제공된다.*"
      ],
      "id": "5e65d32c-2193-4d71-b838-def48a2a53a2"
    },
    {
      "cell_type": "code",
      "execution_count": 28,
      "metadata": {},
      "outputs": [],
      "source": [
        "# tt = np.array([2,3,5])\n",
        "tt = torch.tensor(2.14)\n",
        "s = 1\n",
        "prior = 'laplace\"'\n",
        "a = 0.5"
      ],
      "id": "75b9fdf5-3249-4c43-8b3f-7af41d8a1736"
    },
    {
      "cell_type": "code",
      "execution_count": 29,
      "metadata": {},
      "outputs": [],
      "source": [
        "pr = prior[0:1]\n",
        "pr"
      ],
      "id": "6376718e-39ce-463a-8286-e9e8466e5226"
    },
    {
      "cell_type": "code",
      "execution_count": null,
      "metadata": {},
      "outputs": [],
      "source": [
        "torch.tensor(norm.cdf(5, loc=0, scale=1)"
      ],
      "id": "c403b156-77ec-4b41-982c-20ab63dec45e"
    },
    {
      "cell_type": "code",
      "execution_count": 39,
      "metadata": {},
      "outputs": [
        {
          "output_type": "stream",
          "name": "stderr",
          "text": [
            "UserWarning: To copy construct from a tensor, it is recommended to use sourceTensor.clone().detach() or sourceTensor.clone().detach().requires_grad_(True), rather than torch.tensor(sourceTensor).\n",
            "  tma = torch.tensor(tt / s - s * a)"
          ]
        }
      ],
      "source": [
        "if pr == \"l\":\n",
        "    tma = torch.tensor(tt / s - s * a)\n",
        "    wi = 1 / torch.abs(tma)\n",
        "    wi[tma > -35] = torch.tensor(norm.cdf(tma[tma > -35], loc=0, scale=1)/norm.pdf(tma[tma > -35], loc=0, scale=1))\n",
        "    wi = a * s * wi - ebayesthresh_torch.beta_laplace(tt, s, a)"
      ],
      "id": "9e88262a-9e92-4d81-82b0-72b4d420feb7"
    },
    {
      "cell_type": "code",
      "execution_count": 40,
      "metadata": {},
      "outputs": [],
      "source": [
        "if pr == \"c\":\n",
        "    dnz = norm.pdf(tt, loc=0, scale=1)\n",
        "    wi = torch.tensor(1 + (norm.cdf(tt, loc=0, scale=1) - tt * dnz - 1/2) / (torch.sqrt(torch.tensor(torch.pi/2)) * dnz * tt**2))\n",
        "    wi[~torch.isfinite(wi)] = 1"
      ],
      "id": "25b853af-e0b3-439a-ab71-271949a11bc7"
    },
    {
      "cell_type": "code",
      "execution_count": 41,
      "metadata": {},
      "outputs": [],
      "source": [
        "1 / wi"
      ],
      "id": "a6d9bc89-e3a6-4a0e-9dbb-df6eaa23fce1"
    },
    {
      "cell_type": "markdown",
      "metadata": {},
      "source": [
        "-   R코드\n",
        "\n",
        "``` r\n",
        "wfromt <- function(tt, s = 1, prior = \"laplace\", a = 0.5) {\n",
        "  #\n",
        "  #  Find the weight that has posterior median threshold tt, \n",
        "  #   given s (sd) and a.\n",
        "  #\n",
        "pr <- substring(prior, 1, 1)\n",
        "if(pr == \"l\"){\n",
        "  tma <- tt/s - s*a\n",
        "  wi <- 1/abs(tma)\n",
        "  wi[tma > -35] <- pnorm(tma[tma > -35])/dnorm(tma[tma > -35])\n",
        "  wi <- a * s * wi - beta.laplace(tt, s, a)\n",
        "}\n",
        "if(pr == \"c\") {\n",
        "  dnz <- dnorm(tt)\n",
        "  wi <- 1 + (pnorm(tt) - tt * dnz - 1/2)/\n",
        "    (sqrt(pi/2) * dnz * tt^2)\n",
        "  wi[!is.finite(wi)] <- 1\n",
        "}\n",
        "1/wi\n",
        "}\n",
        "```\n",
        "\n",
        "결과\n",
        "\n",
        "-   Python"
      ],
      "id": "10ddfd52-695f-4e11-a8ff-8f789688d627"
    },
    {
      "cell_type": "code",
      "execution_count": 4,
      "metadata": {},
      "outputs": [],
      "source": [
        "ebayesthresh_torch.wfromt(torch.tensor([2,3,5]),prior='cachy')"
      ],
      "id": "73b44642-ca91-4f3a-a22b-1e8e52944e63"
    },
    {
      "cell_type": "code",
      "execution_count": 6,
      "metadata": {},
      "outputs": [],
      "source": [
        "ebayesthresh_torch.wfromt(torch.tensor(2),prior='cachy')"
      ],
      "id": "fb88ee73-ae38-4d45-8644-261900e07228"
    },
    {
      "cell_type": "code",
      "execution_count": 7,
      "metadata": {},
      "outputs": [],
      "source": [
        "ebayesthresh_torch.wfromt(torch.tensor(2),prior='laplace')"
      ],
      "id": "7eb4748a-a1f0-4865-afeb-020e91bcfa4c"
    },
    {
      "cell_type": "markdown",
      "metadata": {},
      "source": [
        "-   R\n",
        "\n",
        "``` r\n",
        "> wfromt(c(2,3,5),prior='cachy')\n",
        "[1] 4.229634e-01 9.337993e-02 9.315909e-05\n",
        "> wfromt(2,prior='cachy')\n",
        "[1] 0.4229634\n",
        "> wfromt(2,prior='laplace')\n",
        "[1] 0.3686338\n",
        "```\n",
        "\n",
        "# wfromx\n",
        "\n",
        "Description\n",
        "\n",
        "> The weight is found by marginal maximum likelihood. The search is over\n",
        "> weights corresponding to threshold $t_i$ in the range\n",
        "> $[0, s_i \\sqrt{2 log n}]$ if universalthresh=TRUE, where n is the\n",
        "> length of the data vector and $(s_1, ..., s_n$) ($s_i$ is $1$ for\n",
        "> Cauchy prior) is the vector of sampling standard deviation of data\n",
        "> ($x_1, ..., x_n$); otherwise, the search is over $[0, 1]$. The search\n",
        "> is by binary search for a solution to the equation $S(w) = 0$, where\n",
        "> $S$ is the derivative of the log likelihood. The binary search is on a\n",
        "> logarithmic scale in $w$. If the Laplace prior is used, the scale\n",
        "> parameter is fixed at the value given for $a$, and defaults to $0.5$\n",
        "> if no value is provided. To estimate a as well as $w$ by marginal\n",
        "> maximum likelihood, use the routine wandafromx.\n",
        "\n",
        "> Suppose the vector $(x_1, \\cdots, x_n)$ is such that $x_i$ is drawn\n",
        "> independently from a normal distribution with mean $\\theta_i$ and\n",
        "> standard deviation $s_i$ ($s_i$ equals $1$ for Cauchy prior). The\n",
        "> prior distribution of the $\\theta_i$ is a mixture with probability\n",
        "> $1 − w$ of zero and probability $w$ of a given symmetric heavy-tailed\n",
        "> distribution. This routine finds the marginal maximum likelihood\n",
        "> estimate of the parameter $w$.\n",
        "\n",
        "*주어진 정규 분포 데이터에 대해 $\\theta_𝑖$의 사전 분포가 주어진\n",
        "상황에서, 모수 $w$의 최대우도 추정치를 계산하는 방법을 제공한다*"
      ],
      "id": "8cfb639c-5bf2-4b43-aa4e-4e5e14059f48"
    },
    {
      "cell_type": "code",
      "execution_count": 155,
      "metadata": {},
      "outputs": [],
      "source": [
        "s = np.concatenate((np.repeat(0, 90), np.repeat(5, 10)))\n",
        "x = np.random.normal(0, s, size=100)\n",
        "prior = \"cauchy\"\n",
        "a = 0.5\n",
        "universalthresh = True"
      ],
      "id": "d910390e-7884-4f2d-824d-64a7ab927ae6"
    },
    {
      "cell_type": "code",
      "execution_count": 156,
      "metadata": {},
      "outputs": [],
      "source": [
        "pr = prior[0:1]\n",
        "pr"
      ],
      "id": "e819cb92-4080-4fd4-813e-bc3304909bdf"
    },
    {
      "cell_type": "code",
      "execution_count": 157,
      "metadata": {},
      "outputs": [],
      "source": [
        "if pr == \"c\":\n",
        "    s = 1"
      ],
      "id": "ff558a6d-ecb5-4760-af49-56c3d14f8b02"
    },
    {
      "cell_type": "code",
      "execution_count": 158,
      "metadata": {},
      "outputs": [],
      "source": [
        "if universalthresh:\n",
        "    tuniv = np.sqrt(2 * np.log(len(x))) * s\n",
        "    wlo = ebayesthresh.wfromt(tuniv, s, prior, a)\n",
        "    wlo = np.max(wlo)\n",
        "else:\n",
        "    wlo = 0"
      ],
      "id": "8b919edc-925a-45d4-af7e-8eb57c5dc8b8"
    },
    {
      "cell_type": "code",
      "execution_count": 159,
      "metadata": {},
      "outputs": [],
      "source": [
        "if pr == \"l\":\n",
        "    beta = ebayesthresh.beta_laplace(x, s, a)\n",
        "elif pr == \"c\":\n",
        "    beta = ebayesthresh.beta_cauchy(x)"
      ],
      "id": "1ed46a55-1872-407f-8947-a1ab3ac89aae"
    },
    {
      "cell_type": "code",
      "execution_count": 160,
      "metadata": {},
      "outputs": [],
      "source": [
        "whi = 1\n",
        "beta = np.minimum(beta, 1e20)\n",
        "\n",
        "shi = np.sum(beta / (1 + beta))"
      ],
      "id": "40b14a37-93b6-4ea9-8305-c74a09f5eff0"
    },
    {
      "cell_type": "code",
      "execution_count": 161,
      "metadata": {},
      "outputs": [],
      "source": [
        "if shi >= 0:\n",
        "    shi =  1"
      ],
      "id": "bd425b93-84eb-4b74-843c-80b07ea8a3ec"
    },
    {
      "cell_type": "code",
      "execution_count": 162,
      "metadata": {},
      "outputs": [],
      "source": [
        "slo = np.sum(beta / (1 + wlo * beta))"
      ],
      "id": "2bda427d-b7f4-4f17-95ca-e2b8c0b421c5"
    },
    {
      "cell_type": "code",
      "execution_count": 163,
      "metadata": {},
      "outputs": [],
      "source": [
        "if slo <= 0:\n",
        "    slo = wlo"
      ],
      "id": "bcd6c356-619f-48fb-a0c6-2e9db261aadd"
    },
    {
      "cell_type": "code",
      "execution_count": 164,
      "metadata": {},
      "outputs": [],
      "source": [
        "for _ in range(1,31):\n",
        "    wmid = np.sqrt(wlo * whi)\n",
        "    smid = np.sum(beta / (1 + wmid * beta))\n",
        "    if smid == 0:\n",
        "        smid = wmid\n",
        "    if smid > 0:\n",
        "        wlo = wmid\n",
        "    else:\n",
        "        whi = wmid"
      ],
      "id": "e9b8bf5f-152e-428f-9d38-e5be0cc34ba1"
    },
    {
      "cell_type": "code",
      "execution_count": 165,
      "metadata": {},
      "outputs": [],
      "source": [
        "np.sqrt(wlo * whi)"
      ],
      "id": "1a967f88-bb8d-441d-97d8-3fd021c36eb9"
    },
    {
      "cell_type": "markdown",
      "metadata": {},
      "source": [
        "-   R코드\n",
        "\n",
        "``` r\n",
        "wfromx <- function (x, s = 1, prior = \"laplace\", a = 0.5,\n",
        "                    universalthresh = TRUE) {\n",
        "#    \n",
        "#  Given the vector of data x and s (sd),\n",
        "#   find the value of w that zeroes S(w) in the\n",
        "#   range by successive bisection, carrying out nits harmonic bisections\n",
        "#   of the original interval between wlo and 1.  \n",
        "#  \n",
        "    pr <- substring(prior, 1, 1)\n",
        "    if(pr == \"c\")\n",
        "          s = 1\n",
        "    if(universalthresh) {\n",
        "          tuniv <- sqrt(2 * log(length(x))) * s\n",
        "          wlo <- wfromt(tuniv, s, prior, a)\n",
        "          wlo <- max(wlo)\n",
        "    } else \n",
        "          wlo = 0\n",
        "    if(pr == \"l\")\n",
        "      beta <- beta.laplace(x, s, a)\n",
        "    if(pr == \"c\")\n",
        "      beta <- beta.cauchy(x)\n",
        "    whi  <- 1\n",
        "    beta <- pmin(beta, 1e20) \n",
        "    shi  <- sum(beta/(1 + beta))\n",
        "    if(shi >= 0)\n",
        "      return(1)\n",
        "    slo <- sum(beta/(1 + wlo * beta))\n",
        "    if(slo <= 0)\n",
        "      return(wlo)\n",
        "    for(j in (1:30)) {\n",
        "      wmid <- sqrt(wlo * whi)\n",
        "      smid <- sum(beta/(1 + wmid * beta))\n",
        "      if(smid == 0)\n",
        "        return(wmid)\n",
        "      if(smid > 0)\n",
        "        wlo <- wmid\n",
        "      else\n",
        "        whi <- wmid\n",
        "        }\n",
        "    return(sqrt(wlo * whi))\n",
        "}\n",
        "```\n",
        "\n",
        "결과\n",
        "\n",
        "-   Python"
      ],
      "id": "7d079614-d34e-415b-b5cd-39c9e14e0399"
    },
    {
      "cell_type": "code",
      "execution_count": 166,
      "metadata": {},
      "outputs": [],
      "source": [
        "ebayesthresh.wfromx(x= np.random.normal(0, np.concatenate((np.repeat(0, 90), np.repeat(5, 10))), size=100), prior = \"cauchy\")"
      ],
      "id": "fc57fdd3-8daf-4885-8e93-6d2b0a9a2bda"
    },
    {
      "cell_type": "markdown",
      "metadata": {},
      "source": [
        "-   R\n",
        "\n",
        "``` r\n",
        "> wfromx(x = rnorm(100, s = c(rep(0,90),rep(5,10))), prior = \"cauchy\")\n",
        "[1] 0.116067\n",
        "```\n",
        "\n",
        "# wmonfromx\n",
        "\n",
        "> Given a vector of data, find the marginal maximum likelihood choice of\n",
        "> weight sequence subject to the constraints that the weights are\n",
        "> monotone decreasing\n",
        "\n",
        "*데이터에 대해 가중치 시퀀스를 선택하는 과정에서 조건이 주어지는데, 이\n",
        "가중치 시퀀스는 각각의 가중치 값이 단조 감소해야 하며, 주어진 데이터에\n",
        "대한 최대 우도를 갖도록 선택되어야 함.*"
      ],
      "id": "8872fb92-b046-4a7b-a224-c6352f5a930a"
    },
    {
      "cell_type": "code",
      "execution_count": 167,
      "metadata": {},
      "outputs": [],
      "source": [
        "xd = np.random.normal(0, 1, size=10)\n",
        "prior = \"laplace\"\n",
        "a = 0.5\n",
        "tol = 1e-08\n",
        "maxits = 20"
      ],
      "id": "3aa2177c-5d49-41f7-8de1-03ad794876fb"
    },
    {
      "cell_type": "code",
      "execution_count": 168,
      "metadata": {},
      "outputs": [],
      "source": [
        "pr = prior[0:1]\n",
        "pr"
      ],
      "id": "001fbe8c-ff43-4a1b-9dec-37f68d8c8ec2"
    },
    {
      "cell_type": "code",
      "execution_count": 169,
      "metadata": {},
      "outputs": [],
      "source": [
        "nx = len(xd)\n",
        "nx"
      ],
      "id": "b5465c74-ce75-4766-8336-3cdac24f412b"
    },
    {
      "cell_type": "code",
      "execution_count": 170,
      "metadata": {},
      "outputs": [],
      "source": [
        "wmin = ebayesthresh.wfromt(np.sqrt(2 * np.log(len(xd))), prior=prior, a=a)\n",
        "wmin"
      ],
      "id": "432b7102-4761-4e74-92fe-cb3fdf506c66"
    },
    {
      "cell_type": "code",
      "execution_count": 171,
      "metadata": {},
      "outputs": [],
      "source": [
        "winit = 1\n",
        "winit"
      ],
      "id": "efbff82a-6850-4c50-bab5-eca5c437e9cd"
    },
    {
      "cell_type": "code",
      "execution_count": 172,
      "metadata": {},
      "outputs": [],
      "source": [
        "if pr == \"l\":\n",
        "    beta = ebayesthresh.beta_laplace(xd, a=a)\n",
        "if pr == \"c\":\n",
        "    beta = ebayesthresh.beta_cauchy(xd)"
      ],
      "id": "212aeb05-8200-4fa8-acb2-a40d05bd2764"
    },
    {
      "cell_type": "code",
      "execution_count": 173,
      "metadata": {},
      "outputs": [],
      "source": [
        "w = np.repeat(winit, len(beta))\n",
        "w"
      ],
      "id": "413dc397-1929-426c-b009-5aa31042e5b2"
    },
    {
      "cell_type": "code",
      "execution_count": 174,
      "metadata": {},
      "outputs": [],
      "source": [
        "for j in range(maxits):\n",
        "    aa = w + 1 / beta\n",
        "    ps = w + aa\n",
        "    ww = 1 / aa ** 2\n",
        "    wnew = ebayesthresh.isotone(ps, ww, increasing=False)\n",
        "    wnew = np.maximum(wmin, wnew)\n",
        "    wnew = np.minimum(1, wnew)\n",
        "    zinc = np.max(np.abs(np.diff(wnew)))\n",
        "    w = wnew\n",
        "    # if zinc < tol:\n",
        "    #     return w"
      ],
      "id": "462512a3-e114-4c03-bf83-28abd61791ac"
    },
    {
      "cell_type": "code",
      "execution_count": 176,
      "metadata": {},
      "outputs": [],
      "source": [
        "# warnings.filterwarnings(\"More iterations required to achieve convergence\")"
      ],
      "id": "2496f0ea-5005-467b-9e0a-0669d7d2eb28"
    },
    {
      "cell_type": "markdown",
      "metadata": {},
      "source": [
        "R코드\n",
        "\n",
        "``` r\n",
        "wmonfromx <- function (xd, prior = \"laplace\", a = 0.5,\n",
        "                       tol = 1e-08, maxits = 20) {\n",
        "#\n",
        "#  Find the monotone marginal maximum likelihood estimate of the\n",
        "#   mixing weights for the Laplace prior with parameter a.  It is\n",
        "#   assumed that the noise variance is equal to one.\n",
        "#\n",
        "#  Find the beta values and the minimum weight\n",
        "#  \n",
        "#  Current version allows for standard deviation of 1 only.\n",
        "#\n",
        "    pr <- substring(prior, 1, 1)\n",
        "    nx <- length(xd)\n",
        "    wmin <- wfromt(sqrt(2 * log(length(xd))), prior=prior, a=a)\n",
        "    winit <- 1\n",
        "    if(pr == \"l\")\n",
        "      beta <- beta.laplace(xd, a=a)\n",
        "    if(pr == \"c\")\n",
        "           beta <- beta.cauchy(xd)\n",
        "        \n",
        "#   now conduct iterated weighted least squares isotone regression\n",
        "#    \n",
        "    w <- rep(winit, length(beta))\n",
        "    for(j in (1:maxits)) {\n",
        "        aa <- w + 1/beta\n",
        "        ps <- w + aa\n",
        "        ww <- 1/aa^2\n",
        "        wnew <- isotone(ps, ww, increasing = FALSE)\n",
        "        wnew <- pmax(wmin, wnew)\n",
        "        wnew <- pmin(1, wnew)\n",
        "        zinc <- max(abs(range(wnew - w)))\n",
        "        w <- wnew\n",
        "        if(zinc < tol)\n",
        "          return(w)\n",
        "    }\n",
        "        \n",
        "    warning(\"More iterations required to achieve convergence\")\n",
        "    return(w)\n",
        "}\n",
        "```\n",
        "\n",
        "결과\n",
        "\n",
        "-   Python"
      ],
      "id": "5445f0c3-b99f-4152-82e0-ebf197223de3"
    },
    {
      "cell_type": "code",
      "execution_count": 2,
      "metadata": {},
      "outputs": [],
      "source": [
        "ebayesthresh.wmonfromx(xd = np.random.normal(0, 1, size=10), prior = \"laplace\")"
      ],
      "id": "97c98c4a-4cd9-454c-877d-5f6a381ca9c4"
    },
    {
      "cell_type": "markdown",
      "metadata": {},
      "source": [
        "-   R\n",
        "\n",
        "``` r\n",
        "> wmonfromx(xd <- rnorm(10,0,1), prior = \"laplace\")\n",
        " [1] 0.3102968 0.3102968 0.3102968 0.3102968 0.3102968 0.3102968 0.3102968 0.3102968 0.3102968 0.3102968\n",
        "```\n",
        "\n",
        "> wmonfromx(xd=rnorm(5, s = 1), prior = “laplace”, a = 0.5, tol = 1e-08,\n",
        "> maxits = 20) \\[1\\] 0.9363989 0.9363989 0.9363989 0.4522184 0.4522184\n",
        "\n",
        "# vecbinsolv"
      ],
      "id": "34368716-e91f-4d16-a89c-4bdb8d040a7b"
    },
    {
      "cell_type": "code",
      "execution_count": 19,
      "metadata": {},
      "outputs": [],
      "source": [
        "zf = torch.tensor([1.0, 2.0, 3.0])\n",
        "# zf = 0\n",
        "def fun(t, *args, **kwargs):\n",
        "    c = kwargs.get('c', 0)\n",
        "    t = torch.tensor(t, dtype=torch.float32)  \n",
        "    return t**2 + c\n",
        "tlo = 0\n",
        "thi = 10\n",
        "nits = 30"
      ],
      "id": "30bd5963-4e82-45fe-ae69-1801eef6c02c"
    },
    {
      "cell_type": "code",
      "execution_count": 20,
      "metadata": {},
      "outputs": [],
      "source": [
        "nz = zf.shape[0]\n",
        "nz"
      ],
      "id": "48e8e0d2-5612-4a41-9e85-4e8981f48d16"
    },
    {
      "cell_type": "code",
      "execution_count": 21,
      "metadata": {},
      "outputs": [],
      "source": [
        "tlo = torch.full((nz,), tlo, dtype=torch.float32)"
      ],
      "id": "a92d20b3-4bcd-4217-bc67-e2043f96f32e"
    },
    {
      "cell_type": "code",
      "execution_count": 22,
      "metadata": {},
      "outputs": [],
      "source": [
        "tlo"
      ],
      "id": "f47ba0a9-6b4c-48cf-8ca4-dfa3eee0de9c"
    },
    {
      "cell_type": "code",
      "execution_count": 23,
      "metadata": {},
      "outputs": [],
      "source": [
        "thi = torch.full((nz,), thi, dtype=torch.float32)"
      ],
      "id": "94f3af35-6844-465d-a213-dd7814bf0583"
    },
    {
      "cell_type": "code",
      "execution_count": 24,
      "metadata": {},
      "outputs": [],
      "source": [
        "thi"
      ],
      "id": "cb8ffa82-05d9-4bed-8880-77ff50cba9ce"
    },
    {
      "cell_type": "code",
      "execution_count": 25,
      "metadata": {},
      "outputs": [],
      "source": [
        "if tlo.numel() != nz:\n",
        "    raise ValueError(\"Lower constraint has to be homogeneous or have the same length as the number of functions.\")\n",
        "if thi.numel() != nz:\n",
        "    raise ValueError(\"Upper constraint has to be homogeneous or have the same length as the number of functions.\")"
      ],
      "id": "86d25047-bc4b-4f0b-92d5-806ef53ade90"
    },
    {
      "cell_type": "code",
      "execution_count": 26,
      "metadata": {},
      "outputs": [
        {
          "output_type": "stream",
          "name": "stderr",
          "text": [
            "UserWarning: To copy construct from a tensor, it is recommended to use sourceTensor.clone().detach() or sourceTensor.clone().detach().requires_grad_(True), rather than torch.tensor(sourceTensor).\n",
            "  t = torch.tensor(t, dtype=torch.float32)"
          ]
        }
      ],
      "source": [
        "c=2\n",
        "\n",
        "for _ in range(nits):\n",
        "    tmid = (tlo + thi) / 2\n",
        "    if fun == ebayesthresh_torch.cauchy_threshzero:\n",
        "        fmid = fun(tmid, s=s,w=w)\n",
        "    elif fun == ebayesthresh_torch.laplace_threshzero:\n",
        "        fmid = fun(tmid, s=s,w=w,a=a)\n",
        "    elif fun == ebayesthresh_torch.beta_cauchy:\n",
        "        fmid = fun(tmid, z=z,w=w)\n",
        "    elif fun == ebayesthresh_torch.beta_laplace:\n",
        "        fmid = fun(tmid, z=z,w=w)\n",
        "    else:\n",
        "        fmid = fun(tmid)\n",
        "        \n",
        "    indt = fmid <= zf\n",
        "    \n",
        "    tlo = torch.where(indt, tmid, tlo)\n",
        "    thi = torch.where(~indt, tmid, thi)"
      ],
      "id": "28a3e935-335d-4005-bba2-6d73d9dccf62"
    },
    {
      "cell_type": "code",
      "execution_count": 27,
      "metadata": {},
      "outputs": [],
      "source": [
        "tmid"
      ],
      "id": "719a350b-31ae-4b62-817e-c432adce8f23"
    },
    {
      "cell_type": "code",
      "execution_count": 28,
      "metadata": {},
      "outputs": [],
      "source": [
        "fmid"
      ],
      "id": "d1eafbcb-96d8-4a64-b4c0-f13da4635ab6"
    },
    {
      "cell_type": "code",
      "execution_count": 29,
      "metadata": {},
      "outputs": [],
      "source": [
        "indt"
      ],
      "id": "59a9e806-a2f8-4d42-ac82-369d63f81794"
    },
    {
      "cell_type": "code",
      "execution_count": 30,
      "metadata": {},
      "outputs": [],
      "source": [
        "tlo"
      ],
      "id": "a3db3cef-bf60-4d1c-ac78-15da61bfc958"
    },
    {
      "cell_type": "code",
      "execution_count": 31,
      "metadata": {},
      "outputs": [],
      "source": [
        "thi"
      ],
      "id": "faac9dbc-acd3-4f99-9e69-74ba8550ee15"
    },
    {
      "cell_type": "code",
      "execution_count": 32,
      "metadata": {},
      "outputs": [],
      "source": [
        "tsol = (tlo + thi) / 2\n",
        "tsol"
      ],
      "id": "30f4432c-f4bb-4ff4-8e39-612b40168553"
    },
    {
      "cell_type": "markdown",
      "metadata": {},
      "source": [
        "R코드\n",
        "\n",
        "``` r\n",
        "vecbinsolv <- function(zf, fun, tlo, thi, nits = 30, ...) {\n",
        "#\n",
        "#  Given a monotone function fun, and a vector of values\n",
        "#   zf find a vector of numbers t such that f(t) = zf.\n",
        "#   The solution is constrained to lie on the interval (tlo, thi)\n",
        "#\n",
        "#  The function fun may be a vector of increasing functions \n",
        "#\n",
        "#  Present version is inefficient because separate calculations\n",
        "#   are done for each element of z, and because bisections are done even\n",
        "#   if the solution is outside the range supplied\n",
        "#    \n",
        "#  It is important that fun should work for vector arguments.\n",
        "#   Additional arguments to fun can be passed through ...\n",
        "#\n",
        "#  Works by successive bisection, carrying out nits harmonic bisections\n",
        "#   of the interval between tlo and thi\n",
        "#\n",
        "    nz <- length(zf)\n",
        "    if(length(tlo)==1) tlo <- rep(tlo, nz)\n",
        "    if(length(tlo)!=nz)\n",
        "          stop(paste(\"Lower constraint has to be homogeneous\",\n",
        "                     \"or has the same length as #functions.\"))\n",
        "    if(length(thi)==1) thi <- rep(thi, nz)\n",
        "    if(length(thi)!=nz)\n",
        "          stop(paste(\"Upper constraint has to be homogeneous\",\n",
        "                     \"or has the same length as #functions.\"))\n",
        "\n",
        "#  carry out nits bisections\n",
        "#\n",
        "    for(jj in (1:nits)) {\n",
        "        tmid <- (tlo + thi)/2\n",
        "        fmid <- fun(tmid, ...)\n",
        "        indt <- (fmid <= zf)\n",
        "        tlo[indt] <- tmid[indt]\n",
        "        thi[!indt] <- tmid[!indt]\n",
        "    }\n",
        "    tsol <- (tlo + thi)/2\n",
        "    return(tsol)\n",
        "}\n",
        "```\n",
        "\n",
        "결과\n",
        "\n",
        "-   Python"
      ],
      "id": "3cbc1ead-4fa3-4277-b12e-2060ded7bccd"
    },
    {
      "cell_type": "code",
      "execution_count": 2,
      "metadata": {},
      "outputs": [
        {
          "output_type": "stream",
          "name": "stderr",
          "text": [
            "UserWarning: To copy construct from a tensor, it is recommended to use sourceTensor.clone().detach() or sourceTensor.clone().detach().requires_grad_(True), rather than torch.tensor(sourceTensor).\n",
            "  t = torch.tensor(t, dtype=torch.float32)"
          ]
        }
      ],
      "source": [
        "zf = torch.tensor([1.0, 2.0, 3.0])\n",
        "def fun(t, *args, **kwargs):\n",
        "    t = torch.tensor(t, dtype=torch.float32)  \n",
        "    return 2*t \n",
        "tlo = 0\n",
        "thi = 10\n",
        "ebayesthresh_torch.vecbinsolv(zf, fun, tlo, thi)"
      ],
      "id": "76d5c14d-e588-4e10-9f34-de24a985f6de"
    },
    {
      "cell_type": "code",
      "execution_count": 3,
      "metadata": {},
      "outputs": [
        {
          "output_type": "stream",
          "name": "stderr",
          "text": [
            "UserWarning: To copy construct from a tensor, it is recommended to use sourceTensor.clone().detach() or sourceTensor.clone().detach().requires_grad_(True), rather than torch.tensor(sourceTensor).\n",
            "  t = torch.tensor(t, dtype=torch.float32)"
          ]
        }
      ],
      "source": [
        "def fun(t, *args, **kwargs):\n",
        "    t = torch.tensor(t, dtype=torch.float32)  \n",
        "    return t**2\n",
        "ebayesthresh_torch.vecbinsolv(zf, fun, tlo, thi)"
      ],
      "id": "cf82d855-f17c-4cba-9fdc-8665f15b6c9b"
    },
    {
      "cell_type": "markdown",
      "metadata": {},
      "source": [
        "-   R\n",
        "\n",
        "``` r\n",
        "> zf <- c(1, 2, 3)\n",
        "> fun <- function(x) 2*x\n",
        "> tlo <- 0\n",
        "> thi <- 10\n",
        "> vecbinsolv(zf, fun, tlo, thi)\n",
        "[1] 0.5 1.0 1.5\n",
        "> fun <- function(x) x**2\n",
        "> vecbinsolv(zf, fun, tlo, thi)\n",
        "[1] 1.000000 1.414214 1.732051\n",
        "```\n",
        "\n",
        "# tfromw\n",
        "\n",
        "> Given a single value or a vector of weights (i.e. prior probabilities\n",
        "> that the parameter is nonzero) and sampling standard deviations (sd\n",
        "> equals 1 for Cauchy prior), find the corresponding threshold(s) under\n",
        "> the specified prior.\n",
        "\n",
        "주어진 가중치 벡터 w와 s(표준 편차)에 대해 지정된 사전 분포를 사용하여\n",
        "임계값 또는 해당 가중치에 대한 임계값 벡터 찾기. 만약 bayesfac=True이면\n",
        "베이즈 요인 임계값을 찾고, 그렇지 않으면 사후 중앙값 임계값을 찾음. 만약\n",
        "Laplace 사전 분포를 사용하는 경우, a는 역 스케일(즉, rate) 매개변수의 값\n",
        "나옴.\n",
        "\n",
        "Parameters:\n",
        "\n",
        "-   w (array-like): 가중치 벡터\n",
        "-   s (float): 표준 편차(default: 1)\n",
        "-   prior (str): 사전 분포 (default: “laplace”)\n",
        "-   bayesfac (bool): 베이즈 요인 임계값을 찾는지 여부 (default: False)\n",
        "-   a (float): a \\< 20인 입력 값 (default: 0.5)"
      ],
      "id": "73e39529-fbac-41d4-a462-0b83b5244d9d"
    },
    {
      "cell_type": "code",
      "execution_count": 21,
      "metadata": {},
      "outputs": [],
      "source": [
        "w = np.array([0.05, 0.1])\n",
        "# w = 0.5\n",
        "s = 1\n",
        "prior = \"laplace\"\n",
        "# prior = \"c\"\n",
        "bayesfac = False\n",
        "a = 0.5"
      ],
      "id": "ec94de7a-416d-4eed-9a4e-c56c7397f29c"
    },
    {
      "cell_type": "code",
      "execution_count": 22,
      "metadata": {},
      "outputs": [],
      "source": [
        "w=np.array([0.05,0.1])\n",
        "s = 1\n",
        "prior = \"laplace\"\n",
        "bayesfac = False\n",
        "a = 0.5\n",
        "universalthresh = True"
      ],
      "id": "1938f75d-5191-4fb2-abdf-947e3dd8fc32"
    },
    {
      "cell_type": "code",
      "execution_count": 23,
      "metadata": {},
      "outputs": [],
      "source": [
        "pr = prior[0:1]\n",
        "pr"
      ],
      "id": "8c675780-b0d8-4568-b6c3-83fbb1418e4f"
    },
    {
      "cell_type": "code",
      "execution_count": 24,
      "metadata": {},
      "outputs": [],
      "source": [
        "if bayesfac:\n",
        "    z = 1 / w - 2\n",
        "    if pr == \"l\":\n",
        "        if isinstance(s, (int, float, str, bool)) and len(w) >= len(str(s)):\n",
        "            zz = z\n",
        "        elif isinstance(s, (int, float, str, bool)) and len(w) <len(str(s)):\n",
        "            zz = [z] * len(str(s))\n",
        "        elif len(w) >= len(s):\n",
        "            zz = z\n",
        "        elif len(w) < len(str(s)):\n",
        "            zz = [z] * len(s)\n",
        "        tt = ebayesthresh.vecbinsolv(zz, ebayesthresh.beta_laplace, 0, 10, 30, s=s,w=w, a=a)\n",
        "    elif pr == \"c\":\n",
        "        tt = ebayesthresh.vecbinsolv(z, ebayesthresh.beta_cauchy, 0, 10, 30, w=w)\n",
        "\n",
        "else:\n",
        "    z = 0\n",
        "    if pr == \"l\":\n",
        "        if isinstance(s, (int, float, str, bool)) and not isinstance(w, (int, float, str, bool)):\n",
        "            zz = np.array([0] * max(len(str(s)), len(w)))\n",
        "        elif not isinstance(s, (int, float, str, bool)) and isinstance(w, (int, float, str, bool)):\n",
        "            zz = np.array([0] * max(len(s), len(str(w))))\n",
        "        elif isinstance(s, (int, float, str, bool)) and isinstance(w, (int, float, str, bool)):\n",
        "            zz = np.array([0] * max(len(str(s)), len(str(w))))\n",
        "        else:\n",
        "            zz = [0] * max(len(s), len(w))\n",
        "        tt = ebayesthresh.vecbinsolv(zz, ebayesthresh.laplace_threshzero, 0, s * (25 + s * a), 30, s=s, w=w, a=a)\n",
        "    elif pr == \"c\":\n",
        "        tt = ebayesthresh.vecbinsolv(z, ebayesthresh.cauchy_threshzero, 0, 10, 30, w=w)"
      ],
      "id": "77c4a023-c639-40b7-aa4e-a9a505d602a7"
    },
    {
      "cell_type": "code",
      "execution_count": 25,
      "metadata": {},
      "outputs": [],
      "source": [
        "tt"
      ],
      "id": "5406994f-3a88-4243-bea0-30f6afd32bbd"
    },
    {
      "cell_type": "markdown",
      "metadata": {},
      "source": [
        "R코드\n",
        "\n",
        "``` r\n",
        "tfromw <- function(w, s = 1, prior = \"laplace\", bayesfac = FALSE, a = 0.5) {\n",
        "#\n",
        "#  Given the vector of weights w and s (sd), find the threshold or\n",
        "#   vector of thresholds corresponding to these weights, under the\n",
        "#   specified prior.\n",
        "#  If bayesfac=TRUE the Bayes factor thresholds are found, otherwise\n",
        "#   the posterior median thresholds are found.\n",
        "#  If the Laplace prior is used, a gives the value of the inverse scale\n",
        "#   (i.e., rate) parameter\n",
        "#\n",
        "    pr <- substring(prior, 1, 1)\n",
        "    if(bayesfac) {\n",
        "        z <- 1/w - 2\n",
        "        if(pr == \"l\"){ \n",
        "          if(length(w)>=length(s)) {\n",
        "            zz <- z\n",
        "          } else { zz <- rep(z, length(s)) }\n",
        "          tt <- vecbinsolv(zz, beta.laplace, 0, 10, s = s, a = a)\n",
        "        }\n",
        "        if(pr == \"c\")\n",
        "            tt <- vecbinsolv(z, beta.cauchy, 0, 10)\n",
        "    }\n",
        "    else {\n",
        "      z <- 0\n",
        "        if(pr == \"l\"){\n",
        "          zz <- rep(0, max(length(s), length(w)))\n",
        "                  \n",
        "          # When x/s-s*a>25, laplace.threshzero has value\n",
        "          #  close to 1/2; The boundary value of x can be\n",
        "          #  treated as the upper bound for search.\n",
        "          tt <- vecbinsolv(zz, laplace.threshzero, 0, s*(25+s*a),\n",
        "                                   s = s, w = w, a = a)\n",
        "        }\n",
        "        if(pr == \"c\")\n",
        "            tt <- vecbinsolv(z, cauchy.threshzero, 0, 10, w = w)\n",
        "    }\n",
        "    return(tt)\n",
        "}\n",
        "```\n",
        "\n",
        "결과\n",
        "\n",
        "-   Python"
      ],
      "id": "63d654ce-ae3f-4cbb-8d3c-e668fddd0658"
    },
    {
      "cell_type": "code",
      "execution_count": 26,
      "metadata": {},
      "outputs": [],
      "source": [
        "ebayesthresh.tfromw(np.array([0.05, 0.1]), s = 1)"
      ],
      "id": "d4b0444b-1034-4f31-82d1-802ca5b2aeb0"
    },
    {
      "cell_type": "code",
      "execution_count": 27,
      "metadata": {},
      "outputs": [],
      "source": [
        "ebayesthresh.tfromw(np.array([0.05, 0.1]), prior = \"cauchy\", bayesfac = True)"
      ],
      "id": "63474424-ddc0-46bb-8364-fd50bf75e62f"
    },
    {
      "cell_type": "markdown",
      "metadata": {},
      "source": [
        "-   R\n",
        "\n",
        "``` r\n",
        "> tfromw(c(0.05, 0.1), s = 1)\n",
        "[1] 3.115212 2.816306\n",
        "> tfromw(c(0.05, 0.1), prior = \"cauchy\", bayesfac = TRUE)\n",
        "[1] 3.259635 2.959740\n",
        "```\n",
        "\n",
        "# tfromx\n",
        "\n",
        "> Given a vector of data and standard deviations (sd equals 1 for Cauchy\n",
        "> prior), find the value or vector (heterogeneous sampling standard\n",
        "> deviation with Laplace prior) of thresholds corresponding to the\n",
        "> marginal maximum likelihood choice of weight.\n",
        "\n",
        "*데이터가 주어졌을때, 가중치의 한계 최대 우도로 임계값 찾는 함수*"
      ],
      "id": "3304bda6-719d-4fa1-b76a-d145733b8f5f"
    },
    {
      "cell_type": "code",
      "execution_count": 28,
      "metadata": {},
      "outputs": [],
      "source": [
        "x=np.array([0.05,0.1]),\n",
        "s=1\n",
        "prior=\"laplace\"\n",
        "bayesfac=False\n",
        "a=0.5\n",
        "universalthresh=True"
      ],
      "id": "310b64a8-5a86-4de0-8320-c6b034e86223"
    },
    {
      "cell_type": "code",
      "execution_count": 29,
      "metadata": {},
      "outputs": [],
      "source": [
        "pr = prior[0:1]"
      ],
      "id": "15879d8d-af17-4b65-97be-4f5783dc25ee"
    },
    {
      "cell_type": "code",
      "execution_count": 30,
      "metadata": {},
      "outputs": [],
      "source": [
        "if pr == \"c\":\n",
        "    s = 1"
      ],
      "id": "e91e1aa7-7949-496a-b647-d1f0e4ba25fb"
    },
    {
      "cell_type": "code",
      "execution_count": 31,
      "metadata": {},
      "outputs": [],
      "source": [
        "if pr == \"l\" and np.isnan(a):\n",
        "    wa = ebayesthresh.wandafromx(x, s, universalthresh)\n",
        "    w = wa['w']\n",
        "    a = wa['a']\n",
        "else:\n",
        "    w = ebayesthresh.wfromx(x, s, prior=prior, a=a)"
      ],
      "id": "556fc367-b945-4bb0-93d4-4b8e84a466e3"
    },
    {
      "cell_type": "code",
      "execution_count": 32,
      "metadata": {},
      "outputs": [],
      "source": [
        "ebayesthresh.tfromw(w, s, prior=prior, bayesfac=bayesfac, a=a)"
      ],
      "id": "02cf5a6e-0cd0-4453-b1cf-c583e4da036a"
    },
    {
      "cell_type": "markdown",
      "metadata": {},
      "source": [
        "R코드\n",
        "\n",
        "``` r\n",
        "tfromx <- function (x, s = 1, prior = \"laplace\", bayesfac = FALSE, a = 0.5,\n",
        "                    universalthresh = TRUE) {\n",
        "#\n",
        "#  Given the data x, the prior, and any other parameters, find the\n",
        "#   threshold corresponding to the marginal maximum likelihood\n",
        "#   estimator of the mixing weight.\n",
        "#\n",
        "  pr <- substring(prior, 1, 1)\n",
        "  if(pr == \"c\")\n",
        "    s = 1\n",
        "  if ( pr==\"l\" && is.na (a) ) {\n",
        "    wa <-  wandafromx(x, s, universalthresh)\n",
        "    w  <-  wa$w\n",
        "    a  <-  wa$a \n",
        "  } else {\n",
        "    w <- wfromx(x, s, prior = prior, a = a)\n",
        "  }\n",
        "  return(tfromw(w, s, prior = prior, bayesfac = bayesfac, a = a))\n",
        "}\n",
        "```\n",
        "\n",
        "결과\n",
        "\n",
        "-   Python"
      ],
      "id": "2534351c-d7fb-4ec7-a3e2-cc9e6cfee8e7"
    },
    {
      "cell_type": "code",
      "execution_count": 33,
      "metadata": {},
      "outputs": [],
      "source": [
        "ebayesthresh.tfromx(x=np.array([0.05,0.1]), s = 1, prior = \"laplace\", bayesfac = False, a = 0.5, universalthresh = True)"
      ],
      "id": "a41ad3ed-bba3-456c-84b7-065385208787"
    },
    {
      "cell_type": "code",
      "execution_count": 34,
      "metadata": {},
      "outputs": [],
      "source": [
        "ebayesthresh.tfromx(x = np.concatenate([np.random.normal(0, 1, 90), np.random.normal(5, 1, 10)]), prior = \"cauchy\")"
      ],
      "id": "fd41ae58-e558-4edb-954e-8e30c4603399"
    },
    {
      "cell_type": "markdown",
      "metadata": {},
      "source": [
        "-   R\n",
        "\n",
        "``` r\n",
        "> tfromx(x=c(0.05,0.1), s = 1, prior = \"laplace\", bayesfac = FALSE, a = 0.5,universalthresh = TRUE)\n",
        "[1] 1.17741\n",
        "> tfromx(x=c(rnorm(90, mean=0, sd=1), rnorm(10, mean=5, sd=1)), prior = \"cauchy\")\n",
        "[1] 2.301196\n",
        "```\n",
        "\n",
        "# wpost_laplace\n",
        "\n",
        "> Calculate the posterior weight for non-zero effect\n",
        "\n",
        "-   0이 아닌 효과에 대한 사후 가중치 계산"
      ],
      "id": "608ae643-4a91-487b-8ae4-1b3e36de9f8a"
    },
    {
      "cell_type": "code",
      "execution_count": 12,
      "metadata": {},
      "outputs": [],
      "source": [
        "w= 0.5\n",
        "x = torch.tensor([-2.0,1.0,0.0,-4.0,8.0,50.0])\n",
        "s = 1\n",
        "a = 0.5"
      ],
      "id": "7a7f72af-2f77-4d52-a920-bc3ba542831b"
    },
    {
      "cell_type": "code",
      "execution_count": 13,
      "metadata": {},
      "outputs": [],
      "source": [
        "laplace_beta = ebayesthresh_torch.beta_laplace(x, s, a)\n",
        "laplace_beta"
      ],
      "id": "4da89605-18ee-4b80-970a-654875db9779"
    },
    {
      "cell_type": "code",
      "execution_count": 14,
      "metadata": {},
      "outputs": [],
      "source": [
        "1 - (1 - w) / (1 + w * laplace_beta)"
      ],
      "id": "c6e8bcee-8887-4576-bfaa-f2334aee3083"
    },
    {
      "cell_type": "markdown",
      "metadata": {},
      "source": [
        "R코드\n",
        "\n",
        "``` r\n",
        "wpost.laplace <- function(w, x, s = 1, a = 0.5)\n",
        "#\n",
        "#  Calculate the posterior weight for non-zero effect\n",
        "#\n",
        "  1 - (1 - w)/(1 + w * beta.laplace(x, s, a))\n",
        "```\n",
        "\n",
        "결과\n",
        "\n",
        "-   Python"
      ],
      "id": "a5d8677a-58cd-4b57-b92b-4762d633edf9"
    },
    {
      "cell_type": "code",
      "execution_count": 17,
      "metadata": {},
      "outputs": [],
      "source": [
        "ebayesthresh_torch.wpost_laplace(0.5,torch.tensor([-2,1,0,-4,8,50]))"
      ],
      "id": "def1cb56-68a3-4b8d-9b26-4f0b41967eb6"
    },
    {
      "cell_type": "markdown",
      "metadata": {},
      "source": [
        "-   R\n",
        "\n",
        "이베이즈 깃헙에 있는데 R 패키지에는 없음.\n",
        "\n",
        "# zetafromx\n",
        "\n",
        "Description\n",
        "\n",
        "> Suppose a sequence of data has underlying mean vector with elements\n",
        "> $\\theta_i$. Given the sequence of data, and a vector of scale factors\n",
        "> cs and a lower limit pilo, this routine finds the marginal maximum\n",
        "> likelihood estimate of the parameter zeta such that the prior\n",
        "> probability of $\\theta_i$ being nonzero is of the form median(pilo,\n",
        "> zeta\\*cs, 1).\n",
        "\n",
        "*파라메터 제타의 최대 우도 추정치 계산*"
      ],
      "id": "2b9fb98e-fd65-4ac7-b5d7-b6312e1b2f63"
    },
    {
      "cell_type": "code",
      "execution_count": 110,
      "metadata": {},
      "outputs": [],
      "source": [
        "xd = torch.tensor([-2.0,1.0,0.0,-4.0,8.0,50.0])\n",
        "cs = torch.tensor([2.0,3.0,5.0,6.0,1.0,-1.0])\n",
        "pilo = None\n",
        "prior=\"laplace\"\n",
        "# priir=\"c\"\n",
        "a=torch.tensor(0.5)"
      ],
      "id": "5b91e931-72bd-4852-bb53-9d5725b17699"
    },
    {
      "cell_type": "code",
      "execution_count": 111,
      "metadata": {},
      "outputs": [],
      "source": [
        "pr = prior[0:1]\n",
        "pr"
      ],
      "id": "9c7f843e-f94c-4946-b7c7-afd88dd83479"
    },
    {
      "cell_type": "code",
      "execution_count": 112,
      "metadata": {},
      "outputs": [],
      "source": [
        "nx = len(xd)\n",
        "nx"
      ],
      "id": "ef0df944-2d23-4cf5-a311-20f2cb094daa"
    },
    {
      "cell_type": "code",
      "execution_count": 113,
      "metadata": {
        "tags": []
      },
      "outputs": [],
      "source": [
        "if pilo is None:\n",
        "    pilo = ebayesthresh_torch.wfromt(torch.sqrt(2 * torch.log(torch.tensor(nx, dtype=torch.float))), prior=prior, a=a)"
      ],
      "id": "f8011590-91fc-4e61-aa41-99e0bcb2f453"
    },
    {
      "cell_type": "code",
      "execution_count": 114,
      "metadata": {},
      "outputs": [],
      "source": [
        "pilo"
      ],
      "id": "7cd451ea-8d3f-4304-8bfd-f4dc90570c1b"
    },
    {
      "cell_type": "code",
      "execution_count": 115,
      "metadata": {},
      "outputs": [],
      "source": [
        "if pr == \"l\":\n",
        "    beta = ebayesthresh_torch.beta_laplace(xd, a=a)\n",
        "elif pr == \"c\":\n",
        "    beta = ebayesthresh_torch.beta_cauchy(xd)"
      ],
      "id": "fb5a583d-b92b-4547-9015-59239aba84df"
    },
    {
      "cell_type": "code",
      "execution_count": 116,
      "metadata": {},
      "outputs": [],
      "source": [
        "beta"
      ],
      "id": "5524b7e6-52dc-42f4-b214-af23583f33ed"
    },
    {
      "cell_type": "code",
      "execution_count": 107,
      "metadata": {},
      "outputs": [],
      "source": [
        "zs1 = pilo / cs\n",
        "zs1"
      ],
      "id": "a0ca53c8-2197-477d-a635-43685654b340"
    },
    {
      "cell_type": "code",
      "execution_count": 108,
      "metadata": {},
      "outputs": [],
      "source": [
        "zs2 = 1 / cs\n",
        "zs2"
      ],
      "id": "5de5a5d9-de9a-4d41-a743-3324cbf9b78e"
    },
    {
      "cell_type": "code",
      "execution_count": 109,
      "metadata": {},
      "outputs": [],
      "source": [
        "zj = torch.sort(torch.unique(torch.cat((zs1, zs2)))).values\n",
        "zj"
      ],
      "id": "eeaaecd6-5fea-44eb-873f-3687eb53362e"
    },
    {
      "cell_type": "code",
      "execution_count": 57,
      "metadata": {},
      "outputs": [],
      "source": [
        "cb = cs * beta\n",
        "cb"
      ],
      "id": "86681619-8e0f-4586-8783-04edcdbd25c6"
    },
    {
      "cell_type": "code",
      "execution_count": 58,
      "metadata": {},
      "outputs": [],
      "source": [
        "mz = len(zj)\n",
        "mz"
      ],
      "id": "d272598a-fd8a-447e-a94a-53c7fc76b361"
    },
    {
      "cell_type": "code",
      "execution_count": 59,
      "metadata": {},
      "outputs": [],
      "source": [
        "zlmax = None\n",
        "zlmax"
      ],
      "id": "f1ded7f9-2df3-43a0-8fda-e4c8619d0192"
    },
    {
      "cell_type": "code",
      "execution_count": 60,
      "metadata": {},
      "outputs": [],
      "source": [
        "lmin =  torch.zeros(mz, dtype=torch.bool)\n",
        "lmin"
      ],
      "id": "62284f9f-9c06-4faf-9ed4-e27aacdd3170"
    },
    {
      "cell_type": "code",
      "execution_count": 61,
      "metadata": {},
      "outputs": [],
      "source": [
        "for j in range(1, mz - 1):\n",
        "    ze = zj[j]\n",
        "    cbil = cb[(ze > zs1) & (ze <= zs2)]\n",
        "    ld = torch.sum(cbil / (1 + ze * cbil))\n",
        "    if ld <= 0:\n",
        "        cbir = cb[(ze >= zs1) & (ze < zs2)]\n",
        "        rd = torch.sum(cbir / (1 + ze * cbir))\n",
        "        lmin[j] = rd >= 0"
      ],
      "id": "1b10107d-797b-4ed5-984f-8e331fd5775d"
    },
    {
      "cell_type": "code",
      "execution_count": 62,
      "metadata": {},
      "outputs": [],
      "source": [
        "cbir"
      ],
      "id": "d804c933-5aef-4f82-ab83-3a7b9d1a8219"
    },
    {
      "cell_type": "code",
      "execution_count": 63,
      "metadata": {},
      "outputs": [],
      "source": [
        "rd"
      ],
      "id": "659b45eb-4748-4719-8515-d56772118273"
    },
    {
      "cell_type": "code",
      "execution_count": 64,
      "metadata": {},
      "outputs": [],
      "source": [
        "lmin"
      ],
      "id": "3ea03e5b-1536-4a1e-a2e6-7582b2d7677b"
    },
    {
      "cell_type": "code",
      "execution_count": 65,
      "metadata": {},
      "outputs": [],
      "source": [
        "cbir = cb[zj[0] == zs1]\n",
        "cbir"
      ],
      "id": "efbe827d-a278-4d92-be0e-ddc915800c86"
    },
    {
      "cell_type": "code",
      "execution_count": 66,
      "metadata": {},
      "outputs": [],
      "source": [
        "rd = torch.sum(cbir / (1 + zj[0] * cbir))\n",
        "rd"
      ],
      "id": "7917d593-1d8f-4b3e-a345-465d578d6354"
    },
    {
      "cell_type": "code",
      "execution_count": 67,
      "metadata": {},
      "outputs": [],
      "source": [
        "if rd > 0:\n",
        "    lmin[0] = True\n",
        "else:\n",
        "    zlmax = zj[0].tolist()"
      ],
      "id": "eac943be-ca28-4cf0-9c22-7d1a23d85684"
    },
    {
      "cell_type": "code",
      "execution_count": 68,
      "metadata": {},
      "outputs": [],
      "source": [
        "zlmax"
      ],
      "id": "1c668306-e080-4262-b997-ca1452b41aed"
    },
    {
      "cell_type": "code",
      "execution_count": 69,
      "metadata": {},
      "outputs": [],
      "source": [
        "cbil = cb[zj[mz - 1] == zs2]\n",
        "cbil"
      ],
      "id": "b79af5d9-a6f6-4514-bfe0-84c2b00f5361"
    },
    {
      "cell_type": "code",
      "execution_count": 70,
      "metadata": {},
      "outputs": [],
      "source": [
        "cbil = cb[zj[mz - 1] == zs2]\n",
        "cbil"
      ],
      "id": "b154d550-81b3-4d78-aeac-baa536df5211"
    },
    {
      "cell_type": "code",
      "execution_count": 71,
      "metadata": {},
      "outputs": [],
      "source": [
        "ld = torch.sum(cbil / (1 + zj[mz - 1] * cbil))\n",
        "ld"
      ],
      "id": "88ec8228-9c2c-4b38-b674-6f3d1cd260f9"
    },
    {
      "cell_type": "code",
      "execution_count": 72,
      "metadata": {},
      "outputs": [],
      "source": [
        "if ld < 0:\n",
        "    lmin[mz - 1] = True\n",
        "else:\n",
        "    zlmax = [(zj[mz - 1]).tolist()]"
      ],
      "id": "cf4bc128-4408-4ac2-9c80-b66fffba688b"
    },
    {
      "cell_type": "code",
      "execution_count": 73,
      "metadata": {},
      "outputs": [],
      "source": [
        "zlmin = zj[lmin]\n",
        "zlmin"
      ],
      "id": "7126b557-118a-4182-9cb6-c42a5d8d819a"
    },
    {
      "cell_type": "code",
      "execution_count": 74,
      "metadata": {},
      "outputs": [],
      "source": [
        "nlmin = len(zlmin)\n",
        "nlmin"
      ],
      "id": "f4f11400-8560-492f-b435-2fc56c4ea487"
    },
    {
      "cell_type": "code",
      "execution_count": 75,
      "metadata": {},
      "outputs": [],
      "source": [
        "for j in range(1, nlmin):\n",
        "    zlo = zlmin[j - 1]\n",
        "    zhi = zlmin[j]\n",
        "    ze = (zlo + zhi) / 2.0\n",
        "    zstep = (zhi - zlo) / 2.0\n",
        "    for nit in range(1,11):\n",
        "        cbi = cb[(ze >= zs1) & (ze <= zs2)]\n",
        "        likd = torch.sum(cbi / (1 + ze * cbi))\n",
        "        zstep /= 2.0\n",
        "        ze += zstep * torch.sign(likd)\n",
        "    zlmax.append(ze.item())"
      ],
      "id": "dc6ab330-20e8-4cff-9633-bca373b23ca9"
    },
    {
      "cell_type": "code",
      "execution_count": 76,
      "metadata": {},
      "outputs": [],
      "source": [
        "zlmax = torch.tensor(zlmax)\n",
        "zlmax"
      ],
      "id": "07f7e29e-8070-42d2-aeda-1f1db424decd"
    },
    {
      "cell_type": "code",
      "execution_count": 77,
      "metadata": {},
      "outputs": [],
      "source": [
        "zm = torch.full((len(zlmax),), float('nan'))\n",
        "zm"
      ],
      "id": "169849aa-adf7-49c8-ae06-e90e025edc4a"
    },
    {
      "cell_type": "code",
      "execution_count": 78,
      "metadata": {},
      "outputs": [],
      "source": [
        "zlmax"
      ],
      "id": "e82a0663-c04f-4a60-858f-c829d906f856"
    },
    {
      "cell_type": "code",
      "execution_count": 90,
      "metadata": {},
      "outputs": [],
      "source": [
        "for j in range(len(zlmax)):\n",
        "    pz = torch.maximum(zs1, torch.min(zlmax[j],zs2))\n",
        "    zm[j] = torch.sum(torch.log(1 + cb * pz))"
      ],
      "id": "b433c266-d1a0-4b41-9428-9b07212fdb23"
    },
    {
      "cell_type": "code",
      "execution_count": 91,
      "metadata": {},
      "outputs": [],
      "source": [
        "pz"
      ],
      "id": "1dbf4015-f214-4172-b310-e3f97f1ad1ee"
    },
    {
      "cell_type": "code",
      "execution_count": 92,
      "metadata": {},
      "outputs": [],
      "source": [
        "zm"
      ],
      "id": "92f1ea15-0ec1-4f15-b1d3-5fadc929a4bc"
    },
    {
      "cell_type": "code",
      "execution_count": 93,
      "metadata": {},
      "outputs": [],
      "source": [
        "zeta_candidates = zlmax[zm == torch.max(zm)]\n",
        "zeta_candidates"
      ],
      "id": "9be69d5d-f4c4-45cc-ad97-bc9e00bed4f8"
    },
    {
      "cell_type": "code",
      "execution_count": 94,
      "metadata": {},
      "outputs": [],
      "source": [
        "zeta = torch.min(zeta_candidates)\n",
        "zeta"
      ],
      "id": "225f2b93-45ab-4c06-9224-3f04339f236e"
    },
    {
      "cell_type": "code",
      "execution_count": 96,
      "metadata": {},
      "outputs": [],
      "source": [
        "w = torch.clamp(torch.min(torch.tensor([1.0], dtype=torch.float), torch.max(zeta * cs, pilo)), min=0.0, max=1.0)\n",
        "w"
      ],
      "id": "4b244ca9-359f-426e-bd48-f64214f459ce"
    },
    {
      "cell_type": "markdown",
      "metadata": {},
      "source": [
        "R 코드\n",
        "\n",
        "``` r\n",
        "zetafromx <- function(xd, cs, pilo = NA, prior = \"laplace\", a = 0.5) {\n",
        "#\n",
        "#  Given a sequence xd, a vector of scale factors cs and\n",
        "#   a lower limit pilo, find the marginal maximum likelihood\n",
        "#   estimate of the parameter zeta such that the prior prob\n",
        "#   is of the form median( pilo, zeta*cs, 1)\n",
        "#\n",
        "#  If pilo=NA then it is calculated according to the sample size\n",
        "#   to corrrespond to the universal threshold\n",
        "#  \n",
        "#  Find the beta values and the minimum weight if necessary\n",
        "#\n",
        "#  Current version allows for standard deviation of 1 only.\n",
        "#\n",
        "    pr <- substring(prior, 1, 1)\n",
        "    nx <- length(xd)\n",
        "    if (is.na(pilo))\n",
        "          pilo <- wfromt(sqrt(2 * log(length(xd))), prior=prior, a=a)\n",
        "    if(pr == \"l\")\n",
        "      beta <- beta.laplace(xd, a=a)\n",
        "    if(pr == \"c\") beta <- beta.cauchy(xd)\n",
        "#\n",
        "#  Find jump points zj in derivative of log likelihood as function\n",
        "#    of z, and other preliminary calculations\n",
        "#\n",
        "    zs1 <- pilo/cs\n",
        "    zs2 <- 1/cs\n",
        "    zj <- sort(unique(c(zs1, zs2)))\n",
        "    cb <- cs * beta\n",
        "    mz <- length(zj)\n",
        "    zlmax <- NULL\n",
        "        \n",
        "#  Find left and right derivatives at each zj and check which are\n",
        "#  local minima Check internal zj first\n",
        "    lmin <- rep(FALSE, mz)\n",
        "    for(j in (2:(mz - 1))) {\n",
        "        ze <- zj[j]\n",
        "        cbil <- cb[(ze > zs1) & (ze <= zs2)]\n",
        "        ld <- sum(cbil/(1 + ze * cbil))\n",
        "        if(ld <= 0) {\n",
        "            cbir <- cb[(ze >= zs1) & (ze < zs2)]\n",
        "            rd <- sum(cbir/(1 + ze * cbir))\n",
        "            lmin[j] <- (rd >= 0)\n",
        "        }\n",
        "    }\n",
        "#\n",
        "#  Deal with the two end points in turn, finding right deriv\n",
        "#   at lower end and left deriv at upper\n",
        "#\n",
        "#  In each case the corresponding end point is either a local min\n",
        "#   or a local max depending on the sign of the relevant deriv\n",
        "#\n",
        "    cbir <- cb[zj[1] == zs1]\n",
        "    rd <- sum(cbir/(1 + zj[1] * cbir))\n",
        "    if(rd > 0) lmin[1] <- TRUE else zlmax <- zj[1]\n",
        "    cbil <- cb[zj[mz] == zs2]\n",
        "    ld <- sum(cbil/(1 + zj[mz] * cbil))\n",
        "    if(ld < 0) lmin[mz] <- TRUE else zlmax <- zj[mz]\n",
        "        \n",
        "#  Flag all local minima and do a binary search between them to find\n",
        "#  the local maxima\n",
        "#\n",
        "    zlmin <- zj[lmin]\n",
        "    nlmin <- length(zlmin)\n",
        "    if(nlmin >= 2) for(j in (2:nlmin)) {\n",
        "            zlo <- zlmin[j - 1]\n",
        "            zhi <- zlmin[j]\n",
        "            ze <- (zlo + zhi)/2\n",
        "            zstep <- (zhi - zlo)/2\n",
        "            for(nit in (1:10)) {\n",
        "                cbi <- cb[(ze >= zs1) & (ze <= zs2)]\n",
        "                likd <- sum(cbi/(1 + ze * cbi))\n",
        "                zstep <- zstep/2\n",
        "                ze <- ze + zstep * sign(likd)\n",
        "            }\n",
        "            zlmax <- c(zlmax, ze)\n",
        "        }\n",
        "#\n",
        "#  Evaluate all local maxima and find global max; use smaller value\n",
        "#   if there is an exact tie for the global maximum.\n",
        "#\n",
        "    nlmax <- length(zlmax)\n",
        "    zm <- rep(NA, nlmax)\n",
        "    for(j in (1:nlmax)) {\n",
        "        pz <- pmax(zs1, pmin(zlmax[j], zs2))\n",
        "        zm[j] <- sum(log(1 + cb * pz))\n",
        "    }\n",
        "    zeta <- zlmax[zm == max(zm)]\n",
        "    zeta <- min(zeta)\n",
        "    w <- pmin(1, pmax(zeta*cs, pilo)) \n",
        "    return(list(zeta=zeta, w=w, cs=cs, pilo=pilo))\n",
        "}\n",
        "```\n",
        "\n",
        "결과\n",
        "\n",
        "-   Python"
      ],
      "id": "5edebc03-9b96-4345-b6fb-6c3e7c1f7a72"
    },
    {
      "cell_type": "code",
      "execution_count": 4,
      "metadata": {},
      "outputs": [],
      "source": [
        "ebayesthresh_torch.zetafromx(torch.tensor([-2,1,0,-4,8,50]),torch.tensor([2,3,5,6,1,-1]))"
      ],
      "id": "e056ec31-2f03-4ee7-8f6b-0b2262608d98"
    },
    {
      "cell_type": "markdown",
      "metadata": {},
      "source": [
        "-   R\n",
        "\n",
        "``` r\n",
        "> zetafromx(c(-2,1,0,-4,8,50),c(2,3,5,6,1,-1))\n",
        "$zeta\n",
        "[1] 1\n",
        "\n",
        "$w\n",
        "[1] 1.000000 1.000000 1.000000 1.000000 1.000000 0.412115\n",
        "\n",
        "$cs\n",
        "[1]  2  3  5  6  1 -1\n",
        "\n",
        "$pilo\n",
        "[1] 0.412115\n",
        "```\n",
        "\n",
        "------------------------------------------------------------------------\n",
        "\n",
        "# Layer"
      ],
      "id": "604fde87-46ba-4b21-8382-5d1d86b80dbf"
    },
    {
      "cell_type": "code",
      "execution_count": 33,
      "metadata": {},
      "outputs": [],
      "source": [
        "import torch\n",
        "import torch.nn as nn\n",
        "import torch.nn.functional as F\n",
        "import matplotlib.pyplot as plt"
      ],
      "id": "792b3741-240a-460f-9626-5d496d46839d"
    },
    {
      "cell_type": "code",
      "execution_count": 6,
      "metadata": {},
      "outputs": [],
      "source": [
        "def make_Psi(T):\n",
        "    W = np.zeros((T,T))\n",
        "    for i in range(T):\n",
        "        for j in range(T):\n",
        "            if i==j :\n",
        "                W[i,j] = 0\n",
        "            elif np.abs(i-j) <= 1 : \n",
        "                W[i,j] = 1\n",
        "    d = np.array(W.sum(axis=1))\n",
        "    D = np.diag(d)\n",
        "    L = np.array(np.diag(1/np.sqrt(d)) @ (D-W) @ np.diag(1/np.sqrt(d)))\n",
        "    lamb, Psi = np.linalg.eigh(L)\n",
        "    return Psi"
      ],
      "id": "a35b6538-891e-4dd1-b279-deae4cbd7710"
    },
    {
      "cell_type": "code",
      "execution_count": 7,
      "metadata": {},
      "outputs": [
        {
          "output_type": "display_data",
          "metadata": {},
          "data": {
            "image/png": "[encoded data removed]"
          }
        }
      ],
      "source": [
        "T = 100\n",
        "t = np.arange(T)/T * 10\n",
        "y_true = 3*np.sin(0.5*t) + 1.2*np.sin(1.0*t) + 0.5*np.sin(1.2*t) \n",
        "y = y_true + np.random.normal(size=T)\n",
        "plt.figure(figsize=(10,6))\n",
        "plt.plot(t,y_true)"
      ],
      "id": "68c6ae49-e2c8-4e9a-ae5e-bd7e9d0832bb"
    },
    {
      "cell_type": "code",
      "execution_count": 8,
      "metadata": {},
      "outputs": [
        {
          "output_type": "display_data",
          "metadata": {},
          "data": {
            "image/png": "[encoded data removed]"
          }
        }
      ],
      "source": [
        "plt.plot(t,y,'o')\n",
        "plt.plot(t,y_true,'--')"
      ],
      "id": "76f4e9de-3bd3-48fa-8692-3e074788526b"
    },
    {
      "cell_type": "code",
      "execution_count": 9,
      "metadata": {},
      "outputs": [],
      "source": [
        "f = np.array(y)\n",
        "if len(f.shape)==1: f = f.reshape(-1,1)\n",
        "T,N = f.shape\n",
        "Psi = make_Psi(T)\n",
        "fbar = Psi.T @ f # apply dft "
      ],
      "id": "4e61d9cf-4665-44e6-9abd-de41aada06cb"
    },
    {
      "cell_type": "code",
      "execution_count": 10,
      "metadata": {},
      "outputs": [
        {
          "output_type": "display_data",
          "metadata": {},
          "data": {
            "image/png": "[encoded data removed]"
          }
        }
      ],
      "source": [
        "plt.plot(t,fbar**2) # periodogram "
      ],
      "id": "dbcab11e-3834-4388-9dbe-ebba699b5170"
    },
    {
      "cell_type": "code",
      "execution_count": 11,
      "metadata": {},
      "outputs": [],
      "source": [
        "fbar_threshed = ebayesthresh.ebayesthresh(fbar[:,0])"
      ],
      "id": "89fcd9dc-bfaa-4e54-bd14-5134fd2ef70f"
    },
    {
      "cell_type": "code",
      "execution_count": 12,
      "metadata": {},
      "outputs": [
        {
          "output_type": "display_data",
          "metadata": {},
          "data": {
            "image/png": "[encoded data removed]"
          }
        }
      ],
      "source": [
        "# fbar_threshed = np.stack([ebayesthresh(FloatVector(fbar[:,i])) for i in range(N)],axis=1)\n",
        "plt.plot((fbar**2)) # periodogram \n",
        "plt.plot((fbar_threshed**2)) \n"
      ],
      "id": "d1b529f6-aac6-444f-8ad0-d912dee7779d"
    },
    {
      "cell_type": "code",
      "execution_count": 13,
      "metadata": {},
      "outputs": [
        {
          "output_type": "display_data",
          "metadata": {},
          "data": {
            "image/png": "[encoded data removed]"
          }
        }
      ],
      "source": [
        "plt.plot((fbar**2)[20:80]) # periodogram \n",
        "plt.plot((fbar_threshed**2)[20:80]) "
      ],
      "id": "b413e3e9-0976-497a-bb23-4e66b4fd06ff"
    },
    {
      "cell_type": "code",
      "execution_count": 14,
      "metadata": {},
      "outputs": [
        {
          "output_type": "display_data",
          "metadata": {},
          "data": {
            "image/png": "[encoded data removed]"
          }
        }
      ],
      "source": [
        "yhat = Psi @ fbar_threshed # inverse dft\n",
        "plt.figure(figsize=(10,6))\n",
        "plt.plot(t,y,'.')\n",
        "plt.plot(t,y_true,'--')\n",
        "plt.plot(t,yhat)"
      ],
      "id": "80db53fc-8399-49d7-bea0-675fd81e1b01"
    },
    {
      "cell_type": "code",
      "execution_count": 17,
      "metadata": {},
      "outputs": [],
      "source": [
        "class ebayesthresh_nn(torch.nn.Module):\n",
        "    def __init__(self):\n",
        "        super().__init__()\n",
        "    def forward(self,input):\n",
        "        return ebayesthresh.ebayesthresh(input)"
      ],
      "id": "499d301e-35e6-4c6f-a75c-67440f1a76bc"
    },
    {
      "cell_type": "code",
      "execution_count": 18,
      "metadata": {},
      "outputs": [],
      "source": [
        "thresh_layer = ebayesthresh_nn()"
      ],
      "id": "0f247663-39e8-4a79-9d13-201e5d6f0bc1"
    },
    {
      "cell_type": "code",
      "execution_count": 19,
      "metadata": {},
      "outputs": [
        {
          "output_type": "display_data",
          "metadata": {},
          "data": {
            "image/png": "[encoded data removed]"
          }
        }
      ],
      "source": [
        "plt.plot(fbar[:,0])"
      ],
      "id": "10c15875-a5de-4349-8254-73e075490218"
    },
    {
      "cell_type": "code",
      "execution_count": 20,
      "metadata": {},
      "outputs": [
        {
          "output_type": "display_data",
          "metadata": {},
          "data": {
            "image/png": "[encoded data removed]"
          }
        }
      ],
      "source": [
        "plt.plot(thresh_layer(fbar[:,0]))"
      ],
      "id": "e4010662-d50d-48ba-a870-00cf52dafeb2"
    }
  ],
  "nbformat": 4,
  "nbformat_minor": 5,
  "metadata": {
    "kernelspec": {
      "name": "python3",
      "display_name": "Python 3",
      "language": "python"
    },
    "language_info": {
      "name": "python",
      "codemirror_mode": {
        "name": "ipython",
        "version": "3"
      },
      "file_extension": ".py",
      "mimetype": "text/x-python",
      "nbconvert_exporter": "python",
      "pygments_lexer": "ipython3",
      "version": "3.8.0"
    }
  }
}