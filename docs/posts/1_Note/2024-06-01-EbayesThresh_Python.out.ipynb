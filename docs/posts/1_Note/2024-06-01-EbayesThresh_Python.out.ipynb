{
  "cells": [
    {
      "cell_type": "markdown",
      "metadata": {},
      "source": [
        "# EbayesThresh Python화 시도\n",
        "\n",
        "SEOYEON CHOI  \n",
        "2024-06-01\n",
        "\n",
        "ref\n",
        "\n",
        "-   [R_ebayesthresh](https://cran.r-project.org/web/packages/EbayesThresh/EbayesThresh.pdf)\n",
        "-   [교수님\n",
        "    블로그](https://guebin.github.io/STML2022/posts/II.%20DNN/2022-10-12-6wk.html#%EC%8B%9C%EB%B2%A4%EC%BD%94%EC%A0%95%EB%A6%AC)\n",
        "\n",
        "# Import"
      ],
      "id": "ffd8abd2-5cea-4338-96ed-6cab9e6eab5f"
    },
    {
      "cell_type": "code",
      "execution_count": 1,
      "metadata": {},
      "outputs": [],
      "source": [
        "import numpy as np\n",
        "import matplotlib.pyplot as plt\n",
        "import ebayesthresh"
      ],
      "id": "7b74dbea-662a-4ddf-b71f-b5ad0edf1778"
    },
    {
      "cell_type": "markdown",
      "metadata": {},
      "source": [
        "## import for code check"
      ],
      "id": "077cce42-b173-4249-b77c-ab50799663af"
    },
    {
      "cell_type": "code",
      "execution_count": 2,
      "metadata": {},
      "outputs": [],
      "source": [
        "from scipy.stats import norm, stats\n",
        "from scipy.optimize import minimize, root_scalar\n",
        "from statsmodels.robust.scale import mad\n",
        "import pywt"
      ],
      "id": "5f0a2e3e-bef8-48a9-af05-343378f104f4"
    },
    {
      "cell_type": "markdown",
      "metadata": {},
      "source": [
        "# beta.cauchy\n",
        "\n",
        "> Function beta for the quasi-Cauchy prior\n",
        "\n",
        "-   Description\n",
        "\n",
        "> Given a value or vector x of values, find the value(s) of the function\n",
        "> $\\beta(x) = g(x)/\\phi(x) − 1$, where $g$ is the convolution of the\n",
        "> quasi-Cauchy with the normal density $\\phi(x)$.\n",
        "\n",
        "*x가 입력되면 코시 분포와 정규 분포를 혼합해서 함수 베타 구하기*"
      ],
      "id": "cf26903a-0236-4250-8808-06afbe47b169"
    },
    {
      "cell_type": "code",
      "execution_count": 3,
      "metadata": {},
      "outputs": [],
      "source": [
        "x = np.array([-2,1,0,-4,8,50])"
      ],
      "id": "6eda332f-56ae-45e3-83d0-60372bbb189d"
    },
    {
      "cell_type": "code",
      "execution_count": 4,
      "metadata": {},
      "outputs": [],
      "source": [
        "phix = norm.pdf(x)\n",
        "phix"
      ],
      "id": "83d2e100-7eea-4c67-9555-62c667a9f3c1"
    },
    {
      "cell_type": "markdown",
      "metadata": {},
      "source": [
        "-   x의 확률밀도함수pdf 구하기"
      ],
      "id": "37559497-590b-493a-9acd-fe0e50e295a2"
    },
    {
      "cell_type": "code",
      "execution_count": 5,
      "metadata": {},
      "outputs": [],
      "source": [
        "j = (x != 0)\n",
        "j"
      ],
      "id": "e98f276c-5326-4b4d-ae44-eea140d80241"
    },
    {
      "cell_type": "markdown",
      "metadata": {},
      "source": [
        "-   0이 아닌 인덱스만 얻기"
      ],
      "id": "a739d98c-0ab8-4e24-a257-97af9da801ae"
    },
    {
      "cell_type": "code",
      "execution_count": 6,
      "metadata": {},
      "outputs": [],
      "source": [
        "beta = x\n",
        "beta"
      ],
      "id": "6bc89b87-9433-411a-b959-429335f4b423"
    },
    {
      "cell_type": "code",
      "execution_count": 7,
      "metadata": {},
      "outputs": [],
      "source": [
        "beta = np.where(j == False, -1/2, beta)\n",
        "beta"
      ],
      "id": "94a4ea29-d8b9-4f25-967a-67ba7e963640"
    },
    {
      "cell_type": "markdown",
      "metadata": {},
      "source": [
        "-   j가 False 즉 0이면 -1/2를 넣고 아니면 beta값 그대로 넣기"
      ],
      "id": "119cba2f-5232-415c-933d-a05f6750d7e7"
    },
    {
      "cell_type": "code",
      "execution_count": 8,
      "metadata": {},
      "outputs": [
        {
          "output_type": "stream",
          "name": "stderr",
          "text": [
            "RuntimeWarning: divide by zero encountered in divide\n",
            "  beta[j] = (norm.pdf(0) / phix[j] - 1) / (x[j] ** 2) - 1"
          ]
        }
      ],
      "source": [
        "beta[j] = (norm.pdf(0) / phix[j] - 1) / (x[j] ** 2) - 1\n",
        "beta"
      ],
      "id": "884e614d-7a6c-427f-864e-81f099a0a873"
    },
    {
      "cell_type": "markdown",
      "metadata": {},
      "source": [
        "-   0의 확률밀도함수pdf에서 x의 확률밀도함수phix로 나누어서 1을 빼고\n",
        "    그것을 x 중 0이 아닌 값들에 제곱한 값으로 나눠 1을 빼기\n",
        "\n",
        "-   $\\beta(x) = \\begin{cases} x & \\text{ if } x = 0 \\\\ \\frac{\\frac{\\phi(0)}{\\phi(x)}-1}{x^2} - 1 & \\\\ \\text{ if } x \\ne 0\\end{cases}$\n",
        "\n",
        "-   R code\n",
        "\n",
        "``` r\n",
        "beta.cauchy <- function(x) {\n",
        "#\n",
        "#   Find the function beta for the mixed normal prior with Cauchy\n",
        "#   tails.  It is assumed that the noise variance is equal to one.\n",
        "#\n",
        "    phix <- dnorm(x)\n",
        "    j <- (x != 0)\n",
        "    beta <- x\n",
        "    beta[!j] <- -1/2\n",
        "    beta[j] <- (dnorm(0)/phix[j] - 1)/x[j]^2 - 1\n",
        "    return(beta)\n",
        "}\n",
        "```\n",
        "\n",
        "**결과**\n",
        "\n",
        "-   Python"
      ],
      "id": "4b69b2f0-5130-4d19-ae56-5a8f1a34dc87"
    },
    {
      "cell_type": "code",
      "execution_count": 9,
      "metadata": {},
      "outputs": [
        {
          "output_type": "stream",
          "name": "stderr",
          "text": [
            "/home/csy/Dropbox/sy_hub/posts/1_Note/ebayesthresh/utils.py:21: RuntimeWarning: divide by zero encountered in divide\n",
            "  beta[j] = (norm.pdf(0) / phix[j] - 1) / (x[j] ** 2) - 1"
          ]
        }
      ],
      "source": [
        "ebayesthresh.beta_cauchy(np.array([-2,1,0,-4,8,50]))"
      ],
      "id": "bb4b9c53-44e8-45a2-9eb9-abc205f9729e"
    },
    {
      "cell_type": "markdown",
      "metadata": {},
      "source": [
        "-   R\n",
        "\n",
        "``` r\n",
        "> beta.cauchy(c(-2,1,0,-4,8,50))\n",
        "[1]  5.972640e-01 -3.512787e-01 -5.000000e-01  1.852474e+02  1.233796e+12           Inf\n",
        "```\n",
        "\n",
        "-   무한히 꼬리가 긴 분포를 가진 코시분포"
      ],
      "id": "afd5a337-bad2-4434-b376-bdfc44c9c241"
    },
    {
      "cell_type": "code",
      "execution_count": 10,
      "metadata": {},
      "outputs": [
        {
          "output_type": "display_data",
          "metadata": {},
          "data": {
            "image/png": "[encoded data removed]"
          }
        }
      ],
      "source": [
        "import numpy as np\n",
        "import matplotlib.pyplot as plt\n",
        "from scipy.stats import cauchy\n",
        "\n",
        "# 모수 설정\n",
        "loc_values = [0.0, 0.0, -2.0]  # 위치 모수\n",
        "scale_values = [0.5, 1.0, 2.0]  # 척도 모수\n",
        "\n",
        "# 그래프 그리기\n",
        "x = np.linspace(-10, 10, 1000)\n",
        "plt.figure(figsize=(12, 6))\n",
        "\n",
        "# PDF 그리기\n",
        "plt.subplot(1, 2, 1)\n",
        "for loc, scale in zip(loc_values, scale_values):\n",
        "    plt.plot(x, cauchy.pdf(x, loc, scale), label=f'loc={loc}, scale={scale}')\n",
        "plt.title('Cauchy PDF')\n",
        "plt.xlabel('x')\n",
        "plt.ylabel('Probability Density')\n",
        "plt.legend()\n",
        "\n",
        "# CDF 그리기\n",
        "plt.subplot(1, 2, 2)\n",
        "for loc, scale in zip(loc_values, scale_values):\n",
        "    plt.plot(x, cauchy.cdf(x, loc, scale), label=f'loc={loc}, scale={scale}')\n",
        "plt.title('Cauchy CDF')\n",
        "plt.xlabel('x')\n",
        "plt.ylabel('Cumulative Probability')\n",
        "plt.legend()\n",
        "\n",
        "plt.show()"
      ],
      "id": "799f0502-4646-4661-8361-91f4df6a68dd"
    },
    {
      "cell_type": "markdown",
      "metadata": {},
      "source": [
        "# beta.laplace\n",
        "\n",
        "> Function beta for the Laplace prior\n",
        "\n",
        "-   Description\n",
        "\n",
        "> Given a single value or a vector of $x$ and $s$, find the value(s) of\n",
        "> the function $\\beta(x; s, a) = \\frac{g(x; s, a)}{f_n(x; 0, s)}−1$,\n",
        "> where $f_n(x; 0, s)$ is the normal density with mean $0$ and standard\n",
        "> deviation $s$, and $g$ is the convolution of the Laplace density with\n",
        "> scale parameter a, $γa(\\mu)$, with the normal density $f_n(x; µ, s)$\n",
        "> with mean mu and standard deviation $s$.\n",
        "\n",
        "*평균이 $\\mu$이며, 스케일 파라메터 a를 가진 라플라스와 정규분포의\n",
        "합성함수 $g$와 평균이 0이고 표준편차가s인 f로 계산되는 함수 베타*"
      ],
      "id": "d6005144-6bcd-494b-83c3-ea2038ecfd72"
    },
    {
      "cell_type": "code",
      "execution_count": 11,
      "metadata": {},
      "outputs": [],
      "source": [
        "# x = np.array([-2,1,0,-4,8,50])\n",
        "x = 2.14\n",
        "s = 1\n",
        "# s = np.arange(1, 7)\n",
        "a = 0.5"
      ],
      "id": "231edf1b-c02e-4e9d-bbeb-084b7b5a168e"
    },
    {
      "cell_type": "markdown",
      "metadata": {},
      "source": [
        "-   s는 표준편차\n",
        "-   a는 Laplaxe prior모수, 이 값이 클수록 부포 모양이 뾰족해진다."
      ],
      "id": "1708afe0-c82d-4b1b-b218-7345f3ef9ed8"
    },
    {
      "cell_type": "code",
      "execution_count": 12,
      "metadata": {},
      "outputs": [],
      "source": [
        "x = np.abs(x)\n",
        "x"
      ],
      "id": "9ca7e9a4-0f51-4e36-acfd-c4689279d2b9"
    },
    {
      "cell_type": "markdown",
      "metadata": {},
      "source": [
        "-   확률변수 x에 절대값 취하고"
      ],
      "id": "e048e553-3d34-44f9-9726-f2c1de16c787"
    },
    {
      "cell_type": "code",
      "execution_count": 13,
      "metadata": {},
      "outputs": [],
      "source": [
        "xpa = x/s + s*a\n",
        "xpa"
      ],
      "id": "454bc930-e458-4000-88c8-c99f7de6cd0e"
    },
    {
      "cell_type": "code",
      "execution_count": 14,
      "metadata": {},
      "outputs": [],
      "source": [
        "xma = x/s - s*a\n",
        "xma"
      ],
      "id": "9f7bc2af-c859-495e-87bb-9f67f4fdf9f9"
    },
    {
      "cell_type": "code",
      "execution_count": 15,
      "metadata": {},
      "outputs": [],
      "source": [
        "rat1 = 1/xpa\n",
        "rat1"
      ],
      "id": "5120e231-310e-42c3-a6af-d3da2676434e"
    },
    {
      "cell_type": "code",
      "execution_count": 16,
      "metadata": {},
      "outputs": [],
      "source": [
        "xpa < 35"
      ],
      "id": "b6fbb6b1-3138-44de-ac43-b417c2268de1"
    },
    {
      "cell_type": "code",
      "execution_count": 17,
      "metadata": {},
      "outputs": [],
      "source": [
        "rat1[xpa < 35]"
      ],
      "id": "b6ea5bbc-0265-4f86-9f81-9778149cc739"
    },
    {
      "cell_type": "markdown",
      "metadata": {},
      "source": [
        "-   표준정규분포 누적 분포 함수cdf / 표준정규분포 밀도함수 pdf"
      ],
      "id": "955adbf7-8f8e-42bf-93e4-32df90b85dba"
    },
    {
      "cell_type": "code",
      "execution_count": 18,
      "metadata": {},
      "outputs": [],
      "source": [
        "if isinstance(rat1, (int, float, str, bool)) and xpa < 35:\n",
        "    rat1 = norm.cdf(-xpa) / norm.pdf(xpa)\n",
        "elif isinstance(rat1, (int, float, str, bool)) and xpa > 35:\n",
        "    rat1 = rat1\n",
        "else:\n",
        "    rat1[xpa < 35] = norm.cdf(-xpa[xpa < 35]) / norm.pdf(xpa[xpa < 35])"
      ],
      "id": "8a35a308-c7fd-4ee8-a987-df47fa73023b"
    },
    {
      "cell_type": "code",
      "execution_count": 19,
      "metadata": {},
      "outputs": [],
      "source": [
        "rat1"
      ],
      "id": "1b628426-0452-4d79-94fe-7b90a5e95721"
    },
    {
      "cell_type": "code",
      "execution_count": 20,
      "metadata": {},
      "outputs": [],
      "source": [
        "rat2 = 1/np.abs(xma)\n",
        "rat2"
      ],
      "id": "e1f472e7-14ce-4c37-83e6-c01e228ee835"
    },
    {
      "cell_type": "code",
      "execution_count": 21,
      "metadata": {},
      "outputs": [],
      "source": [
        "if isinstance(xma, (int, float, str, bool)) and xma > 35:\n",
        "    xma = 35\n",
        "elif isinstance(xma, (int, float, str, bool)) and xma < 35:\n",
        "    xma = xma\n",
        "else:\n",
        "    xma[xma > 35] = 35"
      ],
      "id": "350404f0-3aff-4849-bd4c-f598187041f1"
    },
    {
      "cell_type": "code",
      "execution_count": 22,
      "metadata": {},
      "outputs": [],
      "source": [
        "xma"
      ],
      "id": "0cc0a00a-e5cd-4357-8493-4866184fbbe8"
    },
    {
      "cell_type": "code",
      "execution_count": 23,
      "metadata": {},
      "outputs": [],
      "source": [
        "if isinstance(rat1, (int, float, str, bool)) and xma > -35:\n",
        "    rat2 = norm.cdf(xma) / norm.pdf(xma)\n",
        "elif isinstance(rat1, (int, float, str, bool)) and xma < -35:\n",
        "    rat2 = rat2\n",
        "else:\n",
        "    rat2[xma > -35] = norm.cdf(xma[xma > -35]) / norm.pdf(xma[xma > -35])"
      ],
      "id": "cef4aca1-a2df-469d-9b6e-ef13d9845f25"
    },
    {
      "cell_type": "code",
      "execution_count": 24,
      "metadata": {},
      "outputs": [],
      "source": [
        "rat2"
      ],
      "id": "cdca3e49-8616-4761-8257-36b041488b09"
    },
    {
      "cell_type": "markdown",
      "metadata": {},
      "source": [
        "-   beta = $\\frac{g(x; s, a)}{f_n(x; 0, s)}−1$\n",
        "-   g = 스케일 파라메터 a를 가진 라플라스 밀도의 convolution +\n",
        "    $\\gamma (u ; a)$\n",
        "    -   단, The Laplace density is given by\n",
        "        $\\gamma (u ; a) = \\frac{1}{2} a e^{-a |u|}$ and is also known as\n",
        "        the double exponential density."
      ],
      "id": "2baa41a5-0a97-4279-835e-d86dd87868b5"
    },
    {
      "cell_type": "code",
      "execution_count": 25,
      "metadata": {},
      "outputs": [],
      "source": [
        "beta = (a * s) / 2 * (rat1 + rat2) - 1\n",
        "beta"
      ],
      "id": "ef888a8d-1a39-49f5-a905-306bdb87cc03"
    },
    {
      "cell_type": "markdown",
      "metadata": {},
      "source": [
        "-   R code\n",
        "\n",
        "``` r\n",
        "beta.laplace <- function(x, s = 1, a = 0.5) {\n",
        "#\n",
        "#  The function beta for the Laplace prior given parameter a and s (sd)\n",
        "#\n",
        "    x <- abs(x)\n",
        "    xpa <- x/s + s*a\n",
        "    xma <- x/s - s*a\n",
        "    rat1 <- 1/xpa\n",
        "    rat1[xpa < 35] <- pnorm( - xpa[xpa < 35])/dnorm(xpa[xpa < 35])\n",
        "    rat2 <- 1/abs(xma)\n",
        "    xma[xma > 35] <- 35\n",
        "    rat2[xma > -35] <- pnorm(xma[xma > -35])/dnorm(xma[xma > -35])\n",
        "    beta <- (a * s) / 2 * (rat1 + rat2) - 1\n",
        "    return(beta)\n",
        "}\n",
        "```\n",
        "\n",
        "**결과**\n",
        "\n",
        "-   Python"
      ],
      "id": "16b6f101-c23b-4272-bd11-d6f5766d17ac"
    },
    {
      "cell_type": "code",
      "execution_count": 26,
      "metadata": {},
      "outputs": [],
      "source": [
        "ebayesthresh.beta_laplace(np.array([-2,1,0,-4,8,50]),s=1)"
      ],
      "id": "bb7f3af1-e452-4b76-ab27-56d9c1c2c5a8"
    },
    {
      "cell_type": "code",
      "execution_count": 27,
      "metadata": {},
      "outputs": [],
      "source": [
        "ebayesthresh.beta_laplace(-2,s=1,a=0.5)"
      ],
      "id": "ab955f9b-2802-4199-9db5-2f9ee57a4cb7"
    },
    {
      "cell_type": "code",
      "execution_count": 28,
      "metadata": {},
      "outputs": [],
      "source": [
        "ebayesthresh.beta_laplace(np.array([-2,1,0,-4,8,50]),s=np.arange(1, 7))"
      ],
      "id": "032868a9-2856-4554-89af-3d63a0a30d85"
    },
    {
      "cell_type": "markdown",
      "metadata": {},
      "source": [
        "-   R\n",
        "\n",
        "``` r\n",
        "> beta.laplace(c(-2,1,0,-4,8,50), s=1)\n",
        "[1]   8.898520e-01  -3.800417e-01  -5.618178e-01   2.854595e+02   1.026981e+12  6.344540e+265\n",
        "> beta.laplace(-2, s=1, a=0.5)\n",
        "[1] 0.889852\n",
        "> beta.laplace(c(-2,1,0,-4,8,50), s=1:6, a=1)\n",
        "[1]   0.890821055  -0.129919250  -0.086229104  -0.005203193   0.054213718 112.493576777\n",
        "```\n",
        "\n",
        "라플라스 분포, 정규분포와 유사한 모습, 하지만 중간이 뾰족한 모형\n",
        "\n",
        "$f(x) = \\frac{1}{2b} \\exp \\big[ \\frac{-|x - \\mu|}{b} \\big]$"
      ],
      "id": "63baf1d5-12d7-404c-bc05-68693ae5f7b5"
    },
    {
      "cell_type": "code",
      "execution_count": 29,
      "metadata": {},
      "outputs": [
        {
          "output_type": "display_data",
          "metadata": {},
          "data": {
            "image/png": "[encoded data removed]"
          }
        }
      ],
      "source": [
        "import numpy as np\n",
        "import matplotlib.pyplot as plt\n",
        "\n",
        "# 라플라스 분포의 확률 밀도 함수 정의\n",
        "def laplace_pdf(x, mu, b):\n",
        "    return 1/(2*b) * np.exp(-np.abs(x - mu) / b)\n",
        "\n",
        "# 파라미터 설정\n",
        "mu = 0  # 평균\n",
        "b = 1   # 스케일 파라미터\n",
        "\n",
        "# x 값 생성\n",
        "x_values = np.linspace(-10, 10, 1000)\n",
        "\n",
        "# 라플라스 분포의 확률 밀도 함수 계산\n",
        "pdf_values = laplace_pdf(x_values, mu, b)\n",
        "\n",
        "# 그래프 그리기\n",
        "plt.figure(figsize=(8, 6))\n",
        "plt.plot(x_values, pdf_values, label=f'Laplace Distribution (mu={mu}, b={b})')\n",
        "plt.title('Laplace Distribution')\n",
        "plt.xlabel('x')\n",
        "plt.ylabel('Probability Density')\n",
        "plt.legend()\n",
        "plt.grid(True)\n",
        "plt.show()"
      ],
      "id": "e52b199f-44a9-4efa-8be7-315cf42a0856"
    },
    {
      "cell_type": "markdown",
      "metadata": {},
      "source": [
        "# cauchy_medzero\n",
        "\n",
        "> the objective function that has to be zeroed, component by component,\n",
        "> to find the posterior median when the quasi-Cauchy prior is used. x is\n",
        "> the parameter vector, z is the data vector, w is the weight x and z\n",
        "> may be scalars\n",
        "\n",
        "-   quasi-Cauchy prior에서 사후 중앙값 찾기 위한 함수\n",
        "-   x,z는 벡터일수도 있고, 스칼라일 수 도 있다."
      ],
      "id": "d76ef2bb-5133-4afe-8745-63e53f39a9ab"
    },
    {
      "cell_type": "code",
      "execution_count": 30,
      "metadata": {},
      "outputs": [],
      "source": [
        "# x = np.array([-2,1,0,-4,8,50])\n",
        "x = 4\n",
        "# z = np.array([1,0,2,3,-1,-1])\n",
        "z = 5\n",
        "w = 0.5"
      ],
      "id": "110b1f7b-25e8-4439-b088-769895d8782c"
    },
    {
      "cell_type": "code",
      "execution_count": 31,
      "metadata": {},
      "outputs": [],
      "source": [
        "hh = z - x\n",
        "hh"
      ],
      "id": "54e20a49-11c3-47f5-9445-8dd770805f20"
    },
    {
      "cell_type": "code",
      "execution_count": 32,
      "metadata": {},
      "outputs": [],
      "source": [
        "dnhh = norm.pdf(hh)\n",
        "dnhh"
      ],
      "id": "a5a8b009-9314-4172-998c-a556c360699a"
    },
    {
      "cell_type": "code",
      "execution_count": 33,
      "metadata": {},
      "outputs": [],
      "source": [
        "yleft = norm.cdf(hh) - z * dnhh + ((z * x - 1) * dnhh * norm.cdf(-x)) / norm.pdf(x)\n",
        "yleft"
      ],
      "id": "8a3d63c3-c0af-4185-8737-f6e655087e1d"
    },
    {
      "cell_type": "code",
      "execution_count": 34,
      "metadata": {},
      "outputs": [],
      "source": [
        "yright2 = 1 + np.exp(-z**2 / 2) * (z**2 * (1 / w - 1) - 1)\n",
        "yright2"
      ],
      "id": "e941f9c1-f260-473e-8a4c-75a635bf8f76"
    },
    {
      "cell_type": "code",
      "execution_count": 35,
      "metadata": {},
      "outputs": [],
      "source": [
        "yright2 / 2 - yleft"
      ],
      "id": "f33f3337-989a-4d7c-b3c0-4ee15d0f0653"
    },
    {
      "cell_type": "markdown",
      "metadata": {},
      "source": [
        "-   R코드\n",
        "\n",
        "``` r\n",
        "cauchy.medzero <- function(x, z, w) {\n",
        "#    \n",
        "# the objective function that has to be zeroed, component by\n",
        "# component, to find the posterior median when the quasi-Cauchy prior\n",
        "# is used.  x is the parameter vector, z is the data vector, w is the\n",
        "# weight x and z may be scalars\n",
        "#\n",
        "    hh <- z - x\n",
        "    dnhh <- dnorm(hh)\n",
        "    yleft <- pnorm(hh) - z * dnhh + ((z * x - 1) * dnhh * pnorm( - x))/\n",
        "        dnorm(x)\n",
        "    yright2 <- 1 + exp( - z^2/2) * (z^2 * (1/w - 1) - 1)\n",
        "    return(yright2/2 - yleft)\n",
        "}\n",
        "```\n",
        "\n",
        "**결과**\n",
        "\n",
        "-   Python\n",
        "    -   벡터, 스칼라일때 가능한지 확인"
      ],
      "id": "30cc99a6-5ca4-4aa4-a8b1-ed1b40cffe72"
    },
    {
      "cell_type": "code",
      "execution_count": 36,
      "metadata": {},
      "outputs": [
        {
          "output_type": "stream",
          "name": "stderr",
          "text": [
            "/home/csy/Dropbox/sy_hub/posts/1_Note/ebayesthresh/utils.py:203: RuntimeWarning: invalid value encountered in divide\n",
            "  yleft = norm.cdf(hh) - z * dnhh + ((z * x - 1) * dnhh * norm.cdf(-x)) / norm.pdf(x)"
          ]
        }
      ],
      "source": [
        "ebayesthresh.cauchy_medzero(np.array([-2,1,0,-4,8,50]),np.array([1,0,2,3,-1,-1]),0.5)"
      ],
      "id": "33c5dc9e-402b-4973-af51-f7e503a389a6"
    },
    {
      "cell_type": "code",
      "execution_count": 37,
      "metadata": {},
      "outputs": [],
      "source": [
        "ebayesthresh.cauchy_medzero(4,5,0.5)"
      ],
      "id": "b0033926-f009-4149-8701-c52b1a4fe29a"
    },
    {
      "cell_type": "markdown",
      "metadata": {},
      "source": [
        "-   R\n",
        "\n",
        "``` r\n",
        "> cauchy.medzero(c(-2,1,0,-4,8,50),c(1,0,2,3,-1,-1),0.5)\n",
        "[1] -0.25356559  0.00000000 -0.09859737 -0.45556313  0.50000000         NaN\n",
        "> cauchy.medzero(4,5,0.5)\n",
        "[1] -0.2194424\n",
        "```\n",
        "\n",
        "# cauchy_threshzero\n",
        "\n",
        "-   cauchy 임계값 찾기 위한 것\n",
        "-   아래에서 반환되는 y가 0에 가깝도록 만들어주는 z를 찾는 과정"
      ],
      "id": "b5eb497a-92b2-476f-91f6-13177d7e4a07"
    },
    {
      "cell_type": "code",
      "execution_count": 38,
      "metadata": {},
      "outputs": [],
      "source": [
        "z = np.array([1,0,2,3,-1,-1])\n",
        "# z = 0\n",
        "# w = 0.5\n",
        "w = np.array([0.5,0.4,0.3,0.2,0,0.1])"
      ],
      "id": "36371433-adf0-4635-9714-e244292d1e13"
    },
    {
      "cell_type": "code",
      "execution_count": 39,
      "metadata": {},
      "outputs": [],
      "source": [
        "if isinstance(z, (list)):\n",
        "    z = np.array(z)"
      ],
      "id": "4c4747a5-8050-4afb-8651-51083d1cab2a"
    },
    {
      "cell_type": "code",
      "execution_count": 40,
      "metadata": {},
      "outputs": [
        {
          "output_type": "stream",
          "name": "stderr",
          "text": [
            "RuntimeWarning: divide by zero encountered in divide\n",
            "  y = norm.cdf(z) - z * norm.pdf(z) - 1/2 - (z**2 * np.exp(-z**2/2) * (1/w - 1))/2"
          ]
        }
      ],
      "source": [
        "y = norm.cdf(z) - z * norm.pdf(z) - 1/2 - (z**2 * np.exp(-z**2/2) * (1/w - 1))/2\n",
        "y"
      ],
      "id": "0a51bc70-37fd-43e2-8382-e8e35a7c02b4"
    },
    {
      "cell_type": "markdown",
      "metadata": {},
      "source": [
        "$y = pnorm(z) - z \\times dnorm(z) - \\frac{1}{2} - \\frac{z^2 \\exp (\\frac{z^2}{2})(\\frac{1}{w} - 1)}{2}$\n",
        "\n",
        "-   R 코드\n",
        "\n",
        "``` r\n",
        "cauchy.threshzero <- function(z, w) {\n",
        "#    \n",
        "# The objective function that has to be zeroed to find the Cauchy\n",
        "# threshold. z is the putative threshold vector, w is the weight w\n",
        "# can be a vector\n",
        "#\n",
        "    y <- pnorm(z) - z * dnorm(z) - 1/2 -\n",
        "         (z^2 * exp( - z^2/2) * (1/w - 1))/2\n",
        "    return(y)\n",
        "}\n",
        "```\n",
        "\n",
        "**결과**\n",
        "\n",
        "-   Python"
      ],
      "id": "afb697df-8867-4705-a06d-30437c1a3d07"
    },
    {
      "cell_type": "code",
      "execution_count": 41,
      "metadata": {},
      "outputs": [],
      "source": [
        "ebayesthresh.cauchy_threshzero(np.array([1,0,2,3,-1,-1]),0.5)"
      ],
      "id": "5096b23d-3dac-4a36-968b-ac979e3a9b9c"
    },
    {
      "cell_type": "code",
      "execution_count": 42,
      "metadata": {},
      "outputs": [
        {
          "output_type": "stream",
          "name": "stderr",
          "text": [
            "/home/csy/Dropbox/sy_hub/posts/1_Note/ebayesthresh/utils.py:211: RuntimeWarning: divide by zero encountered in divide\n",
            "  y = norm.cdf(z) - z * norm.pdf(z) - 1/2 - (z**2 * np.exp(-z**2/2) * (1/w - 1))/2"
          ]
        }
      ],
      "source": [
        "ebayesthresh.cauchy_threshzero(np.array([1,0,2,3,-1,-1]),np.array([0.5,0.4,0.3,0.2,0,0.1]))"
      ],
      "id": "8760aa06-b8c9-416e-9f54-6ab88be1496e"
    },
    {
      "cell_type": "markdown",
      "metadata": {},
      "source": [
        "-   R\n",
        "\n",
        "``` r\n",
        "> cauchy.threshzero(c(1,0,2,3,-1,-1),0.5)\n",
        "[1] -0.20389131  0.00000000  0.09859737  0.43536407 -0.40263935 -0.40263935\n",
        "cauchy.threshzero(c(1,0,2,3,-1,-1), c(0.5,0.4,0.3,0.2,0,0.1))\n",
        "[1] -0.2038913  0.0000000 -0.2622967  0.2853926       -Inf -2.8287620\n",
        "```\n",
        "\n",
        "# ebayesthresh"
      ],
      "id": "69cfed7e-d239-4534-8ef8-d967806c0a68"
    },
    {
      "cell_type": "code",
      "execution_count": 2,
      "metadata": {},
      "outputs": [],
      "source": [
        "x = np.concatenate([np.random.normal(0, 1, 90), np.random.normal(5, 1, 10)])\n",
        "sdev = 1\n",
        "prior=\"laplace\"\n",
        "a=0.5\n",
        "bayesfac=False\n",
        "verbose=False\n",
        "threshrule=\"median\"\n",
        "universalthresh=True\n",
        "stabadjustment=None"
      ],
      "id": "c1c750ca-c019-4374-9cd7-e488433cd744"
    },
    {
      "cell_type": "code",
      "execution_count": 3,
      "metadata": {},
      "outputs": [],
      "source": [
        "pr = prior[0:1]\n",
        "pr"
      ],
      "id": "dec7ed08-f20b-46d0-832d-929bddc4c829"
    },
    {
      "cell_type": "code",
      "execution_count": 45,
      "metadata": {},
      "outputs": [],
      "source": [
        "if sdev is None:\n",
        "    sdev = ebayesthresh.mad(x, center=0)\n",
        "    stabadjustment_condition = True\n",
        "elif len(np.atleast_1d(sdev)) == 1:\n",
        "    if stabadjustment is not None:\n",
        "        raise ValueError(\"Argument stabadjustment is not applicable when variances are homogeneous.\")\n",
        "    if np.isnan(sdev):\n",
        "        sdev = ebayesthresh.mad(x, center=0)\n",
        "    stabadjustment_condition = True\n",
        "else:\n",
        "    if pr == \"c\":\n",
        "        raise ValueError(\"Standard deviation has to be homogeneous for Cauchy prior.\")\n",
        "    if len(sdev) != len(x):\n",
        "        raise ValueError(\"Standard deviation has to be homogeneous or have the same length as observations.\")\n",
        "    if stabadjustment is None:\n",
        "        stabadjustment = False\n",
        "    stabadjustment_condition = stabadjustment"
      ],
      "id": "7d50fd50-79b4-4d62-8109-e09b21787032"
    },
    {
      "cell_type": "code",
      "execution_count": 46,
      "metadata": {},
      "outputs": [],
      "source": [
        "stabadjustment_condition"
      ],
      "id": "3cbaccb8-c63c-4b4c-9a1d-fb418681b434"
    },
    {
      "cell_type": "code",
      "execution_count": 47,
      "metadata": {},
      "outputs": [],
      "source": [
        "if stabadjustment_condition:\n",
        "    m_sdev = np.mean(sdev)\n",
        "    s = sdev / m_sdev\n",
        "    x = x / m_sdev\n",
        "else:\n",
        "    s = sdev"
      ],
      "id": "6cd4a734-6581-478c-9389-4591e99b70d6"
    },
    {
      "cell_type": "code",
      "execution_count": 48,
      "metadata": {},
      "outputs": [],
      "source": [
        "a"
      ],
      "id": "33cdfff2-dd41-43da-b0a4-ad00a6378438"
    },
    {
      "cell_type": "code",
      "execution_count": 49,
      "metadata": {},
      "outputs": [],
      "source": [
        "if (pr == \"l\") and np.isnan(a):\n",
        "    pp = ebayesthresh.wandafromx(x, s, universalthresh)\n",
        "    w = pp['w']\n",
        "    a = pp['a']\n",
        "else:\n",
        "    w = ebayesthresh.wfromx(x, s, prior=prior, a=a, universalthresh=universalthresh)"
      ],
      "id": "bc073fcc-e844-47a5-8e2b-390e6a0431f4"
    },
    {
      "cell_type": "code",
      "execution_count": 50,
      "metadata": {},
      "outputs": [],
      "source": [
        "w"
      ],
      "id": "b7efd6b1-d527-47ff-be1d-8135d96271b4"
    },
    {
      "cell_type": "code",
      "execution_count": 51,
      "metadata": {},
      "outputs": [],
      "source": [
        "a"
      ],
      "id": "368eb6b2-5c11-44cc-8f35-5698d3553c8b"
    },
    {
      "cell_type": "code",
      "execution_count": 52,
      "metadata": {},
      "outputs": [],
      "source": [
        "s"
      ],
      "id": "b5bd6d78-5c90-4e74-9ff1-518b9c1ade2e"
    },
    {
      "cell_type": "code",
      "execution_count": 53,
      "metadata": {},
      "outputs": [],
      "source": [
        "if pr != \"m\" or verbose:\n",
        "    tt = ebayesthresh.tfromw(w, s, prior=prior, bayesfac=bayesfac, a=a)[0]\n",
        "    if stabadjustment_condition:\n",
        "        tcor = tt * m_sdev\n",
        "    else:\n",
        "        tcor = tt"
      ],
      "id": "b771d6ca-8b27-4096-a55d-39e750aa32cb"
    },
    {
      "cell_type": "code",
      "execution_count": 54,
      "metadata": {},
      "outputs": [],
      "source": [
        "if threshrule == \"median\":\n",
        "    muhat = ebayesthresh.postmed(x, s, w, prior=prior, a=a)\n",
        "elif threshrule == \"mean\":\n",
        "    muhat = ebayesthresh.postmean(x, s, w, prior=prior, a=a)\n",
        "elif threshrule == \"hard\":\n",
        "    muhat = ebayesthresh.threshld(x, tt)\n",
        "elif threshrule == \"soft\":\n",
        "    muhat = ebayesthresh.threshld(x, tt, hard=False)\n",
        "elif threshrule == \"none\":\n",
        "    muhat = None\n",
        "else:\n",
        "    raise ValueError(f\"Unknown threshold rule: {threshrule}\")"
      ],
      "id": "f89246d9-fae4-4b09-9d21-ddfcffc8c205"
    },
    {
      "cell_type": "code",
      "execution_count": 55,
      "metadata": {},
      "outputs": [],
      "source": [
        "muhat"
      ],
      "id": "9995f6bf-1e89-4391-9951-b6f345cb5bfa"
    },
    {
      "cell_type": "code",
      "execution_count": 56,
      "metadata": {},
      "outputs": [],
      "source": [
        "if stabadjustment_condition:\n",
        "    muhat = muhat * m_sdev"
      ],
      "id": "bb7976e6-6a25-4bfd-a03f-2f3ad34d2b88"
    },
    {
      "cell_type": "code",
      "execution_count": 57,
      "metadata": {},
      "outputs": [],
      "source": [
        "muhat"
      ],
      "id": "4f829f40-61e9-4190-9611-af03923a2c41"
    },
    {
      "cell_type": "code",
      "execution_count": 58,
      "metadata": {},
      "outputs": [],
      "source": [
        "if not verbose:\n",
        "    muhat\n",
        "else:\n",
        "    retlist = {\n",
        "        'muhat': muhat,\n",
        "        'x': x,\n",
        "        'threshold.sdevscale': tt,\n",
        "        'threshold.origscale': tcor,\n",
        "        'prior': prior,\n",
        "        'w': w,\n",
        "        'a': a,\n",
        "        'bayesfac': bayesfac,\n",
        "        'sdev': sdev,\n",
        "        'threshrule': threshrule\n",
        "    }\n",
        "    if pr == \"c\":\n",
        "        del retlist['a']\n",
        "    if threshrule == \"none\":\n",
        "        del retlist['muhat']\n",
        "    retlist"
      ],
      "id": "901491d0-4d0e-4e87-a68d-432dfa56ea54"
    },
    {
      "cell_type": "markdown",
      "metadata": {},
      "source": [
        "R코드\n",
        "\n",
        "``` r\n",
        "ebayesthresh <- function (x, prior = \"laplace\", a = 0.5, bayesfac = FALSE,\n",
        "                          sdev = NA, verbose = FALSE, threshrule = \"median\",\n",
        "                          universalthresh = TRUE, stabadjustment) {\n",
        "#  \n",
        "#  Given a vector of data x, find the marginal maximum likelihood\n",
        "#  estimator of the mixing weight w, and apply an appropriate\n",
        "#  thresholding rule using this weight.\n",
        "#\n",
        "#  If the prior is laplace and a=NA, then the inverse scale parameter\n",
        "#  is also found by MML.\n",
        "#\n",
        "#  Standard deviation sdev can be a vector (heterogeneous variance) or\n",
        "#  a single value (homogeneous variance). If sdev=NA, then it is\n",
        "#  estimated using the function mad(x). Heterogeneous variance is\n",
        "#  allowed only for laplace prior currently.\n",
        "#    \n",
        "#  The thresholding rules allowed are \"median\", \"mean\", \"hard\", \"soft\"\n",
        "#  and \"none\"; if \"none\" is used, then only the parameters are worked\n",
        "#  out.\n",
        "#\n",
        "#  If hard or soft thresholding is used, the argument \"bayesfac\"\n",
        "#  specifies whether to use the bayes factor threshold or the\n",
        "#  posterior median threshold.\n",
        "#    \n",
        "#  If universalthresh=TRUE, the thresholds will be upper bounded by\n",
        "#  universal threshold adjusted by standard deviation; otherwise,\n",
        "#  weight w will be searched in [0, 1].\n",
        "#    \n",
        "#  If stabadjustment=TRUE, the observations and standard deviations\n",
        "#  will be first divided by the mean of all given standard deviations\n",
        "#  in case of inefficiency due to large value of standard\n",
        "#  deviation. In the case of homogeneous variance, the standard\n",
        "#  deviations will be normalized to 1 automatically.\n",
        "#\n",
        "#  If verbose=TRUE then the routine returns a list with several\n",
        "#  arguments, including muhat which is the result of the\n",
        "#  thresholding. If verbose=FALSE then only muhat is returned.\n",
        "#\n",
        "    \n",
        "  # Find the standard deviation if necessary and estimate the parameters\n",
        "  pr <- substring(prior, 1, 1)\n",
        "\n",
        "  if(length(sdev) == 1) {\n",
        "      if(!missing(stabadjustment))\n",
        "        stop(paste(\"Argument stabadjustment is not applicable when\",\n",
        "                   \"variances are homogeneous.\"))\n",
        "      if(is.na(sdev)) {\n",
        "          sdev <- mad(x, center = 0)\n",
        "      }\n",
        "      stabadjustment_condition = TRUE\n",
        "  } else{\n",
        "    if(pr == \"c\")\n",
        "      stop(\"Standard deviation has to be homogeneous for Cauchy prior.\")\n",
        "    if(length(sdev) != length(x))\n",
        "      stop(paste(\"Standard deviation has to be homogeneous or has the\",\n",
        "                 \"same length as observations.\"))\n",
        "    if(missing(stabadjustment))\n",
        "      stabadjustment <- FALSE\n",
        "    stabadjustment_condition = stabadjustment\n",
        "  }\n",
        "  \n",
        "  if (stabadjustment_condition) {\n",
        "    m_sdev <- mean(sdev)\n",
        "    s <- sdev/m_sdev\n",
        "    x <- x/m_sdev\n",
        "  } else { s <- sdev }\n",
        "  \n",
        "    if ((pr == \"l\") & is.na(a)) {\n",
        "      pp <- wandafromx(x, s, universalthresh)\n",
        "          w  <- pp$w\n",
        "          a  <- pp$a\n",
        "    }\n",
        "    else\n",
        "          w <- wfromx(x, s, prior = prior, a = a, universalthresh)\n",
        "    if(pr != \"m\" | verbose) {\n",
        "      tt <- tfromw(w, s, prior = prior, bayesfac = bayesfac, a = a)\n",
        "      if(stabadjustment_condition) {\n",
        "        tcor <- tt * m_sdev\n",
        "          } else {\n",
        "            tcor <- tt\n",
        "          }\n",
        "    }\n",
        "    if(threshrule == \"median\")\n",
        "        muhat <- postmed(x, s, w, prior = prior, a = a)\n",
        "    if(threshrule == \"mean\")\n",
        "    muhat <- postmean(x, s, w, prior = prior, a = a)\n",
        "    if(threshrule == \"hard\")\n",
        "        muhat <- threshld(x, tt)\n",
        "    if(threshrule == \"soft\")\n",
        "        muhat <- threshld(x, tt, hard = FALSE)\n",
        "        if(threshrule == \"none\")\n",
        "                muhat <- NA\n",
        "\n",
        "    # Now return desired output\n",
        "    if(stabadjustment_condition) {\n",
        "      muhat <- muhat * m_sdev\n",
        "    }\n",
        "    if(!verbose)\n",
        "            return(muhat)\n",
        "    retlist <- list(muhat = muhat, x = x, threshold.sdevscale = tt, \n",
        "                        threshold.origscale = tcor, prior = prior, w = w,\n",
        "                        a = a, bayesfac = bayesfac, sdev = sdev,\n",
        "                        threshrule = threshrule)\n",
        "    if(pr == \"c\")\n",
        "        retlist <- retlist[-7]\n",
        "    if(threshrule == \"none\")\n",
        "        retlist <- retlist[-1]\n",
        "    return(retlist)\n",
        "}\n",
        "```\n",
        "\n",
        "결과\n",
        "\n",
        "-   Python"
      ],
      "id": "b36aab70-10c8-47a5-98a9-a57664976e07"
    },
    {
      "cell_type": "code",
      "execution_count": 5,
      "metadata": {},
      "outputs": [],
      "source": [
        "ebayesthresh.ebayesthresh(x=np.concatenate([np.random.normal(0, 1, 90), np.random.normal(5, 1, 10)]), sdev = 1)"
      ],
      "id": "dd53fa2b-eeb8-4be6-ad1b-379fbe0c0657"
    },
    {
      "cell_type": "markdown",
      "metadata": {},
      "source": [
        "-   R\n",
        "\n",
        "``` r\n",
        "> ebayesthresh(x = rnorm(100, c(rep(0,90), rep(5,10))),\n",
        "+              prior = \"laplace\", sdev = 1)\n",
        "  [1]  0.0000000  0.0000000  0.0000000  0.0000000  0.0000000  0.0000000  0.0000000  0.0000000  0.0000000  0.0000000  0.0000000  0.0000000  0.0000000  0.0000000\n",
        " [15]  0.0000000  0.0000000  0.0000000  0.0000000  0.0000000  0.0000000  0.0000000  0.0000000  0.0000000  0.0000000  0.0000000  0.0000000  0.0000000  0.0000000\n",
        " [29]  0.0000000  0.0000000  0.0000000  0.0000000  0.0000000  0.0000000  0.0000000  0.0000000  0.0000000  0.0000000  0.0000000  0.0000000  0.0000000  0.0000000\n",
        " [43]  0.0000000  0.0000000  0.0000000  0.0000000  0.0000000  0.0000000  0.0000000  0.0000000  0.0000000  0.0000000  0.0000000  0.0000000  0.0000000  0.0000000\n",
        " [57]  0.0000000  0.0000000  0.0000000  0.0000000  0.0000000  0.0000000  0.0000000  0.0000000  0.0000000  0.0000000  0.0000000  0.0000000  0.0000000  0.0000000\n",
        " [71]  0.0000000  0.0000000  0.0000000  0.0000000  0.0000000  0.0000000  0.0000000  0.0000000  0.0000000  0.0000000  0.0000000  0.0000000  0.0000000 -0.4480064\n",
        " [85]  0.0000000  0.0000000  0.0000000  0.0000000  0.0000000  0.0000000  5.1534865  6.2732386  4.4612851  5.9931848  4.5828731  4.6154038  4.8247775  3.6219544\n",
        " [99]  4.4480080  5.4084453\n",
        "```\n",
        "\n",
        "# ebayesthresh.wavelet\n",
        "\n",
        "R코드\n",
        "\n",
        "``` r\n",
        "ebayesthresh.wavelet <-\n",
        "  function (xtr, vscale = \"independent\", smooth.levels = Inf,\n",
        "            prior = \"laplace\", a = 0.5, bayesfac = FALSE,\n",
        "            threshrule = \"median\") {\n",
        "    xcl <- class(xtr)\n",
        "    if (class(xcl) == \"dwt \" && length(xcl) > 1) {\n",
        "            xtr <- ebayesthresh.wavelet.splus(xtr, vscale, smooth.levels,\n",
        "                                              prior, a, bayesfac, threshrule)\n",
        "            return(xtr)\n",
        "        }\n",
        "    if (xcl == \"wd\") {\n",
        "            xtr <- ebayesthresh.wavelet.wd(xtr, vscale, smooth.levels, prior,\n",
        "                                           a, bayesfac, threshrule)\n",
        "            return(xtr)\n",
        "        }\n",
        "        if (xcl == \"dwt\" || xcl==\"modwt\") {\n",
        "            xtr <- ebayesthresh.wavelet.dwt(xtr, vscale, smooth.levels,\n",
        "                                            prior, a, bayesfac, threshrule)\n",
        "            return(xtr)\n",
        "        }\n",
        "    stop(\"Unknown wavelet transform type; no smoothing performed\")\n",
        "    return(xtr)\n",
        "}\n",
        "```\n",
        "\n",
        "결과\n",
        "\n",
        "-   Python\n",
        "\n",
        "-   R\n",
        "\n",
        "``` r\n",
        "```\n",
        "\n",
        "# ebayesthresh.wavelet.dwt"
      ],
      "id": "9c3b4edd-3e20-4855-ade5-b25aa4bae55d"
    },
    {
      "cell_type": "code",
      "execution_count": 12,
      "metadata": {},
      "outputs": [],
      "source": [
        "data = np.concatenate([np.random.normal(0, 1, 90), np.random.normal(5, 1, 10)])\n",
        "n = len(data)\n",
        "level1 = data[::2] - data[1::2]\n",
        "level2 = level1[::2] - level1[1::2]\n",
        "approximation = level2[::2] + level2[::2]\n",
        "\n",
        "# Create a list of wavelet coefficients for each level\n",
        "x_dwt = [approximation, level2, level1]\n",
        "x_dwt"
      ],
      "id": "19033606-66db-4d10-be59-7d75cc20b343"
    },
    {
      "cell_type": "code",
      "execution_count": 13,
      "metadata": {},
      "outputs": [],
      "source": [
        "# x_dwt\n",
        "vscale=\"independent\"\n",
        "smooth_levels=float('inf')\n",
        "prior=\"laplace\"\n",
        "a=0.5\n",
        "bayesfac=False,\n",
        "threshrule=\"median\""
      ],
      "id": "31216e61-8ce2-4a49-8316-6de2f1db52be"
    },
    {
      "cell_type": "code",
      "execution_count": 7,
      "metadata": {},
      "outputs": [],
      "source": [
        "nlevs = len(x_dwt) - 1\n",
        "nlevs"
      ],
      "id": "186435c3-b17d-40dc-be86-b14c2c0192d7"
    },
    {
      "cell_type": "code",
      "execution_count": 8,
      "metadata": {},
      "outputs": [],
      "source": [
        "slevs = min(nlevs, smooth_levels)\n",
        "slevs"
      ],
      "id": "d2714f03-32e9-4e1b-a76e-fb922e3641a1"
    },
    {
      "cell_type": "code",
      "execution_count": 18,
      "metadata": {},
      "outputs": [],
      "source": [
        "if isinstance(vscale, str):\n",
        "    vs = vscale[0].lower()\n",
        "    if vs == \"i\":\n",
        "        vscale = ebayesthresh.mad(x_dwt[0], center=0)\n",
        "    if vs == \"l\":\n",
        "        vscale = None"
      ],
      "id": "22bc297a-8f78-4b7b-abe6-251902c7018d"
    },
    {
      "cell_type": "code",
      "execution_count": 23,
      "metadata": {},
      "outputs": [
        {
          "output_type": "stream",
          "name": "stdout",
          "text": [
            "Unexpected exception formatting exception. Falling back to standard exception"
          ]
        },
        {
          "output_type": "stream",
          "name": "stderr",
          "text": [
            "Traceback (most recent call last):\n",
            "  File \"/home/csy/anaconda3/envs/temp_csy/lib/python3.8/site-packages/IPython/core/interactiveshell.py\", line 3398, in run_code\n",
            "    exec(code_obj, self.user_global_ns, self.user_ns)\n",
            "  File \"<ipython-input-23-7fc60b3f848b>\", line 2, in <cell line: 1>\n",
            "    x_dwt[j] = EbayesThresh.ebayesthresh(x_dwt[j], prior=prior, a=a, bayesfac=bayesfac,\n",
            "  File \"/home/csy/Dropbox/sy_hub/posts/1_Note/EbayesThresh/utils.py\", line 100, in ebayesthresh\n",
            "    tt = tfromw(w, s, prior=prior, bayesfac=bayesfac, a=a)[0]\n",
            "  File \"/home/csy/Dropbox/sy_hub/posts/1_Note/EbayesThresh/utils.py\", line 713, in tfromw\n",
            "TypeError: object of type 'numpy.float64' has no len()\n",
            "\n",
            "During handling of the above exception, another exception occurred:\n",
            "\n",
            "Traceback (most recent call last):\n",
            "  File \"/home/csy/anaconda3/envs/temp_csy/lib/python3.8/site-packages/IPython/core/interactiveshell.py\", line 1993, in showtraceback\n",
            "    stb = self.InteractiveTB.structured_traceback(\n",
            "  File \"/home/csy/anaconda3/envs/temp_csy/lib/python3.8/site-packages/IPython/core/ultratb.py\", line 1118, in structured_traceback\n",
            "    return FormattedTB.structured_traceback(\n",
            "  File \"/home/csy/anaconda3/envs/temp_csy/lib/python3.8/site-packages/IPython/core/ultratb.py\", line 1012, in structured_traceback\n",
            "    return VerboseTB.structured_traceback(\n",
            "  File \"/home/csy/anaconda3/envs/temp_csy/lib/python3.8/site-packages/IPython/core/ultratb.py\", line 865, in structured_traceback\n",
            "    formatted_exception = self.format_exception_as_a_whole(etype, evalue, etb, number_of_lines_of_context,\n",
            "  File \"/home/csy/anaconda3/envs/temp_csy/lib/python3.8/site-packages/IPython/core/ultratb.py\", line 818, in format_exception_as_a_whole\n",
            "    frames.append(self.format_record(r))\n",
            "  File \"/home/csy/anaconda3/envs/temp_csy/lib/python3.8/site-packages/IPython/core/ultratb.py\", line 736, in format_record\n",
            "    result += ''.join(_format_traceback_lines(frame_info.lines, Colors, self.has_colors, lvals))\n",
            "  File \"/home/csy/anaconda3/envs/temp_csy/lib/python3.8/site-packages/stack_data/utils.py\", line 144, in cached_property_wrapper\n",
            "    value = obj.__dict__[self.func.__name__] = self.func(obj)\n",
            "  File \"/home/csy/anaconda3/envs/temp_csy/lib/python3.8/site-packages/stack_data/core.py\", line 734, in lines\n",
            "    pieces = self.included_pieces\n",
            "  File \"/home/csy/anaconda3/envs/temp_csy/lib/python3.8/site-packages/stack_data/utils.py\", line 144, in cached_property_wrapper\n",
            "    value = obj.__dict__[self.func.__name__] = self.func(obj)\n",
            "  File \"/home/csy/anaconda3/envs/temp_csy/lib/python3.8/site-packages/stack_data/core.py\", line 681, in included_pieces\n",
            "    pos = scope_pieces.index(self.executing_piece)\n",
            "  File \"/home/csy/anaconda3/envs/temp_csy/lib/python3.8/site-packages/stack_data/utils.py\", line 144, in cached_property_wrapper\n",
            "    value = obj.__dict__[self.func.__name__] = self.func(obj)\n",
            "  File \"/home/csy/anaconda3/envs/temp_csy/lib/python3.8/site-packages/stack_data/core.py\", line 660, in executing_piece\n",
            "    return only(\n",
            "  File \"/home/csy/anaconda3/envs/temp_csy/lib/python3.8/site-packages/executing/executing.py\", line 190, in only\n",
            "    raise NotOneValueFound('Expected one value, found 0')\n",
            "executing.executing.NotOneValueFound: Expected one value, found 0"
          ]
        }
      ],
      "source": [
        "for j in range(slevs):\n",
        "    x_dwt[j] = ebayesthresh.ebayesthresh(x_dwt[j], prior=prior, a=a, bayesfac=bayesfac, \n",
        "                            sdev=vscale, verbose=False, threshrule=threshrule)"
      ],
      "id": "596be008-5439-470f-97d8-0a23a2932494"
    },
    {
      "cell_type": "code",
      "execution_count": 24,
      "metadata": {},
      "outputs": [],
      "source": [
        "x_dwt"
      ],
      "id": "25b823f8-2b7b-4ffb-9eb8-8410e1304218"
    },
    {
      "cell_type": "markdown",
      "metadata": {},
      "source": [
        "R코드\n",
        "\n",
        "``` r\n",
        "ebayesthresh.wavelet.dwt <-\n",
        "  function (x.dwt, vscale = \"independent\", smooth.levels = Inf, \n",
        "            prior = \"laplace\", a = 0.5, bayesfac = FALSE,\n",
        "            threshrule = \"median\") {\n",
        "        nlevs <- length(x.dwt)-1\n",
        "        slevs <- min(nlevs, smooth.levels)\n",
        "        if (is.character(vscale)) {\n",
        "            vs <- substring(vscale, 1, 1)\n",
        "            if (vs == \"i\") \n",
        "                vscale <- mad(x.dwt[[1]])\n",
        "            if (vs == \"l\") \n",
        "                vscale <- NA\n",
        "        }\n",
        "        for (j in 1:slevs) {\n",
        "            x.dwt[[j]] <-\n",
        "              ebayesthresh(x.dwt[[j]], prior, a, bayesfac, vscale,\n",
        "                           FALSE, threshrule)\n",
        "        }\n",
        "     return(x.dwt)\n",
        "}\n",
        "```\n",
        "\n",
        "결과\n",
        "\n",
        "-   Python"
      ],
      "id": "91f5e5f8-bb96-4fe1-9b45-3010cdbc5359"
    },
    {
      "cell_type": "code",
      "execution_count": 13,
      "metadata": {},
      "outputs": [],
      "source": [
        "ebayesthresh.ebayesthresh_wavelet_dwt(x_dwt)"
      ],
      "id": "1f2a322b-5c94-470e-b7f7-94928e8588b7"
    },
    {
      "cell_type": "markdown",
      "metadata": {},
      "source": [
        "-   R\n",
        "\n",
        "확인 불가\n",
        "\n",
        "``` r\n",
        "> ebayesthresh.wavelet.dwt(x.dwt=x_dwt)\n",
        "Error in ebayesthresh.wavelet.dwt(x.dwt = x_dwt) : \n",
        "  could not find function \"ebayesthresh.wavelet.dwt\"\n",
        "```\n",
        "\n",
        "# ebayesthresh.wavelet.splus"
      ],
      "id": "03f94c38-1040-472d-9565-601a2b4d14c0"
    },
    {
      "cell_type": "code",
      "execution_count": 7,
      "metadata": {},
      "outputs": [],
      "source": [
        "data = np.concatenate([np.random.normal(0, 1, 90), np.random.normal(5, 1, 10)])\n",
        "n = len(data)\n",
        "level1 = data[::2] - data[1::2]\n",
        "level2 = level1[::2] - level1[1::2]\n",
        "approximation = level2[::2] + level2[::2]\n",
        "\n",
        "# Create a list of wavelet coefficients for each level\n",
        "x_dwt = [approximation, level2, level1]\n",
        "x_dwt"
      ],
      "id": "ea5a4e9d-83b6-4b92-b28d-acb1ce793133"
    },
    {
      "cell_type": "code",
      "execution_count": 5,
      "metadata": {},
      "outputs": [],
      "source": [
        "vscale=\"independent\"\n",
        "smooth_levels=float('inf')\n",
        "prior=\"laplace\"\n",
        "a=0.5\n",
        "bayesfac=False\n",
        "threshrule=\"median\""
      ],
      "id": "c0993516-28fe-4ec7-b4cf-548100e93974"
    },
    {
      "cell_type": "code",
      "execution_count": 6,
      "metadata": {},
      "outputs": [],
      "source": [
        "nlevs = len(x_dwt)\n",
        "nlevs"
      ],
      "id": "f9dd028f-de60-4e64-8110-702dcc9f6f0b"
    },
    {
      "cell_type": "code",
      "execution_count": 7,
      "metadata": {},
      "outputs": [],
      "source": [
        "slevs = min(nlevs, smooth_levels)\n",
        "slevs"
      ],
      "id": "3b309ac5-c848-4aca-af2b-ad18f03829b4"
    },
    {
      "cell_type": "code",
      "execution_count": 8,
      "metadata": {},
      "outputs": [],
      "source": [
        "if isinstance(vscale, str):\n",
        "    vs = vscale[0].lower()\n",
        "    if vs == \"i\":\n",
        "        vscale = ebayesthresh.mad(x_dwt[-1])  # Use the last level for vscale\n",
        "    elif vs == \"l\":\n",
        "        vscale = None"
      ],
      "id": "0d300712-8cd4-454a-9f9d-275566ad6f28"
    },
    {
      "cell_type": "code",
      "execution_count": 9,
      "metadata": {},
      "outputs": [],
      "source": [
        "vscale"
      ],
      "id": "a6d4700a-b4cb-457e-819c-42b00ae9ccac"
    },
    {
      "cell_type": "code",
      "execution_count": 11,
      "metadata": {},
      "outputs": [],
      "source": [
        "for j in range(nlevs - slevs + 1, nlevs + 1):\n",
        "        x_dwt[j - 1] = ebayesthresh.ebayesthresh(x_dwt[j - 1], prior=prior, a=a, bayesfac=bayesfac, \n",
        "                                    sdev=vscale, verbose=False, threshrule=threshrule)"
      ],
      "id": "1fb655ed-f66a-453a-8854-c4679cffbddf"
    },
    {
      "cell_type": "code",
      "execution_count": 12,
      "metadata": {},
      "outputs": [],
      "source": [
        "x_dwt"
      ],
      "id": "9e99526f-2182-4829-a225-8a3871db6645"
    },
    {
      "cell_type": "markdown",
      "metadata": {},
      "source": [
        "R코드\n",
        "\n",
        "``` r\n",
        "ebayesthresh.wavelet.splus <-\n",
        "  function (x.dwt, vscale = \"independent\", smooth.levels = Inf, \n",
        "            prior = \"laplace\", a = 0.5, bayesfac = FALSE,\n",
        "            threshrule = \"median\") {\n",
        "        nlevs <- attributes(x.dwt)$n.levels\n",
        "        slevs <- min(nlevs, smooth.levels)\n",
        "        if (is.character(vscale)) {\n",
        "            vs <- substring(vscale, 1, 1)\n",
        "            if (vs == \"i\") \n",
        "                vscale <- mad(x.dwt[[nlevs + 1]])\n",
        "            if (vs == \"l\") \n",
        "                vscale <- NA\n",
        "        }\n",
        "        for (j in ((nlevs - slevs + 2):(nlevs + 1)))\n",
        "          x.dwt[[j]] <-\n",
        "            ebayesthresh(as.vector(x.dwt[[j]]), prior, a, bayesfac,\n",
        "                         vscale, FALSE, threshrule)\n",
        "        return(x.dwt)\n",
        "}\n",
        "```\n",
        "\n",
        "결과\n",
        "\n",
        "-   Python"
      ],
      "id": "d2fcd477-4571-4adb-b026-6100c2cde064"
    },
    {
      "cell_type": "code",
      "execution_count": null,
      "metadata": {},
      "outputs": [],
      "source": [
        "ebayesthresh.ebayesthresh_wavelet_splus(x_dwt=x_dwt)"
      ],
      "id": "7d19b97e-a479-4b15-9e70-7ddadf2a1743"
    },
    {
      "cell_type": "markdown",
      "metadata": {},
      "source": [
        "-   R\n",
        "\n",
        "확인 불가\n",
        "\n",
        "``` r\n",
        "> ebayesthresh.wavelet.splus(x.dwt=x_dwt)\n",
        "Error in ebayesthresh.wavelet.splus(x.dwt = x_dwt) : \n",
        "  could not find function \"ebayesthresh.wavelet.splus\"\n",
        "```\n",
        "\n",
        "# ebayesthresh.wavelet.wd"
      ],
      "id": "bccaf6dd-eaa5-415c-8e14-807c795f912b"
    },
    {
      "cell_type": "code",
      "execution_count": 15,
      "metadata": {},
      "outputs": [],
      "source": [
        "def get_mother_wavelet_coefficients(data, level):\n",
        "    # Perform wavelet decomposition\n",
        "    coeffs = pywt.wavedec(data, 'db1', level=level)\n",
        "    \n",
        "    # Access the coefficients at the desired resolution level\n",
        "    mother_wavelet_coeffs = coeffs[level]\n",
        "    \n",
        "    return mother_wavelet_coeffs\n",
        "\n",
        "# Example usage:\n",
        "data = [1, 2, 3, 4, 5, 6, 7, 8]\n",
        "level = 2\n",
        "mother_wavelet_coeffs = get_mother_wavelet_coefficients(data, level)"
      ],
      "id": "1b4726be-a951-4fb3-848e-996bbeb291f8"
    },
    {
      "cell_type": "code",
      "execution_count": 16,
      "metadata": {},
      "outputs": [],
      "source": [
        "mother_wavelet_coeffs"
      ],
      "id": "50423893-3171-4063-83bc-631a2f1e4ada"
    },
    {
      "cell_type": "code",
      "execution_count": 17,
      "metadata": {},
      "outputs": [],
      "source": [
        "x_wd = pywt.Wavelet('db1')\n",
        "x_wd"
      ],
      "id": "3b312a0c-e270-4820-ba95-3211c8b2dfd9"
    },
    {
      "cell_type": "code",
      "execution_count": 20,
      "metadata": {},
      "outputs": [],
      "source": [
        "vscale=\"independent\"\n",
        "smooth_levels=float('inf')\n",
        "prior=\"laplace\"\n",
        "a=0.5\n",
        "bayesfac=False\n",
        "threshrule=\"median\""
      ],
      "id": "78abcd0b-3960-4469-b936-e59ef62975ab"
    },
    {
      "cell_type": "code",
      "execution_count": null,
      "metadata": {},
      "outputs": [],
      "source": [
        "nlevs = x_wd['nlevels']\n",
        "nlevs"
      ],
      "id": "7dad812d-26e9-41ef-b7b9-af6f57000b2e"
    },
    {
      "cell_type": "code",
      "execution_count": null,
      "metadata": {},
      "outputs": [],
      "source": [
        "slevs = min(nlevs - 1, smooth_levels)\n",
        "slevs"
      ],
      "id": "9ecae59d-9e8f-4ad7-b01d-9006ddadbd4b"
    },
    {
      "cell_type": "code",
      "execution_count": null,
      "metadata": {},
      "outputs": [],
      "source": [
        "if isinstance(vscale, str):\n",
        "    vs = vscale[0].lower()\n",
        "    if vs == \"i\":\n",
        "        vscale = ebayesthresh.mad(get_mother_wavelet_coefficients(x_wd,-1))  # Use the last level for vscale\n",
        "    elif vs == \"l\":\n",
        "        vscale = None"
      ],
      "id": "8c6775cc-d730-482f-a317-a45bcb40e27b"
    },
    {
      "cell_type": "code",
      "execution_count": null,
      "metadata": {},
      "outputs": [],
      "source": [
        "for j in range(nlevs - slevs, nlevs - 1):\n",
        "        x_wd.d[j] = ebayesthresh(x_wd.d[j], prior=prior, a=a, bayesfac=bayesfac, \n",
        "                                  sdev=vscale, verbose=False, threshrule=threshrule)"
      ],
      "id": "bd2837c7-c785-429b-b805-98555905118d"
    },
    {
      "cell_type": "code",
      "execution_count": null,
      "metadata": {},
      "outputs": [],
      "source": [
        "x_wd"
      ],
      "id": "cd4d2231-5fa7-4b51-8328-0e3ddfab7b5a"
    },
    {
      "cell_type": "markdown",
      "metadata": {},
      "source": [
        "R코드\n",
        "\n",
        "``` r\n",
        "ebayesthresh.wavelet.wd <-\n",
        "  function (x.wd, vscale = \"independent\", smooth.levels = Inf,\n",
        "            prior = \"laplace\", a = 0.5, bayesfac = FALSE,\n",
        "            threshrule = \"median\") {\n",
        "    nlevs <- x.wd$nlevels\n",
        "    slevs <- min(nlevs - 1, smooth.levels)\n",
        "    if (is.character(vscale)) {\n",
        "        vs <- substring(vscale, 1, 1)\n",
        "        if (vs == \"i\")\n",
        "            vscale <- mad(accessD(x.wd, level = nlevs - 1))\n",
        "        if (vs == \"l\")\n",
        "            vscale <- NA\n",
        "    }\n",
        "    for (j in (nlevs - slevs):(nlevs - 1)) {\n",
        "      x.wd <- putD(x.wd, level = j,\n",
        "                   v = ebayesthresh(accessD(x.wd, level = j), prior, a,\n",
        "                                    bayesfac, vscale, FALSE, threshrule))\n",
        "    }\n",
        "    return(x.wd)\n",
        "}\n",
        "```\n",
        "\n",
        "결과\n",
        "\n",
        "-   Python"
      ],
      "id": "7b6045db-1f63-49b7-b87a-1cc96f1ba1ce"
    },
    {
      "cell_type": "code",
      "execution_count": null,
      "metadata": {},
      "outputs": [],
      "source": [
        "ebayesthresh.ebayesthresh_wavelet_wd(x_wd)"
      ],
      "id": "9b592732-8b13-47ea-8390-0ef2ca9dcf31"
    },
    {
      "cell_type": "markdown",
      "metadata": {},
      "source": [
        "-   R\n",
        "\n",
        "확인 불가\n",
        "\n",
        "``` r\n",
        "> ebayesthresh.wavelet.wd(x.dwt=x_dwt)\n",
        "Error in ebayesthresh.wavelet.wd(x.dwt = x_dwt) : \n",
        "  could not find function \"ebayesthresh.wavelet.wd\"\n",
        "```\n",
        "\n",
        "# isotone\n",
        "\n",
        "> Isotonic Regression은 입력 변수에 따른 출력 변수의 단조 증가(monotonic\n",
        "> increasing) 또는 감소(monotonic decreasing) 패턴을 찾는 방법"
      ],
      "id": "b30fb87c-d067-403c-b0cc-5625e525034c"
    },
    {
      "cell_type": "code",
      "execution_count": 60,
      "metadata": {},
      "outputs": [],
      "source": [
        "beta = ebayesthresh.beta_cauchy(np.array([-2,1,0,-4]))\n",
        "w = np.ones(len(beta))\n",
        "aa = w + 1/beta\n",
        "x = w + aa\n",
        "wt = 1/aa**2\n",
        "increasing = False"
      ],
      "id": "8ef6ca18-5787-45bd-8b12-7e8102dd08e9"
    },
    {
      "cell_type": "code",
      "execution_count": 61,
      "metadata": {},
      "outputs": [],
      "source": [
        "nn = len(x)"
      ],
      "id": "26584b11-31c2-48dc-b880-c015a9475489"
    },
    {
      "cell_type": "code",
      "execution_count": 62,
      "metadata": {},
      "outputs": [],
      "source": [
        "if nn == 1:\n",
        "    x = x"
      ],
      "id": "f5dca878-ed14-465c-b0ba-d64c3e24d653"
    },
    {
      "cell_type": "code",
      "execution_count": 63,
      "metadata": {},
      "outputs": [],
      "source": [
        "if not increasing:\n",
        "    x = -x"
      ],
      "id": "1ef1b57d-eb1d-402b-8d8e-c157e3c06dd3"
    },
    {
      "cell_type": "code",
      "execution_count": 64,
      "metadata": {},
      "outputs": [],
      "source": [
        "ip = np.arange(1, nn+1)\n",
        "dx = np.diff(x)\n",
        "nx = len(x)"
      ],
      "id": "3e95c72d-b81c-4aa5-9655-9b0c0d601e47"
    },
    {
      "cell_type": "code",
      "execution_count": 65,
      "metadata": {},
      "outputs": [],
      "source": [
        "jmax = np.arange(nx)[(np.concatenate((dx <= 0, [False])) & np.concatenate(([True], dx > 0)))]\n",
        "jmin = np.arange(nx)[(np.concatenate((dx > 0, [True])) & np.concatenate(([False], dx <= 0)))]"
      ],
      "id": "8028188c-e899-424f-9d39-1f39e20e90f2"
    },
    {
      "cell_type": "code",
      "execution_count": 66,
      "metadata": {},
      "outputs": [],
      "source": [
        "jb=0\n",
        "ind = np.arange(jmax[jb], jmin[jb]+1)\n",
        "wtn = np.sum(wt[ind])"
      ],
      "id": "4c6a33bb-2fca-45b0-b313-419f51b24bfb"
    },
    {
      "cell_type": "code",
      "execution_count": 67,
      "metadata": {},
      "outputs": [],
      "source": [
        "x[jmax[jb]] = np.sum(wt[ind] * x[ind]) / wtn"
      ],
      "id": "3add6e69-8e99-43ab-a623-173300cdc65d"
    },
    {
      "cell_type": "code",
      "execution_count": 68,
      "metadata": {},
      "outputs": [],
      "source": [
        "wt[jmax[jb]] = wtn"
      ],
      "id": "d6af3f80-2d9f-4a98-9df2-e8caf8225e5d"
    },
    {
      "cell_type": "code",
      "execution_count": 69,
      "metadata": {},
      "outputs": [],
      "source": [
        "x[jmax[jb]+1:jmin[jb]+1] = np.nan"
      ],
      "id": "c722b951-9843-43c4-89d0-ab69ff3ddefc"
    },
    {
      "cell_type": "code",
      "execution_count": 70,
      "metadata": {},
      "outputs": [],
      "source": [
        "# Clean up within iteration, eliminating the parts of sequences that\n",
        "# were set to NA\n",
        "ind = ~np.isnan(x)\n",
        "x = x[ind]\n",
        "wt = wt[ind]\n",
        "ip = ip[ind]\n",
        "dx = np.diff(x)\n",
        "nx = len(x)"
      ],
      "id": "81d97202-cc81-4f28-abc5-c31e050f0fdf"
    },
    {
      "cell_type": "code",
      "execution_count": 71,
      "metadata": {},
      "outputs": [],
      "source": [
        "# Final cleanup: reconstruct z at all points by repeating the pooled\n",
        "# values the appropriate number of times\n",
        "jj = np.zeros(nn, dtype=int)\n",
        "jj[ip - 1] = 1\n",
        "z = x[np.cumsum(jj) - 1]"
      ],
      "id": "dedc1ef1-5c13-4cb3-b9f7-3535cf7a80d6"
    },
    {
      "cell_type": "code",
      "execution_count": 72,
      "metadata": {},
      "outputs": [],
      "source": [
        "if not increasing:\n",
        "    z = -z"
      ],
      "id": "a8d9273c-e277-485a-af16-fa216fde39ff"
    },
    {
      "cell_type": "code",
      "execution_count": 73,
      "metadata": {},
      "outputs": [],
      "source": [
        "z"
      ],
      "id": "7a065097-c35a-4734-8eca-7d03d5f40cca"
    },
    {
      "cell_type": "markdown",
      "metadata": {},
      "source": [
        "R코드\n",
        "\n",
        "``` r\n",
        "isotone <- function(x, wt = rep(1, length(x)), increasing = FALSE) {\n",
        "#\n",
        "#   find the weighted least squares isotone fit to the \n",
        "#   sequence x, the weights given by the sequence wt\n",
        "#\n",
        "#   if increasing == TRUE the curve is set to be increasing, \n",
        "#   otherwise to be decreasing\n",
        "#\n",
        "#   the vector ip contains the indices on the original scale of the\n",
        "#   breaks in the regression at each stage\n",
        "#\n",
        "    nn <- length(x)\n",
        "    if(nn == 1)\n",
        "        return(x)\n",
        "    if(!increasing)\n",
        "        x <-  - x\n",
        "    ip <- (1:nn)\n",
        "    dx <- diff(x)\n",
        "    nx <- length(x)\n",
        "    while((nx > 1) && (min(dx) < 0)) {\n",
        "#\n",
        "#  do single pool-adjacent-violators step\n",
        "#\n",
        "#  find all local minima and maxima\n",
        "#\n",
        "        jmax <- (1:nx)[c(dx <= 0, FALSE) & c(TRUE, dx > 0)]\n",
        "        jmin <- (1:nx)[c(dx > 0, TRUE) & c(FALSE, dx <= 0)]\n",
        "#  do pav step for each pair of maxima and minima\n",
        "#\n",
        "#  add up weights within subsequence that is pooled\n",
        "#  set first element of subsequence to the weighted average\n",
        "#  the first weight to the sum of the weights within the subsequence\n",
        "#    and remainder of the subsequence to NA\n",
        "#\n",
        "        for(jb in (1:length(jmax))) {\n",
        "            ind <- (jmax[jb]:jmin[jb])\n",
        "            wtn <- sum(wt[ind])\n",
        "            x[jmax[jb]] <- sum(wt[ind] * x[ind])/wtn\n",
        "            wt[jmax[jb]] <- wtn\n",
        "            x[(jmax[jb] + 1):jmin[jb]] <- NA\n",
        "        }\n",
        "#\n",
        "#  clean up within iteration, eliminating the parts of sequences that\n",
        "#  were set to NA\n",
        "#\n",
        "        ind <- !is.na(x)\n",
        "        x <- x[ind]\n",
        "        wt <- wt[ind]\n",
        "        ip <- ip[ind]\n",
        "        dx <- diff(x)\n",
        "        nx <- length(x)\n",
        "    }\n",
        "# \n",
        "#  final cleanup: reconstruct z at all points by repeating the pooled\n",
        "#    values the appropriate number of times\n",
        "#\n",
        "    jj <- rep(0, nn)\n",
        "    jj[ip] <- 1\n",
        "    z <- x[cumsum(jj)]\n",
        "    if(!increasing)\n",
        "        z <-  - z\n",
        "    return(z)\n",
        "}\n",
        "```\n",
        "\n",
        "결과\n",
        "\n",
        "-   Python"
      ],
      "id": "ee46dac0-ae4a-4da3-9aee-28fefc172f37"
    },
    {
      "cell_type": "code",
      "execution_count": 74,
      "metadata": {},
      "outputs": [],
      "source": [
        "beta = ebayesthresh.beta_cauchy(np.array([-2,1,0,-4]))\n",
        "w = np.ones(len(beta))\n",
        "aa = w + 1/beta\n",
        "ps = w + aa\n",
        "ww = 1/aa**2\n",
        "wnew = ebayesthresh.isotone(ps, ww, increasing = False)\n",
        "wnew"
      ],
      "id": "50d3f97e-3039-4325-98ab-205c5eacc612"
    },
    {
      "cell_type": "markdown",
      "metadata": {},
      "source": [
        "R\n",
        "\n",
        "``` r\n",
        "> beta <- beta.cauchy(c(-2,1,0,-4))\n",
        "> w <- rep(1, length(x))\n",
        "> aa = w + 1/beta\n",
        "> ps = w + aa\n",
        "> ww = 1/aa**2\n",
        "> wnew = isotone(ps, ww, increasing = FALSE)\n",
        "> wnew\n",
        "[1] 3.674301 0.760411 0.760411 0.760411\n",
        "```\n",
        "\n",
        "# laplace_threshzero"
      ],
      "id": "634a137e-75bd-4a0f-a9d8-efa1f14b46b0"
    },
    {
      "cell_type": "code",
      "execution_count": 75,
      "metadata": {},
      "outputs": [],
      "source": [
        "x = np.array([-2,1,0,-4,8,50])\n",
        "s = 1\n",
        "w = 0.5\n",
        "a = 0.5"
      ],
      "id": "27046d75-8e3f-4b1a-bf44-ca433f7fba41"
    },
    {
      "cell_type": "code",
      "execution_count": 76,
      "metadata": {},
      "outputs": [],
      "source": [
        "a = min(a, 20)\n",
        "a"
      ],
      "id": "526d78ea-bb08-4464-a2e8-403f601f30ab"
    },
    {
      "cell_type": "code",
      "execution_count": 77,
      "metadata": {},
      "outputs": [],
      "source": [
        "if isinstance(x, list):\n",
        "    z = []\n",
        "    for elem in x:\n",
        "        xma = elem / s - s * a\n",
        "        z_add = norm.cdf(xma) - (1 / a) * (1 / s * norm.pdf(xma)) * (1 / w + ebayesthresh.beta_laplace(elem, s, a))\n",
        "        z.append(z_add)\n",
        "else:\n",
        "    xma = x / s - s * a\n",
        "    z = norm.cdf(xma) - (1 / a) * (1 / s * norm.pdf(xma)) * (1 / w + ebayesthresh.beta_laplace(x, s, a))"
      ],
      "id": "0bdd55ed-5e80-40e8-a6c1-9b4be250e839"
    },
    {
      "cell_type": "code",
      "execution_count": 78,
      "metadata": {},
      "outputs": [],
      "source": [
        "xma"
      ],
      "id": "48b24f90-7db8-4583-84c9-e4346bbbc04f"
    },
    {
      "cell_type": "code",
      "execution_count": 79,
      "metadata": {},
      "outputs": [],
      "source": [
        "z"
      ],
      "id": "03128e70-f81a-443a-9cb9-168485636467"
    },
    {
      "cell_type": "markdown",
      "metadata": {},
      "source": [
        "R코드\n",
        "\n",
        "``` r\n",
        "laplace.threshzero <- function(x, s = 1, w = 0.5, a = 0.5) {\n",
        "#\n",
        "# The function that has to be zeroed to find the threshold with the\n",
        "# Laplace prior.  Only allow a < 20 for input value.\n",
        "#    \n",
        "  a <- min(a, 20)\n",
        "  xma <- x/s - s*a\n",
        "  z <- pnorm(xma) - 1/a * (1/s*dnorm(xma)) * (1/w + beta.laplace(x, s, a))\n",
        "  return(z)\n",
        "}\n",
        "```\n",
        "\n",
        "결과\n",
        "\n",
        "-   Python"
      ],
      "id": "d58251d2-f041-48b0-9c27-498440f9a1f3"
    },
    {
      "cell_type": "code",
      "execution_count": 80,
      "metadata": {},
      "outputs": [],
      "source": [
        "ebayesthresh.laplace_threshzero(np.array([-2,1,0,-4,8,50]), s = 1, w = 0.5, a = 0.5)"
      ],
      "id": "8d2636a6-4869-4b72-960b-cb6ade162743"
    },
    {
      "cell_type": "code",
      "execution_count": 81,
      "metadata": {},
      "outputs": [],
      "source": [
        "ebayesthresh.laplace_threshzero(-5, s = 1, w = 0.5, a = 0.5)"
      ],
      "id": "fefaea0b-02df-4fe4-9d43-4ebb991938d0"
    },
    {
      "cell_type": "markdown",
      "metadata": {},
      "source": [
        "-   R\n",
        "\n",
        "``` r\n",
        "> laplace.threshzero(c(-2,1,0,-4,8,50), s = 1, w = 0.5, a = 0.5)\n",
        "[1] -0.095098724 -0.449199824 -0.704130654 -0.009185958  0.500000000  1.000000000\n",
        "> laplace.threshzero(-5, s = 1, w = 0.5, a = 0.5)\n",
        "[1] -0.003369168\n",
        "```\n",
        "\n",
        "# negloglik_laplace\n",
        "\n",
        "> Marginal negative log likelihood function for laplace prior.\n",
        "\n",
        "-   라플라스 프라이어에 대한 한계음의로그우도함수 계산"
      ],
      "id": "6cfee421-c6fc-4359-bc96-6ba0a17010cb"
    },
    {
      "cell_type": "code",
      "execution_count": 82,
      "metadata": {},
      "outputs": [],
      "source": [
        "xpar = np.array([0.5,0.6,0.3])\n",
        "xx = np.array([1,2,3,4,5])\n",
        "ss = np.array([1])\n",
        "tlo = np.sqrt(2 * np.log(len(np.array([1,2,3,4,5])))) * 1\n",
        "thi = np.array([0,0,0])"
      ],
      "id": "3388f296-4220-41f8-ac14-38c7e1639ed9"
    },
    {
      "cell_type": "code",
      "execution_count": 83,
      "metadata": {},
      "outputs": [],
      "source": [
        "a = xpar[1]\n",
        "a"
      ],
      "id": "31bada3e-722f-41ec-b155-bfa4cb879474"
    },
    {
      "cell_type": "code",
      "execution_count": 84,
      "metadata": {},
      "outputs": [],
      "source": [
        "wlo = ebayesthresh.wfromt(thi, ss, a=a)\n",
        "wlo"
      ],
      "id": "d8d04b71-f069-4bc9-8d21-5179c4c1bc61"
    },
    {
      "cell_type": "code",
      "execution_count": 85,
      "metadata": {},
      "outputs": [],
      "source": [
        "whi = ebayesthresh.wfromt(tlo, ss, a=a)\n",
        "whi"
      ],
      "id": "454272d4-f558-4032-9791-a2396790ea45"
    },
    {
      "cell_type": "code",
      "execution_count": 86,
      "metadata": {},
      "outputs": [],
      "source": [
        "wlo = np.max(wlo)\n",
        "wlo"
      ],
      "id": "21855ded-2844-4316-811c-0853bbb2e1d1"
    },
    {
      "cell_type": "code",
      "execution_count": 87,
      "metadata": {},
      "outputs": [],
      "source": [
        "whi = np.min(whi)\n",
        "whi"
      ],
      "id": "afd2b72a-45c8-48c7-8718-e616ec3baafd"
    },
    {
      "cell_type": "code",
      "execution_count": 88,
      "metadata": {},
      "outputs": [],
      "source": [
        "loglik = np.sum(np.log(1 + (xpar[0] * (whi - wlo) + wlo) *\n",
        "                           ebayesthresh.beta_laplace(xx, ss, a)))\n",
        "-loglik"
      ],
      "id": "b6254c74-3006-4f30-940f-418530e28e18"
    },
    {
      "cell_type": "markdown",
      "metadata": {},
      "source": [
        "R코드\n",
        "\n",
        "``` r\n",
        "negloglik.laplace <- function(xpar, xx, ss, tlo, thi) {\n",
        "#\n",
        "#  Marginal negative log likelihood function for laplace prior. \n",
        "#   Constraints for thresholds need to be passed externally.\n",
        "#  \n",
        "#  xx   :data\n",
        "#  xpar :vector of two parameters:\n",
        "#      xpar[1] : a value between [0, 1] which will be adjusted to range of w \n",
        "#      xpar[2] : inverse scale (rate) parameter (\"a\")\n",
        "#  ss   :vector of standard deviations\n",
        "#  tlo  :lower bound of thresholds\n",
        "#  thi  :upper bound of thresholds\n",
        "#\n",
        "    a <- xpar[2]\n",
        "        \n",
        "        # Calculate the range of w given a, using negative monotonicity\n",
        "        # between w and t\n",
        "    wlo <- wfromt(thi, ss, a = a)\n",
        "    whi <- wfromt(tlo, ss, a = a)\n",
        "    wlo <- max(wlo)\n",
        "    whi <- min(whi)\n",
        "    loglik <- sum(log(1 + (xpar[1] * (whi - wlo) + wlo) *\n",
        "                          beta.laplace(xx, ss, a)))\n",
        "    return(-loglik)\n",
        "}\n",
        "```\n",
        "\n",
        "결과\n",
        "\n",
        "-   Python"
      ],
      "id": "94ab213c-7fb0-41de-a36a-d99255d9340f"
    },
    {
      "cell_type": "code",
      "execution_count": 89,
      "metadata": {},
      "outputs": [],
      "source": [
        "xpar = np.array([0.5,0.6,0.3])\n",
        "xx = np.array([1,2,3,4,5])\n",
        "ss = np.array([1])\n",
        "tlo = np.sqrt(2 * np.log(len(np.array([1,2,3,4,5])))) * 1\n",
        "thi = np.array([0,0,0])"
      ],
      "id": "fa6f36cd-c343-4a35-8e77-bdb85fd10f44"
    },
    {
      "cell_type": "code",
      "execution_count": 90,
      "metadata": {},
      "outputs": [],
      "source": [
        "ebayesthresh.negloglik_laplace(xpar, xx, ss, tlo, thi)"
      ],
      "id": "9afd8514-1c47-4e5d-b70f-a94490fd04a2"
    },
    {
      "cell_type": "markdown",
      "metadata": {},
      "source": [
        "-   R\n",
        "\n",
        "``` r\n",
        "> xpar <- c(0.5, 0.6, 0.3)\n",
        "> xx <- c(1, 2, 3, 4, 5)\n",
        "> ss <- c(1)\n",
        "> tlo <- sqrt(2 * log(length(c(1, 2, 3, 4, 5)))) * 1\n",
        "> thi <- c(0, 0, 0)\n",
        "> negloglik.laplace(xpar, xx, ss, tlo, thi)\n",
        "[1] -16.79727\n",
        "```\n",
        "\n",
        "# postmean\n",
        "\n",
        "> Given a single value or a vector of data and sampling standard\n",
        "> deviations (sd equals 1 for Cauchy prior), find the corresponding\n",
        "> posterior mean estimate(s) of the underlying signal value(s).\n",
        "\n",
        "-   적절한 사후 평균 찾기"
      ],
      "id": "5adfd116-97b8-4978-ae2a-e53610167d51"
    },
    {
      "cell_type": "code",
      "execution_count": 91,
      "metadata": {},
      "outputs": [],
      "source": [
        "x = np.array([-2,1,0,-4,8,50])\n",
        "s = 1\n",
        "w = 0.5\n",
        "prior = \"cauchy\"\n",
        "# prior = \"laplace\"\n",
        "a = 0.5"
      ],
      "id": "4db78d4f-ee39-42a2-85aa-8b3fd298169d"
    },
    {
      "cell_type": "code",
      "execution_count": 92,
      "metadata": {},
      "outputs": [],
      "source": [
        "pr = prior[0:1]\n",
        "pr"
      ],
      "id": "47751138-2876-4ba8-baaa-825aa496a264"
    },
    {
      "cell_type": "code",
      "execution_count": 93,
      "metadata": {},
      "outputs": [],
      "source": [
        "if pr == \"l\":\n",
        "    mutilde = ebayesthresh.postmean_laplace(x, s, w, a=a)\n",
        "elif pr == \"c\":\n",
        "    if np.any(s != 1):\n",
        "        raise ValueError(\"Only standard deviation of 1 is allowed for Cauchy prior.\")\n",
        "    mutilde = ebayesthresh.postmean_cauchy(x, w)\n",
        "else:\n",
        "    raise ValueError(\"Unknown prior type.\")"
      ],
      "id": "fd9e3780-6672-4054-bab8-d389dd1515ad"
    },
    {
      "cell_type": "code",
      "execution_count": 94,
      "metadata": {},
      "outputs": [],
      "source": [
        "mutilde"
      ],
      "id": "b0c298aa-dc02-4eb3-9e6e-dbf56036ffb2"
    },
    {
      "cell_type": "markdown",
      "metadata": {},
      "source": [
        "R코드\n",
        "\n",
        "``` r\n",
        "postmean <- function(x, s = 1, w = 0.5, prior = \"laplace\", a = 0.5) {\n",
        "#\n",
        "#  Find the posterior mean for the appropriate prior for \n",
        "#   given x, s (sd), w and a.\n",
        "#\n",
        "    pr <- substring(prior, 1, 1)\n",
        "    if(pr == \"l\")\n",
        "        mutilde <- postmean.laplace(x, s, w, a = a)\n",
        "    if(pr == \"c\"){\n",
        "            if(any(s != 1))\n",
        "                stop(paste(\"Only standard deviation of 1 is allowed\",\n",
        "                           \"for Cauchy prior.\"))\n",
        "        mutilde <- postmean.cauchy(x, w)\n",
        "    }\n",
        "    return(mutilde)\n",
        "}\n",
        "```\n",
        "\n",
        "결과\n",
        "\n",
        "-   Python"
      ],
      "id": "e5082b98-0ad7-49c1-8579-5ef439dcaf87"
    },
    {
      "cell_type": "code",
      "execution_count": 95,
      "metadata": {},
      "outputs": [],
      "source": [
        "ebayesthresh.postmean(np.array([-2,1,0,-4,8,50]), s=1, w = 0.5, prior = \"laplace\", a = 0.5)"
      ],
      "id": "4f6ec048-878a-4dde-bbd2-bcaefbd09b1c"
    },
    {
      "cell_type": "markdown",
      "metadata": {},
      "source": [
        "-   R\n",
        "\n",
        "``` r\n",
        "> postmean(c(-2,1,0,-4,8,50), s=1, w = 0.5, prior = \"laplace\", a = 0.5)\n",
        "[1] -1.0115896  0.2709533  0.0000000 -3.4880092  7.5000000 49.5000000\n",
        "```\n",
        "\n",
        "# postmean_cauchy\n",
        "\n",
        "> Find the posterior mean for the quasi-Cauchy prior with mixing weight\n",
        "> w given data x, which may be a scalar or a vector.\n",
        "\n",
        "-   quasi-Cauch에 대한 사후 평균 구하기"
      ],
      "id": "fe074e6d-cff9-415b-a9ef-eadc66434300"
    },
    {
      "cell_type": "code",
      "execution_count": 96,
      "metadata": {},
      "outputs": [],
      "source": [
        "x = np.array([-2,1,0,-4,8,50], dtype=float)\n",
        "w = 0.5"
      ],
      "id": "b74b235e-0245-475b-bc8b-52e5c04e9d8f"
    },
    {
      "cell_type": "code",
      "execution_count": 97,
      "metadata": {},
      "outputs": [],
      "source": [
        "muhat = x"
      ],
      "id": "7f4b628e-bd89-4eca-8f1d-0f54163eaa16"
    },
    {
      "cell_type": "code",
      "execution_count": 98,
      "metadata": {},
      "outputs": [],
      "source": [
        "ind = (x == 0)\n",
        "ind"
      ],
      "id": "55c88c28-9fae-4b7d-999b-99ed3c854bb7"
    },
    {
      "cell_type": "code",
      "execution_count": 99,
      "metadata": {},
      "outputs": [],
      "source": [
        "x = x[~ind]\n",
        "x"
      ],
      "id": "3b6529fb-1ab0-4c47-9a47-f95b5c7825be"
    },
    {
      "cell_type": "code",
      "execution_count": 100,
      "metadata": {},
      "outputs": [],
      "source": [
        "ex = np.exp(-x**2/2)\n",
        "ex"
      ],
      "id": "022add34-b091-4c72-9371-b73a95ff6fe2"
    },
    {
      "cell_type": "code",
      "execution_count": 101,
      "metadata": {},
      "outputs": [],
      "source": [
        "z = w * (x - (2 * (1 - ex))/x)\n",
        "z"
      ],
      "id": "acc83e6a-702b-48a5-a6f0-ea73a9a9856f"
    },
    {
      "cell_type": "code",
      "execution_count": 102,
      "metadata": {},
      "outputs": [],
      "source": [
        "z = z / (w * (1 - ex) + (1 - w) * ex * x**2)\n",
        "z"
      ],
      "id": "32d1bcc2-8e38-42ce-ac0f-a3577ab4929e"
    },
    {
      "cell_type": "code",
      "execution_count": 103,
      "metadata": {},
      "outputs": [],
      "source": [
        "muhat[~ind] = z\n",
        "muhat"
      ],
      "id": "d6ca4d4a-2ca3-4a33-a370-9eb33d8c146d"
    },
    {
      "cell_type": "markdown",
      "metadata": {},
      "source": [
        "R코드\n",
        "\n",
        "``` r\n",
        "postmean.cauchy <- function(x, w) {\n",
        "#\n",
        "#  Find the posterior mean for the quasi-Cauchy prior with mixing\n",
        "#   weight w given data x, which may be a scalar or a vector.\n",
        "#\n",
        "    muhat <- x\n",
        "    ind <- (x == 0)\n",
        "    x <- x[!ind]\n",
        "    ex <- exp( - x^2/2)\n",
        "    z <- w * (x - (2 * (1 - ex))/x)\n",
        "    z <- z/(w * (1 - ex) + (1 - w) * ex * x^2)\n",
        "    muhat[!ind] <- z\n",
        "    return(muhat)\n",
        "}\n",
        "```\n",
        "\n",
        "결과\n",
        "\n",
        "-   Python"
      ],
      "id": "f5f9bc0f-69a6-4533-9bbc-baefab904e30"
    },
    {
      "cell_type": "code",
      "execution_count": 104,
      "metadata": {},
      "outputs": [],
      "source": [
        "ebayesthresh.postmean_cauchy(np.array([-2,1,0,-4,8,50], dtype=float),0.5)"
      ],
      "id": "e30de365-f9cf-45bc-87a6-b7b9d89ab545"
    },
    {
      "cell_type": "markdown",
      "metadata": {},
      "source": [
        "-   R\n",
        "\n",
        "``` r\n",
        "> postmean.cauchy(c(-2,1,0,-4,8,50),0.5)\n",
        "[1] -0.8074897  0.2130613  0.0000000 -3.4826433  7.7500000 49.9600000\n",
        "```\n",
        "\n",
        "# postmean.laplace\n",
        "\n",
        "> Find the posterior mean for the double exponential prior for given\n",
        "> $x, s (sd), w$, and $a$.\n",
        "\n",
        "-   이전 지수 분포에 대한 사후 평균"
      ],
      "id": "cc4b5e95-46e8-4e21-8997-3f502e570824"
    },
    {
      "cell_type": "code",
      "execution_count": 82,
      "metadata": {},
      "outputs": [],
      "source": [
        "x = np.array([-2,1,0,-4,8,50])\n",
        "s = 1\n",
        "w = 0.5\n",
        "a = 0.5"
      ],
      "id": "a8126ddd-5f06-4aea-814c-766bb7dd4b21"
    },
    {
      "cell_type": "code",
      "execution_count": 83,
      "metadata": {},
      "outputs": [],
      "source": [
        "a = min(a, 20)\n",
        "a"
      ],
      "id": "844ae66c-cd57-4959-840b-6b8c1413db19"
    },
    {
      "cell_type": "code",
      "execution_count": 84,
      "metadata": {},
      "outputs": [],
      "source": [
        "w_post = ebayesthresh.wpost_laplace(w, x, s, a)\n",
        "w_post"
      ],
      "id": "b7d0aec8-e1ee-4bde-ab50-8bfa9a89be1e"
    },
    {
      "cell_type": "code",
      "execution_count": 85,
      "metadata": {},
      "outputs": [],
      "source": [
        "sx = np.sign(x)\n",
        "sx"
      ],
      "id": "c9b2bd8a-6cb9-457a-b7c5-279884b6a60b"
    },
    {
      "cell_type": "code",
      "execution_count": 86,
      "metadata": {},
      "outputs": [],
      "source": [
        "x = np.abs(x)\n",
        "x"
      ],
      "id": "f66c7594-6b43-4acc-909c-ba626dab8b85"
    },
    {
      "cell_type": "code",
      "execution_count": 87,
      "metadata": {},
      "outputs": [],
      "source": [
        "xpa = x/s + s*a\n",
        "xpa"
      ],
      "id": "8d74e731-acf1-443f-96bd-fa434858d04f"
    },
    {
      "cell_type": "code",
      "execution_count": 88,
      "metadata": {},
      "outputs": [],
      "source": [
        "xma = x/s - s*a\n",
        "xma"
      ],
      "id": "321c53e3-dc4f-4914-a03c-24e685580e82"
    },
    {
      "cell_type": "code",
      "execution_count": 89,
      "metadata": {},
      "outputs": [],
      "source": [
        "xpa[xpa > 35] = 35\n",
        "xpa"
      ],
      "id": "4db15f50-64ed-48da-a7c8-16bd5990f031"
    },
    {
      "cell_type": "code",
      "execution_count": 90,
      "metadata": {},
      "outputs": [],
      "source": [
        "xma[xma < -35] = -35\n",
        "xma"
      ],
      "id": "fa6eb73f-0810-4fe6-87bd-33eb81f022c3"
    },
    {
      "cell_type": "code",
      "execution_count": 91,
      "metadata": {},
      "outputs": [],
      "source": [
        "cp1 = norm.cdf(xma)\n",
        "cp1"
      ],
      "id": "52495477-5870-45fb-89ab-b2ca237895c4"
    },
    {
      "cell_type": "code",
      "execution_count": 92,
      "metadata": {},
      "outputs": [],
      "source": [
        "cp2 = norm.cdf(-xpa)\n",
        "cp2"
      ],
      "id": "f467e1c5-b69c-4342-808e-d2ecfb0ea8e1"
    },
    {
      "cell_type": "code",
      "execution_count": 93,
      "metadata": {},
      "outputs": [],
      "source": [
        "ef = np.exp(np.minimum(2 * a * x, 100))\n",
        "ef"
      ],
      "id": "62f26cd5-257e-4c54-b606-2f49e651652d"
    },
    {
      "cell_type": "code",
      "execution_count": 94,
      "metadata": {},
      "outputs": [],
      "source": [
        "postmean_cond = x - a * s**2 * (2 * cp1 / (cp1 + ef * cp2) - 1)\n",
        "postmean_cond"
      ],
      "id": "92d449c1-5770-4adf-aeb4-295507cf7484"
    },
    {
      "cell_type": "code",
      "execution_count": 95,
      "metadata": {},
      "outputs": [],
      "source": [
        "sx * w_post * postmean_cond"
      ],
      "id": "c993cbe4-fbd2-4e62-83d2-e548282a7c30"
    },
    {
      "cell_type": "markdown",
      "metadata": {},
      "source": [
        "R코드\n",
        "\n",
        "``` r\n",
        "postmean.laplace <- function(x, s = 1, w = 0.5, a = 0.5) {\n",
        "#\n",
        "#  Find the posterior mean for the double exponential prior for \n",
        "#   given x, s (sd), w and a.\n",
        "#\n",
        "    \n",
        "  # Only allow a < 20 for input value.\n",
        "  a <- min(a, 20)\n",
        "  \n",
        "  # First find the probability of being non-zero\n",
        "    wpost <- wpost.laplace(w, x, s, a)\n",
        "  \n",
        "  # Now find the posterior mean conditional on being non-zero\n",
        "    sx <- sign(x)\n",
        "    x <- abs(x)\n",
        "    xpa <- x/s + s*a\n",
        "    xma <- x/s - s*a\n",
        "    xpa[xpa > 35] <- 35\n",
        "    xma[xma < -35] <- -35\n",
        "    \n",
        "    cp1 <- pnorm(xma)\n",
        "    cp2 <- pnorm( - xpa)\n",
        "    ef <- exp(pmin(2 * a * x, 100))\n",
        "    postmeancond <- x - a * s^2 * ( 2 * cp1/(cp1 + ef * cp2) - 1)\n",
        "  \n",
        "  # Calculate posterior mean and return\n",
        "    return(sx * wpost * postmeancond)\n",
        "}\n",
        "```\n",
        "\n",
        "결과\n",
        "\n",
        "-   Python"
      ],
      "id": "ee719eb6-374d-4137-8f3d-4b024e65a1e9"
    },
    {
      "cell_type": "code",
      "execution_count": 25,
      "metadata": {},
      "outputs": [],
      "source": [
        "ebayesthresh.postmean_laplace(np.array([-2,1,0,-4,8,50]))"
      ],
      "id": "82b4fc5b-6d08-44d8-bc18-ba08d4f510c4"
    },
    {
      "cell_type": "markdown",
      "metadata": {},
      "source": [
        "-   R\n",
        "\n",
        "``` r\n",
        "> postmean.laplace(c(-2,1,0,-4,8,50))\n",
        "[1] -1.0115896  0.2709533  0.0000000 -3.4880092  7.5000000 49.5000000\n",
        "```\n",
        "\n",
        "# postmed\n",
        "\n",
        "Description\n",
        "\n",
        "> Given a single value or a vector of data and sampling standard\n",
        "> deviations (sd is 1 for Cauchy prior), find the corresponding\n",
        "> posterior median estimate(s) of the underlying signal value(s).\n",
        "\n",
        "사후 확률 중앙값 추정치 구하기"
      ],
      "id": "4e2d0686-ba7e-44bc-8474-7028aa68419b"
    },
    {
      "cell_type": "code",
      "execution_count": 105,
      "metadata": {},
      "outputs": [],
      "source": [
        "x = np.array([1.5, 2.5, 3.5])\n",
        "s = 1\n",
        "w = 0.5\n",
        "prior = \"laplace\"\n",
        "a = 0.5"
      ],
      "id": "1fbbb2e1-969d-40a5-bf88-6f6998ccd12f"
    },
    {
      "cell_type": "code",
      "execution_count": 106,
      "metadata": {},
      "outputs": [],
      "source": [
        "pr = prior[0:1]\n",
        "pr"
      ],
      "id": "7115ed8e-67d6-4935-88ef-288149d0701c"
    },
    {
      "cell_type": "code",
      "execution_count": 107,
      "metadata": {},
      "outputs": [],
      "source": [
        "if pr == \"l\":\n",
        "    muhat = ebayesthresh.postmed_laplace(x, s, w, a)\n",
        "elif pr == \"c\":\n",
        "    if np.any(s != 1):\n",
        "        raise ValueError(\"Only standard deviation of 1 is allowed for Cauchy prior.\")\n",
        "    muhat = ebayesthresh.postmed_cauchy(x, w)\n",
        "else:\n",
        "    raise ValueError(f\"Unknown prior: {prior}\")"
      ],
      "id": "20cfcfd2-c4d4-4c98-9c4b-d1ec25a94f7a"
    },
    {
      "cell_type": "code",
      "execution_count": 108,
      "metadata": {},
      "outputs": [],
      "source": [
        "muhat"
      ],
      "id": "419c63f7-b1a4-4091-a991-5522da2b08d6"
    },
    {
      "cell_type": "markdown",
      "metadata": {},
      "source": [
        "R코드\n",
        "\n",
        "``` r\n",
        "postmed <- function (x, s = 1, w = 0.5, prior = \"laplace\", a = 0.5) {\n",
        "#\n",
        "#  Find the posterior median for the appropriate prior for \n",
        "#   given x, s (sd), w and a. \n",
        "#\n",
        "    pr <- substring(prior, 1, 1)\n",
        "    if(pr == \"l\")\n",
        "        muhat <- postmed.laplace(x, s, w, a)\n",
        "    if(pr == \"c\") {\n",
        "            if(any(s != 1))\n",
        "                stop(paste(\"Only standard deviation of 1 is allowed\",\n",
        "                           \"for Cauchy prior.\"))\n",
        "        muhat <- postmed.cauchy(x, w)\n",
        "    }\n",
        "    return(muhat)\n",
        "}\n",
        "```\n",
        "\n",
        "결과\n",
        "\n",
        "-   Python"
      ],
      "id": "3e0175ed-2006-4f97-84d7-4b1f4acfc67c"
    },
    {
      "cell_type": "code",
      "execution_count": 109,
      "metadata": {},
      "outputs": [],
      "source": [
        "ebayesthresh.postmed(x = np.array([1.5, 2.5, 3.5]))"
      ],
      "id": "fc3e6794-fdce-4ecd-a076-d656508773b8"
    },
    {
      "cell_type": "markdown",
      "metadata": {},
      "source": [
        "-   R\n",
        "\n",
        "``` r\n",
        " postmed(x=c(1.5, 2.5, 3.5))\n",
        "[1] 0.000000 1.734132 2.978158\n",
        "```\n",
        "\n",
        "# postmed_cauchy"
      ],
      "id": "1d7a957a-7dd4-47c6-99f0-78673f6f87f5"
    },
    {
      "cell_type": "code",
      "execution_count": 3,
      "metadata": {},
      "outputs": [],
      "source": [
        "x = np.array([10, 15, 20, 25])\n",
        "w = 0.5"
      ],
      "id": "6b3d3220-3956-4e81-885f-9d9787608323"
    },
    {
      "cell_type": "code",
      "execution_count": 4,
      "metadata": {},
      "outputs": [],
      "source": [
        "nx = len(x)\n",
        "nx"
      ],
      "id": "1ba01671-d551-4f44-86a5-588fa0df51c8"
    },
    {
      "cell_type": "code",
      "execution_count": 5,
      "metadata": {},
      "outputs": [],
      "source": [
        "zest = np.full(nx, np.nan)\n",
        "zest"
      ],
      "id": "1b6fe68c-c2d7-4737-9f4e-7e1a703c56b7"
    },
    {
      "cell_type": "code",
      "execution_count": 6,
      "metadata": {},
      "outputs": [],
      "source": [
        "w = np.full(nx, w)\n",
        "w"
      ],
      "id": "a9eb118a-86b1-4422-b6ff-15551cb502c8"
    },
    {
      "cell_type": "code",
      "execution_count": 7,
      "metadata": {},
      "outputs": [],
      "source": [
        "ax = np.abs(x)\n",
        "ax"
      ],
      "id": "5865aedc-29d2-46f0-aa50-f335c059cca4"
    },
    {
      "cell_type": "code",
      "execution_count": 8,
      "metadata": {},
      "outputs": [],
      "source": [
        "j = (ax < 20)\n",
        "j"
      ],
      "id": "eefa743b-8d90-49e1-ad39-277fabd5ea82"
    },
    {
      "cell_type": "code",
      "execution_count": 9,
      "metadata": {},
      "outputs": [],
      "source": [
        "zest[~j] = ax[~j] - 2 / ax[~j]\n",
        "zest"
      ],
      "id": "8ab6b946-a281-46b8-a4bc-0a9af1aae8ec"
    },
    {
      "cell_type": "code",
      "execution_count": 10,
      "metadata": {},
      "outputs": [],
      "source": [
        "if isinstance(np.max(ax[j]), (int, float, np.int64)):\n",
        "    a = np.array([np.max(ax[j])] * 4)"
      ],
      "id": "887bb48a-f7a8-4b2a-b916-8eddf7629937"
    },
    {
      "cell_type": "code",
      "execution_count": 11,
      "metadata": {},
      "outputs": [],
      "source": [
        "a"
      ],
      "id": "8f8f975b-fb3f-4582-abe4-5dde3ac0298f"
    },
    {
      "cell_type": "code",
      "execution_count": 12,
      "metadata": {},
      "outputs": [],
      "source": [
        "if np.sum(j) > 0:\n",
        "    zest[j] = ebayesthresh.vecbinsolv(zf=np.zeros(np.sum(j)), fun=ebayesthresh.cauchy_medzero, tlo=0, thi=np.max(ax[j]), z=ax[j], w=w[j])"
      ],
      "id": "db99851b-8707-4457-8b49-3cfe103d5740"
    },
    {
      "cell_type": "code",
      "execution_count": 13,
      "metadata": {},
      "outputs": [],
      "source": [
        "zest[zest < 1e-7] = 0\n",
        "zest"
      ],
      "id": "636973b1-2556-4d08-aa24-05df45ea3152"
    },
    {
      "cell_type": "code",
      "execution_count": 14,
      "metadata": {},
      "outputs": [],
      "source": [
        "zest = np.sign(x) * zest\n",
        "zest"
      ],
      "id": "55ebc905-121b-4708-a6cd-dff8706fbef6"
    },
    {
      "cell_type": "markdown",
      "metadata": {},
      "source": [
        "R코드\n",
        "\n",
        "``` r\n",
        "postmed.cauchy <- function(x, w) {\n",
        "#\n",
        "# find the posterior median of the Cauchy prior with mixing weight w,\n",
        "# pointwise for each of the data points x\n",
        "#\n",
        "    nx <- length(x)\n",
        "    zest <- rep(NA, length(x))\n",
        "    w <- rep(w, length.out = nx)\n",
        "    ax <- abs(x)\n",
        "    j <- (ax < 20)\n",
        "    zest[!j] <- ax[!j] - 2/ax[!j]\n",
        "    if(sum(j) > 0) {\n",
        "      zest[j] <- vecbinsolv(zf = rep(0, sum(j)), fun = cauchy.medzero,\n",
        "                                tlo = 0, thi = max(ax[j]), z = ax[j],\n",
        "                                w = w[j])\n",
        "    }\n",
        "    zest[zest < 1e-007] <- 0\n",
        "    zest <- sign(x) * zest\n",
        "    return(zest)\n",
        "```\n",
        "\n",
        "결과\n",
        "\n",
        "-   Python"
      ],
      "id": "82c99ff4-2732-46dc-b9fa-a9a1476f372c"
    },
    {
      "cell_type": "code",
      "execution_count": 28,
      "metadata": {},
      "outputs": [],
      "source": [
        "ebayesthresh.postmed_cauchy(x=np.array([10, 15, 20, 25]), w=0.5)"
      ],
      "id": "09ce651c-8952-423e-80cc-18723c533745"
    },
    {
      "cell_type": "markdown",
      "metadata": {},
      "source": [
        "-   R\n",
        "\n",
        "``` r\n",
        "> postmed.cauchy(x=c(10, 15, 20, 25),w=0.5)\n",
        "[1]  9.800643 14.866861 19.900000 24.920000\n",
        "```\n",
        "\n",
        "# postmed_laplace"
      ],
      "id": "94be5585-0040-4eaa-847b-346f337d8e55"
    },
    {
      "cell_type": "code",
      "execution_count": 110,
      "metadata": {},
      "outputs": [],
      "source": [
        "x = np.array([1.5, 2.5, 3.5])\n",
        "s = 1\n",
        "w = 0.5\n",
        "a = 0.5"
      ],
      "id": "f485fb8a-31fb-4bb4-882c-2becec986d39"
    },
    {
      "cell_type": "code",
      "execution_count": 111,
      "metadata": {},
      "outputs": [],
      "source": [
        "a = min(a, 20)\n",
        "a"
      ],
      "id": "752bbe0f-99e2-484c-a983-09da2213bcc9"
    },
    {
      "cell_type": "code",
      "execution_count": 112,
      "metadata": {},
      "outputs": [],
      "source": [
        "sx = np.sign(x)\n",
        "sx"
      ],
      "id": "9079596f-82df-4cd6-b9a7-c314fdfd3d08"
    },
    {
      "cell_type": "code",
      "execution_count": 113,
      "metadata": {},
      "outputs": [],
      "source": [
        "x = np.abs(x)\n",
        "x"
      ],
      "id": "d8b8c65d-39d5-48d4-9486-401188dce551"
    },
    {
      "cell_type": "code",
      "execution_count": 114,
      "metadata": {},
      "outputs": [],
      "source": [
        "xma = x / s - s * a\n",
        "xma"
      ],
      "id": "2b460c56-9d4b-411f-8167-f13075b6153e"
    },
    {
      "cell_type": "code",
      "execution_count": 115,
      "metadata": {},
      "outputs": [],
      "source": [
        "zz = 1 / a * (1 / s * norm.pdf(xma)) * (1 / w + ebayesthresh.beta_laplace(x, s, a))\n",
        "zz"
      ],
      "id": "d76cdd6f-6d87-4ea6-9394-2ab1c8626e2b"
    },
    {
      "cell_type": "code",
      "execution_count": 116,
      "metadata": {},
      "outputs": [],
      "source": [
        "zz[xma > 25] = 0.5\n",
        "zz"
      ],
      "id": "26b4f2f6-0311-4a7b-b03e-56c650996404"
    },
    {
      "cell_type": "code",
      "execution_count": 117,
      "metadata": {},
      "outputs": [],
      "source": [
        "mucor = norm.ppf(np.minimum(zz, 1))\n",
        "mucor"
      ],
      "id": "c1edf1f3-c47e-44fb-818f-3033232ca524"
    },
    {
      "cell_type": "code",
      "execution_count": 118,
      "metadata": {},
      "outputs": [],
      "source": [
        "muhat = sx * np.maximum(0, xma - mucor) * s\n",
        "muhat"
      ],
      "id": "9a3bf836-03b1-440b-b5d8-7fcaade58174"
    },
    {
      "cell_type": "markdown",
      "metadata": {},
      "source": [
        "R코드\n",
        "\n",
        "``` r\n",
        "postmed.laplace <- function(x, s = 1, w = 0.5, a = 0.5) {\n",
        "#\n",
        "#  Find the posterior median for the Laplace prior for \n",
        "#   given x (observations), s (sd), w and a.\n",
        "#\n",
        "    \n",
        "  # Only allow a < 20 for input value\n",
        "  a <- min(a, 20)\n",
        "  \n",
        "  # Work with the absolute value of x, and for x > 25 use the approximation\n",
        "  #  to dnorm(x-a)*beta.laplace(x, a)\n",
        "    sx <- sign(x)\n",
        "    x <- abs(x)\n",
        "    xma <- x/s - s*a\n",
        "    zz <- 1/a * (1/s*dnorm(xma)) * (1/w + beta.laplace(x, s, a))\n",
        "    zz[xma > 25] <- 1/2\n",
        "    mucor <- qnorm(pmin(zz, 1))\n",
        "    muhat <- sx * pmax(0, xma - mucor) * s\n",
        "    return(muhat)\n",
        "}\n",
        "```\n",
        "\n",
        "결과\n",
        "\n",
        "-   Python"
      ],
      "id": "c1ceeb13-0c18-4ab4-97ac-a2f08f1de807"
    },
    {
      "cell_type": "code",
      "execution_count": 119,
      "metadata": {},
      "outputs": [],
      "source": [
        "ebayesthresh.postmed_laplace(x = np.array([1.5, 2.5, 3.5]))"
      ],
      "id": "cc0cb736-3192-4693-a946-6004a28f7b9f"
    },
    {
      "cell_type": "markdown",
      "metadata": {},
      "source": [
        "-   R\n",
        "\n",
        "``` r\n",
        "> postmed.laplace(x=c(1.5, 2.5, 3.5), s = 1, w = 0.5, a = 0.5)\n",
        "[1] 0.000000 1.734132 2.978158\n",
        "```\n",
        "\n",
        "# threshld\n",
        "\n",
        "> 임계값 t를 이용해서 데이터 조정"
      ],
      "id": "9d81eed2-0146-45ba-8019-481d907e63bd"
    },
    {
      "cell_type": "code",
      "execution_count": 120,
      "metadata": {},
      "outputs": [],
      "source": [
        "x = np.array(range(-5,5))\n",
        "t=1.4\n",
        "hard=False"
      ],
      "id": "216a09d4-da51-471d-be9b-f073944c71d2"
    },
    {
      "cell_type": "code",
      "execution_count": 121,
      "metadata": {},
      "outputs": [],
      "source": [
        "if hard:\n",
        "    z = x * (np.abs(x) >= t)\n",
        "else:\n",
        "    z = np.sign(x) * np.maximum(0, np.abs(x) - t)"
      ],
      "id": "1898d591-06c0-4723-afda-a01f081ee379"
    },
    {
      "cell_type": "code",
      "execution_count": 122,
      "metadata": {},
      "outputs": [],
      "source": [
        "z"
      ],
      "id": "043604e6-2845-48fa-9630-c101da258b50"
    },
    {
      "cell_type": "markdown",
      "metadata": {},
      "source": [
        "R코드\n",
        "\n",
        "``` r\n",
        "threshld <- function(x, t, hard = TRUE) {\n",
        "#\n",
        "#  threshold the data x using threshold t\n",
        "#  if hard=TRUE use hard thresholding\n",
        "#  if hard=FALSE use soft thresholding\n",
        "    if(hard) z <- x * (abs(x) >= t) else {\n",
        "        z <- sign(x) * pmax(0, abs(x) - t)\n",
        "    }\n",
        "    return(z)\n",
        "}\n",
        "```\n",
        "\n",
        "결과\n",
        "\n",
        "-   Python"
      ],
      "id": "295cc7ba-f7b2-4fd5-9ab1-ee819f6522c2"
    },
    {
      "cell_type": "code",
      "execution_count": 123,
      "metadata": {},
      "outputs": [],
      "source": [
        "ebayesthresh.threshld(np.array(range(-5,5)), t=1.4, hard=False)"
      ],
      "id": "0207eaa7-ba48-48ac-abef-b0bf0ddccd0c"
    },
    {
      "cell_type": "markdown",
      "metadata": {},
      "source": [
        "-   R\n",
        "\n",
        "``` r\n",
        "> threshld(as.array(seq(-5, 5)), t=1.4, hard=FALSE)\n",
        " [1] -3.6 -2.6 -1.6 -0.6  0.0  0.0  0.0  0.6  1.6  2.6  3.6\n",
        "```\n",
        "\n",
        "# wandafromx\n",
        "\n",
        "> Given a vector of data and a single value or vector of sampling\n",
        "> standard deviations, find the marginal maximum likelihood choice of\n",
        "> both weight and scale factor under the Laplace prior"
      ],
      "id": "385b628b-4d14-4899-9c5f-703d50143f5c"
    },
    {
      "cell_type": "code",
      "execution_count": 124,
      "metadata": {},
      "outputs": [],
      "source": [
        "x = np.array([-2,1,0,-4,8], dtype=float)\n",
        "s = 1\n",
        "universalthresh = True"
      ],
      "id": "a4fa125f-fd39-40df-ba23-57465d12e44e"
    },
    {
      "cell_type": "code",
      "execution_count": 125,
      "metadata": {},
      "outputs": [],
      "source": [
        "if universalthresh:\n",
        "    thi = np.sqrt(2 * np.log(len(x))) * s\n",
        "else:\n",
        "    thi = np.inf"
      ],
      "id": "7e3238e2-e904-4fc7-8839-b2adf0ad3f0a"
    },
    {
      "cell_type": "code",
      "execution_count": 126,
      "metadata": {},
      "outputs": [],
      "source": [
        "thi"
      ],
      "id": "c216dbab-0e8c-42d3-9863-b07b725b9c78"
    },
    {
      "cell_type": "code",
      "execution_count": 127,
      "metadata": {},
      "outputs": [],
      "source": [
        "if isinstance(s, int):\n",
        "    tlo = np.zeros(len(str(s)))\n",
        "else:\n",
        "    tlo = np.zeros(len(s))"
      ],
      "id": "cce71525-16f8-4d55-b8a0-e66576b86a87"
    },
    {
      "cell_type": "code",
      "execution_count": 128,
      "metadata": {},
      "outputs": [],
      "source": [
        "tlo"
      ],
      "id": "707b65ee-17ad-4728-b4de-c890809831b7"
    },
    {
      "cell_type": "code",
      "execution_count": 129,
      "metadata": {},
      "outputs": [],
      "source": [
        "lo = np.array([0, 0.04])\n",
        "lo"
      ],
      "id": "aff5dc4d-18fc-4f8e-b8b5-48ff4345fa7e"
    },
    {
      "cell_type": "code",
      "execution_count": 130,
      "metadata": {},
      "outputs": [],
      "source": [
        "hi = np.array([1, 3])\n",
        "hi"
      ],
      "id": "254942b8-ea01-4690-ba94-93059e7de381"
    },
    {
      "cell_type": "code",
      "execution_count": 131,
      "metadata": {},
      "outputs": [],
      "source": [
        "startpar = np.array([0.5, 0.5])\n",
        "startpar"
      ],
      "id": "501f23f2-ded1-4f88-ba65-63f569e25e68"
    },
    {
      "cell_type": "markdown",
      "metadata": {},
      "source": [
        "------------------------------------------------------------------------\n",
        "\n",
        "negloglik_laplace 결과도 같음"
      ],
      "id": "dd59109b-9dd7-4555-a634-b0aa4c531da3"
    },
    {
      "cell_type": "code",
      "execution_count": 132,
      "metadata": {},
      "outputs": [],
      "source": [
        "ebayesthresh.negloglik_laplace(startpar, x, s, tlo, thi).round(5)"
      ],
      "id": "af94037e-8000-4297-9dc0-d363021fb9a4"
    },
    {
      "cell_type": "markdown",
      "metadata": {},
      "source": [
        "-   R\n",
        "\n",
        "``` r\n",
        "> negloglik.laplace(startpar,x,s,thi,tlo)\n",
        "[1] -32.32783\n",
        "```\n",
        "\n",
        "------------------------------------------------------------------------"
      ],
      "id": "81b75b1e-b1bc-4685-91c7-fb4795f397d1"
    },
    {
      "cell_type": "code",
      "execution_count": 133,
      "metadata": {},
      "outputs": [],
      "source": [
        "if 'optim' in globals():\n",
        "    result = minimize(ebayesthresh.negloglik_laplace, startpar, method='L-BFGS-B', bounds=[(lo[0], hi[0]), (lo[1], hi[1])], args=(x, s, tlo, thi))\n",
        "    uu = result.x\n",
        "else:\n",
        "    result = minimize(ebayesthresh.negloglik_laplace, startpar, bounds=[(lo[0], hi[0]), (lo[1], hi[1])], args=(x, s, tlo, thi))\n",
        "    uu = result.x"
      ],
      "id": "ca8d507d-6f28-40f9-a93d-012722318759"
    },
    {
      "cell_type": "code",
      "execution_count": 134,
      "metadata": {},
      "outputs": [],
      "source": [
        "minimize(ebayesthresh.negloglik_laplace, startpar, method='L-BFGS-B',\n",
        "         bounds=[(lo[0], hi[0]), (lo[1], hi[1])], args=(x, s, tlo, thi)).x"
      ],
      "id": "14273393-f09e-4376-b529-bc7f6140946c"
    },
    {
      "cell_type": "code",
      "execution_count": 135,
      "metadata": {},
      "outputs": [],
      "source": [
        "minimize(ebayesthresh.negloglik_laplace, startpar, method='L-BFGS-B',\n",
        "         bounds=[(lo[0], hi[0]), (lo[1], hi[1])], args=(x, s, thi, tlo)).fun.round(5)"
      ],
      "id": "376d5a67-1003-4a53-887d-1fe2928f163d"
    },
    {
      "cell_type": "markdown",
      "metadata": {},
      "source": [
        "``` r\n",
        "> optim(startpar, negloglik.laplace, method=\"L-BFGS-B\",\n",
        "+               lower = lo, upper = hi, xx = x, ss = s, thi = thi,\n",
        "+               tlo = tlo)$par\n",
        "[1] 0.6948121 0.3001091\n",
        "> optim(startpar, negloglik.laplace, method=\"L-BFGS-B\",\n",
        "+               lower = lo, upper = hi, xx = x, ss = s, thi = thi,\n",
        "+               tlo = tlo)$value\n",
        "[1] -33.07559\n",
        "```"
      ],
      "id": "cc4058f2-87b0-47d0-bab5-0521fbe4628e"
    },
    {
      "cell_type": "code",
      "execution_count": 136,
      "metadata": {},
      "outputs": [],
      "source": [
        "a = uu[1]\n",
        "a"
      ],
      "id": "c2078b68-3a38-4110-ab7f-6ab8a1c73193"
    },
    {
      "cell_type": "code",
      "execution_count": 137,
      "metadata": {},
      "outputs": [],
      "source": [
        "wlo = ebayesthresh.wfromt(thi, s, a=a)\n",
        "wlo"
      ],
      "id": "2920d7e7-9fb5-4109-b8a2-29d17772b3bc"
    },
    {
      "cell_type": "code",
      "execution_count": 138,
      "metadata": {},
      "outputs": [],
      "source": [
        "whi = ebayesthresh.wfromt(tlo, s, a=a)\n",
        "whi"
      ],
      "id": "2abe8d5a-4f63-4e7c-b5d2-d404cfc782c6"
    },
    {
      "cell_type": "code",
      "execution_count": 139,
      "metadata": {},
      "outputs": [],
      "source": [
        "wlo = np.max(wlo)\n",
        "wlo"
      ],
      "id": "a6fa31cc-0444-4c2a-be58-3a62df0f7959"
    },
    {
      "cell_type": "code",
      "execution_count": 140,
      "metadata": {},
      "outputs": [],
      "source": [
        "whi = np.min(whi)\n",
        "whi"
      ],
      "id": "33ba010f-71e3-413e-8e88-ba3f6a1a7f29"
    },
    {
      "cell_type": "markdown",
      "metadata": {},
      "source": [
        "여기서 uu\\[0\\]값이 R과 다름"
      ],
      "id": "55e1224e-9ace-448c-8808-905e8013ac99"
    },
    {
      "cell_type": "code",
      "execution_count": 141,
      "metadata": {},
      "outputs": [],
      "source": [
        "w = uu[0] * (whi - wlo) + wlo\n",
        "w"
      ],
      "id": "ec7940ed-4b74-4b02-a7f3-985969881764"
    },
    {
      "cell_type": "markdown",
      "metadata": {},
      "source": [
        "R코드\n",
        "\n",
        "``` r\n",
        "wandafromx <- function(x, s = 1, universalthresh = TRUE) {\n",
        "#\n",
        "#  Find the marginal max lik estimators of w and a given standard\n",
        "#   deviation s, using a bivariate optimization;\n",
        "#    \n",
        "#  If universalthresh=TRUE, the thresholds will be upper bounded by\n",
        "#   universal threshold adjusted by standard deviation. The threshold\n",
        "#   is constrained to lie between 0 and sqrt ( 2 log (n)) *\n",
        "#   s. Otherwise, threshold can take any nonnegative value;\n",
        "#\n",
        "#  If running R, the routine optim is used; in S-PLUS the routine is\n",
        "#   nlminb.\n",
        "#\n",
        "    \n",
        "  # Range for thresholds\n",
        "  if(universalthresh) {\n",
        "    thi <- sqrt(2 * log(length(x))) * s\n",
        "  } else{\n",
        "    thi <- Inf\n",
        "  }\n",
        "  \n",
        "    tlo <- rep(0, length(s))\n",
        "    lo  <-  c(0,0.04)\n",
        "    hi  <-  c(1,3)\n",
        "    startpar  <-  c(0.5,0.5)\n",
        "    if (exists(\"optim\")) {\n",
        "      uu <- optim(startpar, negloglik.laplace, method=\"L-BFGS-B\",\n",
        "                      lower = lo, upper = hi, xx = x, ss = s, thi = thi,\n",
        "                      tlo = tlo)\n",
        "          uu <- uu$par\n",
        "    }\n",
        "    else {\n",
        "          uu <- nlminb(startpar, negloglik.laplace, lower = lo,\n",
        "                       upper = hi, xx = x, ss = s, thi = thi, tlo = tlo)\n",
        "          uu <- uu$parameters\n",
        "        }\n",
        "    \n",
        "    a <- uu[2]\n",
        "    wlo <- wfromt(thi, s, a = a)\n",
        "    whi <- wfromt(tlo, s, a = a)\n",
        "    wlo <- max(wlo)\n",
        "    whi <- min(whi)\n",
        "    w <- uu[1]*(whi - wlo) + wlo\n",
        "    return(list(w=w, a=a))\n",
        "}\n",
        "```\n",
        "\n",
        "결과\n",
        "\n",
        "-   Pythom"
      ],
      "id": "6f5608fb-8e68-42b0-9d25-46f332b708bc"
    },
    {
      "cell_type": "code",
      "execution_count": 142,
      "metadata": {},
      "outputs": [],
      "source": [
        "ebayesthresh.wandafromx(np.array([-2,1,0,-4,8,50], dtype=float))"
      ],
      "id": "a7131cbd-1729-4ec7-a77d-6906a49c29f2"
    },
    {
      "cell_type": "code",
      "execution_count": 143,
      "metadata": {},
      "outputs": [],
      "source": [
        "ebayesthresh.wandafromx(np.array([-2,1,0,-4,8], dtype=float))"
      ],
      "id": "71589270-c5b6-4144-83e1-6b7108cdfc36"
    },
    {
      "cell_type": "markdown",
      "metadata": {},
      "source": [
        "-   R\n",
        "\n",
        "``` r\n",
        "> wandafromx(c(-2,1,0,-4,8,50))\n",
        "$w\n",
        "[1] 1\n",
        "\n",
        "$a\n",
        "[1] 0.4163946\n",
        "> wandafromx(c(-2,1,0,-4,8))\n",
        "$w\n",
        "[1] 0.8466808\n",
        "\n",
        "$a\n",
        "[1] 0.3001091\n",
        "```\n",
        "\n",
        "# Mad(Median Absolute Deviation)\n",
        "\n",
        "> 중앙값 절대 편차, 분산이나 퍼진 정도 확인 가능\n",
        "\n",
        "결과\n",
        "\n",
        "-   Python"
      ],
      "id": "cbbc1c1e-e308-4bb4-ac13-9a6bb42ad4ca"
    },
    {
      "cell_type": "code",
      "execution_count": 144,
      "metadata": {},
      "outputs": [],
      "source": [
        "ebayesthresh.mad(np.array([1, 2, 3, 3, 4, 4, 4, 5, 5.5, 6, 6, 6.5, 7, 7, 7.5, 8, 9, 12, 52, 90]))"
      ],
      "id": "96c83ff1-b6fa-412a-abea-7dd9726c7431"
    },
    {
      "cell_type": "markdown",
      "metadata": {},
      "source": [
        "-   R\n",
        "\n",
        "``` r\n",
        "> mad(c(1, 2, 3, 3, 4, 4, 4, 5, 5.5, 6, 6, 6.5, 7, 7, 7.5, 8, 9, 12, 52, 90))\n",
        "[1] 2.9652\n",
        "```\n",
        "\n",
        "# wfromt\n",
        "\n",
        "Description\n",
        "\n",
        "> Given a value or vector of thresholds and sampling standard deviations\n",
        "> (sd equals 1 for Cauchy prior), find the mixing weight for which this\n",
        "> is(these are) the threshold(s) of the posterior median estimator. If a\n",
        "> vector of threshold values is provided, the vector of corresponding\n",
        "> weights is returned.\n",
        "\n",
        "*주어진 임계값과 표준편차에 대해, posterior median estimator에서 이\n",
        "임계값이 나오도록 하는 혼합 가중치를 계산하는 함수가 제공된다.*"
      ],
      "id": "f9e4668e-f509-442c-9a17-edd08ca3bd50"
    },
    {
      "cell_type": "code",
      "execution_count": 145,
      "metadata": {},
      "outputs": [],
      "source": [
        "# tt = np.array([2,3,5])\n",
        "tt = 2.14\n",
        "s = 1\n",
        "prior = 'laplace\"'\n",
        "a = 0.5"
      ],
      "id": "75b9fdf5-3249-4c43-8b3f-7af41d8a1736"
    },
    {
      "cell_type": "code",
      "execution_count": 146,
      "metadata": {},
      "outputs": [],
      "source": [
        "pr = prior[0:1]\n",
        "pr"
      ],
      "id": "6376718e-39ce-463a-8286-e9e8466e5226"
    },
    {
      "cell_type": "code",
      "execution_count": 147,
      "metadata": {},
      "outputs": [],
      "source": [
        "if pr == \"l\":\n",
        "    tma = tt / s - s * a\n",
        "    wi = 1 / np.abs(tma)\n",
        "    if isinstance(wi, (int, float, str, bool)) and tma > -35:\n",
        "        wi = norm.cdf(tma) / norm.pdf(tma)\n",
        "    elif isinstance(wi, (int, float, str, bool)) and tma < -35:\n",
        "        wi = wi\n",
        "    else:\n",
        "        wi[tma > -35] = norm.cdf(tma[tma > -35])/norm.pdf(tma[tma > -35])\n",
        "    wi = a * s * wi - ebayesthresh.beta_laplace(tt, s, a)"
      ],
      "id": "afaebfd5-dd49-4603-97a2-bd29f901c644"
    },
    {
      "cell_type": "code",
      "execution_count": 148,
      "metadata": {},
      "outputs": [],
      "source": [
        "tma"
      ],
      "id": "46cedaf0-91e5-4d06-babd-4fbfeadb353e"
    },
    {
      "cell_type": "code",
      "execution_count": 149,
      "metadata": {},
      "outputs": [],
      "source": [
        "wi"
      ],
      "id": "1d5ee94f-4204-4dfc-8f3f-de0decabac4b"
    },
    {
      "cell_type": "code",
      "execution_count": 150,
      "metadata": {},
      "outputs": [],
      "source": [
        "if pr == \"c\":\n",
        "    dnz = norm.pdf(tt)\n",
        "    wi = 1 + (norm.cdf(tt) - tt * dnz - 1/2) / (np.sqrt(np.pi/2) * dnz * tt**2)\n",
        "    if isinstance(wi, np.ndarray):\n",
        "        for i in range(len(wi)):\n",
        "            if not np.isfinite(wi[i]):\n",
        "                wi[i] = 1\n",
        "    else:\n",
        "        if not np.isfinite(wi):\n",
        "            wi = 1"
      ],
      "id": "cc119800-e195-4560-a3ee-8d6e6c944441"
    },
    {
      "cell_type": "code",
      "execution_count": 151,
      "metadata": {},
      "outputs": [],
      "source": [
        "1 / wi"
      ],
      "id": "a6d9bc89-e3a6-4a0e-9dbb-df6eaa23fce1"
    },
    {
      "cell_type": "markdown",
      "metadata": {},
      "source": [
        "-   R코드\n",
        "\n",
        "``` r\n",
        "wfromt <- function(tt, s = 1, prior = \"laplace\", a = 0.5) {\n",
        "  #\n",
        "  #  Find the weight that has posterior median threshold tt, \n",
        "  #   given s (sd) and a.\n",
        "  #\n",
        "pr <- substring(prior, 1, 1)\n",
        "if(pr == \"l\"){\n",
        "  tma <- tt/s - s*a\n",
        "  wi <- 1/abs(tma)\n",
        "  wi[tma > -35] <- pnorm(tma[tma > -35])/dnorm(tma[tma > -35])\n",
        "  wi <- a * s * wi - beta.laplace(tt, s, a)\n",
        "}\n",
        "if(pr == \"c\") {\n",
        "  dnz <- dnorm(tt)\n",
        "  wi <- 1 + (pnorm(tt) - tt * dnz - 1/2)/\n",
        "    (sqrt(pi/2) * dnz * tt^2)\n",
        "  wi[!is.finite(wi)] <- 1\n",
        "}\n",
        "1/wi\n",
        "}\n",
        "```\n",
        "\n",
        "결과\n",
        "\n",
        "-   Python"
      ],
      "id": "49fd6525-faa1-4e06-b990-717fea831437"
    },
    {
      "cell_type": "code",
      "execution_count": 152,
      "metadata": {},
      "outputs": [],
      "source": [
        "ebayesthresh.wfromt(np.array([2,3,5]),prior='cachy')"
      ],
      "id": "73b44642-ca91-4f3a-a22b-1e8e52944e63"
    },
    {
      "cell_type": "code",
      "execution_count": 153,
      "metadata": {},
      "outputs": [],
      "source": [
        "ebayesthresh.wfromt(2,prior='cachy')"
      ],
      "id": "fb88ee73-ae38-4d45-8644-261900e07228"
    },
    {
      "cell_type": "code",
      "execution_count": 154,
      "metadata": {},
      "outputs": [],
      "source": [
        "ebayesthresh.wfromt(2,prior='laplace')"
      ],
      "id": "7eb4748a-a1f0-4865-afeb-020e91bcfa4c"
    },
    {
      "cell_type": "markdown",
      "metadata": {},
      "source": [
        "-   R\n",
        "\n",
        "``` r\n",
        "> wfromt(c(2,3,5),prior='cachy')\n",
        "[1] 4.229634e-01 9.337993e-02 9.315909e-05\n",
        "> wfromt(2,prior='cachy')\n",
        "[1] 0.4229634\n",
        "> wfromt(2,prior='laplace')\n",
        "[1] 0.3686338\n",
        "```\n",
        "\n",
        "# wfromx\n",
        "\n",
        "Description\n",
        "\n",
        "> The weight is found by marginal maximum likelihood. The search is over\n",
        "> weights corresponding to threshold $t_i$ in the range\n",
        "> $[0, s_i \\sqrt{2 log n}]$ if universalthresh=TRUE, where n is the\n",
        "> length of the data vector and $(s_1, ..., s_n$) ($s_i$ is $1$ for\n",
        "> Cauchy prior) is the vector of sampling standard deviation of data\n",
        "> ($x_1, ..., x_n$); otherwise, the search is over $[0, 1]$. The search\n",
        "> is by binary search for a solution to the equation $S(w) = 0$, where\n",
        "> $S$ is the derivative of the log likelihood. The binary search is on a\n",
        "> logarithmic scale in $w$. If the Laplace prior is used, the scale\n",
        "> parameter is fixed at the value given for $a$, and defaults to $0.5$\n",
        "> if no value is provided. To estimate a as well as $w$ by marginal\n",
        "> maximum likelihood, use the routine wandafromx.\n",
        "\n",
        "> Suppose the vector $(x_1, \\cdots, x_n)$ is such that $x_i$ is drawn\n",
        "> independently from a normal distribution with mean $\\theta_i$ and\n",
        "> standard deviation $s_i$ ($s_i$ equals $1$ for Cauchy prior). The\n",
        "> prior distribution of the $\\theta_i$ is a mixture with probability\n",
        "> $1 − w$ of zero and probability $w$ of a given symmetric heavy-tailed\n",
        "> distribution. This routine finds the marginal maximum likelihood\n",
        "> estimate of the parameter $w$.\n",
        "\n",
        "*주어진 정규 분포 데이터에 대해 $\\theta_𝑖$의 사전 분포가 주어진\n",
        "상황에서, 모수 $w$의 최대우도 추정치를 계산하는 방법을 제공한다*"
      ],
      "id": "9f30e9cb-0954-4b58-9bb6-cab0e6ceec6e"
    },
    {
      "cell_type": "code",
      "execution_count": 155,
      "metadata": {},
      "outputs": [],
      "source": [
        "s = np.concatenate((np.repeat(0, 90), np.repeat(5, 10)))\n",
        "x = np.random.normal(0, s, size=100)\n",
        "prior = \"cauchy\"\n",
        "a = 0.5\n",
        "universalthresh = True"
      ],
      "id": "d910390e-7884-4f2d-824d-64a7ab927ae6"
    },
    {
      "cell_type": "code",
      "execution_count": 156,
      "metadata": {},
      "outputs": [],
      "source": [
        "pr = prior[0:1]\n",
        "pr"
      ],
      "id": "e819cb92-4080-4fd4-813e-bc3304909bdf"
    },
    {
      "cell_type": "code",
      "execution_count": 157,
      "metadata": {},
      "outputs": [],
      "source": [
        "if pr == \"c\":\n",
        "    s = 1"
      ],
      "id": "ff558a6d-ecb5-4760-af49-56c3d14f8b02"
    },
    {
      "cell_type": "code",
      "execution_count": 158,
      "metadata": {},
      "outputs": [],
      "source": [
        "if universalthresh:\n",
        "    tuniv = np.sqrt(2 * np.log(len(x))) * s\n",
        "    wlo = ebayesthresh.wfromt(tuniv, s, prior, a)\n",
        "    wlo = np.max(wlo)\n",
        "else:\n",
        "    wlo = 0"
      ],
      "id": "8b919edc-925a-45d4-af7e-8eb57c5dc8b8"
    },
    {
      "cell_type": "code",
      "execution_count": 159,
      "metadata": {},
      "outputs": [],
      "source": [
        "if pr == \"l\":\n",
        "    beta = ebayesthresh.beta_laplace(x, s, a)\n",
        "elif pr == \"c\":\n",
        "    beta = ebayesthresh.beta_cauchy(x)"
      ],
      "id": "1ed46a55-1872-407f-8947-a1ab3ac89aae"
    },
    {
      "cell_type": "code",
      "execution_count": 160,
      "metadata": {},
      "outputs": [],
      "source": [
        "whi = 1\n",
        "beta = np.minimum(beta, 1e20)\n",
        "\n",
        "shi = np.sum(beta / (1 + beta))"
      ],
      "id": "40b14a37-93b6-4ea9-8305-c74a09f5eff0"
    },
    {
      "cell_type": "code",
      "execution_count": 161,
      "metadata": {},
      "outputs": [],
      "source": [
        "if shi >= 0:\n",
        "    shi =  1"
      ],
      "id": "bd425b93-84eb-4b74-843c-80b07ea8a3ec"
    },
    {
      "cell_type": "code",
      "execution_count": 162,
      "metadata": {},
      "outputs": [],
      "source": [
        "slo = np.sum(beta / (1 + wlo * beta))"
      ],
      "id": "2bda427d-b7f4-4f17-95ca-e2b8c0b421c5"
    },
    {
      "cell_type": "code",
      "execution_count": 163,
      "metadata": {},
      "outputs": [],
      "source": [
        "if slo <= 0:\n",
        "    slo = wlo"
      ],
      "id": "bcd6c356-619f-48fb-a0c6-2e9db261aadd"
    },
    {
      "cell_type": "code",
      "execution_count": 164,
      "metadata": {},
      "outputs": [],
      "source": [
        "for _ in range(1,31):\n",
        "    wmid = np.sqrt(wlo * whi)\n",
        "    smid = np.sum(beta / (1 + wmid * beta))\n",
        "    if smid == 0:\n",
        "        smid = wmid\n",
        "    if smid > 0:\n",
        "        wlo = wmid\n",
        "    else:\n",
        "        whi = wmid"
      ],
      "id": "e9b8bf5f-152e-428f-9d38-e5be0cc34ba1"
    },
    {
      "cell_type": "code",
      "execution_count": 165,
      "metadata": {},
      "outputs": [],
      "source": [
        "np.sqrt(wlo * whi)"
      ],
      "id": "1a967f88-bb8d-441d-97d8-3fd021c36eb9"
    },
    {
      "cell_type": "markdown",
      "metadata": {},
      "source": [
        "-   R코드\n",
        "\n",
        "``` r\n",
        "wfromx <- function (x, s = 1, prior = \"laplace\", a = 0.5,\n",
        "                    universalthresh = TRUE) {\n",
        "#    \n",
        "#  Given the vector of data x and s (sd),\n",
        "#   find the value of w that zeroes S(w) in the\n",
        "#   range by successive bisection, carrying out nits harmonic bisections\n",
        "#   of the original interval between wlo and 1.  \n",
        "#  \n",
        "    pr <- substring(prior, 1, 1)\n",
        "    if(pr == \"c\")\n",
        "          s = 1\n",
        "    if(universalthresh) {\n",
        "          tuniv <- sqrt(2 * log(length(x))) * s\n",
        "          wlo <- wfromt(tuniv, s, prior, a)\n",
        "          wlo <- max(wlo)\n",
        "    } else \n",
        "          wlo = 0\n",
        "    if(pr == \"l\")\n",
        "      beta <- beta.laplace(x, s, a)\n",
        "    if(pr == \"c\")\n",
        "      beta <- beta.cauchy(x)\n",
        "    whi  <- 1\n",
        "    beta <- pmin(beta, 1e20) \n",
        "    shi  <- sum(beta/(1 + beta))\n",
        "    if(shi >= 0)\n",
        "      return(1)\n",
        "    slo <- sum(beta/(1 + wlo * beta))\n",
        "    if(slo <= 0)\n",
        "      return(wlo)\n",
        "    for(j in (1:30)) {\n",
        "      wmid <- sqrt(wlo * whi)\n",
        "      smid <- sum(beta/(1 + wmid * beta))\n",
        "      if(smid == 0)\n",
        "        return(wmid)\n",
        "      if(smid > 0)\n",
        "        wlo <- wmid\n",
        "      else\n",
        "        whi <- wmid\n",
        "        }\n",
        "    return(sqrt(wlo * whi))\n",
        "}\n",
        "```\n",
        "\n",
        "결과\n",
        "\n",
        "-   Python"
      ],
      "id": "1293d31a-84eb-408c-ba34-6701a88ca378"
    },
    {
      "cell_type": "code",
      "execution_count": 166,
      "metadata": {},
      "outputs": [],
      "source": [
        "ebayesthresh.wfromx(x= np.random.normal(0, np.concatenate((np.repeat(0, 90), np.repeat(5, 10))), size=100), prior = \"cauchy\")"
      ],
      "id": "fc57fdd3-8daf-4885-8e93-6d2b0a9a2bda"
    },
    {
      "cell_type": "markdown",
      "metadata": {},
      "source": [
        "-   R\n",
        "\n",
        "``` r\n",
        "> wfromx(x = rnorm(100, s = c(rep(0,90),rep(5,10))), prior = \"cauchy\")\n",
        "[1] 0.116067\n",
        "```\n",
        "\n",
        "# wmonfromx\n",
        "\n",
        "> Given a vector of data, find the marginal maximum likelihood choice of\n",
        "> weight sequence subject to the constraints that the weights are\n",
        "> monotone decreasing\n",
        "\n",
        "*데이터에 대해 가중치 시퀀스를 선택하는 과정에서 조건이 주어지는데, 이\n",
        "가중치 시퀀스는 각각의 가중치 값이 단조 감소해야 하며, 주어진 데이터에\n",
        "대한 최대 우도를 갖도록 선택되어야 함.*"
      ],
      "id": "e0caab84-d91a-4000-a991-57b02b2dab38"
    },
    {
      "cell_type": "code",
      "execution_count": 167,
      "metadata": {},
      "outputs": [],
      "source": [
        "xd = np.random.normal(0, 1, size=10)\n",
        "prior = \"laplace\"\n",
        "a = 0.5\n",
        "tol = 1e-08\n",
        "maxits = 20"
      ],
      "id": "3aa2177c-5d49-41f7-8de1-03ad794876fb"
    },
    {
      "cell_type": "code",
      "execution_count": 168,
      "metadata": {},
      "outputs": [],
      "source": [
        "pr = prior[0:1]\n",
        "pr"
      ],
      "id": "001fbe8c-ff43-4a1b-9dec-37f68d8c8ec2"
    },
    {
      "cell_type": "code",
      "execution_count": 169,
      "metadata": {},
      "outputs": [],
      "source": [
        "nx = len(xd)\n",
        "nx"
      ],
      "id": "b5465c74-ce75-4766-8336-3cdac24f412b"
    },
    {
      "cell_type": "code",
      "execution_count": 170,
      "metadata": {},
      "outputs": [],
      "source": [
        "wmin = ebayesthresh.wfromt(np.sqrt(2 * np.log(len(xd))), prior=prior, a=a)\n",
        "wmin"
      ],
      "id": "432b7102-4761-4e74-92fe-cb3fdf506c66"
    },
    {
      "cell_type": "code",
      "execution_count": 171,
      "metadata": {},
      "outputs": [],
      "source": [
        "winit = 1\n",
        "winit"
      ],
      "id": "efbff82a-6850-4c50-bab5-eca5c437e9cd"
    },
    {
      "cell_type": "code",
      "execution_count": 172,
      "metadata": {},
      "outputs": [],
      "source": [
        "if pr == \"l\":\n",
        "    beta = ebayesthresh.beta_laplace(xd, a=a)\n",
        "if pr == \"c\":\n",
        "    beta = ebayesthresh.beta_cauchy(xd)"
      ],
      "id": "212aeb05-8200-4fa8-acb2-a40d05bd2764"
    },
    {
      "cell_type": "code",
      "execution_count": 173,
      "metadata": {},
      "outputs": [],
      "source": [
        "w = np.repeat(winit, len(beta))\n",
        "w"
      ],
      "id": "413dc397-1929-426c-b009-5aa31042e5b2"
    },
    {
      "cell_type": "code",
      "execution_count": 174,
      "metadata": {},
      "outputs": [],
      "source": [
        "for j in range(maxits):\n",
        "    aa = w + 1 / beta\n",
        "    ps = w + aa\n",
        "    ww = 1 / aa ** 2\n",
        "    wnew = ebayesthresh.isotone(ps, ww, increasing=False)\n",
        "    wnew = np.maximum(wmin, wnew)\n",
        "    wnew = np.minimum(1, wnew)\n",
        "    zinc = np.max(np.abs(np.diff(wnew)))\n",
        "    w = wnew\n",
        "    # if zinc < tol:\n",
        "    #     return w"
      ],
      "id": "462512a3-e114-4c03-bf83-28abd61791ac"
    },
    {
      "cell_type": "code",
      "execution_count": 176,
      "metadata": {},
      "outputs": [],
      "source": [
        "# warnings.filterwarnings(\"More iterations required to achieve convergence\")"
      ],
      "id": "2496f0ea-5005-467b-9e0a-0669d7d2eb28"
    },
    {
      "cell_type": "markdown",
      "metadata": {},
      "source": [
        "R코드\n",
        "\n",
        "``` r\n",
        "wmonfromx <- function (xd, prior = \"laplace\", a = 0.5,\n",
        "                       tol = 1e-08, maxits = 20) {\n",
        "#\n",
        "#  Find the monotone marginal maximum likelihood estimate of the\n",
        "#   mixing weights for the Laplace prior with parameter a.  It is\n",
        "#   assumed that the noise variance is equal to one.\n",
        "#\n",
        "#  Find the beta values and the minimum weight\n",
        "#  \n",
        "#  Current version allows for standard deviation of 1 only.\n",
        "#\n",
        "    pr <- substring(prior, 1, 1)\n",
        "    nx <- length(xd)\n",
        "    wmin <- wfromt(sqrt(2 * log(length(xd))), prior=prior, a=a)\n",
        "    winit <- 1\n",
        "    if(pr == \"l\")\n",
        "      beta <- beta.laplace(xd, a=a)\n",
        "    if(pr == \"c\")\n",
        "           beta <- beta.cauchy(xd)\n",
        "        \n",
        "#   now conduct iterated weighted least squares isotone regression\n",
        "#    \n",
        "    w <- rep(winit, length(beta))\n",
        "    for(j in (1:maxits)) {\n",
        "        aa <- w + 1/beta\n",
        "        ps <- w + aa\n",
        "        ww <- 1/aa^2\n",
        "        wnew <- isotone(ps, ww, increasing = FALSE)\n",
        "        wnew <- pmax(wmin, wnew)\n",
        "        wnew <- pmin(1, wnew)\n",
        "        zinc <- max(abs(range(wnew - w)))\n",
        "        w <- wnew\n",
        "        if(zinc < tol)\n",
        "          return(w)\n",
        "    }\n",
        "        \n",
        "    warning(\"More iterations required to achieve convergence\")\n",
        "    return(w)\n",
        "}\n",
        "```\n",
        "\n",
        "결과\n",
        "\n",
        "-   Python"
      ],
      "id": "1ad0efed-c280-4141-8c74-4664e995aae1"
    },
    {
      "cell_type": "code",
      "execution_count": 2,
      "metadata": {},
      "outputs": [],
      "source": [
        "ebayesthresh.wmonfromx(xd = np.random.normal(0, 1, size=10), prior = \"laplace\")"
      ],
      "id": "97c98c4a-4cd9-454c-877d-5f6a381ca9c4"
    },
    {
      "cell_type": "markdown",
      "metadata": {},
      "source": [
        "-   R\n",
        "\n",
        "``` r\n",
        "> wmonfromx(xd <- rnorm(10,0,1), prior = \"laplace\")\n",
        " [1] 0.3102968 0.3102968 0.3102968 0.3102968 0.3102968 0.3102968 0.3102968 0.3102968 0.3102968 0.3102968\n",
        "```\n",
        "\n",
        "> wmonfromx(xd=rnorm(5, s = 1), prior = “laplace”, a = 0.5, tol = 1e-08,\n",
        "> maxits = 20) \\[1\\] 0.9363989 0.9363989 0.9363989 0.4522184 0.4522184\n",
        "\n",
        "# vecbinsolv"
      ],
      "id": "a09ff108-95ea-437b-b211-fda83c20a610"
    },
    {
      "cell_type": "code",
      "execution_count": 3,
      "metadata": {},
      "outputs": [],
      "source": [
        "zf = np.array([1, 2, 3])\n",
        "# zf = 0\n",
        "def fun(t, *args, **kwargs):\n",
        "    c = kwargs.get('c', 0) \n",
        "    return [x**2+c for x in t]\n",
        "tlo = 0\n",
        "thi = 10\n",
        "nits = 30"
      ],
      "id": "30bd5963-4e82-45fe-ae69-1801eef6c02c"
    },
    {
      "cell_type": "code",
      "execution_count": 4,
      "metadata": {},
      "outputs": [],
      "source": [
        "if isinstance(zf, int):\n",
        "    nz = len(str(zf))\n",
        "else:\n",
        "    nz = len(zf)"
      ],
      "id": "d66e5827-c4ff-4cc7-8fb7-f55f96f2110a"
    },
    {
      "cell_type": "code",
      "execution_count": 5,
      "metadata": {},
      "outputs": [],
      "source": [
        "nz"
      ],
      "id": "f333c41b-a16d-42d6-9674-db14f475ebbd"
    },
    {
      "cell_type": "code",
      "execution_count": 6,
      "metadata": {},
      "outputs": [],
      "source": [
        "if isinstance(tlo, (int, float)):\n",
        "    tlo = [tlo] * nz"
      ],
      "id": "d1094a7d-5f11-4126-b419-c772fb9c8368"
    },
    {
      "cell_type": "code",
      "execution_count": 7,
      "metadata": {},
      "outputs": [],
      "source": [
        "tlo"
      ],
      "id": "762d1b29-1a9b-4757-8aec-da7ea03573ff"
    },
    {
      "cell_type": "code",
      "execution_count": 8,
      "metadata": {},
      "outputs": [],
      "source": [
        "if len(tlo) != nz:\n",
        "    raise ValueError(\"Lower constraint has to be homogeneous or has the same length as #functions.\")"
      ],
      "id": "eff54a2d-1eb6-4143-97bd-1bfea83b506e"
    },
    {
      "cell_type": "code",
      "execution_count": 9,
      "metadata": {},
      "outputs": [],
      "source": [
        "if isinstance(thi, (int, float)):\n",
        "    thi = [thi] * nz"
      ],
      "id": "a387c62e-0b90-4a21-9afd-1bdd3bd34c81"
    },
    {
      "cell_type": "code",
      "execution_count": 10,
      "metadata": {},
      "outputs": [],
      "source": [
        "thi"
      ],
      "id": "dfaf2a76-396c-431c-83ca-347882cfabb1"
    },
    {
      "cell_type": "code",
      "execution_count": 11,
      "metadata": {},
      "outputs": [],
      "source": [
        "if len(thi) != nz:\n",
        "    raise ValueError(\"Upper constraint has to be homogeneous or has the same length as #functions.\")"
      ],
      "id": "c33ad23f-5430-433c-9dee-a5d55280106b"
    },
    {
      "cell_type": "code",
      "execution_count": 12,
      "metadata": {},
      "outputs": [],
      "source": [
        "c=2\n",
        "\n",
        "for _ in range(nits):\n",
        "    tmid = np.array([(lo + hi) / 2 for lo, hi in zip(tlo, thi)])\n",
        "    if fun == ebayesthresh.cauchy_threshzero:\n",
        "        fmid = fun(tmid, s=s,w=w)\n",
        "    elif fun == ebayesthresh.laplace_threshzero:\n",
        "        fmid = fun(tmid, s=s,w=w,a=a)\n",
        "    else:\n",
        "        fmid = fun(tmid)\n",
        "    if isinstance(fmid, (list,np.ndarray)) and isinstance(zf, (list,np.ndarray)):\n",
        "        indt = [f <= z for f, z in zip(fmid, zf)]\n",
        "    else: \n",
        "        indt = fmid <= zf\n",
        "    tlo = [tm if ind else lo for tm, lo, ind in zip(tmid, tlo, indt)]\n",
        "    thi = [tm if not ind else hi for tm, hi, ind in zip(tmid, thi, indt)]"
      ],
      "id": "28a3e935-335d-4005-bba2-6d73d9dccf62"
    },
    {
      "cell_type": "code",
      "execution_count": 13,
      "metadata": {},
      "outputs": [],
      "source": [
        "tmid"
      ],
      "id": "719a350b-31ae-4b62-817e-c432adce8f23"
    },
    {
      "cell_type": "code",
      "execution_count": 14,
      "metadata": {},
      "outputs": [],
      "source": [
        "fmid"
      ],
      "id": "d1eafbcb-96d8-4a64-b4c0-f13da4635ab6"
    },
    {
      "cell_type": "code",
      "execution_count": 15,
      "metadata": {},
      "outputs": [],
      "source": [
        "indt"
      ],
      "id": "59a9e806-a2f8-4d42-ac82-369d63f81794"
    },
    {
      "cell_type": "code",
      "execution_count": 16,
      "metadata": {},
      "outputs": [],
      "source": [
        "tlo"
      ],
      "id": "a3db3cef-bf60-4d1c-ac78-15da61bfc958"
    },
    {
      "cell_type": "code",
      "execution_count": 17,
      "metadata": {},
      "outputs": [],
      "source": [
        "thi"
      ],
      "id": "faac9dbc-acd3-4f99-9e69-74ba8550ee15"
    },
    {
      "cell_type": "code",
      "execution_count": 18,
      "metadata": {},
      "outputs": [],
      "source": [
        "tsol = [(lo + hi) / 2 for lo, hi in zip(tlo, thi)]\n",
        "tsol"
      ],
      "id": "30f4432c-f4bb-4ff4-8e39-612b40168553"
    },
    {
      "cell_type": "markdown",
      "metadata": {},
      "source": [
        "R코드\n",
        "\n",
        "``` r\n",
        "vecbinsolv <- function(zf, fun, tlo, thi, nits = 30, ...) {\n",
        "#\n",
        "#  Given a monotone function fun, and a vector of values\n",
        "#   zf find a vector of numbers t such that f(t) = zf.\n",
        "#   The solution is constrained to lie on the interval (tlo, thi)\n",
        "#\n",
        "#  The function fun may be a vector of increasing functions \n",
        "#\n",
        "#  Present version is inefficient because separate calculations\n",
        "#   are done for each element of z, and because bisections are done even\n",
        "#   if the solution is outside the range supplied\n",
        "#    \n",
        "#  It is important that fun should work for vector arguments.\n",
        "#   Additional arguments to fun can be passed through ...\n",
        "#\n",
        "#  Works by successive bisection, carrying out nits harmonic bisections\n",
        "#   of the interval between tlo and thi\n",
        "#\n",
        "    nz <- length(zf)\n",
        "    if(length(tlo)==1) tlo <- rep(tlo, nz)\n",
        "    if(length(tlo)!=nz)\n",
        "          stop(paste(\"Lower constraint has to be homogeneous\",\n",
        "                     \"or has the same length as #functions.\"))\n",
        "    if(length(thi)==1) thi <- rep(thi, nz)\n",
        "    if(length(thi)!=nz)\n",
        "          stop(paste(\"Upper constraint has to be homogeneous\",\n",
        "                     \"or has the same length as #functions.\"))\n",
        "\n",
        "#  carry out nits bisections\n",
        "#\n",
        "    for(jj in (1:nits)) {\n",
        "        tmid <- (tlo + thi)/2\n",
        "        fmid <- fun(tmid, ...)\n",
        "        indt <- (fmid <= zf)\n",
        "        tlo[indt] <- tmid[indt]\n",
        "        thi[!indt] <- tmid[!indt]\n",
        "    }\n",
        "    tsol <- (tlo + thi)/2\n",
        "    return(tsol)\n",
        "}\n",
        "```\n",
        "\n",
        "결과\n",
        "\n",
        "-   Python"
      ],
      "id": "fc403a5b-f9f2-45ca-a358-d0539fbbd2c3"
    },
    {
      "cell_type": "code",
      "execution_count": 19,
      "metadata": {},
      "outputs": [],
      "source": [
        "zf = np.array([1, 2, 3])\n",
        "def fun(t, *args, **kwargs):\n",
        "    return [2*x for x in t]\n",
        "tlo = 0\n",
        "thi = 10\n",
        "ebayesthresh.vecbinsolv(zf, fun, tlo, thi)"
      ],
      "id": "76d5c14d-e588-4e10-9f34-de24a985f6de"
    },
    {
      "cell_type": "code",
      "execution_count": 20,
      "metadata": {},
      "outputs": [],
      "source": [
        "def fun(t, *args, **kwargs):\n",
        "    return [x**2 for x in t]\n",
        "ebayesthresh.vecbinsolv(zf, fun, tlo, thi)"
      ],
      "id": "cf82d855-f17c-4cba-9fdc-8665f15b6c9b"
    },
    {
      "cell_type": "markdown",
      "metadata": {},
      "source": [
        "-   R\n",
        "\n",
        "``` r\n",
        "> zf <- c(1, 2, 3)\n",
        "> fun <- function(x) 2*x\n",
        "> tlo <- 0\n",
        "> thi <- 10\n",
        "> vecbinsolv(zf, fun, tlo, thi)\n",
        "[1] 0.5 1.0 1.5\n",
        "> fun <- function(x) x**2\n",
        "> vecbinsolv(zf, fun, tlo, thi)\n",
        "[1] 1.000000 1.414214 1.732051\n",
        "```\n",
        "\n",
        "# tfromw\n",
        "\n",
        "> Given a single value or a vector of weights (i.e. prior probabilities\n",
        "> that the parameter is nonzero) and sampling standard deviations (sd\n",
        "> equals 1 for Cauchy prior), find the corresponding threshold(s) under\n",
        "> the specified prior.\n",
        "\n",
        "주어진 가중치 벡터 w와 s(표준 편차)에 대해 지정된 사전 분포를 사용하여\n",
        "임계값 또는 해당 가중치에 대한 임계값 벡터 찾기. 만약 bayesfac=True이면\n",
        "베이즈 요인 임계값을 찾고, 그렇지 않으면 사후 중앙값 임계값을 찾음. 만약\n",
        "Laplace 사전 분포를 사용하는 경우, a는 역 스케일(즉, rate) 매개변수의 값\n",
        "나옴.\n",
        "\n",
        "Parameters:\n",
        "\n",
        "-   w (array-like): 가중치 벡터\n",
        "-   s (float): 표준 편차(default: 1)\n",
        "-   prior (str): 사전 분포 (default: “laplace”)\n",
        "-   bayesfac (bool): 베이즈 요인 임계값을 찾는지 여부 (default: False)\n",
        "-   a (float): a \\< 20인 입력 값 (default: 0.5)"
      ],
      "id": "bfdb52d3-433a-4cbc-bbd2-92c36bf022c3"
    },
    {
      "cell_type": "code",
      "execution_count": 21,
      "metadata": {},
      "outputs": [],
      "source": [
        "w = np.array([0.05, 0.1])\n",
        "# w = 0.5\n",
        "s = 1\n",
        "prior = \"laplace\"\n",
        "# prior = \"c\"\n",
        "bayesfac = False\n",
        "a = 0.5"
      ],
      "id": "ec94de7a-416d-4eed-9a4e-c56c7397f29c"
    },
    {
      "cell_type": "code",
      "execution_count": 22,
      "metadata": {},
      "outputs": [],
      "source": [
        "w=np.array([0.05,0.1])\n",
        "s = 1\n",
        "prior = \"laplace\"\n",
        "bayesfac = False\n",
        "a = 0.5\n",
        "universalthresh = True"
      ],
      "id": "1938f75d-5191-4fb2-abdf-947e3dd8fc32"
    },
    {
      "cell_type": "code",
      "execution_count": 23,
      "metadata": {},
      "outputs": [],
      "source": [
        "pr = prior[0:1]\n",
        "pr"
      ],
      "id": "8c675780-b0d8-4568-b6c3-83fbb1418e4f"
    },
    {
      "cell_type": "code",
      "execution_count": 24,
      "metadata": {},
      "outputs": [],
      "source": [
        "if bayesfac:\n",
        "    z = 1 / w - 2\n",
        "    if pr == \"l\":\n",
        "        if isinstance(s, (int, float, str, bool)) and len(w) >= len(str(s)):\n",
        "            zz = z\n",
        "        elif isinstance(s, (int, float, str, bool)) and len(w) <len(str(s)):\n",
        "            zz = [z] * len(str(s))\n",
        "        elif len(w) >= len(s):\n",
        "            zz = z\n",
        "        elif len(w) < len(str(s)):\n",
        "            zz = [z] * len(s)\n",
        "        tt = ebayesthresh.vecbinsolv(zz, ebayesthresh.beta_laplace, 0, 10, 30, s=s,w=w, a=a)\n",
        "    elif pr == \"c\":\n",
        "        tt = ebayesthresh.vecbinsolv(z, ebayesthresh.beta_cauchy, 0, 10, 30, w=w)\n",
        "\n",
        "else:\n",
        "    z = 0\n",
        "    if pr == \"l\":\n",
        "        if isinstance(s, (int, float, str, bool)) and not isinstance(w, (int, float, str, bool)):\n",
        "            zz = np.array([0] * max(len(str(s)), len(w)))\n",
        "        elif not isinstance(s, (int, float, str, bool)) and isinstance(w, (int, float, str, bool)):\n",
        "            zz = np.array([0] * max(len(s), len(str(w))))\n",
        "        elif isinstance(s, (int, float, str, bool)) and isinstance(w, (int, float, str, bool)):\n",
        "            zz = np.array([0] * max(len(str(s)), len(str(w))))\n",
        "        else:\n",
        "            zz = [0] * max(len(s), len(w))\n",
        "        tt = ebayesthresh.vecbinsolv(zz, ebayesthresh.laplace_threshzero, 0, s * (25 + s * a), 30, s=s, w=w, a=a)\n",
        "    elif pr == \"c\":\n",
        "        tt = ebayesthresh.vecbinsolv(z, ebayesthresh.cauchy_threshzero, 0, 10, 30, w=w)"
      ],
      "id": "77c4a023-c639-40b7-aa4e-a9a505d602a7"
    },
    {
      "cell_type": "code",
      "execution_count": 25,
      "metadata": {},
      "outputs": [],
      "source": [
        "tt"
      ],
      "id": "5406994f-3a88-4243-bea0-30f6afd32bbd"
    },
    {
      "cell_type": "markdown",
      "metadata": {},
      "source": [
        "R코드\n",
        "\n",
        "``` r\n",
        "tfromw <- function(w, s = 1, prior = \"laplace\", bayesfac = FALSE, a = 0.5) {\n",
        "#\n",
        "#  Given the vector of weights w and s (sd), find the threshold or\n",
        "#   vector of thresholds corresponding to these weights, under the\n",
        "#   specified prior.\n",
        "#  If bayesfac=TRUE the Bayes factor thresholds are found, otherwise\n",
        "#   the posterior median thresholds are found.\n",
        "#  If the Laplace prior is used, a gives the value of the inverse scale\n",
        "#   (i.e., rate) parameter\n",
        "#\n",
        "    pr <- substring(prior, 1, 1)\n",
        "    if(bayesfac) {\n",
        "        z <- 1/w - 2\n",
        "        if(pr == \"l\"){ \n",
        "          if(length(w)>=length(s)) {\n",
        "            zz <- z\n",
        "          } else { zz <- rep(z, length(s)) }\n",
        "          tt <- vecbinsolv(zz, beta.laplace, 0, 10, s = s, a = a)\n",
        "        }\n",
        "        if(pr == \"c\")\n",
        "            tt <- vecbinsolv(z, beta.cauchy, 0, 10)\n",
        "    }\n",
        "    else {\n",
        "      z <- 0\n",
        "        if(pr == \"l\"){\n",
        "          zz <- rep(0, max(length(s), length(w)))\n",
        "                  \n",
        "          # When x/s-s*a>25, laplace.threshzero has value\n",
        "          #  close to 1/2; The boundary value of x can be\n",
        "          #  treated as the upper bound for search.\n",
        "          tt <- vecbinsolv(zz, laplace.threshzero, 0, s*(25+s*a),\n",
        "                                   s = s, w = w, a = a)\n",
        "        }\n",
        "        if(pr == \"c\")\n",
        "            tt <- vecbinsolv(z, cauchy.threshzero, 0, 10, w = w)\n",
        "    }\n",
        "    return(tt)\n",
        "}\n",
        "```\n",
        "\n",
        "결과\n",
        "\n",
        "-   Python"
      ],
      "id": "b120c66c-d73f-43e4-bea7-9749dc9b1ecd"
    },
    {
      "cell_type": "code",
      "execution_count": 26,
      "metadata": {},
      "outputs": [],
      "source": [
        "ebayesthresh.tfromw(np.array([0.05, 0.1]), s = 1)"
      ],
      "id": "d4b0444b-1034-4f31-82d1-802ca5b2aeb0"
    },
    {
      "cell_type": "code",
      "execution_count": 27,
      "metadata": {},
      "outputs": [],
      "source": [
        "ebayesthresh.tfromw(np.array([0.05, 0.1]), prior = \"cauchy\", bayesfac = True)"
      ],
      "id": "63474424-ddc0-46bb-8364-fd50bf75e62f"
    },
    {
      "cell_type": "markdown",
      "metadata": {},
      "source": [
        "-   R\n",
        "\n",
        "``` r\n",
        "> tfromw(c(0.05, 0.1), s = 1)\n",
        "[1] 3.115212 2.816306\n",
        "> tfromw(c(0.05, 0.1), prior = \"cauchy\", bayesfac = TRUE)\n",
        "[1] 3.259635 2.959740\n",
        "```\n",
        "\n",
        "# tfromx\n",
        "\n",
        "> Given a vector of data and standard deviations (sd equals 1 for Cauchy\n",
        "> prior), find the value or vector (heterogeneous sampling standard\n",
        "> deviation with Laplace prior) of thresholds corresponding to the\n",
        "> marginal maximum likelihood choice of weight.\n",
        "\n",
        "*데이터가 주어졌을때, 가중치의 한계 최대 우도로 임계값 찾는 함수*"
      ],
      "id": "37bc1286-e7f9-4a7b-82ad-8a205abbdddd"
    },
    {
      "cell_type": "code",
      "execution_count": 28,
      "metadata": {},
      "outputs": [],
      "source": [
        "x=np.array([0.05,0.1]),\n",
        "s=1\n",
        "prior=\"laplace\"\n",
        "bayesfac=False\n",
        "a=0.5\n",
        "universalthresh=True"
      ],
      "id": "310b64a8-5a86-4de0-8320-c6b034e86223"
    },
    {
      "cell_type": "code",
      "execution_count": 29,
      "metadata": {},
      "outputs": [],
      "source": [
        "pr = prior[0:1]"
      ],
      "id": "15879d8d-af17-4b65-97be-4f5783dc25ee"
    },
    {
      "cell_type": "code",
      "execution_count": 30,
      "metadata": {},
      "outputs": [],
      "source": [
        "if pr == \"c\":\n",
        "    s = 1"
      ],
      "id": "e91e1aa7-7949-496a-b647-d1f0e4ba25fb"
    },
    {
      "cell_type": "code",
      "execution_count": 31,
      "metadata": {},
      "outputs": [],
      "source": [
        "if pr == \"l\" and np.isnan(a):\n",
        "    wa = ebayesthresh.wandafromx(x, s, universalthresh)\n",
        "    w = wa['w']\n",
        "    a = wa['a']\n",
        "else:\n",
        "    w = ebayesthresh.wfromx(x, s, prior=prior, a=a)"
      ],
      "id": "556fc367-b945-4bb0-93d4-4b8e84a466e3"
    },
    {
      "cell_type": "code",
      "execution_count": 32,
      "metadata": {},
      "outputs": [],
      "source": [
        "ebayesthresh.tfromw(w, s, prior=prior, bayesfac=bayesfac, a=a)"
      ],
      "id": "02cf5a6e-0cd0-4453-b1cf-c583e4da036a"
    },
    {
      "cell_type": "markdown",
      "metadata": {},
      "source": [
        "R코드\n",
        "\n",
        "``` r\n",
        "tfromx <- function (x, s = 1, prior = \"laplace\", bayesfac = FALSE, a = 0.5,\n",
        "                    universalthresh = TRUE) {\n",
        "#\n",
        "#  Given the data x, the prior, and any other parameters, find the\n",
        "#   threshold corresponding to the marginal maximum likelihood\n",
        "#   estimator of the mixing weight.\n",
        "#\n",
        "  pr <- substring(prior, 1, 1)\n",
        "  if(pr == \"c\")\n",
        "    s = 1\n",
        "  if ( pr==\"l\" && is.na (a) ) {\n",
        "    wa <-  wandafromx(x, s, universalthresh)\n",
        "    w  <-  wa$w\n",
        "    a  <-  wa$a \n",
        "  } else {\n",
        "    w <- wfromx(x, s, prior = prior, a = a)\n",
        "  }\n",
        "  return(tfromw(w, s, prior = prior, bayesfac = bayesfac, a = a))\n",
        "}\n",
        "```\n",
        "\n",
        "결과\n",
        "\n",
        "-   Python"
      ],
      "id": "f25e698c-19a0-4b25-bbd7-a83fd36a0780"
    },
    {
      "cell_type": "code",
      "execution_count": 33,
      "metadata": {},
      "outputs": [],
      "source": [
        "ebayesthresh.tfromx(x=np.array([0.05,0.1]), s = 1, prior = \"laplace\", bayesfac = False, a = 0.5, universalthresh = True)"
      ],
      "id": "a41ad3ed-bba3-456c-84b7-065385208787"
    },
    {
      "cell_type": "code",
      "execution_count": 34,
      "metadata": {},
      "outputs": [],
      "source": [
        "ebayesthresh.tfromx(x = np.concatenate([np.random.normal(0, 1, 90), np.random.normal(5, 1, 10)]), prior = \"cauchy\")"
      ],
      "id": "fd41ae58-e558-4edb-954e-8e30c4603399"
    },
    {
      "cell_type": "markdown",
      "metadata": {},
      "source": [
        "-   R\n",
        "\n",
        "``` r\n",
        "> tfromx(x=c(0.05,0.1), s = 1, prior = \"laplace\", bayesfac = FALSE, a = 0.5,universalthresh = TRUE)\n",
        "[1] 1.17741\n",
        "> tfromx(x=c(rnorm(90, mean=0, sd=1), rnorm(10, mean=5, sd=1)), prior = \"cauchy\")\n",
        "[1] 2.301196\n",
        "```\n",
        "\n",
        "# wpost_laplace\n",
        "\n",
        "> Calculate the posterior weight for non-zero effect\n",
        "\n",
        "-   0이 아닌 효과에 대한 사후 가중치 계산"
      ],
      "id": "4c25aa61-3e6b-4f88-af81-b4f2a4ad5b8a"
    },
    {
      "cell_type": "code",
      "execution_count": 35,
      "metadata": {},
      "outputs": [],
      "source": [
        "ㅈ = 0.5\n",
        "x = np.array([-2,1,0,-4,8,50])\n",
        "s = 1\n",
        "a = 0.5"
      ],
      "id": "7a7f72af-2f77-4d52-a920-bc3ba542831b"
    },
    {
      "cell_type": "code",
      "execution_count": 36,
      "metadata": {},
      "outputs": [],
      "source": [
        "laplace_beta = ebayesthresh.beta_laplace(x, s, a)\n",
        "laplace_beta"
      ],
      "id": "4da89605-18ee-4b80-970a-654875db9779"
    },
    {
      "cell_type": "code",
      "execution_count": 37,
      "metadata": {},
      "outputs": [],
      "source": [
        "1 - (1 - w) / (1 + w * laplace_beta)"
      ],
      "id": "c6e8bcee-8887-4576-bfaa-f2334aee3083"
    },
    {
      "cell_type": "markdown",
      "metadata": {},
      "source": [
        "R코드\n",
        "\n",
        "``` r\n",
        "wpost.laplace <- function(w, x, s = 1, a = 0.5)\n",
        "#\n",
        "#  Calculate the posterior weight for non-zero effect\n",
        "#\n",
        "  1 - (1 - w)/(1 + w * beta.laplace(x, s, a))\n",
        "```\n",
        "\n",
        "결과\n",
        "\n",
        "-   Python"
      ],
      "id": "3ba58fef-1e9f-4cee-93e3-dac879fe1cd2"
    },
    {
      "cell_type": "code",
      "execution_count": 38,
      "metadata": {},
      "outputs": [],
      "source": [
        "ebayesthresh.wpost_laplace(0.5,np.array([-2,1,0,-4,8,50]))"
      ],
      "id": "def1cb56-68a3-4b8d-9b26-4f0b41967eb6"
    },
    {
      "cell_type": "markdown",
      "metadata": {},
      "source": [
        "-   R\n",
        "\n",
        "이베이즈 깃헙에 있는데 R 패키지에는 없음.\n",
        "\n",
        "# zetafromx\n",
        "\n",
        "Description\n",
        "\n",
        "> Suppose a sequence of data has underlying mean vector with elements\n",
        "> $\\theta_i$. Given the sequence of data, and a vector of scale factors\n",
        "> cs and a lower limit pilo, this routine finds the marginal maximum\n",
        "> likelihood estimate of the parameter zeta such that the prior\n",
        "> probability of $\\theta_i$ being nonzero is of the form median(pilo,\n",
        "> zeta\\*cs, 1).\n",
        "\n",
        "*파라메터 제타의 최대 우도 추정치 계산*"
      ],
      "id": "c8191ac5-e6ed-4dad-bcbd-6e1b87291305"
    },
    {
      "cell_type": "code",
      "execution_count": 39,
      "metadata": {},
      "outputs": [],
      "source": [
        "xd = np.array([-2,1,0,-4,8,50])\n",
        "cs = np.array([2,3,5,6,1,-1])\n",
        "pilo = None\n",
        "prior=\"laplace\"\n",
        "# priir=\"c\"\n",
        "a=0.5"
      ],
      "id": "5b91e931-72bd-4852-bb53-9d5725b17699"
    },
    {
      "cell_type": "code",
      "execution_count": 40,
      "metadata": {},
      "outputs": [],
      "source": [
        "pr = prior[0:1]\n",
        "pr"
      ],
      "id": "9c7f843e-f94c-4946-b7c7-afd88dd83479"
    },
    {
      "cell_type": "code",
      "execution_count": 41,
      "metadata": {},
      "outputs": [],
      "source": [
        "nx = len(xd)\n",
        "nx"
      ],
      "id": "ef0df944-2d23-4cf5-a311-20f2cb094daa"
    },
    {
      "cell_type": "code",
      "execution_count": 42,
      "metadata": {},
      "outputs": [],
      "source": [
        "if pilo is None:\n",
        "    pilo = ebayesthresh.wfromt(np.sqrt(2 * np.log(len(xd))), prior=prior, a=a)"
      ],
      "id": "8aa218ae-692e-44d1-b0a3-210b51d9e542"
    },
    {
      "cell_type": "code",
      "execution_count": 43,
      "metadata": {},
      "outputs": [],
      "source": [
        "pilo"
      ],
      "id": "7cd451ea-8d3f-4304-8bfd-f4dc90570c1b"
    },
    {
      "cell_type": "code",
      "execution_count": 44,
      "metadata": {},
      "outputs": [],
      "source": [
        "if pr == \"l\":\n",
        "    beta = ebayesthresh.beta_laplace(xd, a=a)\n",
        "elif pr == \"c\":\n",
        "    beta = ebayesthresh.beta_cauchy(xd)"
      ],
      "id": "be39a1e5-d7b1-4731-b974-f2e3b5cb6e55"
    },
    {
      "cell_type": "code",
      "execution_count": 45,
      "metadata": {},
      "outputs": [],
      "source": [
        "beta"
      ],
      "id": "5524b7e6-52dc-42f4-b214-af23583f33ed"
    },
    {
      "cell_type": "code",
      "execution_count": 46,
      "metadata": {},
      "outputs": [],
      "source": [
        "zs1 = pilo / cs\n",
        "zs1"
      ],
      "id": "a0ca53c8-2197-477d-a635-43685654b340"
    },
    {
      "cell_type": "code",
      "execution_count": 47,
      "metadata": {},
      "outputs": [],
      "source": [
        "zs2 = 1 / cs\n",
        "zs2"
      ],
      "id": "5de5a5d9-de9a-4d41-a743-3324cbf9b78e"
    },
    {
      "cell_type": "code",
      "execution_count": 48,
      "metadata": {},
      "outputs": [],
      "source": [
        "zj = np.sort(np.unique(np.concatenate((zs1, zs2))))\n",
        "zj"
      ],
      "id": "eeaaecd6-5fea-44eb-873f-3687eb53362e"
    },
    {
      "cell_type": "code",
      "execution_count": 49,
      "metadata": {},
      "outputs": [],
      "source": [
        "cb = cs * beta\n",
        "cb"
      ],
      "id": "86681619-8e0f-4586-8783-04edcdbd25c6"
    },
    {
      "cell_type": "code",
      "execution_count": 50,
      "metadata": {},
      "outputs": [],
      "source": [
        "mz = len(zj)\n",
        "mz"
      ],
      "id": "d272598a-fd8a-447e-a94a-53c7fc76b361"
    },
    {
      "cell_type": "code",
      "execution_count": 51,
      "metadata": {},
      "outputs": [],
      "source": [
        "zlmax = None\n",
        "zlmax"
      ],
      "id": "f1ded7f9-2df3-43a0-8fda-e4c8619d0192"
    },
    {
      "cell_type": "code",
      "execution_count": 52,
      "metadata": {},
      "outputs": [],
      "source": [
        "lmin = np.zeros(mz, dtype=bool)\n",
        "lmin"
      ],
      "id": "62284f9f-9c06-4faf-9ed4-e27aacdd3170"
    },
    {
      "cell_type": "code",
      "execution_count": 53,
      "metadata": {},
      "outputs": [],
      "source": [
        "for j in range(1, mz - 1):\n",
        "    ze = zj[j]\n",
        "    cbil = cb[(ze > zs1) & (ze <= zs2)]\n",
        "    ld = np.sum(cbil / (1 + ze * cbil))\n",
        "    if ld <= 0:\n",
        "        cbir = cb[(ze >= zs1) & (ze < zs2)]\n",
        "        rd = np.sum(cbir / (1 + ze * cbir))\n",
        "        lmin[j] = rd >= 0"
      ],
      "id": "1b10107d-797b-4ed5-984f-8e331fd5775d"
    },
    {
      "cell_type": "code",
      "execution_count": 54,
      "metadata": {},
      "outputs": [],
      "source": [
        "cbir = cb[zj[0] == zs1]\n",
        "cbir"
      ],
      "id": "efbe827d-a278-4d92-be0e-ddc915800c86"
    },
    {
      "cell_type": "code",
      "execution_count": 55,
      "metadata": {},
      "outputs": [],
      "source": [
        "rd = np.sum(cbir / (1 + zj[0] * cbir))\n",
        "rd"
      ],
      "id": "7917d593-1d8f-4b3e-a345-465d578d6354"
    },
    {
      "cell_type": "code",
      "execution_count": 56,
      "metadata": {},
      "outputs": [],
      "source": [
        "if rd > 0:\n",
        "    lmin[0] = True\n",
        "else:\n",
        "    zlmax = zj[0]"
      ],
      "id": "9f0c1a67-5ac2-4560-93f4-2320c71f3cc1"
    },
    {
      "cell_type": "code",
      "execution_count": 57,
      "metadata": {},
      "outputs": [],
      "source": [
        "cbil = cb[zj[mz - 1] == zs2]\n",
        "cbil"
      ],
      "id": "b79af5d9-a6f6-4514-bfe0-84c2b00f5361"
    },
    {
      "cell_type": "code",
      "execution_count": 58,
      "metadata": {},
      "outputs": [],
      "source": [
        "ld = np.sum(cbil / (1 + zj[mz - 1] * cbil))\n",
        "ld"
      ],
      "id": "88ec8228-9c2c-4b38-b674-6f3d1cd260f9"
    },
    {
      "cell_type": "code",
      "execution_count": 59,
      "metadata": {},
      "outputs": [],
      "source": [
        "if ld < 0:\n",
        "    lmin[mz - 1] = True\n",
        "else:\n",
        "    zlmax = zj[mz - 1]"
      ],
      "id": "cf4bc128-4408-4ac2-9c80-b66fffba688b"
    },
    {
      "cell_type": "code",
      "execution_count": 60,
      "metadata": {},
      "outputs": [],
      "source": [
        "zlmin = zj[lmin]\n",
        "zlmin"
      ],
      "id": "7126b557-118a-4182-9cb6-c42a5d8d819a"
    },
    {
      "cell_type": "code",
      "execution_count": 61,
      "metadata": {},
      "outputs": [],
      "source": [
        "nlmin = len(zlmin)\n",
        "nlmin"
      ],
      "id": "f4f11400-8560-492f-b435-2fc56c4ea487"
    },
    {
      "cell_type": "code",
      "execution_count": 62,
      "metadata": {},
      "outputs": [],
      "source": [
        "for j in range(1, nlmin):\n",
        "    zlo = zlmin[j - 1]\n",
        "    zhi = zlmin[j]\n",
        "    ze = (zlo + zhi) / 2\n",
        "    zstep = (zhi - zlo) / 2\n",
        "    for nit in range(10):\n",
        "        cbi = cb[(ze >= zs1) & (ze <= zs2)]\n",
        "        likd = np.sum(cbi / (1 + ze * cbi))\n",
        "        zstep /= 2\n",
        "        ze += zstep * np.sign(likd)\n",
        "    zlmax = np.append(zlmax, ze)"
      ],
      "id": "dc6ab330-20e8-4cff-9633-bca373b23ca9"
    },
    {
      "cell_type": "code",
      "execution_count": 63,
      "metadata": {},
      "outputs": [],
      "source": [
        "nlmax = len(zlmax)\n",
        "nlmax"
      ],
      "id": "07f7e29e-8070-42d2-aeda-1f1db424decd"
    },
    {
      "cell_type": "code",
      "execution_count": 64,
      "metadata": {},
      "outputs": [],
      "source": [
        "zm = np.empty(nlmax)\n",
        "zm"
      ],
      "id": "169849aa-adf7-49c8-ae06-e90e025edc4a"
    },
    {
      "cell_type": "code",
      "execution_count": 65,
      "metadata": {},
      "outputs": [],
      "source": [
        "for j in range(nlmax):\n",
        "    pz = np.maximum(zs1, np.minimum(zlmax[j], zs2))\n",
        "    zm[j] = np.sum(np.log(1 + cb * pz))"
      ],
      "id": "b433c266-d1a0-4b41-9428-9b07212fdb23"
    },
    {
      "cell_type": "code",
      "execution_count": 66,
      "metadata": {},
      "outputs": [],
      "source": [
        "pz"
      ],
      "id": "1dbf4015-f214-4172-b310-e3f97f1ad1ee"
    },
    {
      "cell_type": "code",
      "execution_count": 67,
      "metadata": {},
      "outputs": [],
      "source": [
        "zm"
      ],
      "id": "92f1ea15-0ec1-4f15-b1d3-5fadc929a4bc"
    },
    {
      "cell_type": "code",
      "execution_count": 68,
      "metadata": {},
      "outputs": [],
      "source": [
        "zeta = zlmax[zm == np.max(zm)]\n",
        "zeta"
      ],
      "id": "9be69d5d-f4c4-45cc-ad97-bc9e00bed4f8"
    },
    {
      "cell_type": "code",
      "execution_count": 69,
      "metadata": {},
      "outputs": [],
      "source": [
        "zeta = np.min(zeta)\n",
        "zeta"
      ],
      "id": "225f2b93-45ab-4c06-9224-3f04339f236e"
    },
    {
      "cell_type": "code",
      "execution_count": 70,
      "metadata": {},
      "outputs": [],
      "source": [
        "w = np.minimum(1, np.maximum(zeta * cs, pilo))\n",
        "w"
      ],
      "id": "4b244ca9-359f-426e-bd48-f64214f459ce"
    },
    {
      "cell_type": "markdown",
      "metadata": {},
      "source": [
        "R 코드\n",
        "\n",
        "``` r\n",
        "zetafromx <- function(xd, cs, pilo = NA, prior = \"laplace\", a = 0.5) {\n",
        "#\n",
        "#  Given a sequence xd, a vector of scale factors cs and\n",
        "#   a lower limit pilo, find the marginal maximum likelihood\n",
        "#   estimate of the parameter zeta such that the prior prob\n",
        "#   is of the form median( pilo, zeta*cs, 1)\n",
        "#\n",
        "#  If pilo=NA then it is calculated according to the sample size\n",
        "#   to corrrespond to the universal threshold\n",
        "#  \n",
        "#  Find the beta values and the minimum weight if necessary\n",
        "#\n",
        "#  Current version allows for standard deviation of 1 only.\n",
        "#\n",
        "    pr <- substring(prior, 1, 1)\n",
        "    nx <- length(xd)\n",
        "    if (is.na(pilo))\n",
        "          pilo <- wfromt(sqrt(2 * log(length(xd))), prior=prior, a=a)\n",
        "    if(pr == \"l\")\n",
        "      beta <- beta.laplace(xd, a=a)\n",
        "    if(pr == \"c\") beta <- beta.cauchy(xd)\n",
        "#\n",
        "#  Find jump points zj in derivative of log likelihood as function\n",
        "#    of z, and other preliminary calculations\n",
        "#\n",
        "    zs1 <- pilo/cs\n",
        "    zs2 <- 1/cs\n",
        "    zj <- sort(unique(c(zs1, zs2)))\n",
        "    cb <- cs * beta\n",
        "    mz <- length(zj)\n",
        "    zlmax <- NULL\n",
        "        \n",
        "#  Find left and right derivatives at each zj and check which are\n",
        "#  local minima Check internal zj first\n",
        "    lmin <- rep(FALSE, mz)\n",
        "    for(j in (2:(mz - 1))) {\n",
        "        ze <- zj[j]\n",
        "        cbil <- cb[(ze > zs1) & (ze <= zs2)]\n",
        "        ld <- sum(cbil/(1 + ze * cbil))\n",
        "        if(ld <= 0) {\n",
        "            cbir <- cb[(ze >= zs1) & (ze < zs2)]\n",
        "            rd <- sum(cbir/(1 + ze * cbir))\n",
        "            lmin[j] <- (rd >= 0)\n",
        "        }\n",
        "    }\n",
        "#\n",
        "#  Deal with the two end points in turn, finding right deriv\n",
        "#   at lower end and left deriv at upper\n",
        "#\n",
        "#  In each case the corresponding end point is either a local min\n",
        "#   or a local max depending on the sign of the relevant deriv\n",
        "#\n",
        "    cbir <- cb[zj[1] == zs1]\n",
        "    rd <- sum(cbir/(1 + zj[1] * cbir))\n",
        "    if(rd > 0) lmin[1] <- TRUE else zlmax <- zj[1]\n",
        "    cbil <- cb[zj[mz] == zs2]\n",
        "    ld <- sum(cbil/(1 + zj[mz] * cbil))\n",
        "    if(ld < 0) lmin[mz] <- TRUE else zlmax <- zj[mz]\n",
        "        \n",
        "#  Flag all local minima and do a binary search between them to find\n",
        "#  the local maxima\n",
        "#\n",
        "    zlmin <- zj[lmin]\n",
        "    nlmin <- length(zlmin)\n",
        "    if(nlmin >= 2) for(j in (2:nlmin)) {\n",
        "            zlo <- zlmin[j - 1]\n",
        "            zhi <- zlmin[j]\n",
        "            ze <- (zlo + zhi)/2\n",
        "            zstep <- (zhi - zlo)/2\n",
        "            for(nit in (1:10)) {\n",
        "                cbi <- cb[(ze >= zs1) & (ze <= zs2)]\n",
        "                likd <- sum(cbi/(1 + ze * cbi))\n",
        "                zstep <- zstep/2\n",
        "                ze <- ze + zstep * sign(likd)\n",
        "            }\n",
        "            zlmax <- c(zlmax, ze)\n",
        "        }\n",
        "#\n",
        "#  Evaluate all local maxima and find global max; use smaller value\n",
        "#   if there is an exact tie for the global maximum.\n",
        "#\n",
        "    nlmax <- length(zlmax)\n",
        "    zm <- rep(NA, nlmax)\n",
        "    for(j in (1:nlmax)) {\n",
        "        pz <- pmax(zs1, pmin(zlmax[j], zs2))\n",
        "        zm[j] <- sum(log(1 + cb * pz))\n",
        "    }\n",
        "    zeta <- zlmax[zm == max(zm)]\n",
        "    zeta <- min(zeta)\n",
        "    w <- pmin(1, pmax(zeta*cs, pilo)) \n",
        "    return(list(zeta=zeta, w=w, cs=cs, pilo=pilo))\n",
        "}\n",
        "```\n",
        "\n",
        "결과\n",
        "\n",
        "-   Python"
      ],
      "id": "05a19ca7-5a70-457e-b02b-8dac711c0c64"
    },
    {
      "cell_type": "code",
      "execution_count": 71,
      "metadata": {},
      "outputs": [],
      "source": [
        "ebayesthresh.zetafromx(np.array([-2,1,0,-4,8,50]),np.array([2,3,5,6,1,-1]))"
      ],
      "id": "e056ec31-2f03-4ee7-8f6b-0b2262608d98"
    },
    {
      "cell_type": "markdown",
      "metadata": {},
      "source": [
        "-   R\n",
        "\n",
        "``` r\n",
        "> zetafromx(c(-2,1,0,-4,8,50),c(2,3,5,6,1,-1))\n",
        "$zeta\n",
        "[1] 1\n",
        "\n",
        "$w\n",
        "[1] 1.000000 1.000000 1.000000 1.000000 1.000000 0.412115\n",
        "\n",
        "$cs\n",
        "[1]  2  3  5  6  1 -1\n",
        "\n",
        "$pilo\n",
        "[1] 0.412115\n",
        "```\n",
        "\n",
        "------------------------------------------------------------------------\n",
        "\n",
        "# Layer"
      ],
      "id": "aa6a5eb9-d4fb-4d7d-a50e-dfc681580b88"
    },
    {
      "cell_type": "code",
      "execution_count": 33,
      "metadata": {},
      "outputs": [],
      "source": [
        "import torch\n",
        "import torch.nn as nn\n",
        "import torch.nn.functional as F\n",
        "import matplotlib.pyplot as plt"
      ],
      "id": "792b3741-240a-460f-9626-5d496d46839d"
    },
    {
      "cell_type": "code",
      "execution_count": 6,
      "metadata": {},
      "outputs": [],
      "source": [
        "def make_Psi(T):\n",
        "    W = np.zeros((T,T))\n",
        "    for i in range(T):\n",
        "        for j in range(T):\n",
        "            if i==j :\n",
        "                W[i,j] = 0\n",
        "            elif np.abs(i-j) <= 1 : \n",
        "                W[i,j] = 1\n",
        "    d = np.array(W.sum(axis=1))\n",
        "    D = np.diag(d)\n",
        "    L = np.array(np.diag(1/np.sqrt(d)) @ (D-W) @ np.diag(1/np.sqrt(d)))\n",
        "    lamb, Psi = np.linalg.eigh(L)\n",
        "    return Psi"
      ],
      "id": "a35b6538-891e-4dd1-b279-deae4cbd7710"
    },
    {
      "cell_type": "code",
      "execution_count": 7,
      "metadata": {},
      "outputs": [
        {
          "output_type": "display_data",
          "metadata": {},
          "data": {
            "image/png": "[encoded data removed]"
          }
        }
      ],
      "source": [
        "T = 100\n",
        "t = np.arange(T)/T * 10\n",
        "y_true = 3*np.sin(0.5*t) + 1.2*np.sin(1.0*t) + 0.5*np.sin(1.2*t) \n",
        "y = y_true + np.random.normal(size=T)\n",
        "plt.figure(figsize=(10,6))\n",
        "plt.plot(t,y_true)"
      ],
      "id": "68c6ae49-e2c8-4e9a-ae5e-bd7e9d0832bb"
    },
    {
      "cell_type": "code",
      "execution_count": 8,
      "metadata": {},
      "outputs": [
        {
          "output_type": "display_data",
          "metadata": {},
          "data": {
            "image/png": "[encoded data removed]"
          }
        }
      ],
      "source": [
        "plt.plot(t,y,'o')\n",
        "plt.plot(t,y_true,'--')"
      ],
      "id": "76f4e9de-3bd3-48fa-8692-3e074788526b"
    },
    {
      "cell_type": "code",
      "execution_count": 9,
      "metadata": {},
      "outputs": [],
      "source": [
        "f = np.array(y)\n",
        "if len(f.shape)==1: f = f.reshape(-1,1)\n",
        "T,N = f.shape\n",
        "Psi = make_Psi(T)\n",
        "fbar = Psi.T @ f # apply dft "
      ],
      "id": "4e61d9cf-4665-44e6-9abd-de41aada06cb"
    },
    {
      "cell_type": "code",
      "execution_count": 10,
      "metadata": {},
      "outputs": [
        {
          "output_type": "display_data",
          "metadata": {},
          "data": {
            "image/png": "[encoded data removed]"
          }
        }
      ],
      "source": [
        "plt.plot(t,fbar**2) # periodogram "
      ],
      "id": "dbcab11e-3834-4388-9dbe-ebba699b5170"
    },
    {
      "cell_type": "code",
      "execution_count": 11,
      "metadata": {},
      "outputs": [],
      "source": [
        "fbar_threshed = ebayesthresh.ebayesthresh(fbar[:,0])"
      ],
      "id": "89fcd9dc-bfaa-4e54-bd14-5134fd2ef70f"
    },
    {
      "cell_type": "code",
      "execution_count": 12,
      "metadata": {},
      "outputs": [
        {
          "output_type": "display_data",
          "metadata": {},
          "data": {
            "image/png": "[encoded data removed]"
          }
        }
      ],
      "source": [
        "# fbar_threshed = np.stack([ebayesthresh(FloatVector(fbar[:,i])) for i in range(N)],axis=1)\n",
        "plt.plot((fbar**2)) # periodogram \n",
        "plt.plot((fbar_threshed**2)) \n"
      ],
      "id": "d1b529f6-aac6-444f-8ad0-d912dee7779d"
    },
    {
      "cell_type": "code",
      "execution_count": 13,
      "metadata": {},
      "outputs": [
        {
          "output_type": "display_data",
          "metadata": {},
          "data": {
            "image/png": "[encoded data removed]"
          }
        }
      ],
      "source": [
        "plt.plot((fbar**2)[20:80]) # periodogram \n",
        "plt.plot((fbar_threshed**2)[20:80]) "
      ],
      "id": "b413e3e9-0976-497a-bb23-4e66b4fd06ff"
    },
    {
      "cell_type": "code",
      "execution_count": 14,
      "metadata": {},
      "outputs": [
        {
          "output_type": "display_data",
          "metadata": {},
          "data": {
            "image/png": "[encoded data removed]"
          }
        }
      ],
      "source": [
        "yhat = Psi @ fbar_threshed # inverse dft\n",
        "plt.figure(figsize=(10,6))\n",
        "plt.plot(t,y,'.')\n",
        "plt.plot(t,y_true,'--')\n",
        "plt.plot(t,yhat)"
      ],
      "id": "80db53fc-8399-49d7-bea0-675fd81e1b01"
    },
    {
      "cell_type": "code",
      "execution_count": 17,
      "metadata": {},
      "outputs": [],
      "source": [
        "class ebayesthresh_nn(torch.nn.Module):\n",
        "    def __init__(self):\n",
        "        super().__init__()\n",
        "    def forward(self,input):\n",
        "        return ebayesthresh.ebayesthresh(input)"
      ],
      "id": "499d301e-35e6-4c6f-a75c-67440f1a76bc"
    },
    {
      "cell_type": "code",
      "execution_count": 18,
      "metadata": {},
      "outputs": [],
      "source": [
        "thresh_layer = ebayesthresh_nn()"
      ],
      "id": "0f247663-39e8-4a79-9d13-201e5d6f0bc1"
    },
    {
      "cell_type": "code",
      "execution_count": 19,
      "metadata": {},
      "outputs": [
        {
          "output_type": "display_data",
          "metadata": {},
          "data": {
            "image/png": "[encoded data removed]"
          }
        }
      ],
      "source": [
        "plt.plot(fbar[:,0])"
      ],
      "id": "10c15875-a5de-4349-8254-73e075490218"
    },
    {
      "cell_type": "code",
      "execution_count": 20,
      "metadata": {},
      "outputs": [
        {
          "output_type": "display_data",
          "metadata": {},
          "data": {
            "image/png": "[encoded data removed]"
          }
        }
      ],
      "source": [
        "plt.plot(thresh_layer(fbar[:,0]))"
      ],
      "id": "e4010662-d50d-48ba-a870-00cf52dafeb2"
    }
  ],
  "nbformat": 4,
  "nbformat_minor": 5,
  "metadata": {
    "kernelspec": {
      "name": "python3",
      "display_name": "Python 3",
      "language": "python"
    },
    "language_info": {
      "name": "python",
      "codemirror_mode": {
        "name": "ipython",
        "version": "3"
      },
      "file_extension": ".py",
      "mimetype": "text/x-python",
      "nbconvert_exporter": "python",
      "pygments_lexer": "ipython3",
      "version": "3.8.0"
    }
  }
}