{
  "cells": [
    {
      "cell_type": "markdown",
      "metadata": {},
      "source": [
        "# EbayesThresh Python화 시도\n",
        "\n",
        "SEOYEON CHOI  \n",
        "2024-06-01\n",
        "\n",
        "https://cran.r-project.org/web/packages/EbayesThresh/EbayesThresh.pdf\n",
        "\n",
        "-   R코드 Python화\n",
        "    -   R코드 결과와 비교하면서\n",
        "\n",
        "# Import"
      ],
      "id": "e6cdc1a3-ffd9-4fb9-bb83-9eea96108652"
    },
    {
      "cell_type": "code",
      "execution_count": 1,
      "metadata": {},
      "outputs": [],
      "source": [
        "import numpy as np\n",
        "import matplotlib.pyplot as plt\n",
        "import EbayesThresh"
      ],
      "id": "7b74dbea-662a-4ddf-b71f-b5ad0edf1778"
    },
    {
      "cell_type": "markdown",
      "metadata": {},
      "source": [
        "`beta.cauchy`\n",
        "\n",
        "> Given a value or vector x of values, find the value(s) of the function\n",
        "> $\\beta(x) = g(x)/\\phi(x) − 1$, where $g$ is the convolution of the\n",
        "> quasi-Cauchy with the normal density $\\phi(x)$.\n",
        "\n",
        "*x가 입력되면 코시 분포와 정규 분포를 혼합해서 함수 베타 구하기*"
      ],
      "id": "7794b901-9f49-4b28-9bfc-e60cd9704004"
    },
    {
      "cell_type": "code",
      "execution_count": 2,
      "metadata": {},
      "outputs": [
        {
          "output_type": "stream",
          "name": "stderr",
          "text": [
            "/home/csy/Dropbox/sy_hub/posts/1_Note/EbayesThresh/utils.py:25: RuntimeWarning: divide by zero encountered in divide\n",
            "  beta[j] = (norm.pdf(0) / phix[j] - 1) / (x[j] ** 2) - 1"
          ]
        }
      ],
      "source": [
        "EbayesThresh.beta_cauchy(np.array([-2,1,0,-4,8,50]))"
      ],
      "id": "bb4b9c53-44e8-45a2-9eb9-abc205f9729e"
    },
    {
      "cell_type": "code",
      "execution_count": 3,
      "metadata": {},
      "outputs": [
        {
          "output_type": "display_data",
          "metadata": {},
          "data": {
            "image/png": "[encoded data removed]"
          }
        }
      ],
      "source": [
        "plt.plot(EbayesThresh.beta_cauchy(np.array([-2,1,0,-4,8,50])))"
      ],
      "id": "cc2dcfa6-7be4-4f88-b3d6-d97c8a420941"
    },
    {
      "cell_type": "markdown",
      "metadata": {},
      "source": [
        "`beta.laplace`\n",
        "\n",
        "> Given a single value or a vector of $x$ and $s$, find the value(s) of\n",
        "> the function $\\beta(x; s, a) = \\frac{g(x; s, a)}{f_n(x; 0, s)}−1$,\n",
        "> where $f_n(x; 0, s)$ is the normal density with mean $0$ and standard\n",
        "> deviation $s$, and $g$ is the convolution of the Laplace density with\n",
        "> scale parameter a, $γa(\\mu)$, with the normal density $f_n(x; µ, s)$\n",
        "> with mean mu and standard deviation $s$.\n",
        "\n",
        "*평균이 $\\mu$이며, 스케일 파라메터 a를 가진 라플라스와 정규분포의\n",
        "합성함수 $g$와 평균이 0이고 표준편차가s인 f로 계산되는 함수 베타*"
      ],
      "id": "eac6aef0-a53c-41ac-801c-e86f1522847d"
    },
    {
      "cell_type": "code",
      "execution_count": 4,
      "metadata": {},
      "outputs": [],
      "source": [
        "EbayesThresh.beta_laplace(np.array([-2,1,0,-4,8,50]),s=1)"
      ],
      "id": "bb7f3af1-e452-4b76-ab27-56d9c1c2c5a8"
    },
    {
      "cell_type": "code",
      "execution_count": 5,
      "metadata": {},
      "outputs": [
        {
          "output_type": "display_data",
          "metadata": {},
          "data": {
            "image/png": "[encoded data removed]"
          }
        }
      ],
      "source": [
        "plt.plot(EbayesThresh.beta_laplace(np.array([-2,1,0,-4,8,50]),s=1))"
      ],
      "id": "19367d57-8773-42af-9231-9bece6af27dd"
    },
    {
      "cell_type": "code",
      "execution_count": 6,
      "metadata": {},
      "outputs": [
        {
          "output_type": "stream",
          "name": "stdout",
          "text": [
            "[ 8.90821055e-001 -1.62658317e-001 -3.44320458e-001  1.11763852e+002\n",
            "  5.47362128e+010  1.26890791e+266]\n",
            "[-3.97301589e-002 -1.29919250e-001 -1.57261541e-001  4.89966520e-001\n",
            "  1.72626254e+001  1.86200309e+115]\n",
            "[-5.47817038e-02 -7.85266727e-02 -8.62291039e-02  5.07055851e-02\n",
            "  7.25566365e-01  1.35975389e+41]\n",
            "[-4.17233012e-02 -5.04965878e-02 -5.33904683e-02 -5.20319315e-03\n",
            "  1.67493780e-01  2.44910886e+16]\n",
            "[-3.07299814e-02 -3.46568340e-02 -3.59594764e-02 -1.47336507e-02\n",
            "  5.42137177e-02  1.68155326e+06]\n",
            "[-2.30695463e-02 -2.50691640e-02 -2.57340346e-02 -1.49952854e-02\n",
            "  1.85602410e-02  1.12493577e+02]"
          ]
        },
        {
          "output_type": "stream",
          "name": "stderr",
          "text": [
            "/home/csy/Dropbox/sy_hub/posts/1_Note/EbayesThresh/utils.py:46: RuntimeWarning: divide by zero encountered in divide\n",
            "  rat2 = 1/np.abs(xma)"
          ]
        }
      ],
      "source": [
        "for i in range(1,7):\n",
        "    print(EbayesThresh.beta_laplace(np.array([-2,1,0,-4,8,50]),s=i,a=1))"
      ],
      "id": "aa84d058-0b5e-4d2f-a152-410f7da2f78b"
    },
    {
      "cell_type": "markdown",
      "metadata": {},
      "source": [
        "`-` R 결과 비교\n",
        "\n",
        "``` r\n",
        "[1]   0.890821055  -0.129919250  -0.086229104  -0.005203193   0.054213718 112.493576777\n",
        "```\n",
        "\n",
        "`Mad(Median Absolute Deviation)`\n",
        "\n",
        "> 중앙값 절대 편차, 분산이나 퍼진 정도 확인 가능"
      ],
      "id": "c4f748ff-e192-4dfe-94f1-1effe1ae3aa3"
    },
    {
      "cell_type": "code",
      "execution_count": 7,
      "metadata": {},
      "outputs": [],
      "source": [
        "EbayesThresh.mad(np.array([1, 2, 3, 3, 4, 4, 4, 5, 5.5, 6, 6, 6.5, 7, 7, 7.5, 8, 9, 12, 52, 90]))"
      ],
      "id": "96c83ff1-b6fa-412a-abea-7dd9726c7431"
    },
    {
      "cell_type": "markdown",
      "metadata": {},
      "source": [
        "`wfromt`\n",
        "\n",
        "> Given a value or vector of thresholds and sampling standard deviations\n",
        "> (sd equals 1 for Cauchy prior), find the mixing weight for which this\n",
        "> is(these are) the threshold(s) of the posterior median estimator. If a\n",
        "> vector of threshold values is provided, the vector of corresponding\n",
        "> weights is returned.\n",
        "\n",
        "*주어진 임계값과 표준편차에 대해, posterior median estimator에서 이\n",
        "임계값이 나오도록 하는 혼합 가중치를 계산하는 함수가 제공된다.*"
      ],
      "id": "230426f3-7d2b-4128-8d68-1806ba3d045a"
    },
    {
      "cell_type": "code",
      "execution_count": 8,
      "metadata": {},
      "outputs": [],
      "source": [
        "EbayesThresh.wfromt(np.array([2,3,5]),prior='cachy')"
      ],
      "id": "73b44642-ca91-4f3a-a22b-1e8e52944e63"
    },
    {
      "cell_type": "markdown",
      "metadata": {},
      "source": [
        "`wfromx`\n",
        "\n",
        "> Suppose the vector $(x_1, \\cdots, x_n)$ is such that $x_i$ is drawn\n",
        "> independently from a normal distribution with mean $\\theta_i$ and\n",
        "> standard deviation $s_i$ ($s_i$ equals $1$ for Cauchy prior). The\n",
        "> prior distribution of the $\\theta_i$ is a mixture with probability\n",
        "> $1 − w$ of zero and probability $w$ of a given symmetric heavy-tailed\n",
        "> distribution. This routine finds the marginal maximum likelihood\n",
        "> estimate of the parameter $w$.\n",
        "\n",
        "*주어진 정규 분포 데이터에 대해 $\\theta_𝑖$의 사전 분포가 주어진\n",
        "상황에서, 모수 $w$의 최대우도 추정치를 계산하는 방법을 제공한다*"
      ],
      "id": "d6e616c1-9d82-42de-b7e9-4918bd5f558e"
    },
    {
      "cell_type": "code",
      "execution_count": 20,
      "metadata": {},
      "outputs": [],
      "source": [
        "s = np.array([0] * 90 + [5] * 10)\n",
        "x = np.random.normal(0, s, size=100)"
      ],
      "id": "314626a3-6dc7-419e-a17a-b4e9b17bb98e"
    },
    {
      "cell_type": "code",
      "execution_count": 21,
      "metadata": {},
      "outputs": [],
      "source": [
        "EbayesThresh.wfromx(x, prior = \"cauchy\")"
      ],
      "id": "fc57fdd3-8daf-4885-8e93-6d2b0a9a2bda"
    },
    {
      "cell_type": "markdown",
      "metadata": {},
      "source": [
        "`isotone`\n",
        "\n",
        "> Isotonic Regression은 입력 변수에 따른 출력 변수의 단조 증가(monotonic\n",
        "> increasing) 또는 감소(monotonic decreasing) 패턴을 찾는 방법"
      ],
      "id": "63a3008e-0787-45af-afa4-b96cfee1c9f4"
    },
    {
      "cell_type": "code",
      "execution_count": 9,
      "metadata": {},
      "outputs": [],
      "source": [
        "beta = EbayesThresh.beta_cauchy(np.array([-2,1,0,-4]))\n",
        "w = np.ones(len(beta))\n",
        "aa = w + 1/beta\n",
        "ps = w + aa\n",
        "ww = 1/aa**2\n",
        "wnew = EbayesThresh.isotone(ps, ww, increasing = False)\n",
        "wnew"
      ],
      "id": "50d3f97e-3039-4325-98ab-205c5eacc612"
    },
    {
      "cell_type": "markdown",
      "metadata": {},
      "source": [
        "`wmonfromx`\n",
        "\n",
        "> Given a vector of data, find the marginal maximum likelihood choice of\n",
        "> weight sequence subject to the constraints that the weights are\n",
        "> monotone decreasing\n",
        "\n",
        "*데이터에 대해 가중치 시퀀스를 선택하는 과정에서 조건이 주어지는데, 이\n",
        "가중치 시퀀스는 각각의 가중치 값이 단조 감소해야 하며, 주어진 데이터에\n",
        "대한 최대 우도를 갖도록 선택되어야 함.*"
      ],
      "id": "14a91abb-357b-4e09-9658-c7a764e0bbf1"
    },
    {
      "cell_type": "code",
      "execution_count": 8,
      "metadata": {},
      "outputs": [],
      "source": [
        "s = np.array([0] * 30 + [5] * 10)\n",
        "x = np.random.normal(0, s, size=40)"
      ],
      "id": "b87a21a1-0929-4cfa-b457-289b75d9afdf"
    },
    {
      "cell_type": "code",
      "execution_count": 9,
      "metadata": {},
      "outputs": [],
      "source": [
        "EbayesThresh.wmonfromx(x, prior = \"cauchy\")"
      ],
      "id": "97c98c4a-4cd9-454c-877d-5f6a381ca9c4"
    },
    {
      "cell_type": "markdown",
      "metadata": {},
      "source": [
        "`thresh`\n",
        "\n",
        "> 임계값 t를 이용해서 데이터 조정"
      ],
      "id": "943d454d-ea0b-465c-9a11-40d629e1c550"
    },
    {
      "cell_type": "code",
      "execution_count": 6,
      "metadata": {},
      "outputs": [],
      "source": [
        "EbayesThresh.threshold(np.array(range(-5,5)), t=1.4, hard=False)"
      ],
      "id": "78e57bc7-116c-4d3d-aa30-f1ba9e579a28"
    },
    {
      "cell_type": "markdown",
      "metadata": {},
      "source": [
        "`negloglik.laplace`\n",
        "\n",
        "> Marginal negative log likelihood function for laplace prior.\n",
        "\n",
        "-   라플라스 프라이어에 대한 한계음의로그우도함수 계산"
      ],
      "id": "fcac1cf3-376e-4d6f-b536-912a0399ea4e"
    },
    {
      "cell_type": "code",
      "execution_count": null,
      "metadata": {},
      "outputs": [],
      "source": [
        "a <- xpar[2]\n",
        "        \n",
        "        # Calculate the range of w given a, using negative monotonicity\n",
        "        # between w and t\n",
        "    wlo <- wfromt(thi, ss, a = a)\n",
        "    whi <- wfromt(tlo, ss, a = a)\n",
        "    wlo <- max(wlo)\n",
        "    whi <- min(whi)\n",
        "    loglik <- sum(log(1 + (xpar[1] * (whi - wlo) + wlo) *\n",
        "                          beta.laplace(xx, ss, a)))"
      ],
      "id": "3920cd55-f85f-4125-9344-b76df91dd1d6"
    },
    {
      "cell_type": "code",
      "execution_count": 2,
      "metadata": {},
      "outputs": [],
      "source": [
        "EbayesThresh.negloglik_laplace(np.array([0.5,0.5,0.3]),np.array([1,2,3,4,5]),1,np.sqrt(2 * np.log(len(np.array([1,2,3,4,5])))) * 1,np.array([0,0,0]))"
      ],
      "id": "fa6f36cd-c343-4a35-8e77-bdb85fd10f44"
    },
    {
      "cell_type": "code",
      "execution_count": 6,
      "metadata": {},
      "outputs": [],
      "source": [
        "len(np.array([np.array([3,4,5])]))"
      ],
      "id": "a6a8c4ae-564f-41e6-a218-17d6cae2c897"
    },
    {
      "cell_type": "markdown",
      "metadata": {},
      "source": [
        "\\`wanda\n",
        "\n",
        "> Given a vector of data and a single value or vector of sampling\n",
        "> standard deviations, find the marginal maximum likelihood choice of\n",
        "> both weight and scale factor under the Laplace prior"
      ],
      "id": "7708287b-f1d9-472f-8011-72c8ba3d5e4b"
    }
  ],
  "nbformat": 4,
  "nbformat_minor": 5,
  "metadata": {
    "kernelspec": {
      "name": "python3",
      "display_name": "Python 3",
      "language": "python"
    },
    "language_info": {
      "name": "python",
      "codemirror_mode": {
        "name": "ipython",
        "version": "3"
      },
      "file_extension": ".py",
      "mimetype": "text/x-python",
      "nbconvert_exporter": "python",
      "pygments_lexer": "ipython3",
      "version": "3.8.0"
    }
  }
}