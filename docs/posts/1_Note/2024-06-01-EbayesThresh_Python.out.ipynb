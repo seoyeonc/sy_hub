{
  "cells": [
    {
      "cell_type": "markdown",
      "metadata": {},
      "source": [
        "# EbayesThresh Python화 시도\n",
        "\n",
        "SEOYEON CHOI  \n",
        "2024-06-01\n",
        "\n",
        "https://cran.r-project.org/web/packages/EbayesThresh/EbayesThresh.pdf\n",
        "\n",
        "# Import"
      ],
      "id": "53ecc1d5-cec9-4f8c-9c96-75e898ca4870"
    },
    {
      "cell_type": "code",
      "execution_count": 1,
      "metadata": {},
      "outputs": [],
      "source": [
        "import numpy as np\n",
        "import matplotlib.pyplot as plt\n",
        "import EbayesThresh"
      ],
      "id": "7b74dbea-662a-4ddf-b71f-b5ad0edf1778"
    },
    {
      "cell_type": "markdown",
      "metadata": {},
      "source": [
        "## 확인용 import"
      ],
      "id": "d37e55f7-05c8-4170-ae98-ed284df00a8a"
    },
    {
      "cell_type": "code",
      "execution_count": 2,
      "metadata": {},
      "outputs": [],
      "source": [
        "from scipy.stats import norm\n",
        "from scipy.optimize import minimize"
      ],
      "id": "5f0a2e3e-bef8-48a9-af05-343378f104f4"
    },
    {
      "cell_type": "markdown",
      "metadata": {},
      "source": [
        "# beta.cauchy\n",
        "\n",
        "> Function beta for the quasi-Cauchy prior\n",
        "\n",
        "-   Description\n",
        "\n",
        "> Given a value or vector x of values, find the value(s) of the function\n",
        "> $\\beta(x) = g(x)/\\phi(x) − 1$, where $g$ is the convolution of the\n",
        "> quasi-Cauchy with the normal density $\\phi(x)$.\n",
        "\n",
        "*x가 입력되면 코시 분포와 정규 분포를 혼합해서 함수 베타 구하기*"
      ],
      "id": "e635df8d-d92b-40b9-be82-7baf38a53f71"
    },
    {
      "cell_type": "code",
      "execution_count": 8,
      "metadata": {},
      "outputs": [],
      "source": [
        "x = np.array([-2,1,0,-4,8,50])"
      ],
      "id": "6eda332f-56ae-45e3-83d0-60372bbb189d"
    },
    {
      "cell_type": "code",
      "execution_count": 11,
      "metadata": {},
      "outputs": [],
      "source": [
        "phix = norm.pdf(x)\n",
        "phix"
      ],
      "id": "83d2e100-7eea-4c67-9555-62c667a9f3c1"
    },
    {
      "cell_type": "markdown",
      "metadata": {},
      "source": [
        "-   x의 확률밀도함수pdf 구하기"
      ],
      "id": "c8417900-c7ee-474b-b936-5d8afb6b6dfb"
    },
    {
      "cell_type": "code",
      "execution_count": 12,
      "metadata": {},
      "outputs": [],
      "source": [
        "j = (x != 0)\n",
        "j"
      ],
      "id": "e98f276c-5326-4b4d-ae44-eea140d80241"
    },
    {
      "cell_type": "markdown",
      "metadata": {},
      "source": [
        "-   0이 아닌 인덱스만 얻기"
      ],
      "id": "00cbb1a7-f3da-4efd-83ab-592fbb801994"
    },
    {
      "cell_type": "code",
      "execution_count": 13,
      "metadata": {},
      "outputs": [],
      "source": [
        "beta = x\n",
        "beta"
      ],
      "id": "6bc89b87-9433-411a-b959-429335f4b423"
    },
    {
      "cell_type": "code",
      "execution_count": 14,
      "metadata": {},
      "outputs": [],
      "source": [
        "beta = np.where(j == False, -1/2, beta)\n",
        "beta"
      ],
      "id": "94a4ea29-d8b9-4f25-967a-67ba7e963640"
    },
    {
      "cell_type": "markdown",
      "metadata": {},
      "source": [
        "-   j가 False 즉 0이면 -1/2를 넣고 아니면 beta값 그대로 넣기"
      ],
      "id": "e73e76a1-2b87-429a-9065-1f473f347329"
    },
    {
      "cell_type": "code",
      "execution_count": 16,
      "metadata": {},
      "outputs": [
        {
          "output_type": "stream",
          "name": "stderr",
          "text": [
            "RuntimeWarning: divide by zero encountered in divide\n",
            "  beta[j] = (norm.pdf(0) / phix[j] - 1) / (x[j] ** 2) - 1"
          ]
        }
      ],
      "source": [
        "beta[j] = (norm.pdf(0) / phix[j] - 1) / (x[j] ** 2) - 1\n",
        "beta"
      ],
      "id": "884e614d-7a6c-427f-864e-81f099a0a873"
    },
    {
      "cell_type": "markdown",
      "metadata": {},
      "source": [
        "-   0의 확률밀도함수pdf에서 x의 확률밀도함수phix로 나누어서 1을 빼고\n",
        "    그것을 x 중 0이 아닌 값들에 제곱한 값으로 나눠 1을 빼기\n",
        "\n",
        "-   $\\beta(x) = \\begin{cases} x & \\text{ if } x = 0 \\\\ \\frac{\\frac{\\phi(0)}{\\phi(x)}-1}{x^2} - 1 & \\\\ \\text{ if } x \\ne 0\\end{cases}$\n",
        "\n",
        "-   R code\n",
        "\n",
        "``` r\n",
        "beta.cauchy <- function(x) {\n",
        "#\n",
        "#   Find the function beta for the mixed normal prior with Cauchy\n",
        "#   tails.  It is assumed that the noise variance is equal to one.\n",
        "#\n",
        "    phix <- dnorm(x)\n",
        "    j <- (x != 0)\n",
        "    beta <- x\n",
        "    beta[!j] <- -1/2\n",
        "    beta[j] <- (dnorm(0)/phix[j] - 1)/x[j]^2 - 1\n",
        "    return(beta)\n",
        "}\n",
        "```\n",
        "\n",
        "**결과**\n",
        "\n",
        "-   Python"
      ],
      "id": "f9056b6d-c2ec-4d24-a859-753c8540e09e"
    },
    {
      "cell_type": "code",
      "execution_count": 2,
      "metadata": {},
      "outputs": [
        {
          "output_type": "stream",
          "name": "stderr",
          "text": [
            "/home/csy/Dropbox/sy_hub/posts/1_Note/EbayesThresh/utils.py:26: RuntimeWarning: divide by zero encountered in divide\n",
            "  beta[j] = (norm.pdf(0) / phix[j] - 1) / (x[j] ** 2) - 1"
          ]
        }
      ],
      "source": [
        "EbayesThresh.beta_cauchy(np.array([-2,1,0,-4,8,50]))"
      ],
      "id": "bb4b9c53-44e8-45a2-9eb9-abc205f9729e"
    },
    {
      "cell_type": "markdown",
      "metadata": {},
      "source": [
        "-   R\n",
        "\n",
        "``` r\n",
        "> beta.cauchy(c(-2,1,0,-4,8,50))\n",
        "[1]  5.972640e-01 -3.512787e-01 -5.000000e-01  1.852474e+02  1.233796e+12           Inf\n",
        "```\n",
        "\n",
        "-   무한히 꼬리가 긴 분포를 가진 코시분포"
      ],
      "id": "eaeb599e-e84b-4a55-b918-57a7d13c21b4"
    },
    {
      "cell_type": "code",
      "execution_count": 18,
      "metadata": {},
      "outputs": [
        {
          "output_type": "display_data",
          "metadata": {},
          "data": {
            "image/png": "[encoded data removed]"
          }
        }
      ],
      "source": [
        "import numpy as np\n",
        "import matplotlib.pyplot as plt\n",
        "from scipy.stats import cauchy\n",
        "\n",
        "# 모수 설정\n",
        "loc_values = [0.0, 0.0, -2.0]  # 위치 모수\n",
        "scale_values = [0.5, 1.0, 2.0]  # 척도 모수\n",
        "\n",
        "# 그래프 그리기\n",
        "x = np.linspace(-10, 10, 1000)\n",
        "plt.figure(figsize=(12, 6))\n",
        "\n",
        "# PDF 그리기\n",
        "plt.subplot(1, 2, 1)\n",
        "for loc, scale in zip(loc_values, scale_values):\n",
        "    plt.plot(x, cauchy.pdf(x, loc, scale), label=f'loc={loc}, scale={scale}')\n",
        "plt.title('Cauchy PDF')\n",
        "plt.xlabel('x')\n",
        "plt.ylabel('Probability Density')\n",
        "plt.legend()\n",
        "\n",
        "# CDF 그리기\n",
        "plt.subplot(1, 2, 2)\n",
        "for loc, scale in zip(loc_values, scale_values):\n",
        "    plt.plot(x, cauchy.cdf(x, loc, scale), label=f'loc={loc}, scale={scale}')\n",
        "plt.title('Cauchy CDF')\n",
        "plt.xlabel('x')\n",
        "plt.ylabel('Cumulative Probability')\n",
        "plt.legend()\n",
        "\n",
        "plt.show()"
      ],
      "id": "799f0502-4646-4661-8361-91f4df6a68dd"
    },
    {
      "cell_type": "markdown",
      "metadata": {},
      "source": [
        "# beta.laplace\n",
        "\n",
        "> Function beta for the Laplace prior\n",
        "\n",
        "-   Description\n",
        "\n",
        "> Given a single value or a vector of $x$ and $s$, find the value(s) of\n",
        "> the function $\\beta(x; s, a) = \\frac{g(x; s, a)}{f_n(x; 0, s)}−1$,\n",
        "> where $f_n(x; 0, s)$ is the normal density with mean $0$ and standard\n",
        "> deviation $s$, and $g$ is the convolution of the Laplace density with\n",
        "> scale parameter a, $γa(\\mu)$, with the normal density $f_n(x; µ, s)$\n",
        "> with mean mu and standard deviation $s$.\n",
        "\n",
        "*평균이 $\\mu$이며, 스케일 파라메터 a를 가진 라플라스와 정규분포의\n",
        "합성함수 $g$와 평균이 0이고 표준편차가s인 f로 계산되는 함수 베타*"
      ],
      "id": "c129ae3a-0c8e-4d60-af2e-409060e6b586"
    },
    {
      "cell_type": "code",
      "execution_count": 120,
      "metadata": {},
      "outputs": [],
      "source": [
        "# x = np.array([-2,1,0,-4,8,50])\n",
        "x = 2.14\n",
        "s = 1\n",
        "# s = np.arange(1, 7)\n",
        "a = 0.5"
      ],
      "id": "231edf1b-c02e-4e9d-bbeb-084b7b5a168e"
    },
    {
      "cell_type": "markdown",
      "metadata": {},
      "source": [
        "-   s는 표준편차\n",
        "-   a는 Laplaxe prior모수, 이 값이 클수록 부포 모양이 뾰족해진다."
      ],
      "id": "5ce9c43c-15da-4cc3-a580-a353ec2698d3"
    },
    {
      "cell_type": "code",
      "execution_count": 121,
      "metadata": {},
      "outputs": [],
      "source": [
        "x = np.abs(x)\n",
        "x"
      ],
      "id": "9ca7e9a4-0f51-4e36-acfd-c4689279d2b9"
    },
    {
      "cell_type": "markdown",
      "metadata": {},
      "source": [
        "-   확률변수 x에 절대값 취하고"
      ],
      "id": "23bf9037-05f2-4199-94c7-16063fbd3513"
    },
    {
      "cell_type": "code",
      "execution_count": 122,
      "metadata": {},
      "outputs": [],
      "source": [
        "xpa = x/s + s*a\n",
        "xpa"
      ],
      "id": "454bc930-e458-4000-88c8-c99f7de6cd0e"
    },
    {
      "cell_type": "code",
      "execution_count": 123,
      "metadata": {},
      "outputs": [],
      "source": [
        "xma = x/s - s*a\n",
        "xma"
      ],
      "id": "9f7bc2af-c859-495e-87bb-9f67f4fdf9f9"
    },
    {
      "cell_type": "code",
      "execution_count": 124,
      "metadata": {},
      "outputs": [],
      "source": [
        "rat1 = 1/xpa\n",
        "rat1"
      ],
      "id": "5120e231-310e-42c3-a6af-d3da2676434e"
    },
    {
      "cell_type": "code",
      "execution_count": 125,
      "metadata": {},
      "outputs": [],
      "source": [
        "xpa < 35"
      ],
      "id": "b6fbb6b1-3138-44de-ac43-b417c2268de1"
    },
    {
      "cell_type": "code",
      "execution_count": 126,
      "metadata": {},
      "outputs": [],
      "source": [
        "rat1[xpa < 35]"
      ],
      "id": "b6ea5bbc-0265-4f86-9f81-9778149cc739"
    },
    {
      "cell_type": "markdown",
      "metadata": {},
      "source": [
        "-   표준정규분포 누적 분포 함수cdf / 표준정규분포 밀도함수 pdf"
      ],
      "id": "6718cb51-7e33-4dac-8e8d-e2b9b87617fa"
    },
    {
      "cell_type": "code",
      "execution_count": 127,
      "metadata": {},
      "outputs": [],
      "source": [
        "if isinstance(rat1, (int, float, str, bool)) and xpa < 35:\n",
        "    rat1 = norm.cdf(-xpa) / norm.pdf(xpa)\n",
        "elif isinstance(rat1, (int, float, str, bool)) and xpa > 35:\n",
        "    rat1 = rat1\n",
        "else:\n",
        "    rat1[xpa < 35] = norm.cdf(-xpa[xpa < 35]) / norm.pdf(xpa[xpa < 35])"
      ],
      "id": "8a35a308-c7fd-4ee8-a987-df47fa73023b"
    },
    {
      "cell_type": "code",
      "execution_count": 128,
      "metadata": {},
      "outputs": [],
      "source": [
        "rat1"
      ],
      "id": "1b628426-0452-4d79-94fe-7b90a5e95721"
    },
    {
      "cell_type": "code",
      "execution_count": 129,
      "metadata": {},
      "outputs": [],
      "source": [
        "rat2 = 1/np.abs(xma)\n",
        "rat2"
      ],
      "id": "e1f472e7-14ce-4c37-83e6-c01e228ee835"
    },
    {
      "cell_type": "code",
      "execution_count": 130,
      "metadata": {},
      "outputs": [],
      "source": [
        "if isinstance(xma, (int, float, str, bool)) and xma > 35:\n",
        "    xma = 35\n",
        "elif isinstance(xma, (int, float, str, bool)) and xma < 35:\n",
        "    xma = xma\n",
        "else:\n",
        "    xma[xma > 35] = 35"
      ],
      "id": "350404f0-3aff-4849-bd4c-f598187041f1"
    },
    {
      "cell_type": "code",
      "execution_count": 131,
      "metadata": {},
      "outputs": [],
      "source": [
        "xma"
      ],
      "id": "0cc0a00a-e5cd-4357-8493-4866184fbbe8"
    },
    {
      "cell_type": "code",
      "execution_count": 132,
      "metadata": {},
      "outputs": [],
      "source": [
        "if isinstance(rat1, (int, float, str, bool)) and xma > -35:\n",
        "    rat2 = norm.cdf(xma) / norm.pdf(xma)\n",
        "elif isinstance(rat1, (int, float, str, bool)) and xma < -35:\n",
        "    rat2 = rat2\n",
        "else:\n",
        "    rat2[xma > -35] = norm.cdf(xma[xma > -35]) / norm.pdf(xma[xma > -35])"
      ],
      "id": "cef4aca1-a2df-469d-9b6e-ef13d9845f25"
    },
    {
      "cell_type": "code",
      "execution_count": 133,
      "metadata": {},
      "outputs": [],
      "source": [
        "rat2"
      ],
      "id": "cdca3e49-8616-4761-8257-36b041488b09"
    },
    {
      "cell_type": "markdown",
      "metadata": {},
      "source": [
        "-   beta = $\\frac{g(x; s, a)}{f_n(x; 0, s)}−1$\n",
        "-   g = 스케일 파라메터 a를 가진 라플라스 밀도의 convolution +\n",
        "    $\\gamma (u ; a)$\n",
        "    -   단, The Laplace density is given by\n",
        "        $\\gamma (u ; a) = \\frac{1}{2} a e^{-a |u|}$ and is also known as\n",
        "        the double exponential density."
      ],
      "id": "7513c008-e886-4206-93a6-716b2d951124"
    },
    {
      "cell_type": "code",
      "execution_count": 134,
      "metadata": {},
      "outputs": [],
      "source": [
        "beta = (a * s) / 2 * (rat1 + rat2) - 1\n",
        "beta"
      ],
      "id": "ef888a8d-1a39-49f5-a905-306bdb87cc03"
    },
    {
      "cell_type": "markdown",
      "metadata": {},
      "source": [
        "-   R code\n",
        "\n",
        "``` r\n",
        "beta.laplace <- function(x, s = 1, a = 0.5) {\n",
        "#\n",
        "#  The function beta for the Laplace prior given parameter a and s (sd)\n",
        "#\n",
        "    x <- abs(x)\n",
        "    xpa <- x/s + s*a\n",
        "    xma <- x/s - s*a\n",
        "    rat1 <- 1/xpa\n",
        "    rat1[xpa < 35] <- pnorm( - xpa[xpa < 35])/dnorm(xpa[xpa < 35])\n",
        "    rat2 <- 1/abs(xma)\n",
        "    xma[xma > 35] <- 35\n",
        "    rat2[xma > -35] <- pnorm(xma[xma > -35])/dnorm(xma[xma > -35])\n",
        "    beta <- (a * s) / 2 * (rat1 + rat2) - 1\n",
        "    return(beta)\n",
        "}\n",
        "```\n",
        "\n",
        "**결과**\n",
        "\n",
        "-   Python"
      ],
      "id": "54ee2448-9127-4c90-a319-24ebf38c814a"
    },
    {
      "cell_type": "code",
      "execution_count": 3,
      "metadata": {},
      "outputs": [],
      "source": [
        "EbayesThresh.beta_laplace(np.array([-2,1,0,-4,8,50]),s=1)"
      ],
      "id": "bb7f3af1-e452-4b76-ab27-56d9c1c2c5a8"
    },
    {
      "cell_type": "code",
      "execution_count": 9,
      "metadata": {},
      "outputs": [],
      "source": [
        "EbayesThresh.beta_laplace(-2,s=1,a=0.5)"
      ],
      "id": "ab955f9b-2802-4199-9db5-2f9ee57a4cb7"
    },
    {
      "cell_type": "code",
      "execution_count": 5,
      "metadata": {},
      "outputs": [],
      "source": [
        "EbayesThresh.beta_laplace(np.array([-2,1,0,-4,8,50]),s=np.arange(1, 7))"
      ],
      "id": "032868a9-2856-4554-89af-3d63a0a30d85"
    },
    {
      "cell_type": "markdown",
      "metadata": {},
      "source": [
        "-   R\n",
        "\n",
        "``` r\n",
        "> beta.laplace(c(-2,1,0,-4,8,50), s=1)\n",
        "[1]   8.898520e-01  -3.800417e-01  -5.618178e-01   2.854595e+02   1.026981e+12  6.344540e+265\n",
        "> beta.laplace(-2, s=1, a=0.5)\n",
        "[1] 0.889852\n",
        "> beta.laplace(c(-2,1,0,-4,8,50), s=1:6, a=1)\n",
        "[1]   0.890821055  -0.129919250  -0.086229104  -0.005203193   0.054213718 112.493576777\n",
        "```\n",
        "\n",
        "# cauchy_medzero\n",
        "\n",
        "> the objective function that has to be zeroed, component by component,\n",
        "> to find the posterior median when the quasi-Cauchy prior is used. x is\n",
        "> the parameter vector, z is the data vector, w is the weight x and z\n",
        "> may be scalars\n",
        "\n",
        "-   quasi-Cauchy prior에서 사후 중앙값 찾기 위한 함수\n",
        "-   x,z는 벡터일수도 있고, 스칼라일 수 도 있다."
      ],
      "id": "e5c29867-e608-428e-8f6a-944611183263"
    },
    {
      "cell_type": "code",
      "execution_count": 11,
      "metadata": {},
      "outputs": [],
      "source": [
        "# x = np.array([-2,1,0,-4,8,50])\n",
        "x = 4\n",
        "# z = np.array([1,0,2,3,-1,-1])\n",
        "z = 5\n",
        "w = 0.5"
      ],
      "id": "110b1f7b-25e8-4439-b088-769895d8782c"
    },
    {
      "cell_type": "code",
      "execution_count": 12,
      "metadata": {},
      "outputs": [],
      "source": [
        "hh = z - x\n",
        "hh"
      ],
      "id": "54e20a49-11c3-47f5-9445-8dd770805f20"
    },
    {
      "cell_type": "code",
      "execution_count": 13,
      "metadata": {},
      "outputs": [],
      "source": [
        "dnhh = norm.pdf(hh)\n",
        "dnhh"
      ],
      "id": "a5a8b009-9314-4172-998c-a556c360699a"
    },
    {
      "cell_type": "code",
      "execution_count": 14,
      "metadata": {},
      "outputs": [],
      "source": [
        "yleft = norm.cdf(hh) - z * dnhh + ((z * x - 1) * dnhh * norm.cdf(-x)) / norm.pdf(x)\n",
        "yleft"
      ],
      "id": "8a3d63c3-c0af-4185-8737-f6e655087e1d"
    },
    {
      "cell_type": "code",
      "execution_count": 15,
      "metadata": {},
      "outputs": [],
      "source": [
        "yright2 = 1 + np.exp(-z**2 / 2) * (z**2 * (1 / w - 1) - 1)\n",
        "yright2"
      ],
      "id": "e941f9c1-f260-473e-8a4c-75a635bf8f76"
    },
    {
      "cell_type": "code",
      "execution_count": 16,
      "metadata": {},
      "outputs": [],
      "source": [
        "yright2 / 2 - yleft"
      ],
      "id": "f33f3337-989a-4d7c-b3c0-4ee15d0f0653"
    },
    {
      "cell_type": "markdown",
      "metadata": {},
      "source": [
        "-   R코드\n",
        "\n",
        "``` r\n",
        "cauchy.medzero <- function(x, z, w) {\n",
        "#    \n",
        "# the objective function that has to be zeroed, component by\n",
        "# component, to find the posterior median when the quasi-Cauchy prior\n",
        "# is used.  x is the parameter vector, z is the data vector, w is the\n",
        "# weight x and z may be scalars\n",
        "#\n",
        "    hh <- z - x\n",
        "    dnhh <- dnorm(hh)\n",
        "    yleft <- pnorm(hh) - z * dnhh + ((z * x - 1) * dnhh * pnorm( - x))/\n",
        "        dnorm(x)\n",
        "    yright2 <- 1 + exp( - z^2/2) * (z^2 * (1/w - 1) - 1)\n",
        "    return(yright2/2 - yleft)\n",
        "}\n",
        "```\n",
        "\n",
        "**결과**\n",
        "\n",
        "-   Python\n",
        "    -   벡터, 스칼라일때 가능한지 확인"
      ],
      "id": "d420fcf5-95ff-4daf-a741-403c1fa4519b"
    },
    {
      "cell_type": "code",
      "execution_count": 4,
      "metadata": {},
      "outputs": [
        {
          "output_type": "stream",
          "name": "stderr",
          "text": [
            "/home/csy/Dropbox/sy_hub/posts/1_Note/EbayesThresh/utils.py:50: RuntimeWarning: invalid value encountered in divide\n",
            "  yleft = norm.cdf(hh) - z * dnhh + ((z * x - 1) * dnhh * norm.cdf(-x)) / norm.pdf(x)"
          ]
        }
      ],
      "source": [
        "EbayesThresh.cauchy_medzero(np.array([-2,1,0,-4,8,50]),np.array([1,0,2,3,-1,-1]),0.5)"
      ],
      "id": "33c5dc9e-402b-4973-af51-f7e503a389a6"
    },
    {
      "cell_type": "code",
      "execution_count": 17,
      "metadata": {},
      "outputs": [],
      "source": [
        "EbayesThresh.cauchy_medzero(4,5,0.5)"
      ],
      "id": "b0033926-f009-4149-8701-c52b1a4fe29a"
    },
    {
      "cell_type": "markdown",
      "metadata": {},
      "source": [
        "-   R\n",
        "\n",
        "``` r\n",
        "> cauchy.medzero(c(-2,1,0,-4,8,50),c(1,0,2,3,-1,-1),0.5)\n",
        "[1] -0.25356559  0.00000000 -0.09859737 -0.45556313  0.50000000         NaN\n",
        "> cauchy.medzero(4,5,0.5)\n",
        "[1] -0.2194424\n",
        "```\n",
        "\n",
        "# cauchy_threshzero\n",
        "\n",
        "-   cauchy 임계값 찾기 위한 것\n",
        "-   아래에서 반환되는 y가 0에 가깝도록 만들어주는 z를 찾는 과정"
      ],
      "id": "c59a1bf8-7232-41ea-b341-3cbba5be8d2e"
    },
    {
      "cell_type": "code",
      "execution_count": 21,
      "metadata": {},
      "outputs": [],
      "source": [
        "z = np.array([1,0,2,3,-1,-1])\n",
        "w = 0.5"
      ],
      "id": "36371433-adf0-4635-9714-e244292d1e13"
    },
    {
      "cell_type": "code",
      "execution_count": 23,
      "metadata": {},
      "outputs": [],
      "source": [
        "y = norm.cdf(z) - z * norm.pdf(z) - 1/2 - (z**2 * np.exp(-z**2/2) * (1/w - 1))/2\n",
        "y"
      ],
      "id": "0a51bc70-37fd-43e2-8382-e8e35a7c02b4"
    },
    {
      "cell_type": "markdown",
      "metadata": {},
      "source": [
        "$y = pnorm(z) - z \\times dnorm(z) - \\frac{1}{2} - \\frac{z^2 \\exp (\\frac{z^2}{2})(\\frac{1}{w} - 1)}{2}$\n",
        "\n",
        "-   R 코드\n",
        "\n",
        "``` r\n",
        "cauchy.threshzero <- function(z, w) {\n",
        "#    \n",
        "# The objective function that has to be zeroed to find the Cauchy\n",
        "# threshold. z is the putative threshold vector, w is the weight w\n",
        "# can be a vector\n",
        "#\n",
        "    y <- pnorm(z) - z * dnorm(z) - 1/2 -\n",
        "         (z^2 * exp( - z^2/2) * (1/w - 1))/2\n",
        "    return(y)\n",
        "}\n",
        "```\n",
        "\n",
        "**결과**\n",
        "\n",
        "-   Python"
      ],
      "id": "bf0498c6-ada5-470e-ad71-e1863dd09fb7"
    },
    {
      "cell_type": "code",
      "execution_count": 5,
      "metadata": {},
      "outputs": [],
      "source": [
        "EbayesThresh.cauchy_threshzero(np.array([1,0,2,3,-1,-1]),0.5)"
      ],
      "id": "5096b23d-3dac-4a36-968b-ac979e3a9b9c"
    },
    {
      "cell_type": "code",
      "execution_count": 7,
      "metadata": {},
      "outputs": [
        {
          "output_type": "stream",
          "name": "stderr",
          "text": [
            "/home/csy/Dropbox/sy_hub/posts/1_Note/EbayesThresh/utils.py:56: RuntimeWarning: divide by zero encountered in divide\n",
            "  y = norm.cdf(z) - z * norm.pdf(z) - 1/2 - (z**2 * np.exp(-z**2/2) * (1/w - 1))/2"
          ]
        }
      ],
      "source": [
        "EbayesThresh.cauchy_threshzero(np.array([1,0,2,3,-1,-1]),np.array([0.5,0.4,0.3,0.2,0,0.1]))"
      ],
      "id": "8760aa06-b8c9-416e-9f54-6ab88be1496e"
    },
    {
      "cell_type": "markdown",
      "metadata": {},
      "source": [
        "-   R\n",
        "\n",
        "``` r\n",
        "> cauchy.threshzero(c(1,0,2,3,-1,-1),0.5)\n",
        "[1] -0.20389131  0.00000000  0.09859737  0.43536407 -0.40263935 -0.40263935\n",
        "cauchy.threshzero(c(1,0,2,3,-1,-1), c(0.5,0.4,0.3,0.2,0,0.1))\n",
        "[1] -0.2038913  0.0000000 -0.2622967  0.2853926       -Inf -2.8287620\n",
        "```\n",
        "\n",
        "# Mad(Median Absolute Deviation)\n",
        "\n",
        "> 중앙값 절대 편차, 분산이나 퍼진 정도 확인 가능\n",
        "\n",
        "결과\n",
        "\n",
        "-   Python"
      ],
      "id": "c03d9a7f-7d19-4eed-b1e0-62cd2675d216"
    },
    {
      "cell_type": "code",
      "execution_count": 8,
      "metadata": {},
      "outputs": [],
      "source": [
        "EbayesThresh.mad(np.array([1, 2, 3, 3, 4, 4, 4, 5, 5.5, 6, 6, 6.5, 7, 7, 7.5, 8, 9, 12, 52, 90]))"
      ],
      "id": "96c83ff1-b6fa-412a-abea-7dd9726c7431"
    },
    {
      "cell_type": "markdown",
      "metadata": {},
      "source": [
        "-   R\n",
        "\n",
        "``` r\n",
        "> mad(c(1, 2, 3, 3, 4, 4, 4, 5, 5.5, 6, 6, 6.5, 7, 7, 7.5, 8, 9, 12, 52, 90))\n",
        "[1] 2.9652\n",
        "```\n",
        "\n",
        "# wfromt\n",
        "\n",
        "Description\n",
        "\n",
        "> Given a value or vector of thresholds and sampling standard deviations\n",
        "> (sd equals 1 for Cauchy prior), find the mixing weight for which this\n",
        "> is(these are) the threshold(s) of the posterior median estimator. If a\n",
        "> vector of threshold values is provided, the vector of corresponding\n",
        "> weights is returned.\n",
        "\n",
        "*주어진 임계값과 표준편차에 대해, posterior median estimator에서 이\n",
        "임계값이 나오도록 하는 혼합 가중치를 계산하는 함수가 제공된다.*"
      ],
      "id": "a5db67c3-01c7-458d-8db9-1a05590ec877"
    },
    {
      "cell_type": "code",
      "execution_count": 33,
      "metadata": {},
      "outputs": [],
      "source": [
        "# tt = np.array([2,3,5])\n",
        "tt = 2.14\n",
        "s = 1\n",
        "prior = 'laplace\"'\n",
        "a = 0.5"
      ],
      "id": "75b9fdf5-3249-4c43-8b3f-7af41d8a1736"
    },
    {
      "cell_type": "code",
      "execution_count": 34,
      "metadata": {},
      "outputs": [],
      "source": [
        "pr = prior[0:1]\n",
        "pr"
      ],
      "id": "6376718e-39ce-463a-8286-e9e8466e5226"
    },
    {
      "cell_type": "code",
      "execution_count": 35,
      "metadata": {},
      "outputs": [],
      "source": [
        "if pr == \"l\":\n",
        "    tma = tt / s - s * a\n",
        "    wi = 1 / np.abs(tma)\n",
        "    if isinstance(wi, (int, float, str, bool)) and tma > -35:\n",
        "        wi = norm.cdf(tma) / norm.pdf(tma)\n",
        "    elif isinstance(wi, (int, float, str, bool)) and tma < -35:\n",
        "        wi = wi\n",
        "    else:\n",
        "        wi[tma > -35] = norm.cdf(tma[tma > -35])/norm.pdf(tma[tma > -35])\n",
        "    wi = a * s * wi - EbayesThresh.beta_laplace(tt, s, a)"
      ],
      "id": "afaebfd5-dd49-4603-97a2-bd29f901c644"
    },
    {
      "cell_type": "code",
      "execution_count": 36,
      "metadata": {},
      "outputs": [],
      "source": [
        "tma"
      ],
      "id": "46cedaf0-91e5-4d06-babd-4fbfeadb353e"
    },
    {
      "cell_type": "code",
      "execution_count": 37,
      "metadata": {},
      "outputs": [],
      "source": [
        "wi"
      ],
      "id": "1d5ee94f-4204-4dfc-8f3f-de0decabac4b"
    },
    {
      "cell_type": "code",
      "execution_count": 38,
      "metadata": {},
      "outputs": [],
      "source": [
        "if pr == \"c\":\n",
        "    dnz = norm.pdf(tt)\n",
        "    wi = 1 + (norm.cdf(tt) - tt * dnz - 1/2) / (np.sqrt(np.pi/2) * dnz * tt**2)\n",
        "    if isinstance(wi, np.ndarray):\n",
        "        for i in range(len(wi)):\n",
        "            if not np.isfinite(wi[i]):\n",
        "                wi[i] = 1\n",
        "    else:\n",
        "        if not np.isfinite(wi):\n",
        "            wi = 1"
      ],
      "id": "cc119800-e195-4560-a3ee-8d6e6c944441"
    },
    {
      "cell_type": "code",
      "execution_count": 39,
      "metadata": {},
      "outputs": [],
      "source": [
        "1 / wi"
      ],
      "id": "a6d9bc89-e3a6-4a0e-9dbb-df6eaa23fce1"
    },
    {
      "cell_type": "markdown",
      "metadata": {},
      "source": [
        "-   R코드\n",
        "\n",
        "``` r\n",
        "wfromt <- function(tt, s = 1, prior = \"laplace\", a = 0.5) {\n",
        "  #\n",
        "  #  Find the weight that has posterior median threshold tt, \n",
        "  #   given s (sd) and a.\n",
        "  #\n",
        "pr <- substring(prior, 1, 1)\n",
        "if(pr == \"l\"){\n",
        "  tma <- tt/s - s*a\n",
        "  wi <- 1/abs(tma)\n",
        "  wi[tma > -35] <- pnorm(tma[tma > -35])/dnorm(tma[tma > -35])\n",
        "  wi <- a * s * wi - beta.laplace(tt, s, a)\n",
        "}\n",
        "if(pr == \"c\") {\n",
        "  dnz <- dnorm(tt)\n",
        "  wi <- 1 + (pnorm(tt) - tt * dnz - 1/2)/\n",
        "    (sqrt(pi/2) * dnz * tt^2)\n",
        "  wi[!is.finite(wi)] <- 1\n",
        "}\n",
        "1/wi\n",
        "}\n",
        "```\n",
        "\n",
        "결과\n",
        "\n",
        "-   Python"
      ],
      "id": "02d782fd-d993-451e-a646-9e2213d80d7e"
    },
    {
      "cell_type": "code",
      "execution_count": 3,
      "metadata": {},
      "outputs": [],
      "source": [
        "EbayesThresh.wfromt(np.array([2,3,5]),prior='cachy')"
      ],
      "id": "73b44642-ca91-4f3a-a22b-1e8e52944e63"
    },
    {
      "cell_type": "code",
      "execution_count": 4,
      "metadata": {},
      "outputs": [],
      "source": [
        "EbayesThresh.wfromt(2,prior='cachy')"
      ],
      "id": "fb88ee73-ae38-4d45-8644-261900e07228"
    },
    {
      "cell_type": "code",
      "execution_count": 5,
      "metadata": {},
      "outputs": [],
      "source": [
        "EbayesThresh.wfromt(2,prior='laplace')"
      ],
      "id": "7eb4748a-a1f0-4865-afeb-020e91bcfa4c"
    },
    {
      "cell_type": "markdown",
      "metadata": {},
      "source": [
        "-   R\n",
        "\n",
        "``` r\n",
        "> wfromt(c(2,3,5),prior='cachy')\n",
        "[1] 4.229634e-01 9.337993e-02 9.315909e-05\n",
        "> wfromt(2,prior='cachy')\n",
        "[1] 0.4229634\n",
        "> wfromt(2,prior='laplace')\n",
        "[1] 0.3686338\n",
        "```\n",
        "\n",
        "# wfromx\n",
        "\n",
        "Description\n",
        "\n",
        "> The weight is found by marginal maximum likelihood. The search is over\n",
        "> weights corresponding to threshold $t_i$ in the range\n",
        "> $[0, s_i \\sqrt{2 log n}]$ if universalthresh=TRUE, where n is the\n",
        "> length of the data vector and $(s_1, ..., s_n$) ($s_i$ is $1$ for\n",
        "> Cauchy prior) is the vector of sampling standard deviation of data\n",
        "> ($x_1, ..., x_n$); otherwise, the search is over $[0, 1]$. The search\n",
        "> is by binary search for a solution to the equation $S(w) = 0$, where\n",
        "> $S$ is the derivative of the log likelihood. The binary search is on a\n",
        "> logarithmic scale in $w$. If the Laplace prior is used, the scale\n",
        "> parameter is fixed at the value given for $a$, and defaults to $0.5$\n",
        "> if no value is provided. To estimate a as well as $w$ by marginal\n",
        "> maximum likelihood, use the routine wandafromx.\n",
        "\n",
        "> Suppose the vector $(x_1, \\cdots, x_n)$ is such that $x_i$ is drawn\n",
        "> independently from a normal distribution with mean $\\theta_i$ and\n",
        "> standard deviation $s_i$ ($s_i$ equals $1$ for Cauchy prior). The\n",
        "> prior distribution of the $\\theta_i$ is a mixture with probability\n",
        "> $1 − w$ of zero and probability $w$ of a given symmetric heavy-tailed\n",
        "> distribution. This routine finds the marginal maximum likelihood\n",
        "> estimate of the parameter $w$.\n",
        "\n",
        "*주어진 정규 분포 데이터에 대해 $\\theta_𝑖$의 사전 분포가 주어진\n",
        "상황에서, 모수 $w$의 최대우도 추정치를 계산하는 방법을 제공한다*"
      ],
      "id": "a68a1016-ff03-4e58-b1b9-17236cff2e50"
    },
    {
      "cell_type": "code",
      "execution_count": 3,
      "metadata": {},
      "outputs": [],
      "source": [
        "s = np.concatenate((np.repeat(0, 90), np.repeat(5, 10)))\n",
        "x = np.random.normal(0, s, size=100)\n",
        "prior = \"cauchy\"\n",
        "a = 0.5\n",
        "universalthresh = True"
      ],
      "id": "d910390e-7884-4f2d-824d-64a7ab927ae6"
    },
    {
      "cell_type": "code",
      "execution_count": 4,
      "metadata": {},
      "outputs": [],
      "source": [
        "pr = prior[0:1]\n",
        "pr"
      ],
      "id": "e819cb92-4080-4fd4-813e-bc3304909bdf"
    },
    {
      "cell_type": "code",
      "execution_count": 5,
      "metadata": {},
      "outputs": [],
      "source": [
        "if pr == \"c\":\n",
        "    s = 1"
      ],
      "id": "ff558a6d-ecb5-4760-af49-56c3d14f8b02"
    },
    {
      "cell_type": "code",
      "execution_count": 7,
      "metadata": {},
      "outputs": [],
      "source": [
        "if universalthresh:\n",
        "    tuniv = np.sqrt(2 * np.log(len(x))) * s\n",
        "    wlo = EbayesThresh.wfromt(tuniv, s, prior, a)\n",
        "    wlo = np.max(wlo)\n",
        "else:\n",
        "    wlo = 0"
      ],
      "id": "8b919edc-925a-45d4-af7e-8eb57c5dc8b8"
    },
    {
      "cell_type": "code",
      "execution_count": 11,
      "metadata": {},
      "outputs": [],
      "source": [
        "if pr == \"l\":\n",
        "    beta = EbayesThresh.beta_laplace(x, s, a)\n",
        "elif pr == \"c\":\n",
        "    beta = EbayesThresh.beta_cauchy(x)"
      ],
      "id": "1ed46a55-1872-407f-8947-a1ab3ac89aae"
    },
    {
      "cell_type": "code",
      "execution_count": 13,
      "metadata": {},
      "outputs": [],
      "source": [
        "whi = 1\n",
        "beta = np.minimum(beta, 1e20)\n",
        "\n",
        "shi = np.sum(beta / (1 + beta))"
      ],
      "id": "40b14a37-93b6-4ea9-8305-c74a09f5eff0"
    },
    {
      "cell_type": "code",
      "execution_count": 15,
      "metadata": {},
      "outputs": [],
      "source": [
        "if shi >= 0:\n",
        "    shi =  1"
      ],
      "id": "bd425b93-84eb-4b74-843c-80b07ea8a3ec"
    },
    {
      "cell_type": "code",
      "execution_count": 17,
      "metadata": {},
      "outputs": [],
      "source": [
        "slo = np.sum(beta / (1 + wlo * beta))"
      ],
      "id": "2bda427d-b7f4-4f17-95ca-e2b8c0b421c5"
    },
    {
      "cell_type": "code",
      "execution_count": 19,
      "metadata": {},
      "outputs": [],
      "source": [
        "if slo <= 0:\n",
        "    slo = wlo"
      ],
      "id": "bcd6c356-619f-48fb-a0c6-2e9db261aadd"
    },
    {
      "cell_type": "code",
      "execution_count": 21,
      "metadata": {},
      "outputs": [],
      "source": [
        "for _ in range(1,31):\n",
        "    wmid = np.sqrt(wlo * whi)\n",
        "    smid = np.sum(beta / (1 + wmid * beta))\n",
        "    if smid == 0:\n",
        "        smid = wmid\n",
        "    if smid > 0:\n",
        "        wlo = wmid\n",
        "    else:\n",
        "        whi = wmid"
      ],
      "id": "e9b8bf5f-152e-428f-9d38-e5be0cc34ba1"
    },
    {
      "cell_type": "code",
      "execution_count": 28,
      "metadata": {},
      "outputs": [],
      "source": [
        "np.sqrt(wlo * whi)"
      ],
      "id": "1a967f88-bb8d-441d-97d8-3fd021c36eb9"
    },
    {
      "cell_type": "markdown",
      "metadata": {},
      "source": [
        "-   R코드\n",
        "\n",
        "``` r\n",
        "wfromx <- function (x, s = 1, prior = \"laplace\", a = 0.5,\n",
        "                    universalthresh = TRUE) {\n",
        "#    \n",
        "#  Given the vector of data x and s (sd),\n",
        "#   find the value of w that zeroes S(w) in the\n",
        "#   range by successive bisection, carrying out nits harmonic bisections\n",
        "#   of the original interval between wlo and 1.  \n",
        "#  \n",
        "    pr <- substring(prior, 1, 1)\n",
        "    if(pr == \"c\")\n",
        "          s = 1\n",
        "    if(universalthresh) {\n",
        "          tuniv <- sqrt(2 * log(length(x))) * s\n",
        "          wlo <- wfromt(tuniv, s, prior, a)\n",
        "          wlo <- max(wlo)\n",
        "    } else \n",
        "          wlo = 0\n",
        "    if(pr == \"l\")\n",
        "      beta <- beta.laplace(x, s, a)\n",
        "    if(pr == \"c\")\n",
        "      beta <- beta.cauchy(x)\n",
        "    whi  <- 1\n",
        "    beta <- pmin(beta, 1e20) \n",
        "    shi  <- sum(beta/(1 + beta))\n",
        "    if(shi >= 0)\n",
        "      return(1)\n",
        "    slo <- sum(beta/(1 + wlo * beta))\n",
        "    if(slo <= 0)\n",
        "      return(wlo)\n",
        "    for(j in (1:30)) {\n",
        "      wmid <- sqrt(wlo * whi)\n",
        "      smid <- sum(beta/(1 + wmid * beta))\n",
        "      if(smid == 0)\n",
        "        return(wmid)\n",
        "      if(smid > 0)\n",
        "        wlo <- wmid\n",
        "      else\n",
        "        whi <- wmid\n",
        "        }\n",
        "    return(sqrt(wlo * whi))\n",
        "}\n",
        "```\n",
        "\n",
        "결과\n",
        "\n",
        "-   Python"
      ],
      "id": "d85c252c-815d-454f-8292-beedb71052b8"
    },
    {
      "cell_type": "code",
      "execution_count": 30,
      "metadata": {},
      "outputs": [],
      "source": [
        "EbayesThresh.wfromx(x= np.random.normal(0, np.concatenate((np.repeat(0, 90), np.repeat(5, 10))), size=100), prior = \"cauchy\")"
      ],
      "id": "fc57fdd3-8daf-4885-8e93-6d2b0a9a2bda"
    },
    {
      "cell_type": "markdown",
      "metadata": {},
      "source": [
        "-   R\n",
        "\n",
        "``` r\n",
        "> wfromx(x = rnorm(100, s = c(rep(0,90),rep(5,10))), prior = \"cauchy\")\n",
        "[1] 0.116067\n",
        "```\n",
        "\n",
        "# isotone\n",
        "\n",
        "> Isotonic Regression은 입력 변수에 따른 출력 변수의 단조 증가(monotonic\n",
        "> increasing) 또는 감소(monotonic decreasing) 패턴을 찾는 방법"
      ],
      "id": "cc0de13c-cdfb-4514-9f25-e8773ff54260"
    },
    {
      "cell_type": "code",
      "execution_count": 4,
      "metadata": {},
      "outputs": [],
      "source": [
        "beta = EbayesThresh.beta_cauchy(np.array([-2,1,0,-4]))\n",
        "w = np.ones(len(beta))\n",
        "aa = w + 1/beta\n",
        "x = w + aa\n",
        "wt = 1/aa**2\n",
        "increasing = False"
      ],
      "id": "8ef6ca18-5787-45bd-8b12-7e8102dd08e9"
    },
    {
      "cell_type": "code",
      "execution_count": 5,
      "metadata": {},
      "outputs": [],
      "source": [
        "nn = len(x)"
      ],
      "id": "26584b11-31c2-48dc-b880-c015a9475489"
    },
    {
      "cell_type": "code",
      "execution_count": 6,
      "metadata": {},
      "outputs": [],
      "source": [
        "if nn == 1:\n",
        "    x = x"
      ],
      "id": "f5dca878-ed14-465c-b0ba-d64c3e24d653"
    },
    {
      "cell_type": "code",
      "execution_count": 7,
      "metadata": {},
      "outputs": [],
      "source": [
        "if not increasing:\n",
        "    x = -x"
      ],
      "id": "1ef1b57d-eb1d-402b-8d8e-c157e3c06dd3"
    },
    {
      "cell_type": "code",
      "execution_count": 8,
      "metadata": {},
      "outputs": [],
      "source": [
        "ip = np.arange(1, nn+1)\n",
        "dx = np.diff(x)\n",
        "nx = len(x)"
      ],
      "id": "3e95c72d-b81c-4aa5-9655-9b0c0d601e47"
    },
    {
      "cell_type": "code",
      "execution_count": 9,
      "metadata": {},
      "outputs": [],
      "source": [
        "jmax = np.arange(nx)[(np.concatenate((dx <= 0, [False])) & np.concatenate(([True], dx > 0)))]\n",
        "jmin = np.arange(nx)[(np.concatenate((dx > 0, [True])) & np.concatenate(([False], dx <= 0)))]"
      ],
      "id": "8028188c-e899-424f-9d39-1f39e20e90f2"
    },
    {
      "cell_type": "code",
      "execution_count": 12,
      "metadata": {},
      "outputs": [],
      "source": [
        "jb=0\n",
        "ind = np.arange(jmax[jb], jmin[jb]+1)\n",
        "wtn = np.sum(wt[ind])"
      ],
      "id": "4c6a33bb-2fca-45b0-b313-419f51b24bfb"
    },
    {
      "cell_type": "code",
      "execution_count": 16,
      "metadata": {},
      "outputs": [],
      "source": [
        "x[jmax[jb]] = np.sum(wt[ind] * x[ind]) / wtn"
      ],
      "id": "3add6e69-8e99-43ab-a623-173300cdc65d"
    },
    {
      "cell_type": "code",
      "execution_count": 18,
      "metadata": {},
      "outputs": [],
      "source": [
        "wt[jmax[jb]] = wtn"
      ],
      "id": "d6af3f80-2d9f-4a98-9df2-e8caf8225e5d"
    },
    {
      "cell_type": "code",
      "execution_count": 20,
      "metadata": {},
      "outputs": [],
      "source": [
        "x[jmax[jb]+1:jmin[jb]+1] = np.nan"
      ],
      "id": "c722b951-9843-43c4-89d0-ab69ff3ddefc"
    },
    {
      "cell_type": "code",
      "execution_count": 24,
      "metadata": {},
      "outputs": [],
      "source": [
        "# Clean up within iteration, eliminating the parts of sequences that\n",
        "# were set to NA\n",
        "ind = ~np.isnan(x)\n",
        "x = x[ind]\n",
        "wt = wt[ind]\n",
        "ip = ip[ind]\n",
        "dx = np.diff(x)\n",
        "nx = len(x)"
      ],
      "id": "81d97202-cc81-4f28-abc5-c31e050f0fdf"
    },
    {
      "cell_type": "code",
      "execution_count": 25,
      "metadata": {},
      "outputs": [],
      "source": [
        "# Final cleanup: reconstruct z at all points by repeating the pooled\n",
        "# values the appropriate number of times\n",
        "jj = np.zeros(nn, dtype=int)\n",
        "jj[ip - 1] = 1\n",
        "z = x[np.cumsum(jj) - 1]"
      ],
      "id": "dedc1ef1-5c13-4cb3-b9f7-3535cf7a80d6"
    },
    {
      "cell_type": "code",
      "execution_count": 26,
      "metadata": {},
      "outputs": [],
      "source": [
        "if not increasing:\n",
        "    z = -z"
      ],
      "id": "a8d9273c-e277-485a-af16-fa216fde39ff"
    },
    {
      "cell_type": "code",
      "execution_count": 27,
      "metadata": {},
      "outputs": [],
      "source": [
        "z"
      ],
      "id": "7a065097-c35a-4734-8eca-7d03d5f40cca"
    },
    {
      "cell_type": "markdown",
      "metadata": {},
      "source": [
        "R코드\n",
        "\n",
        "``` r\n",
        "isotone <- function(x, wt = rep(1, length(x)), increasing = FALSE) {\n",
        "#\n",
        "#   find the weighted least squares isotone fit to the \n",
        "#   sequence x, the weights given by the sequence wt\n",
        "#\n",
        "#   if increasing == TRUE the curve is set to be increasing, \n",
        "#   otherwise to be decreasing\n",
        "#\n",
        "#   the vector ip contains the indices on the original scale of the\n",
        "#   breaks in the regression at each stage\n",
        "#\n",
        "    nn <- length(x)\n",
        "    if(nn == 1)\n",
        "        return(x)\n",
        "    if(!increasing)\n",
        "        x <-  - x\n",
        "    ip <- (1:nn)\n",
        "    dx <- diff(x)\n",
        "    nx <- length(x)\n",
        "    while((nx > 1) && (min(dx) < 0)) {\n",
        "#\n",
        "#  do single pool-adjacent-violators step\n",
        "#\n",
        "#  find all local minima and maxima\n",
        "#\n",
        "        jmax <- (1:nx)[c(dx <= 0, FALSE) & c(TRUE, dx > 0)]\n",
        "        jmin <- (1:nx)[c(dx > 0, TRUE) & c(FALSE, dx <= 0)]\n",
        "#  do pav step for each pair of maxima and minima\n",
        "#\n",
        "#  add up weights within subsequence that is pooled\n",
        "#  set first element of subsequence to the weighted average\n",
        "#  the first weight to the sum of the weights within the subsequence\n",
        "#    and remainder of the subsequence to NA\n",
        "#\n",
        "        for(jb in (1:length(jmax))) {\n",
        "            ind <- (jmax[jb]:jmin[jb])\n",
        "            wtn <- sum(wt[ind])\n",
        "            x[jmax[jb]] <- sum(wt[ind] * x[ind])/wtn\n",
        "            wt[jmax[jb]] <- wtn\n",
        "            x[(jmax[jb] + 1):jmin[jb]] <- NA\n",
        "        }\n",
        "#\n",
        "#  clean up within iteration, eliminating the parts of sequences that\n",
        "#  were set to NA\n",
        "#\n",
        "        ind <- !is.na(x)\n",
        "        x <- x[ind]\n",
        "        wt <- wt[ind]\n",
        "        ip <- ip[ind]\n",
        "        dx <- diff(x)\n",
        "        nx <- length(x)\n",
        "    }\n",
        "# \n",
        "#  final cleanup: reconstruct z at all points by repeating the pooled\n",
        "#    values the appropriate number of times\n",
        "#\n",
        "    jj <- rep(0, nn)\n",
        "    jj[ip] <- 1\n",
        "    z <- x[cumsum(jj)]\n",
        "    if(!increasing)\n",
        "        z <-  - z\n",
        "    return(z)\n",
        "}\n",
        "```\n",
        "\n",
        "결과\n",
        "\n",
        "-   Python"
      ],
      "id": "7d78adaa-3382-4b1a-b01f-8f89017f9119"
    },
    {
      "cell_type": "code",
      "execution_count": 3,
      "metadata": {},
      "outputs": [],
      "source": [
        "beta = EbayesThresh.beta_cauchy(np.array([-2,1,0,-4]))\n",
        "w = np.ones(len(beta))\n",
        "aa = w + 1/beta\n",
        "ps = w + aa\n",
        "ww = 1/aa**2\n",
        "wnew = EbayesThresh.isotone(ps, ww, increasing = False)\n",
        "wnew"
      ],
      "id": "50d3f97e-3039-4325-98ab-205c5eacc612"
    },
    {
      "cell_type": "markdown",
      "metadata": {},
      "source": [
        "R\n",
        "\n",
        "``` r\n",
        "> beta <- beta.cauchy(c(-2,1,0,-4))\n",
        "> w <- rep(1, length(x))\n",
        "> aa = w + 1/beta\n",
        "> ps = w + aa\n",
        "> ww = 1/aa**2\n",
        "> wnew = isotone(ps, ww, increasing = FALSE)\n",
        "> wnew\n",
        "[1] 3.674301 0.760411 0.760411 0.760411\n",
        "```\n",
        "\n",
        "# wmonfromx\n",
        "\n",
        "> Given a vector of data, find the marginal maximum likelihood choice of\n",
        "> weight sequence subject to the constraints that the weights are\n",
        "> monotone decreasing\n",
        "\n",
        "*데이터에 대해 가중치 시퀀스를 선택하는 과정에서 조건이 주어지는데, 이\n",
        "가중치 시퀀스는 각각의 가중치 값이 단조 감소해야 하며, 주어진 데이터에\n",
        "대한 최대 우도를 갖도록 선택되어야 함.*"
      ],
      "id": "80ae9773-42be-4f20-a7d4-997a79f9050a"
    },
    {
      "cell_type": "code",
      "execution_count": 6,
      "metadata": {},
      "outputs": [],
      "source": [
        "xd = np.random.normal(0, 1, size=10)\n",
        "prior = \"laplace\"\n",
        "a = 0.5\n",
        "tol = 1e-08\n",
        "maxits = 20"
      ],
      "id": "3aa2177c-5d49-41f7-8de1-03ad794876fb"
    },
    {
      "cell_type": "code",
      "execution_count": 7,
      "metadata": {},
      "outputs": [],
      "source": [
        "pr = prior[0:1]\n",
        "pr"
      ],
      "id": "001fbe8c-ff43-4a1b-9dec-37f68d8c8ec2"
    },
    {
      "cell_type": "code",
      "execution_count": 8,
      "metadata": {},
      "outputs": [],
      "source": [
        "nx = len(xd)\n",
        "nx"
      ],
      "id": "b5465c74-ce75-4766-8336-3cdac24f412b"
    },
    {
      "cell_type": "code",
      "execution_count": 9,
      "metadata": {},
      "outputs": [],
      "source": [
        "wmin = EbayesThresh.wfromt(np.sqrt(2 * np.log(len(xd))), prior=prior, a=a)\n",
        "wmin"
      ],
      "id": "432b7102-4761-4e74-92fe-cb3fdf506c66"
    },
    {
      "cell_type": "code",
      "execution_count": 12,
      "metadata": {},
      "outputs": [],
      "source": [
        "winit = 1\n",
        "winit"
      ],
      "id": "efbff82a-6850-4c50-bab5-eca5c437e9cd"
    },
    {
      "cell_type": "code",
      "execution_count": 14,
      "metadata": {},
      "outputs": [],
      "source": [
        "if pr == \"l\":\n",
        "    beta = EbayesThresh.beta_laplace(xd, a=a)\n",
        "if pr == \"c\":\n",
        "    beta = EbayesThresh.beta_cauchy(xd)"
      ],
      "id": "212aeb05-8200-4fa8-acb2-a40d05bd2764"
    },
    {
      "cell_type": "code",
      "execution_count": 15,
      "metadata": {},
      "outputs": [],
      "source": [
        "w = np.repeat(winit, len(beta))\n",
        "w"
      ],
      "id": "413dc397-1929-426c-b009-5aa31042e5b2"
    },
    {
      "cell_type": "code",
      "execution_count": 21,
      "metadata": {},
      "outputs": [],
      "source": [
        "for j in range(maxits):\n",
        "    aa = w + 1 / beta\n",
        "    ps = w + aa\n",
        "    ww = 1 / aa ** 2\n",
        "    wnew = EbayesThresh.isotone(ps, ww, increasing=False)\n",
        "    wnew = np.maximum(wmin, wnew)\n",
        "    wnew = np.minimum(1, wnew)\n",
        "    zinc = np.max(np.abs(np.diff(wnew)))\n",
        "    w = wnew\n",
        "    # if zinc < tol:\n",
        "    #     return w"
      ],
      "id": "462512a3-e114-4c03-bf83-28abd61791ac"
    },
    {
      "cell_type": "code",
      "execution_count": null,
      "metadata": {},
      "outputs": [],
      "source": [
        "warnings.filterwarnings(\"More iterations required to achieve convergence\")"
      ],
      "id": "2496f0ea-5005-467b-9e0a-0669d7d2eb28"
    },
    {
      "cell_type": "markdown",
      "metadata": {},
      "source": [
        "R코드\n",
        "\n",
        "``` r\n",
        "wmonfromx <- function (xd, prior = \"laplace\", a = 0.5,\n",
        "                       tol = 1e-08, maxits = 20) {\n",
        "#\n",
        "#  Find the monotone marginal maximum likelihood estimate of the\n",
        "#   mixing weights for the Laplace prior with parameter a.  It is\n",
        "#   assumed that the noise variance is equal to one.\n",
        "#\n",
        "#  Find the beta values and the minimum weight\n",
        "#  \n",
        "#  Current version allows for standard deviation of 1 only.\n",
        "#\n",
        "    pr <- substring(prior, 1, 1)\n",
        "    nx <- length(xd)\n",
        "    wmin <- wfromt(sqrt(2 * log(length(xd))), prior=prior, a=a)\n",
        "    winit <- 1\n",
        "    if(pr == \"l\")\n",
        "      beta <- beta.laplace(xd, a=a)\n",
        "    if(pr == \"c\")\n",
        "           beta <- beta.cauchy(xd)\n",
        "        \n",
        "#   now conduct iterated weighted least squares isotone regression\n",
        "#    \n",
        "    w <- rep(winit, length(beta))\n",
        "    for(j in (1:maxits)) {\n",
        "        aa <- w + 1/beta\n",
        "        ps <- w + aa\n",
        "        ww <- 1/aa^2\n",
        "        wnew <- isotone(ps, ww, increasing = FALSE)\n",
        "        wnew <- pmax(wmin, wnew)\n",
        "        wnew <- pmin(1, wnew)\n",
        "        zinc <- max(abs(range(wnew - w)))\n",
        "        w <- wnew\n",
        "        if(zinc < tol)\n",
        "          return(w)\n",
        "    }\n",
        "        \n",
        "    warning(\"More iterations required to achieve convergence\")\n",
        "    return(w)\n",
        "}\n",
        "```\n",
        "\n",
        "결과\n",
        "\n",
        "-   Python"
      ],
      "id": "01f9a167-ea34-4c89-b9ad-462aa92fb1fc"
    },
    {
      "cell_type": "code",
      "execution_count": 11,
      "metadata": {},
      "outputs": [],
      "source": [
        "EbayesThresh.wmonfromx(xd = np.random.normal(0, 1, size=10), prior = \"laplace\")"
      ],
      "id": "97c98c4a-4cd9-454c-877d-5f6a381ca9c4"
    },
    {
      "cell_type": "markdown",
      "metadata": {},
      "source": [
        "-   R\n",
        "\n",
        "``` r\n",
        "> wmonfromx(xd <- rnorm(10,0,1), prior = \"laplace\")\n",
        " [1] 0.3102968 0.3102968 0.3102968 0.3102968 0.3102968 0.3102968 0.3102968 0.3102968 0.3102968 0.3102968\n",
        "```\n",
        "\n",
        "> wmonfromx(xd=rnorm(5, s = 1), prior = “laplace”, a = 0.5, tol = 1e-08,\n",
        "> maxits = 20) \\[1\\] 0.9363989 0.9363989 0.9363989 0.4522184 0.4522184\n",
        "\n",
        "# threshld\n",
        "\n",
        "> 임계값 t를 이용해서 데이터 조정"
      ],
      "id": "c954cda0-ad6c-4e32-a75b-0ce29c490d5e"
    },
    {
      "cell_type": "code",
      "execution_count": 7,
      "metadata": {},
      "outputs": [],
      "source": [
        "x = np.array(range(-5,5))\n",
        "t=1.4\n",
        "hard=False"
      ],
      "id": "216a09d4-da51-471d-be9b-f073944c71d2"
    },
    {
      "cell_type": "code",
      "execution_count": 8,
      "metadata": {},
      "outputs": [],
      "source": [
        "if hard:\n",
        "    z = x * (np.abs(x) >= t)\n",
        "else:\n",
        "    z = np.sign(x) * np.maximum(0, np.abs(x) - t)"
      ],
      "id": "1898d591-06c0-4723-afda-a01f081ee379"
    },
    {
      "cell_type": "code",
      "execution_count": 9,
      "metadata": {},
      "outputs": [],
      "source": [
        "z"
      ],
      "id": "043604e6-2845-48fa-9630-c101da258b50"
    },
    {
      "cell_type": "markdown",
      "metadata": {},
      "source": [
        "R코드\n",
        "\n",
        "``` r\n",
        "threshld <- function(x, t, hard = TRUE) {\n",
        "#\n",
        "#  threshold the data x using threshold t\n",
        "#  if hard=TRUE use hard thresholding\n",
        "#  if hard=FALSE use soft thresholding\n",
        "    if(hard) z <- x * (abs(x) >= t) else {\n",
        "        z <- sign(x) * pmax(0, abs(x) - t)\n",
        "    }\n",
        "    return(z)\n",
        "}\n",
        "```\n",
        "\n",
        "결과\n",
        "\n",
        "-   Python"
      ],
      "id": "92669170-1383-4ab6-8005-82a78bd03909"
    },
    {
      "cell_type": "code",
      "execution_count": 3,
      "metadata": {},
      "outputs": [],
      "source": [
        "EbayesThresh.threshld(np.array(range(-5,5)), t=1.4, hard=False)"
      ],
      "id": "0207eaa7-ba48-48ac-abef-b0bf0ddccd0c"
    },
    {
      "cell_type": "markdown",
      "metadata": {},
      "source": [
        "-   R\n",
        "\n",
        "``` r\n",
        "> threshld(as.array(seq(-5, 5)), t=1.4, hard=FALSE)\n",
        " [1] -3.6 -2.6 -1.6 -0.6  0.0  0.0  0.0  0.6  1.6  2.6  3.6\n",
        "```\n",
        "\n",
        "# negloglik_laplace\n",
        "\n",
        "> Marginal negative log likelihood function for laplace prior.\n",
        "\n",
        "-   라플라스 프라이어에 대한 한계음의로그우도함수 계산"
      ],
      "id": "36576a9d-78d7-4dd5-8b25-6f214a2b2c0e"
    },
    {
      "cell_type": "code",
      "execution_count": 11,
      "metadata": {},
      "outputs": [],
      "source": [
        "xpar = np.array([0.5,0.6,0.3])\n",
        "xx = np.array([1,2,3,4,5])\n",
        "ss = np.array([1])\n",
        "tlo = np.sqrt(2 * np.log(len(np.array([1,2,3,4,5])))) * 1\n",
        "thi = np.array([0,0,0])"
      ],
      "id": "3388f296-4220-41f8-ac14-38c7e1639ed9"
    },
    {
      "cell_type": "code",
      "execution_count": 13,
      "metadata": {},
      "outputs": [],
      "source": [
        "a = xpar[1]\n",
        "a"
      ],
      "id": "31bada3e-722f-41ec-b155-bfa4cb879474"
    },
    {
      "cell_type": "code",
      "execution_count": 15,
      "metadata": {},
      "outputs": [],
      "source": [
        "wlo = EbayesThresh.wfromt(thi, ss, a=a)\n",
        "wlo"
      ],
      "id": "d8d04b71-f069-4bc9-8d21-5179c4c1bc61"
    },
    {
      "cell_type": "code",
      "execution_count": 17,
      "metadata": {},
      "outputs": [],
      "source": [
        "whi = EbayesThresh.wfromt(tlo, ss, a=a)\n",
        "whi"
      ],
      "id": "454272d4-f558-4032-9791-a2396790ea45"
    },
    {
      "cell_type": "code",
      "execution_count": 18,
      "metadata": {},
      "outputs": [],
      "source": [
        "wlo = np.max(wlo)\n",
        "wlo"
      ],
      "id": "21855ded-2844-4316-811c-0853bbb2e1d1"
    },
    {
      "cell_type": "code",
      "execution_count": 19,
      "metadata": {},
      "outputs": [],
      "source": [
        "whi = np.min(whi)\n",
        "whi"
      ],
      "id": "afd2b72a-45c8-48c7-8718-e616ec3baafd"
    },
    {
      "cell_type": "code",
      "execution_count": 22,
      "metadata": {},
      "outputs": [],
      "source": [
        "loglik = np.sum(np.log(1 + (xpar[0] * (whi - wlo) + wlo) *\n",
        "                           EbayesThresh.beta_laplace(xx, ss, a)))\n",
        "-loglik"
      ],
      "id": "b6254c74-3006-4f30-940f-418530e28e18"
    },
    {
      "cell_type": "markdown",
      "metadata": {},
      "source": [
        "R코드\n",
        "\n",
        "``` r\n",
        "negloglik.laplace <- function(xpar, xx, ss, tlo, thi) {\n",
        "#\n",
        "#  Marginal negative log likelihood function for laplace prior. \n",
        "#   Constraints for thresholds need to be passed externally.\n",
        "#  \n",
        "#  xx   :data\n",
        "#  xpar :vector of two parameters:\n",
        "#      xpar[1] : a value between [0, 1] which will be adjusted to range of w \n",
        "#      xpar[2] : inverse scale (rate) parameter (\"a\")\n",
        "#  ss   :vector of standard deviations\n",
        "#  tlo  :lower bound of thresholds\n",
        "#  thi  :upper bound of thresholds\n",
        "#\n",
        "    a <- xpar[2]\n",
        "        \n",
        "        # Calculate the range of w given a, using negative monotonicity\n",
        "        # between w and t\n",
        "    wlo <- wfromt(thi, ss, a = a)\n",
        "    whi <- wfromt(tlo, ss, a = a)\n",
        "    wlo <- max(wlo)\n",
        "    whi <- min(whi)\n",
        "    loglik <- sum(log(1 + (xpar[1] * (whi - wlo) + wlo) *\n",
        "                          beta.laplace(xx, ss, a)))\n",
        "    return(-loglik)\n",
        "}\n",
        "```\n",
        "\n",
        "결과\n",
        "\n",
        "-   Python"
      ],
      "id": "4b77513d-e0fe-4012-a27c-9f9f7db7c7c6"
    },
    {
      "cell_type": "code",
      "execution_count": 23,
      "metadata": {},
      "outputs": [],
      "source": [
        "xpar = np.array([0.5,0.6,0.3])\n",
        "xx = np.array([1,2,3,4,5])\n",
        "ss = np.array([1])\n",
        "tlo = np.sqrt(2 * np.log(len(np.array([1,2,3,4,5])))) * 1\n",
        "thi = np.array([0,0,0])"
      ],
      "id": "fa6f36cd-c343-4a35-8e77-bdb85fd10f44"
    },
    {
      "cell_type": "code",
      "execution_count": 24,
      "metadata": {},
      "outputs": [],
      "source": [
        "EbayesThresh.negloglik_laplace(xpar, xx, ss, tlo, thi)"
      ],
      "id": "9afd8514-1c47-4e5d-b70f-a94490fd04a2"
    },
    {
      "cell_type": "markdown",
      "metadata": {},
      "source": [
        "-   R\n",
        "\n",
        "``` r\n",
        "> xpar <- c(0.5, 0.6, 0.3)\n",
        "> xx <- c(1, 2, 3, 4, 5)\n",
        "> ss <- c(1)\n",
        "> tlo <- sqrt(2 * log(length(c(1, 2, 3, 4, 5)))) * 1\n",
        "> thi <- c(0, 0, 0)\n",
        "> negloglik.laplace(xpar, xx, ss, tlo, thi)\n",
        "[1] -16.79727\n",
        "```\n",
        "\n",
        "# postmean_cauchy\n",
        "\n",
        "> Find the posterior mean for the quasi-Cauchy prior with mixing weight\n",
        "> w given data x, which may be a scalar or a vector.\n",
        "\n",
        "-   quasi-Cauch에 대한 사후 평균 구하기"
      ],
      "id": "c19ce4e9-42e5-4416-82fd-a82d545918b4"
    },
    {
      "cell_type": "code",
      "execution_count": 48,
      "metadata": {},
      "outputs": [],
      "source": [
        "x = np.array([-2,1,0,-4,8,50], dtype=float)\n",
        "w = 0.5"
      ],
      "id": "b74b235e-0245-475b-bc8b-52e5c04e9d8f"
    },
    {
      "cell_type": "code",
      "execution_count": 49,
      "metadata": {},
      "outputs": [],
      "source": [
        "muhat = x"
      ],
      "id": "7f4b628e-bd89-4eca-8f1d-0f54163eaa16"
    },
    {
      "cell_type": "code",
      "execution_count": 50,
      "metadata": {},
      "outputs": [],
      "source": [
        "ind = (x == 0)\n",
        "ind"
      ],
      "id": "55c88c28-9fae-4b7d-999b-99ed3c854bb7"
    },
    {
      "cell_type": "code",
      "execution_count": 51,
      "metadata": {},
      "outputs": [],
      "source": [
        "x = x[~ind]\n",
        "x"
      ],
      "id": "3b6529fb-1ab0-4c47-9a47-f95b5c7825be"
    },
    {
      "cell_type": "code",
      "execution_count": 52,
      "metadata": {},
      "outputs": [],
      "source": [
        "ex = np.exp(-x**2/2)\n",
        "ex"
      ],
      "id": "022add34-b091-4c72-9371-b73a95ff6fe2"
    },
    {
      "cell_type": "code",
      "execution_count": 53,
      "metadata": {},
      "outputs": [],
      "source": [
        "z = w * (x - (2 * (1 - ex))/x)\n",
        "z"
      ],
      "id": "acc83e6a-702b-48a5-a6f0-ea73a9a9856f"
    },
    {
      "cell_type": "code",
      "execution_count": 54,
      "metadata": {},
      "outputs": [],
      "source": [
        "z = z / (w * (1 - ex) + (1 - w) * ex * x**2)\n",
        "z"
      ],
      "id": "32d1bcc2-8e38-42ce-ac0f-a3577ab4929e"
    },
    {
      "cell_type": "code",
      "execution_count": 55,
      "metadata": {},
      "outputs": [],
      "source": [
        "muhat[~ind] = z\n",
        "muhat"
      ],
      "id": "d6ca4d4a-2ca3-4a33-a370-9eb33d8c146d"
    },
    {
      "cell_type": "markdown",
      "metadata": {},
      "source": [
        "R코드\n",
        "\n",
        "``` r\n",
        "postmean.cauchy <- function(x, w) {\n",
        "#\n",
        "#  Find the posterior mean for the quasi-Cauchy prior with mixing\n",
        "#   weight w given data x, which may be a scalar or a vector.\n",
        "#\n",
        "    muhat <- x\n",
        "    ind <- (x == 0)\n",
        "    x <- x[!ind]\n",
        "    ex <- exp( - x^2/2)\n",
        "    z <- w * (x - (2 * (1 - ex))/x)\n",
        "    z <- z/(w * (1 - ex) + (1 - w) * ex * x^2)\n",
        "    muhat[!ind] <- z\n",
        "    return(muhat)\n",
        "}\n",
        "```\n",
        "\n",
        "결과\n",
        "\n",
        "-   Python"
      ],
      "id": "4ace9c1d-7e31-49ab-a361-83a80d75e50b"
    },
    {
      "cell_type": "code",
      "execution_count": 56,
      "metadata": {},
      "outputs": [],
      "source": [
        "EbayesThresh.postmean_cauchy(np.array([-2,1,0,-4,8,50], dtype=float),0.5)"
      ],
      "id": "e30de365-f9cf-45bc-87a6-b7b9d89ab545"
    },
    {
      "cell_type": "markdown",
      "metadata": {},
      "source": [
        "-   R\n",
        "\n",
        "``` r\n",
        "> postmean.cauchy(c(-2,1,0,-4,8,50),0.5)\n",
        "[1] -0.8074897  0.2130613  0.0000000 -3.4826433  7.7500000 49.9600000\n",
        "```\n",
        "\n",
        "# wpost_laplace\n",
        "\n",
        "> Calculate the posterior weight for non-zero effect\n",
        "\n",
        "-   0이 아닌 효과에 대한 사후 가중치 계산"
      ],
      "id": "4bb26968-80f0-468c-a2a1-0f77c07d558c"
    },
    {
      "cell_type": "code",
      "execution_count": 59,
      "metadata": {},
      "outputs": [],
      "source": [
        "ㅈ = 0.5\n",
        "x = np.array([-2,1,0,-4,8,50])\n",
        "s = 1\n",
        "a = 0.5"
      ],
      "id": "7a7f72af-2f77-4d52-a920-bc3ba542831b"
    },
    {
      "cell_type": "code",
      "execution_count": 60,
      "metadata": {},
      "outputs": [],
      "source": [
        "laplace_beta = EbayesThresh.beta_laplace(x, s, a)\n",
        "laplace_beta"
      ],
      "id": "4da89605-18ee-4b80-970a-654875db9779"
    },
    {
      "cell_type": "code",
      "execution_count": 61,
      "metadata": {},
      "outputs": [],
      "source": [
        "1 - (1 - w) / (1 + w * laplace_beta)"
      ],
      "id": "c6e8bcee-8887-4576-bfaa-f2334aee3083"
    },
    {
      "cell_type": "markdown",
      "metadata": {},
      "source": [
        "R코드\n",
        "\n",
        "``` r\n",
        "wpost.laplace <- function(w, x, s = 1, a = 0.5)\n",
        "#\n",
        "#  Calculate the posterior weight for non-zero effect\n",
        "#\n",
        "  1 - (1 - w)/(1 + w * beta.laplace(x, s, a))\n",
        "```\n",
        "\n",
        "결과\n",
        "\n",
        "-   Python"
      ],
      "id": "65b0a576-8e73-4ef4-8123-c0aaf9ea17dd"
    },
    {
      "cell_type": "code",
      "execution_count": 57,
      "metadata": {},
      "outputs": [],
      "source": [
        "EbayesThresh.wpost_laplace(0.5,np.array([-2,1,0,-4,8,50]))"
      ],
      "id": "def1cb56-68a3-4b8d-9b26-4f0b41967eb6"
    },
    {
      "cell_type": "markdown",
      "metadata": {},
      "source": [
        "-   R\n",
        "\n",
        "이베이즈 깃헙에 있는데 R 패키지에는 없음.\n",
        "\n",
        "# postmean.laplace\n",
        "\n",
        "> Find the posterior mean for the double exponential prior for given\n",
        "> $x, s (sd), w$, and $a$.\n",
        "\n",
        "-   이전 지수 분포에 대한 사후 평균"
      ],
      "id": "095b10d5-bd01-4deb-8f64-df5a136683db"
    },
    {
      "cell_type": "code",
      "execution_count": 82,
      "metadata": {},
      "outputs": [],
      "source": [
        "x = np.array([-2,1,0,-4,8,50])\n",
        "s = 1\n",
        "w = 0.5\n",
        "a = 0.5"
      ],
      "id": "a8126ddd-5f06-4aea-814c-766bb7dd4b21"
    },
    {
      "cell_type": "code",
      "execution_count": 83,
      "metadata": {},
      "outputs": [],
      "source": [
        "a = min(a, 20)\n",
        "a"
      ],
      "id": "844ae66c-cd57-4959-840b-6b8c1413db19"
    },
    {
      "cell_type": "code",
      "execution_count": 84,
      "metadata": {},
      "outputs": [],
      "source": [
        "w_post = EbayesThresh.wpost_laplace(w, x, s, a)\n",
        "w_post"
      ],
      "id": "b7d0aec8-e1ee-4bde-ab50-8bfa9a89be1e"
    },
    {
      "cell_type": "code",
      "execution_count": 85,
      "metadata": {},
      "outputs": [],
      "source": [
        "sx = np.sign(x)\n",
        "sx"
      ],
      "id": "c9b2bd8a-6cb9-457a-b7c5-279884b6a60b"
    },
    {
      "cell_type": "code",
      "execution_count": 86,
      "metadata": {},
      "outputs": [],
      "source": [
        "x = np.abs(x)\n",
        "x"
      ],
      "id": "f66c7594-6b43-4acc-909c-ba626dab8b85"
    },
    {
      "cell_type": "code",
      "execution_count": 87,
      "metadata": {},
      "outputs": [],
      "source": [
        "xpa = x/s + s*a\n",
        "xpa"
      ],
      "id": "8d74e731-acf1-443f-96bd-fa434858d04f"
    },
    {
      "cell_type": "code",
      "execution_count": 88,
      "metadata": {},
      "outputs": [],
      "source": [
        "xma = x/s - s*a\n",
        "xma"
      ],
      "id": "321c53e3-dc4f-4914-a03c-24e685580e82"
    },
    {
      "cell_type": "code",
      "execution_count": 89,
      "metadata": {},
      "outputs": [],
      "source": [
        "xpa[xpa > 35] = 35\n",
        "xpa"
      ],
      "id": "4db15f50-64ed-48da-a7c8-16bd5990f031"
    },
    {
      "cell_type": "code",
      "execution_count": 90,
      "metadata": {},
      "outputs": [],
      "source": [
        "xma[xma < -35] = -35\n",
        "xma"
      ],
      "id": "fa6eb73f-0810-4fe6-87bd-33eb81f022c3"
    },
    {
      "cell_type": "code",
      "execution_count": 91,
      "metadata": {},
      "outputs": [],
      "source": [
        "cp1 = norm.cdf(xma)\n",
        "cp1"
      ],
      "id": "52495477-5870-45fb-89ab-b2ca237895c4"
    },
    {
      "cell_type": "code",
      "execution_count": 92,
      "metadata": {},
      "outputs": [],
      "source": [
        "cp2 = norm.cdf(-xpa)\n",
        "cp2"
      ],
      "id": "f467e1c5-b69c-4342-808e-d2ecfb0ea8e1"
    },
    {
      "cell_type": "code",
      "execution_count": 93,
      "metadata": {},
      "outputs": [],
      "source": [
        "ef = np.exp(np.minimum(2 * a * x, 100))\n",
        "ef"
      ],
      "id": "62f26cd5-257e-4c54-b606-2f49e651652d"
    },
    {
      "cell_type": "code",
      "execution_count": 94,
      "metadata": {},
      "outputs": [],
      "source": [
        "postmean_cond = x - a * s**2 * (2 * cp1 / (cp1 + ef * cp2) - 1)\n",
        "postmean_cond"
      ],
      "id": "92d449c1-5770-4adf-aeb4-295507cf7484"
    },
    {
      "cell_type": "code",
      "execution_count": 95,
      "metadata": {},
      "outputs": [],
      "source": [
        "sx * w_post * postmean_cond"
      ],
      "id": "c993cbe4-fbd2-4e62-83d2-e548282a7c30"
    },
    {
      "cell_type": "markdown",
      "metadata": {},
      "source": [
        "R코드\n",
        "\n",
        "``` r\n",
        "postmean.laplace <- function(x, s = 1, w = 0.5, a = 0.5) {\n",
        "#\n",
        "#  Find the posterior mean for the double exponential prior for \n",
        "#   given x, s (sd), w and a.\n",
        "#\n",
        "    \n",
        "  # Only allow a < 20 for input value.\n",
        "  a <- min(a, 20)\n",
        "  \n",
        "  # First find the probability of being non-zero\n",
        "    wpost <- wpost.laplace(w, x, s, a)\n",
        "  \n",
        "  # Now find the posterior mean conditional on being non-zero\n",
        "    sx <- sign(x)\n",
        "    x <- abs(x)\n",
        "    xpa <- x/s + s*a\n",
        "    xma <- x/s - s*a\n",
        "    xpa[xpa > 35] <- 35\n",
        "    xma[xma < -35] <- -35\n",
        "    \n",
        "    cp1 <- pnorm(xma)\n",
        "    cp2 <- pnorm( - xpa)\n",
        "    ef <- exp(pmin(2 * a * x, 100))\n",
        "    postmeancond <- x - a * s^2 * ( 2 * cp1/(cp1 + ef * cp2) - 1)\n",
        "  \n",
        "  # Calculate posterior mean and return\n",
        "    return(sx * wpost * postmeancond)\n",
        "}\n",
        "```\n",
        "\n",
        "결과\n",
        "\n",
        "-   Python"
      ],
      "id": "a2ad7f25-815a-4600-a9fa-5b5a82575cc3"
    },
    {
      "cell_type": "code",
      "execution_count": 3,
      "metadata": {},
      "outputs": [],
      "source": [
        "EbayesThresh.postmean_laplace(np.array([-2,1,0,-4,8,50]))"
      ],
      "id": "82b4fc5b-6d08-44d8-bc18-ba08d4f510c4"
    },
    {
      "cell_type": "markdown",
      "metadata": {},
      "source": [
        "-   R\n",
        "\n",
        "``` r\n",
        "> postmean.laplace(c(-2,1,0,-4,8,50))\n",
        "[1] -1.0115896  0.2709533  0.0000000 -3.4880092  7.5000000 49.5000000\n",
        "```\n",
        "\n",
        "# postmean\n",
        "\n",
        "> Given a single value or a vector of data and sampling standard\n",
        "> deviations (sd equals 1 for Cauchy prior), find the corresponding\n",
        "> posterior mean estimate(s) of the underlying signal value(s).\n",
        "\n",
        "-   적절한 사후 평균 찾기"
      ],
      "id": "314fb410-22fd-4917-8f8b-f565557d62ba"
    },
    {
      "cell_type": "code",
      "execution_count": 4,
      "metadata": {},
      "outputs": [],
      "source": [
        "x = np.array([-2,1,0,-4,8,50])\n",
        "s = 1\n",
        "w = 0.5\n",
        "prior = \"laplace\"\n",
        "a = 0.5"
      ],
      "id": "4db78d4f-ee39-42a2-85aa-8b3fd298169d"
    },
    {
      "cell_type": "code",
      "execution_count": 5,
      "metadata": {},
      "outputs": [],
      "source": [
        "pr = prior[0:1]\n",
        "pr"
      ],
      "id": "47751138-2876-4ba8-baaa-825aa496a264"
    },
    {
      "cell_type": "code",
      "execution_count": 7,
      "metadata": {},
      "outputs": [],
      "source": [
        "if pr == \"l\":\n",
        "    mutilde = EbayesThresh.postmean_laplace(x, s, w, a=a)\n",
        "elif pr == \"c\":\n",
        "    if np.any(s != 1):\n",
        "        raise ValueError(\"Only standard deviation of 1 is allowed for Cauchy prior.\")\n",
        "    mutilde = postmean_cauchy(x, w)\n",
        "else:\n",
        "    raise ValueError(\"Unknown prior type.\")"
      ],
      "id": "fd9e3780-6672-4054-bab8-d389dd1515ad"
    },
    {
      "cell_type": "code",
      "execution_count": 8,
      "metadata": {},
      "outputs": [],
      "source": [
        "mutilde"
      ],
      "id": "b0c298aa-dc02-4eb3-9e6e-dbf56036ffb2"
    },
    {
      "cell_type": "markdown",
      "metadata": {},
      "source": [
        "R코드\n",
        "\n",
        "``` r\n",
        "postmean <- function(x, s = 1, w = 0.5, prior = \"laplace\", a = 0.5) {\n",
        "#\n",
        "#  Find the posterior mean for the appropriate prior for \n",
        "#   given x, s (sd), w and a.\n",
        "#\n",
        "    pr <- substring(prior, 1, 1)\n",
        "    if(pr == \"l\")\n",
        "        mutilde <- postmean.laplace(x, s, w, a = a)\n",
        "    if(pr == \"c\"){\n",
        "            if(any(s != 1))\n",
        "                stop(paste(\"Only standard deviation of 1 is allowed\",\n",
        "                           \"for Cauchy prior.\"))\n",
        "        mutilde <- postmean.cauchy(x, w)\n",
        "    }\n",
        "    return(mutilde)\n",
        "}\n",
        "```\n",
        "\n",
        "결과\n",
        "\n",
        "-   Python"
      ],
      "id": "94f5df43-04f3-49f6-a88c-f9c38c5f0ca8"
    },
    {
      "cell_type": "code",
      "execution_count": 9,
      "metadata": {},
      "outputs": [],
      "source": [
        "EbayesThresh.postmean(np.array([-2,1,0,-4,8,50]), s=1, w = 0.5, prior = \"laplace\", a = 0.5)"
      ],
      "id": "4f6ec048-878a-4dde-bbd2-bcaefbd09b1c"
    },
    {
      "cell_type": "markdown",
      "metadata": {},
      "source": [
        "-   R\n",
        "\n",
        "``` r\n",
        "> postmean(c(-2,1,0,-4,8,50), s=1, w = 0.5, prior = \"laplace\", a = 0.5)\n",
        "[1] -1.0115896  0.2709533  0.0000000 -3.4880092  7.5000000 49.5000000\n",
        "```\n",
        "\n",
        "# wandafromx\n",
        "\n",
        "> Given a vector of data and a single value or vector of sampling\n",
        "> standard deviations, find the marginal maximum likelihood choice of\n",
        "> both weight and scale factor under the Laplace prior"
      ],
      "id": "b22cf27e-2ee2-48eb-847e-c02d7df10848"
    },
    {
      "cell_type": "code",
      "execution_count": 114,
      "metadata": {},
      "outputs": [],
      "source": [
        "x = np.array([-2,1,0,-4,8], dtype=float)\n",
        "s = 1\n",
        "universalthresh = True"
      ],
      "id": "a4fa125f-fd39-40df-ba23-57465d12e44e"
    },
    {
      "cell_type": "code",
      "execution_count": 115,
      "metadata": {},
      "outputs": [],
      "source": [
        "if universalthresh:\n",
        "    thi = np.sqrt(2 * np.log(len(x))) * s\n",
        "else:\n",
        "    thi = np.inf"
      ],
      "id": "7e3238e2-e904-4fc7-8839-b2adf0ad3f0a"
    },
    {
      "cell_type": "code",
      "execution_count": 116,
      "metadata": {},
      "outputs": [],
      "source": [
        "thi"
      ],
      "id": "c216dbab-0e8c-42d3-9863-b07b725b9c78"
    },
    {
      "cell_type": "code",
      "execution_count": 117,
      "metadata": {},
      "outputs": [],
      "source": [
        "if isinstance(s, int):\n",
        "    tlo = np.zeros(len(str(s)))\n",
        "else:\n",
        "    tlo = np.zeros(len(s))"
      ],
      "id": "cce71525-16f8-4d55-b8a0-e66576b86a87"
    },
    {
      "cell_type": "code",
      "execution_count": 118,
      "metadata": {},
      "outputs": [],
      "source": [
        "tlo"
      ],
      "id": "707b65ee-17ad-4728-b4de-c890809831b7"
    },
    {
      "cell_type": "code",
      "execution_count": 119,
      "metadata": {},
      "outputs": [],
      "source": [
        "lo = np.array([0, 0.04])\n",
        "lo"
      ],
      "id": "aff5dc4d-18fc-4f8e-b8b5-48ff4345fa7e"
    },
    {
      "cell_type": "code",
      "execution_count": 120,
      "metadata": {},
      "outputs": [],
      "source": [
        "hi = np.array([1, 3])\n",
        "hi"
      ],
      "id": "254942b8-ea01-4690-ba94-93059e7de381"
    },
    {
      "cell_type": "code",
      "execution_count": 121,
      "metadata": {},
      "outputs": [],
      "source": [
        "startpar = np.array([0.5, 0.5])\n",
        "startpar"
      ],
      "id": "501f23f2-ded1-4f88-ba65-63f569e25e68"
    },
    {
      "cell_type": "markdown",
      "metadata": {},
      "source": [
        "------------------------------------------------------------------------\n",
        "\n",
        "negloglik_laplace 결과도 같음"
      ],
      "id": "4a40d4e4-7b3d-4049-8de4-c74b8fc02f9a"
    },
    {
      "cell_type": "code",
      "execution_count": 122,
      "metadata": {},
      "outputs": [],
      "source": [
        "EbayesThresh.negloglik_laplace(startpar, x, s, tlo, thi).round(5)"
      ],
      "id": "af94037e-8000-4297-9dc0-d363021fb9a4"
    },
    {
      "cell_type": "markdown",
      "metadata": {},
      "source": [
        "-   R\n",
        "\n",
        "``` r\n",
        "> negloglik.laplace(startpar,x,s,thi,tlo)\n",
        "[1] -32.32783\n",
        "```\n",
        "\n",
        "------------------------------------------------------------------------"
      ],
      "id": "39e44ea6-cbfe-49dd-a0c4-1d00594a1fe7"
    },
    {
      "cell_type": "code",
      "execution_count": 123,
      "metadata": {},
      "outputs": [],
      "source": [
        "if 'optim' in globals():\n",
        "    result = minimize(EbayesThresh.negloglik_laplace, startpar, method='L-BFGS-B', bounds=[(lo[0], hi[0]), (lo[1], hi[1])], args=(x, s, tlo, thi))\n",
        "    uu = result.x\n",
        "else:\n",
        "    result = minimize(EbayesThresh.negloglik_laplace, startpar, bounds=[(lo[0], hi[0]), (lo[1], hi[1])], args=(x, s, tlo, thi))\n",
        "    uu = result.x"
      ],
      "id": "ca8d507d-6f28-40f9-a93d-012722318759"
    },
    {
      "cell_type": "code",
      "execution_count": 125,
      "metadata": {},
      "outputs": [],
      "source": [
        "minimize(EbayesThresh.negloglik_laplace, startpar, method='L-BFGS-B',\n",
        "         bounds=[(lo[0], hi[0]), (lo[1], hi[1])], args=(x, s, tlo, thi)).x"
      ],
      "id": "14273393-f09e-4376-b529-bc7f6140946c"
    },
    {
      "cell_type": "code",
      "execution_count": 126,
      "metadata": {},
      "outputs": [],
      "source": [
        "minimize(EbayesThresh.negloglik_laplace, startpar, method='L-BFGS-B',\n",
        "         bounds=[(lo[0], hi[0]), (lo[1], hi[1])], args=(x, s, thi, tlo)).fun.round(5)"
      ],
      "id": "376d5a67-1003-4a53-887d-1fe2928f163d"
    },
    {
      "cell_type": "markdown",
      "metadata": {},
      "source": [
        "``` r\n",
        "> optim(startpar, negloglik.laplace, method=\"L-BFGS-B\",\n",
        "+               lower = lo, upper = hi, xx = x, ss = s, thi = thi,\n",
        "+               tlo = tlo)$par\n",
        "[1] 0.6948121 0.3001091\n",
        "> optim(startpar, negloglik.laplace, method=\"L-BFGS-B\",\n",
        "+               lower = lo, upper = hi, xx = x, ss = s, thi = thi,\n",
        "+               tlo = tlo)$value\n",
        "[1] -33.07559\n",
        "```"
      ],
      "id": "7ad7ca7c-1dca-43e5-8e19-ca3136dbe274"
    },
    {
      "cell_type": "code",
      "execution_count": 127,
      "metadata": {},
      "outputs": [],
      "source": [
        "a = uu[1]\n",
        "a"
      ],
      "id": "c2078b68-3a38-4110-ab7f-6ab8a1c73193"
    },
    {
      "cell_type": "code",
      "execution_count": 128,
      "metadata": {},
      "outputs": [],
      "source": [
        "wlo = EbayesThresh.wfromt(thi, s, a=a)\n",
        "wlo"
      ],
      "id": "2920d7e7-9fb5-4109-b8a2-29d17772b3bc"
    },
    {
      "cell_type": "code",
      "execution_count": 129,
      "metadata": {},
      "outputs": [],
      "source": [
        "whi = EbayesThresh.wfromt(tlo, s, a=a)\n",
        "whi"
      ],
      "id": "2abe8d5a-4f63-4e7c-b5d2-d404cfc782c6"
    },
    {
      "cell_type": "code",
      "execution_count": 130,
      "metadata": {},
      "outputs": [],
      "source": [
        "wlo = np.max(wlo)\n",
        "wlo"
      ],
      "id": "a6fa31cc-0444-4c2a-be58-3a62df0f7959"
    },
    {
      "cell_type": "code",
      "execution_count": 131,
      "metadata": {},
      "outputs": [],
      "source": [
        "whi = np.min(whi)\n",
        "whi"
      ],
      "id": "33ba010f-71e3-413e-8e88-ba3f6a1a7f29"
    },
    {
      "cell_type": "markdown",
      "metadata": {},
      "source": [
        "여기서 uu\\[0\\]값이 R과 다름"
      ],
      "id": "68406433-413a-4bd4-a6c2-a1ef947e8b20"
    },
    {
      "cell_type": "code",
      "execution_count": 132,
      "metadata": {},
      "outputs": [],
      "source": [
        "w = uu[0] * (whi - wlo) + wlo\n",
        "w"
      ],
      "id": "ec7940ed-4b74-4b02-a7f3-985969881764"
    },
    {
      "cell_type": "markdown",
      "metadata": {},
      "source": [
        "R코드\n",
        "\n",
        "``` r\n",
        "wandafromx <- function(x, s = 1, universalthresh = TRUE) {\n",
        "#\n",
        "#  Find the marginal max lik estimators of w and a given standard\n",
        "#   deviation s, using a bivariate optimization;\n",
        "#    \n",
        "#  If universalthresh=TRUE, the thresholds will be upper bounded by\n",
        "#   universal threshold adjusted by standard deviation. The threshold\n",
        "#   is constrained to lie between 0 and sqrt ( 2 log (n)) *\n",
        "#   s. Otherwise, threshold can take any nonnegative value;\n",
        "#\n",
        "#  If running R, the routine optim is used; in S-PLUS the routine is\n",
        "#   nlminb.\n",
        "#\n",
        "    \n",
        "  # Range for thresholds\n",
        "  if(universalthresh) {\n",
        "    thi <- sqrt(2 * log(length(x))) * s\n",
        "  } else{\n",
        "    thi <- Inf\n",
        "  }\n",
        "  \n",
        "    tlo <- rep(0, length(s))\n",
        "    lo  <-  c(0,0.04)\n",
        "    hi  <-  c(1,3)\n",
        "    startpar  <-  c(0.5,0.5)\n",
        "    if (exists(\"optim\")) {\n",
        "      uu <- optim(startpar, negloglik.laplace, method=\"L-BFGS-B\",\n",
        "                      lower = lo, upper = hi, xx = x, ss = s, thi = thi,\n",
        "                      tlo = tlo)\n",
        "          uu <- uu$par\n",
        "    }\n",
        "    else {\n",
        "          uu <- nlminb(startpar, negloglik.laplace, lower = lo,\n",
        "                       upper = hi, xx = x, ss = s, thi = thi, tlo = tlo)\n",
        "          uu <- uu$parameters\n",
        "        }\n",
        "    \n",
        "    a <- uu[2]\n",
        "    wlo <- wfromt(thi, s, a = a)\n",
        "    whi <- wfromt(tlo, s, a = a)\n",
        "    wlo <- max(wlo)\n",
        "    whi <- min(whi)\n",
        "    w <- uu[1]*(whi - wlo) + wlo\n",
        "    return(list(w=w, a=a))\n",
        "}\n",
        "```\n",
        "\n",
        "결과\n",
        "\n",
        "-   Pythom"
      ],
      "id": "f530deb5-e765-439c-a771-6e539652f53d"
    },
    {
      "cell_type": "code",
      "execution_count": 3,
      "metadata": {},
      "outputs": [],
      "source": [
        "EbayesThresh.wandafromx(np.array([-2,1,0,-4,8,50], dtype=float))"
      ],
      "id": "a7131cbd-1729-4ec7-a77d-6906a49c29f2"
    },
    {
      "cell_type": "code",
      "execution_count": 4,
      "metadata": {},
      "outputs": [],
      "source": [
        "EbayesThresh.wandafromx(np.array([-2,1,0,-4,8], dtype=float))"
      ],
      "id": "71589270-c5b6-4144-83e1-6b7108cdfc36"
    },
    {
      "cell_type": "markdown",
      "metadata": {},
      "source": [
        "-   R\n",
        "\n",
        "``` r\n",
        "> wandafromx(c(-2,1,0,-4,8,50))\n",
        "$w\n",
        "[1] 1\n",
        "\n",
        "$a\n",
        "[1] 0.4163946\n",
        "> wandafromx(c(-2,1,0,-4,8))\n",
        "$w\n",
        "[1] 0.8466808\n",
        "\n",
        "$a\n",
        "[1] 0.3001091\n",
        "```\n",
        "\n",
        "# vecbinsolv"
      ],
      "id": "c5c67ec8-4d67-454d-9299-1ad0d5b423c2"
    },
    {
      "cell_type": "code",
      "execution_count": 9,
      "metadata": {},
      "outputs": [],
      "source": [
        "zf = 6\n",
        "def fun(t):\n",
        "    return 2 * t\n",
        "tlo = 0\n",
        "thi = 10\n",
        "nits=30"
      ],
      "id": "30bd5963-4e82-45fe-ae69-1801eef6c02c"
    },
    {
      "cell_type": "code",
      "execution_count": 10,
      "metadata": {},
      "outputs": [],
      "source": [
        "if isinstance(zf, int):\n",
        "    nz = len(str(zf))\n",
        "else:\n",
        "    nz = len(zf)"
      ],
      "id": "dcabbcb2-3e17-4b29-a449-f6f383ee1284"
    },
    {
      "cell_type": "code",
      "execution_count": 11,
      "metadata": {},
      "outputs": [],
      "source": [
        "nz"
      ],
      "id": "f333c41b-a16d-42d6-9674-db14f475ebbd"
    },
    {
      "cell_type": "code",
      "execution_count": 13,
      "metadata": {},
      "outputs": [],
      "source": [
        "if isinstance(tlo, (int, float)):\n",
        "    tlo = [tlo] * nz"
      ],
      "id": "d1094a7d-5f11-4126-b419-c772fb9c8368"
    },
    {
      "cell_type": "code",
      "execution_count": 14,
      "metadata": {},
      "outputs": [],
      "source": [
        "tlo"
      ],
      "id": "762d1b29-1a9b-4757-8aec-da7ea03573ff"
    },
    {
      "cell_type": "code",
      "execution_count": 15,
      "metadata": {},
      "outputs": [],
      "source": [
        "if len(tlo) != nz:\n",
        "    raise ValueError(\"Lower constraint has to be homogeneous or has the same length as #functions.\")"
      ],
      "id": "eff54a2d-1eb6-4143-97bd-1bfea83b506e"
    },
    {
      "cell_type": "code",
      "execution_count": 16,
      "metadata": {},
      "outputs": [],
      "source": [
        "if isinstance(thi, (int, float)):\n",
        "    thi = [thi] * nz"
      ],
      "id": "a387c62e-0b90-4a21-9afd-1bdd3bd34c81"
    },
    {
      "cell_type": "code",
      "execution_count": 17,
      "metadata": {},
      "outputs": [],
      "source": [
        "if len(thi) != nz:\n",
        "    raise ValueError(\"Upper constraint has to be homogeneous or has the same length as #functions.\")"
      ],
      "id": "c33ad23f-5430-433c-9dee-a5d55280106b"
    },
    {
      "cell_type": "code",
      "execution_count": 22,
      "metadata": {},
      "outputs": [],
      "source": [
        "for _ in range(nits):\n",
        "    tmid = (tlo + thi) / 2\n",
        "    fmid = fun(tmid)\n",
        "    indt = fmid <= zf\n",
        "    tlo[indt] = tmid[indt]\n",
        "    thi[~indt] = tmid[~indt]"
      ],
      "id": "0476c119-0074-4635-832d-6812a9d742bd"
    },
    {
      "cell_type": "code",
      "execution_count": null,
      "metadata": {},
      "outputs": [],
      "source": [
        "tsol = [(lo + hi) / 2 for lo, hi in zip(tlo, thi)]\n",
        "tsol"
      ],
      "id": "30f4432c-f4bb-4ff4-8e39-612b40168553"
    },
    {
      "cell_type": "markdown",
      "metadata": {},
      "source": [
        "R코드\n",
        "\n",
        "``` r\n",
        "vecbinsolv <- function(zf, fun, tlo, thi, nits = 30, ...) {\n",
        "#\n",
        "#  Given a monotone function fun, and a vector of values\n",
        "#   zf find a vector of numbers t such that f(t) = zf.\n",
        "#   The solution is constrained to lie on the interval (tlo, thi)\n",
        "#\n",
        "#  The function fun may be a vector of increasing functions \n",
        "#\n",
        "#  Present version is inefficient because separate calculations\n",
        "#   are done for each element of z, and because bisections are done even\n",
        "#   if the solution is outside the range supplied\n",
        "#    \n",
        "#  It is important that fun should work for vector arguments.\n",
        "#   Additional arguments to fun can be passed through ...\n",
        "#\n",
        "#  Works by successive bisection, carrying out nits harmonic bisections\n",
        "#   of the interval between tlo and thi\n",
        "#\n",
        "    nz <- length(zf)\n",
        "    if(length(tlo)==1) tlo <- rep(tlo, nz)\n",
        "    if(length(tlo)!=nz)\n",
        "          stop(paste(\"Lower constraint has to be homogeneous\",\n",
        "                     \"or has the same length as #functions.\"))\n",
        "    if(length(thi)==1) thi <- rep(thi, nz)\n",
        "    if(length(thi)!=nz)\n",
        "          stop(paste(\"Upper constraint has to be homogeneous\",\n",
        "                     \"or has the same length as #functions.\"))\n",
        "\n",
        "#  carry out nits bisections\n",
        "#\n",
        "    for(jj in (1:nits)) {\n",
        "        tmid <- (tlo + thi)/2\n",
        "        fmid <- fun(tmid, ...)\n",
        "        indt <- (fmid <= zf)\n",
        "        tlo[indt] <- tmid[indt]\n",
        "        thi[!indt] <- tmid[!indt]\n",
        "    }\n",
        "    tsol <- (tlo + thi)/2\n",
        "    return(tsol)\n",
        "}\n",
        "```\n",
        "\n",
        "결과\n",
        "\n",
        "-   Python"
      ],
      "id": "c7a865c2-3e37-4241-b695-d6ada2fa6361"
    },
    {
      "cell_type": "code",
      "execution_count": 3,
      "metadata": {},
      "outputs": [],
      "source": [
        "zf = 6\n",
        "def fun(t):\n",
        "    return 2 * t\n",
        "tlo = 0\n",
        "thi = 10\n",
        "EbayesThresh.vecbinsolv(zf, fun, tlo, thi)"
      ],
      "id": "76d5c14d-e588-4e10-9f34-de24a985f6de"
    },
    {
      "cell_type": "markdown",
      "metadata": {},
      "source": [
        "-   R\n",
        "\n",
        "``` r\n",
        "> fun <- function(t) {\n",
        "+     return(2 * t)\n",
        "+ }\n",
        "> zf <- 6\n",
        "> tlo <- 0\n",
        "> thi <- 10\n",
        "> vecbinsolv(zf, fun, tlo, thi)\n",
        "[1] 3\n",
        "```\n",
        "\n",
        "`tfromw`\n",
        "\n",
        "> Given a single value or a vector of weights (i.e. prior probabilities\n",
        "> that the parameter is nonzero) and sampling standard deviations (sd\n",
        "> equals 1 for Cauchy prior), find the corresponding threshold(s) under\n",
        "> the specified prior.\n",
        "\n",
        "``` r\n",
        "tfromw <- function(w, s = 1, prior = \"laplace\", bayesfac = FALSE, a = 0.5) {\n",
        "#\n",
        "#  Given the vector of weights w and s (sd), find the threshold or\n",
        "#   vector of thresholds corresponding to these weights, under the\n",
        "#   specified prior.\n",
        "#  If bayesfac=TRUE the Bayes factor thresholds are found, otherwise\n",
        "#   the posterior median thresholds are found.\n",
        "#  If the Laplace prior is used, a gives the value of the inverse scale\n",
        "#   (i.e., rate) parameter\n",
        "#\n",
        "    pr <- substring(prior, 1, 1)\n",
        "    if(bayesfac) {\n",
        "        z <- 1/w - 2\n",
        "        if(pr == \"l\"){ \n",
        "          if(length(w)>=length(s)) {\n",
        "            zz <- z\n",
        "          } else { zz <- rep(z, length(s)) }\n",
        "          tt <- vecbinsolv(zz, beta.laplace, 0, 10, s = s, a = a)\n",
        "        }\n",
        "        if(pr == \"c\")\n",
        "            tt <- vecbinsolv(z, beta.cauchy, 0, 10)\n",
        "    }\n",
        "    else {\n",
        "      z <- 0\n",
        "        if(pr == \"l\"){\n",
        "          zz <- rep(0, max(length(s), length(w)))\n",
        "                  \n",
        "          # When x/s-s*a>25, laplace.threshzero has value\n",
        "          #  close to 1/2; The boundary value of x can be\n",
        "          #  treated as the upper bound for search.\n",
        "          tt <- vecbinsolv(zz, laplace.threshzero, 0, s*(25+s*a),\n",
        "                                   s = s, w = w, a = a)\n",
        "        }\n",
        "        if(pr == \"c\")\n",
        "            tt <- vecbinsolv(z, cauchy.threshzero, 0, 10, w = w)\n",
        "    }\n",
        "    return(tt)\n",
        "}\n",
        "```"
      ],
      "id": "1fe2b2a1-7fb7-4fd2-8e8a-36dc914ade12"
    },
    {
      "cell_type": "code",
      "execution_count": null,
      "metadata": {},
      "outputs": [],
      "source": [
        "def tfromw(w, s=1, prior=\"laplace\", bayesfac=False, a=0.5):\n",
        "    pr = prior[0:1]\n",
        "    if bayesfac:\n",
        "        z = 1/w - 2\n",
        "        if pr == \"l\":\n",
        "            if len(w) >= len(s):\n",
        "                zz = z\n",
        "            else:\n",
        "                zz = np.tile(z, len(s))\n",
        "            tt = vecbinsolv(zz, beta.laplace, 0, 10, s = s, a = a) ********************\n",
        "        elif pr == \"c\":\n",
        "            tt = vecbinsolv(z, beta.cauchy, 0, 10)\n",
        "    else:\n",
        "        z = 0\n",
        "        if pr == \"l\":\n",
        "            zz = [0] * max(len(s), len(w))\n",
        "            tt = vecbinsolv(zz, laplace.threshzero, 0, s*(25+s*a), s = s, w = w, a = a)\n",
        "        elif prior == \"c\":\n",
        "            tt = vecbinsolv(z, cauchy.threshzero, 0, 10, w = w)\n",
        "    return tt\n"
      ],
      "id": "44df58cd-f7fd-48ac-83f2-b7f613f0c90d"
    },
    {
      "cell_type": "markdown",
      "metadata": {},
      "source": [
        "`tfromx`\n",
        "\n",
        "> Given a vector of data and standard deviations (sd equals 1 for Cauchy\n",
        "> prior), find the value or vector (heterogeneous sampling standard\n",
        "> deviation with Laplace prior) of thresholds corresponding to the\n",
        "> marginal maximum likelihood choice of weight.\n",
        "\n",
        "*데이터가 주어졌을때, 가중치의 한계 최대 우도로 임계값 찾는 함수*\n",
        "\n",
        "``` r\n",
        "tfromx <- function (x, s = 1, prior = \"laplace\", bayesfac = FALSE, a = 0.5,\n",
        "                    universalthresh = TRUE) {\n",
        "#\n",
        "#  Given the data x, the prior, and any other parameters, find the\n",
        "#   threshold corresponding to the marginal maximum likelihood\n",
        "#   estimator of the mixing weight.\n",
        "#\n",
        "  pr <- substring(prior, 1, 1)\n",
        "  if(pr == \"c\")\n",
        "    s = 1\n",
        "  if ( pr==\"l\" && is.na (a) ) {\n",
        "    wa <-  wandafromx(x, s, universalthresh)\n",
        "    w  <-  wa$w\n",
        "    a  <-  wa$a \n",
        "  } else {\n",
        "    w <- wfromx(x, s, prior = prior, a = a)\n",
        "  }\n",
        "  return(tfromw(w, s, prior = prior, bayesfac = bayesfac, a = a))\n",
        "}\n",
        "```"
      ],
      "id": "abbf700c-4461-4883-bba1-64ca4af03ffa"
    },
    {
      "cell_type": "code",
      "execution_count": null,
      "metadata": {},
      "outputs": [],
      "source": [
        "EbayesThresh.tfromx(x, s = 1, prior = \"laplace\", bayesfac = False, a = 0.5, universalthresh = True)"
      ],
      "id": "a41ad3ed-bba3-456c-84b7-065385208787"
    }
  ],
  "nbformat": 4,
  "nbformat_minor": 5,
  "metadata": {
    "kernelspec": {
      "name": "python3",
      "display_name": "Python 3",
      "language": "python"
    },
    "language_info": {
      "name": "python",
      "codemirror_mode": {
        "name": "ipython",
        "version": "3"
      },
      "file_extension": ".py",
      "mimetype": "text/x-python",
      "nbconvert_exporter": "python",
      "pygments_lexer": "ipython3",
      "version": "3.8.0"
    }
  }
}