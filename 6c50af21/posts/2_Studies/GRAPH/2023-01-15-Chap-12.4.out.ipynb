{
  "cells": [
    {
      "cell_type": "markdown",
      "metadata": {},
      "source": [
        "# **\\[CGSP\\]** Chap 12.4: Node Subsampling for PSD Estimation\n",
        "\n",
        "신록예찬  \n",
        "1/15/23"
      ],
      "id": "1a3415b6-4b22-4d36-b00d-6bc0b870c05d"
    },
    {
      "cell_type": "code",
      "execution_count": 78,
      "metadata": {},
      "outputs": [],
      "source": [
        "using LinearAlgebra, Plots, FFTW, Statistics"
      ],
      "id": "1961be7a-b0b4-438a-82a0-98145a4170ac"
    },
    {
      "cell_type": "code",
      "execution_count": 76,
      "metadata": {},
      "outputs": [],
      "source": [
        "columnwise_kron = \n",
        "(C,D) -> hcat([kron(C[:,i],D[:,i]) for i in 1:size(C)[2]]...)"
      ],
      "id": "4e611c8e-fcec-42f6-b74f-d5c6c978db92"
    },
    {
      "cell_type": "markdown",
      "metadata": {},
      "source": [
        "# 12.4.1 The Sampling Problem\n",
        "\n",
        "아래와 같이 길이가 $N=10$ 인 신호 ${\\bf x}$를 고려하자."
      ],
      "id": "bdd34c2d-863b-4c74-844f-0658883656f1"
    },
    {
      "cell_type": "code",
      "execution_count": 56,
      "metadata": {},
      "outputs": [],
      "source": [
        "x = rand(10)"
      ],
      "id": "6622496b-db01-480a-9a06-5ca59c0d9d2f"
    },
    {
      "cell_type": "markdown",
      "metadata": {},
      "source": [
        "여기에서 1,3,4,5 번째 원소만 추출하여길이가 $K=4$ 인 신호 ${\\bf y}$를\n",
        "만들고 싶다."
      ],
      "id": "d8e4f5e4-9fa3-4dec-ba63-60c493f89fd8"
    },
    {
      "cell_type": "code",
      "execution_count": 57,
      "metadata": {},
      "outputs": [],
      "source": [
        "y = x[[1,3,4,5]]"
      ],
      "id": "55ca31c8-e2e0-409f-862b-a447a0d5c2cc"
    },
    {
      "cell_type": "markdown",
      "metadata": {},
      "source": [
        "이 과정은 아래와 같이 수행할 수도 있다."
      ],
      "id": "378c7bec-696b-4f25-be75-e77e062d5f7b"
    },
    {
      "cell_type": "code",
      "execution_count": 58,
      "metadata": {},
      "outputs": [],
      "source": [
        "Φ= [1 0 0 0 0 0 0 0 0 0\n",
        "    0 0 1 0 0 0 0 0 0 0\n",
        "    0 0 0 1 0 0 0 0 0 0\n",
        "    0 0 0 0 1 0 0 0 0 0]"
      ],
      "id": "7e9fb407-5aa0-4e68-b8b9-ddac84ca0a37"
    },
    {
      "cell_type": "code",
      "execution_count": 59,
      "metadata": {},
      "outputs": [],
      "source": [
        "Φ*x"
      ],
      "id": "3302e786-3cb6-44b4-88d8-5ddd8c595c01"
    },
    {
      "cell_type": "markdown",
      "metadata": {},
      "source": [
        "즉 적당한 $K\\times N$ selection matrix를 선언하여 subsampling을 수행할\n",
        "수 있다. 이때 매트릭스 ${\\bf \\Phi}$를 subsampling matrix 혹은 sparse\n",
        "sampling matrix 라고 부른다.\n",
        "\n",
        "# 12.4.2 Compressed LS Estimator"
      ],
      "id": "18c7e0e1-4f61-4888-adb5-a1217cf232bb"
    },
    {
      "cell_type": "code",
      "execution_count": 99,
      "metadata": {},
      "outputs": [],
      "source": [
        "N = 10\n",
        "V = [i*j for i in 0:(N-1) for j in 0:(N-1)] |> \n",
        "    x -> reshape(x,(N,N)) .|> \n",
        "    x -> exp(im * (2π/N) * x) "
      ],
      "id": "412aefdc-bdf9-4a12-97a0-73724088cec2"
    },
    {
      "cell_type": "code",
      "execution_count": 100,
      "metadata": {},
      "outputs": [],
      "source": [
        "G = columnwise_kron(conj(V),V)"
      ],
      "id": "c34e22c8-f0c3-4c51-9659-96e1392f8bc2"
    },
    {
      "cell_type": "markdown",
      "metadata": {},
      "source": [
        "`-` 방법1"
      ],
      "id": "4ab367da-069a-4ae9-a2d1-c6e4676e61ac"
    },
    {
      "cell_type": "code",
      "execution_count": 101,
      "metadata": {},
      "outputs": [],
      "source": [
        "ĉx = vec(x*x')\n",
        "p̂ = inv(G' * G) * G' * ĉx"
      ],
      "id": "6c7e421d-311c-4f88-95e1-9a11c8f72cfa"
    },
    {
      "cell_type": "markdown",
      "metadata": {},
      "source": [
        "`-` 방법2"
      ],
      "id": "dc809408-e1c8-4960-abb3-37ea43c24cb0"
    },
    {
      "cell_type": "code",
      "execution_count": 106,
      "metadata": {},
      "outputs": [],
      "source": [
        "ĉy = vec(y*y')\n",
        "p̂ = (kron(Φ,Φ)*G)' * ĉy"
      ],
      "id": "597a9292-67a1-4e09-9004-8ffd5a0bedb3"
    }
  ],
  "nbformat": 4,
  "nbformat_minor": 5,
  "metadata": {
    "kernelspec": {
      "name": "python3",
      "display_name": "Python 3",
      "language": "python"
    },
    "language_info": {
      "name": "python",
      "codemirror_mode": {
        "name": "ipython",
        "version": "3"
      },
      "file_extension": ".py",
      "mimetype": "text/x-python",
      "nbconvert_exporter": "python",
      "pygments_lexer": "ipython3",
      "version": "3.8.16"
    }
  }
}