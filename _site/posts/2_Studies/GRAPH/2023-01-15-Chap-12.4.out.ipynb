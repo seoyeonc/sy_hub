{
  "cells": [
    {
      "cell_type": "markdown",
      "metadata": {},
      "source": [
        "# **\\[CGSP\\]** Chap 12.4: Node Subsampling for PSD Estimation\n",
        "\n",
        "신록예찬  \n",
        "1/15/23"
      ],
      "id": "74eb5d43-14cc-4288-8d6e-35e954679f21"
    },
    {
      "cell_type": "code",
      "execution_count": 78,
      "metadata": {},
      "outputs": [],
      "source": [
        "using LinearAlgebra, Plots, FFTW, Statistics"
      ],
      "id": "5e0b15ba-ba8a-422d-ac4e-923719cbfb69"
    },
    {
      "cell_type": "code",
      "execution_count": 76,
      "metadata": {},
      "outputs": [],
      "source": [
        "columnwise_kron = \n",
        "(C,D) -> hcat([kron(C[:,i],D[:,i]) for i in 1:size(C)[2]]...)"
      ],
      "id": "ac87bc9c-10fa-4780-8341-b7951fadee66"
    },
    {
      "cell_type": "markdown",
      "metadata": {},
      "source": [
        "# 12.4.1 The Sampling Problem\n",
        "\n",
        "아래와 같이 길이가 $N=10$ 인 신호 ${\\bf x}$를 고려하자."
      ],
      "id": "0b815583-cda2-47e4-9c7d-2250fff0ec25"
    },
    {
      "cell_type": "code",
      "execution_count": 56,
      "metadata": {},
      "outputs": [],
      "source": [
        "x = rand(10)"
      ],
      "id": "e39eb85d-cfe7-4700-a72a-a55ce9edf24f"
    },
    {
      "cell_type": "markdown",
      "metadata": {},
      "source": [
        "여기에서 1,3,4,5 번째 원소만 추출하여길이가 $K=4$ 인 신호 ${\\bf y}$를\n",
        "만들고 싶다."
      ],
      "id": "f52af1a2-c45d-4e08-8765-31426c46b272"
    },
    {
      "cell_type": "code",
      "execution_count": 57,
      "metadata": {},
      "outputs": [],
      "source": [
        "y = x[[1,3,4,5]]"
      ],
      "id": "58d99038-d4ce-416a-bb79-144bceed56ef"
    },
    {
      "cell_type": "markdown",
      "metadata": {},
      "source": [
        "이 과정은 아래와 같이 수행할 수도 있다."
      ],
      "id": "09cfdb8e-2061-4a33-b3b5-ce9a3a04faab"
    },
    {
      "cell_type": "code",
      "execution_count": 58,
      "metadata": {},
      "outputs": [],
      "source": [
        "Φ= [1 0 0 0 0 0 0 0 0 0\n",
        "    0 0 1 0 0 0 0 0 0 0\n",
        "    0 0 0 1 0 0 0 0 0 0\n",
        "    0 0 0 0 1 0 0 0 0 0]"
      ],
      "id": "c516c9ae-4c3d-4b82-aa16-7722b64c9b16"
    },
    {
      "cell_type": "code",
      "execution_count": 59,
      "metadata": {},
      "outputs": [],
      "source": [
        "Φ*x"
      ],
      "id": "d28f1583-b4e5-41d1-954a-4fdb5fbaff3d"
    },
    {
      "cell_type": "markdown",
      "metadata": {},
      "source": [
        "즉 적당한 $K\\times N$ selection matrix를 선언하여 subsampling을 수행할\n",
        "수 있다. 이때 매트릭스 ${\\bf \\Phi}$를 subsampling matrix 혹은 sparse\n",
        "sampling matrix 라고 부른다.\n",
        "\n",
        "# 12.4.2 Compressed LS Estimator"
      ],
      "id": "4ea30617-683b-4577-a82e-d1b37f37bbcc"
    },
    {
      "cell_type": "code",
      "execution_count": 99,
      "metadata": {},
      "outputs": [],
      "source": [
        "N = 10\n",
        "V = [i*j for i in 0:(N-1) for j in 0:(N-1)] |> \n",
        "    x -> reshape(x,(N,N)) .|> \n",
        "    x -> exp(im * (2π/N) * x) "
      ],
      "id": "4239f714-ddb2-4d96-b0a7-eafce75655b7"
    },
    {
      "cell_type": "code",
      "execution_count": 100,
      "metadata": {},
      "outputs": [],
      "source": [
        "G = columnwise_kron(conj(V),V)"
      ],
      "id": "f4d5e333-ee4f-47b0-a4a1-be09f0487377"
    },
    {
      "cell_type": "markdown",
      "metadata": {},
      "source": [
        "`-` 방법1"
      ],
      "id": "f129578e-0897-467a-86d2-88404e02b36d"
    },
    {
      "cell_type": "code",
      "execution_count": 101,
      "metadata": {},
      "outputs": [],
      "source": [
        "ĉx = vec(x*x')\n",
        "p̂ = inv(G' * G) * G' * ĉx"
      ],
      "id": "79833aca-9358-4ba5-8545-a7969f015933"
    },
    {
      "cell_type": "markdown",
      "metadata": {},
      "source": [
        "`-` 방법2"
      ],
      "id": "61921ac9-d059-4a17-84b0-9c4053924855"
    },
    {
      "cell_type": "code",
      "execution_count": 106,
      "metadata": {},
      "outputs": [],
      "source": [
        "ĉy = vec(y*y')\n",
        "p̂ = (kron(Φ,Φ)*G)' * ĉy"
      ],
      "id": "21032846-ca1a-4124-b6e6-1cf018576e0f"
    }
  ],
  "nbformat": 4,
  "nbformat_minor": 5,
  "metadata": {
    "kernelspec": {
      "name": "python3",
      "display_name": "Python 3",
      "language": "python"
    },
    "language_info": {
      "name": "python",
      "codemirror_mode": {
        "name": "ipython",
        "version": "3"
      },
      "file_extension": ".py",
      "mimetype": "text/x-python",
      "nbconvert_exporter": "python",
      "pygments_lexer": "ipython3",
      "version": "3.8.16"
    }
  }
}