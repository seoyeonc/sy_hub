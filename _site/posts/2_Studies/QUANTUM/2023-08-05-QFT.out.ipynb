{
  "cells": [
    {
      "cell_type": "markdown",
      "metadata": {},
      "source": [
        "# \\*\\*\\[QUANTUM\\]\\*\\*QFT\n",
        "\n",
        "SEOYEON CHOI  \n",
        "2023-08-05\n",
        "\n",
        "# Import"
      ],
      "id": "df429c73-88b2-4e02-8d27-ea0878dff506"
    },
    {
      "cell_type": "code",
      "execution_count": 16,
      "metadata": {},
      "outputs": [],
      "source": [
        "from qiskit import QuantumCircuit, Aer, transpile, assemble, execute\n",
        "from qiskit.visualization import plot_histogram\n",
        "import matplotlib.pyplot as plt\n",
        "import numpy as np"
      ],
      "id": "c34a004b-c19f-4f6d-8e27-f93a02d59a68"
    },
    {
      "cell_type": "code",
      "execution_count": 4,
      "metadata": {},
      "outputs": [],
      "source": [
        "# 큐비트의 개수\n",
        "num_qubits = 3"
      ],
      "id": "24725b1c-3d5c-407d-9de8-48df71c8759f"
    },
    {
      "cell_type": "code",
      "execution_count": 5,
      "metadata": {},
      "outputs": [],
      "source": [
        "# 양자 회로 생성\n",
        "qc = QuantumCircuit(num_qubits)"
      ],
      "id": "84c4e6e9-af18-4f08-9086-e54877dd3c7b"
    },
    {
      "cell_type": "code",
      "execution_count": 22,
      "metadata": {},
      "outputs": [],
      "source": [
        "QuantumCircuit?"
      ],
      "id": "3d225373-c752-4ee5-924d-a35162885495"
    },
    {
      "cell_type": "code",
      "execution_count": 9,
      "metadata": {},
      "outputs": [],
      "source": [
        "# 양자 퓨리에 변환 수행\n",
        "for qubit in range(num_qubits):\n",
        "    for j in range(qubit):\n",
        "        qc.cp(2 * np.pi / float(2**(qubit-j)), j, qubit)\n",
        "    qc.h(qubit)"
      ],
      "id": "9a49f6e5-46ea-45ad-a4e2-fe1792324e6d"
    },
    {
      "cell_type": "code",
      "execution_count": 10,
      "metadata": {},
      "outputs": [],
      "source": [
        "# 결과를 얻기 위해 회로를 초기화\n",
        "qc.barrier()"
      ],
      "id": "a62f2ef5-57fc-442c-9acf-75937ac6ab42"
    },
    {
      "cell_type": "code",
      "execution_count": 11,
      "metadata": {},
      "outputs": [],
      "source": [
        "# 측정 수행\n",
        "qc.measure_all()"
      ],
      "id": "40439870-2ede-427c-a9ed-d4c67a57369e"
    },
    {
      "cell_type": "code",
      "execution_count": 15,
      "metadata": {},
      "outputs": [
        {
          "output_type": "stream",
          "name": "stderr",
          "text": [
            "DeprecationWarning: Using a qobj for run() is deprecated as of qiskit-aer 0.9.0 and will be removed no sooner than 3 months from that release date. Transpiled circuits should now be passed directly using `backend.run(circuits, **run_options).\n",
            "  result = simulator.run(qobj).result()"
          ]
        }
      ],
      "source": [
        "# 양자 회로 시뮬레이션\n",
        "simulator = Aer.get_backend('aer_simulator')\n",
        "tqc = transpile(qc, simulator)\n",
        "qobj = assemble(tqc)\n",
        "result = simulator.run(qobj).result()"
      ],
      "id": "a02425b0-daac-4c63-b060-0a14749f038f"
    },
    {
      "cell_type": "code",
      "execution_count": 17,
      "metadata": {},
      "outputs": [],
      "source": [
        "# 결과 출력\n",
        "counts = result.get_counts(qc)"
      ],
      "id": "522242d1-5b42-499d-a575-51a3dc318509"
    },
    {
      "cell_type": "code",
      "execution_count": 20,
      "metadata": {},
      "outputs": [],
      "source": [
        "counts"
      ],
      "id": "a7905de0-cee6-47dc-8ea4-eeefaa52eb2d"
    },
    {
      "cell_type": "code",
      "execution_count": 21,
      "metadata": {},
      "outputs": [
        {
          "output_type": "display_data",
          "metadata": {},
          "data": {
            "image/png": "[encoded data removed]"
          }
        }
      ],
      "source": [
        "# 결과 시각화\n",
        "plot_histogram(counts)"
      ],
      "id": "140ee7cb-1d8e-4772-9d02-a7e29fb4bb6a"
    }
  ],
  "nbformat": 4,
  "nbformat_minor": 5,
  "metadata": {
    "kernelspec": {
      "name": "python3",
      "display_name": "Python 3",
      "language": "python"
    },
    "language_info": {
      "name": "python",
      "codemirror_mode": {
        "name": "ipython",
        "version": "3"
      },
      "file_extension": ".py",
      "mimetype": "text/x-python",
      "nbconvert_exporter": "python",
      "pygments_lexer": "ipython3",
      "version": "3.8.0"
    }
  }
}