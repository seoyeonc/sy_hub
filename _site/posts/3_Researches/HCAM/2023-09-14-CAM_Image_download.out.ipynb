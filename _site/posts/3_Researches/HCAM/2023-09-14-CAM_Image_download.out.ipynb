{
  "cells": [
    {
      "cell_type": "markdown",
      "metadata": {},
      "source": [
        "# \\*\\*\\[CAM\\]\\*\\*Image Download\n",
        "\n",
        "SEOYEON CHOI  \n",
        "2023-09-14\n",
        "\n",
        "https://seoyeonc.github.io/chch/cnn/feature%20extraction/big%20data%20analysis/2022/01/11/bd_9주차.html\n",
        "\n",
        "https://seoyeonc.github.io/chch/cam/2022/01/10/bd-8주차_1.html\n",
        "\n",
        "# import"
      ],
      "id": "f10d901c-1450-409f-aaee-36e2b6cb53ec"
    },
    {
      "cell_type": "code",
      "execution_count": 1,
      "metadata": {},
      "outputs": [],
      "source": [
        "import torch \n",
        "from fastai.vision.all import *\n",
        "import cv2\n",
        "import numpy as np\n",
        "import os\n",
        "os.environ['CUDA_LAUNCH_BLOCKING'] = \"1\"\n",
        "os.environ[\"CUDA_VISIBLE_DEVICES\"] = \"0\"\n",
        "import cv2\n",
        "import numpy as np\n",
        "import matplotlib.pyplot as plt\n",
        "from PIL import ImageDraw\n",
        "from PIL import ImageFont\n",
        "from PIL import ImageFile\n",
        "from PIL import Image\n",
        "ImageFile.LOAD_TRUNCATED_IMAGES = True\n",
        "from torchvision.utils import save_image\n",
        "import os"
      ],
      "id": "52b518da-7b1f-47c3-b5af-c578ca1a7ae2"
    },
    {
      "cell_type": "code",
      "execution_count": 2,
      "metadata": {},
      "outputs": [],
      "source": [
        "import rpy2\n",
        "import rpy2.robjects as ro \n",
        "from rpy2.robjects.vectors import FloatVector \n",
        "from rpy2.robjects.packages import importr"
      ],
      "id": "0f3a7f48-cd9c-4643-9f84-640bcb38422b"
    },
    {
      "cell_type": "code",
      "execution_count": 3,
      "metadata": {},
      "outputs": [],
      "source": [
        "def label_func(f):\n",
        "    if f[0].isupper():\n",
        "        return 'cat' \n",
        "    else: \n",
        "        return 'dog' "
      ],
      "id": "4a884697-3fc8-4552-bc54-a74366aab5bf"
    },
    {
      "cell_type": "markdown",
      "metadata": {},
      "source": [
        "# Original Image로 학습하는 과정"
      ],
      "id": "9708958e-8552-43ae-9db8-3541776ce96c"
    },
    {
      "cell_type": "code",
      "execution_count": null,
      "metadata": {},
      "outputs": [],
      "source": [
        "path=untar_data(URLs.PETS)/'images'"
      ],
      "id": "1f1ba35b-bdbb-4487-94f3-91e34393b654"
    },
    {
      "cell_type": "code",
      "execution_count": null,
      "metadata": {},
      "outputs": [],
      "source": [
        "# path.ls()"
      ],
      "id": "19050cc0-c59b-4d4a-8e7b-b2a3d56c2d3e"
    },
    {
      "cell_type": "code",
      "execution_count": null,
      "metadata": {},
      "outputs": [],
      "source": [
        "files=get_image_files(path)"
      ],
      "id": "70016aa0-0066-47a4-8c7a-5d5234ce7041"
    },
    {
      "cell_type": "code",
      "execution_count": null,
      "metadata": {},
      "outputs": [],
      "source": [
        "dls=ImageDataLoaders.from_name_func(path,files,label_func,item_tfms=Resize(512)) "
      ],
      "id": "bfeb0c53-11b1-4f08-b15b-9725da0016eb"
    },
    {
      "cell_type": "code",
      "execution_count": null,
      "metadata": {},
      "outputs": [],
      "source": [
        "lrnr=cnn_learner(dls,resnet34,metrics=error_rate)\n",
        "lrnr.fine_tune(1)"
      ],
      "id": "886a85a5-f520-49cf-8bfb-4ee63da4e60b"
    },
    {
      "cell_type": "code",
      "execution_count": null,
      "metadata": {},
      "outputs": [],
      "source": [
        "net1=lrnr.model[0]\n",
        "net2=lrnr.model[1] "
      ],
      "id": "473e4380-c443-49d7-9a58-2b5eb6bcffd7"
    },
    {
      "cell_type": "code",
      "execution_count": null,
      "metadata": {},
      "outputs": [],
      "source": [
        "net2 = torch.nn.Sequential(\n",
        "    torch.nn.AdaptiveAvgPool2d(output_size=1), \n",
        "    torch.nn.Flatten(),\n",
        "    torch.nn.Linear(512,out_features=2,bias=False))"
      ],
      "id": "e9a1eefa-a1f3-4e6d-b5d7-dcbd76c8c570"
    },
    {
      "cell_type": "code",
      "execution_count": null,
      "metadata": {},
      "outputs": [],
      "source": [
        "net=torch.nn.Sequential(net1,net2)"
      ],
      "id": "0b20514d-0c94-483f-b092-4f8d3fc66bc3"
    },
    {
      "cell_type": "code",
      "execution_count": null,
      "metadata": {},
      "outputs": [],
      "source": [
        "lrnr2=Learner(dls,net,metrics=accuracy) "
      ],
      "id": "4d7ccfbf-df3d-4e2b-9522-35ee3698e886"
    },
    {
      "cell_type": "code",
      "execution_count": null,
      "metadata": {},
      "outputs": [],
      "source": [
        "lrnr2.fine_tune(10) "
      ],
      "id": "252d5ee0-8db0-4f20-9476-4861177b2fc1"
    },
    {
      "cell_type": "code",
      "execution_count": null,
      "metadata": {},
      "outputs": [],
      "source": [
        "interp = ClassificationInterpretation.from_learner(lrnr2)\n",
        "interp.plot_confusion_matrix()"
      ],
      "id": "3793c8d7-7235-402b-aa72-11d3e4ea61f0"
    },
    {
      "cell_type": "code",
      "execution_count": null,
      "metadata": {},
      "outputs": [],
      "source": [
        "interp.print_classification_report()"
      ],
      "id": "c6cf71f6-39f8-4fdd-aac6-a0d123cb857f"
    },
    {
      "cell_type": "markdown",
      "metadata": {},
      "source": [
        "# 랜덤박스가 들어간 개 고양이 그림 다운로드"
      ],
      "id": "cc491b64-1381-4a7e-8fc0-cf3d550f7723"
    },
    {
      "cell_type": "code",
      "execution_count": null,
      "metadata": {},
      "outputs": [],
      "source": [
        "path=untar_data(URLs.PETS)/'images'"
      ],
      "id": "2ae17c54-589e-4aa9-979b-50a79496dd99"
    },
    {
      "cell_type": "code",
      "execution_count": null,
      "metadata": {},
      "outputs": [],
      "source": [
        "if str(list(path.ls())[103]).split('/')[-1].split('.')[-1]==\"jpg\" :\n",
        "    print(\"jpg\")\n",
        "#name=str(list(path.ls())[i]).split('/')[-1]"
      ],
      "id": "f97d31d2-309e-4bc2-bb46-20ec20ad77a4"
    },
    {
      "cell_type": "code",
      "execution_count": null,
      "metadata": {},
      "outputs": [],
      "source": [
        "path.ls()"
      ],
      "id": "8f88fb2a-02a5-4515-8535-e3d90a62162d"
    },
    {
      "cell_type": "code",
      "execution_count": null,
      "metadata": {},
      "outputs": [],
      "source": [
        "for i in range(7393) :\n",
        "    img = PILImage.create(get_image_files(path)[i])\n",
        "    img = img.resize([512,512], resample=None, box=None, reducing_gap=None)\n",
        "    name = str(list(path.ls())[i]).split('/')[-1]\n",
        "    fname = name.split('.')[-1]\n",
        "    if fname!=\"jpg\" : \n",
        "        print(name)\n",
        "    else : pass"
      ],
      "id": "2c4c4197-8a93-44b4-a08e-505f17e8d04e"
    },
    {
      "cell_type": "markdown",
      "metadata": {},
      "source": [
        "`.mat` 파일 같은 이상한 거 삭제"
      ],
      "id": "a162eb15-95d1-4c14-8b0e-6b01f0179ef9"
    },
    {
      "cell_type": "code",
      "execution_count": null,
      "metadata": {},
      "outputs": [],
      "source": [
        "# os.remove(r\"/home/csy/.fastai/data/oxford-iiit-pet/images/Abyssinian_100.mat\")"
      ],
      "id": "b317c08b-e227-4c02-96be-b51a9e038528"
    },
    {
      "cell_type": "code",
      "execution_count": null,
      "metadata": {},
      "outputs": [],
      "source": [
        "# os.remove(r\"/home/csy/.fastai/data/oxford-iiit-pet/images/Abyssinian_102.mat\")"
      ],
      "id": "fca1326b-9280-4b47-b051-b1a0d2c340a0"
    },
    {
      "cell_type": "code",
      "execution_count": null,
      "metadata": {},
      "outputs": [],
      "source": [
        "# os.remove(r\"/home/csy/.fastai/data/oxford-iiit-pet/images/Abyssinian_101.mat\")"
      ],
      "id": "4623edde-4f3a-436b-a692-c971d287374a"
    },
    {
      "cell_type": "code",
      "execution_count": null,
      "metadata": {},
      "outputs": [],
      "source": [
        "# os.mkdir(\"random_pet_one\")"
      ],
      "id": "e24b8730-5756-4b4e-8229-711946aa10cf"
    },
    {
      "cell_type": "code",
      "execution_count": null,
      "metadata": {},
      "outputs": [],
      "source": [
        "# for i in range(len(path.ls())) :\n",
        "#     img = PILImage.create(get_image_files(path)[i])\n",
        "#     img = img.resize([512,512], resample=None, box=None, reducing_gap=None)\n",
        "#     (w, h) = (img.shape[0], img.shape[1])\n",
        "#     a = random.uniform(0, w*0.7)\n",
        "#     b = random.uniform(0, h*0.9)\n",
        "#     shape = [(a, b), (a+85, b+85)]\n",
        "#     font = ImageFont.truetype(\"DejaVuSans.ttf\", round(h*0.075))\n",
        "#     name = str(list(path.ls())[i]).split('/')[-1]\n",
        "#     fname = name.split('.')[-1]\n",
        "#     if name[0].isupper() == True :\n",
        "#         img1 = ImageDraw.Draw(img)  \n",
        "#         img1.rectangle(shape, fill =\"white\", outline =\"black\")\n",
        "#         ImageDraw.Draw(img).text((a+5, b+15), 'Cat', (0,0,0), font=font)\n",
        "#         img.save(\"random_pet_one/\"+name)\n",
        "#     else: \n",
        "#         img1 = ImageDraw.Draw(img)  \n",
        "#         img1.rectangle(shape, fill =\"black\", outline =\"black\")\n",
        "#         ImageDraw.Draw(img).text((a+5, b+15), 'Dog', (255,255,255), font=font)\n",
        "#         img.save(\"random_pet_one/\"+name)"
      ],
      "id": "6c1ba157-80c3-4330-9505-6bd79482500a"
    }
  ],
  "nbformat": 4,
  "nbformat_minor": 5,
  "metadata": {
    "kernelspec": {
      "name": "python3",
      "display_name": "Python 3",
      "language": "python"
    },
    "language_info": {
      "name": "python",
      "codemirror_mode": {
        "name": "ipython",
        "version": "3"
      },
      "file_extension": ".py",
      "mimetype": "text/x-python",
      "nbconvert_exporter": "python",
      "pygments_lexer": "ipython3",
      "version": "3.8.0"
    }
  }
}