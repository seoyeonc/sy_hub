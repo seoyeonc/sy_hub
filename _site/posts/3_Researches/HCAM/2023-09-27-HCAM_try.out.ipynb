{
  "cells": [
    {
      "cell_type": "markdown",
      "metadata": {},
      "source": [
        "# \\*\\*\\[CAM\\]\\*\\*HCAM code\n",
        "\n",
        "SEOYEON CHOI  \n",
        "2023-09-27"
      ],
      "id": "a5ba9889-ae99-4604-b112-866ce40f1365"
    },
    {
      "cell_type": "code",
      "execution_count": 1,
      "metadata": {},
      "outputs": [],
      "source": [
        "import HCAM"
      ],
      "id": "df16d124-ab78-49a9-b449-a44c41733633"
    },
    {
      "cell_type": "code",
      "execution_count": 2,
      "metadata": {},
      "outputs": [],
      "source": [
        "_hcam = HCAM.load_data('random_pet_one')"
      ],
      "id": "f384f23f-693d-4371-a546-43516325750d"
    },
    {
      "cell_type": "code",
      "execution_count": 4,
      "metadata": {},
      "outputs": [],
      "source": [
        "_hcam.path.ls"
      ],
      "id": "83c1d728-5911-4a94-a56e-f1abbb0958d0"
    },
    {
      "cell_type": "code",
      "execution_count": 2,
      "metadata": {},
      "outputs": [],
      "source": [
        "path=Path('random_pet_one')   #랜덤박스넣은사진"
      ],
      "id": "a9fdb681-0324-430a-b5a3-f3f38219a106"
    },
    {
      "cell_type": "code",
      "execution_count": null,
      "metadata": {},
      "outputs": [],
      "source": [
        "files=get_image_files(path)"
      ],
      "id": "eb422e6c-4f2e-4664-98ed-4c52e6fd938d"
    },
    {
      "cell_type": "code",
      "execution_count": null,
      "metadata": {},
      "outputs": [],
      "source": [
        "dls=ImageDataLoaders.from_name_func(path,files,label_func,item_tfms=Resize(512)) "
      ],
      "id": "28e8e135-3bf3-4917-a36f-f053ac2c07c9"
    }
  ],
  "nbformat": 4,
  "nbformat_minor": 5,
  "metadata": {
    "kernelspec": {
      "name": "python3",
      "display_name": "Python 3",
      "language": "python"
    },
    "language_info": {
      "name": "python",
      "codemirror_mode": {
        "name": "ipython",
        "version": "3"
      },
      "file_extension": ".py",
      "mimetype": "text/x-python",
      "nbconvert_exporter": "python",
      "pygments_lexer": "ipython3",
      "version": "3.8.0"
    }
  }
}