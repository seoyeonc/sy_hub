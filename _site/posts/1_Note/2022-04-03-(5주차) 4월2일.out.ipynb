{
  "cells": [
    {
      "cell_type": "markdown",
      "metadata": {},
      "source": [
        "# Introduction to Python 5wk\n",
        "\n",
        "SEOYEON CHOI  \n",
        "4/4/22\n",
        "\n",
        "> 소스코드 관리, 모듈, 패키지, 라이브러리\n",
        "\n",
        "https://guebin.github.io/IP2022/2022/04/03/(5%EC%A3%BC%EC%B0%A8)-4%EC%9B%942%EC%9D%BC.html\n",
        "\n",
        "### 강의영상\n",
        "\n",
        "> youtube:\n",
        "> https://youtube.com/playlist?list=PLQqh36zP38-yzovneTfJptA4K705FOG1f\n",
        "\n",
        "`-` (1/7) intro\n",
        "\n",
        "`-` (2/7) import 사용방법, 도움말 작성기능\n",
        "\n",
        "`-` (3/7) import 사용시 주의점\n",
        "\n",
        "`-` (4/7) import 고급\n",
        "\n",
        "`-` (5/7) site-packages 1\n",
        "\n",
        "`-` (6/7) site-packages 2\n",
        "\n",
        "`-` (7/7) 모듈, 패키지, 라이브러리, 숙제설명\n",
        "\n",
        "### intro\n",
        "\n",
        "`-` 현재 파이썬은 길이가 2인 벡터의 덧셈을 지원하지 않음"
      ],
      "id": "cb91039a-d6e2-400c-a181-34f7444d9598"
    },
    {
      "cell_type": "code",
      "execution_count": 2,
      "metadata": {},
      "outputs": [],
      "source": [
        "a=[1,2]\n",
        "b=[3,4]\n",
        "a+b"
      ],
      "id": "8494f70b-5b45-45f6-ac4f-d03c7abc8b85"
    },
    {
      "cell_type": "markdown",
      "metadata": {},
      "source": [
        "`-` 아래와 같은 기능을 구현하는 함수를 만들고 싶음\n",
        "\n",
        "\\[1,2\\], \\[3,4\\] -\\> \\[4,6\\]\n",
        "\n",
        "`-` 구현"
      ],
      "id": "b3e182dd-c76c-4dc6-9493-3e95f4ca36ed"
    },
    {
      "cell_type": "code",
      "execution_count": 6,
      "metadata": {},
      "outputs": [],
      "source": [
        "def vec2_add(a,b): \n",
        "    return [a[0]+b[0], a[1]+b[1]]"
      ],
      "id": "bf5fde8a-fcbb-486a-997f-5be5bd79d602"
    },
    {
      "cell_type": "markdown",
      "metadata": {},
      "source": [
        "`-` test"
      ],
      "id": "93d3a7f7-696b-4935-89ce-ce887bc0b0fb"
    },
    {
      "cell_type": "code",
      "execution_count": 7,
      "metadata": {},
      "outputs": [],
      "source": [
        "a=[1,2]\n",
        "b=[3,4]"
      ],
      "id": "9cd4e584-a473-474d-adea-5b97e630c2e2"
    },
    {
      "cell_type": "code",
      "execution_count": 8,
      "metadata": {},
      "outputs": [],
      "source": [
        "vec2_add(a,b)"
      ],
      "id": "c9ba6511-5b34-4c5a-b375-b525dbe915df"
    },
    {
      "cell_type": "markdown",
      "metadata": {},
      "source": [
        "### make `myfuns.py`\n",
        "\n",
        "`-` 생각해보니까 vec2_add는 내가 앞으로 자주 쓸 기능임\n",
        "\n",
        "`-` 그런데 현재 사용방법으로는 내가 노트북파일을 새로 만들떄마다\n",
        "`def vec2_add(a,b):` 와 같은 형태로 vec2_add를 매번 정의해줘야 하는\n",
        "불편한이 있다.\n",
        "\n",
        "#### 해결1\n",
        "\n",
        "`-` 자주 사용하는 함수를 `myfuns.py`에 저장한다.\n",
        "\n",
        "``` python\n",
        "# myfuns.py\n",
        "def vec2_add(a,b): \n",
        "    return [a[0]+b[0], a[1]+b[1]]\n",
        "```\n",
        "\n",
        "`-` %run myfuns를 실행\n",
        "\n",
        "준비: “00” -\\> 커널재시작"
      ],
      "id": "3fcbcfbe-2e00-4fc0-b528-ba93bf3e3778"
    },
    {
      "cell_type": "code",
      "execution_count": 1,
      "metadata": {},
      "outputs": [],
      "source": [
        "%run myfuns "
      ],
      "id": "a193c8a6-4158-4ec9-97d5-b7675d455fdc"
    },
    {
      "cell_type": "code",
      "execution_count": 2,
      "metadata": {},
      "outputs": [],
      "source": [
        "vec2_add([1,2],[3,4])"
      ],
      "id": "16713b90-3610-4771-b079-da5fd8a6d9e5"
    },
    {
      "cell_type": "markdown",
      "metadata": {},
      "source": [
        "#### 해결2\n",
        "\n",
        "`-` 자주 사용하는 함수를 `myfuns.py`에 저장한다.\n",
        "\n",
        "``` python\n",
        "# myfuns.py\n",
        "def vec2_add(a,b): \n",
        "    return [a[0]+b[0], a[1]+b[1]]\n",
        "```\n",
        "\n",
        "`-` import myfuns를 이용\n",
        "\n",
        "(준비) “00” -\\> 커널재시작"
      ],
      "id": "3babafa8-f3d8-47ce-9604-843977da4e98"
    },
    {
      "cell_type": "code",
      "execution_count": 3,
      "metadata": {},
      "outputs": [],
      "source": [
        "import myfuns "
      ],
      "id": "76b003ca-becb-483a-b7b4-bc4035537349"
    },
    {
      "cell_type": "code",
      "execution_count": 4,
      "metadata": {},
      "outputs": [],
      "source": [
        "a=[1,2]\n",
        "b=[3,4]\n",
        "myfuns.vec2_add(a,b)"
      ],
      "id": "dc60586f-bcef-43ed-8ba3-484508905a13"
    },
    {
      "cell_type": "markdown",
      "metadata": {},
      "source": [
        "### import 기본\n",
        "\n",
        "#### 사용방법\n",
        "\n",
        "`-` 사용방법1\n",
        "\n",
        "준비: “00” -\\> 커널재시작"
      ],
      "id": "5c741c28-4bdf-4c8a-a98a-adf898609662"
    },
    {
      "cell_type": "code",
      "execution_count": 1,
      "metadata": {},
      "outputs": [],
      "source": [
        "import myfuns "
      ],
      "id": "bc236875-952a-4088-be6a-ad0c864598a8"
    },
    {
      "cell_type": "code",
      "execution_count": 2,
      "metadata": {},
      "outputs": [],
      "source": [
        "myfuns.vec2_add([1,2],[3,4]) "
      ],
      "id": "9d359966-e2f2-49b1-8ad6-1ff8ce3dc65b"
    },
    {
      "cell_type": "markdown",
      "metadata": {},
      "source": [
        "-   myfuns.vec2_add 의 의미: myfuns.py 라는 파일안에 vec2_add라는 함수가\n",
        "    있음. 그것을 실행하라.\n",
        "-   `.`의 의미: `상위.하위`의 개념!\n",
        "\n",
        "(주의) 아래와 같이 사용불가능 하다."
      ],
      "id": "d75d3aa0-9c40-4912-a87a-fd55ef2720ec"
    },
    {
      "cell_type": "code",
      "execution_count": 3,
      "metadata": {
        "tags": []
      },
      "outputs": [],
      "source": [
        "vec2_add([1,2],[3,4])"
      ],
      "id": "4aa1d54f-206e-4a76-b10b-ce07c5d442f7"
    },
    {
      "cell_type": "markdown",
      "metadata": {},
      "source": [
        "`-` 사용방법2\n",
        "\n",
        "준비: “00” -\\> 커널재시작"
      ],
      "id": "71d178aa-e9dc-4523-b1bb-23663d5965f0"
    },
    {
      "cell_type": "code",
      "execution_count": 3,
      "metadata": {},
      "outputs": [],
      "source": [
        "from myfuns import vec2_add "
      ],
      "id": "a07268d7-84f2-4363-9791-6d5fe7d86b27"
    },
    {
      "cell_type": "code",
      "execution_count": 4,
      "metadata": {},
      "outputs": [],
      "source": [
        "vec2_add([1,2],[3,4])"
      ],
      "id": "91549e07-7955-4157-8d56-0200dbfd4906"
    },
    {
      "cell_type": "markdown",
      "metadata": {},
      "source": [
        "(주의) 이 경우는 오히려 아래가 불가능함"
      ],
      "id": "650328d6-d112-4a94-9cda-0949c893e565"
    },
    {
      "cell_type": "code",
      "execution_count": 6,
      "metadata": {},
      "outputs": [],
      "source": [
        "myfuns.vec2_add([1,2],[3,4]) # myfuns안의 vec2_add만 임포트했지 myfuns자체를 임포트 한것은 아님 "
      ],
      "id": "048960ca-c648-4219-884a-f7ec4921f239"
    },
    {
      "cell_type": "markdown",
      "metadata": {},
      "source": [
        "`-` 사용방법3\n",
        "\n",
        "준비: “00” -\\> 커널재시작"
      ],
      "id": "2086c741-6580-41d5-89ff-c673571a0be6"
    },
    {
      "cell_type": "code",
      "execution_count": 1,
      "metadata": {},
      "outputs": [],
      "source": [
        "import myfuns\n",
        "from myfuns import vec2_add"
      ],
      "id": "7b9e12ef-44b2-48e9-ac19-16307b3070b5"
    },
    {
      "cell_type": "code",
      "execution_count": 2,
      "metadata": {},
      "outputs": [],
      "source": [
        "myfuns.vec2_add([1,2],[3,4])"
      ],
      "id": "92b59213-5b70-4a03-80d4-d5b5fe4d6dd7"
    },
    {
      "cell_type": "code",
      "execution_count": 3,
      "metadata": {},
      "outputs": [],
      "source": [
        "vec2_add([1,2],[3,4])"
      ],
      "id": "56569e4b-75ad-430a-8bca-007c55660d69"
    },
    {
      "cell_type": "markdown",
      "metadata": {},
      "source": [
        "`-` 사용방법4\n",
        "\n",
        "준비: “00” -\\> 커널재시작"
      ],
      "id": "65295eea-36a0-4277-be07-85f0e824bdf7"
    },
    {
      "cell_type": "code",
      "execution_count": 1,
      "metadata": {},
      "outputs": [],
      "source": [
        "from myfuns import vec2_add, vec2_sub "
      ],
      "id": "80504c80-2361-4264-8f0b-85342d3a919b"
    },
    {
      "cell_type": "code",
      "execution_count": 2,
      "metadata": {},
      "outputs": [],
      "source": [
        "vec2_add([1,2],[3,4])"
      ],
      "id": "2e813df8-bc60-49e0-92a7-84e1bb2d1ce4"
    },
    {
      "cell_type": "code",
      "execution_count": 3,
      "metadata": {},
      "outputs": [],
      "source": [
        "vec2_sub([1,2],[3,4])"
      ],
      "id": "f8d51ce9-01bd-4b6d-90b8-f4e8bd5720cf"
    },
    {
      "cell_type": "markdown",
      "metadata": {},
      "source": [
        "`-` 사용방법5\n",
        "\n",
        "준비: “00” -\\> 커널재시작"
      ],
      "id": "05f0ed4c-de27-4a0a-a3ed-00d2cee29425"
    },
    {
      "cell_type": "code",
      "execution_count": 2,
      "metadata": {},
      "outputs": [],
      "source": [
        "from myfuns import * #*는 all의 의미 "
      ],
      "id": "18e38459-03d5-418e-99c8-2ec3898dbaf9"
    },
    {
      "cell_type": "code",
      "execution_count": 3,
      "metadata": {},
      "outputs": [],
      "source": [
        "vec2_add([1,2],[3,4])"
      ],
      "id": "fceb7ee4-5f68-4137-b620-4aa8c0275646"
    },
    {
      "cell_type": "code",
      "execution_count": 4,
      "metadata": {},
      "outputs": [],
      "source": [
        "vec2_sub([1,2],[3,4])"
      ],
      "id": "4cd2cbf9-c986-461a-9ae7-966e8f673bb9"
    },
    {
      "cell_type": "markdown",
      "metadata": {},
      "source": [
        "`-` 사용방법6\n",
        "\n",
        "준비: “00” -\\> 커널재시작"
      ],
      "id": "4fc00858-8057-4e20-a710-96656a5c9d7c"
    },
    {
      "cell_type": "code",
      "execution_count": 1,
      "metadata": {},
      "outputs": [],
      "source": [
        "import myfuns as mf "
      ],
      "id": "7b4b7734-c299-487f-9299-4ffe91fa1146"
    },
    {
      "cell_type": "code",
      "execution_count": 2,
      "metadata": {},
      "outputs": [],
      "source": [
        "mf.vec2_add([1,2],[3,4])"
      ],
      "id": "2d1e0648-15ff-4808-b75f-37344a35add2"
    },
    {
      "cell_type": "code",
      "execution_count": 3,
      "metadata": {},
      "outputs": [],
      "source": [
        "mf.vec2_sub([1,2],[3,4])"
      ],
      "id": "4496f4d0-22a0-43de-a2f5-21fabc3e6437"
    },
    {
      "cell_type": "markdown",
      "metadata": {},
      "source": [
        "(오히려 아래는 실행불가능)"
      ],
      "id": "7a264ad3-11ad-4ec4-878d-667d56f523c1"
    },
    {
      "cell_type": "code",
      "execution_count": 4,
      "metadata": {},
      "outputs": [],
      "source": [
        "myfuns.vec2_add([1,2],[3,4])"
      ],
      "id": "06b329bb-a7c7-4d3c-b9c8-749f81ba6133"
    },
    {
      "cell_type": "code",
      "execution_count": 5,
      "metadata": {},
      "outputs": [],
      "source": [
        "myfuns.vec2_sub([1,2],[3,4])"
      ],
      "id": "8f2dfb99-066b-4b8e-aaa3-2a9e9a0c96bc"
    },
    {
      "cell_type": "markdown",
      "metadata": {},
      "source": [
        "`-` 잘못된 사용방법1\n",
        "\n",
        "준비: “00” -\\> 커널재시작"
      ],
      "id": "74c87d3d-0ffa-4f1e-8b34-f06612431385"
    },
    {
      "cell_type": "code",
      "execution_count": 1,
      "metadata": {},
      "outputs": [],
      "source": [
        "import myfuns as mf \n",
        "from mf import vec2_add "
      ],
      "id": "3e2805a2-3a7e-47d4-8ddf-7240f82734e7"
    },
    {
      "cell_type": "markdown",
      "metadata": {},
      "source": [
        "`-` 사용방법7\n",
        "\n",
        "준비: “00” -\\> 커널재시작"
      ],
      "id": "8c2adb89-0c3b-4882-8d7b-5a4716aa8918"
    },
    {
      "cell_type": "code",
      "execution_count": 1,
      "metadata": {},
      "outputs": [],
      "source": [
        "import myfuns as mf \n",
        "from myfuns import vec2_add "
      ],
      "id": "dbf2c5c1-16ba-4cb4-ba82-bff831e3bebd"
    },
    {
      "cell_type": "code",
      "execution_count": 4,
      "metadata": {},
      "outputs": [],
      "source": [
        "mf.vec2_add([1,2],[3,4])"
      ],
      "id": "5faa2072-75d4-42e2-b478-1b2ee5ebf219"
    },
    {
      "cell_type": "code",
      "execution_count": 5,
      "metadata": {},
      "outputs": [],
      "source": [
        "vec2_add([1,2],[3,4])"
      ],
      "id": "a9288692-62ce-4458-a16f-bb4f4d449f40"
    },
    {
      "cell_type": "markdown",
      "metadata": {},
      "source": [
        "`-` 사용방법8\n",
        "\n",
        "준비: “00” -\\> 커널재시작"
      ],
      "id": "20dd0a8a-a2a5-4605-a8d0-e63011ba44d8"
    },
    {
      "cell_type": "code",
      "execution_count": 1,
      "metadata": {},
      "outputs": [],
      "source": [
        "import myfuns as mf \n",
        "from myfuns import vec2_add as add "
      ],
      "id": "5b478e2b-fd03-44a2-8115-a8ea8b451f96"
    },
    {
      "cell_type": "code",
      "execution_count": 2,
      "metadata": {},
      "outputs": [],
      "source": [
        "mf.vec2_add([1,2],[3,4])"
      ],
      "id": "2e5dd807-5fed-4a2d-9ace-d43effc85371"
    },
    {
      "cell_type": "code",
      "execution_count": 3,
      "metadata": {},
      "outputs": [],
      "source": [
        "vec2_add([1,2],[3,4])"
      ],
      "id": "66f224f4-0287-4939-bada-5343738a00a7"
    },
    {
      "cell_type": "code",
      "execution_count": 4,
      "metadata": {},
      "outputs": [],
      "source": [
        "add([1,2],[3,4])"
      ],
      "id": "2d1a00a1-246e-4135-892a-615eabe484dc"
    },
    {
      "cell_type": "markdown",
      "metadata": {},
      "source": [
        "#### 도움말 작성기능\n",
        "\n",
        "`-` mf란 무엇인가?\n",
        "\n",
        "준비: “00” -\\> 커널재시작"
      ],
      "id": "c9e5348a-5cb1-464a-9208-29e605902f58"
    },
    {
      "cell_type": "code",
      "execution_count": 1,
      "metadata": {},
      "outputs": [],
      "source": [
        "import myfuns as mf "
      ],
      "id": "362b1439-d217-4101-a2dc-b9f6fad26038"
    },
    {
      "cell_type": "code",
      "execution_count": 2,
      "metadata": {},
      "outputs": [],
      "source": [
        "mf"
      ],
      "id": "f0a12f81-6507-4eda-97ef-fedb07df97f8"
    },
    {
      "cell_type": "code",
      "execution_count": 3,
      "metadata": {},
      "outputs": [],
      "source": [
        "mf?"
      ],
      "id": "59528fc9-4936-406f-a510-62b03a92d612"
    },
    {
      "cell_type": "code",
      "execution_count": 4,
      "metadata": {},
      "outputs": [],
      "source": [
        "type(mf)"
      ],
      "id": "f910c87e-3514-41c4-ae1e-a34fd10b47ad"
    },
    {
      "cell_type": "markdown",
      "metadata": {},
      "source": [
        "-   mf의 타입은 모듈이라고 나옴, 현재 단계에서는 무엇인지 알기 어려움\n",
        "\n",
        "`-` Docstring의 내용을 채울 수 있을까?\n",
        "\n",
        "준비1: myfuns.py 파일을 아래와 같이 수정한다.\n",
        "\n",
        "준비2: “00” -\\> 커널재시작"
      ],
      "id": "6242903a-33a8-4d0b-964d-9f4d80acf786"
    },
    {
      "cell_type": "code",
      "execution_count": 1,
      "metadata": {},
      "outputs": [],
      "source": [
        "import myfuns as mf "
      ],
      "id": "b70ec2e1-a8f7-4d02-befb-6d18eb126166"
    },
    {
      "cell_type": "code",
      "execution_count": 2,
      "metadata": {},
      "outputs": [],
      "source": [
        "mf?"
      ],
      "id": "ee2a836c-cd0b-4bae-a794-2af62debe1b5"
    },
    {
      "cell_type": "markdown",
      "metadata": {},
      "source": [
        "#### 주의점\n",
        "\n",
        "`-` `myfuns.py`는 최초 한번만 import 된다.\n",
        "\n",
        "준비: “00” -\\> 커널재시작"
      ],
      "id": "9421f7d8-e262-481a-8610-f7bbf69e6251"
    },
    {
      "cell_type": "code",
      "execution_count": 1,
      "metadata": {},
      "outputs": [],
      "source": [
        "import myfuns"
      ],
      "id": "48fd63ac-750b-4baa-ba29-674f8190ee7b"
    },
    {
      "cell_type": "code",
      "execution_count": 2,
      "metadata": {},
      "outputs": [],
      "source": [
        "myfuns.vec2_add([1,2],[3,4])"
      ],
      "id": "9822b9d3-5bbb-4f44-b8b5-0a457ef34291"
    },
    {
      "cell_type": "markdown",
      "metadata": {},
      "source": [
        "`myfuns.py`파일을 열고 함수를 아래와 같이 바꾸자.\n",
        "\n",
        "``` python\n",
        "\"\"\"이것은 길이가 2인 벡터의 합 혹은 차를 구하는 모듈입니다.\"\"\" \n",
        "def vec2_add(a,b): \n",
        "    print(\"이것은 myfuns.py에 정의된 함수입니다\") \n",
        "    return [a[0]+b[0], a[1]+b[1]]\n",
        "def vec2_sub(a,b): \n",
        "    return [a[0]-b[0], a[1]-b[1]]\n",
        "```\n",
        "\n",
        "다시 myfuns를 로드하고 myfuns.vec2_add 를 실행하여 보자."
      ],
      "id": "02bab57a-ee24-4ec2-be6c-140dbe449881"
    },
    {
      "cell_type": "code",
      "execution_count": 4,
      "metadata": {},
      "outputs": [],
      "source": [
        "import myfuns"
      ],
      "id": "d6a80a5d-e3a7-4046-97c7-82899c06e14e"
    },
    {
      "cell_type": "code",
      "execution_count": 5,
      "metadata": {},
      "outputs": [],
      "source": [
        "myfuns.vec2_add([1,2],[3,4])"
      ],
      "id": "a331d912-d488-4b7a-9c97-d9d29aafee07"
    },
    {
      "cell_type": "markdown",
      "metadata": {},
      "source": [
        "바뀐내용이 적용되지 않는다.\n",
        "\n",
        "커널을 다시 시작하고 임포트해보자.\n",
        "\n",
        "“00” -\\> 커널재시작"
      ],
      "id": "2c7b73a4-53b7-4aff-976a-4175ac06ea39"
    },
    {
      "cell_type": "code",
      "execution_count": 1,
      "metadata": {},
      "outputs": [],
      "source": [
        "import myfuns"
      ],
      "id": "b58a0cb5-d66a-41bb-b0f5-47510db2b7c5"
    },
    {
      "cell_type": "code",
      "execution_count": 2,
      "metadata": {},
      "outputs": [
        {
          "output_type": "stream",
          "name": "stdout",
          "text": [
            "이것은 myfuns.py에 정의된 함수입니다"
          ]
        }
      ],
      "source": [
        "myfuns.vec2_add([1,2],[3,4])"
      ],
      "id": "5918d551-9243-4c25-892b-04ef6712f45f"
    },
    {
      "cell_type": "markdown",
      "metadata": {},
      "source": [
        "`-` `myfuns.py`는 주피터노트북파일과 같은 폴더에 존재해야 한다.\n",
        "\n",
        "준비1: “00” -\\> 커널재시작\n",
        "\n",
        "준비2: `myfuns.py`을 복사하여 다른 폴더로 이동. 예를들면 IP0403 폴더를\n",
        "만들고 그 폴더안에 myfuns.py파일을 복사해서 붙여넣은뒤에 파일이름을\n",
        "myfuns2.py 로 변경."
      ],
      "id": "1a44a935-289f-49af-a318-4f8656a39aa4"
    },
    {
      "cell_type": "code",
      "execution_count": 3,
      "metadata": {},
      "outputs": [],
      "source": [
        "import myfuns # 주피터노트북파일과 같은 폴더에 있는 myfuns는 잘 로드되지만 "
      ],
      "id": "26fb31e0-a349-4efb-a6c0-57c8f653daa9"
    },
    {
      "cell_type": "code",
      "execution_count": 4,
      "metadata": {},
      "outputs": [],
      "source": [
        "import myfuns2 # 주피터노트북파일과 다른 폴더에 있는 myfuns2는 그렇지 않다. "
      ],
      "id": "2dc87755-e9ce-4cb1-9f29-d830f3de6441"
    },
    {
      "cell_type": "markdown",
      "metadata": {},
      "source": [
        "`-` IP0403 폴더에 있는 myfuns2.py를 실행하기 위해서는 아래와 같이 할 수\n",
        "있다.\n",
        "\n",
        "준비: “00” -\\> 커널재시작"
      ],
      "id": "3ffe74b0-8a12-4732-b0a1-b4c942d23cdb"
    },
    {
      "cell_type": "code",
      "execution_count": 1,
      "metadata": {},
      "outputs": [],
      "source": [
        "from IP0403 import myfuns2"
      ],
      "id": "4ddcc38c-7b1b-440f-beb1-6f62ac0ece8f"
    },
    {
      "cell_type": "code",
      "execution_count": 2,
      "metadata": {},
      "outputs": [
        {
          "output_type": "stream",
          "name": "stdout",
          "text": [
            "이것은 myfuns2.py에 정의된 함수입니다"
          ]
        }
      ],
      "source": [
        "myfuns2.vec2_add([1,2],[3,4]) "
      ],
      "id": "b664b5d0-a97b-4830-8911-7cff9ef3dcac"
    },
    {
      "cell_type": "markdown",
      "metadata": {},
      "source": [
        "`-` 아래도 가능하다.\n",
        "\n",
        "준비: “00” -\\> 커널재시작"
      ],
      "id": "7a44e303-a35b-4796-91f7-d13eaac7e320"
    },
    {
      "cell_type": "code",
      "execution_count": 1,
      "metadata": {},
      "outputs": [],
      "source": [
        "from IP0403.myfuns2 import vec2_add as add "
      ],
      "id": "5c216522-05ab-43c0-99e5-bccad08e944d"
    },
    {
      "cell_type": "code",
      "execution_count": 2,
      "metadata": {},
      "outputs": [
        {
          "output_type": "stream",
          "name": "stdout",
          "text": [
            "이것은 myfuns2.py에 정의된 함수입니다"
          ]
        }
      ],
      "source": [
        "add([1,2],[3,4])"
      ],
      "id": "c0e5d37a-0a81-4af1-9983-18cd4da646c4"
    },
    {
      "cell_type": "markdown",
      "metadata": {},
      "source": [
        "참고로 아래는 모두 정의되지 않음"
      ],
      "id": "0046e18d-3f54-4d40-a7f5-57dd2a772e86"
    },
    {
      "cell_type": "code",
      "execution_count": 3,
      "metadata": {},
      "outputs": [],
      "source": [
        "IP0403.myfuns2.vec2_add([1,2],[3,4]) "
      ],
      "id": "7f9705bc-a7f3-4a54-ad25-1c65f162847d"
    },
    {
      "cell_type": "code",
      "execution_count": 4,
      "metadata": {},
      "outputs": [],
      "source": [
        "myfuns2.vec2_add([1,2],[3,4]) "
      ],
      "id": "15cd0c3e-be3f-4a84-b3d6-d2898462f07b"
    },
    {
      "cell_type": "code",
      "execution_count": 5,
      "metadata": {},
      "outputs": [],
      "source": [
        "vec2_add([1,2],[3,4]) "
      ],
      "id": "a7ca7c66-8925-4a63-9494-fa84af3914e8"
    },
    {
      "cell_type": "markdown",
      "metadata": {},
      "source": [
        "### import 고급\n",
        "\n",
        "#### 폴더와 함께 사용할시\n",
        "\n",
        "`-` 언뜻 생각하면 아래가 가능할 것 같다.\n",
        "\n",
        "``` python\n",
        "import IP0403 \n",
        "IP0403.myfuns2.vec2_add([1,2],[3,4]) \n",
        "```\n",
        "\n",
        "`-` 하지만 불가능하다.\n",
        "\n",
        "준비: “00” -\\> 커널재시작"
      ],
      "id": "d86bf32a-457b-48d3-8ed8-b82a1e1d91d4"
    },
    {
      "cell_type": "code",
      "execution_count": 1,
      "metadata": {},
      "outputs": [],
      "source": [
        "import IP0403 "
      ],
      "id": "20cd5874-28d9-4d3b-aaeb-89c30e34fce2"
    },
    {
      "cell_type": "markdown",
      "metadata": {},
      "source": [
        "-   되는거아냐?"
      ],
      "id": "a2f690da-f0d9-40b5-8319-55727c589a8e"
    },
    {
      "cell_type": "code",
      "execution_count": 2,
      "metadata": {},
      "outputs": [],
      "source": [
        "IP0403.myfuns2.vec2_add([1,2],[3,4])"
      ],
      "id": "6ae8659f-df0d-44ed-9c6f-f454e26373e4"
    },
    {
      "cell_type": "markdown",
      "metadata": {},
      "source": [
        "-   여기서 불가능하다.\n",
        "\n",
        "`-` **(암기)** IP0403 폴더안에 `__init__.py`라는 파일을 만들고 내용에\n",
        "아래와 같이 쓰면 가능하다.\n",
        "\n",
        "``` python\n",
        "# ./IP0403/__init__.py \n",
        "from . import myfuns2\n",
        "```\n",
        "\n",
        "준비1: 위의 지침을 따른다.\n",
        "\n",
        "준비2: “00” -\\> 커널재시작"
      ],
      "id": "6f3a1bfa-d87c-40fc-bb38-6acb995fd090"
    },
    {
      "cell_type": "code",
      "execution_count": 1,
      "metadata": {},
      "outputs": [],
      "source": [
        "import IP0403 "
      ],
      "id": "a07f6448-bf46-423c-8b1d-c769eece2c5f"
    },
    {
      "cell_type": "code",
      "execution_count": 2,
      "metadata": {},
      "outputs": [
        {
          "output_type": "stream",
          "name": "stdout",
          "text": [
            "이것은 myfuns2.py에 정의된 함수입니다"
          ]
        }
      ],
      "source": [
        "IP0403.myfuns2.vec2_add([1,2],[3,4])"
      ],
      "id": "4bfe58aa-9f55-44be-92e9-1a3f02bacff5"
    },
    {
      "cell_type": "markdown",
      "metadata": {},
      "source": [
        "**컴퓨터 상식** - `.`: 현재폴더를 의미 - `..`: 상위폴더를 의미 -\n",
        "`./myfuns.py`: 현재폴더안에 있는 myfuns.py를 의미 -\n",
        "`./IP0403/myfuns2.py`: 현재폴더만에 IP0403폴더안의 myfuns2.py 파일을\n",
        "의미 - `../myfuns.py`: 현재폴더보다 한단계상위폴더에 있는 myfuns.py를\n",
        "의미 - `cd ./IP0403`: 현재폴더안에 있는 IP0403폴더로 이동해라.\n",
        "(`cd IP0403`으로 줄여쓸 수 있음) - `cd ..` 현재폴더보다 한단계\n",
        "상위폴더로 이동하라.\n",
        "\n",
        "**따라서 `from . import myfuns2`는 현재폴더에서 myfuns2를 찾아서 임포트\n",
        "하라는 의미로 해석가능**\n",
        "\n",
        "`-` 의미상으로 보면 아래가 실행가능할듯 한데 불가능하다."
      ],
      "id": "ee6e99d9-9816-4583-a9a1-7003daf721ee"
    },
    {
      "cell_type": "code",
      "execution_count": 3,
      "metadata": {},
      "outputs": [],
      "source": [
        "#import myfuns\n",
        "from . import myfuns"
      ],
      "id": "5da01f71-87ca-4625-a6a2-c0d65e8ae276"
    },
    {
      "cell_type": "markdown",
      "metadata": {},
      "source": [
        "### site-packages (실습금지)\n",
        "\n",
        "`-` 의문: 왜 현재폴더에 numpy.py라든가 numpy라는 이름의 폴더가 없는데도\n",
        "import 가능한지?\n",
        "\n",
        "준비: “00” -\\> 커널재시작"
      ],
      "id": "154a0d4a-92cd-4bc5-8140-e94320b87b13"
    },
    {
      "cell_type": "code",
      "execution_count": 1,
      "metadata": {},
      "outputs": [],
      "source": [
        "import numpy as np"
      ],
      "id": "38123506-70a3-4187-a0e5-967c66aed4cf"
    },
    {
      "cell_type": "code",
      "execution_count": 2,
      "metadata": {},
      "outputs": [],
      "source": [
        "import IP0403 as ip "
      ],
      "id": "1cf44929-1bd7-4831-a479-dcc6f4f15df3"
    },
    {
      "cell_type": "code",
      "execution_count": 7,
      "metadata": {},
      "outputs": [],
      "source": [
        "ip?"
      ],
      "id": "142cf9ad-11bc-4266-8a8b-061b1f71feba"
    },
    {
      "cell_type": "code",
      "execution_count": 6,
      "metadata": {},
      "outputs": [],
      "source": [
        "np?"
      ],
      "id": "9b394e29-cd1a-4622-bd2c-f11188bbc755"
    },
    {
      "cell_type": "markdown",
      "metadata": {},
      "source": [
        "`-` 추측: `~/anaconda3/envs/py310/lib/python3.10/site-packages/`를\n",
        "찾아가보자. 그곳에 numpy폴더가 있을 것이다."
      ],
      "id": "beeb5238-ebda-4b93-80eb-a011e4a3547c"
    },
    {
      "cell_type": "code",
      "execution_count": 13,
      "metadata": {},
      "outputs": [
        {
          "output_type": "stream",
          "name": "stdout",
          "text": [
            "numpy\n",
            "numpy-1.22.2.dist-info"
          ]
        }
      ],
      "source": [
        "!ls ~/anaconda3/envs/py310/lib/python3.10/site-packages | grep numpy"
      ],
      "id": "655ae6e3-12c9-4663-8d07-87f9f01c7b9e"
    },
    {
      "cell_type": "markdown",
      "metadata": {},
      "source": [
        "`-` 추측2: `~/anaconda3/envs/py310/lib/python3.10/site-packages/`에 내가\n",
        "자주 쓰는 기능을 폴더로 만들어서 모아두면 어디서든지 import 할 수 있다."
      ],
      "id": "db836a02-4a09-4da1-9c19-d7eeb392768f"
    },
    {
      "cell_type": "code",
      "execution_count": 14,
      "metadata": {},
      "outputs": [],
      "source": [
        "!mkdir ~/anaconda3/envs/py310/lib/python3.10/site-packages/guebin # guebin 폴더 생성 "
      ],
      "id": "321a6a54-0042-4d6d-98c2-9c42edf63659"
    },
    {
      "cell_type": "code",
      "execution_count": 15,
      "metadata": {},
      "outputs": [],
      "source": [
        "!cp ./myfuns.py ~/anaconda3/envs/py310/lib/python3.10/site-packages/guebin \n",
        "# 현폴더에 있는 myfuns.py를 아까만든 guebin 폴더로 복사 "
      ],
      "id": "8a415656-f0e4-483e-9a46-cfd08f680456"
    },
    {
      "cell_type": "code",
      "execution_count": 16,
      "metadata": {},
      "outputs": [],
      "source": [
        "from guebin import myfuns"
      ],
      "id": "5762e74d-0e97-4b82-87a0-8746a583c5cb"
    },
    {
      "cell_type": "code",
      "execution_count": 17,
      "metadata": {},
      "outputs": [],
      "source": [
        "myfuns?"
      ],
      "id": "ec203cae-3ec2-4b2b-8535-f9e712375985"
    },
    {
      "cell_type": "code",
      "execution_count": 19,
      "metadata": {},
      "outputs": [],
      "source": [
        "!rm  ~/anaconda3/envs/py310/lib/python3.10/site-packages/guebin -rf # guebin 폴더삭제 "
      ],
      "id": "8d58108b-1d22-4d31-b429-80ed64b902e7"
    },
    {
      "cell_type": "markdown",
      "metadata": {},
      "source": [
        "`-` 추측3: guebin이 사라진 상태에서는 `from guebin import myfuns` 이\n",
        "동작하지 않을 것이다.\n",
        "\n",
        "준비: “00” -\\> 커널재시작"
      ],
      "id": "8db8c74b-5e9b-4587-9ff5-817a3917c292"
    },
    {
      "cell_type": "code",
      "execution_count": 1,
      "metadata": {},
      "outputs": [],
      "source": [
        "from guebin import myfuns"
      ],
      "id": "2102f824-9d71-4b68-8204-828e9342e490"
    },
    {
      "cell_type": "markdown",
      "metadata": {},
      "source": [
        "`-` 추측4: `~/anaconda3/envs/py310/lib/python3.10/site-packages/`에서\n",
        "numpy를 지운다면 numpy를 import할 수 없다.\n",
        "\n",
        "준비: “00” -\\> 커널재시작"
      ],
      "id": "300a02d8-eddc-4e18-92de-d8b49fe84d54"
    },
    {
      "cell_type": "code",
      "execution_count": 1,
      "metadata": {},
      "outputs": [],
      "source": [
        "import numpy as np"
      ],
      "id": "66d18255-b00a-4df6-91d1-152a1a4d93b5"
    },
    {
      "cell_type": "markdown",
      "metadata": {},
      "source": [
        "`-` 추측5: `!pip install numpy`를 하면 다시 폴더가 생길 것이다."
      ],
      "id": "235d9cac-ef92-489c-8e81-34d492fe587c"
    },
    {
      "cell_type": "code",
      "execution_count": 3,
      "metadata": {},
      "outputs": [
        {
          "output_type": "stream",
          "name": "stdout",
          "text": [
            "Found existing installation: numpy 1.22.2\n",
            "Uninstalling numpy-1.22.2:\n",
            "  Successfully uninstalled numpy-1.22.2"
          ]
        }
      ],
      "source": [
        "!pip uninstall numpy -y "
      ],
      "id": "f21f7add-1144-4696-9189-ee021468f39e"
    },
    {
      "cell_type": "code",
      "execution_count": 4,
      "metadata": {},
      "outputs": [
        {
          "output_type": "stream",
          "name": "stdout",
          "text": [
            "Collecting numpy\n",
            "  Downloading numpy-1.22.3-cp310-cp310-manylinux_2_17_x86_64.manylinux2014_x86_64.whl (16.8 MB)\n",
            "     |████████████████████████████████| 16.8 MB 11.4 MB/s eta 0:00:01\n",
            "Installing collected packages: numpy\n",
            "Successfully installed numpy-1.22.3"
          ]
        }
      ],
      "source": [
        "!pip install numpy "
      ],
      "id": "e8c7737a-ddd8-4bf7-acae-7e58ed2bfa76"
    },
    {
      "cell_type": "markdown",
      "metadata": {},
      "source": [
        "### 모듈, 패키지, 라이브러리?\n",
        "\n",
        "`-` 모듈의 개념은 아까 살펴본것과 같다. (import를 하여 생기게 되는\n",
        "오브젝트)\n",
        "\n",
        "`-` 교수님들: 모듈이 모이면 패키지라고 부른다. 그리고 라이브러리는\n",
        "패키지보다 큰 개념이다.\n",
        "\n",
        "`-` 그런데 구분이 모호하다."
      ],
      "id": "1393b658-d85d-4b13-ba7e-c0c08fa24fcf"
    },
    {
      "cell_type": "code",
      "execution_count": 1,
      "metadata": {},
      "outputs": [],
      "source": [
        "import numpy as np"
      ],
      "id": "de4749ed-fa24-4ec3-a3d9-7fcc66467b6d"
    },
    {
      "cell_type": "code",
      "execution_count": 3,
      "metadata": {},
      "outputs": [],
      "source": [
        "type(np)"
      ],
      "id": "fb6c51ba-5730-430e-a4af-1d658c979137"
    },
    {
      "cell_type": "markdown",
      "metadata": {},
      "source": [
        "`-` python에서의 numpy의 type은 모듈\n",
        "\n",
        "`-` 그런데 numpy package 라고 검색하면 검색이 된다.\n",
        "\n",
        "`-` 심지어 numpy library 라고 해도 검색가능\n",
        "\n",
        "`-` 내생각: 넘파이모듈, 넘파이패키지, 넘파이라이브러리 다 맞는 말임\n",
        "\n",
        "### 숙제\n",
        "\n",
        "myfuns.py 도움말 만드는 예제에서\n",
        "\n",
        "    이것은 길이가 2인 벡터의 합 혹은 차를 구하는 모듈입니다\n",
        "\n",
        "대신에\n",
        "\n",
        "    이것은 길이가 2인 벡터의 합 혹은 차를 구하는 모듈입니다. (학번: 2022-43052) \n",
        "\n",
        "와 같이 출력되도록 하고 스크린샷 제출"
      ],
      "id": "91b47937-1ad7-46ca-ba2d-d6a2dbab5968"
    }
  ],
  "nbformat": 4,
  "nbformat_minor": 5,
  "metadata": {
    "kernelspec": {
      "name": "python3",
      "display_name": "Python 3",
      "language": "python"
    },
    "language_info": {
      "name": "python",
      "codemirror_mode": {
        "name": "ipython",
        "version": "3"
      },
      "file_extension": ".py",
      "mimetype": "text/x-python",
      "nbconvert_exporter": "python",
      "pygments_lexer": "ipython3",
      "version": "3.8.0"
    }
  }
}