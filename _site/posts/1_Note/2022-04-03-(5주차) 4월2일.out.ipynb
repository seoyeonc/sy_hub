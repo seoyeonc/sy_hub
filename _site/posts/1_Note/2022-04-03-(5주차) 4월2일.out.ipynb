{
  "cells": [
    {
      "cell_type": "markdown",
      "metadata": {},
      "source": [
        "# Introduction to Python 5wk\n",
        "\n",
        "SEOYEON CHOI  \n",
        "4/4/22\n",
        "\n",
        "> 소스코드 관리, 모듈, 패키지, 라이브러리\n",
        "\n",
        "https://guebin.github.io/IP2022/2022/04/03/(5%EC%A3%BC%EC%B0%A8)-4%EC%9B%942%EC%9D%BC.html\n",
        "\n",
        "### 강의영상\n",
        "\n",
        "> youtube:\n",
        "> https://youtube.com/playlist?list=PLQqh36zP38-yzovneTfJptA4K705FOG1f\n",
        "\n",
        "`-` (1/7) intro\n",
        "\n",
        "`-` (2/7) import 사용방법, 도움말 작성기능\n",
        "\n",
        "`-` (3/7) import 사용시 주의점\n",
        "\n",
        "`-` (4/7) import 고급\n",
        "\n",
        "`-` (5/7) site-packages 1\n",
        "\n",
        "`-` (6/7) site-packages 2\n",
        "\n",
        "`-` (7/7) 모듈, 패키지, 라이브러리, 숙제설명\n",
        "\n",
        "### intro\n",
        "\n",
        "`-` 현재 파이썬은 길이가 2인 벡터의 덧셈을 지원하지 않음"
      ],
      "id": "1b3f5e93-6618-4e4f-8f7c-8e217e9aa957"
    },
    {
      "cell_type": "code",
      "execution_count": 2,
      "metadata": {},
      "outputs": [],
      "source": [
        "a=[1,2]\n",
        "b=[3,4]\n",
        "a+b"
      ],
      "id": "804268f7-1112-4425-9397-f9c749f6bed2"
    },
    {
      "cell_type": "markdown",
      "metadata": {},
      "source": [
        "`-` 아래와 같은 기능을 구현하는 함수를 만들고 싶음\n",
        "\n",
        "\\[1,2\\], \\[3,4\\] -\\> \\[4,6\\]\n",
        "\n",
        "`-` 구현"
      ],
      "id": "c6b774a8-ef78-47cd-843a-7ef2d1410a7e"
    },
    {
      "cell_type": "code",
      "execution_count": 6,
      "metadata": {},
      "outputs": [],
      "source": [
        "def vec2_add(a,b): \n",
        "    return [a[0]+b[0], a[1]+b[1]]"
      ],
      "id": "c813c96e-4788-4029-ace5-5e0fb3500f2a"
    },
    {
      "cell_type": "markdown",
      "metadata": {},
      "source": [
        "`-` test"
      ],
      "id": "69e69a77-534f-4c86-8e55-742e2376f1bb"
    },
    {
      "cell_type": "code",
      "execution_count": 7,
      "metadata": {},
      "outputs": [],
      "source": [
        "a=[1,2]\n",
        "b=[3,4]"
      ],
      "id": "ca1d5f7d-d222-4581-a939-dacab040c728"
    },
    {
      "cell_type": "code",
      "execution_count": 8,
      "metadata": {},
      "outputs": [],
      "source": [
        "vec2_add(a,b)"
      ],
      "id": "6c053494-74a6-4afc-a58a-361fb3d00317"
    },
    {
      "cell_type": "markdown",
      "metadata": {},
      "source": [
        "### make `myfuns.py`\n",
        "\n",
        "`-` 생각해보니까 vec2_add는 내가 앞으로 자주 쓸 기능임\n",
        "\n",
        "`-` 그런데 현재 사용방법으로는 내가 노트북파일을 새로 만들떄마다\n",
        "`def vec2_add(a,b):` 와 같은 형태로 vec2_add를 매번 정의해줘야 하는\n",
        "불편한이 있다.\n",
        "\n",
        "#### 해결1\n",
        "\n",
        "`-` 자주 사용하는 함수를 `myfuns.py`에 저장한다.\n",
        "\n",
        "``` python\n",
        "# myfuns.py\n",
        "def vec2_add(a,b): \n",
        "    return [a[0]+b[0], a[1]+b[1]]\n",
        "```\n",
        "\n",
        "`-` %run myfuns를 실행\n",
        "\n",
        "준비: “00” -\\> 커널재시작"
      ],
      "id": "fc307f0c-60d9-42f2-b248-ba9330eca58f"
    },
    {
      "cell_type": "code",
      "execution_count": 1,
      "metadata": {},
      "outputs": [],
      "source": [
        "%run myfuns "
      ],
      "id": "d79c5f0c-4983-436f-894f-fe775a1c4784"
    },
    {
      "cell_type": "code",
      "execution_count": 2,
      "metadata": {},
      "outputs": [],
      "source": [
        "vec2_add([1,2],[3,4])"
      ],
      "id": "3c8c7e37-125d-468a-bdf8-790120133534"
    },
    {
      "cell_type": "markdown",
      "metadata": {},
      "source": [
        "#### 해결2\n",
        "\n",
        "`-` 자주 사용하는 함수를 `myfuns.py`에 저장한다.\n",
        "\n",
        "``` python\n",
        "# myfuns.py\n",
        "def vec2_add(a,b): \n",
        "    return [a[0]+b[0], a[1]+b[1]]\n",
        "```\n",
        "\n",
        "`-` import myfuns를 이용\n",
        "\n",
        "(준비) “00” -\\> 커널재시작"
      ],
      "id": "4a47689f-c896-48ae-934e-2d0a53e121a0"
    },
    {
      "cell_type": "code",
      "execution_count": 3,
      "metadata": {},
      "outputs": [],
      "source": [
        "import myfuns "
      ],
      "id": "19560ace-5b09-4a4b-bea2-4c1922847c46"
    },
    {
      "cell_type": "code",
      "execution_count": 4,
      "metadata": {},
      "outputs": [],
      "source": [
        "a=[1,2]\n",
        "b=[3,4]\n",
        "myfuns.vec2_add(a,b)"
      ],
      "id": "f27ba4e6-9620-450b-9292-99e6b18a4858"
    },
    {
      "cell_type": "markdown",
      "metadata": {},
      "source": [
        "### import 기본\n",
        "\n",
        "#### 사용방법\n",
        "\n",
        "`-` 사용방법1\n",
        "\n",
        "준비: “00” -\\> 커널재시작"
      ],
      "id": "381d6b97-3e50-4744-8cd3-f7848a94df42"
    },
    {
      "cell_type": "code",
      "execution_count": 1,
      "metadata": {},
      "outputs": [],
      "source": [
        "import myfuns "
      ],
      "id": "a80c5ef0-0691-41f6-9b7b-c1415e09a62f"
    },
    {
      "cell_type": "code",
      "execution_count": 2,
      "metadata": {},
      "outputs": [],
      "source": [
        "myfuns.vec2_add([1,2],[3,4]) "
      ],
      "id": "4cd8471d-a491-4a80-9261-64d98b0173f3"
    },
    {
      "cell_type": "markdown",
      "metadata": {},
      "source": [
        "-   myfuns.vec2_add 의 의미: myfuns.py 라는 파일안에 vec2_add라는 함수가\n",
        "    있음. 그것을 실행하라.\n",
        "-   `.`의 의미: `상위.하위`의 개념!\n",
        "\n",
        "(주의) 아래와 같이 사용불가능 하다."
      ],
      "id": "614cec5c-03ac-402a-a362-a2d22807b751"
    },
    {
      "cell_type": "code",
      "execution_count": 3,
      "metadata": {
        "tags": []
      },
      "outputs": [],
      "source": [
        "vec2_add([1,2],[3,4])"
      ],
      "id": "2123b954-3811-46d6-9522-ca376073380e"
    },
    {
      "cell_type": "markdown",
      "metadata": {},
      "source": [
        "`-` 사용방법2\n",
        "\n",
        "준비: “00” -\\> 커널재시작"
      ],
      "id": "c2230454-6e39-409e-b563-f88610f0be99"
    },
    {
      "cell_type": "code",
      "execution_count": 3,
      "metadata": {},
      "outputs": [],
      "source": [
        "from myfuns import vec2_add "
      ],
      "id": "0d83df56-58ec-451b-ba79-cbe8571dc5d6"
    },
    {
      "cell_type": "code",
      "execution_count": 4,
      "metadata": {},
      "outputs": [],
      "source": [
        "vec2_add([1,2],[3,4])"
      ],
      "id": "a03cddfc-a1c7-42ef-86d5-809ee70cd973"
    },
    {
      "cell_type": "markdown",
      "metadata": {},
      "source": [
        "(주의) 이 경우는 오히려 아래가 불가능함"
      ],
      "id": "eadba60d-e38b-4d6c-b262-a0cab196c089"
    },
    {
      "cell_type": "code",
      "execution_count": 6,
      "metadata": {},
      "outputs": [],
      "source": [
        "myfuns.vec2_add([1,2],[3,4]) # myfuns안의 vec2_add만 임포트했지 myfuns자체를 임포트 한것은 아님 "
      ],
      "id": "b8e279c6-6686-4006-aa46-9f3e95e8f37f"
    },
    {
      "cell_type": "markdown",
      "metadata": {},
      "source": [
        "`-` 사용방법3\n",
        "\n",
        "준비: “00” -\\> 커널재시작"
      ],
      "id": "78bc99bd-5197-43f2-8f01-e956e6bda738"
    },
    {
      "cell_type": "code",
      "execution_count": 1,
      "metadata": {},
      "outputs": [],
      "source": [
        "import myfuns\n",
        "from myfuns import vec2_add"
      ],
      "id": "72b8bafa-5cf1-465a-a860-9366226affb2"
    },
    {
      "cell_type": "code",
      "execution_count": 2,
      "metadata": {},
      "outputs": [],
      "source": [
        "myfuns.vec2_add([1,2],[3,4])"
      ],
      "id": "42f5a95e-c03a-43f8-9399-c7e3433dad96"
    },
    {
      "cell_type": "code",
      "execution_count": 3,
      "metadata": {},
      "outputs": [],
      "source": [
        "vec2_add([1,2],[3,4])"
      ],
      "id": "2e9825bd-9706-456c-a222-756f0e722cf5"
    },
    {
      "cell_type": "markdown",
      "metadata": {},
      "source": [
        "`-` 사용방법4\n",
        "\n",
        "준비: “00” -\\> 커널재시작"
      ],
      "id": "16192a99-f38e-47ac-bdc2-20a9386febc2"
    },
    {
      "cell_type": "code",
      "execution_count": 1,
      "metadata": {},
      "outputs": [],
      "source": [
        "from myfuns import vec2_add, vec2_sub "
      ],
      "id": "a5c8f1f2-456c-4aee-85e1-39ac4cb62341"
    },
    {
      "cell_type": "code",
      "execution_count": 2,
      "metadata": {},
      "outputs": [],
      "source": [
        "vec2_add([1,2],[3,4])"
      ],
      "id": "fdeefd8b-f2d7-47d6-9c21-15be872718ae"
    },
    {
      "cell_type": "code",
      "execution_count": 3,
      "metadata": {},
      "outputs": [],
      "source": [
        "vec2_sub([1,2],[3,4])"
      ],
      "id": "4dddc775-7848-4f07-b11c-ef49e1904f1b"
    },
    {
      "cell_type": "markdown",
      "metadata": {},
      "source": [
        "`-` 사용방법5\n",
        "\n",
        "준비: “00” -\\> 커널재시작"
      ],
      "id": "a5e12480-2563-4c42-9437-6a0a5d1504c3"
    },
    {
      "cell_type": "code",
      "execution_count": 2,
      "metadata": {},
      "outputs": [],
      "source": [
        "from myfuns import * #*는 all의 의미 "
      ],
      "id": "43e09f44-0d93-426d-a379-bb9095700f1a"
    },
    {
      "cell_type": "code",
      "execution_count": 3,
      "metadata": {},
      "outputs": [],
      "source": [
        "vec2_add([1,2],[3,4])"
      ],
      "id": "f33a0c7a-b24d-4881-ada1-131ad3030222"
    },
    {
      "cell_type": "code",
      "execution_count": 4,
      "metadata": {},
      "outputs": [],
      "source": [
        "vec2_sub([1,2],[3,4])"
      ],
      "id": "9825f88a-3b5a-402a-8db4-d6827ee4b847"
    },
    {
      "cell_type": "markdown",
      "metadata": {},
      "source": [
        "`-` 사용방법6\n",
        "\n",
        "준비: “00” -\\> 커널재시작"
      ],
      "id": "47517527-f863-4972-b4b9-bc7d56ea8b98"
    },
    {
      "cell_type": "code",
      "execution_count": 1,
      "metadata": {},
      "outputs": [],
      "source": [
        "import myfuns as mf "
      ],
      "id": "81b1b8be-1448-4b35-b944-8a80919245b6"
    },
    {
      "cell_type": "code",
      "execution_count": 2,
      "metadata": {},
      "outputs": [],
      "source": [
        "mf.vec2_add([1,2],[3,4])"
      ],
      "id": "1198f25c-3313-47e0-81d1-71ecadcd675e"
    },
    {
      "cell_type": "code",
      "execution_count": 3,
      "metadata": {},
      "outputs": [],
      "source": [
        "mf.vec2_sub([1,2],[3,4])"
      ],
      "id": "63029b91-d91c-4b97-a8fb-8b02de75be70"
    },
    {
      "cell_type": "markdown",
      "metadata": {},
      "source": [
        "(오히려 아래는 실행불가능)"
      ],
      "id": "636782dd-c8fc-452f-aae8-840814133cb7"
    },
    {
      "cell_type": "code",
      "execution_count": 4,
      "metadata": {},
      "outputs": [],
      "source": [
        "myfuns.vec2_add([1,2],[3,4])"
      ],
      "id": "d9616268-fda7-4594-bc10-010b1c171eb0"
    },
    {
      "cell_type": "code",
      "execution_count": 5,
      "metadata": {},
      "outputs": [],
      "source": [
        "myfuns.vec2_sub([1,2],[3,4])"
      ],
      "id": "cf03bb75-d924-484c-a257-c39c9cb7c619"
    },
    {
      "cell_type": "markdown",
      "metadata": {},
      "source": [
        "`-` 잘못된 사용방법1\n",
        "\n",
        "준비: “00” -\\> 커널재시작"
      ],
      "id": "cbccab40-0173-4a0f-bf6a-e4a16a8936b7"
    },
    {
      "cell_type": "code",
      "execution_count": 1,
      "metadata": {},
      "outputs": [],
      "source": [
        "import myfuns as mf \n",
        "from mf import vec2_add "
      ],
      "id": "3270775b-1be4-4505-9686-e095b4f9b48a"
    },
    {
      "cell_type": "markdown",
      "metadata": {},
      "source": [
        "`-` 사용방법7\n",
        "\n",
        "준비: “00” -\\> 커널재시작"
      ],
      "id": "d60cff9b-9459-4230-9fc9-f2a8aa471a8b"
    },
    {
      "cell_type": "code",
      "execution_count": 1,
      "metadata": {},
      "outputs": [],
      "source": [
        "import myfuns as mf \n",
        "from myfuns import vec2_add "
      ],
      "id": "17b38de7-4a87-44cd-b966-3f611bb4919e"
    },
    {
      "cell_type": "code",
      "execution_count": 4,
      "metadata": {},
      "outputs": [],
      "source": [
        "mf.vec2_add([1,2],[3,4])"
      ],
      "id": "1f2852bd-0293-430c-a0b7-5d7fd915d8dd"
    },
    {
      "cell_type": "code",
      "execution_count": 5,
      "metadata": {},
      "outputs": [],
      "source": [
        "vec2_add([1,2],[3,4])"
      ],
      "id": "8342a12e-7b65-4f2f-a27c-eca1fcad0320"
    },
    {
      "cell_type": "markdown",
      "metadata": {},
      "source": [
        "`-` 사용방법8\n",
        "\n",
        "준비: “00” -\\> 커널재시작"
      ],
      "id": "1b97c71e-f72f-4de0-b4d7-38a58e25a64c"
    },
    {
      "cell_type": "code",
      "execution_count": 1,
      "metadata": {},
      "outputs": [],
      "source": [
        "import myfuns as mf \n",
        "from myfuns import vec2_add as add "
      ],
      "id": "f6bb3501-f987-4f37-8b88-927a7f53ad7b"
    },
    {
      "cell_type": "code",
      "execution_count": 2,
      "metadata": {},
      "outputs": [],
      "source": [
        "mf.vec2_add([1,2],[3,4])"
      ],
      "id": "b3bbffbe-0bbc-4dd0-b5e9-ec77d1518fe2"
    },
    {
      "cell_type": "code",
      "execution_count": 3,
      "metadata": {},
      "outputs": [],
      "source": [
        "vec2_add([1,2],[3,4])"
      ],
      "id": "87bd2793-acba-4e1d-98da-6c8f78fcf98d"
    },
    {
      "cell_type": "code",
      "execution_count": 4,
      "metadata": {},
      "outputs": [],
      "source": [
        "add([1,2],[3,4])"
      ],
      "id": "f0517d28-d78b-416a-bd7e-fbf27367c422"
    },
    {
      "cell_type": "markdown",
      "metadata": {},
      "source": [
        "#### 도움말 작성기능\n",
        "\n",
        "`-` mf란 무엇인가?\n",
        "\n",
        "준비: “00” -\\> 커널재시작"
      ],
      "id": "3dc0f632-e047-4be6-a4bf-e069bc7e7169"
    },
    {
      "cell_type": "code",
      "execution_count": 1,
      "metadata": {},
      "outputs": [],
      "source": [
        "import myfuns as mf "
      ],
      "id": "89b6a712-4d54-41ca-abd3-5fac499645cd"
    },
    {
      "cell_type": "code",
      "execution_count": 2,
      "metadata": {},
      "outputs": [],
      "source": [
        "mf"
      ],
      "id": "47d91847-48f6-46e5-afbc-366172341f4d"
    },
    {
      "cell_type": "code",
      "execution_count": 3,
      "metadata": {},
      "outputs": [],
      "source": [
        "mf?"
      ],
      "id": "b57c8a3b-b3e2-4da6-ac23-5e67f85f3bf9"
    },
    {
      "cell_type": "code",
      "execution_count": 4,
      "metadata": {},
      "outputs": [],
      "source": [
        "type(mf)"
      ],
      "id": "0ee084ac-a96d-487f-bac4-d307dac6c7bb"
    },
    {
      "cell_type": "markdown",
      "metadata": {},
      "source": [
        "-   mf의 타입은 모듈이라고 나옴, 현재 단계에서는 무엇인지 알기 어려움\n",
        "\n",
        "`-` Docstring의 내용을 채울 수 있을까?\n",
        "\n",
        "준비1: myfuns.py 파일을 아래와 같이 수정한다.\n",
        "\n",
        "준비2: “00” -\\> 커널재시작"
      ],
      "id": "5ee8abdb-c25b-4707-bfbc-77b75adbdce4"
    },
    {
      "cell_type": "code",
      "execution_count": 1,
      "metadata": {},
      "outputs": [],
      "source": [
        "import myfuns as mf "
      ],
      "id": "5a9659f6-7191-475f-a0ad-64484c27cd8d"
    },
    {
      "cell_type": "code",
      "execution_count": 2,
      "metadata": {},
      "outputs": [],
      "source": [
        "mf?"
      ],
      "id": "5bd637b4-8357-424f-9bb3-ae0d2b912d76"
    },
    {
      "cell_type": "markdown",
      "metadata": {},
      "source": [
        "#### 주의점\n",
        "\n",
        "`-` `myfuns.py`는 최초 한번만 import 된다.\n",
        "\n",
        "준비: “00” -\\> 커널재시작"
      ],
      "id": "5982ec44-f04b-4566-a151-4032d386b8de"
    },
    {
      "cell_type": "code",
      "execution_count": 1,
      "metadata": {},
      "outputs": [],
      "source": [
        "import myfuns"
      ],
      "id": "365a614b-4405-44bc-b0b4-25e8f7528f4f"
    },
    {
      "cell_type": "code",
      "execution_count": 2,
      "metadata": {},
      "outputs": [],
      "source": [
        "myfuns.vec2_add([1,2],[3,4])"
      ],
      "id": "e6f1d589-8ed4-462e-a42a-9896ec145003"
    },
    {
      "cell_type": "markdown",
      "metadata": {},
      "source": [
        "`myfuns.py`파일을 열고 함수를 아래와 같이 바꾸자.\n",
        "\n",
        "``` python\n",
        "\"\"\"이것은 길이가 2인 벡터의 합 혹은 차를 구하는 모듈입니다.\"\"\" \n",
        "def vec2_add(a,b): \n",
        "    print(\"이것은 myfuns.py에 정의된 함수입니다\") \n",
        "    return [a[0]+b[0], a[1]+b[1]]\n",
        "def vec2_sub(a,b): \n",
        "    return [a[0]-b[0], a[1]-b[1]]\n",
        "```\n",
        "\n",
        "다시 myfuns를 로드하고 myfuns.vec2_add 를 실행하여 보자."
      ],
      "id": "8ea1bbdd-74b7-46f8-ada2-cf39beb8fc14"
    },
    {
      "cell_type": "code",
      "execution_count": 4,
      "metadata": {},
      "outputs": [],
      "source": [
        "import myfuns"
      ],
      "id": "1cfa8b33-c8eb-4fe4-a788-cc2207b97a90"
    },
    {
      "cell_type": "code",
      "execution_count": 5,
      "metadata": {},
      "outputs": [],
      "source": [
        "myfuns.vec2_add([1,2],[3,4])"
      ],
      "id": "29817362-56e5-4b0b-83b8-9bb14e376f22"
    },
    {
      "cell_type": "markdown",
      "metadata": {},
      "source": [
        "바뀐내용이 적용되지 않는다.\n",
        "\n",
        "커널을 다시 시작하고 임포트해보자.\n",
        "\n",
        "“00” -\\> 커널재시작"
      ],
      "id": "39164ea3-b930-4cc3-afbe-8de3b70c4c5e"
    },
    {
      "cell_type": "code",
      "execution_count": 1,
      "metadata": {},
      "outputs": [],
      "source": [
        "import myfuns"
      ],
      "id": "764bcd29-1cd0-4004-a1eb-94e8b0377a7a"
    },
    {
      "cell_type": "code",
      "execution_count": 2,
      "metadata": {},
      "outputs": [
        {
          "output_type": "stream",
          "name": "stdout",
          "text": [
            "이것은 myfuns.py에 정의된 함수입니다"
          ]
        }
      ],
      "source": [
        "myfuns.vec2_add([1,2],[3,4])"
      ],
      "id": "1e7b1125-136d-4e53-9c03-feae402214c6"
    },
    {
      "cell_type": "markdown",
      "metadata": {},
      "source": [
        "`-` `myfuns.py`는 주피터노트북파일과 같은 폴더에 존재해야 한다.\n",
        "\n",
        "준비1: “00” -\\> 커널재시작\n",
        "\n",
        "준비2: `myfuns.py`을 복사하여 다른 폴더로 이동. 예를들면 IP0403 폴더를\n",
        "만들고 그 폴더안에 myfuns.py파일을 복사해서 붙여넣은뒤에 파일이름을\n",
        "myfuns2.py 로 변경."
      ],
      "id": "80ab6cc9-6efa-4bf2-903a-777bae849990"
    },
    {
      "cell_type": "code",
      "execution_count": 3,
      "metadata": {},
      "outputs": [],
      "source": [
        "import myfuns # 주피터노트북파일과 같은 폴더에 있는 myfuns는 잘 로드되지만 "
      ],
      "id": "517580dd-ff42-4980-8967-32c2d232e8f0"
    },
    {
      "cell_type": "code",
      "execution_count": 4,
      "metadata": {},
      "outputs": [],
      "source": [
        "import myfuns2 # 주피터노트북파일과 다른 폴더에 있는 myfuns2는 그렇지 않다. "
      ],
      "id": "8e9f20ae-0eb2-4063-9415-38ac3a4aca73"
    },
    {
      "cell_type": "markdown",
      "metadata": {},
      "source": [
        "`-` IP0403 폴더에 있는 myfuns2.py를 실행하기 위해서는 아래와 같이 할 수\n",
        "있다.\n",
        "\n",
        "준비: “00” -\\> 커널재시작"
      ],
      "id": "5f325a65-f128-4f51-b3c4-819ed0b16ea1"
    },
    {
      "cell_type": "code",
      "execution_count": 1,
      "metadata": {},
      "outputs": [],
      "source": [
        "from IP0403 import myfuns2"
      ],
      "id": "4a1e8ec5-99a8-41b6-a3c8-8916cfa28717"
    },
    {
      "cell_type": "code",
      "execution_count": 2,
      "metadata": {},
      "outputs": [
        {
          "output_type": "stream",
          "name": "stdout",
          "text": [
            "이것은 myfuns2.py에 정의된 함수입니다"
          ]
        }
      ],
      "source": [
        "myfuns2.vec2_add([1,2],[3,4]) "
      ],
      "id": "a3bf09ff-2926-4064-bede-f3ffcae5bacb"
    },
    {
      "cell_type": "markdown",
      "metadata": {},
      "source": [
        "`-` 아래도 가능하다.\n",
        "\n",
        "준비: “00” -\\> 커널재시작"
      ],
      "id": "388deadf-836f-4bb1-b690-050b58cde4e2"
    },
    {
      "cell_type": "code",
      "execution_count": 1,
      "metadata": {},
      "outputs": [],
      "source": [
        "from IP0403.myfuns2 import vec2_add as add "
      ],
      "id": "61cc14ae-02df-465a-b335-48a1fffb6e12"
    },
    {
      "cell_type": "code",
      "execution_count": 2,
      "metadata": {},
      "outputs": [
        {
          "output_type": "stream",
          "name": "stdout",
          "text": [
            "이것은 myfuns2.py에 정의된 함수입니다"
          ]
        }
      ],
      "source": [
        "add([1,2],[3,4])"
      ],
      "id": "52095699-659c-4bbc-8087-e4753e5890dc"
    },
    {
      "cell_type": "markdown",
      "metadata": {},
      "source": [
        "참고로 아래는 모두 정의되지 않음"
      ],
      "id": "e414c5de-b5c1-475f-b573-bfd146f7c136"
    },
    {
      "cell_type": "code",
      "execution_count": 3,
      "metadata": {},
      "outputs": [],
      "source": [
        "IP0403.myfuns2.vec2_add([1,2],[3,4]) "
      ],
      "id": "f3c5fa85-a401-4d4e-aa36-5748e352992d"
    },
    {
      "cell_type": "code",
      "execution_count": 4,
      "metadata": {},
      "outputs": [],
      "source": [
        "myfuns2.vec2_add([1,2],[3,4]) "
      ],
      "id": "63542937-266d-44d5-aa4a-ec04842ecea6"
    },
    {
      "cell_type": "code",
      "execution_count": 5,
      "metadata": {},
      "outputs": [],
      "source": [
        "vec2_add([1,2],[3,4]) "
      ],
      "id": "d127c0db-fd3e-4a33-bcee-c87c3ca9ac8a"
    },
    {
      "cell_type": "markdown",
      "metadata": {},
      "source": [
        "### import 고급\n",
        "\n",
        "#### 폴더와 함께 사용할시\n",
        "\n",
        "`-` 언뜻 생각하면 아래가 가능할 것 같다.\n",
        "\n",
        "``` python\n",
        "import IP0403 \n",
        "IP0403.myfuns2.vec2_add([1,2],[3,4]) \n",
        "```\n",
        "\n",
        "`-` 하지만 불가능하다.\n",
        "\n",
        "준비: “00” -\\> 커널재시작"
      ],
      "id": "a5c50434-c3ab-4a33-bea5-7b3bd67149f7"
    },
    {
      "cell_type": "code",
      "execution_count": 1,
      "metadata": {},
      "outputs": [],
      "source": [
        "import IP0403 "
      ],
      "id": "581dd8a5-2593-4173-b787-bafb53cab75f"
    },
    {
      "cell_type": "markdown",
      "metadata": {},
      "source": [
        "-   되는거아냐?"
      ],
      "id": "c11460bc-dcc0-4385-80d8-5fadaa57e06b"
    },
    {
      "cell_type": "code",
      "execution_count": 2,
      "metadata": {},
      "outputs": [],
      "source": [
        "IP0403.myfuns2.vec2_add([1,2],[3,4])"
      ],
      "id": "35a5227f-4e2c-4662-ada0-b97d433ef118"
    },
    {
      "cell_type": "markdown",
      "metadata": {},
      "source": [
        "-   여기서 불가능하다.\n",
        "\n",
        "`-` **(암기)** IP0403 폴더안에 `__init__.py`라는 파일을 만들고 내용에\n",
        "아래와 같이 쓰면 가능하다.\n",
        "\n",
        "``` python\n",
        "# ./IP0403/__init__.py \n",
        "from . import myfuns2\n",
        "```\n",
        "\n",
        "준비1: 위의 지침을 따른다.\n",
        "\n",
        "준비2: “00” -\\> 커널재시작"
      ],
      "id": "f47a1aab-748d-4d63-966a-339fcfc07f25"
    },
    {
      "cell_type": "code",
      "execution_count": 1,
      "metadata": {},
      "outputs": [],
      "source": [
        "import IP0403 "
      ],
      "id": "f998dc3f-30cc-45f5-92b2-83a831cdc3bb"
    },
    {
      "cell_type": "code",
      "execution_count": 2,
      "metadata": {},
      "outputs": [
        {
          "output_type": "stream",
          "name": "stdout",
          "text": [
            "이것은 myfuns2.py에 정의된 함수입니다"
          ]
        }
      ],
      "source": [
        "IP0403.myfuns2.vec2_add([1,2],[3,4])"
      ],
      "id": "49653349-94f5-4b71-b48a-d28acf15ab30"
    },
    {
      "cell_type": "markdown",
      "metadata": {},
      "source": [
        "**컴퓨터 상식** - `.`: 현재폴더를 의미 - `..`: 상위폴더를 의미 -\n",
        "`./myfuns.py`: 현재폴더안에 있는 myfuns.py를 의미 -\n",
        "`./IP0403/myfuns2.py`: 현재폴더만에 IP0403폴더안의 myfuns2.py 파일을\n",
        "의미 - `../myfuns.py`: 현재폴더보다 한단계상위폴더에 있는 myfuns.py를\n",
        "의미 - `cd ./IP0403`: 현재폴더안에 있는 IP0403폴더로 이동해라.\n",
        "(`cd IP0403`으로 줄여쓸 수 있음) - `cd ..` 현재폴더보다 한단계\n",
        "상위폴더로 이동하라.\n",
        "\n",
        "**따라서 `from . import myfuns2`는 현재폴더에서 myfuns2를 찾아서 임포트\n",
        "하라는 의미로 해석가능**\n",
        "\n",
        "`-` 의미상으로 보면 아래가 실행가능할듯 한데 불가능하다."
      ],
      "id": "67082d82-a4c3-456a-a79e-eb81984c6881"
    },
    {
      "cell_type": "code",
      "execution_count": 3,
      "metadata": {},
      "outputs": [],
      "source": [
        "#import myfuns\n",
        "from . import myfuns"
      ],
      "id": "cdbedd5e-2961-468b-848b-71ec746ff77b"
    },
    {
      "cell_type": "markdown",
      "metadata": {},
      "source": [
        "### site-packages (실습금지)\n",
        "\n",
        "`-` 의문: 왜 현재폴더에 numpy.py라든가 numpy라는 이름의 폴더가 없는데도\n",
        "import 가능한지?\n",
        "\n",
        "준비: “00” -\\> 커널재시작"
      ],
      "id": "14ceceb7-ee8d-4fca-90e2-d67f4883d5dc"
    },
    {
      "cell_type": "code",
      "execution_count": 1,
      "metadata": {},
      "outputs": [],
      "source": [
        "import numpy as np"
      ],
      "id": "9dee54f0-d04f-4be5-91bc-2c48c8db8823"
    },
    {
      "cell_type": "code",
      "execution_count": 2,
      "metadata": {},
      "outputs": [],
      "source": [
        "import IP0403 as ip "
      ],
      "id": "abfe57f9-6034-47b9-a076-6a679f759b6a"
    },
    {
      "cell_type": "code",
      "execution_count": 7,
      "metadata": {},
      "outputs": [],
      "source": [
        "ip?"
      ],
      "id": "490ea1cd-214f-4caf-a9d6-21ecd52c6f8a"
    },
    {
      "cell_type": "code",
      "execution_count": 6,
      "metadata": {},
      "outputs": [],
      "source": [
        "np?"
      ],
      "id": "5ce05c9d-0f5a-43bb-81ab-82e7a9eab9bf"
    },
    {
      "cell_type": "markdown",
      "metadata": {},
      "source": [
        "`-` 추측: `~/anaconda3/envs/py310/lib/python3.10/site-packages/`를\n",
        "찾아가보자. 그곳에 numpy폴더가 있을 것이다."
      ],
      "id": "203a43b4-17f4-4623-8f47-b8effa9035ee"
    },
    {
      "cell_type": "code",
      "execution_count": 13,
      "metadata": {},
      "outputs": [
        {
          "output_type": "stream",
          "name": "stdout",
          "text": [
            "numpy\n",
            "numpy-1.22.2.dist-info"
          ]
        }
      ],
      "source": [
        "!ls ~/anaconda3/envs/py310/lib/python3.10/site-packages | grep numpy"
      ],
      "id": "48d6a5da-32bc-40bd-8959-9fd254fd4db1"
    },
    {
      "cell_type": "markdown",
      "metadata": {},
      "source": [
        "`-` 추측2: `~/anaconda3/envs/py310/lib/python3.10/site-packages/`에 내가\n",
        "자주 쓰는 기능을 폴더로 만들어서 모아두면 어디서든지 import 할 수 있다."
      ],
      "id": "9a2b2dad-adfa-4c56-962f-bfcf89c0bfa4"
    },
    {
      "cell_type": "code",
      "execution_count": 14,
      "metadata": {},
      "outputs": [],
      "source": [
        "!mkdir ~/anaconda3/envs/py310/lib/python3.10/site-packages/guebin # guebin 폴더 생성 "
      ],
      "id": "41e97cd6-d384-40e9-b49b-79a8cd9821ab"
    },
    {
      "cell_type": "code",
      "execution_count": 15,
      "metadata": {},
      "outputs": [],
      "source": [
        "!cp ./myfuns.py ~/anaconda3/envs/py310/lib/python3.10/site-packages/guebin \n",
        "# 현폴더에 있는 myfuns.py를 아까만든 guebin 폴더로 복사 "
      ],
      "id": "aaae35e1-a05e-4132-8b23-1fc626b83b12"
    },
    {
      "cell_type": "code",
      "execution_count": 16,
      "metadata": {},
      "outputs": [],
      "source": [
        "from guebin import myfuns"
      ],
      "id": "69dbce2d-81f4-4e57-99b8-a1638f2ce327"
    },
    {
      "cell_type": "code",
      "execution_count": 17,
      "metadata": {},
      "outputs": [],
      "source": [
        "myfuns?"
      ],
      "id": "eba4207d-428d-4899-a6ff-506afb2c4f19"
    },
    {
      "cell_type": "code",
      "execution_count": 19,
      "metadata": {},
      "outputs": [],
      "source": [
        "!rm  ~/anaconda3/envs/py310/lib/python3.10/site-packages/guebin -rf # guebin 폴더삭제 "
      ],
      "id": "033a7f1d-753e-49c3-ac5f-c2f0a15d1bf1"
    },
    {
      "cell_type": "markdown",
      "metadata": {},
      "source": [
        "`-` 추측3: guebin이 사라진 상태에서는 `from guebin import myfuns` 이\n",
        "동작하지 않을 것이다.\n",
        "\n",
        "준비: “00” -\\> 커널재시작"
      ],
      "id": "99940eb5-671b-4110-a1dd-29acefbd678d"
    },
    {
      "cell_type": "code",
      "execution_count": 1,
      "metadata": {},
      "outputs": [],
      "source": [
        "from guebin import myfuns"
      ],
      "id": "8cff40a6-4174-49ab-8612-174b465adc31"
    },
    {
      "cell_type": "markdown",
      "metadata": {},
      "source": [
        "`-` 추측4: `~/anaconda3/envs/py310/lib/python3.10/site-packages/`에서\n",
        "numpy를 지운다면 numpy를 import할 수 없다.\n",
        "\n",
        "준비: “00” -\\> 커널재시작"
      ],
      "id": "c1199fd5-14d3-4cf3-a6ba-1a5f5603031e"
    },
    {
      "cell_type": "code",
      "execution_count": 1,
      "metadata": {},
      "outputs": [],
      "source": [
        "import numpy as np"
      ],
      "id": "7dec93a2-1114-4ea3-86d4-bf2d60eff10b"
    },
    {
      "cell_type": "markdown",
      "metadata": {},
      "source": [
        "`-` 추측5: `!pip install numpy`를 하면 다시 폴더가 생길 것이다."
      ],
      "id": "a9a2674e-9f7f-45cb-81e2-650c98bd128a"
    },
    {
      "cell_type": "code",
      "execution_count": 3,
      "metadata": {},
      "outputs": [
        {
          "output_type": "stream",
          "name": "stdout",
          "text": [
            "Found existing installation: numpy 1.22.2\n",
            "Uninstalling numpy-1.22.2:\n",
            "  Successfully uninstalled numpy-1.22.2"
          ]
        }
      ],
      "source": [
        "!pip uninstall numpy -y "
      ],
      "id": "ae8b3cb1-f1f4-488f-a88c-c66083fde4a1"
    },
    {
      "cell_type": "code",
      "execution_count": 4,
      "metadata": {},
      "outputs": [
        {
          "output_type": "stream",
          "name": "stdout",
          "text": [
            "Collecting numpy\n",
            "  Downloading numpy-1.22.3-cp310-cp310-manylinux_2_17_x86_64.manylinux2014_x86_64.whl (16.8 MB)\n",
            "     |████████████████████████████████| 16.8 MB 11.4 MB/s eta 0:00:01\n",
            "Installing collected packages: numpy\n",
            "Successfully installed numpy-1.22.3"
          ]
        }
      ],
      "source": [
        "!pip install numpy "
      ],
      "id": "4a000166-8da2-473e-988d-c2614890c2bc"
    },
    {
      "cell_type": "markdown",
      "metadata": {},
      "source": [
        "### 모듈, 패키지, 라이브러리?\n",
        "\n",
        "`-` 모듈의 개념은 아까 살펴본것과 같다. (import를 하여 생기게 되는\n",
        "오브젝트)\n",
        "\n",
        "`-` 교수님들: 모듈이 모이면 패키지라고 부른다. 그리고 라이브러리는\n",
        "패키지보다 큰 개념이다.\n",
        "\n",
        "`-` 그런데 구분이 모호하다."
      ],
      "id": "095d3602-a9ff-4fd9-b10b-b8b017faca99"
    },
    {
      "cell_type": "code",
      "execution_count": 1,
      "metadata": {},
      "outputs": [],
      "source": [
        "import numpy as np"
      ],
      "id": "ca3e3dce-01ce-4cc6-a0fc-00d1dbf1300a"
    },
    {
      "cell_type": "code",
      "execution_count": 3,
      "metadata": {},
      "outputs": [],
      "source": [
        "type(np)"
      ],
      "id": "69c4e868-94ce-4e17-985d-d10390bf98fb"
    },
    {
      "cell_type": "markdown",
      "metadata": {},
      "source": [
        "`-` python에서의 numpy의 type은 모듈\n",
        "\n",
        "`-` 그런데 numpy package 라고 검색하면 검색이 된다.\n",
        "\n",
        "`-` 심지어 numpy library 라고 해도 검색가능\n",
        "\n",
        "`-` 내생각: 넘파이모듈, 넘파이패키지, 넘파이라이브러리 다 맞는 말임\n",
        "\n",
        "### 숙제\n",
        "\n",
        "myfuns.py 도움말 만드는 예제에서\n",
        "\n",
        "    이것은 길이가 2인 벡터의 합 혹은 차를 구하는 모듈입니다\n",
        "\n",
        "대신에\n",
        "\n",
        "    이것은 길이가 2인 벡터의 합 혹은 차를 구하는 모듈입니다. (학번: 2022-43052) \n",
        "\n",
        "와 같이 출력되도록 하고 스크린샷 제출"
      ],
      "id": "7f255e2e-bf46-4adc-807d-6b557b5d1b70"
    }
  ],
  "nbformat": 4,
  "nbformat_minor": 5,
  "metadata": {
    "kernelspec": {
      "name": "python3",
      "display_name": "Python 3",
      "language": "python"
    },
    "language_info": {
      "name": "python",
      "codemirror_mode": {
        "name": "ipython",
        "version": "3"
      },
      "file_extension": ".py",
      "mimetype": "text/x-python",
      "nbconvert_exporter": "python",
      "pygments_lexer": "ipython3",
      "version": "3.8.0"
    }
  }
}