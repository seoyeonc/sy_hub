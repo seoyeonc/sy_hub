{
  "cells": [
    {
      "cell_type": "markdown",
      "metadata": {},
      "source": [
        "# \\*\\*\\[Coding Test\\]\\*\\*Python Programming HW review\n",
        "\n",
        "SEOYEON CHOI  \n",
        "2023-08-26\n",
        "\n",
        "# 1.\n",
        "\n",
        "HW: 0315\n",
        "\n",
        "[02wk-1: 파이썬의 자료형\n",
        "(2)](https://guebin.github.io/PP2023/posts/01_PythonBasic/2023-03-13-2wk-1.html#%EA%B0%95%EC%9D%98%EC%98%81%EC%83%81)\n",
        "\n",
        "아래와 같은 문자열이 있다고 하자."
      ],
      "id": "04f9604c-b8d4-4e6a-a82b-f59fc97c1223"
    },
    {
      "cell_type": "code",
      "execution_count": 1,
      "metadata": {},
      "outputs": [],
      "source": [
        "a='Jeonbuk National University' "
      ],
      "id": "64a20bd2-f2a3-4d45-9d6a-b7a50afeb0e8"
    },
    {
      "cell_type": "markdown",
      "metadata": {},
      "source": [
        "`1`. 적당한 인덱싱을 통하여 출력결과가 아래와 같도록 하라."
      ],
      "id": "56956fa5-4dcf-44d5-98e5-c8e49c5f63c8"
    },
    {
      "cell_type": "code",
      "execution_count": 11,
      "metadata": {},
      "outputs": [],
      "source": [
        "a.find('U')"
      ],
      "id": "1830a7a8-97a4-4082-a8f4-667422ae3ca7"
    },
    {
      "cell_type": "code",
      "execution_count": 12,
      "metadata": {},
      "outputs": [],
      "source": [
        "a.find('y')"
      ],
      "id": "05eb56ce-9ac4-4599-b141-8efec2453f34"
    },
    {
      "cell_type": "code",
      "execution_count": 13,
      "metadata": {},
      "outputs": [],
      "source": [
        "str(a)"
      ],
      "id": "a7147cfe-d365-4b1e-8c4d-c6b738692729"
    },
    {
      "cell_type": "code",
      "execution_count": 15,
      "metadata": {},
      "outputs": [],
      "source": [
        "a[a.find('U'):a.find('y')+1]"
      ],
      "id": "335324ce-7133-4192-9dcc-72274aae1f34"
    },
    {
      "cell_type": "markdown",
      "metadata": {},
      "source": [
        "hint: University는 10글자이다.\n",
        "\n",
        "`2`. 출력결과가 아래와 같도록 하는 코드를 작성하라. (lower 함수를 이용할\n",
        "것)"
      ],
      "id": "b28084dc-0199-46b5-9e37-da12a6afe956"
    },
    {
      "cell_type": "code",
      "execution_count": 17,
      "metadata": {},
      "outputs": [],
      "source": [
        "a.lower()"
      ],
      "id": "726b18c3-0145-452e-903a-173d69b15cbe"
    },
    {
      "cell_type": "markdown",
      "metadata": {},
      "source": [
        "`3`. 아래의 코드를 관찰하고 isupper()의 기능이 무엇인지 스스로\n",
        "정리해보라."
      ],
      "id": "1d2d6c09-d4a1-4625-8261-552b3b53a038"
    },
    {
      "cell_type": "code",
      "execution_count": 18,
      "metadata": {},
      "outputs": [],
      "source": [
        "'A'.isupper()"
      ],
      "id": "05dd8c7c-bd64-4193-8db5-ab91f4bd1caa"
    },
    {
      "cell_type": "code",
      "execution_count": 19,
      "metadata": {},
      "outputs": [],
      "source": [
        "'AA'.isupper()"
      ],
      "id": "a84adb29-cdbd-449f-a4d5-277f2d4c0c4c"
    },
    {
      "cell_type": "code",
      "execution_count": 20,
      "metadata": {},
      "outputs": [],
      "source": [
        "'Aa'.isupper()"
      ],
      "id": "f13a5686-4369-411d-8b1f-ca251e9d57c0"
    },
    {
      "cell_type": "code",
      "execution_count": 21,
      "metadata": {},
      "outputs": [],
      "source": [
        "'aa'.isupper()"
      ],
      "id": "4b4a40bd-099c-4c22-99e0-93e078eea6b5"
    },
    {
      "cell_type": "code",
      "execution_count": 22,
      "metadata": {},
      "outputs": [],
      "source": [
        "'aA'.isupper()"
      ],
      "id": "87ce39e6-923f-4a6d-a1f3-46e5a203711f"
    },
    {
      "cell_type": "markdown",
      "metadata": {},
      "source": [
        "대문자인가 확인하는 코드!"
      ],
      "id": "f99a034d-02d6-434d-b868-f05022d66aa4"
    },
    {
      "cell_type": "code",
      "execution_count": 23,
      "metadata": {},
      "outputs": [],
      "source": [
        "'aA'.islower()"
      ],
      "id": "e6858eca-a56f-47ee-87c1-e7991ee82dbf"
    },
    {
      "cell_type": "markdown",
      "metadata": {},
      "source": [
        "소문자인거 확인하는 코드!\n",
        "\n",
        "`4`. 다음중 실행 불가능한 코드를 모두 골라라.\n",
        "\n",
        "1.  ‘a’\\*2"
      ],
      "id": "44a09243-584c-4caf-b566-676ead8ba877"
    },
    {
      "cell_type": "code",
      "execution_count": 31,
      "metadata": {},
      "outputs": [],
      "source": [
        "'a'*2"
      ],
      "id": "901de343-4f02-4c8d-b4af-7d4283b1acf1"
    },
    {
      "cell_type": "markdown",
      "metadata": {},
      "source": [
        "1.  ‘a’\\*‘2’"
      ],
      "id": "672b88b4-7bd8-4129-a0fe-618de76ea036"
    },
    {
      "cell_type": "code",
      "execution_count": 32,
      "metadata": {},
      "outputs": [],
      "source": [
        "'a'*'2'"
      ],
      "id": "7c4e335a-c7ed-4fff-a869-fe4651563aea"
    },
    {
      "cell_type": "markdown",
      "metadata": {},
      "source": [
        "1.  ‘a’+2"
      ],
      "id": "6cecfed7-55e0-4768-abce-0905645c9a82"
    },
    {
      "cell_type": "code",
      "execution_count": 33,
      "metadata": {},
      "outputs": [],
      "source": [
        "'a'+2"
      ],
      "id": "8de0f92f-1dfe-431b-870c-da5e5642b888"
    },
    {
      "cell_type": "markdown",
      "metadata": {},
      "source": [
        "1.  ‘a’+‘2’"
      ],
      "id": "ea7efc07-b055-4758-a72a-ace4f855c25c"
    },
    {
      "cell_type": "code",
      "execution_count": 34,
      "metadata": {},
      "outputs": [],
      "source": [
        "'a'+'2'"
      ],
      "id": "4361a776-5295-4da2-baf0-6c6d4cc03518"
    },
    {
      "cell_type": "markdown",
      "metadata": {},
      "source": [
        "# 2.\n",
        "\n",
        "HW 0315\n",
        "\n",
        "[02wk-2: 파이썬의 자료형\n",
        "(3)](https://guebin.github.io/PP2023/posts/01_PythonBasic/2023-03-15-2wk-2.html)\n",
        "\n",
        "`1`. 길이가 0인 리스트를 만들어라. (비어있는 리스트를 만들어라)\n",
        "\n",
        "(풀이1)"
      ],
      "id": "879704e6-8420-451c-9934-3427e079445f"
    },
    {
      "cell_type": "code",
      "execution_count": 35,
      "metadata": {},
      "outputs": [],
      "source": [
        "[]"
      ],
      "id": "040fbc81-dd6e-4410-b7b6-d8ff91565120"
    },
    {
      "cell_type": "markdown",
      "metadata": {},
      "source": [
        "(풀이2)"
      ],
      "id": "b311c4c2-085e-4255-a632-0d9a12d8e9d1"
    },
    {
      "cell_type": "code",
      "execution_count": 36,
      "metadata": {},
      "outputs": [],
      "source": [
        "list()"
      ],
      "id": "b38513de-d851-4c3f-81f4-a495738eed1d"
    },
    {
      "cell_type": "markdown",
      "metadata": {},
      "source": [
        "`2`. 다음의 실행값 중 가장 큰 숫자가 나오는 보기를 골라라. (에러가 나는\n",
        "코드는 정답에서 제외함)"
      ],
      "id": "e4d4a4f1-9737-46f8-b5dc-157b778ab543"
    },
    {
      "cell_type": "code",
      "execution_count": null,
      "metadata": {},
      "outputs": [],
      "source": [
        "(a) len(3.14) \n",
        "(b) len([3.14]) \n",
        "(c) len('3.14') "
      ],
      "id": "28f50fac-b753-4870-98a3-5f3c89d36c02"
    },
    {
      "cell_type": "code",
      "execution_count": 38,
      "metadata": {},
      "outputs": [],
      "source": [
        "len(3.14)"
      ],
      "id": "99fb7341-1bd5-41c8-959a-8893d4435195"
    },
    {
      "cell_type": "code",
      "execution_count": 58,
      "metadata": {},
      "outputs": [],
      "source": [
        "a = 3.14;a?"
      ],
      "id": "c49714ea-2aa8-4c58-90ef-f2d21a753f34"
    },
    {
      "cell_type": "code",
      "execution_count": 59,
      "metadata": {},
      "outputs": [],
      "source": [
        "a.is_integer()"
      ],
      "id": "cdfface5-680b-47c0-826c-5dbc0ba1cf7c"
    },
    {
      "cell_type": "code",
      "execution_count": 60,
      "metadata": {},
      "outputs": [],
      "source": [
        "len([3.14])"
      ],
      "id": "baa22330-5a4e-471a-a344-dd0869974ee3"
    },
    {
      "cell_type": "code",
      "execution_count": 61,
      "metadata": {},
      "outputs": [],
      "source": [
        "a = [3.14];a?"
      ],
      "id": "6d579427-9b74-4222-91f5-a2979a864339"
    },
    {
      "cell_type": "code",
      "execution_count": 62,
      "metadata": {},
      "outputs": [],
      "source": [
        "a.is_integer()"
      ],
      "id": "28e2c852-210e-4bfe-9543-df0b9d2aa299"
    },
    {
      "cell_type": "code",
      "execution_count": 63,
      "metadata": {},
      "outputs": [],
      "source": [
        "len('3.14') "
      ],
      "id": "32f50cd3-bfec-4ad1-bd00-3e9d38f6c867"
    },
    {
      "cell_type": "code",
      "execution_count": 64,
      "metadata": {},
      "outputs": [],
      "source": [
        "a = '3.14';a?"
      ],
      "id": "b4be516a-b56d-4bc5-ace7-5a60acb2592c"
    },
    {
      "cell_type": "code",
      "execution_count": 65,
      "metadata": {},
      "outputs": [],
      "source": [
        "a.is_integer()"
      ],
      "id": "6090121c-8f82-48e8-9967-98efd7afc892"
    },
    {
      "cell_type": "markdown",
      "metadata": {},
      "source": [
        "`3`. 아래의 예제를 관찰하라."
      ],
      "id": "bbf4e96d-2db0-43df-ba8e-72c47df4a429"
    },
    {
      "cell_type": "code",
      "execution_count": 66,
      "metadata": {},
      "outputs": [],
      "source": [
        "'제 이름은 {}입니다'.format('abc')"
      ],
      "id": "d0fc29a4-760f-4ebe-b6b2-ed475f929798"
    },
    {
      "cell_type": "code",
      "execution_count": 67,
      "metadata": {},
      "outputs": [],
      "source": [
        "'제 이름은 {}이고 사는곳은 {}입니다.'.format('abc','de')"
      ],
      "id": "9525067a-aefb-4586-acc3-4d9ad57e4008"
    },
    {
      "cell_type": "markdown",
      "metadata": {},
      "source": [
        "이 예제를 바탕으로 문자열에 포함된 .format()함수의 기능을 유추하라.\n",
        "그리고 아래의 결과를 확인하라.\n",
        "\n",
        "$\\to$ `.format`의 기능은 `{}`에 문자를 순서대로 넣어주는 역할."
      ],
      "id": "6266d0da-33b7-481e-a1f3-ffe2e7660331"
    },
    {
      "cell_type": "code",
      "execution_count": 69,
      "metadata": {},
      "outputs": [],
      "source": [
        "string = '행사가 {}월{}일-{}월{}일 abc펜션에서 있다고 합니다. 자세한 일정 등은 다시 공지하겠습니다.' \n",
        "string.format(3,24,3,25)"
      ],
      "id": "f5903be4-079d-4718-9284-2de21526c848"
    },
    {
      "cell_type": "code",
      "execution_count": 71,
      "metadata": {},
      "outputs": [],
      "source": [
        "string.format(1,1,2,2)"
      ],
      "id": "d2d6bbc8-e473-4c1d-8ca0-81429bef1a1c"
    },
    {
      "cell_type": "markdown",
      "metadata": {},
      "source": [
        "`4`. 아래의 예제를 관찰하라."
      ],
      "id": "9d90d04c-6520-497f-9cea-4df0b160a193"
    },
    {
      "cell_type": "code",
      "execution_count": 72,
      "metadata": {},
      "outputs": [],
      "source": [
        "'abcdefg'.replace('g','u')"
      ],
      "id": "bfbc0161-6047-4feb-bf8d-75e8f345ffe5"
    },
    {
      "cell_type": "markdown",
      "metadata": {},
      "source": [
        "이 예제를 바탕으로 문자열의 .replace() 기능을 유추하라.\n",
        "\n",
        "$\\to$ `.replace`의 기능은 ’g’를 ’u’로 바꿔준다.\n",
        "\n",
        "`5`. 리스트자료형의 +와 \\* 연산을 이용하여 아래와 같은 list를 생성하라."
      ],
      "id": "9aa1a834-a39f-413b-a823-596ee7cc670d"
    },
    {
      "cell_type": "code",
      "execution_count": 73,
      "metadata": {},
      "outputs": [],
      "source": [
        "[1, 2, 2, 3, 3, 3, 4, 4, 4, 4, 5, 5, 5, 5, 5]"
      ],
      "id": "1a600451-5c9f-4b15-a146-367be5b52aaf"
    },
    {
      "cell_type": "code",
      "execution_count": 76,
      "metadata": {},
      "outputs": [],
      "source": [
        "[1] + [2] * 2 + [3] * 3 + [4] * 4 + [5] * 5"
      ],
      "id": "0246f417-f895-4aaa-a0aa-6e47e03bf6e3"
    },
    {
      "cell_type": "markdown",
      "metadata": {},
      "source": [
        "hint: 아래의 코드를 관찰해보세요"
      ],
      "id": "64cbf9bb-a90e-4782-8ef9-b3ebcc9e5c19"
    },
    {
      "cell_type": "code",
      "execution_count": 74,
      "metadata": {},
      "outputs": [],
      "source": [
        "[1]*1+[2]*2 "
      ],
      "id": "b00547c4-d1fb-4602-83ea-276e3fb9335e"
    },
    {
      "cell_type": "markdown",
      "metadata": {},
      "source": [
        "`6`. 넘파이를 이용하여 아래와 같은 결과가 나오도록 코드가 작성하라.\n",
        "\n",
        "$$\\begin{bmatrix}\n",
        "1 \\\\\n",
        "2 \n",
        "\\end{bmatrix} + \\begin{bmatrix}\n",
        "11 \\\\\n",
        "22 \n",
        "\\end{bmatrix} = \n",
        "\\begin{bmatrix}\n",
        "12 \\\\\n",
        "24\n",
        "\\end{bmatrix}$$"
      ],
      "id": "da057ff1-6bc0-4e61-aa77-b9f5f13c4104"
    },
    {
      "cell_type": "code",
      "execution_count": 77,
      "metadata": {},
      "outputs": [],
      "source": [
        "import numpy as np"
      ],
      "id": "656530f0-bb65-44ff-8aff-191814763248"
    },
    {
      "cell_type": "code",
      "execution_count": 83,
      "metadata": {},
      "outputs": [],
      "source": [
        "np.array([1,2]) + np.array([11,22]) "
      ],
      "id": "4fbeac2d-8e46-4263-851f-1caffd9e752b"
    },
    {
      "cell_type": "code",
      "execution_count": 84,
      "metadata": {},
      "outputs": [],
      "source": [
        "np.array([[1],[2]]) + np.array([[11],[22]])"
      ],
      "id": "fd77a1c8-542d-4dc0-ae50-13ab0132fc09"
    },
    {
      "cell_type": "markdown",
      "metadata": {},
      "source": [
        "1.  아래와 같은 벡터가 있다고 하자.\n",
        "\n",
        "$$\\boldsymbol{a}=\n",
        "\\begin{bmatrix}\n",
        "12 \\\\\n",
        "24\n",
        "\\end{bmatrix}$$\n",
        "\n",
        "넘파이를 이용하여 아래의 결과가 나오게 하는 코드를 작성하라.\n",
        "\n",
        "$$2\\boldsymbol{a}=\n",
        "\\begin{bmatrix}\n",
        "24 \\\\\n",
        "48\n",
        "\\end{bmatrix}$$"
      ],
      "id": "88eeefaa-5804-4ec4-b3df-a67e6f69abc9"
    },
    {
      "cell_type": "code",
      "execution_count": 86,
      "metadata": {},
      "outputs": [],
      "source": [
        "2 * (np.array([[1],[2]]) + np.array([[11],[22]]))"
      ],
      "id": "9ed32d55-0bd8-4521-8872-f6e434c2badc"
    },
    {
      "cell_type": "code",
      "execution_count": 88,
      "metadata": {},
      "outputs": [],
      "source": [
        "2 * np.array([12, 24])"
      ],
      "id": "2a5d3c75-863a-417a-b06a-2f87332728fe"
    },
    {
      "cell_type": "code",
      "execution_count": 89,
      "metadata": {},
      "outputs": [],
      "source": [
        "2 * np.array([[12], [24]])"
      ],
      "id": "2c67da41-c3f0-43e9-acb3-0ba3c1db808b"
    },
    {
      "cell_type": "markdown",
      "metadata": {},
      "source": [
        "# 3.\n",
        "\n",
        "HW 0320\n",
        "\n",
        "[03wk-1: 파이썬의 자료형\n",
        "(4)](https://guebin.github.io/PP2023/posts/01_PythonBasic/2023-03-20-3wk-1.html)\n",
        "\n",
        "`1`. 아래의 코드를 관찰하고, sum()의 기능을 유추하라."
      ],
      "id": "44226a96-503a-4f8a-81de-13c4330df888"
    },
    {
      "cell_type": "code",
      "execution_count": 90,
      "metadata": {},
      "outputs": [],
      "source": [
        "sum([1,0,1,0])"
      ],
      "id": "570087c7-5fbb-4945-a74f-21d80379d710"
    },
    {
      "cell_type": "markdown",
      "metadata": {},
      "source": [
        "$\\to$ 원소의 합"
      ],
      "id": "1ec3d850-e907-4e62-8111-b92240582a95"
    },
    {
      "cell_type": "code",
      "execution_count": 91,
      "metadata": {},
      "outputs": [],
      "source": [
        "sum([True,False,True,False])"
      ],
      "id": "4b1d98af-709d-4d99-a22a-fa987190ac4c"
    },
    {
      "cell_type": "markdown",
      "metadata": {},
      "source": [
        "$\\to$ True는 1로, False는 0으로 인식\n",
        "\n",
        "`2`. 다음과 같은 리스트를 고려하자."
      ],
      "id": "9275454b-9e76-4185-b879-bcf68d1ea5e0"
    },
    {
      "cell_type": "code",
      "execution_count": 92,
      "metadata": {},
      "outputs": [],
      "source": [
        "x = [80,60,80,90,55,85,95,100,35,70,75,65,95]\n",
        "x"
      ],
      "id": "2d8b9c9a-9dd2-4fbb-9d1d-b3572985512c"
    },
    {
      "cell_type": "markdown",
      "metadata": {},
      "source": [
        "이를 수식으로 표현하면 아래와 같다.\n",
        "\n",
        "${\\bf x} = [x_1,\\dots,x_{13}]=[80,60,80,90,55,85,95,100,35,70,75,65,95]$\n",
        "\n",
        "리스트의 원소중 “$x_i>80$” 의 조건을 만족하는 원소는 모두 몇개인가?\n",
        "\n",
        "hint: 리스트컴프리헨션과 `sum()`함수를 이용할 것"
      ],
      "id": "d50b2d7a-243b-4d18-be94-b5facf9f9a42"
    },
    {
      "cell_type": "code",
      "execution_count": 99,
      "metadata": {},
      "outputs": [],
      "source": [
        "sum([xi >80 for xi in x])"
      ],
      "id": "bf4dd951-42a6-44c2-a6aa-c29efabec8cc"
    },
    {
      "cell_type": "markdown",
      "metadata": {},
      "source": [
        "my answer"
      ],
      "id": "9ac3db92-80c1-4da4-a9cf-c94a95c4ac9c"
    },
    {
      "cell_type": "code",
      "execution_count": 98,
      "metadata": {},
      "outputs": [],
      "source": [
        "sum([x[i] > 80 for i in range(len(x))])"
      ],
      "id": "4cc99e0b-9911-493d-b6ee-b2ea9d25a225"
    },
    {
      "cell_type": "markdown",
      "metadata": {},
      "source": [
        "`3`. 다음과 같은 리스트를 고려하자."
      ],
      "id": "58c23113-3e96-4916-8cfc-46cab168f668"
    },
    {
      "cell_type": "code",
      "execution_count": 100,
      "metadata": {},
      "outputs": [],
      "source": [
        "['A','B','C','D','A','A','B','A','F','C','C','C','A']"
      ],
      "id": "832dd14a-4871-47d5-8429-ca2dd34474df"
    },
    {
      "cell_type": "markdown",
      "metadata": {},
      "source": [
        "이 리스트에서 ‘A’ 혹은 ’B’의 숫자는 모두 몇개인가?\n",
        "\n",
        "hint: 아래를 관찰"
      ],
      "id": "33287942-185d-4190-a241-e1cb959ce5b9"
    },
    {
      "cell_type": "code",
      "execution_count": 101,
      "metadata": {},
      "outputs": [],
      "source": [
        "'A' < 'C'"
      ],
      "id": "df6fadbc-1a03-42cf-a213-e8635810f5a2"
    },
    {
      "cell_type": "code",
      "execution_count": 102,
      "metadata": {},
      "outputs": [],
      "source": [
        "'B' < 'C'"
      ],
      "id": "5a53123d-21e2-407c-8738-68eec96ed98f"
    },
    {
      "cell_type": "code",
      "execution_count": 107,
      "metadata": {},
      "outputs": [],
      "source": [
        "lst = ['A','B','C','D','A','A','B','A','F','C','C','C','A']\n",
        "sum([l <'C' for l in lst])"
      ],
      "id": "e8faa1c3-e1a5-4c9d-a9df-3f52849032f9"
    },
    {
      "cell_type": "markdown",
      "metadata": {},
      "source": [
        "my answer"
      ],
      "id": "c75c9a1b-435b-4ade-bb2a-8da818667c50"
    },
    {
      "cell_type": "code",
      "execution_count": 105,
      "metadata": {},
      "outputs": [],
      "source": [
        "lst = ['A','B','C','D','A','A','B','A','F','C','C','C','A']\n",
        "sum([lst[i] < 'C' for i in range(len(lst))])"
      ],
      "id": "8af9b4df-fbf4-4003-961a-b3d055be3ff0"
    },
    {
      "cell_type": "markdown",
      "metadata": {},
      "source": [
        "`4`. 아래와 같은 리스트가 있다고 하자.\n",
        "\n",
        "${\\bf x} = [1,2,1,5,6,2,4,7]$\n",
        "\n",
        "${\\bf y} = [3,2,4,1,2,5,6,7]$\n",
        "\n",
        "이러한 벡터를 파이썬에서 표현하기 위해서 아래와 같은 리스트를 만들었다고\n",
        "하자."
      ],
      "id": "85a06b05-f1be-4c95-b5a4-32d477682e99"
    },
    {
      "cell_type": "code",
      "execution_count": 108,
      "metadata": {},
      "outputs": [],
      "source": [
        "x=[1,2,1,5,6,2,4,7]\n",
        "y=[3,2,4,1,2,5,6,7] "
      ],
      "id": "ab865ed6-6a26-42db-b640-26756485d8ed"
    },
    {
      "cell_type": "markdown",
      "metadata": {},
      "source": [
        "리스트컴프리헨션을 이용하여\n",
        "\n",
        "$${\\bf z}=[x_1^2+y_1^2, \\dots, x_{8}^2+y_{8}^2]=[x_i^2+y_i^2: \\text{for $i = 1,2,3,\\dots,8$}]$$\n",
        "\n",
        "와 같은 리스트를 생성하라."
      ],
      "id": "5584cd99-adea-480b-8e85-f4b6d8704f1e"
    },
    {
      "cell_type": "code",
      "execution_count": 113,
      "metadata": {},
      "outputs": [],
      "source": [
        "[x[i]**2+y[i]**2 for i in range(8)]"
      ],
      "id": "5bf09f3d-0199-48da-b06d-350b14c0a68f"
    },
    {
      "cell_type": "markdown",
      "metadata": {},
      "source": [
        "my answer"
      ],
      "id": "92dca049-92d1-4d57-a0f7-10de9e6985d6"
    },
    {
      "cell_type": "code",
      "execution_count": 112,
      "metadata": {},
      "outputs": [],
      "source": [
        "[x[i]**2 + y[i]**2 for i in range(len(x))]"
      ],
      "id": "a82f1091-96aa-4342-b2b1-dbc30a91dcee"
    },
    {
      "cell_type": "markdown",
      "metadata": {},
      "source": [
        "`5`. 아래와 같은 문자열이 있다고 하자."
      ],
      "id": "698685fa-d41d-4b69-ba7c-659fe8532a93"
    },
    {
      "cell_type": "code",
      "execution_count": 115,
      "metadata": {},
      "outputs": [],
      "source": [
        "test_arr = 'ssh-rsa AAAAB3NzaC1yc2EAAAABIwAAAQEAklOUpkDHrfHY17SbrmTIpNLTGK9Tjom/BWDSUGPl+nafzlHDTYW7hdI4yZ5ew18JH4JW9jbhUFrviQzM7xlELEVf4h9lFX5QVkbPppSwg0cda3Pbv7kOdJ/MTyBlWXFCR+HAo3FXRitBqxiX1nKhXpHAZsMciLq8V6RjsNAQwdsdMFvSlVK/7XAt3FaoJoAsncM1Q9x5+3V0Ww68/eIFmb1zuUFljQJKprrX88XypNDvjYNby6vw/Pb0rwert/EnmZ+AW4OZPnTPI89ZPmVMLuayrD2cE86Z/il8b+gw3r3+1nKatmIkjn2so1d01QraTlMqVSsbxNrRFi9wrf+M7Q== schacon@mylaptop.local'"
      ],
      "id": "c93adaf7-36be-4e5a-a563-acc5fb994658"
    },
    {
      "cell_type": "markdown",
      "metadata": {},
      "source": [
        "이 문자열에서 대문자의 수를 count하라. (2022년 파이썬입문 중간고사 1-(5)\n",
        "참고)"
      ],
      "id": "c10926b9-4294-448a-b9d3-ade32e6ebc18"
    },
    {
      "cell_type": "code",
      "execution_count": 128,
      "metadata": {},
      "outputs": [],
      "source": [
        "sum([s.isupper() for s in test_arr ])"
      ],
      "id": "b5aa3fd2-7fb5-49da-9aa9-80afe75318c2"
    },
    {
      "cell_type": "markdown",
      "metadata": {},
      "source": [
        "error on my answer"
      ],
      "id": "03bddf3a-78b9-4bd5-90b5-0360d27e3276"
    },
    {
      "cell_type": "code",
      "execution_count": 126,
      "metadata": {},
      "outputs": [],
      "source": [
        "sum([test_arr[i] == test_arr.upper()[i] for i in range(len(test_arr))])"
      ],
      "id": "9b4af721-07ab-4a12-bff4-e7e8c73c6518"
    },
    {
      "cell_type": "markdown",
      "metadata": {},
      "source": [
        "<font color=green>이렇게 비교하면 대문자인 것은 세겠지만, 기호가 같은\n",
        "것도 세기 때문에 over해서 sum하게 된다.</font>\n",
        "\n",
        "`6`. 리스트컴프리헨션을 이용하여 아래와 같은 리스트를 생성하라. (2022년\n",
        "파이썬입문 중간고사 1-(7) 참고)\n",
        "\n",
        "``` python\n",
        "['a',\n",
        " 'aa',\n",
        " 'aaa',\n",
        " 'aaaa',\n",
        " 'aaaaa',\n",
        " 'aaaaaa',\n",
        " 'aaaaaaa',\n",
        " 'aaaaaaaa',\n",
        " 'aaaaaaaaa',\n",
        " 'aaaaaaaaaa'] <- a가 10개있음\n",
        "```"
      ],
      "id": "74a8fa05-9bf3-4b43-b869-2f49209f85b6"
    },
    {
      "cell_type": "code",
      "execution_count": 144,
      "metadata": {},
      "outputs": [],
      "source": [
        "['a'*i for i in range(1,11)]"
      ],
      "id": "d41a49b1-90d4-4114-96ed-fca337feb339"
    },
    {
      "cell_type": "markdown",
      "metadata": {},
      "source": [
        "my answer"
      ],
      "id": "3c26f56e-969f-4ab2-85bc-0e91e1fdf1e6"
    },
    {
      "cell_type": "code",
      "execution_count": 143,
      "metadata": {},
      "outputs": [],
      "source": [
        "['a' * i for i in range(1,11)]"
      ],
      "id": "3efd51ee-4474-40fe-a4c9-4a2366205439"
    },
    {
      "cell_type": "markdown",
      "metadata": {},
      "source": [
        "`7`. 아래와 같은 list가 있다고 하자."
      ],
      "id": "cbc6a780-6913-4e09-8aca-7fad6703d741"
    },
    {
      "cell_type": "code",
      "execution_count": 145,
      "metadata": {},
      "outputs": [],
      "source": [
        "test_lst = [['g',1],['u',5],['e',2],['b',8],['i',2],['n',9]]"
      ],
      "id": "3714583a-f566-4e3a-a60f-73a6b7a07153"
    },
    {
      "cell_type": "markdown",
      "metadata": {},
      "source": [
        "test_lst와 리스트컴프리헨션을 이용하여 아래를 출력하는 코드를 구현하라.\n",
        "(2022년 파이썬입문 중간고사 1-(9) 참고)"
      ],
      "id": "32279020-544d-43e3-80bc-683b34ad3d27"
    },
    {
      "cell_type": "code",
      "execution_count": 146,
      "metadata": {},
      "outputs": [],
      "source": [
        "['g', 'uuuuu', 'ee', 'bbbbbbbb', 'ii', 'nnnnnnnnn']"
      ],
      "id": "9f5c422a-9d1e-4ceb-8bf8-4589fbd2bc3a"
    },
    {
      "cell_type": "code",
      "execution_count": 152,
      "metadata": {},
      "outputs": [],
      "source": [
        "[l[0]*l[1] for l in test_lst]"
      ],
      "id": "b62f82c5-5ec7-4059-82f6-8bc52ce3f66f"
    },
    {
      "cell_type": "markdown",
      "metadata": {},
      "source": [
        "my answer"
      ],
      "id": "5debc261-0e6a-4efd-b7e8-2df3acdd91a2"
    },
    {
      "cell_type": "code",
      "execution_count": 151,
      "metadata": {},
      "outputs": [],
      "source": [
        "[test_lst[i][0] * test_lst[i][1] for i in range(len(test_lst))]"
      ],
      "id": "c35618d2-577f-4e68-958a-63994a1eaf45"
    },
    {
      "cell_type": "markdown",
      "metadata": {},
      "source": [
        "`8`. 아래와 같은 list를 생성하라.\n",
        "\n",
        "``` python\n",
        "[1,\n",
        " 2,2,\n",
        " 3,3,3,\n",
        " 4,4,4,4,\n",
        " 5,5,5,5,5,\n",
        " ...\n",
        " 9,9,9,9,9,9,9,9,9] <- 9가 9개 있음 \n",
        "```\n",
        "\n",
        "(풀이1) – 의도한 풀이"
      ],
      "id": "46a4e56c-07d4-43ab-8a96-901b643caccc"
    },
    {
      "cell_type": "code",
      "execution_count": 203,
      "metadata": {},
      "outputs": [],
      "source": [
        "lst = list()\n",
        "for i in range(1,10):\n",
        "    lst = lst + [i]*i"
      ],
      "id": "55177c0f-dcd3-4072-bf69-e07f96f3fc10"
    },
    {
      "cell_type": "markdown",
      "metadata": {},
      "source": [
        "(풀이2) – 이걸 의도한건 아니었음…"
      ],
      "id": "c78974a3-d5b3-428d-b39e-ba0b62c35406"
    },
    {
      "cell_type": "code",
      "execution_count": 205,
      "metadata": {},
      "outputs": [],
      "source": [
        "lst = [[i]*i for i in range(1,10)]"
      ],
      "id": "34c75f67-6eab-475d-8377-715752e900a3"
    },
    {
      "cell_type": "code",
      "execution_count": 206,
      "metadata": {},
      "outputs": [
        {
          "output_type": "stream",
          "name": "stdout",
          "text": [
            "[1,\n",
            " 2,2,\n",
            " 3,3,3,\n",
            " 4,4,4,4,\n",
            " 5,5,5,5,5,\n",
            " 6,6,6,6,6,6,\n",
            " 7,7,7,7,7,7,7,\n",
            " 8,8,8,8,8,8,8,8,\n",
            " 9,9,9,9,9,9,9,9,9]\n",
            " "
          ]
        }
      ],
      "source": [
        "print(str(lst).replace(' ','').replace(',[','').replace(']',',\\n ').replace('[[','[').replace(',\\n ,',']'))"
      ],
      "id": "ae9e44be-fc26-461d-82aa-47b3804968e1"
    },
    {
      "cell_type": "markdown",
      "metadata": {},
      "source": [
        "error on my answer"
      ],
      "id": "9e7b41fc-8207-4717-9524-b31208abcca7"
    },
    {
      "cell_type": "code",
      "execution_count": 199,
      "metadata": {},
      "outputs": [],
      "source": [
        "[[i] * i for i in range(1,10)]"
      ],
      "id": "4738e7bf-955d-41f8-bc8d-27cc21db7cf8"
    },
    {
      "cell_type": "markdown",
      "metadata": {},
      "source": [
        "right answer"
      ],
      "id": "0c13806b-b88c-41e6-a66f-5f4186416702"
    },
    {
      "cell_type": "code",
      "execution_count": 200,
      "metadata": {},
      "outputs": [],
      "source": [
        "l = []\n",
        "for i in range(1,10):\n",
        "    l = l + [i] * i"
      ],
      "id": "7cdfef19-fd9a-490e-a437-cc894e094c92"
    },
    {
      "cell_type": "markdown",
      "metadata": {},
      "source": [
        "`9`. 아래와 같은 리스트를 관찰하라."
      ],
      "id": "9a8139b3-93cb-4a69-be5a-72fdf52092a5"
    },
    {
      "cell_type": "code",
      "execution_count": 207,
      "metadata": {},
      "outputs": [],
      "source": [
        "lst = ['2022/09/21','2022/10/30','2022/12/25','2023/01/01','2023/01/31','2023/03/20']"
      ],
      "id": "1fb67434-de97-4f75-9644-2e6425532bd3"
    },
    {
      "cell_type": "markdown",
      "metadata": {},
      "source": [
        "이러한 리스트를 아래와 같은 리스트로 변환하는 코드를 작성하라."
      ],
      "id": "416d9f12-5baa-4855-92c6-432be97cd698"
    },
    {
      "cell_type": "code",
      "execution_count": 208,
      "metadata": {},
      "outputs": [],
      "source": [
        "['2022-09-21', '2022-10-30', '2022-12-25', '2023-01-01', '2023-01-31', '2023-03-20']"
      ],
      "id": "8a8b73d6-e4ae-44fb-8bf6-34c3d84cd76d"
    },
    {
      "cell_type": "markdown",
      "metadata": {},
      "source": [
        "hint: string의 .replace()기능과 리스트 컴프리헨션의 응용"
      ],
      "id": "c467feaf-9843-438d-84ed-680a4033489a"
    },
    {
      "cell_type": "code",
      "execution_count": 216,
      "metadata": {},
      "outputs": [],
      "source": [
        "[s.replace('/','-') for s in lst]"
      ],
      "id": "a4bad245-cfc0-4829-9227-3584eea9ddda"
    },
    {
      "cell_type": "markdown",
      "metadata": {},
      "source": [
        "my answer"
      ],
      "id": "9bbd9182-e52d-4b9e-9fe6-70300b8cbc2c"
    },
    {
      "cell_type": "code",
      "execution_count": 215,
      "metadata": {},
      "outputs": [],
      "source": [
        "for i in range(len(lst)):\n",
        "    lst[i].replace('/','-')\n",
        "lst"
      ],
      "id": "a5d55562-4254-4dfb-b6f3-cac69ea2b3fb"
    },
    {
      "cell_type": "markdown",
      "metadata": {},
      "source": [
        "`10`. 아래와 같은 문자열을 고려하라."
      ],
      "id": "ef70c01d-8247-4061-9804-22f4fbee5602"
    },
    {
      "cell_type": "code",
      "execution_count": 217,
      "metadata": {},
      "outputs": [],
      "source": [
        "'2021. 01. 05.'"
      ],
      "id": "21f9e2e2-88f4-488d-a6a3-bfe27bffe781"
    },
    {
      "cell_type": "markdown",
      "metadata": {},
      "source": [
        "띄어쓰기를 제거하는 코드를 구현하라. 즉 출력결과가 아래와 같도록 만드는\n",
        "코드를 구현하라."
      ],
      "id": "2b2cb01c-c898-4453-acdd-0ada8c5ae923"
    },
    {
      "cell_type": "code",
      "execution_count": 218,
      "metadata": {},
      "outputs": [],
      "source": [
        "'2021.01.05'"
      ],
      "id": "d22f9c2b-e7e7-4fa3-bb6e-c4216736d747"
    },
    {
      "cell_type": "markdown",
      "metadata": {},
      "source": [
        "hint: 아래코드 관찰"
      ],
      "id": "8d509e8a-f00f-47c3-a894-937c97e16b45"
    },
    {
      "cell_type": "code",
      "execution_count": 222,
      "metadata": {},
      "outputs": [],
      "source": [
        "'asdf'.replace('a','')"
      ],
      "id": "0bd3ee23-afcd-4817-9218-8426b0283db2"
    },
    {
      "cell_type": "code",
      "execution_count": 223,
      "metadata": {},
      "outputs": [],
      "source": [
        "'2021. 01. 05.'.replace(' ','')"
      ],
      "id": "48905d3f-07f5-45c7-9d37-4f6818dd84c2"
    },
    {
      "cell_type": "markdown",
      "metadata": {},
      "source": [
        "my answer"
      ],
      "id": "68b5866a-5f34-49a2-9ad8-da67b101e26f"
    },
    {
      "cell_type": "code",
      "execution_count": 221,
      "metadata": {},
      "outputs": [],
      "source": [
        "a = '2021.01.05';a.replace('. ','.');a"
      ],
      "id": "169fd7e8-1bdc-44fd-8da8-be17a9e17d5f"
    },
    {
      "cell_type": "markdown",
      "metadata": {},
      "source": [
        "`11`. 아래의 코드를 관찰하라."
      ],
      "id": "bfd690a8-0abd-4c65-a74f-c31f55cec9f4"
    },
    {
      "cell_type": "code",
      "execution_count": 224,
      "metadata": {},
      "outputs": [],
      "source": [
        "'-'.join(['2022','01','05'])"
      ],
      "id": "c0f55745-4dfd-405e-91ec-e9be164a363c"
    },
    {
      "cell_type": "code",
      "execution_count": 225,
      "metadata": {},
      "outputs": [],
      "source": [
        "'.'.join(['2022','01','05'])"
      ],
      "id": "9cc03043-ad46-4fd7-8b81-99a8047484a2"
    },
    {
      "cell_type": "markdown",
      "metadata": {},
      "source": [
        "’dd’에 있는 내용을 이용하여 join의 원소들을 합쳐라.\n",
        "\n",
        "`12`. 아래와 같이 하나의 특수문자로 이루어진 리스트를 고려하자."
      ],
      "id": "b66a73ea-32ab-48d4-89fd-dfba16525896"
    },
    {
      "cell_type": "code",
      "execution_count": 226,
      "metadata": {},
      "outputs": [],
      "source": [
        "block = ['■'] "
      ],
      "id": "c65b4ed2-d909-4428-aab4-e8c9a576f975"
    },
    {
      "cell_type": "markdown",
      "metadata": {},
      "source": [
        "이를 이용하여 아래와 같은 결과를 출력하라."
      ],
      "id": "96d51561-176b-4576-b182-1b2d49a04928"
    },
    {
      "cell_type": "code",
      "execution_count": 227,
      "metadata": {},
      "outputs": [],
      "source": [
        "'■-■-■-■-■-■-■-■-■-■' # 여기에서 '■'는 모두 10개 있음"
      ],
      "id": "fca99004-7a65-44e1-aa5f-22ac595e77ae"
    },
    {
      "cell_type": "markdown",
      "metadata": {},
      "source": [
        "hint: 11번 문제의 코드를 응용할 것"
      ],
      "id": "d57052f9-fa46-422f-a2bc-5b163dc54e95"
    },
    {
      "cell_type": "code",
      "execution_count": 235,
      "metadata": {},
      "outputs": [],
      "source": [
        "'-'.join(block*10)"
      ],
      "id": "93458a47-2b41-422f-b40a-95a394d7687f"
    },
    {
      "cell_type": "markdown",
      "metadata": {},
      "source": [
        "my answer"
      ],
      "id": "c71b515d-eb9e-4d71-b3cf-d64ed1223a05"
    },
    {
      "cell_type": "code",
      "execution_count": 234,
      "metadata": {},
      "outputs": [],
      "source": [
        "'-'.join(block*10)"
      ],
      "id": "b22af366-4006-41fb-b8bc-229b845cceb9"
    },
    {
      "cell_type": "markdown",
      "metadata": {},
      "source": [
        "# 4.\n",
        "\n",
        "HW: 03-22 (2)\n",
        "\n",
        "[03wk-2: 파이썬의 자료형 (5)](03wk-2:%20파이썬의%20자료형%20(5))\n",
        "\n",
        "`1`. 길이가 1인 튜플을 만들어 자신의 학번을 저장하라. 길이가 1인 튜플을\n",
        "만들어 자신의 영문이름을 저장하라. 두 튜플을 + 연산자로 합쳐아래와 같은\n",
        "출력결과를 얻어라. 최종 결과는 예를들면 아래와 같아야 한다."
      ],
      "id": "407d71f9-6e5f-411d-a739-11c17ee0e2aa"
    },
    {
      "cell_type": "code",
      "execution_count": 237,
      "metadata": {},
      "outputs": [],
      "source": [
        "('2021-43052', 'TomJohn')"
      ],
      "id": "ad32f492-571e-4378-ac29-5f63ec2493d2"
    },
    {
      "cell_type": "code",
      "execution_count": 245,
      "metadata": {},
      "outputs": [],
      "source": [
        "a='2021-43052', \n",
        "b='tomJohn',\n",
        "a+b"
      ],
      "id": "5525ced8-2ce5-46ee-92a9-d034e657f926"
    },
    {
      "cell_type": "markdown",
      "metadata": {},
      "source": [
        "my answer"
      ],
      "id": "5bcf9792-cdd4-4f95-8119-5ea63fe6b1c1"
    },
    {
      "cell_type": "code",
      "execution_count": 243,
      "metadata": {},
      "outputs": [],
      "source": [
        "a = '2222-1111';b = 'TomJohn'; (a , b)"
      ],
      "id": "ae334687-932d-4f12-ad68-814c9da264b0"
    },
    {
      "cell_type": "markdown",
      "metadata": {},
      "source": [
        "`2-5`. 아래는 파이썬프로그래밍 수강생들의 학번, 이름, 출석점수,\n",
        "과제점수, 중간고사점수, 기말고사점수를 저장한 중첩리스트이다."
      ],
      "id": "1ee31a98-1497-4b1c-b160-363f79d24e0b"
    },
    {
      "cell_type": "code",
      "execution_count": 247,
      "metadata": {},
      "outputs": [],
      "source": [
        "lst = [['2021-43052', 'GuebinChoi', 5, 10, 20, 25],\n",
        "       ['2019-12342', 'Heung-min Son', 10, 15, 30, 15],\n",
        "       ['2018-32234', 'hynn', 7, 20, 30, 15],\n",
        "       ['2022-42323', 'Minji', 8, 20, 20, 35],\n",
        "       ['2023-55342', 'Hanni', 7, 20, 30, 35],\n",
        "       ['2022-46624', 'Danielle', 3, 15, 30, 40],\n",
        "       ['2022-11239', 'Haerin', 10, 20, 30, 40],\n",
        "       ['2022-32114', 'Hyein', 10, 20, 20, 35]]\n",
        "lst "
      ],
      "id": "3d5342e4-8bdc-46c4-be49-dde42192154f"
    },
    {
      "cell_type": "markdown",
      "metadata": {},
      "source": [
        "`2`. 파이썬프로그래밍 수강생의 수는 모두 몇명인가?"
      ],
      "id": "479266df-8184-4b89-bbb4-9c90d688dbe7"
    },
    {
      "cell_type": "code",
      "execution_count": 249,
      "metadata": {},
      "outputs": [],
      "source": [
        "len(lst)"
      ],
      "id": "49e96cd5-8ccd-4815-a905-71603b0d7a15"
    },
    {
      "cell_type": "markdown",
      "metadata": {},
      "source": [
        "`3`. 전북대학교 지침에 따라 출석점수가 7보다 작은 학생은 (즉\n",
        "`출석점수 < 7` 일 경우) F학점을 부여하게 되어있다. 이 기준에 따르면 F를\n",
        "받는 학생은 모두 몇명인가?"
      ],
      "id": "fda10bf1-cac1-4b0b-8dc2-70668aface0b"
    },
    {
      "cell_type": "code",
      "execution_count": 250,
      "metadata": {},
      "outputs": [],
      "source": [
        "sum([att<7 for _,_, att, *rest in lst])"
      ],
      "id": "c920316f-6a6a-464d-9d81-ad8a10fdb50a"
    },
    {
      "cell_type": "markdown",
      "metadata": {},
      "source": [
        "my answer"
      ],
      "id": "884f05e1-753e-40d2-aa80-192ec3465ce1"
    },
    {
      "cell_type": "code",
      "execution_count": 256,
      "metadata": {},
      "outputs": [],
      "source": [
        "sum([lst[i][2] < 7 for i in range(len(lst))])"
      ],
      "id": "db14d240-5b8e-4d7c-a5a6-77d55ec22422"
    },
    {
      "cell_type": "markdown",
      "metadata": {},
      "source": [
        "풀이 뜯어보기"
      ],
      "id": "61c232b4-7d7f-4a98-89c3-836236bfb4c3"
    },
    {
      "cell_type": "code",
      "execution_count": 266,
      "metadata": {},
      "outputs": [],
      "source": [
        "[att for _,_, att, *rest in lst]"
      ],
      "id": "62934422-8a1e-4170-aab7-8119290ef6cc"
    },
    {
      "cell_type": "markdown",
      "metadata": {},
      "source": [
        "순서대로 학번, 이름, 출석점수, 나머지~\n",
        "\n",
        "------------------------------------------------------------------------\n",
        "\n",
        "`-`"
      ],
      "id": "ce469f26-1fed-42bb-b6b5-62291b6547ab"
    },
    {
      "cell_type": "code",
      "execution_count": 261,
      "metadata": {},
      "outputs": [
        {
          "output_type": "stream",
          "name": "stdout",
          "text": [
            "5 10\n",
            "10 15\n",
            "7 20\n",
            "8 20\n",
            "7 20\n",
            "3 15\n",
            "10 20\n",
            "10 20"
          ]
        }
      ],
      "source": [
        "for a,b,c,d,_,_ in lst:\n",
        "    print(c,d)"
      ],
      "id": "bbe35238-19fa-458f-8f96-ac4efe64a157"
    },
    {
      "cell_type": "markdown",
      "metadata": {},
      "source": [
        "`-`"
      ],
      "id": "0a6c3c6a-4716-46cf-8202-0072ae29d91b"
    },
    {
      "cell_type": "code",
      "execution_count": 262,
      "metadata": {},
      "outputs": [
        {
          "output_type": "stream",
          "name": "stdout",
          "text": [
            "1 2 3"
          ]
        }
      ],
      "source": [
        "print(*[1,2,3])"
      ],
      "id": "4284eb78-34f0-4f89-86d3-460ea67684ae"
    },
    {
      "cell_type": "code",
      "execution_count": 263,
      "metadata": {},
      "outputs": [
        {
          "output_type": "stream",
          "name": "stdout",
          "text": [
            "[1, 2, 3]"
          ]
        }
      ],
      "source": [
        "print([1,2,3])"
      ],
      "id": "bf2db5f9-edb7-4b0c-a08f-a3eaf176a52e"
    },
    {
      "cell_type": "markdown",
      "metadata": {},
      "source": [
        "------------------------------------------------------------------------\n",
        "\n",
        "`4`. 파이썬프로그래밍 수업의 경우 출석+레포트 \\< 21 일 경우 F학점을\n",
        "부여한다고 한다. 이 기준에 따르면 F를 받는 학생은 모두 몇명인가?"
      ],
      "id": "2e7f7324-eaac-494d-a43a-3ef580e20055"
    },
    {
      "cell_type": "code",
      "execution_count": 278,
      "metadata": {},
      "outputs": [],
      "source": [
        "sum([att+rep < 21 for _,_, att,rep, *rest in lst])"
      ],
      "id": "158b0182-ac96-48d7-a05f-fa53debf20ab"
    },
    {
      "cell_type": "markdown",
      "metadata": {},
      "source": [
        "my answer"
      ],
      "id": "ae70b5c3-9c51-4409-b29e-eb0070edd399"
    },
    {
      "cell_type": "code",
      "execution_count": 276,
      "metadata": {},
      "outputs": [],
      "source": [
        "sum([c + d < 21 for _,_,c,d,*rest in lst])"
      ],
      "id": "2386fa33-a6e5-487d-89c0-bde85ea17e23"
    },
    {
      "cell_type": "markdown",
      "metadata": {},
      "source": [
        "`5`. 리스트의 정렬순서를 \\[학번, 이름, …, 기말고사점수\\] 가 아니라\n",
        "\\[이름, 학번, … , 기말고사점수\\] 와 같이 되도록 변경하는 코드를\n",
        "작성하라."
      ],
      "id": "807e5a56-35eb-40ea-bc3a-ca44295330ef"
    },
    {
      "cell_type": "code",
      "execution_count": 284,
      "metadata": {},
      "outputs": [],
      "source": [
        "[[name,studentid,*rest] for studentid, name, *rest in lst]"
      ],
      "id": "1e3e7116-8583-4c80-9ad4-5f7e7089b15f"
    },
    {
      "cell_type": "markdown",
      "metadata": {},
      "source": [
        "my answer"
      ],
      "id": "c017737d-d668-4b5d-81d1-ecba828d082e"
    },
    {
      "cell_type": "code",
      "execution_count": 283,
      "metadata": {},
      "outputs": [],
      "source": [
        "[[b,a,*rest] for a,b,*rest in lst]"
      ],
      "id": "be054f74-a618-4958-8e95-a1d26bd65881"
    },
    {
      "cell_type": "markdown",
      "metadata": {},
      "source": [
        "`6`. 아래의 코드를 관찰하라."
      ],
      "id": "a20cdb9f-e9bc-4adb-a98d-f16b261aea8b"
    },
    {
      "cell_type": "code",
      "execution_count": 285,
      "metadata": {},
      "outputs": [],
      "source": [
        "'2023-03-22'.split('-')"
      ],
      "id": "b8b14877-a762-47bf-a6f7-11d45c556641"
    },
    {
      "cell_type": "markdown",
      "metadata": {},
      "source": [
        "이 코드를 바탕으로 split의 기능을 유추하라.\n",
        "\n",
        "$\\to$ `split`은 호출한 문자 기준으로 문자 나누는 역할\n",
        "\n",
        "`7`. 6의 실행결과를 되돌리는 코드를 작성하라. 즉"
      ],
      "id": "a0b9b147-fb43-4d18-976e-eb1188af5e15"
    },
    {
      "cell_type": "code",
      "execution_count": 286,
      "metadata": {},
      "outputs": [],
      "source": [
        "['2023', '03', '22']"
      ],
      "id": "33002b84-4a7f-40d3-9e44-8d8321a67e8d"
    },
    {
      "cell_type": "markdown",
      "metadata": {},
      "source": [
        "와 같은 리스트를 아래의 string으로 바꾸는 코드를 작성하라."
      ],
      "id": "eecae436-c269-40b7-b444-b5795e9c5052"
    },
    {
      "cell_type": "code",
      "execution_count": 287,
      "metadata": {},
      "outputs": [],
      "source": [
        "'2023-03-22'"
      ],
      "id": "b005dfcf-b5ed-486c-a854-3f429526b871"
    },
    {
      "cell_type": "markdown",
      "metadata": {},
      "source": [
        "hint: join을 이용할 것"
      ],
      "id": "bbcae534-c6be-4274-ae63-1cc3978367d8"
    },
    {
      "cell_type": "code",
      "execution_count": 291,
      "metadata": {},
      "outputs": [],
      "source": [
        "'-'.join(['2023', '03', '22'])"
      ],
      "id": "d819bbb2-7fea-4244-9b01-d9ad3b2e9060"
    },
    {
      "cell_type": "markdown",
      "metadata": {},
      "source": [
        "my answer"
      ],
      "id": "7ea6053d-52f7-4b3f-94b3-bfcb84aebc12"
    },
    {
      "cell_type": "code",
      "execution_count": 290,
      "metadata": {},
      "outputs": [],
      "source": [
        "lst = ['2023', '03', '22'];'-'.join(lst)"
      ],
      "id": "1f584807-9957-4b32-ab35-b4779fd4b78b"
    },
    {
      "cell_type": "markdown",
      "metadata": {},
      "source": [
        "다음은 인터넷에서 긁어온 어떠한 텍스트이다."
      ],
      "id": "283f56e2-5d23-4097-aa62-8ab49234f38a"
    },
    {
      "cell_type": "code",
      "execution_count": 292,
      "metadata": {},
      "outputs": [],
      "source": [
        "text = \"국내뿐 아니라 해외 인기도 심상치 않다. 2023년 1월 18일 'Ditto'가 빌보드 핫 100에 96위로 진입했다. 이는 K-pop 역사상 데뷔후 최단 빌보드 Hot 100 차트 입성 기록이다. 다른 뮤지션들이 보통 데뷔 후 수년간 쌓아온 팬덤을 기반으로 빌보드에 입성한데 비해, 뉴진스의 기록은 이례적인 것으로 평가받고 있다. 또한 'OMG'가 빌보드 핫 100에 91위로 진입한 동시에 'Ditto'는 85위로 순위가 상승, 핫 100 주간차트에 두 곡을 올려놓았다. K-Pop 역사상 이 차트에 두 곡 이상을 진입시킨 아티스트는 방탄소년단과 블랙핑크가 유일하다. 'Ditto'는 1월 셋째주 기준, 빌보드뿐만 아니라 영국 오피셜 싱글 차트 '톱 100'에 2주 연속 진입하기도 했다.\""
      ],
      "id": "c6dc60e5-9ecf-4520-a86e-860a588155c9"
    },
    {
      "cell_type": "markdown",
      "metadata": {},
      "source": [
        "`8`. text는 총 몇개의 문장으로 이루어져 있는가?\n",
        "\n",
        "hint: 이 텍스트의 문장은 모두 .로 끝난다."
      ],
      "id": "34fdc0b5-d741-41a9-94c1-72238d490171"
    },
    {
      "cell_type": "code",
      "execution_count": 299,
      "metadata": {},
      "outputs": [],
      "source": [
        "lst = text.split('. ')\n",
        "lst "
      ],
      "id": "27e6a8c6-7d3b-422e-9df7-a8061ea71603"
    },
    {
      "cell_type": "code",
      "execution_count": 300,
      "metadata": {},
      "outputs": [],
      "source": [
        "len(lst)"
      ],
      "id": "84dfbb19-2aee-43d0-9754-488b13ff17b7"
    },
    {
      "cell_type": "markdown",
      "metadata": {},
      "source": [
        "error on my answer"
      ],
      "id": "1a2441dd-5418-4637-a4a0-3690186451f2"
    },
    {
      "cell_type": "code",
      "execution_count": 296,
      "metadata": {},
      "outputs": [],
      "source": [
        "len(text.split('.'))-1"
      ],
      "id": "09726d2a-d09c-4f14-a045-4b95363b253e"
    },
    {
      "cell_type": "markdown",
      "metadata": {},
      "source": [
        "$\\to$ . 띄어쓰기를 생각 못 함\n",
        "\n",
        "`9`. 각 문장은 몇개의 단어로 이루어져 있는가?\n",
        "\n",
        "hint: 각 단어는 공백으로 구분된다."
      ],
      "id": "49e1e98c-fe3e-4631-b19e-494ba8d1420f"
    },
    {
      "cell_type": "code",
      "execution_count": 312,
      "metadata": {},
      "outputs": [],
      "source": [
        "[len(s.split(' ')) for s in lst]"
      ],
      "id": "ba1c0afb-e5b2-42e8-9018-3a2c4e4afabc"
    },
    {
      "cell_type": "code",
      "execution_count": 314,
      "metadata": {},
      "outputs": [],
      "source": [
        "sum([len(s.split(' ')) for s in lst])"
      ],
      "id": "a1d8fee6-3d19-42bc-b9d5-78e782cc3d2c"
    },
    {
      "cell_type": "markdown",
      "metadata": {},
      "source": [
        "my answer"
      ],
      "id": "0998d318-8577-4262-9136-72e086e66c92"
    },
    {
      "cell_type": "code",
      "execution_count": 311,
      "metadata": {},
      "outputs": [],
      "source": [
        "[len(text.split('. ')[i].split(' ')) for i in range(len(text.split('. ')))]"
      ],
      "id": "45a00800-2091-4846-88d4-d3ee204ddec1"
    },
    {
      "cell_type": "code",
      "execution_count": 313,
      "metadata": {},
      "outputs": [],
      "source": [
        "sum([len(text.split('. ')[i].split(' ')) for i in range(len(text.split('. ')))])"
      ],
      "id": "50f95684-f591-48c7-b0b6-cd7aecb3b36d"
    },
    {
      "cell_type": "markdown",
      "metadata": {},
      "source": [
        "`10`. 100이라는 단어가 포함된 문장은 모두 몇 개 인가?\n",
        "\n",
        "hint: 아래의 코드를 관찰"
      ],
      "id": "08b16cb8-81a4-4140-9665-c0f43ff94687"
    },
    {
      "cell_type": "code",
      "execution_count": 315,
      "metadata": {},
      "outputs": [],
      "source": [
        "'a' in 'abcd'"
      ],
      "id": "6688f549-34f6-4684-9e56-8a6db891087c"
    },
    {
      "cell_type": "code",
      "execution_count": 323,
      "metadata": {},
      "outputs": [],
      "source": [
        "['100' in s for s in lst]"
      ],
      "id": "71f262de-48ab-42e0-9c4a-2b2ec444ad0e"
    },
    {
      "cell_type": "code",
      "execution_count": 324,
      "metadata": {},
      "outputs": [],
      "source": [
        "sum(['100' in s for s in lst])"
      ],
      "id": "f4a18919-854a-4b04-8679-760eccd556b6"
    },
    {
      "cell_type": "markdown",
      "metadata": {},
      "source": [
        "my answer"
      ],
      "id": "69659821-27f9-4192-bab9-b0fd7982d9bf"
    },
    {
      "cell_type": "code",
      "execution_count": 322,
      "metadata": {},
      "outputs": [],
      "source": [
        "sum(['100' in text.split('. ')[i] for i in range(len(text.split('. ')))])"
      ],
      "id": "70e05137-8c85-4900-86a8-c2eaad16b2b3"
    },
    {
      "cell_type": "markdown",
      "metadata": {},
      "source": [
        "# 5\n",
        "\n",
        "HW 0327 (1)\n",
        "\n",
        "[04wk-1: 파이썬의 자료형\n",
        "(6)](https://guebin.github.io/PP2023/posts/01_PythonBasic/2023-03-27-4wk-1.html)\n",
        "\n",
        "`ssh코드`: 1-2\n",
        "\n",
        "아래의 문자열을 고려하자."
      ],
      "id": "930dbff9-376f-4480-960c-aeafb9ce13c7"
    },
    {
      "cell_type": "code",
      "execution_count": 325,
      "metadata": {},
      "outputs": [],
      "source": [
        "test_arr = 'ssh-rsa AAAAB3NzaC1yc2EAAAABIwAAAQEAklOUpkDHrfHY17SbrmTIpNLTGK9Tjom/BWDSUGPl+nafzlHDTYW7hdI4yZ5ew18JH4JW9jbhUFrviQzM7xlELEVf4h9lFX5QVkbPppSwg0cda3Pbv7kOdJ/MTyBlWXFCR+HAo3FXRitBqxiX1nKhXpHAZsMciLq8V6RjsNAQwdsdMFvSlVK/7XAt3FaoJoAsncM1Q9x5+3V0Ww68/eIFmb1zuUFljQJKprrX88XypNDvjYNby6vw/Pb0rwert/EnmZ+AW4OZPnTPI89ZPmVMLuayrD2cE86Z/il8b+gw3r3+1nKatmIkjn2so1d01QraTlMqVSsbxNrRFi9wrf+M7Q== schacon@mylaptop.local'"
      ],
      "id": "84e808ce-ad15-4b91-b7ad-6e0bfe36aed6"
    },
    {
      "cell_type": "markdown",
      "metadata": {},
      "source": [
        "`1`. 이 문자열에서 index = 0,2,4,6,8,… 에 해당하는 원소를 출력하는\n",
        "코드를 작성하라. (2022-파이썬입문 중간고사 1-(2) 참고)\n",
        "\n",
        "``` python\n",
        "# 출력결과는 아래와 같아야 한다. \n",
        "\n",
        "'shraAABNa1cEAAIAAEkOpDrH1SrTpLG9jmBDUP+azHTWhIy5w8HJ9bUriz7lLV49F5VbpSgcaPvkd/TBWFRHoFRtqi1KXHZMiqVRsAwsMvlK7A3aJAnMQx+VW6/Im1uFjJpr8XpDjNyv/bretEm+WOPTI9PVLar2E6/lbg331KtIj2od1rTMVsxrF9r+7= cao@yatplcl'\n",
        "```"
      ],
      "id": "3eab8357-eb75-4ee5-9d9a-4da5209bd3ed"
    },
    {
      "cell_type": "code",
      "execution_count": 327,
      "metadata": {},
      "outputs": [],
      "source": [
        "test_arr[::2]"
      ],
      "id": "42340322-3543-4c72-9701-feb2ea0d8abf"
    },
    {
      "cell_type": "markdown",
      "metadata": {},
      "source": [
        "`2`. 위 문자열을 뒤집은 문자열을 구하는 코드를 구현하라.\n",
        "(2022-파이썬입문 중간고사 1-(4) 참고)\n",
        "\n",
        "``` python\n",
        "# 출력결과는 아래와 같아야 한다. \n",
        "\n",
        "'lacol.potpalym@nocahcs ==Q7M+frw9iFRrNxbsSVqMlTarQ10d1os2njkImtaKn1+3r3wg+b8li/Z68Ec2DryauLMVmPZ98IPTnPZO4WA+ZmnE/trewr0bP/wv6ybNYjvDNpyX88XrrpKJQjlFUuz1bmFIe/86wW0V3+5x9Q1McnsAoJoaF3tAX7/KVlSvFMdsdwQANsjR6V8qLicMsZAHpXhKn1XixqBtiRXF3oAH+RCFXWlByTM/JdOk7vbP3adc0gwSppPbkVQ5XFl9h4fVELElx7MzQivrFUhbj9WJ4HJ81we5Zy4Idh7WYTDHlzfan+lPGUSDWB/mojT9KGTLNpITmrbS71YHfrHDkpUOlkAEQAAAwIBAAAAE2cy1CazN3BAAAA asr-hss'\n",
        "```"
      ],
      "id": "321987bb-8884-4dd8-ba6e-235c7ae4ee73"
    },
    {
      "cell_type": "code",
      "execution_count": 343,
      "metadata": {},
      "outputs": [],
      "source": [
        "test_arr[::-1]"
      ],
      "id": "74a8b982-88ac-46e7-aa8b-067648afe5fb"
    },
    {
      "cell_type": "markdown",
      "metadata": {},
      "source": [
        "`파이썬 프로그래밍 시험성적`: 3-4\n",
        "\n",
        "아래와 같은 dictionary가 있다고 가정하자."
      ],
      "id": "dbaf9fd8-a6ec-4a47-886c-3d7257374304"
    },
    {
      "cell_type": "code",
      "execution_count": 344,
      "metadata": {},
      "outputs": [],
      "source": [
        "dct={'202212377': {'att': 65, 'rep': 45, 'mid': 0, 'fin': 10},\n",
        "     '202212473': {'att': 95, 'rep': 30, 'mid': 60, 'fin': 10},\n",
        "     '202212310': {'att': 65, 'rep': 85, 'mid': 15, 'fin': 20},\n",
        "     '202212460': {'att': 55, 'rep': 35, 'mid': 35, 'fin': 5},\n",
        "     '202212320': {'att': 80, 'rep': 60, 'mid': 55, 'fin': 70},\n",
        "     '202212329': {'att': 75, 'rep': 40, 'mid': 75, 'fin': 85},\n",
        "     '202212408': {'att': 65, 'rep': 70, 'mid': 60, 'fin': 75},\n",
        "     '202212319': {'att': 60, 'rep': 25, 'mid': 20, 'fin': 35},\n",
        "     '202212348': {'att': 95, 'rep': 55, 'mid': 65, 'fin': 90},\n",
        "     '202212306': {'att': 90, 'rep': 25, 'mid': 95, 'fin': 50},\n",
        "     '202212308': {'att': 55, 'rep': 45, 'mid': 75, 'fin': 30},\n",
        "     '202212366': {'att': 95, 'rep': 60, 'mid': 25, 'fin': 55},\n",
        "     '202212367': {'att': 95, 'rep': 35, 'mid': 0, 'fin': 25},\n",
        "     '202212461': {'att': 50, 'rep': 55, 'mid': 90, 'fin': 45}}"
      ],
      "id": "92e44214-d441-4681-af06-03cdfdfb1828"
    },
    {
      "cell_type": "markdown",
      "metadata": {},
      "source": [
        "여기에서 ‘202212377’ 등은 학번을, att는 출석점수, rep는 레포트점수,\n",
        "mid는 중간고사 점수, fin은 기말고사 점수를 의미한다.\n",
        "\n",
        "`3`. 학생들의 학번을 아래와 같은 방식으로 출력하는 코드를 작성하라.\n",
        "\n",
        "``` python\n",
        "# 출력예시\n",
        "\n",
        "['2022-12377',\n",
        " '2022-12473',\n",
        " '2022-12310',\n",
        " '2022-12460',\n",
        " '2022-12320',\n",
        " '2022-12329',\n",
        " '2022-12408',\n",
        " '2022-12319',\n",
        " '2022-12348',\n",
        " '2022-12306',\n",
        " '2022-12308',\n",
        " '2022-12366',\n",
        " '2022-12367',\n",
        " '2022-12461']\n",
        "```"
      ],
      "id": "a404f370-fbff-4cab-bdde-d3f03572c0d5"
    },
    {
      "cell_type": "code",
      "execution_count": 354,
      "metadata": {},
      "outputs": [],
      "source": [
        "[k[:4]+'-'+k[4:] for k in dct]"
      ],
      "id": "0cdb4077-953c-4efd-a0e6-df64961d8a60"
    },
    {
      "cell_type": "markdown",
      "metadata": {},
      "source": [
        "error on my answer"
      ],
      "id": "9601f7e8-bcbd-4b23-928d-891983759803"
    },
    {
      "cell_type": "code",
      "execution_count": 362,
      "metadata": {},
      "outputs": [
        {
          "output_type": "stream",
          "name": "stdout",
          "text": [
            "2022 - 12377\n",
            "2022 - 12473\n",
            "2022 - 12310\n",
            "2022 - 12460\n",
            "2022 - 12320\n",
            "2022 - 12329\n",
            "2022 - 12408\n",
            "2022 - 12319\n",
            "2022 - 12348\n",
            "2022 - 12306\n",
            "2022 - 12308\n",
            "2022 - 12366\n",
            "2022 - 12367\n",
            "2022 - 12461"
          ]
        }
      ],
      "source": [
        "for k in dct.keys():\n",
        "    print(k[:4],'-',k[4:])"
      ],
      "id": "fc26321d-b2bf-497c-8b52-6f8ef75ee5df"
    },
    {
      "cell_type": "markdown",
      "metadata": {},
      "source": [
        "<font color=green>띄어쓰기가 있고, ’’로 묶이지도 않았고, 리스트로\n",
        "묶이지도 않음</font>"
      ],
      "id": "429f3892-3cc7-4781-a382-784e7ce1dcea"
    },
    {
      "cell_type": "code",
      "execution_count": 368,
      "metadata": {},
      "outputs": [],
      "source": [
        "kk = []\n",
        "for k in dct.keys():\n",
        "    kk.append(k[:4]+'-'+k[4:])\n",
        "kk"
      ],
      "id": "50284660-c4de-4c40-a15c-3994cfef095a"
    },
    {
      "cell_type": "markdown",
      "metadata": {},
      "source": [
        "`4`. 출석점수가 70점 이상인(\\>=70) 학생들의 학번을 출력하는 코드를\n",
        "작성하라. (2022-파이썬입문 중간고사 2-(3) 참고)\n",
        "\n",
        "``` python\n",
        "# 출력예시 \n",
        "\n",
        "['2022-12473',\n",
        " '2022-12320',\n",
        " '2022-12329',\n",
        " '2022-12348',\n",
        " '2022-12306',\n",
        " '2022-12366',\n",
        " '2022-12367']\n",
        "```"
      ],
      "id": "b6bd1a5d-23c2-4258-879a-493cd641b94e"
    },
    {
      "cell_type": "code",
      "execution_count": 382,
      "metadata": {},
      "outputs": [],
      "source": [
        "[k[:4]+'-'+k[4:] for k,v in dct.items() if v['att']>70]"
      ],
      "id": "d85393b5-eff1-4e9a-9618-f9e6a734d088"
    },
    {
      "cell_type": "markdown",
      "metadata": {},
      "source": [
        "my answer"
      ],
      "id": "8c3cae6f-7569-4990-a278-d5dc88cc7759"
    },
    {
      "cell_type": "code",
      "execution_count": 381,
      "metadata": {},
      "outputs": [],
      "source": [
        "[k[:4] + '-' + k[4:] for k in dct if dct[k]['att']>=70]"
      ],
      "id": "6cacb95f-8e48-48d9-9fe9-8b6336e2da4b"
    },
    {
      "cell_type": "markdown",
      "metadata": {},
      "source": [
        "------------------------------------------------------------------------\n",
        "\n",
        "`Oxford-III`: 5–10 //\n",
        "[reference](https://www.robots.ox.ac.uk/~vgg/data/pets/)\n",
        "\n",
        "아래는 이미지 파일명들이 저장된 string을 불러오는 코드이다."
      ],
      "id": "89f9c238-1e93-443b-9f07-48f00ea88e16"
    },
    {
      "cell_type": "code",
      "execution_count": 384,
      "metadata": {},
      "outputs": [],
      "source": [
        "import requests\n",
        "url = 'https://raw.githubusercontent.com/guebin/PP2023/main/posts/01_PythonBasic/Oxford-IIIT.txt'\n",
        "txt = requests.get(url).content.decode()"
      ],
      "id": "ec321753-b441-49b4-89de-63952d58c4b4"
    },
    {
      "cell_type": "markdown",
      "metadata": {},
      "source": [
        "txt의 출력 일부를 나타내면 아래와 같다."
      ],
      "id": "cf432e8a-861b-4f94-889d-03ac6eca4eb3"
    },
    {
      "cell_type": "code",
      "execution_count": null,
      "metadata": {},
      "outputs": [],
      "source": [
        "'Abyssinian_1.jpg\\nAbyssinian_10.jpg\\nAbyssinian_100.jpg\\nAbyssinian_100.mat\\nAbyssinian_101.jpg\\nAbyssinian_101.mat\\nAbyssinian_102.jpg\\nAbyssinian_102.mat\\nAbyssinian_103.jpg\\nAbyssinian_104.jpg\\nAbyssinian_105.jpg\\nAbyssinian_106.jpg\\nAbyssinian_107.jpg\\nAbyssinian_108.jpg\\nAbyssinian_109.jpg\\nAbyssinian_11.jpg\\nAbyssinian_110.jpg\\nAbyssinian_111.jpg\\nAbyssinian_112.jpg\\nAbyssinian_113.jpg\\nAbyssinian_114.jpg\\nAbyssinian_115.jpg\\nAbyssinian_116.jpg\\nAbyssinian_117.jpg\\nAbyssinian_118.jpg\\nAbyssinian_119.jpg\\nAbyssinian_12.jpg\\nAbyssinian_120.jpg\\nAbyssinian_121.jpg\\nAbyssinian_122.jpg\\nAbyssinian_123.jpg\\nAbyssinian_124.jpg\\nAbyssinian_125.jpg\\nAbyssinian_126.jpg\\nAbyssinian_127.jpg\\nAbyssinian_128.jpg\\nAbyssinian_129.jpg\\nAbyssinian_13.jpg\\nAbyssinian_130.jpg\\nAbyssinian_131.jpg\\nAbyssinian_132.jpg\\n ....... "
      ],
      "id": "89343996-db4a-4ea4-9aaf-fb25f0292eba"
    },
    {
      "cell_type": "markdown",
      "metadata": {},
      "source": [
        "`5`. 각 파일명은 구분되어있다. 위의 스트링을 분해하여 아래와 같은\n",
        "리스트를 생성하고 fname_list에 저장하라.\n",
        "\n",
        "``` python\n",
        "# fname_list 의 출력결과는 아래와 같아야 한다. \n",
        "['Abyssinian_1.jpg','Abyssinian_10.jpg', ... ,'yorkshire_terrier_98.jpg', 'yorkshire_terrier_99.jpg']\n",
        "```"
      ],
      "id": "c39e16ab-6c31-460f-bf88-d63d82f30be0"
    },
    {
      "cell_type": "code",
      "execution_count": 391,
      "metadata": {},
      "outputs": [],
      "source": [
        "fname_list = txt.split('\\n')\n",
        "fname_list[:10]"
      ],
      "id": "e18126fe-6707-434f-8855-9da13f34122e"
    },
    {
      "cell_type": "markdown",
      "metadata": {},
      "source": [
        "`6`. 각 이미지파일명은 아래와 같은 규칙으로 저장되어 있다.\n",
        "\n",
        "-   파일명의 첫글자가 대문자이면 고양이를 의미하고 첫글자가 소문자이면\n",
        "    강아지를 의미한다.\n",
        "-   `_` 이전의 영문명은 고양이 혹은 강아지의 종(breed)을 의미한다.\n",
        "-   이미지 파일명이 입력으로 오면 강아지인지 고양이인지 판단하여 ‘cat’\n",
        "    or ’dog’를 리턴하는 함수 f를 구현하라.\n",
        "\n",
        "``` python\n",
        "(함수사용예시)\n",
        "\n",
        "f('yorkshire_terrier_99.jpg')\n",
        "'dog'\n",
        "f('Abyssinian_1.jpg')\n",
        "'cat'\n",
        "```"
      ],
      "id": "c7b462fa-faea-4fa7-864f-cbf31caf4a04"
    },
    {
      "cell_type": "code",
      "execution_count": 399,
      "metadata": {},
      "outputs": [],
      "source": [
        "def f(fname): \n",
        "    return 'cat' if fname[0].isupper() else 'dog' "
      ],
      "id": "125f0c53-4ba0-4bca-af5f-7de49e012e32"
    },
    {
      "cell_type": "code",
      "execution_count": 400,
      "metadata": {},
      "outputs": [],
      "source": [
        "f('yorkshire_terrier_99.jpg'), f('Abyssinian_1.jpg')"
      ],
      "id": "de6b91ef-aac1-4760-928a-a7ae74c17c97"
    },
    {
      "cell_type": "markdown",
      "metadata": {},
      "source": [
        "my answer"
      ],
      "id": "2f96ab14-38d2-4a12-b552-52e5bebe721a"
    },
    {
      "cell_type": "code",
      "execution_count": 396,
      "metadata": {},
      "outputs": [],
      "source": [
        "def name(name):\n",
        "    if name[0].isupper():\n",
        "        return 'cat'\n",
        "    elif name[0].islower():\n",
        "        return 'dog'"
      ],
      "id": "1b2591ad-0b9f-4f95-ad99-33ee320839f2"
    },
    {
      "cell_type": "code",
      "execution_count": 401,
      "metadata": {},
      "outputs": [],
      "source": [
        "name('yorkshire_terrier_99.jpg'), name('Abyssinian_1.jpg')"
      ],
      "id": "cc94eccc-5f3c-4a2a-aa16-d2ac9772f11a"
    },
    {
      "cell_type": "markdown",
      "metadata": {},
      "source": [
        "`7`. 5의 결과로 나온 fname_list를 입력으로 하고 리스트의 각 원소가\n",
        "고양이를 의미하는 그림인지 강아지를 의미하는 그림인지 나타내는 리스트를\n",
        "만들어라.\n",
        "\n",
        "``` python\n",
        "## 입력예시 \n",
        "['Abyssinian_1.jpg','Abyssinian_10.jpg',...,'yorkshire_terrier_98.jpg', 'yorkshire_terrier_99.jpg']\n",
        "## 출력예시\n",
        "['cat', 'cat', ... , 'dog', 'dog']\n",
        "```"
      ],
      "id": "c6992509-99cd-4c2e-be38-d5b2cc7faa0d"
    },
    {
      "cell_type": "code",
      "execution_count": 412,
      "metadata": {},
      "outputs": [],
      "source": [
        "result = [f(l) for l in fname_list]\n",
        "result[:10]"
      ],
      "id": "0d46ddb5-6b57-475a-8bae-efccf846034c"
    },
    {
      "cell_type": "markdown",
      "metadata": {},
      "source": [
        "my answer"
      ],
      "id": "39c9a7cd-ece9-4f3c-8be7-53656f009be9"
    },
    {
      "cell_type": "code",
      "execution_count": 411,
      "metadata": {},
      "outputs": [],
      "source": [
        "[f(fname_list[i]) for i in range(len(fname_list))][:10]"
      ],
      "id": "c821ddaa-4c78-48f3-a7c8-13023cedffbd"
    },
    {
      "cell_type": "markdown",
      "metadata": {},
      "source": [
        "`8`. 강아지 그림과 고양이 그림이 각각 몇 장씩 포함되어 있는지 파악하는\n",
        "코드를 구현하라."
      ],
      "id": "9e2e4609-d8d4-4786-ace9-19523754cef6"
    },
    {
      "cell_type": "code",
      "execution_count": 416,
      "metadata": {},
      "outputs": [],
      "source": [
        "sum([s=='cat' for s in result]) # 고양이"
      ],
      "id": "bb3c64b6-0f8d-42dd-af6a-077770688245"
    },
    {
      "cell_type": "code",
      "execution_count": 417,
      "metadata": {},
      "outputs": [],
      "source": [
        "sum([s=='dog' for s in result]) # 강아지"
      ],
      "id": "e0a78d94-609c-4f12-8b29-efe35b147165"
    },
    {
      "cell_type": "markdown",
      "metadata": {},
      "source": [
        "my answer"
      ],
      "id": "4fa4e96e-124b-4efe-8953-530dadf409bc"
    },
    {
      "cell_type": "code",
      "execution_count": 414,
      "metadata": {},
      "outputs": [],
      "source": [
        "sum([result[i] == 'cat' for i in range(len(result))])"
      ],
      "id": "654510a9-bc43-404f-9989-0602cdb19c39"
    },
    {
      "cell_type": "code",
      "execution_count": 415,
      "metadata": {},
      "outputs": [],
      "source": [
        "len(result) - sum([result[i] == 'cat' for i in range(len(result))])"
      ],
      "id": "11dab986-e55d-49f7-90fa-09f37737aa35"
    },
    {
      "cell_type": "markdown",
      "metadata": {},
      "source": [
        "`9`. 포메라니안 종의 그림이 몇장있는지 파악하는 코드를 구현하라.\n",
        "\n",
        "hint: 포메라니안 그림은 파일명에 ‘pomeranian’ 을 포함한다."
      ],
      "id": "c2254c3f-da18-4e27-81ac-06e785397683"
    },
    {
      "cell_type": "code",
      "execution_count": 451,
      "metadata": {},
      "outputs": [],
      "source": [
        "sum(['pomeranian'  in s for s in fname_list])"
      ],
      "id": "e0cf066f-0b0a-440f-9a42-1f8b6712e018"
    },
    {
      "cell_type": "markdown",
      "metadata": {},
      "source": [
        "my answer\n",
        "\n",
        "<font color=green>’pomeranian’을 포함하면 0이 return 되고 아니면 -1이\n",
        "return되는 코드로 길게 짰다.</font>"
      ],
      "id": "74684415-9177-4581-ac2e-a674fd88b8bf"
    },
    {
      "cell_type": "code",
      "execution_count": 450,
      "metadata": {},
      "outputs": [],
      "source": [
        "len(fname_list) + sum(fname_list[i].find('pomeranian') for i in range(len(fname_list)))"
      ],
      "id": "43f513bf-0a67-48f7-9027-58046c8a9528"
    },
    {
      "cell_type": "markdown",
      "metadata": {},
      "source": [
        "`10`. 아래의 dct는 포메라니안과 사모예드가 각각 몇장씩 포함되어있는지\n",
        "정리하기 위해 임시로 정리한 dictionary이다. 각 종이 몇 장씩\n",
        "포함되어있는지 구하여 dct를 수정하라."
      ],
      "id": "ec8fffe1-0e60-499c-bc59-9dc3c381ab4c"
    },
    {
      "cell_type": "code",
      "execution_count": 452,
      "metadata": {},
      "outputs": [],
      "source": [
        "dct = {'pomeranian':0, 'samoyed':0} \n",
        "dct"
      ],
      "id": "94ae1ac1-8ee5-4c0c-b13e-7784ec98ac38"
    },
    {
      "cell_type": "markdown",
      "metadata": {},
      "source": [
        "예를들어 포메라니안과 사모에예드의 그림이 각각 200장씩 있다면 아래와\n",
        "같이 딕셔너리를 수정해야한다."
      ],
      "id": "db43ec4b-60d9-4e61-8c57-e8e24809f23d"
    },
    {
      "cell_type": "code",
      "execution_count": 466,
      "metadata": {},
      "outputs": [],
      "source": [
        "dct['pomeranian'] = sum(['pomeranian'  in s for s in fname_list])\n",
        "dct['samoyed'] = sum(['samoyed'  in s for s in fname_list])\n",
        "dct"
      ],
      "id": "61e2200f-bd4b-4025-a787-d235c551f02e"
    },
    {
      "cell_type": "markdown",
      "metadata": {},
      "source": [
        "my answer"
      ],
      "id": "945938b4-a0fd-4ac5-8f56-21b363e1e29e"
    },
    {
      "cell_type": "code",
      "execution_count": 462,
      "metadata": {},
      "outputs": [],
      "source": [
        "dct['pomeranian'] = sum(['pomeranian'  in s for s in fname_list])"
      ],
      "id": "d0f9be96-d32a-49c8-b937-dc0333e9fc04"
    },
    {
      "cell_type": "code",
      "execution_count": 463,
      "metadata": {},
      "outputs": [],
      "source": [
        "dct['samoyed'] = sum(['samoyed'  in s for s in fname_list])"
      ],
      "id": "1d81fa1b-d352-452c-9dba-40f0ab60f843"
    },
    {
      "cell_type": "code",
      "execution_count": 464,
      "metadata": {},
      "outputs": [],
      "source": [
        "dct"
      ],
      "id": "88fdf4ee-0b62-40b1-88fa-60fba48ecb5c"
    },
    {
      "cell_type": "markdown",
      "metadata": {},
      "source": [
        "# 6.\n",
        "\n",
        "HW 0327 (2)\n",
        "\n",
        "[04wk-1: 파이썬의 자료형\n",
        "(6)](https://guebin.github.io/PP2023/posts/01_PythonBasic/2023-03-27-4wk-1.html#%ED%95%A8%EC%88%98%EA%B3%A0%EA%B8%89-if%EB%AC%B8%EC%9D%B4-%ED%8F%AC%ED%95%A8%EB%90%9C-%EB%A6%AC%ED%84%B4)\n",
        "\n",
        "`1`. 아래와 같은 맵핑을 고려하자.\n",
        "\n",
        "| 문자 | 숫자 |\n",
        "|:----:|:----:|\n",
        "|  a   |  1   |\n",
        "|  b   |  0   |\n",
        "\n",
        "이를 딕셔너리로 표현하면 아래와 같다."
      ],
      "id": "91f4a44a-2203-4a6d-aa32-d5fc69bda773"
    },
    {
      "cell_type": "code",
      "execution_count": 468,
      "metadata": {},
      "outputs": [],
      "source": [
        "dct = {'a':0, 'b':1} "
      ],
      "id": "92a4afdc-38a4-4bfe-b44b-ab9234b9bb94"
    },
    {
      "cell_type": "markdown",
      "metadata": {},
      "source": [
        "위 규칙에 따라서 아래의 리스트의 원소를 문자로 각각 변환하라."
      ],
      "id": "53f24f3b-daf1-4f6d-b4c3-a22025b82671"
    },
    {
      "cell_type": "code",
      "execution_count": 572,
      "metadata": {},
      "outputs": [],
      "source": [
        "lst = [1, 0, 1, 0, 1, 0, 1, 1, 1, 1, 0, 0, 1, 0, 1]"
      ],
      "id": "97c01b2e-fdd8-48ca-bca5-ae476e1d91af"
    },
    {
      "cell_type": "markdown",
      "metadata": {},
      "source": [
        "``` python\n",
        "# 출력은 아래와 같아야 한다. \n",
        "['b', 'a', 'b', 'a', 'b', 'a', 'b', 'b', 'b', 'b', 'a', 'a', 'b', 'a', 'b']\n",
        "```"
      ],
      "id": "847d13bb-3178-4847-9f24-35ad2671fb8a"
    },
    {
      "cell_type": "code",
      "execution_count": 573,
      "metadata": {},
      "outputs": [],
      "source": [
        "[k for l in lst for k,v in dct.items() if v==l]"
      ],
      "id": "7995d206-8730-498d-aaaf-446ef2ae62a5"
    },
    {
      "cell_type": "markdown",
      "metadata": {},
      "source": [
        "error on my answer\n",
        "\n",
        "<font color=green>인덱싱된 값(value)을 가져와서 lst랑 비교한다음 id랑\n",
        "연결해야 하는데, 연결해서 가져오는 법을 몰랐다.</font>"
      ],
      "id": "21a5c17c-5e37-4aee-875f-603c80946b11"
    },
    {
      "cell_type": "code",
      "execution_count": 578,
      "metadata": {},
      "outputs": [],
      "source": [
        "[v for k,v in dct.items()]"
      ],
      "id": "7d3e7f20-dce2-45c6-ae68-544929f14c55"
    },
    {
      "cell_type": "code",
      "execution_count": 579,
      "metadata": {},
      "outputs": [],
      "source": [
        "[k for k,v in dct.items()]"
      ],
      "id": "60c0cef0-ed68-4773-9927-bad30507a935"
    },
    {
      "cell_type": "code",
      "execution_count": 580,
      "metadata": {},
      "outputs": [],
      "source": [
        "[k for s in lst for k,v in dct.items() if v==s]"
      ],
      "id": "3a051563-8e54-4d8b-848f-d3692d7f31c4"
    },
    {
      "cell_type": "markdown",
      "metadata": {},
      "source": [
        "`2`. 아래와 같은 맵핑을 고려하자.\n",
        "\n",
        "|     월     |   의미   |\n",
        "|:----------:|:--------:|\n",
        "|    1,2     | 겨울방학 |\n",
        "|  3,4,5,6   |  1학기   |\n",
        "|    7,8     | 여름방학 |\n",
        "| 9,10,11,12 |  2학기   |\n",
        "\n",
        "이러한 규칙에 맞게 아래의 리스트를 적절한 문자열로 변환하라."
      ],
      "id": "3a1a772b-af84-4d41-b818-b90362095103"
    },
    {
      "cell_type": "code",
      "execution_count": 582,
      "metadata": {},
      "outputs": [],
      "source": [
        "month = [1,2,2,3,4,5,6,7,8,9,9,10,11,12] "
      ],
      "id": "6e8ca3e6-d55e-4368-abef-8c1ee42d748f"
    },
    {
      "cell_type": "markdown",
      "metadata": {},
      "source": [
        "``` python\n",
        "## 출력은 아래와 같아야 한다. \n",
        "['겨울방학', '겨울방학', '겨울방학', '1학기', '1학기', '1학기', '1학기', '여름방학', '여름방학', '2학기', '2학기', '2학기', '2학기', '2학기']\n",
        "```"
      ],
      "id": "48ee23fa-ac29-4ed2-a3d2-ca04f2d84262"
    },
    {
      "cell_type": "code",
      "execution_count": 603,
      "metadata": {},
      "outputs": [],
      "source": [
        "dct = {'겨울방학':[1,2], '1학기':[3,4,5,6], '여름방학':[7,8], '2학기':[9,10,11,12]} \n",
        "[k for m in month for k,v in dct.items() if m in v] "
      ],
      "id": "cac3837b-2a9f-49a6-871d-e249d48a8832"
    },
    {
      "cell_type": "markdown",
      "metadata": {},
      "source": [
        "my answer\n",
        "\n",
        "<font color=green>`if c in v`을 못 씀…..</font>"
      ],
      "id": "36178ab7-4722-4389-bce8-045d624741b4"
    },
    {
      "cell_type": "code",
      "execution_count": 586,
      "metadata": {},
      "outputs": [],
      "source": [
        "dct = {'겨울방학':[1,2],'1학기':[3,4,5,6],'여름방학':[7,8],'2학기':[9,10,11,12]}"
      ],
      "id": "e75cb998-4bf5-4154-9501-f0da682a7861"
    },
    {
      "cell_type": "code",
      "execution_count": 601,
      "metadata": {},
      "outputs": [],
      "source": [
        "[k for c in month for k,v in dct.items() if c in v]"
      ],
      "id": "f0c363e1-1bae-4194-9fb6-6ce160288d57"
    },
    {
      "cell_type": "markdown",
      "metadata": {},
      "source": [
        "------------------------------------------------------------------------\n",
        "\n",
        "`합성변환` 3-5.\n",
        "\n",
        "아래와 같은 맵핑을 고려하자.\n",
        "\n",
        "(규칙1)\n",
        "\n",
        "|   문자   | 숫자 |\n",
        "|:--------:|:----:|\n",
        "|  바나나  |  0   |\n",
        "|   사과   |  1   |\n",
        "| 오토바이 |  2   |\n",
        "|  자동차  |  3   |\n",
        "|  자전거  |  4   |\n",
        "\n",
        "(규칙2)\n",
        "\n",
        "|  아이템  | 카테고리 |\n",
        "|:--------:|:--------:|\n",
        "|  바나나  |   과일   |\n",
        "|   사과   |   과일   |\n",
        "| 오토바이 |   탈것   |\n",
        "|  자동차  |   탈것   |\n",
        "|  자전거  |   탈것   |\n",
        "\n",
        "각각의 규칙을 나타내는 딕셔너리는 아래와 같이 선언되어있다고 하자."
      ],
      "id": "7303f137-4269-429f-a48a-32fa153bb051"
    },
    {
      "cell_type": "code",
      "execution_count": 604,
      "metadata": {},
      "outputs": [],
      "source": [
        "dct1 = {'바나나':0, '사과':1, '오토바이':2, '자동차':3, '자전거':4} \n",
        "dct2 = {'과일':['바나나','사과'], '탈것':['오토바이','자동차','자전거']} "
      ],
      "id": "ea6967bd-3785-4bc8-a31e-eb3e2c73e733"
    },
    {
      "cell_type": "markdown",
      "metadata": {},
      "source": [
        "`3`. 규칙1를 이용하여 아래와 같은 리스트를 변환하는 함수를 구현하고 그\n",
        "함수를 f라 선언하라.\n",
        "\n",
        "``` python\n",
        "# 입력 \n",
        "[0,1,0,1,4]\n",
        "\n",
        "# 출력 \n",
        "['바나나', '사과', '바나나', '사과', '자전거']\n",
        "```\n",
        "\n",
        "``` python\n",
        "(사용예시)\n",
        "\n",
        "f([0,1,0,1,4])\n",
        "\n",
        "['바나나', '사과', '바나나', '사과', '자전거']\n",
        "```"
      ],
      "id": "28f00d50-20e4-47d9-b364-39dfce3ef1fd"
    },
    {
      "cell_type": "code",
      "execution_count": 609,
      "metadata": {},
      "outputs": [],
      "source": [
        "def f(lst):\n",
        "    return [k for l in lst for k,v in dct1.items() if v == l]    \n",
        "\n",
        "f([0,1,0,1,4])"
      ],
      "id": "2a0e0c25-4287-4341-9123-08ceb9b285e6"
    },
    {
      "cell_type": "markdown",
      "metadata": {},
      "source": [
        "my answer"
      ],
      "id": "5ea95345-50ab-479d-aee2-9897a06ad923"
    },
    {
      "cell_type": "code",
      "execution_count": 608,
      "metadata": {},
      "outputs": [],
      "source": [
        "[k for i in [0,1,0,1,4] for k,v in dct1.items() if i==v]"
      ],
      "id": "c891305b-0e0c-4d46-ae8e-a75563051508"
    },
    {
      "cell_type": "code",
      "execution_count": 614,
      "metadata": {},
      "outputs": [],
      "source": [
        "def f_csy(a):\n",
        "    return [k for i in a for k,v in dct1.items() if i==v]"
      ],
      "id": "34c1ad9d-eaf4-437d-bb9e-736bf3dcff41"
    },
    {
      "cell_type": "code",
      "execution_count": 615,
      "metadata": {},
      "outputs": [],
      "source": [
        "f_csy([0,1,0,1,4])"
      ],
      "id": "4d27b36b-de2d-4afa-b716-9c5a658b42a9"
    },
    {
      "cell_type": "markdown",
      "metadata": {},
      "source": [
        "`4`. 규칙2를 이용하여 아래와 같이 리스트를 변환하는 함수를 구현하고 그\n",
        "함수를 g라고 선언하라.\n",
        "\n",
        "``` python\n",
        "# 입력 \n",
        "['바나나','바나나','바나나','자동차']\n",
        "\n",
        "# 출력 \n",
        "['과일','과일','과일','탈것']\n",
        "\n",
        "(사용예시)\n",
        "\n",
        "g(['바나나','바나나','바나나','자동차'])\n",
        "\n",
        "['과일', '과일', '과일', '탈것']\n",
        "```"
      ],
      "id": "ee073767-14e7-44b5-aa1a-ab8cca87989b"
    },
    {
      "cell_type": "code",
      "execution_count": 621,
      "metadata": {},
      "outputs": [],
      "source": [
        "def g(lst):\n",
        "    return [k for l in lst for k,v in dct2.items() if l in v] \n",
        "\n",
        "g(['바나나','바나나','바나나','자동차'])"
      ],
      "id": "e357eacf-4abf-4997-8bb4-0e600b57228d"
    },
    {
      "cell_type": "markdown",
      "metadata": {},
      "source": [
        "my answer"
      ],
      "id": "f502d813-8025-4c44-9288-348b0b81b562"
    },
    {
      "cell_type": "code",
      "execution_count": 620,
      "metadata": {},
      "outputs": [],
      "source": [
        "[k for a in ['바나나','바나나','바나나','자동차'] for k,v in dct2.items() if a in v]"
      ],
      "id": "6bec2891-3495-4a00-8fb0-686a1a0a08c6"
    },
    {
      "cell_type": "code",
      "execution_count": 622,
      "metadata": {},
      "outputs": [],
      "source": [
        "def g_csy(b):\n",
        "    return([k for a in b for k,v in dct2.items() if a in v])"
      ],
      "id": "a8f0d54b-cd81-43b2-bff7-6b0f990caee3"
    },
    {
      "cell_type": "code",
      "execution_count": 623,
      "metadata": {},
      "outputs": [],
      "source": [
        "g_csy(['바나나','바나나','바나나','자동차'])"
      ],
      "id": "6dfcbb8b-4c2b-414b-bf89-6ef62cf6f47d"
    },
    {
      "cell_type": "markdown",
      "metadata": {},
      "source": [
        "`5`. 규칙1-2를 이용하여 아래와 같은 숫자로 이루어진 입력을 ‘과일’,\n",
        "‘탈것’ 중 하나로 바꾸는 코드를 구현하라.\n",
        "\n",
        "``` python\n",
        "# 입력 \n",
        "[0,1,0,1,3,4,2,2,3,4,1,0]\n",
        "\n",
        "# 출력 \n",
        "['과일', '과일', '과일', '과일', '탈것', '탈것', '탈것', '탈것', '탈것', '탈것', '과일', '과일']\n",
        "```\n",
        "\n",
        "hint $g(f(x))$ 를 이용하라."
      ],
      "id": "992a40c2-2d58-4641-b265-d725268a01e0"
    },
    {
      "cell_type": "code",
      "execution_count": 625,
      "metadata": {},
      "outputs": [],
      "source": [
        "g(f([0,1,0,1,3,4,2,2,3,4,1,0]))\n",
        "\n",
        "['과일', '과일', '과일', '과일', '탈것', '탈것', '탈것', '탈것', '탈것', '탈것', '과일', '과일']"
      ],
      "id": "b62db18d-1ca0-45ef-8334-ada764219767"
    },
    {
      "cell_type": "markdown",
      "metadata": {},
      "source": [
        "my answer"
      ],
      "id": "a477ee1e-f18a-4630-838d-06cac9c874df"
    },
    {
      "cell_type": "code",
      "execution_count": 624,
      "metadata": {},
      "outputs": [],
      "source": [
        "g_csy(f_csy([0,1,0,1,3,4,2,2,3,4,1,0]))"
      ],
      "id": "81cdc486-2588-4ea9-b54e-edd2cb80cf22"
    },
    {
      "cell_type": "markdown",
      "metadata": {},
      "source": [
        "# 7.\n",
        "\n",
        "[04wk-2: 파이썬의 자료형\n",
        "(7)](https://guebin.github.io/PP2023/posts/01_PythonBasic/2023-03-29-4wk-2.html)\n",
        "\n",
        "`Oxford-III`: 1–5 //\n",
        "[reference](https://www.robots.ox.ac.uk/~vgg/data/pets/)\n",
        "\n",
        "아래는 이미지 파일명들이 저장된 string을 불러오는 코드이다."
      ],
      "id": "511f8b19-a5c5-4a26-b058-7518591c8ecf"
    },
    {
      "cell_type": "code",
      "execution_count": 627,
      "metadata": {},
      "outputs": [],
      "source": [
        "import requests\n",
        "url = 'https://raw.githubusercontent.com/guebin/PP2023/main/posts/01_PythonBasic/Oxford-IIIT.txt'\n",
        "txt = requests.get(url).content.decode()"
      ],
      "id": "9508b026-c835-4b68-a37a-34cd0873e8f0"
    },
    {
      "cell_type": "markdown",
      "metadata": {},
      "source": [
        "이미지파일이 저장된 형식은 아래와 같다.\n",
        "\n",
        "``` python\n",
        "Abyssinian_1.jpg\n",
        "British_Shorthair_129.jpg\n",
        "```\n",
        "\n",
        "**note**: British_Shorthair와 같이 종 이름 사이에 \\_가 들어있는 경우도\n",
        "있음.\n",
        "\n",
        "`1`. txt를 적당히 변환하여 아래와 같은 list를 만들어라.\n",
        "\n",
        "``` python\n",
        "lst[:10],lst[810:820]\n",
        "\n",
        "(['Abyssinian',\n",
        "  'Abyssinian',\n",
        "  'Abyssinian',\n",
        "  'Abyssinian',\n",
        "  'Abyssinian',\n",
        "  'Abyssinian',\n",
        "  'Abyssinian',\n",
        "  'Abyssinian',\n",
        "  'Abyssinian',\n",
        "  'Abyssinian'],\n",
        " ['BritishShorthair',\n",
        "  'BritishShorthair',\n",
        "  'BritishShorthair',\n",
        "  'BritishShorthair',\n",
        "  'BritishShorthair',\n",
        "  'BritishShorthair',\n",
        "  'BritishShorthair',\n",
        "  'BritishShorthair',\n",
        "  'BritishShorthair',\n",
        "  'BritishShorthair'])\n",
        "```\n",
        "\n",
        "**hint1**"
      ],
      "id": "9d2072b5-a605-405a-8952-1271fb8ede79"
    },
    {
      "cell_type": "code",
      "execution_count": 648,
      "metadata": {},
      "outputs": [],
      "source": [
        "'Abyssinian_1.jpg\\nAbyssinian_10.jpg'.split('\\n')"
      ],
      "id": "3ea03ed6-1a96-4a3f-9b41-e2a237db1894"
    },
    {
      "cell_type": "markdown",
      "metadata": {},
      "source": [
        "**hint2**"
      ],
      "id": "1c018828-f013-4afa-91d7-4d0d6476d65c"
    },
    {
      "cell_type": "code",
      "execution_count": 649,
      "metadata": {},
      "outputs": [],
      "source": [
        "''.join(['British', 'Shorthair'])"
      ],
      "id": "93cf0a71-61ee-48c6-9416-bbe40d967829"
    },
    {
      "cell_type": "code",
      "execution_count": 655,
      "metadata": {},
      "outputs": [],
      "source": [
        "''.join(['Abyssinian'])"
      ],
      "id": "55b79c1c-038c-47cb-9d19-6439e3441253"
    },
    {
      "cell_type": "markdown",
      "metadata": {},
      "source": [
        "(풀이1)"
      ],
      "id": "1d36215b-d0fe-4343-90ae-42f554750f90"
    },
    {
      "cell_type": "code",
      "execution_count": 656,
      "metadata": {},
      "outputs": [],
      "source": [
        "lst = [''.join(filename.split('_')[:-1]) for filename in txt.split('\\n')]"
      ],
      "id": "92fd0ea0-1257-4ee7-9ff2-5eccc10c3b4e"
    },
    {
      "cell_type": "code",
      "execution_count": 657,
      "metadata": {},
      "outputs": [],
      "source": [
        "lst[:10],lst[810:820]"
      ],
      "id": "3712ee6d-5f37-4f09-b9e2-a3c059cd2718"
    },
    {
      "cell_type": "markdown",
      "metadata": {},
      "source": [
        "(풀이2)"
      ],
      "id": "4de18027-5eab-43f7-86cf-927aeb276cd5"
    },
    {
      "cell_type": "code",
      "execution_count": 658,
      "metadata": {},
      "outputs": [],
      "source": [
        "def f(filename): \n",
        "    *name, _ = filename.split('_')\n",
        "    return ''.join(name)\n",
        "lst = [f(filename) for filename in txt.split('\\n')]"
      ],
      "id": "d9c665b5-dd6b-423b-ab33-b3f55fed55af"
    },
    {
      "cell_type": "code",
      "execution_count": 659,
      "metadata": {},
      "outputs": [],
      "source": [
        "lst[:10],lst[810:820]"
      ],
      "id": "bee5578e-f999-431c-b816-7a7cfda6bd7a"
    },
    {
      "cell_type": "markdown",
      "metadata": {},
      "source": [
        "my answer"
      ],
      "id": "cf8d9b6e-371a-4410-a192-f88f92930c6e"
    },
    {
      "cell_type": "code",
      "execution_count": 736,
      "metadata": {},
      "outputs": [],
      "source": [
        "lst = [''.join(txt.split('\\n')[i].split('_')[:-1]) for i in range(len(txt.split('\\n')))]"
      ],
      "id": "3eadbbf9-9936-4fd2-a2f4-781d6e857633"
    },
    {
      "cell_type": "code",
      "execution_count": 737,
      "metadata": {},
      "outputs": [],
      "source": [
        "lst[:10],lst[810:820]"
      ],
      "id": "5153f8b7-f7ae-466d-a8ed-d0f2669983a7"
    },
    {
      "cell_type": "markdown",
      "metadata": {},
      "source": [
        "`2`. 그림파일에는 총 몇가지 종류의 고양이와, 몇가지 종류의 강아지가\n",
        "있는가?\n",
        "\n",
        "**note**: 고양이사진은 대문자로 시작하고, 강아지 사진은 소문자로\n",
        "시작한다.\n",
        "\n",
        "**note**: 12종의 고양이, 25종의 강아지가 있음"
      ],
      "id": "18d86deb-c9ea-4826-861c-30b9a5b95282"
    },
    {
      "cell_type": "code",
      "execution_count": 674,
      "metadata": {},
      "outputs": [],
      "source": [
        "[s[0].isupper() for s in set(lst)].count(True) # 고양이 12"
      ],
      "id": "51442e45-5a4f-4b27-89ae-5b5eac53c20d"
    },
    {
      "cell_type": "code",
      "execution_count": 697,
      "metadata": {},
      "outputs": [],
      "source": [
        "[s[0].isupper() for s in set(lst)].count(False) # 강아지 25 "
      ],
      "id": "429fc58e-5b2e-4574-a99e-4206e0e76766"
    },
    {
      "cell_type": "markdown",
      "metadata": {},
      "source": [
        "my answer"
      ],
      "id": "0392a172-e604-4e8d-8a7c-409a2adf0b11"
    },
    {
      "cell_type": "code",
      "execution_count": 695,
      "metadata": {},
      "outputs": [],
      "source": [
        "len([i for i in set(lst) if i[0].isupper()])"
      ],
      "id": "a3e5f848-adef-47d2-a123-6522d626bc11"
    },
    {
      "cell_type": "code",
      "execution_count": 696,
      "metadata": {},
      "outputs": [],
      "source": [
        "len([i for i in set(lst) if i[0].islower()])"
      ],
      "id": "0f3bd3d5-8e4c-4773-95a9-63723ee05236"
    },
    {
      "cell_type": "markdown",
      "metadata": {},
      "source": [
        "`3`. 아래는 1번의 결과로 얻어진 lst의 첫 10개의 원소와 마지막 10개의\n",
        "원소이다.\n",
        "\n",
        "``` python\n",
        "lst[:10], lst[-10:]\n",
        "\n",
        "(['Abyssinian',\n",
        "  'Abyssinian',\n",
        "  'Abyssinian',\n",
        "  'Abyssinian',\n",
        "  'Abyssinian',\n",
        "  'Abyssinian',\n",
        "  'Abyssinian',\n",
        "  'Abyssinian',\n",
        "  'Abyssinian',\n",
        "  'Abyssinian'],\n",
        " ['yorkshireterrier',\n",
        "  'yorkshireterrier',\n",
        "  'yorkshireterrier',\n",
        "  'yorkshireterrier',\n",
        "  'yorkshireterrier',\n",
        "  'yorkshireterrier',\n",
        "  'yorkshireterrier',\n",
        "  'yorkshireterrier',\n",
        "  'yorkshireterrier',\n",
        "  'yorkshireterrier'])\n",
        "```\n",
        "\n",
        "적당한 변환을 정의하여 lst를 아래와 같이 바꾸어라.\n",
        "\n",
        "``` python\n",
        "lst2[:10], lst2[-10:] # 바뀐 lst\n",
        "(['cat', 'cat', 'cat', 'cat', 'cat', 'cat', 'cat', 'cat', 'cat', 'cat'],\n",
        " ['dog', 'dog', 'dog', 'dog', 'dog', 'dog', 'dog', 'dog', 'dog', 'dog'])\n",
        "```\n",
        "\n",
        "(풀이1)"
      ],
      "id": "93d1c4e2-9578-44be-ab8d-6d5a6084cefe"
    },
    {
      "cell_type": "code",
      "execution_count": 755,
      "metadata": {},
      "outputs": [],
      "source": [
        "dct = {'cat':[s for s in set(lst) if s[0].isupper()], 'dog': [s for s in set(lst) if not s[0].isupper()]}\n",
        "lst2 = [k for l in lst for k,v in dct.items() if l in v]"
      ],
      "id": "fb5ffbfe-ddd3-4626-b5b7-ac3bbd62d100"
    },
    {
      "cell_type": "markdown",
      "metadata": {},
      "source": [
        "(풀이2)"
      ],
      "id": "b93b86e5-1b6b-4174-8bb5-a42df7c7d20e"
    },
    {
      "cell_type": "code",
      "execution_count": 757,
      "metadata": {},
      "outputs": [],
      "source": [
        "def f(fname): \n",
        "    return 'cat' if fname[0].isupper() else 'dog'\n",
        "lst2= [f(fname) for fname in lst]"
      ],
      "id": "dc20d119-aad4-4342-86ef-00835b8de3da"
    },
    {
      "cell_type": "markdown",
      "metadata": {},
      "source": [
        "my answer"
      ],
      "id": "994ed7fb-8ec5-435e-bd7f-4be0be2bca21"
    },
    {
      "cell_type": "code",
      "execution_count": 756,
      "metadata": {},
      "outputs": [],
      "source": [
        "lst2 = []\n",
        "for j in range(len(lst)):\n",
        "    if [lst[l][0].isupper() for l in range(len(lst))][j] == True:\n",
        "        lst2.append('cat')\n",
        "    else:\n",
        "        lst2.append('dog')"
      ],
      "id": "7e290847-61c1-483e-a559-3a998cd8a546"
    },
    {
      "cell_type": "markdown",
      "metadata": {},
      "source": [
        "`4`. txt에는 강아지사진과 고양이사진이 모두 몇장씩 들어있는가?\n",
        "\n",
        "``` python\n",
        "## 출력예시 \n",
        "\n",
        "{'dog': 4990, 'cat': 2403}\n",
        "```"
      ],
      "id": "0e27a40f-4f80-400c-bf86-aac5d43621bb"
    },
    {
      "cell_type": "code",
      "execution_count": 764,
      "metadata": {},
      "outputs": [],
      "source": [
        "{k:lst2.count(k) for k in ['dog','cat']}"
      ],
      "id": "463bd33c-0532-44f0-8ebd-68119b029b71"
    },
    {
      "cell_type": "markdown",
      "metadata": {},
      "source": [
        "my answer\n",
        "\n",
        "<font color=green>너무 길게 코드를 짰다.. 비.효.율.적.</font>"
      ],
      "id": "9ed88c29-7cf7-49d0-81e2-03c5c2ac29a0"
    },
    {
      "cell_type": "code",
      "execution_count": 769,
      "metadata": {},
      "outputs": [],
      "source": [
        "{'dog':sum((lst2[i] == 'dog' for i in range(len(lst2)))),\n",
        " 'cat':sum((lst2[i] == 'cat' for i in range(len(lst2))))}"
      ],
      "id": "576b2a2f-5b5b-4156-b74a-e5b09254c29c"
    },
    {
      "cell_type": "markdown",
      "metadata": {},
      "source": [
        "`5`. txt에 각 종별로 몇장의 사진이 있는지 조사하라.\n",
        "\n",
        "``` python\n",
        "## 출력예시\n",
        "\n",
        "{'beagle': 200,\n",
        " 'scottishterrier': 199,\n",
        " 'newfoundland': 200,\n",
        " 'Birman': 200,\n",
        " 'Bombay': 200,\n",
        " 'pug': 200,\n",
        " 'germanshorthaired': 200,\n",
        " 'samoyed': 200,\n",
        " 'Sphynx': 200,\n",
        " 'englishsetter': 200,\n",
        " 'Bengal': 200,\n",
        " 'MaineCoon': 200,\n",
        " 'Persian': 200,\n",
        " 'boxer': 200,\n",
        " 'staffordshirebullterrier': 191,\n",
        " 'Siamese': 200,\n",
        " 'bassethound': 200,\n",
        " 'wheatenterrier': 200,\n",
        " 'englishcockerspaniel': 200,\n",
        " 'Ragdoll': 200,\n",
        " 'yorkshireterrier': 200,\n",
        " 'EgyptianMau': 200,\n",
        " 'BritishShorthair': 200,\n",
        " 'keeshond': 200,\n",
        " 'RussianBlue': 200,\n",
        " 'saintbernard': 200,\n",
        " 'americanbulldog': 200,\n",
        " 'Abyssinian': 203,\n",
        " 'leonberger': 200,\n",
        " 'greatpyrenees': 200,\n",
        " 'japanesechin': 200,\n",
        " 'pomeranian': 200,\n",
        " 'chihuahua': 200,\n",
        " 'shibainu': 200,\n",
        " 'americanpitbullterrier': 200,\n",
        " 'miniaturepinscher': 200,\n",
        " 'havanese': 200}\n",
        "```"
      ],
      "id": "659d274c-460a-4d69-b512-91f734933b7a"
    },
    {
      "cell_type": "code",
      "execution_count": 784,
      "metadata": {},
      "outputs": [],
      "source": [
        "{k:lst.count(k) for k in set(lst)}"
      ],
      "id": "0951186e-8f38-42b7-9a56-de67ccf95f4c"
    }
  ],
  "nbformat": 4,
  "nbformat_minor": 5,
  "metadata": {
    "kernelspec": {
      "name": "python3",
      "display_name": "Python 3",
      "language": "python"
    },
    "language_info": {
      "name": "python",
      "codemirror_mode": {
        "name": "ipython",
        "version": "3"
      },
      "file_extension": ".py",
      "mimetype": "text/x-python",
      "nbconvert_exporter": "python",
      "pygments_lexer": "ipython3",
      "version": "3.8.0"
    }
  }
}