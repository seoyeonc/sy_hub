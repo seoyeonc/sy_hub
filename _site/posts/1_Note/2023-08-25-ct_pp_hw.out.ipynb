{
  "cells": [
    {
      "cell_type": "markdown",
      "metadata": {},
      "source": [
        "# \\*\\*\\[Coding Test\\]\\*\\*Python Programming HW review\n",
        "\n",
        "SEOYEON CHOI  \n",
        "2023-08-25\n",
        "\n",
        "# 1.\n",
        "\n",
        "HW: 0315\n",
        "\n",
        "[02wk-1: 파이썬의 자료형\n",
        "(2)](https://guebin.github.io/PP2023/posts/01_PythonBasic/2023-03-13-2wk-1.html#%EA%B0%95%EC%9D%98%EC%98%81%EC%83%81)\n",
        "\n",
        "아래와 같은 문자열이 있다고 하자."
      ],
      "id": "7b980dfb-afd6-4684-82b4-93c62afc79f0"
    },
    {
      "cell_type": "code",
      "execution_count": 1,
      "metadata": {},
      "outputs": [],
      "source": [
        "a='Jeonbuk National University' "
      ],
      "id": "64a20bd2-f2a3-4d45-9d6a-b7a50afeb0e8"
    },
    {
      "cell_type": "markdown",
      "metadata": {},
      "source": [
        "`1`. 적당한 인덱싱을 통하여 출력결과가 아래와 같도록 하라."
      ],
      "id": "7dbceb74-16e6-4a93-a3cc-45a45ba4fa71"
    },
    {
      "cell_type": "code",
      "execution_count": 11,
      "metadata": {},
      "outputs": [],
      "source": [
        "a.find('U')"
      ],
      "id": "1830a7a8-97a4-4082-a8f4-667422ae3ca7"
    },
    {
      "cell_type": "code",
      "execution_count": 12,
      "metadata": {},
      "outputs": [],
      "source": [
        "a.find('y')"
      ],
      "id": "05eb56ce-9ac4-4599-b141-8efec2453f34"
    },
    {
      "cell_type": "code",
      "execution_count": 13,
      "metadata": {},
      "outputs": [],
      "source": [
        "str(a)"
      ],
      "id": "a7147cfe-d365-4b1e-8c4d-c6b738692729"
    },
    {
      "cell_type": "code",
      "execution_count": 15,
      "metadata": {},
      "outputs": [],
      "source": [
        "a[a.find('U'):a.find('y')+1]"
      ],
      "id": "335324ce-7133-4192-9dcc-72274aae1f34"
    },
    {
      "cell_type": "markdown",
      "metadata": {},
      "source": [
        "hint: University는 10글자이다.\n",
        "\n",
        "`2`. 출력결과가 아래와 같도록 하는 코드를 작성하라. (lower 함수를 이용할\n",
        "것)"
      ],
      "id": "5511cbdc-53f1-4cdf-8f44-e3f7c8ac8f2e"
    },
    {
      "cell_type": "code",
      "execution_count": 17,
      "metadata": {},
      "outputs": [],
      "source": [
        "a.lower()"
      ],
      "id": "726b18c3-0145-452e-903a-173d69b15cbe"
    },
    {
      "cell_type": "markdown",
      "metadata": {},
      "source": [
        "`3`. 아래의 코드를 관찰하고 isupper()의 기능이 무엇인지 스스로\n",
        "정리해보라."
      ],
      "id": "0842b576-87de-477c-902f-5a5578846af8"
    },
    {
      "cell_type": "code",
      "execution_count": 18,
      "metadata": {},
      "outputs": [],
      "source": [
        "'A'.isupper()"
      ],
      "id": "05dd8c7c-bd64-4193-8db5-ab91f4bd1caa"
    },
    {
      "cell_type": "code",
      "execution_count": 19,
      "metadata": {},
      "outputs": [],
      "source": [
        "'AA'.isupper()"
      ],
      "id": "a84adb29-cdbd-449f-a4d5-277f2d4c0c4c"
    },
    {
      "cell_type": "code",
      "execution_count": 20,
      "metadata": {},
      "outputs": [],
      "source": [
        "'Aa'.isupper()"
      ],
      "id": "f13a5686-4369-411d-8b1f-ca251e9d57c0"
    },
    {
      "cell_type": "code",
      "execution_count": 21,
      "metadata": {},
      "outputs": [],
      "source": [
        "'aa'.isupper()"
      ],
      "id": "4b4a40bd-099c-4c22-99e0-93e078eea6b5"
    },
    {
      "cell_type": "code",
      "execution_count": 22,
      "metadata": {},
      "outputs": [],
      "source": [
        "'aA'.isupper()"
      ],
      "id": "87ce39e6-923f-4a6d-a1f3-46e5a203711f"
    },
    {
      "cell_type": "markdown",
      "metadata": {},
      "source": [
        "대문자인가 확인하는 코드!"
      ],
      "id": "5df9a3f9-0737-4c96-b913-f84f071a315d"
    },
    {
      "cell_type": "code",
      "execution_count": 23,
      "metadata": {},
      "outputs": [],
      "source": [
        "'aA'.islower()"
      ],
      "id": "e6858eca-a56f-47ee-87c1-e7991ee82dbf"
    },
    {
      "cell_type": "markdown",
      "metadata": {},
      "source": [
        "소문자인거 확인하는 코드!\n",
        "\n",
        "`4`. 다음중 실행 불가능한 코드를 모두 골라라.\n",
        "\n",
        "1.  ‘a’\\*2"
      ],
      "id": "8fb5f758-13f5-4c5c-aebc-b3f173aa75bf"
    },
    {
      "cell_type": "code",
      "execution_count": 31,
      "metadata": {},
      "outputs": [],
      "source": [
        "'a'*2"
      ],
      "id": "901de343-4f02-4c8d-b4af-7d4283b1acf1"
    },
    {
      "cell_type": "markdown",
      "metadata": {},
      "source": [
        "1.  ‘a’\\*‘2’"
      ],
      "id": "c8ad717f-bad7-42b3-8428-139e72416709"
    },
    {
      "cell_type": "code",
      "execution_count": 32,
      "metadata": {},
      "outputs": [],
      "source": [
        "'a'*'2'"
      ],
      "id": "7c4e335a-c7ed-4fff-a869-fe4651563aea"
    },
    {
      "cell_type": "markdown",
      "metadata": {},
      "source": [
        "1.  ‘a’+2"
      ],
      "id": "760c4493-dd7e-452a-b25b-5dfc1fdb45c7"
    },
    {
      "cell_type": "code",
      "execution_count": 33,
      "metadata": {},
      "outputs": [],
      "source": [
        "'a'+2"
      ],
      "id": "8de0f92f-1dfe-431b-870c-da5e5642b888"
    },
    {
      "cell_type": "markdown",
      "metadata": {},
      "source": [
        "1.  ‘a’+‘2’"
      ],
      "id": "e72762e1-ebb6-4105-8a49-55e274ea6fbf"
    },
    {
      "cell_type": "code",
      "execution_count": 34,
      "metadata": {},
      "outputs": [],
      "source": [
        "'a'+'2'"
      ],
      "id": "4361a776-5295-4da2-baf0-6c6d4cc03518"
    },
    {
      "cell_type": "markdown",
      "metadata": {},
      "source": [
        "# 2.\n",
        "\n",
        "HW 0315\n",
        "\n",
        "[02wk-2: 파이썬의 자료형\n",
        "(3)](https://guebin.github.io/PP2023/posts/01_PythonBasic/2023-03-15-2wk-2.html)\n",
        "\n",
        "`1`. 길이가 0인 리스트를 만들어라. (비어있는 리스트를 만들어라)\n",
        "\n",
        "(풀이1)"
      ],
      "id": "808040c7-cffd-4cef-b193-253c1f4a18ad"
    },
    {
      "cell_type": "code",
      "execution_count": 35,
      "metadata": {},
      "outputs": [],
      "source": [
        "[]"
      ],
      "id": "040fbc81-dd6e-4410-b7b6-d8ff91565120"
    },
    {
      "cell_type": "markdown",
      "metadata": {},
      "source": [
        "(풀이2)"
      ],
      "id": "21a95230-b9f0-4cc9-aaef-d8629f3a4daa"
    },
    {
      "cell_type": "code",
      "execution_count": 36,
      "metadata": {},
      "outputs": [],
      "source": [
        "list()"
      ],
      "id": "b38513de-d851-4c3f-81f4-a495738eed1d"
    },
    {
      "cell_type": "markdown",
      "metadata": {},
      "source": [
        "`2`. 다음의 실행값 중 가장 큰 숫자가 나오는 보기를 골라라. (에러가 나는\n",
        "코드는 정답에서 제외함)"
      ],
      "id": "b7544074-3fc2-43a7-9368-267fd97fc23a"
    },
    {
      "cell_type": "code",
      "execution_count": null,
      "metadata": {},
      "outputs": [],
      "source": [
        "(a) len(3.14) \n",
        "(b) len([3.14]) \n",
        "(c) len('3.14') "
      ],
      "id": "28f50fac-b753-4870-98a3-5f3c89d36c02"
    },
    {
      "cell_type": "code",
      "execution_count": 38,
      "metadata": {},
      "outputs": [],
      "source": [
        "len(3.14)"
      ],
      "id": "99fb7341-1bd5-41c8-959a-8893d4435195"
    },
    {
      "cell_type": "code",
      "execution_count": 58,
      "metadata": {},
      "outputs": [],
      "source": [
        "a = 3.14;a?"
      ],
      "id": "c49714ea-2aa8-4c58-90ef-f2d21a753f34"
    },
    {
      "cell_type": "code",
      "execution_count": 59,
      "metadata": {},
      "outputs": [],
      "source": [
        "a.is_integer()"
      ],
      "id": "cdfface5-680b-47c0-826c-5dbc0ba1cf7c"
    },
    {
      "cell_type": "code",
      "execution_count": 60,
      "metadata": {},
      "outputs": [],
      "source": [
        "len([3.14])"
      ],
      "id": "baa22330-5a4e-471a-a344-dd0869974ee3"
    },
    {
      "cell_type": "code",
      "execution_count": 61,
      "metadata": {},
      "outputs": [],
      "source": [
        "a = [3.14];a?"
      ],
      "id": "6d579427-9b74-4222-91f5-a2979a864339"
    },
    {
      "cell_type": "code",
      "execution_count": 62,
      "metadata": {},
      "outputs": [],
      "source": [
        "a.is_integer()"
      ],
      "id": "28e2c852-210e-4bfe-9543-df0b9d2aa299"
    },
    {
      "cell_type": "code",
      "execution_count": 63,
      "metadata": {},
      "outputs": [],
      "source": [
        "len('3.14') "
      ],
      "id": "32f50cd3-bfec-4ad1-bd00-3e9d38f6c867"
    },
    {
      "cell_type": "code",
      "execution_count": 64,
      "metadata": {},
      "outputs": [],
      "source": [
        "a = '3.14';a?"
      ],
      "id": "b4be516a-b56d-4bc5-ace7-5a60acb2592c"
    },
    {
      "cell_type": "code",
      "execution_count": 65,
      "metadata": {},
      "outputs": [],
      "source": [
        "a.is_integer()"
      ],
      "id": "6090121c-8f82-48e8-9967-98efd7afc892"
    },
    {
      "cell_type": "markdown",
      "metadata": {},
      "source": [
        "`3`. 아래의 예제를 관찰하라."
      ],
      "id": "4ba7aa8c-b907-488d-ba9a-71d153ebc250"
    },
    {
      "cell_type": "code",
      "execution_count": 66,
      "metadata": {},
      "outputs": [],
      "source": [
        "'제 이름은 {}입니다'.format('abc')"
      ],
      "id": "d0fc29a4-760f-4ebe-b6b2-ed475f929798"
    },
    {
      "cell_type": "code",
      "execution_count": 67,
      "metadata": {},
      "outputs": [],
      "source": [
        "'제 이름은 {}이고 사는곳은 {}입니다.'.format('abc','de')"
      ],
      "id": "9525067a-aefb-4586-acc3-4d9ad57e4008"
    },
    {
      "cell_type": "markdown",
      "metadata": {},
      "source": [
        "이 예제를 바탕으로 문자열에 포함된 .format()함수의 기능을 유추하라.\n",
        "그리고 아래의 결과를 확인하라.\n",
        "\n",
        "$\\to$ `.format`의 기능은 `{}`에 문자를 순서대로 넣어주는 역할."
      ],
      "id": "6392312b-9aa4-47b6-b1f4-b2750431aece"
    },
    {
      "cell_type": "code",
      "execution_count": 69,
      "metadata": {},
      "outputs": [],
      "source": [
        "string = '행사가 {}월{}일-{}월{}일 abc펜션에서 있다고 합니다. 자세한 일정 등은 다시 공지하겠습니다.' \n",
        "string.format(3,24,3,25)"
      ],
      "id": "f5903be4-079d-4718-9284-2de21526c848"
    },
    {
      "cell_type": "code",
      "execution_count": 71,
      "metadata": {},
      "outputs": [],
      "source": [
        "string.format(1,1,2,2)"
      ],
      "id": "d2d6bbc8-e473-4c1d-8ca0-81429bef1a1c"
    },
    {
      "cell_type": "markdown",
      "metadata": {},
      "source": [
        "`4`. 아래의 예제를 관찰하라."
      ],
      "id": "02430210-a395-4398-8efb-c1cd11af6962"
    },
    {
      "cell_type": "code",
      "execution_count": 72,
      "metadata": {},
      "outputs": [],
      "source": [
        "'abcdefg'.replace('g','u')"
      ],
      "id": "bfbc0161-6047-4feb-bf8d-75e8f345ffe5"
    },
    {
      "cell_type": "markdown",
      "metadata": {},
      "source": [
        "이 예제를 바탕으로 문자열의 .replace() 기능을 유추하라.\n",
        "\n",
        "$\\to$ `.replace`의 기능은 ’g’를 ’u’로 바꿔준다.\n",
        "\n",
        "`5`. 리스트자료형의 +와 \\* 연산을 이용하여 아래와 같은 list를 생성하라."
      ],
      "id": "00c3276e-8305-4511-97b5-74229d3f4db3"
    },
    {
      "cell_type": "code",
      "execution_count": 73,
      "metadata": {},
      "outputs": [],
      "source": [
        "[1, 2, 2, 3, 3, 3, 4, 4, 4, 4, 5, 5, 5, 5, 5]"
      ],
      "id": "1a600451-5c9f-4b15-a146-367be5b52aaf"
    },
    {
      "cell_type": "code",
      "execution_count": 76,
      "metadata": {},
      "outputs": [],
      "source": [
        "[1] + [2] * 2 + [3] * 3 + [4] * 4 + [5] * 5"
      ],
      "id": "0246f417-f895-4aaa-a0aa-6e47e03bf6e3"
    },
    {
      "cell_type": "markdown",
      "metadata": {},
      "source": [
        "hint: 아래의 코드를 관찰해보세요"
      ],
      "id": "4f49763d-e68e-474b-8ca4-a7b9aff3fdac"
    },
    {
      "cell_type": "code",
      "execution_count": 74,
      "metadata": {},
      "outputs": [],
      "source": [
        "[1]*1+[2]*2 "
      ],
      "id": "b00547c4-d1fb-4602-83ea-276e3fb9335e"
    },
    {
      "cell_type": "markdown",
      "metadata": {},
      "source": [
        "`6`. 넘파이를 이용하여 아래와 같은 결과가 나오도록 코드가 작성하라.\n",
        "\n",
        "$$\\begin{bmatrix}\n",
        "1 \\\\\n",
        "2 \n",
        "\\end{bmatrix} + \\begin{bmatrix}\n",
        "11 \\\\\n",
        "22 \n",
        "\\end{bmatrix} = \n",
        "\\begin{bmatrix}\n",
        "12 \\\\\n",
        "24\n",
        "\\end{bmatrix}$$"
      ],
      "id": "a666e1ff-f048-42d5-abaf-f22fdd530544"
    },
    {
      "cell_type": "code",
      "execution_count": 77,
      "metadata": {},
      "outputs": [],
      "source": [
        "import numpy as np"
      ],
      "id": "656530f0-bb65-44ff-8aff-191814763248"
    },
    {
      "cell_type": "code",
      "execution_count": 83,
      "metadata": {},
      "outputs": [],
      "source": [
        "np.array([1,2]) + np.array([11,22]) "
      ],
      "id": "4fbeac2d-8e46-4263-851f-1caffd9e752b"
    },
    {
      "cell_type": "code",
      "execution_count": 84,
      "metadata": {},
      "outputs": [],
      "source": [
        "np.array([[1],[2]]) + np.array([[11],[22]])"
      ],
      "id": "fd77a1c8-542d-4dc0-ae50-13ab0132fc09"
    },
    {
      "cell_type": "markdown",
      "metadata": {},
      "source": [
        "1.  아래와 같은 벡터가 있다고 하자.\n",
        "\n",
        "$$\\boldsymbol{a}=\n",
        "\\begin{bmatrix}\n",
        "12 \\\\\n",
        "24\n",
        "\\end{bmatrix}$$\n",
        "\n",
        "넘파이를 이용하여 아래의 결과가 나오게 하는 코드를 작성하라.\n",
        "\n",
        "$$2\\boldsymbol{a}=\n",
        "\\begin{bmatrix}\n",
        "24 \\\\\n",
        "48\n",
        "\\end{bmatrix}$$"
      ],
      "id": "e07f4ff2-7d64-4ba6-9f89-e3a3868804da"
    },
    {
      "cell_type": "code",
      "execution_count": 86,
      "metadata": {},
      "outputs": [],
      "source": [
        "2 * (np.array([[1],[2]]) + np.array([[11],[22]]))"
      ],
      "id": "9ed32d55-0bd8-4521-8872-f6e434c2badc"
    },
    {
      "cell_type": "code",
      "execution_count": 88,
      "metadata": {},
      "outputs": [],
      "source": [
        "2 * np.array([12, 24])"
      ],
      "id": "2a5d3c75-863a-417a-b06a-2f87332728fe"
    },
    {
      "cell_type": "code",
      "execution_count": 89,
      "metadata": {},
      "outputs": [],
      "source": [
        "2 * np.array([[12], [24]])"
      ],
      "id": "2c67da41-c3f0-43e9-acb3-0ba3c1db808b"
    },
    {
      "cell_type": "markdown",
      "metadata": {},
      "source": [
        "1.  \n",
        "\n",
        "HW 0320\n",
        "\n",
        "[03wk-1: 파이썬의 자료형\n",
        "(4)](https://guebin.github.io/PP2023/posts/01_PythonBasic/2023-03-20-3wk-1.html)"
      ],
      "id": "c77d9ab5-2b4b-4184-b7a3-196fb7444edb"
    }
  ],
  "nbformat": 4,
  "nbformat_minor": 5,
  "metadata": {
    "kernelspec": {
      "name": "python3",
      "display_name": "Python 3",
      "language": "python"
    },
    "language_info": {
      "name": "python",
      "codemirror_mode": {
        "name": "ipython",
        "version": "3"
      },
      "file_extension": ".py",
      "mimetype": "text/x-python",
      "nbconvert_exporter": "python",
      "pygments_lexer": "ipython3",
      "version": "3.8.0"
    }
  }
}