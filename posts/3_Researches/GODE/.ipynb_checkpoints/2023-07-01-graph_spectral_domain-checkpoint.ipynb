{
 "cells": [
  {
   "cell_type": "raw",
   "id": "82f5d0b0-d4a6-495c-ab76-970b96400c9e",
   "metadata": {
    "id": "cac470df-29e7-4148-9bbd-d8b9a32fa570",
    "tags": []
   },
   "source": [
    "---\n",
    "title: \"Graph and Spectral domain\"\n",
    "author: \"SEOYEON CHOI\"\n",
    "date: \"2023-07-01\"\n",
    "categories:\n",
    "  - Lebesgue decomposition theorem\n",
    "---"
   ]
  },
  {
   "cell_type": "markdown",
   "id": "22e99e08-7bb0-4485-886e-9986d4519fd7",
   "metadata": {},
   "source": [
    "> Graph domain에서 Spectral domain으로, 아니면 그 반대로"
   ]
  },
  {
   "cell_type": "markdown",
   "id": "24e73d17-764b-4329-800f-ab95dbd9f43f",
   "metadata": {},
   "source": [
    "# graph Lebesgue decomposition theorem"
   ]
  },
  {
   "cell_type": "markdown",
   "id": "45344632-a889-456d-a9a2-a3a54b9a8a6d",
   "metadata": {},
   "source": [
    "$$F = F_{ac} + F_{sc} + F_{pp}$$"
   ]
  },
  {
   "cell_type": "markdown",
   "id": "065ba8f6-7252-4d5c-a76b-974cc78963cb",
   "metadata": {},
   "source": [
    "- $F$가 미분 가능하다는 말은 $p$^[periodogram]이 존재하다는 말이 된다. 즉, $F = p$\n",
    "- $y$가 weakly stationary하다 $\\to$ $p$가 존재한다. $\\to$ $F$가 미분가능하다. $\\to$ $F_{sc} = 0$이다.\n",
    "- Wold representation theorem^[time domain에서만 정의된]에 따라 임의의 시계열 $y_t$는 deterministic term(predictable term)^[결정적 성분]과 stocastic term^[확률적 성분]으로 나눌 수 있고, 이 때 stocastic term은 무한 차수의 MA로 나타낼 수 있다.\n",
    "    - 연구에서 $V^H y_t = V^H \\text{결정적 성분} + V^H \\text{확률적 성분}$\n",
    "    - 확률적 성분을 무한차수의 MA는 GFT하면 $p_{ac}$가 나온다.^[이미 알려진 사실..]"
   ]
  },
  {
   "cell_type": "markdown",
   "id": "a2994be1-80e0-4134-a55e-f7ddbd14f570",
   "metadata": {},
   "source": [
    "$$p = p_{ac} + p_{pp}$$"
   ]
  },
  {
   "cell_type": "markdown",
   "id": "654e308f-7464-4111-a3f8-8c18b3893dcb",
   "metadata": {},
   "source": [
    "$F$가 증가함수 일때, $F_{sc}$는 라돈니코딤 도함수(미분)에 의해 $F_{sc}$이 없어진다.^[0이 되기 때문에]"
   ]
  },
  {
   "cell_type": "markdown",
   "id": "baa85a0c-c588-482e-b73c-ad17e7029bca",
   "metadata": {},
   "source": [
    "# Appendix 1 [르벡분해정리](https://guebin.github.io/AP2023/posts/II.%20%ED%99%95%EB%A5%A0%EB%A1%A0%EA%B8%B0%EC%B4%88/2023-06-06-14wk.html#%EB%A5%B4%EB%B2%A1%EB%B6%84%ED%95%B4%EC%A0%95%EB%A6%AC)"
   ]
  },
  {
   "cell_type": "markdown",
   "id": "5e12448a-a88f-44c5-8d49-83255b55e265",
   "metadata": {},
   "source": [
    "`-` **Thm**: 분포함수의 정의^[증가함수]를 만족하는 임의의 $F$는 항상 아래와 같이 분해가능하다.\n",
    "\n",
    "$$F = F_{ac}+F_{pp}+F_{sing}$$"
   ]
  },
  {
   "cell_type": "markdown",
   "id": "d3d05e4b-93df-464b-8805-44b540555ded",
   "metadata": {},
   "source": [
    "여기에서 $F_{ac}$는 르벡메져에 대하여 절대연속이고 $F_{pp}$는 카운팅메져에 대하여 절대연속이다. 따라서 $F_{ac}$와 $F_{pp}$는 각각 르벡메져와 카운팅메져에 대응하는 밀도함수가 존재한다. $F_{sing}$는 칸토어분포와 같이 밀도함수가 존재하지 않는 경우이다. "
   ]
  },
  {
   "cell_type": "markdown",
   "id": "668757b9-7061-452b-8c9b-d6d819df348a",
   "metadata": {},
   "source": [
    "> 여기에서 $ac$는 absolutely continuous 의 약자이고, $pp$ pure point 의 약자이며 $sing$은 singular continuous 약자이다."
   ]
  },
  {
   "cell_type": "markdown",
   "id": "00b8cacf-aa59-4b61-b367-6a230ebb31db",
   "metadata": {},
   "source": [
    "`-` 의미: $F_{ac}$는 우리가 일반적으로 생각하는 singular하지 않은 연속함수를 상상하면 된다.^[칸토어처럼 이상한 연속함수 말고 상식적인 수준의 연속함수라는 의미] $F_{pp}$는 완벽한 불연속이며 오직 jump를 통해서만 증가하는 함수라 생각하면 된다. 즉 우리가 익숙한 이산형확률변수의 cdf를 상상하면 된다. "
   ]
  },
  {
   "cell_type": "markdown",
   "id": "36c8661d-d138-4f74-82f0-4761ff369c24",
   "metadata": {},
   "source": [
    "`-` 이론: $F_{pp}$는 기껏해야 countable한 불연속점을 가진다. (jump 하는 point는 countable이라는 의미, 결국 이산형확률변수의 support는 countable이라는 의미)"
   ]
  },
  {
   "cell_type": "markdown",
   "id": "c2483bdd-f416-435a-9420-2f9b75c4f5fb",
   "metadata": {},
   "source": [
    "`-` 이론: 분포함수 정의를 만족하는 임의의 $F$가 아래와 같다면 \n",
    "\n",
    "$$F=F_{ac}$$\n",
    "\n",
    "$F$에 대응하는 연속형 확률변수 $X$가 존재하고 그에 대응하는 pdf가 존재한다. "
   ]
  },
  {
   "cell_type": "markdown",
   "id": "f3fbe1f7-c65e-4cc3-a0a9-8ddb3bdc4dbe",
   "metadata": {},
   "source": [
    "`-` 이론: 분포함수 정의를 만족하는 임의의 $F$가 아래와 같다면 \n",
    "\n",
    "$$F=F_{pp}$$\n",
    "\n",
    "$F$에 대응하는 이산형 확률변수 $X$가 존재하고 그에 대응하는 (일반화된) pdf 혹은 pmf가 존재한다. "
   ]
  },
  {
   "cell_type": "markdown",
   "id": "2bd5f1eb-a42a-40d0-8b06-5d1f1f95f241",
   "metadata": {},
   "source": [
    "`-` 이론: 분포함수 정의를 만족하는 임의의 $F$가 아래와 같다면 \n",
    "\n",
    "$$F=F_{ac}+F_{pp}$$\n",
    "\n",
    "$F$에 대응하는 혼합형 확률변수 $X$가 존재하고 그에 대응하는 (일반화된) pdf가 존재한다. "
   ]
  },
  {
   "cell_type": "markdown",
   "id": "172bef7b-72ee-463d-9db0-5d07c3ccf315",
   "metadata": {},
   "source": [
    "# Appendix 2 [라돈니코딤 정리](https://guebin.github.io/AP2023/posts/II.%20%ED%99%95%EB%A5%A0%EB%A1%A0%EA%B8%B0%EC%B4%88/2023-05-30-13wk.html)"
   ]
  },
  {
   "cell_type": "markdown",
   "id": "88861455-a881-4df2-a92f-cf4e8ab97f78",
   "metadata": {},
   "source": [
    "`-` **이론**: 분포함수 $F_X:\\mathbb{R} \\to [0,1]$가 (르벡메져에 대하여) 절대연속이라면 아래를 만족하는 함수 $f_X:\\mathbb{R} \\to \\mathbb{R}^+$가 존재한다. \n",
    "\n",
    "$$F_X = \\int_{(-\\infty,x]}f_Xd\\lambda$$ "
   ]
  },
  {
   "cell_type": "markdown",
   "id": "efb5f1ab-ae7c-47bd-aa2c-5afacaadd728",
   "metadata": {},
   "source": [
    "여기에서 함수 $f_X$를 $F_X$의 밀도함수 (density function) 이라고 한다. 일반적으로 밀도함수 $f_X$는 유일하지 않지만, 르벡측도로 재었을때 0인 집합을 제외한 부분에서는 유일하게 결정된다. (요약: 분포함수 $F_X$가 절대연속이면 밀도함수 $f_X$가 존재하고, ***거의*** 유일함) "
   ]
  },
  {
   "cell_type": "markdown",
   "id": "4669011e-b3d0-494b-b7b2-b560adb32538",
   "metadata": {},
   "source": [
    "> 위에서 \"르벡측도로 재었을때 0인 집합을 제외한 부분에서는 유일하게 결정된다\"라는 부분은 \"르벡메져 $\\lambda$에 대하여 ***거의 유일하다***\" 라고 이해해도 무방. 엄밀하게 쓰면 \"분포함수 $F_X$가 있다면 밀도함수의 정의하는 만족하는 함수가 반드시 하나는 존재한다. 만약에 두 함수 $f$와 $g$가 모두 밀도함수의 정의를 만족한다면 '$f=g$ ***a.e. with respect to*** $\\lambda$' 가 성립한다.\" 와 같은 식으로 쓸 수 있음. "
   ]
  },
  {
   "cell_type": "markdown",
   "id": "890178d0-e6b6-41a2-9083-aa031e7acb43",
   "metadata": {},
   "source": [
    "> 위에서 $f$의 공역이 $\\mathbb{R}^+$인 이유는 $F_X$가 증가함수라서.."
   ]
  },
  {
   "cell_type": "markdown",
   "id": "d0944c4b-c5f7-421c-b5ba-9529505d371f",
   "metadata": {},
   "source": [
    "`-` **Thm** (라돈니코딤 정리)[@durrett2019probability, Thm A.4.8.]: 가측공간 $(S,{\\cal S})$를 고려하자. 그리고 $\\mu$와 $\\lambda$가 $(S,{\\cal S})$에서의 $\\sigma$-finite measure 라고 하자. 만약에 $\\mu << \\lambda$ 이라면 아래를 만족하는 가측함수 $f:(S,{\\cal S}) \\to (\\mathbb{R}^+,{\\cal R}^+)$가 **거의 유일하게 (w.r.t. $\\lambda$)** 존재한다. \n",
    "\n",
    "$$\\forall B \\in {\\cal S}:~ \\mu(B) = \\int_B f d\\lambda.$$\n",
    "\n",
    "여기에서 $f$를 ***Radon-Nikodym derivative of $\\mu$ w.r.t. $\\lambda$*** 라고 하며, 이러한 의미에서 $f=\\frac{d\\mu}{d\\lambda}$와 같이 표현하기도 한다."
   ]
  }
 ],
 "metadata": {
  "kernelspec": {
   "display_name": "Python 3",
   "language": "python",
   "name": "python3"
  },
  "language_info": {
   "codemirror_mode": {
    "name": "ipython",
    "version": 3
   },
   "file_extension": ".py",
   "mimetype": "text/x-python",
   "name": "python",
   "nbconvert_exporter": "python",
   "pygments_lexer": "ipython3",
   "version": "3.8.0"
  }
 },
 "nbformat": 4,
 "nbformat_minor": 5
}
