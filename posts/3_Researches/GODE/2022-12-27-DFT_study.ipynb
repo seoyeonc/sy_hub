{
 "cells": [
  {
   "cell_type": "raw",
   "id": "a2ee67f0-e130-4d08-be55-6c82a06f80af",
   "metadata": {
    "id": "cac470df-29e7-4148-9bbd-d8b9a32fa570",
    "tags": []
   },
   "source": [
    "---\n",
    "title: \"Discrete Fourier Transform\"\n",
    "author: \"SEOYEON CHOI\"\n",
    "date: \"2022-12-27\"\n",
    "categories:\n",
    "  - DFT\n",
    "---"
   ]
  },
  {
   "cell_type": "markdown",
   "id": "be4366a4-98a1-40b6-bb35-600c0bbf533b",
   "metadata": {},
   "source": [
    "> DFT\n"
   ]
  },
  {
   "cell_type": "markdown",
   "id": "bbcccbd5-fe4e-4741-a145-2f2be5f87124",
   "metadata": {},
   "source": [
    "https://miruetoto.quarto.pub/yechan/posts/CGSP/2022-12-24-CGSP-Chap-8-3-DFT.html#fnref1"
   ]
  },
  {
   "cell_type": "markdown",
   "id": "27136724-43cb-4d47-a998-1c17a6e8e577",
   "metadata": {},
   "source": [
    "https://miruetoto.github.io/yechan/%EB%B2%A0%EC%9D%B4%EC%A7%80%EC%95%88/2019/11/24/(%EB%85%B8%ED%8A%B8)-%EB%B2%A0%EC%9D%B4%EC%A7%80%EC%95%88-%EC%B6%94%EB%A1%A0-%EB%B2%A0%EC%9D%B4%EC%A7%80%EC%95%88.html"
   ]
  },
  {
   "cell_type": "markdown",
   "id": "39aada73-2eec-4e3c-a044-2bf8d539b51e",
   "metadata": {
    "tags": []
   },
   "source": [
    "## import"
   ]
  },
  {
   "cell_type": "code",
   "execution_count": 12,
   "id": "ef1ffa73-8988-4f08-8f59-05447cb78e09",
   "metadata": {},
   "outputs": [],
   "source": [
    "import numpy as np"
   ]
  },
  {
   "cell_type": "markdown",
   "id": "ac9e96ee-1289-4159-86fc-7a2a1c79962e",
   "metadata": {},
   "source": [
    "### Forward operator A"
   ]
  },
  {
   "cell_type": "code",
   "execution_count": 15,
   "id": "9432d1b9-f84a-4c8d-9aac-1dbc206b0d78",
   "metadata": {},
   "outputs": [
    {
     "data": {
      "text/plain": [
       "array([[0, 0, 0, 0, 1],\n",
       "       [1, 0, 0, 0, 0],\n",
       "       [0, 1, 0, 0, 0],\n",
       "       [0, 0, 1, 0, 0],\n",
       "       [0, 0, 0, 1, 0]])"
      ]
     },
     "execution_count": 15,
     "metadata": {},
     "output_type": "execute_result"
    }
   ],
   "source": [
    "A = np.array([[0, 0, 0, 0, 1],\n",
    "    [1, 0, 0, 0, 0],\n",
    "    [0, 1, 0, 0, 0],\n",
    "    [0, 0, 1, 0, 0],\n",
    "    [0, 0, 0, 1, 0]])\n",
    "A"
   ]
  },
  {
   "cell_type": "code",
   "execution_count": 21,
   "id": "7711c6d6-bda6-4895-a5fd-cefbcc0edf84",
   "metadata": {},
   "outputs": [
    {
     "data": {
      "text/plain": [
       "array([[1, 0, 0, 0, 0],\n",
       "       [0, 1, 0, 0, 0],\n",
       "       [0, 0, 1, 0, 0],\n",
       "       [0, 0, 0, 1, 0],\n",
       "       [0, 0, 0, 0, 1]])"
      ]
     },
     "execution_count": 21,
     "metadata": {},
     "output_type": "execute_result"
    }
   ],
   "source": [
    "np.transpose(A)@A"
   ]
  },
  {
   "cell_type": "markdown",
   "id": "9a1731c1-f30a-4ad8-935a-25434589298a",
   "metadata": {},
   "source": [
    "> note: A is orthogonal matrix"
   ]
  },
  {
   "cell_type": "code",
   "execution_count": 23,
   "id": "2de70c99-ffc1-4a69-8e7b-818041b2383e",
   "metadata": {},
   "outputs": [
    {
     "data": {
      "text/plain": [
       "array([[    1],\n",
       "       [   22],\n",
       "       [  333],\n",
       "       [ 4444],\n",
       "       [55555]])"
      ]
     },
     "execution_count": 23,
     "metadata": {},
     "output_type": "execute_result"
    }
   ],
   "source": [
    "s = np.array([[1],[22],[333],[4444],[55555]])\n",
    "s"
   ]
  },
  {
   "cell_type": "code",
   "execution_count": 31,
   "id": "8ecaa59e-d69c-4240-8546-8b4bb3176836",
   "metadata": {},
   "outputs": [
    {
     "data": {
      "text/plain": [
       "array([[55555],\n",
       "       [    1],\n",
       "       [   22],\n",
       "       [  333],\n",
       "       [ 4444]])"
      ]
     },
     "execution_count": 31,
     "metadata": {},
     "output_type": "execute_result"
    }
   ],
   "source": [
    "A@s"
   ]
  },
  {
   "cell_type": "code",
   "execution_count": 33,
   "id": "6c0cfe8a-59ee-4d67-88b0-915a89e7e51e",
   "metadata": {},
   "outputs": [
    {
     "data": {
      "text/plain": [
       "array([[ 4444],\n",
       "       [55555],\n",
       "       [    1],\n",
       "       [   22],\n",
       "       [  333]])"
      ]
     },
     "execution_count": 33,
     "metadata": {},
     "output_type": "execute_result"
    }
   ],
   "source": [
    "A@A@s"
   ]
  },
  {
   "cell_type": "code",
   "execution_count": 34,
   "id": "d91641a9-c957-48e6-ad52-6d5b0c5085c0",
   "metadata": {},
   "outputs": [
    {
     "data": {
      "text/plain": [
       "array([[  333],\n",
       "       [ 4444],\n",
       "       [55555],\n",
       "       [    1],\n",
       "       [   22]])"
      ]
     },
     "execution_count": 34,
     "metadata": {},
     "output_type": "execute_result"
    }
   ],
   "source": [
    "A@A@A@s"
   ]
  },
  {
   "cell_type": "markdown",
   "id": "23858885-e104-45c3-843b-413c2ef379ef",
   "metadata": {},
   "source": [
    "> note : thus A is a forward operator,A* is a backward operator."
   ]
  },
  {
   "cell_type": "markdown",
   "id": "a5687b84-195a-4eda-95aa-fe9461d15c6d",
   "metadata": {},
   "source": [
    "### DFT"
   ]
  },
  {
   "cell_type": "markdown",
   "id": "f8b21c06-006f-45be-a370-7caf73947d9d",
   "metadata": {},
   "source": [
    "$A = DFT^* \\Lambda DFT$"
   ]
  },
  {
   "cell_type": "code",
   "execution_count": 38,
   "id": "b69565b1-14d9-4142-af34-fe48d8fe3eaa",
   "metadata": {},
   "outputs": [
    {
     "data": {
      "text/plain": [
       "(array([-0.80901699+0.58778525j, -0.80901699-0.58778525j,\n",
       "         0.30901699+0.95105652j,  0.30901699-0.95105652j,\n",
       "         1.        +0.j        ]),\n",
       " array([[-0.3618034+0.26286556j, -0.3618034-0.26286556j,\n",
       "         -0.3618034-0.26286556j, -0.3618034+0.26286556j,\n",
       "          0.4472136+0.j        ],\n",
       "        [ 0.4472136+0.j        ,  0.4472136-0.j        ,\n",
       "         -0.3618034+0.26286556j, -0.3618034-0.26286556j,\n",
       "          0.4472136+0.j        ],\n",
       "        [-0.3618034-0.26286556j, -0.3618034+0.26286556j,\n",
       "          0.1381966+0.4253254j ,  0.1381966-0.4253254j ,\n",
       "          0.4472136+0.j        ],\n",
       "        [ 0.1381966+0.4253254j ,  0.1381966-0.4253254j ,\n",
       "          0.4472136+0.j        ,  0.4472136-0.j        ,\n",
       "          0.4472136+0.j        ],\n",
       "        [ 0.1381966-0.4253254j ,  0.1381966+0.4253254j ,\n",
       "          0.1381966-0.4253254j ,  0.1381966+0.4253254j ,\n",
       "          0.4472136+0.j        ]]))"
      ]
     },
     "execution_count": 38,
     "metadata": {},
     "output_type": "execute_result"
    }
   ],
   "source": [
    "λ, ψ = np.linalg.eig(A)\n",
    "λ, ψ"
   ]
  },
  {
   "cell_type": "code",
   "execution_count": 43,
   "id": "0021f57f-0daf-4cb7-8220-6d6e611b8c54",
   "metadata": {},
   "outputs": [
    {
     "data": {
      "text/plain": [
       "((5,), (5, 5))"
      ]
     },
     "execution_count": 43,
     "metadata": {},
     "output_type": "execute_result"
    }
   ],
   "source": [
    "λ.shape, ψ.shape"
   ]
  },
  {
   "cell_type": "code",
   "execution_count": 98,
   "id": "83732460-fa67-477e-8c65-08ea0e26b534",
   "metadata": {},
   "outputs": [
    {
     "data": {
      "text/plain": [
       "array([[0, 0, 0, 0, 1],\n",
       "       [1, 0, 0, 0, 0],\n",
       "       [0, 1, 0, 0, 0],\n",
       "       [0, 0, 1, 0, 0],\n",
       "       [0, 0, 0, 1, 0]])"
      ]
     },
     "execution_count": 98,
     "metadata": {},
     "output_type": "execute_result"
    }
   ],
   "source": [
    "A "
   ]
  },
  {
   "cell_type": "code",
   "execution_count": 101,
   "id": "a777b006-ef00-451b-914b-e22495faff03",
   "metadata": {},
   "outputs": [
    {
     "data": {
      "text/plain": [
       "array([[-0.  +0.j,  0.45+0.j,  0.28+0.j,  0.72+0.j, -0.45+0.j],\n",
       "       [ 0.45+0.j,  0.28+0.j,  0.72+0.j, -0.45+0.j, -0.  +0.j],\n",
       "       [ 0.28+0.j,  0.72+0.j, -0.45+0.j,  0.  +0.j,  0.45+0.j],\n",
       "       [ 0.72+0.j, -0.45+0.j,  0.  +0.j,  0.45+0.j,  0.28+0.j],\n",
       "       [-0.45+0.j, -0.  +0.j,  0.45+0.j,  0.28+0.j,  0.72+0.j]])"
      ]
     },
     "execution_count": 101,
     "metadata": {},
     "output_type": "execute_result"
    }
   ],
   "source": [
    "(ψ @ np.diag(λ) @ ψ.transpose()).round(2)"
   ]
  },
  {
   "cell_type": "markdown",
   "id": "6a00e56d-1eaf-4d8d-80d5-77b848735b74",
   "metadata": {},
   "source": [
    "?"
   ]
  },
  {
   "cell_type": "markdown",
   "id": "d48930d6-c396-4005-af2c-c8270317872a",
   "metadata": {},
   "source": [
    "define $\\psi^* = DFT$"
   ]
  },
  {
   "cell_type": "code",
   "execution_count": 76,
   "id": "d131d30d-c1fd-4418-83d2-212afd7b25de",
   "metadata": {},
   "outputs": [
    {
     "data": {
      "text/plain": [
       "array([[-0.3618034+0.26286556j,  0.4472136+0.j        ,\n",
       "        -0.3618034-0.26286556j,  0.1381966+0.4253254j ,\n",
       "         0.1381966-0.4253254j ],\n",
       "       [-0.3618034-0.26286556j,  0.4472136-0.j        ,\n",
       "        -0.3618034+0.26286556j,  0.1381966-0.4253254j ,\n",
       "         0.1381966+0.4253254j ],\n",
       "       [-0.3618034-0.26286556j, -0.3618034+0.26286556j,\n",
       "         0.1381966+0.4253254j ,  0.4472136+0.j        ,\n",
       "         0.1381966-0.4253254j ],\n",
       "       [-0.3618034+0.26286556j, -0.3618034-0.26286556j,\n",
       "         0.1381966-0.4253254j ,  0.4472136-0.j        ,\n",
       "         0.1381966+0.4253254j ],\n",
       "       [ 0.4472136+0.j        ,  0.4472136+0.j        ,\n",
       "         0.4472136+0.j        ,  0.4472136+0.j        ,\n",
       "         0.4472136+0.j        ]])"
      ]
     },
     "execution_count": 76,
     "metadata": {},
     "output_type": "execute_result"
    }
   ],
   "source": [
    "DFT = np.transpose(ψ)\n",
    "DFT"
   ]
  },
  {
   "cell_type": "code",
   "execution_count": 89,
   "id": "286b5586-6888-48d6-90e8-eee218493500",
   "metadata": {},
   "outputs": [
    {
     "data": {
      "text/plain": [
       "(0.30901699437494734-0.9510565162951535j)"
      ]
     },
     "execution_count": 89,
     "metadata": {},
     "output_type": "execute_result"
    }
   ],
   "source": [
    "λ[3,]"
   ]
  },
  {
   "cell_type": "code",
   "execution_count": 92,
   "id": "70903d30-a2cf-4fb6-b332-c11de6953969",
   "metadata": {},
   "outputs": [
    {
     "data": {
      "text/plain": [
       "array([1, 2, 3, 4])"
      ]
     },
     "execution_count": 92,
     "metadata": {},
     "output_type": "execute_result"
    }
   ],
   "source": [
    "a=np.array([1,2,3,4])\n",
    "np.diag(np.diag(a))"
   ]
  },
  {
   "cell_type": "code",
   "execution_count": 94,
   "id": "592e27e9-1ba8-41c6-8093-432e123f1649",
   "metadata": {},
   "outputs": [
    {
     "data": {
      "text/plain": [
       "array([-0.80901699+0.58778525j, -0.80901699-0.58778525j,\n",
       "        0.30901699+0.95105652j,  0.30901699-0.95105652j,\n",
       "        1.        +0.j        ])"
      ]
     },
     "execution_count": 94,
     "metadata": {},
     "output_type": "execute_result"
    }
   ],
   "source": [
    "λ"
   ]
  },
  {
   "cell_type": "code",
   "execution_count": 106,
   "id": "3d93ee52-743d-48c5-bd45-501a08390230",
   "metadata": {},
   "outputs": [
    {
     "data": {
      "text/plain": [
       "matrix([[-0.+0.j,  0.+0.j, -0.+0.j,  0.+0.j,  1.+0.j],\n",
       "        [ 1.+0.j, -0.+0.j,  0.+0.j, -0.+0.j, -0.+0.j],\n",
       "        [-0.+0.j,  1.+0.j, -0.+0.j,  0.+0.j,  0.+0.j],\n",
       "        [ 0.+0.j, -0.+0.j,  1.+0.j,  0.+0.j, -0.+0.j],\n",
       "        [-0.+0.j, -0.+0.j,  0.+0.j,  1.+0.j, -0.+0.j]])"
      ]
     },
     "execution_count": 106,
     "metadata": {},
     "output_type": "execute_result"
    }
   ],
   "source": [
    "(np.matrix(ψ)@np.matrix(np.diag(λ))@np.matrix(ψ).H).round(3)"
   ]
  },
  {
   "cell_type": "code",
   "execution_count": 109,
   "id": "11348534-3535-42d8-b9df-e3aae7cabbf7",
   "metadata": {},
   "outputs": [
    {
     "data": {
      "text/plain": [
       "matrix([[-0.3618034-0.26286556j,  0.4472136-0.j        ,\n",
       "         -0.3618034+0.26286556j,  0.1381966-0.4253254j ,\n",
       "          0.1381966+0.4253254j ],\n",
       "        [-0.3618034+0.26286556j,  0.4472136+0.j        ,\n",
       "         -0.3618034-0.26286556j,  0.1381966+0.4253254j ,\n",
       "          0.1381966-0.4253254j ],\n",
       "        [-0.3618034+0.26286556j, -0.3618034-0.26286556j,\n",
       "          0.1381966-0.4253254j ,  0.4472136-0.j        ,\n",
       "          0.1381966+0.4253254j ],\n",
       "        [-0.3618034-0.26286556j, -0.3618034+0.26286556j,\n",
       "          0.1381966+0.4253254j ,  0.4472136+0.j        ,\n",
       "          0.1381966-0.4253254j ],\n",
       "        [ 0.4472136-0.j        ,  0.4472136-0.j        ,\n",
       "          0.4472136-0.j        ,  0.4472136-0.j        ,\n",
       "          0.4472136-0.j        ]])"
      ]
     },
     "execution_count": 109,
     "metadata": {},
     "output_type": "execute_result"
    }
   ],
   "source": [
    "np.matrix(ψ).H"
   ]
  },
  {
   "cell_type": "markdown",
   "id": "e338b354-8436-4ac9-aa1e-5ed0ddc735d4",
   "metadata": {},
   "source": [
    "### Spectral components and Frequencies"
   ]
  },
  {
   "cell_type": "code",
   "execution_count": null,
   "id": "b705c7b0-3fac-4fe5-a30f-ecde3ae1b770",
   "metadata": {},
   "outputs": [],
   "source": []
  },
  {
   "cell_type": "markdown",
   "id": "1b977bf9-d384-4aa2-b246-b2c76df84881",
   "metadata": {},
   "source": [
    "$$\\{ 1,\\psi_1, \\psi_2, \\psi_3,\\dots, \\psi_{N-1} \\}$$"
   ]
  },
  {
   "cell_type": "markdown",
   "id": "38d84393-e7ff-4b46-a5a6-506e6ed7783b",
   "metadata": {},
   "source": [
    "These vectors are called spectral components."
   ]
  },
  {
   "cell_type": "markdown",
   "id": "233193fe-5427-409f-b540-a99518eb0a27",
   "metadata": {},
   "source": [
    "In Physics and in operator theory, these eigenvalues are the frequencies of the signal.\n",
    "\n",
    "Eigenvalues of $A$"
   ]
  },
  {
   "cell_type": "code",
   "execution_count": null,
   "id": "57e77e8b-c724-4324-9cab-85262a9c93d2",
   "metadata": {},
   "outputs": [],
   "source": []
  }
 ],
 "metadata": {
  "kernelspec": {
   "display_name": "Python 3 (ipykernel)",
   "language": "python",
   "name": "python3"
  },
  "language_info": {
   "codemirror_mode": {
    "name": "ipython",
    "version": 3
   },
   "file_extension": ".py",
   "mimetype": "text/x-python",
   "name": "python",
   "nbconvert_exporter": "python",
   "pygments_lexer": "ipython3",
   "version": "3.8.12"
  }
 },
 "nbformat": 4,
 "nbformat_minor": 5
}
