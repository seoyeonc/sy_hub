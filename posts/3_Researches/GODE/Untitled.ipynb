{
 "cells": [
  {
   "cell_type": "code",
   "execution_count": 72,
   "id": "e310dc7c-c930-40ff-930c-ee0e3eabc5d5",
   "metadata": {},
   "outputs": [],
   "source": [
    "import numpy as np"
   ]
  },
  {
   "cell_type": "code",
   "execution_count": 2,
   "id": "f798edf2-844c-4c6f-930e-85088d28e3a8",
   "metadata": {},
   "outputs": [],
   "source": [
    "a=10\n",
    "b=20\n",
    "n=200"
   ]
  },
  {
   "cell_type": "code",
   "execution_count": 66,
   "id": "d1d30b28-fb6e-45c6-acf9-2783b9dbf14f",
   "metadata": {},
   "outputs": [],
   "source": [
    "arr1 = np.array([a+(b-a)/(n-1) * (i-1) for i in range(1,n+1)])"
   ]
  },
  {
   "cell_type": "markdown",
   "id": "22730ca5-f215-4cf8-90c2-8e9dcb27c2e4",
   "metadata": {},
   "source": [
    "$$a+\\frac{(b-a)i}{n-1}$$ for $i=1,2,3,\\dots, n$"
   ]
  },
  {
   "cell_type": "code",
   "execution_count": 67,
   "id": "13af36de-3a0f-4980-a354-7a95483d845e",
   "metadata": {},
   "outputs": [],
   "source": [
    "arr2 = np.linspace(a,b,n)"
   ]
  },
  {
   "cell_type": "code",
   "execution_count": 68,
   "id": "ef2cc08f-2d4f-4d4e-b380-07526cd3bbbc",
   "metadata": {},
   "outputs": [
    {
     "data": {
      "text/plain": [
       "array([10.        , 10.05025126, 10.10050251, 10.15075377, 10.20100503])"
      ]
     },
     "execution_count": 68,
     "metadata": {},
     "output_type": "execute_result"
    }
   ],
   "source": [
    "arr1[:5]"
   ]
  },
  {
   "cell_type": "code",
   "execution_count": 69,
   "id": "1fb3d147-273e-4ebf-972a-229241346d5f",
   "metadata": {},
   "outputs": [
    {
     "data": {
      "text/plain": [
       "array([10.        , 10.05025126, 10.10050251, 10.15075377, 10.20100503])"
      ]
     },
     "execution_count": 69,
     "metadata": {},
     "output_type": "execute_result"
    }
   ],
   "source": [
    "arr2[:5]"
   ]
  }
 ],
 "metadata": {
  "kernelspec": {
   "display_name": "Python 3 (ipykernel)",
   "language": "python",
   "name": "python3"
  },
  "language_info": {
   "codemirror_mode": {
    "name": "ipython",
    "version": 3
   },
   "file_extension": ".py",
   "mimetype": "text/x-python",
   "name": "python",
   "nbconvert_exporter": "python",
   "pygments_lexer": "ipython3",
   "version": "3.8.12"
  }
 },
 "nbformat": 4,
 "nbformat_minor": 5
}
