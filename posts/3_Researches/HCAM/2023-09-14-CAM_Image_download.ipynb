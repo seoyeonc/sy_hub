{
 "cells": [
  {
   "cell_type": "raw",
   "id": "b8a18c36-7705-4cf3-a9a5-358a4a93c041",
   "metadata": {
    "id": "cac470df-29e7-4148-9bbd-d8b9a32fa570",
    "tags": []
   },
   "source": [
    "---\n",
    "title: \"**[CAM]**Image Download\"\n",
    "author: \"SEOYEON CHOI\"\n",
    "date: \"2023-09-14\"\n",
    "categories:\n",
    "  - CAM\n",
    "---"
   ]
  },
  {
   "cell_type": "markdown",
   "id": "59fd2c1b-3d3f-4114-ad2d-75cdb068f397",
   "metadata": {},
   "source": [
    "https://seoyeonc.github.io/chch/cnn/feature%20extraction/big%20data%20analysis/2022/01/11/bd_9주차.html"
   ]
  },
  {
   "cell_type": "markdown",
   "id": "8d7d86f6-a5c9-4aef-90bb-a5514b9b4b47",
   "metadata": {},
   "source": [
    "https://seoyeonc.github.io/chch/cam/2022/01/10/bd-8주차_1.html"
   ]
  },
  {
   "cell_type": "markdown",
   "id": "7d83b071-7964-4407-ab86-95162852c56e",
   "metadata": {},
   "source": [
    "# import"
   ]
  },
  {
   "cell_type": "code",
   "execution_count": 1,
   "id": "52b518da-7b1f-47c3-b5af-c578ca1a7ae2",
   "metadata": {},
   "outputs": [],
   "source": [
    "import torch \n",
    "from fastai.vision.all import *\n",
    "import cv2\n",
    "import numpy as np\n",
    "import os\n",
    "os.environ['CUDA_LAUNCH_BLOCKING'] = \"1\"\n",
    "os.environ[\"CUDA_VISIBLE_DEVICES\"] = \"0\"\n",
    "import cv2\n",
    "import numpy as np\n",
    "import matplotlib.pyplot as plt\n",
    "from PIL import ImageDraw\n",
    "from PIL import ImageFont\n",
    "from PIL import ImageFile\n",
    "from PIL import Image\n",
    "ImageFile.LOAD_TRUNCATED_IMAGES = True\n",
    "from torchvision.utils import save_image\n",
    "import os"
   ]
  },
  {
   "cell_type": "code",
   "execution_count": 2,
   "id": "0f3a7f48-cd9c-4643-9f84-640bcb38422b",
   "metadata": {},
   "outputs": [],
   "source": [
    "import rpy2\n",
    "import rpy2.robjects as ro \n",
    "from rpy2.robjects.vectors import FloatVector \n",
    "from rpy2.robjects.packages import importr"
   ]
  },
  {
   "cell_type": "code",
   "execution_count": 3,
   "id": "4a884697-3fc8-4552-bc54-a74366aab5bf",
   "metadata": {},
   "outputs": [],
   "source": [
    "def label_func(f):\n",
    "    if f[0].isupper():\n",
    "        return 'cat' \n",
    "    else: \n",
    "        return 'dog' "
   ]
  },
  {
   "cell_type": "markdown",
   "id": "de286d6a-4768-4b34-b1e5-7edef9a8a863",
   "metadata": {},
   "source": [
    "# Original Image로 학습하는 과정"
   ]
  },
  {
   "cell_type": "code",
   "execution_count": null,
   "id": "1f1ba35b-bdbb-4487-94f3-91e34393b654",
   "metadata": {},
   "outputs": [],
   "source": [
    "path=untar_data(URLs.PETS)/'images'"
   ]
  },
  {
   "cell_type": "code",
   "execution_count": null,
   "id": "19050cc0-c59b-4d4a-8e7b-b2a3d56c2d3e",
   "metadata": {},
   "outputs": [],
   "source": [
    "# path.ls()"
   ]
  },
  {
   "cell_type": "code",
   "execution_count": null,
   "id": "70016aa0-0066-47a4-8c7a-5d5234ce7041",
   "metadata": {},
   "outputs": [],
   "source": [
    "files=get_image_files(path)"
   ]
  },
  {
   "cell_type": "code",
   "execution_count": null,
   "id": "bfeb0c53-11b1-4f08-b15b-9725da0016eb",
   "metadata": {},
   "outputs": [],
   "source": [
    "dls=ImageDataLoaders.from_name_func(path,files,label_func,item_tfms=Resize(512)) "
   ]
  },
  {
   "cell_type": "code",
   "execution_count": null,
   "id": "886a85a5-f520-49cf-8bfb-4ee63da4e60b",
   "metadata": {},
   "outputs": [],
   "source": [
    "lrnr=cnn_learner(dls,resnet34,metrics=error_rate)\n",
    "lrnr.fine_tune(1)"
   ]
  },
  {
   "cell_type": "code",
   "execution_count": null,
   "id": "473e4380-c443-49d7-9a58-2b5eb6bcffd7",
   "metadata": {},
   "outputs": [],
   "source": [
    "net1=lrnr.model[0]\n",
    "net2=lrnr.model[1] "
   ]
  },
  {
   "cell_type": "code",
   "execution_count": null,
   "id": "e9a1eefa-a1f3-4e6d-b5d7-dcbd76c8c570",
   "metadata": {},
   "outputs": [],
   "source": [
    "net2 = torch.nn.Sequential(\n",
    "    torch.nn.AdaptiveAvgPool2d(output_size=1), \n",
    "    torch.nn.Flatten(),\n",
    "    torch.nn.Linear(512,out_features=2,bias=False))"
   ]
  },
  {
   "cell_type": "code",
   "execution_count": null,
   "id": "0b20514d-0c94-483f-b092-4f8d3fc66bc3",
   "metadata": {},
   "outputs": [],
   "source": [
    "net=torch.nn.Sequential(net1,net2)"
   ]
  },
  {
   "cell_type": "code",
   "execution_count": null,
   "id": "4d7ccfbf-df3d-4e2b-9522-35ee3698e886",
   "metadata": {},
   "outputs": [],
   "source": [
    "lrnr2=Learner(dls,net,metrics=accuracy) "
   ]
  },
  {
   "cell_type": "code",
   "execution_count": null,
   "id": "252d5ee0-8db0-4f20-9476-4861177b2fc1",
   "metadata": {},
   "outputs": [],
   "source": [
    "lrnr2.fine_tune(10) "
   ]
  },
  {
   "cell_type": "code",
   "execution_count": null,
   "id": "3793c8d7-7235-402b-aa72-11d3e4ea61f0",
   "metadata": {},
   "outputs": [],
   "source": [
    "interp = ClassificationInterpretation.from_learner(lrnr2)\n",
    "interp.plot_confusion_matrix()"
   ]
  },
  {
   "cell_type": "code",
   "execution_count": null,
   "id": "c6cf71f6-39f8-4fdd-aac6-a0d123cb857f",
   "metadata": {},
   "outputs": [],
   "source": [
    "interp.print_classification_report()"
   ]
  },
  {
   "cell_type": "markdown",
   "id": "189ca5b6-ac1a-49e4-9dc7-a42d1523a25d",
   "metadata": {
    "tags": []
   },
   "source": [
    "# 랜덤박스가 들어간 개 고양이 그림 다운로드"
   ]
  },
  {
   "cell_type": "code",
   "execution_count": null,
   "id": "2ae17c54-589e-4aa9-979b-50a79496dd99",
   "metadata": {},
   "outputs": [],
   "source": [
    "path=untar_data(URLs.PETS)/'images'"
   ]
  },
  {
   "cell_type": "code",
   "execution_count": null,
   "id": "f97d31d2-309e-4bc2-bb46-20ec20ad77a4",
   "metadata": {},
   "outputs": [],
   "source": [
    "if str(list(path.ls())[103]).split('/')[-1].split('.')[-1]==\"jpg\" :\n",
    "    print(\"jpg\")\n",
    "#name=str(list(path.ls())[i]).split('/')[-1]"
   ]
  },
  {
   "cell_type": "code",
   "execution_count": null,
   "id": "8f88fb2a-02a5-4515-8535-e3d90a62162d",
   "metadata": {},
   "outputs": [],
   "source": [
    "path.ls()"
   ]
  },
  {
   "cell_type": "code",
   "execution_count": null,
   "id": "2c4c4197-8a93-44b4-a08e-505f17e8d04e",
   "metadata": {},
   "outputs": [],
   "source": [
    "for i in range(7393) :\n",
    "    img = PILImage.create(get_image_files(path)[i])\n",
    "    img = img.resize([512,512], resample=None, box=None, reducing_gap=None)\n",
    "    name = str(list(path.ls())[i]).split('/')[-1]\n",
    "    fname = name.split('.')[-1]\n",
    "    if fname!=\"jpg\" : \n",
    "        print(name)\n",
    "    else : pass"
   ]
  },
  {
   "cell_type": "markdown",
   "id": "5662b860-d973-4973-8c1f-198a72aea8c1",
   "metadata": {},
   "source": [
    "`.mat` 파일 같은 이상한 거 삭제"
   ]
  },
  {
   "cell_type": "code",
   "execution_count": null,
   "id": "b317c08b-e227-4c02-96be-b51a9e038528",
   "metadata": {},
   "outputs": [],
   "source": [
    "# os.remove(r\"/home/csy/.fastai/data/oxford-iiit-pet/images/Abyssinian_100.mat\")"
   ]
  },
  {
   "cell_type": "code",
   "execution_count": null,
   "id": "fca1326b-9280-4b47-b051-b1a0d2c340a0",
   "metadata": {},
   "outputs": [],
   "source": [
    "# os.remove(r\"/home/csy/.fastai/data/oxford-iiit-pet/images/Abyssinian_102.mat\")"
   ]
  },
  {
   "cell_type": "code",
   "execution_count": null,
   "id": "4623edde-4f3a-436b-a692-c971d287374a",
   "metadata": {},
   "outputs": [],
   "source": [
    "# os.remove(r\"/home/csy/.fastai/data/oxford-iiit-pet/images/Abyssinian_101.mat\")"
   ]
  },
  {
   "cell_type": "code",
   "execution_count": null,
   "id": "e24b8730-5756-4b4e-8229-711946aa10cf",
   "metadata": {},
   "outputs": [],
   "source": [
    "# os.mkdir(\"random_pet_one\")"
   ]
  },
  {
   "cell_type": "code",
   "execution_count": null,
   "id": "6c1ba157-80c3-4330-9505-6bd79482500a",
   "metadata": {},
   "outputs": [],
   "source": [
    "# for i in range(len(path.ls())) :\n",
    "#     img = PILImage.create(get_image_files(path)[i])\n",
    "#     img = img.resize([512,512], resample=None, box=None, reducing_gap=None)\n",
    "#     (w, h) = (img.shape[0], img.shape[1])\n",
    "#     a = random.uniform(0, w*0.7)\n",
    "#     b = random.uniform(0, h*0.9)\n",
    "#     shape = [(a, b), (a+85, b+85)]\n",
    "#     font = ImageFont.truetype(\"DejaVuSans.ttf\", round(h*0.075))\n",
    "#     name = str(list(path.ls())[i]).split('/')[-1]\n",
    "#     fname = name.split('.')[-1]\n",
    "#     if name[0].isupper() == True :\n",
    "#         img1 = ImageDraw.Draw(img)  \n",
    "#         img1.rectangle(shape, fill =\"white\", outline =\"black\")\n",
    "#         ImageDraw.Draw(img).text((a+5, b+15), 'Cat', (0,0,0), font=font)\n",
    "#         img.save(\"random_pet_one/\"+name)\n",
    "#     else: \n",
    "#         img1 = ImageDraw.Draw(img)  \n",
    "#         img1.rectangle(shape, fill =\"black\", outline =\"black\")\n",
    "#         ImageDraw.Draw(img).text((a+5, b+15), 'Dog', (255,255,255), font=font)\n",
    "#         img.save(\"random_pet_one/\"+name)"
   ]
  },
  {
   "cell_type": "code",
   "execution_count": null,
   "id": "880fd85e-28d1-4726-aa4d-f5d05c727acd",
   "metadata": {},
   "outputs": [],
   "source": []
  }
 ],
 "metadata": {
  "kernelspec": {
   "display_name": "Python 3",
   "language": "python",
   "name": "python3"
  },
  "language_info": {
   "codemirror_mode": {
    "name": "ipython",
    "version": 3
   },
   "file_extension": ".py",
   "mimetype": "text/x-python",
   "name": "python",
   "nbconvert_exporter": "python",
   "pygments_lexer": "ipython3",
   "version": "3.8.0"
  }
 },
 "nbformat": 4,
 "nbformat_minor": 5
}
