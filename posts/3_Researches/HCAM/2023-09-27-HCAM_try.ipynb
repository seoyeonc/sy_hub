{
 "cells": [
  {
   "cell_type": "raw",
   "id": "3859debd-5d2a-4b83-b03c-0a1bcc972fbc",
   "metadata": {
    "id": "cac470df-29e7-4148-9bbd-d8b9a32fa570",
    "tags": []
   },
   "source": [
    "---\n",
    "title: \"**[CAM]**HCAM code\"\n",
    "author: \"SEOYEON CHOI\"\n",
    "date: \"2023-09-27\"\n",
    "categories:\n",
    "  - CAM\n",
    "---"
   ]
  },
  {
   "cell_type": "code",
   "execution_count": 1,
   "id": "df16d124-ab78-49a9-b449-a44c41733633",
   "metadata": {},
   "outputs": [],
   "source": [
    "import HCAM"
   ]
  },
  {
   "cell_type": "code",
   "execution_count": 2,
   "id": "f384f23f-693d-4371-a546-43516325750d",
   "metadata": {},
   "outputs": [],
   "source": [
    "_hcam = HCAM.load_data('random_pet_one')"
   ]
  },
  {
   "cell_type": "code",
   "execution_count": 4,
   "id": "83c1d728-5911-4a94-a56e-f1abbb0958d0",
   "metadata": {},
   "outputs": [
    {
     "data": {
      "text/plain": [
       "<bound method Path.ls of Path('random_pet_one')>"
      ]
     },
     "execution_count": 4,
     "metadata": {},
     "output_type": "execute_result"
    }
   ],
   "source": [
    "_hcam.path.ls"
   ]
  },
  {
   "cell_type": "code",
   "execution_count": null,
   "id": "383995ba-fc7c-475f-a76f-37f98e72ddfc",
   "metadata": {},
   "outputs": [],
   "source": []
  },
  {
   "cell_type": "code",
   "execution_count": 2,
   "id": "a9fdb681-0324-430a-b5a3-f3f38219a106",
   "metadata": {},
   "outputs": [
    {
     "ename": "NameError",
     "evalue": "name 'Path' is not defined",
     "output_type": "error",
     "traceback": [
      "\u001b[0;31m---------------------------------------------------------------------------\u001b[0m",
      "\u001b[0;31mNameError\u001b[0m                                 Traceback (most recent call last)",
      "Input \u001b[0;32mIn [2]\u001b[0m, in \u001b[0;36m<cell line: 1>\u001b[0;34m()\u001b[0m\n\u001b[0;32m----> 1\u001b[0m path\u001b[38;5;241m=\u001b[39m\u001b[43mPath\u001b[49m(\u001b[38;5;124m'\u001b[39m\u001b[38;5;124mrandom_pet_one\u001b[39m\u001b[38;5;124m'\u001b[39m)   \u001b[38;5;66;03m#랜덤박스넣은사진\u001b[39;00m\n",
      "\u001b[0;31mNameError\u001b[0m: name 'Path' is not defined"
     ]
    }
   ],
   "source": [
    "path=Path('random_pet_one')   #랜덤박스넣은사진"
   ]
  },
  {
   "cell_type": "code",
   "execution_count": null,
   "id": "eb422e6c-4f2e-4664-98ed-4c52e6fd938d",
   "metadata": {},
   "outputs": [],
   "source": [
    "files=get_image_files(path)"
   ]
  },
  {
   "cell_type": "code",
   "execution_count": null,
   "id": "28e8e135-3bf3-4917-a36f-f053ac2c07c9",
   "metadata": {},
   "outputs": [],
   "source": [
    "dls=ImageDataLoaders.from_name_func(path,files,label_func,item_tfms=Resize(512)) "
   ]
  },
  {
   "cell_type": "code",
   "execution_count": null,
   "id": "2fa55c6f-12dd-457b-ae7b-ee18fe7bd0ea",
   "metadata": {},
   "outputs": [],
   "source": []
  },
  {
   "cell_type": "code",
   "execution_count": null,
   "id": "f3696a39-4d5e-457b-8573-4484f2dfefff",
   "metadata": {},
   "outputs": [],
   "source": []
  }
 ],
 "metadata": {
  "kernelspec": {
   "display_name": "Python 3",
   "language": "python",
   "name": "python3"
  },
  "language_info": {
   "codemirror_mode": {
    "name": "ipython",
    "version": 3
   },
   "file_extension": ".py",
   "mimetype": "text/x-python",
   "name": "python",
   "nbconvert_exporter": "python",
   "pygments_lexer": "ipython3",
   "version": "3.8.0"
  }
 },
 "nbformat": 4,
 "nbformat_minor": 5
}
