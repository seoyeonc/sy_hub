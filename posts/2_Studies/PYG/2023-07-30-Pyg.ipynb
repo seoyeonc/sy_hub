{
 "cells": [
  {
   "cell_type": "raw",
   "id": "9631d594-c85d-448e-8a02-8296958928e4",
   "metadata": {
    "id": "cac470df-29e7-4148-9bbd-d8b9a32fa570",
    "tags": []
   },
   "source": [
    "---\n",
    "title: \"**[PyG]**\"\n",
    "author: \"SEOYEON CHOI\"\n",
    "date: \"2023-08-01\"\n",
    "---"
   ]
  },
  {
   "cell_type": "code",
   "execution_count": null,
   "id": "e04a4c13-7985-4e1d-bf00-25a2a84ce04b",
   "metadata": {},
   "outputs": [],
   "source": []
  }
 ],
 "metadata": {
  "kernelspec": {
   "display_name": "Python 3",
   "language": "python",
   "name": "python3"
  },
  "language_info": {
   "codemirror_mode": {
    "name": "ipython",
    "version": 3
   },
   "file_extension": ".py",
   "mimetype": "text/x-python",
   "name": "python",
   "nbconvert_exporter": "python",
   "pygments_lexer": "ipython3",
   "version": "3.8.0"
  }
 },
 "nbformat": 4,
 "nbformat_minor": 5
}
