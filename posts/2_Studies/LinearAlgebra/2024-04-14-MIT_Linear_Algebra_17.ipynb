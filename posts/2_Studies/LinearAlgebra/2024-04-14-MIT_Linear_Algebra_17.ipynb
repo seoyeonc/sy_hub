{
 "cells": [
  {
   "cell_type": "raw",
   "id": "a0919947-ff5b-4d5e-9b5c-4771e3a9ec7a",
   "metadata": {
    "id": "cac470df-29e7-4148-9bbd-d8b9a32fa570",
    "tags": []
   },
   "source": [
    "---\n",
    "title: \"[Linear Algebra] Lecture 17\"\n",
    "author: \"SEOYEON CHOI\"\n",
    "date: \"2024-04-14\"\n",
    "---"
   ]
  },
  {
   "cell_type": "markdown",
   "id": "c6db82a3-2bc3-43f3-942e-89e351dfb32a",
   "metadata": {},
   "source": [
    "{{< video https://www.youtube.com/watch?v=uNsCkP9mgRk&list=PL49CF3715CB9EF31D&index=17 >}}"
   ]
  },
  {
   "cell_type": "markdown",
   "id": "5a3ade08-164c-414f-9a0f-eccbdff63ddd",
   "metadata": {},
   "source": [
    "> 학습 목표"
   ]
  },
  {
   "cell_type": "markdown",
   "id": "da116b2a-e573-46cc-a784-503efc6603ac",
   "metadata": {},
   "source": [
    "- Orthogonal basis $q_1 , \\cdots, q_n$\n",
    "- Orthogonal matrix $Q$ : square\n",
    "- Gram-schmidt $A$ $\\to$ $Q$"
   ]
  },
  {
   "cell_type": "markdown",
   "id": "a5125231-cc3c-4455-b251-5dfac42cef2a",
   "metadata": {},
   "source": [
    "`-` orthonormal vectors 정규직교벡터 = 직교 벡터이면서 단위벡터인 벡터\n",
    "\n",
    "ex) 두 벡터가 직교를 이루고 있고, 길이는 1일때,\n",
    "\n",
    "$q_i^T q_j = \\begin{cases} 0 & \\text{if } i \\ne j \\\\ 1 & \\text{if } i = j \\end{cases}$"
   ]
  },
  {
   "cell_type": "markdown",
   "id": "1a036a03-7d2e-4035-9d7b-cc164e0f567c",
   "metadata": {},
   "source": [
    "$Q = \\begin{bmatrix} \\vdots &  & \\vdots \\\\ q_1 & \\cdots & q_n \\\\ \\vdots & & \\vdots \\end{bmatrix}$"
   ]
  },
  {
   "cell_type": "markdown",
   "id": "68721da7-d1f5-456d-9d5e-a24791fe57b3",
   "metadata": {},
   "source": [
    "$Q^TQ = \\begin{bmatrix} \\cdots q_1^T \\cdots \\\\  \\cdots q_n^T \\cdots\\end{bmatrix} \\begin{bmatrix} \\vdots &  & \\vdots \\\\ q_1 & \\cdots & q_n \\\\ \\vdots & & \\vdots \\end{bmatrix} \\begin{bmatrix}1 & 0 & \\cdots& 0 \\\\ 0 & 1 & \\cdots & 0 \\\\ \\vdots & \\vdots & \\ddots & \\vdots \\\\ 0 & 0 & \\cdots & 1 \\end{bmatrix} = I$"
   ]
  },
  {
   "cell_type": "markdown",
   "id": "4be88faa-4f2e-4dc1-8e24-8fb3e259d786",
   "metadata": {},
   "source": [
    "- 결국 아래와 같이 역행렬과 같다는 결론이 나옴"
   ]
  },
  {
   "cell_type": "markdown",
   "id": "15758416-3237-49b7-a047-3251aba99473",
   "metadata": {},
   "source": [
    "If $Q$ is square then $Q^TQ = I$ tells us $Q^T = Q^{-1}$"
   ]
  },
  {
   "cell_type": "markdown",
   "id": "aed4dcb9-ac2a-4b4c-b269-f8411eab41a2",
   "metadata": {},
   "source": [
    "*Examples*"
   ]
  },
  {
   "cell_type": "markdown",
   "id": "0b7b0780-1550-4136-a887-9cdc7a49a426",
   "metadata": {},
   "source": [
    "*perm* $Q = \\begin{bmatrix} 0 & 0 & 1 \\\\ 1 & 0 & 0 \\\\ 0 & 1 & 0\\end{bmatrix}$"
   ]
  },
  {
   "cell_type": "markdown",
   "id": "0b163619-f35c-4675-a7ce-4c04303b262a",
   "metadata": {},
   "source": [
    "`1`"
   ]
  },
  {
   "cell_type": "markdown",
   "id": "e77bfdf0-481d-44eb-a351-efebd64d0e5d",
   "metadata": {},
   "source": [
    "$QQ^T = I$\n",
    "\n",
    "$\\begin{bmatrix} 0 & 0 & 1 \\\\ 1 & 0 & 0 \\\\ 0 & 1 & 0\\end{bmatrix}\\begin{bmatrix} 0 & 1 & 0 \\\\ 0 & 0 & 1 \\\\ 1 & 0 & 0 \\end{bmatrix} = \\begin{bmatrix} 1 & 0 & 0 \\\\ 0 & 1 & 0 \\\\ 0 & 0 & 1 \\end{bmatrix}$\n",
    "\n",
    "$\\star$ $Q^T = Q^{-1}$"
   ]
  },
  {
   "cell_type": "markdown",
   "id": "eec91c66-7f80-459f-bd4f-07eb23b55138",
   "metadata": {},
   "source": [
    "`2`"
   ]
  },
  {
   "cell_type": "markdown",
   "id": "7668caea-2548-4e8a-8f1e-1e274d22066e",
   "metadata": {},
   "source": [
    "$Q = \\begin{bmatrix} \\cos \\theta & - \\sin \\theta \\\\ \\sin \\theta & \\cos \\theta \\end{bmatrix}$\n",
    "\n",
    "$q_1 = \\begin{bmatrix} \\cos \\theta \\\\ \\sin \\theta \\end{bmatrix}$, $q_2 =  \\begin{bmatrix} -\\sin \\theta \\\\ \\cos \\theta \\end{bmatrix}$\n",
    "\n",
    "$q_1 \\cdot q_2 =  \\begin{bmatrix}\\cos \\theta \\\\ \\sin \\end{bmatrix}^T  \\begin{bmatrix}-\\sin \\theta \\\\ \\cos \\theta  \\end{bmatrix} = -\\cos \\theta \\sin \\theta + \\sin \\theta \\cos \\theta = 0$\n",
    "\n",
    "$||q_1|| = ||q_2|| = \\sqrt{\\cos^2 \\theta + \\sin^2 \\theta} = \\sqrt{1} = 1$"
   ]
  },
  {
   "cell_type": "markdown",
   "id": "91fd0a7c-0a67-46b9-bfeb-e0d4223ba299",
   "metadata": {},
   "source": [
    "`3`"
   ]
  },
  {
   "cell_type": "markdown",
   "id": "3c6fa3c0-4da0-4c9c-b76f-56e96e79f7b5",
   "metadata": {},
   "source": [
    "$Q =  \\begin{bmatrix} 1 & 1 \\\\ 1 & -1\\end{bmatrix}$ $\\to$ $Q^TQ = 0$가 직교 벡터이지만, 벡터의 길이가 1이 아니라면?\n",
    "\n",
    "$Q = \\frac{1}{\\sqrt{2}} \\begin{bmatrix} 1 & 1 \\\\ 1 & -1\\end{bmatrix}$ $\\to$ scale 조정하면 된다.\n",
    "\n",
    "$||q_1|| = \\sqrt{1^2+ 1^2 } = \\sqrt{2}$\n",
    "\n",
    "$||q_2|| = \\sqrt{1^2+ (-1)^2 } = \\sqrt{2}$"
   ]
  },
  {
   "cell_type": "markdown",
   "id": "9f988ec4-8642-4b80-8da6-c81021db9d93",
   "metadata": {},
   "source": [
    "`4`"
   ]
  },
  {
   "cell_type": "markdown",
   "id": "cbddc614-b171-4ed0-8326-bf9dfa160ab6",
   "metadata": {},
   "source": [
    "$Q = \\begin{bmatrix} 1 & 1 & 1 & 1 \\\\ 1 & -1 & 1 & -1 \\\\ 1 & 1 & -1 & -1 \\\\ 1 & -1 & -1 & 1 \\end{bmatrix}$, 마찬가지, 직교행렬이지만 길이는 1이 아닐때\n",
    "\n",
    "$Q = \\frac{1}{2}\\begin{bmatrix} 1 & 1 & 1 & 1 \\\\ 1 & -1 & 1 & -1 \\\\ 1 & 1 & -1 & -1 \\\\ 1 & -1 & -1 & 1 \\end{bmatrix}$ 스케일 조정"
   ]
  },
  {
   "cell_type": "markdown",
   "id": "ccd87203-5ac8-41c9-b3b7-98999db2b0e7",
   "metadata": {},
   "source": [
    "`5`"
   ]
  },
  {
   "cell_type": "markdown",
   "id": "b1706713-fa99-4656-9753-6f17878bdd3a",
   "metadata": {},
   "source": [
    "$Q = \\frac{1}{3}\\begin{bmatrix} 1 & -2 & 2 \\\\ 2 & -1 & -2 \\\\ 2 & 2 & 1 \\end{bmatrix}$"
   ]
  },
  {
   "cell_type": "markdown",
   "id": "090eac59-932f-48b0-a523-2e04f3f3b7f0",
   "metadata": {},
   "source": [
    "$Q$ has orthogonal columns\n",
    "\n",
    "project onto its column space\n",
    "\n",
    "$P = Q(Q^TQ)^{-1} Q^T Q Q^T = QQ^T =I$, if $Q$ is square."
   ]
  },
  {
   "cell_type": "markdown",
   "id": "b24cf22b-09eb-47e1-8a9c-8143343dfecf",
   "metadata": {},
   "source": [
    "$(QQ^T)(QQ^T) = QQ^T$ $\\to$ Projection matrix 특징"
   ]
  },
  {
   "cell_type": "markdown",
   "id": "b879a1fb-155a-4932-9315-d656078ca94d",
   "metadata": {},
   "source": [
    "$A^TA \\hat{x} = A^T b$\n",
    "\n",
    "Now $A$ is $Q$\n",
    "\n",
    "$Q^TQ \\hat{x} = Q^T b$\n",
    "\n",
    "$\\hat{x} = Q^T b$\n",
    "\n",
    "$\\hat{x}_i = {\\bf q}_i^T b$ $\\to$ component로 해석"
   ]
  },
  {
   "cell_type": "markdown",
   "id": "4fbcd48a-7fb2-44c7-9a34-73deb7e2a06b",
   "metadata": {},
   "source": [
    "`Gram-schmidt`\n",
    "\n",
    "- 어떤 임의 행렬의 행을을 정규직교 행으로 바꾸는 것"
   ]
  },
  {
   "cell_type": "markdown",
   "id": "2a4785b2-bc11-4449-abb1-4bab34d0d837",
   "metadata": {},
   "source": [
    "Independent vectors $a,b$ 가 있을때, $a$ 기준으로 보면 $a$에 수직내린 $B$를 따로 찾을거야"
   ]
  },
  {
   "cell_type": "markdown",
   "id": "f2800d3c-c227-4360-a92e-e216512c4654",
   "metadata": {},
   "source": [
    "$A, B = $ orthogonal vectors\n",
    "\n",
    "$q_1 = \\frac{A}{||A||}$, $q_2 = \\frac{B}{||B||}$\n",
    "\n",
    "$e = b-p$\n",
    "\n",
    "$B \\approx error = b - \\frac{A^Tb}{A^TA} A$\n",
    "\n",
    "$A^TB = A^T (b - \\frac{A^Tb}{A^TA} A)$\n",
    "\n",
    "$A \\bot B$"
   ]
  },
  {
   "cell_type": "markdown",
   "id": "52114d29-d5c7-44ec-b496-ef28a4cfb966",
   "metadata": {},
   "source": [
    "`-` $C$ 가 추가된다면"
   ]
  },
  {
   "cell_type": "markdown",
   "id": "5db2f1d1-7264-4af3-bc36-e80fc6ffdbd0",
   "metadata": {},
   "source": [
    "$A,B,C = $ Orthogonal vectors\n",
    "\n",
    "$q_1 = \\frac{A}{||A||}$, $q_2 = \\frac{B}{||B||}$,  $q_3 = \\frac{C}{||C||}$\n",
    "\n",
    "$C = c - \\frac{A^Tc}{A^TA}A - \\frac{B^Tc}{B^TB}B$\n",
    "\n",
    "$C \\bot A$\n",
    "\n",
    "$C \\bot B$"
   ]
  },
  {
   "cell_type": "markdown",
   "id": "9c006df3-6238-4355-8b0c-6e85d9057b1c",
   "metadata": {},
   "source": [
    "$a = \\begin{bmatrix} 1 \\\\ 1 \\\\ 1 \\end{bmatrix}$, $b = \\begin{bmatrix} 1 \\\\ 0 \\\\ 2\\end{bmatrix}$, $B = b - \\frac{A^Tb}{A^TA}B = \\begin{bmatrix} 1 \\\\ 0 \\\\ 2\\end{bmatrix} - \\frac{3}{3} \\begin{bmatrix} 1 \\\\ 0 \\\\ 2\\end{bmatrix} = \\begin{bmatrix} 0 \\\\ -1 \\\\ 1\\end{bmatrix}$\n",
    "\n",
    "$\\star$ $A^Tb = \\begin{bmatrix} 1 & 1 & 1 \\end{bmatrix} \\begin{bmatrix} 1 \\\\ 0 \\\\ 2\\end{bmatrix} = 3$\n",
    "\n",
    "$\\star$ $A^TA = \\begin{bmatrix} 1 & 1 & 1 \\end{bmatrix} \\begin{bmatrix} 1 \\\\ 1 \\\\ 1 \\end{bmatrix} = 3$"
   ]
  },
  {
   "cell_type": "markdown",
   "id": "495e677b-b221-4ae5-b441-94ab73fe18be",
   "metadata": {},
   "source": [
    "$Q = \\begin{bmatrix} \\vdots & \\vdots \\\\ a_1 & a_2 \\\\ \\vdots & \\vdots \\end{bmatrix} = \\begin{bmatrix} \\frac{1}{\\sqrt{3}} & 0 \\\\ \\frac{1}{\\sqrt{3}} & -\\frac{1}{\\sqrt{2}} \\\\ \\frac{1}{\\sqrt{3}} & \\frac{1}{\\sqrt{2}}\\end{bmatrix}$"
   ]
  },
  {
   "cell_type": "markdown",
   "id": "7895eb62-6289-4158-981b-1af23dfd0efc",
   "metadata": {},
   "source": [
    "$A = \\begin{bmatrix} 1 & 1 \\\\ 1 & 0 \\\\ 1 & 2\\end{bmatrix}$\n",
    "\n",
    "$A \\bot B$\n",
    "\n",
    "$A = LU$\n",
    "\n",
    "$A = QR$"
   ]
  },
  {
   "cell_type": "markdown",
   "id": "c2953a82-f502-4467-9929-0070f294fd87",
   "metadata": {},
   "source": [
    "$A = \\begin{bmatrix} a_1 & a_2\\end{bmatrix} = \\begin{bmatrix} q_1 & q_2\\end{bmatrix}\\begin{bmatrix} a_1^Tq_1 & q_2^Tq_1 \\\\ a_1^Tq_2 & a_2^Tq_2\\end{bmatrix}$"
   ]
  },
  {
   "cell_type": "markdown",
   "id": "d481606e-f9a9-4bc3-9b64-0cd59e3db92f",
   "metadata": {},
   "source": [
    "---"
   ]
  },
  {
   "cell_type": "markdown",
   "id": "b37138cc-c630-41bc-8d67-f5332a0a745c",
   "metadata": {},
   "source": [
    "`unit vector`"
   ]
  },
  {
   "cell_type": "markdown",
   "id": "fecc1d80-81c3-4984-aadc-5fca31c3868b",
   "metadata": {},
   "source": [
    "단순히 말하면 크기를 변화해주는 벡터.\n",
    "\n",
    "$\\hat{v} = \\frac{v}{||v||}$의 형태를 가지고 있다.\n",
    "\n",
    "$\\to$ 기존의 벡터 $v$ 를 벡터의 크기 $||v||$ 로 나눠주면 된다.\n",
    "\n",
    "ex)\n",
    "\n",
    "$v = \\begin{bmatrix} 1 \\\\ 2 \\\\ 3 \\end{bmatrix}$, $||v|| = \\sqrt{1 + 4 + 9} = \\sqrt{14}$\n",
    "\n",
    "$\\hat{v} = \\frac{v}{||v||} = \\begin{bmatrix} \\frac{1}{\\sqrt{14}} & \\frac{2}{\\sqrt{14}} & \\frac{3}{\\sqrt{14}}\\end{bmatrix}^T$"
   ]
  },
  {
   "cell_type": "code",
   "execution_count": null,
   "id": "3bcc817e-bcde-4bfe-abc6-8eceac7a9448",
   "metadata": {},
   "outputs": [],
   "source": []
  }
 ],
 "metadata": {
  "kernelspec": {
   "display_name": "Python 3",
   "language": "python",
   "name": "python3"
  },
  "language_info": {
   "codemirror_mode": {
    "name": "ipython",
    "version": 3
   },
   "file_extension": ".py",
   "mimetype": "text/x-python",
   "name": "python",
   "nbconvert_exporter": "python",
   "pygments_lexer": "ipython3",
   "version": "3.8.0"
  }
 },
 "nbformat": 4,
 "nbformat_minor": 5
}
