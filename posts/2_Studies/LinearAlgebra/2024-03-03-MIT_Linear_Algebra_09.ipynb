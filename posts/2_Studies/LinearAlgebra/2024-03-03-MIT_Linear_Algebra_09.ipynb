{
 "cells": [
  {
   "cell_type": "raw",
   "id": "ea0701dc-8e2b-4444-b468-b48e986e92b9",
   "metadata": {
    "id": "cac470df-29e7-4148-9bbd-d8b9a32fa570",
    "tags": []
   },
   "source": [
    "---\n",
    "title: \"[Linear Algebra] Lecture 9\"\n",
    "author: \"SEOYEON CHOI\"\n",
    "date: \"2024-03-03\"\n",
    "---"
   ]
  },
  {
   "cell_type": "markdown",
   "id": "ab5e4254-821e-4a79-924d-7aef191a12d8",
   "metadata": {},
   "source": [
    "{{< video https://www.youtube.com/watch?v=yjBerM5jWsc&list=PL49CF3715CB9EF31D&index=9 >}}"
   ]
  },
  {
   "cell_type": "markdown",
   "id": "413ae6bf-cba8-4bc0-b8fc-a059a3d570de",
   "metadata": {},
   "source": [
    "> 학습 목표\n",
    "\n",
    "- Linear Independence\n",
    "- Spanning a Space\n",
    "- Basis and demension"
   ]
  },
  {
   "cell_type": "markdown",
   "id": "83f71b88-cc83-45f0-be90-0ce85a834c11",
   "metadata": {},
   "source": [
    "$\\begin{bmatrix} \\end{bmatrix}$"
   ]
  },
  {
   "cell_type": "markdown",
   "id": "acd10ae4-20c7-4722-843b-183eb159e348",
   "metadata": {},
   "source": [
    "Suppose $A$ is $m$ by $n$ with $m<n$.\n",
    "\n",
    "Then there are nonzero solutions to $Ax= 0$ (more unknown variables than equations)\n",
    "\n",
    "- Reson: There will be free variables!\n",
    "\n",
    "ex) 2 by 3 matrix $\\begin{bmatrix} - & - & - \\\\ - & - & - \\end{bmatrix}$\n",
    "\n",
    "- unknown variables = 3, equations = 2"
   ]
  },
  {
   "cell_type": "markdown",
   "id": "e651e68e-b72d-4948-b194-1ff7f98a3476",
   "metadata": {},
   "source": [
    "`-` Independence"
   ]
  },
  {
   "cell_type": "markdown",
   "id": "fd78cca9-e044-41f1-99d1-ed046a33fcd9",
   "metadata": {},
   "source": [
    "Vectors $x_1,x_2, \\dots x_n$ are independent if no combination gives zero vector $c_1 x_1 + c_2x_2 + \\dots + c_n x_n \\ne 0$ (except the zero combination, all $c_i = 0$)"
   ]
  },
  {
   "cell_type": "markdown",
   "id": "9744c6f8-20fa-40bd-bde5-8acd54bb4bc7",
   "metadata": {},
   "source": [
    "ex) $v_1 = \\begin{bmatrix} 1 \\\\ 1 \\end{bmatrix}$ $v_2 = \\begin{bmatrix} 2 \\\\ 2 \\end{bmatrix}$라면,\n",
    "\n",
    "- $v_2 = 2 v_1$, dependent(double)\n",
    "- $\\therefore 2v_1 - v_2 = 0$"
   ]
  },
  {
   "cell_type": "markdown",
   "id": "e2af6668-42b4-4c83-989b-1924d8d8e676",
   "metadata": {},
   "source": [
    "ex) $v_1 = \\begin{bmatrix} 1 \\\\ 1 \\end{bmatrix}$, $v_2 = 0$ 이라면,\n",
    "\n",
    "- dependent, 0 이 속해 있으니까\n",
    "- $0 v_1 + 6 v_2 = 0$"
   ]
  },
  {
   "cell_type": "markdown",
   "id": "7a038b96-d3ce-47a8-85d6-45b0a0ff8b34",
   "metadata": {},
   "source": [
    "ex) $A = \\begin{bmatrix} 2 & 1 & 2.5 \\\\ 1 & 2 & -1 \\end{bmatrix}$ $\\begin{bmatrix} c_1 \\\\ c_2 \\\\ c_3  \\end{bmatrix} = \\begin{bmatrix} 0 \\\\ 0\\end{bmatrix}$\n",
    "\n",
    "- 이게 성립할 수 있다면 dependent임"
   ]
  },
  {
   "cell_type": "markdown",
   "id": "c0fd8971-a747-4080-afc8-01feb4e3d92d",
   "metadata": {},
   "source": [
    "Repeat when $v_1, \\dots v_n$ are columns of $A$.\n",
    "\n",
    "They are independent if nullspace of $A$ is zero vector : rank = $n$.\n",
    "\n",
    "- independent : $N(A) = \\{ 0 \\}$, no free variables"
   ]
  },
  {
   "cell_type": "markdown",
   "id": "2c91166c-aad6-4c9e-a515-7e70680a2209",
   "metadata": {},
   "source": [
    "They are dependent if $Ac=0$ for some nonzero $c$.\n",
    "\n",
    "- that is, rank $<n$(pivot 도 $<n$)\n",
    "- 왜냐하면 combination of columns 가 zero column이라서.\n",
    "- free variables 도 있다.(free variable = n-r 임. r은 rank를 의미하고.)"
   ]
  },
  {
   "cell_type": "markdown",
   "id": "0fd8b94d-c2fe-471c-a7ae-7b8f93e2ca11",
   "metadata": {},
   "source": [
    "`-` Spanning a Space"
   ]
  },
  {
   "cell_type": "markdown",
   "id": "74287bca-2e02-4a42-affc-a11d2e126f76",
   "metadata": {},
   "source": [
    "Vectors $v_1, \\dots , v_n$ span a space means: The space consists of all combinations of those vectors.\n",
    "\n",
    "- vector들이 space를 span한다? : 공간이 그 벡터들의 모든 조합으로 구성되어 있다."
   ]
  },
  {
   "cell_type": "markdown",
   "id": "bc0c591b-ae7d-4703-8340-3753e9125669",
   "metadata": {},
   "source": [
    "Basics for a space is a sequence of vectors $v_1, v_2, \\dots , v_l$ with 2 properties.\n",
    "\n",
    "1. They are independect.\n",
    "2. They span the space."
   ]
  },
  {
   "cell_type": "markdown",
   "id": "fc132241-998c-4f7e-91e7-d64dac34185f",
   "metadata": {},
   "source": [
    "Example:\n",
    "\n",
    "Space is $\\mathbb{R}^3$\n",
    "\n",
    "One basis is $\\begin{bmatrix} 1 \\\\ 0 \\\\ 0 \\end{bmatrix}$ $\\begin{bmatrix} 0 \\\\ 1 \\\\ 0  \\end{bmatrix}$ $\\begin{bmatrix} 0 \\\\ 0 \\\\ 1\\end{bmatrix}$\n",
    "\n",
    "Another basis is $\\begin{bmatrix} 1 \\\\ 1 \\\\ 2 \\end{bmatrix}$ $\\begin{bmatrix} 2 \\\\ 2 \\\\ 5  \\end{bmatrix}$ $\\begin{bmatrix} 3 \\\\ 3 \\\\ 8 \\end{bmatrix}$"
   ]
  },
  {
   "cell_type": "markdown",
   "id": "ba9fdd6b-4979-45c1-9f7a-73544f1b3379",
   "metadata": {},
   "source": [
    "$n$ vectors gives basis if the $n \\times n$ matrix with those columns is invertible.\n",
    "\n",
    "Another basis $\\begin{bmatrix} 1 \\\\ 1 \\\\ 2 \\end{bmatrix}$ $\\begin{bmatrix} 2 \\\\ 2 \\\\ 5  \\end{bmatrix}$"
   ]
  },
  {
   "cell_type": "markdown",
   "id": "95447bca-e47e-431e-9e4f-88c0fedf6e9d",
   "metadata": {},
   "source": [
    "Given a space: columns\n",
    "\n",
    "Every basis for the space have the *same number* of vectors\n",
    "\n",
    "$\\to$ **Definition: the dimension of the space**"
   ]
  },
  {
   "cell_type": "markdown",
   "id": "79935b24-e71f-4900-9055-7465908f5a44",
   "metadata": {},
   "source": [
    "Space is $C(A)$ = $\\begin{bmatrix} 1 & 2 & 3 & 1 \\\\ 1 & 1 & 2 & 1 \\\\ 1 & 2 & 3 & 1 \\end{bmatrix}$\n",
    "\n",
    "- We can put the basis on 1,2 columns.\n",
    "- We can't put the basis on 3,4 columns.\n",
    "- That is, Rank $= 2$\n",
    "\n",
    "$N(A)$ $\\to$ $\\begin{bmatrix} -1 \\\\ -1 \\\\ 1 \\\\ 0  \\end{bmatrix}$, $\\begin{bmatrix} -1 \\\\ 0 \\\\ 0 \\\\ 1\\end{bmatrix}$\n",
    "\n",
    "- $2 =$ rank($A$) = #^[The number of] pivot columns = dimension of $C(A)$^[Column Space]"
   ]
  },
  {
   "cell_type": "markdown",
   "id": "82755900-e8c4-40fb-ad51-b2718313e1de",
   "metadata": {},
   "source": [
    "dimension, column space알면 basis 알 수 있음?"
   ]
  },
  {
   "cell_type": "markdown",
   "id": "9894ac4b-20b5-4e2a-89c0-151b7dc8d41e",
   "metadata": {},
   "source": [
    "dim $C(A)=r$"
   ]
  },
  {
   "cell_type": "markdown",
   "id": "b0ac81f4-060e-4552-83c5-364c64927171",
   "metadata": {},
   "source": [
    "Do thses two special solutions form a basis for the null space?\n",
    "\n",
    "= Does the null space consist of all combinations of those the guys?\n",
    "\n",
    "- Yes!"
   ]
  },
  {
   "cell_type": "markdown",
   "id": "7a6c5e5c-0415-466a-b689-4bd9278d7b25",
   "metadata": {},
   "source": [
    "The null space is two dimension.\n",
    "\n",
    "The dimension of null space is the number of free variables.\n",
    "\n",
    "dim$N(A)$ = # free variables = $n-r$"
   ]
  },
  {
   "cell_type": "code",
   "execution_count": null,
   "id": "827c366f-47e4-42e3-a774-aa711c0114c1",
   "metadata": {},
   "outputs": [],
   "source": []
  }
 ],
 "metadata": {
  "kernelspec": {
   "display_name": "Python 3",
   "language": "python",
   "name": "python3"
  },
  "language_info": {
   "codemirror_mode": {
    "name": "ipython",
    "version": 3
   },
   "file_extension": ".py",
   "mimetype": "text/x-python",
   "name": "python",
   "nbconvert_exporter": "python",
   "pygments_lexer": "ipython3",
   "version": "3.8.0"
  }
 },
 "nbformat": 4,
 "nbformat_minor": 5
}
