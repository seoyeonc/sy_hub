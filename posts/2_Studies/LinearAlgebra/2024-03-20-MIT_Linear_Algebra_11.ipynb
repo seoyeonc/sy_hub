{
 "cells": [
  {
   "cell_type": "raw",
   "id": "92240b3b-1763-424a-aa95-f0f64aa38657",
   "metadata": {
    "id": "cac470df-29e7-4148-9bbd-d8b9a32fa570",
    "tags": []
   },
   "source": [
    "---\n",
    "title: \"[Linear Algebra] Lecture 11\"\n",
    "author: \"SEOYEON CHOI\"\n",
    "date: \"2024-03-20\"\n",
    "---"
   ]
  },
  {
   "cell_type": "markdown",
   "id": "e884f911-6237-45fa-8fcb-ca41dab5921f",
   "metadata": {},
   "source": [
    "{{< video https://www.youtube.com/watch?v=2IdtqGM6KWU&list=PL49CF3715CB9EF31D&index=12 >}}"
   ]
  },
  {
   "cell_type": "markdown",
   "id": "502a7f82-d3b5-41f3-8e54-24e5ac14b1ef",
   "metadata": {},
   "source": [
    "> 학습 목표\n",
    "\n",
    "- Bases of New Vector Spaces\n",
    "- Rank one matrices\n",
    "- small world graphs"
   ]
  },
  {
   "cell_type": "markdown",
   "id": "6a74a25b-23e8-48f6-a1b0-6eca54792374",
   "metadata": {},
   "source": [
    "`-` Bases of all vector spaces"
   ]
  },
  {
   "cell_type": "markdown",
   "id": "2ab995cb-9e86-490b-b044-2ef1384eb929",
   "metadata": {},
   "source": [
    "$M = $ all 3 bt 3 matrices, dim(M) = 9\n",
    "\n",
    "Symmetric $3 \\times 3$, dim(S) = 6(diagonal = 3, 3 entries)\n",
    "\n",
    "matrices upper triangular $3 \\times 3$ dim(U)=6\n",
    "\n",
    "Basis for $M=$ all $3 \\times 3$'s"
   ]
  },
  {
   "cell_type": "markdown",
   "id": "d43e6499-34bd-4650-a7e8-52db3abc5410",
   "metadata": {},
   "source": [
    "$\\to$ standard basis\n",
    "\n",
    "\n",
    "$\\begin{bmatrix} 1 & 0 & 0 \\\\ 0 & 0 & 0 \\\\ 0 & 0 & 0 \\end{bmatrix}$,$\\begin{bmatrix} 0 & 1 & 0 \\\\ 0 & 0 & 0 \\\\ 0 & 0 & 0 \\end{bmatrix}$,$\\begin{bmatrix} 0 & 0 & 1 \\\\ 0 & 0 & 0 \\\\ 0 & 0 & 0  \\end{bmatrix}$,$\\cdots$,$\\begin{bmatrix} 0 & 0 & 0 \\\\ 0 & 0 & 0 \\\\ 0 & 0 & 1 \\end{bmatrix}$"
   ]
  },
  {
   "cell_type": "markdown",
   "id": "7d161e1b-1907-40a2-b35a-6bed98adc2c1",
   "metadata": {},
   "source": [
    "$S \\cap U$ = symmetric and upper triangular\n",
    "\n",
    "= diagonal $3 \\times 3$'s\n",
    "\n",
    "= dim($A \\cap U$) = 3\n",
    "\n",
    "- $\\cap$ = innerset"
   ]
  },
  {
   "cell_type": "markdown",
   "id": "c98a1085-b9f8-4ff9-93b1-a0eb48653163",
   "metadata": {},
   "source": [
    "$S \\cup U$ $S,U$ have different direction, respectly.\n",
    "\n",
    "- $\\cup$ = union"
   ]
  },
  {
   "cell_type": "markdown",
   "id": "2f0fa768-156c-4456-b31c-559cdacb5e34",
   "metadata": {},
   "source": [
    "$S + U$ = any element of $S$ + any element of $U$ = all $3 \\times 3$'s\n",
    "\n",
    "dim($S+U$) = 9\n",
    "\n",
    "dim S = 6 `+` dim $U$ = 6"
   ]
  },
  {
   "cell_type": "markdown",
   "id": "90336c60-8ba4-4098-bb40-7eb87c215984",
   "metadata": {},
   "source": [
    "sum of dimension = 6 + 6 `=` 3 + 9 ($\\cap + \\cup$)"
   ]
  },
  {
   "cell_type": "markdown",
   "id": "1c0af0e7-2f5a-4b31-82f3-cb4f63e3c899",
   "metadata": {},
   "source": [
    "`Example`"
   ]
  },
  {
   "cell_type": "markdown",
   "id": "d5d5b75b-ef95-48ed-acf2-4cd7fec5906f",
   "metadata": {},
   "source": [
    "$\\frac{d^2 y}{d x^2} + y = 0$\n",
    "\n",
    "$y = \\cos x + \\sin x$ (each element is basis)^[all combination 표현할 수 있으면 basis로 보기로 했잖아]"
   ]
  },
  {
   "cell_type": "markdown",
   "id": "f633904d-7067-4dbd-a494-363bec56140b",
   "metadata": {},
   "source": [
    "dim(solution space) = 2"
   ]
  },
  {
   "cell_type": "markdown",
   "id": "fccbe99b-cbdb-486e-86e4-17eeca47435c",
   "metadata": {},
   "source": [
    "Suppose rank = 1, this is the exmaple.\n",
    "\n",
    "$A = \\begin{bmatrix} 1 & 4 & 5 \\\\ 2 & 8 & 10 \\end{bmatrix}$, 2 by 3 matrix\n",
    "\n",
    "* dim $C(A)$ = rank = dim $C(A^T)$ = 1\n"
   ]
  },
  {
   "cell_type": "code",
   "execution_count": null,
   "id": "10c9e252-c54c-46f8-901c-38e0104a783e",
   "metadata": {},
   "outputs": [],
   "source": []
  }
 ],
 "metadata": {
  "kernelspec": {
   "display_name": "Python 3",
   "language": "python",
   "name": "python3"
  },
  "language_info": {
   "codemirror_mode": {
    "name": "ipython",
    "version": 3
   },
   "file_extension": ".py",
   "mimetype": "text/x-python",
   "name": "python",
   "nbconvert_exporter": "python",
   "pygments_lexer": "ipython3",
   "version": "3.8.0"
  }
 },
 "nbformat": 4,
 "nbformat_minor": 5
}
