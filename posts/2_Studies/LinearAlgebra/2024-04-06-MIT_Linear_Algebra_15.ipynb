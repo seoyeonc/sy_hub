{
 "cells": [
  {
   "cell_type": "raw",
   "id": "d0778fa4-4d90-46f2-841c-75549bd7eea6",
   "metadata": {
    "id": "cac470df-29e7-4148-9bbd-d8b9a32fa570",
    "tags": []
   },
   "source": [
    "---\n",
    "title: \"[Linear Algebra] Lecture 15\"\n",
    "author: \"SEOYEON CHOI\"\n",
    "date: \"2024-04-06\"\n",
    "---"
   ]
  },
  {
   "cell_type": "markdown",
   "id": "0f21cc9f-f266-41a7-9f94-00fb85b699c1",
   "metadata": {},
   "source": [
    "{{< video https://www.youtube.com/watch?v=Y_Ac6KiQ1t0&list=PL49CF3715CB9EF31D&index=15 >}}"
   ]
  },
  {
   "cell_type": "markdown",
   "id": "82c0f635-b68b-4a29-b4ce-373ac4eccadb",
   "metadata": {},
   "source": [
    "> 학습 목표"
   ]
  },
  {
   "cell_type": "markdown",
   "id": "1db2a3d3-d1af-4d23-8071-328bef3fbc62",
   "metadata": {},
   "source": [
    "- Projections\n",
    "- Least squares\n",
    "- Projection Matrix"
   ]
  },
  {
   "cell_type": "markdown",
   "id": "d918fd3e-4643-4f2f-a45e-be8c46314c84",
   "metadata": {},
   "source": [
    "목표: solution이 없을때 solution을 구하는 법 -> $Ax = b$에서 $b$가 column space에 없다면???"
   ]
  },
  {
   "cell_type": "markdown",
   "id": "d2027dbd-2522-4183-9870-96390b37f63a",
   "metadata": {},
   "source": [
    "`Projection` 투영"
   ]
  },
  {
   "cell_type": "markdown",
   "id": "cdf46474-004a-4f1e-bd8f-b7ac84c8f8b4",
   "metadata": {},
   "source": [
    "벡터 a에 벡터b에서 (수직방향으로 선틀 그렸을때 만나는)projection하면 나오는 $p=xa = Pb$가 됌. 여기서 error 값 $e = b-p$가 생김."
   ]
  },
  {
   "cell_type": "markdown",
   "id": "8d4cce86-1ddd-4d2e-b0b3-d45aa2282fa4",
   "metadata": {},
   "source": [
    "벡터 a와 수직인 e를 수식으로 나타낸다면? $a^T (b - xa) = 0$ $\\to$ orthogonal하니까,\n",
    "\n",
    "$xa^T a = a^T b$\n",
    "\n",
    "$x = \\frac{a^T b }{a^T a}$\n",
    "\n",
    "$p = ax$\n",
    "\n",
    "$p = a \\frac{a^T b }{a^T a}$"
   ]
  },
  {
   "cell_type": "markdown",
   "id": "1f991815-370d-429f-bb6c-aa0e3ee27c98",
   "metadata": {},
   "source": [
    "투영 벡터를 식으로 표현했을때 선형 대수적으로 표현한 것과 삼각법(cos)으로 표현한 것 일치\n",
    "\n",
    "- $cos(\\theta) = \\frac{a^T b}{ab}$ 니까"
   ]
  },
  {
   "cell_type": "markdown",
   "id": "f451c8c7-3a1b-4cf0-959d-9042a73afda3",
   "metadata": {},
   "source": [
    "- 투영 행렬"
   ]
  },
  {
   "cell_type": "markdown",
   "id": "399d6dfa-21eb-4532-84e5-7032a90c8847",
   "metadata": {},
   "source": [
    "$p = Pb$\n",
    "\n",
    "$P = \\frac{a a^T}{a^T a}$"
   ]
  },
  {
   "cell_type": "markdown",
   "id": "0d220db9-9a73-4296-ba5e-9f759d16bc04",
   "metadata": {},
   "source": [
    "`-` 지난 강의에서 배운 바, 어떤 두 벡터를 column vector $\\times$ row vector 순으로 곱하면 rank 1 인 행렬이 만들어진다는 것을 앎"
   ]
  },
  {
   "cell_type": "markdown",
   "id": "4bb70245-ee4e-4097-808d-f8d32cdcd597",
   "metadata": {},
   "source": [
    "$C(P)$ = line through $a$ column space of P는 a를 지나가는 선\n",
    "\n",
    "- vector a가 행렬 P의 column space의 기저가 됌.\n",
    "\n",
    "rank($p$) = 1\n",
    "\n",
    "$\\star$\n",
    "\n",
    "- $P$는 symmetric matrix\n",
    "- $P^T = P$\n",
    "- $P^2 = P$"
   ]
  },
  {
   "cell_type": "markdown",
   "id": "02701bed-3ff3-4d20-91cc-71849bef3e0d",
   "metadata": {},
   "source": [
    "Project 투영의 개념을 배우는 이유는 뭘까?"
   ]
  },
  {
   "cell_type": "markdown",
   "id": "3c97d5cc-bfa8-40e9-8565-9bfe37442e9f",
   "metadata": {},
   "source": [
    "Why project?\n",
    "\n",
    "- Because $Ax=b$ may have no solution \n",
    "- solve $A {\\hat x} = p$ where $p$ is project of $b$ on to column space. \n",
    "    - 해가 없는데 식은 정해져 있으니 근사한 해라도 구하려고"
   ]
  },
  {
   "cell_type": "markdown",
   "id": "bdb1314d-15c2-4934-bd0d-d917fe4d1be8",
   "metadata": {},
   "source": [
    "`-` When the dimension is 3"
   ]
  },
  {
   "cell_type": "markdown",
   "id": "f79ba957-6fc7-49b1-99b0-2626dd643cf9",
   "metadata": {},
   "source": [
    "3차원 공간에서 $a_1$ 벡터는 $x,y$ 축 사이로 뻗어 있고, $a_2$는 $y,z$ 축 사이로 뻗어 있고, $b$는 $y$축 위로 뻗어 있다면, $b$는 column space 평면 위에 존재하지 않기 때문에 만족하는 해 $x$는 존재하지 않는다 그래서 근접한 해를 찾자는게 관건이다."
   ]
  },
  {
   "cell_type": "markdown",
   "id": "4fca74eb-46c4-408b-afe9-33436295f990",
   "metadata": {},
   "source": [
    "plane of $a_1, a_2$ $\\to$ $a_1,a_2$가 basis임. 여기에 $b$가 가장 가까운 project는 수직으로 내리는 것이라는 것을 우리는 앎. 그게 projection $P$\n",
    "\n",
    "colspace of overdetermined matrix $A = \\begin{bmatrix} \\vdots & \\vdots \\\\ a_1 & a_2 \\\\ \\vdots & \\vdots \\end{bmatrix}$\n",
    "\n",
    "$e = b - p$ is group to plane\n",
    "\n",
    "$p = x_1 a_1 + x_2 a_2 = A {\\hat x}$\n",
    "\n",
    "$p = A{\\hat x}$ find ${\\hat x}$\n",
    "\n",
    "key: $b - p = b - A {\\hat x}$ is $\\perp$ plane\n",
    "\n",
    "$a_1^T (b - A {\\hat x}) = 0$\n",
    "\n",
    "$a_2^T (b - A {\\hat x}) = 0$\n",
    "\n",
    "$\\begin{bmatrix} a_1^T \\\\ a_2^T\\end{bmatrix} \\begin{bmatrix} b - A {\\hat x} \\end{bmatrix} = \\begin{bmatrix} 0 \\\\ 0 \\end{bmatrix}$\n",
    "\n",
    "$A^T(b - A {\\hat x}) = 0$ $\\to$ left null space의 형태랑 비슷\n",
    "\n",
    "$e$ in $N(A^T)$\n",
    "\n",
    "- 오차 벡터 $e = (b - A {\\hat x})$가 행렬 $A$에 대한 left null space 에 존재한다는 것을 알 수 있음\n",
    "\n",
    "$e \\perp C(A)$? $\\to$ Yes\n",
    "\n",
    "- 이전에 우리는 left null space가 행렬 A의 column space와 orthogonal하는 것을 배움."
   ]
  },
  {
   "cell_type": "markdown",
   "id": "02ddeff9-d66a-4ccc-b509-8830259f4419",
   "metadata": {},
   "source": [
    "$A^T A {\\hat x} = A^T b$\n",
    "\n",
    "${\\hat x} = (A^T A)^{-1} A^T b$ $\\to$ 이것은 최적해 best solution\n",
    "\n",
    "$pp = A {\\hat x} = A(A^TA)^{-1} A^T b$\n",
    "\n",
    "matrix $P = A(A^TA)^{-1} A^T$\n",
    "\n",
    "$A A^{-1}(A^T)^T A^T = I$\n",
    "\n",
    "- 이는 matrix $A$가 정방행렬이고 역행렬이 존재할때만 가능한 조건임.\n",
    "- 그런데 우리는 overdetermined matrix일때 solution 안 구해지는 거 가정하고 근사한 값을 찾는 중이잖아.\n",
    "- 따라서 overdetermined matrix의 경우엔 위처럼 단위행렬이 나오지 않는다.\n",
    "- $n$ dimension에서 projection matrix를 구하는 방법\n",
    "\n",
    "$P^T = P$\n",
    "\n",
    "$P^2 = P$"
   ]
  },
  {
   "cell_type": "markdown",
   "id": "95fe233f-10cf-4cac-a30e-21a6989d5fe4",
   "metadata": {},
   "source": [
    "---"
   ]
  },
  {
   "cell_type": "markdown",
   "id": "e04de257-741a-48b7-8905-30662696168b",
   "metadata": {},
   "source": [
    "`-` least squares"
   ]
  },
  {
   "cell_type": "markdown",
   "id": "82c31c3a-4d76-4a45-9b2e-bcab9bcac749",
   "metadata": {},
   "source": [
    "Fitting by a line"
   ]
  }
 ],
 "metadata": {
  "kernelspec": {
   "display_name": "Python 3",
   "language": "python",
   "name": "python3"
  },
  "language_info": {
   "codemirror_mode": {
    "name": "ipython",
    "version": 3
   },
   "file_extension": ".py",
   "mimetype": "text/x-python",
   "name": "python",
   "nbconvert_exporter": "python",
   "pygments_lexer": "ipython3",
   "version": "3.8.0"
  }
 },
 "nbformat": 4,
 "nbformat_minor": 5
}
