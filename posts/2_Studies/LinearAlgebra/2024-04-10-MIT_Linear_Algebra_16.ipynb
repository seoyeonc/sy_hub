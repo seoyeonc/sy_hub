{
 "cells": [
  {
   "cell_type": "raw",
   "id": "a6acc278-02d6-4e8e-928a-f8549f9a38a7",
   "metadata": {
    "id": "cac470df-29e7-4148-9bbd-d8b9a32fa570",
    "tags": []
   },
   "source": [
    "---\n",
    "title: \"[Linear Algebra] Lecture 16\"\n",
    "author: \"SEOYEON CHOI\"\n",
    "date: \"2024-04-10\"\n",
    "---"
   ]
  },
  {
   "cell_type": "markdown",
   "id": "974dffff-2698-4a9b-a6e9-fbaa52b3ddbb",
   "metadata": {},
   "source": [
    "{{< video https://www.youtube.com/watch?v=Y_Ac6KiQ1t0&list=PL49CF3715CB9EF31D&index=15 >}}"
   ]
  },
  {
   "cell_type": "markdown",
   "id": "1c0a31c8-d180-46a8-9fbf-62f6bc97adec",
   "metadata": {},
   "source": []
  },
  {
   "cell_type": "code",
   "execution_count": null,
   "id": "bd8666b3-5ccb-4c58-9556-f054467d095f",
   "metadata": {},
   "outputs": [],
   "source": []
  },
  {
   "cell_type": "markdown",
   "id": "9a7b5d0f-84f8-4ba9-9c2f-e8c03ffb34d3",
   "metadata": {},
   "source": [
    "https://twlab.tistory.com/35"
   ]
  }
 ],
 "metadata": {
  "kernelspec": {
   "display_name": "Python 3",
   "language": "python",
   "name": "python3"
  },
  "language_info": {
   "codemirror_mode": {
    "name": "ipython",
    "version": 3
   },
   "file_extension": ".py",
   "mimetype": "text/x-python",
   "name": "python",
   "nbconvert_exporter": "python",
   "pygments_lexer": "ipython3",
   "version": "3.8.0"
  }
 },
 "nbformat": 4,
 "nbformat_minor": 5
}
