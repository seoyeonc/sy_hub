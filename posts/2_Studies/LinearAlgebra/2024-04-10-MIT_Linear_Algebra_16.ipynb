{
 "cells": [
  {
   "cell_type": "raw",
   "id": "a6acc278-02d6-4e8e-928a-f8549f9a38a7",
   "metadata": {
    "id": "cac470df-29e7-4148-9bbd-d8b9a32fa570",
    "tags": []
   },
   "source": [
    "---\n",
    "title: \"[Linear Algebra] Lecture 16\"\n",
    "author: \"SEOYEON CHOI\"\n",
    "date: \"2024-04-10\"\n",
    "---"
   ]
  },
  {
   "cell_type": "markdown",
   "id": "974dffff-2698-4a9b-a6e9-fbaa52b3ddbb",
   "metadata": {},
   "source": [
    "{{< video https://www.youtube.com/watch?v=osh80YCg_GM&list=PL49CF3715CB9EF31D&index=16 >}}"
   ]
  },
  {
   "cell_type": "markdown",
   "id": "3a861091-1628-4347-9edd-7a35d2000493",
   "metadata": {},
   "source": [
    "# Import"
   ]
  },
  {
   "cell_type": "markdown",
   "id": "7425bb59-fb77-4aea-88c8-c8a701c3bd2f",
   "metadata": {},
   "source": [
    "import numpy as np\n",
    "import matplotlib.pyplot as plt"
   ]
  },
  {
   "cell_type": "markdown",
   "id": "a16174d4-1a4c-4c93-82ba-4f8940f87175",
   "metadata": {},
   "source": [
    "# Lecture"
   ]
  },
  {
   "cell_type": "markdown",
   "id": "1c0a31c8-d180-46a8-9fbf-62f6bc97adec",
   "metadata": {},
   "source": [
    "> 학습 목표"
   ]
  },
  {
   "cell_type": "markdown",
   "id": "1f2a545c-f19c-4964-91df-0a0b5d943b13",
   "metadata": {},
   "source": [
    "- Projections\n",
    "- Least Squares and best straight line"
   ]
  },
  {
   "cell_type": "markdown",
   "id": "79e24f3f-bc24-4679-adcb-b1e36e7c73be",
   "metadata": {},
   "source": [
    "$P = A(A^T A)^{-1} A^T$"
   ]
  },
  {
   "cell_type": "markdown",
   "id": "c8fe6ebd-a5a1-43fc-945e-71532fd11f39",
   "metadata": {},
   "source": [
    "- If $b$ in column space $Pb = b$\n",
    "    - 민약 $b$가 컬럼 스페이스에 존재한다면 프로젝션 매트릭스에 곱해도 그대로 $b$가 나옴\n",
    "    - $P = A(A^T A)^{-1} A^T b = A(A^T A)^{-1} A^T Ax = b$\n",
    "    - $b$는 컬럼 스페이스 위에 존재하는 벡터이므로 위와 같이 계산된다."
   ]
  },
  {
   "cell_type": "markdown",
   "id": "21627b32-8749-4ac3-8430-947cb822ff90",
   "metadata": {},
   "source": [
    "- If $b$ $\\perp$ column space $Pb = 0$\n",
    "    - 만약 $b$가 컬럼 스페이스랑 수직을 이루면 프로젝션 매트릭스에 곱하면 $0$이 나옴\n",
    "    - $P = Pb = A(A^T A)^{-1} A^T b = 0$\n",
    "    - $b$가 컬럼 스페이스가 아닌 다른 공간인 left null space에 존재하면 $0$이 된다."
   ]
  },
  {
   "cell_type": "markdown",
   "id": "7292a0d3-7ebe-40a3-8533-17134509246c",
   "metadata": {},
   "source": [
    "- $p$ = projection, $e$ = error, $b$ = a vector\n",
    "    - $p$는 columns space 에 있고\n",
    "    - $e$는 left null space 에 있다."
   ]
  },
  {
   "cell_type": "markdown",
   "id": "32e05dfe-e065-461b-a490-5d4ae9fed455",
   "metadata": {},
   "source": [
    "- $P$ = symmetric $\\to$ $(I-P)$ = symmetric\n",
    "- $P$ = projection $\\to$ $(I-P)$ = projection"
   ]
  },
  {
   "cell_type": "markdown",
   "id": "8dcdc0ab-da12-49f5-95ee-26ab78ef5a74",
   "metadata": {},
   "source": [
    "`-` Least Square Method"
   ]
  },
  {
   "cell_type": "code",
   "execution_count": 2,
   "id": "9fcd8869-4bf8-4246-94da-b0b4ecff7d58",
   "metadata": {},
   "outputs": [
    {
     "data": {
      "image/png": "[encoded data removed]",
      "text/plain": [
       "<Figure size 432x288 with 1 Axes>"
      ]
     },
     "metadata": {
      "needs_background": "light"
     },
     "output_type": "display_data"
    }
   ],
   "source": [
    "# 주어진 데이터 포인트\n",
    "data = [(1, 1), (2, 2), (3, 2)]\n",
    "x_data = [d[0] for d in data]\n",
    "y_data = [d[1] for d in data]\n",
    "\n",
    "# 다항 회귀를 위해 데이터를 변형합니다.\n",
    "x = np.array(x_data)\n",
    "y = np.array(y_data)\n",
    "\n",
    "# 다항 회귀를 위한 최소자승법을 사용하여 회귀선을 구합니다.\n",
    "coefficients = np.polyfit(x, y, 1)  # 1차 다항식을 사용합니다.\n",
    "\n",
    "# 다항식 생성\n",
    "p = np.poly1d(coefficients)\n",
    "\n",
    "# 회귀선 그리기\n",
    "plt.scatter(x, y, label='Data Points')\n",
    "plt.plot(x, p(x), color='red', label='Regression Line')\n",
    "plt.xlabel('X')\n",
    "plt.ylabel('Y')\n",
    "plt.title('Linear Regression')\n",
    "plt.legend()\n",
    "plt.grid(True)\n",
    "plt.show()\n"
   ]
  },
  {
   "cell_type": "markdown",
   "id": "be97866d-a8df-4cf8-bcc4-eea8e0401f8c",
   "metadata": {},
   "source": [
    "$Ax = b$ $\\to$ $\\begin{bmatrix} 1 & 1 \\\\ 1 & 2 \\\\ 1&3 \\end{bmatrix} \\begin{bmatrix} C \\\\ D \\end{bmatrix}  \\begin{bmatrix} 1 \\\\ 2 \\\\ 2 \\end{bmatrix}$"
   ]
  },
  {
   "cell_type": "markdown",
   "id": "38c3e430-4a4d-4062-9bff-0cdb22100534",
   "metadata": {},
   "source": [
    "- $y = C + Dt$ 식을 찾아본다고 할 때, \n",
    "    - $C + D = 1$\n",
    "    - $C + 2D = 2$\n",
    "    - $C + 3D = 2$\n",
    "        - Don't have a solution."
   ]
  },
  {
   "cell_type": "markdown",
   "id": "6b83a09e-f106-401b-9baa-8dbc7203dbf0",
   "metadata": {},
   "source": [
    "- best solution 찾기\n",
    "    - $A^T A{\\hat x} = A^T b$"
   ]
  },
  {
   "cell_type": "markdown",
   "id": "5d2220f0-0cb4-42d5-b22a-3ce99ad11fa3",
   "metadata": {},
   "source": [
    "- $||Ax - b||^2 = ||e||^2$\n",
    "    - $e_1^2 + e_2^2 + e_3^2$\n",
    "    - 각 $x$ 점에서 projection 한 값들"
   ]
  },
  {
   "cell_type": "markdown",
   "id": "3933b130-cee0-47de-b6c3-b241f6f2082d",
   "metadata": {},
   "source": [
    "- I want to minimized the sum of error."
   ]
  },
  {
   "cell_type": "markdown",
   "id": "b8cfe3cf-41cf-4e19-885e-9d376dedc60d",
   "metadata": {},
   "source": [
    "Find ${\\hat x} = \\begin{bmatrix} {\\hat c} \\\\ {\\hat p} \\end{bmatrix}, P$"
   ]
  },
  {
   "cell_type": "markdown",
   "id": "795c5e1b-6929-4e0f-a44d-13f20819c54c",
   "metadata": {},
   "source": [
    "- $b$ normal wquations(=eqnas)\n",
    "    - $3C + 6D = 5$\n",
    "    - $6C + 14D = 15$\n",
    "    - $2D = 1$ $\\therefore D = \\frac{1}{2}, C = \\frac{2}{3}$\n"
   ]
  },
  {
   "cell_type": "markdown",
   "id": "74ea743c-31b2-4664-aebd-8ef75f32e02f",
   "metadata": {},
   "source": [
    "- best line $\\frac{1}{2}t + \\frac{2}{3}$\n",
    "    - $e_1 = - \\frac{1}{6}, ex_2 = \\frac{2}{6}, e_3 = - \\frac{1}{6}$"
   ]
  },
  {
   "cell_type": "markdown",
   "id": "ce20c1ee-f7a8-4a2f-9b6f-1815449f0448",
   "metadata": {},
   "source": [
    "- $(C+D-1)^2$ + $(C+2D-2)^2 + (-3D - 2^2)$"
   ]
  },
  {
   "cell_type": "markdown",
   "id": "5aab20b6-7273-444d-9200-4b9212421cbb",
   "metadata": {},
   "source": [
    "- $A^T A \\hat{x} = A^T b $\n",
    "- $P = A {\\hat x}$"
   ]
  },
  {
   "cell_type": "markdown",
   "id": "dab2ccbb-b168-40b6-8916-3c72f2237749",
   "metadata": {},
   "source": [
    "- If $A$ has independant columns then $A^TA$ is invertible.\n",
    "     - Suppose $A^T A x = 0$\n",
    "     - $X$ must be $0$"
   ]
  },
  {
   "cell_type": "markdown",
   "id": "91078712-5cd1-434a-87fa-b3788cf3b7d6",
   "metadata": {},
   "source": [
    "- Idea\n",
    "    - $X^T A^T A x = 0 = (A_x)^T Ax $\\to$ $Ax = 0, X+0$"
   ]
  },
  {
   "cell_type": "markdown",
   "id": "17dc4fc8-bf06-46d3-bbfb-830496d23c40",
   "metadata": {},
   "source": [
    "- columns definitely independent if they are perp unit vectors or thomominal vectores"
   ]
  }
 ],
 "metadata": {
  "kernelspec": {
   "display_name": "Python 3",
   "language": "python",
   "name": "python3"
  },
  "language_info": {
   "codemirror_mode": {
    "name": "ipython",
    "version": 3
   },
   "file_extension": ".py",
   "mimetype": "text/x-python",
   "name": "python",
   "nbconvert_exporter": "python",
   "pygments_lexer": "ipython3",
   "version": "3.8.0"
  }
 },
 "nbformat": 4,
 "nbformat_minor": 5
}
