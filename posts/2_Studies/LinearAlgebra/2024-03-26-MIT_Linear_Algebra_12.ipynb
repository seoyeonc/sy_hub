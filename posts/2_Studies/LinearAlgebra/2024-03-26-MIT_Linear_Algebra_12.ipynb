{
 "cells": [
  {
   "cell_type": "raw",
   "id": "9092f8ca-25fa-4d2e-8965-9cefc2634de0",
   "metadata": {
    "id": "cac470df-29e7-4148-9bbd-d8b9a32fa570",
    "tags": []
   },
   "source": [
    "---\n",
    "title: \"[Linear Algebra] Lecture 12\"\n",
    "author: \"SEOYEON CHOI\"\n",
    "date: \"2024-03-26\"\n",
    "---"
   ]
  },
  {
   "cell_type": "markdown",
   "id": "7b777f9c-8d11-4121-a098-75e8c1aae669",
   "metadata": {},
   "source": [
    "{{< video https://www.youtube.com/watch?v=6-wh6yvk6uc&list=PL49CF3715CB9EF31D&index=12 >}}"
   ]
  },
  {
   "cell_type": "markdown",
   "id": "2089cf17-ae05-4698-8d2a-f515480bb679",
   "metadata": {},
   "source": [
    "> 학습목표"
   ]
  },
  {
   "cell_type": "markdown",
   "id": "1ffcedbe-199b-4143-8288-8a1d2c0b9684",
   "metadata": {},
   "source": [
    "- Graph and Networks\n",
    "- Insidence Matrices\n",
    "- Kirchhoff's Laws"
   ]
  },
  {
   "cell_type": "markdown",
   "id": "9e65dc70-f5d7-4988-bdef-af9e6ce0e330",
   "metadata": {},
   "source": [
    "`-` Graph: Nodes, Edges"
   ]
  },
  {
   "cell_type": "markdown",
   "id": "ea3210e7-614a-487d-99d6-755a8d29e09b",
   "metadata": {},
   "source": [
    "- nodes $n = 4$ \n",
    "- edges $m = 5$\n",
    "    - node 1 $\\to$ node 2\n",
    "    - node 1 $\\to$ node 3\n",
    "    - node 1 $\\to$ node 4\n",
    "    - node 2 $\\to$ node 3\n",
    "    - node 3 $\\to$ node 4"
   ]
  },
  {
   "cell_type": "markdown",
   "id": "c5370a19-4983-48a5-be4e-b2e3557ca5df",
   "metadata": {},
   "source": [
    "https://twlab.tistory.com/29"
   ]
  },
  {
   "cell_type": "code",
   "execution_count": null,
   "id": "174d985e-4761-4e4b-b327-eb8f658a389f",
   "metadata": {},
   "outputs": [],
   "source": []
  }
 ],
 "metadata": {
  "kernelspec": {
   "display_name": "Python 3",
   "language": "python",
   "name": "python3"
  },
  "language_info": {
   "codemirror_mode": {
    "name": "ipython",
    "version": 3
   },
   "file_extension": ".py",
   "mimetype": "text/x-python",
   "name": "python",
   "nbconvert_exporter": "python",
   "pygments_lexer": "ipython3",
   "version": "3.8.0"
  }
 },
 "nbformat": 4,
 "nbformat_minor": 5
}
