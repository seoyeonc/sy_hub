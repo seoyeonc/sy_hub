{
 "cells": [
  {
   "cell_type": "raw",
   "id": "9092f8ca-25fa-4d2e-8965-9cefc2634de0",
   "metadata": {
    "id": "cac470df-29e7-4148-9bbd-d8b9a32fa570",
    "tags": []
   },
   "source": [
    "---\n",
    "title: \"[Linear Algebra] Lecture 12\"\n",
    "author: \"SEOYEON CHOI\"\n",
    "date: \"2024-03-26\"\n",
    "---"
   ]
  },
  {
   "cell_type": "markdown",
   "id": "7b777f9c-8d11-4121-a098-75e8c1aae669",
   "metadata": {},
   "source": [
    "{{< video https://www.youtube.com/watch?v=6-wh6yvk6uc&list=PL49CF3715CB9EF31D&index=12 >}}"
   ]
  },
  {
   "cell_type": "markdown",
   "id": "2089cf17-ae05-4698-8d2a-f515480bb679",
   "metadata": {},
   "source": [
    "> 학습목표"
   ]
  },
  {
   "cell_type": "markdown",
   "id": "1ffcedbe-199b-4143-8288-8a1d2c0b9684",
   "metadata": {},
   "source": [
    "- Graph and Networks\n",
    "- Insidence Matrices\n",
    "- Kirchhoff's Laws"
   ]
  },
  {
   "cell_type": "markdown",
   "id": "9e65dc70-f5d7-4988-bdef-af9e6ce0e330",
   "metadata": {},
   "source": [
    "`-` Graph: Nodes, Edges"
   ]
  },
  {
   "cell_type": "markdown",
   "id": "ea3210e7-614a-487d-99d6-755a8d29e09b",
   "metadata": {},
   "source": [
    "- nodes $n = 4$ \n",
    "- edges $m = 5$\n",
    "    - node 1 $\\to$ node 2\n",
    "    - node 1 $\\to$ node 3\n",
    "    - node 1 $\\to$ node 4\n",
    "    - node 2 $\\to$ node 3\n",
    "    - node 3 $\\to$ node 4"
   ]
  },
  {
   "cell_type": "markdown",
   "id": "667094dd-5109-4e98-8a00-b8b2bf5940bc",
   "metadata": {},
   "source": [
    "directed graph: 방향이 있는 edge로 구성된 그래프\n",
    "\n",
    "undirected graph: 방향이 없는 edge로 구성된 그래프"
   ]
  },
  {
   "cell_type": "markdown",
   "id": "25cd58bf-58ab-4ac9-b267-06df87137da8",
   "metadata": {},
   "source": [
    "`-` Incidence Matrix 근접행렬"
   ]
  },
  {
   "cell_type": "markdown",
   "id": "5982320a-43cb-418c-adb9-c103488e73cd",
   "metadata": {},
   "source": [
    "$A = \\begin{bmatrix} -1 & 1 & 0 & 0 & \\text{Edge 1} \\\\ 0 & -1& 1 & 0  & \\text{Edge 2}\\\\ -1 & 0 & 1 & 0  & \\text{Edge 3}\\\\ -1 & 0 & 0 & 1  & \\text{Edge 4}\\\\ 0 & 0 & -1& 1  & \\text{Edge 5}\\end{bmatrix}$"
   ]
  },
  {
   "cell_type": "markdown",
   "id": "9a1a79a5-c822-4b80-9fcb-0d75257864f3",
   "metadata": {},
   "source": [
    "- 각 행을 노드 번호로, 각 열은 엣지로 봤을때, 노드 1 -> 노드 2라면 1행 1열에서 1이 나가서(-1, 출발) 1행 2열로 1이 들어오는(1, 도착)방식"
   ]
  },
  {
   "cell_type": "markdown",
   "id": "11812442-48b5-428d-a0db-5f34b39bc94d",
   "metadata": {},
   "source": [
    "**loop루프** : 노드들이 연결되어져 있는 부분 그래프 subgraph(노드 간 엣지로 연결된 후 나오는 중복되지 않는 부분의 삼각형 또는 부분면적이라 보기도 함)"
   ]
  },
  {
   "cell_type": "markdown",
   "id": "c9f66802-40c9-4daa-9135-b5ebe23434cd",
   "metadata": {},
   "source": [
    "- $\\star$ 여기서 Edge 1, Edge 2, Edge 3 은 Edge 1+ Edge 2 = Edge 3의 linear dependent선형 종속 관계를 갖는 loop라고 할 수 있다.\n",
    "    - loop 1(Edge 1, Edge 2, Edge 3)의 row는 dependent(종속)하다.\n",
    "\n",
    "- 행마다 0이 2개"
   ]
  },
  {
   "cell_type": "markdown",
   "id": "202fe6b8-3aa5-4588-bdf6-63db19f75f75",
   "metadata": {},
   "source": [
    "`-` Potential difference and null space of A A의 0공간과 전위차(전자 회로 관점에서 해석)"
   ]
  },
  {
   "cell_type": "markdown",
   "id": "81a04065-3463-43be-b035-8cc17b7d5f51",
   "metadata": {},
   "source": [
    "위처럼 incidence matrix 근접행렬을 구하면 행렬은 엣지당 0을 두 개씩 가지게 된다. 근데, 행렬이 커진다면, 0이 행마다 2개씩 존재하여 행렬의 대부붑이 0이라는 원소를 가지게 되는 `sparse matrix, 희소행렬` 이 된다.\n",
    "\n",
    "- 희소행렬이고, 행 및 열으로 그래프 형태를 추측할 수 있다면 실제 문제를 linear algebra 적으로 행렬에 의해 분석할 수 있는 가능성이 있고, 그 방법 중 하나가 incidence matrix 에서 null space 찾는 것.\n",
    "    - 만약, column끼리 독립이면, x 행렬은 0행렬만이 존재할 것.\n",
    "    - 만약, column끼리 독립이 아니라면, 종속이라면 null space를 만드는 공간의 집합이 나올 것."
   ]
  },
  {
   "cell_type": "markdown",
   "id": "0f87d666-11c0-464b-82b2-e3af8da7aa85",
   "metadata": {},
   "source": [
    "$Ax = 0$\n",
    "\n",
    "$Ax = \\begin{bmatrix} -1 & 1 & 0 & 0  \\\\ 0 & -1& 1 & 0  \\\\ -1 & 0 & 1 & 0\\\\ -1 & 0 & 0 & 1 \\\\ 0 & 0 & -1& 1  \\end{bmatrix} \\begin{bmatrix} x_1 \\\\ x_2 \\\\ x_3 \\\\x_4\\end{bmatrix} = \\begin{bmatrix}x_2 - x_1 \\\\x_3 - x_2 \\\\x_3 - x_1 \\\\x_4 - x_1 \\\\x_4 - x_3 \\\\ \\end{bmatrix} = \\begin{bmatrix} 0\\\\0\\\\0\\\\0\\\\0\\end{bmatrix}$\n",
    "\n",
    "이렇게 표현한게 potental difference\n",
    "\n",
    "- 전기로 해석하자면, x가 모두 0이면(해가 없으면) 전기가 흐르지 않는 것과 같음"
   ]
  },
  {
   "cell_type": "markdown",
   "id": "b69c3ebc-7494-492a-8f62-507d5628c747",
   "metadata": {},
   "source": [
    "edge 는 -1또는 1 하나랑 0 두개를 가진 행이므로, 합은 꼭 0이다.\n",
    "\n",
    "- 결국 0공간의 해는 아래와 같다.\n",
    "\n",
    "$x = c \\begin{bmatrix} 1 \\\\1\\\\1\\\\1 \\end{bmatrix}$ \n",
    "\n",
    "- $\\begin{bmatrix} 1 \\\\1\\\\1\\\\1 \\end{bmatrix}$ basis of nullspace"
   ]
  },
  {
   "cell_type": "markdown",
   "id": "2a574c75-3954-4bc7-83b8-4cd4ea40bff9",
   "metadata": {},
   "source": [
    "하지만 위는 상수 c에 따라 $x_1,x_2,x_3,x4$가 같은 값을 가지게 된다는 말이 된다 (전위차가 없다는 말이 된다.)\n",
    "\n",
    "- 전위차를 만들기 위해서 ground 개념 등장\n",
    "    - 하나의 노드를 그라운드로 설정하고($x_n$중 하나) 나머자의 해를 구하는 것이다.\n",
    "    - 전위차가 있다는 말이 전기가 흐른다느 말과 같음"
   ]
  },
  {
   "cell_type": "markdown",
   "id": "6942e061-9dad-419e-a1a5-d2bd3ff4ed5b",
   "metadata": {},
   "source": [
    "**dimension of null space = dim N(A) = n-r = 1, n = 4 , therefore r(rank) = 3 and $x_1,x_2,x3$ are independent**"
   ]
  },
  {
   "cell_type": "markdown",
   "id": "1f6d52d6-221d-41c4-a09e-3f030187e180",
   "metadata": {},
   "source": [
    "`-` Kirchoff's current law and null space of A transpose"
   ]
  },
  {
   "cell_type": "markdown",
   "id": "649f085f-7d70-4e71-aea2-4a84f4f54c2a",
   "metadata": {},
   "source": [
    "$A^T y = \\begin{bmatrix} -1 & 0 & -1 & -1 & 0 \\\\ 1 & -1 & 0 & 0 & 0 \\\\ 0 & 1 & 1 & 0 & -1\\\\ 0 & 0 & 0 & 1 & 1 \\end{bmatrix} \\begin{bmatrix} y_1\\\\y_2\\\\y_3\\\\y_4\\\\y_5 \\end{bmatrix} = \\begin{bmatrix}0\\\\0\\\\0\\\\0\\\\0 \\end{bmatrix}$"
   ]
  },
  {
   "cell_type": "markdown",
   "id": "a868c10b-b3e6-4625-9d1c-3282f49ef5b5",
   "metadata": {},
   "source": [
    "dimension of left null space = dim $N(A^T) = m-r = 2, m=5, r=3$"
   ]
  },
  {
   "cell_type": "markdown",
   "id": "131f0ed5-23bf-4e21-95e3-3a0d9da55a8b",
   "metadata": {},
   "source": [
    "$-y_1 - y_3 -y_4 = 0$\n",
    "\n",
    "$y_1 - y_2 = 0$\n",
    "\n",
    "$y_2 + y_3 -y_5 = 0$\n",
    "\n",
    "$y_3 +y_5 = 0$"
   ]
  },
  {
   "cell_type": "markdown",
   "id": "e187ac1a-5bb0-484d-9d5e-18b4887e5aab",
   "metadata": {},
   "source": [
    "키르히르프 법칙 = 전기는 들어온만큼 나간다."
   ]
  },
  {
   "cell_type": "markdown",
   "id": "4abc1cc3-2479-40c2-aeb3-a5764cd9f171",
   "metadata": {},
   "source": [
    "$y$의 해 $\\begin{bmatrix} 1 \\\\1\\\\-1\\\\0\\\\1\\end{bmatrix} , \\begin{bmatrix}0\\\\0\\\\1\\\\-1\\\\1 \\end{bmatrix}$"
   ]
  },
  {
   "cell_type": "markdown",
   "id": "0dc830a7-1888-4a27-9e9f-e85f1dfa2a90",
   "metadata": {},
   "source": [
    "위에서 독립인 edge는 $x_1 \\to x_4, x_1 \\to x_2, x_2 \\to x_3$ -> loop 가 없는(선 그엇을때 삼각형의 모양이 안 나오는)형태가 된다.\n",
    "\n",
    "- 이를 Tree라고 한다."
   ]
  },
  {
   "cell_type": "markdown",
   "id": "6251a4a2-6c7d-43ca-a4c0-9517bb0fd658",
   "metadata": {},
   "source": [
    "`-`"
   ]
  },
  {
   "cell_type": "markdown",
   "id": "0c10388a-81b1-48e5-86ca-59a136bb15e3",
   "metadata": {},
   "source": [
    "#loops = #edges - (#nodes-1)\n",
    "\n",
    "- 여기서 1은 rank"
   ]
  },
  {
   "cell_type": "markdown",
   "id": "e62f5629-be01-456f-80f6-752157e06bd0",
   "metadata": {},
   "source": [
    "#nodes - #edges + #loops -1\n",
    "\n",
    "- 이는 위처럼 오일러 공식으로 설명 가능"
   ]
  },
  {
   "cell_type": "markdown",
   "id": "2522b9a2-8fd1-49b1-8a0e-b54eb1ae162c",
   "metadata": {},
   "source": [
    "`-` Step"
   ]
  },
  {
   "cell_type": "markdown",
   "id": "4b5a63a6-1cfa-4171-a92a-edb36021dde7",
   "metadata": {},
   "source": [
    "$x$ = potential at nodes\n",
    "\n",
    "$e = Ax$ = potential difference\n",
    "\n",
    "$y = Ce$\n",
    "\n",
    "- $y = CAx$\n",
    "\n",
    "$A^Ty = 0$\n",
    "\n",
    "- $A^TCAx = 0$"
   ]
  },
  {
   "cell_type": "code",
   "execution_count": null,
   "id": "ed69499a-2b00-4f7a-a69a-d269a43effef",
   "metadata": {},
   "outputs": [],
   "source": []
  }
 ],
 "metadata": {
  "kernelspec": {
   "display_name": "Python 3",
   "language": "python",
   "name": "python3"
  },
  "language_info": {
   "codemirror_mode": {
    "name": "ipython",
    "version": 3
   },
   "file_extension": ".py",
   "mimetype": "text/x-python",
   "name": "python",
   "nbconvert_exporter": "python",
   "pygments_lexer": "ipython3",
   "version": "3.8.0"
  }
 },
 "nbformat": 4,
 "nbformat_minor": 5
}
