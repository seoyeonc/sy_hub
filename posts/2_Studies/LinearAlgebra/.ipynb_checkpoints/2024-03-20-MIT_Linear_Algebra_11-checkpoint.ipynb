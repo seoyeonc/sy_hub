{
 "cells": [
  {
   "cell_type": "raw",
   "id": "92240b3b-1763-424a-aa95-f0f64aa38657",
   "metadata": {
    "id": "cac470df-29e7-4148-9bbd-d8b9a32fa570",
    "tags": []
   },
   "source": [
    "---\n",
    "title: \"[Linear Algebra] Lecture 11\"\n",
    "author: \"SEOYEON CHOI\"\n",
    "date: \"2024-03-20\"\n",
    "---"
   ]
  },
  {
   "cell_type": "markdown",
   "id": "e884f911-6237-45fa-8fcb-ca41dab5921f",
   "metadata": {},
   "source": [
    "{{< video https://www.youtube.com/watch?v=2IdtqGM6KWU&list=PL49CF3715CB9EF31D&index=12 >}}"
   ]
  },
  {
   "cell_type": "markdown",
   "id": "502a7f82-d3b5-41f3-8e54-24e5ac14b1ef",
   "metadata": {},
   "source": [
    "> 학습 목표\n",
    "\n",
    "- Bases of New Vector Spaces\n",
    "- Rank one matrices\n",
    "- small world graphs"
   ]
  },
  {
   "cell_type": "markdown",
   "id": "6a74a25b-23e8-48f6-a1b0-6eca54792374",
   "metadata": {},
   "source": [
    "`-` Bases of all vector spaces"
   ]
  },
  {
   "cell_type": "markdown",
   "id": "0802d227-5cb3-4977-8656-f92580872bff",
   "metadata": {},
   "source": [
    "$3 \\times 3$ 행렬의 부분 공간\n",
    "1. $3 \\times 3$ symmetric matrix 대칭 행렬\n",
    "2. $3 \\times 3$ upper triangular matrix 상삼각행렬\n",
    "3. $3 \\times 3$ diagonal matrix 대각 행렬"
   ]
  },
  {
   "cell_type": "markdown",
   "id": "e5ec55d5-3a49-49e6-bdaa-f1c762913fdc",
   "metadata": {},
   "source": [
    "`-` basis of $M$"
   ]
  },
  {
   "cell_type": "markdown",
   "id": "2ab995cb-9e86-490b-b044-2ef1384eb929",
   "metadata": {},
   "source": [
    "$M = $ all 3 bt 3 matrices, dim(M) = 9\n",
    "\n",
    "- $\\to$ 이를 하나의 벡터로 간주하고 표현할 수 있는 공간을 알고자 한다면, 원소의 개수가 차원이 됌\n",
    "\n",
    "Symmetric $3 \\times 3$, dim(S) = 6(diagonal = 3, 3 entries)\n",
    "\n",
    "matrices upper triangular $3 \\times 3$ dim(U)=6\n",
    "\n",
    "Basis for $M=$ all $3 \\times 3$'s"
   ]
  },
  {
   "cell_type": "markdown",
   "id": "d43e6499-34bd-4650-a7e8-52db3abc5410",
   "metadata": {},
   "source": [
    "$\\to$ standard basis^[1과 0으로만 구성된 basis] for $M$, 9개\n",
    "\n",
    "\n",
    "$\\begin{bmatrix} 1 & 0 & 0 \\\\ 0 & 0 & 0 \\\\ 0 & 0 & 0 \\end{bmatrix}$,\n",
    "$\\begin{bmatrix} 0 & 1 & 0 \\\\ 0 & 0 & 0 \\\\ 0 & 0 & 0 \\end{bmatrix}$,\n",
    "$\\begin{bmatrix} 0 & 0 & 1 \\\\ 0 & 0 & 0 \\\\ 0 & 0 & 0  \\end{bmatrix}$,\n",
    "$\\begin{bmatrix} 0 & 0 & 0 \\\\ 1 & 0 & 0 \\\\ 0 & 0 & 0 \\end{bmatrix}$,\n",
    "$\\begin{bmatrix} 0 & 0 & 0 \\\\ 0 & 1 & 0 \\\\ 0 & 0 & 0 \\end{bmatrix}$,\n",
    "$\\begin{bmatrix} 0 & 0 & 0 \\\\ 0 & 0 & 1 \\\\ 0 & 0 & 0 \\end{bmatrix}$,\n",
    "$\\begin{bmatrix} 0 & 0 & 0 \\\\ 0 & 0 & 0 \\\\ 1 & 0 & 0 \\end{bmatrix}$,\n",
    "$\\begin{bmatrix} 0 & 0 & 0 \\\\ 0 & 0 & 0 \\\\ 0 & 1 & 0 \\end{bmatrix}$,\n",
    "$\\begin{bmatrix} 0 & 0 & 0 \\\\ 0 & 0 & 0 \\\\ 0 & 0 & 1 \\end{bmatrix}$"
   ]
  },
  {
   "cell_type": "markdown",
   "id": "18028cfe-b9f3-4cc6-8800-f70171f172d8",
   "metadata": {},
   "source": [
    "`-` symmetric matrix as a subspace of $M$"
   ]
  },
  {
   "cell_type": "markdown",
   "id": "a1a63a5e-5c41-4abe-bde8-bebe8c28de6e",
   "metadata": {},
   "source": [
    "$S$, symmetrix matrix의 basis에 포함되는 $M$의 기저 행렬들, 3개\n",
    "\n",
    "$\\begin{bmatrix} 1 & 0 & 0 \\\\ 0 & 0 & 0 \\\\ 0 & 0 & 0 \\end{bmatrix}$,\n",
    "$\\begin{bmatrix} 0 & 0 & 0 \\\\ 0 & 1 & 0 \\\\ 0 & 0 & 0 \\end{bmatrix}$,\n",
    "$\\begin{bmatrix} 0 & 0 & 0 \\\\ 0 & 0 & 0 \\\\ 0 & 0 & 1 \\end{bmatrix}$\n",
    "\n",
    "symmetrix matrix의 basis인 나머지 3개\n",
    "\n",
    "$\\begin{bmatrix} 0 & 1 & 0 \\\\ 1 & 0 & 0 \\\\ 0 & 0 & 0 \\end{bmatrix}$,\n",
    "$\\begin{bmatrix} 0 & 0 & 1 \\\\ 0 & 0 & 0 \\\\ 1 & 0 & 0 \\end{bmatrix}$,\n",
    "$\\begin{bmatrix} 0 & 0 & 0 \\\\ 0 & 0 & 1 \\\\ 0 & 1 & 0 \\end{bmatrix}$\n",
    "\n",
    "즉, symmetric matrix의 dimension은 6"
   ]
  },
  {
   "cell_type": "markdown",
   "id": "a00518d3-ee55-46b5-ab9d-0681a4b20a4a",
   "metadata": {},
   "source": [
    "`-`upper triangular matrix as a subspace of $M$"
   ]
  },
  {
   "cell_type": "markdown",
   "id": "164899ce-f218-4143-88c2-d16cef68f1cf",
   "metadata": {},
   "source": [
    "$U$, Upper truangular matrix, 상삼각행렬의 basis, 기저는 6개\n",
    "\n",
    "$\\begin{bmatrix} 1 & 0 & 0 \\\\ 0 & 0 & 0 \\\\ 0 & 0 & 0 \\end{bmatrix}$,\n",
    "$\\begin{bmatrix} 0 & 1 & 0 \\\\ 0 & 0 & 0 \\\\ 0 & 0 & 0 \\end{bmatrix}$,\n",
    "$\\begin{bmatrix} 0 & 0 & 1 \\\\ 0 & 0 & 0 \\\\ 0 & 0 & 0  \\end{bmatrix}$,\n",
    "$\\begin{bmatrix} 0 & 0 & 0 \\\\ 0 & 1 & 0 \\\\ 0 & 0 & 0 \\end{bmatrix}$,\n",
    "$\\begin{bmatrix} 0 & 0 & 0 \\\\ 0 & 0 & 1 \\\\ 0 & 0 & 0 \\end{bmatrix}$,\n",
    "$\\begin{bmatrix} 0 & 0 & 0 \\\\ 0 & 0 & 0 \\\\ 0 & 0 & 1 \\end{bmatrix}$\n",
    "\n",
    "즉, 차원은 6"
   ]
  },
  {
   "cell_type": "markdown",
   "id": "e4240b61-1d53-4644-b7b5-230fb7fd5c39",
   "metadata": {},
   "source": [
    "`-` diagonal matrix as a subspace of $M$"
   ]
  },
  {
   "cell_type": "markdown",
   "id": "7d161e1b-1907-40a2-b35a-6bed98adc2c1",
   "metadata": {},
   "source": [
    "$S \\cap U$ = symmetric and upper triangular\n",
    "\n",
    "= diagonal $3 \\times 3$'s\n",
    "\n",
    "= dim($A \\cap U$) = 3\n",
    "\n",
    "- $\\cap$ = innerset\n",
    "\n",
    "$S \\cap U = D \\to$ $\\begin{bmatrix} 1 & 1& 1 \\\\1 & 1& 1 \\\\1 & 1& 1\\end{bmatrix}$ $\\cap $ $\\begin{bmatrix}1 & 1& 1 \\\\ 0 & 1& 1 \\\\ 0 & 0& 1 \\\\\\end{bmatrix}$=$\\begin{bmatrix} 1 & 0&0 \\\\0 & 1& 0 \\\\ 0 & 0& 1 \\end{bmatrix}$\n",
    "\n",
    "즉, 대각행렬의 차원이 3이다."
   ]
  },
  {
   "cell_type": "markdown",
   "id": "c98a1085-b9f8-4ff9-93b1-a0eb48653163",
   "metadata": {},
   "source": [
    "$S \\cup U$ $S,U$ have different direction, respectively.\n",
    "\n",
    "- $\\cup$ = union\n",
    "- 9차원인 symmetric과 6차원의 upper triangular는 합집합을 못하는데, 각각 다른 방향으로 존재하기 때문이다.\n",
    "    - $\\therefore$ 부분공간이 아니다."
   ]
  },
  {
   "cell_type": "markdown",
   "id": "b389cddf-5284-4665-a54c-b382a77d6b16",
   "metadata": {},
   "source": [
    "- 해결책!"
   ]
  },
  {
   "cell_type": "markdown",
   "id": "2f0fa768-156c-4456-b31c-559cdacb5e34",
   "metadata": {},
   "source": [
    "$S + U$ = any element of $S$ + any element of $U$ = all $3 \\times 3$'s\n",
    "\n",
    "- 모든 $3 \\times 3$ 크기의 모든 행렬 $M$ 만들기 가능해졌다.\n",
    "\n",
    "dim($S+U$) = 9\n",
    "\n",
    "dim S = 6 `+` dim $U$ = 6"
   ]
  },
  {
   "cell_type": "markdown",
   "id": "90336c60-8ba4-4098-bb40-7eb87c215984",
   "metadata": {},
   "source": [
    "sum of dimension = 6 + 6 `=` 3 + 9 ($\\cap + \\cup$)\n",
    "\n",
    "-> 따라서 부분공간으로 정의하는 차원이나 기저 등의 연산이 자연스럽게 산출된다는 증거로 볼 수 있다."
   ]
  },
  {
   "cell_type": "markdown",
   "id": "1c0af0e7-2f5a-4b31-82f3-cb4f63e3c899",
   "metadata": {},
   "source": [
    "`Example`"
   ]
  },
  {
   "cell_type": "markdown",
   "id": "d5d5b75b-ef95-48ed-acf2-4cd7fec5906f",
   "metadata": {},
   "source": [
    "미분 방정식을 예로 들자면,\n",
    "\n",
    "$\\frac{d^2 y}{d x^2} + y = 0$\n",
    "\n",
    "이 basis는\n",
    "\n",
    "- (1)\n",
    "    - $y= \\cos(x)$\n",
    "    - $y= \\sin(x)$\n",
    "    - $y= e^{ix}$\n",
    "    - $\\cdots$\n",
    "\n",
    "$\\frac{d^2 y}{d x^2} + y = y^{''} + y = 0$\n",
    "\n",
    "- (2)\n",
    "    - $-\\cos(x)+\\cos(x)=0$\n",
    "    - $-\\sin(x)+\\sin(x)=0$\n",
    "    - $e^{ix} + e^{ix} = 0$\n",
    "    - $\\cdots$\n",
    "\n",
    "이렇게 보니, 풀어쓴 해는 basis의 영공간nullspace를 나타낸 것으로도 볼 수 있다.\n",
    "\n",
    "complete solution, 즉 완전해를 정의하자면?\n",
    "\n",
    "- (3)\n",
    "    - $y = c_1 \\cos x + c_2\\sin x$ (each element is basis)^[all combination 표현할 수 있으면 basis로 보기로 했잖아]\n",
    "\n",
    "- 위와 같은 벡터공간vector space 로 정의 가능 미분 방정식의 basis를 이용하여 선형결합하여 표현하였기 때문이고,\n",
    "- 여기서 $\\cos$, $\\sin$은 basis가 되겠다. \n",
    "\n",
    "즉, 미분방정식은 $Ax=0$의 solution으로 해석 가능하고, 선형 조합한 결과(3)는 영공간nullspace를 정의하기 위한 special solution으로 볼 수 있다.\n",
    "\n",
    "- special solution = 2\n",
    "- dimension = 2\n",
    "    - 미분 방정식이 2차라서 차원은 사실 2일 수밖에 없음."
   ]
  },
  {
   "cell_type": "markdown",
   "id": "f633904d-7067-4dbd-a494-363bec56140b",
   "metadata": {},
   "source": [
    "dim(solution space) = 2"
   ]
  },
  {
   "cell_type": "markdown",
   "id": "c2a80814-2ce3-440e-a5b3-c740e62b90a4",
   "metadata": {},
   "source": [
    "`-` Rank one matrices"
   ]
  },
  {
   "cell_type": "markdown",
   "id": "59a6c934-1450-4398-863d-71324ad2cbb7",
   "metadata": {},
   "source": [
    "Suppose rank = 1, this is the exmaple.\n",
    "\n",
    "$A = \\begin{bmatrix} 1 & 4 & 5 \\\\ 2 & 8 & 10 \\end{bmatrix}$, 2 by 3 matrix\n",
    "\n",
    "* dim $C(A)$ = rank = dim $C(A^T)$ = 1\n",
    "\n",
    "- basis of $C(A)$ = $\\begin{bmatrix} 1 \\\\ 2\\end{bmatrix}$\n",
    "\n",
    "- basis of $C(A)^T$ = $\\begin{bmatrix} 1 & 4 & 5 \\end{bmatrix}$"
   ]
  },
  {
   "cell_type": "markdown",
   "id": "bede75e8-0ed9-41c3-a206-3176d758751f",
   "metadata": {},
   "source": [
    "> row 2가 row 1의 두 배가 되어 서로 종속인 상태가 되기 때문에 rank 1인 예시로 가능하다. col 2도 col 1에 4배를 한 것과 같고, col 3도 col 1에 5배를 한 것과 같아 종속 상태에 있다."
   ]
  },
  {
   "cell_type": "markdown",
   "id": "0fedfa03-516a-4427-94be-134dce566dab",
   "metadata": {},
   "source": [
    "- 따라서 rank 1 인 행렬이 표현할 수 있는 공간은 **1차원이고 직선이다.**"
   ]
  },
  {
   "cell_type": "markdown",
   "id": "bdff2a54-0f67-47bd-8f1c-62662eef9ac4",
   "metadata": {},
   "source": [
    "$\\begin{bmatrix} 1 \\\\ 2 \\end{bmatrix}$ $\\times$ $\\begin{bmatrix} 1 & 4 & 5\\end{bmatrix}$ = $\\begin{bmatrix} 1 & 4 & 5 \\\\ 2 & 8 & 10 \\end{bmatrix}$ = $A$"
   ]
  },
  {
   "cell_type": "markdown",
   "id": "4d6a2202-9378-4a84-a8ec-a495bddfa292",
   "metadata": {},
   "source": [
    "$C(A) \\times  C(A)^T = A$"
   ]
  },
  {
   "cell_type": "markdown",
   "id": "608ae921-892c-47e4-9587-fb193b1db0a7",
   "metadata": {},
   "source": [
    "$\\therefore$ Rank 1 matrix: $A = uv^T$"
   ]
  },
  {
   "cell_type": "markdown",
   "id": "6f3a7f91-f8de-42a8-979c-bac47ec7667b",
   "metadata": {},
   "source": [
    "> column vector $\\times$ row vector 를 곱하면 꼭 rank 1 행렬 A 가 만들어진다."
   ]
  },
  {
   "cell_type": "markdown",
   "id": "15ed07f4-aa42-47be-9263-c38a56675380",
   "metadata": {},
   "source": [
    "-> rank 1 의 조합으로 행렬 표현 가능"
   ]
  },
  {
   "cell_type": "markdown",
   "id": "bd44f4d1-5dc4-43aa-8a76-a490f02dee45",
   "metadata": {},
   "source": [
    "`-` Subspaces for rank 1 matrices"
   ]
  },
  {
   "cell_type": "markdown",
   "id": "bebea854-cd82-49b3-bade-c9e21ceb87c4",
   "metadata": {},
   "source": [
    "$M =$ all $5 \\times 14$ matrices"
   ]
  },
  {
   "cell_type": "markdown",
   "id": "cb3ef3d0-1626-4814-91f4-20416c4b589c",
   "metadata": {},
   "source": [
    "- rank 4인 행렬 A는 $5 \\times 14$ $M$ 행렬의 부분공간이 아니다.\n",
    "    - 조건 필요:\n",
    "        - closed summation operater between scalar multiplication and matrices  \n",
    "        - including zero vector\n",
    "        - 행렬과 스칼라곱 간 덧셈 연산에 갇혀 있어야 하고, 영벡터를 포함해야 한다."
   ]
  },
  {
   "cell_type": "markdown",
   "id": "57f6e6aa-216c-47a0-958d-36d5328a29e9",
   "metadata": {},
   "source": [
    " $\\begin{bmatrix} 1 & 4 & 5 \\\\ 2 & 8 & 10 \\end{bmatrix}$ +  $\\begin{bmatrix} 4 & 4 & 2 \\\\ 2 & 1 & 10 \\end{bmatrix}$ =  $\\begin{bmatrix} 5 & 8 & 7 \\\\ 4 & 9 & 20 \\end{bmatrix}$"
   ]
  },
  {
   "cell_type": "markdown",
   "id": "57433835-2ff7-440f-b47b-cb0bf6bcd8ff",
   "metadata": {},
   "source": [
    "rank 1 + rank 2 = rank 2\n",
    "\n",
    "- rank가 달라졌지."
   ]
  },
  {
   "cell_type": "markdown",
   "id": "a34023f0-8e80-47aa-aa10-4d551650d301",
   "metadata": {},
   "source": [
    "`-` in $R^4$ cases"
   ]
  },
  {
   "cell_type": "markdown",
   "id": "d194f230-dfba-4626-bd39-ace6b28dc6d9",
   "metadata": {},
   "source": [
    "$v = \\begin{bmatrix} v_1 \\\\ v_2 \\\\ v_3 \\\\ v_4\\end{bmatrix}$\n",
    "\n",
    "- $R^4$ 공간의 모든 벡터는 위와 같이 4개의 원소를 가지는 벡터로 표현가능"
   ]
  },
  {
   "cell_type": "markdown",
   "id": "02eff3a9-b477-41d5-859f-a8a75bc95ef9",
   "metadata": {},
   "source": [
    "$R^4$의 부분공간 $S$ = all $v$ in $R^4$ with $v_1 + v_2 + v_3 + v_4 = 0$을 정의해보면 이렇다.\n",
    "\n",
    "- 이 말은 $v$가 어떤 행렬 A의 null space라는 것이다."
   ]
  },
  {
   "cell_type": "markdown",
   "id": "5cbcf880-55b1-4cb8-8d4c-16edf587739d",
   "metadata": {},
   "source": [
    "$A = \\begin{bmatrix} 1 & 1 & 1 & 1\\end{bmatrix}$\n",
    "\n",
    "$Av=0$"
   ]
  },
  {
   "cell_type": "markdown",
   "id": "8cff7f2f-aa3d-4afc-84a2-328f50018058",
   "metadata": {},
   "source": [
    "- rank = $r$ = 1\n",
    "- row space = $r$ = 1\n",
    "- column space = $r$ = 1\n",
    "- null space = $n - r$ = 4 - 1 = 3\n",
    "- left null space = $m - r$ = 1 - 1 = 0"
   ]
  },
  {
   "cell_type": "markdown",
   "id": "8c030baa-4495-4046-bb81-b92754efc0ce",
   "metadata": {},
   "source": [
    "- basis of row space = $\\begin{bmatrix} 1 & 1 & 1 & 1\\end{bmatrix}$"
   ]
  },
  {
   "cell_type": "markdown",
   "id": "0b5e8885-44a5-4f07-bc70-174b9d4e15ae",
   "metadata": {},
   "source": [
    "special soultions of null space\n",
    "\n",
    "$\\begin{bmatrix} -1 \\\\ 1 \\\\ 0 \\\\ 0\\end{bmatrix}$,\n",
    "$\\begin{bmatrix} -1 \\\\ 0 \\\\ 1 \\\\ 0\\end{bmatrix}$,\n",
    "$\\begin{bmatrix} -1 \\\\ 0 \\\\ 0 \\\\ 1\\end{bmatrix}$\n",
    "\n",
    "- null space를 만드는 v값($Av=0$)"
   ]
  },
  {
   "cell_type": "markdown",
   "id": "4e52c953-6d93-4685-b341-e66ed2139c30",
   "metadata": {},
   "source": [
    "- basis of column spaces = $\\begin{bmatrix} 1 \\end{bmatrix}$,$\\begin{bmatrix} 1 \\end{bmatrix}$,$\\begin{bmatrix} 1 \\end{bmatrix}$,$\\begin{bmatrix} 1 \\end{bmatrix}$ = $R^1$\n",
    "    - $1 \\times 1$, 즉 $R^1$이라 어떤 상수를 곱해도 상수의 결과로 나옴."
   ]
  },
  {
   "cell_type": "markdown",
   "id": "cc7e53ee-bca5-44ee-ba57-5d766bb2ebb2",
   "metadata": {},
   "source": [
    "$Ax = 0$, $\\begin{bmatrix} 1\\\\1\\\\1\\\\1 \\end{bmatrix}$ $\\begin{bmatrix} x \\end{bmatrix}$ = $\\begin{bmatrix} 0\\\\0\\\\0\\\\0 \\end{bmatrix}$"
   ]
  },
  {
   "cell_type": "markdown",
   "id": "d5c981b0-502c-466b-a69a-b542be4c6883",
   "metadata": {},
   "source": [
    "- 이를 만족하는 값 x는 없다. 따라서 left null space는 0 밖에 존재하지 않는다(0차원의 공간이다.)\n",
    "- basis of left null space = $\\begin{bmatrix} 0 \\end{bmatrix}$, empty"
   ]
  },
  {
   "cell_type": "markdown",
   "id": "de6506bc-0f30-45a1-a0cb-8bbde6c93466",
   "metadata": {},
   "source": [
    "> row space(1) + left null space(0) $\\times$ column space(1) + null space(3) = 1 $\\times$ 4 $\\to$ A 행렬의 차원이 됌"
   ]
  },
  {
   "cell_type": "code",
   "execution_count": null,
   "id": "175d3324-3b19-4e98-802c-c1338c0fb76a",
   "metadata": {},
   "outputs": [],
   "source": []
  }
 ],
 "metadata": {
  "kernelspec": {
   "display_name": "Python 3",
   "language": "python",
   "name": "python3"
  },
  "language_info": {
   "codemirror_mode": {
    "name": "ipython",
    "version": 3
   },
   "file_extension": ".py",
   "mimetype": "text/x-python",
   "name": "python",
   "nbconvert_exporter": "python",
   "pygments_lexer": "ipython3",
   "version": "3.8.0"
  }
 },
 "nbformat": 4,
 "nbformat_minor": 5
}
