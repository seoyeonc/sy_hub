{
 "cells": [
  {
   "cell_type": "raw",
   "id": "92240b3b-1763-424a-aa95-f0f64aa38657",
   "metadata": {
    "id": "cac470df-29e7-4148-9bbd-d8b9a32fa570",
    "tags": []
   },
   "source": [
    "---\n",
    "title: \"[Linear Algebra] Lecture 11\"\n",
    "author: \"SEOYEON CHOI\"\n",
    "date: \"2024-03-20\"\n",
    "---"
   ]
  },
  {
   "cell_type": "markdown",
   "id": "e884f911-6237-45fa-8fcb-ca41dab5921f",
   "metadata": {},
   "source": [
    "{{< video https://www.youtube.com/watch?v=2IdtqGM6KWU&list=PL49CF3715CB9EF31D&index=12 >}}"
   ]
  },
  {
   "cell_type": "code",
   "execution_count": null,
   "id": "2fbead89-d38a-4435-971a-6f5b865aacae",
   "metadata": {},
   "outputs": [],
   "source": []
  }
 ],
 "metadata": {
  "kernelspec": {
   "display_name": "Python 3",
   "language": "python",
   "name": "python3"
  },
  "language_info": {
   "codemirror_mode": {
    "name": "ipython",
    "version": 3
   },
   "file_extension": ".py",
   "mimetype": "text/x-python",
   "name": "python",
   "nbconvert_exporter": "python",
   "pygments_lexer": "ipython3",
   "version": "3.8.0"
  }
 },
 "nbformat": 4,
 "nbformat_minor": 5
}
