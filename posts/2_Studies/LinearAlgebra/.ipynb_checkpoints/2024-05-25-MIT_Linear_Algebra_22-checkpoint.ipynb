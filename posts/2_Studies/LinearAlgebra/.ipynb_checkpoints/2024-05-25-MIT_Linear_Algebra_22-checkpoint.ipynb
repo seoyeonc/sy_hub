{
 "cells": [
  {
   "cell_type": "raw",
   "id": "0a06d651-9c9e-43d3-96d7-92725adfb799",
   "metadata": {
    "id": "cac470df-29e7-4148-9bbd-d8b9a32fa570",
    "tags": []
   },
   "source": [
    "---\n",
    "title: \"[Linear Algebra] Lecture 22\"\n",
    "author: \"SEOYEON CHOI\"\n",
    "date: \"2024-05-25\"\n",
    "---"
   ]
  },
  {
   "cell_type": "markdown",
   "id": "1edaa0f2-a71f-4cf0-bee3-f6287a08eb47",
   "metadata": {},
   "source": [
    "{{< video https://www.youtube.com/watch?v=lXNXrLcoerU&list=PL49CF3715CB9EF31D&index=21 >}}"
   ]
  },
  {
   "cell_type": "markdown",
   "id": "7bd0cc84-1307-41c3-8a07-8dcc3d4a3509",
   "metadata": {},
   "source": [
    "https://twlab.tistory.com/49"
   ]
  }
 ],
 "metadata": {
  "kernelspec": {
   "display_name": "Python 3",
   "language": "python",
   "name": "python3"
  },
  "language_info": {
   "codemirror_mode": {
    "name": "ipython",
    "version": 3
   },
   "file_extension": ".py",
   "mimetype": "text/x-python",
   "name": "python",
   "nbconvert_exporter": "python",
   "pygments_lexer": "ipython3",
   "version": "3.8.0"
  }
 },
 "nbformat": 4,
 "nbformat_minor": 5
}
