{
 "cells": [
  {
   "cell_type": "raw",
   "id": "bf4e296a-f092-4090-bfe9-6c720ee448c8",
   "metadata": {
    "id": "cac470df-29e7-4148-9bbd-d8b9a32fa570",
    "tags": []
   },
   "source": [
    "---\n",
    "title: \"[Linear Algebra] Lecture 4\"\n",
    "author: \"SEOYEON CHOI\"\n",
    "date: \"2024-02-18\"\n",
    "---"
   ]
  },
  {
   "cell_type": "markdown",
   "id": "9f2d2586-a20f-4717-91dd-89281c3af690",
   "metadata": {},
   "source": [
    "{{< video https://www.youtube.com/watch?v=5hO3MrzPa0A&list=PL49CF3715CB9EF31D&index=4 >}}"
   ]
  },
  {
   "cell_type": "markdown",
   "id": "2819e182-f1ac-4ef0-800e-5c6ec1131135",
   "metadata": {},
   "source": [
    "> 학습 목표\n",
    "\n",
    "Inverse of $AB, A^{T}$\n",
    "\n",
    "Product of elimination matrices\n",
    "\n",
    "$A = Lu$ (no row exchange)"
   ]
  },
  {
   "cell_type": "markdown",
   "id": "840acdf5-5d9e-4931-8320-b5efd7b30f37",
   "metadata": {},
   "source": [
    "- $A^T$의 Inverse는 무엇일까?\n",
    "\n",
    "$(A^{-1})^T A^T = I$\n",
    "\n",
    "$(A^{-1})^T$ $\\to$ This is inverse of $A^T$."
   ]
  },
  {
   "cell_type": "markdown",
   "id": "99f1fdf3-bae5-4b02-9105-633f633ae1df",
   "metadata": {},
   "source": [
    "- 2X2라면"
   ]
  },
  {
   "cell_type": "markdown",
   "id": "a624d4f5-cb0b-4c8b-acc8-c00a44cceded",
   "metadata": {},
   "source": [
    "`1`"
   ]
  },
  {
   "cell_type": "markdown",
   "id": "ee3f9fd0-021e-45af-b1bb-839f1627744c",
   "metadata": {},
   "source": [
    "$\\begin{bmatrix} 1 & 0 \\\\ -4 & 1 \\end{bmatrix} \\begin{bmatrix} 2 & 1 \\\\ 8 & 7 \\end{bmatrix} = \\begin{bmatrix} 2 & 1 \\\\ 0 & 3 \\end{bmatrix}$"
   ]
  },
  {
   "cell_type": "markdown",
   "id": "5b11afb5-c977-4931-8ec0-1da3aebde944",
   "metadata": {},
   "source": [
    "$E_{21} A = u$"
   ]
  },
  {
   "cell_type": "markdown",
   "id": "756d36be-aa00-411f-826f-763868374ff0",
   "metadata": {},
   "source": [
    "`-` 위에서 아래로 표현하는 방법(역취하는 거)을 $E_{21}$을 canceling한다고 표현함"
   ]
  },
  {
   "cell_type": "markdown",
   "id": "11fd1727-bf1c-442c-8f87-870581fc53e1",
   "metadata": {},
   "source": [
    "`2`"
   ]
  },
  {
   "cell_type": "markdown",
   "id": "d5f8868e-9217-45e6-ba8c-d800ae3fa269",
   "metadata": {},
   "source": [
    "$\\begin{bmatrix} 2 & 1 \\\\ 8 & 7 \\end{bmatrix} = \\begin{bmatrix} 1 & 0 \\\\ 4 & 1 \\end{bmatrix} \\begin{bmatrix} 2 & 1 \\\\ 0 & 3 \\end{bmatrix}$"
   ]
  },
  {
   "cell_type": "markdown",
   "id": "4d3a3c01-136a-4722-9ce5-1059884014e6",
   "metadata": {},
   "source": [
    "$A = Lu$"
   ]
  },
  {
   "cell_type": "markdown",
   "id": "3b98e6a6-b7b6-4fbf-9beb-47f567e9b8ae",
   "metadata": {},
   "source": [
    "$\\begin{bmatrix} 2 & 1 \\\\ 8 & 7 \\end{bmatrix} = \\begin{bmatrix} 1 & 0 \\\\ 4 & 1 \\end{bmatrix} \\begin{bmatrix} 2 & 0 \\\\ 0 & 3 \\end{bmatrix} \\begin{bmatrix} 1 & \\frac{1}{2} \\\\ 0 & 1 \\end{bmatrix}$"
   ]
  },
  {
   "cell_type": "markdown",
   "id": "234764b4-47ea-469b-952f-c94b0c4210bf",
   "metadata": {},
   "source": [
    "- `1` $E_{32}E_{31} E_{21} A = u$ (no row exchanges)\n",
    "- `2` $A = E_{21}^{-1} E_{31}^{-1} E_{32}^{-1} u = Lu$"
   ]
  },
  {
   "cell_type": "markdown",
   "id": "345b86e0-4074-4b9f-a23a-766b42bea8b2",
   "metadata": {},
   "source": [
    "- 왜 `1` 보다 `2` 가 좋을까?"
   ]
  },
  {
   "cell_type": "markdown",
   "id": "3872c467-5c51-4501-ab5e-19da05471a6a",
   "metadata": {},
   "source": [
    "$\\begin{bmatrix} 1 & 0 & 0 \\\\ 0 & 1 & 0 \\\\ 0 & -5 & 1 \\end{bmatrix} \\begin{bmatrix} 1 & 0 & 0 \\\\ -2 & 1 & 0 \\\\ 0 & 0 & 1 \\end{bmatrix} = \\begin{bmatrix} 1 & 0 & 0 \\\\ -2& 1 & 0 \\\\ 10 & -5 & 1\\end{bmatrix}$\n",
    "\n",
    "$E_{31} E_{21} =$ left of $A$"
   ]
  },
  {
   "cell_type": "markdown",
   "id": "c2a7bf29-8c65-4d94-9b53-c847fda94bb1",
   "metadata": {},
   "source": [
    "- reverses (reverse order)"
   ]
  },
  {
   "cell_type": "markdown",
   "id": "8b3a2495-d456-4772-9a0a-d4403f075bf6",
   "metadata": {},
   "source": [
    "$\\begin{bmatrix} 1 & 0 & 0 \\\\ 2 & 1 & 0 \\\\ 0 & 0 & 1 \\end{bmatrix} \\begin{bmatrix} 1 & 0 & 0 \\\\ 0 & 1 & 0 \\\\ 0 & 5 & 1 \\end{bmatrix} = \\begin{bmatrix} 1 & 0 & 0 \\\\  2 & 1 & 0 \\\\ 0 & 5 & 1\\end{bmatrix}$\n",
    "\n",
    "$E_{21}^{-1}E_{31}^{-1}  =$ left of $u$\n",
    "\n",
    "$A = Lu$"
   ]
  },
  {
   "cell_type": "markdown",
   "id": "c10d0ac3-3f4c-45be-8fb0-1e10039df24f",
   "metadata": {},
   "source": [
    "`-` 3행 1열의 10이 없어졌다!"
   ]
  },
  {
   "cell_type": "markdown",
   "id": "8407eb97-2a2b-479b-a947-60098129628d",
   "metadata": {},
   "source": [
    "*If no row exchanges, multiples go directly into L.*"
   ]
  },
  {
   "cell_type": "markdown",
   "id": "30c06856-9752-401d-8bf4-e18fa61215df",
   "metadata": {},
   "source": [
    "- How many operations on $n \\times n$ matrix A?\n",
    "    - operations = multiples + shorttrack\n",
    "    \n",
    "- number of operation = count\n",
    "\n",
    "    - $n^2 + (n-1)^2 \\dots + 3^2 +2^2 + 1^2$\n",
    "    \n",
    "$\\to$ Permutation 행렬이 최대로 가질 수 있는 개수 계산하는 법 n팩토리얼"
   ]
  },
  {
   "cell_type": "markdown",
   "id": "e515f3b5-1465-430c-99ae-8ae5f3898555",
   "metadata": {},
   "source": [
    "- Permutation^[A permutation matrix exchanges two rows of a matrix]"
   ]
  },
  {
   "cell_type": "markdown",
   "id": "91d19b79-dbc1-46f0-8cea-4d16d19226c1",
   "metadata": {},
   "source": [
    "단위행렬에서 행끼리 교환한 것 목록"
   ]
  },
  {
   "cell_type": "markdown",
   "id": "57ff633b-ea7d-4dae-8032-2f91738825a9",
   "metadata": {},
   "source": [
    "ex) $3 \\times 3$\n",
    "\n",
    "- 3 * 2 * 1 = 6"
   ]
  },
  {
   "cell_type": "markdown",
   "id": "a01d2661-0eda-4e80-baea-d751c0150fb5",
   "metadata": {},
   "source": [
    "$I = \\begin{bmatrix} 1 & 0 & 0 \\\\ 0 & 1 & 0 \\\\ 0 & 0 & 1 \\end{bmatrix}$"
   ]
  },
  {
   "cell_type": "markdown",
   "id": "e2c2cbbe-914d-4e68-934a-7918cd758581",
   "metadata": {},
   "source": [
    "$P_{12} = \\begin{bmatrix} 0 & 1 & 0 \\\\ 1 & 0 & 0 \\\\ 0 & 0 & 1 \\end{bmatrix}$"
   ]
  },
  {
   "cell_type": "markdown",
   "id": "aa16dacc-68d6-49ca-9ca6-bed2b14f4f3b",
   "metadata": {},
   "source": [
    "$P_{13} = \\begin{bmatrix} 0 & 0 & 1 \\\\ 0 & 1 & 0 \\\\ 1 & 0 & 0 \\end{bmatrix}$"
   ]
  },
  {
   "cell_type": "markdown",
   "id": "9a8c063c-3f48-4e78-9fcd-381bcbbd93eb",
   "metadata": {},
   "source": [
    "$P_{23} = \\begin{bmatrix} 1 & 0 & 0 \\\\ 0 & 0 & 1 \\\\ 0 & 1 & 0 \\end{bmatrix}$"
   ]
  },
  {
   "cell_type": "markdown",
   "id": "0f71bd18-d49a-45bb-9718-ff0936d9118f",
   "metadata": {},
   "source": [
    "$P_{13}P_{23} = \\begin{bmatrix} 0 & 1 & 0 \\\\ 0 & 0 & 1 \\\\ 1 & 0 & 0 \\end{bmatrix}$"
   ]
  },
  {
   "cell_type": "markdown",
   "id": "cd7414fd-a7c0-426c-af11-011b1323e677",
   "metadata": {},
   "source": [
    "$P_{12}P_{23} = \\begin{bmatrix} 0 & 0 & 1 \\\\ 1 & 0 & 0 \\\\ 0 & 1 & 0 \\end{bmatrix}$"
   ]
  },
  {
   "cell_type": "markdown",
   "id": "2a787adb-7a91-4507-b9b0-7ce90d59189f",
   "metadata": {},
   "source": [
    "ex) $4 \\times 4$\n",
    "\n",
    "- 4 * 3 * 2 * 1 = 24"
   ]
  },
  {
   "cell_type": "markdown",
   "id": "81dec292-f9a9-4903-8748-80319529d2f5",
   "metadata": {},
   "source": [
    "https://ocw.mit.edu/courses/18-06sc-linear-algebra-fall-2011/c5961452fbb31f8a0b34ecd0ffc5cdc4_MIT18_06SCF11_Ses1.4sum.pdf"
   ]
  },
  {
   "cell_type": "markdown",
   "id": "fcd94c26-9d78-4bc9-8910-04fc490dcd2c",
   "metadata": {},
   "source": [
    "---"
   ]
  },
  {
   "cell_type": "markdown",
   "id": "c917be54-2b37-4671-aff2-82d08660da81",
   "metadata": {},
   "source": [
    "역행렬이 필요한 이유를 조건을 따져가며 이해해보기"
   ]
  },
  {
   "cell_type": "markdown",
   "id": "fa09a33d-ca71-45f3-b332-5aa67ff2bb12",
   "metadata": {},
   "source": [
    "matrix $A(n \\times n)$이 있을때, 역행렬이 존재한다면\n",
    "\n",
    "1. $A$가 invertible 하다 = $A$가 가역행렬이다.^[그렇지 않으면 특이행렬singular matrix]\n",
    "2. $A$의 열, 행은 n이다.\n",
    "3. $A$의 열columns와 행rows가 모두 선형적으로 독립이다 linearly independent하다.\n",
    "4. $A$의 rank가 full rank이고, rank(A) = n이다.\n",
    "5. $A$의 Pivot은 0이 없다.\n",
    "6. $AX=0$의 해가 유일한 하나가 있다.\n",
    "7. $AX=B$의 해는 $A^{-1}B$로 유일한 하나가 있다.\n",
    "8. $A$의 determinant가 0이 아니다(det(A) !=0)\n",
    "9. Non-singular"
   ]
  },
  {
   "cell_type": "code",
   "execution_count": null,
   "id": "09c344ca-753b-4a21-8484-28b789076792",
   "metadata": {},
   "outputs": [],
   "source": []
  }
 ],
 "metadata": {
  "kernelspec": {
   "display_name": "Python 3",
   "language": "python",
   "name": "python3"
  },
  "language_info": {
   "codemirror_mode": {
    "name": "ipython",
    "version": 3
   },
   "file_extension": ".py",
   "mimetype": "text/x-python",
   "name": "python",
   "nbconvert_exporter": "python",
   "pygments_lexer": "ipython3",
   "version": "3.8.0"
  }
 },
 "nbformat": 4,
 "nbformat_minor": 5
}
