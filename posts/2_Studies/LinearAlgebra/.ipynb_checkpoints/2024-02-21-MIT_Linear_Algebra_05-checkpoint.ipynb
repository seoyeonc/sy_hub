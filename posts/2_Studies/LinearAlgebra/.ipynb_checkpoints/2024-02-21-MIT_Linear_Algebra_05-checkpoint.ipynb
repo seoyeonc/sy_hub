{
 "cells": [
  {
   "cell_type": "raw",
   "id": "763bbdcf-915d-483a-9ec3-6c96d0882019",
   "metadata": {
    "id": "cac470df-29e7-4148-9bbd-d8b9a32fa570",
    "tags": []
   },
   "source": [
    "---\n",
    "title: \"[Linear Algebra] Lecture 5\"\n",
    "author: \"SEOYEON CHOI\"\n",
    "date: \"2024-02-21\"\n",
    "---"
   ]
  },
  {
   "cell_type": "markdown",
   "id": "3958a133-3f6e-4e60-ba14-3f43f05221d3",
   "metadata": {},
   "source": [
    "{{< video https://www.youtube.com/watch?v=JibVXBElKL0&list=PL49CF3715CB9EF31D&index=5 >}}"
   ]
  },
  {
   "cell_type": "markdown",
   "id": "bde16578-8831-43e1-a577-68db4863e39c",
   "metadata": {},
   "source": [
    "# Import"
   ]
  },
  {
   "cell_type": "code",
   "execution_count": 2,
   "id": "b54a1cb6-ddac-4b3b-98e6-7f92c99e8848",
   "metadata": {},
   "outputs": [],
   "source": [
    "import numpy as np\n",
    "import matplotlib.pyplot as plt"
   ]
  },
  {
   "cell_type": "markdown",
   "id": "f0200b91-1563-478b-9b56-1bbf4ee773c6",
   "metadata": {},
   "source": [
    "> 학습 목표\n",
    "\n",
    "- $PA = LU$\n",
    "- Vector spaces and subspaces"
   ]
  },
  {
   "cell_type": "markdown",
   "id": "a3af3489-9000-40f2-a300-0a9e3cc81a2e",
   "metadata": {},
   "source": [
    "`-` Permutation P: execute row exchanges 행 교환을 실행하는 행렬인 치환행렬\n",
    "\n",
    "- P = Identity matrix with reordered rows"
   ]
  },
  {
   "cell_type": "code",
   "execution_count": null,
   "id": "e3214c8d-012f-43bf-af8e-403e85336867",
   "metadata": {},
   "outputs": [],
   "source": [
    "\\begin{bmatrix} \\end{bmatrix}"
   ]
  },
  {
   "cell_type": "markdown",
   "id": "174ff95e-496f-4a6b-abc8-66cb26a547d6",
   "metadata": {},
   "source": [
    "$A = Lu = \\begin{bmatrix} 1 & 0 & 0 & 0 \\\\ x & 1 & 0 & 0 \\\\ x & x & 1 & 0 \\\\ x & x & x & 1 \\end{bmatrix} \\begin{bmatrix} 1 & 0 & 0 & 0 \\\\ 0 & 1 & 0 & 0 \\\\ 0 & 0 & 1 & 0 \\\\ 0 & 0 & 0 & 1 \\end{bmatrix}$"
   ]
  },
  {
   "cell_type": "markdown",
   "id": "0eba46a2-d6fd-417b-9201-7d49a973bcda",
   "metadata": {},
   "source": [
    "- 위에서 아무런 행동할 필요없어서 단위행렬을 곱해준 것이고, 여기서 단위행렬이 $P$행렬이 된다.\n",
    "- 결국 $PA = Lu$\n",
    "- 여기서 모든 invertible $A$가 가능하다.\n",
    "- P는 총 $n!$개 가질 수 있음\n",
    "    - = counts reorderings\n",
    "    - = counts all $n \\times n$ permutations\n",
    "- $P^{-1} = P^T$, $P^TP = I$"
   ]
  },
  {
   "cell_type": "markdown",
   "id": "9000677b-ef19-4c5b-ad66-d26004a82d68",
   "metadata": {},
   "source": [
    "`-` Transpose"
   ]
  },
  {
   "cell_type": "markdown",
   "id": "0a426788-b5ea-4957-9dd4-b8cbb2aabdc8",
   "metadata": {},
   "source": [
    "$\\begin{bmatrix} 1 & 3 \\\\ 2 & 3 \\\\ 4 & 1\\end{bmatrix}^T = \\begin{bmatrix} 1 & 2 & 4 \\\\ 3 & 3 & 1 \\end{bmatrix}$"
   ]
  },
  {
   "cell_type": "markdown",
   "id": "bc57ba52-2b07-47dd-8a27-05c8f0b0e9d7",
   "metadata": {},
   "source": [
    "- $(A^T)_{ij} = A_{ji}$"
   ]
  },
  {
   "cell_type": "markdown",
   "id": "09609fee-daf6-4daa-83be-e15301f6e658",
   "metadata": {},
   "source": [
    "`-` Symmetric matrices"
   ]
  },
  {
   "cell_type": "markdown",
   "id": "34110d8e-db8f-4399-909c-2a805e711e55",
   "metadata": {},
   "source": [
    "$A^T = A$"
   ]
  },
  {
   "cell_type": "markdown",
   "id": "2adc6c4a-ed1c-4014-9a06-0575a7641318",
   "metadata": {},
   "source": [
    "ex) $\\begin{bmatrix} 3 & 1 & 7 \\\\ 1 & 2 & 9 \\\\ 7 & 9 & 4\\end{bmatrix}$"
   ]
  },
  {
   "cell_type": "markdown",
   "id": "d018d1ed-77fc-44fa-990a-4c22a94e9ccd",
   "metadata": {},
   "source": [
    "$R^T R$ is always symmetric.\n",
    "\n",
    "- 증명: $(R^T R)^T = R^T R^{TT}$"
   ]
  },
  {
   "cell_type": "markdown",
   "id": "9d04a0b2-2311-458b-9bd1-651113353904",
   "metadata": {},
   "source": [
    "ex) $\\begin{bmatrix} 1 & 3 \\\\ 2 & 3 \\\\ 4 & 1\\\\\\end{bmatrix} \\begin{bmatrix} 1 & 2 & 4 \\\\ 3 & 3 & 1 \\end{bmatrix} = \\begin{bmatrix} 10 & 11 & 7 \\\\ 11 & - & - \\\\ 7 & - & - \\end{bmatrix}$"
   ]
  },
  {
   "cell_type": "markdown",
   "id": "85d1c3d2-9de8-4607-b27f-5b90a68821c6",
   "metadata": {},
   "source": [
    "`-` Vector Spaces"
   ]
  },
  {
   "cell_type": "markdown",
   "id": "808e0927-2c5a-49a9-b991-820af0458370",
   "metadata": {},
   "source": [
    "$R^2$ = real number = all 2-dimensional real vectors = **x-y plane**"
   ]
  },
  {
   "cell_type": "markdown",
   "id": "c4efbcfd-980c-4f1f-82a7-16bf35a3e704",
   "metadata": {},
   "source": [
    "ex) $\\begin{bmatrix} 3 \\\\ 2 \\end{bmatrix} \\begin{bmatrix} 0 \\\\ 0 \\end{bmatrix} \\begin{bmatrix} \\pi \\\\ e\\end{bmatrix}$"
   ]
  },
  {
   "cell_type": "markdown",
   "id": "420618e6-8106-4740-a2b5-49f48db18e7a",
   "metadata": {},
   "source": [
    "*every vector has zero vector*"
   ]
  },
  {
   "cell_type": "code",
   "execution_count": 10,
   "id": "c656425e-38c2-4efd-9732-2e0158cc6b72",
   "metadata": {},
   "outputs": [
    {
     "data": {
      "image/png": "[encoded data removed]",
      "text/plain": [
       "<Figure size 432x288 with 1 Axes>"
      ]
     },
     "metadata": {
      "needs_background": "light"
     },
     "output_type": "display_data"
    }
   ],
   "source": [
    "# 벡터 정의\n",
    "v1 = np.array([3, 2])\n",
    "v2 = np.array([0, 0])\n",
    "v3 = np.array([np.pi, np.e])\n",
    "v4 = np.array([-3, -2])\n",
    "\n",
    "# 그림 설정\n",
    "plt.figure()\n",
    "\n",
    "# 원점에서 벡터 v1을 시작하여 그림\n",
    "plt.quiver(0, 0, v1[0], v1[1], angles='xy', scale_units='xy', scale=1, color='r', label='1st component')\n",
    "\n",
    "# 원점에서 벡터 v2을 시작하여 그림 (영벡터이므로 표시하지 않음)\n",
    "plt.quiver(0, 0, v2[0], v2[1], angles='xy', scale_units='xy', scale=1, color='b', label='Z')\n",
    "\n",
    "# 원점에서 벡터 v3을 시작하여 그림\n",
    "plt.quiver(0, 0, v3[0], v3[1], angles='xy', scale_units='xy', scale=1, color='g', label='2nd component')\n",
    "\n",
    "plt.quiver(0, 0, v4[0], v4[1], angles='xy', scale_units='xy', scale=1, color='m', label='3nd component')\n",
    "\n",
    "# 축 범위 설정\n",
    "plt.xlim(-3, 8)\n",
    "plt.ylim(-3, 3)\n",
    "\n",
    "# 축 표시\n",
    "plt.axhline(0, color='k', linewidth=0.5)\n",
    "plt.axvline(0, color='k', linewidth=0.5)\n",
    "\n",
    "# 그리드 표시\n",
    "plt.grid(True, linestyle='--', linewidth=0.5)\n",
    "\n",
    "# 벡터 표시\n",
    "plt.xlabel('x')\n",
    "plt.ylabel('y')\n",
    "\n",
    "# 벡터 레이블 표시\n",
    "plt.legend()\n",
    "\n",
    "# 그림 보이기\n",
    "plt.show()\n"
   ]
  },
  {
   "cell_type": "markdown",
   "id": "d5c3c4a7-e2f6-41ea-b757-29828ba6a469",
   "metadata": {},
   "source": [
    "$R^3$ = all column vectors with 3 real components\n",
    "\n",
    "$\\begin{bmatrix} 3 \\\\ 2 \\\\ 0 \\end{bmatrix}$이것은 $R^3$! $R^2$ 아님!"
   ]
  },
  {
   "cell_type": "markdown",
   "id": "79275925-fa9e-42ff-9712-19eec46c7971",
   "metadata": {},
   "source": [
    "$R^n$ = all column vectors with N real components"
   ]
  },
  {
   "cell_type": "markdown",
   "id": "3b42743c-3b1c-42dd-868d-f31b8b858b99",
   "metadata": {},
   "source": [
    "not a vector space"
   ]
  },
  {
   "cell_type": "markdown",
   "id": "8dd4eacf-ed8b-4a4f-b52f-d059555b8a92",
   "metadata": {},
   "source": [
    "아래는 $\\frac{1}{4}$ 영역임\n",
    "\n",
    "it is not closed under multiplication by all real number"
   ]
  },
  {
   "cell_type": "code",
   "execution_count": 22,
   "id": "fb7b2b84-6150-4702-8fcb-f5e8e9cb7208",
   "metadata": {},
   "outputs": [
    {
     "data": {
      "image/png": "[encoded data removed]",
      "text/plain": [
       "<Figure size 432x288 with 1 Axes>"
      ]
     },
     "metadata": {
      "needs_background": "light"
     },
     "output_type": "display_data"
    }
   ],
   "source": [
    "# 사각형의 꼭짓점 좌표\n",
    "x = [0, 0, 3, 3, 0]\n",
    "y = [0, 3, 3, 0, 0]\n",
    "\n",
    "# 사각형을 그림\n",
    "plt.fill(x, y, color='blue', alpha=0.5)\n",
    "\n",
    "# 축 범위 설정\n",
    "plt.xlim(-3, 3)\n",
    "plt.ylim(-3, 3)\n",
    "\n",
    "# 축 표시\n",
    "plt.axhline(0, color='k', linewidth=0.5)\n",
    "plt.axvline(0, color='k', linewidth=0.5)\n",
    "\n",
    "\n",
    "# 그래프 표시\n",
    "plt.grid(True)\n",
    "plt.gca().set_aspect('equal', adjustable='box')\n",
    "plt.show()\n"
   ]
  },
  {
   "cell_type": "markdown",
   "id": "718eb615-974f-4158-b929-e9033dae5dc4",
   "metadata": {},
   "source": [
    "ex) a vector space inside $R^2$ = subspace of $R^2$"
   ]
  },
  {
   "cell_type": "markdown",
   "id": "11d16673-04f4-4ccd-8736-5a1687016298",
   "metadata": {},
   "source": [
    "- double vector 등 any vector is ok.\n",
    "- multiple 가능해야 함\n",
    "- line in $R^2$ through zero vector. 0,0 통과해야 함."
   ]
  },
  {
   "cell_type": "code",
   "execution_count": 29,
   "id": "cd8af0cb-cbd1-4d31-af64-6259fa403360",
   "metadata": {},
   "outputs": [
    {
     "data": {
      "image/png": "[encoded data removed]",
      "text/plain": [
       "<Figure size 432x288 with 1 Axes>"
      ]
     },
     "metadata": {
      "needs_background": "light"
     },
     "output_type": "display_data"
    }
   ],
   "source": [
    "# 벡터 정의\n",
    "v1 = np.array([3, 2])\n",
    "v2 = np.array([0, 0])\n",
    "v3 = np.array([np.pi, np.e])\n",
    "v4 = np.array([-3, -2])\n",
    "\n",
    "# 그림 설정\n",
    "plt.figure()\n",
    "\n",
    "# 원점에서 벡터 v1을 시작하여 그림\n",
    "plt.quiver(0, 0, v1[0], v1[1], angles='xy', scale_units='xy', scale=1, color='b', label='1st component')\n",
    "\n",
    "# 원점에서 벡터 v2을 시작하여 그림 (영벡터이므로 표시하지 않음)\n",
    "plt.quiver(0, 0, v2[0], v2[1], angles='xy', scale_units='xy', scale=1, color='b', label='Z')\n",
    "\n",
    "# 원점에서 벡터 v3을 시작하여 그림\n",
    "\n",
    "plt.quiver(0, 0, v4[0], v4[1], angles='xy', scale_units='xy', scale=1, color='b', label='3nd component')\n",
    "\n",
    "# 축 범위 설정\n",
    "plt.xlim(-3, 3)\n",
    "plt.ylim(-3, 3)\n",
    "\n",
    "# 축 표시\n",
    "plt.axhline(0, color='k', linewidth=0.5)\n",
    "plt.axvline(0, color='k', linewidth=0.5)\n",
    "\n",
    "# 그리드 표시\n",
    "plt.grid(True, linestyle='--', linewidth=0.5)\n",
    "\n",
    "# 벡터 표시\n",
    "plt.xlabel('x')\n",
    "plt.ylabel('y')\n",
    "\n",
    "# 그림 보이기\n",
    "plt.show()"
   ]
  },
  {
   "cell_type": "markdown",
   "id": "fcc799ba-9c9e-425d-bd40-77675adacfbd",
   "metadata": {},
   "source": [
    "`-` subspaces of $R^2$\n",
    "\n",
    "1. all of $R^2$\n",
    "2. any line through $\\begin{bmatrix} 0 \\\\ 0 \\end{bmatrix}$ $\\to$ L\n",
    "3. zero vector only Z"
   ]
  },
  {
   "cell_type": "markdown",
   "id": "db1def38-ce12-4080-a31b-2834c7aea098",
   "metadata": {},
   "source": [
    "$\\begin{bmatrix} 1 & 3 \\\\ 2 & 3 \\\\ 4 & 1 \\end{bmatrix}$\n",
    "\n",
    "- columns in $R^3$\n",
    "- all their combinations from a subspace\n",
    "- called column space $C(A)$"
   ]
  },
  {
   "cell_type": "markdown",
   "id": "23fc821b-3a00-4ea2-89c5-63375cda78d8",
   "metadata": {},
   "source": [
    "위에서 column 1, column 2로 나눠 보기\n",
    "\n",
    "$\\to$ column space로 subspace보기 가능"
   ]
  },
  {
   "cell_type": "code",
   "execution_count": 32,
   "id": "f7b294c9-a1bd-4fb2-a24c-2190b99f19ff",
   "metadata": {},
   "outputs": [
    {
     "data": {
      "image/png": "[encoded data removed]",
      "text/plain": [
       "<Figure size 432x288 with 1 Axes>"
      ]
     },
     "metadata": {
      "needs_background": "light"
     },
     "output_type": "display_data"
    }
   ],
   "source": [
    "import numpy as np\n",
    "import matplotlib.pyplot as plt\n",
    "from mpl_toolkits.mplot3d import Axes3D\n",
    "\n",
    "# 주어진 행렬\n",
    "matrix = np.array([[1, 3],\n",
    "                   [2, 3],\n",
    "                   [4, 1]])\n",
    "\n",
    "# 행렬을 열 벡터로 분할\n",
    "column1 = matrix[:, 0]\n",
    "column2 = matrix[:, 1]\n",
    "zeros = np.zeros_like(column1)  # z 축은 0으로 고정\n",
    "\n",
    "# 3차원 그래프 생성\n",
    "fig = plt.figure()\n",
    "ax = fig.add_subplot(111, projection='3d')\n",
    "\n",
    "# 열 벡터를 그래프에 추가\n",
    "ax.plot(column1, column2, zeros, marker='o')\n",
    "\n",
    "# 그래프에 라벨 추가\n",
    "ax.set_xlabel('X Axis')\n",
    "ax.set_ylabel('Y Axis')\n",
    "ax.set_zlabel('Z Axis')\n",
    "\n",
    "plt.title('Vectors in 3D Space')\n",
    "plt.show()"
   ]
  },
  {
   "cell_type": "code",
   "execution_count": null,
   "id": "f3c9fc52-1069-4cfd-8772-04b64761b1f3",
   "metadata": {},
   "outputs": [],
   "source": []
  }
 ],
 "metadata": {
  "kernelspec": {
   "display_name": "Python 3",
   "language": "python",
   "name": "python3"
  },
  "language_info": {
   "codemirror_mode": {
    "name": "ipython",
    "version": 3
   },
   "file_extension": ".py",
   "mimetype": "text/x-python",
   "name": "python",
   "nbconvert_exporter": "python",
   "pygments_lexer": "ipython3",
   "version": "3.8.0"
  }
 },
 "nbformat": 4,
 "nbformat_minor": 5
}
