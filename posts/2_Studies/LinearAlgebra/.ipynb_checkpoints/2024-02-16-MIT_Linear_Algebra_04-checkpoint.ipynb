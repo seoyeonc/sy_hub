{
 "cells": [
  {
   "cell_type": "raw",
   "id": "bf4e296a-f092-4090-bfe9-6c720ee448c8",
   "metadata": {
    "id": "cac470df-29e7-4148-9bbd-d8b9a32fa570",
    "tags": []
   },
   "source": [
    "---\n",
    "title: \"[Linear Algebra] Lecture 4\"\n",
    "author: \"SEOYEON CHOI\"\n",
    "date: \"2024-02-16\"\n",
    "---"
   ]
  },
  {
   "cell_type": "markdown",
   "id": "9f2d2586-a20f-4717-91dd-89281c3af690",
   "metadata": {},
   "source": [
    "{{< video https://www.youtube.com/watch?v=5hO3MrzPa0A&list=PL49CF3715CB9EF31D&index=4 >}}"
   ]
  },
  {
   "cell_type": "markdown",
   "id": "2819e182-f1ac-4ef0-800e-5c6ec1131135",
   "metadata": {},
   "source": [
    "> 학습 목표\n",
    "\n",
    "Inverse of $AB, A^{T}$\n",
    "\n",
    "Product of elimination matrices\n",
    "\n",
    "$A = Lu$ (no row exchange)"
   ]
  },
  {
   "cell_type": "markdown",
   "id": "840acdf5-5d9e-4931-8320-b5efd7b30f37",
   "metadata": {},
   "source": [
    "- $A^T$의 Inverse는 무엇일까?\n",
    "\n",
    "$(A^{-1})^T A^T = I$\n",
    "\n",
    "$(A^{-1})^T$ $\\to$ This is inverse of $A^T$."
   ]
  },
  {
   "cell_type": "markdown",
   "id": "99f1fdf3-bae5-4b02-9105-633f633ae1df",
   "metadata": {},
   "source": [
    "- 2X2라면"
   ]
  },
  {
   "cell_type": "markdown",
   "id": "a624d4f5-cb0b-4c8b-acc8-c00a44cceded",
   "metadata": {},
   "source": [
    "`1`"
   ]
  },
  {
   "cell_type": "markdown",
   "id": "ee3f9fd0-021e-45af-b1bb-839f1627744c",
   "metadata": {},
   "source": [
    "$\\begin{bmatrix} 1 & 0 \\\\ -4 & 1 \\end{bmatrix} \\begin{bmatrix} 2 & 1 \\\\ 8 & 7 \\end{bmatrix} = \\begin{bmatrix} 2 & 1 \\\\ 0 & 3 \\end{bmatrix}$"
   ]
  },
  {
   "cell_type": "markdown",
   "id": "5b11afb5-c977-4931-8ec0-1da3aebde944",
   "metadata": {},
   "source": [
    "$E_{21} A = u$"
   ]
  },
  {
   "cell_type": "markdown",
   "id": "11fd1727-bf1c-442c-8f87-870581fc53e1",
   "metadata": {},
   "source": [
    "`2`"
   ]
  },
  {
   "cell_type": "markdown",
   "id": "d5f8868e-9217-45e6-ba8c-d800ae3fa269",
   "metadata": {},
   "source": [
    "$\\begin{bmatrix} 2 & 1 \\\\ 8 & 7 \\end{bmatrix} = \\begin{bmatrix} 1 & 0 \\\\ 4 & 1 \\end{bmatrix} \\begin{bmatrix} 2 & 1 \\\\ 0 & 3 \\end{bmatrix}$"
   ]
  },
  {
   "cell_type": "markdown",
   "id": "4d3a3c01-136a-4722-9ce5-1059884014e6",
   "metadata": {},
   "source": [
    "$A = Lu$"
   ]
  },
  {
   "cell_type": "markdown",
   "id": "3b98e6a6-b7b6-4fbf-9beb-47f567e9b8ae",
   "metadata": {},
   "source": [
    "$\\begin{bmatrix} 2 & 1 \\\\ 8 & 7 \\end{bmatrix} = \\begin{bmatrix} 1 & 0 \\\\ 4 & 1 \\end{bmatrix} \\begin{bmatrix} 2 & 0 \\\\ 0 & 3 \\end{bmatrix} \\begin{bmatrix} 1 & \\frac{1}{2} \\\\ 0 & 1 \\end{bmatrix}$"
   ]
  },
  {
   "cell_type": "markdown",
   "id": "234764b4-47ea-469b-952f-c94b0c4210bf",
   "metadata": {},
   "source": [
    "- `1`1$E_{32}E_{31} E_{21} A = u$ (no row exchanges)\n",
    "- `2` $A = E_{21}^{-1} E_{31}^{-1} E_{32}^{-1} = Lu$"
   ]
  },
  {
   "cell_type": "markdown",
   "id": "345b86e0-4074-4b9f-a23a-766b42bea8b2",
   "metadata": {},
   "source": [
    "- 왜 `1` 보다 `2` 가 좋을까?"
   ]
  },
  {
   "cell_type": "markdown",
   "id": "3872c467-5c51-4501-ab5e-19da05471a6a",
   "metadata": {},
   "source": [
    "$\\begin{bmatrix} 1 & 0 & 0 \\\\ 0 & 1 & 0 \\\\ 0 & -5 & 1 \\end{bmatrix} \\begin{bmatrix} 1 & 0 & 0 \\\\ -2 & 1 & 0 \\\\ 0 & 0 & 1 \\end{bmatrix} = \\begin{bmatrix} 1 & 0 & 0 \\\\ -2& 1 & 0 \\\\ -10 & -5 & 1\\end{bmatrix}$\n",
    "\n",
    "$E_{31} E_{21} =$ left of $A$"
   ]
  },
  {
   "cell_type": "markdown",
   "id": "c2a7bf29-8c65-4d94-9b53-c847fda94bb1",
   "metadata": {},
   "source": [
    "- reverses (reverse order)"
   ]
  },
  {
   "cell_type": "markdown",
   "id": "8b3a2495-d456-4772-9a0a-d4403f075bf6",
   "metadata": {},
   "source": [
    "$\\begin{bmatrix} 1 & 0 & 0 \\\\ 2 & 1 & 0 \\\\ 0 & 0 & 1 \\end{bmatrix} \\begin{bmatrix} 1 & 0 & 0 \\\\ 0 & 1 & 0 \\\\ 0 & 5 & 1 \\end{bmatrix} = \\begin{bmatrix} 1 & 0 & 0 \\\\  2 & 1 & 0 \\\\ 10 & 5 & 1\\end{bmatrix}$\n",
    "\n",
    "$E_{21}^{-1}E_{31}^{-1}  =$ left of $u$\n",
    "\n",
    "$A = Lu$"
   ]
  },
  {
   "cell_type": "markdown",
   "id": "8407eb97-2a2b-479b-a947-60098129628d",
   "metadata": {},
   "source": [
    "*If no row exchanges, multiples go directly into L.*"
   ]
  },
  {
   "cell_type": "markdown",
   "id": "30c06856-9752-401d-8bf4-e18fa61215df",
   "metadata": {},
   "source": [
    "- How many operations on $n \\times n$ matrix A?\n",
    "    - operations = multiples + shorttrack\n",
    "    \n",
    "- number of operation = count\n",
    "\n",
    "    - $n^2 + (n-1)^2 \\dots + 3^2 +2^2 + 1^2$"
   ]
  },
  {
   "cell_type": "markdown",
   "id": "e515f3b5-1465-430c-99ae-8ae5f3898555",
   "metadata": {},
   "source": [
    "- Permutation^[A permutation matrix exchanges two rows of a matrix]"
   ]
  },
  {
   "cell_type": "markdown",
   "id": "57ff633b-ea7d-4dae-8032-2f91738825a9",
   "metadata": {},
   "source": [
    "ex) $3 \\times 3$\n",
    "\n",
    "- 3 * 2 * 1 = 6"
   ]
  },
  {
   "cell_type": "markdown",
   "id": "a01d2661-0eda-4e80-baea-d751c0150fb5",
   "metadata": {},
   "source": [
    "$\\begin{bmatrix} 1 & 0 & 0 \\\\ 0 & 1 & 0 \\\\ 0 & 0 & 1 \\end{bmatrix}$"
   ]
  },
  {
   "cell_type": "markdown",
   "id": "e2c2cbbe-914d-4e68-934a-7918cd758581",
   "metadata": {},
   "source": [
    "$\\begin{bmatrix} 0 & 1 & 0 \\\\ 1 & 0 & 0 \\\\ 0 & 0 & 1 \\end{bmatrix}$"
   ]
  },
  {
   "cell_type": "markdown",
   "id": "aa16dacc-68d6-49ca-9ca6-bed2b14f4f3b",
   "metadata": {},
   "source": [
    "$\\begin{bmatrix} 0 & 0 & 1 \\\\ 0 & 1 & 0 \\\\ 1 & 0 & 0 \\end{bmatrix}$"
   ]
  },
  {
   "cell_type": "markdown",
   "id": "9a8c063c-3f48-4e78-9fcd-381bcbbd93eb",
   "metadata": {},
   "source": [
    "$\\begin{bmatrix} 1 & 0 & 0 \\\\ 0 & 1 & 1 \\\\ 0 & 1 & 0 \\end{bmatrix}$"
   ]
  },
  {
   "cell_type": "markdown",
   "id": "0f71bd18-d49a-45bb-9718-ff0936d9118f",
   "metadata": {},
   "source": [
    "$\\begin{bmatrix} 0 & 1 & 0 \\\\ 0 & 0 & 1 \\\\ 1 & 0 & 0 \\end{bmatrix}$"
   ]
  },
  {
   "cell_type": "markdown",
   "id": "cd7414fd-a7c0-426c-af11-011b1323e677",
   "metadata": {},
   "source": [
    "$\\begin{bmatrix} 0 & 0 & 1 \\\\ 1 & 0 & 0 \\\\ 0 & 1 & 0 \\end{bmatrix}$"
   ]
  },
  {
   "cell_type": "markdown",
   "id": "2a787adb-7a91-4507-b9b0-7ce90d59189f",
   "metadata": {},
   "source": [
    "ex) $4 \\times 4$\n",
    "\n",
    "- 4 * 3 * 2 * 1 = 24"
   ]
  },
  {
   "cell_type": "code",
   "execution_count": null,
   "id": "6fd48018-f0e2-44a0-94cf-bae44286aaab",
   "metadata": {},
   "outputs": [],
   "source": []
  }
 ],
 "metadata": {
  "kernelspec": {
   "display_name": "Python 3",
   "language": "python",
   "name": "python3"
  },
  "language_info": {
   "codemirror_mode": {
    "name": "ipython",
    "version": 3
   },
   "file_extension": ".py",
   "mimetype": "text/x-python",
   "name": "python",
   "nbconvert_exporter": "python",
   "pygments_lexer": "ipython3",
   "version": "3.8.0"
  }
 },
 "nbformat": 4,
 "nbformat_minor": 5
}
