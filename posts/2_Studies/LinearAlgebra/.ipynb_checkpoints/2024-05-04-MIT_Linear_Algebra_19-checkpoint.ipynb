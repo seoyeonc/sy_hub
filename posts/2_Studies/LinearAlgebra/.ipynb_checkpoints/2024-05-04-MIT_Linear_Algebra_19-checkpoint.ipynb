{
 "cells": [
  {
   "cell_type": "raw",
   "id": "cb2da8f1-ec7d-4e12-a2ff-d87bc518b795",
   "metadata": {
    "id": "cac470df-29e7-4148-9bbd-d8b9a32fa570",
    "tags": []
   },
   "source": [
    "---\n",
    "title: \"[Linear Algebra] Lecture 19\"\n",
    "author: \"SEOYEON CHOI\"\n",
    "date: \"2024-05-04\"\n",
    "---"
   ]
  },
  {
   "cell_type": "markdown",
   "id": "787edd82-094f-4a5c-bf34-0d5f93a4fef2",
   "metadata": {},
   "source": [
    "{{< video https://www.youtube.com/watch?v=srxexLishgY&list=PL49CF3715CB9EF31D&index=18 >}}"
   ]
  },
  {
   "cell_type": "markdown",
   "id": "982a1768-625a-44df-b3d3-85ee3e34002a",
   "metadata": {},
   "source": [
    "https://twlab.tistory.com/41#google_vignette"
   ]
  },
  {
   "cell_type": "code",
   "execution_count": null,
   "id": "edc765bc-e68a-4fdc-ba60-617302f92572",
   "metadata": {},
   "outputs": [],
   "source": []
  }
 ],
 "metadata": {
  "kernelspec": {
   "display_name": "Python 3",
   "language": "python",
   "name": "python3"
  },
  "language_info": {
   "codemirror_mode": {
    "name": "ipython",
    "version": 3
   },
   "file_extension": ".py",
   "mimetype": "text/x-python",
   "name": "python",
   "nbconvert_exporter": "python",
   "pygments_lexer": "ipython3",
   "version": "3.8.0"
  }
 },
 "nbformat": 4,
 "nbformat_minor": 5
}
