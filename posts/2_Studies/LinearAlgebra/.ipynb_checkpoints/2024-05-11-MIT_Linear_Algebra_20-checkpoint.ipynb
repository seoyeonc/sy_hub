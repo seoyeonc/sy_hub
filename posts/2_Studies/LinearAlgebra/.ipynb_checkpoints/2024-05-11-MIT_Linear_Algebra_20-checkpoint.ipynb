{
 "cells": [
  {
   "cell_type": "raw",
   "id": "26424346-c6ea-4c33-bb5c-6ab28cddabfa",
   "metadata": {
    "id": "cac470df-29e7-4148-9bbd-d8b9a32fa570",
    "tags": []
   },
   "source": [
    "---\n",
    "title: \"[Linear Algebra] Lecture 20\"\n",
    "author: \"SEOYEON CHOI\"\n",
    "date: \"2024-05-11\"\n",
    "---"
   ]
  },
  {
   "cell_type": "markdown",
   "id": "23cdf654-9f3d-4ba0-a74e-576ff86a8754",
   "metadata": {},
   "source": [
    "{{< video https://www.youtube.com/watch?v=23LLB9mNJvc&list=PL49CF3715CB9EF31D&index=19 >}}"
   ]
  },
  {
   "cell_type": "markdown",
   "id": "429e5a4e-4703-433b-aea1-345b18a57ea4",
   "metadata": {},
   "source": [
    "https://twlab.tistory.com/43#google_vignette"
   ]
  },
  {
   "cell_type": "code",
   "execution_count": null,
   "id": "431bc791-598d-47e1-beed-7a4e8ded74ab",
   "metadata": {},
   "outputs": [],
   "source": []
  }
 ],
 "metadata": {
  "kernelspec": {
   "display_name": "Python 3",
   "language": "python",
   "name": "python3"
  },
  "language_info": {
   "codemirror_mode": {
    "name": "ipython",
    "version": 3
   },
   "file_extension": ".py",
   "mimetype": "text/x-python",
   "name": "python",
   "nbconvert_exporter": "python",
   "pygments_lexer": "ipython3",
   "version": "3.8.0"
  }
 },
 "nbformat": 4,
 "nbformat_minor": 5
}
