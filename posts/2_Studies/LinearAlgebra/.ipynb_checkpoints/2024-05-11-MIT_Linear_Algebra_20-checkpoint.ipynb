{
 "cells": [
  {
   "cell_type": "raw",
   "id": "26424346-c6ea-4c33-bb5c-6ab28cddabfa",
   "metadata": {
    "id": "cac470df-29e7-4148-9bbd-d8b9a32fa570",
    "tags": []
   },
   "source": [
    "---\n",
    "title: \"[Linear Algebra] Lecture 20\"\n",
    "author: \"SEOYEON CHOI\"\n",
    "date: \"2024-05-11\"\n",
    "---"
   ]
  },
  {
   "cell_type": "markdown",
   "id": "23cdf654-9f3d-4ba0-a74e-576ff86a8754",
   "metadata": {},
   "source": [
    "{{< video https://www.youtube.com/watch?v=QNpj-gOXW9M&list=PL49CF3715CB9EF31D&index=20 >}}"
   ]
  },
  {
   "cell_type": "markdown",
   "id": "e7932702-fb1b-46d1-8ccf-87c5492e302d",
   "metadata": {},
   "source": [
    "> 학습목표"
   ]
  },
  {
   "cell_type": "markdown",
   "id": "941b56e2-c833-46ab-8072-56e244caee37",
   "metadata": {},
   "source": [
    "1. Formula for $A^{-1}$\n",
    "2. Crawers Rule for $x = A^{-1}b$\n",
    "3. $|Det$ $A| =$ volumne of box"
   ]
  },
  {
   "cell_type": "markdown",
   "id": "1c2b1cf5-1129-4e45-81e6-eafd1d2989be",
   "metadata": {},
   "source": [
    "$\\begin{bmatrix} a & b \\\\ c & d\\end{bmatrix}^{-1} = \\frac{1}{ad-bc} \\begin{bmatrix} d & -b \\\\ -c & a\\end{bmatrix}$"
   ]
  },
  {
   "cell_type": "markdown",
   "id": "e0261e11-7109-46ad-b418-f57e1068afe1",
   "metadata": {},
   "source": [
    "- 우항의 1행 1열 $d$ 는 좌항의 1행 1열 $a$의 cofactor 여인수\n",
    "- 우항의 2행 2열 $a$ 는 좌항의 2행 2열 $d$의 cofactor 여인수\n",
    "- counter diagonal 원소들(전치로 인해 바뀐 위치)\n",
    "    - 우항의 2행 1열 $-c$ 는 좌항의 1행 2열 $b$의 cofactor 여인수\n",
    "    - 우항의 1행 2열 $-b$ 는 좌항의 2행 1열 $c$의 cofactor 여인수"
   ]
  },
  {
   "cell_type": "markdown",
   "id": "95f8d60a-9702-497f-87f6-eb915f378b99",
   "metadata": {},
   "source": [
    "$A^{-1} = \\frac{1}{\\text{det } A} C^T$"
   ]
  },
  {
   "cell_type": "markdown",
   "id": "46c44383-c008-4d44-8817-e1d6a70b3532",
   "metadata": {},
   "source": [
    "$C^T$ : 여인수 행렬 cofactor matrix의 전환transpose"
   ]
  },
  {
   "cell_type": "markdown",
   "id": "6ce6af25-3446-403f-a490-fa66692d1e86",
   "metadata": {},
   "source": [
    "- $3 \\times 3$인 경우"
   ]
  },
  {
   "cell_type": "markdown",
   "id": "33704067-aa75-4085-8e65-800709acf580",
   "metadata": {},
   "source": [
    "$\\begin{bmatrix} a & b & c \\\\ d & e & f \\\\ g & h & i \\end{bmatrix} = \\frac{1}{\\text{det } A} \\begin{bmatrix} + \\begin{vmatrix} e & f \\\\ h & i \\end{vmatrix} & - \\begin{vmatrix} b & c \\\\ h & i \\end{vmatrix} & + \\begin{vmatrix} b & c \\\\ e & f \\end{vmatrix} \\\\ -\\begin{vmatrix} d & f \\\\ g & i \\end{vmatrix} & + \\begin{vmatrix} a & c \\\\ g & i \\end{vmatrix} & -\\begin{vmatrix} a & c \\\\ d & f \\end{vmatrix} \\\\ + \\begin{vmatrix} s & e \\\\ g & h \\end{vmatrix} & - \\begin{vmatrix} a & b \\\\ g & h  \\end{vmatrix} & + \\begin{vmatrix} a & b \\\\ d & e  \\end{vmatrix} \\end{bmatrix}$"
   ]
  },
  {
   "cell_type": "markdown",
   "id": "507cf282-3827-4a11-8a41-966c9418241d",
   "metadata": {},
   "source": [
    "$det$ $A = aei - afh - bdi + bfg + cdh - ceg$"
   ]
  },
  {
   "cell_type": "markdown",
   "id": "17c37b25-1fa4-483c-a88e-70d5723370ca",
   "metadata": {},
   "source": [
    "- 역행렬 check"
   ]
  },
  {
   "cell_type": "markdown",
   "id": "2e8924d1-e861-4539-af5f-5f56f45d1a36",
   "metadata": {},
   "source": [
    "$AC^T = (det$ $A)I$"
   ]
  },
  {
   "cell_type": "markdown",
   "id": "f494033a-1693-4ddd-849d-75d244aaa7cb",
   "metadata": {},
   "source": [
    "$A = \\begin{bmatrix} a_{11} & a_{12} & a_{13} \\\\ a_{21} & a_{22} & a_{23} \\\\  a_{31} & a_{32} & a_{33} \\end{bmatrix}$\n",
    "\n",
    "$C = \\begin{bmatrix} c_{11} & c_{12} & c_{13} \\\\ c_{21} & c_{22} & c_{23} \\\\  c_{31} & c_{32} & c_{33} \\end{bmatrix}$\n",
    "\n",
    "$C^T = \\begin{bmatrix} c_{11} & c_{21} & c_{31} \\\\ c_{12} & c_{22} & c_{32} \\\\  c_{13} & c_{23} & c_{33} \\end{bmatrix}$\n",
    "\n",
    "$\\begin{bmatrix} a_{11} & a_{12} & a_{13} \\\\ a_{21} & a_{22} & a_{23} \\\\  a_{31} & a_{32} & a_{33} \\end{bmatrix} \\begin{bmatrix} c_{11} & c_{21} & c_{31} \\\\ c_{12} & c_{22} & c_{32} \\\\  c_{13} & c_{23} & c_{33} \\end{bmatrix} = \\begin{bmatrix} \\text{det } A & 0 & \\\\ 0 & \\text{det } A & 0 \\\\ 0 & 0 & \\text{det } A \\end{bmatrix}$"
   ]
  },
  {
   "cell_type": "markdown",
   "id": "5895ff6f-31c4-442c-994f-b1fc53f7c44b",
   "metadata": {},
   "source": [
    "$A^{-1} = \\frac{1}{\\text{det } A} C^T$의 양변에 $(det$ $A)A$를 곱해준 것과 같음"
   ]
  },
  {
   "cell_type": "markdown",
   "id": "328f3fb6-8120-4258-91bf-8ae5cf610cff",
   "metadata": {},
   "source": [
    "- $C^T$의 1열은 $A$의 1행의 여인수cofactor\n",
    "- cofactor fomula\n",
    "    - $det$ $A = a_{11}C_{11} + a_{12} C_{12} + \\cdots + a_{1n} C_{1n}$\n",
    "    - $det$ $A = a_{21}C_{21} + a_{22} C_{22} + \\cdots + a_{2n} C_{2n}$\n",
    "    - $\\cdots$\n",
    "    - $det$ $A = a_{n1}C_{n1} + a_{n2} C_{n2} + \\cdots + a_{nn} C_{nn}$"
   ]
  },
  {
   "cell_type": "markdown",
   "id": "29b994f4-ba19-4035-8271-03e9416a1455",
   "metadata": {},
   "source": [
    "- 특징\n",
    "    - 행은 1에서 n까지 어떤 인덱스를 통해서라도 $det$ $A$를 나타낼 수 있다.\n",
    "    - $det$ $A$ 구할 떄 컬럼의 인덱스가 같음\n",
    "        - 컬럼의 인덱스가 다르다면 내적이 $0$이 되어 사라졌기 때문\n",
    "        - 서로 다른 인덱스를 가진 행과 열을 곱하는 것은 똑같은 행을 두 개 이상 가진 특이행렬singular matrix의 deeterminant를 구하는 것과 같기 때문"
   ]
  },
  {
   "cell_type": "markdown",
   "id": "c19fbefd-072f-48f0-bd29-e139c2fc1b3b",
   "metadata": {},
   "source": [
    "$\\begin{bmatrix}a & b \\\\ c & d \\end{bmatrix} \\begin{bmatrix} d & -b \\\\ -c & a \\end{bmatrix} = \\begin{bmatrix} \\text{det } A & 0 \\\\ 0 & \\text{det } A \\end{bmatrix}$\n",
    "\n",
    "$(\\text{det } A) I_{11} = ad + b (-c) = \\text{det } A$\n",
    "\n",
    "$(\\text{det } A) I_{12} = a(-b) +ba = 0$\n",
    "\n",
    "$(\\text{det } A) I_{21} = cd+d(-c) = 0$\n",
    "\n",
    "$(\\text{det } A) I_{22} = c(-b)+da = \\text{det } A$\n",
    "\n",
    "$(\\text{det } A) I_{12} = \\begin{vmatrix} a & b \\\\ a & b \\end{vmatrix} = ab-ba$"
   ]
  },
  {
   "cell_type": "markdown",
   "id": "c6695039-2995-4002-936a-edcd4e753df9",
   "metadata": {},
   "source": [
    "`-` 크래머 공식 Cramer's Rule"
   ]
  },
  {
   "cell_type": "markdown",
   "id": "a6f91d1e-376e-4db2-a0bd-07ef491c0bcc",
   "metadata": {},
   "source": [
    "선형시스템 방정식 linear system equation $Ax = b$이 있을때, $A$가 역행렬이 있다고 정의하여 아래와 같이 계산할 수 있음.\n",
    "\n",
    "$x = A^{-1} b = \\frac{1}{\\text{det } A} C^T b$"
   ]
  },
  {
   "cell_type": "markdown",
   "id": "1cb18608-0458-49ab-8c0f-5929405d403e",
   "metadata": {},
   "source": [
    "$x = \\begin{bmatrix} x_1 \\\\ x_2 \\\\ x_3 \\\\ \\vdots \\\\ x_n \\end{bmatrix}$\n",
    "\n",
    "$C^T = \\begin{bmatrix}c_{11} & c_{21} & c_{31} & \\cdots & c_{n1} \\\\ c_{12} & c_{22} & c_{32} & \\cdots & c_{n2} \\\\ c_{13} & c_{23} & c_{33} & \\cdots & c_{n3} \\\\ \\vdots & \\vdots & \\vdots & \\ddots & \\vdots \\\\ c_{1n} & c_{2n} & c_{3n} & \\cdots & c_{nn} \\end{bmatrix}$\n",
    "\n",
    "$b = \\begin{bmatrix} b_1 \\\\ b_2 \\\\ b_3 \\\\ \\vdots \\\\ b_n \\end{bmatrix}$\n",
    "\n",
    "$\\begin{bmatrix} x_1 \\\\ x_2 \\\\ x_3 \\\\ \\vdots \\\\ x_n \\end{bmatrix} = \\frac{1}{\\text{det } A} \\begin{bmatrix}c_{11} & c_{21} & c_{31} & \\cdots & c_{n1} \\\\ c_{12} & c_{22} & c_{32} & \\cdots & c_{n2} \\\\ c_{13} & c_{23} & c_{33} & \\cdots & c_{n3} \\\\ \\vdots & \\vdots & \\vdots & \\ddots & \\vdots \\\\ c_{1n} & c_{2n} & c_{3n} & \\cdots & c_{nn} \\end{bmatrix} \\begin{bmatrix} b_1 \\\\ b_2 \\\\ b_3 \\\\ \\vdots \\\\ b_n \\end{bmatrix}$\n",
    "\n",
    "$x_1 = \\frac{c_{11}b_1+c_{21}b_2+\\cdots+c_{n1}b_n}{\\text{det } A} = \\frac{\\text{det } B_1}{\\text{det } A}$\n",
    "\n",
    "$x_2 = \\frac{c_{12}b_1+c_{22}b_2+\\cdots+c_{n2}b_n}{\\text{det } A} = \\frac{\\text{det } B_2}{\\text{det } A}$\n",
    "\n",
    "$\\cdots$"
   ]
  },
  {
   "cell_type": "markdown",
   "id": "c3ffe60f-d456-4c18-a553-0c013a649415",
   "metadata": {},
   "source": [
    "$3 \\times 3$ 행렬$A$이 있을 때, $\\begin{bmatrix} a_{11} & a_{12} & a_{13} \\\\ a_{21} & a_{22} & a_{23} \\\\  a_{31} & a_{32} & a_{33} \\end{bmatrix}$\n",
    "\n",
    "$x_1 = \\frac{1}{\\text{det } A} \\begin{vmatrix} b_1 & a_{12} & a_{13} \\\\ b_2 & a_{22} & a_{23} \\\\ b_3 & a_{32} & a_{33}\\end{vmatrix} = \\frac{c_{11}b_1+c_{21}b_2+\\cdots+c_{n1}b_n}{\\text{det } A} = \\frac{\\text{det } B_1}{\\text{det } A}$\n",
    "\n",
    "$x_2 = \\frac{1}{\\text{det } A} \\begin{vmatrix} a_{11} & b_1 & a_{13} \\\\ a_{21} & b_2 & a_{23} \\\\ a_{31} & b_3 & a_{33}\\end{vmatrix} = \\frac{c_{12}b_1+c_{22}b_2+\\cdots+c_{n2}b_n}{\\text{det } A} = \\frac{\\text{det } B_2}{\\text{det } A}$\n",
    "\n",
    "$x_3 = \\frac{1}{\\text{det } A} \\begin{vmatrix} a_{11} & a_{12} & b_1 \\\\ a_{21} &a_{22} &  b_2 \\\\ a_{31} & a_{32} & b_3 \\end{vmatrix} = \\frac{c_{13}b_1+c_{23}b_2+\\cdots+c_{n3}b_n}{\\text{det } A} = \\frac{\\text{det } B_3}{\\text{det } A}$"
   ]
  },
  {
   "cell_type": "markdown",
   "id": "c50a9325-0c37-4e2d-a644-095ffde388de",
   "metadata": {},
   "source": [
    "- 크래머 공식 정의\n",
    "    - 임의의 선형시스템 방정식 $Ax =b$의 해를 $x$를 행렬식으로 유도된 공식을 통해 푸는 방법\n",
    "- 크래머 공식 단점\n",
    "    - 행렬이 크면 그만큼 곱해야해서 비효율적이다. $1100 \\times 100$행렬이면 100번 곱해야함\n",
    "        - 그런 의미로 가우스 소거 방법이 더 효율적임"
   ]
  },
  {
   "cell_type": "markdown",
   "id": "e993eea2-be58-4bae-86b4-38cd10c022ce",
   "metadata": {},
   "source": [
    "`-` 행렬식, 넓이"
   ]
  },
  {
   "cell_type": "markdown",
   "id": "2e0fb9f5-0f01-4232-945b-ef43499c26bb",
   "metadata": {},
   "source": [
    "$2 \\times 2$ 행렬에서 $det$ $A$ = area of parallelogram"
   ]
  },
  {
   "cell_type": "markdown",
   "id": "09c85e20-8c05-43d2-bb65-903e3f50969c",
   "metadata": {},
   "source": [
    "$A = \\begin{bmatrix} 4 & 1 \\\\ 2 & 3 \\end{bmatrix}, v_1 = \\begin{bmatrix} 4 & 1 \\end{bmatrix}, v_2 = \\begin{bmatrix} 2 & 3\\end{bmatrix}$\n",
    "\n",
    "- 행렬을 벡터로 표현한 평행 사변형의 넓이는 행렬 $A$의 determinatn와 같다.\n",
    "- 즉, $det$ $A = \\begin{vmatrix} 4 & 1 \\\\ 2 & 3\\end{vmatrix} = 12-2 = 10$"
   ]
  },
  {
   "cell_type": "markdown",
   "id": "a3684ad4-8a88-4f41-8fda-d44c8882b44c",
   "metadata": {},
   "source": [
    "`-` volume of box"
   ]
  },
  {
   "cell_type": "markdown",
   "id": "b53e3d60-c8a4-44bf-86b2-011bd0239555",
   "metadata": {},
   "source": [
    "행렬식으로 표현된 상자의 부피는 determinant로 계산 가능하다.\n",
    "\n",
    "$A$의 부피 = $det$ $A = \\begin{vmatrix} a & b & c \\\\ d & e & f \\\\ g & h & i \\end{vmatrix}$"
   ]
  },
  {
   "cell_type": "code",
   "execution_count": null,
   "id": "90d2ae79-839c-4d29-8699-bf7d4076c284",
   "metadata": {},
   "outputs": [],
   "source": []
  }
 ],
 "metadata": {
  "kernelspec": {
   "display_name": "Python 3",
   "language": "python",
   "name": "python3"
  },
  "language_info": {
   "codemirror_mode": {
    "name": "ipython",
    "version": 3
   },
   "file_extension": ".py",
   "mimetype": "text/x-python",
   "name": "python",
   "nbconvert_exporter": "python",
   "pygments_lexer": "ipython3",
   "version": "3.8.0"
  }
 },
 "nbformat": 4,
 "nbformat_minor": 5
}
