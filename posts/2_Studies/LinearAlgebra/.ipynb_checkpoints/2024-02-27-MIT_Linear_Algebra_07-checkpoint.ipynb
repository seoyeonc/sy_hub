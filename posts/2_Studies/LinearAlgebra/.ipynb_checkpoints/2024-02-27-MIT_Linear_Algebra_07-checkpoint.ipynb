{
 "cells": [
  {
   "cell_type": "raw",
   "id": "10cb75cd-e2ac-40ce-9e8c-3eecf51800a3",
   "metadata": {
    "id": "cac470df-29e7-4148-9bbd-d8b9a32fa570",
    "tags": []
   },
   "source": [
    "---\n",
    "title: \"[Linear Algebra] Lecture 7\"\n",
    "author: \"SEOYEON CHOI\"\n",
    "date: \"2024-02-27\"\n",
    "---"
   ]
  },
  {
   "cell_type": "markdown",
   "id": "22c9ae19-4ecf-43f0-8d3f-f2d1b09d1e42",
   "metadata": {},
   "source": [
    "{{< video https://www.youtube.com/watch?v=VqP2tREMvt0&list=PL49CF3715CB9EF31D&index=7 >}}"
   ]
  },
  {
   "cell_type": "markdown",
   "id": "93a727af-1c6e-4537-b358-cdee6bfb2ce1",
   "metadata": {},
   "source": [
    "> 학습 목표"
   ]
  },
  {
   "cell_type": "markdown",
   "id": "67336341-2ee4-4f20-84d3-09f1e30786a8",
   "metadata": {},
   "source": [
    "- computing the nullspace($Ax=0$)\n",
    "- pivot variables, free variables\n",
    "- Special solutions $rref(A) = R$"
   ]
  },
  {
   "cell_type": "markdown",
   "id": "ade62d5e-9033-4ce9-ad07-44df92f631f0",
   "metadata": {},
   "source": [
    "$Ax = 0$"
   ]
  },
  {
   "cell_type": "markdown",
   "id": "fecac11b-11f4-4f59-9dd7-a878d6f73032",
   "metadata": {},
   "source": [
    "$A = \\begin{bmatrix} 1 & 2 & 2 & 2 \\\\ 2 & 4 & 6 & 8 \\\\ 3 & 6 & 8 & 10 \\end{bmatrix}$"
   ]
  },
  {
   "cell_type": "markdown",
   "id": "f593bbd0-10f7-489f-b84a-97b8ba2818c1",
   "metadata": {},
   "source": [
    "1st stage of elimination\n",
    "\n",
    "- 1행에 2를 multiply 해서 2행에서 빼기\n",
    "- 1행에 3을 multiply 해서 3행에서 빼기"
   ]
  },
  {
   "cell_type": "markdown",
   "id": "2e460716-60e9-44ab-a9a1-c8e07d168c32",
   "metadata": {},
   "source": [
    "$\\to \\begin{bmatrix} 1 & 2 & 2 & 2 \\\\ 0 & 0 & 2 & 4 \\\\ 0 & 0 & 2 & 4 \\end{bmatrix}$"
   ]
  },
  {
   "cell_type": "markdown",
   "id": "7695ff9c-2a84-48ab-8f0b-b92325fe0471",
   "metadata": {},
   "source": [
    "2nd stage od elimination\n",
    "\n",
    "- 2행을 3행에서 빼기"
   ]
  },
  {
   "cell_type": "markdown",
   "id": "97d65e11-6879-412d-ae35-0c58a3c5ebf6",
   "metadata": {},
   "source": [
    "$\\to \\begin{bmatrix} 1 & 2 & 2 & 2 \\\\ 0 & 0 & 2 & 4 \\\\ 0 & 0 & 0 & 0 \\end{bmatrix} = u$, new echelon form"
   ]
  },
  {
   "cell_type": "markdown",
   "id": "c29ca2b9-b10e-4202-b345-322906cf8c1c",
   "metadata": {},
   "source": [
    "::: {.callout-tip title=\"Echelon form\"}\n",
    "\n",
    "사다리꼴 행렬이라고도 부르는 Echelon form, 이는 특정한 조건을 따른다.\n",
    "\n",
    "- 0이 아닌 행(nonzero row)이 항상 모두 0인 행의 위에 있어야 한다.\n",
    "- leading entry(=pivot?)의 위치가 위에 행의 leading entry보다 오른쪽에 있어야 한다.\n",
    "\n",
    "$A(u)$를 예로 들면,\n",
    "\n",
    "- 0이 아닌 행이 모두 0인 행의 위에 있고,\n",
    "- 1행의 1열이 1st pivot이며, leading entry, 2행의 3열이 2nd pivot이며, leading entry.\n",
    "- 따라서 Echelon form의 조건을 만족한다.\n",
    ":::"
   ]
  },
  {
   "cell_type": "markdown",
   "id": "4e2e9cbd-d71c-4c3e-87ef-757ff62f2c7c",
   "metadata": {},
   "source": [
    "**rank** of $A$ = *the number of pivots* = 2\n",
    "\n",
    "- 1st pivot = 1행 1열의 `1`\n",
    "- 2nd pivot = 2행 3열의 `2`\n",
    "\n",
    "- 1,3 columns = `pivot columns`\n",
    "- 2,4 columns = `free columns`"
   ]
  },
  {
   "cell_type": "markdown",
   "id": "46873d46-3c1c-4f28-92a7-6ba161553036",
   "metadata": {},
   "source": [
    "결과로 나온 2equations $Ax = 0 \\sim ux = 0$\n",
    "\n",
    "- $x_1 + 2x_2+2x_3+2x_4 = 0$\n",
    "- $2x_3+4x_4 = 0$"
   ]
  },
  {
   "cell_type": "markdown",
   "id": "09add0eb-0d41-48a8-848b-75bf021ddfae",
   "metadata": {},
   "source": [
    "위의 equations로 nullspace를 만드는 해를 구해보면, $x_2=1, x_4=0$이라고 가정한 후\n",
    "\n",
    "$x = c\\begin{bmatrix} -2 \\\\ 1 \\\\ 0 \\\\ 0\\end{bmatrix}$\n",
    "\n",
    "$\\to$ $-2 col_1 + col_2 = 0$"
   ]
  },
  {
   "cell_type": "markdown",
   "id": "da7a7e0b-f806-4a40-b45d-88e66a0afe15",
   "metadata": {},
   "source": [
    "위의 equations로 nullspace를 만드는 해를 구해보면, $x_2=0, x_4=1$이라고 가정한 후\n",
    "\n",
    "$x = d\\begin{bmatrix} 2 \\\\ 0 \\\\ -2 \\\\ 1\\end{bmatrix}$\n",
    "\n",
    "$\\to 2col_1 -2col_3 + col_4 = 0$"
   ]
  },
  {
   "cell_type": "markdown",
   "id": "e166a27f-143a-4a08-98ae-f74b467557c2",
   "metadata": {},
   "source": [
    "`-` special solution: free variavle에 1 또는 0을 준 결과"
   ]
  },
  {
   "cell_type": "markdown",
   "id": "0ee1faf2-d0c2-43cc-935e-5ce04ded12d5",
   "metadata": {},
   "source": [
    "`?` How many special solutions are there?\n",
    "\n",
    "- If the rank^[the number of pivot variables] is $2$, the number of free variable is 2\n",
    "    - $n - r=4-2$ $\\to$ free variable\n",
    "        - $n$ = The number of column\n",
    "        - $r$ = rank\n",
    "        - We can choose freely.\n",
    "        - We can give zero or one values.\n",
    "        - We will got the special solutions."
   ]
  },
  {
   "cell_type": "markdown",
   "id": "b1698fc3-8a1c-4e89-9056-e17b93a62f55",
   "metadata": {},
   "source": [
    "When we set a row of zeros, that is telliing us that original row that was a combination of other rows and elimination knocked it out.\n",
    "\n",
    "- A만 해도 u로 변할 수 있다는 것은 행렬을 가우스 소거나 다른 연산을 사용하여 원래의 행이 다른 행들의 선형 조합으로 나타낼 수 있음을 의미함."
   ]
  },
  {
   "cell_type": "markdown",
   "id": "8614db25-e9e3-42ec-ae68-f113cc05ff58",
   "metadata": {},
   "source": [
    "즉, 이 $u$처럼 어떤 행에 0 자체로 elimination 된다면, $u = \\begin{bmatrix} 1 & 2 & 2 & 2 \\\\ 0 & 0 & 2 & 4 \\\\ 0 & 0 & 0 & 0 \\end{bmatrix}$"
   ]
  },
  {
   "cell_type": "markdown",
   "id": "21d7dcd8-5094-490b-ae94-8fef93ba29aa",
   "metadata": {},
   "source": [
    "$R$ = reduced row echelon form = zero above + below pivots"
   ]
  },
  {
   "cell_type": "markdown",
   "id": "49a0686d-ee8a-4c7b-be61-fe8a27caccc2",
   "metadata": {},
   "source": [
    "- 1행 - 2행을 하면"
   ]
  },
  {
   "cell_type": "markdown",
   "id": "d5d34a2b-7738-40fa-82a8-070210f5d162",
   "metadata": {},
   "source": [
    "$\\begin{bmatrix} 1 & 2 & 0 & -2 \\\\ 0 & 0 & 2 & 4 \\\\ 0 & 0 & 0 & 0 \\end{bmatrix}$"
   ]
  },
  {
   "cell_type": "markdown",
   "id": "97e879cf-0b3e-48be-9345-713b1786b531",
   "metadata": {},
   "source": [
    "- 2행을 2로 나누면"
   ]
  },
  {
   "cell_type": "markdown",
   "id": "bc4b3742-f299-4456-ad5e-f2b2ec5c2933",
   "metadata": {},
   "source": [
    "$\\begin{bmatrix} 1 & 2 & 0 & -2 \\\\ 0 & 0 & 1 & 2 \\\\ 0 & 0 & 0 & 0 \\end{bmatrix} = R$ = rref($A$)"
   ]
  },
  {
   "cell_type": "markdown",
   "id": "4380bbac-7ece-41f4-9dc0-f88d9be4ba27",
   "metadata": {},
   "source": [
    "2개의 pivot이 나온다."
   ]
  },
  {
   "cell_type": "markdown",
   "id": "8da2850a-9805-4d41-9aac-30afa6ccd454",
   "metadata": {},
   "source": [
    "Notice $\\begin{bmatrix} 1 & 0 \\\\ 0 & 1 \\end{bmatrix} = I$ in the pivot rows / cols."
   ]
  },
  {
   "cell_type": "markdown",
   "id": "d338da8d-83bf-4d74-9ac0-68c15b69e820",
   "metadata": {},
   "source": [
    "2 equations of rref($A$), $Rx = 0$을 만드는 x 행렬을 찾자\n",
    "\n",
    "- $x_1 + 2x_2 - x_4 = 0$\n",
    "- $x_3 + 2x_4 =0$"
   ]
  },
  {
   "cell_type": "markdown",
   "id": "cae7d280-9768-4047-a5ef-0883db0dc492",
   "metadata": {},
   "source": [
    "$\\therefore$ $Ax = 0$, $ux = 0$, $Rx=0$ are all the same.\n",
    "\n",
    "- 단지 multiply 했을 뿐이니까."
   ]
  },
  {
   "cell_type": "markdown",
   "id": "603ed14d-43fe-470a-b0ad-6d5f47021068",
   "metadata": {},
   "source": [
    "$\\begin{bmatrix} 1 & 0 & 2 & -2 \\\\ 0 & 1 & 0 & 2 \\\\ 0 & 0 & 0 & 0 \\end{bmatrix}$"
   ]
  },
  {
   "cell_type": "markdown",
   "id": "81cc9256-49dc-4741-b531-9106b0a91802",
   "metadata": {},
   "source": [
    "- $\\begin{bmatrix} 1 & 0 \\\\ 0 & 1 \\end{bmatrix}$은 Pivot 열(원래 1,3열),\n",
    "    - Identity part of matrix $I$\n",
    "- $\\begin{bmatrix} 2 & -2 \\\\ 0 & 2 \\end{bmatrix}$은 Free 열(원래 2,4열),\n",
    "    - Free part of matrix $F$"
   ]
  },
  {
   "cell_type": "markdown",
   "id": "23e1d4f4-d110-4072-9ce3-f3b041c72729",
   "metadata": {},
   "source": [
    "rref form(typical reduced echelon)\n",
    "\n",
    "$R = \\begin{bmatrix} I & F \\\\ 0 & 0\\end{bmatrix}$\n",
    "\n",
    "- $\\begin{bmatrix} I & F \\end{bmatrix}$ = r pivot rows\n",
    "- $\\begin{bmatrix} I \\\\ 0 \\end{bmatrix}$ = r pivot cols\n",
    "- $\\begin{bmatrix} F \\\\ 0 \\end{bmatrix}$ = $n-r$ free cols"
   ]
  },
  {
   "cell_type": "markdown",
   "id": "ae45187e-db3f-40e2-a482-bb7847439ff5",
   "metadata": {},
   "source": [
    "Let's make nullspace matrix. = Let's make columns to special solutions."
   ]
  },
  {
   "cell_type": "markdown",
   "id": "0ddd76b3-71c1-4cc3-b618-55c4fb7d8f68",
   "metadata": {},
   "source": [
    "$RN = 0$.\n",
    "\n",
    "- $N = \\begin{bmatrix} -F \\\\ I \\end{bmatrix}$\n",
    "    - $\\begin{bmatrix} I & F \\\\ 0 & 0\\end{bmatrix}$ $\\begin{bmatrix} -F \\\\ I \\end{bmatrix}$ = $\\begin{bmatrix} 0 \\\\ 0 \\end{bmatrix}$\n",
    "\n",
    "$Rx = 0$\n",
    "\n",
    "- $\\begin{bmatrix} I & F \\end{bmatrix}$ $\\begin{bmatrix} x_{pivot} \\\\ x_{free} \\end{bmatrix} = 0$\n",
    "    - the pivot variables + $F$ variables = 0\n",
    "    - $I \\times x_{pivot} = -F \\times x_{free}$"
   ]
  },
  {
   "cell_type": "markdown",
   "id": "c65dbd01-cdb5-410b-8eb1-8cf4b0675438",
   "metadata": {},
   "source": [
    "`-` $A$를 trans해서 다시 pivot등 구해보자.\n",
    "\n",
    "$A = \\begin{bmatrix} 1 & 2 & 3 \\\\ 2 & 4 & 6 \\\\ 2 & 6 & 8 \\\\ 2 & 8 & 10\\end{bmatrix}$"
   ]
  },
  {
   "cell_type": "markdown",
   "id": "10e02319-71b0-4a70-ae6a-66461f0c6acd",
   "metadata": {},
   "source": [
    "- 여기서 2열은 independent해서 pivot 이 될 것을 확신할 수 있다.\n",
    "- 여기서 3열은 1열+2열이라 dependent 해서 free 가 될 것을 확신할 수 있다."
   ]
  },
  {
   "cell_type": "markdown",
   "id": "faa1e429-da9e-46cd-bcfe-051847e7b370",
   "metadata": {},
   "source": [
    "1행에 2배해서 2행에서 빼고, 3행에서 빼고, 4행에서 빼자.\n",
    "\n",
    "$\\to \\begin{bmatrix} 1 & 2 & 3 \\\\ 0 & 0 & 0 \\\\ 0 & 2 & 2 \\\\ 0 & 4 & 4 \\end{bmatrix}$\n",
    "\n",
    "2행에 2배해서 4행에서 빼고, row exchange 하자.\n",
    "\n",
    "$\\to \\begin{bmatrix} 1 & 2 & 3 \\\\ 0 & 2 & 2 \\\\0 & 0 & 0 \\\\  0 & 0 & 0 \\end{bmatrix} = u$"
   ]
  },
  {
   "cell_type": "markdown",
   "id": "d9c6586f-c068-4693-9818-09de64ab2043",
   "metadata": {},
   "source": [
    "- rank $r = 2$\n",
    "- 1행 1열의 `1`은 1st pivot\n",
    "- 2행 2열의 `1`은 2nd pivot"
   ]
  },
  {
   "cell_type": "markdown",
   "id": "08bc9566-1457-4395-941e-92aeeb45c648",
   "metadata": {},
   "source": [
    "- free column은 3열이 된다. 1개 free column 존재.\n",
    "- $n-r=3-2 = 1$"
   ]
  },
  {
   "cell_type": "markdown",
   "id": "593d23db-850f-4844-b68a-cba07b0ee9d4",
   "metadata": {},
   "source": [
    "$X = c\\begin{bmatrix} -1 \\\\\\ -1 \\\\ 1  \\end{bmatrix}$\n",
    "\n",
    "- $-col_1 -col_2 + col_3 = 0$"
   ]
  },
  {
   "cell_type": "markdown",
   "id": "b332143f-b06f-4b2f-a29f-4af1f7e1185b",
   "metadata": {},
   "source": [
    "2 equations\n",
    "\n",
    "- $x_1 + 2x_2 + 3x_3 = 0$\n",
    "- $2x_2 + 2x_3 = 0$"
   ]
  },
  {
   "cell_type": "markdown",
   "id": "c8f36ed2-d302-4a89-8cc1-53823789fa48",
   "metadata": {},
   "source": [
    "R을 만든다면\n",
    "\n",
    "$\\begin{bmatrix} 1 & 2 & 3 \\\\ 0 & 2 & 2 \\\\0 & 0 & 0 \\\\  0 & 0 & 0 \\end{bmatrix}$\n",
    "\n",
    "여기서 2행에 2배해서 1행에서 빼고, 2행을 2로 나누자\n",
    "\n",
    "$\\to \\begin{bmatrix} 1 & 0 & 1 \\\\ 0 & 1 & 1 \\\\ 0 & 0 & 0 \\\\ 0 & 0 & 0 \\end{bmatrix}$"
   ]
  },
  {
   "cell_type": "markdown",
   "id": "f3058c12-aaf1-4ed5-bda7-68731e436009",
   "metadata": {},
   "source": [
    "$x = c\\begin{bmatrix} -F \\\\ I \\end{bmatrix}$\n",
    "\n",
    "- nullspace를 만들어주는 $x \\sim N$\n",
    "    - nullspace matrix whose columns are the special solutions"
   ]
  },
  {
   "cell_type": "markdown",
   "id": "7c10d4ce-48d5-4c64-ad76-f5faf17d3aa7",
   "metadata": {},
   "source": [
    "---"
   ]
  },
  {
   "cell_type": "markdown",
   "id": "81a5cd57-c95e-401e-b88c-01ba6e2ca015",
   "metadata": {},
   "source": [
    "- nullspace를 만드는 $x$는 어떤 값을 곱해도 벡터가 표현되는 그 공간 자체임.\n",
    "- rank는 무조건 행의 개수가 아님. pivot의 개수로 이해하기\n",
    "    - pivot의 개수를 찾는 쉬운방법 = independent한 행이 몇 개인가?, free(dependent)한 행은 몇 개인가?\\\n",
    "    - 행의 수에서 pivot 수(rank 수) 뺴면 free 수임"
   ]
  },
  {
   "cell_type": "code",
   "execution_count": null,
   "id": "1cce97ae-ea18-4bcd-848f-21001b72cc3b",
   "metadata": {},
   "outputs": [],
   "source": []
  }
 ],
 "metadata": {
  "kernelspec": {
   "display_name": "Python 3",
   "language": "python",
   "name": "python3"
  },
  "language_info": {
   "codemirror_mode": {
    "name": "ipython",
    "version": 3
   },
   "file_extension": ".py",
   "mimetype": "text/x-python",
   "name": "python",
   "nbconvert_exporter": "python",
   "pygments_lexer": "ipython3",
   "version": "3.8.0"
  }
 },
 "nbformat": 4,
 "nbformat_minor": 5
}
