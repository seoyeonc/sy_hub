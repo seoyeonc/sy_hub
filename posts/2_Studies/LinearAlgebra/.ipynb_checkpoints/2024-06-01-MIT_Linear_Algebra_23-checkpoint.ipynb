{
 "cells": [
  {
   "cell_type": "raw",
   "id": "91205c36-71fc-4fd2-bea8-7a4f922fb1df",
   "metadata": {
    "id": "cac470df-29e7-4148-9bbd-d8b9a32fa570",
    "tags": []
   },
   "source": [
    "---\n",
    "title: \"[Linear Algebra] Lecture 23\"\n",
    "author: \"SEOYEON CHOI\"\n",
    "date: \"2024-06-01\"\n",
    "---"
   ]
  },
  {
   "cell_type": "markdown",
   "id": "2cc3337e-8882-4118-b608-27c9a5862962",
   "metadata": {},
   "source": [
    "{{< video https://www.youtube.com/watch?v=IZqwi0wJovM&list=PL49CF3715CB9EF31D&index=23 >}}"
   ]
  },
  {
   "cell_type": "markdown",
   "id": "ad57f7f6-7324-4ac5-aec0-8c3b0abcf71d",
   "metadata": {},
   "source": [
    "https://twlab.tistory.com/50"
   ]
  },
  {
   "cell_type": "code",
   "execution_count": null,
   "id": "a45ada09-1f73-4557-a8c9-5727853aee93",
   "metadata": {},
   "outputs": [],
   "source": []
  }
 ],
 "metadata": {
  "kernelspec": {
   "display_name": "Python 3",
   "language": "python",
   "name": "python3"
  },
  "language_info": {
   "codemirror_mode": {
    "name": "ipython",
    "version": 3
   },
   "file_extension": ".py",
   "mimetype": "text/x-python",
   "name": "python",
   "nbconvert_exporter": "python",
   "pygments_lexer": "ipython3",
   "version": "3.8.0"
  }
 },
 "nbformat": 4,
 "nbformat_minor": 5
}
