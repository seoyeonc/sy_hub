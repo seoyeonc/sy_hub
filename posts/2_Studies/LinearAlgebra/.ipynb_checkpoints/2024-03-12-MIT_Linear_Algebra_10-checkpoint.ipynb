{
 "cells": [
  {
   "cell_type": "raw",
   "id": "a0c43a30-6258-4d60-b87c-549675347bc4",
   "metadata": {
    "id": "cac470df-29e7-4148-9bbd-d8b9a32fa570",
    "tags": []
   },
   "source": [
    "---\n",
    "title: \"[Linear Algebra] Lecture 9\"\n",
    "author: \"SEOYEON CHOI\"\n",
    "date: \"2024-03-12\"\n",
    "---"
   ]
  },
  {
   "cell_type": "markdown",
   "id": "91009728-fcd0-4442-bbb0-b10b67becc6c",
   "metadata": {},
   "source": [
    "{{< video https://www.youtube.com/watch?v=yjBerM5jWsc&list=PL49CF3715CB9EF31D&index=10 >}}"
   ]
  },
  {
   "cell_type": "markdown",
   "id": "ecc2e359-e49d-44ba-9fa3-686d63d934cd",
   "metadata": {},
   "source": [
    "> 목표"
   ]
  },
  {
   "cell_type": "markdown",
   "id": "6a7cf137-b14a-4835-9c73-b3bce1fdd7ba",
   "metadata": {},
   "source": [
    "- correct error in lecture 9\n",
    "- Four Fundimental subspaces (for matrix $A$)"
   ]
  },
  {
   "cell_type": "markdown",
   "id": "25600944-9d4b-46d9-930b-bc6f8e728c39",
   "metadata": {},
   "source": [
    "`-` Example: Space in $\\mathbb{R}^3$, $\\mathbb{R}^n$ : $n$ vectors give basis if $A$ is $n$ by $n$.\n",
    "\n",
    "3차원의 공간에서 A가 n * n 행렬이라면 n 벡터가 기저이다."
   ]
  },
  {
   "cell_type": "markdown",
   "id": "b04111e7-3dd9-4af5-902a-08412d7e7ca5",
   "metadata": {},
   "source": [
    "One basis is standard $\\begin{bmatrix} 1 \\\\ 0 \\\\ 0 \\end{bmatrix}$ $\\begin{bmatrix} 0 \\\\ 1 \\\\ 0 \\end{bmatrix}$ $\\begin{bmatrix} 0 \\\\ 0 \\\\ 1 \\end{bmatrix}$\n",
    "\n",
    "Another basis $\\begin{bmatrix} 1 \\\\ 1 \\\\ 2 \\end{bmatrix}$ $\\begin{bmatrix} 2 \\\\ 2 \\\\ 5 \\end{bmatrix}$ $\\begin{bmatrix} 3 \\\\ 3 \\\\ 8 \\end{bmatrix}$"
   ]
  },
  {
   "cell_type": "markdown",
   "id": "93ce4bbb-4743-447f-8088-e6a551ad55e3",
   "metadata": {},
   "source": [
    "`-` 4 subspaces"
   ]
  },
  {
   "cell_type": "markdown",
   "id": "a9e364f5-7e2d-47f1-86d5-c2ce1fff0436",
   "metadata": {},
   "source": [
    "When $A$ is $m \\times n$ matrix\n",
    "\n",
    "1. Column Space $C(A)$\n",
    "    - dim$C(A)$ = rank $\\mathbb{r}$\n",
    "2. Null Space $N(A)$\n",
    "    - dim $N(A)$ = $n-\\mathbb{r}$\n",
    "3. Row Space\n",
    "    - = all combinations of rows\n",
    "    - = all combinations of columns of $A^\\top$\n",
    "    - = $C(A^\\top)$\n",
    "        - dim $C(A^\\top)$ = rank $\\mathbb{r}$\n",
    "    - row space 는 행렬 전치를 통해 row들의 선형 조합으로 공간을 span하여 행렬을 표현할 수 있음.\n",
    "4. Null Space of $A^\\top$\n",
    "    - = $N(A^\\top)$\n",
    "    - =  left Null Space of $A$\n",
    "        - dim $N(A^\\top)$ = $m-\\mathbb{r}$"
   ]
  },
  {
   "cell_type": "markdown",
   "id": "6ce84451-f966-46f5-87d0-142e12b858d3",
   "metadata": {},
   "source": [
    "`-` When $A$ is $m$ by $n$\n",
    "\n",
    "- $C(A)$ in $\\mathbb{R}^m$\n",
    "- $N(A)$ in $\\mathbb{R}^n$\n",
    "- $C(A^\\top)$ in $\\mathbb{R}^n$\n",
    "- $N(A^\\top)$ in $\\mathbb{R}^m$"
   ]
  },
  {
   "cell_type": "markdown",
   "id": "f5ebc09a-07ed-43ea-abfa-87622a88c356",
   "metadata": {},
   "source": [
    "||$C(A)$|$N(A)$|\n",
    "|:--:|:--:|:--:|\n",
    "|basis|pivot columns|special solutions|\n",
    "|dimension|$\\mathbb{r}$^[The number of pivot variables]|$n-\\mathbb{r}$^[The number of free variables]|"
   ]
  },
  {
   "cell_type": "markdown",
   "id": "e4d77f7a-ffd5-401e-890b-a6bf7221a767",
   "metadata": {},
   "source": [
    "$\\begin{bmatrix} 1 & 2 & 3 \\\\ 1 & 2 & 3 \\\\2 & 5 & 8 \\end{bmatrix}$\n",
    "\n",
    "- rank = 2\n",
    "    - independent row = 2\n",
    "- basis = 2"
   ]
  },
  {
   "cell_type": "markdown",
   "id": "69187ec9-5480-4ba4-b2dc-ae30882e749f",
   "metadata": {},
   "source": [
    "$A = \\begin{bmatrix} 1 & 2 & 3 & 1 \\\\ 1 & 1 & 2 & 1 \\\\ 1 & 2 & 3 & 1 \\end{bmatrix}$\n",
    "\n",
    "3 행에서 1 행 빼기, 2 행에서 1행 빼기\n",
    "\n",
    "$\\to \\begin{bmatrix} 1 & 2 & 3 & 1 \\\\ 0 & -1 & -1 & 0 \\\\ 0 & 0 & 0 & 0 \\end{bmatrix}$\n",
    "\n",
    "2 행에 -1 곱하기\n",
    "\n",
    "$\\to \\begin{bmatrix} 1 & 2 & 3 & 1 \\\\ 0 & 1 & 1 & 0 \\\\ 0 & 0 & 0 & 0 \\end{bmatrix}$\n",
    "\n",
    "1 행에서 2 행 2배해서 빼기\n",
    "\n",
    "$\\to \\begin{bmatrix} 1 & 0 & 1 & 1 \\\\ 0 & 1 & 1 & 0 \\\\ 0 & 0 & 0 & 0 \\end{bmatrix}$"
   ]
  },
  {
   "cell_type": "markdown",
   "id": "5ba0455d-9744-4455-b263-5f3f780fd7fe",
   "metadata": {},
   "source": [
    "$R \\begin{bmatrix} I & F \\\\ zero & rows \\end{bmatrix}$\n",
    "\n",
    "$R$ = Reduced Eschlon form\n",
    "\n",
    "- $I$ = Identity Matrix\n",
    "- $F$ = Free variables Matrix\n",
    "- zero rows"
   ]
  },
  {
   "cell_type": "markdown",
   "id": "b03992af-ed49-41b7-a2ec-9d4a925f87fb",
   "metadata": {},
   "source": [
    "$C(R) \\ne C(A)$\n",
    "\n",
    "- different column spaces\n",
    "    - $A$와 $R$의 컬럼공간이 다르다.\n",
    "    - row 연산을 진행하여서 row space는 변함이 없지만, columns 공건은 변화하였기에 A와 R이 같지 않은 것이다.\n",
    "- same row spaces\n",
    "- Basis for row space is first $\\mathbb{r}$ rows of $R$"
   ]
  },
  {
   "cell_type": "markdown",
   "id": "ddfe87f2-51ec-4fde-a4c4-5606768e7510",
   "metadata": {},
   "source": [
    "`-` 왜 basis는 row에 있을까?\n",
    "\n",
    "- row 연산 진행하면서 row space는 바뀌지 않는다.\n",
    "- space가 같다는 말은 basis가 같다는 말과 같음"
   ]
  },
  {
   "cell_type": "markdown",
   "id": "e135f36a-967c-480a-bd5c-4be4029e833d",
   "metadata": {},
   "source": [
    "`-` $N(A^\\top)$ 를 왜 left null space라 부를까?"
   ]
  },
  {
   "cell_type": "markdown",
   "id": "e1f32f92-c963-416c-81cd-27187b0d7a9b",
   "metadata": {},
   "source": [
    "$A^\\top y = 0$\n",
    "\n",
    "$\\begin{bmatrix} A \\end{bmatrix}$ $\\begin{bmatrix} y \\\\ y \\\\ \\dots \\\\ y\\end{bmatrix}$ = $\\begin{bmatrix} 0 \\\\ 0 \\\\ \\dots \\\\ 0 \\end{bmatrix}$\n",
    "\n",
    "transpose 하면\n",
    "\n",
    "$y^\\top A = 0^\\top$\n",
    "\n",
    "$\\begin{bmatrix} y & y & \\dots & y\\end{bmatrix}$  $\\begin{bmatrix} A \\end{bmatrix}$ = $\\begin{bmatrix} 0 & 0 & \\dots & 0 \\end{bmatrix}$\n",
    "\n",
    "**이처럼 벡터 $y$가 왼쪽에 있게 됌. 그래서 left null space**\n",
    "**left null space는 A가 0으로 되게 하는 y값인데, 이 벡터는 오직 0 벡터만이 존재한다>**"
   ]
  },
  {
   "cell_type": "markdown",
   "id": "39ae7021-ede3-488b-9419-56ee5709b37f",
   "metadata": {},
   "source": [
    "A를 R로 만들기 위해서 (left null space를 구해보기 위해서) 가우스 조던 계산법 생각해보면"
   ]
  },
  {
   "cell_type": "markdown",
   "id": "9d1f47c6-2b88-45c9-84b9-c630fb415e18",
   "metadata": {},
   "source": [
    "$rref\\begin{bmatrix} A_{m \\times n} & I_{m \\times m} \\end{bmatrix}$ $\\to$ $\\begin{bmatrix} R_{m \\times n} & E_{m \\times m} \\end{bmatrix}$\n",
    "\n",
    "- rref = reduced row eschlon form\n",
    "\n",
    "$\\to E \\begin{bmatrix} A_{m \\times n} & I_{m \\times m} \\end{bmatrix}$ $\\to$ $\\begin{bmatrix} R_{m \\times n} & E_{m \\times m} \\end{bmatrix}$\n",
    "\n",
    "$\\to E A = R$"
   ]
  },
  {
   "cell_type": "markdown",
   "id": "d1f6798b-ec92-445c-abbc-b56a8b679bde",
   "metadata": {},
   "source": [
    "2장에서 배웠던 것!\n",
    "\n",
    "- $R$이 $I$가 된다면, $E$는 $A^{-1}$이다."
   ]
  },
  {
   "cell_type": "markdown",
   "id": "5e43ead3-6dd1-4645-be15-47d41c5afe9e",
   "metadata": {},
   "source": [
    "$\\begin{bmatrix} 1 & 0 & 0 \\\\ 0 & 1 & 0 \\\\ 0 & 0 & 1 \\end{bmatrix}$\n",
    "\n",
    "2 행에서 1 행 빼기\n",
    "\n",
    "$\\to \\begin{bmatrix} 1 & 0 & 0 \\\\ -1 & -1 & 0 \\\\ 0 & 0 & 1 \\end{bmatrix}$\n",
    "\n",
    "3 행에서 1 행 빼기\n",
    "\n",
    "$\\to \\begin{bmatrix} 1 & 0 & 0 \\\\ -1 & -1 & 0 \\\\ -1 & 0 & 1 \\end{bmatrix}$\n",
    "\n",
    "2 행에서 1 행에 두 배해서 빼기\n",
    "\n",
    "$\\to \\begin{bmatrix} 1 & 0 & 0 \\\\ 1 & -1 & 0 \\\\ -1 & 0 & 1 \\end{bmatrix}$\n",
    "\n",
    "2 행에서 2배 해서 1행에서 빼기\n",
    "\n",
    "$\\to \\begin{bmatrix} -1 & 2 & 0 \\\\ 1 & -1 & 0 \\\\-1 & 0 & 1 \\end{bmatrix}$"
   ]
  },
  {
   "cell_type": "markdown",
   "id": "3cad0730-624c-4077-9963-f6831ab8fcd4",
   "metadata": {},
   "source": [
    "$EA = R$\n",
    "\n",
    "$\\begin{bmatrix} -1 & 2 & 0 \\\\ 1 & -1 & 0 \\\\-1 & 0 & 1 \\end{bmatrix}$ $\\begin{bmatrix} 1 & 2 & 3 & 1 \\\\ 1 & 1 & 2 & 1 \\\\ 1 & 2 & 3 & 1 \\end{bmatrix}$ = $\\begin{bmatrix} 1 & 0 & 1 & 1 \\\\ 0 & 1 & 1 & 0 \\\\ 0 & 0 & 0 & 0 \\end{bmatrix}$"
   ]
  },
  {
   "cell_type": "markdown",
   "id": "1cee734f-ef7c-4f51-a10f-c11d49826ec1",
   "metadata": {},
   "source": [
    "- rank = 2\n",
    "- dim$N(A^\\top) = m-r = 3-2 = 1$\n",
    "- E의 마지막 행으로(-1,0,1) zero row 를 만들 수 있다는 것을 보았음\n",
    "    - 그리고 차원은 1(row 하나이기도 하고)"
   ]
  },
  {
   "cell_type": "markdown",
   "id": "c825ae49-9db7-440e-a889-a84fe5010edf",
   "metadata": {},
   "source": [
    "`-` New Vector Space\n",
    "\n",
    "- All $3 \\times 3$ matrixes가 해당될까?\n",
    "\n",
    "1. Upper triangular\n",
    "2. Symmetrix matrices\n",
    "3. diagonal matrixed (contain 2)\n",
    "\n",
    "$\\begin{bmatrix} 1 & 0 & 0 \\\\ 0 & 0 & 0 \\\\ 0 & 0 & 0 \\end{bmatrix}$, $\\begin{bmatrix} 1 & 0 & 0 \\\\ 0 & 3 & 0 \\\\ 0 & 0 & 0 \\end{bmatrix}$, $\\begin{bmatrix} 1 & 0 & 0 \\\\ 0 & 0 & 0 \\\\ 0 & 0 & 1 \\end{bmatrix}$\n",
    "\n",
    "- dim of this subspace is 3\n",
    "- 3 diagonal matrix 가 있을때, 3행, 3열이 각각 모두 independent 하다면, they are basis.\n",
    "- any diagonal matrix is a combinations of those 3 \n",
    "    - 어느 대각 행렬도 이 3개의 행렬로 표현 가능"
   ]
  },
  {
   "cell_type": "code",
   "execution_count": null,
   "id": "70885f35-7211-47cd-9831-95ec27a1190a",
   "metadata": {},
   "outputs": [],
   "source": []
  }
 ],
 "metadata": {
  "kernelspec": {
   "display_name": "Python 3",
   "language": "python",
   "name": "python3"
  },
  "language_info": {
   "codemirror_mode": {
    "name": "ipython",
    "version": 3
   },
   "file_extension": ".py",
   "mimetype": "text/x-python",
   "name": "python",
   "nbconvert_exporter": "python",
   "pygments_lexer": "ipython3",
   "version": "3.8.0"
  }
 },
 "nbformat": 4,
 "nbformat_minor": 5
}
