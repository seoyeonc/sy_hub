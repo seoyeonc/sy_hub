{
 "cells": [
  {
   "cell_type": "raw",
   "id": "015c6dfb-9274-412c-98f3-c1a5b3f9239a",
   "metadata": {
    "id": "cac470df-29e7-4148-9bbd-d8b9a32fa570",
    "tags": []
   },
   "source": [
    "---\n",
    "title: \"[Linear Algebra] Lecture 8\"\n",
    "author: \"SEOYEON CHOI\"\n",
    "date: \"2024-02-29\"\n",
    "---"
   ]
  },
  {
   "cell_type": "markdown",
   "id": "a35d368c-ad91-4eb4-bd76-9e347c4bce4a",
   "metadata": {},
   "source": [
    "{{< video https://www.youtube.com/watch?v=9Q1q7s1jTzU&list=PL49CF3715CB9EF31D&index=8 >}}"
   ]
  },
  {
   "cell_type": "markdown",
   "id": "be380c0c-6b9b-4fcc-9cbe-a0b69beed116",
   "metadata": {},
   "source": [
    "> 학습 목표"
   ]
  },
  {
   "cell_type": "markdown",
   "id": "6dce4d99-ec07-4f6d-ac3a-d87a5bcf20c6",
   "metadata": {},
   "source": [
    "- Complete solution of $Ax=b$\n",
    "- Rank r\n",
    "- $\\mathbb{r}=m$: solution exists\n",
    "- $X = X_p + X_n$ solution is unique."
   ]
  },
  {
   "cell_type": "markdown",
   "id": "7a60b882-1230-4992-8a5d-8432f4fc1a90",
   "metadata": {},
   "source": [
    "*If some combination of the left side gives all $0$s, then the same combination of the right-hand side must give $0$s.*"
   ]
  },
  {
   "cell_type": "markdown",
   "id": "f24bc7ed-6c76-4094-b386-1f6939ff7d68",
   "metadata": {},
   "source": [
    "$A = \\begin{bmatrix} 1 & 2 & 2 & 2 \\\\ 2 & 4 & 6 & 8 \\\\ 3 & 6 & 8 & 10 \\end{bmatrix}$\n",
    "\n",
    "- $Ax = b$를 만족하는 값을 찾아보자.\n",
    "- row 1 + row 2 = row 3이라는 정보를 우린 알고 있음.\n",
    "\n",
    "$x_1 + 2x_2 + 2x_3 + 2x_4 = b_1$\n",
    "\n",
    "$2x_1 + 4x_2 + 6x_3 + 8x_4 = b_2$\n",
    "\n",
    "$3x_1 + 6x_2 + 8x_3 + 10x_4 = b_3$\n",
    "\n",
    "$\\begin{bmatrix} 1 & 2 & 2 & 2 & b_1 \\\\ 2 & 4 & 6 & 8 & b_2 \\\\ 3 & 6 & 8 & 10 & b_3\\end{bmatrix}$ = $\\begin{bmatrix} A b \\end{bmatrix}$, Augmented matrix^[확대행렬]"
   ]
  },
  {
   "cell_type": "markdown",
   "id": "0ebd715a-23e0-4c85-aeb1-005bce1d826e",
   "metadata": {},
   "source": [
    "::: {.callout-note title=\"Augmented matrix\"}\n",
    "\n",
    "Augmented matrix; 확대행렬, 계수 행렬과 상수 행렬을 붙인 행렬\n",
    "\n",
    "1. $R_{ij}$ - i행과 j 행 교환\n",
    "2. $R_i(c)$ - i행에 0이 아닌 상수 c 곱\n",
    "3. $R_{ij}(c)$ - i행에 0이 아닌 상수 c 곱하여 j행에 합 \n",
    ":::"
   ]
  },
  {
   "cell_type": "markdown",
   "id": "7bfc2eaa-a4f0-45ab-b9fa-b57857793d5b",
   "metadata": {},
   "source": [
    "Elimination with the first column completed\n",
    "\n",
    "- 1st try\n",
    "\n",
    "$\\begin{bmatrix} 1 & 2 & 2 & 2 & b_1 \\\\ 0 & 0 & 2 & 4 & b_2 - 2b_1 \\\\ 0 & 0 & 2 & 4 & b_3 - 3b_1 \\end{bmatrix}$\n",
    "\n",
    "- 1st pivot = 1(1행 1열), 2nd pivot = 2(2행 3열)\n",
    "- pivot column = 1,3열\n",
    "\n",
    "- 2nd try\n",
    "\n",
    "$\\begin{bmatrix} 1 & 2 & 2 & 2 & b_1 \\\\ 0 & 0 & 2 & 4 & b_2 - 2b_1 \\\\ 0 & 0 & 0 & 0 & b_3 - b_2 - b_1 \\end{bmatrix}$\n",
    "\n",
    "-  $b_3 - b_2 - b_1 = 0$ 구하면 됌\n",
    "    - $Ax = b$에서 A 행이 0이 되어버렸으니 Ax=b, 즉 0=b 나와야 하지"
   ]
  },
  {
   "cell_type": "markdown",
   "id": "d00fcd9b-b7d8-4ebc-ba91-b60af9ccb5af",
   "metadata": {},
   "source": [
    "Suppose $b = \\begin{bmatrix} b_1 = 1 \\\\ b_2 = 5 \\\\ b_3 = 6 \\end{bmatrix}$\n",
    "\n",
    "- $b_1 = 1$\n",
    "- $b_2 - 2b_1 = 3, b_2 = 5$\n",
    "- $b_3 - b_2 - b_1 = 0, b_3 = 6$\n",
    "\n",
    "$\\begin{bmatrix} 1 & 2 & 2 & 2 & 1 \\\\ 0 & 0 & 2 & 4 & 3 \\\\ 0 & 0 & 0 & 0 & 0 \\end{bmatrix}$"
   ]
  },
  {
   "cell_type": "markdown",
   "id": "08073d37-725e-4c63-bf85-29c16fa2115f",
   "metadata": {
    "tags": []
   },
   "source": [
    "*solution condition on* $b$\n",
    "\n",
    "$Ax=b$ solvable when $b$ is in $C(A)$.\n",
    "\n",
    "If  combination of rows of A gives zero row, then the same combination of entries of $b$ must give $0$.\n",
    "\n",
    "To find complete solution to $Ax = b$,\n",
    "\n",
    "`1`. $X_{particular}$\n",
    "\n",
    "- get all free variables to zero^[free variables는 아무 값 넣을 수 있으니 가능한 조건].\n",
    "    - 위로 예를 들면, $x_2 = 0, x_4 = 0$\n",
    "- solve $A \\times b$ for pivot variables\n",
    "    - $x_1 + 2x_3 = 1$\n",
    "    - $2x_3 = 3$\n",
    "    - 즉, $x_3 = \\frac{3}{2}, x_1 = 2$\n",
    "    - $X_p = \\begin{bmatrix} -2 \\\\ 0 \\\\ \\frac{3}{2} \\\\ 0\\end{bmatrix}$\n",
    "    \n",
    "`2`. $X_{nullspace}$ $\\to$  7강에서 진행한 내용\n",
    "\n",
    "- $X_n = \\begin{bmatrix} -2 \\\\ 1 \\\\ 0 \\\\ 0 \\end{bmatrix}$\n",
    "- $X_n = \\begin{bmatrix} 2 \\\\ 0 \\\\ -2 \\\\ 1\\end{bmatrix}$\n",
    "- 각각 free variable 에 0 또는 1을 넣었을 때의 결과임\n",
    "\n",
    "`1` + `2` $\\to$ $X = X_p + X_n$\n",
    "\n",
    "- Complete solution = One particular solution + all different vector out of nullspace"
   ]
  },
  {
   "cell_type": "markdown",
   "id": "f36e6f54-1be0-4ece-8449-bbce7addaa00",
   "metadata": {},
   "source": [
    "- $AX_p = b$\n",
    "- $AX_n = 0$\n",
    "- =\n",
    "- $A(X_p + X_n) = b$\n",
    "\n",
    "If I have one solution, I can add any space from nullspace\n",
    "\n",
    "\n",
    "all combination of the special solution"
   ]
  },
  {
   "cell_type": "markdown",
   "id": "840a259f-2ffe-495e-897d-653956725aad",
   "metadata": {},
   "source": [
    "$X_{complete}$ = $\\begin{bmatrix} -2 \\\\ 0 \\\\ \\frac{3}{2} \\\\ 0 \\end{bmatrix}$ + $c_1 \\begin{bmatrix} -2 \\\\ 1 \\\\ 0 \\\\ 0 \\end{bmatrix}$ + $c_2 \\begin{bmatrix} 2 \\\\ 0 \\\\ -2 \\\\ 1\\end{bmatrix}$^[nullspace에 대해 we can say 2 dimensional subspace.]"
   ]
  },
  {
   "cell_type": "markdown",
   "id": "49719369-a0db-409f-a43e-5a962ed31780",
   "metadata": {},
   "source": [
    "plot all solutions $X$ $m$ $\\mathbb{R}^4$^[4 = the number of unknown variables]"
   ]
  },
  {
   "cell_type": "markdown",
   "id": "9223683a-a1c2-4760-ac5d-bc67c981f829",
   "metadata": {},
   "source": [
    "$m$ by $n$ matrix $A$ of rank $R$^[The definition is the number of pivot.](know $r \\le m, r \\le n$))"
   ]
  },
  {
   "cell_type": "markdown",
   "id": "e685b84b-95b0-4b2e-9448-acde6a288575",
   "metadata": {},
   "source": [
    "`-` Full column rank means $r=n$\n",
    "\n",
    "- If the rank is $nm$, that means a pivot variables in every column and no free variables.\n",
    "- $N(A) =$ { zero vector }^[only one]\n",
    "- solution to $Ax=b$ : $X = X_p$ $\\to$ unique solution if it exists(0 or 1 solution)"
   ]
  },
  {
   "cell_type": "markdown",
   "id": "43c8dd28-0e19-4443-878a-98ec3bab8717",
   "metadata": {},
   "source": [
    "`-` $A = \\begin{bmatrix} 1 & 3 \\\\ 2 & 1 \\\\ 6 & 1 \\\\ 5 & 1 \\end{bmatrix}$, $R = \\begin{bmatrix} 1 & 0 \\\\ 0 & 1 \\\\ 0 & 0 \\\\ 0 & 0  \\end{bmatrix}$\n",
    "\n",
    "- $A$\n",
    "    - 1행은 independent, 2,3,4행은 dependent함.\n",
    "    - $r = 2, n = 2$\n",
    "- $R$\n",
    "    - Reduced Echelon\n",
    "- $X_p$\n",
    "    - $b$ = $\\begin{bmatrix} 4 \\\\ 3 \\\\ 7 \\\\ 6\\end{bmatrix}$, 1 solution\n",
    "        - 1+2열한 것임\n",
    "- $X_n$\n",
    "    - $\\begin{bmatrix} 0 \\\\ 0 \\\\ 0 \\\\ 0 \\end{bmatrix}$\n",
    "\n",
    "Full row rank means $r=m$\n",
    "\n",
    "I can solve $Ax = b$ for every $b$(each right-hand side)\n",
    "\n",
    "Left with $n-r$ = $n-m$ free variables\n",
    "\n",
    "$A = \\begin{bmatrix} 1 & 2 & 6 & 5 \\\\ 3 & 1 & 1 & 1 \\end{bmatrix}$^[위에서 transpose 한 거], $R = \\begin{bmatrix} 1 & 0 & 0 & 0 \\\\ 0 & 1 & 0 & 0 \\end{bmatrix}$\n",
    "\n",
    "- No zero row"
   ]
  },
  {
   "cell_type": "markdown",
   "id": "2017c229-b42c-4f2c-92ad-4a907c9ebbaf",
   "metadata": {},
   "source": [
    "`-` $\\mathbb{r} = m = n$ $\\to$ invertible matrix.\n",
    "\n",
    "$A = \\begin{bmatrix} 1 & 2 \\\\ 3 & 1 \\end{bmatrix}$, $R = I$\n",
    "\n",
    "- $Ax = b$, $b = \\begin{bmatrix} b_1 \\\\ b_2 \\end{bmatrix}$ $\\to$ conditions of $b$ = none"
   ]
  },
  {
   "cell_type": "markdown",
   "id": "c72b61ea-0b16-4b53-b892-5e2798cabe43",
   "metadata": {},
   "source": [
    "---"
   ]
  },
  {
   "cell_type": "markdown",
   "id": "c5f089df-e46b-49c0-82aa-5434eda4fb76",
   "metadata": {},
   "source": [
    "`1` $r=m=n$\n",
    "\n",
    "- $R = I$ \n",
    "- 1 solution to $Ax = b$\n",
    "\n",
    "`2` $r = n<m$\n",
    "\n",
    "- $R = \\begin{bmatrix} I \\\\ 0 \\end{bmatrix}$\n",
    "- 0 or 1 solution to $Ax = b$\n",
    "\n",
    "`3` $r = m<n$, extra rows\n",
    "\n",
    "- $R = \\begin{bmatrix} I F \\end{bmatrix}$\n",
    "- no zero row, $\\inf$ solution to $Ax = b$\n",
    "\n",
    "`4` $r<m, r<n$\n",
    "\n",
    "- $R = \\begin{bmatrix} I & F \\\\ 0 & 0 \\end{bmatrix}$\n",
    "- 0 or $\\inf$ solutions"
   ]
  },
  {
   "cell_type": "markdown",
   "id": "ea9f938e-6ee1-4a78-9508-6e36e6ef9be8",
   "metadata": {},
   "source": [
    "The rank tells you everything about the number of solutions.\n",
    "\n",
    "The number of rank is all the informtion except the exact entries in the solutions for that you goes to the matrix."
   ]
  },
  {
   "cell_type": "code",
   "execution_count": null,
   "id": "f8784aeb-1f94-4df4-9164-54d4d75eab97",
   "metadata": {},
   "outputs": [],
   "source": []
  }
 ],
 "metadata": {
  "kernelspec": {
   "display_name": "Python 3",
   "language": "python",
   "name": "python3"
  },
  "language_info": {
   "codemirror_mode": {
    "name": "ipython",
    "version": 3
   },
   "file_extension": ".py",
   "mimetype": "text/x-python",
   "name": "python",
   "nbconvert_exporter": "python",
   "pygments_lexer": "ipython3",
   "version": "3.8.0"
  }
 },
 "nbformat": 4,
 "nbformat_minor": 5
}
