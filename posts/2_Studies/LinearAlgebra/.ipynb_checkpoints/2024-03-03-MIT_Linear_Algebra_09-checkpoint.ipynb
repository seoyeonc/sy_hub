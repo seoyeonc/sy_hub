{
 "cells": [
  {
   "cell_type": "raw",
   "id": "ea0701dc-8e2b-4444-b468-b48e986e92b9",
   "metadata": {
    "id": "cac470df-29e7-4148-9bbd-d8b9a32fa570",
    "tags": []
   },
   "source": [
    "---\n",
    "title: \"[Linear Algebra] Lecture 9\"\n",
    "author: \"SEOYEON CHOI\"\n",
    "date: \"2024-03-03\"\n",
    "---"
   ]
  },
  {
   "cell_type": "markdown",
   "id": "ab5e4254-821e-4a79-924d-7aef191a12d8",
   "metadata": {},
   "source": [
    "{{< video https://www.youtube.com/watch?v=yjBerM5jWsc&list=PL49CF3715CB9EF31D&index=9 >}}"
   ]
  },
  {
   "cell_type": "code",
   "execution_count": null,
   "id": "0d3a2502-a522-4825-b663-f662e1f125d4",
   "metadata": {},
   "outputs": [],
   "source": []
  }
 ],
 "metadata": {
  "kernelspec": {
   "display_name": "Python 3",
   "language": "python",
   "name": "python3"
  },
  "language_info": {
   "codemirror_mode": {
    "name": "ipython",
    "version": 3
   },
   "file_extension": ".py",
   "mimetype": "text/x-python",
   "name": "python",
   "nbconvert_exporter": "python",
   "pygments_lexer": "ipython3",
   "version": "3.8.0"
  }
 },
 "nbformat": 4,
 "nbformat_minor": 5
}
