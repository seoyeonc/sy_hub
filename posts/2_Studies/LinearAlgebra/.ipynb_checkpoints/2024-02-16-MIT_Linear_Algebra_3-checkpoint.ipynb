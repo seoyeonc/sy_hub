{
 "cells": [
  {
   "cell_type": "raw",
   "id": "8b02f400-7f32-49ab-acc1-15515509163c",
   "metadata": {
    "id": "cac470df-29e7-4148-9bbd-d8b9a32fa570",
    "tags": []
   },
   "source": [
    "---\n",
    "title: \"[Linear Algebra] Lecture 3\"\n",
    "author: \"SEOYEON CHOI\"\n",
    "date: \"2024-02-16\"\n",
    "---"
   ]
  },
  {
   "cell_type": "markdown",
   "id": "7c803163-c83d-45c1-becf-a5c3d6f36736",
   "metadata": {},
   "source": [
    "{{< video https://www.youtube.com/watch?v=FX4C-JpTFgY&list=PL49CF3715CB9EF31D&index=3 >}}"
   ]
  },
  {
   "cell_type": "markdown",
   "id": "84bd9752-51d6-49ab-9a6a-233f69b47a3f",
   "metadata": {},
   "source": [
    "> 학습 목표\n",
    "\n",
    "- Matrix multiplication(4 ways)\n",
    "- Inverse of $A, AB, A^top$\n",
    "- Gauss-Jordan find $A^{-1}$"
   ]
  },
  {
   "cell_type": "markdown",
   "id": "6676af53-b9c0-4aab-b72e-7221a4e2eb0d",
   "metadata": {},
   "source": [
    "**How do I multiply 2 matrices?**"
   ]
  },
  {
   "cell_type": "markdown",
   "id": "5ce6d8a2-24ac-4b83-a93f-2e0379b18053",
   "metadata": {},
   "source": [
    "`1` regulation way"
   ]
  },
  {
   "cell_type": "markdown",
   "id": "8f1bfd9a-cd42-4135-b5e4-c3c3899cde95",
   "metadata": {},
   "source": [
    "$\\begin{bmatrix} \\cdot & \\cdot & \\cdot \\\\ \\cdot & \\cdot & \\cdot \\\\ \\ a_{31} & \\cdot & \\cdot  \\end{bmatrix} \\begin{bmatrix} \\cdot & \\cdot & \\cdot & b_{14} \\\\ \\cdot & \\cdot & \\cdot & \\cdot \\\\ \\ \\cdot & \\cdot & \\cdot & \\cdot   \\end{bmatrix} =\\begin{bmatrix} \\cdot & \\cdot & \\cdot & \\cdot \\\\ \\cdot & \\cdot & \\cdot & \\cdot \\\\ \\ \\cdot & \\cdot & \\cdot & c_{34}   \\end{bmatrix}$"
   ]
  },
  {
   "cell_type": "markdown",
   "id": "7d734ee5-bbef-4dd9-8b2c-2ab433676134",
   "metadata": {},
   "source": [
    "$c_{34}$ = (row 3 of $A$) $\\cdot$ (column 4 of $B$) $\\to$ $a_{31}$ of row 3 $\\times$ $b_{14}$ of column 4 then $c_{34}$ entry\n",
    "\n",
    "$= a_{31}b_{14} + a_{32}b_{24} + a_{33}b_{34} + \\dots = \\sum^n_{k=1} a_{3k}b_{k4}$\n",
    "\n",
    "$A_{m \\times n} B_{n \\times p} = C_{m \\times p}$"
   ]
  },
  {
   "cell_type": "markdown",
   "id": "7dfb6174-e444-4ae5-ba3a-831ce13086a0",
   "metadata": {},
   "source": [
    "한 row와 한 column을 곱해서 한 entry를 구하는 법"
   ]
  },
  {
   "cell_type": "markdown",
   "id": "23263420-6db2-4ce4-b4d8-53c3afc4e5e4",
   "metadata": {},
   "source": [
    "`2` column way"
   ]
  },
  {
   "cell_type": "markdown",
   "id": "fa485678-77ed-4974-9a5a-e4b3d8c8f439",
   "metadata": {},
   "source": [
    "$\\begin{bmatrix} \\cdot & \\cdot & \\cdot \\\\ \\cdot & \\cdot & \\cdot \\\\ \\ \\cdot & \\cdot & \\cdot  \\end{bmatrix} \\begin{bmatrix} col1  \\\\ col1  \\\\ col1  \\end{bmatrix} =\\begin{bmatrix} Acol1 \\\\ Acol1  \\\\ Acol1    \\end{bmatrix}, \\begin{bmatrix} \\cdot & \\cdot & \\cdot \\\\ \\cdot & \\cdot & \\cdot \\\\ \\ \\cdot & \\cdot & \\cdot  \\end{bmatrix} \\begin{bmatrix} col2  \\\\ col2  \\\\ col2  \\end{bmatrix} =\\begin{bmatrix} Acol2 \\\\ Acol2  \\\\ Acol2    \\end{bmatrix}, \\begin{bmatrix} \\cdot & \\cdot & \\cdot \\\\ \\cdot & \\cdot & \\cdot \\\\ \\ \\cdot & \\cdot & \\cdot  \\end{bmatrix} \\begin{bmatrix} col3  \\\\ col3  \\\\ col3  \\end{bmatrix} =\\begin{bmatrix} Acol3 \\\\ Acol3  \\\\ Acol3    \\end{bmatrix}$"
   ]
  },
  {
   "cell_type": "markdown",
   "id": "95320674-4c52-42ec-be0b-89a564faf5cf",
   "metadata": {},
   "source": [
    "$A_{m \\times n} B_{n \\times p} = C_{m \\times p}$"
   ]
  },
  {
   "cell_type": "markdown",
   "id": "d383cc72-360f-4889-894c-4088e03236fb",
   "metadata": {},
   "source": [
    "col $\\to$ columns of C are combinations of columns of A\n",
    "\n",
    "A 행렬과 한 column씩 곱해서 구하는 법"
   ]
  },
  {
   "cell_type": "markdown",
   "id": "f6e8ca47-4b10-47d9-b62b-029e85cf4235",
   "metadata": {},
   "source": [
    "`3` row way"
   ]
  },
  {
   "cell_type": "markdown",
   "id": "d4f2404e-a6a3-42a1-a850-ac10ba1096a3",
   "metadata": {},
   "source": [
    "$\\begin{bmatrix} row1 & row1 & row1 \\end{bmatrix} \\begin{bmatrix} \\cdot & \\cdot & \\cdot & \\cdot \\\\ \\cdot & \\cdot & \\cdot & \\cdot \\\\ \\cdot & \\cdot & \\cdot & \\cdot   \\end{bmatrix} =\\begin{bmatrix} row1B & row1B & row1B & row1B \\\\ \\cdot & \\cdot & \\cdot & \\cdot \\\\ \\cdot & \\cdot & \\cdot & \\cdot   \\end{bmatrix}, \\begin{bmatrix} row2 & row2 & row2 \\end{bmatrix} \\begin{bmatrix} \\cdot & \\cdot & \\cdot & \\cdot \\\\ \\cdot & \\cdot & \\cdot & \\cdot \\\\ \\cdot & \\cdot & \\cdot & \\cdot   \\end{bmatrix} =\\begin{bmatrix} row2B & row2B & row2B & row2B \\\\ \\cdot & \\cdot & \\cdot & \\cdot \\\\ \\cdot & \\cdot & \\cdot & \\cdot   \\end{bmatrix}, \\begin{bmatrix} row3 & row3 & row3 \\end{bmatrix} \\begin{bmatrix} \\cdot & \\cdot & \\cdot & \\cdot \\\\ \\cdot & \\cdot & \\cdot & \\cdot \\\\ \\cdot & \\cdot & \\cdot & \\cdot   \\end{bmatrix} =\\begin{bmatrix} row3B & row3B & row3B & row3B \\\\ \\cdot & \\cdot & \\cdot & \\cdot \\\\ \\cdot & \\cdot & \\cdot & \\cdot   \\end{bmatrix}$"
   ]
  },
  {
   "cell_type": "markdown",
   "id": "fe2b704f-8d4c-446c-98c6-db667037d382",
   "metadata": {},
   "source": [
    "$A_{m \\times n} B_{n \\times p} = C_{m \\times p}$"
   ]
  },
  {
   "cell_type": "markdown",
   "id": "c5a190b0-b357-4e70-b7a3-40879d698119",
   "metadata": {},
   "source": [
    "row $\\to$ rows of C are combinations of rows of B\n",
    "\n",
    "B 행렬과 한 row씩 곱해서 구하는 법"
   ]
  },
  {
   "cell_type": "markdown",
   "id": "77334acf-7f9e-475f-ace1-211d3d7b7679",
   "metadata": {},
   "source": [
    "`4` column $\\times$ row"
   ]
  },
  {
   "cell_type": "markdown",
   "id": "7c40fb4f-4ca6-4d15-8888-7ae89ebcce87",
   "metadata": {},
   "source": [
    "column of A $\\times$ row of B"
   ]
  },
  {
   "cell_type": "markdown",
   "id": "707d9b17-11b4-4d79-b6b6-e375001ac3a4",
   "metadata": {},
   "source": [
    "$m \\times 1$ and $1 \\times p = m \\times P$"
   ]
  },
  {
   "cell_type": "markdown",
   "id": "21c15d80-c0f1-46fa-95c4-5f3862d1e03c",
   "metadata": {},
   "source": [
    "ex) $\\begin{bmatrix} 2 \\\\ 3 \\\\ 4 \\end{bmatrix} \\begin{bmatrix} 1 & 6 \\end{bmatrix} = \\begin{bmatrix} 2 & 12 \\\\ 3 & 18 \\\\ 4 & 24\\end{bmatrix}$"
   ]
  },
  {
   "cell_type": "markdown",
   "id": "7b46cff0-8974-46f5-82f7-298e1a571e07",
   "metadata": {},
   "source": [
    "$3 \\times 1$  $1 \\times 2$  = $3 \\times 2$"
   ]
  },
  {
   "cell_type": "markdown",
   "id": "16421518-cc17-4c3f-8f89-fb4e26571da2",
   "metadata": {},
   "source": [
    "$AB = $Sum of (Columns of A) (Rows of B)"
   ]
  },
  {
   "cell_type": "markdown",
   "id": "3cc9e6be-ed64-49f7-9788-a72b46ee0b40",
   "metadata": {},
   "source": [
    "$\\begin{bmatrix} 2 & 7 \\\\ 3 & 8 \\\\ 4 & 9 \\end{bmatrix} \\begin{bmatrix} 1 & 6 \\\\ 0 & 0 \\end{bmatrix} = \\begin{bmatrix} 2 \\\\ 3 \\\\ 4 \\end{bmatrix} \\begin{bmatrix} 1 & 6 \\end{bmatrix}$row1 $+ \\begin{bmatrix} 7 \\\\ 8 \\\\ 9 \\end{bmatrix} \\begin{bmatrix} 0 & 0 \\end{bmatrix}$row2"
   ]
  },
  {
   "cell_type": "markdown",
   "id": "2e21736a-460d-4040-a0bd-3fd48a199dcc",
   "metadata": {},
   "source": [
    "A column과 B row를 product곱해서 구하는 법"
   ]
  },
  {
   "cell_type": "markdown",
   "id": "446528fe-eff0-4f1d-b8e7-981f83e03146",
   "metadata": {},
   "source": [
    "All those rows lie on the same line."
   ]
  },
  {
   "cell_type": "markdown",
   "id": "d69e46a0-2f77-4fdd-bb62-5b66b5a11877",
   "metadata": {},
   "source": [
    "- Block Multiplication"
   ]
  },
  {
   "cell_type": "markdown",
   "id": "b0e76846-bb93-4966-b762-62d5074fb017",
   "metadata": {},
   "source": [
    "$\\begin{bmatrix} A_1 & A_2 \\\\ A_3 & A_4 \\end{bmatrix} \\begin{bmatrix} B_1 & B_2 \\\\ B_3 & B_4 \\end{bmatrix} = \\begin{bmatrix} A_1B_1 +A_2B_3 & A_1B_2 + A_2B_4 \\\\ A_3B_1 + A_4B_3 & A_3B_2+A_4B_4\\end{bmatrix}$"
   ]
  },
  {
   "cell_type": "markdown",
   "id": "35d87ebe-e5be-4820-975d-1ad2590a1142",
   "metadata": {},
   "source": [
    "블락 곱"
   ]
  },
  {
   "cell_type": "markdown",
   "id": "60234471-bb4a-4823-8f24-59f0e7898e31",
   "metadata": {},
   "source": [
    "- Inverses(square matrices)"
   ]
  },
  {
   "cell_type": "markdown",
   "id": "e0fd8551-bceb-49f6-b8dc-59324f6b14c7",
   "metadata": {},
   "source": [
    "단위행렬(*Identity matrix*)을 만들수 있는 역행렬(*Invertible matrix*)을 가진 행렬의 특징: *nonsingular*\n",
    "\n",
    "$\\to$ singular하면 역행렬이 없겠지?"
   ]
  },
  {
   "cell_type": "markdown",
   "id": "52671e6f-0fa0-49ef-a8e5-904207c2e9b4",
   "metadata": {},
   "source": [
    "$A^{-1} A = I = AA^{-1}$"
   ]
  },
  {
   "cell_type": "markdown",
   "id": "3995660f-907c-4367-85de-65d0853c17cd",
   "metadata": {},
   "source": [
    "If this matrix exists, how would you find this??"
   ]
  },
  {
   "cell_type": "markdown",
   "id": "6ae98610-2d94-4dc9-9441-78032729990c",
   "metadata": {},
   "source": [
    "::: {.callout-note}\n",
    "역행렬 없는 예시\n",
    "\n",
    "singular case, no inverse $\\to$ $A = \\begin{bmatrix} 1 & 3 \\\\ 2 & 6 \\end{bmatrix}$\n",
    "\n",
    "square matrix has no invert.\n",
    "\n",
    "If you can find a vector $X$ with $AX = 0$, $X \\ne 0$\n",
    "\n",
    "if $X = \\begin{bmatrix} 3 \\\\ -1 \\end{bmatrix}$, $\\begin{bmatrix} 1 & 3 \\\\ 2 & 6 \\end{bmatrix} \\begin{bmatrix} 3 \\\\ -1 \\end{bmatrix} = \\begin{bmatrix} 0 \\\\ 0 \\end{bmatrix}$\n",
    ":::"
   ]
  },
  {
   "cell_type": "markdown",
   "id": "2a201a89-e38d-4c1a-b696-14d6a82cd535",
   "metadata": {},
   "source": [
    "$\\begin{bmatrix} 1 & 3 \\\\ 2 & 7 \\end{bmatrix}$ Is it invertible?"
   ]
  },
  {
   "cell_type": "markdown",
   "id": "ca4d3679-faed-4b01-a19b-b0825819bab3",
   "metadata": {},
   "source": [
    "$\\begin{bmatrix} 1 & 3 \\\\ 2 & 7 \\end{bmatrix} \\begin{bmatrix} a & c \\\\ b & d \\end{bmatrix} = \\begin{bmatrix} 1 & 0 \\\\ 0 & 1 \\end{bmatrix}$"
   ]
  },
  {
   "cell_type": "markdown",
   "id": "a1ad9a2b-3b3b-4ede-88c5-665ef73e8bcb",
   "metadata": {},
   "source": [
    "$A A^{-1} = I$"
   ]
  },
  {
   "cell_type": "markdown",
   "id": "d7f3be4a-bb2c-4e92-80cd-e8e1d9b91836",
   "metadata": {},
   "source": [
    "$A$ $\\times$ column j of $A^{-1}$ = column j of $I$"
   ]
  },
  {
   "cell_type": "markdown",
   "id": "f86f7362-197c-471a-bf01-249f88e08730",
   "metadata": {},
   "source": [
    "**Gause-Jordan**(solve 2 equations at once) 가우스 조던 법"
   ]
  },
  {
   "cell_type": "markdown",
   "id": "580a6e3b-2206-48b1-b3d8-bc092ae7ff27",
   "metadata": {},
   "source": [
    "$\\begin{bmatrix} 1 & 3 \\\\ 2 & 7 \\end{bmatrix} \\begin{bmatrix} a\\\\ b\\end{bmatrix} = \\begin{bmatrix} 1\\\\ 0 \\end{bmatrix}$"
   ]
  },
  {
   "cell_type": "markdown",
   "id": "15010a3e-f11d-4df3-bd38-725e9894a782",
   "metadata": {},
   "source": [
    "$\\begin{bmatrix} 1 & 3 \\\\ 2 & 7 \\end{bmatrix} \\begin{bmatrix} c \\\\ d \\end{bmatrix} = \\begin{bmatrix} 0 \\\\ 1 \\end{bmatrix}$"
   ]
  },
  {
   "cell_type": "markdown",
   "id": "c1bde595-19d1-4e47-9d26-0e28096b3f3b",
   "metadata": {},
   "source": [
    "A 행렬과 I 행렬로 long matrix로 만들기"
   ]
  },
  {
   "cell_type": "markdown",
   "id": "d70e3919-01a6-4519-9c87-cff03fa2db81",
   "metadata": {},
   "source": [
    "$\\begin{bmatrix} A I\\end{bmatrix}$"
   ]
  },
  {
   "cell_type": "markdown",
   "id": "41f7459d-5b7f-42fc-9f7a-f523bc77ec40",
   "metadata": {},
   "source": [
    "$\\begin{bmatrix} 1 & 3 & 1 & 0 \\\\ 2 & 7 & 0 & 1 \\end{bmatrix}$\n",
    "\n",
    "- eliminate 2nd row, 1st col"
   ]
  },
  {
   "cell_type": "markdown",
   "id": "c1a7d2ea-bafe-4acc-b180-19fc3d26a9e5",
   "metadata": {},
   "source": [
    "$\\begin{bmatrix} 2 & 6 & 2 & 0 \\\\ 2 & 7 & 0 & 1 \\end{bmatrix}$ 이렇게 2배해서 빼기"
   ]
  },
  {
   "cell_type": "markdown",
   "id": "c8c2a4c2-0b9b-404c-9dbf-6e1f32dd3259",
   "metadata": {},
   "source": [
    "$\\begin{bmatrix} 1 & 3 & 1 & 0 \\\\ 0 & 1 & -2 & 1 \\end{bmatrix}$\n",
    "\n",
    "- eliminate 1st row, 2nd col"
   ]
  },
  {
   "cell_type": "markdown",
   "id": "537d1f88-4427-4666-b780-660925236ad0",
   "metadata": {},
   "source": [
    "$\\begin{bmatrix} 1 & 3 & 1 & 0 \\\\ 0 & 3 & -6 & 3 \\end{bmatrix}$ 이렇게 3배해서 빼기"
   ]
  },
  {
   "cell_type": "markdown",
   "id": "01eea07c-d1c0-4e2f-9d20-d07b0ec7a946",
   "metadata": {},
   "source": [
    "$\\begin{bmatrix} 1 & 0 & 1 & 0 \\\\ 0 & 1 & 7 & -3 \\end{bmatrix}$"
   ]
  },
  {
   "cell_type": "markdown",
   "id": "0c0bc462-6829-42d7-93d3-712e32b9c7ba",
   "metadata": {},
   "source": [
    "$\\begin{bmatrix} I A^{-1}\\end{bmatrix}$ $\\to$ Gause-Jordan idea"
   ]
  },
  {
   "cell_type": "markdown",
   "id": "ed5a72b1-750b-4d3c-87d5-5db359ccc1db",
   "metadata": {},
   "source": [
    "$\\begin{bmatrix} 7 & -3 \\\\ -2 & 1 \\end{bmatrix} \\begin{bmatrix} 1 & 3 \\\\ 2 & 7 \\end{bmatrix} = \\begin{bmatrix} 1 & 0 \\\\ 0 & 1 \\end{bmatrix}$"
   ]
  },
  {
   "cell_type": "markdown",
   "id": "baeb771b-355b-4793-b237-57ba7b7b175e",
   "metadata": {},
   "source": [
    "$A^{-1}A = I$"
   ]
  },
  {
   "cell_type": "markdown",
   "id": "fd068f62-3eec-47c0-8579-8d597962c2a6",
   "metadata": {},
   "source": [
    "$E \\begin{bmatrix} A I \\end{bmatrix} = \\begin{bmatrix} I A^{-1} \\end{bmatrix}$"
   ]
  },
  {
   "cell_type": "markdown",
   "id": "c4538eed-5818-480c-9c17-185c75b4cb84",
   "metadata": {},
   "source": [
    "$\\therefore EA =I, E = A^{-1}$ state of gausian elimination"
   ]
  },
  {
   "cell_type": "code",
   "execution_count": null,
   "id": "174261e9-bfc3-43d0-9432-43f8c37836c6",
   "metadata": {},
   "outputs": [],
   "source": []
  }
 ],
 "metadata": {
  "kernelspec": {
   "display_name": "Python 3",
   "language": "python",
   "name": "python3"
  },
  "language_info": {
   "codemirror_mode": {
    "name": "ipython",
    "version": 3
   },
   "file_extension": ".py",
   "mimetype": "text/x-python",
   "name": "python",
   "nbconvert_exporter": "python",
   "pygments_lexer": "ipython3",
   "version": "3.8.0"
  }
 },
 "nbformat": 4,
 "nbformat_minor": 5
}
