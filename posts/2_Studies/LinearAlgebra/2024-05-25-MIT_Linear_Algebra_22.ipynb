{
 "cells": [
  {
   "cell_type": "raw",
   "id": "0a06d651-9c9e-43d3-96d7-92725adfb799",
   "metadata": {
    "id": "cac470df-29e7-4148-9bbd-d8b9a32fa570",
    "tags": []
   },
   "source": [
    "---\n",
    "title: \"[Linear Algebra] Lecture 22\"\n",
    "author: \"SEOYEON CHOI\"\n",
    "date: \"2024-05-25\"\n",
    "---"
   ]
  },
  {
   "cell_type": "markdown",
   "id": "1edaa0f2-a71f-4cf0-bee3-f6287a08eb47",
   "metadata": {},
   "source": [
    "{{< video https://www.youtube.com/watch?v=13r9QY6cmjc&list=PL49CF3715CB9EF31D&index=22 >}}"
   ]
  },
  {
   "cell_type": "markdown",
   "id": "7bd0cc84-1307-41c3-8a07-8dcc3d4a3509",
   "metadata": {},
   "source": [
    "https://twlab.tistory.com/49"
   ]
  },
  {
   "cell_type": "markdown",
   "id": "1bf5b1ba-985a-42d6-bfa9-9a64c37bb0dc",
   "metadata": {},
   "source": [
    "> 학습 목표"
   ]
  },
  {
   "cell_type": "markdown",
   "id": "f0875e18-fe1a-40c3-8362-b3e9e9024cfd",
   "metadata": {},
   "source": [
    "- Diagonalizing a matrix $S^{-1} A S = \\Lambda$\n",
    "- Powers of $A$ equation $e_{k+1} = A_{u_k}$"
   ]
  },
  {
   "cell_type": "markdown",
   "id": "b9cefb1b-8fb0-4d81-a564-01c70a13fb47",
   "metadata": {},
   "source": [
    "`-` Diagonalization"
   ]
  },
  {
   "cell_type": "markdown",
   "id": "964ca51c-1d61-47d3-8cae-d9e4f62994f3",
   "metadata": {},
   "source": [
    "행렬의 특성을 알 수 있는 대각화"
   ]
  },
  {
   "cell_type": "markdown",
   "id": "e04dbc41-42af-4c57-b5dd-4fb104e162ec",
   "metadata": {},
   "source": [
    "$A - \\lambda I$ singular\n",
    "\n",
    "$Ax = \\lambda x$"
   ]
  },
  {
   "cell_type": "markdown",
   "id": "e59ca3bd-b787-4680-9403-c0a503cfb41e",
   "metadata": {},
   "source": [
    "행렬 $A#의 고유벡터와 고유값을 찾은 후 대각화를 수행하는 방법\n",
    "\n",
    "$S^{-1} A S = \\Lambda$\n",
    "\n",
    "$\\to$ $S$가 역행렬을 가지고 있어야 하고, $S$가 특이행렬이 아니어야 하고, $A$의 고유벡터들이 $n$개의 독립인 벡터를 가져야 한다. "
   ]
  },
  {
   "cell_type": "markdown",
   "id": "d59bb646-306b-44a1-95d6-64847e11d170",
   "metadata": {},
   "source": [
    "$AS = A \\begin{bmatrix} \\vdots & \\vdots & \\vdots & \\vdots \\\\ x_1 & x_2 & \\cdots & x_n \\\\ \\vdots & \\vdots & \\vdots & \\vdots \\end{bmatrix} = \\begin{bmatrix} \\lambda_1 x_1 & \\lambda_2 x_2 & \\cdots & \\lambda_n x_n \\end{bmatrix} = \\begin{bmatrix}  \\vdots & \\vdots & \\vdots & \\vdots \\\\ x_1 & x_2 & \\cdots & x_n \\\\ \\vdots & \\vdots & \\vdots & \\vdots \\end{bmatrix} \\begin{vmatrix} \\lambda_a & \\cdots & 0 \\\\ 0 & \\cdots & \\vdots \\\\ \\vdots & \\cdots & 0 \\\\ 0 & \\cdots & \\lambda_n \\end{vmatrix} = S \\Lambda$\n",
    "\n",
    "$\\begin{vmatrix} \\lambda_a & \\cdots & 0 \\\\ 0 & \\cdots & \\vdots \\\\ \\vdots & \\cdots & 0 \\\\ 0 & \\cdots & \\lambda_n \\end{vmatrix}$ = diagonal eigenvalue matrix $\\Lambda$"
   ]
  },
  {
   "cell_type": "markdown",
   "id": "3c53fc4e-d9af-4458-b728-1e16101a2c0a",
   "metadata": {},
   "source": [
    "$AS = S\\Lambda$\n",
    "\n",
    "$S^{-1} A S = \\Lambda$\n",
    "\n",
    "$\\to$ 역행렬이 존재한다고 가정\n",
    "\n",
    "$A = S \\Lambda S^{-1}$\n",
    "\n",
    "if $Ax = \\lambda x$\n",
    "\n",
    "$A^2 x = \\lambda A x = \\lambda^2 x$\n",
    "\n",
    "$A^2 = S \\Lambda S^{-1} S \\Lambda S^{-1} = S \\Lambda^2 S^{-1}$\n",
    "\n",
    "$\\therefore A^k = S \\Lambda^k S^{-1}$"
   ]
  },
  {
   "cell_type": "markdown",
   "id": "d3bf023b-0216-44ec-a7c1-4f6c6b996db6",
   "metadata": {},
   "source": [
    "결국,\n",
    "\n",
    "$\\Lambda = \\begin{vmatrix} \\lambda_1 & \\cdots & 0 \\\\ 0 & \\cdots & \\vdots \\\\ \\vdots & \\cdots & 0 \\\\ 0 & \\cdots & \\lambda \\end{vmatrix}$\n",
    "\n",
    "$\\Lambda^2 = \\begin{vmatrix} \\lambda^2_1 & \\cdots & 0 \\\\ 0 & \\cdots & \\vdots \\\\ \\vdots & \\cdots & 0 \\\\ 0 & \\cdots & \\lambda_n^2 \\end{vmatrix}$\n",
    "\n",
    "$\\cdots$\n",
    "\n",
    "$\\Lambda^n = \\begin{vmatrix} \\lambda^n_1 & \\cdots & 0 \\\\ 0 & \\cdots & \\vdots \\\\ \\vdots & \\cdots & 0 \\\\ 0 & \\cdots & \\lambda_n^n \\end{vmatrix}$"
   ]
  },
  {
   "cell_type": "markdown",
   "id": "01c3b62c-ef24-48a6-85a5-77749c987701",
   "metadata": {},
   "source": [
    "*Therom*\n",
    "\n",
    "$A^k \\to 0$ as $k \\to \\infty$\n",
    "\n",
    "$\\to$ $k$가 무한으로 갈수록, $A$는 0에 수럼함\n",
    "\n",
    "if all $|\\lambda_i| < 1$\n",
    "\n",
    "$A$ is sure to have $n$ independent eigenvector $\\therefore$ and be diagonaligable\n",
    "\n",
    "if all the $\\lambda$'s are different $\\therefore$ no repeated $\\lambda$'s\n",
    "\n",
    "example) eig(rand(10,10))"
   ]
  },
  {
   "cell_type": "markdown",
   "id": "4c550add-b9ce-48d4-8d01-67954cef3915",
   "metadata": {},
   "source": [
    "Repeated eigenvalues may or may not have $n$ independent eigenvector\n",
    "\n",
    "**$A$가 반복되는 고유값을 가지고 있다면, $A$는 $n$개의 독립인 고유벡터를 가질 수도 있고, 가지지 않을 수도 있다.**\n",
    "\n",
    "$A \\begin{bmatrix} 2 & 1 \\\\ 0 & 2  \\end{bmatrix}$\n",
    "\n",
    "$det(A - \\lambda I) = \\begin{vmatrix} 2-\\lambda & 1 \\\\ 0 & 2 - \\lambda \\end{vmatrix} = (2-\\lambda)^2$\n",
    "\n",
    "$\\lambda = 2,2,$\n",
    "\n",
    "$A - 2I = \\begin{bmatrix} 0 & 1 \\\\ 0 & 0 \\end{bmatrix}$\n",
    "\n",
    "$x_1 = \\begin{bmatrix} 1 \\\\ 0 \\end{bmatrix}$"
   ]
  },
  {
   "cell_type": "markdown",
   "id": "7b465940-a268-44ea-99d5-7061e588100f",
   "metadata": {},
   "source": [
    "**하지만, 반복되는 고유값을 가져도 $n$개의 독립인 고유벡터를 가지는 경우인 단위행렬이 있다.**\n",
    "\n",
    "$S^{-1} A S = \\Lambda$\n",
    "\n",
    "$\\begin{bmatrix} 1 & 0 \\\\ 0 & 1  \\end{bmatrix} \\begin{bmatrix} 1 & 0 \\\\ 0 & 1  \\end{bmatrix} \\begin{bmatrix} 1 & 0 \\\\ 0 & 1  \\end{bmatrix} = \\begin{bmatrix} 1 & 0 \\\\ 0 & 1  \\end{bmatrix}$"
   ]
  },
  {
   "cell_type": "markdown",
   "id": "0eaf273e-60f4-461c-adde-ae9e5681ea62",
   "metadata": {},
   "source": [
    "- 행렬 $A$가 $n$개의 서로 다른 고유값을 가지는 경우, $A$는 반드시 서로 다른 고유 벡터를 가지고, $A$는 대각화가 가능.\n",
    "\n",
    "- $A$가 어떤 반복되는 고유값을 가지는 경우 독립인 고유벡터를 가질 수도 있는 경우 = 단위 행렬, 회전 행렬\n",
    "\n",
    "- $A$가 어떤 반복되는 고유값을 가지는 경우 독립인 고유벡터를 가질 수도 없는 경우 = 삼각행렬"
   ]
  },
  {
   "cell_type": "markdown",
   "id": "68c850f8-650e-4649-946a-1ed3526402fe",
   "metadata": {},
   "source": [
    "Equation $U_{k+1} = A_{u_k}$\n",
    "\n",
    "Start with given vector $u_0$\n",
    "\n",
    "$u_1 = A_{u_0}$\n",
    "\n",
    "$u_2 = A^2 u_1$\n",
    "\n",
    "$u_k = A^k u_0$\n",
    "\n",
    "To really solve : write\n",
    "\n",
    "$u_0 = c_1 x_1 + c_2 x_2 + \\cdots + c_n x_n = SC$\n",
    "\n",
    "$A u_o = c_1 \\lambda_1 x_1 + c_2 \\lambda_2 x_2 + \\cdots + c_n \\lambda_n x_n$\n",
    "\n",
    "$A^{100} u_o = c_1 \\lambda_1^{100} x_1 + c_2 \\lambda_2^{100} x_2 + \\cdots + c_n \\lambda_n^{100} x_n$\n",
    "\n",
    "$ = \\Lambda^{100} SC$\n",
    "\n",
    "Fibonacci example : $0,1,2,3,5,8,13,21,34,\\cdots$\n",
    "\n",
    "$F_{100}=$?\n",
    "\n",
    "$F_{k+2} = F_{k+1} + F_k$\n",
    "\n",
    "$F_{k+1} = F_{k+1}$\n",
    "\n",
    "TRICK $u_k = \\begin{bmatrix} F_{k+1} \\\\ F_K \\end{bmatrix}$\n",
    "\n",
    "$u_{k+1} = \\begin{bmatrix} 1 & 1 \\\\ 1 & 0 \\end{bmatrix}u_k$ \n",
    "\n",
    "$= \\begin{bmatrix} 1 & 1 \\\\ 1 & 0 \\end{bmatrix} \\begin{bmatrix} F_{k+1} \\\\ F_k\\end{bmatrix} = A_{u_k}$"
   ]
  },
  {
   "cell_type": "markdown",
   "id": "a51d8123-d066-46be-bb19-4c7cdd7e6e78",
   "metadata": {},
   "source": [
    "$A =  \\begin{bmatrix} 1 & 1 \\\\ 1 & 0 \\end{bmatrix}$\n",
    "\n",
    "$\\begin{vmatrix} A - \\lambda I \\end{vmatrix} =  \\begin{vmatrix} 1-\\lambda & 1 \\\\ 1 & -\\lambda  \\end{vmatrix} = \\lambda^2 - \\lambda - 1 = 0$\n",
    "\n",
    "$\\to F_{k+1} - F_k - F_k = 0$이라서\n",
    "\n",
    "$\\lambda = \\frac{1 \\pm \\sqrt{1+4}}{2} = \\frac{1 \\pm \\sqrt{5}}{2}$\n",
    "\n",
    "$\\lambda_1 = \\frac{1}{2} (a+\\sqrt{5}) \\approx 1.618...$\n",
    "\n",
    "$\\lambda_2 = \\frac{1}{2} (1-\\sqrt{5}) \\approx -0.618...$\n",
    "\n",
    "$x_1 =  \\begin{bmatrix} \\lambda_1 \\\\ 1 \\end{bmatrix}$\n",
    "\n",
    "$x_1 =  \\begin{bmatrix} \\lambda_2 \\\\ 1 \\end{bmatrix}$\n",
    "\n",
    "$c_1 x_1 + c_2 x_2 =  \\begin{bmatrix} 1 \\\\ 0 \\end{bmatrix}$\n",
    "\n",
    "$F_{100} \\approx x_1 (\\frac{1+ \\sqrt{5}}{2})^{100} ...$\n",
    "\n",
    "$A - \\lambda I = \\begin{bmatrix} 1-\\lambda & 1 \\\\ 1 & -\\lambda \\end{bmatrix}  \\begin{bmatrix} \\lambda \\\\ 1\\end{bmatrix} =  \\begin{bmatrix} 0 \\\\ 0\\end{bmatrix}$"
   ]
  },
  {
   "cell_type": "code",
   "execution_count": null,
   "id": "80d01505-3eba-4cb2-94ac-95460ab10750",
   "metadata": {},
   "outputs": [],
   "source": []
  },
  {
   "cell_type": "code",
   "execution_count": null,
   "id": "1b774957-69af-4001-b485-d2b85c409552",
   "metadata": {},
   "outputs": [],
   "source": []
  },
  {
   "cell_type": "code",
   "execution_count": null,
   "id": "ed68b11d-ab36-4ddd-ab28-57a55dda1e14",
   "metadata": {},
   "outputs": [],
   "source": []
  },
  {
   "cell_type": "code",
   "execution_count": null,
   "id": "f883298f-fc31-4e0d-a5ab-a8bde00999a3",
   "metadata": {},
   "outputs": [],
   "source": []
  },
  {
   "cell_type": "code",
   "execution_count": null,
   "id": "1346003d-1431-4517-8b03-8f156f2aca00",
   "metadata": {},
   "outputs": [],
   "source": []
  },
  {
   "cell_type": "code",
   "execution_count": null,
   "id": "921917b8-70e4-4526-89a0-978c08530df9",
   "metadata": {},
   "outputs": [],
   "source": []
  },
  {
   "cell_type": "code",
   "execution_count": null,
   "id": "f6feec6f-1415-476e-8470-62fa7e5a9baa",
   "metadata": {},
   "outputs": [],
   "source": []
  },
  {
   "cell_type": "code",
   "execution_count": null,
   "id": "bfb610b3-402f-436c-8f42-813a2a38d2e1",
   "metadata": {},
   "outputs": [],
   "source": []
  },
  {
   "cell_type": "code",
   "execution_count": null,
   "id": "c7d1e837-081c-40df-9454-828104081e86",
   "metadata": {},
   "outputs": [],
   "source": []
  },
  {
   "cell_type": "code",
   "execution_count": null,
   "id": "61e5ff67-bd52-46d9-bd38-4bde1975697e",
   "metadata": {},
   "outputs": [],
   "source": []
  },
  {
   "cell_type": "code",
   "execution_count": null,
   "id": "465ee16f-3353-4bc1-bc0c-19cfaaac56dd",
   "metadata": {},
   "outputs": [],
   "source": []
  }
 ],
 "metadata": {
  "kernelspec": {
   "display_name": "Python 3",
   "language": "python",
   "name": "python3"
  },
  "language_info": {
   "codemirror_mode": {
    "name": "ipython",
    "version": 3
   },
   "file_extension": ".py",
   "mimetype": "text/x-python",
   "name": "python",
   "nbconvert_exporter": "python",
   "pygments_lexer": "ipython3",
   "version": "3.8.0"
  }
 },
 "nbformat": 4,
 "nbformat_minor": 5
}
