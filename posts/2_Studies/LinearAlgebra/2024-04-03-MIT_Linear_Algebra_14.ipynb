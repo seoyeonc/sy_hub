{
 "cells": [
  {
   "cell_type": "raw",
   "id": "d3bd9ed6-2a44-43fa-b658-9e2e643f03d8",
   "metadata": {
    "id": "cac470df-29e7-4148-9bbd-d8b9a32fa570",
    "tags": []
   },
   "source": [
    "---\n",
    "title: \"[Linear Algebra] Lecture 14\"\n",
    "author: \"SEOYEON CHOI\"\n",
    "date: \"2024-04-03\"\n",
    "---"
   ]
  },
  {
   "cell_type": "markdown",
   "id": "73a86529-9d50-40ab-9e68-1b1e8286bb67",
   "metadata": {},
   "source": [
    "{{< video https://www.youtube.com/watch?v=YzZUIYRCE38&list=PL49CF3715CB9EF31D&index=14 >}}"
   ]
  },
  {
   "cell_type": "markdown",
   "id": "fba6203e-eb77-439f-94fa-034631e4b67c",
   "metadata": {},
   "source": [
    "> 학습목표"
   ]
  },
  {
   "cell_type": "markdown",
   "id": "54dfcdcf-0c82-4dcb-8f17-d7d969e7584f",
   "metadata": {},
   "source": [
    "- orthogonal vectors & subspaces\n",
    "- nullspace & row space\n",
    "- $N(A^T A) = N(A)$"
   ]
  },
  {
   "cell_type": "markdown",
   "id": "377df73f-3bbd-40c3-82e7-37a3f62cdf72",
   "metadata": {},
   "source": [
    "::: {.callout-note}\n",
    "- orthogonal(row space & null space)\n",
    "\n",
    "row space\n",
    "\n",
    "- dimesion = $r$\n",
    "\n",
    "null space\n",
    "\n",
    "- dimesion = $n-r$\n",
    "    \n",
    "- orthogonal(column space & null space of $A^T$)\n",
    "\n",
    "column space\n",
    "\n",
    "- dimesion = $r$\n",
    "\n",
    "null space of $A^T$\n",
    "\n",
    "- dimesion = $m-r$\n",
    ":::"
   ]
  },
  {
   "cell_type": "markdown",
   "id": "f8d4a893-aa4e-46b5-9116-826d007cd098",
   "metadata": {},
   "source": [
    "`-` Orthogonal vectors"
   ]
  },
  {
   "cell_type": "markdown",
   "id": "0a10ce30-13da-40f2-81f1-23e7cf9170d4",
   "metadata": {},
   "source": [
    "Pythagoras 생각해보면, 내적한 $X^Ty = 0$ 이 조건에서만 아래 식이 가능하다.\n",
    "\n",
    "- orthogonal 직교는 직각을 의미하며, 직교하는 벡터 두 개를 더하면 피타고라스의 정의가 성립한다.\n",
    "- 이는 $y$가 0 벡터 일때도 성립하는 개념임, 내적하면 0 나오는 게 직교한다는 정의니까\n",
    "\n",
    "- $||x|^2 + ||y||^2 = ||x+y||^2$\n",
    "    - $x^T x + y^T y = (y)^T (x+y)$\n",
    "    - $x^T x + y^T y = x^T x + y^T y +x^T y + y^T x$\n",
    "    - $0 = 2x^T y$"
   ]
  },
  {
   "cell_type": "markdown",
   "id": "cd475f14-9c16-4d0c-997b-5852d2e4c632",
   "metadata": {},
   "source": [
    "x = $\\begin{bmatrix} 1\\\\ 2\\\\ 3 \\end{bmatrix}$, $y = \\begin{bmatrix} 2\\\\-1\\\\0 \\end{bmatrix}$, $x+y=\\begin{bmatrix}3\\\\1\\\\3 \\end{bmatrix}$"
   ]
  },
  {
   "cell_type": "markdown",
   "id": "6a6dd795-f08d-404b-895d-b7a4c6a0d8ec",
   "metadata": {},
   "source": [
    "$||x||^2 = 4$\n",
    "\n",
    "$||y||^2 = 5$\n",
    "\n",
    "$||x+y||^2 = 19$"
   ]
  },
  {
   "cell_type": "markdown",
   "id": "dd90c39b-e449-41d4-8472-246edcc75742",
   "metadata": {},
   "source": [
    "Subspace $S$ is orthogonal to subspace $T$.\n",
    "\n",
    "means: every vector in $S$ is orthogonalto every vector in $T$"
   ]
  },
  {
   "cell_type": "markdown",
   "id": "d5b17778-c842-43f7-b5d8-fb1b402a013f",
   "metadata": {},
   "source": [
    "$Ax = b$\n",
    "\n",
    "$\\begin{bmatrix} \\text{row 1}A \\\\ \\text{row 2} A\\\\ \\vdots\\end{bmatrix} \\begin{bmatrix}x_1\\\\ \\vdots\\\\ x_n \\end{bmatrix} = \\begin{bmatrix} b_1 \\\\ \\vdots \\\\ b_n\\end{bmatrix}$"
   ]
  },
  {
   "cell_type": "markdown",
   "id": "6b6e3a2c-47c7-4777-b421-a1a5de610235",
   "metadata": {},
   "source": [
    "row space is orthogonal to nullspace."
   ]
  },
  {
   "cell_type": "markdown",
   "id": "4d444b58-2dcc-44fe-964f-8e180c2232d0",
   "metadata": {},
   "source": [
    "`Ex`"
   ]
  },
  {
   "cell_type": "markdown",
   "id": "5f7f6218-4fea-41a4-8033-018e387dfdb6",
   "metadata": {},
   "source": [
    "$A = \\begin{bmatrix} 1&2&5\\\\2&4&10\\end{bmatrix}$, $m=3, r=1$"
   ]
  },
  {
   "cell_type": "markdown",
   "id": "5ad841a5-97fe-4216-a408-75cb340a0ee0",
   "metadata": {},
   "source": [
    "nullspace -> $\\begin{bmatrix} 1&2&5\\end{bmatrix} \\begin{bmatrix} x_1 \\\\ x_2 \\\\x_3\\end{bmatrix} = \\begin{bmatrix}0 \\end{bmatrix}$"
   ]
  },
  {
   "cell_type": "markdown",
   "id": "ab58981b-ec6a-4719-8cb0-1e948076d89f",
   "metadata": {},
   "source": [
    "$dim N(A) = 2$"
   ]
  },
  {
   "cell_type": "markdown",
   "id": "dadddc92-5494-483f-8ddb-2601fe15c198",
   "metadata": {},
   "source": [
    "- nullspace and rowspace are orthogonal complements in $R^n$\n",
    "    - Nullspace 와 Rowspace는 $R^n$ dimension에서 서로 complement보완해주는 역할\n",
    "- Nullspace contains all vectors and row space\n",
    "    - Null space 위 모든 벧터와 row space 위 모든 백터는 orthogonal함."
   ]
  },
  {
   "cell_type": "markdown",
   "id": "40f1768c-27a1-4ca2-b759-8460f2056d9a",
   "metadata": {},
   "source": [
    "- nullspace of $A^T$ and columnspace are orthogonal complements in $R^m$\n",
    "    - Nullspace of $A^T$ 와 Columnspace는 $R^m$ dimension에서 서로 complement보완해주는 역할\n",
    "- Nullspace of $A^T$ contains all vectors and column space\n",
    "    - Null space of $A^T$ 위 모든 벧터와 column space 위 모든 백터는 orthogonal함."
   ]
  },
  {
   "cell_type": "markdown",
   "id": "14c1219a-5f7d-408c-9718-98266d939b0d",
   "metadata": {},
   "source": [
    "---"
   ]
  },
  {
   "cell_type": "markdown",
   "id": "cf27a9e8-d69e-4fad-bced-045e64fbdbd9",
   "metadata": {},
   "source": [
    "> $Ax = b$ When there is no solution ($m>n$),"
   ]
  },
  {
   "cell_type": "markdown",
   "id": "319c1ad1-3be4-4dd0-8327-f78e288a2347",
   "metadata": {},
   "source": [
    "determinded matrix 미지수와 방정식의 수가 같을 때\n",
    "\n",
    "overdetermined matrix 미지수와 방정식의 수가 같지 않을 때"
   ]
  },
  {
   "cell_type": "markdown",
   "id": "ddd37776-d793-4b17-9fd1-8f0c39b71297",
   "metadata": {},
   "source": [
    "$A^T A$ overdetermined matrix A에 transpose한 것과 A를 곱한 것의 특징 세 가지\n",
    "\n",
    "- $n \\times m$ and $m \\times n$ = $n \\times n$ -> square matrix\n",
    "- symmetric metrix (($A^T A)^T = A^T A$)\n",
    "- invertible(단, full rank 이어야 함)"
   ]
  },
  {
   "cell_type": "markdown",
   "id": "c5943d18-11ab-4ee2-9017-a26f4d0e74a1",
   "metadata": {},
   "source": [
    "When there is no solution  of $Ax=b$ \n",
    "\n",
    "- $A^T A x = A^T b$ 로 해결가능한 경우 있음"
   ]
  },
  {
   "cell_type": "markdown",
   "id": "51c8b10a-dbb2-4855-a81d-cd46005dd109",
   "metadata": {},
   "source": [
    "$A = \\begin{bmatrix} 1 & 1 \\\\1&2\\\\1&5\\end{bmatrix}$"
   ]
  },
  {
   "cell_type": "markdown",
   "id": "7d2ccac7-3967-4a02-ab56-699dbd697806",
   "metadata": {},
   "source": [
    "$Ax = b$\n",
    "\n",
    "$\\begin{bmatrix} 1 & 1 \\\\1&2\\\\1&5\\end{bmatrix} \\begin{bmatrix} x_1 \\\\ x_2\\end{bmatrix} = \\begin{bmatrix}b_1\\\\b_2\\\\b_3 \\end{bmatrix}$"
   ]
  },
  {
   "cell_type": "markdown",
   "id": "7ab2c4ae-ce87-452f-a14d-307e028fc633",
   "metadata": {},
   "source": [
    "$m=3$ $>$ $n=2$, $r=2$"
   ]
  },
  {
   "cell_type": "markdown",
   "id": "ee8e5974-1b55-40b1-b199-f14e9d83a012",
   "metadata": {},
   "source": [
    "column space로 풀 수 있지만, 거의 불가능(경우의 수가 적음)"
   ]
  },
  {
   "cell_type": "markdown",
   "id": "dbf6e3f1-2c55-4ceb-aac6-9ba654f9ac85",
   "metadata": {},
   "source": [
    "$\\begin{bmatrix}1&1&1\\\\1&2&5 \\end{bmatrix} \\begin{bmatrix} 1&1\\\\1&2\\\\1&5\\end{bmatrix} = \\begin{bmatrix} 3&8\\\\8&30\\end{bmatrix}$"
   ]
  },
  {
   "cell_type": "markdown",
   "id": "aef4a024-9d9f-4164-a315-5118d49e8456",
   "metadata": {},
   "source": [
    "$\\begin{bmatrix} 3&8\\\\8&30\\end{bmatrix} \\begin{bmatrix} {\\hat x}_1 \\\\ {\\hat x}_2 \\end{bmatrix} = \\begin{bmatrix} b_1 \\\\ b_2\\end{bmatrix}$"
   ]
  },
  {
   "cell_type": "markdown",
   "id": "b2a7d169-a188-4b63-a084-f6f419200325",
   "metadata": {},
   "source": [
    "::: {.callout-tip}\n",
    "역행렬은 항상 가능한 것이 아니기 때문에 이 방법으로 solution 찾지 못하는 경우도 있음\n",
    "\n",
    "example\n",
    "\n",
    "$\\begin{bmatrix}1 &1&1\\\\3&3&3 \\end{bmatrix} \\begin{bmatrix}1&3\\\\1&3\\\\1&3 \\end{bmatrix} = \\begin{bmatrix}3&9\\\\9&27 \\end{bmatrix}$\n",
    "::"
   ]
  },
  {
   "cell_type": "markdown",
   "id": "a06f8208-47c7-45c9-a31d-ee6c65975e56",
   "metadata": {},
   "source": [
    "solution을 구하기 위해 전치를 해주자 $\\to$ 근사하는 해를 구할 수 있음"
   ]
  },
  {
   "cell_type": "markdown",
   "id": "697c9a2a-e675-4dd7-9d85-874f6092c75f",
   "metadata": {},
   "source": [
    "$N(A^T A) = N(A)$\n",
    "\n",
    "- rank of $A^T A$ = rnak of $A$"
   ]
  },
  {
   "cell_type": "markdown",
   "id": "3cf1ac42-e5d1-4433-a767-3fc4a88834ed",
   "metadata": {},
   "source": [
    "$A^TA$ **is invertible exactly** $A$ **has independent column.**"
   ]
  }
 ],
 "metadata": {
  "kernelspec": {
   "display_name": "Python 3",
   "language": "python",
   "name": "python3"
  },
  "language_info": {
   "codemirror_mode": {
    "name": "ipython",
    "version": 3
   },
   "file_extension": ".py",
   "mimetype": "text/x-python",
   "name": "python",
   "nbconvert_exporter": "python",
   "pygments_lexer": "ipython3",
   "version": "3.8.0"
  }
 },
 "nbformat": 4,
 "nbformat_minor": 5
}
