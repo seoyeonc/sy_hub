{
 "cells": [
  {
   "cell_type": "raw",
   "id": "d85cb031-85fa-4018-8995-ad11b3232502",
   "metadata": {
    "id": "cac470df-29e7-4148-9bbd-d8b9a32fa570",
    "tags": []
   },
   "source": [
    "---\n",
    "title: \"[Linear Algebra] Lecture 2\"\n",
    "author: \"SEOYEON CHOI\"\n",
    "date: \"2024-02-15\"\n",
    "---"
   ]
  },
  {
   "cell_type": "markdown",
   "id": "5849b101-8455-413b-bb16-06ee8337b474",
   "metadata": {},
   "source": [
    "{{< video https://www.youtube.com/watch?v=ZK3O402wf1c&list=PL49CF3715CB9EF31D&index=1 >}}"
   ]
  },
  {
   "cell_type": "markdown",
   "id": "b4eec2c1-ebf5-4614-89cf-2d24607cfb34",
   "metadata": {},
   "source": [
    "> 학습 목표\n",
    "\n",
    "- Elimination(Success or Failure)\n",
    "- Back substitution\n",
    "- Elimination matrices\n",
    "- matrix multiplication"
   ]
  },
  {
   "cell_type": "markdown",
   "id": "26a0e9ad-3791-482d-85ab-f46aa18d53db",
   "metadata": {},
   "source": [
    "`-` 3 equations and 3 unknowns"
   ]
  },
  {
   "cell_type": "markdown",
   "id": "08f4af5e-374e-4583-b880-d49eee5e8bf9",
   "metadata": {},
   "source": [
    "$x + 2y + z = 2$\n",
    "\n",
    "$3x + 8y + z = 12$\n",
    "\n",
    "$4y + z = 2$"
   ]
  },
  {
   "cell_type": "markdown",
   "id": "f0defd53-3537-41be-a110-748fe321e44c",
   "metadata": {},
   "source": [
    "column picture $\\to\\begin{bmatrix} 1 & 2 & 1 \\\\ 3 & 8 & 1 \\\\ 0 & 4 & 1\\end{bmatrix} \\begin{bmatrix} x \\\\ y \\\\ z\\end{bmatrix} = \\begin{bmatrix} 2 \\\\ 12 \\\\ 2\\end{bmatrix}$"
   ]
  },
  {
   "cell_type": "markdown",
   "id": "2b4a836b-42ae-41b5-bd06-2b8c5d5c945e",
   "metadata": {},
   "source": [
    "`-` elimination steps(success)"
   ]
  },
  {
   "cell_type": "markdown",
   "id": "b88b5630-6f94-478a-adb2-cd139bc26478",
   "metadata": {},
   "source": [
    "$A = \\begin{bmatrix} 1 & 2 & 1 \\\\ 3 & 8 & 1 \\\\ 0 & 4 & 1\\end{bmatrix}$, $b=\\begin{bmatrix} 2 \\\\ 12 \\\\ 2\\end{bmatrix}$"
   ]
  },
  {
   "cell_type": "markdown",
   "id": "8384e750-3ff8-4d38-9d7c-f6076f907d14",
   "metadata": {},
   "source": [
    "1행 1열의 `1`이 <span style=\"background-color:lightgreen;\">1st pivot</span>, 2행 1열을 0으로 만들어보자.(1행에 3배(multiplier = 3)해서 2행이랑 계산)"
   ]
  },
  {
   "cell_type": "markdown",
   "id": "834b5d26-e809-4c64-af73-dea6fab5f36a",
   "metadata": {},
   "source": [
    "$A = \\begin{bmatrix} 1 & 2 & 1 \\\\ 0 & 2 & 2 \\\\ 0 & 4 & 1\\end{bmatrix}$, $b=\\begin{bmatrix} 2 \\\\ 6 \\\\ 2\\end{bmatrix}$"
   ]
  },
  {
   "cell_type": "markdown",
   "id": "74084447-589d-4cf7-a8a3-5b7bd684415a",
   "metadata": {},
   "source": [
    "2행 2열의 `2`이 <span style=\"background-color:lightgreen;\">2nd pivot</span>, 3행 2열을 0으로 만들어보자.(2행에 2배(multiplier = 2)해서 3행이랑 계산)"
   ]
  },
  {
   "cell_type": "markdown",
   "id": "a5e62d5d-45b8-4b25-8979-12ea04718389",
   "metadata": {},
   "source": [
    "$A = \\begin{bmatrix} 1 & 2 & 1 \\\\ 0 & 2 & 2 \\\\ 0 & 0 & 5\\end{bmatrix}$, $b=\\begin{bmatrix} 2 \\\\ 6 \\\\ -10\\end{bmatrix}$"
   ]
  },
  {
   "cell_type": "markdown",
   "id": "1af6d843-3934-4e5c-86c9-a526467e8ab4",
   "metadata": {},
   "source": [
    "3행 3열의 `5`가 <span style=\"background-color:lightgreen;\">3rd pivot</span>"
   ]
  },
  {
   "cell_type": "markdown",
   "id": "e871f1d4-34f4-4390-b423-ec7280ef0d12",
   "metadata": {},
   "source": [
    "::: {.callout-tip}\n",
    "Pivot can't be zero.\n",
    "\n",
    "- 계산하다가 0이 나오면 다른 row와 row excange 진행하면서 안 나오게 하기\n",
    "- unknown 수 만큼 pivot 존재함!\n",
    ":::"
   ]
  },
  {
   "cell_type": "markdown",
   "id": "b3f660fd-2b55-4854-93fd-7a9b7ae501f7",
   "metadata": {},
   "source": [
    "> 위는 success case, 마지막 equation이 $4y-4z=2$이라면 failure case"
   ]
  },
  {
   "cell_type": "markdown",
   "id": "463bb062-7e81-4ea9-ae8e-1b70e4bcaf60",
   "metadata": {},
   "source": [
    "`-` back substitution(위로부터 구험)"
   ]
  },
  {
   "cell_type": "markdown",
   "id": "17ca4c92-4bc4-428b-b568-4c885fe5fae7",
   "metadata": {},
   "source": [
    "$x + 2y + z = 2$\n",
    "\n",
    "$2y - 2z = 6$\n",
    "\n",
    "$5z = -10$\n",
    "\n",
    "3 equations"
   ]
  },
  {
   "cell_type": "markdown",
   "id": "6cbd06dc-e230-4d90-ad9d-7f40f5b4232a",
   "metadata": {},
   "source": [
    "$ux = c$\n",
    "\n",
    "$\\begin{bmatrix} 1 & 2 & 1 \\\\ 0 & 2 & 2 \\\\ 0 & 0 & 5\\end{bmatrix} \\begin{bmatrix} x \\\\ y \\\\ z \\end{bmatrix} \\begin{bmatrix} 2 \\\\ 6 \\\\ -10 \\end{bmatrix}$"
   ]
  },
  {
   "cell_type": "markdown",
   "id": "4e83f915-e03c-4638-bce9-0f201ae77f94",
   "metadata": {},
   "source": [
    "$\\therefore z = 2, y = 1, z = -2$"
   ]
  },
  {
   "cell_type": "markdown",
   "id": "4073b3e1-11dc-4a91-b9e0-e96e7e69c942",
   "metadata": {},
   "source": [
    "`-` Elimination Matrices"
   ]
  },
  {
   "cell_type": "markdown",
   "id": "a19a1e8e-a0f0-49bd-ae00-e7947ba93934",
   "metadata": {},
   "source": [
    "- Matrices subtract $3 \\times$ row 1 from row 2"
   ]
  },
  {
   "cell_type": "markdown",
   "id": "f87a7361-f784-40d7-96ff-697c0fbf6844",
   "metadata": {},
   "source": [
    "*step 1*\n",
    "\n",
    "$\\begin{bmatrix} 1 & 0 & 0 \\\\ -3 & 1 & 0 \\\\ 0 & 0 & 1 \\end{bmatrix} \\begin{bmatrix} 1 & 2 & 1 \\\\ 3 & 8 & 1 \\\\ 0 & 4 & 1 \\end{bmatrix} = \\begin{bmatrix} 1 & 2 & 1 \\\\ 0 & 2 & -2 \\\\ 0 & 4 & 1\\end{bmatrix}$"
   ]
  },
  {
   "cell_type": "markdown",
   "id": "5f6bc878-4eee-4131-a25f-2be911e18b79",
   "metadata": {},
   "source": [
    "*step 2*\n",
    "\n",
    "$\\begin{bmatrix} 1 & 0 & 0 \\\\ 0 & 1 & 0 \\\\ 0 & -2 & 1 \\end{bmatrix} \\begin{bmatrix} 1 & 2 & 1 \\\\ 3 & 8 & 1 \\\\ 0 & 4 & 1 \\end{bmatrix} = \\begin{bmatrix} 1 & 2 & 1 \\\\ 0 & 2 & -2 \\\\ 0 & 0 & 5 \\end{bmatrix}$"
   ]
  },
  {
   "cell_type": "markdown",
   "id": "b7f2244b-8c02-4688-b009-8bce92fdff06",
   "metadata": {},
   "source": [
    "$E_{32}(E_{21} A) = u$\n",
    "\n",
    "이것을 어떻게 간단하게 표현하지?\n",
    "\n",
    "순서를 바꾸면 matrix 특징상 아예 다른 값이 산출될 수도 있으니 그건 아님\n",
    "\n",
    "$(E_{32}E_{21}) A = u$\n",
    "\n",
    "이렇게 Elimination matrix만 빼낸다면?"
   ]
  },
  {
   "cell_type": "markdown",
   "id": "6b9940b2-71d1-49b9-9365-25bcccc46393",
   "metadata": {},
   "source": [
    "`-` Permutation"
   ]
  },
  {
   "cell_type": "markdown",
   "id": "9ccaf0c4-a5fa-497f-bd60-3197bdd59da4",
   "metadata": {},
   "source": [
    "- Excange rows 1 and 2"
   ]
  },
  {
   "cell_type": "markdown",
   "id": "00028f43-535b-4d63-aa1f-bf182208fae5",
   "metadata": {},
   "source": [
    "$\\begin{bmatrix}0 & 1 \\\\ 1 & 0 \\end{bmatrix} \\begin{bmatrix} a & b \\\\ c & d\\end{bmatrix} = \\begin{bmatrix} c & d \\\\ a & b\\end{bmatrix}$"
   ]
  },
  {
   "cell_type": "markdown",
   "id": "a3509e94-b5d1-4c9a-b287-f533312485ac",
   "metadata": {},
   "source": [
    "- Excange columns 1 and 2"
   ]
  },
  {
   "cell_type": "markdown",
   "id": "bb56b5d2-8ae2-4ac6-9c44-5332dd072a87",
   "metadata": {},
   "source": [
    "$\\begin{bmatrix} a & b \\\\ c & d\\end{bmatrix} \\begin{bmatrix}0 & 1 \\\\ 1 & 0 \\end{bmatrix}  = \\begin{bmatrix} b & a \\\\ d & c\\end{bmatrix}$"
   ]
  },
  {
   "cell_type": "markdown",
   "id": "b6dbeb34-148a-4edb-9c4a-415e96b4e10f",
   "metadata": {},
   "source": [
    "::: {.callout-note}\n",
    "- To do column operations, the matrix multiplies on the right.\n",
    "- To do row operations, it multiplies on the left.\n",
    ":::"
   ]
  },
  {
   "cell_type": "markdown",
   "id": "df44c991-cb1a-4a4c-b51b-fd17568e7a25",
   "metadata": {},
   "source": [
    "`-` Inverse"
   ]
  },
  {
   "cell_type": "markdown",
   "id": "76faa083-6644-450c-b352-cec8b9884932",
   "metadata": {},
   "source": [
    "$\\begin{bmatrix} 1 & 0 & 0 \\\\ 3 & 1 & 0 \\\\ 0 & 0 & 1\\end{bmatrix} \\begin{bmatrix} 1 & 0 & 0 \\\\ -3 & 1 & 0 \\\\ 0 & 0 & 1\\end{bmatrix} = \\begin{bmatrix} 1 & 0 & 0 \\\\ 0 & 1 & 0 \\\\ 0 & 0 & 1\\end{bmatrix}$"
   ]
  },
  {
   "cell_type": "markdown",
   "id": "4c7049c9-4fa1-4454-a23c-db73583f1161",
   "metadata": {},
   "source": [
    "$E^{-1} E = I$"
   ]
  },
  {
   "cell_type": "code",
   "execution_count": null,
   "id": "83b823e4-ddb4-4f49-bef4-7f9e78b4aabd",
   "metadata": {},
   "outputs": [],
   "source": []
  }
 ],
 "metadata": {
  "kernelspec": {
   "display_name": "Python 3",
   "language": "python",
   "name": "python3"
  },
  "language_info": {
   "codemirror_mode": {
    "name": "ipython",
    "version": 3
   },
   "file_extension": ".py",
   "mimetype": "text/x-python",
   "name": "python",
   "nbconvert_exporter": "python",
   "pygments_lexer": "ipython3",
   "version": "3.8.0"
  }
 },
 "nbformat": 4,
 "nbformat_minor": 5
}
