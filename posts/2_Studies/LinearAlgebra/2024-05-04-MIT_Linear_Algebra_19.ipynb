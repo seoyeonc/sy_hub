{
 "cells": [
  {
   "cell_type": "raw",
   "id": "cb2da8f1-ec7d-4e12-a2ff-d87bc518b795",
   "metadata": {
    "id": "cac470df-29e7-4148-9bbd-d8b9a32fa570",
    "tags": []
   },
   "source": [
    "---\n",
    "title: \"[Linear Algebra] Lecture 19\"\n",
    "author: \"SEOYEON CHOI\"\n",
    "date: \"2024-05-04\"\n",
    "---"
   ]
  },
  {
   "cell_type": "markdown",
   "id": "787edd82-094f-4a5c-bf34-0d5f93a4fef2",
   "metadata": {},
   "source": [
    "{{< video https://www.youtube.com/watch?v=23LLB9mNJvc&list=PL49CF3715CB9EF31D&index=19 >}}"
   ]
  },
  {
   "cell_type": "markdown",
   "id": "92c449a1-7a30-452d-bd61-fbd7e557e37a",
   "metadata": {},
   "source": [
    "학습목표"
   ]
  },
  {
   "cell_type": "markdown",
   "id": "6a37d1ca-5a39-4699-b5f4-660a40673018",
   "metadata": {},
   "source": [
    "- Formular for $det$ $A$ ($n!$ terms)\n",
    "- cofactor formular\n",
    "- tridiagonal matrices"
   ]
  },
  {
   "cell_type": "markdown",
   "id": "d5e59bf7-c0dc-4bd1-8b18-0f1f5f3ea1bf",
   "metadata": {},
   "source": [
    "`-` Determinant Formulars"
   ]
  },
  {
   "cell_type": "markdown",
   "id": "cfb66804-0e74-4dd5-983e-51229fde90dd",
   "metadata": {},
   "source": [
    "- Determinant split 행렬식을 나누는 법"
   ]
  },
  {
   "cell_type": "markdown",
   "id": "43a0a7d6-d8f9-4c52-8bcf-24ff2d1a7b6e",
   "metadata": {},
   "source": [
    "`-` 지난 시간에 한 내용"
   ]
  },
  {
   "cell_type": "markdown",
   "id": "1d03e75e-2711-4afb-a471-0cdfac9b9301",
   "metadata": {},
   "source": [
    "1. $det$ $I = 1$\n",
    "    - 단위행렬의 determinant가 1이다.\n",
    "2. sign reverse with exchange\n",
    "    - 행 교환row exchange를 했을떄 부호가 바뀐다.\n",
    "3. $det$ is linear in each row seperately\n",
    "    - 하나의 row에 곱해진 scale상수를 밖으로 뺼 수 있다.\n",
    "    - 하나의 row에 나머지 row는 유지한채 분리해서 정리할 수 있다."
   ]
  },
  {
   "cell_type": "markdown",
   "id": "027cd5ee-33e7-4ec5-958a-9c70c978a33f",
   "metadata": {},
   "source": [
    "3에 따라, row 1을 유지한채 분리하면 아래와 같이 된다.\n",
    "\n",
    "$\\begin{vmatrix} a & b \\\\ c & d \\end{vmatrix} = \\begin{vmatrix} a & 0 \\\\ c & d \\end{vmatrix} + \\begin{vmatrix} 0 & b \\\\ c & d \\end{vmatrix} = \\begin{vmatrix} a & 0 \\\\ c & 0 \\end{vmatrix} + \\begin{vmatrix} a & 0 \\\\ 0 & d \\end{vmatrix} +\\begin{vmatrix} 0 & b \\\\ c & 0 \\end{vmatrix} +\\begin{vmatrix} 0 & b \\\\ 0 & d \\end{vmatrix}$\n",
    "\n",
    "여기서, $\\begin{vmatrix} a & 0 \\\\ c & 0 \\end{vmatrix}$, $\\begin{vmatrix} 0 & b \\\\ 0 & d \\end{vmatrix}$는 모든 원소가 0인 행이 존재하는, pivot이 0인 특이행랼singular matrix가 된다.\n",
    "\n",
    "또한, $\\begin{vmatrix} a & 0 \\\\ 0 & d \\end{vmatrix}$는 대각선으로 곱하면 $det$가 $ad$로 되고,\n",
    "\n",
    "$\\begin{vmatrix} 0 & b \\\\ c & 0 \\end{vmatrix}$는 대각 행렬이 뒤집힌 형태이니, row exchange하여 부호를 -1을 곱해준 후 3에 따라 정리하여 대각선 곱하면 $-bc$가 나온다.\n",
    "\n",
    "$\\begin{vmatrix} a & 0 \\\\ 0 & d \\end{vmatrix} +\\begin{vmatrix} 0 & b \\\\ c & 0 \\end{vmatrix} = ad + -1 \\times \\begin{vmatrix} c & 0 \\\\ 0 & b \\end{vmatrix} = ad + -1 \\times bc \\begin{vmatrix} 1 & 0 \\\\ 0 & 1 \\end{vmatrix} = ad-bc$"
   ]
  },
  {
   "cell_type": "markdown",
   "id": "24c44ba0-ba0b-4712-8254-12456d24714a",
   "metadata": {},
   "source": [
    "> 이는 $2\\times2$ matrix(분리하면 4개 행렬 나옴)를 넘어 $3\\times3$(분리하면 9개 행렬 나옴), $4\\times4$(분리하면 16개 행렬 나옴) matrix까지 확장 가능하다."
   ]
  },
  {
   "cell_type": "markdown",
   "id": "a383ec28-aa38-42de-ac97-358879737ebb",
   "metadata": {},
   "source": [
    "$3\\times3$ matrix에서 분리한 후 특이행렬이 아닌 행렬들을 모아보면,\n",
    "\n",
    "$\\begin{vmatrix} a_{11} & a_{12} & a_{13} \\\\a_{21} & a_{22} & a_{23} \\\\a_{31} & a_{32} & a_{33}\\end{vmatrix}$\n",
    "\n",
    "$=\\begin{vmatrix} a_{11} &0&0 \\\\0 & a_{22} & 0 \\\\0&0 & a_{33}\\end{vmatrix}+ \\begin{vmatrix} a_{11} & 0&0 \\\\0&0 & a_{23} \\\\0 & a_{32} & 0\\end{vmatrix}+ \\begin{vmatrix} 0& a_{12} & 0 \\\\a_{21} & 0&0 \\\\0&0 & a_{33}\\end{vmatrix}+ \\begin{vmatrix} 0& a_{12} & 0 \\\\ 0&0 & a_{23} \\\\a_{31} & 0 & 0\\end{vmatrix}+ \\begin{vmatrix} 0&0& a_{13} \\\\a_{21} & 0 &0\\\\0 & a_{32}&0\\end{vmatrix}+ \\begin{vmatrix} 0&0 & a_{13} \\\\0& a_{22} & 0 \\\\a_{31} & 0&0\\end{vmatrix}$\n",
    "\n",
    "$=a_{11}a_{22}a_{33}- a_{11}a_{23}a_{32}-a_{12}a_{21}a_{33}+a_{12}a_{23}a_{31}+a_{13}a_{21}a_{31}+a_{13}a_{21}a_{32}-a_{13}a_{22}a_{31}$\n",
    "\n",
    "-> 여기서 특징, 한 row에서 자기자신만 빼고 남지 않음(치환 행렬permutation matrix 형태)\n",
    "\n",
    "-> 또 다른 특징, $3\\times3$ matrix에만 적용 가능, 다른 행렬은 식이 무한히 길어질 가능성이 있고, 서로 다른 형태의 식이 나오게 될 수 있다."
   ]
  },
  {
   "cell_type": "markdown",
   "id": "4cab1d66-434d-488f-b1d2-c83d1845d5e8",
   "metadata": {},
   "source": [
    "- 그래서 모든 행렬에 적용할 수 있는 일반적인 방법이 필요하다.(아래)"
   ]
  },
  {
   "cell_type": "markdown",
   "id": "d3418a7d-cf56-415d-9d0b-7db6ccb2f4c2",
   "metadata": {},
   "source": [
    "`-` Big Formular"
   ]
  },
  {
   "cell_type": "markdown",
   "id": "a92fc7b8-48f1-44f7-a327-3b3247e2b030",
   "metadata": {},
   "source": [
    "- 0이 아닌 term의 개수를 구하는 방법 = 팩토리얼\n",
    "    - $2\\times 2 = 2! = 2 \\times 1 = 2$\n",
    "    - $3\\times 3 = 3! = 3 \\times 2 \\times 1 = 6$\n",
    "    - $4\\times 4 = 4! = 4 \\times 3 \\times 2 \\times 1 = 24$\n",
    "    - 이런 식으로!"
   ]
  },
  {
   "cell_type": "markdown",
   "id": "c03a82e2-5a27-4cee-8ca9-6502509467c7",
   "metadata": {},
   "source": [
    "$det$ $A$ $= \\sum_{n! \\text{ terms }} \\pm a_{1 \\alpha} a_{2 \\beta} a_{3 \\gamma} \\cdots a_{n \\omega}$\n",
    "\n",
    "- 절반은 양이고, 절반은 음이다.\n",
    "\n",
    "$(\\alpha, \\beta, \\gamma, \\cdots, \\omega) = \\text{ Perm of }(1,2, \\cdots, n)$\n",
    "\n",
    "- 알파,베타,감마,오메가는 1부터 n까지의 치환 행렬의 열인덱스를 의미한다.\n",
    "- row는 그대로 col만 바뀌어서"
   ]
  },
  {
   "cell_type": "markdown",
   "id": "ab2c6686-c04d-4b1e-a5b9-60013ff726b5",
   "metadata": {},
   "source": [
    "`-` Example"
   ]
  },
  {
   "cell_type": "markdown",
   "id": "808e777f-a40d-4b4f-b582-4040bf46e08b",
   "metadata": {},
   "source": [
    "$\\begin{vmatrix} 0 & 0 & 1 & 1 \\\\0 & 1 & 1 & 0 \\\\1 & 1 & 0 & 0 \\\\1 & 0 & 0 & 1 \\\\\\end{vmatrix}$\n",
    "\n",
    "- 행렬식이 분리되는 식의 개수 = $4^4=256$\n",
    "- 특이행렬 제외한 식의 개수 = $4! = 4 \\times 3 \\times 2 \\times 1 = 24$"
   ]
  },
  {
   "cell_type": "markdown",
   "id": "e6554af0-585d-40a4-8a52-25254760fed6",
   "metadata": {},
   "source": [
    "> 특이행렬을 제외한 식의 개수를 보면 24이지만, 기존 행렬에서 0인게 이미 존재함으로 우리는 determinant를 아래와 같이 구할 수 있다.\n",
    "\n",
    "- $a_{14}a_{23}a_{32}a_{41} = 1$\n",
    "- $a_{13}a_{22}a_{31}a_{44} = -1$"
   ]
  },
  {
   "cell_type": "markdown",
   "id": "d23273a3-c42b-4e0e-9ef2-cf133042a4dd",
   "metadata": {},
   "source": [
    "`-` Cofactor 여인수"
   ]
  },
  {
   "cell_type": "markdown",
   "id": "0054971d-3c33-4e6a-b654-af7513fb3bc5",
   "metadata": {},
   "source": [
    "> Big formular를 분할하는 방법"
   ]
  },
  {
   "cell_type": "markdown",
   "id": "ee567e34-fcbd-46d9-8daa-819ed00110db",
   "metadata": {},
   "source": [
    "$\\begin{vmatrix} a_{11} & a_{12} & a_{13} \\\\a_{21} & a_{22} & a_{23} \\\\a_{31} & a_{32} & a_{33}\\end{vmatrix}$\n",
    "\n",
    "$=\\begin{vmatrix} a_{11} &0&0 \\\\0 & a_{22} & 0 \\\\0&0 & a_{33}\\end{vmatrix}+ \\begin{vmatrix} a_{11} & 0&0 \\\\0&0 & a_{23} \\\\0 & a_{32} & 0\\end{vmatrix}+ \\begin{vmatrix} 0& a_{12} & 0 \\\\a_{21} & 0&0 \\\\0&0 & a_{33}\\end{vmatrix}+ \\begin{vmatrix} 0& a_{12} & 0 \\\\ 0&0 & a_{23} \\\\a_{31} & 0 & 0\\end{vmatrix}+ \\begin{vmatrix} 0&0& a_{13} \\\\a_{21} & 0 &0\\\\0 & a_{32}&0\\end{vmatrix}+ \\begin{vmatrix} 0&0 & a_{13} \\\\0& a_{22} & 0 \\\\a_{31} & 0&0\\end{vmatrix}$\n",
    "\n",
    "$=a_{11}a_{22}a_{33}- a_{11}a_{23}a_{32}-a_{12}a_{21}a_{33}+a_{12}a_{23}a_{31}+a_{13}a_{21}a_{31}+a_{13}a_{21}a_{32}-a_{13}a_{22}a_{31}$\n",
    "\n",
    "$= a_{11}(a_{22}a_{33} - a_{23}a_{32}) + a_{12}(a_{23}a_{31} - a_{21}a_{33} ) + a_{13}(a_{21}a_{32} - a_{22}a_{31})$\n",
    "\n",
    "-> 여기 안에 묶인 부분이 바로 여인수cofactor"
   ]
  },
  {
   "cell_type": "markdown",
   "id": "7f50105a-a699-4266-aa4d-b60d924351d8",
   "metadata": {},
   "source": [
    "- $\\text{cofactor of } a_{ij} = C_{ij}$\n",
    "- $\\pm$ $det$ $\\begin{cases} n-1  \\text{ matrix} \\\\ \\text{with row} i, \\text{ col } j \\text{ removed} \\end{cases}$\n",
    "- $i+j =\\text{ even}(+)$\n",
    "- $i+j =\\text{ odd}(-)$"
   ]
  },
  {
   "cell_type": "markdown",
   "id": "053c2d44-bcac-4107-8819-8d9bad071877",
   "metadata": {},
   "source": [
    "- $\\text{cofactor formular (about row } 1$\n",
    "- $det$ $A = a_{11} C_{11} + a_{12}C_{12} + \\cdots + a_{1n} C_{1n}$\n",
    "- $\\begin{vmatrix} C_{11} & C_{12} & C_{13} & C_{14} & \\cdots & C_{1n} \\\\ C_{21} & C_{22} & C_{23} & C_{24} & \\cdots & C_{2n} \\\\ C_{31} & C_{32} & C_{33} & C_{34} & \\cdots & C_{3n} \\\\ C_{41} & C_{42} & C_{43} & C_{44} & \\cdots & C_{4n} \\\\ \\vdots & \\vdots & \\vdots & \\vdots & \\ddots & \\vdots \\\\ C_{n1} & C_{n2} & C_{n3} & C_{n4} & \\cdots & C_{nn}  \\end{vmatrix}$\n",
    "- $\\to \\begin{vmatrix} + &- & + & - & + & \\cdots \\\\ - & + & - & + & - & \\cdots \\\\ + &- & + & - & + & \\cdots \\\\ - & + & - & + & - & \\cdots \\\\ + &- & + & - & + & \\cdots \\\\ \\vdots & \\vdots & \\vdots & \\vdots & \\ddots & \\vdots  \\end{vmatrix}$\n",
    "- sign of cofavtors in $n \\times n$ matrices"
   ]
  },
  {
   "cell_type": "markdown",
   "id": "e60396eb-9a6a-44d8-aebd-8448da8220dc",
   "metadata": {},
   "source": [
    "cofactor 공식을 이용하여 $2 \\times 2$ matrix의 determinant를 구하면?\n",
    "\n",
    "- $\\begin{vmatrix} a_{11} & a_{12} \\\\ a_{21} & a_{22} \\end{vmatrix} = \\begin{vmatrix} a & b \\\\ c & d \\end{vmatrix}$\n",
    "- $a_{11}C_{11} + a_{12}C_{12} = ad+b(-c)$\n",
    "    - $C_{11}$은 1+1 =짝수니까 + 나오고\n",
    "    - $C_{12}$는 1+2홀수니까 - 나옴"
   ]
  },
  {
   "cell_type": "markdown",
   "id": "b342ba39-4133-411f-be1c-c639a52bfbd6",
   "metadata": {},
   "source": [
    "$A = \\begin{vmatrix} 0 & 0 & 1 & 1 \\\\0 & 1 & 1 & 0 \\\\1 & 1 & 0 & 0 \\\\1 & 0 & 0 & 1 \\\\\\end{vmatrix}$"
   ]
  },
  {
   "cell_type": "markdown",
   "id": "334ce9fa-979b-4066-973b-bf5b0360a1b4",
   "metadata": {},
   "source": [
    "- $det$ $A = a_{11}C_{11} + a_{12}C_{12} +a_{13}C_{13}+a_{14}C_{14} = a_{13}C_{13}+a_{14}C_{14}$\n",
    "    - 1행의 1,2열은 0이니까\n",
    "- $1 \\times \\begin{vmatrix} 0 & 1 & 0 \\\\ 1 & 1 & 0 \\\\ 1 & 0 & 1 \\end{vmatrix} - 1 \\times \\begin{vmatrix} 0 & 1 & 1 \\\\ 1 & 1 & 0 \\\\ 1 & 0 & 0 \\end{vmatrix}$\n",
    "- $(a_{11}C_{11}+a_{12}C_{12}+a_{13}C_{13}) - (a_{11}C_{11}+a_{12}C_{12}+a_{13}C_{13} = a_{12}C_{12} + a_{12}C_{12}+a_{13}C_{13}$\n",
    "    - 첫번쨰 식은 1행의 1,3열이 0이고,\n",
    "    - 두번째 식은 1행의 1열이 0이니까 \n",
    "- $1 \\times \\begin{vmatrix} 1 & 0 \\\\ 1 & 1\\end{vmatrix} - 1 \\times \\begin{vmatrix} 1 & 0 \\\\ 1 & 0\\end{vmatrix} + 1 \\times \\begin{vmatrix} 1 & 1 \\\\ 1 & 0\\end{vmatrix} = -1 - (0 - 1) = 0$\n",
    "    - $C_{ij}$ 에서 i+j가 짝수면 양수, 홀수면 음수 1이 곱해짐!"
   ]
  },
  {
   "cell_type": "code",
   "execution_count": null,
   "id": "a5911798-d15f-4b6e-9752-7063d2f16011",
   "metadata": {},
   "outputs": [],
   "source": []
  }
 ],
 "metadata": {
  "kernelspec": {
   "display_name": "Python 3",
   "language": "python",
   "name": "python3"
  },
  "language_info": {
   "codemirror_mode": {
    "name": "ipython",
    "version": 3
   },
   "file_extension": ".py",
   "mimetype": "text/x-python",
   "name": "python",
   "nbconvert_exporter": "python",
   "pygments_lexer": "ipython3",
   "version": "3.8.0"
  }
 },
 "nbformat": 4,
 "nbformat_minor": 5
}
