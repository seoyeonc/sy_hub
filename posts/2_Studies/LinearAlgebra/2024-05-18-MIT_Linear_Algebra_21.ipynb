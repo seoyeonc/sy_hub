{
 "cells": [
  {
   "cell_type": "raw",
   "id": "4e03cd73-63a7-42d4-9987-76df9710dd81",
   "metadata": {
    "id": "cac470df-29e7-4148-9bbd-d8b9a32fa570",
    "tags": []
   },
   "source": [
    "---\n",
    "title: \"[Linear Algebra] Lecture 21\"\n",
    "author: \"SEOYEON CHOI\"\n",
    "date: \"2024-05-18\"\n",
    "---"
   ]
  },
  {
   "cell_type": "markdown",
   "id": "e57a6c00-28a8-4923-95ff-d78a6cb85d36",
   "metadata": {},
   "source": [
    "{{< video https://www.youtube.com/watch?v=lXNXrLcoerU&list=PL49CF3715CB9EF31D&index=21 >}}"
   ]
  },
  {
   "cell_type": "markdown",
   "id": "20848842-e00c-430d-9182-077dbcb62625",
   "metadata": {},
   "source": [
    "> 학습 목표"
   ]
  },
  {
   "cell_type": "markdown",
   "id": "f2e2229b-8229-4f97-9f1a-fcdcbae29a1c",
   "metadata": {},
   "source": [
    "- Eigen vales - Eigen vectors\n",
    "- $det$ $[A - \\lambda I ] = 0$\n",
    "- Trace $= \\lambda_1 + \\lambda_2 + \\dots + \\lambda_n$"
   ]
  },
  {
   "cell_type": "markdown",
   "id": "c8d5a1cc-f68a-465a-ba0e-0ac31d6e2226",
   "metadata": {},
   "source": [
    "고유 벡터의 정의 : $Ax$ parallel to $x$"
   ]
  },
  {
   "cell_type": "markdown",
   "id": "8ddbe1e5-2e4d-4149-b0ea-4927e1d9b40e",
   "metadata": {},
   "source": [
    "$Ax$ is some multiple $\\lambda x$, 따라서, $Ax = \\lambda x$\n",
    "\n",
    "- 어떤 정방행렬 $A$는 임의의 벡터 $x$에 곱해져서 $x$의 위치나 방향을 변환시키는 역할을 하는데,\n",
    "- 이 벡터들 중 $A$에 곱해져서 위치나 방향이 바뀌어도 원래 자기 자신과 동일하거나 평행한 방향을 갖게 되는데,\n",
    "- 이 벡터들이 고유벡터\n",
    "- 그리고 고유 벡터의 크기는 다를 수 있으며, 곱해진 상수가 고유값"
   ]
  },
  {
   "cell_type": "markdown",
   "id": "e07fe289-de5a-40e1-ab87-bb23cb36baac",
   "metadata": {},
   "source": [
    "- 고유벡터의 방향성분만을 적용하려면 **정규화**해주어야 한다."
   ]
  },
  {
   "cell_type": "markdown",
   "id": "74fcdd7b-65e4-4a05-81b6-a17896555957",
   "metadata": {},
   "source": [
    "If $A$ is singular, $\\lambda = 0$ is eigenvalue.\n",
    "\n",
    "- 또, 영공간null space에 존재하기도 함"
   ]
  },
  {
   "cell_type": "markdown",
   "id": "886e7caa-ae6f-4bc2-b395-860359ba6c4a",
   "metadata": {},
   "source": [
    "How do we find $\\lambda$ and $x$"
   ]
  },
  {
   "cell_type": "markdown",
   "id": "1a33216f-c1df-47ac-bd4f-3fb1107de47d",
   "metadata": {},
   "source": [
    "What are $x$'s and $\\lambda$'s for projection matrix?"
   ]
  },
  {
   "cell_type": "markdown",
   "id": "4e4be122-3ded-4f30-8d0b-29c76e290295",
   "metadata": {},
   "source": [
    "Any $x$ plane $Px = x$, $\\lambda = 1$"
   ]
  },
  {
   "cell_type": "markdown",
   "id": "ce9fd08d-ca8e-434b-8498-6dbe7ae45398",
   "metadata": {},
   "source": [
    "Any $x$ $\\perp$ plane $: Px = 0x, \\lambda = 0$"
   ]
  },
  {
   "cell_type": "markdown",
   "id": "2070e6b7-67bd-4260-af97-e1908aefca56",
   "metadata": {},
   "source": [
    "$A = \\begin{bmatrix} 0 & 1 \\\\ 1 & 0 \\end{bmatrix}$\n",
    "\n",
    "$x = \\begin{bmatrix} 1 \\\\ 1 \\end{bmatrix}$, $\\lambda = 1$, $\\lambda x = \\lambda$, $A = \\begin{bmatrix} 1 \\\\ 1 \\end{bmatrix}$\n",
    "\n",
    "$x = \\begin{bmatrix} -1 \\\\ 1 \\end{bmatrix}$, $Ax = -x$, $\\lambda = -1$"
   ]
  },
  {
   "cell_type": "markdown",
   "id": "56c2c06f-109d-427f-9dd7-f8a6d4457149",
   "metadata": {},
   "source": [
    "How to solve $Ax = \\lambda x$\n",
    "\n",
    "Renote: $(A - \\lambda I) x = 0$\n",
    "\n",
    "- $Ax = 0$이라면 $A$의 null space를 찾는 것인데, 이 null space가 존재하기 위해 특이 행렬이 되어야 한다.\n",
    "    - 특이행렬이 아니라면 유일한 해는 오직 영벡터\n",
    "\n",
    "$det$ $(A - \\lambda I ) = 0$\n",
    "\n",
    "- Find $\\lambda$ first\n",
    "    - 특이행렬의 determinant행렬식은 0이다.\n",
    "\n",
    "$det$ $(A - \\lambda I) = \\begin{vmatrix} 3-\\lambda & 1 \\\\ 1 & 3-\\lambda\\end{vmatrix}$\n",
    "\n",
    "$(3 - \\lambda)^2 - 1 = \\lambda^2 - 6 \\lambda + 8$\n",
    "\n",
    "$\\therefore \\lambda_1 = 4, \\lambda_2 = 2$"
   ]
  },
  {
   "cell_type": "markdown",
   "id": "6165ffb7-3934-44ca-86d6-67be73729149",
   "metadata": {},
   "source": [
    "If $Ax = \\lambda x$ then $(A + 3 I) x = \\lambda x 3 x = (\\lambda + 3)x$"
   ]
  },
  {
   "cell_type": "markdown",
   "id": "c93f9e99-8bd5-40cb-8e9e-c184b583a3a3",
   "metadata": {},
   "source": [
    "If $Ax = \\lambda x$, $B$ has eigen values $\\alpha$, $Bx = \\alpha x$"
   ]
  },
  {
   "cell_type": "markdown",
   "id": "b059ef27-b8da-49cf-9800-f8298bec2a3f",
   "metadata": {},
   "source": [
    "$(A+B)x = (\\lambda + \\alpha)x \\to$ That's False"
   ]
  },
  {
   "cell_type": "markdown",
   "id": "33183bb5-8450-466e-b7c0-309c45fff3c9",
   "metadata": {},
   "source": [
    "Example $Q = \\begin{bmatrix} 0 & -1 \\\\ 1 & 0 \\end{bmatrix}$ $\\to$ 90 degree rotation"
   ]
  },
  {
   "cell_type": "markdown",
   "id": "a5beb482-c017-4a87-a283-3b3b2d7e9a5e",
   "metadata": {},
   "source": [
    "trace $= 0+0 =\\lambda_1 + \\lambda_2$\n",
    "\n",
    "- 고유값들의 합은 행렬의 대각원소의 합인 trace와 같다."
   ]
  },
  {
   "cell_type": "markdown",
   "id": "607733e0-e5fe-43ab-8f50-f83da6fb09da",
   "metadata": {},
   "source": [
    "$det$ $= 1 = \\lambda_1\\lambda_2$\n",
    "\n",
    "$det$ $(Q - \\lambda I) = \\begin{vmatrix} -\\lambda & -1 \\\\ 1 & -\\lambda \\end{vmatrix} = \\lambda^2 + 1 = 0$\n",
    "\n",
    "$\\lambda_1 = i$, $\\lambda_2 = -i$"
   ]
  },
  {
   "cell_type": "markdown",
   "id": "59249d1b-1192-43f6-a7c2-1f3c60f5c591",
   "metadata": {},
   "source": [
    "`-` 삼각행렬인데 대각 원소가 같으면 고유벡터가 오직 하나만 존재한다."
   ]
  },
  {
   "cell_type": "markdown",
   "id": "5941ba5e-2c2d-4d1f-8a94-071570a4598f",
   "metadata": {},
   "source": [
    "$A = \\begin{bmatrix} 3 & 1 \\\\ 0 & 3 \\end{bmatrix}$\n",
    "\n",
    "$det(A - \\lambda I) = \\begin{vmatrix} 3 - \\lambda & 1 \\\\ 0 & 3 - \\lambda \\end{vmatrix}$"
   ]
  },
  {
   "cell_type": "markdown",
   "id": "2d61dabd-a82a-4c86-af47-2c21fa967c65",
   "metadata": {},
   "source": [
    "$\\lambda_1 = 3$, $\\lambda_2 =  3$"
   ]
  },
  {
   "cell_type": "markdown",
   "id": "6270237d-ff1e-4fb5-aa47-f8cec488decf",
   "metadata": {},
   "source": [
    "$(A - \\lambda I)x = \\begin{bmatrix} 0 & 1 \\\\ 0 & 0\\end{bmatrix}$ $\\begin{bmatrix} x_1 \\\\ x_2 \\end{bmatrix} = \\begin{bmatrix} 0 &0\\end{bmatrix}$"
   ]
  },
  {
   "cell_type": "markdown",
   "id": "a21987c8-6f9d-4389-b1f0-aaa413ee7cb1",
   "metadata": {},
   "source": [
    "$x_{\\lambda_1} = \\begin{bmatrix} 1 \\\\ 0 \\end{bmatrix}$, $x_{\\lambda_2}$"
   ]
  },
  {
   "cell_type": "code",
   "execution_count": null,
   "id": "dbedaaa0-429a-498e-8701-4de383a25e72",
   "metadata": {},
   "outputs": [],
   "source": []
  }
 ],
 "metadata": {
  "kernelspec": {
   "display_name": "Python 3",
   "language": "python",
   "name": "python3"
  },
  "language_info": {
   "codemirror_mode": {
    "name": "ipython",
    "version": 3
   },
   "file_extension": ".py",
   "mimetype": "text/x-python",
   "name": "python",
   "nbconvert_exporter": "python",
   "pygments_lexer": "ipython3",
   "version": "3.8.0"
  }
 },
 "nbformat": 4,
 "nbformat_minor": 5
}
