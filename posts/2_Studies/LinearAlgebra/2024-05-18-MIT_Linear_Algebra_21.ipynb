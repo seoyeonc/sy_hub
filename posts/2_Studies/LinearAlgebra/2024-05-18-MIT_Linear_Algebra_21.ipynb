{
 "cells": [
  {
   "cell_type": "raw",
   "id": "4e03cd73-63a7-42d4-9987-76df9710dd81",
   "metadata": {
    "id": "cac470df-29e7-4148-9bbd-d8b9a32fa570",
    "tags": []
   },
   "source": [
    "---\n",
    "title: \"[Linear Algebra] Lecture 21\"\n",
    "author: \"SEOYEON CHOI\"\n",
    "date: \"2024-05-18\"\n",
    "---"
   ]
  },
  {
   "cell_type": "markdown",
   "id": "e57a6c00-28a8-4923-95ff-d78a6cb85d36",
   "metadata": {},
   "source": [
    "{{< video https://www.youtube.com/watch?v=QNpj-gOXW9M&list=PL49CF3715CB9EF31D&index=20 >}}"
   ]
  },
  {
   "cell_type": "markdown",
   "id": "76766006-9d65-4c2a-a0c3-d67af91172ef",
   "metadata": {},
   "source": [
    "https://twlab.tistory.com/46#google_vignette"
   ]
  },
  {
   "cell_type": "code",
   "execution_count": null,
   "id": "641b2655-c871-42b9-aa24-2bad36e89aa6",
   "metadata": {},
   "outputs": [],
   "source": []
  }
 ],
 "metadata": {
  "kernelspec": {
   "display_name": "Python 3",
   "language": "python",
   "name": "python3"
  },
  "language_info": {
   "codemirror_mode": {
    "name": "ipython",
    "version": 3
   },
   "file_extension": ".py",
   "mimetype": "text/x-python",
   "name": "python",
   "nbconvert_exporter": "python",
   "pygments_lexer": "ipython3",
   "version": "3.8.0"
  }
 },
 "nbformat": 4,
 "nbformat_minor": 5
}
