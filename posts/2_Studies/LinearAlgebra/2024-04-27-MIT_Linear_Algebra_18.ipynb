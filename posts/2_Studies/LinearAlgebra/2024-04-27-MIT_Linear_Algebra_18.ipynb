{
 "cells": [
  {
   "cell_type": "raw",
   "id": "67e95c4d-67e5-445b-a8b9-a4a022dfb71e",
   "metadata": {
    "id": "cac470df-29e7-4148-9bbd-d8b9a32fa570",
    "tags": []
   },
   "source": [
    "---\n",
    "title: \"[Linear Algebra] Lecture 18\"\n",
    "author: \"SEOYEON CHOI\"\n",
    "date: \"2024-04-27\"\n",
    "---"
   ]
  },
  {
   "cell_type": "markdown",
   "id": "57f0c2b9-bb2a-4a12-a41f-dcac6c9fbf37",
   "metadata": {},
   "source": [
    "{{< video https://www.youtube.com/watch?v=uNsCkP9mgRk&list=PL49CF3715CB9EF31D&index=17 >}}"
   ]
  },
  {
   "cell_type": "markdown",
   "id": "1191fed4-1d20-47f5-8693-2e9ce0072a4b",
   "metadata": {},
   "source": [
    "https://twlab.tistory.com/40"
   ]
  }
 ],
 "metadata": {
  "kernelspec": {
   "display_name": "Python 3",
   "language": "python",
   "name": "python3"
  },
  "language_info": {
   "codemirror_mode": {
    "name": "ipython",
    "version": 3
   },
   "file_extension": ".py",
   "mimetype": "text/x-python",
   "name": "python",
   "nbconvert_exporter": "python",
   "pygments_lexer": "ipython3",
   "version": "3.8.0"
  }
 },
 "nbformat": 4,
 "nbformat_minor": 5
}
