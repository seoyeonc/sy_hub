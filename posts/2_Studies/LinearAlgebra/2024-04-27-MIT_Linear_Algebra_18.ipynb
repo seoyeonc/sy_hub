{
 "cells": [
  {
   "cell_type": "raw",
   "id": "67e95c4d-67e5-445b-a8b9-a4a022dfb71e",
   "metadata": {
    "id": "cac470df-29e7-4148-9bbd-d8b9a32fa570",
    "tags": []
   },
   "source": [
    "---\n",
    "title: \"[Linear Algebra] Lecture 18\"\n",
    "author: \"SEOYEON CHOI\"\n",
    "date: \"2024-04-27\"\n",
    "---"
   ]
  },
  {
   "cell_type": "markdown",
   "id": "57f0c2b9-bb2a-4a12-a41f-dcac6c9fbf37",
   "metadata": {},
   "source": [
    "{{< video https://www.youtube.com/watch?v=srxexLishgY&list=PL49CF3715CB9EF31D&index=18 >}}"
   ]
  },
  {
   "cell_type": "markdown",
   "id": "0833a7f9-5907-4681-abea-63fd0b07f92e",
   "metadata": {},
   "source": [
    "> 학습목표"
   ]
  },
  {
   "cell_type": "markdown",
   "id": "c31c3d73-4784-43b2-90a4-83b0a47cfd4e",
   "metadata": {},
   "source": [
    "- Determinant $det$ $A = |A|$\n",
    "- properties $1,2,3,4$-$10\\pm$ signs"
   ]
  },
  {
   "cell_type": "markdown",
   "id": "d0b44506-044d-4ce6-8e94-8a49e39d500f",
   "metadata": {},
   "source": [
    "> $det$ $\\begin{vmatrix} a& b \\\\ c & d\\end{vmatrix} = ad-bc$"
   ]
  },
  {
   "cell_type": "markdown",
   "id": "41853349-0c49-4804-9c5b-2b312fc24c8a",
   "metadata": {},
   "source": [
    "**determinent의 특징**"
   ]
  },
  {
   "cell_type": "markdown",
   "id": "e0fbe0e4-68aa-4a86-ab51-dda3f850fe35",
   "metadata": {},
   "source": [
    "`1` $det$ $I=1$"
   ]
  },
  {
   "cell_type": "markdown",
   "id": "acd68066-0e6c-45a6-9fd4-44fb066aad2b",
   "metadata": {},
   "source": [
    "$\\begin{vmatrix} 1& 0 \\\\ 0 & 1\\end{vmatrix} = 1$"
   ]
  },
  {
   "cell_type": "markdown",
   "id": "936e69bf-9373-4136-9069-08f92d78c5d1",
   "metadata": {},
   "source": [
    "- 단위행렬의 determinant는 1"
   ]
  },
  {
   "cell_type": "markdown",
   "id": "7fb1c0f2-5459-46c6-a516-b80b0ae2a9f4",
   "metadata": {},
   "source": [
    "`2` Exchange rows: reverse sighn of $det$"
   ]
  },
  {
   "cell_type": "markdown",
   "id": "87621694-184c-42dc-9b73-d9b3bd66b996",
   "metadata": {},
   "source": [
    "$det$ $p = \\begin{cases} 1 & \\text{even} \\\\ -1 & \\text{odd} \\end{cases}$"
   ]
  },
  {
   "cell_type": "markdown",
   "id": "e8aedf46-1085-4071-ba63-8039f5aac0d1",
   "metadata": {},
   "source": [
    "- Purmutation의 p"
   ]
  },
  {
   "cell_type": "markdown",
   "id": "245fcba9-c111-48c7-a0f8-5fbf66522f90",
   "metadata": {},
   "source": [
    "$\\begin{vmatrix} 0& 1 \\\\ 1 & 0\\end{vmatrix} = -1$"
   ]
  },
  {
   "cell_type": "markdown",
   "id": "54dcde6c-392b-45ef-b911-17938f271048",
   "metadata": {},
   "source": [
    "- 행을 바꾸면 determinant의 부호가 바뀌는데 짝수 바뀌면 1, 홀수 바뀌면 -1"
   ]
  },
  {
   "cell_type": "markdown",
   "id": "35ed1db0-809f-4d12-a0b8-15e0342b27bb",
   "metadata": {},
   "source": [
    "`3a` $\\begin{vmatrix} ta& tb \\\\ c & d\\end{vmatrix} = t \\begin{vmatrix} a& b \\\\ c & d\\end{vmatrix}$"
   ]
  },
  {
   "cell_type": "markdown",
   "id": "e83d6dad-baab-464b-86f2-77c5f7793875",
   "metadata": {},
   "source": [
    "- 행렬 중 하나의 row에 곱해진 상수는 밖으로 나올 수 있음"
   ]
  },
  {
   "cell_type": "markdown",
   "id": "db63f365-9b23-4162-b753-aaf614a57bbd",
   "metadata": {},
   "source": [
    "`3b` $\\begin{vmatrix} a + a^{'} & b + b^{'} \\\\ c & d\\end{vmatrix} = \\begin{vmatrix} a & b \\\\ c & d\\end{vmatrix} + \\begin{vmatrix} a^{'} &  b^{'} \\\\ c & d\\end{vmatrix}$"
   ]
  },
  {
   "cell_type": "markdown",
   "id": "5789c9a5-ea20-4ca1-a567-7d7ee66eea48",
   "metadata": {},
   "source": [
    "- 행렬 중 하나의 row는 분리하여 정리 가능"
   ]
  },
  {
   "cell_type": "markdown",
   "id": "3f4d5fa3-681e-4d5f-a9a6-fc246edd5de9",
   "metadata": {},
   "source": [
    "Linear each row"
   ]
  },
  {
   "cell_type": "markdown",
   "id": "de2319d9-15b7-4d27-ba94-6c12f7c88deb",
   "metadata": {},
   "source": [
    "*단, $det$ $(A+B) \\ne$ $det$ $A$ + $det$ $B$*"
   ]
  },
  {
   "cell_type": "markdown",
   "id": "4f0c1a8c-613a-4b7d-aa5a-b5d65f3aaf15",
   "metadata": {},
   "source": [
    "`4` $2$ equal rows $\\to$ $det$ $=0$"
   ]
  },
  {
   "cell_type": "markdown",
   "id": "4b4c7f0f-724c-4f58-8e17-619fd4931ee4",
   "metadata": {},
   "source": [
    "Exchange the rows $\\to$ same matrix"
   ]
  },
  {
   "cell_type": "markdown",
   "id": "a8848bec-5a83-4bfd-8633-39f0a6775469",
   "metadata": {},
   "source": [
    "$A = \\begin{vmatrix}a & b \\\\ a&b \\end{vmatrix}$ 일 때, $det$ $A = ab-ab = 0$"
   ]
  },
  {
   "cell_type": "markdown",
   "id": "9da49ebc-1065-4116-88f9-0093f5ce48ce",
   "metadata": {},
   "source": [
    "- 행렬에 두 개의 같은 row가 존재하면 determinant는 0"
   ]
  },
  {
   "cell_type": "markdown",
   "id": "9cd94876-c56e-4bc3-8f7c-a5a9d69e7c50",
   "metadata": {},
   "source": [
    "`5` subtract $l$ $\\times$ row $i$ from row $k$"
   ]
  },
  {
   "cell_type": "markdown",
   "id": "abbed459-2b13-4c45-a34c-7f740cf539a4",
   "metadata": {},
   "source": [
    "$det$ dosen't change"
   ]
  },
  {
   "cell_type": "markdown",
   "id": "6a47cd68-36d0-4d4a-acbd-5f4df2723c7a",
   "metadata": {},
   "source": [
    "$\\begin{vmatrix} a & b \\\\ c -la & d-lb \\end{vmatrix} = \\begin{vmatrix} a & b  \\\\ c & d\\end{vmatrix} + \\begin{vmatrix} a  & b  \\\\ -la & -lb \\end{vmatrix}$\n",
    "\n",
    "or $= \\begin{vmatrix} a  & b \\\\ c & d\\end{vmatrix} - l \\begin{vmatrix} a  & b \\\\ c & d\\end{vmatrix}$ by `3`"
   ]
  },
  {
   "cell_type": "markdown",
   "id": "89d2b04d-5399-4f00-a793-a6069d01e278",
   "metadata": {},
   "source": [
    "소거과정 거쳐도 $det$는 변하지 않음"
   ]
  },
  {
   "cell_type": "markdown",
   "id": "ed284da1-da76-4420-bc06-15dd6673e9a5",
   "metadata": {},
   "source": [
    "- 행렬이 gauss 소거법으로 정리해도 determinant는 변하지 않음"
   ]
  },
  {
   "cell_type": "markdown",
   "id": "9994bc15-1cec-463e-91aa-f8b88ebc36d6",
   "metadata": {},
   "source": [
    "`6` Row of zeros $\\to$ $det$ $A = 0$"
   ]
  },
  {
   "cell_type": "markdown",
   "id": "c6a329ee-2a40-458f-80af-06b1c5a87021",
   "metadata": {},
   "source": [
    "$5 \\begin{vmatrix} 0 & 0 \\\\ c & d\\end{vmatrix} = \\begin{vmatrix} 5 \\times 0 & 5 \\times 0 \\\\ c & d\\end{vmatrix}$"
   ]
  },
  {
   "cell_type": "markdown",
   "id": "ea9c70f9-abdb-4f50-ac9d-1c1774b4b84a",
   "metadata": {},
   "source": [
    "- 모든 원소가 0인 row가 하나라도 존재하면 determinant는 0"
   ]
  },
  {
   "cell_type": "markdown",
   "id": "e852894c-6c02-40a7-9e7b-9b2961338818",
   "metadata": {},
   "source": [
    "`7` $det$ $U = \\begin{vmatrix} d_1 & * & * & * \\\\ 0 & d_2 & * & * \\\\ \\vdots & \\ddots & \\ddots & \\vdots \\\\ 0 & 0 & 0 & d_N\\end{vmatrix} = (d_1)(d_2)\\cdots (d_N)$"
   ]
  },
  {
   "cell_type": "markdown",
   "id": "2c019b51-ba1a-4075-8e4e-15afd698734c",
   "metadata": {},
   "source": [
    "product of pivots\n",
    "\n",
    "- 상삼각행려릐 $det$는 대각원소들의 곱으로 구할 수 있음"
   ]
  },
  {
   "cell_type": "markdown",
   "id": "65b70891-5050-4aca-9c28-2794aac813e6",
   "metadata": {},
   "source": [
    "$det$ $D= d_n \\cdots d_2d_1\\begin{vmatrix} 1 & 0 & 0 & 0 \\\\ 0 & 1 & 0 & 0 \\\\ \\vdots & \\ddots & \\ddots & \\vdots  \\\\ 0 & 0 & 0 & 1\\end{vmatrix} = d_n \\cdots d_2d_1$"
   ]
  },
  {
   "cell_type": "markdown",
   "id": "b4b3c745-c8ee-4261-a792-72698b4b62ee",
   "metadata": {},
   "source": [
    "- 삼각행렬의 determinant는 대각 원소들의 곱으로 구할 수 있으며, 이 대각 원소들이 0이 아니어야 가능"
   ]
  },
  {
   "cell_type": "markdown",
   "id": "a054da14-bfff-42c2-b5f7-966e2de5b090",
   "metadata": {},
   "source": [
    "`8` $det$ $A=0$"
   ]
  },
  {
   "cell_type": "markdown",
   "id": "8bd2067f-6e85-4da1-88a1-65bf8bfa6e8d",
   "metadata": {},
   "source": [
    "When $A$ is singular $\\to$ rows of zeros"
   ]
  },
  {
   "cell_type": "markdown",
   "id": "a3a1ae4e-6c1f-4275-93da-3d5df50f4186",
   "metadata": {},
   "source": [
    "- 특이행렬이면 determinant는 0"
   ]
  },
  {
   "cell_type": "markdown",
   "id": "8a94c2aa-642c-4082-8777-6b8f407cb0f9",
   "metadata": {},
   "source": [
    "$det$ $A \\ne 0$ $\\to$ $U$"
   ]
  },
  {
   "cell_type": "markdown",
   "id": "c4415efa-8ee0-44c9-bf0c-21a15c8a866a",
   "metadata": {},
   "source": [
    "When $A$ is invertible $\\to$ $d_1,d_2,,\\cdots,d_n$"
   ]
  },
  {
   "cell_type": "markdown",
   "id": "2b520b4c-21f4-454d-93df-d7d3d69b46d8",
   "metadata": {},
   "source": [
    "$\\begin{vmatrix}a & b \\\\ c&d \\end{vmatrix} \\to \\begin{vmatrix} a & b \\\\ 0 & d - \\frac{c}{d} b\\end{vmatrix} = ad-bc$"
   ]
  },
  {
   "cell_type": "markdown",
   "id": "1b24e080-96e8-4f14-af03-72727d943f53",
   "metadata": {},
   "source": [
    "- 역행렬이 존재하면 determinant는 0이 아님"
   ]
  },
  {
   "cell_type": "markdown",
   "id": "fbcf5139-1c4c-4a37-a028-c2abb92e7ac6",
   "metadata": {},
   "source": [
    "`9` $det$ $AB =$ ( $det$ $A$ ) ($det$ $B$ )"
   ]
  },
  {
   "cell_type": "markdown",
   "id": "6b738057-9294-4a1f-9f87-cf45488fd970",
   "metadata": {},
   "source": [
    "$det$ $A^{-1} = \\frac{1}{det A}$"
   ]
  },
  {
   "cell_type": "markdown",
   "id": "94777d89-a533-40b9-9569-e77c888a0fc8",
   "metadata": {},
   "source": [
    "$A^{-1} A = I$"
   ]
  },
  {
   "cell_type": "markdown",
   "id": "86855481-4a96-4288-9b96-caafd33c19d7",
   "metadata": {},
   "source": [
    "A 의 역행렬의 determinant는 A의 determinant의 역수"
   ]
  },
  {
   "cell_type": "markdown",
   "id": "9cebdd81-7cfd-4f38-af0d-461a06cac2d9",
   "metadata": {},
   "source": [
    "($det$ $A^{-1}$ ) ( $det$ $A$ ) = 1"
   ]
  },
  {
   "cell_type": "markdown",
   "id": "998b1223-99c2-4a16-8710-74a32161960e",
   "metadata": {},
   "source": [
    "$A = \\begin{bmatrix} 2 & 0 \\\\ 0 & 3\\end{bmatrix}$"
   ]
  },
  {
   "cell_type": "markdown",
   "id": "9010bb9c-1974-409c-b88f-afe83875acc9",
   "metadata": {},
   "source": [
    "$A^{-1} = \\begin{bmatrix} \\frac{1}{2} & 0 \\\\ 0 & \\frac{1}{3}\\end{bmatrix}$"
   ]
  },
  {
   "cell_type": "markdown",
   "id": "7ec4654d-8e22-4879-a253-682e66fca720",
   "metadata": {},
   "source": [
    "$det$ $A = 6$"
   ]
  },
  {
   "cell_type": "markdown",
   "id": "1cab1bd2-99df-47bc-a7d8-1005320bfd1f",
   "metadata": {},
   "source": [
    "$det$ $A^{-1} = \\frac{1}{6}$"
   ]
  },
  {
   "cell_type": "markdown",
   "id": "1f2b343d-196e-43db-9beb-19ad86eb6716",
   "metadata": {},
   "source": [
    "$det$ $A^2$ = ($det$ $A)^2$"
   ]
  },
  {
   "cell_type": "markdown",
   "id": "4569fbb3-7add-47af-9bce-25768f8d11d2",
   "metadata": {},
   "source": [
    "$det$ $2A$ = $2^n$ $det$ $A$"
   ]
  },
  {
   "cell_type": "markdown",
   "id": "3605118d-a7b6-4c9f-8953-8ac95072c3e6",
   "metadata": {},
   "source": [
    "`10` $det$ $A^T$ = $det$ $A$"
   ]
  },
  {
   "cell_type": "markdown",
   "id": "f4d55ba4-7210-4159-bcd6-39f9814993bb",
   "metadata": {},
   "source": [
    "$\\begin{vmatrix} a & b \\\\ c & d\\end{vmatrix} = \\begin{vmatrix} a & c \\\\\\ b & d \\end{vmatrix}$"
   ]
  },
  {
   "cell_type": "markdown",
   "id": "9ad6f784-bd4e-415b-aaf6-df37bf9d193f",
   "metadata": {},
   "source": [
    "Prove `10` using `1`~`9`"
   ]
  },
  {
   "cell_type": "markdown",
   "id": "f2b6b119-ef74-449f-9d0f-fc34cee99a27",
   "metadata": {},
   "source": [
    "$|A^T| = |A|$"
   ]
  },
  {
   "cell_type": "markdown",
   "id": "7f43ea76-ad26-49d5-8974-8a658051a5b0",
   "metadata": {},
   "source": [
    "$|U^T L^T| = |LU|$"
   ]
  },
  {
   "cell_type": "markdown",
   "id": "7d7ae662-ddea-4d03-8556-9db82050819a",
   "metadata": {},
   "source": [
    "$|U^T| |L^T| = |L| |U|$"
   ]
  },
  {
   "cell_type": "code",
   "execution_count": null,
   "id": "db8e818b-d1d6-42c5-a8c3-4683f1aa478d",
   "metadata": {},
   "outputs": [],
   "source": []
  }
 ],
 "metadata": {
  "kernelspec": {
   "display_name": "Python 3",
   "language": "python",
   "name": "python3"
  },
  "language_info": {
   "codemirror_mode": {
    "name": "ipython",
    "version": 3
   },
   "file_extension": ".py",
   "mimetype": "text/x-python",
   "name": "python",
   "nbconvert_exporter": "python",
   "pygments_lexer": "ipython3",
   "version": "3.8.0"
  }
 },
 "nbformat": 4,
 "nbformat_minor": 5
}
