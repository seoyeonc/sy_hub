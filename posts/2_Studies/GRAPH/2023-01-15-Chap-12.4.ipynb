{
 "cells": [
  {
   "cell_type": "raw",
   "id": "d6167dee-bcbd-43ce-a2df-7a1bef10c191",
   "metadata": {},
   "source": [
    "---\n",
    "title: \"**[CGSP]** Chap 12.4: Node Subsampling for PSD Estimation\"\n",
    "author: \"신록예찬\"\n",
    "date: \"01/15/2023\"\n",
    "---"
   ]
  },
  {
   "cell_type": "code",
   "execution_count": 78,
   "id": "e8effb53-70b6-4f84-be55-96a8fc30e965",
   "metadata": {},
   "outputs": [],
   "source": [
    "using LinearAlgebra, Plots, FFTW, Statistics"
   ]
  },
  {
   "cell_type": "code",
   "execution_count": 76,
   "id": "aae00adb-706b-46b1-bdb8-07705ccfd22b",
   "metadata": {},
   "outputs": [
    {
     "data": {
      "text/plain": [
       "#49 (generic function with 1 method)"
      ]
     },
     "execution_count": 76,
     "metadata": {},
     "output_type": "execute_result"
    }
   ],
   "source": [
    "columnwise_kron = \n",
    "(C,D) -> hcat([kron(C[:,i],D[:,i]) for i in 1:size(C)[2]]...)"
   ]
  },
  {
   "cell_type": "markdown",
   "id": "8e8dbe84-8b24-44d2-b236-885d9d64ad83",
   "metadata": {},
   "source": [
    "# 12.4.1 The Sampling Problem "
   ]
  },
  {
   "cell_type": "markdown",
   "id": "f63a9bda-67c3-44dc-8e2a-56f716364db2",
   "metadata": {},
   "source": [
    "아래와 같이 길이가 $N=10$ 인 신호 ${\\bf x}$를 고려하자. "
   ]
  },
  {
   "cell_type": "code",
   "execution_count": 56,
   "id": "a2df1de5-174b-4bfc-a8db-fab95afdb703",
   "metadata": {},
   "outputs": [
    {
     "data": {
      "text/plain": [
       "10-element Vector{Float64}:\n",
       " 0.03235208758206609\n",
       " 0.5069925854414447\n",
       " 0.5795228508497553\n",
       " 0.682832351742401\n",
       " 0.64422613488741\n",
       " 0.24116013388795854\n",
       " 0.8439116925218157\n",
       " 0.6362602319916778\n",
       " 0.386069828675059\n",
       " 0.5313655894235898"
      ]
     },
     "execution_count": 56,
     "metadata": {},
     "output_type": "execute_result"
    }
   ],
   "source": [
    "x = rand(10)"
   ]
  },
  {
   "cell_type": "markdown",
   "id": "1317f6d5-ad23-4b1f-9e8e-3fd685bd11b6",
   "metadata": {},
   "source": [
    "여기에서 1,3,4,5 번째 원소만 추출하여길이가 $K=4$ 인 신호 ${\\bf y}$를 만들고 싶다. "
   ]
  },
  {
   "cell_type": "code",
   "execution_count": 57,
   "id": "5bf0ac07-06b3-49b8-a7c6-f89e9bae28a3",
   "metadata": {},
   "outputs": [
    {
     "data": {
      "text/plain": [
       "4-element Vector{Float64}:\n",
       " 0.03235208758206609\n",
       " 0.5795228508497553\n",
       " 0.682832351742401\n",
       " 0.64422613488741"
      ]
     },
     "execution_count": 57,
     "metadata": {},
     "output_type": "execute_result"
    }
   ],
   "source": [
    "y = x[[1,3,4,5]]"
   ]
  },
  {
   "cell_type": "markdown",
   "id": "85ad1bb4-3186-450b-be4a-71faeec99f6e",
   "metadata": {},
   "source": [
    "이 과정은 아래와 같이 수행할 수도 있다."
   ]
  },
  {
   "cell_type": "code",
   "execution_count": 58,
   "id": "761a6509-0a8b-41f3-a773-cffb681799f8",
   "metadata": {},
   "outputs": [
    {
     "data": {
      "text/plain": [
       "4×10 Matrix{Int64}:\n",
       " 1  0  0  0  0  0  0  0  0  0\n",
       " 0  0  1  0  0  0  0  0  0  0\n",
       " 0  0  0  1  0  0  0  0  0  0\n",
       " 0  0  0  0  1  0  0  0  0  0"
      ]
     },
     "execution_count": 58,
     "metadata": {},
     "output_type": "execute_result"
    }
   ],
   "source": [
    "Φ= [1 0 0 0 0 0 0 0 0 0\n",
    "    0 0 1 0 0 0 0 0 0 0\n",
    "    0 0 0 1 0 0 0 0 0 0\n",
    "    0 0 0 0 1 0 0 0 0 0]"
   ]
  },
  {
   "cell_type": "code",
   "execution_count": 59,
   "id": "472e43d3-3a54-458f-a2cc-5c73a0ceb973",
   "metadata": {},
   "outputs": [
    {
     "data": {
      "text/plain": [
       "4-element Vector{Float64}:\n",
       " 0.03235208758206609\n",
       " 0.5795228508497553\n",
       " 0.682832351742401\n",
       " 0.64422613488741"
      ]
     },
     "execution_count": 59,
     "metadata": {},
     "output_type": "execute_result"
    }
   ],
   "source": [
    "Φ*x"
   ]
  },
  {
   "cell_type": "markdown",
   "id": "11d0dfe3-307f-464a-8d63-9d6ce44f793b",
   "metadata": {},
   "source": [
    "즉 적당한 $K\\times N$ selection matrix를 선언하여 subsampling을 수행할 수 있다. 이때 매트릭스 ${\\bf \\Phi}$를 subsampling matrix 혹은 sparse sampling matrix 라고 부른다. "
   ]
  },
  {
   "cell_type": "markdown",
   "id": "b5a9f2cc-6a60-44f8-882f-c1adc6870bcc",
   "metadata": {},
   "source": [
    "# 12.4.2 Compressed LS Estimator "
   ]
  },
  {
   "cell_type": "code",
   "execution_count": 99,
   "id": "483f97c6-93ea-4250-9801-741d6ae0b511",
   "metadata": {},
   "outputs": [
    {
     "data": {
      "text/plain": [
       "10×10 Matrix{ComplexF64}:\n",
       " 1.0+0.0im        1.0+0.0im          …        1.0+0.0im\n",
       " 1.0+0.0im   0.809017+0.587785im         0.809017-0.587785im\n",
       " 1.0+0.0im   0.309017+0.951057im         0.309017-0.951057im\n",
       " 1.0+0.0im  -0.309017+0.951057im        -0.309017-0.951057im\n",
       " 1.0+0.0im  -0.809017+0.587785im        -0.809017-0.587785im\n",
       " 1.0+0.0im       -1.0+1.22465e-16im  …       -1.0+1.10218e-15im\n",
       " 1.0+0.0im  -0.809017-0.587785im        -0.809017+0.587785im\n",
       " 1.0+0.0im  -0.309017-0.951057im        -0.309017+0.951057im\n",
       " 1.0+0.0im   0.309017-0.951057im         0.309017+0.951057im\n",
       " 1.0+0.0im   0.809017-0.587785im         0.809017+0.587785im"
      ]
     },
     "execution_count": 99,
     "metadata": {},
     "output_type": "execute_result"
    }
   ],
   "source": [
    "N = 10\n",
    "V = [i*j for i in 0:(N-1) for j in 0:(N-1)] |> \n",
    "    x -> reshape(x,(N,N)) .|> \n",
    "    x -> exp(im * (2π/N) * x) "
   ]
  },
  {
   "cell_type": "code",
   "execution_count": 100,
   "id": "28d53404-47d7-4f2e-aff5-7c5a898a276f",
   "metadata": {},
   "outputs": [
    {
     "data": {
      "text/plain": [
       "100×10 Matrix{ComplexF64}:\n",
       " 1.0+0.0im        1.0+0.0im          …        1.0+0.0im\n",
       " 1.0+0.0im   0.809017+0.587785im         0.809017-0.587785im\n",
       " 1.0+0.0im   0.309017+0.951057im         0.309017-0.951057im\n",
       " 1.0+0.0im  -0.309017+0.951057im        -0.309017-0.951057im\n",
       " 1.0+0.0im  -0.809017+0.587785im        -0.809017-0.587785im\n",
       " 1.0+0.0im       -1.0+1.22465e-16im  …       -1.0+1.10218e-15im\n",
       " 1.0+0.0im  -0.809017-0.587785im        -0.809017+0.587785im\n",
       " 1.0+0.0im  -0.309017-0.951057im        -0.309017+0.951057im\n",
       " 1.0+0.0im   0.309017-0.951057im         0.309017+0.951057im\n",
       " 1.0+0.0im   0.809017-0.587785im         0.809017+0.587785im\n",
       " 1.0+0.0im   0.809017-0.587785im     …   0.809017+0.587785im\n",
       " 1.0+0.0im        1.0+0.0im                   1.0+0.0im\n",
       " 1.0+0.0im   0.809017+0.587785im         0.809017-0.587785im\n",
       "    ⋮                                ⋱  \n",
       " 1.0+0.0im        1.0+0.0im                   1.0+0.0im\n",
       " 1.0+0.0im   0.809017+0.587785im         0.809017-0.587785im\n",
       " 1.0+0.0im   0.809017+0.587785im     …   0.809017-0.587785im\n",
       " 1.0+0.0im   0.309017+0.951057im         0.309017-0.951057im\n",
       " 1.0+0.0im  -0.309017+0.951057im        -0.309017-0.951057im\n",
       " 1.0+0.0im  -0.809017+0.587785im        -0.809017-0.587785im\n",
       " 1.0+0.0im       -1.0-1.11022e-16im          -1.0+2.27596e-15im\n",
       " 1.0+0.0im  -0.809017-0.587785im     …  -0.809017+0.587785im\n",
       " 1.0+0.0im  -0.309017-0.951057im        -0.309017+0.951057im\n",
       " 1.0+0.0im   0.309017-0.951057im         0.309017+0.951057im\n",
       " 1.0+0.0im   0.809017-0.587785im         0.809017+0.587785im\n",
       " 1.0+0.0im        1.0+0.0im                   1.0+0.0im"
      ]
     },
     "execution_count": 100,
     "metadata": {},
     "output_type": "execute_result"
    }
   ],
   "source": [
    "G = columnwise_kron(conj(V),V)"
   ]
  },
  {
   "cell_type": "markdown",
   "id": "a582d64c-708a-49a2-b45a-f05c9362177f",
   "metadata": {},
   "source": [
    "`-` 방법1"
   ]
  },
  {
   "cell_type": "code",
   "execution_count": 101,
   "id": "02c05239-1edf-423e-831f-87a41749d4f3",
   "metadata": {},
   "outputs": [
    {
     "data": {
      "text/plain": [
       "10-element Vector{ComplexF64}:\n",
       "    0.25854107856772546 + 2.245922875954761e-20im\n",
       "   0.004743491121735806 - 1.3138893409553828e-18im\n",
       "   0.006946482731189413 - 9.791191432641327e-19im\n",
       "   0.001721693617954179 - 1.9827974128203887e-18im\n",
       "   0.011344167525098774 + 2.6827005818057562e-19im\n",
       " 0.00012662617844242917 - 3.748573865136995e-20im\n",
       "   0.011344167525098762 + 2.7448152053954017e-18im\n",
       "  0.0017216936179541913 - 9.35534609073096e-19im\n",
       "   0.006946482731189404 + 1.954408900185458e-18im\n",
       "   0.004743491121735756 - 2.561030398375897e-18im"
      ]
     },
     "execution_count": 101,
     "metadata": {},
     "output_type": "execute_result"
    }
   ],
   "source": [
    "ĉx = vec(x*x')\n",
    "p̂ = inv(G' * G) * G' * ĉx"
   ]
  },
  {
   "cell_type": "markdown",
   "id": "1e34d2d2-df87-4899-a8f1-cacc4cf430b3",
   "metadata": {},
   "source": [
    "`-` 방법2"
   ]
  },
  {
   "cell_type": "code",
   "execution_count": 106,
   "id": "bcf1d853-ec46-4bd6-b22f-47a7e7e64005",
   "metadata": {},
   "outputs": [
    {
     "data": {
      "text/plain": [
       "10-element Vector{ComplexF64}:\n",
       "   3.759462826821233 + 0.0im\n",
       "   2.765185174577697 - 2.0816681711721685e-17im\n",
       "   1.077337414764992 + 2.7755575615628914e-17im\n",
       " 0.11594812606807317 + 2.0816681711721685e-17im\n",
       " 0.08838298603932843 + 3.903127820947816e-17im\n",
       " 0.32863702713833354 + 4.622231866529366e-33im\n",
       " 0.08838298603932859 + 9.540979117872439e-18im\n",
       "  0.1159481260680729 - 2.0816681711721685e-17im\n",
       "  1.0773374147649915 + 0.0im\n",
       "  2.7651851745776965 - 2.0816681711721685e-17im"
      ]
     },
     "execution_count": 106,
     "metadata": {},
     "output_type": "execute_result"
    }
   ],
   "source": [
    "ĉy = vec(y*y')\n",
    "p̂ = (kron(Φ,Φ)*G)' * ĉy"
   ]
  }
 ],
 "metadata": {
  "kernelspec": {
   "display_name": "Python 3",
   "language": "python",
   "name": "python3"
  },
  "language_info": {
   "codemirror_mode": {
    "name": "ipython",
    "version": 3
   },
   "file_extension": ".py",
   "mimetype": "text/x-python",
   "name": "python",
   "nbconvert_exporter": "python",
   "pygments_lexer": "ipython3",
   "version": "3.8.16"
  }
 },
 "nbformat": 4,
 "nbformat_minor": 5
}
