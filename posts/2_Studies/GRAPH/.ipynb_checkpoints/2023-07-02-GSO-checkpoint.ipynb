{
 "cells": [
  {
   "cell_type": "raw",
   "id": "bfd574aa-803a-43b7-8d72-db4ccefce35e",
   "metadata": {
    "id": "cac470df-29e7-4148-9bbd-d8b9a32fa570",
    "tags": []
   },
   "source": [
    "---\n",
    "title: \"Graph Shift Operator\"\n",
    "author: \"SEOYEON CHOI\"\n",
    "date: \"2023-07-02\"\n",
    "categories:\n",
    "  - Graph Shift Operator\n",
    "---"
   ]
  },
  {
   "cell_type": "markdown",
   "id": "02e7c6a6-408a-45e5-a91e-0a13a7c9c8b5",
   "metadata": {},
   "source": [
    "# Conjugate"
   ]
  },
  {
   "cell_type": "markdown",
   "id": "8616c480-5091-4a61-b790-0262d6955dfa",
   "metadata": {},
   "source": [
    "$E(y)=0$을 가정하고, $y = (y_1,y_2)$의 벡터를 가정했을 때,\n",
    "\n",
    "$Cov(y) = \\begin{pmatrix} cov(y_1,y_2) & cov(y_1,y_2) \\\\ cov(y_2,y_1) & cov(y_2,y_2) \\end{pmatrix}$\n",
    "\n",
    "- $cov(y_1,y_1) = V(y_1) = E(y_1 - \\mu_1)^2  = E(y_1)^2 (\\therefore \\mu = 0)$\n",
    "- $cov(y_2,y_1) = E(y_2 - \\mu_2)E(y_1 - \\mu_1)  = E(y_2-y_1)$\n",
    "- $cov(y_2,y_2) = V(y_2) = E(y_2 - \\mu_2)^2  = E(y_2)^2 (\\therefore \\mu = 0)$\n",
    "- $cov(y_1,y_2) = E(y_1 - \\mu_1)E(y_2 - \\mu_2)  = E(y_1-y_2)$\n",
    "\n",
    "$= E \\begin{pmatrix} y_1^2 & y_1y_2 \\\\ y_2 y_1 & y_2^2 \\end{pmatrix} = E(y y^\\top)$\n",
    "\n",
    "$y = (y_q y_2)^\\top$\n",
    "\n",
    "$y^\\top = (y_1,y_2)$\n",
    "\n",
    "$y y^\\top = \\begin{bmatrix} y1 \\\\ y_2 \\end{bmatrix} \\begin{bmatrix} y2 & y_2 \\end{bmatrix} = \\begin{bmatrix} y_1^2 & y_1y_2 \\\\ y_2y_1 & y_2^2 \\end{bmatrix}$\n",
    "\n",
    "$cov(y) = E(y t^\\top) = E(y y^H)$ -> **확률변수가 복소수일 경우 가정 가능하다**\n",
    "\n",
    "$cov(y\\text{의 } a \\text{만큼 평행이동}) = cov(y\\text{의 } b \\text{만큼 평행이동})$\n",
    "\n",
    "$cov((S^ay)(S^b y)^\\top) = cov((S^c y)(S^d y)^\\top)$\n",
    "\n",
    "- 결국, normal GSO가 주어질 때, $y$는 약정상성을 S에 대해 가지고 있다는 말이 된다.\n",
    "- 정상성 조건: 평균, 분산이 일정할때, 자기 공분산이 시차 t에만 의존할 때"
   ]
  },
  {
   "cell_type": "code",
   "execution_count": null,
   "id": "e7366bc1-f20c-4484-a88a-ef26eb7422fd",
   "metadata": {},
   "outputs": [],
   "source": []
  }
 ],
 "metadata": {
  "kernelspec": {
   "display_name": "Python 3",
   "language": "python",
   "name": "python3"
  },
  "language_info": {
   "codemirror_mode": {
    "name": "ipython",
    "version": 3
   },
   "file_extension": ".py",
   "mimetype": "text/x-python",
   "name": "python",
   "nbconvert_exporter": "python",
   "pygments_lexer": "ipython3",
   "version": "3.8.0"
  }
 },
 "nbformat": 4,
 "nbformat_minor": 5
}
