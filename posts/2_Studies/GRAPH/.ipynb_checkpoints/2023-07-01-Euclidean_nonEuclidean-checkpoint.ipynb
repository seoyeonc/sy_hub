{
 "cells": [
  {
   "cell_type": "raw",
   "id": "b232d1f7-88b5-42df-80d7-d1532bc2573f",
   "metadata": {
    "id": "cac470df-29e7-4148-9bbd-d8b9a32fa570",
    "tags": []
   },
   "source": [
    "---\n",
    "title: \"Non-Euclidean vs Euclidean\"\n",
    "author: \"SEOYEON CHOI\"\n",
    "date: \"2023-07-01\"\n",
    "bibliography: ref.bib\n",
    "categories:\n",
    "  - Non-Euclidean\n",
    "  - Euclidean\n",
    "  - Manifold\n",
    "---"
   ]
  },
  {
   "cell_type": "markdown",
   "id": "fca0c10e-6262-4eb0-9119-0af2b5e90f0b",
   "metadata": {},
   "source": [
    "# First, check the definition of regular graph"
   ]
  },
  {
   "cell_type": "markdown",
   "id": "df4dbd98-5e43-4cff-9c69-ef0c5fa0eea4",
   "metadata": {},
   "source": [
    "[Regular Graph?](https://seoyeonc.github.io/sy_hub/posts/2_Studies/GRAPH/2023-06-30-Regular%20Graph.html)"
   ]
  },
  {
   "cell_type": "markdown",
   "id": "1cac86f6-29f3-44f0-8777-b56fd1e59a88",
   "metadata": {},
   "source": [
    "> Summary\n",
    "\n",
    "- Euclidean data\n",
    "    - underlying function이 regular graph로 정의가 가능한 data\n",
    "    - underline(domain)이 euclidean domain에 위치한 데이터(x축, 1d-grid, 2d-grid 등)\n",
    "    - euclidean distance로 계산할 수 있는 data\n",
    "- Non-Euclidean data\n",
    "    - underlying function이 regular graph로 정의가 가능하지 않은 data\n",
    "    - underline(domain)이 non-euclidean domain에 위치한 데이터(곡선, 곡면 등)\n",
    "    - euclidean distance calculation이 not reasonable한 data"
   ]
  },
  {
   "cell_type": "markdown",
   "id": "c32c8281-ba15-4338-b7a6-d65207f8589c",
   "metadata": {},
   "source": [
    "::: {.callout-important}\n",
    "# Graph vs Manifold\n",
    "\n",
    "- 굳이 포함관계를 따지자면, Non-Euclidean > Graph > Manifold\n",
    "- Non-Euclidean\n",
    "  - Graph\n",
    "    - 거리는 Edge 나 weight 로 정의함.\n",
    "      - Manifold(ex. swiss roll, 아래 예시 있음!)\n",
    "        1. underline = domain(swiss roll에서 말린 곡면)\n",
    "        2. underlying function = color(swiss roll에서 무지개 색)\n",
    "        3. 유한한 그래프 시그널로 표현 가능\n",
    "            - 무한한 노드에서 realization sample 뽑고,\n",
    "            - 그래프로 가져오려면 distance 정의 수정이 필요하다.\n",
    "              - 수정하는 방법\n",
    "                1. $W_{i,j} = \\begin{cases} \\exp\\left(-\\frac{\\|{\\boldsymbol v}_i -{\\boldsymbol v}_j\\|^2}{2\\theta^2}\\right) & \\|{\\boldsymbol v}_i -{\\boldsymbol v}_j\\|^2 \\le \\kappa \\\\ 0 & o.w\\end{cases}$를 사용하여 가까운 것만 거리 계산하도록 하기, 곡선은 유클리디안 거리를 semi 사용하고(이 식에서 $\\kappa$로 먼 거리는 자르니까), 곡면은 하버사인 거리를 사용.\n",
    "                2. similarity(유사도) 따지기(ex. 몇 번 건너서 다음 노드로 가는지 등)\n",
    ":::"
   ]
  },
  {
   "cell_type": "markdown",
   "id": "13dd7e20-1c7d-49b1-9d60-72fec983b3eb",
   "metadata": {},
   "source": [
    "# Import"
   ]
  },
  {
   "cell_type": "code",
   "execution_count": 17,
   "id": "95185116-a5b8-49c4-993e-f53181ff54b2",
   "metadata": {},
   "outputs": [],
   "source": [
    "import numpy as np\n",
    "import networkx as nx\n",
    "import matplotlib.pyplot as plt"
   ]
  },
  {
   "cell_type": "markdown",
   "id": "e39a56dd-9511-4215-81cb-7330cd373738",
   "metadata": {},
   "source": [
    "# Non-Euclidean vs Euclidean"
   ]
  },
  {
   "cell_type": "markdown",
   "id": "de858e7b-a643-4cbf-94a5-bdfe0af2e12c",
   "metadata": {},
   "source": [
    "## Euclidean"
   ]
  },
  {
   "cell_type": "markdown",
   "id": "654a2e58-0219-4029-964a-ff7c9160d8ff",
   "metadata": {},
   "source": [
    "### Ex1) 1D grid"
   ]
  },
  {
   "cell_type": "markdown",
   "id": "93a49a97-249e-4e96-b253-de0d92c71500",
   "metadata": {},
   "source": [
    "> Text, etc."
   ]
  },
  {
   "cell_type": "markdown",
   "id": "dbebee93-5213-4423-bd95-c12af49ec4fb",
   "metadata": {},
   "source": [
    "![Figure: Sentence, word, sound: 1D Euclidean domains. This image is sourced from the  [PAM Workshop “New Deep Learning Techniques” Feb 7th 2017](http://helper.ipam.ucla.edu/publications/dlt2018/dlt2018_14506.pdf)](Figs/1dgrid.png){width=70%}"
   ]
  },
  {
   "cell_type": "code",
   "execution_count": 192,
   "id": "02ccfade-0cf9-439e-8655-0079255c25df",
   "metadata": {
    "tags": []
   },
   "outputs": [],
   "source": [
    "w=np.zeros((5,5))\n",
    "for i in range(5):\n",
    "    for j in range(5):\n",
    "        if i==j :\n",
    "            w[i,j] = 0\n",
    "        elif i-j == 1 : \n",
    "            w[i,j] = 1"
   ]
  },
  {
   "cell_type": "code",
   "execution_count": 193,
   "id": "d51325f6-57aa-4ae6-af0a-65119e92c851",
   "metadata": {},
   "outputs": [],
   "source": [
    "lst = []\n",
    "for i in range(5):\n",
    "    for j in range(5):\n",
    "        if w[i,j] == 1:\n",
    "            lst.append([i,j])"
   ]
  },
  {
   "cell_type": "code",
   "execution_count": 194,
   "id": "a7a2f75c-6873-48df-a1f8-b063a67de22c",
   "metadata": {},
   "outputs": [],
   "source": [
    "d= w.sum(axis=1)\n",
    "D= np.diag(d)"
   ]
  },
  {
   "cell_type": "markdown",
   "id": "58ae88cd-7966-4757-beb2-7bc37ca223de",
   "metadata": {},
   "source": [
    "::: {.callout-note}\n",
    "모든 Degree가 동일한, 특히 단위행렬로 나오는(Regular graph인) 유클리디안 데이터\n",
    ":::"
   ]
  },
  {
   "cell_type": "code",
   "execution_count": 195,
   "id": "3b7f2086-8271-4612-b16a-bfe18688af3f",
   "metadata": {},
   "outputs": [
    {
     "data": {
      "text/plain": [
       "array([[0., 0., 0., 0., 0.],\n",
       "       [0., 1., 0., 0., 0.],\n",
       "       [0., 0., 1., 0., 0.],\n",
       "       [0., 0., 0., 1., 0.],\n",
       "       [0., 0., 0., 0., 1.]])"
      ]
     },
     "execution_count": 195,
     "metadata": {},
     "output_type": "execute_result"
    }
   ],
   "source": [
    "D"
   ]
  },
  {
   "cell_type": "code",
   "execution_count": 196,
   "id": "72a04397-c3e7-47bc-8898-53156cecc13c",
   "metadata": {},
   "outputs": [],
   "source": [
    "G = nx.Graph()"
   ]
  },
  {
   "cell_type": "code",
   "execution_count": 197,
   "id": "82f4226e-25e3-4212-afaa-35ab6b0c7ad0",
   "metadata": {},
   "outputs": [],
   "source": [
    "G.add_edges_from(np.array(lst))"
   ]
  },
  {
   "cell_type": "code",
   "execution_count": 198,
   "id": "e5acc999-31d1-4eb8-b5ee-fa2f9953ff3f",
   "metadata": {},
   "outputs": [
    {
     "data": {
      "image/png": "[encoded data removed]",
      "text/plain": [
       "<Figure size 1440x360 with 1 Axes>"
      ]
     },
     "metadata": {},
     "output_type": "display_data"
    }
   ],
   "source": [
    "plt.figure(figsize=(20, 5)) \n",
    "nx.draw_networkx(G, with_labels=True, font_weight='bold', node_color='orange', node_size=1500, font_color='white', font_size=30,width=5)"
   ]
  },
  {
   "cell_type": "markdown",
   "id": "5a59dca4-7480-4bd2-a8c4-11ae5131df20",
   "metadata": {},
   "source": [
    "### Ex2) 2d grids"
   ]
  },
  {
   "cell_type": "markdown",
   "id": "1b05920e-e214-4fef-b089-cdfd3de34117",
   "metadata": {},
   "source": [
    "> Image, etc."
   ]
  },
  {
   "cell_type": "markdown",
   "id": "c08a3fea-edac-4cb1-8bbe-8192e406ee7a",
   "metadata": {},
   "source": [
    "![Figure: Image, volume, video: 2D, 3D, 2D+1 Euclidean domains. This image is sourced from the [PAM Workshop “New Deep Learning Techniques” Feb 7th 2017](http://helper.ipam.ucla.edu/publications/dlt2018/dlt2018_14506.pdf)](Figs/2dgrid.png){width=80%}"
   ]
  },
  {
   "cell_type": "code",
   "execution_count": 221,
   "id": "aec84ec4-2a3c-493b-a4a5-77480081d630",
   "metadata": {
    "tags": []
   },
   "outputs": [],
   "source": [
    "w = np.ones((4, 4))\n",
    "for i in range(4):\n",
    "    for j in range(4):\n",
    "        if i==j :\n",
    "            w[i,j] = 0"
   ]
  },
  {
   "cell_type": "code",
   "execution_count": 222,
   "id": "b91fedf1-7dc7-4427-a5d7-2f22f73efa9c",
   "metadata": {},
   "outputs": [],
   "source": [
    "lst = []\n",
    "for i in range(4):\n",
    "    for j in range(4):\n",
    "        if w[i,j] == 1:\n",
    "            lst.append([i,j])"
   ]
  },
  {
   "cell_type": "code",
   "execution_count": 223,
   "id": "e7839733-3eb8-4584-9aba-67d6635a6f27",
   "metadata": {},
   "outputs": [],
   "source": [
    "d= w.sum(axis=1)\n",
    "D= np.diag(d)"
   ]
  },
  {
   "cell_type": "markdown",
   "id": "9a2efc47-6d86-4655-9692-61374977283d",
   "metadata": {},
   "source": [
    "::: {.callout-note}\n",
    "모든 Degree가 동일하여 $D = 3I$로 표현되는(Regular graph인) 유클리디안 데이터\n",
    ":::"
   ]
  },
  {
   "cell_type": "code",
   "execution_count": 224,
   "id": "8d29c529-78cd-44a2-aa5b-4d7f3d406fd3",
   "metadata": {},
   "outputs": [
    {
     "data": {
      "text/plain": [
       "array([[3., 0., 0., 0.],\n",
       "       [0., 3., 0., 0.],\n",
       "       [0., 0., 3., 0.],\n",
       "       [0., 0., 0., 3.]])"
      ]
     },
     "execution_count": 224,
     "metadata": {},
     "output_type": "execute_result"
    }
   ],
   "source": [
    "D"
   ]
  },
  {
   "cell_type": "code",
   "execution_count": 225,
   "id": "f45d75a7-418e-488d-9ef4-0702001b1c61",
   "metadata": {},
   "outputs": [],
   "source": [
    "G = nx.Graph()"
   ]
  },
  {
   "cell_type": "code",
   "execution_count": 226,
   "id": "055fdad1-59ba-4028-8730-408f7afa3229",
   "metadata": {},
   "outputs": [],
   "source": [
    "G.add_edges_from(np.array(lst))"
   ]
  },
  {
   "cell_type": "code",
   "execution_count": 227,
   "id": "c63e6a92-9ed0-4e73-876b-557e5f65068c",
   "metadata": {},
   "outputs": [
    {
     "data": {
      "image/png": "[encoded data removed]",
      "text/plain": [
       "<Figure size 720x720 with 1 Axes>"
      ]
     },
     "metadata": {},
     "output_type": "display_data"
    }
   ],
   "source": [
    "plt.figure(figsize=(10, 10)) \n",
    "nx.draw_networkx(G, with_labels=True, font_weight='bold', node_color='orange', node_size=1500, font_color='white', font_size=30,width=5)"
   ]
  },
  {
   "cell_type": "markdown",
   "id": "4a8a7c85-2e25-4021-b9ea-7cc1ae713f74",
   "metadata": {},
   "source": [
    "## Non-Euclidean"
   ]
  },
  {
   "cell_type": "markdown",
   "id": "c39ad613-d4cb-4372-8b09-1a1ba0cb454c",
   "metadata": {},
   "source": [
    "### Ex3) Different Weights"
   ]
  },
  {
   "cell_type": "markdown",
   "id": "e14f4c03-cc23-4d2a-be38-37afdf35386e",
   "metadata": {},
   "source": [
    "> Weight 같다고 가정하고 그래프 시각화"
   ]
  },
  {
   "cell_type": "code",
   "execution_count": 2,
   "id": "0d38dc0a-ecca-4891-bb18-a68225e9ef08",
   "metadata": {},
   "outputs": [],
   "source": [
    "w=np.zeros((5,5))\n",
    "for i in range(5):\n",
    "    for j in range(5):\n",
    "        if i==j :\n",
    "            w[i,j] = 0\n",
    "        elif i!=j: \n",
    "            w[i,j] = 1"
   ]
  },
  {
   "cell_type": "code",
   "execution_count": 3,
   "id": "b770bac1-a41b-4771-83ef-852a81e2d0b8",
   "metadata": {},
   "outputs": [],
   "source": [
    "lst = []\n",
    "for i in range(5):\n",
    "    for j in range(5):\n",
    "        if w[i,j] == 1:\n",
    "            lst.append([i,j])"
   ]
  },
  {
   "cell_type": "code",
   "execution_count": 4,
   "id": "4c97b83b-070f-4eaa-87a7-2c8f746032de",
   "metadata": {},
   "outputs": [],
   "source": [
    "G = nx.Graph()"
   ]
  },
  {
   "cell_type": "code",
   "execution_count": 5,
   "id": "410982b3-0fe8-46c3-a42f-2060e2a4ed68",
   "metadata": {},
   "outputs": [],
   "source": [
    "G.add_edges_from(np.array(lst))"
   ]
  },
  {
   "cell_type": "code",
   "execution_count": 9,
   "id": "56891a75-c7e9-4e6a-acef-0421a1766fed",
   "metadata": {},
   "outputs": [
    {
     "data": {
      "image/png": "[encoded data removed]",
      "text/plain": [
       "<Figure size 720x720 with 1 Axes>"
      ]
     },
     "metadata": {},
     "output_type": "display_data"
    }
   ],
   "source": [
    "plt.figure(figsize=(10, 10)) \n",
    "nx.draw_networkx(G, with_labels=True, font_weight='bold', node_color='orange', node_size=1500, font_color='white', font_size=30,width=5)"
   ]
  },
  {
   "cell_type": "code",
   "execution_count": 10,
   "id": "5d8f5ea4-040c-41cf-bb51-49274292e988",
   "metadata": {},
   "outputs": [],
   "source": [
    "pi=np.pi\n",
    "ang=np.linspace(-pi,pi-2*pi/5,5)\n",
    "r=5+np.cos(np.linspace(0,12*pi,5))\n",
    "vx=r*np.cos(ang)\n",
    "vy=r*np.sin(ang)\n",
    "f1=10*np.sin(np.linspace(0,6*pi,5))\n",
    "f = f1 + np.random.normal(5)"
   ]
  },
  {
   "cell_type": "code",
   "execution_count": 11,
   "id": "3baa2185-d8ea-4836-b547-eddbd2a66dae",
   "metadata": {},
   "outputs": [],
   "source": [
    "D = np.zeros([5,5])\n",
    "locations = np.stack([vx, vy],axis=1)\n",
    "for i in range(5):\n",
    "    for j in range(i,5):\n",
    "        D[i,j]=np.linalg.norm(locations[i]-locations[j])\n",
    "D = D + D.T"
   ]
  },
  {
   "cell_type": "code",
   "execution_count": 12,
   "id": "b1ad9c09-2798-4121-89ed-7e6d1d6ef698",
   "metadata": {},
   "outputs": [
    {
     "data": {
      "text/plain": [
       "array([[ 0.        ,  6.0964895 , 11.4126782 ,  9.53062515,  7.05342303],\n",
       "       [ 6.0964895 ,  0.        ,  6.0964895 ,  7.60845213,  9.53062515],\n",
       "       [11.4126782 ,  6.0964895 ,  0.        ,  6.0964895 , 11.4126782 ],\n",
       "       [ 9.53062515,  7.60845213,  6.0964895 ,  0.        ,  6.0964895 ],\n",
       "       [ 7.05342303,  9.53062515, 11.4126782 ,  6.0964895 ,  0.        ]])"
      ]
     },
     "execution_count": 12,
     "metadata": {},
     "output_type": "execute_result"
    }
   ],
   "source": [
    "D"
   ]
  },
  {
   "cell_type": "markdown",
   "id": "1b7d1f84-5335-45b1-92cf-4de65305c3a8",
   "metadata": {},
   "source": [
    "::: {.callout-note}\n",
    "가중치 값이 다 다르게 형성되어 있다. 따라서 $D=kI$형태로도 표현할 수 없어 레귤러 메트릭스의 정의를 충족하지 못하며, 이는 비유클리디안 데이터이다.\n",
    ":::"
   ]
  },
  {
   "cell_type": "markdown",
   "id": "50b048f5-694b-4612-a61f-f2542b0217fe",
   "metadata": {},
   "source": [
    "### Ex3) Non-Euclidean data with Non-Euclidean domain"
   ]
  },
  {
   "cell_type": "markdown",
   "id": "a4a5d81c-5527-4faf-a0f2-3e330ad7e362",
   "metadata": {},
   "source": [
    "> degree matrix가 단위행렬이 아니어서 레귤러 그래프가 아닌 그래프"
   ]
  },
  {
   "cell_type": "markdown",
   "id": "e5905eeb-eb68-4fa0-83b4-9ef40237e6aa",
   "metadata": {},
   "source": [
    "#### 1. 3D shape, Manifold"
   ]
  },
  {
   "cell_type": "markdown",
   "id": "263d8919-c3a7-4800-a40b-b7e2060b5f57",
   "metadata": {},
   "source": [
    "> 도메인이 표면(컵)이며, underlying function 이 regular graph로 정의되지 않는다."
   ]
  },
  {
   "cell_type": "markdown",
   "id": "dee2b98d-b3c9-494f-a830-3ca0f45fd028",
   "metadata": {},
   "source": [
    "[reference](https://graphics.stanford.edu/courses/cs468-20-fall/)"
   ]
  },
  {
   "cell_type": "markdown",
   "id": "8ac7494e-0744-49e0-b4c8-c56f5c44036f",
   "metadata": {},
   "source": [
    "![Figure: Surface (non-Euclid data). This image is sourced from the (Fall 2020 course website for Non-Euclidean Methods in Machine Learning (CS468), Stanford University)](Figs/surfaces.png){width=80%}"
   ]
  },
  {
   "cell_type": "markdown",
   "id": "bed0fc98-6654-4b33-ba71-928de77b6bb6",
   "metadata": {},
   "source": [
    "#### 2. 3D shape, Manifold"
   ]
  },
  {
   "cell_type": "markdown",
   "id": "46597fc3-e654-4d3b-abe6-75ddf7f29d23",
   "metadata": {},
   "source": [
    "> 도메인이 구로 형성되어 있고, graph로 인지 시, underlying function 이 색(파란색)으로 볼 수 있고, 다른 색으로 구성된 것은 $\\eta$로 볼 수 있고, regular graph로 정의되지 않는다."
   ]
  },
  {
   "cell_type": "markdown",
   "id": "361f7771-e6d0-437d-b585-66b77b12dbff",
   "metadata": {},
   "source": [
    "*간단 $\\eta$ 정의 review = noise 이지만, 특정 i에서 값이 큰 nois를 갖음*"
   ]
  },
  {
   "cell_type": "markdown",
   "id": "c7a95d8f-9980-44a4-a994-cc2c4f7e023b",
   "metadata": {},
   "source": [
    "![Figure: Distributions on 3D shapes (non-Euclid data). This image is sourced from the [Fall 2020 course website for Non-Euclidean Methods in Machine Learning (CS468), Stanford University](https://graphics.stanford.edu/courses/cs468-20-fall/)](Figs/distributions.png){width=80%}"
   ]
  },
  {
   "cell_type": "markdown",
   "id": "556c4fe3-40d0-49d5-9447-9d661e93abfc",
   "metadata": {},
   "source": [
    "#### 3. 3D shape, Manifold"
   ]
  },
  {
   "cell_type": "markdown",
   "id": "5a6b5cba-778b-4a07-a054-a47c541f290f",
   "metadata": {},
   "source": [
    "> 도메인이 표면(고양이)이며, underlying function 이 색이라고 할 수 있다."
   ]
  },
  {
   "cell_type": "markdown",
   "id": "9be09abd-5514-41a1-b007-87044eb65530",
   "metadata": {},
   "source": [
    "![Figure: Functions on manifolds (non-Euclid data). This image is sourced from the [Fall 2020 course website for Non-Euclidean Methods in Machine Learning (CS468), Stanford University](https://graphics.stanford.edu/courses/cs468-20-fall/)](Figs/functions_on_manifolds.png){width=80%}"
   ]
  },
  {
   "cell_type": "markdown",
   "id": "b1e49797-74a0-4635-84cb-e1cd0d3097f1",
   "metadata": {},
   "source": [
    "#### 4. 3D shape, Manifold"
   ]
  },
  {
   "cell_type": "markdown",
   "id": "1cd38adf-f836-41d2-b16f-1babf34a13d7",
   "metadata": {},
   "source": [
    "> 도메인이 표면이며, underlying function 이 색이다. graph로 볼 때 regular graph로 정의되지 않는다."
   ]
  },
  {
   "cell_type": "markdown",
   "id": "37459b2e-3eda-4c1d-822d-bd0fa9ba7d9b",
   "metadata": {},
   "source": [
    "[reference](https://graphics.stanford.edu/courses/cs468-20-fall/)"
   ]
  },
  {
   "cell_type": "markdown",
   "id": "0f87cb18-0da2-4f07-a563-c7a05cdb7e74",
   "metadata": {},
   "source": [
    "![Figure: General manifolds (non-Euclid data). This image is sourced from the (Fall 2020 course website for Non-Euclidean Methods in Machine Learning (CS468), Stanford University)](Figs/general_manifolds.png){width=80%}"
   ]
  },
  {
   "cell_type": "markdown",
   "id": "126a10d0-8143-4fc6-8b02-1ab241ebbc67",
   "metadata": {},
   "source": [
    "#### 5. Graph"
   ]
  },
  {
   "cell_type": "markdown",
   "id": "a573ee19-f510-47d0-baf6-889aa9b78c39",
   "metadata": {},
   "source": [
    "> 도메인이 노드인 graph. underlying function 은 정의할 수 없지만 굳이 따지자면 Classification work. 신경망 모양.."
   ]
  },
  {
   "cell_type": "markdown",
   "id": "fa591d0b-6273-4293-94ca-decbd8f67853",
   "metadata": {},
   "source": [
    "[reference](https://graphics.stanford.edu/courses/cs468-20-fall/)"
   ]
  },
  {
   "cell_type": "markdown",
   "id": "62e64a45-b1d6-4527-ad90-23bea47747af",
   "metadata": {},
   "source": [
    "![Figure: Graphs networks (non-Euclid data). This image is sourced from the [Fall 2020 course website for Non-Euclidean Methods in Machine Learning (CS468), Stanford University]](Figs/graphs_networks.png){width=80%}"
   ]
  },
  {
   "cell_type": "markdown",
   "id": "5dd9cc33-5e4c-4156-b9d0-ecfaaf28a965",
   "metadata": {},
   "source": [
    "#### 6. Graph(Manifold?)"
   ]
  },
  {
   "cell_type": "markdown",
   "id": "8e2a3f88-c94e-40db-b96d-29404da9f3e0",
   "metadata": {},
   "source": [
    "> 위의 정의 참고, 노드가 도메인인 graph. 색이 underlying function."
   ]
  },
  {
   "cell_type": "markdown",
   "id": "f051bd48-5dab-440d-b04b-860ab5a58cff",
   "metadata": {},
   "source": [
    "Swiss roll (non-euclid data) from [@das2021nonlinear]"
   ]
  },
  {
   "cell_type": "markdown",
   "id": "629cd365-619c-4ef7-8fad-f455b754ac16",
   "metadata": {},
   "source": [
    "![Figure: Swiss roll (non-euclid data) from @das2021nonlinear](Figs/swiss_roll.png){width=80%}"
   ]
  },
  {
   "cell_type": "markdown",
   "id": "b161be21-b94d-4efa-9b14-e69b6fa98265",
   "metadata": {},
   "source": [
    "#### 7. Graph"
   ]
  },
  {
   "cell_type": "markdown",
   "id": "8c84eeee-ed4e-4d3f-bd71-2ec400690374",
   "metadata": {},
   "source": [
    "> 도메인이 노드이며, classification work"
   ]
  },
  {
   "cell_type": "markdown",
   "id": "17ca777b-a2de-45f4-963c-a07cc07df974",
   "metadata": {},
   "source": [
    "![Figure: Brain network (non-Euclid data) from @ginestet2014statistical](https://www.frontiersin.org/files/Articles/61343/fncom-08-00051-HTML/image_m/fncom-08-00051-g003.jpg){width=80%}"
   ]
  },
  {
   "cell_type": "markdown",
   "id": "d789e936-b1fc-450f-8d15-06e7b3f9ab05",
   "metadata": {},
   "source": [
    "#### 8. Graph Signal"
   ]
  },
  {
   "cell_type": "markdown",
   "id": "5ad542e9-13fd-4b2f-b5fd-8dd5c1cf48a4",
   "metadata": {},
   "source": [
    "> 도메인이 노드(택시 탄 장소)이며, underlying function 이 색(택시 픽업 얼마나 하는지를 나타냄, 많이 할 수록 레드쪽으로) regular graph로 정의되지 않는다. "
   ]
  },
  {
   "cell_type": "markdown",
   "id": "80b0288e-b826-46c9-9f00-cadbccf29145",
   "metadata": {},
   "source": [
    "![Figure: Taxi-pickup distribution in Manhattan (non-euclid data) from @ortega2018graph](Figs/Manhattan.png){width=80%}"
   ]
  },
  {
   "cell_type": "markdown",
   "id": "e01c72b7-257e-40e4-9000-d7ad5ea37cec",
   "metadata": {},
   "source": [
    "#### 9. Graph signal, spatiotemporal data"
   ]
  },
  {
   "cell_type": "markdown",
   "id": "511f63ec-d989-4f2e-bcf6-51d006c01f39",
   "metadata": {},
   "source": [
    "> 도메인이 노드(sequence)이며, underlying function 이 regular graph로 정의되지 않는다.(파란색인 양의 signal, 검정색인 음의 signal로 mapping되어 있는 graph signal의 형태)"
   ]
  },
  {
   "cell_type": "markdown",
   "id": "2c375076-2ea3-4b7a-abe6-66f948f20b17",
   "metadata": {},
   "source": [
    "![Figure: Minnesota road graph (non-euclid data) from Shuman et al.[-@shuman2013emerging]](Figs/Minnesota_road_graph.png){width=80%}"
   ]
  },
  {
   "cell_type": "markdown",
   "id": "9a4ad352-6aa7-4731-aa3f-f68a9e954e7c",
   "metadata": {},
   "source": [
    "#### 10. Graph(Sequence), dynamic spatiotemporal data"
   ]
  },
  {
   "cell_type": "markdown",
   "id": "b2001aad-e00b-4d05-87f4-2c3f23c8bb2a",
   "metadata": {},
   "source": [
    "> 도메인이 표면(사람,motion을 sequence로 전달)이며, dynamic spatiotemporal data"
   ]
  },
  {
   "cell_type": "markdown",
   "id": "dffc7df5-fef2-4e4f-b604-0c08a38002cc",
   "metadata": {},
   "source": [
    "![Figure: 3D point cloud sequence (non-euclid data) from [@ortega2018graph]](Figs/point_cloud.png){width=80%}"
   ]
  },
  {
   "cell_type": "markdown",
   "id": "00ff220a-65fa-4b53-aa49-7fa50e3a9270",
   "metadata": {},
   "source": [
    "# Appendix"
   ]
  },
  {
   "cell_type": "markdown",
   "id": "fdd0f61c-732f-4c2e-846a-29d748f847f9",
   "metadata": {},
   "source": [
    "**Difficulties in analyzing non-Euclidean data**"
   ]
  },
  {
   "cell_type": "markdown",
   "id": "a7f2e62f-85c9-4e3f-ac67-532582a554cd",
   "metadata": {},
   "source": [
    "Analyzing non-Euclidean data is one of the most popular topics in recent years. These are collectively referred to as geometric deep learning [@bronstein2017geometric],[@cao2020comprehensive], graph signal processing [@shuman2013emerging], and graph learning [@xia2021graph]. "
   ]
  },
  {
   "cell_type": "markdown",
   "id": "5d8ed596-1652-435f-9244-575d0420be26",
   "metadata": {},
   "source": [
    "![Figure. Classical CNN (left) and geometric CNN](Figs/gc.png){width=80%}"
   ]
  },
  {
   "cell_type": "code",
   "execution_count": null,
   "id": "0ef6cc0c-1101-48d2-809b-6cca1ee73dfc",
   "metadata": {},
   "outputs": [],
   "source": []
  }
 ],
 "metadata": {
  "kernelspec": {
   "display_name": "Python 3",
   "language": "python",
   "name": "python3"
  },
  "language_info": {
   "codemirror_mode": {
    "name": "ipython",
    "version": 3
   },
   "file_extension": ".py",
   "mimetype": "text/x-python",
   "name": "python",
   "nbconvert_exporter": "python",
   "pygments_lexer": "ipython3",
   "version": "3.8.0"
  }
 },
 "nbformat": 4,
 "nbformat_minor": 5
}
