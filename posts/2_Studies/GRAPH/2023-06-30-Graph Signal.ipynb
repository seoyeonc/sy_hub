{
 "cells": [
  {
   "cell_type": "raw",
   "id": "b232d1f7-88b5-42df-80d7-d1532bc2573f",
   "metadata": {
    "id": "cac470df-29e7-4148-9bbd-d8b9a32fa570",
    "tags": []
   },
   "source": [
    "---\n",
    "title: \"Graph Signal\"\n",
    "author: \"SEOYEON CHOI\"\n",
    "date: \"2023-06-30\"\n",
    "categories:\n",
    "  - Graph\n",
    "---"
   ]
  },
  {
   "cell_type": "markdown",
   "id": "3f009db2-2681-4c1f-a823-a1f29411213b",
   "metadata": {},
   "source": [
    "> Summary"
   ]
  },
  {
   "cell_type": "markdown",
   "id": "b6b573a7-0aa8-4246-a441-5c28b8046489",
   "metadata": {},
   "source": [
    "the given signal is observed on a graph ${\\cal G}:=({\\cal V},{\\cal E})$\n",
    "\n",
    "- ${\\cal V}$ represents the set of nodes\n",
    "- ${\\cal E}$ represents the set of edges (links)\n",
    "- we have observed a real-valued signal, denoted as $y: V \\to \\mathbb{R}$"
   ]
  },
  {
   "cell_type": "markdown",
   "id": "13dd7e20-1c7d-49b1-9d60-72fec983b3eb",
   "metadata": {},
   "source": [
    "# Import"
   ]
  },
  {
   "cell_type": "code",
   "execution_count": 30,
   "id": "95185116-a5b8-49c4-993e-f53181ff54b2",
   "metadata": {},
   "outputs": [],
   "source": [
    "import numpy as np\n",
    "import networkx as nx\n",
    "import matplotlib.pyplot as plt"
   ]
  },
  {
   "cell_type": "markdown",
   "id": "d16e2072-ee8a-4e94-b00a-c6c519362112",
   "metadata": {},
   "source": [
    "# Graph Signal"
   ]
  },
  {
   "cell_type": "markdown",
   "id": "4b8b8a91-d005-45d5-9188-82d79ddd5357",
   "metadata": {},
   "source": [
    "![Figure: A random positive graph signal on the vertices of the Petersen graph. The height of each blue bar represents the signal value at the vertex where the bar originates [@shuman2013emerging]](Figs/graphsignal.png){width=800}"
   ]
  },
  {
   "cell_type": "markdown",
   "id": "c069a839-ac67-412a-baaa-c4904eb39b71",
   "metadata": {},
   "source": [
    "Suppose we have observed a real-valued signal, denoted as $y: V \\to \\mathbb{R}$, from a graph ${\\cal G} = (V, E)$, where $V$ represents the set of nodes and $E$ represents the set of edges. "
   ]
  }
 ],
 "metadata": {
  "kernelspec": {
   "display_name": "Python 3",
   "language": "python",
   "name": "python3"
  },
  "language_info": {
   "codemirror_mode": {
    "name": "ipython",
    "version": 3
   },
   "file_extension": ".py",
   "mimetype": "text/x-python",
   "name": "python",
   "nbconvert_exporter": "python",
   "pygments_lexer": "ipython3",
   "version": "3.8.0"
  }
 },
 "nbformat": 4,
 "nbformat_minor": 5
}
