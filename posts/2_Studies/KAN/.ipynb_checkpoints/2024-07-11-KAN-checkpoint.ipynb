{
 "cells": [
  {
   "cell_type": "raw",
   "id": "349f03b5-cc19-49cc-acf7-2c42c83075e7",
   "metadata": {},
   "source": [
    "---\n",
    "title: \"KAN\"\n",
    "author: \"SEOYEON CHOI\"\n",
    "date: \"2024-07-11\"\n",
    "---"
   ]
  },
  {
   "cell_type": "code",
   "execution_count": null,
   "id": "a3d16c62-2621-4e57-a46a-6323793d7b32",
   "metadata": {},
   "outputs": [],
   "source": []
  }
 ],
 "metadata": {
  "kernelspec": {
   "display_name": "Python 3",
   "language": "python",
   "name": "python3"
  },
  "language_info": {
   "codemirror_mode": {
    "name": "ipython",
    "version": 3
   },
   "file_extension": ".py",
   "mimetype": "text/x-python",
   "name": "python",
   "nbconvert_exporter": "python",
   "pygments_lexer": "ipython3",
   "version": "3.8.0"
  }
 },
 "nbformat": 4,
 "nbformat_minor": 5
}
