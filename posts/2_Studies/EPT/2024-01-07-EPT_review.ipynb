{
 "cells": [
  {
   "cell_type": "raw",
   "id": "51eb6bbc-7646-4a12-a8b9-f7cd8a9c60b1",
   "metadata": {
    "id": "cac470df-29e7-4148-9bbd-d8b9a32fa570",
    "tags": []
   },
   "source": [
    "---\n",
    "title: \"[EPT]Review\"\n",
    "author: \"SEOYEON CHOI\"\n",
    "date: \"2024-01-07\"\n",
    "---"
   ]
  },
  {
   "cell_type": "markdown",
   "id": "f3910c7c-8dc3-4d28-9a4c-8fb983d9e5a7",
   "metadata": {
    "jupyter": {
     "source_hidden": true
    },
    "tags": []
   },
   "source": [
    "ss"
   ]
  }
 ],
 "metadata": {
  "kernelspec": {
   "display_name": "Python 3",
   "language": "python",
   "name": "python3"
  },
  "language_info": {
   "codemirror_mode": {
    "name": "ipython",
    "version": 3
   },
   "file_extension": ".py",
   "mimetype": "text/x-python",
   "name": "python",
   "nbconvert_exporter": "python",
   "pygments_lexer": "ipython3",
   "version": "3.8.0"
  }
 },
 "nbformat": 4,
 "nbformat_minor": 5
}
