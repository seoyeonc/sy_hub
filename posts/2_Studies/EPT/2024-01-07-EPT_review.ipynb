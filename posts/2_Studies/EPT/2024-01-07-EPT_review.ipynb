{
 "cells": [
  {
   "cell_type": "raw",
   "id": "51eb6bbc-7646-4a12-a8b9-f7cd8a9c60b1",
   "metadata": {
    "id": "cac470df-29e7-4148-9bbd-d8b9a32fa570",
    "tags": []
   },
   "source": [
    "---\n",
    "title: \"[EPT]Review(EPT: An R package for ensemble patch transform)\"\n",
    "author: \"SEOYEON CHOI\"\n",
    "date: \"2024-01-07\"\n",
    "---"
   ]
  },
  {
   "cell_type": "markdown",
   "id": "a7cac213-7c69-4f85-a794-24528f89190c",
   "metadata": {},
   "source": [
    "[R](https://cran.r-project.org/web/packages/EPT/EPT.pdf)"
   ]
  },
  {
   "cell_type": "code",
   "execution_count": 1,
   "id": "49afb748-0ec9-4926-9343-fa9242c01377",
   "metadata": {},
   "outputs": [
    {
     "ename": "ERROR",
     "evalue": "Error in library(EPT): there is no package called ‘EPT’\n",
     "output_type": "error",
     "traceback": [
      "Error in library(EPT): there is no package called ‘EPT’\nTraceback:\n",
      "1. library(EPT)"
     ]
    }
   ],
   "source": [
    "install.(EPT)"
   ]
  },
  {
   "cell_type": "code",
   "execution_count": null,
   "id": "dae1daa4-94dc-432c-9848-afa2ea4e4334",
   "metadata": {},
   "outputs": [],
   "source": []
  },
  {
   "cell_type": "markdown",
   "id": "b8d55e49-a9e6-400f-811f-ff0e5c76dc40",
   "metadata": {},
   "source": [
    "다변량 신호의 다중척도 분석을 위한 새로운 방법론 제시\n",
    "\n",
    "one-dimensional signals 및 two-dimensional images에 대한 다중척도 분석을 위해 제안"
   ]
  },
  {
   "cell_type": "markdown",
   "id": "10633ab4-57c7-4c7d-bf10-50c53a265677",
   "metadata": {},
   "source": [
    "- patch process\n",
    "    - 다양한 패치 크기에 따라 데이터의 로컬 특성을 추출하고 요약하는 역할\n",
    "- ensemble process.\n",
    "    - 신호의 시간적 변동을 효과적으로 나타내기 위해 패치의 위치를 변환\n",
    "    - 원래 다중 스케일 특성을 가지고 있음.\n",
    "\n",
    "두 프로세스로 구성됌.\n",
    "\n",
    "*다양한 필터(비선형 필터 포함)를 디자인할 수 있어 로컬 특성 및 스케일 패턴을 식별하는 데 유용*\n",
    "\n",
    "*유연한 필터 디자인을 통해 신호 분해에 적용 가능*"
   ]
  },
  {
   "cell_type": "markdown",
   "id": "9a970f46-ef06-4d49-9f2a-64eb389545d7",
   "metadata": {},
   "source": [
    "R packag 내용\n",
    "\n",
    "- `eptransf()`\n",
    "- `meptransf()`\n",
    "- `eptplot()`\n",
    "- `eptdecomp()`\n",
    "- `eptransf2d()`\n",
    "- `meptransf2d()`"
   ]
  }
 ],
 "metadata": {
  "kernelspec": {
   "display_name": "R",
   "language": "R",
   "name": "ir"
  },
  "language_info": {
   "codemirror_mode": "r",
   "file_extension": ".r",
   "mimetype": "text/x-r-source",
   "name": "R",
   "pygments_lexer": "r",
   "version": "4.3.0"
  }
 },
 "nbformat": 4,
 "nbformat_minor": 5
}
