{
 "cells": [
  {
   "cell_type": "raw",
   "id": "0881b0e6-17ac-42a3-9e97-2804612ab3f9",
   "metadata": {
    "id": "cac470df-29e7-4148-9bbd-d8b9a32fa570",
    "tags": []
   },
   "source": [
    "---\n",
    "title: \"Review: 교수님 논문 중 self-consistency\"\n",
    "author: \"SEOYEON CHOI\"\n",
    "date: \"2024-02-18\"\n",
    "---"
   ]
  },
  {
   "cell_type": "markdown",
   "id": "fc136aee-fba8-4ab3-a655-4f5d76ffac93",
   "metadata": {},
   "source": [
    "# Enhancement of variational mode decomposition with missing values"
   ]
  },
  {
   "cell_type": "markdown",
   "id": "70fa950b-3341-42dc-98fe-e6c12fb083e0",
   "metadata": {},
   "source": [
    "## Modified Variational Mode Decomposition"
   ]
  },
  {
   "cell_type": "markdown",
   "id": "aa39dc50-577a-4d02-87c1-c205f5037ffe",
   "metadata": {},
   "source": [
    "In this section, we propose a new decomposition procedure by coupling a concept of self-consistency (Tarpey and Flury, 1996; Lee and Meng, 2005) and a thresholding of periodogram by the hard thresholding discussed in Section 2.3.1."
   ]
  },
  {
   "cell_type": "markdown",
   "id": "55ff35b8-4d8b-44e7-801d-8a1f2b943efd",
   "metadata": {},
   "source": [
    "First, we consider the self-consistency principle for estimating IMFs when facing missing data.\n",
    "\n",
    "일단 결측값이 있는 IMF^[이 논문에서 구하고자 하는 값인듯] 를 추정하기 위하여 self-consistency의 원리를 봤다."
   ]
  },
  {
   "cell_type": "markdown",
   "id": "27a287c3-8239-4fcb-b53e-e7fdf87eecc0",
   "metadata": {},
   "source": [
    "Tarpey and Flury (1996) introduced the self-consistency as a fundamental concept in statistics, which is inspired by Hastie and Stuetzle (1989) for developing principal curves.\n",
    "\n",
    "Tarpey and Flury는 self-consistency를 주요 곡선을 개선하기 위하여 Hastie and Stuetzle에 inspire 받아 통계학의 원리적인 개념으로서 소개했다."
   ]
  },
  {
   "cell_type": "markdown",
   "id": "d7cdd656-61c0-45dd-bfda-adee148f74f7",
   "metadata": {},
   "source": [
    "Further, Lee and Meng (2007) considered a self-consistent regression estimator with incomplete data.\n",
    "\n",
    "Lee and Meng는 incomplete dat로 self-consistent regression estimator를 고려했다."
   ]
  },
  {
   "cell_type": "markdown",
   "id": "4c34beed-846d-4d16-93e7-5f03920a2566",
   "metadata": {},
   "source": [
    "They proposed an estimate $\\hat{f}_{obs}$ of the underlying obs function $f$ given observed data $x_{obs}$ that is the solution of the following self-consistent equation\n",
    "\n",
    "**그들은 관찰 데이터 $x_{obs}$가 제시되었을때 underlying obs function $f$으로 $\\hat{f}_{obs}$를 추정하는 방법을 제안했다.**\n",
    "\n",
    "그것은 다음의 self-consistent equation 의 solution이다."
   ]
  },
  {
   "cell_type": "markdown",
   "id": "e0ae7cdc-c9a6-41da-9e84-0edf95162588",
   "metadata": {},
   "source": [
    "$E(\\hat{f}_{com} | x_{obs} , f = \\hat{f}_{obs}) = \\hat{f}_{obs} \\dots$(1)"
   ]
  },
  {
   "cell_type": "markdown",
   "id": "4f7a9acf-2cc2-434c-99be-e8a3f9d15ad3",
   "metadata": {},
   "source": [
    "where $\\hat{f}_{com}$ denotes an estimate of $f$ based on the hypothetical complete data $x_{com} = (x_{obs},x_{mis})$ and $x_{mis}$ is missing data, and $E(·)$ denotes the expectation operator.\n",
    "\n",
    "$\\hat{f}_{com}$은 가상의 complete data인 $x_{com} = (x_{obs},x_{mis})$에 기반하여 $f$의 추정치로 쓰였고, $x_{mis}$는 결측값이다. 그리고 $E(·)$는 expectation operator이다.\n",
    "\n"
   ]
  },
  {
   "cell_type": "markdown",
   "id": "0785ec8c-dbb6-40d2-8ad1-1561e4638f42",
   "metadata": {},
   "source": [
    "- 결측값이 있는 x에서 x_com을 hat_f_com의 expectation으로 추정"
   ]
  },
  {
   "cell_type": "markdown",
   "id": "f7bc5d9e-c38b-41e7-b18b-435a08e4d006",
   "metadata": {},
   "source": [
    "We note that $x_{mis}$ is not available in practice.\n",
    "\n",
    "$x_{mis}$는 실제로 이용가능하지 않음."
   ]
  },
  {
   "cell_type": "markdown",
   "id": "e8074a22-a33d-4bb8-bef6-e279bcf9910d",
   "metadata": {},
   "source": [
    "Moreover, Lee and Meng (2007) suggested that the above equation provides a way to obtain a “best” incomplete-data estimator $\\hat{f}_{obs}$ by simply using the corresponding complete-data procedure that computes $\\hat{f}_{com}$.\n",
    "\n",
    "(1)을 제안했던 Lee and Meng은 단순하게 $\\hat{f}_{com}$을 계산하는 crresponding complete data procedure을 사용함으로써 'best'한 incomplete-data estimator인 $\\hat{f}_{obs}$를 구하는 방법을 제공한다."
   ]
  },
  {
   "cell_type": "markdown",
   "id": "9e4f4f96-d0de-43a4-8e92-437ee4f6dfc8",
   "metadata": {},
   "source": [
    "- ex) missing이 있을때. obs+missing값 0처리 로 regression구하고 missing 값만 그 regression 결과로 바꿔서.. 반복하는 법"
   ]
  },
  {
   "cell_type": "markdown",
   "id": "828fb8af-f75d-451d-ac56-93074f5aa123",
   "metadata": {},
   "source": [
    "By considering that the above equation does not depend on the method for estimation, it can be applicable for VMD procedure with missing data.\n",
    "\n",
    "그 (1)이 estimation에 의존하지 않는다는 것을 고려함으로써 결측값을 가진 VMD procedure^[교수님 논문에서 제안한 방법]에 적용할 수 있다."
   ]
  },
  {
   "cell_type": "markdown",
   "id": "e55f41b4-f87f-447b-983d-bdb4cf6219b6",
   "metadata": {},
   "source": [
    "Thus, under our framework, the self-consistency equation can be expressed as\n",
    "\n",
    "그러므로 self-consistency equation은 확장될 수 있다."
   ]
  },
  {
   "cell_type": "markdown",
   "id": "f66ba176-d514-4f9c-9463-9cc4f86b4cdd",
   "metadata": {},
   "source": [
    "$E[\\hat{u}_{k,com} | \\{ f\\{n\\} : n \\in O \\} ,\\{ u_k \\} = \\{ \\hat{u}_{k,obs} \\} ] = \\hat{u}_{k,obs}, k=1,\\dots, K \\dots$(2)"
   ]
  },
  {
   "cell_type": "markdown",
   "id": "6771fad8-c972-4852-aa4c-4f20afc0039c",
   "metadata": {},
   "source": [
    "In here $\\hat{u}_{k,com}$ denotes an estimate of $u_k$ from complete data and $\\hat{u}_{k,obs}$ is an estimate based on observed data.\n",
    "\n",
    "여기서 $\\hat{u}_{k,com}$는 complete data의 $u_k$의 추정치이고, $\\hat{u}_{k,obs}$는 관찰값에 기반한 추정치이다."
   ]
  },
  {
   "cell_type": "markdown",
   "id": "08a0b0ee-7cb3-4ebf-8150-b049b324a74f",
   "metadata": {},
   "source": [
    "In practice, the missing values $\\{ f(n) : n \\in M\\}$ are not available, and thus, given imputed values $\\{ \\tilde{f}(n) : n \\in M \\}$, we obtain an estimated complete dataset $\\{ \\hat{f} ( n ) \\} = \\{ f(n) : n \\in O ) \\} \\cup \\{ \\tilde{f} ( n ) : n \\in M \\}$ and consider the corresponding decomposition as"
   ]
  },
  {
   "cell_type": "markdown",
   "id": "01867f5c-938f-4fa2-97d8-94a1691c86e4",
   "metadata": {},
   "source": [
    "결측값은 없어서 f tilde의 imputed value를 사용했다. 이것은 corresponding decomposition으로 구한 estimated complete dataset에서 얻었다."
   ]
  },
  {
   "cell_type": "markdown",
   "id": "c4ba992b-ac7e-43f8-8e6c-c356edfd9c92",
   "metadata": {},
   "source": [
    "- M은 결측값 인덱스\n",
    "- O는 관측값 인덱스\n",
    "- 즉 관측값 + 결측값 대체한 값"
   ]
  },
  {
   "cell_type": "markdown",
   "id": "0f2bf3d2-69cc-4cce-be57-1ad5b1fee7ee",
   "metadata": {},
   "source": [
    "$\\hat{f} ( n ) = \\sum^{K}_{k=1} \\hat{u}_k (n), k=1, \\dots, K \\dots$(3)"
   ]
  },
  {
   "cell_type": "markdown",
   "id": "ab92d383-9f92-40de-86db-5c7efa8ae2bf",
   "metadata": {},
   "source": [
    "A simple and fast way to implement (2) and (3) may be an iterative algorithm with updating $\\{ \\tilde{f}^{(l)}(n) : n \\in M \\}$ and decomposing $\\hat{f}^{(l)}(n) = \\sum_{k=1}^{K} \\hat{u}_{k}^{(l)} (n)$."
   ]
  },
  {
   "cell_type": "markdown",
   "id": "4149db91-9950-4152-9fc6-42bcdbb4b250",
   "metadata": {},
   "source": [
    "(2),(3)을 하려면 값을 반복적인 알고리즘으로 업데이트하고 분해하는 것이다."
   ]
  },
  {
   "cell_type": "markdown",
   "id": "92c44258-fb92-4003-b618-427a83e81584",
   "metadata": {},
   "source": [
    "~Finally, by embedding the above iterative procedure and Algorithm 2 into Algorithm 1, we propose a procedure of MVMD in the presence of missing values.~"
   ]
  },
  {
   "cell_type": "markdown",
   "id": "e6f6dca4-3a0a-4f26-9a46-2997cfb2d5cb",
   "metadata": {},
   "source": [
    "~Note that the following stopping rule is used for criterion of convergence, for some > 0,~                                 "
   ]
  },
  {
   "cell_type": "code",
   "execution_count": null,
   "id": "3c53524d-a6e3-4658-abcb-41a3ce68e7ba",
   "metadata": {},
   "outputs": [],
   "source": []
  }
 ],
 "metadata": {
  "kernelspec": {
   "display_name": "Python 3",
   "language": "python",
   "name": "python3"
  },
  "language_info": {
   "codemirror_mode": {
    "name": "ipython",
    "version": 3
   },
   "file_extension": ".py",
   "mimetype": "text/x-python",
   "name": "python",
   "nbconvert_exporter": "python",
   "pygments_lexer": "ipython3",
   "version": "3.8.0"
  }
 },
 "nbformat": 4,
 "nbformat_minor": 5
}
