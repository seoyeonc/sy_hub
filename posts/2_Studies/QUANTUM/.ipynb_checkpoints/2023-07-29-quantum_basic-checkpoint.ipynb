{
 "cells": [
  {
   "cell_type": "raw",
   "id": "5c0ec1b0-383d-4cee-9e2b-b79013fba4b5",
   "metadata": {
    "id": "cac470df-29e7-4148-9bbd-d8b9a32fa570",
    "tags": []
   },
   "source": [
    "---\n",
    "title: \"**[QUANTUM]**basic\"\n",
    "author: \"SEOYEON CHOI\"\n",
    "date: \"2023-07-29\"\n",
    "categories:\n",
    "  - QUANTUM\n",
    "---"
   ]
  },
  {
   "cell_type": "markdown",
   "id": "5cf19aab-61fb-4a24-ab89-25af93497f25",
   "metadata": {},
   "source": [
    "ref: \n",
    "\n",
    "- 양자의 특이한 세가지 현상([이광근](https://www.youtube.com/watch?v=zR0_P-yRlj4))\n",
    "- 양자현상을 수학으로 표현하기([이광근](https://www.youtube.com/watch?v=QAtGLcualF4&t=979s))\n",
    "- [quantum gate](https://en.wikipedia.org/wiki/Quantum_logic_gate)\n",
    "- [blog](https://gruuuuu.github.io/quantum%20computing/quantum_experience/)\n",
    "- 양자 인수분해 알고리즘([이광근](https://www.youtube.com/watch?v=634xFLh0Mps&t=283s))\n",
    "- 양자 탐색 알고리즘([이광근](https://www.youtube.com/watch?v=OXtZLhRsVow))"
   ]
  },
  {
   "cell_type": "markdown",
   "id": "796c461f-f592-493d-bf0f-452a7ed27cfa",
   "metadata": {},
   "source": [
    "https://quantum-computing.ibm.com/"
   ]
  },
  {
   "cell_type": "markdown",
   "id": "0b03843c-04d9-4f87-a483-746ad02cf933",
   "metadata": {},
   "source": [
    "**양자**: 굉장히 특이한 성질을 가지는 원자보다도 작은 단위의 입자"
   ]
  },
  {
   "cell_type": "markdown",
   "id": "186a49a7-32dc-45a1-a2df-6ec7ec30c9cc",
   "metadata": {},
   "source": [
    "# 양자의 특이한 세가지 현상"
   ]
  },
  {
   "cell_type": "markdown",
   "id": "5dc8dc96-5675-43fd-b61b-2378ee2af5f0",
   "metadata": {},
   "source": [
    "1. ***중첩 superposition***\n",
    "\n",
    "- 동시에 두 가지 이상의 상태를 가질 수 있는 상태.(각각이 확률을 가지고 있음, 확률의 합은 1)"
   ]
  },
  {
   "cell_type": "markdown",
   "id": "8a4c06df-4e17-494e-8e0c-551a0e058baf",
   "metadata": {},
   "source": [
    "2. ***얽힘 entanglement***\n",
    "\n",
    "- 중첩되어 있는 상태끼리 엮일 수 있음. \n",
    "- 예를 들어 아래와 같이 중첩되어 있는 상태(1,2,3,4와 A,B,C,D)가 있는데,(1-A,2-B,3-C,4-D)로 연결되어 있는 상태에서 관찰 결과 C가 나오면 이 C와 연결되어 있는 3이 중첩이 깨지면서 나옴.\n",
    "- 무엇이 나올지 모르지만 확률에 따라 어떤 것이 나오겠구나 아는 상태"
   ]
  },
  {
   "cell_type": "markdown",
   "id": "cb3384a6-67dd-4722-b88e-61d16547cb64",
   "metadata": {},
   "source": [
    "```{mermaid}\n",
    "flowchart TD\n",
    "  A --> 1\n",
    "  B --> 2\n",
    "  C --> 3\n",
    "  D --> 4\n",
    "  subgraph qbit1\n",
    "  A\n",
    "  B\n",
    "  C\n",
    "  D\n",
    "  end\n",
    "  subgraph qbit2\n",
    "  1\n",
    "  2\n",
    "  3\n",
    "  4\n",
    "  end\n",
    "```"
   ]
  },
  {
   "cell_type": "markdown",
   "id": "478b4454-9da7-49e6-a4e2-b7a2ba031d89",
   "metadata": {},
   "source": [
    "3. ***확률진폭 probability amplitude***\n",
    " \n",
    "- A,B,C,D가 합이 1인 확률을 각각 가지고 있을때, A는 반대의 방향을 나타내는, 두 가지 기호 중 표현할 수 있는 상태를 가짐(단, 기호가 어찌됐든 크기는 같음)\n",
    "    - 확률진폭의 제곱이 확률이 된다."
   ]
  },
  {
   "cell_type": "markdown",
   "id": "ad826f63-b9fa-4f40-9000-8bc5a7c0fb76",
   "metadata": {},
   "source": [
    "# 양자현상을 수학으로 표현하기"
   ]
  },
  {
   "cell_type": "markdown",
   "id": "0e908fe4-8e84-4c17-b6de-c781a087d7b7",
   "metadata": {},
   "source": [
    "확률진폭은  $r =  a + bi$로 나타낼 수 있다면, 이때 i 는 복소수, 즉 $i^2 = -1$\n",
    "\n",
    "$||r||^2 = (a + bi)(a - bi) = a^2 + b^2$ 이게 확률\n",
    "\n",
    "$\\star$ $r$이 위와 같이 표현된다면, 위에서 언급했던 두 가지 표현 방법중 다른 방법인 $\\bar{r} = a - bi$로 나타낼 수 있겠지.\n",
    "\n",
    "즉, $||r||^2 = ||\\bar{r}||^2$ 이다."
   ]
  },
  {
   "cell_type": "markdown",
   "id": "d364d776-5622-4ebf-8604-7f659b6ff96e",
   "metadata": {},
   "source": [
    "notation\n",
    "\n",
    "- r_1|1> + r_2|2> + r_3|3> + r_4|4> + ...\n",
    "    - 각각 r_i = a + bi"
   ]
  },
  {
   "cell_type": "markdown",
   "id": "44feacc0-4e2c-4172-b317-218ebc94a296",
   "metadata": {},
   "source": [
    "::: {.callout-note}\n",
    "\n",
    "예를 들어, 0과 1이 중첩되어 있다면, $r_1|0> + r_2|1>$이고, $r_1 = 0.3+0.3i$, $r_2 = 0.9 + 0.1i$ 라면,\n",
    "\n",
    "- $||r_1||^2 = 0.3^2 + 0.3^2 = 0.18$\n",
    "- $||r_2||^2 = 0.9^2 + 0.1^2 = 0.82$\n",
    "\n",
    "따라서 $||r_2||^2$ 확률이 더 크니까 1만 보일 것.\n",
    "\n",
    "- 여기서 확률의 합(= 확률진폭 제곱의 합)은 1(0.18 + 0.82)\n",
    "\n",
    ":::"
   ]
  },
  {
   "cell_type": "markdown",
   "id": "8742054f-0cf4-47cb-a140-11f6ace74fad",
   "metadata": {},
   "source": [
    "이 0과 1이 중첩되어 있는 qbit은 **00,01,10,11**의 네가지로 나타낼 수 있는데, \n",
    "\n",
    "이 각각은 합이 1인 확률로, 다른 확률을 가지고 있지만, 임의의 operator로 각각 확률이 0.25로 같게 가지게 나타낼 수 있다.-> H\n",
    "\n",
    "- (여기서, 중첩시킴으로써 2^n 계산할 것을 n번만 계산해도 되게끔 만듦) -> 양자 컴퓨터가 월등한 이유"
   ]
  },
  {
   "cell_type": "markdown",
   "id": "3aef17a2-2f42-473c-aa96-e5a4eeaa0fd2",
   "metadata": {},
   "source": [
    "## Operator 종류 = Quantum gate"
   ]
  },
  {
   "cell_type": "markdown",
   "id": "4c08c396-28d6-444d-b179-127d9b58f90d",
   "metadata": {},
   "source": [
    "1. $H$ , *uniform한 probability로 중첩시켜줌*\n",
    "\n",
    "$$H = \\frac{1}{\\sqrt{2}} \\begin{pmatrix} 1 & 1 \\\\ 1 & -1 \\end{pmatrix}$$"
   ]
  },
  {
   "cell_type": "markdown",
   "id": "8c1fee98-4748-4e87-84d6-871f6d226543",
   "metadata": {},
   "source": [
    "- 확률진폭 계산되는 예\n",
    "- $1|0> + 0|1>$이\n",
    "- $H\\begin{pmatrix} 1 \\\\ 0 \\end{pmatrix} = \\frac{1}{\\sqrt{2}} \\begin{pmatrix} 1 & 1 \\\\ 1 & -1 \\end{pmatrix}\\begin{pmatrix} 1 \\\\ 0 \\end{pmatrix} = \\begin{pmatrix} \\frac{1}{\\sqrt{2}} \\\\ \\frac{1}{\\sqrt{2}}\\end{pmatrix}$\n",
    "- $\\frac{1}{\\sqrt{2}}|0> + \\frac{1}{\\sqrt{2}}|1>$로 변함"
   ]
  },
  {
   "cell_type": "markdown",
   "id": "e4455861-f20b-48cd-b9d4-c189752bdd93",
   "metadata": {},
   "source": [
    "::: {.callout-note}\n",
    "\n",
    "$HH\\begin{pmatrix} 1 \\\\ 0 \\end{pmatrix} = \\frac{1}{\\sqrt{2}} \\begin{pmatrix} 1 & 1 \\\\ 1 & -1 \\end{pmatrix} \\frac{1}{\\sqrt{2}} \\begin{pmatrix} 1 & 1 \\\\ 1 & -1 \\end{pmatrix}\\begin{pmatrix} 1 \\\\ 0 \\end{pmatrix} = \\frac{1}{\\sqrt{2}} \\begin{pmatrix} 1 & 1 \\\\ 1 & -1 \\end{pmatrix}\\begin{pmatrix} \\frac{1}{\\sqrt{2}} \\\\ \\frac{1}{\\sqrt{2}}\\end{pmatrix} = \\begin{pmatrix} 1 \\\\ 0 \\end{pmatrix}$\n",
    "\n",
    "**$H$를 두 번 곱했을때 원래 상태로 돌아옴**\n",
    "\n",
    ":::"
   ]
  },
  {
   "cell_type": "markdown",
   "id": "d2662479-b765-4560-bedd-cf46b933e882",
   "metadata": {},
   "source": [
    "2. 파울리Pauli $X,Y,Z$ gate\n",
    "\n",
    "- Qubit을 x,y,z축으로 회전시킨다."
   ]
  },
  {
   "cell_type": "markdown",
   "id": "50db6156-28d1-4f3a-9dfd-ed784ae0bb73",
   "metadata": {},
   "source": [
    "3. $N_c$, 얽히게 해주는 operator = swap gate"
   ]
  },
  {
   "cell_type": "markdown",
   "id": "71ca4856-232c-4056-a71f-4765aaf38ee8",
   "metadata": {},
   "source": [
    "- 예\n",
    "- $\\frac{1}{\\sqrt{2}} | 00 > + 0|01> + \\frac{1}{\\sqrt{2}} | 10 > + 0| 11 >$ 이 $N_c$ operator를 만나\n",
    "    - 여기서는 00중 0일 확률 $\\frac{1}{\\sqrt{2}}$이라도 0이 당연히 나올 거 알지만, 10이 $\\frac{1}{\\sqrt{2}}$일 확률을 가지고 있다면, 10중 뭐가 나올지 모름.\n",
    "- $\\begin{pmatrix} 1 & 0 & 0 & 0 \\\\ 0 & 1 & 0 & 0 \\\\ 0 & 0 & 0 & 1 \\\\ 0 & 0 & 1 & 0 \\end{pmatrix} \\begin{pmatrix} \\frac{1}{\\sqrt{2}} \\\\ 0 \\\\ \\frac{1}{\\sqrt{2}} \\\\ 0 \\end{pmatrix} = \\begin{pmatrix} \\sqrt{1}{\\sqrt{2}} \\\\ 0 \\\\ 0 \\\\ \\frac{1}{\\sqrt{2}} \\end{pmatrix}$\n",
    "- $\\frac{1}{\\sqrt{2}} | 00 > + 0|01> + 0 | 10 > + \\frac{1}{\\sqrt{2}}| 11 >$로 변함\n",
    "    - 여기서는 00 중 0일 확률 상관없이 당연히 0이 나올 것을 알고, 11중 1일 확률이 당연히 1이 나올 것을 알게 된다."
   ]
  },
  {
   "cell_type": "markdown",
   "id": "41f5102f-c130-42af-b988-001f77cc6f7b",
   "metadata": {},
   "source": [
    "# 양자 인수분해 알고리즘"
   ]
  },
  {
   "cell_type": "markdown",
   "id": "8a65c710-c7dd-4ed7-8418-9e4c22bfad20",
   "metadata": {},
   "source": [
    "## Quantum Factorization(94')"
   ]
  },
  {
   "cell_type": "markdown",
   "id": "3b971fe5-ba96-4fee-a9c7-448e6b08bd77",
   "metadata": {},
   "source": [
    "1. $r < N$ \n",
    "\n",
    "- N보다 작은 r을 random하게 뽑는다.\n",
    "\n",
    "2. $r^1, r^2, \\dots r^m$\n",
    "\n",
    "- 각 r을 N에 대해 mod operation을 취한다.(나머지 반환)\n",
    "- 이떄 반환된 값과 얽혀있는 값만 다른 연결된 qbit에 남겠지?\n",
    "\n",
    "3. 나머지는 반복될 거니까 period $p$가 존재,\n",
    "\n",
    "결론 $gcd(r^{p/2} + 1, N)$ 최대공약수와 $gcd(r^{p/2} - 1, N)$최대공약수는 높은 확률로 factors of N이다.\n",
    "\n",
    "-> shor가 알아냄.."
   ]
  },
  {
   "cell_type": "markdown",
   "id": "68f5a6a5-3393-45af-8562-c43e6aa100db",
   "metadata": {},
   "source": [
    "## Quantum serch(96')"
   ]
  },
  {
   "cell_type": "markdown",
   "id": "e995a741-97d0-487e-a88f-9adb95229d09",
   "metadata": {},
   "source": [
    "$\\sqrt{N}$번만에quantum computer로 찾을 수 있다."
   ]
  },
  {
   "cell_type": "code",
   "execution_count": null,
   "id": "5220bfcd-ab35-4aa5-bc8e-dc4dcf078e12",
   "metadata": {},
   "outputs": [],
   "source": []
  }
 ],
 "metadata": {
  "kernelspec": {
   "display_name": "Python 3",
   "language": "python",
   "name": "python3"
  },
  "language_info": {
   "codemirror_mode": {
    "name": "ipython",
    "version": 3
   },
   "file_extension": ".py",
   "mimetype": "text/x-python",
   "name": "python",
   "nbconvert_exporter": "python",
   "pygments_lexer": "ipython3",
   "version": "3.8.0"
  }
 },
 "nbformat": 4,
 "nbformat_minor": 5
}
