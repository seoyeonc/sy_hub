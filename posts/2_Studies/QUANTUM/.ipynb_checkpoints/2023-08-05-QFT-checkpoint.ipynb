{
 "cells": [
  {
   "cell_type": "raw",
   "id": "4d18b56a-a56b-4886-82cb-c7677b0c53ad",
   "metadata": {
    "id": "cac470df-29e7-4148-9bbd-d8b9a32fa570",
    "tags": []
   },
   "source": [
    "---\n",
    "title: \"**[QUANTUM]**QFT\"\n",
    "author: \"SEOYEON CHOI\"\n",
    "date: \"2023-08-05\"\n",
    "categories:\n",
    "  - QUANTUM\n",
    "---"
   ]
  },
  {
   "cell_type": "code",
   "execution_count": null,
   "id": "41622420-06b0-4cc8-9ee9-9995ef1a416d",
   "metadata": {},
   "outputs": [],
   "source": []
  }
 ],
 "metadata": {
  "kernelspec": {
   "display_name": "Python 3",
   "language": "python",
   "name": "python3"
  },
  "language_info": {
   "codemirror_mode": {
    "name": "ipython",
    "version": 3
   },
   "file_extension": ".py",
   "mimetype": "text/x-python",
   "name": "python",
   "nbconvert_exporter": "python",
   "pygments_lexer": "ipython3",
   "version": "3.8.0"
  }
 },
 "nbformat": 4,
 "nbformat_minor": 5
}
