{
 "cells": [
  {
   "cell_type": "raw",
   "id": "4d18b56a-a56b-4886-82cb-c7677b0c53ad",
   "metadata": {
    "id": "cac470df-29e7-4148-9bbd-d8b9a32fa570",
    "tags": []
   },
   "source": [
    "---\n",
    "title: \"**[QUANTUM]**QFT\"\n",
    "author: \"SEOYEON CHOI\"\n",
    "date: \"2023-08-05\"\n",
    "categories:\n",
    "  - QUANTUM\n",
    "---"
   ]
  },
  {
   "cell_type": "markdown",
   "id": "75750de9-9840-4cbd-85e9-f30c74a3ec63",
   "metadata": {},
   "source": [
    "# Import"
   ]
  },
  {
   "cell_type": "code",
   "execution_count": 16,
   "id": "c34a004b-c19f-4f6d-8e27-f93a02d59a68",
   "metadata": {},
   "outputs": [],
   "source": [
    "from qiskit import QuantumCircuit, Aer, transpile, assemble, execute\n",
    "from qiskit.visualization import plot_histogram\n",
    "import matplotlib.pyplot as plt\n",
    "import numpy as np"
   ]
  },
  {
   "cell_type": "code",
   "execution_count": 4,
   "id": "24725b1c-3d5c-407d-9de8-48df71c8759f",
   "metadata": {},
   "outputs": [],
   "source": [
    "# 큐비트의 개수\n",
    "num_qubits = 3"
   ]
  },
  {
   "cell_type": "code",
   "execution_count": 5,
   "id": "84c4e6e9-af18-4f08-9086-e54877dd3c7b",
   "metadata": {},
   "outputs": [],
   "source": [
    "# 양자 회로 생성\n",
    "qc = QuantumCircuit(num_qubits)"
   ]
  },
  {
   "cell_type": "code",
   "execution_count": 22,
   "id": "3d225373-c752-4ee5-924d-a35162885495",
   "metadata": {},
   "outputs": [
    {
     "data": {
      "text/plain": [
       "\u001b[0;31mInit signature:\u001b[0m\n",
       "\u001b[0mQuantumCircuit\u001b[0m\u001b[0;34m(\u001b[0m\u001b[0;34m\u001b[0m\n",
       "\u001b[0;34m\u001b[0m    \u001b[0;34m*\u001b[0m\u001b[0mregs\u001b[0m\u001b[0;34m:\u001b[0m \u001b[0;34m'Register | int | Sequence[Bit]'\u001b[0m\u001b[0;34m,\u001b[0m\u001b[0;34m\u001b[0m\n",
       "\u001b[0;34m\u001b[0m    \u001b[0mname\u001b[0m\u001b[0;34m:\u001b[0m \u001b[0;34m'str | None'\u001b[0m \u001b[0;34m=\u001b[0m \u001b[0;32mNone\u001b[0m\u001b[0;34m,\u001b[0m\u001b[0;34m\u001b[0m\n",
       "\u001b[0;34m\u001b[0m    \u001b[0mglobal_phase\u001b[0m\u001b[0;34m:\u001b[0m \u001b[0;34m'ParameterValueType'\u001b[0m \u001b[0;34m=\u001b[0m \u001b[0;36m0\u001b[0m\u001b[0;34m,\u001b[0m\u001b[0;34m\u001b[0m\n",
       "\u001b[0;34m\u001b[0m    \u001b[0mmetadata\u001b[0m\u001b[0;34m:\u001b[0m \u001b[0;34m'dict | None'\u001b[0m \u001b[0;34m=\u001b[0m \u001b[0;32mNone\u001b[0m\u001b[0;34m,\u001b[0m\u001b[0;34m\u001b[0m\n",
       "\u001b[0;34m\u001b[0m\u001b[0;34m)\u001b[0m\u001b[0;34m\u001b[0m\u001b[0;34m\u001b[0m\u001b[0m\n",
       "\u001b[0;31mDocstring:\u001b[0m     \n",
       "Create a new circuit.\n",
       "\n",
       "A circuit is a list of instructions bound to some registers.\n",
       "\n",
       "Args:\n",
       "    regs (list(:class:`~.Register`) or list(``int``) or list(list(:class:`~.Bit`))): The\n",
       "        registers to be included in the circuit.\n",
       "\n",
       "        * If a list of :class:`~.Register` objects, represents the :class:`.QuantumRegister`\n",
       "          and/or :class:`.ClassicalRegister` objects to include in the circuit.\n",
       "\n",
       "          For example:\n",
       "\n",
       "            * ``QuantumCircuit(QuantumRegister(4))``\n",
       "            * ``QuantumCircuit(QuantumRegister(4), ClassicalRegister(3))``\n",
       "            * ``QuantumCircuit(QuantumRegister(4, 'qr0'), QuantumRegister(2, 'qr1'))``\n",
       "\n",
       "        * If a list of ``int``, the amount of qubits and/or classical bits to include in\n",
       "          the circuit. It can either be a single int for just the number of quantum bits,\n",
       "          or 2 ints for the number of quantum bits and classical bits, respectively.\n",
       "\n",
       "          For example:\n",
       "\n",
       "            * ``QuantumCircuit(4) # A QuantumCircuit with 4 qubits``\n",
       "            * ``QuantumCircuit(4, 3) # A QuantumCircuit with 4 qubits and 3 classical bits``\n",
       "\n",
       "        * If a list of python lists containing :class:`.Bit` objects, a collection of\n",
       "          :class:`.Bit` s to be added to the circuit.\n",
       "\n",
       "\n",
       "    name (str): the name of the quantum circuit. If not set, an\n",
       "        automatically generated string will be assigned.\n",
       "    global_phase (float or ParameterExpression): The global phase of the circuit in radians.\n",
       "    metadata (dict): Arbitrary key value metadata to associate with the\n",
       "        circuit. This gets stored as free-form data in a dict in the\n",
       "        :attr:`~qiskit.circuit.QuantumCircuit.metadata` attribute. It will\n",
       "        not be directly used in the circuit.\n",
       "\n",
       "Raises:\n",
       "    CircuitError: if the circuit name, if given, is not valid.\n",
       "\n",
       "Examples:\n",
       "\n",
       "    Construct a simple Bell state circuit.\n",
       "\n",
       "    .. plot::\n",
       "       :include-source:\n",
       "\n",
       "       from qiskit import QuantumCircuit\n",
       "\n",
       "       qc = QuantumCircuit(2, 2)\n",
       "       qc.h(0)\n",
       "       qc.cx(0, 1)\n",
       "       qc.measure([0, 1], [0, 1])\n",
       "       qc.draw('mpl')\n",
       "\n",
       "    Construct a 5-qubit GHZ circuit.\n",
       "\n",
       "    .. code-block::\n",
       "\n",
       "       from qiskit import QuantumCircuit\n",
       "\n",
       "       qc = QuantumCircuit(5)\n",
       "       qc.h(0)\n",
       "       qc.cx(0, range(1, 5))\n",
       "       qc.measure_all()\n",
       "\n",
       "    Construct a 4-qubit Bernstein-Vazirani circuit using registers.\n",
       "\n",
       "    .. plot::\n",
       "       :include-source:\n",
       "\n",
       "       from qiskit import QuantumRegister, ClassicalRegister, QuantumCircuit\n",
       "\n",
       "       qr = QuantumRegister(3, 'q')\n",
       "       anc = QuantumRegister(1, 'ancilla')\n",
       "       cr = ClassicalRegister(3, 'c')\n",
       "       qc = QuantumCircuit(qr, anc, cr)\n",
       "\n",
       "       qc.x(anc[0])\n",
       "       qc.h(anc[0])\n",
       "       qc.h(qr[0:3])\n",
       "       qc.cx(qr[0:3], anc[0])\n",
       "       qc.h(qr[0:3])\n",
       "       qc.barrier(qr)\n",
       "       qc.measure(qr, cr)\n",
       "\n",
       "       qc.draw('mpl')\n",
       "\u001b[0;31mFile:\u001b[0m           ~/anaconda3/envs/temp_csy/lib/python3.8/site-packages/qiskit/circuit/quantumcircuit.py\n",
       "\u001b[0;31mType:\u001b[0m           type\n",
       "\u001b[0;31mSubclasses:\u001b[0m     BlueprintCircuit, Diagonal, Permutation, MCMT, GMS, GR, GRZ, AND, OR, XOR, ...\n"
      ]
     },
     "metadata": {},
     "output_type": "display_data"
    }
   ],
   "source": [
    "QuantumCircuit?"
   ]
  },
  {
   "cell_type": "code",
   "execution_count": 9,
   "id": "9a49f6e5-46ea-45ad-a4e2-fe1792324e6d",
   "metadata": {},
   "outputs": [],
   "source": [
    "# 양자 퓨리에 변환 수행\n",
    "for qubit in range(num_qubits):\n",
    "    for j in range(qubit):\n",
    "        qc.cp(2 * np.pi / float(2**(qubit-j)), j, qubit)\n",
    "    qc.h(qubit)"
   ]
  },
  {
   "cell_type": "code",
   "execution_count": 10,
   "id": "a62f2ef5-57fc-442c-9acf-75937ac6ab42",
   "metadata": {},
   "outputs": [
    {
     "data": {
      "text/plain": [
       "<qiskit.circuit.instructionset.InstructionSet at 0x7faf9b46d4f0>"
      ]
     },
     "execution_count": 10,
     "metadata": {},
     "output_type": "execute_result"
    }
   ],
   "source": [
    "# 결과를 얻기 위해 회로를 초기화\n",
    "qc.barrier()"
   ]
  },
  {
   "cell_type": "code",
   "execution_count": 11,
   "id": "40439870-2ede-427c-a9ed-d4c67a57369e",
   "metadata": {},
   "outputs": [],
   "source": [
    "# 측정 수행\n",
    "qc.measure_all()"
   ]
  },
  {
   "cell_type": "code",
   "execution_count": 15,
   "id": "a02425b0-daac-4c63-b060-0a14749f038f",
   "metadata": {},
   "outputs": [
    {
     "name": "stderr",
     "output_type": "stream",
     "text": [
      "<ipython-input-15-048e4a805ac2>:5: DeprecationWarning: Using a qobj for run() is deprecated as of qiskit-aer 0.9.0 and will be removed no sooner than 3 months from that release date. Transpiled circuits should now be passed directly using `backend.run(circuits, **run_options).\n",
      "  result = simulator.run(qobj).result()\n"
     ]
    }
   ],
   "source": [
    "# 양자 회로 시뮬레이션\n",
    "simulator = Aer.get_backend('aer_simulator')\n",
    "tqc = transpile(qc, simulator)\n",
    "qobj = assemble(tqc)\n",
    "result = simulator.run(qobj).result()"
   ]
  },
  {
   "cell_type": "code",
   "execution_count": 17,
   "id": "522242d1-5b42-499d-a575-51a3dc318509",
   "metadata": {},
   "outputs": [],
   "source": [
    "# 결과 출력\n",
    "counts = result.get_counts(qc)"
   ]
  },
  {
   "cell_type": "code",
   "execution_count": 20,
   "id": "a7905de0-cee6-47dc-8ea4-eeefaa52eb2d",
   "metadata": {},
   "outputs": [
    {
     "data": {
      "text/plain": [
       "{'100': 252, '110': 235, '010': 264, '000': 273}"
      ]
     },
     "execution_count": 20,
     "metadata": {},
     "output_type": "execute_result"
    }
   ],
   "source": [
    "counts"
   ]
  },
  {
   "cell_type": "code",
   "execution_count": 21,
   "id": "140ee7cb-1d8e-4772-9d02-a7e29fb4bb6a",
   "metadata": {},
   "outputs": [
    {
     "data": {
      "image/png": "[encoded data removed]",
      "text/plain": [
       "<Figure size 504x360 with 1 Axes>"
      ]
     },
     "execution_count": 21,
     "metadata": {},
     "output_type": "execute_result"
    }
   ],
   "source": [
    "# 결과 시각화\n",
    "plot_histogram(counts)"
   ]
  },
  {
   "cell_type": "code",
   "execution_count": null,
   "id": "41622420-06b0-4cc8-9ee9-9995ef1a416d",
   "metadata": {},
   "outputs": [],
   "source": []
  }
 ],
 "metadata": {
  "kernelspec": {
   "display_name": "Python 3",
   "language": "python",
   "name": "python3"
  },
  "language_info": {
   "codemirror_mode": {
    "name": "ipython",
    "version": 3
   },
   "file_extension": ".py",
   "mimetype": "text/x-python",
   "name": "python",
   "nbconvert_exporter": "python",
   "pygments_lexer": "ipython3",
   "version": "3.8.0"
  }
 },
 "nbformat": 4,
 "nbformat_minor": 5
}
