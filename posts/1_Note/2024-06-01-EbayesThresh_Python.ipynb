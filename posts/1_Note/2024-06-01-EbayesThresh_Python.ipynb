{
 "cells": [
  {
   "cell_type": "raw",
   "id": "ecafae6c-f0a2-4852-ae83-c01c4513d836",
   "metadata": {
    "id": "cac470df-29e7-4148-9bbd-d8b9a32fa570",
    "tags": []
   },
   "source": [
    "---\n",
    "title: \"EbayesThresh Python화 시도\"\n",
    "author: \"SEOYEON CHOI\"\n",
    "date: \"2024-06-01\"\n",
    "---"
   ]
  },
  {
   "cell_type": "markdown",
   "id": "3d501e0e-ba39-4e4b-b47c-2c01f59e07db",
   "metadata": {},
   "source": [
    "https://cran.r-project.org/web/packages/EbayesThresh/EbayesThresh.pdf"
   ]
  },
  {
   "cell_type": "markdown",
   "id": "45b6158d-6c95-4349-8f57-57f4319dac5d",
   "metadata": {},
   "source": [
    "# Import"
   ]
  },
  {
   "cell_type": "code",
   "execution_count": 1,
   "id": "7b74dbea-662a-4ddf-b71f-b5ad0edf1778",
   "metadata": {},
   "outputs": [],
   "source": [
    "import numpy as np\n",
    "import EbayesThresh"
   ]
  },
  {
   "cell_type": "markdown",
   "id": "def4d6e1-c26f-406d-b212-2652fbd98ce6",
   "metadata": {},
   "source": [
    "## beta.cauchy"
   ]
  },
  {
   "cell_type": "code",
   "execution_count": 2,
   "id": "bb4b9c53-44e8-45a2-9eb9-abc205f9729e",
   "metadata": {},
   "outputs": [
    {
     "name": "stderr",
     "output_type": "stream",
     "text": [
      "/home/csy/Dropbox/sy_hub/posts/1_Note/EbayesThresh/utils.py:29: RuntimeWarning: divide by zero encountered in divide\n",
      "  beta[j] = (norm.pdf(0) / phix[j] - 1) / (x[j] ** 2) - 1\n"
     ]
    },
    {
     "data": {
      "text/plain": [
       "[-2,\n",
       " array([[ 5.38905610e+00, -3.51278729e-01, -1.00000000e+00,\n",
       "          2.97895799e+03,  7.89629602e+13,             inf]]),\n",
       " 0,\n",
       " -4,\n",
       " -0.5,\n",
       " 50]"
      ]
     },
     "execution_count": 2,
     "metadata": {},
     "output_type": "execute_result"
    }
   ],
   "source": [
    "EbayesThresh.beta_cauchy([-2,1,0,-4,8,50])"
   ]
  },
  {
   "cell_type": "markdown",
   "id": "5c8a622f-de1e-4717-9c26-5a5c62f67dfc",
   "metadata": {},
   "source": [
    "## beta.laplace"
   ]
  },
  {
   "cell_type": "code",
   "execution_count": 3,
   "id": "bb7f3af1-e452-4b76-ab27-56d9c1c2c5a8",
   "metadata": {},
   "outputs": [
    {
     "data": {
      "text/plain": [
       "array([ 8.89852030e-001, -3.80041717e-001, -5.61817772e-001,\n",
       "        2.85459467e+002,  1.02698062e+012,  6.34453954e+265])"
      ]
     },
     "execution_count": 3,
     "metadata": {},
     "output_type": "execute_result"
    }
   ],
   "source": [
    "EbayesThresh.beta_laplace([-2,1,0,-4,8,50],s=1)"
   ]
  },
  {
   "cell_type": "code",
   "execution_count": 4,
   "id": "f023f375-9fae-4f9a-8bdd-5fe9b4a47f82",
   "metadata": {},
   "outputs": [
    {
     "name": "stdout",
     "output_type": "stream",
     "text": [
      "[ 8.90821055e-001 -1.62658317e-001 -3.44320458e-001  1.11763852e+002\n",
      "  5.47362128e+010  1.26890791e+266]\n",
      "[-3.97301589e-002 -1.29919250e-001 -1.57261541e-001  4.89966520e-001\n",
      "  1.72626254e+001  1.86200309e+115]\n",
      "[-5.47817038e-02 -7.85266727e-02 -8.62291039e-02  5.07055851e-02\n",
      "  7.25566365e-01  1.35975389e+41]\n",
      "[-4.17233012e-02 -5.04965878e-02 -5.33904683e-02 -5.20319315e-03\n",
      "  1.67493780e-01  2.44910886e+16]\n",
      "[-3.07299814e-02 -3.46568340e-02 -3.59594764e-02 -1.47336507e-02\n",
      "  5.42137177e-02  1.68155326e+06]\n"
     ]
    },
    {
     "name": "stderr",
     "output_type": "stream",
     "text": [
      "/home/csy/Dropbox/sy_hub/posts/1_Note/EbayesThresh/utils.py:38: RuntimeWarning: divide by zero encountered in divide\n",
      "  rat2 = 1/np.abs(xma)\n"
     ]
    }
   ],
   "source": [
    "for i in range(1,6):\n",
    "    print(EbayesThresh.beta_laplace([-2,1,0,-4,8,50],s=i,a=1))"
   ]
  },
  {
   "cell_type": "markdown",
   "id": "7b907f9b-7dc0-4fc3-88d5-f53c52b4b280",
   "metadata": {},
   "source": [
    "## ebayesthresh"
   ]
  },
  {
   "cell_type": "code",
   "execution_count": 2,
   "id": "96c83ff1-b6fa-412a-abea-7dd9726c7431",
   "metadata": {},
   "outputs": [
    {
     "data": {
      "text/plain": [
       "2.9652"
      ]
     },
     "execution_count": 2,
     "metadata": {},
     "output_type": "execute_result"
    }
   ],
   "source": [
    "EbayesThresh.mad(np.array([1, 2, 3, 3, 4, 4, 4, 5, 5.5, 6, 6, 6.5, 7, 7, 7.5, 8, 9, 12, 52, 90]))"
   ]
  },
  {
   "cell_type": "code",
   "execution_count": 3,
   "id": "73b44642-ca91-4f3a-a22b-1e8e52944e63",
   "metadata": {},
   "outputs": [
    {
     "data": {
      "text/plain": [
       "array([4.22963403e-01, 9.33799336e-02, 9.31590884e-05])"
      ]
     },
     "execution_count": 3,
     "metadata": {},
     "output_type": "execute_result"
    }
   ],
   "source": [
    "EbayesThresh.wfromt(np.array([2,3,5]),prior='cachy')"
   ]
  },
  {
   "cell_type": "code",
   "execution_count": 2,
   "id": "f23f7d33-32a9-4173-9ca6-e52313f5a6d3",
   "metadata": {},
   "outputs": [
    {
     "data": {
      "text/plain": [
       "0.24517726732771025"
      ]
     },
     "execution_count": 2,
     "metadata": {},
     "output_type": "execute_result"
    }
   ],
   "source": [
    "EbayesThresh.wfromx(np.concatenate((np.random.normal(0, 1, 90), np.random.normal(5, 5, 10))),prior='cachy')"
   ]
  },
  {
   "cell_type": "code",
   "execution_count": 4,
   "id": "6d598324-b049-4a64-b634-252343569820",
   "metadata": {},
   "outputs": [
    {
     "data": {
      "text/plain": [
       "array([-3.6, -2.6, -1.6, -0.6, -0. ,  0. ,  0. ,  0.6,  1.6,  2.6,  3.6])"
      ]
     },
     "execution_count": 4,
     "metadata": {},
     "output_type": "execute_result"
    }
   ],
   "source": [
    "EbayesThresh.threshold([-5,-4,-3,-2,-1,0,1,2,3,4,5], 1.4, hard=False)"
   ]
  },
  {
   "cell_type": "code",
   "execution_count": 2,
   "id": "52c4fbc2-410f-45a3-8849-64277aa5b6b9",
   "metadata": {},
   "outputs": [
    {
     "ename": "NameError",
     "evalue": "name 'isotone' is not defined",
     "output_type": "error",
     "traceback": [
      "\u001b[0;31m---------------------------------------------------------------------------\u001b[0m",
      "\u001b[0;31mNameError\u001b[0m                                 Traceback (most recent call last)",
      "Input \u001b[0;32mIn [2]\u001b[0m, in \u001b[0;36m<cell line: 1>\u001b[0;34m()\u001b[0m\n\u001b[0;32m----> 1\u001b[0m \u001b[43mEbayesThresh\u001b[49m\u001b[38;5;241;43m.\u001b[39;49m\u001b[43mwmonfromx\u001b[49m\u001b[43m(\u001b[49m\u001b[43mnp\u001b[49m\u001b[38;5;241;43m.\u001b[39;49m\u001b[43mconcatenate\u001b[49m\u001b[43m(\u001b[49m\u001b[43m(\u001b[49m\u001b[43mnp\u001b[49m\u001b[38;5;241;43m.\u001b[39;49m\u001b[43mrandom\u001b[49m\u001b[38;5;241;43m.\u001b[39;49m\u001b[43mnormal\u001b[49m\u001b[43m(\u001b[49m\u001b[38;5;241;43m0\u001b[39;49m\u001b[43m,\u001b[49m\u001b[43m \u001b[49m\u001b[38;5;241;43m1\u001b[39;49m\u001b[43m,\u001b[49m\u001b[43m \u001b[49m\u001b[38;5;241;43m90\u001b[39;49m\u001b[43m)\u001b[49m\u001b[43m,\u001b[49m\u001b[43m \u001b[49m\u001b[43mnp\u001b[49m\u001b[38;5;241;43m.\u001b[39;49m\u001b[43mrandom\u001b[49m\u001b[38;5;241;43m.\u001b[39;49m\u001b[43mnormal\u001b[49m\u001b[43m(\u001b[49m\u001b[38;5;241;43m5\u001b[39;49m\u001b[43m,\u001b[49m\u001b[43m \u001b[49m\u001b[38;5;241;43m5\u001b[39;49m\u001b[43m,\u001b[49m\u001b[43m \u001b[49m\u001b[38;5;241;43m10\u001b[39;49m\u001b[43m)\u001b[49m\u001b[43m)\u001b[49m\u001b[43m)\u001b[49m\u001b[43m,\u001b[49m\u001b[43mprior\u001b[49m\u001b[43m \u001b[49m\u001b[38;5;241;43m=\u001b[39;49m\u001b[43m \u001b[49m\u001b[38;5;124;43m\"\u001b[39;49m\u001b[38;5;124;43mlaplace\u001b[39;49m\u001b[38;5;124;43m\"\u001b[39;49m\u001b[43m,\u001b[49m\u001b[43m \u001b[49m\u001b[43ma\u001b[49m\u001b[43m \u001b[49m\u001b[38;5;241;43m=\u001b[39;49m\u001b[43m \u001b[49m\u001b[38;5;241;43m0.5\u001b[39;49m\u001b[43m,\u001b[49m\u001b[43m \u001b[49m\u001b[43mtol\u001b[49m\u001b[43m \u001b[49m\u001b[38;5;241;43m=\u001b[39;49m\u001b[43m \u001b[49m\u001b[38;5;241;43m1e-08\u001b[39;49m\u001b[43m,\u001b[49m\u001b[43m \u001b[49m\u001b[43mmaxits\u001b[49m\u001b[43m \u001b[49m\u001b[38;5;241;43m=\u001b[39;49m\u001b[43m \u001b[49m\u001b[38;5;241;43m20\u001b[39;49m\u001b[43m)\u001b[49m\n",
      "File \u001b[0;32m~/Dropbox/sy_hub/posts/1_Note/EbayesThresh/utils.py:164\u001b[0m, in \u001b[0;36mwmonfromx\u001b[0;34m(xd, prior, a, tol, maxits)\u001b[0m\n\u001b[1;32m    162\u001b[0m ps \u001b[38;5;241m=\u001b[39m w \u001b[38;5;241m+\u001b[39m aa\n\u001b[1;32m    163\u001b[0m ww \u001b[38;5;241m=\u001b[39m \u001b[38;5;241m1\u001b[39m \u001b[38;5;241m/\u001b[39m aa \u001b[38;5;241m*\u001b[39m\u001b[38;5;241m*\u001b[39m \u001b[38;5;241m2\u001b[39m\n\u001b[0;32m--> 164\u001b[0m wnew \u001b[38;5;241m=\u001b[39m \u001b[43misotone\u001b[49m(ps, ww, increasing\u001b[38;5;241m=\u001b[39m\u001b[38;5;28;01mFalse\u001b[39;00m)\n\u001b[1;32m    165\u001b[0m wnew \u001b[38;5;241m=\u001b[39m np\u001b[38;5;241m.\u001b[39mmaximum(wmin, wnew)\n\u001b[1;32m    166\u001b[0m wnew \u001b[38;5;241m=\u001b[39m np\u001b[38;5;241m.\u001b[39mminimum(\u001b[38;5;241m1\u001b[39m, wnew)\n",
      "\u001b[0;31mNameError\u001b[0m: name 'isotone' is not defined"
     ]
    }
   ],
   "source": [
    "EbayesThresh.wmonfromx(np.concatenate((np.random.normal(0, 1, 90), np.random.normal(5, 5, 10))),prior = \"laplace\", a = 0.5, tol = 1e-08, maxits = 20)"
   ]
  },
  {
   "cell_type": "code",
   "execution_count": null,
   "id": "8ab7f1a6-530d-4f6f-b9f7-d7a625c18d76",
   "metadata": {},
   "outputs": [],
   "source": []
  }
 ],
 "metadata": {
  "kernelspec": {
   "display_name": "Python 3",
   "language": "python",
   "name": "python3"
  },
  "language_info": {
   "codemirror_mode": {
    "name": "ipython",
    "version": 3
   },
   "file_extension": ".py",
   "mimetype": "text/x-python",
   "name": "python",
   "nbconvert_exporter": "python",
   "pygments_lexer": "ipython3",
   "version": "3.8.0"
  }
 },
 "nbformat": 4,
 "nbformat_minor": 5
}
