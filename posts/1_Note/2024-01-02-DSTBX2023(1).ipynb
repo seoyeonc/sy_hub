{
 "cells": [
  {
   "cell_type": "raw",
   "id": "562ccf5d-55b1-4073-860f-76a886ac3ac8",
   "metadata": {
    "id": "cac470df-29e7-4148-9bbd-d8b9a32fa570",
    "tags": []
   },
   "source": [
    "---\n",
    "title: \"DSTBX2023(1)\"\n",
    "author: \"SEOYEON CHOI\"\n",
    "date: \"2024-01-02\"\n",
    "---"
   ]
  },
  {
   "cell_type": "markdown",
   "id": "986cb774-c0c0-4afd-ad18-6916505c2101",
   "metadata": {},
   "source": [
    "# [DSTBX2023](https://github.com/guebin/DSTBX2023)"
   ]
  },
  {
   "cell_type": "markdown",
   "id": "8eac867c-66ff-4f58-b089-3331b50ef1bd",
   "metadata": {},
   "source": [
    "## 실습1: 터미널의 이해 (강의용 윈도우 컴퓨터) "
   ]
  },
  {
   "cell_type": "markdown",
   "id": "573a0a6a-88bf-43ba-b140-32a286d3cdd3",
   "metadata": {},
   "source": [
    "- `dir`, `mkdir`, `cd`.. "
   ]
  },
  {
   "cell_type": "markdown",
   "id": "21d529f4-0254-4912-bd16-8b6c9da20bc6",
   "metadata": {},
   "source": [
    "## 실습2: 터미널에서 실행하는 파이썬 (강의용 윈도우 컴퓨터)"
   ]
  },
  {
   "cell_type": "markdown",
   "id": "b9004f0d-6a00-4ffc-a921-d1580b1d3731",
   "metadata": {},
   "source": [
    "- 질문1: 파이썬코드가 실행되는 속도는 어떤 컴퓨터의 spec에 결정될까? "
   ]
  },
  {
   "cell_type": "markdown",
   "id": "4150512c-4229-4202-8496-96b4b0e802c4",
   "metadata": {},
   "source": [
    "## 실습3: 주피터에서 터미널 명령 활용하기 (강의용 윈도우 컴퓨터)"
   ]
  },
  {
   "cell_type": "markdown",
   "id": "52104713-df9c-42a4-a4dc-4525441d30c7",
   "metadata": {},
   "source": [
    "- !dir, !mkdir,"
   ]
  },
  {
   "cell_type": "markdown",
   "id": "384bc961-1668-4207-8d14-32b9109f0351",
   "metadata": {},
   "source": [
    "## 실습4: 원격제어 (맥북)"
   ]
  },
  {
   "cell_type": "markdown",
   "id": "201a5509-44a6-476f-ae3d-aead46c9efc5",
   "metadata": {},
   "source": [
    "- cd Desktop\n",
    "- mkdir asdf # 폴더생성\n",
    "- mv asdf asdf2 # 폴더이름 변경\n",
    "- rm -rf asdf # 폴더삭제\n",
    "- 질문2: 여기서 파이썬을 키면? 어떤 컴퓨터 spec으로 계산될까?"
   ]
  },
  {
   "cell_type": "markdown",
   "id": "db552587-3912-4454-be35-1d451a05adbe",
   "metadata": {},
   "source": [
    "## 실습5: 깃의 설치 (강의용 윈도우 컴퓨터) "
   ]
  },
  {
   "cell_type": "markdown",
   "id": "60979f47-1614-40b2-a0fe-9a6ea8ed9d72",
   "metadata": {},
   "source": [
    "- 깃 다운로드: <https://git-scm.com/downloads>\n",
    "- 토큰생성 및 복사: <https://github.com/settings/tokens>\n",
    "- 원격과 로칼의 연결"
   ]
  },
  {
   "cell_type": "markdown",
   "id": "4d942b02-4e8a-495d-9aa5-2836003564ad",
   "metadata": {},
   "source": [
    "## 실습6: 코드스페이스 (코드스페이스)"
   ]
  },
  {
   "cell_type": "markdown",
   "id": "3bee3586-3c39-47dd-9370-c137b21d1487",
   "metadata": {},
   "source": [
    "- 원격제어 + 깃을 동시에 이해해야함.\n",
    "- 터미널에서 \"컨트롤(커맨드) C + 컨트롤(커맨드) V\" 가능하도록 허용\n",
    "- \"컨트롤(커맨드) + 쉬프트 + P\" -> jupyter 입력 -> 새로운 노트북파일 만들기"
   ]
  },
  {
   "cell_type": "markdown",
   "id": "3b8f4606-6fca-41d0-8fd7-608d881ab8e0",
   "metadata": {},
   "source": [
    "<font color=green>반 영구적으로 패키지 설치 후 사용 가능, 서버는 연결 끊기면 끝나지만 이건 유지되고 있음</font>"
   ]
  },
  {
   "cell_type": "markdown",
   "id": "c2302d93-0c92-40b8-a9e5-5e6390ec034a",
   "metadata": {},
   "source": [
    "<font color=green>bin - binary</font>"
   ]
  },
  {
   "cell_type": "markdown",
   "id": "4ff6c803-13ea-4e61-8246-6d84fd42d363",
   "metadata": {},
   "source": [
    "<font color=green>github이랑 연결된 main..</font>"
   ]
  },
  {
   "cell_type": "markdown",
   "id": "d34da9df-4d8d-43b3-98a8-1d90ca8ba85e",
   "metadata": {},
   "source": [
    "<font color=green>rm은 파일이나 빈 폴더 삭제 가능</font>"
   ]
  },
  {
   "cell_type": "markdown",
   "id": "81fc2f8c-a640-44bd-a20f-ed3e8a647f06",
   "metadata": {},
   "source": [
    "<font color=green>`rm`: remove의 약자로, 파일이나 디렉터리를 삭제하는 명령어입니다.</font>\n",
    "    \n",
    "<font color=green>`-r`: recursive의 약자로, 디렉터리를 삭제할 때 해당 디렉터리의 모든 하위 디렉터리와 파일도 함께 삭제합니다.</font>\n",
    "    \n",
    "<font color=green>`-f`: force의 약자로, 삭제 작업을 확인하지 않고 강제로 진행합니다.</font>"
   ]
  },
  {
   "cell_type": "markdown",
   "id": "a19cd3de-1ad9-43f0-a2dd-44fa07727e2f",
   "metadata": {},
   "source": [
    "## 실습7: VI 벼락치기 (코드스페이스)"
   ]
  },
  {
   "cell_type": "markdown",
   "id": "97e8eb0c-706b-4890-a7dd-bab77ee71eb0",
   "metadata": {},
   "source": [
    "- i, esc\n",
    "- 파일만들기, 파일수정하기\n",
    "- 복사 & 붙여넣기\n",
    "- 저장후 종료, 그냥 종료, 강제종료\n",
    "- /asdf + 엔터 + n + (쉬프트+n)\n",
    "- 단어끝으로 이동=e, 단어처음으로 이동=b"
   ]
  },
  {
   "cell_type": "markdown",
   "id": "933bf65c-e444-4185-a21b-8dd2ecef2dda",
   "metadata": {},
   "source": [
    "<font color=green>vi 는 메모장 개념</font>"
   ]
  },
  {
   "cell_type": "markdown",
   "id": "4f4b0f69-5db5-4f6c-818c-c5b9ec20f002",
   "metadata": {},
   "source": [
    "<font color=green>맥에서는 `e`가 home 개념, `b`거 end 개념</font>"
   ]
  },
  {
   "cell_type": "markdown",
   "id": "a4499a97-01ae-4f8e-b40a-675c07bfd86c",
   "metadata": {},
   "source": [
    "<font color=green>검색기능 `/`</font>"
   ]
  },
  {
   "cell_type": "markdown",
   "id": "780e6f20-603b-4264-b01a-70ed607f1065",
   "metadata": {},
   "source": [
    "<font color=green>검색하고 `/ppal` 이런 식으로 하고 `e`눌러서 마지막으로 가보쟈</font>"
   ]
  },
  {
   "cell_type": "markdown",
   "id": "eb375b0a-1987-4929-a9ee-c7cdaab34d9b",
   "metadata": {},
   "source": [
    "::: {.callout-note}\n",
    "vi는 리눅스 및 유닉스 기반의 운영 체제에서 사용되는 텍스트 편집기입니다. vi는 화면 기반의 텍스트 편집 도구로, 명령 모드와 입력 모드로 구분되어 있습니다.\n",
    "\n",
    "명령 모드(Command Mode): vi를 시작하면 기본적으로 명령 모드에 있습니다. 이 모드에서는 텍스트를 편집하는 명령들을 실행할 수 있습니다. 예를 들어, 텍스트를 복사하거나 붙여넣기, 삭제, 저장 등의 작업을 수행합니다.\n",
    "\n",
    "입력 모드(Insert Mode): 명령 모드에서 \"i\"를 누르면 입력 모드로 전환됩니다. 이 모드에서는 키보드로 직접 텍스트를 입력할 수 있습니다.\n",
    "\n",
    "-> `dd` 한 라인 삭제\n",
    "\n",
    "vi를 사용하는 기본적인 흐름은 다음과 같습니다:\n",
    "\n",
    "vi 시작: 터미널에서 vi 명령어를 입력하고 파일 이름을 지정하여 vi 편집기를 시작합니다.\n",
    "\n",
    "bash\n",
    "Copy code\n",
    "vi filename.txt\n",
    "명령 모드(Command Mode): 편집기가 시작되면 기본적으로 명령 모드에 있습니다.\n",
    "\n",
    "`입력 모드(Insert Mode)`: `i`를 눌러 입력 모드로 전환하고, 텍스트를 입력할 수 있습니다.\n",
    "\n",
    "`저장 및 종료`: 입력이 끝나면 Esc 키를 눌러 명령 모드로 전환하고, `:wq`를 입력하여 저장하고 종료합니다.\n",
    "\n",
    "vi는 초기에는 사용자에게 다소 어려울 수 있지만, 강력한 텍스트 편집 기능을 제공하므로 익숙해지면 효율적으로 사용할 수 있습니다. 또한, vim이라는 향상된 버전도 있어서 더 많은 기능을 지원합니다.\n",
    ":::"
   ]
  },
  {
   "cell_type": "markdown",
   "id": "91f2c601-eef9-416f-8c85-f794e2a81375",
   "metadata": {},
   "source": [
    "::: {.callout-note}\n",
    "wq는 vi 편집기에서 파일을 저장하고 나가기 위한 명령어입니다. 이 명령어는 명령 모드에서 입력하며, 파일을 저장하고 나가기 위해 사용됩니다.\n",
    "\n",
    "여기서 w는 \"write\"를 나타내고, 파일에 변경 사항을 저장하는 데 사용됩니다. q는 \"quit\"를 나타내며, 편집기를 종료하는 데 사용됩니다.\n",
    "\n",
    "따라서 :wq를 사용하면 현재 편집 중인 파일을 저장하고 vi 편집기를 종료합니다. 만약 저장하지 않은 변경 사항이 있다면 경고 메시지 없이 종료되지 않습니다.\n",
    "\n",
    "다른 유용한 vi 명령어들은 다음과 같습니다:\n",
    "\n",
    "`:w`: 현재 파일을 저장합니다.\n",
    "\n",
    "`:q`: 편집기를 종료합니다. (저장되지 않은 변경 사항이 있다면 종료되지 않습니다.)\n",
    "\n",
    "`:q!`: 강제로 편집기를 종료하고 저장하지 않은 변경 사항을 무시합니다.\n",
    "\n",
    "`:x` 또는 `:wq`: 변경 사항을 저장하고 편집기를 종료합니다.\n",
    "\n",
    "따라서 :wq는 \"저장하고 종료\"를 의미하며, 자주 사용되는 명령 중 하나입니다.\n",
    "\n",
    ":::"
   ]
  },
  {
   "cell_type": "markdown",
   "id": "de3a9f65-5274-4baa-867f-6387b0dd2a72",
   "metadata": {},
   "source": [
    "## 실습8: 서버접속 (강의용 윈도우 컴퓨터)"
   ]
  },
  {
   "cell_type": "markdown",
   "id": "4fe00865-b22e-484c-86e8-a5382a7837e3",
   "metadata": {},
   "source": [
    "- ~ssh toolbox@210.117.173.182~\n",
    "- 비밀번호는 jbnu"
   ]
  },
  {
   "cell_type": "markdown",
   "id": "131b55fd-f48b-4614-8d14-1fd3c70bb276",
   "metadata": {},
   "source": [
    "## 실습9: 서버접속2 (개인 노트북)"
   ]
  },
  {
   "cell_type": "markdown",
   "id": "a38d5c14-58cd-4606-8669-4ead98165c04",
   "metadata": {},
   "source": [
    "- 휴대폰 테더링으로 잡고 본인 노트북으로 해보세요.\n",
    "- 실패함."
   ]
  },
  {
   "cell_type": "markdown",
   "id": "59b3f161-a1da-4930-926c-03e4037c12bf",
   "metadata": {},
   "source": [
    "## 실습10: 윈도우에서 블로그 생성 (강의용 윈도우 컴퓨터)"
   ]
  },
  {
   "cell_type": "markdown",
   "id": "26d98ccc-e04f-46e0-bea7-3b7fea90ad48",
   "metadata": {},
   "source": [
    "- quarto 설치: <https://quarto.org/docs/download/>\n",
    "- quarto create-project --type website:blog\n",
    "- git add .\n",
    "- git commit -m .\n",
    "- git push\n",
    "- quarto publish gh-pages"
   ]
  },
  {
   "cell_type": "markdown",
   "id": "adcb0849-6023-40a0-bd64-a8c0328b1737",
   "metadata": {},
   "source": [
    "## 실습11: 코드스페이스에서 블로그 생성 (코드스페이스) "
   ]
  },
  {
   "cell_type": "markdown",
   "id": "37c1fd89-156e-4566-8370-a4456ae9b527",
   "metadata": {},
   "source": [
    "- git clone ??\n",
    "- 몇 가지 변경 (index.qmd 에서 자기소개 추가하기, _quarto.yml 에서 블로그 타이틀 설정하기)\n",
    "- git add .\n",
    "- git commit -m .\n",
    "- git push\n",
    "- quarto publish --no-browser --no-prompt "
   ]
  },
  {
   "cell_type": "markdown",
   "id": "6c12452a-5567-4965-92af-785b95c12f46",
   "metadata": {},
   "source": [
    "<font color=green>맥에서는 `cmd + shift + p`하면 vscode에서 새 주피터 생성</font>"
   ]
  },
  {
   "cell_type": "markdown",
   "id": "e428ced9-5430-400d-8ab1-09802df3f61a",
   "metadata": {},
   "source": [
    "## 실습12: 블로그 포스트 업로드 (코드스페이스)"
   ]
  },
  {
   "cell_type": "markdown",
   "id": "7f358b77-726c-4084-bfdd-f044359aaf9a",
   "metadata": {},
   "source": [
    "- <https://guebin.github.io/IP2022/2022/03/28/(4주차)-3월28일.html>\n",
    "- <https://guebin.github.io/IR2021/2021/10/14/(6주차)-10월14일-특강.html>\n",
    "- 최상단에 raw 셀로 아래의 내용입력"
   ]
  },
  {
   "cell_type": "markdown",
   "id": "fffb1ff4-b840-455d-bd04-56a09e70ead1",
   "metadata": {},
   "source": [
    "```\n",
    "---\n",
    "title: \"my title\"\n",
    "author: \"최규빈\"\n",
    "date: \"01/02/2024\"\n",
    "---\n",
    "```"
   ]
  },
  {
   "cell_type": "markdown",
   "id": "e4c103a3-9128-4519-88cd-2ba5473db197",
   "metadata": {},
   "source": [
    "## 실습13: 코드스페이스에 작업한 블로그를 윈도우로 pull (강의용 윈도우 컴퓨터) "
   ]
  },
  {
   "cell_type": "markdown",
   "id": "40484ba7-38b2-43db-8780-99e9b6045fa8",
   "metadata": {},
   "source": [
    "- git switch gh-pages\n",
    "- git add .\n",
    "- git commit -m .\n",
    "- git switch main\n",
    "- git add .\n",
    "- git commit -m .\n",
    "- git push"
   ]
  },
  {
   "cell_type": "markdown",
   "id": "08b215cb-eeb1-4bb1-88d1-1a3334f1380f",
   "metadata": {},
   "source": [
    "## 실습14: quarto publish 의 동작이해 (강의용 윈도우 컴퓨터)"
   ]
  },
  {
   "cell_type": "markdown",
   "id": "a07ceb27-fdce-4b90-9a75-57766bf92de9",
   "metadata": {},
   "source": [
    "- 질문1: git add . -> git commit -m . -> git push -> quarto publish --no-browser --no-prompt 순서로 꼭 업로드 해야하는가? 그냥 단순히 \"quarto publish --no-browser --no-prompt\" 만 하면 안되는가? "
   ]
  },
  {
   "cell_type": "code",
   "execution_count": null,
   "id": "5c475910-9f19-4622-ade9-02a27087ccb6",
   "metadata": {},
   "outputs": [],
   "source": []
  }
 ],
 "metadata": {
  "kernelspec": {
   "display_name": "Python 3",
   "language": "python",
   "name": "python3"
  },
  "language_info": {
   "codemirror_mode": {
    "name": "ipython",
    "version": 3
   },
   "file_extension": ".py",
   "mimetype": "text/x-python",
   "name": "python",
   "nbconvert_exporter": "python",
   "pygments_lexer": "ipython3",
   "version": "3.8.0"
  }
 },
 "nbformat": 4,
 "nbformat_minor": 5
}
