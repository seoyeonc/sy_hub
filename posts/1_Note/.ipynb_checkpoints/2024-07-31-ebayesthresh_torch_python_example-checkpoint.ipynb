{
 "cells": [
  {
   "cell_type": "raw",
   "id": "62d97bfd-feaa-4c97-8265-33f8ac4aecb4",
   "metadata": {
    "id": "cac470df-29e7-4148-9bbd-d8b9a32fa570",
    "tags": []
   },
   "source": [
    "---\n",
    "title: \"EbayesThresh torch Python화 활용법\"\n",
    "author: \"SEOYEON CHOI\"\n",
    "date: \"2024-07-31\"\n",
    "---"
   ]
  },
  {
   "cell_type": "markdown",
   "id": "857c196a-a690-4234-85ee-0f8f45dd7c4b",
   "metadata": {},
   "source": [
    "# Install"
   ]
  },
  {
   "cell_type": "code",
   "execution_count": 1,
   "id": "39044b45-fb55-4471-ba00-3e12a0ad21cd",
   "metadata": {},
   "outputs": [
    {
     "name": "stdout",
     "output_type": "stream",
     "text": [
      "Collecting git+https://github.com/seoyeonc/ebayesthresh_torch.git\n",
      "  Cloning https://github.com/seoyeonc/ebayesthresh_torch.git to /tmp/pip-req-build-jqa7jacd\n",
      "  Running command git clone --filter=blob:none --quiet https://github.com/seoyeonc/ebayesthresh_torch.git /tmp/pip-req-build-jqa7jacd\n",
      "  Resolved https://github.com/seoyeonc/ebayesthresh_torch.git to commit 627c53c0ffba07d05320a24120b67e1b626a18e1\n",
      "  Preparing metadata (setup.py) ... \u001b[?25ldone\n",
      "\u001b[?25hRequirement already satisfied: torch==2.0.1 in /home/csy/anaconda3/envs/temp_csy/lib/python3.8/site-packages (from ebayesthresh-torch==0.0.1) (2.0.1)\n",
      "Requirement already satisfied: scipy==1.10.1 in /home/csy/anaconda3/envs/temp_csy/lib/python3.8/site-packages (from ebayesthresh-torch==0.0.1) (1.10.1)\n",
      "Requirement already satisfied: statsmodels==0.14.0 in /home/csy/anaconda3/envs/temp_csy/lib/python3.8/site-packages (from ebayesthresh-torch==0.0.1) (0.14.0)\n",
      "Requirement already satisfied: numpy<1.27.0,>=1.19.5 in /home/csy/anaconda3/envs/temp_csy/lib/python3.8/site-packages (from scipy==1.10.1->ebayesthresh-torch==0.0.1) (1.23.5)\n",
      "Requirement already satisfied: packaging>=21.3 in /home/csy/anaconda3/envs/temp_csy/lib/python3.8/site-packages (from statsmodels==0.14.0->ebayesthresh-torch==0.0.1) (23.0)\n",
      "Requirement already satisfied: patsy>=0.5.2 in /home/csy/anaconda3/envs/temp_csy/lib/python3.8/site-packages (from statsmodels==0.14.0->ebayesthresh-torch==0.0.1) (0.5.3)\n",
      "Requirement already satisfied: pandas>=1.0 in /home/csy/anaconda3/envs/temp_csy/lib/python3.8/site-packages (from statsmodels==0.14.0->ebayesthresh-torch==0.0.1) (2.0.1)\n",
      "Requirement already satisfied: filelock in /home/csy/anaconda3/envs/temp_csy/lib/python3.8/site-packages (from torch==2.0.1->ebayesthresh-torch==0.0.1) (3.9.0)\n",
      "Requirement already satisfied: typing-extensions in /home/csy/anaconda3/envs/temp_csy/lib/python3.8/site-packages (from torch==2.0.1->ebayesthresh-torch==0.0.1) (4.5.0)\n",
      "Requirement already satisfied: sympy in /home/csy/anaconda3/envs/temp_csy/lib/python3.8/site-packages (from torch==2.0.1->ebayesthresh-torch==0.0.1) (1.11.1)\n",
      "Requirement already satisfied: networkx in /home/csy/anaconda3/envs/temp_csy/lib/python3.8/site-packages (from torch==2.0.1->ebayesthresh-torch==0.0.1) (2.8.4)\n",
      "Requirement already satisfied: jinja2 in /home/csy/anaconda3/envs/temp_csy/lib/python3.8/site-packages (from torch==2.0.1->ebayesthresh-torch==0.0.1) (3.1.2)\n",
      "Requirement already satisfied: tzdata>=2022.1 in /home/csy/anaconda3/envs/temp_csy/lib/python3.8/site-packages (from pandas>=1.0->statsmodels==0.14.0->ebayesthresh-torch==0.0.1) (2023.3)\n",
      "Requirement already satisfied: pytz>=2020.1 in /home/csy/anaconda3/envs/temp_csy/lib/python3.8/site-packages (from pandas>=1.0->statsmodels==0.14.0->ebayesthresh-torch==0.0.1) (2023.3)\n",
      "Requirement already satisfied: python-dateutil>=2.8.2 in /home/csy/anaconda3/envs/temp_csy/lib/python3.8/site-packages (from pandas>=1.0->statsmodels==0.14.0->ebayesthresh-torch==0.0.1) (2.8.2)\n",
      "Requirement already satisfied: six in /home/csy/anaconda3/envs/temp_csy/lib/python3.8/site-packages (from patsy>=0.5.2->statsmodels==0.14.0->ebayesthresh-torch==0.0.1) (1.16.0)\n",
      "Requirement already satisfied: MarkupSafe>=2.0 in /home/csy/anaconda3/envs/temp_csy/lib/python3.8/site-packages (from jinja2->torch==2.0.1->ebayesthresh-torch==0.0.1) (2.1.1)\n",
      "Requirement already satisfied: mpmath>=0.19 in /home/csy/anaconda3/envs/temp_csy/lib/python3.8/site-packages (from sympy->torch==2.0.1->ebayesthresh-torch==0.0.1) (1.2.1)\n"
     ]
    }
   ],
   "source": [
    "!pip install git+https://github.com/seoyeonc/ebayesthresh_torch.git"
   ]
  },
  {
   "cell_type": "markdown",
   "id": "787ec12d-a59e-4b95-852d-33114ae9f80d",
   "metadata": {},
   "source": [
    "# Import"
   ]
  },
  {
   "cell_type": "code",
   "execution_count": 215,
   "id": "8e91f07f-c2c4-4144-a785-17cbbe6fc4a1",
   "metadata": {},
   "outputs": [],
   "source": [
    "import ebayesthresh_torch"
   ]
  },
  {
   "cell_type": "code",
   "execution_count": 216,
   "id": "060756d2-f9da-4d09-b41a-0349789a643e",
   "metadata": {},
   "outputs": [],
   "source": [
    "import torch\n",
    "import torch.nn as nn\n",
    "import torch.nn.functional as F\n",
    "import matplotlib.pyplot as plt\n",
    "import numpy as np"
   ]
  },
  {
   "cell_type": "markdown",
   "id": "731607a3-fc82-40de-88d3-2f2d74cc3b93",
   "metadata": {},
   "source": [
    "# 예제를 위해 필요한 함수 정의"
   ]
  },
  {
   "cell_type": "code",
   "execution_count": 217,
   "id": "3d581120-1fd4-42b0-9971-6a01d48f08fd",
   "metadata": {},
   "outputs": [],
   "source": [
    "def make_Psi(T):\n",
    "    W = torch.zeros((T,T))\n",
    "    for i in range(T):\n",
    "        for j in range(T):\n",
    "            if i==j :\n",
    "                W[i,j] = 0\n",
    "            elif torch.abs(torch.tensor(i - j)) <= 1 : \n",
    "                W[i,j] = 1\n",
    "    d = W.sum(dim=1)\n",
    "    D = torch.diag(d)\n",
    "    L = torch.diag(1/torch.sqrt(d)) @ (D-W) @ torch.diag(1/torch.sqrt(d))\n",
    "    lamb, Psi = torch.linalg.eigh(L)\n",
    "    return Psi"
   ]
  },
  {
   "cell_type": "markdown",
   "id": "3b3628c9-cd0d-4c20-b83a-56f10e3ec200",
   "metadata": {},
   "source": [
    "# Example"
   ]
  },
  {
   "cell_type": "code",
   "execution_count": 218,
   "id": "b637a611-5a48-4ed5-997e-a4a3d5d4be11",
   "metadata": {},
   "outputs": [],
   "source": [
    "T = 100\n",
    "x = np.arange(T)/T * 10\n",
    "y_true = 3*np.sin(0.5*x) + 1.2*np.sin(1.0*x) + 0.5*np.sin(1.2*x) \n",
    "y = y_true + np.random.normal(size=T)"
   ]
  },
  {
   "cell_type": "code",
   "execution_count": 219,
   "id": "cba711be-7042-40fb-9144-93ef10c31b2f",
   "metadata": {},
   "outputs": [
    {
     "data": {
      "text/plain": [
       "[<matplotlib.lines.Line2D at 0x7f6ef4c0ed30>]"
      ]
     },
     "execution_count": 219,
     "metadata": {},
     "output_type": "execute_result"
    },
    {
     "data": {
      "image/png": "[encoded data removed]",
      "text/plain": [
       "<Figure size 720x432 with 1 Axes>"
      ]
     },
     "metadata": {
      "needs_background": "light"
     },
     "output_type": "display_data"
    }
   ],
   "source": [
    "plt.figure(figsize=(10,6))\n",
    "plt.plot(x,y,'o')\n",
    "plt.plot(x,y_true,'--')"
   ]
  },
  {
   "cell_type": "code",
   "execution_count": 220,
   "id": "c251b013-e121-484d-b6ce-2f5608623cbf",
   "metadata": {},
   "outputs": [],
   "source": [
    "f = np.array(y)\n",
    "if len(f.shape)==1: f = f.reshape(-1,1)\n",
    "T,N = f.shape\n",
    "Psi = make_Psi(T)\n",
    "fbar = Psi.T @ f # apply dft "
   ]
  },
  {
   "cell_type": "code",
   "execution_count": 221,
   "id": "60b60b57-0056-443a-86cd-c91951ca04ae",
   "metadata": {},
   "outputs": [],
   "source": [
    "fbar_threshed = ebayesthresh_torch.ebayesthresh(fbar[:,0])"
   ]
  },
  {
   "cell_type": "code",
   "execution_count": 222,
   "id": "b8054b51-5636-4562-9711-f0b32b4c4353",
   "metadata": {},
   "outputs": [
    {
     "data": {
      "text/plain": [
       "[<matplotlib.lines.Line2D at 0x7f6ef4bf9850>]"
      ]
     },
     "execution_count": 222,
     "metadata": {},
     "output_type": "execute_result"
    },
    {
     "data": {
      "image/png": "[encoded data removed]",
      "text/plain": [
       "<Figure size 720x432 with 1 Axes>"
      ]
     },
     "metadata": {
      "needs_background": "light"
     },
     "output_type": "display_data"
    }
   ],
   "source": [
    "plt.figure(figsize=(10,6))\n",
    "plt.plot((fbar**2)) # periodogram \n",
    "plt.plot((fbar_threshed**2)) "
   ]
  },
  {
   "cell_type": "code",
   "execution_count": 223,
   "id": "b1e34fec-7f51-4fa1-8568-971073ea8d81",
   "metadata": {},
   "outputs": [
    {
     "data": {
      "text/plain": [
       "[<matplotlib.lines.Line2D at 0x7f6ef4b6bb50>]"
      ]
     },
     "execution_count": 223,
     "metadata": {},
     "output_type": "execute_result"
    },
    {
     "data": {
      "image/png": "[encoded data removed]",
      "text/plain": [
       "<Figure size 720x432 with 1 Axes>"
      ]
     },
     "metadata": {
      "needs_background": "light"
     },
     "output_type": "display_data"
    }
   ],
   "source": [
    "plt.figure(figsize=(10,6))\n",
    "plt.plot((fbar**2)[20:80]) # periodogram \n",
    "plt.plot((fbar_threshed**2)[20:80]) "
   ]
  },
  {
   "cell_type": "code",
   "execution_count": 224,
   "id": "339c6b15-cf32-46ef-8419-8382066e9183",
   "metadata": {},
   "outputs": [
    {
     "data": {
      "text/plain": [
       "[<matplotlib.lines.Line2D at 0x7f6ef4bb0730>]"
      ]
     },
     "execution_count": 224,
     "metadata": {},
     "output_type": "execute_result"
    },
    {
     "data": {
      "image/png": "[encoded data removed]",
      "text/plain": [
       "<Figure size 720x432 with 1 Axes>"
      ]
     },
     "metadata": {
      "needs_background": "light"
     },
     "output_type": "display_data"
    }
   ],
   "source": [
    "yhat = Psi @ fbar_threshed.float() # inverse dft\n",
    "plt.figure(figsize=(10,6))\n",
    "plt.plot(x,y,'.')\n",
    "plt.plot(x,y_true,'--')\n",
    "plt.plot(x,yhat)"
   ]
  },
  {
   "cell_type": "markdown",
   "id": "1e8e761b-4c5b-4e55-8240-988fcbd93c00",
   "metadata": {},
   "source": [
    "# 사용자 함수 정의 "
   ]
  },
  {
   "cell_type": "code",
   "execution_count": 225,
   "id": "1ef400a6-212a-4c5d-8f31-fd1cc79306e7",
   "metadata": {},
   "outputs": [],
   "source": [
    "class ebayesthresh_nn(torch.nn.Module):\n",
    "    def __init__(self, **kwargs):\n",
    "        super().__init__()\n",
    "        self.bayesfac = kwargs.get(\"bayesfac\",True)\n",
    "        self.verbose = kwargs.get('verbose', True)\n",
    "        self.threshrule = kwargs.get('threshrule', 'median')\n",
    "        self.universalthresh = kwargs.get('universalthresh', True)\n",
    "        self.stabadjustment = kwargs.get('stabadjustment', None)\n",
    "        self.prior = kwargs.get('prior', 'laplace')\n",
    "        self.bayesfac = kwargs.get('bayesfac', False) \n",
    "        #--#\n",
    "        self.a = torch.tensor(0.1,requires_grad=True); self.a.data = torch.tensor(kwargs.get('a', 0.5)).float()\n",
    "        self.sdev = torch.tensor(0.1,requires_grad=True); self.sdev =  torch.tensor(kwargs.get('sdev', 0.5)).float()\n",
    "        #prior=\"laplace\", a = 0.5, bayesfac = False, sdev = None, verbose = True, threshrule = \"median\", universalthresh = True, stabadjustment = None\n",
    "    def forward(self,x):\n",
    "        out = ebayesthresh_torch.ebayesthresh(\n",
    "            x,\n",
    "            self.prior, \n",
    "            a=self.a, \n",
    "            bayesfac=self.bayesfac, \n",
    "            sdev=self.sdev, \n",
    "            verbose=self.verbose, \n",
    "            threshrule=self.threshrule, \n",
    "            universalthresh=self.universalthresh, \n",
    "            stabadjustment=self.stabadjustment\n",
    "        )\n",
    "        self.muhat = out['muhat']\n",
    "        self.a = out['a']\n",
    "        self.sdev = out['sdev']\n",
    "        return self.muhat"
   ]
  },
  {
   "cell_type": "markdown",
   "id": "81477da4-c152-4f4a-8ec1-3652180efd0a",
   "metadata": {},
   "source": [
    "> 데이터"
   ]
  },
  {
   "cell_type": "code",
   "execution_count": 226,
   "id": "6e304b8b-318e-4f2c-ab71-06c01377dba9",
   "metadata": {
    "tags": []
   },
   "outputs": [],
   "source": [
    "np.random.seed(111)\n",
    "T = 100\n",
    "x = np.arange(T)/T * 10\n",
    "ytrue = 3*np.sin(0.5*x) + 1.2*np.sin(1.0*x) + 0.5*np.sin(1.2*x) \n",
    "noise  = np.random.normal(size=T)*0.7\n",
    "y = ytrue + noise"
   ]
  },
  {
   "cell_type": "code",
   "execution_count": 227,
   "id": "543cdf05-6349-45b7-8525-a3b0bd04c462",
   "metadata": {},
   "outputs": [],
   "source": [
    "# plt.figure(figsize=(10,6))\n",
    "# plt.plot(y,'.',color='r')\n",
    "# plt.plot(ytrue,'-',color='b')"
   ]
  },
  {
   "cell_type": "markdown",
   "id": "3a0bc062-1d98-4d5e-876d-6ac585b1254d",
   "metadata": {},
   "source": [
    "> 레이어 정의"
   ]
  },
  {
   "cell_type": "code",
   "execution_count": 228,
   "id": "a752424f-ae86-4eb9-a3e3-51fde3effcda",
   "metadata": {},
   "outputs": [],
   "source": [
    "thresh_layer = ebayesthresh_nn()"
   ]
  },
  {
   "cell_type": "markdown",
   "id": "13bf116f-5c89-427f-b11d-ff4fe76975e5",
   "metadata": {},
   "source": [
    "> Fourier Transform"
   ]
  },
  {
   "cell_type": "code",
   "execution_count": 229,
   "id": "18a6dd89-df8c-4332-a7c5-5cde5fed5f9d",
   "metadata": {},
   "outputs": [],
   "source": [
    "Psi = make_Psi(T)"
   ]
  },
  {
   "cell_type": "code",
   "execution_count": 230,
   "id": "26817264-bcf0-4886-a212-4c2bc25acec4",
   "metadata": {},
   "outputs": [],
   "source": [
    "ybar = Psi.T @ y"
   ]
  },
  {
   "cell_type": "markdown",
   "id": "e3344664-eb83-489e-aae0-e0ab2dc11c7b",
   "metadata": {},
   "source": [
    "> Learn"
   ]
  },
  {
   "cell_type": "code",
   "execution_count": 231,
   "id": "b132d604-bf83-4c55-bf63-0ed8b1ca75ac",
   "metadata": {},
   "outputs": [],
   "source": [
    "power_threshed = thresh_layer(ybar)"
   ]
  },
  {
   "cell_type": "code",
   "execution_count": 232,
   "id": "c0ada8de-34bc-4698-978c-ae949cb9507c",
   "metadata": {},
   "outputs": [
    {
     "data": {
      "text/plain": [
       "tensor([  6.606373838818255, -18.459911752393730,  -5.548808386322293,\n",
       "          0.336519592469161,  -7.753497824494824,   2.122283659415806,\n",
       "         -2.837627123184061,  -0.000000000000000,   0.000000000000000,\n",
       "         -0.000000000000000,   1.390184407168864,   0.000000000000000,\n",
       "         -0.000000000000000,  -0.000000000000000,  -0.000000000000000,\n",
       "         -0.000000000000000,   0.781773544538979,  -0.000000000000000,\n",
       "         -0.000000000000000,  -0.000000000000000,  -0.000000000000000,\n",
       "         -0.632339497985928,   0.000000000000000,   0.000000000000000,\n",
       "         -0.000000000000000,  -0.000000000000000,   0.000000000000000,\n",
       "          0.000000000000000,  -0.000000000000000,   0.000000000000000,\n",
       "         -0.791569520349330,   0.000000000000000,  -0.696915272959604,\n",
       "         -0.000000000000000,  -1.430598198373583,   0.000000000000000,\n",
       "          0.942973224278802,   0.000000000000000,  -0.000000000000000,\n",
       "          0.000000000000000,  -0.000000000000000,  -0.000000000000000,\n",
       "          0.000000000000000,  -0.000000000000000,  -0.000000000000000,\n",
       "          0.000000000000000,  -0.000000000000000,  -0.000000000000000,\n",
       "         -0.000000000000000,   0.000000000000000,   0.000000000000000,\n",
       "         -0.864876475773310,  -0.000000000000000,   0.000000000000000,\n",
       "         -0.000000000000000,  -0.000000000000000,  -0.000000000000000,\n",
       "         -0.000000000000000,   0.000000000000000,   0.000000000000000,\n",
       "         -0.000000000000000,  -0.000000000000000,  -0.000000000000000,\n",
       "          0.000000000000000,  -0.000000000000000,   0.000000000000000,\n",
       "         -0.000000000000000,  -0.000000000000000,  -0.134906442023211,\n",
       "          0.000000000000000,   0.000000000000000,  -0.000000000000000,\n",
       "         -0.000000000000000,   0.000000000000000,   0.000000000000000,\n",
       "          0.077974319687101,   0.000000000000000,   0.000000000000000,\n",
       "          0.000000000000000,   0.000000000000000,   0.000000000000000,\n",
       "          0.000000000000000,   0.000000000000000,   0.374434118750229,\n",
       "          1.342773817293552,   0.060728811672864,   0.000000000000000,\n",
       "          1.244851651799166,  -0.000000000000000,   0.000000000000000,\n",
       "          0.000000000000000,  -0.000000000000000,  -0.000000000000000,\n",
       "          0.000000000000000,   0.000000000000000,   0.000000000000000,\n",
       "          0.430651230343156,   0.000000000000000,  -0.000000000000000,\n",
       "         -0.000000000000000], dtype=torch.float64, grad_fn=<MulBackward0>)"
      ]
     },
     "execution_count": 232,
     "metadata": {},
     "output_type": "execute_result"
    }
   ],
   "source": [
    "power_threshed"
   ]
  },
  {
   "cell_type": "code",
   "execution_count": 233,
   "id": "fed06a3c-4946-4938-a7bb-864a01ae4a07",
   "metadata": {},
   "outputs": [
    {
     "data": {
      "text/plain": [
       "tensor(0.500000000000000, requires_grad=True)"
      ]
     },
     "execution_count": 233,
     "metadata": {},
     "output_type": "execute_result"
    }
   ],
   "source": [
    "thresh_layer.a"
   ]
  },
  {
   "cell_type": "code",
   "execution_count": 234,
   "id": "8819fa2e-a590-42a8-bd66-d0ce6238256b",
   "metadata": {},
   "outputs": [
    {
     "data": {
      "text/plain": [
       "tensor([0.500000000000000])"
      ]
     },
     "execution_count": 234,
     "metadata": {},
     "output_type": "execute_result"
    }
   ],
   "source": [
    "thresh_layer.sdev"
   ]
  },
  {
   "cell_type": "code",
   "execution_count": 235,
   "id": "8cbdfafa-a5d1-418d-b4f2-d591e03ca820",
   "metadata": {},
   "outputs": [],
   "source": [
    "gradient = torch.ones(power_threshed.shape)\n",
    "power_threshed.backward(gradient=gradient)"
   ]
  },
  {
   "cell_type": "code",
   "execution_count": 236,
   "id": "7dc0bc9b-f78a-423c-b4db-c8c76aa3c96e",
   "metadata": {},
   "outputs": [
    {
     "data": {
      "text/plain": [
       "tensor([  6.606373838818255, -18.459911752393730,  -5.548808386322293,\n",
       "          0.336519592469161,  -7.753497824494824,   2.122283659415806,\n",
       "         -2.837627123184061,  -0.000000000000000,   0.000000000000000,\n",
       "         -0.000000000000000,   1.390184407168864,   0.000000000000000,\n",
       "         -0.000000000000000,  -0.000000000000000,  -0.000000000000000,\n",
       "         -0.000000000000000,   0.781773544538979,  -0.000000000000000,\n",
       "         -0.000000000000000,  -0.000000000000000,  -0.000000000000000,\n",
       "         -0.632339497985928,   0.000000000000000,   0.000000000000000,\n",
       "         -0.000000000000000,  -0.000000000000000,   0.000000000000000,\n",
       "          0.000000000000000,  -0.000000000000000,   0.000000000000000,\n",
       "         -0.791569520349330,   0.000000000000000,  -0.696915272959604,\n",
       "         -0.000000000000000,  -1.430598198373583,   0.000000000000000,\n",
       "          0.942973224278802,   0.000000000000000,  -0.000000000000000,\n",
       "          0.000000000000000,  -0.000000000000000,  -0.000000000000000,\n",
       "          0.000000000000000,  -0.000000000000000,  -0.000000000000000,\n",
       "          0.000000000000000,  -0.000000000000000,  -0.000000000000000,\n",
       "         -0.000000000000000,   0.000000000000000,   0.000000000000000,\n",
       "         -0.864876475773310,  -0.000000000000000,   0.000000000000000,\n",
       "         -0.000000000000000,  -0.000000000000000,  -0.000000000000000,\n",
       "         -0.000000000000000,   0.000000000000000,   0.000000000000000,\n",
       "         -0.000000000000000,  -0.000000000000000,  -0.000000000000000,\n",
       "          0.000000000000000,  -0.000000000000000,   0.000000000000000,\n",
       "         -0.000000000000000,  -0.000000000000000,  -0.134906442023211,\n",
       "          0.000000000000000,   0.000000000000000,  -0.000000000000000,\n",
       "         -0.000000000000000,   0.000000000000000,   0.000000000000000,\n",
       "          0.077974319687101,   0.000000000000000,   0.000000000000000,\n",
       "          0.000000000000000,   0.000000000000000,   0.000000000000000,\n",
       "          0.000000000000000,   0.000000000000000,   0.374434118750229,\n",
       "          1.342773817293552,   0.060728811672864,   0.000000000000000,\n",
       "          1.244851651799166,  -0.000000000000000,   0.000000000000000,\n",
       "          0.000000000000000,  -0.000000000000000,  -0.000000000000000,\n",
       "          0.000000000000000,   0.000000000000000,   0.000000000000000,\n",
       "          0.430651230343156,   0.000000000000000,  -0.000000000000000,\n",
       "         -0.000000000000000], dtype=torch.float64, grad_fn=<MulBackward0>)"
      ]
     },
     "execution_count": 236,
     "metadata": {},
     "output_type": "execute_result"
    }
   ],
   "source": [
    "power_threshed"
   ]
  },
  {
   "cell_type": "code",
   "execution_count": 237,
   "id": "2956bcfb-9ec2-48f4-97b7-865fd5e2a124",
   "metadata": {},
   "outputs": [
    {
     "data": {
      "text/plain": [
       "tensor(0.500000000000000, requires_grad=True)"
      ]
     },
     "execution_count": 237,
     "metadata": {},
     "output_type": "execute_result"
    }
   ],
   "source": [
    "thresh_layer.a"
   ]
  },
  {
   "cell_type": "code",
   "execution_count": 238,
   "id": "e44c34df-3025-4851-98a1-749261794f53",
   "metadata": {},
   "outputs": [
    {
     "data": {
      "text/plain": [
       "tensor([0.500000000000000])"
      ]
     },
     "execution_count": 238,
     "metadata": {},
     "output_type": "execute_result"
    }
   ],
   "source": [
    "thresh_layer.sdev"
   ]
  },
  {
   "cell_type": "markdown",
   "id": "41c5f76d-ea71-4600-b055-3ac833a4b677",
   "metadata": {},
   "source": [
    "> 왜 gradient가 필요한가?\n",
    "비스칼라 텐서에 대해 Tensor.backward()를 호출할 때, 기울기를 계산하기 위해 명시적인 gradient 값을 필요로 합니다. 이는 미분할 함수의 기울기 방향과 크기를 정의하는 것입니다.\n",
    "비유: 수학적으로 기울기를 계산할 때, 우리는 어떤 기준값을 가지고 기울기를 측정합니다. gradient는 이러한 기준값을 제공하여, PyTorch가 적절한 기울기를 계산할 수 있도록 돕습니다.\n",
    "예시 없이 설명하기\n",
    "스칼라 텐서: x = torch.tensor(3.0, requires_grad=True)와 같은 경우, x.backward()만 호출하면 기울기가 자동으로 계산됩니다. 왜냐하면 x는 단일 값이므로, 기울기를 계산할 기준이 명확합니다.\n",
    "비스칼라 텐서: x = torch.randn(2, 2, requires_grad=True)와 같은 경우, x.backward()를 호출하려면 gradient 파라미터를 제공해야 합니다. 이 경우, gradient는 x의 모양과 같은 2x2 텐서여야 하며, 각 요소의 기울기 초기 값을 제공합니다.\n",
    "-GPT"
   ]
  },
  {
   "cell_type": "markdown",
   "id": "4a8d1e71-4f40-493b-a361-8da9a01918ea",
   "metadata": {},
   "source": [
    "- gradient (Tensor, optional) – The gradient of the function being differentiated w.r.t. self. This argument can be omitted if self is a scalar.[공식문서](https://pytorch.org/docs/stable/generated/torch.Tensor.backward.html)"
   ]
  },
  {
   "cell_type": "code",
   "execution_count": null,
   "id": "74cc8a62-eea3-4a3e-825b-bc41f3e2462f",
   "metadata": {},
   "outputs": [],
   "source": []
  }
 ],
 "metadata": {
  "kernelspec": {
   "display_name": "Python 3",
   "language": "python",
   "name": "python3"
  },
  "language_info": {
   "codemirror_mode": {
    "name": "ipython",
    "version": 3
   },
   "file_extension": ".py",
   "mimetype": "text/x-python",
   "name": "python",
   "nbconvert_exporter": "python",
   "pygments_lexer": "ipython3",
   "version": "3.8.0"
  }
 },
 "nbformat": 4,
 "nbformat_minor": 5
}
