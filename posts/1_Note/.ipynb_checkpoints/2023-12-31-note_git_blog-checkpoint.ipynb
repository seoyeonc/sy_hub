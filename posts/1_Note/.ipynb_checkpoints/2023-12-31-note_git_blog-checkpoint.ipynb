{
 "cells": [
  {
   "cell_type": "raw",
   "id": "1be79e3e-e5b4-43ee-b31c-26013b9a6d84",
   "metadata": {},
   "source": [
    "---\n",
    "title: \"[Note] Tips of Linux, Git and Blog\"\n",
    "author: \"SEOYEON CHOI\"\n",
    "date: \"2023-12-31\"\n",
    "---"
   ]
  },
  {
   "cell_type": "markdown",
   "id": "7e049ee1-5c37-46ed-b270-9457e025553e",
   "metadata": {},
   "source": [
    "# Non Category"
   ]
  },
  {
   "cell_type": "markdown",
   "id": "e670f7e6-7e23-43b9-977a-cfbb269917c1",
   "metadata": {},
   "source": [
    "`-` `ls` vs `mc`"
   ]
  },
  {
   "cell_type": "markdown",
   "id": "3bfa6e24-bf82-4a07-838d-a703ccf89ad4",
   "metadata": {},
   "source": [
    "<font color=green>\"ls\"는 현재 디렉터리의 파일 및 폴더 목록을 표시하는 명령어이고, \"mc\"는 Midnight Commander라는 파일 관리자 프로그램</font>"
   ]
  },
  {
   "cell_type": "markdown",
   "id": "b90d73ab-0bf4-47e1-b6ce-1621eac0c4ec",
   "metadata": {},
   "source": [
    "macOS (Homebrew를 통한 설치):"
   ]
  },
  {
   "cell_type": "markdown",
   "id": "a5cc7184-8dbf-492d-b734-ea471aa8a41f",
   "metadata": {},
   "source": [
    "```linux\n",
    "brew install mc\n",
    "```"
   ]
  },
  {
   "cell_type": "markdown",
   "id": "95c2b8eb-9475-462d-ba31-009426011e0f",
   "metadata": {},
   "source": [
    "`-` 파일 출력"
   ]
  },
  {
   "cell_type": "markdown",
   "id": "7a5333c4-f56d-4c58-9e64-dafc8e92e3b2",
   "metadata": {},
   "source": [
    "```linux\n",
    "cat 파일이름\n",
    "```"
   ]
  },
  {
   "cell_type": "markdown",
   "id": "c5e35b36-ed4d-4767-9f67-afcd17e9a580",
   "metadata": {},
   "source": [
    "```linux\n",
    "cat example.txt\n",
    "```"
   ]
  },
  {
   "cell_type": "markdown",
   "id": "8a542758-5a2a-49ee-99ce-b0245d1df650",
   "metadata": {},
   "source": [
    "# Jupyter"
   ]
  },
  {
   "cell_type": "markdown",
   "id": "b8af9e51-ce45-4541-bd93-1b2b6cc2ae76",
   "metadata": {},
   "source": [
    "`-` 설치"
   ]
  },
  {
   "cell_type": "markdown",
   "id": "bf8c07ba-ae3f-4c90-9a42-fcb0d4e402ca",
   "metadata": {},
   "source": [
    "```linux\n",
    "conda install -c conda-forge jupyterlab \n",
    "```"
   ]
  },
  {
   "cell_type": "markdown",
   "id": "baf7c71f-67c1-4ec1-8e2a-5f031578bb34",
   "metadata": {},
   "source": [
    "```linux\n",
    "conda install -c conda-forge notebook\n",
    "```"
   ]
  },
  {
   "cell_type": "markdown",
   "id": "6b305df5-ea6e-4b1a-a271-5e1e7bc8e3d4",
   "metadata": {},
   "source": [
    "`-` 비밂번호"
   ]
  },
  {
   "cell_type": "markdown",
   "id": "9266f8b9-589b-4510-809d-bcd515910d50",
   "metadata": {},
   "source": [
    "```linux\n",
    "jupyter notebook password\n",
    "```"
   ]
  },
  {
   "cell_type": "markdown",
   "id": "fe2d276f-e697-4a40-b862-2fa5797e2b34",
   "metadata": {},
   "source": [
    "`-` 실행"
   ]
  },
  {
   "cell_type": "markdown",
   "id": "17bd0d76-97b1-448e-9e75-6b6359665341",
   "metadata": {},
   "source": [
    "```linux\n",
    "jupyter lab --ip=\"0.0.0.0\" --port={MY-PORT} --no-browser --allow-root\n",
    "```"
   ]
  },
  {
   "cell_type": "markdown",
   "id": "a44ef2a4-bcea-4d4e-bea4-02e1b77d3041",
   "metadata": {},
   "source": [
    "<font color=green>0.0.0.0은 아이피 번호, {MY-PORT}에 사용할 포트 번호 적기</font>"
   ]
  },
  {
   "cell_type": "markdown",
   "id": "5017c674-70e0-4a5a-974a-0a2157ecc46c",
   "metadata": {},
   "source": [
    "`-` 비번 없이 주피터 랩/노트 열어놓기"
   ]
  },
  {
   "cell_type": "markdown",
   "id": "c473bc7f-7982-404f-858e-2d11bcb70ea5",
   "metadata": {},
   "source": [
    "```linux\n",
    "jupyter lab --LabApp.token='' --LabApp.password=''\n",
    "```"
   ]
  },
  {
   "cell_type": "markdown",
   "id": "cc92f29b-0fa7-48ad-9f51-27fc45752893",
   "metadata": {},
   "source": [
    "```linux\n",
    "jupyter notebook --NotebookApp.token='' --NotebookApp.password='' \n",
    "```"
   ]
  },
  {
   "cell_type": "markdown",
   "id": "6dbcf226-1a21-4fe4-8ec7-c1360338b104",
   "metadata": {},
   "source": [
    "# Pytorch"
   ]
  },
  {
   "cell_type": "markdown",
   "id": "74c7e9fc-1948-4027-a16a-1cb95c00a2de",
   "metadata": {},
   "source": [
    "[홈페이지](https://pytorch.org/get-started/locally/)에서 코드 받아 직접 설치"
   ]
  },
  {
   "cell_type": "markdown",
   "id": "e5654d0e-516a-435d-b280-f910bc1fe730",
   "metadata": {},
   "source": [
    "`-` 예시"
   ]
  },
  {
   "cell_type": "markdown",
   "id": "7f8608ca-9357-404f-81cc-705d1d99faa1",
   "metadata": {},
   "source": [
    "```linux\n",
    "conda install pytorch torchvision torchaudio pytorch-cuda=11.8 -c pytorch -c nvidia\n",
    "```"
   ]
  },
  {
   "cell_type": "markdown",
   "id": "c368e2a1-9810-4f64-abb2-3f17974e0962",
   "metadata": {},
   "source": [
    "<font color=green>버전 등 신경써서. 오류날 수 있으니</font>"
   ]
  },
  {
   "cell_type": "markdown",
   "id": "01526d1f-90eb-4460-9a2a-1e18b678ef5f",
   "metadata": {},
   "source": [
    "# Git"
   ]
  },
  {
   "cell_type": "markdown",
   "id": "2dff770d-5965-41ac-a7a4-9d6a189bff4f",
   "metadata": {},
   "source": [
    "`-` 사용자 아이디랑 비번 안 치게"
   ]
  },
  {
   "cell_type": "markdown",
   "id": "3e1213a1-a19f-45e6-a86f-b86a63a6713e",
   "metadata": {},
   "source": [
    "```linux\n",
    "git config credential.helper store\n",
    "```"
   ]
  },
  {
   "cell_type": "markdown",
   "id": "8c3fd953-5bef-4b68-a8aa-c99c4d151d88",
   "metadata": {},
   "source": [
    "## large file 관리"
   ]
  },
  {
   "cell_type": "markdown",
   "id": "49d109a5-5f9e-49e1-8965-e4ec0ad4b8c7",
   "metadata": {},
   "source": [
    "`-` Large file git push 가능하도록 하는 방법(100mb인가 넘으면 git push 오류남)"
   ]
  },
  {
   "cell_type": "markdown",
   "id": "b7725713-39e3-4ba0-abea-4543505cc3ef",
   "metadata": {
    "tags": []
   },
   "source": [
    "```linux\n",
    "git lfs install\n",
    "```"
   ]
  },
  {
   "cell_type": "markdown",
   "id": "ab6169f7-7eda-4cf9-be14-06349d05b577",
   "metadata": {},
   "source": [
    "- Git Large File Storage (LFS)를 사용하도록 Git을 구성하는 명령어입니다. \n",
    "- Git LFS는 대용량 파일을 효과적으로 관리할 수 있도록 도와주는 확장 기능"
   ]
  },
  {
   "cell_type": "markdown",
   "id": "437f34a8-f655-42d4-91d9-3ff6662c2939",
   "metadata": {},
   "source": [
    "`-` 사용법"
   ]
  },
  {
   "cell_type": "markdown",
   "id": "c63a0c5c-85eb-4fd9-9562-944f32c8760b",
   "metadata": {
    "tags": []
   },
   "source": [
    "```linux\n",
    "git lfs track “*.npy\" \n",
    "```"
   ]
  },
  {
   "cell_type": "markdown",
   "id": "db10a2ea-e787-4f2f-8b05-a7640b7000ce",
   "metadata": {
    "tags": []
   },
   "source": [
    "- `npy`로 끝나는 파일 찾아서 large file 업로드 가능하도록 만들어서 push\n",
    "- 즉, 원하는 파일 확장자 다 large file git push 가능하도록 설정할 수 있다.\n",
    "- 원하는 파일만 큰 따옴표 안에 지정해서 large file git push 가능하도록 성정할 수 있다."
   ]
  },
  {
   "cell_type": "markdown",
   "id": "9f43079d-b3f4-4804-92d0-adf7bc4739d8",
   "metadata": {},
   "source": [
    "## git switch main/gh-pages(branch name)"
   ]
  },
  {
   "cell_type": "markdown",
   "id": "71669df7-d402-4be6-8a07-09b05cc7c5d3",
   "metadata": {},
   "source": [
    "<font color=green>quarto page 오류뜰때 사용할 수 있는 방법, 파일 지우는 과정 있어서 조심해서 코드 작성해야 함</font>"
   ]
  },
  {
   "cell_type": "markdown",
   "id": "1b35a8cf-2410-42f0-932f-889b0599b5f0",
   "metadata": {},
   "source": [
    "`-` main 브랜치"
   ]
  },
  {
   "cell_type": "markdown",
   "id": "050a790b-c04e-4e5e-b6f8-1cfa21fd9058",
   "metadata": {},
   "source": [
    "```linux\n",
    "git switch main\n",
    "```"
   ]
  },
  {
   "cell_type": "markdown",
   "id": "9b0d53b6-779e-46d5-8e8d-db593c7c1293",
   "metadata": {},
   "source": [
    "`-` gh-pages 브랜치"
   ]
  },
  {
   "cell_type": "markdown",
   "id": "56ba3414-87d2-4717-bbb6-2c5fc3c0879a",
   "metadata": {},
   "source": [
    "```linux\n",
    "git switch gh-pages \n",
    "```"
   ]
  },
  {
   "cell_type": "markdown",
   "id": "52f4e71e-124d-4fe9-848c-1d927cba3e00",
   "metadata": {},
   "source": [
    "`-` step"
   ]
  },
  {
   "cell_type": "markdown",
   "id": "faec9de9-b882-490e-b142-a547bcdb71c1",
   "metadata": {},
   "source": [
    "1. `git switch main`으로 main으로 가서\n",
    "    - git add .\n",
    "    - git commit -m .\n",
    "    - git push \n",
    "2. `git switch gh-pages` 으로 gh-pages로 가서\n",
    "    - 모든 파일 삭제.\n",
    "    - 여기는 페이지의 파일이라 삭제해도 무방\n",
    "    - main이 기본, gh-pages는 페이지를 만들기 위한 임시 공간으로서 여기 있는 파일 다 지워도 main에는 남아 있음\n",
    "    - git add .\n",
    "    - git commit -m .\n",
    "    - git push 하고\n",
    "3. `git switch main`main 다시 가서\n",
    "    - git add .\n",
    "    - git commit -m .\n",
    "    - git push"
   ]
  },
  {
   "cell_type": "markdown",
   "id": "b8691c17-4a52-48f4-884a-582e3319793c",
   "metadata": {},
   "source": [
    "## 파일 삭제할때 사용!"
   ]
  },
  {
   "cell_type": "markdown",
   "id": "ebd42656-0b4b-413a-8670-b3d71269bb68",
   "metadata": {},
   "source": [
    "```linux\n",
    "rm -rf * \n",
    "```"
   ]
  },
  {
   "cell_type": "markdown",
   "id": "d2c0f899-3d62-44d3-936a-88341058994d",
   "metadata": {},
   "source": [
    "```linux\n",
    "rm -rf 파일명\n",
    "```"
   ]
  },
  {
   "cell_type": "markdown",
   "id": "a4a61ea5-a591-494b-bb0a-75c6a4213e53",
   "metadata": {
    "tags": []
   },
   "source": [
    "# Quarto"
   ]
  },
  {
   "cell_type": "markdown",
   "id": "33daaa0d-8566-4dbd-9627-361c3caa74f1",
   "metadata": {},
   "source": [
    "## Update"
   ]
  },
  {
   "cell_type": "markdown",
   "id": "53e5e727-e54a-4051-b31a-3cdcd3764387",
   "metadata": {},
   "source": [
    "`1` 다운로드 주소를 복사한다."
   ]
  },
  {
   "cell_type": "markdown",
   "id": "d71ea0e9-2bde-4320-9113-6e0b9efeafc3",
   "metadata": {},
   "source": [
    "`2` 코드를 입력한다.(wget 주소를 직접 얻어서 sudo 관리자권한으로 실행 순서), 아래는 예시임!"
   ]
  },
  {
   "cell_type": "markdown",
   "id": "2f8149e1-f3e8-4643-ad61-e38ff730b31a",
   "metadata": {},
   "source": [
    "```linux\n",
    "wget https://github.com/quarto-dev/quarto-cli/releases/download/v1.4.315/quarto-1.4.315-linux-amd64.deb\n",
    "```"
   ]
  },
  {
   "cell_type": "markdown",
   "id": "a12ac895-4ba7-463c-8640-3f11ca4b3c5e",
   "metadata": {},
   "source": [
    "```linux\n",
    "sudo dpkg -i quarto-1.4.315-linux-amd64.deb \n",
    "```"
   ]
  },
  {
   "cell_type": "markdown",
   "id": "74a90863-81b1-45d0-bf6d-e7d49aee4f3a",
   "metadata": {},
   "source": [
    "- `sudo`: 명령어를 관리자 권한으로 실행하기 위한 명령어입니다.\n",
    "- `dpkg`: Debian 패키지 관리자입니다.\n",
    "- `-i`: 패키지를 설치하기 위한 옵션입니다."
   ]
  },
  {
   "cell_type": "markdown",
   "id": "a315e871-4328-452b-8739-f79d261e79ae",
   "metadata": {},
   "source": [
    "## Presentation"
   ]
  },
  {
   "cell_type": "markdown",
   "id": "357cc5b7-6c79-404e-a4a9-4f33b63e6ee5",
   "metadata": {},
   "source": [
    "`-` 렌더링, latex의 build랑 같은 개념(문서화한다는 뜻으로 보면 될 듯)"
   ]
  },
  {
   "cell_type": "markdown",
   "id": "2024f3bc-889a-430e-9e4b-96b6bd09150e",
   "metadata": {},
   "source": [
    "```linux\n",
    "quarto render 파일이름.파일형식\n",
    "```"
   ]
  },
  {
   "cell_type": "markdown",
   "id": "02bc0900-8dbe-4db2-9c6e-56463fabfb07",
   "metadata": {},
   "source": [
    "- qmd, ipynb,..."
   ]
  },
  {
   "cell_type": "markdown",
   "id": "59b0b2fb-a680-4d03-bc5e-2b0ad122875f",
   "metadata": {},
   "source": [
    "`-` 미리보기"
   ]
  },
  {
   "cell_type": "markdown",
   "id": "dca43e7e-dd31-4e6f-a1f0-3f2b6aee660d",
   "metadata": {},
   "source": [
    "```linux\n",
    "quarto preview 파일이름.파일형식 --no-browser --host 0.0.0.0\n",
    "```"
   ]
  },
  {
   "cell_type": "markdown",
   "id": "df596431-1a06-427a-a0db-24077872323f",
   "metadata": {},
   "source": [
    "- `--no-browser` 안 쓰면 자동으로 브라우저 오픈된다."
   ]
  },
  {
   "cell_type": "markdown",
   "id": "26ed22ac-28d4-40cb-8312-6777393d898c",
   "metadata": {},
   "source": [
    "# Editor"
   ]
  },
  {
   "cell_type": "markdown",
   "id": "79a5d424-8be9-4387-89cd-47a05cd5c404",
   "metadata": {},
   "source": [
    "## nano"
   ]
  },
  {
   "cell_type": "markdown",
   "id": "7a87007e-ae21-4c7d-bd31-1de413126ccf",
   "metadata": {},
   "source": [
    "`-` 설치"
   ]
  },
  {
   "cell_type": "markdown",
   "id": "6d19d233-d80d-40fe-a69c-47242fcdb91b",
   "metadata": {},
   "source": [
    "```linux\n",
    "sudo apt-get install nano   # Debian/Ubuntu\n",
    "sudo yum install nano       # Red Hat/Fedora\n",
    "```"
   ]
  },
  {
   "cell_type": "markdown",
   "id": "2cc6f20c-f878-485e-bffc-d1e75a74c228",
   "metadata": {},
   "source": [
    "`-` 여는 법"
   ]
  },
  {
   "cell_type": "markdown",
   "id": "b2f7e039-f425-4c18-8a8a-fd5da8304421",
   "metadata": {},
   "source": [
    "```linux\n",
    "nano 파일이름.파일형식(nano ref.bib)\n",
    "```"
   ]
  },
  {
   "cell_type": "markdown",
   "id": "cf44a75f-419e-4225-9fb4-d3ed73d73829",
   "metadata": {},
   "source": [
    "`-` 사용법"
   ]
  },
  {
   "cell_type": "markdown",
   "id": "48d8db73-4b89-4353-abba-e13b9ff0f8de",
   "metadata": {},
   "source": [
    "- 저장: `Ctrl + O`\n",
    "- 종료: `Ctrl + X`\n",
    "- 특수 문자: ^는 Ctrl을 나타냅니다. 예를 들어, ^G는 Ctrl + G를 의미합니다"
   ]
  },
  {
   "cell_type": "markdown",
   "id": "93be21e8-7c57-400a-8d5f-cb0b4bb1cc30",
   "metadata": {},
   "source": [
    "### nano로 매크로같은 명령어 파일 만들기"
   ]
  },
  {
   "cell_type": "markdown",
   "id": "69ae6f54-8842-4530-9e40-63a87c66c7c7",
   "metadata": {},
   "source": [
    "`1` sh확장자 가진 push 파일을 만들기"
   ]
  },
  {
   "cell_type": "markdown",
   "id": "c618eef3-ab4b-4cbb-bdf1-35d3a5cc934f",
   "metadata": {},
   "source": [
    "```linux\n",
    "nano push.sh\n",
    "```"
   ]
  },
  {
   "cell_type": "markdown",
   "id": "50f7f6c3-69c6-43a9-bd3b-a522e62505a2",
   "metadata": {},
   "source": [
    "<font color=green>터미널에서 보면 파일명이 흰색임</font>"
   ]
  },
  {
   "cell_type": "markdown",
   "id": "861cd535-d215-41be-82a4-e243b3f6a19f",
   "metadata": {},
   "source": [
    "`2` 실행하고 싶은 명령어 입력"
   ]
  },
  {
   "cell_type": "markdown",
   "id": "54cdf8e0-0c12-406c-9849-3bc8c590c093",
   "metadata": {},
   "source": [
    "- git add . / git commit -m . / git push 등 하고 싶은 명령어 넣고"
   ]
  },
  {
   "cell_type": "markdown",
   "id": "674a3636-6e0b-4b32-a587-bb8b6332efef",
   "metadata": {},
   "source": [
    "`3` 실행 권한 추가하기"
   ]
  },
  {
   "cell_type": "markdown",
   "id": "9b0b6391-4757-4c65-bee4-b33f6728a955",
   "metadata": {},
   "source": [
    "```linux\n",
    "chmod +x push.sh\n",
    "```"
   ]
  },
  {
   "cell_type": "markdown",
   "id": "382b0729-f565-4314-b944-6696ac466fe5",
   "metadata": {},
   "source": [
    "<font color=green>터미널에서 보면 파일명이 녹색으로 바뀜</font>"
   ]
  },
  {
   "cell_type": "markdown",
   "id": "a844f0ee-b750-494f-9099-72288566cd5d",
   "metadata": {},
   "source": [
    "- change mode, 실행권한을 추가하라(+x) push라는 sh 확장자를 가진 파일에"
   ]
  },
  {
   "cell_type": "markdown",
   "id": "7942fde0-a6cd-4ac6-93cd-6bf16a4e0b45",
   "metadata": {},
   "source": [
    "`4` 시행"
   ]
  },
  {
   "cell_type": "markdown",
   "id": "e148d273-cdfd-4b0d-ba08-36c7cdd1c051",
   "metadata": {},
   "source": [
    "- 이제 ~/push.sh 를 해당 quarto 블로그 들어가서 입력하여 시행만 하면 된다."
   ]
  },
  {
   "cell_type": "markdown",
   "id": "9df09096-bd4d-472d-97e6-15386eb9373c",
   "metadata": {},
   "source": [
    "## Vim"
   ]
  },
  {
   "cell_type": "markdown",
   "id": "78fd1ee1-b8b6-4b73-8996-eb52253f3dba",
   "metadata": {},
   "source": [
    "`-` 설치"
   ]
  },
  {
   "cell_type": "markdown",
   "id": "a5c6485a-d00e-4045-9d48-eb498a51a32a",
   "metadata": {},
   "source": [
    "```linux\n",
    "sudo apt-get install vim   # Debian/Ubuntu\n",
    "sudo yum install vim       # Red Hat/Fedora\n",
    "```"
   ]
  },
  {
   "cell_type": "markdown",
   "id": "95a8048b-ee42-410f-b175-7affb68c2a71",
   "metadata": {},
   "source": [
    "`-` 여는 법"
   ]
  },
  {
   "cell_type": "markdown",
   "id": "3e92e5b5-e56b-4b9e-b80c-c67fc283d2f5",
   "metadata": {},
   "source": [
    "```linux\n",
    "vim 파일이름.파일형식\n",
    "```"
   ]
  },
  {
   "cell_type": "markdown",
   "id": "2bcc7d42-2221-40b4-ab89-8d58b607e00c",
   "metadata": {},
   "source": [
    "`-` 사용법"
   ]
  },
  {
   "cell_type": "markdown",
   "id": "7c8ac6b4-cbcf-4b61-ac93-4cf97db50ea1",
   "metadata": {},
   "source": [
    "- 편집 모드로 전환: `i` 키를 누르기\n",
    "- 편집 완료 후 저장 및 종료: `Esc` 키를 누르고 :`wq` 입력 후 엔터\n",
    "    - 수정하고 `q`만 누르면 에러 뜬다. 저장 할 게 있기 때문이다."
   ]
  },
  {
   "cell_type": "markdown",
   "id": "afde457b-a30c-4b6f-8468-30059363abb7",
   "metadata": {},
   "source": [
    "# Anaconda"
   ]
  },
  {
   "cell_type": "markdown",
   "id": "92d5e6aa-bccc-4201-ac2d-01feaea2dcee",
   "metadata": {},
   "source": [
    "## 가상환경 관련"
   ]
  },
  {
   "cell_type": "markdown",
   "id": "5e942cdc-ab4e-4140-aa64-deb4eebdd6d3",
   "metadata": {},
   "source": [
    "`-` 가상환경 생성"
   ]
  },
  {
   "cell_type": "markdown",
   "id": "41407e75-89e2-4e03-acb8-5fe43c0f1e2d",
   "metadata": {},
   "source": [
    "```linux \n",
    "conda create -n my_python_env python==3.8\n",
    "```"
   ]
  },
  {
   "cell_type": "markdown",
   "id": "c959f87f-4ec4-4f03-8ce5-5b1b5abc580c",
   "metadata": {},
   "source": [
    "- `conda create`: Conda를 사용하여 가상 환경을 생성하는 명령어입니다.\n",
    "- `-n my_python_env`: 가상 환경의 이름을 설정하는 옵션으로, 여기서는 \"my_python_env\"로 지정되었습니다.\n",
    "- `python==3.8`: 생성할 가상 환경에 설치할 Python 버전을 지정하는 옵션으로, 여기서는 Python 3.8로 지정되었습니다.\n",
    "    - 버전 지정 안 하면 최신 버전으로 지정된다."
   ]
  },
  {
   "cell_type": "markdown",
   "id": "bb0cbe05-e0e6-4758-b16d-f26f32fd31d8",
   "metadata": {},
   "source": [
    "`-` 버전 확인"
   ]
  },
  {
   "cell_type": "markdown",
   "id": "52dd2577-c84d-4d88-9924-f5399e7172cc",
   "metadata": {},
   "source": [
    "```linux\n",
    "conda –version\n",
    "```"
   ]
  },
  {
   "cell_type": "markdown",
   "id": "c429ce5d-3d56-40b2-8a77-67778a2dab62",
   "metadata": {},
   "source": [
    "- `conda --version`: 현재 설치된 Conda의 버전을 확인하는 명령어입니다."
   ]
  },
  {
   "cell_type": "markdown",
   "id": "daa0f197-5620-45ff-b775-960928f50039",
   "metadata": {},
   "source": [
    "`-` 가상환경 업데이트"
   ]
  },
  {
   "cell_type": "markdown",
   "id": "27562643-6dee-4a7d-bf7e-599d8a943ed8",
   "metadata": {},
   "source": [
    "```linux\n",
    "conda update\n",
    "```"
   ]
  },
  {
   "cell_type": "markdown",
   "id": "3420cebb-2120-40ba-970b-5eb7fbb518ed",
   "metadata": {},
   "source": [
    "- Conda 자체를 업데이트하는 명령어입니다. Conda를 최신 버전으로 업데이트합니다."
   ]
  },
  {
   "cell_type": "markdown",
   "id": "49a3ac60-32aa-40f6-8f41-2bc3522e7c3b",
   "metadata": {},
   "source": [
    "`-` 가상환경 활성화"
   ]
  },
  {
   "cell_type": "markdown",
   "id": "f0e13b8c-b2d7-4a37-905e-ca895c6a39dd",
   "metadata": {},
   "source": [
    "```linux\n",
    "conda activate YOUR_ENV_NAME\n",
    "```"
   ]
  },
  {
   "cell_type": "markdown",
   "id": "ecc18dcd-cf6b-4b46-8e36-d5b15817fc9e",
   "metadata": {},
   "source": [
    "- 생성한 가상 환경을 활성화하는 명령어입니다. YOUR_ENV_NAME 부분에는 실제 가상 환경의 이름이 들어갑니다."
   ]
  },
  {
   "cell_type": "markdown",
   "id": "b75d7d34-998a-4b19-9158-37c2db8e1422",
   "metadata": {},
   "source": [
    "`-` 가상환경 비활성화"
   ]
  },
  {
   "cell_type": "markdown",
   "id": "f6758dd0-0cdc-463a-b66f-2d4dc3ecfb37",
   "metadata": {},
   "source": [
    "```linux\n",
    "conda deactivate\n",
    "```"
   ]
  },
  {
   "cell_type": "markdown",
   "id": "87f63e00-e605-4359-8c73-8c166c04b315",
   "metadata": {},
   "source": [
    "- 현재 활성화된 가상 환경을 비활성화하는 명령어입니다."
   ]
  },
  {
   "cell_type": "markdown",
   "id": "7b6d8a04-1cc2-4b17-9ca7-4bd5e1f0263a",
   "metadata": {},
   "source": [
    "`-` 가상환경 목록 확인"
   ]
  },
  {
   "cell_type": "markdown",
   "id": "295bff7a-b7b8-4ab7-bbf7-230e81de2beb",
   "metadata": {},
   "source": [
    "```linux\n",
    "conda env list\n",
    "```"
   ]
  },
  {
   "cell_type": "markdown",
   "id": "74c3278a-447e-457d-b16c-053d92d57911",
   "metadata": {},
   "source": [
    "```linux\n",
    "conda info --envs\n",
    "```"
   ]
  },
  {
   "cell_type": "markdown",
   "id": "8b273ec3-53a3-4e25-907b-a80bc232d114",
   "metadata": {},
   "source": [
    "- 현재 시스템에 설치된 가상 환경 목록을 확인하는 명령어입니다."
   ]
  },
  {
   "cell_type": "markdown",
   "id": "ef8fa8a5-f2a0-4103-9660-4a9a6ac3755c",
   "metadata": {},
   "source": [
    "`-` 가상환경 삭제"
   ]
  },
  {
   "cell_type": "markdown",
   "id": "3ae27d48-3d12-49c3-969c-d02d271cc845",
   "metadata": {},
   "source": [
    "```linux\n",
    "conda env remove --name YOUR_ENV_NAME --all\n",
    "```"
   ]
  },
  {
   "cell_type": "markdown",
   "id": "097f478b-b9ef-41dc-ba76-c440bfd6f18b",
   "metadata": {},
   "source": [
    "- 지정된 가상 환경을 삭제하는 명령어입니다.\n",
    "- `--name YOUR_ENV_NAME`: 삭제할 가상 환경의 이름을 지정하는 옵션입니다.\n",
    "- `--all`: 가상 환경에 포함된 모든 패키지를 함께 제거하는 옵션입니다."
   ]
  },
  {
   "cell_type": "markdown",
   "id": "19d6a212-7608-41ff-a563-0fce1099c58d",
   "metadata": {},
   "source": [
    "## R 관련"
   ]
  },
  {
   "cell_type": "markdown",
   "id": "3758c59d-b88e-4560-9fd1-ef8890efaccd",
   "metadata": {},
   "source": [
    "`-` r 실행"
   ]
  },
  {
   "cell_type": "markdown",
   "id": "36000188-9f8b-42cd-9f7a-c18905020111",
   "metadata": {},
   "source": [
    "```linuc\n",
    "conda install -c conda-forge r-essentials \n",
    "```"
   ]
  },
  {
   "cell_type": "markdown",
   "id": "9b5cb467-0374-4f8b-93ce-fcbfa9ac8ff6",
   "metadata": {},
   "source": [
    "- `conda install`: Conda를 사용하여 패키지를 설치하는 명령어입니다.\n",
    "- `-c conda-forge`: 패키지를 검색하고 가져올 채널을 지정하는 옵션입니다. 여기서는 conda-forge 채널에서 패키지를 찾아 가져오라는 의미입니다. conda-forge는 커뮤니티가 관리하는 Conda 패키지 저장소입니다.\n",
    "- `r-essentials`: R 언어와 관련된 필수 패키지들을 묶어놓은 메타 패키지입니다. R 언어의 중요한 패키지들을 포함하고 있어, R을 사용하는데 필수적인 패키지들을 편리하게 설치할 수 있게 도와줍니다."
   ]
  },
  {
   "cell_type": "markdown",
   "id": "87eae27d-646e-4e7e-9ed6-5092ff234243",
   "metadata": {},
   "source": [
    "# 경로"
   ]
  },
  {
   "cell_type": "markdown",
   "id": "ca7a54fb-a695-42cf-a8a3-6d845c504468",
   "metadata": {},
   "source": [
    "`-` local로 가기"
   ]
  },
  {
   "cell_type": "markdown",
   "id": "92fada33-94cb-4692-85af-c713f5b33802",
   "metadata": {},
   "source": [
    "```linux\n",
    "cd /\n",
    "```"
   ]
  },
  {
   "cell_type": "markdown",
   "id": "34981c38-67a5-48d7-ad84-fc9f6bc55fcf",
   "metadata": {},
   "source": [
    "`-` home dr로 가기"
   ]
  },
  {
   "cell_type": "markdown",
   "id": "3aad9208-ff30-412d-bdf6-840db04a2d11",
   "metadata": {},
   "source": [
    "```linux\n",
    "cd~\n",
    "```"
   ]
  },
  {
   "cell_type": "markdown",
   "id": "2bc8ecb9-6b13-4e21-897b-6d0dffee5d75",
   "metadata": {},
   "source": [
    "# ps"
   ]
  },
  {
   "cell_type": "markdown",
   "id": "da17a32a-e636-4791-b50e-e3ce437d457e",
   "metadata": {},
   "source": [
    "```linux\n",
    "ps aux\n",
    "```"
   ]
  },
  {
   "cell_type": "markdown",
   "id": "4aa7e977-3266-4c04-991c-3de070171fee",
   "metadata": {},
   "source": [
    "- `process status all user x` 의 약자인듯\n",
    "- Unix 및 Linux 시스템에서 실행 중인 프로세스에 대한 상세한 정보를 제공하는 명령어입니다\n",
    "- 이 명령어는 시스템의 모든 사용자에 대한 프로세스 목록을 보여줍니다. 각 컬럼은 프로세스의 다양한 정보를 나타냅니다."
   ]
  },
  {
   "cell_type": "markdown",
   "id": "046c4096-5222-48e0-bb7a-0317c720497d",
   "metadata": {},
   "source": [
    "- `USER`: 프로세스를 실행한 사용자의 이름입니다.\n",
    "- `PID`: 프로세스 ID로, 각 프로세스를 고유하게 식별하는 번호입니다.\n",
    "- `%CPU`: CPU 사용량의 백분율을 나타냅니다.\n",
    "- `%MEM`: 메모리 사용량의 백분율을 나타냅니다.\n",
    "- `VSZ`: 가상 메모리 크기(KB)입니다.\n",
    "- `RSS`: 실제 메모리 크기(KB)입니다.\n",
    "- `TTY`: 터미널 유형입니다.\n",
    "- `STAT`: 프로세스의 상태를 나타냅니다. 예를 들어, R은 실행 중인 프로세스를 나타냅니다.\n",
    "- `START`: 프로세스가 시작된 시간입니다.\n",
    "- `TIME`: 누적 CPU 사용 시간입니다.\n",
    "- `COMMAND`: 프로세스를 시작한 명령어 또는 실행 파일입니다."
   ]
  },
  {
   "cell_type": "markdown",
   "id": "1f18786e-3425-480a-b333-c0095f59013e",
   "metadata": {},
   "source": [
    "`-` jupyter 들어간 프로세스 이름 검색"
   ]
  },
  {
   "cell_type": "markdown",
   "id": "b5edfd1e-6b7e-4caa-99ae-0fcdee414564",
   "metadata": {},
   "source": [
    "```linux\n",
    "ps aux | grep jupyter\n",
    "```"
   ]
  },
  {
   "cell_type": "markdown",
   "id": "c8adf751-d78e-4083-be73-c91b5fbd35b0",
   "metadata": {},
   "source": [
    "- `ps`: 현재 실행 중인 프로세스를 보기 위한 명령어.\n",
    "- `aux`: 프로세스의 상세 정보를 출력하는 옵션으로, 사용자(user), CPU 사용량(%CPU), 메모리 사용량(%MEM), 시작 시간 등을 표시합니다.\n",
    "- `|` (파이프): 앞의 명령어의 출력을 뒤의 명령어의 입력으로 보냅니다.\n",
    "- `grep jupyter`: 출력된 결과 중 \"jupyter\"라는 문자열을 찾아서 보여줍니다."
   ]
  },
  {
   "cell_type": "markdown",
   "id": "cbfe7fcc-e78d-4431-96c7-7a14b4b87410",
   "metadata": {},
   "source": [
    "- 주피터 프로세스 죽이고 싶을때 여기서 프로세스 찾아서 하면 됨"
   ]
  },
  {
   "cell_type": "markdown",
   "id": "22540705-e17f-41e9-8cb0-da09ac897ba5",
   "metadata": {},
   "source": [
    "```linux\n",
    "kill 프로세스 번호\n",
    "```"
   ]
  },
  {
   "cell_type": "markdown",
   "id": "0dc808c4-6837-40f5-9218-2570ef4b12da",
   "metadata": {},
   "source": [
    "# 권한"
   ]
  },
  {
   "cell_type": "markdown",
   "id": "24791bdd-0af1-4893-85fb-1afbe438821e",
   "metadata": {},
   "source": [
    "`-` 루트 (Root) / 슈퍼유저 (Superuser)"
   ]
  },
  {
   "cell_type": "markdown",
   "id": "7c7ef8d9-af4b-4eae-ac41-818aa2afdeee",
   "metadata": {},
   "source": [
    "- 역할: 시스템에서 최상위 권한을 가진 사용자로, 모든 권한을 가지고 있습니다.\n",
    "- 계정명: 일반적으로 \"root\" 계정으로 알려져 있습니다.\n",
    "- 권한: 시스템의 모든 리소스에 접근하고 수정할 수 있는 권한을 가지며, 시스템 설정과 관련된 모든 작업을 수행할 수 있습니다.\n",
    "- 주의사항: 루트 계정은 매우 강력한 권한을 가지기 때문에 조심해서 사용해야 하며, 필요한 경우에만 사용해야 합니다."
   ]
  },
  {
   "cell_type": "markdown",
   "id": "79b45a9e-0fa7-4306-8bfb-ae4315ba8663",
   "metadata": {},
   "source": [
    "`-` 일반 유저"
   ]
  },
  {
   "cell_type": "markdown",
   "id": "79b7b5b7-09fa-4fde-accc-cd19b988a783",
   "metadata": {},
   "source": [
    "- 역할: 시스템에 로그인하여 작업을 수행하는 일반 사용자입니다.\n",
    "- 계정명: 개별 사용자가 생성한 계정으로, 각자의 홈 디렉터리에만 접근할 수 있습니다.\n",
    "- 권한: 자신의 홈 디렉터리 및 필요한 파일 및 디렉터리에 대해서만 읽기/쓰기/실행 권한을 가지고 있습니다.\n",
    "- 주의사항: 시스템 관리 작업을 할 때에는 슈퍼유저로 전환하여 실행해야 하는 작업이 있습니다."
   ]
  },
  {
   "cell_type": "markdown",
   "id": "12512392-d98d-421d-8c35-1aa5a199d274",
   "metadata": {},
   "source": [
    "`-` 슈퍼유저 (Superuser) / 관리자 권한 유저"
   ]
  },
  {
   "cell_type": "markdown",
   "id": "021ac629-2b5b-4c84-84b2-27571b7c3aa5",
   "metadata": {},
   "source": [
    "- 역할: 특정 작업을 위해 일시적으로 루트 권한을 얻을 수 있는 사용자입니다.\n",
    "- 계정명: 다양한 시스템에서는 \"sudo\" 명령어를 통해 슈퍼유저 권한을 얻기 위해 설정된 사용자입니다.\n",
    "- 권한: 슈퍼유저 권한을 사용하여 일부 시스템 관리 작업을 수행할 수 있습니다.\n",
    "- 주의사항: 슈퍼유저 권한을 남용하지 않도록 주의해야 하며, 필요한 경우에만 슈퍼유저 권한을 사용해야 합니다."
   ]
  },
  {
   "cell_type": "markdown",
   "id": "f8e2cfde-c061-47f9-8b23-bf185152aac6",
   "metadata": {},
   "source": [
    "`-` `sudo`"
   ]
  },
  {
   "cell_type": "markdown",
   "id": "260904c5-94bc-4662-a504-1e75522627e5",
   "metadata": {},
   "source": [
    "루트권한(관리자권한)획득하는 코드"
   ]
  },
  {
   "cell_type": "markdown",
   "id": "b64dbe65-e2ff-45e4-9774-1edb96d5ad8d",
   "metadata": {},
   "source": [
    "```linux\n",
    "sudo -i\n",
    "```"
   ]
  },
  {
   "cell_type": "markdown",
   "id": "617da1f1-44dd-4775-982a-85df7e89fd58",
   "metadata": {},
   "source": [
    "# 파일 저장"
   ]
  },
  {
   "cell_type": "markdown",
   "id": "8d7caaed-6094-4d66-8ff4-282c313f7305",
   "metadata": {},
   "source": [
    "`-`  jupyter 들어간 프로세스 이름 검색해서 sh.txt 파일로 저장"
   ]
  },
  {
   "cell_type": "markdown",
   "id": "2fb44854-745d-4c4c-be84-e9a0856485f7",
   "metadata": {},
   "source": [
    "```linux\n",
    "ps aux | grep jupyter > sh.txt\n",
    "```"
   ]
  },
  {
   "cell_type": "markdown",
   "id": "867ac16a-facb-4c6f-89c1-d39d1b3da9e0",
   "metadata": {},
   "source": [
    "`-` 현재 Conda 환경에 설치된 패키지들의 목록을 con.txt 로 저장"
   ]
  },
  {
   "cell_type": "markdown",
   "id": "ff632938-273c-45f6-afdd-8535bba7f896",
   "metadata": {},
   "source": [
    "```linux\n",
    "conda list > con.txt\n",
    "```"
   ]
  },
  {
   "cell_type": "markdown",
   "id": "9d41a8a2-b6ca-42a8-ab40-d85da06406cb",
   "metadata": {},
   "source": [
    "`-` 현재 Python 환경에 설치된 패키지들의 목록을 pip.txt로 저장"
   ]
  },
  {
   "cell_type": "markdown",
   "id": "7c8b86c1-6127-4e04-87b6-ba4de984999e",
   "metadata": {},
   "source": [
    "```linux\n",
    "pip list > pip.txt\n",
    "```"
   ]
  },
  {
   "cell_type": "markdown",
   "id": "abe2e94e-10a1-491b-9453-2da1d28da4ac",
   "metadata": {},
   "source": [
    "`-` pip로 설치한 목록들"
   ]
  },
  {
   "cell_type": "markdown",
   "id": "05e3bea5-b29c-4e52-bcb8-90bc66a3e239",
   "metadata": {},
   "source": [
    "```linux\n",
    "pip freeze \n",
    "```"
   ]
  },
  {
   "cell_type": "markdown",
   "id": "fa12a030-1ccf-409f-91d1-0e956524786a",
   "metadata": {},
   "source": [
    "`-` pip로 설치한 목록들을 dd.md 파일로 저장"
   ]
  },
  {
   "cell_type": "markdown",
   "id": "8b17d5c3-3e93-4164-afae-a66c66feb668",
   "metadata": {},
   "source": [
    "```linux\n",
    "pip freeze > dd.md\n",
    "```"
   ]
  },
  {
   "cell_type": "markdown",
   "id": "d68585e6-90ae-4971-868a-6c82af5d9af7",
   "metadata": {},
   "source": [
    "- `pip freeze` 명령어는 현재 Python 가상 환경에 설치된 패키지들의 상세 정보를 나열, 각 패키지와 버전을 한 줄씩 표시합니다. 일반적으로 개발 프로젝트를 다른 환경에서 재현하거나 배포할 때 사용됩니다.\n",
    "- `.md`는 `Markdown` 파일"
   ]
  },
  {
   "cell_type": "markdown",
   "id": "d3ec6ceb-dc25-4f2c-b780-521980d7b464",
   "metadata": {},
   "source": [
    "`-` 이전 입력한 코드 저장(현재 했던 기록 중에서)"
   ]
  },
  {
   "cell_type": "markdown",
   "id": "2d375946-d3ba-440b-ae47-1e7e43f0ea68",
   "metadata": {},
   "source": [
    "```linux\n",
    "history>hist.txt\n",
    "```"
   ]
  },
  {
   "cell_type": "markdown",
   "id": "aff21468-710f-49db-87a1-a1ada4a7c72c",
   "metadata": {},
   "source": [
    "## 바로 설치되도록 환경 저장하는법"
   ]
  },
  {
   "cell_type": "markdown",
   "id": "0ae952dd-c160-4651-8c41-caeb1eae7658",
   "metadata": {},
   "source": [
    "`1`"
   ]
  },
  {
   "cell_type": "markdown",
   "id": "a5dcf181-e8fd-41b6-a44e-8ac8c861c157",
   "metadata": {},
   "source": [
    "```linux\n",
    "pip freeze > requirements.txt\n",
    "```"
   ]
  },
  {
   "cell_type": "markdown",
   "id": "fb59aa8e-6f4e-4a6b-bc0b-10ea57de799c",
   "metadata": {},
   "source": [
    "`2`"
   ]
  },
  {
   "cell_type": "markdown",
   "id": "e399c6e9-b2de-4942-9e93-8cab2e3699ad",
   "metadata": {},
   "source": [
    "```linux\n",
    "conda list -e > requirements_conda.txt\n",
    "```"
   ]
  },
  {
   "cell_type": "markdown",
   "id": "52975392-cb62-441b-91db-58cc67903961",
   "metadata": {},
   "source": [
    "- 이 명령어는 현재 Conda 환경에 설치된 패키지들과 그 버전을 나열하여 \"requirements_conda.txt\" 파일에 저장합니다.\n",
    "- `-e` 옵션은 Conda 환경의 정확한 사양(specification)을 나열하도록 합니다. 이 또한 프로젝트의 의존성을 추적하고, 다른 환경에서 동일한 패키지를 설치하는 데 사용됩니다. \n",
    "- 결과 파일은 일반적으로 Conda 환경을 재현하는 데 사용됩니다."
   ]
  },
  {
   "cell_type": "markdown",
   "id": "aa5f025c-bc41-4a82-b0c9-c141b3f36464",
   "metadata": {},
   "source": [
    "## 파일 복사해서 이동하기"
   ]
  },
  {
   "cell_type": "markdown",
   "id": "c733c2b2-8497-40fd-b21f-80140cfde4e9",
   "metadata": {},
   "source": [
    "`summary.txt`파일을 copy(`cp`)해서 `~/Dropbox` 폴더로 옮기기"
   ]
  },
  {
   "cell_type": "markdown",
   "id": "f9140680-4f9f-4ac9-8553-4b23997bf3fd",
   "metadata": {},
   "source": [
    "```linux\n",
    "cp summery.txt ~/Dropbox\n",
    "```"
   ]
  },
  {
   "cell_type": "markdown",
   "id": "dec6df59-3e89-4a9c-bb41-82a2aa66b318",
   "metadata": {},
   "source": [
    "- `cp`: \"copy\"의 약자로, 파일을 복사하는 명령어입니다.\n",
    "- `summery.txt`: 복사할 대상 파일의 이름입니다. 여기서는 \"summery.txt\" 파일을 대상으로 선택했습니다.\n",
    "- `~/Dropbox`: ~는 홈 디렉토리를 나타내며, ~/Dropbox는 현재 사용자의 홈 디렉토리 내에 있는 \"Dropbox\" 디렉토리를 가리킵니다. 따라서 복사된 파일은 사용자의 Dropbox 디렉토리로 이동됩니다."
   ]
  },
  {
   "cell_type": "markdown",
   "id": "f0d7f61b-7409-4c8f-9734-e0523eadcb9d",
   "metadata": {},
   "source": [
    "# NVIDIA"
   ]
  },
  {
   "cell_type": "markdown",
   "id": "943bd383-844b-4b3f-a89f-85131c2fcf96",
   "metadata": {},
   "source": [
    "<font color=green>물론 NVIDIA 설치해야 가능함</font>"
   ]
  },
  {
   "cell_type": "markdown",
   "id": "23c12ce9-e341-4cc2-ac7a-aa2f8858fb26",
   "metadata": {},
   "source": [
    "## nvidia-smi"
   ]
  },
  {
   "cell_type": "markdown",
   "id": "84956da5-e63d-4e61-b87b-d4240a46bd19",
   "metadata": {},
   "source": [
    "일반적인 출력 결과 아래"
   ]
  },
  {
   "cell_type": "markdown",
   "id": "169fc959-e358-4f20-bd04-52068687308d",
   "metadata": {},
   "source": [
    "```python\n",
    "+-----------------------------------------------------------------------------+\n",
    "| NVIDIA-SMI 460.39       Driver Version: 460.39       CUDA Version: 11.2     |\n",
    "|-------------------------------+----------------------+----------------------+\n",
    "| GPU  Name        Persistence-M| Bus-Id        Disp.A | Volatile Uncorr. ECC |\n",
    "| Fan  Temp  Perf  Pwr:Usage/Cap|         Memory-Usage | GPU-Util  Compute M. |\n",
    "|                               |                      |               MIG M. |\n",
    "|===============================+======================+======================|\n",
    "|   0  Tesla K80           Off  | 00000000:00:1E.0 Off |                    0 |\n",
    "| N/A   52C    P0    58W / 149W |    299MiB / 11441MiB |      0%      Default |\n",
    "|                               |                      |                  N/A |\n",
    "+-------------------------------+----------------------+----------------------+\n",
    "```"
   ]
  },
  {
   "cell_type": "markdown",
   "id": "6299cf73-d767-404a-9b99-ff4082ec1ae7",
   "metadata": {},
   "source": [
    "- `Driver Version`: 현재 설치된 NVIDIA GPU 드라이버의 버전입니다.\n",
    "- `CUDA Version`: 현재 설치된 CUDA (Compute Unified Device Architecture) 버전입니다.\n",
    "- `GPU Name`: GPU의 모델명입니다.\n",
    "- `Fan, Temp, Perf, Pwr`: GPU의 팬 상태, 온도, 성능, 전력 사용량 등을 보여줍니다.\n",
    "- `Memory Usage`: GPU 메모리 사용량 및 총 메모리 크기를 보여줍니다.\n",
    "- `GPU-Util`: GPU의 사용률을 나타냅니다.\n",
    "- `Compute M.`: 현재 GPU에서 사용 중인 컴퓨트 모드를 나타냅니다."
   ]
  },
  {
   "cell_type": "markdown",
   "id": "5e74f686-93d7-4caf-a908-07f254641e55",
   "metadata": {},
   "source": [
    "# Install"
   ]
  },
  {
   "cell_type": "markdown",
   "id": "a1528af9-eb5f-4d85-b5c7-fee93b87c996",
   "metadata": {},
   "source": [
    "## apt-get"
   ]
  },
  {
   "cell_type": "markdown",
   "id": "a6354715-c04a-429c-bc33-38e1d41dbe40",
   "metadata": {},
   "source": [
    "사용되는 곳: 주로 Debian 및 Ubuntu 리눅스 기반 시스템에서 사용\n",
    "\n",
    "패키지 형식: 시스템 수준의 패키지를 설치하는 데 사용\n",
    "\n",
    "Ubuntu level의 패키지 설치\n",
    "\n",
    "예시:\n",
    "\n",
    "- `sudo apt-get update`\n",
    "- `sudo apt-get install 패키지이름`\n",
    "- `wget`\n",
    "- `curl`"
   ]
  },
  {
   "cell_type": "markdown",
   "id": "a1a4aed0-0338-490f-89b0-13b7e7a9b5f9",
   "metadata": {},
   "source": [
    "## pip"
   ]
  },
  {
   "cell_type": "markdown",
   "id": "b27b28ec-1281-4cd6-8e3c-637507257d5a",
   "metadata": {},
   "source": [
    "사용되는 곳: Python 패키지를 설치 및 관리하는 데 사용\n",
    "\n",
    "패키지 형식: Python 패키지를 설치하는 데 사용\n",
    "\n",
    "Python Package만 가능 numpy, pandas 등\n",
    "\n",
    "예시:\n",
    "\n",
    "- `pip install 패키지이름`"
   ]
  },
  {
   "cell_type": "markdown",
   "id": "bfd731e3-0901-4f7b-b123-5b5edf7d7dd4",
   "metadata": {},
   "source": [
    "## conda"
   ]
  },
  {
   "cell_type": "markdown",
   "id": "6ae27777-ef29-4e50-a747-a5352836402c",
   "metadata": {},
   "source": [
    "사용되는 곳: 데이터 과학 및 머신러닝 패키지를 관리하는 데 주로 사용\n",
    "\n",
    "패키지 형식: Python 및 다른 언어의 패키지를 설치할 수 있으며, 가상 환경과 종속성 관리에 강한 포커스가 있음.\n",
    "\n",
    "패키지를 필요한 다른 패키지와 함께 연동으로 설치해줌\n",
    "\n",
    "예시:\n",
    "\n",
    "- `conda install 패키지이름`"
   ]
  },
  {
   "cell_type": "markdown",
   "id": "1a0f9ece-fadd-4cc5-b381-68b798907f4c",
   "metadata": {},
   "source": [
    "## install.packages(\"\")"
   ]
  },
  {
   "cell_type": "markdown",
   "id": "3f176761-508d-4d69-9638-ac42a55b251d",
   "metadata": {},
   "source": [
    "사용되는 곳: R 언어에서 사용\n",
    "\n",
    "패키지 형식: R 패키지를 설치하는 데 사용\n",
    "\n",
    "예시:\n",
    "\n",
    "- `install.packages(\"패키지이름\")`"
   ]
  },
  {
   "cell_type": "code",
   "execution_count": null,
   "id": "94643f7d-464a-42cf-9dcf-ae1cb58a80bd",
   "metadata": {},
   "outputs": [],
   "source": []
  }
 ],
 "metadata": {
  "kernelspec": {
   "display_name": "Python 3",
   "language": "python",
   "name": "python3"
  },
  "language_info": {
   "codemirror_mode": {
    "name": "ipython",
    "version": 3
   },
   "file_extension": ".py",
   "mimetype": "text/x-python",
   "name": "python",
   "nbconvert_exporter": "python",
   "pygments_lexer": "ipython3",
   "version": "3.8.0"
  }
 },
 "nbformat": 4,
 "nbformat_minor": 5
}
