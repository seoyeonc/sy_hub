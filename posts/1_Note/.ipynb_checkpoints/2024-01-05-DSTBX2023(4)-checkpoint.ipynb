{
 "cells": [
  {
   "cell_type": "raw",
   "id": "627a27ff-8979-4e78-a0d9-e0d74b509064",
   "metadata": {
    "id": "cac470df-29e7-4148-9bbd-d8b9a32fa570",
    "tags": []
   },
   "source": [
    "---\n",
    "title: \"DSTBX2023(4)\"\n",
    "author: \"SEOYEON CHOI\"\n",
    "date: \"2024-01-05\"\n",
    "---"
   ]
  },
  {
   "cell_type": "markdown",
   "id": "5487880c-7d96-4893-921b-394b0cb1efb4",
   "metadata": {},
   "source": [
    "## 실습41: 포트정리 (`lsof`)"
   ]
  },
  {
   "cell_type": "markdown",
   "id": "fd40aacb-9130-4ac4-825a-0f8841a1a5eb",
   "metadata": {},
   "source": [
    "`-` `lsof` 프로그램 설치 \n",
    "\n",
    "```bash\n",
    "apt-get install lsof\n",
    "apt install lsof \n",
    "```"
   ]
  },
  {
   "cell_type": "markdown",
   "id": "ef1e2bd9-90ec-485f-93d6-3b74156aaf6b",
   "metadata": {},
   "source": [
    "`-` 23052 포트를 사용하는 프로그램이 있는지 파악 \n",
    "\n",
    "```bash \n",
    "lsof -i :23052\n",
    "```"
   ]
  },
  {
   "cell_type": "markdown",
   "id": "a7f9bbee-bc4d-45b3-8de4-f2be3f92d221",
   "metadata": {},
   "source": [
    "결과는 아래와 같은 예시로 나옴 "
   ]
  },
  {
   "cell_type": "markdown",
   "id": "2dc305e8-b416-4a9f-b2f6-e10fc69c4d90",
   "metadata": {},
   "source": [
    "```\n",
    "COMMAND      PID USER   FD   TYPE    DEVICE SIZE/OFF NODE NAME\n",
    "jupyter-l 862165 root    6u  IPv4 383551982      0t0  TCP *:23052 (LISTEN)\n",
    "jupyter-l 862165 root   12u  IPv4 383671448      0t0  TCP 8c8831330c68:23052->210.117.173.181:59663 (ESTABLISHED)\n",
    "jupyter-l 862165 root   16u  IPv4 383628690      0t0  TCP 8c8831330c68:23052->210.117.173.181:59664 (ESTABLISHED)\n",
    "jupyter-l 862165 root   29u  IPv4 383612831      0t0  TCP 8c8831330c68:23052->210.117.173.181:59720 (ESTABLISHED)\n",
    "jupyter-l 862165 root   34u  IPv4 383671463      0t0  TCP 8c8831330c68:23052->210.117.173.181:59667 (ESTABLISHED)\n",
    "```"
   ]
  },
  {
   "cell_type": "markdown",
   "id": "aad2b993-e7ea-4166-b233-36b5e1b4da9f",
   "metadata": {},
   "source": [
    "`-` 각자해볼것: `ssh` 접속시 사용하는 포트 제외하고 나머지 포트를 쓰고 있는 프로그램은 삭제 \n",
    "\n",
    "```bash\n",
    "kill {PID}\n",
    "```\n",
    "\n",
    "위의 예시의 경우 \n",
    "\n",
    "```bash\n",
    "kill 862165\n",
    "```\n"
   ]
  },
  {
   "cell_type": "markdown",
   "id": "79d7cadb-5d60-4d22-ad61-64cf1c535547",
   "metadata": {},
   "source": [
    "`-` 주피터랩 평생켜놓기 + 끄기 (이거 자유자재로 할 수 있어야함) "
   ]
  },
  {
   "cell_type": "markdown",
   "id": "a74e180a-1fd8-465c-b22b-3bd2f4d9ed7a",
   "metadata": {},
   "source": [
    "`-` PID를 조회하는 다른방법  \n",
    "    \n",
    "```bash\n",
    "ps aux | grep jupyter\n",
    "```"
   ]
  },
  {
   "cell_type": "markdown",
   "id": "00d9960b-740a-4334-905f-a31751d32da5",
   "metadata": {},
   "source": [
    "## 실습42: py310, co 환경에 주피터를 설치 "
   ]
  },
  {
   "cell_type": "markdown",
   "id": "b74c4982-750b-46f2-b2b5-8ca29157ca0d",
   "metadata": {},
   "source": [
    "`-` 아래를 설치 "
   ]
  },
  {
   "cell_type": "markdown",
   "id": "08831f91-e2b4-414f-bf22-acf5b64f4778",
   "metadata": {},
   "source": [
    "```bash\n",
    "(py310) conda install -c conda-forge jupyterlab \n",
    "(py310) conda install -c conda-forge notebook \n",
    "(co) conda install -c conda-forge jupyterlab \n",
    "(co) conda install -c conda-forge notebook \n",
    "```"
   ]
  },
  {
   "cell_type": "markdown",
   "id": "f545dbff-ffcc-4028-96cc-41655309470a",
   "metadata": {},
   "source": [
    "`-` 이래야 해당환경에서 주피터를 연결할 수 있음. "
   ]
  },
  {
   "cell_type": "markdown",
   "id": "6d91f5f2-25c1-4f27-9a85-fb60ef6ecfb4",
   "metadata": {},
   "source": [
    "## 실습43: py310, co 환경에 주피터랩을 각각 띄우기 "
   ]
  },
  {
   "cell_type": "markdown",
   "id": "44dba680-b3d5-4738-a03b-de5b5c2f9aca",
   "metadata": {},
   "source": [
    "`-` 아래를 이용\n",
    "\n",
    "```bash\n",
    "(py310) jupyter lab --port 23052 \n",
    "(co) jupyter lab --port 33052 \n",
    "```"
   ]
  },
  {
   "cell_type": "markdown",
   "id": "e0c61d48-0314-4235-b4e1-b8641734f00f",
   "metadata": {},
   "source": [
    "> 터미널 여러개 쓰는게 편할걸요? "
   ]
  },
  {
   "cell_type": "markdown",
   "id": "64256947-7e55-4029-956f-e9fc5abcc3bc",
   "metadata": {},
   "source": [
    "`-` 참고로 위의 명령은 `vi jupyter_notebook_config.py` 에 대한 설정이 올바르게 끝난 상태에서 가능한 명령어임. "
   ]
  },
  {
   "cell_type": "markdown",
   "id": "80914f33-4a80-4282-afff-ed52ec5cb361",
   "metadata": {},
   "source": [
    "`-` 이제 23052 와 33052 는 각각 다른 파이썬 커널과 연결됨. 아래를 각각 실행해보자. \n",
    "\n",
    "```Python\n",
    "import pandas as pd\n",
    "df = pd.DataFrame({'A':[2143,2143],'B':['-',3456]})\n",
    "df.map(lambda x: 0 if x == '-' else x)\n",
    "```"
   ]
  },
  {
   "cell_type": "markdown",
   "id": "3ce20e2b-ce23-4789-90dc-53f25e1b135c",
   "metadata": {},
   "source": [
    "결과가 어떠한가? 왜 이런 결과가 나왔다고 생각하는가? "
   ]
  },
  {
   "cell_type": "markdown",
   "id": "6b2b33ad-34be-48ec-9340-dd39eef4674e",
   "metadata": {},
   "source": [
    "## 실습44: quarto preview"
   ]
  },
  {
   "cell_type": "markdown",
   "id": "a3244a77-a0e6-430a-b479-2b426b83c638",
   "metadata": {},
   "source": [
    "`-` 블로그를 미리보면서 편집하고 싶음. "
   ]
  },
  {
   "cell_type": "markdown",
   "id": "ee4e275e-aeaa-4115-a552-8b071c428966",
   "metadata": {},
   "source": [
    "`-` 1개의 포트에는 (py310)에 설치된 `jupyterlab`을 할당 + 1개의 포트에는 `quarto preview`를 할당\n",
    "\n",
    "```bash \n",
    "quarto preview --host \"0.0.0.0\" --port 43052\n",
    "````"
   ]
  },
  {
   "cell_type": "markdown",
   "id": "fb17d974-1d1d-47e6-9a12-b4bb5c0eb34b",
   "metadata": {},
   "source": [
    "`-` 개인적소감: 반응이 살짝 느려서 별로임. (좋을때: 처음에는 좋음) "
   ]
  },
  {
   "cell_type": "markdown",
   "id": "e57a227e-c065-4afb-b8df-2afda67923a9",
   "metadata": {},
   "source": [
    "## 실습45: quarto preview test.qmd"
   ]
  },
  {
   "cell_type": "markdown",
   "id": "212a62da-8067-4532-83af-1920fd422c02",
   "metadata": {},
   "source": [
    "`-` 파일하나만 찍어서 preview \n",
    "\n",
    "```bash \n",
    "quarto preview day4.qmd --host \"0.0.0.0\" --port 43052\n",
    "````"
   ]
  },
  {
   "cell_type": "markdown",
   "id": "2ec60547-dd7c-4420-8746-619a0815eeb4",
   "metadata": {},
   "source": [
    "`-` QMD파일은 RMD의 진화. (구 Rmarkdown)\n",
    "\n",
    "- MD --> RMD, QMD"
   ]
  },
  {
   "cell_type": "markdown",
   "id": "6451851b-18b3-4323-b193-81ccdd719cdd",
   "metadata": {},
   "source": [
    "`-` 마크다운 문법이 가능함. (MD의 기능)\n",
    "\n",
    "- 수식\n",
    "- 목록화"
   ]
  },
  {
   "cell_type": "markdown",
   "id": "c5ca0125-fb3e-4884-8161-ff7d2c1a7e76",
   "metadata": {},
   "source": [
    "`-` 또한 R, Python, Julia 등의 코드를 삽입하여 실행할 수 있음. (RMD, QMD의 기능??)\n",
    "\n",
    "````bash\n",
    "```{python}\n",
    "import matplotlib.pyplot as plt\n",
    "a = [1,2,4]\n",
    "a = a+[3] \n",
    "plt.plot(a)\n",
    "```\n",
    "````"
   ]
  },
  {
   "cell_type": "markdown",
   "id": "07916b59-2bc2-4c5e-b9a7-0abfa91cbb09",
   "metadata": {},
   "source": [
    "`-` `quarto`는 `.ipynb`의 렌더링과 `.qmd`의 렌더링 모두 지원한다. "
   ]
  },
  {
   "cell_type": "markdown",
   "id": "b939ca00-eda6-452a-bac5-868ea55831f8",
   "metadata": {},
   "source": [
    "`-` 그런데 좀 이상하지 않아요??"
   ]
  },
  {
   "cell_type": "markdown",
   "id": "e84b7c15-137c-46d8-bcfd-d958af729bd1",
   "metadata": {},
   "source": [
    "::: {.callout-note}\n",
    "`.qmd`를 사용한 파일이 있는 quarto 블로그나 대쉬보드를 \n",
    "\n",
    "가상환경에서 render하면 그 환경의 패키지 버전을 사용하고\n",
    "\n",
    "base 에서 render하면 base의 패키지 버전들을 사용함\n",
    ":::\n"
   ]
  },
  {
   "cell_type": "markdown",
   "id": "eb0319bc-34ea-4e59-b735-0814b5ce30ad",
   "metadata": {},
   "source": [
    "## 실습46: py310.qmd / co.qmd (hw)"
   ]
  },
  {
   "cell_type": "markdown",
   "id": "d8b754b4-f2c6-48d5-827b-932b0d8af979",
   "metadata": {},
   "source": [
    "`-` 해보기1: 아래와 같이 `py310.qmd` 파일을 만들고 (py310)에서 preview 해보기 "
   ]
  },
  {
   "cell_type": "markdown",
   "id": "07243df4-93fe-4f45-bdcc-58756190fefa",
   "metadata": {
    "tags": []
   },
   "source": [
    "````{.bash filename=\"py310.qmd\"}\n",
    "```{python}\n",
    "import pandas as pd\n",
    "df = pd.DataFrame({'A':[2143,2143],'B':['-',3456]})\n",
    "df.map(lambda x: 0 if x == '-' else x)\n",
    "```\n",
    "````"
   ]
  },
  {
   "cell_type": "markdown",
   "id": "0ad9c6e1-ef1b-4478-9e1e-5c3c3f201f5a",
   "metadata": {},
   "source": [
    "`-` 해보기2: 아래와 같이 `co.qmd` 파일을 만들고 (co)에서 preview 해보기 "
   ]
  },
  {
   "cell_type": "markdown",
   "id": "9bd5a565-621b-4b2d-bb82-8a4bd1d49759",
   "metadata": {
    "tags": []
   },
   "source": [
    "````{.bash filename=\"co.qmd\"}\n",
    "```{python}\n",
    "import pandas as pd\n",
    "df = pd.DataFrame({'A':[2143,2143],'B':['-',3456]})\n",
    "df.map(lambda x: 0 if x == '-' else x)\n",
    "```\n",
    "````"
   ]
  },
  {
   "cell_type": "markdown",
   "id": "68899529-f373-4b50-8fc9-f46dc41b2d29",
   "metadata": {},
   "source": [
    "## 실습47: R+Python 사용가능한 개발환경 만들기 "
   ]
  },
  {
   "cell_type": "markdown",
   "id": "31a8cd1f-eb03-4581-a097-d501a22fa367",
   "metadata": {},
   "source": [
    "`-` 아래를 실행 \n",
    "\n",
    "```bash\n",
    "conda create -n rpy \n",
    "conda activate rpy\n",
    "conda install -c conda-forge r-essentials\n",
    "conda install -c conda-forge plotly\n",
    "conda install -c conda-forge rpy2\n",
    "```"
   ]
  },
  {
   "cell_type": "markdown",
   "id": "dc94e262-5be4-4581-b0ce-6da8a32c3eb1",
   "metadata": {},
   "source": [
    "`-` 여기에서 `conda install -c conda-forge r-essentials`로 인하여 R, Python, Jupyter 가 모두 최신버전으로 설치된다."
   ]
  },
  {
   "cell_type": "markdown",
   "id": "094fd138-7d0d-4f6f-96ae-a80596dcec9e",
   "metadata": {},
   "source": [
    "`-` 또한 R에는 이미 `tidyverse`, `IRkernel` 등의 패키지가 기본으로 깔려있다."
   ]
  },
  {
   "cell_type": "markdown",
   "id": "eda3a414-e735-4f66-b286-4ccdb52f024b",
   "metadata": {},
   "source": [
    "`-` R이 설치된 경로를 찾아보자. "
   ]
  },
  {
   "cell_type": "markdown",
   "id": "5d043e62-95b7-4965-85e9-094573452af6",
   "metadata": {},
   "source": [
    "`-` 수틀리면 이 R을 지우면 된다."
   ]
  },
  {
   "cell_type": "markdown",
   "id": "8b1ec356-257b-4124-94bd-765b6e5b77b4",
   "metadata": {},
   "source": [
    "`-` R이 설치될 수 있는 3가지 시나리오 \n",
    "\n",
    "```bash\n",
    "sudo apt-get install r-base # r 공식홈페이지, 수틀리면 리눅스 포맷  \n",
    "(base) conda install -c conda-forge ... # 수틀리면 아나콘다 삭제해야함. \n",
    "(rpy) conda install -c conda-forge ... # 수틀리면 가상환경 삭제 \n",
    "```"
   ]
  },
  {
   "cell_type": "markdown",
   "id": "b01c8df0-d7e2-45ee-968c-31aaae21dffd",
   "metadata": {},
   "source": [
    "## 실습48: 포스트 업로드 "
   ]
  },
  {
   "cell_type": "markdown",
   "id": "a87a9354-4d61-489f-897f-4ef7ec74f317",
   "metadata": {},
   "source": [
    "`-` 해보기1: 적당한 `?.qmd` 파일을 만들고 아래와 같은 포스트를 올려보자. \n",
    "\n"
   ]
  },
  {
   "cell_type": "markdown",
   "id": "6c097fe8-3a04-4400-a625-6ea661448ee2",
   "metadata": {},
   "source": [
    "`-` 해보기2: 적당한 `?.ipynb` 파일을 만들고 아래와 같은 포스트를 올려보자. \n",
    "\n"
   ]
  },
  {
   "cell_type": "markdown",
   "id": "19753860-4247-4ec7-9fe2-5190719174f8",
   "metadata": {},
   "source": [
    "`-` 해보기3: 적당한 `?.qmd` 파일을 만들고 아래와 같은 포스트를 올려보자. "
   ]
  },
  {
   "cell_type": "markdown",
   "id": "b5f3bcc6-88bd-41e1-82c3-ff70544bb624",
   "metadata": {},
   "source": [
    "## 실습49: 포스트 업로드 쉽게 하는 방법"
   ]
  },
  {
   "cell_type": "markdown",
   "id": "eee9835c-f43d-4ad0-b22b-bc760e9ccfef",
   "metadata": {},
   "source": [
    "`-` 스크립트 파일 만들어요.. \n",
    "\n",
    "```{.bash filename=\"upload\"}\n",
    "quarto render \n",
    "git add .\n",
    "git commit -m .\n",
    "git push \n",
    "```"
   ]
  },
  {
   "cell_type": "markdown",
   "id": "f10b4ae1-49bc-4ecc-a8e9-989e8233c36c",
   "metadata": {},
   "source": [
    "::: {.callout-tip}\n",
    "`upload.sh`를 `vi`로 위를 입력 후 만들어\n",
    "\n",
    "여기에 저장해서 \n",
    "\n",
    "`./upload.sh`\n",
    "\n",
    "이렇개 실행해\n",
    "\n",
    ":::"
   ]
  },
  {
   "cell_type": "markdown",
   "id": "a76319a3-a0c9-4dfa-b03f-8d0d3dc00246",
   "metadata": {},
   "source": [
    "## 실습50: 스크립트 파일의 위치?"
   ]
  },
  {
   "cell_type": "markdown",
   "id": "ddd666f9-95d9-4290-9cab-93e33f25ae21",
   "metadata": {},
   "source": [
    "`-` 아래파일을 어디에 두면 좋을까? \n",
    "\n",
    "```{.bash filename=\"upload.sh\"}\n",
    "quarto render \n",
    "git add .\n",
    "git commit -m .\n",
    "git push \n",
    "```"
   ]
  },
  {
   "cell_type": "markdown",
   "id": "47a183b7-0e13-4811-9526-0de1f258a3b4",
   "metadata": {},
   "source": [
    "`-` 저는 뭐 그냥.. 홈에두긴해요"
   ]
  },
  {
   "cell_type": "markdown",
   "id": "c0761d6b-b15b-46f3-9703-35e53de111b5",
   "metadata": {},
   "source": [
    "```\n",
    "`cp` copy\n",
    "```"
   ]
  },
  {
   "cell_type": "markdown",
   "id": "08d903b2-af4b-4549-818d-465746acee0d",
   "metadata": {},
   "source": [
    "```\n",
    "`root` 가기 `cd/`\n",
    "```"
   ]
  },
  {
   "cell_type": "markdown",
   "id": "805909cc-8dce-48a6-9e81-7b4abe3b89dc",
   "metadata": {},
   "source": [
    "::: {.callout-caution collapse=\"true\"}\n",
    "`root`의 `bin`으로 가면 리눅스 코드들 존재\n",
    "\n",
    "여기에서 우리가 자주 쓰는 `ls`도 `mv ls ls2`이런 식으로 이름 바꿀 수 있음.\n",
    ":::"
   ]
  },
  {
   "cell_type": "markdown",
   "id": "15ab5d07-ae9e-49c2-9648-f55c96c7da64",
   "metadata": {},
   "source": [
    "## 실습51: 실행파일들의 위치 "
   ]
  },
  {
   "cell_type": "markdown",
   "id": "2713fba1-c294-4799-8fd9-ab9d77ab1ef9",
   "metadata": {},
   "source": [
    "## 실습52: ls의 이름바꾸기 (실습추천X) "
   ]
  },
  {
   "cell_type": "markdown",
   "id": "7aec72d8-54bb-44f4-b1f1-3729ff538ec4",
   "metadata": {},
   "source": [
    "## 실습53: `bash`커널의 이해 "
   ]
  },
  {
   "cell_type": "markdown",
   "id": "7660d81d-ea2f-4781-85b7-76cb4a99813b",
   "metadata": {
    "tags": []
   },
   "source": [
    "`-` 예비학습: 파이썬 커널"
   ]
  },
  {
   "cell_type": "markdown",
   "id": "44c52f3c-15a2-425e-b1d3-79c65e57eb17",
   "metadata": {},
   "source": [
    "`-` 예시1"
   ]
  },
  {
   "cell_type": "markdown",
   "id": "2bca4493-d89f-46fd-998a-920176facbce",
   "metadata": {
    "tags": []
   },
   "source": [
    "```bash\n",
    "a='askdfj;alskdjf;klajsdf'\n",
    "a\n",
    "$a\n",
    "echo $a\n",
    "```"
   ]
  },
  {
   "cell_type": "markdown",
   "id": "8c669d0d-70b5-410a-861d-0f400a78aa55",
   "metadata": {
    "tags": []
   },
   "source": [
    "`-` 예시2\n",
    "\n",
    "```bash\n",
    "a=('개' '고양이' '토끼')\n",
    "echo $a \n",
    "echo ${a}\n",
    "echo ${a[0]}\n",
    "echo ${a[1]}\n",
    "echo ${a[@]}\n",
    "```"
   ]
  },
  {
   "cell_type": "markdown",
   "id": "7c64fc64-0e9d-4380-8278-72b79640c7c6",
   "metadata": {},
   "source": [
    "`-` 예시3\n",
    "\n",
    "```bash\n",
    "cmd_list=(ls \"ls -a\") \n",
    "${cmd_list}\n",
    "${cmd_list[0]}\n",
    "${cmd_list[1]}\n",
    "```"
   ]
  },
  {
   "cell_type": "markdown",
   "id": "8ac7d1d6-e375-4b60-8bcb-6fcaec242d07",
   "metadata": {},
   "source": [
    "`-` 걱정: 근데 그러면 내 리눅스에는 평생 `a`, `cmd_list` 라는 변수가 있는거야? "
   ]
  },
  {
   "cell_type": "markdown",
   "id": "08d12aff-6713-4c4c-a3a3-4ce6ca7d4395",
   "metadata": {},
   "source": [
    "## 실습54: `PATH` -- 우분투에 저장된 영구변수 "
   ]
  },
  {
   "cell_type": "markdown",
   "id": "1aee8797-eb22-4898-a37c-386f3bead230",
   "metadata": {},
   "source": [
    "`-` 깨끗한 우분투에서 \n",
    "\n",
    "```bash\n",
    "$PATH # 쳐보세요\n",
    "```"
   ]
  },
  {
   "cell_type": "markdown",
   "id": "bba8bc72-a221-4d41-9b4f-610f0ed1b74e",
   "metadata": {},
   "source": [
    "`-` 아나콘다가 설치된 우분투에서 \n",
    "\n",
    "```bash\n",
    "$PATH # 쳐보세요\n",
    "```"
   ]
  },
  {
   "cell_type": "markdown",
   "id": "1cbb4b89-1a6d-4ebb-8b81-4f1f02aeef4f",
   "metadata": {},
   "source": [
    "::: {.callout-note}\n",
    "conda 는 path를 바꿔주는 역할로 단순히 이해할 수 있다.\n",
    ":::\n"
   ]
  },
  {
   "cell_type": "markdown",
   "id": "0304f286-6b4c-442f-bfbe-6fcf867548fd",
   "metadata": {},
   "source": [
    "## 실습54: 용어의 정리 "
   ]
  },
  {
   "cell_type": "markdown",
   "id": "75e126db-5121-4ab6-90cf-1a1781a7b69d",
   "metadata": {
    "tags": []
   },
   "source": [
    "`-` 폴더와 파일\n",
    "\n",
    "- 폴더: 끝에 `/`로 끝남. (근데 생략가능함) \n",
    "- 파일: 끝에 `/`로 끝나지 않음. "
   ]
  },
  {
   "cell_type": "markdown",
   "id": "61c00639-db37-4236-adeb-2d24680839f0",
   "metadata": {},
   "source": [
    "`-` 개념: 모든것은 파일과 폴더의 집합이다. "
   ]
  },
  {
   "cell_type": "markdown",
   "id": "1a003ab0-a714-4cbe-a832-7c8fdcf43855",
   "metadata": {},
   "source": [
    "`-` 183번 컴퓨터로 가보자. "
   ]
  },
  {
   "cell_type": "markdown",
   "id": "f790773b-4250-4751-a4c8-78eb3b7957cf",
   "metadata": {},
   "source": [
    "`-` 우분투컴퓨터에 `guebin`이라는 유저를 새롭게 추가했다 = `/home/guebin/` 를 만듦 "
   ]
  },
  {
   "cell_type": "markdown",
   "id": "fabd0407-7416-4998-a40c-477c2590d45a",
   "metadata": {},
   "source": [
    "`-` 우분투에서 깃을 설치했다 = 우분투에서 `sudo apt-get install git`을 실행했다. = `/usr/bin/`에 `git`이라는 파일이 생겼다. = `/usr/bin/git` 생성 "
   ]
  },
  {
   "cell_type": "markdown",
   "id": "6feb720f-f748-433b-a1e1-0844b7c14396",
   "metadata": {
    "tags": []
   },
   "source": [
    "`-` `ls`는 우분투에 이미 내장되어있는 기능이다. = `ls`는 우분투에 이미 내장되어있는 명령파일이다. = 우분투를 설치하면 `/usr/bin/`에 `ls`라는 파일이 이미 있다. "
   ]
  },
  {
   "cell_type": "markdown",
   "id": "d556ad91-fb80-4bf6-b8e7-1b5e0879f7a6",
   "metadata": {},
   "source": [
    "`-` 우분투에 `guebin`이라는 유저를 등록했다. 이후에 `guebin`이라는 유저가 아나콘다를 설치했다. = 우분투에 `guebin`이라는 유저를 등록했다. 이후에 `guebin`이라는 유저는 아나콘다를 이용하여 가상의 (base)환경을 만들었다. = `/home/guebin/anaconda3/`폴더가 만들어졌다는 의미. "
   ]
  },
  {
   "cell_type": "markdown",
   "id": "d7d595e6-79c5-4546-becc-f423abcae1ef",
   "metadata": {},
   "source": [
    "`-` 우분투에 `guebin`이라는 (슈퍼)유저를 등록했다. 이후에 `guebin`이라는 (슈퍼)유저가 루트권한을 이용하여 `git`을 설치했다. = `/home/guebin/` 이 만들어짐 + `/usr/bin/git` 생성 "
   ]
  },
  {
   "cell_type": "markdown",
   "id": "668f926c-661d-40b9-8b10-039cc4237edd",
   "metadata": {},
   "source": [
    "## 실습55: 폴더의 레벨 "
   ]
  },
  {
   "cell_type": "markdown",
   "id": "408fdeda-1b8e-41e1-a0b1-6d6c345f091e",
   "metadata": {},
   "source": [
    "`-` 183번 컴퓨터에는 4개의 중첩된 컴퓨터(=폴더)가 존재한다. \n",
    "\n",
    "- root우분투\n",
    "- guebin우분투\n",
    "- guebin우분투-(base)\n",
    "- guebin우분투-(py310)"
   ]
  },
  {
   "cell_type": "markdown",
   "id": "5abc9a03-de0a-4641-82ac-1fc0cd5e9761",
   "metadata": {},
   "source": [
    "`-` 186번 컴퓨터에는 3개의 중첩된 컴퓨터(=폴더)가 존재한다.\n",
    "\n",
    "- root우분투\n",
    "- root우분투-(base)\n",
    "- root우분투-(py310)"
   ]
  },
  {
   "cell_type": "markdown",
   "id": "59093022-70ca-45b9-b584-3af34d2e72c5",
   "metadata": {},
   "source": [
    "`-` guebin이라는 윈도우유저가 anaconda (base)를 이용하는 경우 2개의 컴퓨터가 존재한다. \n",
    "\n",
    "- guebin윈도우 \n",
    "- guebin윈도우-(base)"
   ]
  },
  {
   "cell_type": "markdown",
   "id": "6f5bacf3-9008-49f6-b233-311d7c778fda",
   "metadata": {},
   "source": [
    "## 실습56: 난 어디에서 깃을 설치했어? "
   ]
  },
  {
   "cell_type": "markdown",
   "id": "dd144a67-e570-4f92-816d-de5d648cac5e",
   "metadata": {},
   "source": [
    "`-` 문제1: 183번 컴퓨터에는 4개의 중첩된 컴퓨터(=폴더)가 존재한다. \n",
    "\n",
    "1. root우분투\n",
    "2. guebin우분투\n",
    "3. guebin우분투-(base)\n",
    "4. guebin우분투-(py310)\n",
    "\n",
    "아래의 명령을 통하여 깃을 설치했다. \n",
    "\n",
    "```bash\n",
    "(base) sudo apt-get install git \n",
    "```\n",
    "\n",
    "깃은 어디에 설치되어있는가? "
   ]
  },
  {
   "cell_type": "markdown",
   "id": "b1b677cc-2749-4299-aa07-4c2e0c8f3392",
   "metadata": {},
   "source": [
    "답: 1에"
   ]
  },
  {
   "cell_type": "markdown",
   "id": "e2a87c14-9a4c-425f-baea-548c0106e788",
   "metadata": {},
   "source": [
    "`-` 문제2: 183번 컴퓨터에는 4개의 중첩된 컴퓨터(=폴더)가 존재한다. \n",
    "\n",
    "1. root우분투\n",
    "2. guebin우분투\n",
    "3. guebin우분투-(base)\n",
    "4. guebin우분투-(py310)\n",
    "\n",
    "아래와 같이 깃을 설치했다. \n",
    "\n",
    "```bash\n",
    "(py310) sudo apt-get install git \n",
    "```\n",
    "\n",
    "깃은 어디에 설치되어있는가? "
   ]
  },
  {
   "cell_type": "markdown",
   "id": "baa9a18e-f9c9-4d9e-a375-7c5f066c217e",
   "metadata": {},
   "source": [
    "답: 1에"
   ]
  },
  {
   "cell_type": "markdown",
   "id": "d74d5d33-560d-403f-8a13-3e5da58da7b5",
   "metadata": {},
   "source": [
    "`-` 문제3: 183번 컴퓨터에는 4개의 중첩된 컴퓨터(=폴더)가 존재한다. \n",
    "\n",
    "1. root우분투\n",
    "2. guebin우분투\n",
    "3. guebin우분투-(base)\n",
    "4. guebin우분투-(py310)\n",
    "\n",
    "아래의 명령을 통하여 깃을 설치했다. \n",
    "\n",
    "```bash\n",
    "(py310) conda install -c conda-forge git \n",
    "```\n",
    "\n",
    "깃은 어디에 설치되어있는가? "
   ]
  },
  {
   "cell_type": "markdown",
   "id": "02604a9e-fc90-456c-9369-fcc4e72929c1",
   "metadata": {},
   "source": [
    "답: 4에"
   ]
  },
  {
   "cell_type": "markdown",
   "id": "fba943f3-aa33-4f3b-a6bc-975b32c20bdb",
   "metadata": {},
   "source": [
    "`-` 문제4: 183번 컴퓨터에는 4개의 중첩된 컴퓨터(=폴더)가 존재한다. \n",
    "\n",
    "1. root우분투\n",
    "2. guebin우분투\n",
    "3. guebin우분투-(base)\n",
    "4. guebin우분투-(py310)\n",
    "\n",
    "아래와 같이 깃을 설치했다. \n",
    "\n",
    "```bash\n",
    "(base) conda install -c conda-forge git\n",
    "```\n",
    "\n",
    "깃은 어디에 설치되어있는가? (이때는 base에 설치된 git이 다른환경에 영향을 주지 않음)"
   ]
  },
  {
   "cell_type": "markdown",
   "id": "d6033a4e-140d-4c1b-8b9a-51bcc218934c",
   "metadata": {},
   "source": [
    "답: 1에"
   ]
  },
  {
   "cell_type": "markdown",
   "id": "efea78f2-594d-4087-ab6f-8fe97918e933",
   "metadata": {},
   "source": [
    "## 실습57: 난 어디에서 quarto를 설치했어? "
   ]
  },
  {
   "cell_type": "markdown",
   "id": "87c2c39a-6549-4df3-85e5-c6b737a731d8",
   "metadata": {},
   "source": [
    "`-` 문제1: 183번 컴퓨터에는 4개의 중첩된 컴퓨터(=폴더)가 존재한다. \n",
    "\n",
    "1. root우분투\n",
    "2. guebin우분투\n",
    "3. guebin우분투-(base)\n",
    "4. guebin우분투-(py310)\n",
    "\n",
    "아래의 명령을 통하여 quarto를 설치했다. \n",
    "\n",
    "```bash\n",
    "(base) wget https://github.com/quarto-dev/quarto-cli/releases/download/v1.4.533/quarto-1.4.533-linux-amd64.deb\n",
    "(base) sudo dpkg -i quarto-1.4.533-linux-amd64.deb \n",
    "```\n",
    "\n",
    "quarto는 어디에 설치되어있는가? "
   ]
  },
  {
   "cell_type": "markdown",
   "id": "a6dc83d6-ebf9-4e14-84ec-1bc25449445e",
   "metadata": {},
   "source": [
    "답: 1에"
   ]
  },
  {
   "cell_type": "markdown",
   "id": "4a425194-2c5e-45df-9f34-e66e3350d593",
   "metadata": {},
   "source": [
    "`-` 문제2: 183번 컴퓨터에는 4개의 중첩된 컴퓨터(=폴더)가 존재한다. \n",
    "\n",
    "1. root우분투\n",
    "2. guebin우분투\n",
    "3. guebin우분투-(base)\n",
    "4. guebin우분투-(py310)\n",
    "\n",
    "아래의 명령을 통하여 quarto를 설치했다. \n",
    "\n",
    "```bash\n",
    "(base) wget https://github.com/quarto-dev/quarto-cli/releases/download/v1.4.533/quarto-1.4.533-linux-amd64.deb\n",
    "(base) conda activate py310 \n",
    "(py310) sudo dpkg -i quarto-1.4.533-linux-amd64.deb \n",
    "```\n",
    "\n",
    "quarto는 어디에 설치되어있는가? "
   ]
  },
  {
   "cell_type": "markdown",
   "id": "231f396c-0e3b-4898-93cf-748c3e082155",
   "metadata": {},
   "source": [
    "답: 1에"
   ]
  },
  {
   "cell_type": "markdown",
   "id": "389fb35c-5c1f-468a-b80e-cd71640e7013",
   "metadata": {},
   "source": [
    "`-` 문제3: 183번 컴퓨터에는 4개의 중첩된 컴퓨터(=폴더)가 존재한다. \n",
    "\n",
    "1. root우분투\n",
    "2. guebin우분투\n",
    "3. guebin우분투-(base)\n",
    "4. guebin우분투-(py310)\n",
    "\n",
    "아래의 명령을 통하여 quarto를 설치했다. \n",
    "\n",
    "```bash\n",
    "(py310) wget https://github.com/quarto-dev/quarto-cli/releases/download/v1.4.533/quarto-1.4.533-linux-amd64.deb\n",
    "(py310) sudo dpkg -i quarto-1.4.533-linux-amd64.deb \n",
    "```\n",
    "\n",
    "quarto는 어디에 설치되어있는가? "
   ]
  },
  {
   "cell_type": "markdown",
   "id": "53150df3-8d16-4708-b46c-42db145acb1f",
   "metadata": {},
   "source": [
    "답: 1에"
   ]
  },
  {
   "cell_type": "markdown",
   "id": "cce21fd8-a46f-45fa-8473-9605610442ed",
   "metadata": {},
   "source": [
    "`-` 문제4: 183번 컴퓨터에는 4개의 중첩된 컴퓨터(=폴더)가 존재한다. \n",
    "\n",
    "1. root우분투\n",
    "2. guebin우분투\n",
    "3. guebin우분투-(base)\n",
    "4. guebin우분투-(py310)\n",
    "\n",
    "아래의 명령을 통하여 quarto를 설치했다. \n",
    "\n",
    "```bash\n",
    "(py310) wget https://github.com/quarto-dev/quarto-cli/releases/download/v1.4.533/quarto-1.4.533-linux-amd64.deb\n",
    "(py310) conda activate base \n",
    "(base) sudo dpkg -i quarto-1.4.533-linux-amd64.deb \n",
    "```\n",
    "\n",
    "quarto는 어디에 설치되어있는가? "
   ]
  },
  {
   "cell_type": "markdown",
   "id": "83ea9788-2f1f-4055-ac22-8a11d54eb808",
   "metadata": {},
   "source": [
    "답: 1에"
   ]
  },
  {
   "cell_type": "markdown",
   "id": "5d435dbc-729a-46c0-81d9-c660ca8a919c",
   "metadata": {},
   "source": [
    "## 실습58: 난 어디에서 upload.sh를 설치했어? "
   ]
  },
  {
   "cell_type": "markdown",
   "id": "6a380fb1-ab87-40cb-9435-f57925d45743",
   "metadata": {},
   "source": [
    "## 실습59: 여러가지 프로그램, 여러가지 설치방법 "
   ]
  },
  {
   "cell_type": "markdown",
   "id": "437191eb-dd1b-4d5a-b395-34e12e8088c0",
   "metadata": {
    "tags": []
   },
   "source": [
    "`-` 우분투자체의 프로그램\n",
    "\n",
    "- 우분투 자체의 프로그램 예시: git, quarto, python, R, anaconda, vi, ssh, wget, vscode\n",
    "- 우분투 자체의 프로그램은 다시 모든 유저가 영향을 받는 받는 프로그램과 그렇지 않은 프로그램이 있음 \n",
    "- 우분투 자체의 프로그램을 설치하는 방법들 \n",
    "\n",
    "```bash\n",
    "sudo apt install git \n",
    "sudo apt-get install git \n",
    "sudo dpkg -i quarto-1.4.533-linux-amd64.deb \n",
    "bash Anaconda3-2019.03-Linux-x86_64.sh\n",
    "sudo gdebi rstudio-server-1.2.5033-amd64.deb\n",
    "# 기타 파일을 넣을 수 있는 모든 방법 (예를들면 압축파일 다운로드후 풀기) \n",
    "```"
   ]
  },
  {
   "cell_type": "markdown",
   "id": "e5ce8195-4347-4100-a295-c10f385f448f",
   "metadata": {},
   "source": [
    "::: {.callout-note}\n",
    "`sudo apt install git`\n",
    "\n",
    "`sudo apt-get install git`\n",
    "\n",
    "둘이 같음\n",
    ":::"
   ]
  },
  {
   "cell_type": "markdown",
   "id": "7e464fbe-c554-4ebb-84a4-77be3dfd8451",
   "metadata": {},
   "source": [
    "::: {.callout-note}\n",
    "`sh`확장자는 `bash`로 설치\n",
    ":::"
   ]
  },
  {
   "cell_type": "markdown",
   "id": "d3a6efd4-bd42-4475-801c-2baa02544276",
   "metadata": {},
   "source": [
    "`-` 아나콘다(=base)에 종속된 프로그램\n",
    "\n",
    "- 아나콘다내에 종속된 프로그램의 예시: conda, python, R, jupyter\n",
    "- 아나콘다에 종속된 프로그램은 `anaconda3` 폴더안에 있음. "
   ]
  },
  {
   "cell_type": "markdown",
   "id": "a5a18d3e-f845-4071-bda1-40ba07d59400",
   "metadata": {},
   "source": [
    "`-` 아나콘다환경(=py310)에 종속시킬 수 \"있는\" 프로그램\n",
    "\n",
    "- 아나콘다내에 종속된 프로그램의 예시: python, R, jupyter \n",
    "- 아나콘다환경에 종속된 프로그램은 `anaconda3/envs/py310` 와 같은 형식의 폴더안에 있음. "
   ]
  },
  {
   "cell_type": "markdown",
   "id": "c384fb5d-a900-4a77-a214-2aadfe44aafd",
   "metadata": {},
   "source": [
    "`-` 파이썬에 종속된 프로그램 (=파이썬패키지=파이썬라이브러리=파이썬모듈)\n",
    "\n",
    "- 파이썬에 종속된 프로그램 예시: numpy, pandas\n",
    "- 얘네들이 어디에 깔리는지는 그때그때 다름 \n",
    "- 지우는 방법도 그때그때 다르겠지? (젤 편하고 깔끔하게 지우려면?)"
   ]
  },
  {
   "cell_type": "markdown",
   "id": "6a9a8ec8-04b2-4876-863e-8fd516e0c472",
   "metadata": {},
   "source": [
    "`-` R에 종속된 프로그램 (=R패키지=R라이브러리)\n",
    "\n",
    "- R에 종속된 프로그램의 예시: tidyverse\n",
    "- 얘들이 어디 깔리는지도 그때그때 다름 \n",
    "- 지우는 방법도 그때그때 다르겠지? (젤 편하고 깔끔하게 지우려면?) "
   ]
  },
  {
   "cell_type": "markdown",
   "id": "dda85bd6-f16a-425c-b5a0-2e48ba6cde95",
   "metadata": {},
   "source": [
    "`-` 질문1: `pip install` vs `conda install`\n",
    "\n",
    "- 설치되는 레벨의 차이\n",
    "- 설치에서 느껴지는 편안함의 차이\n",
    "- 삭제할때 느껴지는 불편함의 차이 \n",
    "- `pip install pandas`는 사실 `install.packages(\"tidyverse\")`에 대응되는 것임 "
   ]
  },
  {
   "cell_type": "markdown",
   "id": "f7fcc566-c494-4124-9858-0fa0b82f6045",
   "metadata": {},
   "source": [
    "::: {.callout-caution collapse=\"true\"}\n",
    "pip 으로 가상환경 내에서 깔고 지워버리기..\n",
    "\n",
    "conda는 설치할 수 있는 패키지의 영역이 많다보니 나중에 삭제하고 싶은 패키지가 있을 떄 찾기 힘듦 -> 가상환경 새로 만들어버리자~\n",
    ":::"
   ]
  },
  {
   "cell_type": "markdown",
   "id": "54c0b2cf-e252-474f-9499-f736066b10e2",
   "metadata": {},
   "source": [
    "`-` 질문2: 언제 `pip install`을 쓰고 언제 `conda install`을 써야할까? 답은없어요. 저는 대충 아래와 같이 합니다. (해보고 수틀리면 그냥 환경날리세여)\n",
    "\n",
    "- 만만한 패키지는 pip install 로 설치: numpy, pandas \n",
    "- 까다로운 패키지는 conda install 로 설치: torch, autogluon "
   ]
  },
  {
   "cell_type": "markdown",
   "id": "11031a81-4edf-43c7-af92-c8bf5bc2e8c7",
   "metadata": {},
   "source": [
    "## 실습60: (base)에서 (rpy)에 있는 R 실행 "
   ]
  },
  {
   "cell_type": "markdown",
   "id": "a3687437-2c0a-4660-b411-9aecf635766a",
   "metadata": {},
   "source": [
    "`-` 원래는 불가능한 일이겠죠? "
   ]
  },
  {
   "cell_type": "markdown",
   "id": "85a273c7-fbd5-4d13-9b08-82d4784d5ecc",
   "metadata": {},
   "source": [
    "`-` 억지로 가능하게 하려면? "
   ]
  },
  {
   "cell_type": "markdown",
   "id": "93ae3ab4-c59e-4aaa-a985-28ac7f2209fe",
   "metadata": {},
   "source": [
    "해당 환경가서 `./R` 실행\n",
    "\n",
    "보통 `anaconda/envs/가상환경이름/bin` 에 있음"
   ]
  },
  {
   "cell_type": "markdown",
   "id": "19cfc3c9-f66f-4d6a-ada5-ce64fe957647",
   "metadata": {},
   "source": [
    "## 실습61: (rpy)에서 EPT라는 R패키지 설치하고 위치파악하기 "
   ]
  },
  {
   "cell_type": "markdown",
   "id": "e75f735a-0405-4be1-9f0a-9ea9191f141d",
   "metadata": {},
   "source": [
    "`-` R을 실행 \n",
    "\n",
    "```bash\n",
    "conda activate rpy\n",
    "R\n",
    "```\n",
    "\n",
    "`-` 또다른 터미널을 열고 아래의 폴더로 이동 + 패키지확인 \n",
    "\n",
    "```r\n",
    "cd ~/anaconda3/envs/rpy/lib/R/library\n",
    "ls\n",
    "```"
   ]
  },
  {
   "cell_type": "markdown",
   "id": "e8d6fc50-385c-49ec-be56-1a463230b74e",
   "metadata": {},
   "source": [
    "`-` EPT패키지 설치 \n",
    "\n",
    "```r\n",
    "install.packages(\"EPT\")\n",
    "```"
   ]
  },
  {
   "cell_type": "markdown",
   "id": "652a5baa-ed26-4170-af26-1bbed83922f4",
   "metadata": {},
   "source": [
    "`-` `~/anaconda3/envs/rpy/lib/R/library`에서 확인 "
   ]
  },
  {
   "cell_type": "markdown",
   "id": "e96c2165-eafc-4d71-b9cf-d54cc322e27d",
   "metadata": {},
   "source": [
    "## 실습62: (rpy)에 설치된 R과 주피터 연결하기"
   ]
  },
  {
   "cell_type": "markdown",
   "id": "d433c065-6ccb-4ee1-9666-5a23b8e13ac2",
   "metadata": {},
   "source": [
    "`-` R을 실행 \n",
    "\n",
    "```r\n",
    "IRkernel::installspec()\n",
    "```"
   ]
  },
  {
   "cell_type": "markdown",
   "id": "5bbbdc99-6919-4293-910f-6b0cce571e9f",
   "metadata": {},
   "source": [
    "`-` 주피터 실행 "
   ]
  },
  {
   "cell_type": "markdown",
   "id": "28fbaa9b-c939-4f3a-b70c-b7f31e77cdfc",
   "metadata": {},
   "source": [
    "## 실습63: 대시보드, 프리젠테이션 베끼기 "
   ]
  },
  {
   "cell_type": "markdown",
   "id": "949b291f-e79f-4f11-805c-c8375c21a37b",
   "metadata": {},
   "source": [
    "`-` ref: <https://guebin.github.io/DV2023/posts/14wk-1.html>"
   ]
  },
  {
   "cell_type": "markdown",
   "id": "40ae167a-cda8-4129-88ce-37150491cbdc",
   "metadata": {},
   "source": [
    "`-` 대시보드 \n",
    "\n",
    "- <https://guebin.github.io/DASH>\n",
    "- <https://github.com/seoyeonc>\n",
    "- <https://quarto.org/docs/dashboards/>"
   ]
  },
  {
   "cell_type": "markdown",
   "id": "4c6da473-1996-45d6-a456-418f98727bb3",
   "metadata": {},
   "source": [
    "`-` 프리젠테이션 \n",
    "\n",
    "- <https://quarto.org/docs/presentations/revealjs/demo/#/interactive-slides-1>\n",
    "- <https://quarto.org/docs/presentations/revealjs/>"
   ]
  }
 ],
 "metadata": {
  "kernelspec": {
   "display_name": "Python 3",
   "language": "python",
   "name": "python3"
  },
  "language_info": {
   "codemirror_mode": {
    "name": "ipython",
    "version": 3
   },
   "file_extension": ".py",
   "mimetype": "text/x-python",
   "name": "python",
   "nbconvert_exporter": "python",
   "pygments_lexer": "ipython3",
   "version": "3.8.0"
  }
 },
 "nbformat": 4,
 "nbformat_minor": 5
}
