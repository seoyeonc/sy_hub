{
 "cells": [
  {
   "cell_type": "raw",
   "id": "ecafae6c-f0a2-4852-ae83-c01c4513d836",
   "metadata": {
    "id": "cac470df-29e7-4148-9bbd-d8b9a32fa570",
    "tags": []
   },
   "source": [
    "---\n",
    "title: \"EbayesThresh Torch\"\n",
    "author: \"SEOYEON CHOI\"\n",
    "date: \"2024-07-31\"\n",
    "---"
   ]
  },
  {
   "cell_type": "markdown",
   "id": "3d501e0e-ba39-4e4b-b47c-2c01f59e07db",
   "metadata": {},
   "source": [
    "ref\n",
    "\n",
    "- [R_ebayesthresh](https://cran.r-project.org/web/packages/EbayesThresh/EbayesThresh.pdf)\n",
    "- [교수님 블로그](https://guebin.github.io/STML2022/posts/II.%20DNN/2022-10-12-6wk.html#%EC%8B%9C%EB%B2%A4%EC%BD%94%EC%A0%95%EB%A6%AC)"
   ]
  },
  {
   "cell_type": "markdown",
   "id": "45b6158d-6c95-4349-8f57-57f4319dac5d",
   "metadata": {},
   "source": [
    "# Import"
   ]
  },
  {
   "cell_type": "code",
   "execution_count": 3,
   "id": "7b74dbea-662a-4ddf-b71f-b5ad0edf1778",
   "metadata": {},
   "outputs": [],
   "source": [
    "import matplotlib.pyplot as plt\n",
    "import ebayesthresh_torch\n",
    "import torch"
   ]
  },
  {
   "cell_type": "code",
   "execution_count": 4,
   "id": "1fe09402-7ce3-430c-b8d9-7e47cedfc0e2",
   "metadata": {},
   "outputs": [],
   "source": [
    "torch.set_printoptions(precision=15)"
   ]
  },
  {
   "cell_type": "markdown",
   "id": "f67c6dca-cca7-4e88-b1b6-ce89976d1b3b",
   "metadata": {},
   "source": [
    "## import for code check"
   ]
  },
  {
   "cell_type": "code",
   "execution_count": 3,
   "id": "f3cdc0d8-dd47-41bc-b885-310cb7df3bab",
   "metadata": {},
   "outputs": [],
   "source": [
    "from scipy.stats import norm\n",
    "from scipy.optimize import minimize"
   ]
  },
  {
   "cell_type": "markdown",
   "id": "def4d6e1-c26f-406d-b212-2652fbd98ce6",
   "metadata": {},
   "source": [
    "# beta.cauchy"
   ]
  },
  {
   "cell_type": "markdown",
   "id": "43e97aa0-7ba1-4e23-b0dd-399c929ef26c",
   "metadata": {},
   "source": [
    "> Function beta for the quasi-Cauchy prior"
   ]
  },
  {
   "cell_type": "markdown",
   "id": "56965f19-ffb5-4c07-bece-297e09160b5f",
   "metadata": {},
   "source": [
    "- Description"
   ]
  },
  {
   "cell_type": "markdown",
   "id": "da48ae1d-4d63-4436-962e-550a761b4dc5",
   "metadata": {},
   "source": [
    "> Given a value or vector x of values, find the value(s) of the function $\\beta(x) = g(x)/\\phi(x) − 1$, where\n",
    "$g$ is the convolution of the quasi-Cauchy with the normal density $\\phi(x)$."
   ]
  },
  {
   "cell_type": "markdown",
   "id": "94044667-6997-499d-b85e-b2654aae4494",
   "metadata": {},
   "source": [
    "*x가 입력되면 코시 분포와 정규 분포를 혼합해서 함수 베타 구하기*"
   ]
  },
  {
   "cell_type": "code",
   "execution_count": 16,
   "id": "6eda332f-56ae-45e3-83d0-60372bbb189d",
   "metadata": {},
   "outputs": [
    {
     "data": {
      "text/plain": [
       "tensor([-2.,  1.,  0., -4.,  8., 50.], dtype=torch.float64)"
      ]
     },
     "execution_count": 16,
     "metadata": {},
     "output_type": "execute_result"
    }
   ],
   "source": [
    "x = torch.tensor([-2.0,1.0,0.0,-4.0,8.0,50.0],dtype=torch.float64)\n",
    "x"
   ]
  },
  {
   "cell_type": "code",
   "execution_count": 17,
   "id": "fc668167-7b42-4d5b-8df7-f59dc9cc6f50",
   "metadata": {},
   "outputs": [
    {
     "data": {
      "text/plain": [
       "tensor([5.399096651318805e-02, 2.419707245191434e-01, 3.989422804014327e-01,\n",
       "        1.338302257648853e-04, 5.052271083536893e-15, 0.000000000000000e+00],\n",
       "       dtype=torch.float64)"
      ]
     },
     "execution_count": 17,
     "metadata": {},
     "output_type": "execute_result"
    }
   ],
   "source": [
    "phix = torch.tensor(norm.pdf(x, loc=0, scale=1))\n",
    "phix"
   ]
  },
  {
   "cell_type": "code",
   "execution_count": 18,
   "id": "3ba12ffc-e05c-44c1-813b-31a0e035f2a1",
   "metadata": {},
   "outputs": [
    {
     "data": {
      "text/plain": [
       "tensor([ True,  True, False,  True,  True,  True])"
      ]
     },
     "execution_count": 18,
     "metadata": {},
     "output_type": "execute_result"
    }
   ],
   "source": [
    "j = (x != 0)\n",
    "j"
   ]
  },
  {
   "cell_type": "code",
   "execution_count": 19,
   "id": "c266f6ca-5fe4-44f5-95d7-5b784baee24b",
   "metadata": {},
   "outputs": [
    {
     "data": {
      "text/plain": [
       "tensor([-2.,  1.,  0., -4.,  8., 50.], dtype=torch.float64)"
      ]
     },
     "execution_count": 19,
     "metadata": {},
     "output_type": "execute_result"
    }
   ],
   "source": [
    "beta = x.clone()\n",
    "beta"
   ]
  },
  {
   "cell_type": "code",
   "execution_count": 20,
   "id": "a4f36c1f-c89b-47bb-90ab-b7ba218ae245",
   "metadata": {},
   "outputs": [
    {
     "data": {
      "text/plain": [
       "tensor([-2.000000000000000,  1.000000000000000, -0.500000000000000,\n",
       "        -4.000000000000000,  8.000000000000000, 50.000000000000000],\n",
       "       dtype=torch.float64)"
      ]
     },
     "execution_count": 20,
     "metadata": {},
     "output_type": "execute_result"
    }
   ],
   "source": [
    "beta = torch.where(j == False, -1/2, beta)\n",
    "beta"
   ]
  },
  {
   "cell_type": "code",
   "execution_count": 21,
   "id": "d64006bb-cfd1-4ef6-81db-fc0f3b4dfa6a",
   "metadata": {},
   "outputs": [
    {
     "data": {
      "text/plain": [
       "tensor([ 5.972640247326628e-01, -3.512787292998718e-01, -5.000000000000000e-01,\n",
       "         1.852473741901080e+02,  1.233796252853370e+12,                    inf],\n",
       "       dtype=torch.float64)"
      ]
     },
     "execution_count": 21,
     "metadata": {},
     "output_type": "execute_result"
    }
   ],
   "source": [
    "beta[j] = (torch.tensor(norm.pdf(0, loc=0, scale=1)) / phix[j] - 1) / (x[j] ** 2) - 1\n",
    "beta"
   ]
  },
  {
   "cell_type": "code",
   "execution_count": 22,
   "id": "eae54078-b79b-47a5-b7a2-87d34b27ff48",
   "metadata": {},
   "outputs": [
    {
     "data": {
      "text/plain": [
       "tensor([ 5.972640247326628e-01, -3.512787292998718e-01, -5.000000000000000e-01,\n",
       "         1.852473741901080e+02,  1.233796252853370e+12,                    inf],\n",
       "       dtype=torch.float64)"
      ]
     },
     "execution_count": 22,
     "metadata": {},
     "output_type": "execute_result"
    }
   ],
   "source": [
    "beta"
   ]
  },
  {
   "cell_type": "markdown",
   "id": "f10a77bd-c16c-4aa4-bbe8-e8945b6bea67",
   "metadata": {},
   "source": [
    "- R code"
   ]
  },
  {
   "cell_type": "markdown",
   "id": "0971d959-faf3-4971-904a-c56bf15fde05",
   "metadata": {},
   "source": [
    "```R\n",
    "beta.cauchy <- function(x) {\n",
    "#\n",
    "#   Find the function beta for the mixed normal prior with Cauchy\n",
    "#   tails.  It is assumed that the noise variance is equal to one.\n",
    "#\n",
    "\tphix <- dnorm(x)\n",
    "\tj <- (x != 0)\n",
    "\tbeta <- x\n",
    "\tbeta[!j] <- -1/2\n",
    "\tbeta[j] <- (dnorm(0)/phix[j] - 1)/x[j]^2 - 1\n",
    "\treturn(beta)\n",
    "}\n",
    "```"
   ]
  },
  {
   "cell_type": "markdown",
   "id": "ef5bc485-462b-4b37-af8b-da3a1a4f4b3c",
   "metadata": {},
   "source": [
    "**결과**"
   ]
  },
  {
   "cell_type": "markdown",
   "id": "9ba79e9b-c46e-4ec3-a431-4cc718b19b18",
   "metadata": {},
   "source": [
    "- Python"
   ]
  },
  {
   "cell_type": "code",
   "execution_count": 23,
   "id": "bb4b9c53-44e8-45a2-9eb9-abc205f9729e",
   "metadata": {},
   "outputs": [
    {
     "name": "stderr",
     "output_type": "stream",
     "text": [
      "/home/csy/Dropbox/sy_hub/posts/1_Note/ebayesthresh_torch/utils.py:17: UserWarning: To copy construct from a tensor, it is recommended to use sourceTensor.clone().detach() or sourceTensor.clone().detach().requires_grad_(True), rather than torch.tensor(sourceTensor).\n",
      "  x = torch.tensor(x,dtype=torch.float64)\n"
     ]
    },
    {
     "data": {
      "text/plain": [
       "tensor([ 5.972640247326628e-01, -3.512787292998718e-01, -5.000000000000000e-01,\n",
       "         1.852473741901080e+02,  1.233796252853370e+12,                    inf],\n",
       "       dtype=torch.float64)"
      ]
     },
     "execution_count": 23,
     "metadata": {},
     "output_type": "execute_result"
    }
   ],
   "source": [
    "ebayesthresh_torch.beta_cauchy(torch.tensor([-2,1,0,-4,8,50]))"
   ]
  },
  {
   "cell_type": "markdown",
   "id": "91a9054f-acee-46a4-9cf8-58e1b7f4e9fd",
   "metadata": {},
   "source": [
    "- R"
   ]
  },
  {
   "cell_type": "markdown",
   "id": "92212884-d02c-4e92-b9cb-11239ec72be0",
   "metadata": {},
   "source": [
    "```R\n",
    "> beta.cauchy(c(-2,1,0,-4,8,50))\n",
    "[1]  5.972640e-01 -3.512787e-01 -5.000000e-01  1.852474e+02  1.233796e+12           Inf\n",
    "```"
   ]
  },
  {
   "cell_type": "markdown",
   "id": "5c8a622f-de1e-4717-9c26-5a5c62f67dfc",
   "metadata": {},
   "source": [
    "# beta.laplace"
   ]
  },
  {
   "cell_type": "markdown",
   "id": "86db9185-0acc-4107-95fe-b5cae990e312",
   "metadata": {},
   "source": [
    "> Function beta for the Laplace prior"
   ]
  },
  {
   "cell_type": "markdown",
   "id": "4bf3908b-933e-492d-a5f1-f056209ade11",
   "metadata": {},
   "source": [
    "- Description"
   ]
  },
  {
   "cell_type": "markdown",
   "id": "28121928-cc1b-4531-aa03-afa7baba87e3",
   "metadata": {},
   "source": [
    ">  Given a single value or a vector of $x$ and $s$, find the value(s) of the function $\\beta(x; s, a) = \\frac{g(x; s, a)}{f_n(x; 0, s)}−1$, where $f_n(x; 0, s)$ is the normal density with mean $0$ and standard deviation $s$, and $g$ is the convolution of the Laplace density with scale parameter a, $γa(\\mu)$, with the normal density $f_n(x; µ, s)$ with mean mu and standard deviation $s$."
   ]
  },
  {
   "cell_type": "markdown",
   "id": "4f54ecb9-1dde-429c-9c29-9f2b458635f1",
   "metadata": {},
   "source": [
    "*평균이 $\\mu$이며, 스케일 파라메터 a를 가진 라플라스와 정규분포의 합성함수 $g$와 평균이 0이고 표준편차가s인 f로 계산되는 함수 베타*"
   ]
  },
  {
   "cell_type": "code",
   "execution_count": 24,
   "id": "231edf1b-c02e-4e9d-bbeb-084b7b5a168e",
   "metadata": {},
   "outputs": [],
   "source": [
    "x = torch.tensor([-2,1,0,-4,8,50])\n",
    "# x = torch.tensor([2.14])\n",
    "# s = 1\n",
    "s = torch.arange(1, 7)\n",
    "a = 0.5"
   ]
  },
  {
   "cell_type": "markdown",
   "id": "93b65f30-d2c6-445b-aecd-8936aedb6c55",
   "metadata": {},
   "source": [
    "- s는 표준편차\n",
    "- a는 Laplaxe prior모수, 이 값이 클수록 부포 모양이 뾰족해진다."
   ]
  },
  {
   "cell_type": "code",
   "execution_count": 25,
   "id": "a1babd46-c8f0-4575-b3c8-8661ce672520",
   "metadata": {},
   "outputs": [],
   "source": [
    "x = torch.abs(x)"
   ]
  },
  {
   "cell_type": "code",
   "execution_count": 26,
   "id": "37c2e5bd-81aa-4365-9019-40d08310229a",
   "metadata": {},
   "outputs": [
    {
     "data": {
      "text/plain": [
       "tensor([ 2.500000000000000,  1.500000000000000,  1.500000000000000,\n",
       "         3.000000000000000,  4.099999904632568, 11.333333015441895])"
      ]
     },
     "execution_count": 26,
     "metadata": {},
     "output_type": "execute_result"
    }
   ],
   "source": [
    "xpa = x / s + s * a\n",
    "xpa"
   ]
  },
  {
   "cell_type": "code",
   "execution_count": 27,
   "id": "3968f7d1-fc01-476e-b944-c8e231bdf91b",
   "metadata": {},
   "outputs": [
    {
     "data": {
      "text/plain": [
       "tensor([ 1.500000000000000, -0.500000000000000, -1.500000000000000,\n",
       "        -1.000000000000000, -0.899999976158142,  5.333333015441895])"
      ]
     },
     "execution_count": 27,
     "metadata": {},
     "output_type": "execute_result"
    }
   ],
   "source": [
    "xma = x / s - s * a\n",
    "xma"
   ]
  },
  {
   "cell_type": "code",
   "execution_count": 28,
   "id": "5710c404-5861-4a00-a1ce-10d12b47be56",
   "metadata": {},
   "outputs": [
    {
     "name": "stderr",
     "output_type": "stream",
     "text": [
      "<ipython-input-28-ad9ad205f9f5>:1: UserWarning: To copy construct from a tensor, it is recommended to use sourceTensor.clone().detach() or sourceTensor.clone().detach().requires_grad_(True), rather than torch.tensor(sourceTensor).\n",
      "  rat1 = torch.tensor(1 / xpa, dtype=torch.float64)\n"
     ]
    },
    {
     "data": {
      "text/plain": [
       "tensor([0.400000005960464, 0.666666686534882, 0.666666686534882,\n",
       "        0.333333343267441, 0.243902444839478, 0.088235296308994],\n",
       "       dtype=torch.float64)"
      ]
     },
     "execution_count": 28,
     "metadata": {},
     "output_type": "execute_result"
    }
   ],
   "source": [
    "rat1 = torch.tensor(1 / xpa, dtype=torch.float64)\n",
    "rat1"
   ]
  },
  {
   "cell_type": "code",
   "execution_count": 29,
   "id": "208574c0-82c0-4fc2-a95a-38cc2b754c9a",
   "metadata": {},
   "outputs": [
    {
     "data": {
      "text/plain": [
       "tensor([0.354265111329793, 0.515815638217963, 0.515815638217963,\n",
       "        0.304590298710103, 0.231426437747953, 0.087563795564412],\n",
       "       dtype=torch.float64)"
      ]
     },
     "execution_count": 29,
     "metadata": {},
     "output_type": "execute_result"
    }
   ],
   "source": [
    "rat1[xpa < 35] = torch.tensor(norm.cdf(-xpa[xpa < 35], loc=0, scale=1) / norm.pdf(xpa[xpa < 35], loc=0, scale=1))\n",
    "rat1"
   ]
  },
  {
   "cell_type": "code",
   "execution_count": 30,
   "id": "ba2da327-d276-4095-80fb-6a5a3889b065",
   "metadata": {},
   "outputs": [
    {
     "name": "stderr",
     "output_type": "stream",
     "text": [
      "<ipython-input-30-c1856799995e>:1: UserWarning: To copy construct from a tensor, it is recommended to use sourceTensor.clone().detach() or sourceTensor.clone().detach().requires_grad_(True), rather than torch.tensor(sourceTensor).\n",
      "  rat2 = torch.tensor(1 / torch.abs(xma), dtype=torch.float64)\n"
     ]
    },
    {
     "data": {
      "text/plain": [
       "tensor([0.666666686534882, 2.000000000000000, 0.666666686534882,\n",
       "        1.000000000000000, 1.111111164093018, 0.187500014901161],\n",
       "       dtype=torch.float64)"
      ]
     },
     "execution_count": 30,
     "metadata": {},
     "output_type": "execute_result"
    }
   ],
   "source": [
    "rat2 = torch.tensor(1 / torch.abs(xma), dtype=torch.float64)\n",
    "rat2"
   ]
  },
  {
   "cell_type": "code",
   "execution_count": 31,
   "id": "3b5739ac-66c0-4c39-a573-0adae5b68942",
   "metadata": {},
   "outputs": [
    {
     "data": {
      "text/plain": [
       "tensor([ 1.500000000000000, -0.500000000000000, -1.500000000000000,\n",
       "        -1.000000000000000, -0.899999976158142,  5.333333015441895])"
      ]
     },
     "execution_count": 31,
     "metadata": {},
     "output_type": "execute_result"
    }
   ],
   "source": [
    "xma = torch.where(xma > 35, torch.tensor(35.0), xma)\n",
    "xma"
   ]
  },
  {
   "cell_type": "code",
   "execution_count": 32,
   "id": "937fcc63-4dcd-4f69-8a7d-43f5a9b3be77",
   "metadata": {},
   "outputs": [
    {
     "data": {
      "text/plain": [
       "tensor([7.205143007274778e+00, 8.763644564536923e-01, 5.158156382179633e-01,\n",
       "        6.556795424187986e-01, 6.917336748702121e-01, 3.764625749653171e+06],\n",
       "       dtype=torch.float64)"
      ]
     },
     "execution_count": 32,
     "metadata": {},
     "output_type": "execute_result"
    }
   ],
   "source": [
    "rat2[xma > -35] = torch.tensor(norm.cdf(xma[xma > -35], loc=0, scale=1) / norm.pdf(xma[xma > -35], loc=0, scale=1))\n",
    "rat2"
   ]
  },
  {
   "cell_type": "code",
   "execution_count": 33,
   "id": "c92d8331-7aec-446d-a148-c0e89b610e13",
   "metadata": {},
   "outputs": [
    {
     "data": {
      "text/plain": [
       "tensor([ 8.898520296511427e-01, -3.039099526641722e-01, -2.262765426730551e-01,\n",
       "        -3.973015887109854e-02,  1.539501407727066e-01,  5.646937755825450e+06],\n",
       "       dtype=torch.float64)"
      ]
     },
     "execution_count": 33,
     "metadata": {},
     "output_type": "execute_result"
    }
   ],
   "source": [
    "beta = (a * s) / 2 * (rat1 + rat2) - 1\n",
    "beta"
   ]
  },
  {
   "cell_type": "markdown",
   "id": "31cfdbfd-1c03-43ca-9fa1-1880b8256efd",
   "metadata": {},
   "source": [
    "- R code"
   ]
  },
  {
   "cell_type": "markdown",
   "id": "49f98fea-acd6-4b3d-8e00-baaecd4936dc",
   "metadata": {},
   "source": [
    "```R\n",
    "beta.laplace <- function(x, s = 1, a = 0.5) {\n",
    "#\n",
    "#  The function beta for the Laplace prior given parameter a and s (sd)\n",
    "#\n",
    "\tx <- abs(x)\n",
    "\txpa <- x/s + s*a\n",
    "\txma <- x/s - s*a\n",
    "\trat1 <- 1/xpa\n",
    "\trat1[xpa < 35] <- pnorm( - xpa[xpa < 35])/dnorm(xpa[xpa < 35])\n",
    "\trat2 <- 1/abs(xma)\n",
    "\txma[xma > 35] <- 35\n",
    "\trat2[xma > -35] <- pnorm(xma[xma > -35])/dnorm(xma[xma > -35])\n",
    "\tbeta <- (a * s) / 2 * (rat1 + rat2) - 1\n",
    "\treturn(beta)\n",
    "}\n",
    "```"
   ]
  },
  {
   "cell_type": "markdown",
   "id": "49833a2f-6a66-48b6-93fa-4954a954b6d8",
   "metadata": {},
   "source": [
    "**결과**"
   ]
  },
  {
   "cell_type": "markdown",
   "id": "f8cf8b0d-2512-40f7-8ac6-6df9ed330b56",
   "metadata": {},
   "source": [
    "- Python"
   ]
  },
  {
   "cell_type": "code",
   "execution_count": 34,
   "id": "bb7f3af1-e452-4b76-ab27-56d9c1c2c5a8",
   "metadata": {},
   "outputs": [
    {
     "data": {
      "text/plain": [
       "tensor([ 8.898520296511427e-01, -3.800417166060107e-01, -5.618177717731538e-01,\n",
       "         2.854594666723506e+02,  1.026980615772411e+12, 6.344539544172600e+265],\n",
       "       dtype=torch.float64)"
      ]
     },
     "execution_count": 34,
     "metadata": {},
     "output_type": "execute_result"
    }
   ],
   "source": [
    "ebayesthresh_torch.beta_laplace(torch.tensor([-2,1,0,-4,8,50]),s=1)"
   ]
  },
  {
   "cell_type": "code",
   "execution_count": 35,
   "id": "ab955f9b-2802-4199-9db5-2f9ee57a4cb7",
   "metadata": {},
   "outputs": [
    {
     "data": {
      "text/plain": [
       "tensor([0.889852029651143], dtype=torch.float64)"
      ]
     },
     "execution_count": 35,
     "metadata": {},
     "output_type": "execute_result"
    }
   ],
   "source": [
    "ebayesthresh_torch.beta_laplace(torch.tensor([-2.0]),s=1,a=0.5)"
   ]
  },
  {
   "cell_type": "code",
   "execution_count": 36,
   "id": "032868a9-2856-4554-89af-3d63a0a30d85",
   "metadata": {},
   "outputs": [
    {
     "data": {
      "text/plain": [
       "tensor([ 8.908210552068985e-01, -1.299192504522433e-01, -8.622910386969129e-02,\n",
       "        -5.203193149163621e-03,  5.421370604118225e-02,  1.124934917993122e+02],\n",
       "       dtype=torch.float64)"
      ]
     },
     "execution_count": 36,
     "metadata": {},
     "output_type": "execute_result"
    }
   ],
   "source": [
    "ebayesthresh_torch.beta_laplace(torch.tensor([-2,1,0,-4,8,50]),s=torch.arange(1, 7),a = 1)"
   ]
  },
  {
   "cell_type": "markdown",
   "id": "dd8ff5e4-405d-4b35-b0d2-e919fd1eddf7",
   "metadata": {},
   "source": [
    "- R"
   ]
  },
  {
   "cell_type": "markdown",
   "id": "36ae799d-eb09-4b65-b1ad-864a01ad6a7e",
   "metadata": {},
   "source": [
    "```R\n",
    "> beta.laplace(c(-2,1,0,-4,8,50), s=1)\n",
    "[1]   8.898520e-01  -3.800417e-01  -5.618178e-01   2.854595e+02   1.026981e+12  6.344540e+265\n",
    "> beta.laplace(-2, s=1, a=0.5)\n",
    "[1] 0.889852\n",
    "> beta.laplace(c(-2,1,0,-4,8,50), s=1:6, a=1)\n",
    "[1]   0.890821055  -0.129919250  -0.086229104  -0.005203193   0.054213718 112.493576777\n",
    "```"
   ]
  },
  {
   "cell_type": "markdown",
   "id": "065357ea-2237-4ba2-a2ec-25aee5dc6d3b",
   "metadata": {},
   "source": [
    "# cauchy_medzero"
   ]
  },
  {
   "cell_type": "markdown",
   "id": "1dac7281-052f-4901-a779-f28196abae53",
   "metadata": {},
   "source": [
    "> the objective function that has to be zeroed, component by component, to find the posterior median when the quasi-Cauchy prior is used.  x is the parameter vector, z is the data vector, w is the weight x and z may be scalars"
   ]
  },
  {
   "cell_type": "markdown",
   "id": "9e979ec0-2c57-4205-bdd8-c45fb3180485",
   "metadata": {},
   "source": [
    "- quasi-Cauchy prior에서 사후 중앙값 찾기 위한 함수\n",
    "- x,z는 벡터일수도 있고, 스칼라일 수 도 있다."
   ]
  },
  {
   "cell_type": "code",
   "execution_count": 37,
   "id": "110b1f7b-25e8-4439-b088-769895d8782c",
   "metadata": {},
   "outputs": [],
   "source": [
    "x =  torch.tensor([-2,1,0,-4,8,50])\n",
    "# x = torch.tensor(4)\n",
    "z =  torch.tensor([1,0,2,3,-1,-1])\n",
    "# z = torch.tensor(5)\n",
    "w = torch.tensor(0.5)"
   ]
  },
  {
   "cell_type": "code",
   "execution_count": 38,
   "id": "54e20a49-11c3-47f5-9445-8dd770805f20",
   "metadata": {},
   "outputs": [
    {
     "data": {
      "text/plain": [
       "tensor([  3,  -1,   2,   7,  -9, -51])"
      ]
     },
     "execution_count": 38,
     "metadata": {},
     "output_type": "execute_result"
    }
   ],
   "source": [
    "hh = z - x\n",
    "hh"
   ]
  },
  {
   "cell_type": "code",
   "execution_count": 39,
   "id": "a5a8b009-9314-4172-998c-a556c360699a",
   "metadata": {},
   "outputs": [
    {
     "data": {
      "text/plain": [
       "tensor([4.431848411938008e-03, 2.419707245191434e-01, 5.399096651318805e-02,\n",
       "        9.134720408364595e-12, 1.027977357166892e-18, 0.000000000000000e+00],\n",
       "       dtype=torch.float64)"
      ]
     },
     "execution_count": 39,
     "metadata": {},
     "output_type": "execute_result"
    }
   ],
   "source": [
    "dnhh = torch.tensor(norm.pdf(hh, loc=0, scale=1))\n",
    "dnhh"
   ]
  },
  {
   "cell_type": "code",
   "execution_count": 40,
   "id": "2033cd95-bf8c-43e6-af87-8a93e5a14918",
   "metadata": {},
   "outputs": [
    {
     "data": {
      "text/plain": [
       "array([9.98650102e-01, 1.58655254e-01, 9.77249868e-01, 1.00000000e+00,\n",
       "       1.12858841e-19, 0.00000000e+00])"
      ]
     },
     "execution_count": 40,
     "metadata": {},
     "output_type": "execute_result"
    }
   ],
   "source": [
    "norm.cdf(hh, loc=0, scale=1)"
   ]
  },
  {
   "cell_type": "code",
   "execution_count": 41,
   "id": "bb79c58a-1aeb-440c-ba8c-bee5d7ad70cf",
   "metadata": {},
   "outputs": [
    {
     "data": {
      "text/plain": [
       "tensor([7.535655913337148e-01, 0.000000000000000e+00, 8.016002934071383e-01,\n",
       "        9.999991126709799e-01, 1.644366208342579e-21,                   nan],\n",
       "       dtype=torch.float64)"
      ]
     },
     "execution_count": 41,
     "metadata": {},
     "output_type": "execute_result"
    }
   ],
   "source": [
    "yleft = torch.tensor(norm.cdf(hh, loc=0, scale=1)) - z * dnhh + ((z * x - 1) * dnhh * torch.tensor(norm.cdf(-x, loc=0, scale=1) )) / torch.tensor(norm.pdf(x, loc=0, scale=1))\n",
    "yleft"
   ]
  },
  {
   "cell_type": "code",
   "execution_count": 42,
   "id": "4db8a9db-3bd4-4b42-b93a-1a538efdcac0",
   "metadata": {},
   "outputs": [
    {
     "data": {
      "text/plain": [
       "tensor([1.000000000000000, 0.000000000000000, 1.406005859375000,\n",
       "        1.088871955871582, 1.000000000000000, 1.000000000000000])"
      ]
     },
     "execution_count": 42,
     "metadata": {},
     "output_type": "execute_result"
    }
   ],
   "source": [
    "yright2 = 1 + torch.exp(-z**2 / 2) * (z**2 * (1/w - 1) - 1)\n",
    "yright2"
   ]
  },
  {
   "cell_type": "code",
   "execution_count": 43,
   "id": "f33f3337-989a-4d7c-b3c0-4ee15d0f0653",
   "metadata": {},
   "outputs": [
    {
     "data": {
      "text/plain": [
       "tensor([-0.253565591333715,  0.000000000000000, -0.098597363719638,\n",
       "        -0.455563134735189,  0.500000000000000,                nan],\n",
       "       dtype=torch.float64)"
      ]
     },
     "execution_count": 43,
     "metadata": {},
     "output_type": "execute_result"
    }
   ],
   "source": [
    "yright2 / 2 - yleft"
   ]
  },
  {
   "cell_type": "markdown",
   "id": "07a4ff6c-21b5-42c2-b949-47b795d3c470",
   "metadata": {},
   "source": [
    "- R코드"
   ]
  },
  {
   "cell_type": "markdown",
   "id": "d492524a-bd7d-46f1-ba33-0e4fcbd663b4",
   "metadata": {},
   "source": [
    "```R\n",
    "cauchy.medzero <- function(x, z, w) {\n",
    "#    \n",
    "# the objective function that has to be zeroed, component by\n",
    "# component, to find the posterior median when the quasi-Cauchy prior\n",
    "# is used.  x is the parameter vector, z is the data vector, w is the\n",
    "# weight x and z may be scalars\n",
    "#\n",
    "\thh <- z - x\n",
    "\tdnhh <- dnorm(hh)\n",
    "\tyleft <- pnorm(hh) - z * dnhh + ((z * x - 1) * dnhh * pnorm( - x))/\n",
    "\t\tdnorm(x)\n",
    "\tyright2 <- 1 + exp( - z^2/2) * (z^2 * (1/w - 1) - 1)\n",
    "\treturn(yright2/2 - yleft)\n",
    "}\n",
    "```"
   ]
  },
  {
   "cell_type": "markdown",
   "id": "47edd58e-f68d-494e-8591-43bd36fe0d7c",
   "metadata": {},
   "source": [
    "**결과**"
   ]
  },
  {
   "cell_type": "markdown",
   "id": "ec23890b-19dc-4f45-adff-0ffa52fa05e2",
   "metadata": {},
   "source": [
    "- Python\n",
    "    - 벡터, 스칼라일때 가능한지 확인"
   ]
  },
  {
   "cell_type": "code",
   "execution_count": 44,
   "id": "33c5dc9e-402b-4973-af51-f7e503a389a6",
   "metadata": {},
   "outputs": [
    {
     "data": {
      "text/plain": [
       "tensor([-0.253565591333715,  0.000000000000000, -0.098597363719638,\n",
       "        -0.455563134735189,  0.500000000000000,                nan],\n",
       "       dtype=torch.float64)"
      ]
     },
     "execution_count": 44,
     "metadata": {},
     "output_type": "execute_result"
    }
   ],
   "source": [
    "ebayesthresh_torch.cauchy_medzero(torch.tensor([-2,1,0,-4,8,50]),torch.tensor([1,0,2,3,-1,-1]),0.5)"
   ]
  },
  {
   "cell_type": "code",
   "execution_count": 45,
   "id": "b0033926-f009-4149-8701-c52b1a4fe29a",
   "metadata": {},
   "outputs": [
    {
     "data": {
      "text/plain": [
       "tensor(-0.219442442491987, dtype=torch.float64)"
      ]
     },
     "execution_count": 45,
     "metadata": {},
     "output_type": "execute_result"
    }
   ],
   "source": [
    "ebayesthresh_torch.cauchy_medzero(torch.tensor(4),torch.tensor(5),torch.tensor(0.5))"
   ]
  },
  {
   "cell_type": "markdown",
   "id": "e0ead2f0-02ba-4acc-8965-37dd45c762b2",
   "metadata": {},
   "source": [
    "- R"
   ]
  },
  {
   "cell_type": "markdown",
   "id": "92aa7d5d-7a01-4bf4-8d24-334702bb8648",
   "metadata": {},
   "source": [
    "```R\n",
    "> cauchy.medzero(c(-2,1,0,-4,8,50),c(1,0,2,3,-1,-1),0.5)\n",
    "[1] -0.25356559  0.00000000 -0.09859737 -0.45556313  0.50000000         NaN\n",
    "> cauchy.medzero(4,5,0.5)\n",
    "[1] -0.2194424\n",
    "````"
   ]
  },
  {
   "cell_type": "markdown",
   "id": "9f50954c-d639-40a5-b900-87f7baf9a8f4",
   "metadata": {},
   "source": [
    "# cauchy_threshzero"
   ]
  },
  {
   "cell_type": "markdown",
   "id": "147936f1-48ab-45d3-860d-ff648052dd1c",
   "metadata": {},
   "source": [
    "- cauchy 임계값 찾기 위한 것\n",
    "- 아래에서 반환되는 y가 0에 가깝도록 만들어주는 z를 찾는 과정"
   ]
  },
  {
   "cell_type": "code",
   "execution_count": 46,
   "id": "36371433-adf0-4635-9714-e244292d1e13",
   "metadata": {},
   "outputs": [],
   "source": [
    "z = torch.tensor([1,0,2,3,-1,-1])\n",
    "# z = 0\n",
    "# w = 0.5\n",
    "w = torch.tensor([0.5,0.4,0.3,0.2,0,0.1])"
   ]
  },
  {
   "cell_type": "code",
   "execution_count": 47,
   "id": "4c60ce1b-e559-4fe9-b259-ab75997ba62c",
   "metadata": {},
   "outputs": [
    {
     "data": {
      "text/plain": [
       "tensor([-0.203891311626260,  0.000000000000000, -0.262296682131538,\n",
       "         0.285392626219174,               -inf, -2.828762020130332],\n",
       "       dtype=torch.float64)"
      ]
     },
     "execution_count": 47,
     "metadata": {},
     "output_type": "execute_result"
    }
   ],
   "source": [
    "y = (torch.tensor(norm.cdf(z, loc=0, scale=1)) - z * torch.tensor(norm.pdf(z, loc=0, scale=1)) - 0.5 - (z**2 * torch.exp(-z**2 / 2) * (1/w - 1)) / 2)\n",
    "y"
   ]
  },
  {
   "cell_type": "markdown",
   "id": "122ae753-5fa5-4856-aff3-82cb580cf417",
   "metadata": {},
   "source": [
    "- R 코드"
   ]
  },
  {
   "cell_type": "markdown",
   "id": "b244df04-cbfd-4bd5-9373-4d1cc9489f03",
   "metadata": {},
   "source": [
    "```R\n",
    "cauchy.threshzero <- function(z, w) {\n",
    "#    \n",
    "# The objective function that has to be zeroed to find the Cauchy\n",
    "# threshold. z is the putative threshold vector, w is the weight w\n",
    "# can be a vector\n",
    "#\n",
    "    y <- pnorm(z) - z * dnorm(z) - 1/2 -\n",
    "         (z^2 * exp( - z^2/2) * (1/w - 1))/2\n",
    "    return(y)\n",
    "}\n",
    "```"
   ]
  },
  {
   "cell_type": "markdown",
   "id": "64a7c17f-2e55-4453-b8c7-2df45407a401",
   "metadata": {},
   "source": [
    "**결과**"
   ]
  },
  {
   "cell_type": "markdown",
   "id": "b977884e-5d7a-4c91-a4ee-7b073c373415",
   "metadata": {},
   "source": [
    "- Python"
   ]
  },
  {
   "cell_type": "code",
   "execution_count": 48,
   "id": "5096b23d-3dac-4a36-968b-ac979e3a9b9c",
   "metadata": {},
   "outputs": [
    {
     "data": {
      "text/plain": [
       "tensor([-0.203891311626260,  0.000000000000000,  0.098597372042885,\n",
       "         0.435364074104210, -0.402639354725059, -0.402639354725059],\n",
       "       dtype=torch.float64)"
      ]
     },
     "execution_count": 48,
     "metadata": {},
     "output_type": "execute_result"
    }
   ],
   "source": [
    "ebayesthresh_torch.cauchy_threshzero(torch.tensor([1,0,2,3,-1,-1]),0.5)"
   ]
  },
  {
   "cell_type": "code",
   "execution_count": 49,
   "id": "8760aa06-b8c9-416e-9f54-6ab88be1496e",
   "metadata": {},
   "outputs": [
    {
     "data": {
      "text/plain": [
       "tensor([-0.203891311626260,  0.000000000000000, -0.262296682131538,\n",
       "         0.285392626219174,               -inf, -2.828762020130332],\n",
       "       dtype=torch.float64)"
      ]
     },
     "execution_count": 49,
     "metadata": {},
     "output_type": "execute_result"
    }
   ],
   "source": [
    "ebayesthresh_torch.cauchy_threshzero(torch.tensor([1,0,2,3,-1,-1]),torch.tensor([0.5,0.4,0.3,0.2,0,0.1]))"
   ]
  },
  {
   "cell_type": "markdown",
   "id": "b3b4540a-1f1f-4896-ab54-c90d21dc7c49",
   "metadata": {},
   "source": [
    "- R"
   ]
  },
  {
   "cell_type": "markdown",
   "id": "2248fd27-1a5c-45e6-ac7d-edee562effd1",
   "metadata": {},
   "source": [
    "```R\n",
    "> cauchy.threshzero(c(1,0,2,3,-1,-1),0.5)\n",
    "[1] -0.20389131  0.00000000  0.09859737  0.43536407 -0.40263935 -0.40263935\n",
    "cauchy.threshzero(c(1,0,2,3,-1,-1), c(0.5,0.4,0.3,0.2,0,0.1))\n",
    "[1] -0.2038913  0.0000000 -0.2622967  0.2853926       -Inf -2.8287620\n",
    "```"
   ]
  },
  {
   "cell_type": "markdown",
   "id": "5b64a12c-1ac0-448d-a44e-b4b8af407179",
   "metadata": {},
   "source": [
    "# ebayesthresh"
   ]
  },
  {
   "cell_type": "code",
   "execution_count": 3,
   "id": "c1c750ca-c019-4374-9cd7-e488433cd744",
   "metadata": {},
   "outputs": [],
   "source": [
    "x = torch.normal(torch.tensor([0] * 90 + [5] * 10, dtype=torch.float32), torch.ones(100, dtype=torch.float32))\n",
    "# sdev = None\n",
    "sdev = 1\n",
    "prior=\"laplace\"\n",
    "a=0.5\n",
    "bayesfac=False\n",
    "verbose=False\n",
    "threshrule=\"median\"\n",
    "universalthresh=True\n",
    "stabadjustment=None"
   ]
  },
  {
   "cell_type": "code",
   "execution_count": 4,
   "id": "dec7ed08-f20b-46d0-832d-929bddc4c829",
   "metadata": {},
   "outputs": [
    {
     "data": {
      "text/plain": [
       "'l'"
      ]
     },
     "execution_count": 4,
     "metadata": {},
     "output_type": "execute_result"
    }
   ],
   "source": [
    "pr = prior[0:1]\n",
    "pr"
   ]
  },
  {
   "cell_type": "code",
   "execution_count": 5,
   "id": "87436f5e-e0bd-4f19-ae2e-6d8bcde1b4aa",
   "metadata": {},
   "outputs": [],
   "source": [
    "if sdev is None: sdev = torch.tensor([float('nan')])\n",
    "else: sdev = torch.tensor([sdev])"
   ]
  },
  {
   "cell_type": "code",
   "execution_count": 6,
   "id": "3ade65fb-0502-4adb-82cf-e6573c1381f1",
   "metadata": {
    "tags": []
   },
   "outputs": [],
   "source": [
    "if len(sdev) == 1:\n",
    "    if stabadjustment is not None:\n",
    "        raise ValueError(\"Argument stabadjustment is not applicable when variances are homogeneous.\")\n",
    "    if torch.isnan(sdev):\n",
    "        sdev = ebayesthresh_torch.mad(x, center=0)\n",
    "    stabadjustment_condition = True\n",
    "else:\n",
    "    if pr == \"c\":\n",
    "        raise ValueError(\"Standard deviation has to be homogeneous for Cauchy prior.\")\n",
    "    if sdev.numel() != x.numel():\n",
    "        raise ValueError(\"Standard deviation has to be homogeneous or have the same length as observations.\")\n",
    "    if stabadjustment is None:\n",
    "        stabadjustment = False\n",
    "    stabadjustment_condition = stabadjustment"
   ]
  },
  {
   "cell_type": "code",
   "execution_count": 7,
   "id": "42fac8b9-65d2-4fdd-9723-04e481b474fe",
   "metadata": {},
   "outputs": [],
   "source": [
    "if stabadjustment_condition:\n",
    "    sdev = sdev.float()\n",
    "    m_sdev = torch.mean(sdev) \n",
    "    s = sdev / m_sdev\n",
    "    x = x / m_sdev\n",
    "else:\n",
    "    s = sdev"
   ]
  },
  {
   "cell_type": "code",
   "execution_count": 8,
   "id": "ebdb4559-7001-4af4-97ee-a062d2f6e894",
   "metadata": {},
   "outputs": [
    {
     "name": "stderr",
     "output_type": "stream",
     "text": [
      "/home/csy/Dropbox/sy_hub/posts/1_Note/ebayesthresh_torch/utils.py:584: UserWarning: To copy construct from a tensor, it is recommended to use sourceTensor.clone().detach() or sourceTensor.clone().detach().requires_grad_(True), rather than torch.tensor(sourceTensor).\n",
      "  s = torch.tensor(s, dtype=torch.float)\n",
      "/home/csy/Dropbox/sy_hub/posts/1_Note/ebayesthresh_torch/utils.py:552: UserWarning: To copy construct from a tensor, it is recommended to use sourceTensor.clone().detach() or sourceTensor.clone().detach().requires_grad_(True), rather than torch.tensor(sourceTensor).\n",
      "  tt = torch.tensor(tt, dtype=torch.float64)\n",
      "/home/csy/Dropbox/sy_hub/posts/1_Note/ebayesthresh_torch/utils.py:556: UserWarning: To copy construct from a tensor, it is recommended to use sourceTensor.clone().detach() or sourceTensor.clone().detach().requires_grad_(True), rather than torch.tensor(sourceTensor).\n",
      "  tma = torch.tensor(tt / s - s * a)\n",
      "/home/csy/Dropbox/sy_hub/posts/1_Note/ebayesthresh_torch/utils.py:47: UserWarning: To copy construct from a tensor, it is recommended to use sourceTensor.clone().detach() or sourceTensor.clone().detach().requires_grad_(True), rather than torch.tensor(sourceTensor).\n",
      "  rat1 = torch.tensor(1 / xpa, dtype=torch.float64)\n",
      "/home/csy/Dropbox/sy_hub/posts/1_Note/ebayesthresh_torch/utils.py:51: UserWarning: To copy construct from a tensor, it is recommended to use sourceTensor.clone().detach() or sourceTensor.clone().detach().requires_grad_(True), rather than torch.tensor(sourceTensor).\n",
      "  rat2 = torch.tensor(1 / torch.abs(xma), dtype=torch.float64)\n"
     ]
    }
   ],
   "source": [
    "if pr == \"l\" and a is None:\n",
    "    pp = ebayesthresh_torch.wandafromx(x, s, universalthresh)\n",
    "    w = pp[\"w\"]\n",
    "    a = pp[\"a\"]\n",
    "else:\n",
    "    w = ebayesthresh_torch.wfromx(x, s, prior, a, universalthresh)"
   ]
  },
  {
   "cell_type": "code",
   "execution_count": 9,
   "id": "b771d6ca-8b27-4096-a55d-39e750aa32cb",
   "metadata": {},
   "outputs": [],
   "source": [
    "if pr != \"m\" or verbose:\n",
    "    tt = ebayesthresh_torch.tfromw(w, s, prior=prior, bayesfac=bayesfac, a=a)[0]\n",
    "    if stabadjustment_condition:\n",
    "        tcor = tt * m_sdev\n",
    "    else:\n",
    "        tcor = tt"
   ]
  },
  {
   "cell_type": "code",
   "execution_count": 10,
   "id": "f89246d9-fae4-4b09-9d21-ddfcffc8c205",
   "metadata": {},
   "outputs": [],
   "source": [
    "if threshrule == \"median\":\n",
    "    muhat = ebayesthresh_torch.postmed(x, s, w, prior=prior, a=a)\n",
    "elif threshrule == \"mean\":\n",
    "    muhat = ebayesthresh_torch.postmean(x, s, w, prior=prior, a=a)\n",
    "elif threshrule == \"hard\":\n",
    "    muhat = ebayesthresh_torch.threshld(x, tt)\n",
    "elif threshrule == \"soft\":\n",
    "    muhat = ebayesthresh_torch.threshld(x, tt, hard=False)\n",
    "elif threshrule == \"none\":\n",
    "    muhat = None\n",
    "else:\n",
    "    raise ValueError(f\"Unknown threshold rule: {threshrule}\")"
   ]
  },
  {
   "cell_type": "code",
   "execution_count": 11,
   "id": "9995f6bf-1e89-4391-9951-b6f345cb5bfa",
   "metadata": {},
   "outputs": [
    {
     "data": {
      "text/plain": [
       "tensor([-0.000000000000000,  0.000000000000000, -0.000000000000000,\n",
       "        -0.000000000000000,  0.000000000000000, -0.000000000000000,\n",
       "        -0.000000000000000, -0.000000000000000,  0.000000000000000,\n",
       "        -0.000000000000000,  0.000000000000000, -0.000000000000000,\n",
       "         0.000000000000000,  0.000000000000000,  0.000000000000000,\n",
       "         0.000000000000000,  0.000000000000000,  0.000000000000000,\n",
       "        -0.000000000000000,  0.000000000000000,  0.000000000000000,\n",
       "        -0.000000000000000, -0.000000000000000, -2.355090516079502,\n",
       "        -0.000000000000000,  0.000000000000000,  0.000000000000000,\n",
       "        -0.000000000000000,  0.000000000000000,  0.000000000000000,\n",
       "        -0.000000000000000, -0.000000000000000, -0.000000000000000,\n",
       "        -0.000000000000000, -0.000000000000000, -0.000000000000000,\n",
       "        -0.000000000000000,  0.000000000000000, -0.000000000000000,\n",
       "         0.000000000000000, -0.000000000000000,  0.000000000000000,\n",
       "        -0.000000000000000,  0.000000000000000,  0.000000000000000,\n",
       "         0.000000000000000,  0.000000000000000, -0.000000000000000,\n",
       "         0.000000000000000,  0.000000000000000, -0.000000000000000,\n",
       "        -0.000000000000000, -0.000000000000000,  0.000000000000000,\n",
       "        -0.000000000000000, -0.000000000000000,  0.000000000000000,\n",
       "         0.000000000000000, -0.000000000000000, -0.000000000000000,\n",
       "         0.000000000000000,  0.000000000000000, -0.000000000000000,\n",
       "         0.000000000000000,  0.000000000000000,  0.000000000000000,\n",
       "        -0.000000000000000,  0.000000000000000, -0.000000000000000,\n",
       "        -0.000000000000000, -0.000000000000000, -0.000000000000000,\n",
       "         0.000000000000000, -0.000000000000000,  0.000000000000000,\n",
       "        -0.000000000000000, -0.000000000000000,  0.000000000000000,\n",
       "        -0.000000000000000, -0.000000000000000,  0.000000000000000,\n",
       "        -0.000000000000000, -0.601967078633394, -0.000000000000000,\n",
       "        -0.000000000000000, -0.000000000000000, -0.000000000000000,\n",
       "        -0.000000000000000,  0.000000000000000, -0.000000000000000,\n",
       "         5.241351903941335,  5.814674129368262,  5.452610016379445,\n",
       "         4.281001471635368,  0.000000000000000,  3.760714547874182,\n",
       "         3.599737415541837,  5.760071891039154,  5.703448301737690,\n",
       "         3.821304799487197], dtype=torch.float64)"
      ]
     },
     "execution_count": 11,
     "metadata": {},
     "output_type": "execute_result"
    }
   ],
   "source": [
    "muhat"
   ]
  },
  {
   "cell_type": "code",
   "execution_count": 12,
   "id": "bb7976e6-6a25-4bfd-a03f-2f3ad34d2b88",
   "metadata": {},
   "outputs": [],
   "source": [
    "if stabadjustment_condition:\n",
    "    muhat = muhat * m_sdev"
   ]
  },
  {
   "cell_type": "code",
   "execution_count": 13,
   "id": "4f829f40-61e9-4190-9611-af03923a2c41",
   "metadata": {},
   "outputs": [
    {
     "data": {
      "text/plain": [
       "tensor([-0.000000000000000,  0.000000000000000, -0.000000000000000,\n",
       "        -0.000000000000000,  0.000000000000000, -0.000000000000000,\n",
       "        -0.000000000000000, -0.000000000000000,  0.000000000000000,\n",
       "        -0.000000000000000,  0.000000000000000, -0.000000000000000,\n",
       "         0.000000000000000,  0.000000000000000,  0.000000000000000,\n",
       "         0.000000000000000,  0.000000000000000,  0.000000000000000,\n",
       "        -0.000000000000000,  0.000000000000000,  0.000000000000000,\n",
       "        -0.000000000000000, -0.000000000000000, -2.355090516079502,\n",
       "        -0.000000000000000,  0.000000000000000,  0.000000000000000,\n",
       "        -0.000000000000000,  0.000000000000000,  0.000000000000000,\n",
       "        -0.000000000000000, -0.000000000000000, -0.000000000000000,\n",
       "        -0.000000000000000, -0.000000000000000, -0.000000000000000,\n",
       "        -0.000000000000000,  0.000000000000000, -0.000000000000000,\n",
       "         0.000000000000000, -0.000000000000000,  0.000000000000000,\n",
       "        -0.000000000000000,  0.000000000000000,  0.000000000000000,\n",
       "         0.000000000000000,  0.000000000000000, -0.000000000000000,\n",
       "         0.000000000000000,  0.000000000000000, -0.000000000000000,\n",
       "        -0.000000000000000, -0.000000000000000,  0.000000000000000,\n",
       "        -0.000000000000000, -0.000000000000000,  0.000000000000000,\n",
       "         0.000000000000000, -0.000000000000000, -0.000000000000000,\n",
       "         0.000000000000000,  0.000000000000000, -0.000000000000000,\n",
       "         0.000000000000000,  0.000000000000000,  0.000000000000000,\n",
       "        -0.000000000000000,  0.000000000000000, -0.000000000000000,\n",
       "        -0.000000000000000, -0.000000000000000, -0.000000000000000,\n",
       "         0.000000000000000, -0.000000000000000,  0.000000000000000,\n",
       "        -0.000000000000000, -0.000000000000000,  0.000000000000000,\n",
       "        -0.000000000000000, -0.000000000000000,  0.000000000000000,\n",
       "        -0.000000000000000, -0.601967078633394, -0.000000000000000,\n",
       "        -0.000000000000000, -0.000000000000000, -0.000000000000000,\n",
       "        -0.000000000000000,  0.000000000000000, -0.000000000000000,\n",
       "         5.241351903941335,  5.814674129368262,  5.452610016379445,\n",
       "         4.281001471635368,  0.000000000000000,  3.760714547874182,\n",
       "         3.599737415541837,  5.760071891039154,  5.703448301737690,\n",
       "         3.821304799487197], dtype=torch.float64)"
      ]
     },
     "execution_count": 13,
     "metadata": {},
     "output_type": "execute_result"
    }
   ],
   "source": [
    "muhat"
   ]
  },
  {
   "cell_type": "code",
   "execution_count": 14,
   "id": "901491d0-4d0e-4e87-a68d-432dfa56ea54",
   "metadata": {},
   "outputs": [],
   "source": [
    "if not verbose:\n",
    "    muhat\n",
    "else:\n",
    "    retlist = {\n",
    "        'muhat': muhat,\n",
    "        'x': x,\n",
    "        'threshold.sdevscale': tt,\n",
    "        'threshold.origscale': tcor,\n",
    "        'prior': prior,\n",
    "        'w': w,\n",
    "        'a': a,\n",
    "        'bayesfac': bayesfac,\n",
    "        'sdev': sdev,\n",
    "        'threshrule': threshrule\n",
    "    }\n",
    "    if pr == \"c\":\n",
    "        del retlist['a']\n",
    "    if threshrule == \"none\":\n",
    "        del retlist['muhat']\n",
    "    retlist"
   ]
  },
  {
   "cell_type": "markdown",
   "id": "6b284779-4852-4664-bb2e-034178975562",
   "metadata": {},
   "source": [
    "R코드"
   ]
  },
  {
   "cell_type": "markdown",
   "id": "cb071aaf-c415-4e37-affa-9cfb355ed7cb",
   "metadata": {},
   "source": [
    "```R\n",
    "ebayesthresh <- function (x, prior = \"laplace\", a = 0.5, bayesfac = FALSE,\n",
    "                          sdev = NA, verbose = FALSE, threshrule = \"median\",\n",
    "                          universalthresh = TRUE, stabadjustment) {\n",
    "#  \n",
    "#  Given a vector of data x, find the marginal maximum likelihood\n",
    "#  estimator of the mixing weight w, and apply an appropriate\n",
    "#  thresholding rule using this weight.\n",
    "#\n",
    "#  If the prior is laplace and a=NA, then the inverse scale parameter\n",
    "#  is also found by MML.\n",
    "#\n",
    "#  Standard deviation sdev can be a vector (heterogeneous variance) or\n",
    "#  a single value (homogeneous variance). If sdev=NA, then it is\n",
    "#  estimated using the function mad(x). Heterogeneous variance is\n",
    "#  allowed only for laplace prior currently.\n",
    "#    \n",
    "#  The thresholding rules allowed are \"median\", \"mean\", \"hard\", \"soft\"\n",
    "#  and \"none\"; if \"none\" is used, then only the parameters are worked\n",
    "#  out.\n",
    "#\n",
    "#  If hard or soft thresholding is used, the argument \"bayesfac\"\n",
    "#  specifies whether to use the bayes factor threshold or the\n",
    "#  posterior median threshold.\n",
    "#    \n",
    "#  If universalthresh=TRUE, the thresholds will be upper bounded by\n",
    "#  universal threshold adjusted by standard deviation; otherwise,\n",
    "#  weight w will be searched in [0, 1].\n",
    "#    \n",
    "#  If stabadjustment=TRUE, the observations and standard deviations\n",
    "#  will be first divided by the mean of all given standard deviations\n",
    "#  in case of inefficiency due to large value of standard\n",
    "#  deviation. In the case of homogeneous variance, the standard\n",
    "#  deviations will be normalized to 1 automatically.\n",
    "#\n",
    "#  If verbose=TRUE then the routine returns a list with several\n",
    "#  arguments, including muhat which is the result of the\n",
    "#  thresholding. If verbose=FALSE then only muhat is returned.\n",
    "#\n",
    "    \n",
    "  # Find the standard deviation if necessary and estimate the parameters\n",
    "  pr <- substring(prior, 1, 1)\n",
    "\n",
    "  if(length(sdev) == 1) {\n",
    "      if(!missing(stabadjustment))\n",
    "        stop(paste(\"Argument stabadjustment is not applicable when\",\n",
    "                   \"variances are homogeneous.\"))\n",
    "      if(is.na(sdev)) {\n",
    "          sdev <- mad(x, center = 0)\n",
    "      }\n",
    "      stabadjustment_condition = TRUE\n",
    "  } else{\n",
    "    if(pr == \"c\")\n",
    "      stop(\"Standard deviation has to be homogeneous for Cauchy prior.\")\n",
    "    if(length(sdev) != length(x))\n",
    "      stop(paste(\"Standard deviation has to be homogeneous or has the\",\n",
    "                 \"same length as observations.\"))\n",
    "    if(missing(stabadjustment))\n",
    "      stabadjustment <- FALSE\n",
    "    stabadjustment_condition = stabadjustment\n",
    "  }\n",
    "  \n",
    "  if (stabadjustment_condition) {\n",
    "    m_sdev <- mean(sdev)\n",
    "    s <- sdev/m_sdev\n",
    "    x <- x/m_sdev\n",
    "  } else { s <- sdev }\n",
    "  \n",
    "\tif ((pr == \"l\") & is.na(a)) {\n",
    "\t  pp <- wandafromx(x, s, universalthresh)\n",
    "          w  <- pp$w\n",
    "          a  <- pp$a\n",
    "\t}\n",
    "\telse\n",
    "          w <- wfromx(x, s, prior = prior, a = a, universalthresh)\n",
    "\tif(pr != \"m\" | verbose) {\n",
    "\t  tt <- tfromw(w, s, prior = prior, bayesfac = bayesfac, a = a)\n",
    "\t  if(stabadjustment_condition) {\n",
    "\t    tcor <- tt * m_sdev\n",
    "          } else {\n",
    "            tcor <- tt\n",
    "          }\n",
    "\t}\n",
    "\tif(threshrule == \"median\")\n",
    "\t\tmuhat <- postmed(x, s, w, prior = prior, a = a)\n",
    "\tif(threshrule == \"mean\")\n",
    "    muhat <- postmean(x, s, w, prior = prior, a = a)\n",
    "\tif(threshrule == \"hard\")\n",
    "\t\tmuhat <- threshld(x, tt)\n",
    "\tif(threshrule == \"soft\")\n",
    "\t\tmuhat <- threshld(x, tt, hard = FALSE)\n",
    "        if(threshrule == \"none\")\n",
    "                muhat <- NA\n",
    "\n",
    "\t# Now return desired output\n",
    "\tif(stabadjustment_condition) {\n",
    "\t  muhat <- muhat * m_sdev\n",
    "\t}\n",
    "\tif(!verbose)\n",
    "            return(muhat)\n",
    "\tretlist <- list(muhat = muhat, x = x, threshold.sdevscale = tt, \n",
    "                        threshold.origscale = tcor, prior = prior, w = w,\n",
    "                        a = a, bayesfac = bayesfac, sdev = sdev,\n",
    "                        threshrule = threshrule)\n",
    "\tif(pr == \"c\")\n",
    "\t\tretlist <- retlist[-7]\n",
    "\tif(threshrule == \"none\")\n",
    "\t\tretlist <- retlist[-1]\n",
    "\treturn(retlist)\n",
    "}\n",
    "```"
   ]
  },
  {
   "cell_type": "markdown",
   "id": "ff00eb94-bf92-42d6-841f-554e12008e16",
   "metadata": {},
   "source": [
    "결과"
   ]
  },
  {
   "cell_type": "markdown",
   "id": "28f0a2b7-6404-45f2-ae43-e019827336b7",
   "metadata": {},
   "source": [
    "- Python"
   ]
  },
  {
   "cell_type": "code",
   "execution_count": 15,
   "id": "dd53fa2b-eeb8-4be6-ad1b-379fbe0c0657",
   "metadata": {},
   "outputs": [
    {
     "name": "stderr",
     "output_type": "stream",
     "text": [
      "/home/csy/Dropbox/sy_hub/posts/1_Note/ebayesthresh_torch/utils.py:70: UserWarning: To copy construct from a tensor, it is recommended to use sourceTensor.clone().detach() or sourceTensor.clone().detach().requires_grad_(True), rather than torch.tensor(sourceTensor).\n",
      "  if torch.isnan(torch.tensor(sdev)):\n"
     ]
    },
    {
     "data": {
      "text/plain": [
       "tensor([-0.000000000000000, -0.000000000000000, -0.000000000000000,\n",
       "        -0.000000000000000, 0.000000000000000, -0.000000000000000,\n",
       "        -0.000000000000000, 0.000000000000000, 0.000000000000000,\n",
       "        -0.000000000000000, -0.000000000000000, -0.000000000000000,\n",
       "        0.000000000000000, 0.000000000000000, -0.000000000000000,\n",
       "        -0.000000000000000, 0.000000000000000, -0.000000000000000,\n",
       "        0.000000000000000, 0.000000000000000, 0.000000000000000,\n",
       "        -0.000000000000000, 0.000000000000000, -0.000000000000000,\n",
       "        -0.000000000000000, 0.000000000000000, 0.000000000000000,\n",
       "        -0.000000000000000, 0.000000000000000, 0.000000000000000,\n",
       "        0.000000000000000, -0.000000000000000, 0.000000000000000,\n",
       "        -0.000000000000000, 0.000000000000000, -0.000000000000000,\n",
       "        0.000000000000000, 0.000000000000000, 0.000000000000000,\n",
       "        -0.000000000000000, -0.000000000000000, 0.000000000000000,\n",
       "        0.000000000000000, -0.000000000000000, 0.000000000000000,\n",
       "        -0.000000000000000, 0.000000000000000, -0.000000000000000,\n",
       "        -0.000000000000000, 0.000000000000000, -0.000000000000000,\n",
       "        -0.000000000000000, -0.000000000000000, 0.000000000000000,\n",
       "        -0.000000000000000, 0.000000000000000, 0.000000000000000,\n",
       "        0.000000000000000, 0.000000000000000, 0.000000000000000,\n",
       "        0.000000000000000, 0.000000000000000, -0.000000000000000,\n",
       "        -0.000000000000000, 0.000000000000000, -0.000000000000000,\n",
       "        0.000000000000000, 0.000000000000000, 0.000000000000000,\n",
       "        0.000000000000000, 0.000000000000000, -0.000000000000000,\n",
       "        0.000000000000000, -0.000000000000000, -0.000000000000000,\n",
       "        0.000000000000000, 1.954613398388517, 0.000000000000000,\n",
       "        -0.000000000000000, -0.000000000000000, -0.000000000000000,\n",
       "        0.000000000000000, -0.000000000000000, 0.000000000000000,\n",
       "        0.000000000000000, -0.000000000000000, -0.000000000000000,\n",
       "        0.000000000000000, 0.732271537889088, -0.000000000000000,\n",
       "        5.014218914983013, 4.277265850178829, 4.820524749212368,\n",
       "        3.796867893018724, 3.538953086545616, 4.003283151235995,\n",
       "        4.853340377507240, 3.414067134079617, 2.554817258538065,\n",
       "        4.421466422111199], dtype=torch.float64)"
      ]
     },
     "execution_count": 15,
     "metadata": {},
     "output_type": "execute_result"
    }
   ],
   "source": [
    "ebayesthresh_torch.ebayesthresh(x=torch.normal(torch.tensor([0] * 90 + [5] * 10, dtype=torch.float32), torch.ones(100, dtype=torch.float32)), sdev = 1)"
   ]
  },
  {
   "cell_type": "markdown",
   "id": "5a5f0c14-569d-4cda-a590-49000c166f47",
   "metadata": {},
   "source": [
    "- R"
   ]
  },
  {
   "cell_type": "markdown",
   "id": "82fe4ec7-c315-40c3-a4e7-116577a88808",
   "metadata": {},
   "source": [
    "```R\n",
    "> ebayesthresh(x = rnorm(100, c(rep(0,90), rep(5,10))),\n",
    "+              prior = \"laplace\", sdev = 1)\n",
    "  [1]  0.0000000  0.0000000  0.0000000  0.0000000  0.0000000  0.0000000  0.0000000  0.0000000  0.0000000  0.0000000  0.0000000  0.0000000  0.0000000  0.0000000\n",
    " [15]  0.0000000  0.0000000  0.0000000  0.0000000  0.0000000  0.0000000  0.0000000  0.0000000  0.0000000  0.0000000  0.0000000  0.0000000  0.0000000  0.0000000\n",
    " [29]  0.0000000  0.0000000  0.0000000  0.0000000  0.0000000  0.0000000  0.0000000  0.0000000  0.0000000  0.0000000  0.0000000  0.0000000  0.0000000  0.0000000\n",
    " [43]  0.0000000  0.0000000  0.0000000  0.0000000  0.0000000  0.0000000  0.0000000  0.0000000  0.0000000  0.0000000  0.0000000  0.0000000  0.0000000  0.0000000\n",
    " [57]  0.0000000  0.0000000  0.0000000  0.0000000  0.0000000  0.0000000  0.0000000  0.0000000  0.0000000  0.0000000  0.0000000  0.0000000  0.0000000  0.0000000\n",
    " [71]  0.0000000  0.0000000  0.0000000  0.0000000  0.0000000  0.0000000  0.0000000  0.0000000  0.0000000  0.0000000  0.0000000  0.0000000  0.0000000 -0.4480064\n",
    " [85]  0.0000000  0.0000000  0.0000000  0.0000000  0.0000000  0.0000000  5.1534865  6.2732386  4.4612851  5.9931848  4.5828731  4.6154038  4.8247775  3.6219544\n",
    " [99]  4.4480080  5.4084453\n",
    "```"
   ]
  },
  {
   "cell_type": "markdown",
   "id": "b4fb562e-cfd9-4f65-984c-fb55c4bf7e60",
   "metadata": {},
   "source": [
    "# isotone"
   ]
  },
  {
   "cell_type": "markdown",
   "id": "27ba6dec-0169-483e-847c-9099c803ad4c",
   "metadata": {},
   "source": [
    "> Isotonic Regression은 입력 변수에 따른 출력 변수의 단조 증가(monotonic increasing) 또는 감소(monotonic decreasing) 패턴을 찾는 방법"
   ]
  },
  {
   "cell_type": "code",
   "execution_count": 50,
   "id": "8ef6ca18-5787-45bd-8b12-7e8102dd08e9",
   "metadata": {},
   "outputs": [],
   "source": [
    "beta = ebayesthresh_torch.beta_cauchy(torch.tensor([-2,1,0,-4]))\n",
    "w = torch.ones(len(beta))\n",
    "aa = w + 1/beta\n",
    "x = w + aa\n",
    "wt = 1/aa**2\n",
    "increasing = False"
   ]
  },
  {
   "cell_type": "code",
   "execution_count": 51,
   "id": "7743bfc7-0119-4965-864b-90ab2429cdd7",
   "metadata": {},
   "outputs": [],
   "source": [
    "if wt is None:\n",
    "        wt = torch.ones_like(x)"
   ]
  },
  {
   "cell_type": "code",
   "execution_count": 52,
   "id": "c963e95a-799e-49a8-b454-dfb0a57ea5f8",
   "metadata": {},
   "outputs": [
    {
     "data": {
      "text/plain": [
       "4"
      ]
     },
     "execution_count": 52,
     "metadata": {},
     "output_type": "execute_result"
    }
   ],
   "source": [
    "nn = len(x)\n",
    "nn"
   ]
  },
  {
   "cell_type": "code",
   "execution_count": 53,
   "id": "49eb804c-2911-4703-8c2c-ab63f7434ac8",
   "metadata": {},
   "outputs": [
    {
     "data": {
      "text/plain": [
       "tensor([  0.597264024732663,  -0.351278729299872,  -0.500000000000000,\n",
       "        185.247374190108047], dtype=torch.float64)"
      ]
     },
     "execution_count": 53,
     "metadata": {},
     "output_type": "execute_result"
    }
   ],
   "source": [
    "ebayesthresh_torch.beta_cauchy(torch.tensor([-2,1,0,-4]))"
   ]
  },
  {
   "cell_type": "code",
   "execution_count": 54,
   "id": "69ea0bef-29a0-4e7d-aca4-f5b551488271",
   "metadata": {},
   "outputs": [],
   "source": [
    "if nn == 1:\n",
    "    x = x\n",
    "\n",
    "if not increasing:\n",
    "    x = -x"
   ]
  },
  {
   "cell_type": "code",
   "execution_count": 55,
   "id": "ab575be4-9a95-4277-82b7-c719a9c81d79",
   "metadata": {},
   "outputs": [
    {
     "data": {
      "text/plain": [
       "tensor([0, 1, 2, 3])"
      ]
     },
     "execution_count": 55,
     "metadata": {},
     "output_type": "execute_result"
    }
   ],
   "source": [
    "ip = torch.arange(nn)\n",
    "ip"
   ]
  },
  {
   "cell_type": "code",
   "execution_count": 56,
   "id": "86c27adc-045f-4fb9-8617-a653bdab4cf9",
   "metadata": {},
   "outputs": [
    {
     "data": {
      "text/plain": [
       "tensor([ 4.521043661450835, -0.846742249361595, -2.005398187177399],\n",
       "       dtype=torch.float64)"
      ]
     },
     "execution_count": 56,
     "metadata": {},
     "output_type": "execute_result"
    }
   ],
   "source": [
    "dx = torch.diff(x)\n",
    "dx"
   ]
  },
  {
   "cell_type": "code",
   "execution_count": 57,
   "id": "081129ac-e09b-4fb4-b5ec-30b7980ae6fe",
   "metadata": {},
   "outputs": [
    {
     "data": {
      "text/plain": [
       "4"
      ]
     },
     "execution_count": 57,
     "metadata": {},
     "output_type": "execute_result"
    }
   ],
   "source": [
    "nx = len(x)\n",
    "nx"
   ]
  },
  {
   "cell_type": "code",
   "execution_count": 58,
   "id": "277539d1-d067-4e74-a725-e72bbe1f04cd",
   "metadata": {},
   "outputs": [],
   "source": [
    "while (nx > 1) and (torch.min(dx) < 0):\n",
    "        jmax = torch.where((torch.cat([dx <= 0, torch.tensor([False])]) & torch.cat([torch.tensor([True]), dx > 0])))[0]\n",
    "        jmin = torch.where((torch.cat([dx > 0, torch.tensor([True])]) & torch.cat([torch.tensor([False]), dx <= 0])))[0]\n",
    "        \n",
    "\n",
    "        for jb in range(len(jmax)):\n",
    "            ind = torch.arange(jmax[jb], jmin[jb] + 1)\n",
    "            wtn = torch.sum(wt[ind])\n",
    "            x[jmax[jb]] = torch.sum(wt[ind] * x[ind]) / wtn\n",
    "            wt[jmax[jb]] = wtn\n",
    "            x[jmax[jb] + 1:jmin[jb] + 1] = torch.nan\n",
    "\n",
    "        ind = ~torch.isnan(x)\n",
    "        x = x[ind]\n",
    "        wt = wt[ind]\n",
    "        ip = ip[ind]\n",
    "        dx = torch.diff(x)\n",
    "        nx = len(x)"
   ]
  },
  {
   "cell_type": "code",
   "execution_count": 59,
   "id": "184f9682-5cdd-4dcb-8330-fec4da3294fc",
   "metadata": {},
   "outputs": [
    {
     "data": {
      "text/plain": [
       "tensor([0, 0, 0, 0], dtype=torch.int32)"
      ]
     },
     "execution_count": 59,
     "metadata": {},
     "output_type": "execute_result"
    }
   ],
   "source": [
    "jj = torch.zeros(nn, dtype=torch.int32)\n",
    "jj"
   ]
  },
  {
   "cell_type": "code",
   "execution_count": 60,
   "id": "3da8e458-724a-4efc-b615-fcf19160dd10",
   "metadata": {},
   "outputs": [
    {
     "data": {
      "text/plain": [
       "tensor([1, 1, 0, 0], dtype=torch.int32)"
      ]
     },
     "execution_count": 60,
     "metadata": {},
     "output_type": "execute_result"
    }
   ],
   "source": [
    "jj[ip] = 1\n",
    "jj"
   ]
  },
  {
   "cell_type": "code",
   "execution_count": 61,
   "id": "85b92589-03dc-4a1a-9f9f-19bf75ee36fc",
   "metadata": {},
   "outputs": [
    {
     "data": {
      "text/plain": [
       "tensor([-3.674301412089240, -0.760411047043364, -0.760411047043364,\n",
       "        -0.760411047043364], dtype=torch.float64)"
      ]
     },
     "execution_count": 61,
     "metadata": {},
     "output_type": "execute_result"
    }
   ],
   "source": [
    "z = x[torch.cumsum(jj, dim=0) - 1]\n",
    "z"
   ]
  },
  {
   "cell_type": "code",
   "execution_count": 62,
   "id": "0d602022-3f52-4bbd-9213-b29b468f746a",
   "metadata": {},
   "outputs": [],
   "source": [
    "if not increasing:\n",
    "        z = -z"
   ]
  },
  {
   "cell_type": "code",
   "execution_count": 63,
   "id": "56e2ae5c-c1b7-4ae0-82dc-1b2fac51c035",
   "metadata": {},
   "outputs": [
    {
     "data": {
      "text/plain": [
       "tensor([3.674301412089240, 0.760411047043364, 0.760411047043364,\n",
       "        0.760411047043364], dtype=torch.float64)"
      ]
     },
     "execution_count": 63,
     "metadata": {},
     "output_type": "execute_result"
    }
   ],
   "source": [
    "z"
   ]
  },
  {
   "cell_type": "markdown",
   "id": "3fbd7d4b-ebd3-4284-9e97-91f43466ed0e",
   "metadata": {},
   "source": [
    "R코드"
   ]
  },
  {
   "cell_type": "markdown",
   "id": "14bf7283-e778-4d22-8fa7-be66bcb23d4b",
   "metadata": {},
   "source": [
    "```R\n",
    "isotone <- function(x, wt = rep(1, length(x)), increasing = FALSE) {\n",
    "#\n",
    "#   find the weighted least squares isotone fit to the \n",
    "#   sequence x, the weights given by the sequence wt\n",
    "#\n",
    "#   if increasing == TRUE the curve is set to be increasing, \n",
    "#   otherwise to be decreasing\n",
    "#\n",
    "#   the vector ip contains the indices on the original scale of the\n",
    "#   breaks in the regression at each stage\n",
    "#\n",
    "\tnn <- length(x)\n",
    "\tif(nn == 1)\n",
    "\t\treturn(x)\n",
    "\tif(!increasing)\n",
    "\t\tx <-  - x\n",
    "\tip <- (1:nn)\n",
    "\tdx <- diff(x)\n",
    "\tnx <- length(x)\n",
    "\twhile((nx > 1) && (min(dx) < 0)) {\n",
    "#\n",
    "#  do single pool-adjacent-violators step\n",
    "#\n",
    "#  find all local minima and maxima\n",
    "#\n",
    "\t\tjmax <- (1:nx)[c(dx <= 0, FALSE) & c(TRUE, dx > 0)]\n",
    "\t\tjmin <- (1:nx)[c(dx > 0, TRUE) & c(FALSE, dx <= 0)]\n",
    "#  do pav step for each pair of maxima and minima\n",
    "#\n",
    "#  add up weights within subsequence that is pooled\n",
    "#  set first element of subsequence to the weighted average\n",
    "#  the first weight to the sum of the weights within the subsequence\n",
    "#    and remainder of the subsequence to NA\n",
    "#\n",
    "\t\tfor(jb in (1:length(jmax))) {\n",
    "\t\t\tind <- (jmax[jb]:jmin[jb])\n",
    "\t\t\twtn <- sum(wt[ind])\n",
    "\t\t\tx[jmax[jb]] <- sum(wt[ind] * x[ind])/wtn\n",
    "\t\t\twt[jmax[jb]] <- wtn\n",
    "\t\t\tx[(jmax[jb] + 1):jmin[jb]] <- NA\n",
    "\t\t}\n",
    "#\n",
    "#  clean up within iteration, eliminating the parts of sequences that\n",
    "#  were set to NA\n",
    "#\n",
    "\t\tind <- !is.na(x)\n",
    "\t\tx <- x[ind]\n",
    "\t\twt <- wt[ind]\n",
    "\t\tip <- ip[ind]\n",
    "\t\tdx <- diff(x)\n",
    "\t\tnx <- length(x)\n",
    "\t}\n",
    "# \n",
    "#  final cleanup: reconstruct z at all points by repeating the pooled\n",
    "#    values the appropriate number of times\n",
    "#\n",
    "\tjj <- rep(0, nn)\n",
    "\tjj[ip] <- 1\n",
    "\tz <- x[cumsum(jj)]\n",
    "\tif(!increasing)\n",
    "\t\tz <-  - z\n",
    "\treturn(z)\n",
    "}\n",
    "```"
   ]
  },
  {
   "cell_type": "markdown",
   "id": "3e0f038d-ce57-407d-a5cb-15ab6df72362",
   "metadata": {},
   "source": [
    "결과"
   ]
  },
  {
   "cell_type": "markdown",
   "id": "25120546-0473-456a-a75d-67d08b972d99",
   "metadata": {},
   "source": [
    "- Python"
   ]
  },
  {
   "cell_type": "code",
   "execution_count": 64,
   "id": "50d3f97e-3039-4325-98ab-205c5eacc612",
   "metadata": {},
   "outputs": [
    {
     "data": {
      "text/plain": [
       "[3.67430141208924, 0.760411047043364, 0.760411047043364, 0.760411047043364]"
      ]
     },
     "execution_count": 64,
     "metadata": {},
     "output_type": "execute_result"
    }
   ],
   "source": [
    "beta = ebayesthresh_torch.beta_cauchy(torch.tensor([-2,1,0,-4]))\n",
    "w = torch.ones(len(beta))\n",
    "aa = w + 1/beta\n",
    "ps = w + aa\n",
    "ww = 1/aa**2\n",
    "wnew = ebayesthresh_torch.isotone(ps, ww, increasing = False)\n",
    "wnew"
   ]
  },
  {
   "cell_type": "markdown",
   "id": "c401875f-3d3f-4d8e-bcfa-c0bb25d1cc80",
   "metadata": {},
   "source": [
    "R"
   ]
  },
  {
   "cell_type": "markdown",
   "id": "2bdeeeb8-6b53-4916-9776-c357b7817c75",
   "metadata": {},
   "source": [
    "```R\n",
    "> beta <- beta.cauchy(c(-2,1,0,-4))\n",
    "> w <- rep(1, length(x))\n",
    "> aa = w + 1/beta\n",
    "> ps = w + aa\n",
    "> ww = 1/aa**2\n",
    "> wnew = isotone(ps, ww, increasing = FALSE)\n",
    "> wnew\n",
    "[1] 3.674301 0.760411 0.760411 0.760411\n",
    "```"
   ]
  },
  {
   "cell_type": "markdown",
   "id": "19e378cd-82d6-431a-b128-6d977826e379",
   "metadata": {},
   "source": [
    "# laplace_threshzero"
   ]
  },
  {
   "cell_type": "code",
   "execution_count": 65,
   "id": "ffeb41db-c3fd-44d7-926d-da05b1cde637",
   "metadata": {},
   "outputs": [],
   "source": [
    "x = torch.tensor([-2,1,0,-4,8,50])\n",
    "s = 1\n",
    "w = 0.5\n",
    "a = 0.5"
   ]
  },
  {
   "cell_type": "code",
   "execution_count": 66,
   "id": "526d78ea-bb08-4464-a2e8-403f601f30ab",
   "metadata": {},
   "outputs": [
    {
     "data": {
      "text/plain": [
       "0.5"
      ]
     },
     "execution_count": 66,
     "metadata": {},
     "output_type": "execute_result"
    }
   ],
   "source": [
    "a = min(a, 20)\n",
    "a"
   ]
  },
  {
   "cell_type": "code",
   "execution_count": 67,
   "id": "ff18e35c-d7e9-4616-951f-9fddcc411160",
   "metadata": {},
   "outputs": [
    {
     "data": {
      "text/plain": [
       "tensor([-2.500000000000000,  0.500000000000000, -0.500000000000000,\n",
       "        -4.500000000000000,  7.500000000000000, 49.500000000000000])"
      ]
     },
     "execution_count": 67,
     "metadata": {},
     "output_type": "execute_result"
    }
   ],
   "source": [
    "xma = x / s - s * a\n",
    "xma"
   ]
  },
  {
   "cell_type": "code",
   "execution_count": 68,
   "id": "9f271ff4-7b00-4919-8fbf-874166f7b669",
   "metadata": {},
   "outputs": [
    {
     "data": {
      "text/plain": [
       "tensor([-0.095098724189572, -0.449199823501264, -0.704130653528599,\n",
       "        -0.009185957714915,  0.499999999999483,  1.000000000000000],\n",
       "       dtype=torch.float64)"
      ]
     },
     "execution_count": 68,
     "metadata": {},
     "output_type": "execute_result"
    }
   ],
   "source": [
    "z = torch.tensor(norm.cdf(xma, loc=0, scale=1)) - (1 / a) * (1 / s * torch.tensor(norm.pdf(xma, loc=0, scale=1))) * (1 / w + ebayesthresh_torch.beta_laplace(x, s, a))\n",
    "z"
   ]
  },
  {
   "cell_type": "markdown",
   "id": "49dc7496-a8a9-4589-afb6-adb7a76be549",
   "metadata": {},
   "source": [
    "R코드"
   ]
  },
  {
   "cell_type": "markdown",
   "id": "09a8c697-3ae1-42f2-9813-f17b23211633",
   "metadata": {},
   "source": [
    "```R\n",
    "laplace.threshzero <- function(x, s = 1, w = 0.5, a = 0.5) {\n",
    "#\n",
    "# The function that has to be zeroed to find the threshold with the\n",
    "# Laplace prior.  Only allow a < 20 for input value.\n",
    "#    \n",
    "  a <- min(a, 20)\n",
    "  xma <- x/s - s*a\n",
    "  z <- pnorm(xma) - 1/a * (1/s*dnorm(xma)) * (1/w + beta.laplace(x, s, a))\n",
    "  return(z)\n",
    "}\n",
    "```"
   ]
  },
  {
   "cell_type": "markdown",
   "id": "5adeeab7-cd3d-45c3-b194-6b91155c17e3",
   "metadata": {},
   "source": [
    "결과"
   ]
  },
  {
   "cell_type": "markdown",
   "id": "5fbc0b77-9d4c-445c-9be4-cef0adc10104",
   "metadata": {},
   "source": [
    "- Python"
   ]
  },
  {
   "cell_type": "code",
   "execution_count": 69,
   "id": "8d2636a6-4869-4b72-960b-cb6ade162743",
   "metadata": {},
   "outputs": [
    {
     "data": {
      "text/plain": [
       "tensor([-0.095098724189572, -0.449199823501264, -0.704130653528599,\n",
       "        -0.009185957714915,  0.499999999999483,  1.000000000000000],\n",
       "       dtype=torch.float64)"
      ]
     },
     "execution_count": 69,
     "metadata": {},
     "output_type": "execute_result"
    }
   ],
   "source": [
    "ebayesthresh_torch.laplace_threshzero(torch.tensor([-2,1,0,-4,8,50]), s = 1, w = 0.5, a = 0.5)"
   ]
  },
  {
   "cell_type": "code",
   "execution_count": 70,
   "id": "fefaea0b-02df-4fe4-9d43-4ebb991938d0",
   "metadata": {},
   "outputs": [
    {
     "data": {
      "text/plain": [
       "tensor(-0.003369167953292, dtype=torch.float64)"
      ]
     },
     "execution_count": 70,
     "metadata": {},
     "output_type": "execute_result"
    }
   ],
   "source": [
    "ebayesthresh_torch.laplace_threshzero(torch.tensor(-5), s = 1, w = 0.5, a = 0.5)"
   ]
  },
  {
   "cell_type": "markdown",
   "id": "79fad817-0cfc-4218-b041-f16fb7a0857d",
   "metadata": {},
   "source": [
    "- R"
   ]
  },
  {
   "cell_type": "markdown",
   "id": "2b009058-4803-4f8d-8415-a3cfc8b16bc6",
   "metadata": {},
   "source": [
    "```R\n",
    "> laplace.threshzero(c(-2,1,0,-4,8,50), s = 1, w = 0.5, a = 0.5)\n",
    "[1] -0.095098724 -0.449199824 -0.704130654 -0.009185958  0.500000000  1.000000000\n",
    "> laplace.threshzero(-5, s = 1, w = 0.5, a = 0.5)\n",
    "[1] -0.003369168\n",
    "```"
   ]
  },
  {
   "cell_type": "markdown",
   "id": "848347c3-3a6d-4196-b2f6-d01d3c9f0476",
   "metadata": {},
   "source": [
    "# negloglik_laplace"
   ]
  },
  {
   "cell_type": "markdown",
   "id": "eba5f10d-bdbe-4799-b5a1-fa0423699636",
   "metadata": {},
   "source": [
    "> Marginal negative log likelihood function for laplace prior."
   ]
  },
  {
   "cell_type": "markdown",
   "id": "54539e94-b7bf-4082-8821-2499c02aea41",
   "metadata": {},
   "source": [
    "- 라플라스 프라이어에 대한 한계음의로그우도함수 계산"
   ]
  },
  {
   "cell_type": "code",
   "execution_count": 71,
   "id": "3388f296-4220-41f8-ac14-38c7e1639ed9",
   "metadata": {},
   "outputs": [],
   "source": [
    "xpar = torch.tensor([0.5,0.6,0.3])\n",
    "xx = torch.tensor([1,2,3,4,5])\n",
    "ss = torch.tensor([1])\n",
    "tlo = torch.sqrt(2 * torch.log(torch.tensor(len([1, 2, 3, 4, 5])).float())) * 1\n",
    "thi = torch.tensor([0.0,0.0,0.0])"
   ]
  },
  {
   "cell_type": "code",
   "execution_count": 72,
   "id": "692068d6-1f41-4e88-b044-a299ea64c0db",
   "metadata": {},
   "outputs": [
    {
     "data": {
      "text/plain": [
       "tensor(0.600000023841858)"
      ]
     },
     "execution_count": 72,
     "metadata": {},
     "output_type": "execute_result"
    }
   ],
   "source": [
    "a = xpar[1]\n",
    "a"
   ]
  },
  {
   "cell_type": "code",
   "execution_count": 73,
   "id": "9a273e60-cedf-413b-90bc-19b3881052b4",
   "metadata": {},
   "outputs": [
    {
     "data": {
      "text/plain": [
       "tensor([1., 1., 1.], dtype=torch.float64)"
      ]
     },
     "execution_count": 73,
     "metadata": {},
     "output_type": "execute_result"
    }
   ],
   "source": [
    "wlo = ebayesthresh_torch.wfromt(thi, ss, a=a)\n",
    "wlo"
   ]
  },
  {
   "cell_type": "code",
   "execution_count": 74,
   "id": "d61d4985-4bb7-4639-9e4c-9f310233a3f8",
   "metadata": {},
   "outputs": [
    {
     "data": {
      "text/plain": [
       "tensor([0.445282361582141], dtype=torch.float64)"
      ]
     },
     "execution_count": 74,
     "metadata": {},
     "output_type": "execute_result"
    }
   ],
   "source": [
    "whi = ebayesthresh_torch.wfromt(tlo, ss, a=a)\n",
    "whi"
   ]
  },
  {
   "cell_type": "code",
   "execution_count": 75,
   "id": "43489205-88aa-4de5-9ff2-2b147d852227",
   "metadata": {},
   "outputs": [
    {
     "data": {
      "text/plain": [
       "tensor(1., dtype=torch.float64)"
      ]
     },
     "execution_count": 75,
     "metadata": {},
     "output_type": "execute_result"
    }
   ],
   "source": [
    "wlo = torch.max(wlo)\n",
    "wlo"
   ]
  },
  {
   "cell_type": "code",
   "execution_count": 76,
   "id": "af55411c-cb15-45c5-b82a-f94a0c4ee7b5",
   "metadata": {},
   "outputs": [
    {
     "data": {
      "text/plain": [
       "tensor(0.445282361582141, dtype=torch.float64)"
      ]
     },
     "execution_count": 76,
     "metadata": {},
     "output_type": "execute_result"
    }
   ],
   "source": [
    "whi = torch.min(whi)\n",
    "whi"
   ]
  },
  {
   "cell_type": "code",
   "execution_count": 77,
   "id": "eb553ee4-84b8-4d66-b320-058ff0d8f33c",
   "metadata": {},
   "outputs": [
    {
     "data": {
      "text/plain": [
       "tensor(-16.797274811699509, dtype=torch.float64)"
      ]
     },
     "execution_count": 77,
     "metadata": {},
     "output_type": "execute_result"
    }
   ],
   "source": [
    "loglik = torch.sum(torch.log(1 + (xpar[0] * (whi - wlo) + wlo) *\n",
    "                           ebayesthresh_torch.beta_laplace(xx, ss, a)))\n",
    "-loglik"
   ]
  },
  {
   "cell_type": "markdown",
   "id": "851bf5dc-17f3-4ef2-be47-f5562eac9755",
   "metadata": {},
   "source": [
    "R코드"
   ]
  },
  {
   "cell_type": "markdown",
   "id": "2da10538-41fa-4e2e-8ac3-ff9eff103a40",
   "metadata": {},
   "source": [
    "```R\n",
    "negloglik.laplace <- function(xpar, xx, ss, tlo, thi) {\n",
    "#\n",
    "#  Marginal negative log likelihood function for laplace prior. \n",
    "#   Constraints for thresholds need to be passed externally.\n",
    "#  \n",
    "#  xx   :data\n",
    "#  xpar :vector of two parameters:\n",
    "#      xpar[1] : a value between [0, 1] which will be adjusted to range of w \n",
    "#      xpar[2] : inverse scale (rate) parameter (\"a\")\n",
    "#  ss   :vector of standard deviations\n",
    "#  tlo  :lower bound of thresholds\n",
    "#  thi  :upper bound of thresholds\n",
    "#\n",
    "\ta <- xpar[2]\n",
    "        \n",
    "        # Calculate the range of w given a, using negative monotonicity\n",
    "        # between w and t\n",
    "\twlo <- wfromt(thi, ss, a = a)\n",
    "\twhi <- wfromt(tlo, ss, a = a)\n",
    "\twlo <- max(wlo)\n",
    "\twhi <- min(whi)\n",
    "\tloglik <- sum(log(1 + (xpar[1] * (whi - wlo) + wlo) *\n",
    "                          beta.laplace(xx, ss, a)))\n",
    "\treturn(-loglik)\n",
    "}\n",
    "```"
   ]
  },
  {
   "cell_type": "markdown",
   "id": "916c995e-ce79-4f8f-af25-8594d5fab7af",
   "metadata": {},
   "source": [
    "결과"
   ]
  },
  {
   "cell_type": "markdown",
   "id": "ddd3cd74-7b11-4a73-b11b-334834ed1541",
   "metadata": {},
   "source": [
    "- Python"
   ]
  },
  {
   "cell_type": "code",
   "execution_count": 78,
   "id": "fa6f36cd-c343-4a35-8e77-bdb85fd10f44",
   "metadata": {},
   "outputs": [],
   "source": [
    "xpar = torch.tensor([0.5,0.6,0.3])\n",
    "xx = torch.tensor([1,2,3,4,5])\n",
    "ss = torch.tensor([1])\n",
    "tlo = torch.sqrt(2 * torch.log(torch.tensor(len([1, 2, 3, 4, 5])).float())) * 1\n",
    "thi = torch.tensor([0.0,0.0,0.0])"
   ]
  },
  {
   "cell_type": "code",
   "execution_count": 79,
   "id": "9afd8514-1c47-4e5d-b70f-a94490fd04a2",
   "metadata": {},
   "outputs": [
    {
     "data": {
      "text/plain": [
       "tensor(-16.797274811699509, dtype=torch.float64)"
      ]
     },
     "execution_count": 79,
     "metadata": {},
     "output_type": "execute_result"
    }
   ],
   "source": [
    "ebayesthresh_torch.negloglik_laplace(xpar, xx, ss, tlo, thi)"
   ]
  },
  {
   "cell_type": "markdown",
   "id": "e9c0c541-3681-4e06-9036-9e52a86340b3",
   "metadata": {},
   "source": [
    "- R"
   ]
  },
  {
   "cell_type": "markdown",
   "id": "d25e45f7-fd2c-4a98-8500-0f5dc9e5cf5d",
   "metadata": {},
   "source": [
    "```R\n",
    "> xpar <- c(0.5, 0.6, 0.3)\n",
    "> xx <- c(1, 2, 3, 4, 5)\n",
    "> ss <- c(1)\n",
    "> tlo <- sqrt(2 * log(length(c(1, 2, 3, 4, 5)))) * 1\n",
    "> thi <- c(0, 0, 0)\n",
    "> negloglik.laplace(xpar, xx, ss, tlo, thi)\n",
    "[1] -16.79727\n",
    "```"
   ]
  },
  {
   "cell_type": "markdown",
   "id": "5f65fd32-46df-4718-96cb-fddb075bd7b6",
   "metadata": {},
   "source": [
    "# postmean"
   ]
  },
  {
   "cell_type": "markdown",
   "id": "380ee5f2-7d88-43be-b52c-c7a1ff795017",
   "metadata": {},
   "source": [
    "> Given a single value or a vector of data and sampling standard deviations (sd equals 1 for Cauchy prior), find the corresponding posterior mean estimate(s) of the underlying signal value(s)."
   ]
  },
  {
   "cell_type": "markdown",
   "id": "da1df670-3392-4bdd-9f4f-03f06ca9e51e",
   "metadata": {},
   "source": [
    "- 적절한 사후 평균 찾기"
   ]
  },
  {
   "cell_type": "code",
   "execution_count": 6,
   "id": "4db78d4f-ee39-42a2-85aa-8b3fd298169d",
   "metadata": {},
   "outputs": [],
   "source": [
    "x = torch.tensor([-2.0,1.0,0.0,-4.0,8.0,50.0])\n",
    "s = torch.tensor([1.0])\n",
    "w = torch.tensor([0.5])\n",
    "# prior = \"cauchy\"\n",
    "prior = \"laplace\"\n",
    "a = 0.5"
   ]
  },
  {
   "cell_type": "code",
   "execution_count": 7,
   "id": "47751138-2876-4ba8-baaa-825aa496a264",
   "metadata": {},
   "outputs": [
    {
     "data": {
      "text/plain": [
       "'l'"
      ]
     },
     "execution_count": 7,
     "metadata": {},
     "output_type": "execute_result"
    }
   ],
   "source": [
    "pr = prior[0:1]\n",
    "pr"
   ]
  },
  {
   "cell_type": "code",
   "execution_count": 8,
   "id": "fd9e3780-6672-4054-bab8-d389dd1515ad",
   "metadata": {},
   "outputs": [],
   "source": [
    "if pr == \"l\":\n",
    "    mutilde = ebayesthresh_torch.postmean_laplace(x, s, w, a=a)\n",
    "elif pr == \"c\":\n",
    "    if torch.any(s != 1):\n",
    "        raise ValueError(\"Only standard deviation of 1 is allowed for Cauchy prior.\")\n",
    "    mutilde = ebayesthresh_torch.postmean_cauchy(x, w)\n",
    "else:\n",
    "    raise ValueError(\"Unknown prior type.\")"
   ]
  },
  {
   "cell_type": "code",
   "execution_count": 9,
   "id": "b0c298aa-dc02-4eb3-9e6e-dbf56036ffb2",
   "metadata": {},
   "outputs": [
    {
     "data": {
      "text/plain": [
       "tensor([-1.011589622421743,  0.270953303334685,  0.000000000000000,\n",
       "        -3.488009240410718,  7.499999999992725, 49.500000000000000],\n",
       "       dtype=torch.float64)"
      ]
     },
     "execution_count": 9,
     "metadata": {},
     "output_type": "execute_result"
    }
   ],
   "source": [
    "mutilde"
   ]
  },
  {
   "cell_type": "markdown",
   "id": "98b849b5-a97d-4be3-99f4-a0843f2923f5",
   "metadata": {},
   "source": [
    "R코드"
   ]
  },
  {
   "cell_type": "markdown",
   "id": "5eebb81d-b329-4ab9-bd8b-9cba8b766e9a",
   "metadata": {},
   "source": [
    "```R\n",
    "postmean <- function(x, s = 1, w = 0.5, prior = \"laplace\", a = 0.5) {\n",
    "#\n",
    "#  Find the posterior mean for the appropriate prior for \n",
    "#   given x, s (sd), w and a.\n",
    "#\n",
    "\tpr <- substring(prior, 1, 1)\n",
    "\tif(pr == \"l\")\n",
    "\t\tmutilde <- postmean.laplace(x, s, w, a = a)\n",
    "\tif(pr == \"c\"){\n",
    "            if(any(s != 1))\n",
    "                stop(paste(\"Only standard deviation of 1 is allowed\",\n",
    "                           \"for Cauchy prior.\"))\n",
    "\t\tmutilde <- postmean.cauchy(x, w)\n",
    "\t}\n",
    "\treturn(mutilde)\n",
    "}\n",
    "```"
   ]
  },
  {
   "cell_type": "markdown",
   "id": "499e6589-0d25-4fcf-988f-034bbb34df24",
   "metadata": {},
   "source": [
    "결과"
   ]
  },
  {
   "cell_type": "markdown",
   "id": "fcec7705-5277-4968-81f4-50e4c00fe6b0",
   "metadata": {},
   "source": [
    "- Python"
   ]
  },
  {
   "cell_type": "code",
   "execution_count": 10,
   "id": "4f6ec048-878a-4dde-bbd2-bcaefbd09b1c",
   "metadata": {},
   "outputs": [
    {
     "data": {
      "text/plain": [
       "tensor([-1.011589622421743,  0.270953303334685,  0.000000000000000,\n",
       "        -3.488009240410718,  7.499999999992725, 49.500000000000000],\n",
       "       dtype=torch.float64)"
      ]
     },
     "execution_count": 10,
     "metadata": {},
     "output_type": "execute_result"
    }
   ],
   "source": [
    "ebayesthresh_torch.postmean(torch.tensor([-2.0,1.0,0.0,-4.0,8.0,50.0]), s=1, w = 0.5, prior = \"laplace\", a = 0.5)"
   ]
  },
  {
   "cell_type": "markdown",
   "id": "fc798bfe-6a52-45c4-8865-e97f40a50e43",
   "metadata": {},
   "source": [
    "- R"
   ]
  },
  {
   "cell_type": "markdown",
   "id": "36beaeee-fd80-464f-bdbc-b9c2c02bd1ae",
   "metadata": {},
   "source": [
    "```R\n",
    "> postmean(c(-2,1,0,-4,8,50), s=1, w = 0.5, prior = \"laplace\", a = 0.5)\n",
    "[1] -1.0115896  0.2709533  0.0000000 -3.4880092  7.5000000 49.5000000\n",
    "```"
   ]
  },
  {
   "cell_type": "markdown",
   "id": "f6ff6853-01dd-4709-8d49-8a011d9291e9",
   "metadata": {},
   "source": [
    "# postmean_cauchy"
   ]
  },
  {
   "cell_type": "markdown",
   "id": "27b4bd20-a767-4f48-9bda-d1c3a54e7cc7",
   "metadata": {},
   "source": [
    "> Find the posterior mean for the quasi-Cauchy prior with mixing weight w given data x, which may be a scalar or a vector."
   ]
  },
  {
   "cell_type": "markdown",
   "id": "0a946ba7-2f2c-419f-b470-a486bed20765",
   "metadata": {},
   "source": [
    "- quasi-Cauch에 대한 사후 평균 구하기"
   ]
  },
  {
   "cell_type": "code",
   "execution_count": 84,
   "id": "b74b235e-0245-475b-bc8b-52e5c04e9d8f",
   "metadata": {},
   "outputs": [],
   "source": [
    "x =torch.tensor([-2.0,1.0,0.0,-4.0,8.0,50.0], dtype=float)\n",
    "w = 0.5"
   ]
  },
  {
   "cell_type": "code",
   "execution_count": 85,
   "id": "fd533bef-cbb8-4c97-93ee-8de4725109a5",
   "metadata": {},
   "outputs": [
    {
     "data": {
      "text/plain": [
       "tensor([[2]])"
      ]
     },
     "execution_count": 85,
     "metadata": {},
     "output_type": "execute_result"
    }
   ],
   "source": [
    "ind = torch.nonzero(x == 0)\n",
    "ind"
   ]
  },
  {
   "cell_type": "code",
   "execution_count": 86,
   "id": "939db8fc-7cbd-480a-b50a-7f8dab1e4d3a",
   "metadata": {},
   "outputs": [
    {
     "data": {
      "text/plain": [
       "tensor([-2.,  1., -4.,  8., 50.], dtype=torch.float64)"
      ]
     },
     "execution_count": 86,
     "metadata": {},
     "output_type": "execute_result"
    }
   ],
   "source": [
    "x = x[x != 0] \n",
    "x"
   ]
  },
  {
   "cell_type": "code",
   "execution_count": 87,
   "id": "aae66d69-d31b-4618-b979-f3d2d5f869a0",
   "metadata": {},
   "outputs": [
    {
     "data": {
      "text/plain": [
       "tensor([1.353352832366127e-01, 6.065306597126334e-01, 3.354626279025119e-04,\n",
       "        1.266416554909418e-14, 0.000000000000000e+00], dtype=torch.float64)"
      ]
     },
     "execution_count": 87,
     "metadata": {},
     "output_type": "execute_result"
    }
   ],
   "source": [
    "ex = torch.exp(-x**2/2)\n",
    "ex"
   ]
  },
  {
   "cell_type": "code",
   "execution_count": 88,
   "id": "33da9bfa-9ab0-4e93-80c8-84df66133df4",
   "metadata": {},
   "outputs": [
    {
     "data": {
      "text/plain": [
       "tensor([-0.567667641618306,  0.106530659712633, -1.750083865656976,\n",
       "         3.875000000000002, 24.980000000000000], dtype=torch.float64)"
      ]
     },
     "execution_count": 88,
     "metadata": {},
     "output_type": "execute_result"
    }
   ],
   "source": [
    "z = w * (x - (2 * (1 - ex))/x)\n",
    "z"
   ]
  },
  {
   "cell_type": "code",
   "execution_count": 89,
   "id": "81ccd9c6-b4b6-404d-ab81-1dbbfaf1f871",
   "metadata": {},
   "outputs": [
    {
     "data": {
      "text/plain": [
       "tensor([-0.807489729485063,  0.213061319425267, -3.482643281306042,\n",
       "         7.749999999993821, 49.960000000000001], dtype=torch.float64)"
      ]
     },
     "execution_count": 89,
     "metadata": {},
     "output_type": "execute_result"
    }
   ],
   "source": [
    "z = z / (w * (1 - ex) + (1 - w) * ex * x**2)\n",
    "z"
   ]
  },
  {
   "cell_type": "code",
   "execution_count": 90,
   "id": "2491ebf3-5174-4162-ae66-433e8e138ba1",
   "metadata": {},
   "outputs": [
    {
     "data": {
      "text/plain": [
       "tensor([-0.807489729485063,  0.213061319425267, -3.482643281306042,\n",
       "         7.749999999993821, 49.960000000000001], dtype=torch.float64)"
      ]
     },
     "execution_count": 90,
     "metadata": {},
     "output_type": "execute_result"
    }
   ],
   "source": [
    "muhat = z\n",
    "muhat"
   ]
  },
  {
   "cell_type": "code",
   "execution_count": 91,
   "id": "0e3b52be-59ff-4388-b680-d04ee8f1bef2",
   "metadata": {},
   "outputs": [],
   "source": [
    "muhat[ind] = torch.tensor([0.0], dtype=float)"
   ]
  },
  {
   "cell_type": "code",
   "execution_count": 92,
   "id": "b60469d4-ef1e-42c5-880b-bbe8429e6b0b",
   "metadata": {},
   "outputs": [
    {
     "data": {
      "text/plain": [
       "tensor([-0.807489729485063,  0.213061319425267,  0.000000000000000,\n",
       "         7.749999999993821, 49.960000000000001], dtype=torch.float64)"
      ]
     },
     "execution_count": 92,
     "metadata": {},
     "output_type": "execute_result"
    }
   ],
   "source": [
    "muhat"
   ]
  },
  {
   "cell_type": "markdown",
   "id": "6e7bb9b7-9632-42c0-97ae-dde8a2a7dd11",
   "metadata": {},
   "source": [
    "R코드"
   ]
  },
  {
   "cell_type": "markdown",
   "id": "e7e00bde-abe3-4dfc-a5bd-8800e4dfcb25",
   "metadata": {},
   "source": [
    "```R\n",
    "postmean.cauchy <- function(x, w) {\n",
    "#\n",
    "#  Find the posterior mean for the quasi-Cauchy prior with mixing\n",
    "#   weight w given data x, which may be a scalar or a vector.\n",
    "#\n",
    "\tmuhat <- x\n",
    "\tind <- (x == 0)\n",
    "\tx <- x[!ind]\n",
    "\tex <- exp( - x^2/2)\n",
    "\tz <- w * (x - (2 * (1 - ex))/x)\n",
    "\tz <- z/(w * (1 - ex) + (1 - w) * ex * x^2)\n",
    "\tmuhat[!ind] <- z\n",
    "\treturn(muhat)\n",
    "}\n",
    "```"
   ]
  },
  {
   "cell_type": "markdown",
   "id": "1a2d8025-a2e6-449d-806e-5bb451eb29cc",
   "metadata": {},
   "source": [
    "결과"
   ]
  },
  {
   "cell_type": "markdown",
   "id": "f6e6f637-0820-4866-bb15-4f68237d30bd",
   "metadata": {},
   "source": [
    "- Python"
   ]
  },
  {
   "cell_type": "code",
   "execution_count": 93,
   "id": "e30de365-f9cf-45bc-87a6-b7b9d89ab545",
   "metadata": {},
   "outputs": [
    {
     "data": {
      "text/plain": [
       "tensor([-0.807489693164825,  0.213061332702637,  0.000000000000000,\n",
       "         7.750000000000000, 49.959999084472656])"
      ]
     },
     "execution_count": 93,
     "metadata": {},
     "output_type": "execute_result"
    }
   ],
   "source": [
    "ebayesthresh_torch.postmean_cauchy(torch.tensor([-2,1,0,-4,8,50]),0.5)"
   ]
  },
  {
   "cell_type": "markdown",
   "id": "6e39db7c-86ee-47ee-86ec-230f90f65c67",
   "metadata": {},
   "source": [
    "- R"
   ]
  },
  {
   "cell_type": "markdown",
   "id": "295674f2-f723-4ffd-8375-1101b58f1b56",
   "metadata": {},
   "source": [
    "```R\n",
    "> postmean.cauchy(c(-2,1,0,-4,8,50),0.5)\n",
    "[1] -0.8074897  0.2130613  0.0000000 -3.4826433  7.7500000 49.9600000\n",
    "```"
   ]
  },
  {
   "cell_type": "markdown",
   "id": "b9c4ed9d-88d7-48ca-aee6-dec99be8435e",
   "metadata": {},
   "source": [
    "# postmean.laplace"
   ]
  },
  {
   "cell_type": "markdown",
   "id": "2efc53a0-102d-40a6-a0d4-0471ab7fcda5",
   "metadata": {},
   "source": [
    "> Find the posterior mean for the double exponential prior for given $x, s (sd), w$, and $a$."
   ]
  },
  {
   "cell_type": "markdown",
   "id": "aafe9a90-2473-4374-b857-e3011184e49b",
   "metadata": {},
   "source": [
    "- 이전 지수 분포에 대한 사후 평균"
   ]
  },
  {
   "cell_type": "code",
   "execution_count": 105,
   "id": "a8126ddd-5f06-4aea-814c-766bb7dd4b21",
   "metadata": {},
   "outputs": [],
   "source": [
    "x = torch.tensor([-2,1,0,-4,8,50])\n",
    "s = 1\n",
    "w = 0.5\n",
    "a = 0.5"
   ]
  },
  {
   "cell_type": "code",
   "execution_count": 106,
   "id": "36407eb7-23ff-4d23-bf8e-6194e6da4cd5",
   "metadata": {},
   "outputs": [
    {
     "data": {
      "text/plain": [
       "0.5"
      ]
     },
     "execution_count": 106,
     "metadata": {},
     "output_type": "execute_result"
    }
   ],
   "source": [
    "a = min(a, 20)\n",
    "a"
   ]
  },
  {
   "cell_type": "code",
   "execution_count": 107,
   "id": "896face3-440e-48c0-ba29-5fceebcdfe8d",
   "metadata": {},
   "outputs": [
    {
     "data": {
      "text/plain": [
       "tensor([0.653961521302972, 0.382700153299694, 0.304677821507423,\n",
       "        0.996521248676984, 0.999999999999026, 1.000000000000000],\n",
       "       dtype=torch.float64)"
      ]
     },
     "execution_count": 107,
     "metadata": {},
     "output_type": "execute_result"
    }
   ],
   "source": [
    "w_post = ebayesthresh_torch.wpost_laplace(w, x, s, a)\n",
    "w_post"
   ]
  },
  {
   "cell_type": "code",
   "execution_count": 108,
   "id": "ad1a9277-496e-4836-b57e-bbb31c3ea02a",
   "metadata": {},
   "outputs": [
    {
     "data": {
      "text/plain": [
       "tensor([-1,  1,  0, -1,  1,  1])"
      ]
     },
     "execution_count": 108,
     "metadata": {},
     "output_type": "execute_result"
    }
   ],
   "source": [
    "sx = torch.sign(x)\n",
    "sx"
   ]
  },
  {
   "cell_type": "code",
   "execution_count": 109,
   "id": "ea0b5e59-14c4-4945-8fd4-1507581e3017",
   "metadata": {},
   "outputs": [
    {
     "data": {
      "text/plain": [
       "tensor([ 2,  1,  0,  4,  8, 50])"
      ]
     },
     "execution_count": 109,
     "metadata": {},
     "output_type": "execute_result"
    }
   ],
   "source": [
    "x = torch.abs(x)\n",
    "x"
   ]
  },
  {
   "cell_type": "code",
   "execution_count": 110,
   "id": "2d44dfa2-a725-4379-9502-8ee8d33191de",
   "metadata": {},
   "outputs": [
    {
     "data": {
      "text/plain": [
       "tensor([ 2.500000000000000,  1.500000000000000,  0.500000000000000,\n",
       "         4.500000000000000,  8.500000000000000, 50.500000000000000])"
      ]
     },
     "execution_count": 110,
     "metadata": {},
     "output_type": "execute_result"
    }
   ],
   "source": [
    "xpa = x / s + s * a\n",
    "xpa"
   ]
  },
  {
   "cell_type": "code",
   "execution_count": 111,
   "id": "09cb6c5b-0bc8-429c-8745-06361ddef666",
   "metadata": {},
   "outputs": [
    {
     "data": {
      "text/plain": [
       "tensor([ 1.500000000000000,  0.500000000000000, -0.500000000000000,\n",
       "         3.500000000000000,  7.500000000000000, 49.500000000000000])"
      ]
     },
     "execution_count": 111,
     "metadata": {},
     "output_type": "execute_result"
    }
   ],
   "source": [
    "xma = x / s - s * a\n",
    "xma"
   ]
  },
  {
   "cell_type": "code",
   "execution_count": 112,
   "id": "ed72eaa6-281a-4a4f-a527-4517aea9b286",
   "metadata": {},
   "outputs": [
    {
     "data": {
      "text/plain": [
       "tensor([ 2.500000000000000,  1.500000000000000,  0.500000000000000,\n",
       "         4.500000000000000,  8.500000000000000, 35.000000000000000])"
      ]
     },
     "execution_count": 112,
     "metadata": {},
     "output_type": "execute_result"
    }
   ],
   "source": [
    "xpa = torch.minimum(xpa, torch.tensor(35.0))\n",
    "xpa"
   ]
  },
  {
   "cell_type": "code",
   "execution_count": 113,
   "id": "a9d03d5b-468e-4ec9-8bd0-88b82d891e1c",
   "metadata": {},
   "outputs": [
    {
     "data": {
      "text/plain": [
       "tensor([ 1.500000000000000,  0.500000000000000, -0.500000000000000,\n",
       "         3.500000000000000,  7.500000000000000, 49.500000000000000])"
      ]
     },
     "execution_count": 113,
     "metadata": {},
     "output_type": "execute_result"
    }
   ],
   "source": [
    "xma = torch.maximum(xma, torch.tensor(-35.0))\n",
    "xma"
   ]
  },
  {
   "cell_type": "code",
   "execution_count": 119,
   "id": "60251628-d8e8-4437-b7b5-cf20b05268c2",
   "metadata": {},
   "outputs": [
    {
     "data": {
      "text/plain": [
       "tensor([0.933192798731142, 0.691462461274013, 0.308537538725987,\n",
       "        0.999767370920964, 0.999999999999968, 1.000000000000000],\n",
       "       dtype=torch.float64)"
      ]
     },
     "execution_count": 119,
     "metadata": {},
     "output_type": "execute_result"
    }
   ],
   "source": [
    "cp1 = torch.tensor(norm.cdf(xma, loc=0, scale=1))\n",
    "cp1"
   ]
  },
  {
   "cell_type": "code",
   "execution_count": 121,
   "id": "c47208de-54e8-4452-8b6a-b09fc8dfa13e",
   "metadata": {},
   "outputs": [
    {
     "data": {
      "text/plain": [
       "tensor([ 6.209665325776132e-03,  6.680720126885807e-02,  3.085375387259869e-01,\n",
       "         3.397673124730053e-06,  9.479534822203250e-18, 1.124910706472406e-268],\n",
       "       dtype=torch.float64)"
      ]
     },
     "execution_count": 121,
     "metadata": {},
     "output_type": "execute_result"
    }
   ],
   "source": [
    "cp2 = torch.tensor(norm.cdf(-xpa, loc=0, scale=1))\n",
    "cp2"
   ]
  },
  {
   "cell_type": "code",
   "execution_count": 122,
   "id": "d40fe4d9-ec1f-42b5-97b3-cf4b46015df9",
   "metadata": {},
   "outputs": [
    {
     "data": {
      "text/plain": [
       "tensor([7.389056205749512e+00, 2.718281745910645e+00, 1.000000000000000e+00,\n",
       "        5.459814834594727e+01, 2.980958007812500e+03, 5.184705457665547e+21])"
      ]
     },
     "execution_count": 122,
     "metadata": {},
     "output_type": "execute_result"
    }
   ],
   "source": [
    "ef = torch.exp(torch.minimum(2 * a * x, torch.tensor(100.0, dtype=torch.float32)))\n",
    "ef"
   ]
  },
  {
   "cell_type": "code",
   "execution_count": 123,
   "id": "c2fe42ae-862c-4cfb-849c-212a7d3dc534",
   "metadata": {},
   "outputs": [
    {
     "data": {
      "text/plain": [
       "tensor([ 1.546864134156123,  0.708004167227234,  0.000000000000000,\n",
       "         3.500185515403230,  7.500000000000028, 49.500000000000000],\n",
       "       dtype=torch.float64)"
      ]
     },
     "execution_count": 123,
     "metadata": {},
     "output_type": "execute_result"
    }
   ],
   "source": [
    "postmean_cond = x - a * s**2 * (2 * cp1 / (cp1 + ef * cp2) - 1)\n",
    "postmean_cond"
   ]
  },
  {
   "cell_type": "code",
   "execution_count": 124,
   "id": "a6dd63a1-132c-44fa-84d5-1443dc2af6b2",
   "metadata": {},
   "outputs": [
    {
     "data": {
      "text/plain": [
       "tensor([-1.011589622421743,  0.270953303334685,  0.000000000000000,\n",
       "        -3.488009240410718,  7.499999999992725, 49.500000000000000],\n",
       "       dtype=torch.float64)"
      ]
     },
     "execution_count": 124,
     "metadata": {},
     "output_type": "execute_result"
    }
   ],
   "source": [
    "sx * w_post * postmean_cond"
   ]
  },
  {
   "cell_type": "markdown",
   "id": "ae6f189c-9d4c-47be-99f1-a130b67582af",
   "metadata": {},
   "source": [
    "R코드"
   ]
  },
  {
   "cell_type": "markdown",
   "id": "def1b50e-0b32-45c9-bf3f-03fb453dd2d8",
   "metadata": {},
   "source": [
    "```R\n",
    "postmean.laplace <- function(x, s = 1, w = 0.5, a = 0.5) {\n",
    "#\n",
    "#  Find the posterior mean for the double exponential prior for \n",
    "#   given x, s (sd), w and a.\n",
    "#\n",
    "    \n",
    "  # Only allow a < 20 for input value.\n",
    "  a <- min(a, 20)\n",
    "  \n",
    "  # First find the probability of being non-zero\n",
    "\twpost <- wpost.laplace(w, x, s, a)\n",
    "  \n",
    "  # Now find the posterior mean conditional on being non-zero\n",
    "\tsx <- sign(x)\n",
    "\tx <- abs(x)\n",
    "\txpa <- x/s + s*a\n",
    "\txma <- x/s - s*a\n",
    "\txpa[xpa > 35] <- 35\n",
    "\txma[xma < -35] <- -35\n",
    "\t\n",
    "\tcp1 <- pnorm(xma)\n",
    "\tcp2 <- pnorm( - xpa)\n",
    "\tef <- exp(pmin(2 * a * x, 100))\n",
    "\tpostmeancond <- x - a * s^2 * ( 2 * cp1/(cp1 + ef * cp2) - 1)\n",
    "  \n",
    "  # Calculate posterior mean and return\n",
    "\treturn(sx * wpost * postmeancond)\n",
    "}\n",
    "```"
   ]
  },
  {
   "cell_type": "markdown",
   "id": "cf85a110-b55d-46d9-91f8-7b3749846470",
   "metadata": {},
   "source": [
    "결과"
   ]
  },
  {
   "cell_type": "markdown",
   "id": "7e73bb3b-afb0-4708-9aa1-0e20562594bf",
   "metadata": {},
   "source": [
    "- Python"
   ]
  },
  {
   "cell_type": "code",
   "execution_count": 5,
   "id": "82b4fc5b-6d08-44d8-bc18-ba08d4f510c4",
   "metadata": {},
   "outputs": [
    {
     "data": {
      "text/plain": [
       "tensor([-1.011589622421743,  0.270953303334685,  0.000000000000000,\n",
       "        -3.488009240410718,  7.499999999992725, 49.500000000000000],\n",
       "       dtype=torch.float64)"
      ]
     },
     "execution_count": 5,
     "metadata": {},
     "output_type": "execute_result"
    }
   ],
   "source": [
    "ebayesthresh_torch.postmean_laplace(torch.tensor([-2.0,1.0,0.0,-4.0,8.0,50.0]))"
   ]
  },
  {
   "cell_type": "markdown",
   "id": "cdc9536a-640d-4511-ac7d-b9202bcc6660",
   "metadata": {},
   "source": [
    "- R"
   ]
  },
  {
   "cell_type": "markdown",
   "id": "648c182f-0f1e-426e-a92c-55f85cd42c81",
   "metadata": {},
   "source": [
    "```R\n",
    "> postmean.laplace(c(-2,1,0,-4,8,50))\n",
    "[1] -1.0115896  0.2709533  0.0000000 -3.4880092  7.5000000 49.5000000\n",
    "```"
   ]
  },
  {
   "cell_type": "markdown",
   "id": "d5df3776-103a-41e6-bed8-990d4928d9d2",
   "metadata": {},
   "source": [
    "# postmed"
   ]
  },
  {
   "cell_type": "markdown",
   "id": "d7934e79-e7bf-4877-a6d5-38082d957fb7",
   "metadata": {},
   "source": [
    "Description"
   ]
  },
  {
   "cell_type": "markdown",
   "id": "fbf799cf-8ca2-4be9-9602-4ca01e7314b4",
   "metadata": {},
   "source": [
    "> Given a single value or a vector of data and sampling standard deviations (sd is 1 for Cauchy prior), find the corresponding posterior median estimate(s) of the underlying signal value(s)."
   ]
  },
  {
   "cell_type": "markdown",
   "id": "4e045426-7d3c-4b7a-a7ce-5890e4c5939f",
   "metadata": {},
   "source": [
    "사후 확률 중앙값 추정치 구하기"
   ]
  },
  {
   "cell_type": "code",
   "execution_count": 4,
   "id": "1fbbb2e1-969d-40a5-bf88-6f6998ccd12f",
   "metadata": {},
   "outputs": [],
   "source": [
    "x = torch.tensor([1.5, 2.5, 3.5])\n",
    "s = 1\n",
    "w = 0.5\n",
    "prior = \"laplace\"\n",
    "a = 0.5"
   ]
  },
  {
   "cell_type": "code",
   "execution_count": 5,
   "id": "7115ed8e-67d6-4935-88ef-288149d0701c",
   "metadata": {},
   "outputs": [
    {
     "data": {
      "text/plain": [
       "'l'"
      ]
     },
     "execution_count": 5,
     "metadata": {},
     "output_type": "execute_result"
    }
   ],
   "source": [
    "pr = prior[0:1]\n",
    "pr"
   ]
  },
  {
   "cell_type": "code",
   "execution_count": 6,
   "id": "20cfcfd2-c4d4-4c98-9c4b-d1ec25a94f7a",
   "metadata": {},
   "outputs": [
    {
     "name": "stderr",
     "output_type": "stream",
     "text": [
      "/home/csy/Dropbox/sy_hub/posts/1_Note/ebayesthresh_torch/utils.py:47: UserWarning: To copy construct from a tensor, it is recommended to use sourceTensor.clone().detach() or sourceTensor.clone().detach().requires_grad_(True), rather than torch.tensor(sourceTensor).\n",
      "  rat1 = torch.tensor(1 / xpa, dtype=torch.float64)\n",
      "/home/csy/Dropbox/sy_hub/posts/1_Note/ebayesthresh_torch/utils.py:51: UserWarning: To copy construct from a tensor, it is recommended to use sourceTensor.clone().detach() or sourceTensor.clone().detach().requires_grad_(True), rather than torch.tensor(sourceTensor).\n",
      "  rat2 = torch.tensor(1 / torch.abs(xma), dtype=torch.float64)\n"
     ]
    }
   ],
   "source": [
    "if pr == \"l\":\n",
    "    muhat = ebayesthresh_torch.postmed_laplace(x, s, w, a)\n",
    "elif pr == \"c\":\n",
    "    if np.any(s != 1):\n",
    "        raise ValueError(\"Only standard deviation of 1 is allowed for Cauchy prior.\")\n",
    "    muhat = ebayesthresh_torch.postmed_cauchy(x, w)\n",
    "else:\n",
    "    raise ValueError(f\"Unknown prior: {prior}\")"
   ]
  },
  {
   "cell_type": "code",
   "execution_count": 7,
   "id": "419c63f7-b1a4-4091-a991-5522da2b08d6",
   "metadata": {},
   "outputs": [
    {
     "data": {
      "text/plain": [
       "tensor([0.000000000000000, 1.734132351356471, 2.978157631290933],\n",
       "       dtype=torch.float64)"
      ]
     },
     "execution_count": 7,
     "metadata": {},
     "output_type": "execute_result"
    }
   ],
   "source": [
    "muhat"
   ]
  },
  {
   "cell_type": "markdown",
   "id": "897d71af-6ee8-4d49-8b08-f2e953db564b",
   "metadata": {},
   "source": [
    "R코드"
   ]
  },
  {
   "cell_type": "markdown",
   "id": "d23ebf8c-5c7f-45b4-8b32-432e28a0a91d",
   "metadata": {},
   "source": [
    "```R\n",
    "postmed <- function (x, s = 1, w = 0.5, prior = \"laplace\", a = 0.5) {\n",
    "#\n",
    "#  Find the posterior median for the appropriate prior for \n",
    "#   given x, s (sd), w and a. \n",
    "#\n",
    "\tpr <- substring(prior, 1, 1)\n",
    "\tif(pr == \"l\")\n",
    "\t\tmuhat <- postmed.laplace(x, s, w, a)\n",
    "\tif(pr == \"c\") {\n",
    "            if(any(s != 1))\n",
    "                stop(paste(\"Only standard deviation of 1 is allowed\",\n",
    "                           \"for Cauchy prior.\"))\n",
    "\t\tmuhat <- postmed.cauchy(x, w)\n",
    "\t}\n",
    "\treturn(muhat)\n",
    "}\n",
    "```"
   ]
  },
  {
   "cell_type": "markdown",
   "id": "5f365f90-8f1f-4444-8cca-8a8b7558504c",
   "metadata": {},
   "source": [
    "결과"
   ]
  },
  {
   "cell_type": "markdown",
   "id": "dfc66ca6-1d2b-40b4-a821-3fa207b7a4aa",
   "metadata": {},
   "source": [
    "- Python"
   ]
  },
  {
   "cell_type": "code",
   "execution_count": 11,
   "id": "fc3e6794-fdce-4ecd-a076-d656508773b8",
   "metadata": {},
   "outputs": [
    {
     "data": {
      "text/plain": [
       "tensor([0.000000000000000, 1.734132351356471, 2.978157631290933],\n",
       "       dtype=torch.float64)"
      ]
     },
     "execution_count": 11,
     "metadata": {},
     "output_type": "execute_result"
    }
   ],
   "source": [
    "ebayesthresh_torch.postmed(x = torch.tensor([1.5, 2.5, 3.5]))"
   ]
  },
  {
   "cell_type": "markdown",
   "id": "eba897cd-2ed7-4f6d-9c0e-d31290757cb6",
   "metadata": {},
   "source": [
    "- R"
   ]
  },
  {
   "cell_type": "markdown",
   "id": "ae5e1b34-2761-4c42-ae87-17c9846179a6",
   "metadata": {},
   "source": [
    "```R\n",
    " postmed(x=c(1.5, 2.5, 3.5))\n",
    "[1] 0.000000 1.734132 2.978158\n",
    "```"
   ]
  },
  {
   "cell_type": "markdown",
   "id": "565b01ae-f73c-4877-9acf-37bb0fc6c059",
   "metadata": {},
   "source": [
    "# postmed_cauchy"
   ]
  },
  {
   "cell_type": "code",
   "execution_count": 18,
   "id": "6b3d3220-3956-4e81-885f-9d9787608323",
   "metadata": {},
   "outputs": [],
   "source": [
    "x = torch.tensor([10, 15, 20, 25])\n",
    "w = 0.5"
   ]
  },
  {
   "cell_type": "code",
   "execution_count": 19,
   "id": "1ba01671-d551-4f44-86a5-588fa0df51c8",
   "metadata": {},
   "outputs": [
    {
     "data": {
      "text/plain": [
       "4"
      ]
     },
     "execution_count": 19,
     "metadata": {},
     "output_type": "execute_result"
    }
   ],
   "source": [
    "nx = len(x)\n",
    "nx"
   ]
  },
  {
   "cell_type": "code",
   "execution_count": 20,
   "id": "1b6fe68c-c2d7-4737-9f4e-7e1a703c56b7",
   "metadata": {},
   "outputs": [
    {
     "data": {
      "text/plain": [
       "tensor([nan, nan, nan, nan])"
      ]
     },
     "execution_count": 20,
     "metadata": {},
     "output_type": "execute_result"
    }
   ],
   "source": [
    "zest = torch.full((nx,), float('nan'))\n",
    "zest"
   ]
  },
  {
   "cell_type": "code",
   "execution_count": 21,
   "id": "a9eb118a-86b1-4422-b6ff-15551cb502c8",
   "metadata": {},
   "outputs": [
    {
     "data": {
      "text/plain": [
       "tensor([0.500000000000000, 0.500000000000000, 0.500000000000000,\n",
       "        0.500000000000000])"
      ]
     },
     "execution_count": 21,
     "metadata": {},
     "output_type": "execute_result"
    }
   ],
   "source": [
    "w = torch.full((nx,), w)\n",
    "w"
   ]
  },
  {
   "cell_type": "code",
   "execution_count": 22,
   "id": "5865aedc-29d2-46f0-aa50-f335c059cca4",
   "metadata": {},
   "outputs": [
    {
     "data": {
      "text/plain": [
       "tensor([10, 15, 20, 25])"
      ]
     },
     "execution_count": 22,
     "metadata": {},
     "output_type": "execute_result"
    }
   ],
   "source": [
    "ax = torch.abs(x)\n",
    "ax"
   ]
  },
  {
   "cell_type": "code",
   "execution_count": 23,
   "id": "eefa743b-8d90-49e1-ad39-277fabd5ea82",
   "metadata": {},
   "outputs": [
    {
     "data": {
      "text/plain": [
       "tensor([ True,  True, False, False])"
      ]
     },
     "execution_count": 23,
     "metadata": {},
     "output_type": "execute_result"
    }
   ],
   "source": [
    "j = ax < 20\n",
    "j"
   ]
  },
  {
   "cell_type": "code",
   "execution_count": 24,
   "id": "8ab6b946-a281-46b8-a4bc-0a9af1aae8ec",
   "metadata": {},
   "outputs": [
    {
     "data": {
      "text/plain": [
       "tensor([               nan,                nan, 19.899999618530273,\n",
       "        24.920000076293945])"
      ]
     },
     "execution_count": 24,
     "metadata": {},
     "output_type": "execute_result"
    }
   ],
   "source": [
    "zest[~j] = ax[~j] - 2 / ax[~j]\n",
    "zest"
   ]
  },
  {
   "cell_type": "code",
   "execution_count": 25,
   "id": "5f5205a0-2b22-432d-9091-8312a93e5970",
   "metadata": {},
   "outputs": [
    {
     "data": {
      "text/plain": [
       "tensor([0., 0.])"
      ]
     },
     "execution_count": 25,
     "metadata": {},
     "output_type": "execute_result"
    }
   ],
   "source": [
    "torch.zeros(torch.sum(j))"
   ]
  },
  {
   "cell_type": "code",
   "execution_count": 26,
   "id": "ba175e06-8b65-463d-8452-ecb452edad85",
   "metadata": {},
   "outputs": [
    {
     "data": {
      "text/plain": [
       "2"
      ]
     },
     "execution_count": 26,
     "metadata": {},
     "output_type": "execute_result"
    }
   ],
   "source": [
    "torch.zeros(torch.sum(j)).shape[0]"
   ]
  },
  {
   "cell_type": "code",
   "execution_count": 27,
   "id": "4706058f-925f-4b75-acfb-55e5dc7d96fc",
   "metadata": {},
   "outputs": [],
   "source": [
    "if torch.sum(j) > 0:\n",
    "    zest[j] = ebayesthresh_torch.vecbinsolv(zf=torch.zeros(torch.sum(j)),\n",
    "                                            fun=ebayesthresh_torch.cauchy_medzero,\n",
    "                                             tlo=0, thi=torch.max(ax[j]), z=ax[j], w=w[j])"
   ]
  },
  {
   "cell_type": "code",
   "execution_count": 28,
   "id": "636973b1-2556-4d08-aa24-05df45ea3152",
   "metadata": {},
   "outputs": [
    {
     "data": {
      "text/plain": [
       "tensor([ 9.800643920898438, 14.866861343383789, 19.899999618530273,\n",
       "        24.920000076293945])"
      ]
     },
     "execution_count": 28,
     "metadata": {},
     "output_type": "execute_result"
    }
   ],
   "source": [
    "zest[zest < 1e-7] = 0\n",
    "zest"
   ]
  },
  {
   "cell_type": "code",
   "execution_count": 29,
   "id": "55ebc905-121b-4708-a6cd-dff8706fbef6",
   "metadata": {},
   "outputs": [
    {
     "data": {
      "text/plain": [
       "tensor([ 9.800643920898438, 14.866861343383789, 19.899999618530273,\n",
       "        24.920000076293945])"
      ]
     },
     "execution_count": 29,
     "metadata": {},
     "output_type": "execute_result"
    }
   ],
   "source": [
    "zest = torch.sign(x) * zest\n",
    "zest"
   ]
  },
  {
   "cell_type": "markdown",
   "id": "2a9882dd-cf08-40da-b8bc-db79d7bbd7e2",
   "metadata": {},
   "source": [
    "R코드"
   ]
  },
  {
   "cell_type": "markdown",
   "id": "457fa59d-6439-41bf-8320-397f913b90cf",
   "metadata": {},
   "source": [
    "```R\n",
    "postmed.cauchy <- function(x, w) {\n",
    "#\n",
    "# find the posterior median of the Cauchy prior with mixing weight w,\n",
    "# pointwise for each of the data points x\n",
    "#\n",
    "\tnx <- length(x)\n",
    "\tzest <- rep(NA, length(x))\n",
    "\tw <- rep(w, length.out = nx)\n",
    "\tax <- abs(x)\n",
    "\tj <- (ax < 20)\n",
    "\tzest[!j] <- ax[!j] - 2/ax[!j]\n",
    "\tif(sum(j) > 0) {\n",
    "  \t  zest[j] <- vecbinsolv(zf = rep(0, sum(j)), fun = cauchy.medzero,\n",
    "                                tlo = 0, thi = max(ax[j]), z = ax[j],\n",
    "                                w = w[j])\n",
    "\t}\n",
    "\tzest[zest < 1e-007] <- 0\n",
    "\tzest <- sign(x) * zest\n",
    "\treturn(zest)\n",
    "```"
   ]
  },
  {
   "cell_type": "markdown",
   "id": "33a6c8bf-a478-476a-90dc-7c07e7416ee3",
   "metadata": {},
   "source": [
    "결과"
   ]
  },
  {
   "cell_type": "markdown",
   "id": "6ee8c78a-efa9-4ed7-8039-b5c69abd85ae",
   "metadata": {},
   "source": [
    "- Python"
   ]
  },
  {
   "cell_type": "code",
   "execution_count": 30,
   "id": "09ce651c-8952-423e-80cc-18723c533745",
   "metadata": {},
   "outputs": [
    {
     "data": {
      "text/plain": [
       "tensor([ 9.800643920898438, 14.866861343383789, 19.899999618530273,\n",
       "        24.920000076293945])"
      ]
     },
     "execution_count": 30,
     "metadata": {},
     "output_type": "execute_result"
    }
   ],
   "source": [
    "ebayesthresh_torch.postmed_cauchy(x=torch.tensor([10.0, 15.0, 20.0, 25.0]), w=0.5)"
   ]
  },
  {
   "cell_type": "markdown",
   "id": "177e4fe4-1d2c-4e61-9bc5-495ddbcd0c71",
   "metadata": {},
   "source": [
    "- R"
   ]
  },
  {
   "cell_type": "markdown",
   "id": "f31214a3-9a81-424c-83ea-f0f99fa7d176",
   "metadata": {},
   "source": [
    "```R\n",
    "> postmed.cauchy(x=c(10, 15, 20, 25),w=0.5)\n",
    "[1]  9.800643 14.866861 19.900000 24.920000\n",
    "```"
   ]
  },
  {
   "cell_type": "markdown",
   "id": "bb562e8a-0e9f-4e9f-b528-c95c16f37799",
   "metadata": {},
   "source": [
    "# postmed_laplace"
   ]
  },
  {
   "cell_type": "code",
   "execution_count": 31,
   "id": "f485fb8a-31fb-4bb4-882c-2becec986d39",
   "metadata": {},
   "outputs": [],
   "source": [
    "x = torch.tensor([1.5, 2.5, 3.5])\n",
    "s = 1\n",
    "w = 0.5\n",
    "a = 0.5"
   ]
  },
  {
   "cell_type": "code",
   "execution_count": 32,
   "id": "752bbe0f-99e2-484c-a983-09da2213bcc9",
   "metadata": {},
   "outputs": [
    {
     "data": {
      "text/plain": [
       "0.5"
      ]
     },
     "execution_count": 32,
     "metadata": {},
     "output_type": "execute_result"
    }
   ],
   "source": [
    "a = min(a, 20)\n",
    "a"
   ]
  },
  {
   "cell_type": "code",
   "execution_count": 35,
   "id": "9079596f-82df-4cd6-b9a7-c314fdfd3d08",
   "metadata": {},
   "outputs": [
    {
     "data": {
      "text/plain": [
       "tensor([1., 1., 1.])"
      ]
     },
     "execution_count": 35,
     "metadata": {},
     "output_type": "execute_result"
    }
   ],
   "source": [
    "sx = torch.sign(x)\n",
    "sx"
   ]
  },
  {
   "cell_type": "code",
   "execution_count": 37,
   "id": "d8b8c65d-39d5-48d4-9486-401188dce551",
   "metadata": {},
   "outputs": [
    {
     "data": {
      "text/plain": [
       "tensor([1.500000000000000, 2.500000000000000, 3.500000000000000])"
      ]
     },
     "execution_count": 37,
     "metadata": {},
     "output_type": "execute_result"
    }
   ],
   "source": [
    "x = torch.abs(x)\n",
    "x"
   ]
  },
  {
   "cell_type": "code",
   "execution_count": 38,
   "id": "2b460c56-9d4b-411f-8167-f13075b6153e",
   "metadata": {},
   "outputs": [
    {
     "data": {
      "text/plain": [
       "tensor([1., 2., 3.])"
      ]
     },
     "execution_count": 38,
     "metadata": {},
     "output_type": "execute_result"
    }
   ],
   "source": [
    "xma = x / s - s * a\n",
    "xma"
   ]
  },
  {
   "cell_type": "code",
   "execution_count": 42,
   "id": "d76cdd6f-6d87-4ea6-9394-2ab1c8626e2b",
   "metadata": {},
   "outputs": [
    {
     "name": "stderr",
     "output_type": "stream",
     "text": [
      "/home/csy/Dropbox/sy_hub/posts/1_Note/ebayesthresh_torch/utils.py:47: UserWarning: To copy construct from a tensor, it is recommended to use sourceTensor.clone().detach() or sourceTensor.clone().detach().requires_grad_(True), rather than torch.tensor(sourceTensor).\n",
      "  rat1 = torch.tensor(1 / xpa, dtype=torch.float64)\n",
      "/home/csy/Dropbox/sy_hub/posts/1_Note/ebayesthresh_torch/utils.py:51: UserWarning: To copy construct from a tensor, it is recommended to use sourceTensor.clone().detach() or sourceTensor.clone().detach().requires_grad_(True), rather than torch.tensor(sourceTensor).\n",
      "  rat2 = torch.tensor(1 / torch.abs(xma), dtype=torch.float64)\n"
     ]
    },
    {
     "data": {
      "text/plain": [
       "tensor([0.955593330923010, 0.604829429361236, 0.508713151551759],\n",
       "       dtype=torch.float64)"
      ]
     },
     "execution_count": 42,
     "metadata": {},
     "output_type": "execute_result"
    }
   ],
   "source": [
    "zz = 1 / a * (1 / s * torch.tensor(norm.pdf(xma, loc=0, scale=1))) * (1 / w + ebayesthresh_torch.beta_laplace(x, s, a))\n",
    "zz"
   ]
  },
  {
   "cell_type": "code",
   "execution_count": 43,
   "id": "26b4f2f6-0311-4a7b-b03e-56c650996404",
   "metadata": {},
   "outputs": [
    {
     "data": {
      "text/plain": [
       "tensor([0.955593330923010, 0.604829429361236, 0.508713151551759],\n",
       "       dtype=torch.float64)"
      ]
     },
     "execution_count": 43,
     "metadata": {},
     "output_type": "execute_result"
    }
   ],
   "source": [
    "zz[xma > 25] = 0.5\n",
    "zz"
   ]
  },
  {
   "cell_type": "code",
   "execution_count": 48,
   "id": "c1edf1f3-c47e-44fb-818f-3033232ca524",
   "metadata": {},
   "outputs": [
    {
     "data": {
      "text/plain": [
       "tensor([1.701690841545193, 0.265867648643529, 0.021842368709067],\n",
       "       dtype=torch.float64)"
      ]
     },
     "execution_count": 48,
     "metadata": {},
     "output_type": "execute_result"
    }
   ],
   "source": [
    "mucor = torch.tensor(norm.ppf(torch.minimum(zz, torch.tensor(1))))\n",
    "mucor"
   ]
  },
  {
   "cell_type": "code",
   "execution_count": 51,
   "id": "9a3bf836-03b1-440b-b5d8-7fcaade58174",
   "metadata": {},
   "outputs": [
    {
     "data": {
      "text/plain": [
       "tensor([0.000000000000000, 1.734132351356471, 2.978157631290933],\n",
       "       dtype=torch.float64)"
      ]
     },
     "execution_count": 51,
     "metadata": {},
     "output_type": "execute_result"
    }
   ],
   "source": [
    "muhat = sx * torch.maximum(torch.tensor(0), xma - mucor) * s\n",
    "muhat"
   ]
  },
  {
   "cell_type": "markdown",
   "id": "34fabebc-3d11-458c-a4af-b94b72ce5ddd",
   "metadata": {},
   "source": [
    "R코드"
   ]
  },
  {
   "cell_type": "markdown",
   "id": "043afe42-1fe4-463f-8586-e07921996911",
   "metadata": {},
   "source": [
    "```R\n",
    "postmed.laplace <- function(x, s = 1, w = 0.5, a = 0.5) {\n",
    "#\n",
    "#  Find the posterior median for the Laplace prior for \n",
    "#   given x (observations), s (sd), w and a.\n",
    "#\n",
    "    \n",
    "  # Only allow a < 20 for input value\n",
    "  a <- min(a, 20)\n",
    "  \n",
    "  # Work with the absolute value of x, and for x > 25 use the approximation\n",
    "  #  to dnorm(x-a)*beta.laplace(x, a)\n",
    "\tsx <- sign(x)\n",
    "\tx <- abs(x)\n",
    "\txma <- x/s - s*a\n",
    "\tzz <- 1/a * (1/s*dnorm(xma)) * (1/w + beta.laplace(x, s, a))\n",
    "\tzz[xma > 25] <- 1/2\n",
    "\tmucor <- qnorm(pmin(zz, 1))\n",
    "\tmuhat <- sx * pmax(0, xma - mucor) * s\n",
    "\treturn(muhat)\n",
    "}\n",
    "```"
   ]
  },
  {
   "cell_type": "markdown",
   "id": "b28b5a5b-41e7-4356-8578-4ce0ba48ee30",
   "metadata": {},
   "source": [
    "결과"
   ]
  },
  {
   "cell_type": "markdown",
   "id": "c8106d64-2eb6-45a2-8f82-2c89ed9ae9d7",
   "metadata": {},
   "source": [
    "- Python"
   ]
  },
  {
   "cell_type": "code",
   "execution_count": 5,
   "id": "cc0cb736-3192-4693-a946-6004a28f7b9f",
   "metadata": {},
   "outputs": [
    {
     "data": {
      "text/plain": [
       "tensor([0.000000000000000, 1.734132351356471, 2.978157631290933],\n",
       "       dtype=torch.float64)"
      ]
     },
     "execution_count": 5,
     "metadata": {},
     "output_type": "execute_result"
    }
   ],
   "source": [
    "ebayesthresh_torch.postmed_laplace(x = torch.tensor([1.5, 2.5, 3.5]))"
   ]
  },
  {
   "cell_type": "markdown",
   "id": "a298bec6-d6a7-475c-848d-0ca5ea6dcd28",
   "metadata": {},
   "source": [
    "- R"
   ]
  },
  {
   "cell_type": "markdown",
   "id": "7f22203e-a651-43bb-a76a-e5ac929e9581",
   "metadata": {},
   "source": [
    "```R\n",
    "> postmed.laplace(x=c(1.5, 2.5, 3.5), s = 1, w = 0.5, a = 0.5)\n",
    "[1] 0.000000 1.734132 2.978158\n",
    "```"
   ]
  },
  {
   "cell_type": "markdown",
   "id": "519a96f2-8740-4ac4-8e56-a83c6d6d892f",
   "metadata": {},
   "source": [
    "# threshld"
   ]
  },
  {
   "cell_type": "markdown",
   "id": "8058332a-57f6-4b3e-8eac-3ff3c21bd37f",
   "metadata": {},
   "source": [
    "> 임계값 t를 이용해서 데이터 조정"
   ]
  },
  {
   "cell_type": "code",
   "execution_count": 12,
   "id": "216a09d4-da51-471d-be9b-f073944c71d2",
   "metadata": {},
   "outputs": [],
   "source": [
    "x = torch.tensor(range(-5,5))\n",
    "t=1.4\n",
    "hard=False"
   ]
  },
  {
   "cell_type": "code",
   "execution_count": 13,
   "id": "1898d591-06c0-4723-afda-a01f081ee379",
   "metadata": {},
   "outputs": [],
   "source": [
    "if hard:\n",
    "    z = x * (torch.abs(x) >= t)\n",
    "else:\n",
    "    z = torch.sign(x) * torch.maximum(torch.tensor(0.0), torch.abs(x) - t)"
   ]
  },
  {
   "cell_type": "code",
   "execution_count": 14,
   "id": "043604e6-2845-48fa-9630-c101da258b50",
   "metadata": {},
   "outputs": [
    {
     "data": {
      "text/plain": [
       "tensor([-3.599999904632568, -2.599999904632568, -1.600000023841858,\n",
       "        -0.600000023841858, -0.000000000000000,  0.000000000000000,\n",
       "         0.000000000000000,  0.600000023841858,  1.600000023841858,\n",
       "         2.599999904632568])"
      ]
     },
     "execution_count": 14,
     "metadata": {},
     "output_type": "execute_result"
    }
   ],
   "source": [
    "z"
   ]
  },
  {
   "cell_type": "markdown",
   "id": "79ba84a2-4fa6-4e29-8945-df3f88005bbf",
   "metadata": {},
   "source": [
    "R코드"
   ]
  },
  {
   "cell_type": "markdown",
   "id": "222e4594-9d11-4ddd-9f83-71eefb1307ac",
   "metadata": {},
   "source": [
    "```R\n",
    "threshld <- function(x, t, hard = TRUE) {\n",
    "#\n",
    "#  threshold the data x using threshold t\n",
    "#  if hard=TRUE use hard thresholding\n",
    "#  if hard=FALSE use soft thresholding\n",
    "\tif(hard) z <- x * (abs(x) >= t) else {\n",
    "\t\tz <- sign(x) * pmax(0, abs(x) - t)\n",
    "\t}\n",
    "\treturn(z)\n",
    "}\n",
    "```"
   ]
  },
  {
   "cell_type": "markdown",
   "id": "984931d1-45bd-4f8a-ba4b-cd7758d7bdcb",
   "metadata": {},
   "source": [
    "결과"
   ]
  },
  {
   "cell_type": "markdown",
   "id": "46ceea88-5437-4fb5-9a3d-785fd37d84aa",
   "metadata": {},
   "source": [
    "- Python"
   ]
  },
  {
   "cell_type": "code",
   "execution_count": 15,
   "id": "0207eaa7-ba48-48ac-abef-b0bf0ddccd0c",
   "metadata": {},
   "outputs": [
    {
     "data": {
      "text/plain": [
       "tensor([-3.599999904632568, -2.599999904632568, -1.600000023841858,\n",
       "        -0.600000023841858, -0.000000000000000,  0.000000000000000,\n",
       "         0.000000000000000,  0.600000023841858,  1.600000023841858,\n",
       "         2.599999904632568])"
      ]
     },
     "execution_count": 15,
     "metadata": {},
     "output_type": "execute_result"
    }
   ],
   "source": [
    "ebayesthresh_torch.threshld(torch.tensor(range(-5,5)), t=1.4, hard=False)"
   ]
  },
  {
   "cell_type": "markdown",
   "id": "4f9f0d57-1dda-4e56-aec1-36014a69bdc7",
   "metadata": {},
   "source": [
    "- R"
   ]
  },
  {
   "cell_type": "markdown",
   "id": "c3cd8a0a-f53e-41e0-a6d3-7183919162a8",
   "metadata": {},
   "source": [
    "```R\n",
    "> threshld(as.array(seq(-5, 5)), t=1.4, hard=FALSE)\n",
    " [1] -3.6 -2.6 -1.6 -0.6  0.0  0.0  0.0  0.6  1.6  2.6  3.6\n",
    " ```"
   ]
  },
  {
   "cell_type": "markdown",
   "id": "0403076c-0415-4faf-8d19-03650461e01f",
   "metadata": {},
   "source": [
    "# wandafromx"
   ]
  },
  {
   "cell_type": "markdown",
   "id": "3cd8b9a8-fb6c-456b-b091-556b121e4440",
   "metadata": {},
   "source": [
    "> Given a vector of data and a single value or vector of sampling standard deviations, find the marginal maximum likelihood choice of both weight and scale factor under the Laplace prior"
   ]
  },
  {
   "cell_type": "code",
   "execution_count": 42,
   "id": "a4fa125f-fd39-40df-ba23-57465d12e44e",
   "metadata": {},
   "outputs": [],
   "source": [
    "x = torch.tensor([-2,1,0,-4,8], dtype=float)\n",
    "s = 1\n",
    "universalthresh = True"
   ]
  },
  {
   "cell_type": "code",
   "execution_count": 43,
   "id": "7e3238e2-e904-4fc7-8839-b2adf0ad3f0a",
   "metadata": {},
   "outputs": [],
   "source": [
    "if universalthresh:\n",
    "    thi = torch.sqrt(2 * torch.log(torch.tensor(len(x)))) * s\n",
    "else:\n",
    "    thi = torch.inf"
   ]
  },
  {
   "cell_type": "code",
   "execution_count": 44,
   "id": "c216dbab-0e8c-42d3-9863-b07b725b9c78",
   "metadata": {},
   "outputs": [
    {
     "data": {
      "text/plain": [
       "tensor(1.794122576713562)"
      ]
     },
     "execution_count": 44,
     "metadata": {},
     "output_type": "execute_result"
    }
   ],
   "source": [
    "thi"
   ]
  },
  {
   "cell_type": "code",
   "execution_count": 45,
   "id": "cce71525-16f8-4d55-b8a0-e66576b86a87",
   "metadata": {},
   "outputs": [],
   "source": [
    "if isinstance(s, int):\n",
    "    tlo = torch.zeros(len(str(s)))\n",
    "else:\n",
    "    tlo = torch.zeros(len(s))"
   ]
  },
  {
   "cell_type": "code",
   "execution_count": 46,
   "id": "707b65ee-17ad-4728-b4de-c890809831b7",
   "metadata": {},
   "outputs": [
    {
     "data": {
      "text/plain": [
       "tensor([0.])"
      ]
     },
     "execution_count": 46,
     "metadata": {},
     "output_type": "execute_result"
    }
   ],
   "source": [
    "tlo"
   ]
  },
  {
   "cell_type": "code",
   "execution_count": 47,
   "id": "aff5dc4d-18fc-4f8e-b8b5-48ff4345fa7e",
   "metadata": {},
   "outputs": [
    {
     "data": {
      "text/plain": [
       "tensor([0.000000000000000, 0.039999999105930])"
      ]
     },
     "execution_count": 47,
     "metadata": {},
     "output_type": "execute_result"
    }
   ],
   "source": [
    "lo = torch.tensor([0, 0.04])\n",
    "lo"
   ]
  },
  {
   "cell_type": "code",
   "execution_count": 48,
   "id": "254942b8-ea01-4690-ba94-93059e7de381",
   "metadata": {},
   "outputs": [
    {
     "data": {
      "text/plain": [
       "tensor([1, 3])"
      ]
     },
     "execution_count": 48,
     "metadata": {},
     "output_type": "execute_result"
    }
   ],
   "source": [
    "hi = torch.tensor([1, 3])\n",
    "hi"
   ]
  },
  {
   "cell_type": "code",
   "execution_count": 49,
   "id": "501f23f2-ded1-4f88-ba65-63f569e25e68",
   "metadata": {},
   "outputs": [
    {
     "data": {
      "text/plain": [
       "tensor([0.500000000000000, 0.500000000000000])"
      ]
     },
     "execution_count": 49,
     "metadata": {},
     "output_type": "execute_result"
    }
   ],
   "source": [
    "startpar = torch.tensor([0.5, 0.5])\n",
    "startpar"
   ]
  },
  {
   "cell_type": "code",
   "execution_count": 55,
   "id": "ca8d507d-6f28-40f9-a93d-012722318759",
   "metadata": {},
   "outputs": [],
   "source": [
    "if 'optim' in globals():\n",
    "    result = minimize(ebayesthresh_torch.negloglik_laplace, startpar, method='L-BFGS-B', bounds=[(lo[0], hi[0]), (lo[1], hi[1])], args=(x, s, tlo, thi))\n",
    "    uu = result.x\n",
    "else:\n",
    "    result = minimize(ebayesthresh_torch.negloglik_laplace, startpar, bounds=[(lo[0], hi[0]), (lo[1], hi[1])], args=(x, s, tlo, thi))\n",
    "    uu = result.x"
   ]
  },
  {
   "cell_type": "code",
   "execution_count": 56,
   "id": "c2078b68-3a38-4110-ab7f-6ab8a1c73193",
   "metadata": {},
   "outputs": [
    {
     "data": {
      "text/plain": [
       "0.30010822252477337"
      ]
     },
     "execution_count": 56,
     "metadata": {},
     "output_type": "execute_result"
    }
   ],
   "source": [
    "a = uu[1]\n",
    "a"
   ]
  },
  {
   "cell_type": "code",
   "execution_count": 59,
   "id": "2920d7e7-9fb5-4109-b8a2-29d17772b3bc",
   "metadata": {},
   "outputs": [
    {
     "name": "stderr",
     "output_type": "stream",
     "text": [
      "/home/csy/Dropbox/sy_hub/posts/1_Note/ebayesthresh_torch/utils.py:552: UserWarning: To copy construct from a tensor, it is recommended to use sourceTensor.clone().detach() or sourceTensor.clone().detach().requires_grad_(True), rather than torch.tensor(sourceTensor).\n",
      "  tt = torch.tensor(tt, dtype=torch.float64)\n",
      "/home/csy/Dropbox/sy_hub/posts/1_Note/ebayesthresh_torch/utils.py:556: UserWarning: To copy construct from a tensor, it is recommended to use sourceTensor.clone().detach() or sourceTensor.clone().detach().requires_grad_(True), rather than torch.tensor(sourceTensor).\n",
      "  tma = torch.tensor(tt / s - s * a)\n",
      "/home/csy/Dropbox/sy_hub/posts/1_Note/ebayesthresh_torch/utils.py:47: UserWarning: To copy construct from a tensor, it is recommended to use sourceTensor.clone().detach() or sourceTensor.clone().detach().requires_grad_(True), rather than torch.tensor(sourceTensor).\n",
      "  rat1 = torch.tensor(1 / xpa, dtype=torch.float64)\n",
      "/home/csy/Dropbox/sy_hub/posts/1_Note/ebayesthresh_torch/utils.py:51: UserWarning: To copy construct from a tensor, it is recommended to use sourceTensor.clone().detach() or sourceTensor.clone().detach().requires_grad_(True), rather than torch.tensor(sourceTensor).\n",
      "  rat2 = torch.tensor(1 / torch.abs(xma), dtype=torch.float64)\n"
     ]
    },
    {
     "data": {
      "text/plain": [
       "tensor(0.497624103823530, dtype=torch.float64)"
      ]
     },
     "execution_count": 59,
     "metadata": {},
     "output_type": "execute_result"
    }
   ],
   "source": [
    "wlo = ebayesthresh_torch.wfromt(thi, s, a=a)\n",
    "wlo"
   ]
  },
  {
   "cell_type": "code",
   "execution_count": 60,
   "id": "2abe8d5a-4f63-4e7c-b5d2-d404cfc782c6",
   "metadata": {},
   "outputs": [
    {
     "name": "stderr",
     "output_type": "stream",
     "text": [
      "/home/csy/Dropbox/sy_hub/posts/1_Note/ebayesthresh_torch/utils.py:552: UserWarning: To copy construct from a tensor, it is recommended to use sourceTensor.clone().detach() or sourceTensor.clone().detach().requires_grad_(True), rather than torch.tensor(sourceTensor).\n",
      "  tt = torch.tensor(tt, dtype=torch.float64)\n",
      "/home/csy/Dropbox/sy_hub/posts/1_Note/ebayesthresh_torch/utils.py:556: UserWarning: To copy construct from a tensor, it is recommended to use sourceTensor.clone().detach() or sourceTensor.clone().detach().requires_grad_(True), rather than torch.tensor(sourceTensor).\n",
      "  tma = torch.tensor(tt / s - s * a)\n",
      "/home/csy/Dropbox/sy_hub/posts/1_Note/ebayesthresh_torch/utils.py:47: UserWarning: To copy construct from a tensor, it is recommended to use sourceTensor.clone().detach() or sourceTensor.clone().detach().requires_grad_(True), rather than torch.tensor(sourceTensor).\n",
      "  rat1 = torch.tensor(1 / xpa, dtype=torch.float64)\n",
      "/home/csy/Dropbox/sy_hub/posts/1_Note/ebayesthresh_torch/utils.py:51: UserWarning: To copy construct from a tensor, it is recommended to use sourceTensor.clone().detach() or sourceTensor.clone().detach().requires_grad_(True), rather than torch.tensor(sourceTensor).\n",
      "  rat2 = torch.tensor(1 / torch.abs(xma), dtype=torch.float64)\n"
     ]
    },
    {
     "data": {
      "text/plain": [
       "tensor([1.], dtype=torch.float64)"
      ]
     },
     "execution_count": 60,
     "metadata": {},
     "output_type": "execute_result"
    }
   ],
   "source": [
    "whi = ebayesthresh_torch.wfromt(tlo, s, a=a)\n",
    "whi"
   ]
  },
  {
   "cell_type": "code",
   "execution_count": 62,
   "id": "a6fa31cc-0444-4c2a-be58-3a62df0f7959",
   "metadata": {},
   "outputs": [
    {
     "data": {
      "text/plain": [
       "tensor(0.497624103823530, dtype=torch.float64)"
      ]
     },
     "execution_count": 62,
     "metadata": {},
     "output_type": "execute_result"
    }
   ],
   "source": [
    "wlo = torch.max(wlo)\n",
    "wlo"
   ]
  },
  {
   "cell_type": "code",
   "execution_count": 63,
   "id": "33ba010f-71e3-413e-8e88-ba3f6a1a7f29",
   "metadata": {},
   "outputs": [
    {
     "data": {
      "text/plain": [
       "tensor(1., dtype=torch.float64)"
      ]
     },
     "execution_count": 63,
     "metadata": {},
     "output_type": "execute_result"
    }
   ],
   "source": [
    "whi = torch.min(whi)\n",
    "whi"
   ]
  },
  {
   "cell_type": "code",
   "execution_count": 64,
   "id": "ec7940ed-4b74-4b02-a7f3-985969881764",
   "metadata": {},
   "outputs": [
    {
     "data": {
      "text/plain": [
       "tensor(0.846681050730532, dtype=torch.float64)"
      ]
     },
     "execution_count": 64,
     "metadata": {},
     "output_type": "execute_result"
    }
   ],
   "source": [
    "w = uu[0] * (whi - wlo) + wlo\n",
    "w"
   ]
  },
  {
   "cell_type": "markdown",
   "id": "def6b043-4edc-4795-abbc-17f35da3a7f9",
   "metadata": {},
   "source": [
    "R코드"
   ]
  },
  {
   "cell_type": "markdown",
   "id": "ac5ca6e1-babb-427a-89a5-cc475b2fc30b",
   "metadata": {},
   "source": [
    "```R\n",
    "wandafromx <- function(x, s = 1, universalthresh = TRUE) {\n",
    "#\n",
    "#  Find the marginal max lik estimators of w and a given standard\n",
    "#   deviation s, using a bivariate optimization;\n",
    "#    \n",
    "#  If universalthresh=TRUE, the thresholds will be upper bounded by\n",
    "#   universal threshold adjusted by standard deviation. The threshold\n",
    "#   is constrained to lie between 0 and sqrt ( 2 log (n)) *\n",
    "#   s. Otherwise, threshold can take any nonnegative value;\n",
    "#\n",
    "#  If running R, the routine optim is used; in S-PLUS the routine is\n",
    "#   nlminb.\n",
    "#\n",
    "    \n",
    "  # Range for thresholds\n",
    "  if(universalthresh) {\n",
    "    thi <- sqrt(2 * log(length(x))) * s\n",
    "  } else{\n",
    "    thi <- Inf\n",
    "  }\n",
    "  \n",
    "\ttlo <- rep(0, length(s))\n",
    "\tlo  <-  c(0,0.04)\n",
    "\thi  <-  c(1,3)\n",
    "\tstartpar  <-  c(0.5,0.5)\n",
    "\tif (exists(\"optim\")) {\n",
    "  \t  uu <- optim(startpar, negloglik.laplace, method=\"L-BFGS-B\",\n",
    "                      lower = lo, upper = hi, xx = x, ss = s, thi = thi,\n",
    "                      tlo = tlo)\n",
    "          uu <- uu$par\n",
    "\t}\n",
    "\telse {\n",
    "          uu <- nlminb(startpar, negloglik.laplace, lower = lo,\n",
    "                       upper = hi, xx = x, ss = s, thi = thi, tlo = tlo)\n",
    "          uu <- uu$parameters\n",
    "        }\n",
    "\t\n",
    "\ta <- uu[2]\n",
    "\twlo <- wfromt(thi, s, a = a)\n",
    "\twhi <- wfromt(tlo, s, a = a)\n",
    "\twlo <- max(wlo)\n",
    "\twhi <- min(whi)\n",
    "\tw <- uu[1]*(whi - wlo) + wlo\n",
    "\treturn(list(w=w, a=a))\n",
    "}\n",
    "```"
   ]
  },
  {
   "cell_type": "markdown",
   "id": "c2b0e315-7d3d-4781-92bd-a542e7fcc1fd",
   "metadata": {},
   "source": [
    "결과"
   ]
  },
  {
   "cell_type": "markdown",
   "id": "67f4c1db-5a06-4878-8dd1-e3fedc301609",
   "metadata": {},
   "source": [
    "- Pythom"
   ]
  },
  {
   "cell_type": "code",
   "execution_count": 5,
   "id": "a7131cbd-1729-4ec7-a77d-6906a49c29f2",
   "metadata": {},
   "outputs": [
    {
     "data": {
      "text/plain": [
       "{'w': tensor(1., dtype=torch.float64), 'a': 0.41641347740360435}"
      ]
     },
     "execution_count": 5,
     "metadata": {},
     "output_type": "execute_result"
    }
   ],
   "source": [
    "ebayesthresh_torch.wandafromx(torch.tensor([-2,1,0,-4,8,50], dtype=float))"
   ]
  },
  {
   "cell_type": "code",
   "execution_count": 6,
   "id": "71589270-c5b6-4144-83e1-6b7108cdfc36",
   "metadata": {},
   "outputs": [
    {
     "data": {
      "text/plain": [
       "{'w': tensor(0.846681050730532, dtype=torch.float64), 'a': 0.30010822252477337}"
      ]
     },
     "execution_count": 6,
     "metadata": {},
     "output_type": "execute_result"
    }
   ],
   "source": [
    "ebayesthresh_torch.wandafromx(torch.tensor([-2,1,0,-4,8], dtype=float))"
   ]
  },
  {
   "cell_type": "markdown",
   "id": "342ebe32-34bd-4954-ae22-cbe6f98b2ac9",
   "metadata": {},
   "source": [
    "- R"
   ]
  },
  {
   "cell_type": "markdown",
   "id": "5d259494-abc4-4576-ba86-fa7fcbceea1f",
   "metadata": {},
   "source": [
    "```R\n",
    "> wandafromx(c(-2,1,0,-4,8,50))\n",
    "$w\n",
    "[1] 1\n",
    "\n",
    "$a\n",
    "[1] 0.4163946\n",
    "> wandafromx(c(-2,1,0,-4,8))\n",
    "$w\n",
    "[1] 0.8466808\n",
    "\n",
    "$a\n",
    "[1] 0.3001091\n",
    "\n",
    "```"
   ]
  },
  {
   "cell_type": "markdown",
   "id": "c69a5880-a821-43ce-a951-cc656f135547",
   "metadata": {},
   "source": [
    "# Mad(Median Absolute Deviation)"
   ]
  },
  {
   "cell_type": "markdown",
   "id": "409a95c8-7a6c-4ba5-bd4b-efd388d11c41",
   "metadata": {},
   "source": [
    "> 중앙값 절대 편차, 분산이나 퍼진 정도 확인 가능"
   ]
  },
  {
   "cell_type": "markdown",
   "id": "24288806-0cdc-4a57-bf10-44e2c494ad71",
   "metadata": {},
   "source": [
    "결과"
   ]
  },
  {
   "cell_type": "markdown",
   "id": "0870d0bf-9451-4579-ab1a-17bc640ae1f7",
   "metadata": {},
   "source": [
    "- Python"
   ]
  },
  {
   "cell_type": "code",
   "execution_count": 7,
   "id": "96c83ff1-b6fa-412a-abea-7dd9726c7431",
   "metadata": {},
   "outputs": [
    {
     "data": {
      "text/plain": [
       "tensor(2.965199947357178)"
      ]
     },
     "execution_count": 7,
     "metadata": {},
     "output_type": "execute_result"
    }
   ],
   "source": [
    "ebayesthresh_torch.mad(torch.tensor([1, 2, 3, 3, 4, 4, 4, 5, 5.5, 6, 6, 6.5, 7, 7, 7.5, 8, 9, 12, 52, 90]))"
   ]
  },
  {
   "cell_type": "markdown",
   "id": "a56cd18f-a662-4208-9bdb-3fab5d962625",
   "metadata": {},
   "source": [
    "- R"
   ]
  },
  {
   "cell_type": "markdown",
   "id": "242d0a36-9afe-4158-a79b-6a7a4c90d3ca",
   "metadata": {},
   "source": [
    "```R\n",
    "> mad(c(1, 2, 3, 3, 4, 4, 4, 5, 5.5, 6, 6, 6.5, 7, 7, 7.5, 8, 9, 12, 52, 90))\n",
    "[1] 2.9652\n",
    "```"
   ]
  },
  {
   "cell_type": "markdown",
   "id": "b200d13b-eea1-4ba0-be51-ce0b0b0ac3f8",
   "metadata": {},
   "source": [
    "# wfromt"
   ]
  },
  {
   "cell_type": "markdown",
   "id": "7a08dabf-81b1-4f6e-bf17-9b01e9ef22c5",
   "metadata": {},
   "source": [
    "Description"
   ]
  },
  {
   "cell_type": "markdown",
   "id": "fa52ee17-339b-4b86-893a-1e2aa5c0c6fe",
   "metadata": {},
   "source": [
    "> Given a value or vector of thresholds and sampling standard deviations (sd equals 1 for Cauchy prior), find the mixing weight for which this is(these are) the threshold(s) of the posterior median estimator. If a vector of threshold values is provided, the vector of corresponding weights is returned."
   ]
  },
  {
   "cell_type": "markdown",
   "id": "bcca8520-e048-41c6-8aee-959e13c47d6e",
   "metadata": {},
   "source": [
    "*주어진 임계값과 표준편차에 대해, posterior median estimator에서 이 임계값이 나오도록 하는 혼합 가중치를 계산하는 함수가 제공된다.*"
   ]
  },
  {
   "cell_type": "code",
   "execution_count": 8,
   "id": "75b9fdf5-3249-4c43-8b3f-7af41d8a1736",
   "metadata": {},
   "outputs": [],
   "source": [
    "# tt = np.array([2,3,5])\n",
    "tt = torch.tensor(2.14, dtype=torch.float64)\n",
    "s = 1\n",
    "prior = 'laplace\"'\n",
    "a = 0.5"
   ]
  },
  {
   "cell_type": "code",
   "execution_count": 9,
   "id": "6376718e-39ce-463a-8286-e9e8466e5226",
   "metadata": {},
   "outputs": [
    {
     "data": {
      "text/plain": [
       "'l'"
      ]
     },
     "execution_count": 9,
     "metadata": {},
     "output_type": "execute_result"
    }
   ],
   "source": [
    "pr = prior[0:1]\n",
    "pr"
   ]
  },
  {
   "cell_type": "code",
   "execution_count": 13,
   "id": "9e88262a-9e92-4d81-82b0-72b4d420feb7",
   "metadata": {},
   "outputs": [
    {
     "name": "stderr",
     "output_type": "stream",
     "text": [
      "<ipython-input-13-da2522805b6a>:2: UserWarning: To copy construct from a tensor, it is recommended to use sourceTensor.clone().detach() or sourceTensor.clone().detach().requires_grad_(True), rather than torch.tensor(sourceTensor).\n",
      "  tma = torch.tensor(tt / s - s * a)\n"
     ]
    }
   ],
   "source": [
    "if pr == \"l\":\n",
    "    tma = torch.tensor(tt / s - s * a)\n",
    "    wi = 1 / torch.abs(tma)\n",
    "    wi[tma > -35] = torch.tensor(norm.cdf(tma[tma > -35], loc=0, scale=1)/norm.pdf(tma[tma > -35], loc=0, scale=1))\n",
    "    wi = a * s * wi - ebayesthresh_torch.beta_laplace(tt, s, a)"
   ]
  },
  {
   "cell_type": "code",
   "execution_count": 14,
   "id": "25b853af-e0b3-439a-ab71-271949a11bc7",
   "metadata": {},
   "outputs": [],
   "source": [
    "if pr == \"c\":\n",
    "    dnz = norm.pdf(tt, loc=0, scale=1)\n",
    "    wi = 1 + (torch.tensor(norm.cdf(tt, loc=0, scale=1)) - tt * dnz - 1/2) / (torch.sqrt(torch.tensor(torch.pi/2)) * dnz * tt**2)\n",
    "    wi[~torch.isfinite(wi)] = 1"
   ]
  },
  {
   "cell_type": "code",
   "execution_count": 15,
   "id": "a6d9bc89-e3a6-4a0e-9dbb-df6eaa23fce1",
   "metadata": {},
   "outputs": [
    {
     "data": {
      "text/plain": [
       "tensor(0.312639310177825, dtype=torch.float64)"
      ]
     },
     "execution_count": 15,
     "metadata": {},
     "output_type": "execute_result"
    }
   ],
   "source": [
    "1 / wi"
   ]
  },
  {
   "cell_type": "markdown",
   "id": "621b8fc6-fe61-4d6b-924d-6e355e443208",
   "metadata": {},
   "source": [
    "- R코드"
   ]
  },
  {
   "cell_type": "markdown",
   "id": "622cf085-ecf6-48f1-a192-504a5fb3181d",
   "metadata": {},
   "source": [
    "```R\n",
    "wfromt <- function(tt, s = 1, prior = \"laplace\", a = 0.5) {\n",
    "  #\n",
    "  #  Find the weight that has posterior median threshold tt, \n",
    "  #   given s (sd) and a.\n",
    "  #\n",
    "pr <- substring(prior, 1, 1)\n",
    "if(pr == \"l\"){\n",
    "  tma <- tt/s - s*a\n",
    "  wi <- 1/abs(tma)\n",
    "  wi[tma > -35] <- pnorm(tma[tma > -35])/dnorm(tma[tma > -35])\n",
    "  wi <- a * s * wi - beta.laplace(tt, s, a)\n",
    "}\n",
    "if(pr == \"c\") {\n",
    "  dnz <- dnorm(tt)\n",
    "  wi <- 1 + (pnorm(tt) - tt * dnz - 1/2)/\n",
    "    (sqrt(pi/2) * dnz * tt^2)\n",
    "  wi[!is.finite(wi)] <- 1\n",
    "}\n",
    "1/wi\n",
    "}\n",
    "```"
   ]
  },
  {
   "cell_type": "markdown",
   "id": "aaa9711a-0b5d-4dca-9c9c-627dcd3a5170",
   "metadata": {},
   "source": [
    "결과"
   ]
  },
  {
   "cell_type": "markdown",
   "id": "5c46395f-4458-4610-a4b5-49f716638e12",
   "metadata": {},
   "source": [
    "- Python"
   ]
  },
  {
   "cell_type": "code",
   "execution_count": 16,
   "id": "73b44642-ca91-4f3a-a22b-1e8e52944e63",
   "metadata": {},
   "outputs": [
    {
     "data": {
      "text/plain": [
       "tensor([4.229634032914113e-01, 9.337993365820978e-02, 9.315908844505263e-05],\n",
       "       dtype=torch.float64)"
      ]
     },
     "execution_count": 16,
     "metadata": {},
     "output_type": "execute_result"
    }
   ],
   "source": [
    "ebayesthresh_torch.wfromt(torch.tensor([2,3,5]),prior='cachy')"
   ]
  },
  {
   "cell_type": "code",
   "execution_count": 17,
   "id": "fb88ee73-ae38-4d45-8644-261900e07228",
   "metadata": {},
   "outputs": [
    {
     "data": {
      "text/plain": [
       "tensor(0.422963400115950, dtype=torch.float64)"
      ]
     },
     "execution_count": 17,
     "metadata": {},
     "output_type": "execute_result"
    }
   ],
   "source": [
    "ebayesthresh_torch.wfromt(torch.tensor(2),prior='cachy')"
   ]
  },
  {
   "cell_type": "code",
   "execution_count": 18,
   "id": "7eb4748a-a1f0-4865-afeb-020e91bcfa4c",
   "metadata": {},
   "outputs": [
    {
     "data": {
      "text/plain": [
       "tensor(0.368633767549335, dtype=torch.float64)"
      ]
     },
     "execution_count": 18,
     "metadata": {},
     "output_type": "execute_result"
    }
   ],
   "source": [
    "ebayesthresh_torch.wfromt(torch.tensor(2),prior='laplace')"
   ]
  },
  {
   "cell_type": "markdown",
   "id": "cd807064-9885-44a3-ab1e-050039bd0f30",
   "metadata": {},
   "source": [
    "- R"
   ]
  },
  {
   "cell_type": "markdown",
   "id": "d6c4d587-607e-4d05-a9b4-8bb78930b0e1",
   "metadata": {},
   "source": [
    "```R\n",
    "> wfromt(c(2,3,5),prior='cachy')\n",
    "[1] 4.229634e-01 9.337993e-02 9.315909e-05\n",
    "> wfromt(2,prior='cachy')\n",
    "[1] 0.4229634\n",
    "> wfromt(2,prior='laplace')\n",
    "[1] 0.3686338\n",
    "```"
   ]
  },
  {
   "cell_type": "markdown",
   "id": "af50c953-86f5-404a-9da9-391602fe988a",
   "metadata": {},
   "source": [
    "# wfromx"
   ]
  },
  {
   "cell_type": "markdown",
   "id": "084e5ec0-40a9-4f63-a3d1-08da93e120d5",
   "metadata": {},
   "source": [
    "Description"
   ]
  },
  {
   "cell_type": "markdown",
   "id": "c96c021e-d361-4967-b5db-7697c7141868",
   "metadata": {},
   "source": [
    "> The weight is found by marginal maximum likelihood. The search is over weights corresponding to threshold $t_i$ in the range $[0, s_i \\sqrt{2 log n}]$ if universalthresh=TRUE, where n is the length of the data vector and $(s_1, ..., s_n$) ($s_i$ is $1$ for Cauchy prior) is the vector of sampling standard deviation of data ($x_1, ..., x_n$); otherwise, the search is over $[0, 1]$. The search is by binary search for a solution to the equation $S(w) = 0$, where $S$ is the derivative of the log likelihood. The binary search is on a logarithmic scale in $w$. If the Laplace prior is used, the scale parameter is fixed at the value given for $a$, and defaults to $0.5$ if no value is provided. To estimate a as well as $w$ by marginal maximum likelihood, use the routine wandafromx."
   ]
  },
  {
   "cell_type": "markdown",
   "id": "6a5ff3ad-8804-4214-aede-2dfa7ae3a4f0",
   "metadata": {},
   "source": [
    "> Suppose the vector $(x_1, \\cdots, x_n)$ is such that $x_i$ is drawn independently from a normal distribution with mean $\\theta_i$ and standard deviation $s_i$ ($s_i$ equals $1$ for Cauchy prior). The prior distribution of the $\\theta_i$ is a mixture with probability $1 − w$ of zero and probability $w$ of a given symmetric heavy-tailed distribution. This routine finds the marginal maximum likelihood estimate of the parameter $w$."
   ]
  },
  {
   "cell_type": "markdown",
   "id": "a5d8a2a2-14bb-4099-86c7-f0bb1799afda",
   "metadata": {},
   "source": [
    "*주어진 정규 분포 데이터에 대해 $\\theta_𝑖$의 사전 분포가 주어진 상황에서, 모수 $w$의 최대우도 추정치를 계산하는 방법을 제공한다*"
   ]
  },
  {
   "cell_type": "code",
   "execution_count": null,
   "id": "d910390e-7884-4f2d-824d-64a7ab927ae6",
   "metadata": {},
   "outputs": [],
   "source": [
    "s = torch.tensor([0]*90 + [5]*10, dtype=torch.float)\n",
    "x = torch.normal(mean=0, std=s)\n",
    "prior = \"cauchy\"\n",
    "a = 0.5\n",
    "universalthresh = True"
   ]
  },
  {
   "cell_type": "code",
   "execution_count": null,
   "id": "e819cb92-4080-4fd4-813e-bc3304909bdf",
   "metadata": {},
   "outputs": [
    {
     "data": {
      "text/plain": [
       "'c'"
      ]
     },
     "execution_count": 96,
     "metadata": {},
     "output_type": "execute_result"
    }
   ],
   "source": [
    "pr = prior[0:1]\n",
    "pr"
   ]
  },
  {
   "cell_type": "code",
   "execution_count": null,
   "id": "ff558a6d-ecb5-4760-af49-56c3d14f8b02",
   "metadata": {},
   "outputs": [],
   "source": [
    "if pr == \"c\":\n",
    "    s = 1"
   ]
  },
  {
   "cell_type": "code",
   "execution_count": null,
   "id": "8b919edc-925a-45d4-af7e-8eb57c5dc8b8",
   "metadata": {},
   "outputs": [
    {
     "name": "stderr",
     "output_type": "stream",
     "text": [
      "/home/csy/Dropbox/sy_hub/posts/1_Note/ebayesthresh_torch/utils.py:552: UserWarning: To copy construct from a tensor, it is recommended to use sourceTensor.clone().detach() or sourceTensor.clone().detach().requires_grad_(True), rather than torch.tensor(sourceTensor).\n",
      "  tt = torch.tensor(tt, dtype=torch.float64)\n"
     ]
    }
   ],
   "source": [
    "if universalthresh:\n",
    "    tuniv = torch.sqrt(2 * torch.log(torch.tensor(len(x)))) * s\n",
    "    wlo = ebayesthresh_torch.wfromt(tuniv, s, prior, a)\n",
    "    wlo = torch.max(wlo)\n",
    "else:\n",
    "    wlo = 0"
   ]
  },
  {
   "cell_type": "code",
   "execution_count": null,
   "id": "1ed46a55-1872-407f-8947-a1ab3ac89aae",
   "metadata": {},
   "outputs": [
    {
     "name": "stderr",
     "output_type": "stream",
     "text": [
      "/home/csy/Dropbox/sy_hub/posts/1_Note/ebayesthresh_torch/utils.py:17: UserWarning: To copy construct from a tensor, it is recommended to use sourceTensor.clone().detach() or sourceTensor.clone().detach().requires_grad_(True), rather than torch.tensor(sourceTensor).\n",
      "  x = torch.tensor(x,dtype=torch.float64)\n"
     ]
    }
   ],
   "source": [
    "if pr == \"l\":\n",
    "    beta = ebayesthresh_torch.beta_laplace(x, s, a)\n",
    "elif pr == \"c\":\n",
    "    beta = ebayesthresh_torch.beta_cauchy(x)"
   ]
  },
  {
   "cell_type": "code",
   "execution_count": null,
   "id": "40b14a37-93b6-4ea9-8305-c74a09f5eff0",
   "metadata": {},
   "outputs": [],
   "source": [
    "whi = 1\n",
    "beta = torch.minimum(beta, torch.tensor(1e20))\n",
    "\n",
    "shi = torch.sum(beta / (1 + beta))"
   ]
  },
  {
   "cell_type": "code",
   "execution_count": null,
   "id": "bd425b93-84eb-4b74-843c-80b07ea8a3ec",
   "metadata": {},
   "outputs": [],
   "source": [
    "if shi >= 0:\n",
    "    shi =  1"
   ]
  },
  {
   "cell_type": "code",
   "execution_count": null,
   "id": "2bda427d-b7f4-4f17-95ca-e2b8c0b421c5",
   "metadata": {},
   "outputs": [],
   "source": [
    "slo = torch.sum(beta / (1 + wlo * beta))"
   ]
  },
  {
   "cell_type": "code",
   "execution_count": null,
   "id": "bcd6c356-619f-48fb-a0c6-2e9db261aadd",
   "metadata": {},
   "outputs": [],
   "source": [
    "if slo <= 0:\n",
    "    slo = wlo"
   ]
  },
  {
   "cell_type": "code",
   "execution_count": null,
   "id": "e9b8bf5f-152e-428f-9d38-e5be0cc34ba1",
   "metadata": {},
   "outputs": [],
   "source": [
    "for _ in range(1,31):\n",
    "    wmid = torch.sqrt(wlo * whi)\n",
    "    smid = torch.sum(beta / (1 + wmid * beta))\n",
    "    if smid == 0:\n",
    "        smid = wmid\n",
    "    if smid > 0:\n",
    "        wlo = wmid\n",
    "    else:\n",
    "        whi = wmid"
   ]
  },
  {
   "cell_type": "code",
   "execution_count": null,
   "id": "1a967f88-bb8d-441d-97d8-3fd021c36eb9",
   "metadata": {},
   "outputs": [
    {
     "data": {
      "text/plain": [
       "tensor(0.146079566903307, dtype=torch.float64)"
      ]
     },
     "execution_count": 110,
     "metadata": {},
     "output_type": "execute_result"
    }
   ],
   "source": [
    "torch.sqrt(wlo * whi)"
   ]
  },
  {
   "cell_type": "markdown",
   "id": "159ee9bb-2367-4cc2-8091-0f0562eb43a3",
   "metadata": {},
   "source": [
    "- R코드"
   ]
  },
  {
   "cell_type": "markdown",
   "id": "17442d2c-55b3-445e-97c5-61b2b8ebd917",
   "metadata": {},
   "source": [
    "```R\n",
    "wfromx <- function (x, s = 1, prior = \"laplace\", a = 0.5,\n",
    "                    universalthresh = TRUE) {\n",
    "#    \n",
    "#  Given the vector of data x and s (sd),\n",
    "#   find the value of w that zeroes S(w) in the\n",
    "#   range by successive bisection, carrying out nits harmonic bisections\n",
    "#   of the original interval between wlo and 1.  \n",
    "#  \n",
    "\tpr <- substring(prior, 1, 1)\n",
    "\tif(pr == \"c\")\n",
    "          s = 1\n",
    "\tif(universalthresh) {\n",
    "    \t  tuniv <- sqrt(2 * log(length(x))) * s\n",
    "    \t  wlo <- wfromt(tuniv, s, prior, a)\n",
    "    \t  wlo <- max(wlo)\n",
    "\t} else \n",
    "          wlo = 0\n",
    "\tif(pr == \"l\")\n",
    "\t  beta <- beta.laplace(x, s, a)\n",
    "\tif(pr == \"c\")\n",
    "\t  beta <- beta.cauchy(x)\n",
    "\twhi  <- 1\n",
    "\tbeta <- pmin(beta, 1e20) \n",
    "\tshi  <- sum(beta/(1 + beta))\n",
    "\tif(shi >= 0)\n",
    "  \t  return(1)\n",
    "\tslo <- sum(beta/(1 + wlo * beta))\n",
    "\tif(slo <= 0)\n",
    "\t  return(wlo)\n",
    "\tfor(j in (1:30)) {\n",
    "\t  wmid <- sqrt(wlo * whi)\n",
    "\t  smid <- sum(beta/(1 + wmid * beta))\n",
    "\t  if(smid == 0)\n",
    "\t    return(wmid)\n",
    "\t  if(smid > 0)\n",
    "\t    wlo <- wmid\n",
    "  \t  else\n",
    "\t    whi <- wmid\n",
    "        }\n",
    "\treturn(sqrt(wlo * whi))\n",
    "}\n",
    "```"
   ]
  },
  {
   "cell_type": "markdown",
   "id": "9681dbf1-9429-4b9d-bdc3-bb984e7ac99c",
   "metadata": {},
   "source": [
    "결과"
   ]
  },
  {
   "cell_type": "markdown",
   "id": "5ac8f2ea-12f9-448f-a88f-9277a51989db",
   "metadata": {},
   "source": [
    "- Python"
   ]
  },
  {
   "cell_type": "code",
   "execution_count": 6,
   "id": "fc57fdd3-8daf-4885-8e93-6d2b0a9a2bda",
   "metadata": {},
   "outputs": [
    {
     "data": {
      "text/plain": [
       "tensor(0.123532880018559, dtype=torch.float64)"
      ]
     },
     "execution_count": 6,
     "metadata": {},
     "output_type": "execute_result"
    }
   ],
   "source": [
    "ebayesthresh_torch.wfromx(x = torch.normal(mean=0, std=torch.tensor([0]*90 + [5]*10, dtype=torch.float)), prior = \"cauchy\")"
   ]
  },
  {
   "cell_type": "markdown",
   "id": "e886347e-d060-4598-a709-32227fd00461",
   "metadata": {},
   "source": [
    "- R"
   ]
  },
  {
   "cell_type": "markdown",
   "id": "89d2b4d2-1ffe-4397-8d2c-7f514468df2e",
   "metadata": {},
   "source": [
    "```R\n",
    "> wfromx(x = rnorm(100, s = c(rep(0,90),rep(5,10))), prior = \"cauchy\")\n",
    "[1] 0.116067\n",
    "```"
   ]
  },
  {
   "cell_type": "markdown",
   "id": "b9795eca-91db-44fb-96dc-810193c9b638",
   "metadata": {},
   "source": [
    "# wmonfromx"
   ]
  },
  {
   "cell_type": "markdown",
   "id": "0d55fba6-9f82-4c69-b0bb-df663dfd6a2d",
   "metadata": {},
   "source": [
    "> Given a vector of data, find the marginal maximum likelihood choice of weight sequence subject to the constraints that the weights are monotone decreasing"
   ]
  },
  {
   "cell_type": "markdown",
   "id": "8d02e5c9-d4f8-4898-b4e0-440c09aaf8a7",
   "metadata": {},
   "source": [
    "*데이터에 대해 가중치 시퀀스를 선택하는 과정에서 조건이 주어지는데, 이 가중치 시퀀스는 각각의 가중치 값이 단조 감소해야 하며, 주어진 데이터에 대한 최대 우도를 갖도록 선택되어야 함.*"
   ]
  },
  {
   "cell_type": "code",
   "execution_count": 7,
   "id": "3aa2177c-5d49-41f7-8de1-03ad794876fb",
   "metadata": {},
   "outputs": [],
   "source": [
    "xd = torch.randn(10)\n",
    "prior = \"laplace\"\n",
    "a = 0.5\n",
    "tol = 1e-08\n",
    "maxits = 20"
   ]
  },
  {
   "cell_type": "code",
   "execution_count": null,
   "id": "001fbe8c-ff43-4a1b-9dec-37f68d8c8ec2",
   "metadata": {},
   "outputs": [
    {
     "data": {
      "text/plain": [
       "'l'"
      ]
     },
     "execution_count": 8,
     "metadata": {},
     "output_type": "execute_result"
    }
   ],
   "source": [
    "pr = prior[0:1]\n",
    "pr"
   ]
  },
  {
   "cell_type": "code",
   "execution_count": null,
   "id": "b5465c74-ce75-4766-8336-3cdac24f412b",
   "metadata": {},
   "outputs": [
    {
     "data": {
      "text/plain": [
       "10"
      ]
     },
     "execution_count": 9,
     "metadata": {},
     "output_type": "execute_result"
    }
   ],
   "source": [
    "nx = len(xd)\n",
    "nx"
   ]
  },
  {
   "cell_type": "code",
   "execution_count": null,
   "id": "432b7102-4761-4e74-92fe-cb3fdf506c66",
   "metadata": {},
   "outputs": [
    {
     "name": "stderr",
     "output_type": "stream",
     "text": [
      "/home/csy/Dropbox/sy_hub/posts/1_Note/ebayesthresh_torch/utils.py:552: UserWarning: To copy construct from a tensor, it is recommended to use sourceTensor.clone().detach() or sourceTensor.clone().detach().requires_grad_(True), rather than torch.tensor(sourceTensor).\n",
      "  tt = torch.tensor(tt, dtype=torch.float64)\n",
      "/home/csy/Dropbox/sy_hub/posts/1_Note/ebayesthresh_torch/utils.py:556: UserWarning: To copy construct from a tensor, it is recommended to use sourceTensor.clone().detach() or sourceTensor.clone().detach().requires_grad_(True), rather than torch.tensor(sourceTensor).\n",
      "  tma = torch.tensor(tt / s - s * a)\n"
     ]
    },
    {
     "data": {
      "text/plain": [
       "tensor(0.310296798704717, dtype=torch.float64)"
      ]
     },
     "execution_count": 34,
     "metadata": {},
     "output_type": "execute_result"
    }
   ],
   "source": [
    "wmin = ebayesthresh_torch.wfromt(torch.sqrt(2 * torch.log(torch.tensor(len(xd)))), prior=prior, a=a)\n",
    "wmin"
   ]
  },
  {
   "cell_type": "code",
   "execution_count": null,
   "id": "efbff82a-6850-4c50-bab5-eca5c437e9cd",
   "metadata": {},
   "outputs": [
    {
     "data": {
      "text/plain": [
       "tensor(1)"
      ]
     },
     "execution_count": 35,
     "metadata": {},
     "output_type": "execute_result"
    }
   ],
   "source": [
    "winit = torch.tensor(1)\n",
    "winit"
   ]
  },
  {
   "cell_type": "code",
   "execution_count": null,
   "id": "212aeb05-8200-4fa8-acb2-a40d05bd2764",
   "metadata": {},
   "outputs": [],
   "source": [
    "if pr == \"l\":\n",
    "    beta = ebayesthresh_torch.beta_laplace(xd, a=a)\n",
    "if pr == \"c\":\n",
    "    beta = ebayesthresh_torch.beta_cauchy(xd)"
   ]
  },
  {
   "cell_type": "code",
   "execution_count": null,
   "id": "413dc397-1929-426c-b009-5aa31042e5b2",
   "metadata": {},
   "outputs": [
    {
     "data": {
      "text/plain": [
       "tensor([1, 1, 1, 1, 1, 1, 1, 1, 1, 1])"
      ]
     },
     "execution_count": 37,
     "metadata": {},
     "output_type": "execute_result"
    }
   ],
   "source": [
    "w = winit.repeat_interleave(len(beta))\n",
    "w"
   ]
  },
  {
   "cell_type": "code",
   "execution_count": null,
   "id": "462512a3-e114-4c03-bf83-28abd61791ac",
   "metadata": {},
   "outputs": [],
   "source": [
    "for j in range(maxits):\n",
    "    aa = w + 1 / beta\n",
    "    ps = w + aa\n",
    "    ww = 1 / aa ** 2\n",
    "    wnew = torch.tensor(ebayesthresh_torch.isotone(ps, ww, increasing=False))\n",
    "    wnew = torch.maximum(wmin, wnew)\n",
    "    wnew = torch.minimum(torch.tensor(1), wnew)\n",
    "    zinc = torch.max(torch.abs(torch.diff(wnew)))\n",
    "    w = wnew\n",
    "    # if zinc < tol:\n",
    "    #     return w"
   ]
  },
  {
   "cell_type": "code",
   "execution_count": 176,
   "id": "2496f0ea-5005-467b-9e0a-0669d7d2eb28",
   "metadata": {},
   "outputs": [],
   "source": [
    "# warnings.filterwarnings(\"More iterations required to achieve convergence\")"
   ]
  },
  {
   "cell_type": "markdown",
   "id": "3c044fd4-5269-464c-808b-0a57c39dae88",
   "metadata": {},
   "source": [
    "R코드"
   ]
  },
  {
   "cell_type": "markdown",
   "id": "478aa1ec-06ab-4ad5-97a4-b27bb05240b2",
   "metadata": {},
   "source": [
    "```R\n",
    "wmonfromx <- function (xd, prior = \"laplace\", a = 0.5,\n",
    "                       tol = 1e-08, maxits = 20) {\n",
    "#\n",
    "#  Find the monotone marginal maximum likelihood estimate of the\n",
    "#   mixing weights for the Laplace prior with parameter a.  It is\n",
    "#   assumed that the noise variance is equal to one.\n",
    "#\n",
    "#  Find the beta values and the minimum weight\n",
    "#  \n",
    "#  Current version allows for standard deviation of 1 only.\n",
    "#\n",
    "\tpr <- substring(prior, 1, 1)\n",
    "\tnx <- length(xd)\n",
    "\twmin <- wfromt(sqrt(2 * log(length(xd))), prior=prior, a=a)\n",
    "\twinit <- 1\n",
    "\tif(pr == \"l\")\n",
    "\t  beta <- beta.laplace(xd, a=a)\n",
    "\tif(pr == \"c\")\n",
    "           beta <- beta.cauchy(xd)\n",
    "        \n",
    "#   now conduct iterated weighted least squares isotone regression\n",
    "#    \n",
    "\tw <- rep(winit, length(beta))\n",
    "\tfor(j in (1:maxits)) {\n",
    "\t\taa <- w + 1/beta\n",
    "\t\tps <- w + aa\n",
    "\t\tww <- 1/aa^2\n",
    "\t\twnew <- isotone(ps, ww, increasing = FALSE)\n",
    "\t\twnew <- pmax(wmin, wnew)\n",
    "\t\twnew <- pmin(1, wnew)\n",
    "\t\tzinc <- max(abs(range(wnew - w)))\n",
    "\t\tw <- wnew\n",
    "\t\tif(zinc < tol)\n",
    " \t\t  return(w)\n",
    "\t}\n",
    "        \n",
    "\twarning(\"More iterations required to achieve convergence\")\n",
    "\treturn(w)\n",
    "}\n",
    "```"
   ]
  },
  {
   "cell_type": "markdown",
   "id": "6f488fa4-12a4-4356-ac7f-e26c99ce23d2",
   "metadata": {},
   "source": [
    "결과"
   ]
  },
  {
   "cell_type": "markdown",
   "id": "62516f87-b142-4ae8-a8ea-c695e6e6e193",
   "metadata": {},
   "source": [
    "- Python"
   ]
  },
  {
   "cell_type": "code",
   "execution_count": 6,
   "id": "97c98c4a-4cd9-454c-877d-5f6a381ca9c4",
   "metadata": {},
   "outputs": [
    {
     "data": {
      "text/plain": [
       "tensor([0.310296803712845, 0.310296803712845, 0.310296803712845,\n",
       "        0.310296803712845, 0.310296803712845, 0.310296803712845,\n",
       "        0.310296803712845, 0.310296803712845, 0.310296803712845,\n",
       "        0.310296803712845])"
      ]
     },
     "execution_count": 6,
     "metadata": {},
     "output_type": "execute_result"
    }
   ],
   "source": [
    "ebayesthresh_torch.wmonfromx(xd = torch.randn(10), prior = \"laplace\")"
   ]
  },
  {
   "cell_type": "markdown",
   "id": "97651a1e-10a9-41f5-89ce-a1c374b10933",
   "metadata": {},
   "source": [
    "- R"
   ]
  },
  {
   "cell_type": "markdown",
   "id": "d605664e-5c7c-4301-b6cc-fad3e20cc6fb",
   "metadata": {},
   "source": [
    "```R\n",
    "> wmonfromx(xd <- rnorm(10,0,1), prior = \"laplace\")\n",
    " [1] 0.3102968 0.3102968 0.3102968 0.3102968 0.3102968 0.3102968 0.3102968 0.3102968 0.3102968 0.3102968\n",
    "```"
   ]
  },
  {
   "cell_type": "markdown",
   "id": "de563388-b43d-4896-982c-8b94f458ce7a",
   "metadata": {},
   "source": [
    "> wmonfromx(xd=rnorm(5, s = 1), prior = \"laplace\", a = 0.5, tol = 1e-08, maxits = 20)\n",
    "[1] 0.9363989 0.9363989 0.9363989 0.4522184 0.4522184"
   ]
  },
  {
   "cell_type": "markdown",
   "id": "3294200a-fe6c-4c83-8bb9-0375c1228cc0",
   "metadata": {},
   "source": [
    "# vecbinsolv"
   ]
  },
  {
   "cell_type": "code",
   "execution_count": 4,
   "id": "30bd5963-4e82-45fe-ae69-1801eef6c02c",
   "metadata": {},
   "outputs": [],
   "source": [
    "zf = torch.tensor([1.0, 2.0, 3.0])\n",
    "# zf = 0\n",
    "def fun(t, *args, **kwargs):\n",
    "    c = kwargs.get('c', 0)\n",
    "    t = torch.tensor(t, dtype=torch.float32)  \n",
    "    return t**2 + c\n",
    "tlo = 0\n",
    "thi = 10\n",
    "nits = 30"
   ]
  },
  {
   "cell_type": "code",
   "execution_count": 5,
   "id": "48e8e0d2-5612-4a41-9e85-4e8981f48d16",
   "metadata": {},
   "outputs": [],
   "source": [
    "if isinstance(zf, (int, float, str, bool)) :\n",
    "        nz = len(str(zf))\n",
    "else : nz = zf.shape[0]"
   ]
  },
  {
   "cell_type": "code",
   "execution_count": 6,
   "id": "a92d20b3-4bcd-4217-bc67-e2043f96f32e",
   "metadata": {},
   "outputs": [],
   "source": [
    "tlo = torch.full((nz,), tlo, dtype=torch.float32)"
   ]
  },
  {
   "cell_type": "code",
   "execution_count": 7,
   "id": "f47ba0a9-6b4c-48cf-8ca4-dfa3eee0de9c",
   "metadata": {},
   "outputs": [
    {
     "data": {
      "text/plain": [
       "tensor([0., 0., 0.])"
      ]
     },
     "execution_count": 7,
     "metadata": {},
     "output_type": "execute_result"
    }
   ],
   "source": [
    "tlo"
   ]
  },
  {
   "cell_type": "code",
   "execution_count": 8,
   "id": "94f3af35-6844-465d-a213-dd7814bf0583",
   "metadata": {},
   "outputs": [],
   "source": [
    "thi = torch.full((nz,), thi, dtype=torch.float32)"
   ]
  },
  {
   "cell_type": "code",
   "execution_count": 9,
   "id": "cb8ffa82-05d9-4bed-8880-77ff50cba9ce",
   "metadata": {},
   "outputs": [
    {
     "data": {
      "text/plain": [
       "tensor([10., 10., 10.])"
      ]
     },
     "execution_count": 9,
     "metadata": {},
     "output_type": "execute_result"
    }
   ],
   "source": [
    "thi"
   ]
  },
  {
   "cell_type": "code",
   "execution_count": 10,
   "id": "86d25047-bc4b-4f0b-92d5-806ef53ade90",
   "metadata": {},
   "outputs": [],
   "source": [
    "if tlo.numel() != nz:\n",
    "    raise ValueError(\"Lower constraint has to be homogeneous or have the same length as the number of functions.\")\n",
    "if thi.numel() != nz:\n",
    "    raise ValueError(\"Upper constraint has to be homogeneous or have the same length as the number of functions.\")"
   ]
  },
  {
   "cell_type": "code",
   "execution_count": 11,
   "id": "28a3e935-335d-4005-bba2-6d73d9dccf62",
   "metadata": {},
   "outputs": [
    {
     "name": "stderr",
     "output_type": "stream",
     "text": [
      "<ipython-input-4-e566ef62e8d0>:5: UserWarning: To copy construct from a tensor, it is recommended to use sourceTensor.clone().detach() or sourceTensor.clone().detach().requires_grad_(True), rather than torch.tensor(sourceTensor).\n",
      "  t = torch.tensor(t, dtype=torch.float32)\n"
     ]
    }
   ],
   "source": [
    "c=2\n",
    "\n",
    "for _ in range(nits):\n",
    "    tmid = (tlo + thi) / 2\n",
    "    if fun == ebayesthresh_torch.cauchy_threshzero:\n",
    "        fmid = fun(tmid, w=w)\n",
    "    elif fun == ebayesthresh_torch.laplace_threshzero:\n",
    "        fmid = fun(tmid, s=s,w=w,a=a)\n",
    "    elif fun == ebayesthresh_torch.beta_cauchy:\n",
    "        fmid = fun(tmid)\n",
    "    elif fun == ebayesthresh_torch.beta_laplace:\n",
    "        fmid = fun(tmid, z=z,w=w)\n",
    "    else:\n",
    "        fmid = fun(tmid)\n",
    "        \n",
    "    indt = fmid <= zf\n",
    "    \n",
    "    tlo = torch.where(indt, tmid, tlo)\n",
    "    thi = torch.where(~indt, tmid, thi)"
   ]
  },
  {
   "cell_type": "code",
   "execution_count": 12,
   "id": "719a350b-31ae-4b62-817e-c432adce8f23",
   "metadata": {},
   "outputs": [
    {
     "data": {
      "text/plain": [
       "tensor([1.000000000000000, 1.414213657379150, 1.732050895690918])"
      ]
     },
     "execution_count": 12,
     "metadata": {},
     "output_type": "execute_result"
    }
   ],
   "source": [
    "tmid"
   ]
  },
  {
   "cell_type": "code",
   "execution_count": 13,
   "id": "d1eafbcb-96d8-4a64-b4c0-f13da4635ab6",
   "metadata": {},
   "outputs": [
    {
     "data": {
      "text/plain": [
       "tensor([1.000000000000000, 2.000000238418579, 3.000000238418579])"
      ]
     },
     "execution_count": 13,
     "metadata": {},
     "output_type": "execute_result"
    }
   ],
   "source": [
    "fmid"
   ]
  },
  {
   "cell_type": "code",
   "execution_count": 14,
   "id": "59a9e806-a2f8-4d42-ac82-369d63f81794",
   "metadata": {},
   "outputs": [
    {
     "data": {
      "text/plain": [
       "tensor([ True, False, False])"
      ]
     },
     "execution_count": 14,
     "metadata": {},
     "output_type": "execute_result"
    }
   ],
   "source": [
    "indt"
   ]
  },
  {
   "cell_type": "code",
   "execution_count": 15,
   "id": "a3db3cef-bf60-4d1c-ac78-15da61bfc958",
   "metadata": {},
   "outputs": [
    {
     "data": {
      "text/plain": [
       "tensor([1.000000000000000, 1.414213538169861, 1.732050776481628])"
      ]
     },
     "execution_count": 15,
     "metadata": {},
     "output_type": "execute_result"
    }
   ],
   "source": [
    "tlo"
   ]
  },
  {
   "cell_type": "code",
   "execution_count": 16,
   "id": "faac9dbc-acd3-4f99-9e69-74ba8550ee15",
   "metadata": {},
   "outputs": [
    {
     "data": {
      "text/plain": [
       "tensor([1.000000119209290, 1.414213657379150, 1.732050895690918])"
      ]
     },
     "execution_count": 16,
     "metadata": {},
     "output_type": "execute_result"
    }
   ],
   "source": [
    "thi"
   ]
  },
  {
   "cell_type": "code",
   "execution_count": 17,
   "id": "30f4432c-f4bb-4ff4-8e39-612b40168553",
   "metadata": {},
   "outputs": [
    {
     "data": {
      "text/plain": [
       "tensor([1.000000000000000, 1.414213657379150, 1.732050895690918])"
      ]
     },
     "execution_count": 17,
     "metadata": {},
     "output_type": "execute_result"
    }
   ],
   "source": [
    "tsol = (tlo + thi) / 2\n",
    "tsol"
   ]
  },
  {
   "cell_type": "markdown",
   "id": "4fb99aff-74cd-42bf-b899-442a70b45a17",
   "metadata": {},
   "source": [
    "R코드"
   ]
  },
  {
   "cell_type": "markdown",
   "id": "f481cd95-1af1-4b39-b3cd-9e06a9b39075",
   "metadata": {},
   "source": [
    "```R\n",
    "vecbinsolv <- function(zf, fun, tlo, thi, nits = 30, ...) {\n",
    "#\n",
    "#  Given a monotone function fun, and a vector of values\n",
    "#   zf find a vector of numbers t such that f(t) = zf.\n",
    "#   The solution is constrained to lie on the interval (tlo, thi)\n",
    "#\n",
    "#  The function fun may be a vector of increasing functions \n",
    "#\n",
    "#  Present version is inefficient because separate calculations\n",
    "#   are done for each element of z, and because bisections are done even\n",
    "#   if the solution is outside the range supplied\n",
    "#    \n",
    "#  It is important that fun should work for vector arguments.\n",
    "#   Additional arguments to fun can be passed through ...\n",
    "#\n",
    "#  Works by successive bisection, carrying out nits harmonic bisections\n",
    "#   of the interval between tlo and thi\n",
    "#\n",
    "\tnz <- length(zf)\n",
    "\tif(length(tlo)==1) tlo <- rep(tlo, nz)\n",
    "\tif(length(tlo)!=nz)\n",
    "          stop(paste(\"Lower constraint has to be homogeneous\",\n",
    "                     \"or has the same length as #functions.\"))\n",
    "\tif(length(thi)==1) thi <- rep(thi, nz)\n",
    "\tif(length(thi)!=nz)\n",
    "          stop(paste(\"Upper constraint has to be homogeneous\",\n",
    "                     \"or has the same length as #functions.\"))\n",
    "\n",
    "#  carry out nits bisections\n",
    "#\n",
    "\tfor(jj in (1:nits)) {\n",
    "\t\ttmid <- (tlo + thi)/2\n",
    "\t\tfmid <- fun(tmid, ...)\n",
    "\t\tindt <- (fmid <= zf)\n",
    "\t\ttlo[indt] <- tmid[indt]\n",
    "\t\tthi[!indt] <- tmid[!indt]\n",
    "\t}\n",
    "\ttsol <- (tlo + thi)/2\n",
    "\treturn(tsol)\n",
    "}\n",
    "```"
   ]
  },
  {
   "cell_type": "markdown",
   "id": "b57c9353-2d1a-4011-b6e3-5c34e472d5d9",
   "metadata": {},
   "source": [
    "결과"
   ]
  },
  {
   "cell_type": "markdown",
   "id": "15fd07f5-e1d9-490a-b193-8d8e3a2c4933",
   "metadata": {},
   "source": [
    "- Python"
   ]
  },
  {
   "cell_type": "code",
   "execution_count": 88,
   "id": "76d5c14d-e588-4e10-9f34-de24a985f6de",
   "metadata": {},
   "outputs": [
    {
     "name": "stderr",
     "output_type": "stream",
     "text": [
      "<ipython-input-88-32a969af0501>:3: UserWarning: To copy construct from a tensor, it is recommended to use sourceTensor.clone().detach() or sourceTensor.clone().detach().requires_grad_(True), rather than torch.tensor(sourceTensor).\n",
      "  t = torch.tensor(t, dtype=torch.float32)\n"
     ]
    },
    {
     "data": {
      "text/plain": [
       "tensor([0.500000000000000, 1.000000000000000, 1.500000000000000])"
      ]
     },
     "execution_count": 88,
     "metadata": {},
     "output_type": "execute_result"
    }
   ],
   "source": [
    "zf = torch.tensor([1.0, 2.0, 3.0])\n",
    "def fun(t, *args, **kwargs):\n",
    "    t = torch.tensor(t, dtype=torch.float32)  \n",
    "    return 2*t \n",
    "tlo = 0\n",
    "thi = 10\n",
    "ebayesthresh_torch.vecbinsolv(zf, fun, tlo, thi)"
   ]
  },
  {
   "cell_type": "code",
   "execution_count": 89,
   "id": "cf82d855-f17c-4cba-9fdc-8665f15b6c9b",
   "metadata": {},
   "outputs": [
    {
     "name": "stderr",
     "output_type": "stream",
     "text": [
      "<ipython-input-89-f546c8917aa8>:2: UserWarning: To copy construct from a tensor, it is recommended to use sourceTensor.clone().detach() or sourceTensor.clone().detach().requires_grad_(True), rather than torch.tensor(sourceTensor).\n",
      "  t = torch.tensor(t, dtype=torch.float32)\n"
     ]
    },
    {
     "data": {
      "text/plain": [
       "tensor([1.000000000000000, 1.414213657379150, 1.732050895690918])"
      ]
     },
     "execution_count": 89,
     "metadata": {},
     "output_type": "execute_result"
    }
   ],
   "source": [
    "def fun(t, *args, **kwargs):\n",
    "    t = torch.tensor(t, dtype=torch.float32)  \n",
    "    return t**2\n",
    "ebayesthresh_torch.vecbinsolv(zf, fun, tlo, thi)"
   ]
  },
  {
   "cell_type": "markdown",
   "id": "66883648-d636-4d2e-99b7-5b0dcb2a631d",
   "metadata": {},
   "source": [
    "- R"
   ]
  },
  {
   "cell_type": "markdown",
   "id": "77217641-b6d6-4696-b800-0860570c2b06",
   "metadata": {},
   "source": [
    "```R\n",
    "> zf <- c(1, 2, 3)\n",
    "> fun <- function(x) 2*x\n",
    "> tlo <- 0\n",
    "> thi <- 10\n",
    "> vecbinsolv(zf, fun, tlo, thi)\n",
    "[1] 0.5 1.0 1.5\n",
    "> fun <- function(x) x**2\n",
    "> vecbinsolv(zf, fun, tlo, thi)\n",
    "[1] 1.000000 1.414214 1.732051\n",
    "```"
   ]
  },
  {
   "cell_type": "markdown",
   "id": "8dcd0d7e-eace-46fd-b80c-f612d161771a",
   "metadata": {},
   "source": [
    "# tfromw"
   ]
  },
  {
   "cell_type": "markdown",
   "id": "cb479aec-fd7f-459a-8d59-62a7f0eb1375",
   "metadata": {},
   "source": [
    "> Given a single value or a vector of weights (i.e. prior probabilities that the parameter is nonzero) and sampling standard deviations (sd equals 1 for Cauchy prior), find the corresponding threshold(s) under the specified prior."
   ]
  },
  {
   "cell_type": "markdown",
   "id": "8d740a87-3df5-4ae8-bd18-e565fe6c7eab",
   "metadata": {},
   "source": [
    "주어진 가중치 벡터 w와 s(표준 편차)에 대해 지정된 사전 분포를 사용하여 임계값 또는 해당 가중치에 대한 임계값 벡터 찾기. 만약 bayesfac=True이면 베이즈 요인 임계값을 찾고, 그렇지 않으면 사후 중앙값 임계값을 찾음. 만약 Laplace 사전 분포를 사용하는 경우, a는 역 스케일(즉, rate) 매개변수의 값 나옴.\n",
    "\n",
    "Parameters:\n",
    "\n",
    "- w (array-like): 가중치 벡터\n",
    "- s (float): 표준 편차(default: 1)\n",
    "- prior (str): 사전 분포 (default: \"laplace\")\n",
    "- bayesfac (bool): 베이즈 요인 임계값을 찾는지 여부 (default: False)\n",
    "- a (float): a < 20인 입력 값 (default: 0.5)"
   ]
  },
  {
   "cell_type": "code",
   "execution_count": 11,
   "id": "ec94de7a-416d-4eed-9a4e-c56c7397f29c",
   "metadata": {},
   "outputs": [],
   "source": [
    "w = torch.tensor([0.05, 0.1])\n",
    "# w = 0.5\n",
    "s = 1\n",
    "prior = \"laplace\"\n",
    "# prior = \"c\"\n",
    "bayesfac = False\n",
    "a = 0.5"
   ]
  },
  {
   "cell_type": "code",
   "execution_count": 12,
   "id": "8c675780-b0d8-4568-b6c3-83fbb1418e4f",
   "metadata": {},
   "outputs": [
    {
     "data": {
      "text/plain": [
       "'l'"
      ]
     },
     "execution_count": 12,
     "metadata": {},
     "output_type": "execute_result"
    }
   ],
   "source": [
    "pr = prior[0:1]\n",
    "pr"
   ]
  },
  {
   "cell_type": "code",
   "execution_count": 13,
   "id": "5c7da948-d1a7-49df-817e-f835f6129d7b",
   "metadata": {},
   "outputs": [],
   "source": [
    "if not isinstance(w, torch.Tensor):\n",
    "    w = torch.tensor(w)\n",
    "if not isinstance(s, torch.Tensor):\n",
    "    s = torch.tensor(s)\n",
    "if not isinstance(a, torch.Tensor):\n",
    "    a = torch.tensor(a)\n",
    "\n",
    "if bayesfac:\n",
    "    z = 1 / w - 2\n",
    "    if pr == \"l\":\n",
    "        if w.dim() == 0 or len(w) >= len(s):\n",
    "            zz = z\n",
    "        else:\n",
    "            zz = z.repeat(len(s))\n",
    "        tt = ebayesthresh_torch.vecbinsolv(zz, ebayesthresh_torch.beta_laplace, 0, 10, s=s, a=a)\n",
    "    elif pr == \"c\":\n",
    "        tt = ebayesthresh_torch.vecbinsolv(z, ebayesthresh_torch.beta_cauchy, 0, 10)\n",
    "else:\n",
    "    z = torch.tensor(0.0)\n",
    "    if pr == \"l\":\n",
    "        zz = torch.zeros(max(s.numel(), w.numel()))\n",
    "        upper_bound = s * (25 + s * a)\n",
    "        tt = ebayesthresh_torch.vecbinsolv(zz, ebayesthresh_torch.laplace_threshzero, 0, upper_bound, s=s, w=w, a=a)\n",
    "    elif pr == \"c\":\n",
    "        tt = ebayesthresh_torch.vecbinsolv(z, ebayesthresh_torch.cauchy_threshzero, 0, 10, w=w)"
   ]
  },
  {
   "cell_type": "code",
   "execution_count": 34,
   "id": "77c4a023-c639-40b7-aa4e-a9a505d602a7",
   "metadata": {},
   "outputs": [],
   "source": [
    "# if bayesfac:\n",
    "#     z = 1 / w - 2\n",
    "#     if pr == \"l\":\n",
    "#         if isinstance(s, (int, float, str, bool)) and w.numel() >= len(str(s)):\n",
    "#             zz = z\n",
    "#         elif isinstance(s, (int, float, str, bool)) and w.numel() < len(str(s)):\n",
    "#             zz = torch.tensor([z] * len(str(s)))  # numpy 배열을 torch 텐서로 변환\n",
    "#         elif len(w) >= len(s):\n",
    "#             zz = z\n",
    "#         elif len(w) < len(str(s)):\n",
    "#             zz = torch.tensor([z] * len(s))  # numpy 배열을 torch 텐서로 변환\n",
    "#         tt = ebayesthresh_torch.vecbinsolv(zz, ebayesthresh_torch.beta_laplace, 0, 10, 30, s=torch.tensor(s), w=torch.tensor(w), a=torch.tensor(a))\n",
    "#     elif pr == \"c\":\n",
    "#         tt = ebayesthresh_torch.vecbinsolv(z, ebayesthresh_torch.beta_cauchy, 0, 10, 30, w=torch.tensor(w))\n",
    "\n",
    "# else:\n",
    "#     z = 0\n",
    "#     if pr == \"l\":\n",
    "#         if isinstance(s, (int, float, str, bool)) and not isinstance(w, (int, float, str, bool)):\n",
    "#             zz = torch.zeros(max(len(str(s)), w.numel()), dtype=torch.float)  # numpy 배열을 torch 텐서로 변환\n",
    "#         elif not isinstance(s, (int, float, str, bool)) and isinstance(w, (int, float, str, bool)):\n",
    "#             zz = torch.zeros(max(len(s), len(str(w))), dtype=torch.float)  # numpy 배열을 torch 텐서로 변환\n",
    "#         elif isinstance(s, (int, float, str, bool)) and isinstance(w, (int, float, str, bool)):\n",
    "#             zz = torch.zeros(max(len(str(s)), len(str(w))), dtype=torch.float)  # numpy 배열을 torch 텐서로 변환\n",
    "#         else:\n",
    "#             zz = torch.tensor([0] * max(len(s), w.numel()), dtype=torch.float)  # numpy 배열을 torch 텐서로 변환\n",
    "#         tt = ebayesthresh_torch.vecbinsolv(zz, ebayesthresh_torch.laplace_threshzero, 0, s * (25 + s * a), 30, s=torch.tensor(s), w=torch.tensor(w), a=torch.tensor(a))\n",
    "#     elif pr == \"c\":\n",
    "#         tt = ebayesthresh_torch.vecbinsolv(z, ebayesthresh_torch.cauchy_threshzero, 0, 10, 30, w=torch.tensor(w))\n"
   ]
  },
  {
   "cell_type": "code",
   "execution_count": 35,
   "id": "5406994f-3a88-4243-bea0-30f6afd32bbd",
   "metadata": {},
   "outputs": [
    {
     "data": {
      "text/plain": [
       "tensor([3.115211963653564, 2.816306114196777])"
      ]
     },
     "execution_count": 35,
     "metadata": {},
     "output_type": "execute_result"
    }
   ],
   "source": [
    "tt"
   ]
  },
  {
   "cell_type": "markdown",
   "id": "67e5afb6-6240-46c2-827e-cc7fdb789662",
   "metadata": {},
   "source": [
    "R코드"
   ]
  },
  {
   "cell_type": "markdown",
   "id": "e51be23a-55e4-43b1-8460-92c5b231c70a",
   "metadata": {},
   "source": [
    "```R\n",
    "tfromw <- function(w, s = 1, prior = \"laplace\", bayesfac = FALSE, a = 0.5) {\n",
    "#\n",
    "#  Given the vector of weights w and s (sd), find the threshold or\n",
    "#   vector of thresholds corresponding to these weights, under the\n",
    "#   specified prior.\n",
    "#  If bayesfac=TRUE the Bayes factor thresholds are found, otherwise\n",
    "#   the posterior median thresholds are found.\n",
    "#  If the Laplace prior is used, a gives the value of the inverse scale\n",
    "#   (i.e., rate) parameter\n",
    "#\n",
    "\tpr <- substring(prior, 1, 1)\n",
    "\tif(bayesfac) {\n",
    "\t\tz <- 1/w - 2\n",
    "\t\tif(pr == \"l\"){ \n",
    "\t\t  if(length(w)>=length(s)) {\n",
    "\t\t    zz <- z\n",
    "\t\t  } else { zz <- rep(z, length(s)) }\n",
    "\t\t  tt <- vecbinsolv(zz, beta.laplace, 0, 10, s = s, a = a)\n",
    "\t\t}\n",
    "\t\tif(pr == \"c\")\n",
    "\t\t\ttt <- vecbinsolv(z, beta.cauchy, 0, 10)\n",
    "\t}\n",
    "\telse {\n",
    "\t  z <- 0\n",
    "\t\tif(pr == \"l\"){\n",
    "\t\t  zz <- rep(0, max(length(s), length(w)))\n",
    "                  \n",
    "\t\t  # When x/s-s*a>25, laplace.threshzero has value\n",
    "\t\t  #  close to 1/2; The boundary value of x can be\n",
    "\t\t  #  treated as the upper bound for search.\n",
    "  \t\t  tt <- vecbinsolv(zz, laplace.threshzero, 0, s*(25+s*a),\n",
    "                                   s = s, w = w, a = a)\n",
    "\t\t}\n",
    "\t\tif(pr == \"c\")\n",
    "\t\t\ttt <- vecbinsolv(z, cauchy.threshzero, 0, 10, w = w)\n",
    "\t}\n",
    "\treturn(tt)\n",
    "}\n",
    "```"
   ]
  },
  {
   "cell_type": "markdown",
   "id": "7ee6a15a-d891-4c31-a52b-098ee2bf3cd0",
   "metadata": {},
   "source": [
    "결과"
   ]
  },
  {
   "cell_type": "markdown",
   "id": "1fce1caf-f725-472a-b3ae-a2624ce67880",
   "metadata": {},
   "source": [
    "- Python"
   ]
  },
  {
   "cell_type": "code",
   "execution_count": 16,
   "id": "d4b0444b-1034-4f31-82d1-802ca5b2aeb0",
   "metadata": {},
   "outputs": [
    {
     "data": {
      "text/plain": [
       "tensor([3.115211963653564, 2.816306114196777])"
      ]
     },
     "execution_count": 16,
     "metadata": {},
     "output_type": "execute_result"
    }
   ],
   "source": [
    "ebayesthresh_torch.tfromw(torch.tensor([0.05, 0.1]), s = 1)"
   ]
  },
  {
   "cell_type": "code",
   "execution_count": 17,
   "id": "63474424-ddc0-46bb-8364-fd50bf75e62f",
   "metadata": {},
   "outputs": [
    {
     "name": "stderr",
     "output_type": "stream",
     "text": [
      "/home/csy/Dropbox/sy_hub/posts/1_Note/ebayesthresh_torch/utils.py:17: UserWarning: To copy construct from a tensor, it is recommended to use sourceTensor.clone().detach() or sourceTensor.clone().detach().requires_grad_(True), rather than torch.tensor(sourceTensor).\n",
      "  x = torch.tensor(x,dtype=torch.float64)\n"
     ]
    },
    {
     "data": {
      "text/plain": [
       "tensor([3.259634971618652, 2.959740638732910])"
      ]
     },
     "execution_count": 17,
     "metadata": {},
     "output_type": "execute_result"
    }
   ],
   "source": [
    "ebayesthresh_torch.tfromw(torch.tensor([0.05, 0.1]), prior = \"cauchy\", bayesfac = True)"
   ]
  },
  {
   "cell_type": "markdown",
   "id": "e98087ed-a06c-4f0c-b010-c0f692458e78",
   "metadata": {},
   "source": [
    "- R"
   ]
  },
  {
   "cell_type": "markdown",
   "id": "fb681462-323c-417a-bc0e-b75af0769857",
   "metadata": {},
   "source": [
    "```R\n",
    "> tfromw(c(0.05, 0.1), s = 1)\n",
    "[1] 3.115212 2.816306\n",
    "> tfromw(c(0.05, 0.1), prior = \"cauchy\", bayesfac = TRUE)\n",
    "[1] 3.259635 2.959740\n",
    "```"
   ]
  },
  {
   "cell_type": "markdown",
   "id": "b509f71b-4fd3-4fe3-905b-fd1b3144f6dd",
   "metadata": {},
   "source": [
    "# tfromx"
   ]
  },
  {
   "cell_type": "markdown",
   "id": "036e86e2-5e93-40dd-8231-8d0a15274e6c",
   "metadata": {},
   "source": [
    "> Given a vector of data and standard deviations (sd equals 1 for Cauchy prior), find the value or vector (heterogeneous sampling standard deviation with Laplace prior) of thresholds corresponding to the marginal maximum likelihood choice of weight."
   ]
  },
  {
   "cell_type": "markdown",
   "id": "9616c67c-5bb8-4520-9f5b-0a58cef5670a",
   "metadata": {},
   "source": [
    "*데이터가 주어졌을때, 가중치의 한계 최대 우도로 임계값 찾는 함수*"
   ]
  },
  {
   "cell_type": "code",
   "execution_count": 31,
   "id": "310b64a8-5a86-4de0-8320-c6b034e86223",
   "metadata": {},
   "outputs": [],
   "source": [
    "x=torch.tensor([0.05,0.1])\n",
    "s=1\n",
    "prior=\"laplace\"\n",
    "bayesfac=False\n",
    "a=torch.tensor(0.5)\n",
    "universalthresh=True"
   ]
  },
  {
   "cell_type": "code",
   "execution_count": 32,
   "id": "15879d8d-af17-4b65-97be-4f5783dc25ee",
   "metadata": {},
   "outputs": [],
   "source": [
    "pr = prior[0:1]"
   ]
  },
  {
   "cell_type": "code",
   "execution_count": 33,
   "id": "e91e1aa7-7949-496a-b647-d1f0e4ba25fb",
   "metadata": {},
   "outputs": [],
   "source": [
    "if pr == \"c\":\n",
    "    s = 1"
   ]
  },
  {
   "cell_type": "code",
   "execution_count": 34,
   "id": "556fc367-b945-4bb0-93d4-4b8e84a466e3",
   "metadata": {},
   "outputs": [
    {
     "name": "stderr",
     "output_type": "stream",
     "text": [
      "/home/csy/Dropbox/sy_hub/posts/1_Note/ebayesthresh_torch/utils.py:552: UserWarning: To copy construct from a tensor, it is recommended to use sourceTensor.clone().detach() or sourceTensor.clone().detach().requires_grad_(True), rather than torch.tensor(sourceTensor).\n",
      "  tt = torch.tensor(tt, dtype=torch.float64)\n",
      "/home/csy/Dropbox/sy_hub/posts/1_Note/ebayesthresh_torch/utils.py:556: UserWarning: To copy construct from a tensor, it is recommended to use sourceTensor.clone().detach() or sourceTensor.clone().detach().requires_grad_(True), rather than torch.tensor(sourceTensor).\n",
      "  tma = torch.tensor(tt / s - s * a)\n"
     ]
    }
   ],
   "source": [
    "if pr == \"l\" and torch.isnan(a):\n",
    "    wa = ebayesthresh_torch.wandafromx(x, s, universalthresh)\n",
    "    w = wa['w']\n",
    "    a = wa['a']\n",
    "else:\n",
    "    w = ebayesthresh_torch.wfromx(x, s, prior=prior, a=a)"
   ]
  },
  {
   "cell_type": "code",
   "execution_count": 35,
   "id": "02cf5a6e-0cd0-4453-b1cf-c583e4da036a",
   "metadata": {},
   "outputs": [
    {
     "data": {
      "text/plain": [
       "tensor([1.177409887313843])"
      ]
     },
     "execution_count": 35,
     "metadata": {},
     "output_type": "execute_result"
    }
   ],
   "source": [
    "ebayesthresh_torch.tfromw(w, s, prior=prior, bayesfac=bayesfac, a=a)"
   ]
  },
  {
   "cell_type": "markdown",
   "id": "951a0161-f09c-4a8d-bb3d-95d02a993930",
   "metadata": {},
   "source": [
    "R코드"
   ]
  },
  {
   "cell_type": "markdown",
   "id": "10fdfaf2-a97b-4b09-b1f2-b122105c70c2",
   "metadata": {},
   "source": [
    "- Python"
   ]
  },
  {
   "cell_type": "code",
   "execution_count": 5,
   "id": "a41ad3ed-bba3-456c-84b7-065385208787",
   "metadata": {},
   "outputs": [
    {
     "data": {
      "text/plain": [
       "tensor(1.177409887313843)"
      ]
     },
     "execution_count": 5,
     "metadata": {},
     "output_type": "execute_result"
    }
   ],
   "source": [
    "ebayesthresh_torch.tfromx(x=torch.tensor([0.05,0.1]), s = 1, prior = \"laplace\", bayesfac = False, a = 0.5, universalthresh = True)"
   ]
  },
  {
   "cell_type": "code",
   "execution_count": 6,
   "id": "fd41ae58-e558-4edb-954e-8e30c4603399",
   "metadata": {},
   "outputs": [
    {
     "data": {
      "text/plain": [
       "tensor(2.158299446105957)"
      ]
     },
     "execution_count": 6,
     "metadata": {},
     "output_type": "execute_result"
    }
   ],
   "source": [
    "ebayesthresh_torch.tfromx(x = torch.cat((torch.randn(90), torch.randn(10) + 5), dim=0), prior = \"cauchy\")"
   ]
  },
  {
   "cell_type": "markdown",
   "id": "10dea38f-1ec7-40a6-8075-c69f065507b5",
   "metadata": {},
   "source": [
    "- R"
   ]
  },
  {
   "cell_type": "markdown",
   "id": "15bfb4d6-de6c-4828-974c-f66e7d3f5fba",
   "metadata": {},
   "source": [
    "```R\n",
    "> tfromx(x=c(0.05,0.1), s = 1, prior = \"laplace\", bayesfac = FALSE, a = 0.5,universalthresh = TRUE)\n",
    "[1] 1.17741\n",
    "> tfromx(x=c(rnorm(90, mean=0, sd=1), rnorm(10, mean=5, sd=1)), prior = \"cauchy\")\n",
    "[1] 2.301196\n",
    "```"
   ]
  },
  {
   "cell_type": "markdown",
   "id": "c7b98bf9-e48c-4ed0-a5ee-e4d20fc96f2f",
   "metadata": {},
   "source": [
    "# wpost_laplace"
   ]
  },
  {
   "cell_type": "markdown",
   "id": "ae79df3a-33e2-4896-b318-b70a11596a21",
   "metadata": {},
   "source": [
    "> Calculate the posterior weight for non-zero effect"
   ]
  },
  {
   "cell_type": "markdown",
   "id": "beaf0e42-7457-48a0-be40-38fbdb61b3a1",
   "metadata": {},
   "source": [
    "- 0이 아닌 효과에 대한 사후 가중치 계산"
   ]
  },
  {
   "cell_type": "code",
   "execution_count": 61,
   "id": "7a7f72af-2f77-4d52-a920-bc3ba542831b",
   "metadata": {},
   "outputs": [],
   "source": [
    "w= 0.5\n",
    "x = torch.tensor([-2.0,1.0,0.0,-4.0,8.0,50.0])\n",
    "s = 1\n",
    "a = 0.5"
   ]
  },
  {
   "cell_type": "code",
   "execution_count": 62,
   "id": "4da89605-18ee-4b80-970a-654875db9779",
   "metadata": {},
   "outputs": [
    {
     "data": {
      "text/plain": [
       "tensor([ 8.898520296511427e-01, -3.800417166060107e-01, -5.618177717731538e-01,\n",
       "         2.854594666723506e+02,  1.026980615772411e+12, 6.344539544172600e+265],\n",
       "       dtype=torch.float64)"
      ]
     },
     "execution_count": 62,
     "metadata": {},
     "output_type": "execute_result"
    }
   ],
   "source": [
    "laplace_beta = ebayesthresh_torch.beta_laplace(x, s, a)\n",
    "laplace_beta"
   ]
  },
  {
   "cell_type": "code",
   "execution_count": 63,
   "id": "c6e8bcee-8887-4576-bfaa-f2334aee3083",
   "metadata": {},
   "outputs": [
    {
     "data": {
      "text/plain": [
       "tensor([0.653961521302972, 0.382700153299694, 0.304677821507423,\n",
       "        0.996521248676984, 0.999999999999026, 1.000000000000000],\n",
       "       dtype=torch.float64)"
      ]
     },
     "execution_count": 63,
     "metadata": {},
     "output_type": "execute_result"
    }
   ],
   "source": [
    "1 - (1 - w) / (1 + w * laplace_beta)"
   ]
  },
  {
   "cell_type": "markdown",
   "id": "e73b1fa0-f0c4-4076-b4d2-656177d28c3f",
   "metadata": {},
   "source": [
    "R코드"
   ]
  },
  {
   "cell_type": "markdown",
   "id": "7fbba2e1-a726-4f06-a97f-249b268095f7",
   "metadata": {},
   "source": [
    "```R\n",
    "wpost.laplace <- function(w, x, s = 1, a = 0.5)\n",
    "#\n",
    "#  Calculate the posterior weight for non-zero effect\n",
    "#\n",
    "  1 - (1 - w)/(1 + w * beta.laplace(x, s, a))\n",
    "```"
   ]
  },
  {
   "cell_type": "markdown",
   "id": "f3bc684e-13a9-49fd-9fb0-c9cf532a32f0",
   "metadata": {},
   "source": [
    "결과"
   ]
  },
  {
   "cell_type": "markdown",
   "id": "b3e1f93c-9bd4-400d-a450-926b8c00c8f7",
   "metadata": {},
   "source": [
    "- Python"
   ]
  },
  {
   "cell_type": "code",
   "execution_count": 64,
   "id": "def1cb56-68a3-4b8d-9b26-4f0b41967eb6",
   "metadata": {},
   "outputs": [
    {
     "data": {
      "text/plain": [
       "tensor([0.653961521302972, 0.382700153299694, 0.304677821507423,\n",
       "        0.996521248676984, 0.999999999999026, 1.000000000000000],\n",
       "       dtype=torch.float64)"
      ]
     },
     "execution_count": 64,
     "metadata": {},
     "output_type": "execute_result"
    }
   ],
   "source": [
    "ebayesthresh_torch.wpost_laplace(0.5,torch.tensor([-2,1,0,-4,8,50]))"
   ]
  },
  {
   "cell_type": "markdown",
   "id": "12c31b28-ed4d-4f3c-a8b5-8745a642a6ab",
   "metadata": {},
   "source": [
    "- R"
   ]
  },
  {
   "cell_type": "markdown",
   "id": "f0ae80ef-0844-44d7-bc77-724b22a9e693",
   "metadata": {},
   "source": [
    "이베이즈 깃헙에 있는데 R 패키지에는 없음."
   ]
  },
  {
   "cell_type": "markdown",
   "id": "92869d44-9de1-4fde-8238-d47d30b94e01",
   "metadata": {},
   "source": [
    "# zetafromx"
   ]
  },
  {
   "cell_type": "markdown",
   "id": "349590e2-ba8d-4274-8b92-94805902b1eb",
   "metadata": {},
   "source": [
    "Description"
   ]
  },
  {
   "cell_type": "markdown",
   "id": "1a242b47-95ab-49fb-a723-2f5a3a0577b7",
   "metadata": {},
   "source": [
    "> Suppose a sequence of data has underlying mean vector with elements $\\theta_i$. Given the sequence of data, and a vector of scale factors cs and a lower limit pilo, this routine finds the marginal maximum likelihood estimate of the parameter zeta such that the prior probability of $\\theta_i$ being nonzero is of the form median(pilo, zeta*cs, 1)."
   ]
  },
  {
   "cell_type": "markdown",
   "id": "92dac42c-3b8c-421b-81ea-45db7b1c8213",
   "metadata": {},
   "source": [
    "*파라메터 제타의 최대 우도 추정치 계산*"
   ]
  },
  {
   "cell_type": "code",
   "execution_count": 22,
   "id": "5b91e931-72bd-4852-bb53-9d5725b17699",
   "metadata": {},
   "outputs": [],
   "source": [
    "xd = torch.tensor([-2.0,1.0,0.0,-4.0,8.0,50.0])\n",
    "cs = torch.tensor([2.0,3.0,5.0,6.0,1.0,-1.0])\n",
    "pilo = None\n",
    "prior=\"laplace\"\n",
    "# priir=\"c\"\n",
    "a=torch.tensor(0.5)"
   ]
  },
  {
   "cell_type": "code",
   "execution_count": 23,
   "id": "9c7f843e-f94c-4946-b7c7-afd88dd83479",
   "metadata": {},
   "outputs": [
    {
     "data": {
      "text/plain": [
       "'l'"
      ]
     },
     "execution_count": 23,
     "metadata": {},
     "output_type": "execute_result"
    }
   ],
   "source": [
    "pr = prior[0:1]\n",
    "pr"
   ]
  },
  {
   "cell_type": "code",
   "execution_count": 24,
   "id": "ef0df944-2d23-4cf5-a311-20f2cb094daa",
   "metadata": {},
   "outputs": [
    {
     "data": {
      "text/plain": [
       "6"
      ]
     },
     "execution_count": 24,
     "metadata": {},
     "output_type": "execute_result"
    }
   ],
   "source": [
    "nx = len(xd)\n",
    "nx"
   ]
  },
  {
   "cell_type": "code",
   "execution_count": 25,
   "id": "f8011590-91fc-4e61-aa41-99e0bcb2f453",
   "metadata": {
    "tags": []
   },
   "outputs": [],
   "source": [
    "if pilo is None:\n",
    "    pilo = ebayesthresh_torch.wfromt(torch.sqrt(2 * torch.log(torch.tensor(nx, dtype=torch.float))), prior=prior, a=a)"
   ]
  },
  {
   "cell_type": "code",
   "execution_count": 26,
   "id": "7cd451ea-8d3f-4304-8bfd-f4dc90570c1b",
   "metadata": {},
   "outputs": [
    {
     "data": {
      "text/plain": [
       "tensor(0.412115022681705, dtype=torch.float64)"
      ]
     },
     "execution_count": 26,
     "metadata": {},
     "output_type": "execute_result"
    }
   ],
   "source": [
    "pilo"
   ]
  },
  {
   "cell_type": "code",
   "execution_count": 27,
   "id": "fb5a583d-b92b-4547-9015-59239aba84df",
   "metadata": {},
   "outputs": [],
   "source": [
    "if pr == \"l\":\n",
    "    beta = ebayesthresh_torch.beta_laplace(xd, a=a)\n",
    "elif pr == \"c\":\n",
    "    beta = ebayesthresh_torch.beta_cauchy(xd)"
   ]
  },
  {
   "cell_type": "code",
   "execution_count": 28,
   "id": "5524b7e6-52dc-42f4-b214-af23583f33ed",
   "metadata": {},
   "outputs": [
    {
     "data": {
      "text/plain": [
       "tensor([ 8.898520296511427e-01, -3.800417166060107e-01, -5.618177717731538e-01,\n",
       "         2.854594666723506e+02,  1.026980615772411e+12, 6.344539544172600e+265],\n",
       "       dtype=torch.float64)"
      ]
     },
     "execution_count": 28,
     "metadata": {},
     "output_type": "execute_result"
    }
   ],
   "source": [
    "beta"
   ]
  },
  {
   "cell_type": "code",
   "execution_count": 29,
   "id": "a0ca53c8-2197-477d-a635-43685654b340",
   "metadata": {},
   "outputs": [
    {
     "data": {
      "text/plain": [
       "tensor([ 0.206057518720627,  0.137371674180031,  0.082423008978367,\n",
       "         0.068685837090015,  0.412115037441254, -0.412115037441254])"
      ]
     },
     "execution_count": 29,
     "metadata": {},
     "output_type": "execute_result"
    }
   ],
   "source": [
    "zs1 = pilo / cs\n",
    "zs1"
   ]
  },
  {
   "cell_type": "code",
   "execution_count": 30,
   "id": "5de5a5d9-de9a-4d41-a743-3324cbf9b78e",
   "metadata": {},
   "outputs": [
    {
     "data": {
      "text/plain": [
       "tensor([ 0.500000000000000,  0.333333343267441,  0.200000002980232,\n",
       "         0.166666671633720,  1.000000000000000, -1.000000000000000])"
      ]
     },
     "execution_count": 30,
     "metadata": {},
     "output_type": "execute_result"
    }
   ],
   "source": [
    "zs2 = 1 / cs\n",
    "zs2"
   ]
  },
  {
   "cell_type": "code",
   "execution_count": 31,
   "id": "eeaaecd6-5fea-44eb-873f-3687eb53362e",
   "metadata": {},
   "outputs": [
    {
     "data": {
      "text/plain": [
       "tensor([-1.000000000000000, -0.412115037441254,  0.068685837090015,\n",
       "         0.082423008978367,  0.137371674180031,  0.166666671633720,\n",
       "         0.200000002980232,  0.206057518720627,  0.333333343267441,\n",
       "         0.412115037441254,  0.500000000000000,  1.000000000000000])"
      ]
     },
     "execution_count": 31,
     "metadata": {},
     "output_type": "execute_result"
    }
   ],
   "source": [
    "zj = torch.sort(torch.unique(torch.cat((zs1, zs2)))).values\n",
    "zj"
   ]
  },
  {
   "cell_type": "code",
   "execution_count": 32,
   "id": "86681619-8e0f-4586-8783-04edcdbd25c6",
   "metadata": {},
   "outputs": [
    {
     "data": {
      "text/plain": [
       "tensor([  1.779704059302285e+00,  -1.140125149818032e+00,\n",
       "         -2.809088858865769e+00,   1.712756800034103e+03,\n",
       "          1.026980615772411e+12, -6.344539544172600e+265], dtype=torch.float64)"
      ]
     },
     "execution_count": 32,
     "metadata": {},
     "output_type": "execute_result"
    }
   ],
   "source": [
    "cb = cs * beta\n",
    "cb"
   ]
  },
  {
   "cell_type": "code",
   "execution_count": 33,
   "id": "d272598a-fd8a-447e-a94a-53c7fc76b361",
   "metadata": {},
   "outputs": [
    {
     "data": {
      "text/plain": [
       "12"
      ]
     },
     "execution_count": 33,
     "metadata": {},
     "output_type": "execute_result"
    }
   ],
   "source": [
    "mz = len(zj)\n",
    "mz"
   ]
  },
  {
   "cell_type": "code",
   "execution_count": 34,
   "id": "f1ded7f9-2df3-43a0-8fda-e4c8619d0192",
   "metadata": {},
   "outputs": [],
   "source": [
    "zlmax = None\n",
    "zlmax"
   ]
  },
  {
   "cell_type": "code",
   "execution_count": 35,
   "id": "62284f9f-9c06-4faf-9ed4-e27aacdd3170",
   "metadata": {},
   "outputs": [
    {
     "data": {
      "text/plain": [
       "tensor([False, False, False, False, False, False, False, False, False, False,\n",
       "        False, False])"
      ]
     },
     "execution_count": 35,
     "metadata": {},
     "output_type": "execute_result"
    }
   ],
   "source": [
    "lmin =  torch.zeros(mz, dtype=torch.bool)\n",
    "lmin"
   ]
  },
  {
   "cell_type": "code",
   "execution_count": 36,
   "id": "1b10107d-797b-4ed5-984f-8e331fd5775d",
   "metadata": {},
   "outputs": [],
   "source": [
    "for j in range(1, mz - 1):\n",
    "    ze = zj[j]\n",
    "    cbil = cb[(ze > zs1) & (ze <= zs2)]\n",
    "    ld = torch.sum(cbil / (1 + ze * cbil))\n",
    "    if ld <= 0:\n",
    "        cbir = cb[(ze >= zs1) & (ze < zs2)]\n",
    "        rd = torch.sum(cbir / (1 + ze * cbir))\n",
    "        lmin[j] = rd >= 0"
   ]
  },
  {
   "cell_type": "code",
   "execution_count": 37,
   "id": "d804c933-5aef-4f82-ab83-3a7b9d1a8219",
   "metadata": {},
   "outputs": [
    {
     "data": {
      "text/plain": [
       "tensor([1.779704059302285], dtype=torch.float64)"
      ]
     },
     "execution_count": 37,
     "metadata": {},
     "output_type": "execute_result"
    }
   ],
   "source": [
    "cbir"
   ]
  },
  {
   "cell_type": "code",
   "execution_count": 38,
   "id": "659b45eb-4748-4719-8515-d56772118273",
   "metadata": {},
   "outputs": [
    {
     "data": {
      "text/plain": [
       "tensor(1.117038220864095, dtype=torch.float64)"
      ]
     },
     "execution_count": 38,
     "metadata": {},
     "output_type": "execute_result"
    }
   ],
   "source": [
    "rd"
   ]
  },
  {
   "cell_type": "code",
   "execution_count": 39,
   "id": "3ea03e5b-1536-4a1e-a2e6-7582b2d7677b",
   "metadata": {},
   "outputs": [
    {
     "data": {
      "text/plain": [
       "tensor([False,  True,  True, False, False, False, False, False,  True, False,\n",
       "        False, False])"
      ]
     },
     "execution_count": 39,
     "metadata": {},
     "output_type": "execute_result"
    }
   ],
   "source": [
    "lmin"
   ]
  },
  {
   "cell_type": "code",
   "execution_count": 40,
   "id": "efbe827d-a278-4d92-be0e-ddc915800c86",
   "metadata": {},
   "outputs": [
    {
     "data": {
      "text/plain": [
       "tensor([], dtype=torch.float64)"
      ]
     },
     "execution_count": 40,
     "metadata": {},
     "output_type": "execute_result"
    }
   ],
   "source": [
    "cbir = cb[zj[0] == zs1]\n",
    "cbir"
   ]
  },
  {
   "cell_type": "code",
   "execution_count": 41,
   "id": "7917d593-1d8f-4b3e-a345-465d578d6354",
   "metadata": {},
   "outputs": [
    {
     "data": {
      "text/plain": [
       "tensor(0., dtype=torch.float64)"
      ]
     },
     "execution_count": 41,
     "metadata": {},
     "output_type": "execute_result"
    }
   ],
   "source": [
    "rd = torch.sum(cbir / (1 + zj[0] * cbir))\n",
    "rd"
   ]
  },
  {
   "cell_type": "code",
   "execution_count": 42,
   "id": "eac943be-ca28-4cf0-9c22-7d1a23d85684",
   "metadata": {},
   "outputs": [],
   "source": [
    "if rd > 0:\n",
    "    lmin[0] = True\n",
    "else:\n",
    "    zlmax = zj[0].tolist()"
   ]
  },
  {
   "cell_type": "code",
   "execution_count": 43,
   "id": "1c668306-e080-4262-b997-ca1452b41aed",
   "metadata": {},
   "outputs": [
    {
     "data": {
      "text/plain": [
       "-1.0"
      ]
     },
     "execution_count": 43,
     "metadata": {},
     "output_type": "execute_result"
    }
   ],
   "source": [
    "zlmax"
   ]
  },
  {
   "cell_type": "code",
   "execution_count": 44,
   "id": "b79af5d9-a6f6-4514-bfe0-84c2b00f5361",
   "metadata": {},
   "outputs": [
    {
     "data": {
      "text/plain": [
       "tensor([1.026980615772411e+12], dtype=torch.float64)"
      ]
     },
     "execution_count": 44,
     "metadata": {},
     "output_type": "execute_result"
    }
   ],
   "source": [
    "cbil = cb[zj[mz - 1] == zs2]\n",
    "cbil"
   ]
  },
  {
   "cell_type": "code",
   "execution_count": 45,
   "id": "b154d550-81b3-4d78-aeac-baa536df5211",
   "metadata": {},
   "outputs": [
    {
     "data": {
      "text/plain": [
       "tensor([1.026980615772411e+12], dtype=torch.float64)"
      ]
     },
     "execution_count": 45,
     "metadata": {},
     "output_type": "execute_result"
    }
   ],
   "source": [
    "cbil = cb[zj[mz - 1] == zs2]\n",
    "cbil"
   ]
  },
  {
   "cell_type": "code",
   "execution_count": 46,
   "id": "88ec8228-9c2c-4b38-b674-6f3d1cd260f9",
   "metadata": {},
   "outputs": [
    {
     "data": {
      "text/plain": [
       "tensor(0.999999999999026, dtype=torch.float64)"
      ]
     },
     "execution_count": 46,
     "metadata": {},
     "output_type": "execute_result"
    }
   ],
   "source": [
    "ld = torch.sum(cbil / (1 + zj[mz - 1] * cbil))\n",
    "ld"
   ]
  },
  {
   "cell_type": "code",
   "execution_count": 47,
   "id": "cf4bc128-4408-4ac2-9c80-b66fffba688b",
   "metadata": {},
   "outputs": [],
   "source": [
    "if ld < 0:\n",
    "    lmin[mz - 1] = True\n",
    "else:\n",
    "    zlmax = [(zj[mz - 1]).tolist()]"
   ]
  },
  {
   "cell_type": "code",
   "execution_count": 48,
   "id": "7126b557-118a-4182-9cb6-c42a5d8d819a",
   "metadata": {},
   "outputs": [
    {
     "data": {
      "text/plain": [
       "tensor([-0.412115037441254,  0.068685837090015,  0.333333343267441])"
      ]
     },
     "execution_count": 48,
     "metadata": {},
     "output_type": "execute_result"
    }
   ],
   "source": [
    "zlmin = zj[lmin]\n",
    "zlmin"
   ]
  },
  {
   "cell_type": "code",
   "execution_count": 49,
   "id": "f4f11400-8560-492f-b435-2fc56c4ea487",
   "metadata": {},
   "outputs": [
    {
     "data": {
      "text/plain": [
       "3"
      ]
     },
     "execution_count": 49,
     "metadata": {},
     "output_type": "execute_result"
    }
   ],
   "source": [
    "nlmin = len(zlmin)\n",
    "nlmin"
   ]
  },
  {
   "cell_type": "code",
   "execution_count": 50,
   "id": "dc6ab330-20e8-4cff-9633-bca373b23ca9",
   "metadata": {},
   "outputs": [],
   "source": [
    "for j in range(1, nlmin):\n",
    "    zlo = zlmin[j - 1]\n",
    "    zhi = zlmin[j]\n",
    "    ze = (zlo + zhi) / 2.0\n",
    "    zstep = (zhi - zlo) / 2.0\n",
    "    for nit in range(1,11):\n",
    "        cbi = cb[(ze >= zs1) & (ze <= zs2)]\n",
    "        likd = torch.sum(cbi / (1 + ze * cbi))\n",
    "        zstep /= 2.0\n",
    "        ze += zstep * torch.sign(likd)\n",
    "    zlmax.append(ze.item())"
   ]
  },
  {
   "cell_type": "code",
   "execution_count": 51,
   "id": "07f7e29e-8070-42d2-aeda-1f1db424decd",
   "metadata": {},
   "outputs": [
    {
     "data": {
      "text/plain": [
       "tensor([ 1.000000000000000, -0.171714603900909,  0.155910953879356])"
      ]
     },
     "execution_count": 51,
     "metadata": {},
     "output_type": "execute_result"
    }
   ],
   "source": [
    "zlmax = torch.tensor(zlmax)\n",
    "zlmax"
   ]
  },
  {
   "cell_type": "code",
   "execution_count": 52,
   "id": "169849aa-adf7-49c8-ae06-e90e025edc4a",
   "metadata": {},
   "outputs": [
    {
     "data": {
      "text/plain": [
       "tensor([nan, nan, nan])"
      ]
     },
     "execution_count": 52,
     "metadata": {},
     "output_type": "execute_result"
    }
   ],
   "source": [
    "zm = torch.full((len(zlmax),), float('nan'))\n",
    "zm"
   ]
  },
  {
   "cell_type": "code",
   "execution_count": 53,
   "id": "e82a0663-c04f-4a60-858f-c829d906f856",
   "metadata": {},
   "outputs": [
    {
     "data": {
      "text/plain": [
       "tensor([ 1.000000000000000, -0.171714603900909,  0.155910953879356])"
      ]
     },
     "execution_count": 53,
     "metadata": {},
     "output_type": "execute_result"
    }
   ],
   "source": [
    "zlmax"
   ]
  },
  {
   "cell_type": "code",
   "execution_count": 54,
   "id": "b433c266-d1a0-4b41-9428-9b07212fdb23",
   "metadata": {},
   "outputs": [],
   "source": [
    "for j in range(len(zlmax)):\n",
    "    pz = torch.maximum(zs1, torch.min(zlmax[j],zs2))\n",
    "    zm[j] = torch.sum(torch.log(1 + cb * pz))"
   ]
  },
  {
   "cell_type": "code",
   "execution_count": 55,
   "id": "1dbf4015-f214-4172-b310-e3f97f1ad1ee",
   "metadata": {},
   "outputs": [
    {
     "data": {
      "text/plain": [
       "tensor([ 0.206057518720627,  0.155910953879356,  0.155910953879356,\n",
       "         0.155910953879356,  0.412115037441254, -0.412115037441254])"
      ]
     },
     "execution_count": 55,
     "metadata": {},
     "output_type": "execute_result"
    }
   ],
   "source": [
    "pz"
   ]
  },
  {
   "cell_type": "code",
   "execution_count": 56,
   "id": "92f1ea15-0ec1-4f15-b1d3-5fadc929a4bc",
   "metadata": {},
   "outputs": [
    {
     "data": {
      "text/plain": [
       "tensor([643.794677734375000, 642.572204589843750, 643.049011230468750])"
      ]
     },
     "execution_count": 56,
     "metadata": {},
     "output_type": "execute_result"
    }
   ],
   "source": [
    "zm"
   ]
  },
  {
   "cell_type": "code",
   "execution_count": 57,
   "id": "9be69d5d-f4c4-45cc-ad97-bc9e00bed4f8",
   "metadata": {},
   "outputs": [
    {
     "data": {
      "text/plain": [
       "tensor([1.])"
      ]
     },
     "execution_count": 57,
     "metadata": {},
     "output_type": "execute_result"
    }
   ],
   "source": [
    "zeta_candidates = zlmax[zm == torch.max(zm)]\n",
    "zeta_candidates"
   ]
  },
  {
   "cell_type": "code",
   "execution_count": 58,
   "id": "225f2b93-45ab-4c06-9224-3f04339f236e",
   "metadata": {},
   "outputs": [
    {
     "data": {
      "text/plain": [
       "tensor(1.)"
      ]
     },
     "execution_count": 58,
     "metadata": {},
     "output_type": "execute_result"
    }
   ],
   "source": [
    "zeta = torch.min(zeta_candidates)\n",
    "zeta"
   ]
  },
  {
   "cell_type": "code",
   "execution_count": 59,
   "id": "4b244ca9-359f-426e-bd48-f64214f459ce",
   "metadata": {},
   "outputs": [
    {
     "data": {
      "text/plain": [
       "tensor([1.000000000000000, 1.000000000000000, 1.000000000000000,\n",
       "        1.000000000000000, 1.000000000000000, 0.412115037441254])"
      ]
     },
     "execution_count": 59,
     "metadata": {},
     "output_type": "execute_result"
    }
   ],
   "source": [
    "w = torch.clamp(torch.min(torch.tensor([1.0], dtype=torch.float), torch.max(zeta * cs, pilo)), min=0.0, max=1.0)\n",
    "w"
   ]
  },
  {
   "cell_type": "markdown",
   "id": "c7cbf8bb-5a8d-490a-8316-a5a7823678ca",
   "metadata": {},
   "source": [
    "R 코드"
   ]
  },
  {
   "cell_type": "markdown",
   "id": "c30d043a-8bbd-4502-ba43-c753380b7c73",
   "metadata": {},
   "source": [
    "```R\n",
    "zetafromx <- function(xd, cs, pilo = NA, prior = \"laplace\", a = 0.5) {\n",
    "#\n",
    "#  Given a sequence xd, a vector of scale factors cs and\n",
    "#   a lower limit pilo, find the marginal maximum likelihood\n",
    "#   estimate of the parameter zeta such that the prior prob\n",
    "#   is of the form median( pilo, zeta*cs, 1)\n",
    "#\n",
    "#  If pilo=NA then it is calculated according to the sample size\n",
    "#   to corrrespond to the universal threshold\n",
    "#  \n",
    "#  Find the beta values and the minimum weight if necessary\n",
    "#\n",
    "#  Current version allows for standard deviation of 1 only.\n",
    "#\n",
    "\tpr <- substring(prior, 1, 1)\n",
    "\tnx <- length(xd)\n",
    "\tif (is.na(pilo))\n",
    "          pilo <- wfromt(sqrt(2 * log(length(xd))), prior=prior, a=a)\n",
    "\tif(pr == \"l\")\n",
    "\t  beta <- beta.laplace(xd, a=a)\n",
    "\tif(pr == \"c\") beta <- beta.cauchy(xd)\n",
    "#\n",
    "#  Find jump points zj in derivative of log likelihood as function\n",
    "#    of z, and other preliminary calculations\n",
    "#\n",
    "\tzs1 <- pilo/cs\n",
    "\tzs2 <- 1/cs\n",
    "\tzj <- sort(unique(c(zs1, zs2)))\n",
    "\tcb <- cs * beta\n",
    "\tmz <- length(zj)\n",
    "\tzlmax <- NULL\n",
    "        \n",
    "#  Find left and right derivatives at each zj and check which are\n",
    "#  local minima Check internal zj first\n",
    "\tlmin <- rep(FALSE, mz)\n",
    "\tfor(j in (2:(mz - 1))) {\n",
    "\t\tze <- zj[j]\n",
    "\t\tcbil <- cb[(ze > zs1) & (ze <= zs2)]\n",
    "\t\tld <- sum(cbil/(1 + ze * cbil))\n",
    "\t\tif(ld <= 0) {\n",
    "\t\t\tcbir <- cb[(ze >= zs1) & (ze < zs2)]\n",
    "\t\t\trd <- sum(cbir/(1 + ze * cbir))\n",
    "\t\t\tlmin[j] <- (rd >= 0)\n",
    "\t\t}\n",
    "\t}\n",
    "#\n",
    "#  Deal with the two end points in turn, finding right deriv\n",
    "#   at lower end and left deriv at upper\n",
    "#\n",
    "#  In each case the corresponding end point is either a local min\n",
    "#   or a local max depending on the sign of the relevant deriv\n",
    "#\n",
    "\tcbir <- cb[zj[1] == zs1]\n",
    "\trd <- sum(cbir/(1 + zj[1] * cbir))\n",
    "\tif(rd > 0) lmin[1] <- TRUE else zlmax <- zj[1]\n",
    "\tcbil <- cb[zj[mz] == zs2]\n",
    "\tld <- sum(cbil/(1 + zj[mz] * cbil))\n",
    "\tif(ld < 0) lmin[mz] <- TRUE else zlmax <- zj[mz]\n",
    "        \n",
    "#  Flag all local minima and do a binary search between them to find\n",
    "#  the local maxima\n",
    "#\n",
    "\tzlmin <- zj[lmin]\n",
    "\tnlmin <- length(zlmin)\n",
    "\tif(nlmin >= 2) for(j in (2:nlmin)) {\n",
    "\t\t\tzlo <- zlmin[j - 1]\n",
    "\t\t\tzhi <- zlmin[j]\n",
    "\t\t\tze <- (zlo + zhi)/2\n",
    "\t\t\tzstep <- (zhi - zlo)/2\n",
    "\t\t\tfor(nit in (1:10)) {\n",
    "\t\t\t\tcbi <- cb[(ze >= zs1) & (ze <= zs2)]\n",
    "\t\t\t\tlikd <- sum(cbi/(1 + ze * cbi))\n",
    "\t\t\t\tzstep <- zstep/2\n",
    "\t\t\t\tze <- ze + zstep * sign(likd)\n",
    "\t\t\t}\n",
    "\t\t\tzlmax <- c(zlmax, ze)\n",
    "\t\t}\n",
    "#\n",
    "#  Evaluate all local maxima and find global max; use smaller value\n",
    "#   if there is an exact tie for the global maximum.\n",
    "#\n",
    "\tnlmax <- length(zlmax)\n",
    "\tzm <- rep(NA, nlmax)\n",
    "\tfor(j in (1:nlmax)) {\n",
    "\t\tpz <- pmax(zs1, pmin(zlmax[j], zs2))\n",
    "\t\tzm[j] <- sum(log(1 + cb * pz))\n",
    "\t}\n",
    "\tzeta <- zlmax[zm == max(zm)]\n",
    "\tzeta <- min(zeta)\n",
    "\tw <- pmin(1, pmax(zeta*cs, pilo)) \n",
    "\treturn(list(zeta=zeta, w=w, cs=cs, pilo=pilo))\n",
    "}\n",
    "```"
   ]
  },
  {
   "cell_type": "markdown",
   "id": "1fd0e79c-e1da-41b5-9230-38b2f577d37b",
   "metadata": {},
   "source": [
    "결과"
   ]
  },
  {
   "cell_type": "markdown",
   "id": "ff4099f4-3003-47b1-9b8d-8d8d39ad0ca7",
   "metadata": {},
   "source": [
    "- Python"
   ]
  },
  {
   "cell_type": "code",
   "execution_count": 60,
   "id": "e056ec31-2f03-4ee7-8f6b-0b2262608d98",
   "metadata": {},
   "outputs": [
    {
     "data": {
      "text/plain": [
       "{'zeta': 1.0,\n",
       " 'w': tensor([1.000000000000000, 1.000000000000000, 1.000000000000000,\n",
       "         1.000000000000000, 1.000000000000000, 0.412115037441254]),\n",
       " 'cs': tensor([ 2,  3,  5,  6,  1, -1]),\n",
       " 'pilo': tensor(0.412115022681705, dtype=torch.float64)}"
      ]
     },
     "execution_count": 60,
     "metadata": {},
     "output_type": "execute_result"
    }
   ],
   "source": [
    "ebayesthresh_torch.zetafromx(torch.tensor([-2,1,0,-4,8,50]),torch.tensor([2,3,5,6,1,-1]))"
   ]
  },
  {
   "cell_type": "markdown",
   "id": "ae937392-f8aa-4be1-a02d-0c84dcca99e9",
   "metadata": {},
   "source": [
    "- R"
   ]
  },
  {
   "cell_type": "markdown",
   "id": "57ecf88e-5a70-41f3-b015-31d3c97233cc",
   "metadata": {},
   "source": [
    "```R\n",
    "> zetafromx(c(-2,1,0,-4,8,50),c(2,3,5,6,1,-1))\n",
    "$zeta\n",
    "[1] 1\n",
    "\n",
    "$w\n",
    "[1] 1.000000 1.000000 1.000000 1.000000 1.000000 0.412115\n",
    "\n",
    "$cs\n",
    "[1]  2  3  5  6  1 -1\n",
    "\n",
    "$pilo\n",
    "[1] 0.412115\n",
    "```"
   ]
  },
  {
   "cell_type": "markdown",
   "id": "7dfa3db4-71af-4df9-a3d6-d7a32049450c",
   "metadata": {},
   "source": [
    "---"
   ]
  },
  {
   "cell_type": "markdown",
   "id": "185eb1a2-fd78-481d-95a9-507819410931",
   "metadata": {
    "tags": []
   },
   "source": [
    "# Layer"
   ]
  },
  {
   "cell_type": "code",
   "execution_count": 18,
   "id": "792b3741-240a-460f-9626-5d496d46839d",
   "metadata": {},
   "outputs": [],
   "source": [
    "import torch\n",
    "import torch.nn as nn\n",
    "import torch.nn.functional as F\n",
    "import matplotlib.pyplot as plt"
   ]
  },
  {
   "cell_type": "code",
   "execution_count": 19,
   "id": "a35b6538-891e-4dd1-b279-deae4cbd7710",
   "metadata": {},
   "outputs": [],
   "source": [
    "def make_Psi(T):\n",
    "    W = torch.zeros((T,T))\n",
    "    for i in range(T):\n",
    "        for j in range(T):\n",
    "            if i==j :\n",
    "                W[i,j] = 0\n",
    "            elif torch.abs(torch.tensor(i - j)) <= 1 : \n",
    "                W[i,j] = 1\n",
    "    d = torch.tensor(W.sum(dim=1))\n",
    "    D = torch.diag(d)\n",
    "    L = torch.diag(1/torch.sqrt(d)) @ (D-W) @ torch.diag(1/torch.sqrt(d))\n",
    "    lamb, Psi = torch.linalg.eigh(L)\n",
    "    return Psi"
   ]
  },
  {
   "cell_type": "code",
   "execution_count": 20,
   "id": "68c6ae49-e2c8-4e9a-ae5e-bd7e9d0832bb",
   "metadata": {},
   "outputs": [
    {
     "data": {
      "text/plain": [
       "[<matplotlib.lines.Line2D at 0x7f3e809da4f0>]"
      ]
     },
     "execution_count": 20,
     "metadata": {},
     "output_type": "execute_result"
    },
    {
     "data": {
      "image/png": "[encoded data removed]",
      "text/plain": [
       "<Figure size 720x432 with 1 Axes>"
      ]
     },
     "metadata": {
      "needs_background": "light"
     },
     "output_type": "display_data"
    }
   ],
   "source": [
    "T = 100\n",
    "t = torch.arange(T)/T * 10\n",
    "y_true = 3*torch.sin(0.5*t) + 1.2*torch.sin(1.0*t) + 0.5*torch.sin(1.2*t) \n",
    "y = y_true + torch.randn(T)\n",
    "plt.figure(figsize=(10,6))\n",
    "plt.plot(t,y_true)"
   ]
  },
  {
   "cell_type": "code",
   "execution_count": 21,
   "id": "76f4e9de-3bd3-48fa-8692-3e074788526b",
   "metadata": {},
   "outputs": [
    {
     "data": {
      "text/plain": [
       "[<matplotlib.lines.Line2D at 0x7f3e7e86cc10>]"
      ]
     },
     "execution_count": 21,
     "metadata": {},
     "output_type": "execute_result"
    },
    {
     "data": {
      "image/png": "[encoded data removed]",
      "text/plain": [
       "<Figure size 432x288 with 1 Axes>"
      ]
     },
     "metadata": {
      "needs_background": "light"
     },
     "output_type": "display_data"
    }
   ],
   "source": [
    "plt.plot(t,y,'o')\n",
    "plt.plot(t,y_true,'--')"
   ]
  },
  {
   "cell_type": "code",
   "execution_count": 22,
   "id": "4e61d9cf-4665-44e6-9abd-de41aada06cb",
   "metadata": {},
   "outputs": [
    {
     "name": "stderr",
     "output_type": "stream",
     "text": [
      "<ipython-input-22-3371f885709e>:1: UserWarning: To copy construct from a tensor, it is recommended to use sourceTensor.clone().detach() or sourceTensor.clone().detach().requires_grad_(True), rather than torch.tensor(sourceTensor).\n",
      "  f = torch.tensor(y)\n",
      "<ipython-input-19-cc3dd6c135ce>:9: UserWarning: To copy construct from a tensor, it is recommended to use sourceTensor.clone().detach() or sourceTensor.clone().detach().requires_grad_(True), rather than torch.tensor(sourceTensor).\n",
      "  d = torch.tensor(W.sum(dim=1))\n"
     ]
    }
   ],
   "source": [
    "f = torch.tensor(y)\n",
    "if len(f.shape)==1: f = f.reshape(-1,1)\n",
    "T,N = f.shape\n",
    "Psi = make_Psi(T)\n",
    "fbar = Psi.T @ f # apply dft "
   ]
  },
  {
   "cell_type": "code",
   "execution_count": 23,
   "id": "dbcab11e-3834-4388-9dbe-ebba699b5170",
   "metadata": {},
   "outputs": [
    {
     "data": {
      "text/plain": [
       "[<matplotlib.lines.Line2D at 0x7f3fb0380040>]"
      ]
     },
     "execution_count": 23,
     "metadata": {},
     "output_type": "execute_result"
    },
    {
     "data": {
      "image/png": "[encoded data removed]",
      "text/plain": [
       "<Figure size 432x288 with 1 Axes>"
      ]
     },
     "metadata": {
      "needs_background": "light"
     },
     "output_type": "display_data"
    }
   ],
   "source": [
    "plt.plot(t,fbar**2) # periodogram "
   ]
  },
  {
   "cell_type": "code",
   "execution_count": 24,
   "id": "89fcd9dc-bfaa-4e54-bd14-5134fd2ef70f",
   "metadata": {},
   "outputs": [],
   "source": [
    "fbar_threshed = ebayesthresh_torch.ebayesthresh(fbar[:,0])"
   ]
  },
  {
   "cell_type": "code",
   "execution_count": 25,
   "id": "d1b529f6-aac6-444f-8ad0-d912dee7779d",
   "metadata": {},
   "outputs": [
    {
     "data": {
      "text/plain": [
       "[<matplotlib.lines.Line2D at 0x7f3e7e892610>]"
      ]
     },
     "execution_count": 25,
     "metadata": {},
     "output_type": "execute_result"
    },
    {
     "data": {
      "image/png": "[encoded data removed]",
      "text/plain": [
       "<Figure size 432x288 with 1 Axes>"
      ]
     },
     "metadata": {
      "needs_background": "light"
     },
     "output_type": "display_data"
    }
   ],
   "source": [
    "# fbar_threshed = np.stack([ebayesthresh(FloatVector(fbar[:,i])) for i in range(N)],axis=1)\n",
    "plt.plot((fbar**2)) # periodogram \n",
    "plt.plot((fbar_threshed**2)) \n"
   ]
  },
  {
   "cell_type": "code",
   "execution_count": 26,
   "id": "b413e3e9-0976-497a-bb23-4e66b4fd06ff",
   "metadata": {},
   "outputs": [
    {
     "data": {
      "text/plain": [
       "[<matplotlib.lines.Line2D at 0x7f3e75b26a30>]"
      ]
     },
     "execution_count": 26,
     "metadata": {},
     "output_type": "execute_result"
    },
    {
     "data": {
      "image/png": "[encoded data removed]",
      "text/plain": [
       "<Figure size 432x288 with 1 Axes>"
      ]
     },
     "metadata": {
      "needs_background": "light"
     },
     "output_type": "display_data"
    }
   ],
   "source": [
    "plt.plot((fbar**2)[20:80]) # periodogram \n",
    "plt.plot((fbar_threshed**2)[20:80]) "
   ]
  },
  {
   "cell_type": "code",
   "execution_count": 36,
   "id": "80db53fc-8399-49d7-bea0-675fd81e1b01",
   "metadata": {},
   "outputs": [
    {
     "data": {
      "text/plain": [
       "[<matplotlib.lines.Line2D at 0x7f3e5c71e220>]"
      ]
     },
     "execution_count": 36,
     "metadata": {},
     "output_type": "execute_result"
    },
    {
     "data": {
      "image/png": "[encoded data removed]",
      "text/plain": [
       "<Figure size 720x432 with 1 Axes>"
      ]
     },
     "metadata": {
      "needs_background": "light"
     },
     "output_type": "display_data"
    }
   ],
   "source": [
    "yhat = Psi @ fbar_threshed.float() # inverse dft\n",
    "plt.figure(figsize=(10,6))\n",
    "plt.plot(t,y,'.')\n",
    "plt.plot(t,y_true,'--')\n",
    "plt.plot(t,yhat)"
   ]
  },
  {
   "cell_type": "code",
   "execution_count": 38,
   "id": "499d301e-35e6-4c6f-a75c-67440f1a76bc",
   "metadata": {},
   "outputs": [],
   "source": [
    "class ebayesthresh_nn(torch.nn.Module):\n",
    "    def __init__(self):\n",
    "        super().__init__()\n",
    "    def forward(self,input):\n",
    "        return ebayesthresh_torch.ebayesthresh(input)"
   ]
  },
  {
   "cell_type": "code",
   "execution_count": 39,
   "id": "0f247663-39e8-4a79-9d13-201e5d6f0bc1",
   "metadata": {},
   "outputs": [],
   "source": [
    "thresh_layer = ebayesthresh_nn()"
   ]
  },
  {
   "cell_type": "code",
   "execution_count": 40,
   "id": "10c15875-a5de-4349-8254-73e075490218",
   "metadata": {},
   "outputs": [
    {
     "data": {
      "text/plain": [
       "[<matplotlib.lines.Line2D at 0x7f3e5c259d60>]"
      ]
     },
     "execution_count": 40,
     "metadata": {},
     "output_type": "execute_result"
    },
    {
     "data": {
      "image/png": "[encoded data removed]",
      "text/plain": [
       "<Figure size 432x288 with 1 Axes>"
      ]
     },
     "metadata": {
      "needs_background": "light"
     },
     "output_type": "display_data"
    }
   ],
   "source": [
    "plt.plot(fbar[:,0])"
   ]
  },
  {
   "cell_type": "code",
   "execution_count": 41,
   "id": "e4010662-d50d-48ba-a870-00cf52dafeb2",
   "metadata": {},
   "outputs": [
    {
     "name": "stderr",
     "output_type": "stream",
     "text": [
      "/home/csy/Dropbox/sy_hub/posts/1_Note/ebayesthresh_torch/utils.py:70: UserWarning: To copy construct from a tensor, it is recommended to use sourceTensor.clone().detach() or sourceTensor.clone().detach().requires_grad_(True), rather than torch.tensor(sourceTensor).\n",
      "  if torch.isnan(torch.tensor(sdev)):\n",
      "/home/csy/Dropbox/sy_hub/posts/1_Note/ebayesthresh_torch/utils.py:584: UserWarning: To copy construct from a tensor, it is recommended to use sourceTensor.clone().detach() or sourceTensor.clone().detach().requires_grad_(True), rather than torch.tensor(sourceTensor).\n",
      "  s = torch.tensor(s, dtype=torch.float)\n",
      "/home/csy/Dropbox/sy_hub/posts/1_Note/ebayesthresh_torch/utils.py:552: UserWarning: To copy construct from a tensor, it is recommended to use sourceTensor.clone().detach() or sourceTensor.clone().detach().requires_grad_(True), rather than torch.tensor(sourceTensor).\n",
      "  tt = torch.tensor(tt, dtype=torch.float64)\n",
      "/home/csy/Dropbox/sy_hub/posts/1_Note/ebayesthresh_torch/utils.py:556: UserWarning: To copy construct from a tensor, it is recommended to use sourceTensor.clone().detach() or sourceTensor.clone().detach().requires_grad_(True), rather than torch.tensor(sourceTensor).\n",
      "  tma = torch.tensor(tt / s - s * a)\n",
      "/home/csy/Dropbox/sy_hub/posts/1_Note/ebayesthresh_torch/utils.py:47: UserWarning: To copy construct from a tensor, it is recommended to use sourceTensor.clone().detach() or sourceTensor.clone().detach().requires_grad_(True), rather than torch.tensor(sourceTensor).\n",
      "  rat1 = torch.tensor(1 / xpa, dtype=torch.float64)\n",
      "/home/csy/Dropbox/sy_hub/posts/1_Note/ebayesthresh_torch/utils.py:51: UserWarning: To copy construct from a tensor, it is recommended to use sourceTensor.clone().detach() or sourceTensor.clone().detach().requires_grad_(True), rather than torch.tensor(sourceTensor).\n",
      "  rat2 = torch.tensor(1 / torch.abs(xma), dtype=torch.float64)\n"
     ]
    },
    {
     "data": {
      "text/plain": [
       "[<matplotlib.lines.Line2D at 0x7f3e47d6bca0>]"
      ]
     },
     "execution_count": 41,
     "metadata": {},
     "output_type": "execute_result"
    },
    {
     "data": {
      "image/png": "[encoded data removed]",
      "text/plain": [
       "<Figure size 432x288 with 1 Axes>"
      ]
     },
     "metadata": {
      "needs_background": "light"
     },
     "output_type": "display_data"
    }
   ],
   "source": [
    "plt.plot(thresh_layer(fbar[:,0]))"
   ]
  },
  {
   "cell_type": "code",
   "execution_count": null,
   "id": "d0ac80cb-9e24-49b8-b448-e2e9758413d2",
   "metadata": {},
   "outputs": [],
   "source": []
  }
 ],
 "metadata": {
  "kernelspec": {
   "display_name": "Python 3",
   "language": "python",
   "name": "python3"
  },
  "language_info": {
   "codemirror_mode": {
    "name": "ipython",
    "version": 3
   },
   "file_extension": ".py",
   "mimetype": "text/x-python",
   "name": "python",
   "nbconvert_exporter": "python",
   "pygments_lexer": "ipython3",
   "version": "3.8.0"
  }
 },
 "nbformat": 4,
 "nbformat_minor": 5
}
