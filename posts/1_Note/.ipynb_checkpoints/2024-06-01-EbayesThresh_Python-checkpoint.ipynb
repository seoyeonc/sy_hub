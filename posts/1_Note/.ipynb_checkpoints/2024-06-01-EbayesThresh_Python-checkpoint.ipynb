{
 "cells": [
  {
   "cell_type": "raw",
   "id": "ecafae6c-f0a2-4852-ae83-c01c4513d836",
   "metadata": {
    "id": "cac470df-29e7-4148-9bbd-d8b9a32fa570",
    "tags": []
   },
   "source": [
    "---\n",
    "title: \"EbayesThresh Python화 시도\"\n",
    "author: \"SEOYEON CHOI\"\n",
    "date: \"2024-06-01\"\n",
    "---"
   ]
  },
  {
   "cell_type": "markdown",
   "id": "3d501e0e-ba39-4e4b-b47c-2c01f59e07db",
   "metadata": {},
   "source": [
    "https://cran.r-project.org/web/packages/EbayesThresh/EbayesThresh.pdf"
   ]
  },
  {
   "cell_type": "markdown",
   "id": "f4e26e3d-1785-4d3f-a313-1fa34b984b17",
   "metadata": {},
   "source": [
    "- R코드 Python화\n",
    "    - R코드 결과와 비교하면서"
   ]
  },
  {
   "cell_type": "markdown",
   "id": "45b6158d-6c95-4349-8f57-57f4319dac5d",
   "metadata": {},
   "source": [
    "# Import"
   ]
  },
  {
   "cell_type": "code",
   "execution_count": 1,
   "id": "7b74dbea-662a-4ddf-b71f-b5ad0edf1778",
   "metadata": {},
   "outputs": [],
   "source": [
    "import numpy as np\n",
    "import matplotlib.pyplot as plt\n",
    "import EbayesThresh"
   ]
  },
  {
   "cell_type": "markdown",
   "id": "def4d6e1-c26f-406d-b212-2652fbd98ce6",
   "metadata": {},
   "source": [
    "`beta.cauchy`"
   ]
  },
  {
   "cell_type": "markdown",
   "id": "da48ae1d-4d63-4436-962e-550a761b4dc5",
   "metadata": {},
   "source": [
    "> Given a value or vector x of values, find the value(s) of the function $\\beta(x) = g(x)/\\phi(x) − 1$, where\n",
    "$g$ is the convolution of the quasi-Cauchy with the normal density $\\phi(x)$."
   ]
  },
  {
   "cell_type": "markdown",
   "id": "94044667-6997-499d-b85e-b2654aae4494",
   "metadata": {},
   "source": [
    "*x가 입력되면 코시 분포와 정규 분포를 혼합해서 함수 베타 구하기*"
   ]
  },
  {
   "cell_type": "code",
   "execution_count": 2,
   "id": "bb4b9c53-44e8-45a2-9eb9-abc205f9729e",
   "metadata": {},
   "outputs": [
    {
     "name": "stderr",
     "output_type": "stream",
     "text": [
      "/home/csy/Dropbox/sy_hub/posts/1_Note/EbayesThresh/utils.py:25: RuntimeWarning: divide by zero encountered in divide\n",
      "  beta[j] = (norm.pdf(0) / phix[j] - 1) / (x[j] ** 2) - 1\n"
     ]
    },
    {
     "data": {
      "text/plain": [
       "array([ 5.97264025e-01, -3.51278729e-01, -5.00000000e-01,  1.85247374e+02,\n",
       "        1.23379625e+12,             inf])"
      ]
     },
     "execution_count": 2,
     "metadata": {},
     "output_type": "execute_result"
    }
   ],
   "source": [
    "EbayesThresh.beta_cauchy(np.array([-2,1,0,-4,8,50]))"
   ]
  },
  {
   "cell_type": "code",
   "execution_count": 3,
   "id": "cc2dcfa6-7be4-4f88-b3d6-d97c8a420941",
   "metadata": {},
   "outputs": [
    {
     "data": {
      "text/plain": [
       "[<matplotlib.lines.Line2D at 0x7f31d9d87550>]"
      ]
     },
     "execution_count": 3,
     "metadata": {},
     "output_type": "execute_result"
    },
    {
     "data": {
      "image/png": "[encoded data removed]",
      "text/plain": [
       "<Figure size 432x288 with 1 Axes>"
      ]
     },
     "metadata": {
      "needs_background": "light"
     },
     "output_type": "display_data"
    }
   ],
   "source": [
    "plt.plot(EbayesThresh.beta_cauchy(np.array([-2,1,0,-4,8,50])))"
   ]
  },
  {
   "cell_type": "markdown",
   "id": "5c8a622f-de1e-4717-9c26-5a5c62f67dfc",
   "metadata": {},
   "source": [
    "`beta.laplace`"
   ]
  },
  {
   "cell_type": "markdown",
   "id": "28121928-cc1b-4531-aa03-afa7baba87e3",
   "metadata": {},
   "source": [
    ">  Given a single value or a vector of $x$ and $s$, find the value(s) of the function $\\beta(x; s, a) = \\frac{g(x; s, a)}{f_n(x; 0, s)}−1$, where $f_n(x; 0, s)$ is the normal density with mean $0$ and standard deviation $s$, and $g$ is the convolution of the Laplace density with scale parameter a, $γa(\\mu)$, with the normal density $f_n(x; µ, s)$ with mean mu and standard deviation $s$."
   ]
  },
  {
   "cell_type": "markdown",
   "id": "4f54ecb9-1dde-429c-9c29-9f2b458635f1",
   "metadata": {},
   "source": [
    "*평균이 $\\mu$이며, 스케일 파라메터 a를 가진 라플라스와 정규분포의 합성함수 $g$와 평균이 0이고 표준편차가s인 f로 계산되는 함수 베타*"
   ]
  },
  {
   "cell_type": "code",
   "execution_count": 4,
   "id": "bb7f3af1-e452-4b76-ab27-56d9c1c2c5a8",
   "metadata": {},
   "outputs": [
    {
     "data": {
      "text/plain": [
       "array([ 8.89852030e-001, -3.80041717e-001, -5.61817772e-001,\n",
       "        2.85459467e+002,  1.02698062e+012,  6.34453954e+265])"
      ]
     },
     "execution_count": 4,
     "metadata": {},
     "output_type": "execute_result"
    }
   ],
   "source": [
    "EbayesThresh.beta_laplace(np.array([-2,1,0,-4,8,50]),s=1)"
   ]
  },
  {
   "cell_type": "code",
   "execution_count": 5,
   "id": "19367d57-8773-42af-9231-9bece6af27dd",
   "metadata": {},
   "outputs": [
    {
     "data": {
      "text/plain": [
       "[<matplotlib.lines.Line2D at 0x7f31d7c94eb0>]"
      ]
     },
     "execution_count": 5,
     "metadata": {},
     "output_type": "execute_result"
    },
    {
     "data": {
      "image/png": "[encoded data removed]",
      "text/plain": [
       "<Figure size 432x288 with 1 Axes>"
      ]
     },
     "metadata": {
      "needs_background": "light"
     },
     "output_type": "display_data"
    }
   ],
   "source": [
    "plt.plot(EbayesThresh.beta_laplace(np.array([-2,1,0,-4,8,50]),s=1))"
   ]
  },
  {
   "cell_type": "code",
   "execution_count": 6,
   "id": "aa84d058-0b5e-4d2f-a152-410f7da2f78b",
   "metadata": {},
   "outputs": [
    {
     "name": "stdout",
     "output_type": "stream",
     "text": [
      "[ 8.90821055e-001 -1.62658317e-001 -3.44320458e-001  1.11763852e+002\n",
      "  5.47362128e+010  1.26890791e+266]\n",
      "[-3.97301589e-002 -1.29919250e-001 -1.57261541e-001  4.89966520e-001\n",
      "  1.72626254e+001  1.86200309e+115]\n",
      "[-5.47817038e-02 -7.85266727e-02 -8.62291039e-02  5.07055851e-02\n",
      "  7.25566365e-01  1.35975389e+41]\n",
      "[-4.17233012e-02 -5.04965878e-02 -5.33904683e-02 -5.20319315e-03\n",
      "  1.67493780e-01  2.44910886e+16]\n",
      "[-3.07299814e-02 -3.46568340e-02 -3.59594764e-02 -1.47336507e-02\n",
      "  5.42137177e-02  1.68155326e+06]\n",
      "[-2.30695463e-02 -2.50691640e-02 -2.57340346e-02 -1.49952854e-02\n",
      "  1.85602410e-02  1.12493577e+02]\n"
     ]
    },
    {
     "name": "stderr",
     "output_type": "stream",
     "text": [
      "/home/csy/Dropbox/sy_hub/posts/1_Note/EbayesThresh/utils.py:46: RuntimeWarning: divide by zero encountered in divide\n",
      "  rat2 = 1/np.abs(xma)\n"
     ]
    }
   ],
   "source": [
    "for i in range(1,7):\n",
    "    print(EbayesThresh.beta_laplace(np.array([-2,1,0,-4,8,50]),s=i,a=1))"
   ]
  },
  {
   "cell_type": "markdown",
   "id": "dd8ff5e4-405d-4b35-b0d2-e919fd1eddf7",
   "metadata": {},
   "source": [
    "`-` R 결과 비교"
   ]
  },
  {
   "cell_type": "markdown",
   "id": "36ae799d-eb09-4b65-b1ad-864a01ad6a7e",
   "metadata": {},
   "source": [
    "```R\n",
    "[1]   0.890821055  -0.129919250  -0.086229104  -0.005203193   0.054213718 112.493576777\n",
    "```"
   ]
  },
  {
   "cell_type": "markdown",
   "id": "c69a5880-a821-43ce-a951-cc656f135547",
   "metadata": {},
   "source": [
    "`Mad(Median Absolute Deviation)`"
   ]
  },
  {
   "cell_type": "markdown",
   "id": "409a95c8-7a6c-4ba5-bd4b-efd388d11c41",
   "metadata": {},
   "source": [
    "> 중앙값 절대 편차, 분산이나 퍼진 정도 확인 가능"
   ]
  },
  {
   "cell_type": "code",
   "execution_count": 7,
   "id": "96c83ff1-b6fa-412a-abea-7dd9726c7431",
   "metadata": {},
   "outputs": [
    {
     "data": {
      "text/plain": [
       "2.9652"
      ]
     },
     "execution_count": 7,
     "metadata": {},
     "output_type": "execute_result"
    }
   ],
   "source": [
    "EbayesThresh.mad(np.array([1, 2, 3, 3, 4, 4, 4, 5, 5.5, 6, 6, 6.5, 7, 7, 7.5, 8, 9, 12, 52, 90]))"
   ]
  },
  {
   "cell_type": "markdown",
   "id": "b200d13b-eea1-4ba0-be51-ce0b0b0ac3f8",
   "metadata": {},
   "source": [
    "`wfromt`"
   ]
  },
  {
   "cell_type": "markdown",
   "id": "fa52ee17-339b-4b86-893a-1e2aa5c0c6fe",
   "metadata": {},
   "source": [
    "> Given a value or vector of thresholds and sampling standard deviations (sd equals 1 for Cauchy prior), find the mixing weight for which this is(these are) the threshold(s) of the posterior median estimator. If a vector of threshold values is provided, the vector of corresponding weights is returned."
   ]
  },
  {
   "cell_type": "markdown",
   "id": "bcca8520-e048-41c6-8aee-959e13c47d6e",
   "metadata": {},
   "source": [
    "*주어진 임계값과 표준편차에 대해, posterior median estimator에서 이 임계값이 나오도록 하는 혼합 가중치를 계산하는 함수가 제공된다.*"
   ]
  },
  {
   "cell_type": "code",
   "execution_count": 8,
   "id": "73b44642-ca91-4f3a-a22b-1e8e52944e63",
   "metadata": {},
   "outputs": [
    {
     "data": {
      "text/plain": [
       "array([4.22963403e-01, 9.33799336e-02, 9.31590884e-05])"
      ]
     },
     "execution_count": 8,
     "metadata": {},
     "output_type": "execute_result"
    }
   ],
   "source": [
    "EbayesThresh.wfromt(np.array([2,3,5]),prior='cachy')"
   ]
  },
  {
   "cell_type": "markdown",
   "id": "af50c953-86f5-404a-9da9-391602fe988a",
   "metadata": {},
   "source": [
    "`wfromx`"
   ]
  },
  {
   "cell_type": "markdown",
   "id": "6a5ff3ad-8804-4214-aede-2dfa7ae3a4f0",
   "metadata": {},
   "source": [
    "> Suppose the vector $(x_1, \\cdots, x_n)$ is such that $x_i$ is drawn independently from a normal distribution with mean $\\theta_i$ and standard deviation $s_i$ ($s_i$ equals $1$ for Cauchy prior). The prior distribution of the $\\theta_i$ is a mixture with probability $1 − w$ of zero and probability $w$ of a given symmetric heavy-tailed distribution. This routine finds the marginal maximum likelihood estimate of the parameter $w$."
   ]
  },
  {
   "cell_type": "markdown",
   "id": "a5d8a2a2-14bb-4099-86c7-f0bb1799afda",
   "metadata": {},
   "source": [
    "*주어진 정규 분포 데이터에 대해 $\\theta_𝑖$의 사전 분포가 주어진 상황에서, 모수 $w$의 최대우도 추정치를 계산하는 방법을 제공한다*"
   ]
  },
  {
   "cell_type": "code",
   "execution_count": 20,
   "id": "314626a3-6dc7-419e-a17a-b4e9b17bb98e",
   "metadata": {},
   "outputs": [],
   "source": [
    "s = np.array([0] * 90 + [5] * 10)\n",
    "x = np.random.normal(0, s, size=100)"
   ]
  },
  {
   "cell_type": "code",
   "execution_count": 21,
   "id": "fc57fdd3-8daf-4885-8e93-6d2b0a9a2bda",
   "metadata": {},
   "outputs": [
    {
     "data": {
      "text/plain": [
       "0.09217971869856076"
      ]
     },
     "execution_count": 21,
     "metadata": {},
     "output_type": "execute_result"
    }
   ],
   "source": [
    "EbayesThresh.wfromx(x, prior = \"cauchy\")"
   ]
  },
  {
   "cell_type": "markdown",
   "id": "d225619e-6edc-4877-b6b8-fb997e937bdd",
   "metadata": {},
   "source": [
    "`isotone`"
   ]
  },
  {
   "cell_type": "code",
   "execution_count": null,
   "id": "33bac95d-2525-44d4-a92e-89bffb6f0fe2",
   "metadata": {},
   "outputs": [],
   "source": [
    "nn <- length(x)\n",
    "if(nn == 1)\n",
    "  return(x)\n",
    "if(!increasing)\n",
    "  x <-  - x\n",
    "ip <- (1:nn)\n",
    "dx <- diff(x)\n",
    "nx <- length(x)\n",
    "while((nx > 1) && (min(dx) < 0)) {\n",
    "  \n",
    "  jmax <- (1:nx)[c(dx <= 0, FALSE) & c(TRUE, dx > 0)]\n",
    "  jmin <- (1:nx)[c(dx > 0, TRUE) & c(FALSE, dx <= 0)]\n",
    "  \n",
    "  for(jb in (1:length(jmax))) {\n",
    "    ind <- (jmax[jb]:jmin[jb])\n",
    "    wtn <- sum(wt[ind])\n",
    "    x[jmax[jb]] <- sum(wt[ind] * x[ind])/wtn\n",
    "    wt[jmax[jb]] <- wtn\n",
    "    x[(jmax[jb] + 1):jmin[jb]] <- NA\n",
    "  }\n",
    "  \n",
    "  ind <- !is.na(x)\n",
    "  x <- x[ind]\n",
    "  wt <- wt[ind]\n",
    "  ip <- ip[ind]\n",
    "  dx <- diff(x)\n",
    "  nx <- length(x)\n",
    "}\n",
    "\n",
    "jj <- rep(0, nn)\n",
    "jj[ip] <- 1\n",
    "z <- x[cumsum(jj)]\n",
    "if(!increasing)\n",
    "  z <-  - z"
   ]
  },
  {
   "cell_type": "code",
   "execution_count": 2,
   "id": "decc1021-6255-416a-bf85-34a143fa634b",
   "metadata": {},
   "outputs": [
    {
     "data": {
      "text/plain": [
       "array([1, 2, 3])"
      ]
     },
     "execution_count": 2,
     "metadata": {},
     "output_type": "execute_result"
    }
   ],
   "source": [
    "np.arange(1, 3+1)"
   ]
  },
  {
   "cell_type": "code",
   "execution_count": null,
   "id": "f1b6e20b-66f2-4744-a924-dc7d0f4699db",
   "metadata": {},
   "outputs": [],
   "source": []
  },
  {
   "cell_type": "markdown",
   "id": "74a01364-da90-456f-9d61-8160da684753",
   "metadata": {},
   "source": [
    "`wmonfromx`"
   ]
  },
  {
   "cell_type": "markdown",
   "id": "587a1573-eca4-467a-8e3a-1a4028a8d33a",
   "metadata": {},
   "source": [
    "> Given a vector of data, find the marginal maximum likelihood choice of weight sequence subject to the constraints that the weights are monotone decreasing"
   ]
  },
  {
   "cell_type": "markdown",
   "id": "38ceac71-1926-44bc-83f1-c08d724c92c0",
   "metadata": {},
   "source": [
    "*데이터에 대해 가중치 시퀀스를 선택하는 과정에서 조건이 주어지는데, 이 가중치 시퀀스는 각각의 가중치 값이 단조 감소해야 하며, 주어진 데이터에 대한 최대 우도를 갖도록 선택되어야 함.*"
   ]
  },
  {
   "cell_type": "code",
   "execution_count": null,
   "id": "c011ed9f-d85f-456a-b4cb-a9b649430e86",
   "metadata": {},
   "outputs": [],
   "source": [
    "wmonfromx(xd, prior = \"laplace\", a = 0.5, tol = 1e-08, maxits = 20)"
   ]
  },
  {
   "cell_type": "code",
   "execution_count": null,
   "id": "6dabefe9-32b9-40af-9900-9eb8d37f7c5c",
   "metadata": {},
   "outputs": [],
   "source": [
    "EbayesThresh.wmonfromx()"
   ]
  },
  {
   "cell_type": "code",
   "execution_count": null,
   "id": "8ab7f1a6-530d-4f6f-b9f7-d7a625c18d76",
   "metadata": {},
   "outputs": [],
   "source": []
  }
 ],
 "metadata": {
  "kernelspec": {
   "display_name": "Python 3",
   "language": "python",
   "name": "python3"
  },
  "language_info": {
   "codemirror_mode": {
    "name": "ipython",
    "version": 3
   },
   "file_extension": ".py",
   "mimetype": "text/x-python",
   "name": "python",
   "nbconvert_exporter": "python",
   "pygments_lexer": "ipython3",
   "version": "3.8.0"
  }
 },
 "nbformat": 4,
 "nbformat_minor": 5
}
