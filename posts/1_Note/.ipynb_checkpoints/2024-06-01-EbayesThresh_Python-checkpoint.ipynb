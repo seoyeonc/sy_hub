{
 "cells": [
  {
   "cell_type": "raw",
   "id": "ecafae6c-f0a2-4852-ae83-c01c4513d836",
   "metadata": {
    "id": "cac470df-29e7-4148-9bbd-d8b9a32fa570",
    "tags": []
   },
   "source": [
    "---\n",
    "title: \"EbayesThresh Python화 시도\"\n",
    "author: \"SEOYEON CHOI\"\n",
    "date: \"2024-06-01\"\n",
    "---"
   ]
  },
  {
   "cell_type": "markdown",
   "id": "3d501e0e-ba39-4e4b-b47c-2c01f59e07db",
   "metadata": {},
   "source": [
    "https://cran.r-project.org/web/packages/EbayesThresh/EbayesThresh.pdf"
   ]
  },
  {
   "cell_type": "markdown",
   "id": "f4e26e3d-1785-4d3f-a313-1fa34b984b17",
   "metadata": {},
   "source": [
    "- R코드 Python화\n",
    "    - R코드 결과와 비교하면서"
   ]
  },
  {
   "cell_type": "markdown",
   "id": "45b6158d-6c95-4349-8f57-57f4319dac5d",
   "metadata": {},
   "source": [
    "# Import"
   ]
  },
  {
   "cell_type": "code",
   "execution_count": 1,
   "id": "7b74dbea-662a-4ddf-b71f-b5ad0edf1778",
   "metadata": {},
   "outputs": [],
   "source": [
    "import numpy as np\n",
    "import matplotlib.pyplot as plt\n",
    "import EbayesThresh"
   ]
  },
  {
   "cell_type": "markdown",
   "id": "f67c6dca-cca7-4e88-b1b6-ce89976d1b3b",
   "metadata": {},
   "source": [
    "## 변환 확인용 import"
   ]
  },
  {
   "cell_type": "code",
   "execution_count": 10,
   "id": "5f0a2e3e-bef8-48a9-af05-343378f104f4",
   "metadata": {},
   "outputs": [],
   "source": [
    "from scipy.stats import norm"
   ]
  },
  {
   "cell_type": "markdown",
   "id": "def4d6e1-c26f-406d-b212-2652fbd98ce6",
   "metadata": {},
   "source": [
    "# beta.cauchy"
   ]
  },
  {
   "cell_type": "markdown",
   "id": "43e97aa0-7ba1-4e23-b0dd-399c929ef26c",
   "metadata": {},
   "source": [
    "> Function beta for the quasi-Cauchy prior"
   ]
  },
  {
   "cell_type": "markdown",
   "id": "56965f19-ffb5-4c07-bece-297e09160b5f",
   "metadata": {},
   "source": [
    "- Description"
   ]
  },
  {
   "cell_type": "markdown",
   "id": "da48ae1d-4d63-4436-962e-550a761b4dc5",
   "metadata": {},
   "source": [
    "> Given a value or vector x of values, find the value(s) of the function $\\beta(x) = g(x)/\\phi(x) − 1$, where\n",
    "$g$ is the convolution of the quasi-Cauchy with the normal density $\\phi(x)$."
   ]
  },
  {
   "cell_type": "markdown",
   "id": "94044667-6997-499d-b85e-b2654aae4494",
   "metadata": {},
   "source": [
    "*x가 입력되면 코시 분포와 정규 분포를 혼합해서 함수 베타 구하기*"
   ]
  },
  {
   "cell_type": "code",
   "execution_count": 8,
   "id": "6eda332f-56ae-45e3-83d0-60372bbb189d",
   "metadata": {},
   "outputs": [],
   "source": [
    "x = np.array([-2,1,0,-4,8,50])"
   ]
  },
  {
   "cell_type": "code",
   "execution_count": 11,
   "id": "83d2e100-7eea-4c67-9555-62c667a9f3c1",
   "metadata": {},
   "outputs": [
    {
     "data": {
      "text/plain": [
       "array([5.39909665e-02, 2.41970725e-01, 3.98942280e-01, 1.33830226e-04,\n",
       "       5.05227108e-15, 0.00000000e+00])"
      ]
     },
     "execution_count": 11,
     "metadata": {},
     "output_type": "execute_result"
    }
   ],
   "source": [
    "phix = norm.pdf(x)\n",
    "phix"
   ]
  },
  {
   "cell_type": "markdown",
   "id": "6b8f0466-0023-4f78-9e4b-ed81d1a5141f",
   "metadata": {},
   "source": [
    "- x의 확률밀도함수pdf 구하기"
   ]
  },
  {
   "cell_type": "code",
   "execution_count": 12,
   "id": "e98f276c-5326-4b4d-ae44-eea140d80241",
   "metadata": {},
   "outputs": [
    {
     "data": {
      "text/plain": [
       "array([ True,  True, False,  True,  True,  True])"
      ]
     },
     "execution_count": 12,
     "metadata": {},
     "output_type": "execute_result"
    }
   ],
   "source": [
    "j = (x != 0)\n",
    "j"
   ]
  },
  {
   "cell_type": "markdown",
   "id": "17b28c3f-637d-4e4a-b751-ec1394799dff",
   "metadata": {},
   "source": [
    "- 0이 아닌 인덱스만 얻기"
   ]
  },
  {
   "cell_type": "code",
   "execution_count": 13,
   "id": "6bc89b87-9433-411a-b959-429335f4b423",
   "metadata": {},
   "outputs": [
    {
     "data": {
      "text/plain": [
       "array([-2,  1,  0, -4,  8, 50])"
      ]
     },
     "execution_count": 13,
     "metadata": {},
     "output_type": "execute_result"
    }
   ],
   "source": [
    "beta = x\n",
    "beta"
   ]
  },
  {
   "cell_type": "code",
   "execution_count": 14,
   "id": "94a4ea29-d8b9-4f25-967a-67ba7e963640",
   "metadata": {},
   "outputs": [
    {
     "data": {
      "text/plain": [
       "array([-2. ,  1. , -0.5, -4. ,  8. , 50. ])"
      ]
     },
     "execution_count": 14,
     "metadata": {},
     "output_type": "execute_result"
    }
   ],
   "source": [
    "beta = np.where(j == False, -1/2, beta)\n",
    "beta"
   ]
  },
  {
   "cell_type": "markdown",
   "id": "272f488d-f4d3-4047-8617-521b3de2d7bc",
   "metadata": {},
   "source": [
    "- j가 False 즉 0이면 -1/2를 넣고 아니면 beta값 그대로 넣기"
   ]
  },
  {
   "cell_type": "code",
   "execution_count": 16,
   "id": "884e614d-7a6c-427f-864e-81f099a0a873",
   "metadata": {},
   "outputs": [
    {
     "name": "stderr",
     "output_type": "stream",
     "text": [
      "<ipython-input-16-d26bd9cf5070>:1: RuntimeWarning: divide by zero encountered in divide\n",
      "  beta[j] = (norm.pdf(0) / phix[j] - 1) / (x[j] ** 2) - 1\n"
     ]
    },
    {
     "data": {
      "text/plain": [
       "array([ 5.97264025e-01, -3.51278729e-01, -5.00000000e-01,  1.85247374e+02,\n",
       "        1.23379625e+12,             inf])"
      ]
     },
     "execution_count": 16,
     "metadata": {},
     "output_type": "execute_result"
    }
   ],
   "source": [
    "beta[j] = (norm.pdf(0) / phix[j] - 1) / (x[j] ** 2) - 1\n",
    "beta"
   ]
  },
  {
   "cell_type": "markdown",
   "id": "94bd5e8e-1d6d-47f8-9360-7aa0361c3533",
   "metadata": {},
   "source": [
    "- 0의 확률밀도함수pdf에서 x의 확률밀도함수phix로 나누어서 1을 빼고 그것을 x 중 0이 아닌 값들에 제곱한 값으로 나눠 1을 빼기\n",
    "- $\\beta(x) = \\begin{cases} x & \\text{ if } x = 0 \\\\ \\frac{\\frac{\\phi(0)}{\\phi(x)}-1}{x^2} - 1 & \\\\ \\text{ if } x \\ne 0\\end{cases}$"
   ]
  },
  {
   "cell_type": "markdown",
   "id": "f10a77bd-c16c-4aa4-bbe8-e8945b6bea67",
   "metadata": {},
   "source": [
    "- R code"
   ]
  },
  {
   "cell_type": "markdown",
   "id": "0971d959-faf3-4971-904a-c56bf15fde05",
   "metadata": {},
   "source": [
    "```R\n",
    "beta.cauchy <- function(x) {\n",
    "#\n",
    "#   Find the function beta for the mixed normal prior with Cauchy\n",
    "#   tails.  It is assumed that the noise variance is equal to one.\n",
    "#\n",
    "\tphix <- dnorm(x)\n",
    "\tj <- (x != 0)\n",
    "\tbeta <- x\n",
    "\tbeta[!j] <- -1/2\n",
    "\tbeta[j] <- (dnorm(0)/phix[j] - 1)/x[j]^2 - 1\n",
    "\treturn(beta)\n",
    "}\n",
    "```"
   ]
  },
  {
   "cell_type": "markdown",
   "id": "ef5bc485-462b-4b37-af8b-da3a1a4f4b3c",
   "metadata": {},
   "source": [
    "**결과**"
   ]
  },
  {
   "cell_type": "markdown",
   "id": "9ba79e9b-c46e-4ec3-a431-4cc718b19b18",
   "metadata": {},
   "source": [
    "- Python"
   ]
  },
  {
   "cell_type": "code",
   "execution_count": 2,
   "id": "bb4b9c53-44e8-45a2-9eb9-abc205f9729e",
   "metadata": {},
   "outputs": [
    {
     "name": "stderr",
     "output_type": "stream",
     "text": [
      "/home/csy/Dropbox/sy_hub/posts/1_Note/EbayesThresh/utils.py:26: RuntimeWarning: divide by zero encountered in divide\n",
      "  beta[j] = (norm.pdf(0) / phix[j] - 1) / (x[j] ** 2) - 1\n"
     ]
    },
    {
     "data": {
      "text/plain": [
       "array([ 5.97264025e-01, -3.51278729e-01, -5.00000000e-01,  1.85247374e+02,\n",
       "        1.23379625e+12,             inf])"
      ]
     },
     "execution_count": 2,
     "metadata": {},
     "output_type": "execute_result"
    }
   ],
   "source": [
    "EbayesThresh.beta_cauchy(np.array([-2,1,0,-4,8,50]))"
   ]
  },
  {
   "cell_type": "markdown",
   "id": "91a9054f-acee-46a4-9cf8-58e1b7f4e9fd",
   "metadata": {},
   "source": [
    "- R"
   ]
  },
  {
   "cell_type": "markdown",
   "id": "92212884-d02c-4e92-b9cb-11239ec72be0",
   "metadata": {},
   "source": [
    "```R\n",
    "> beta.cauchy(c(-2,1,0,-4,8,50))\n",
    "[1]  5.972640e-01 -3.512787e-01 -5.000000e-01  1.852474e+02  1.233796e+12           Inf\n",
    "```"
   ]
  },
  {
   "cell_type": "markdown",
   "id": "5c8a622f-de1e-4717-9c26-5a5c62f67dfc",
   "metadata": {},
   "source": [
    "# beta.laplace"
   ]
  },
  {
   "cell_type": "markdown",
   "id": "86db9185-0acc-4107-95fe-b5cae990e312",
   "metadata": {},
   "source": [
    "> Function beta for the Laplace prior"
   ]
  },
  {
   "cell_type": "markdown",
   "id": "4bf3908b-933e-492d-a5f1-f056209ade11",
   "metadata": {},
   "source": [
    "- Description"
   ]
  },
  {
   "cell_type": "markdown",
   "id": "28121928-cc1b-4531-aa03-afa7baba87e3",
   "metadata": {},
   "source": [
    ">  Given a single value or a vector of $x$ and $s$, find the value(s) of the function $\\beta(x; s, a) = \\frac{g(x; s, a)}{f_n(x; 0, s)}−1$, where $f_n(x; 0, s)$ is the normal density with mean $0$ and standard deviation $s$, and $g$ is the convolution of the Laplace density with scale parameter a, $γa(\\mu)$, with the normal density $f_n(x; µ, s)$ with mean mu and standard deviation $s$."
   ]
  },
  {
   "cell_type": "markdown",
   "id": "4f54ecb9-1dde-429c-9c29-9f2b458635f1",
   "metadata": {},
   "source": [
    "*평균이 $\\mu$이며, 스케일 파라메터 a를 가진 라플라스와 정규분포의 합성함수 $g$와 평균이 0이고 표준편차가s인 f로 계산되는 함수 베타*"
   ]
  },
  {
   "cell_type": "code",
   "execution_count": 2,
   "id": "231edf1b-c02e-4e9d-bbeb-084b7b5a168e",
   "metadata": {},
   "outputs": [],
   "source": [
    "x = np.array([-2,1,0,-4,8,50])\n",
    "s = 1\n",
    "a = 0.5"
   ]
  },
  {
   "cell_type": "code",
   "execution_count": 3,
   "id": "9ca7e9a4-0f51-4e36-acfd-c4689279d2b9",
   "metadata": {},
   "outputs": [
    {
     "data": {
      "text/plain": [
       "array([ 2,  1,  0,  4,  8, 50])"
      ]
     },
     "execution_count": 3,
     "metadata": {},
     "output_type": "execute_result"
    }
   ],
   "source": [
    "x = np.abs(x)\n",
    "x"
   ]
  },
  {
   "cell_type": "code",
   "execution_count": 4,
   "id": "454bc930-e458-4000-88c8-c99f7de6cd0e",
   "metadata": {},
   "outputs": [
    {
     "data": {
      "text/plain": [
       "array([ 2.5,  1.5,  0.5,  4.5,  8.5, 50.5])"
      ]
     },
     "execution_count": 4,
     "metadata": {},
     "output_type": "execute_result"
    }
   ],
   "source": [
    "xpa = x/s + s*a\n",
    "xpa"
   ]
  },
  {
   "cell_type": "code",
   "execution_count": 5,
   "id": "9f7bc2af-c859-495e-87bb-9f67f4fdf9f9",
   "metadata": {},
   "outputs": [
    {
     "data": {
      "text/plain": [
       "array([ 1.5,  0.5, -0.5,  3.5,  7.5, 49.5])"
      ]
     },
     "execution_count": 5,
     "metadata": {},
     "output_type": "execute_result"
    }
   ],
   "source": [
    "xma = x/s - s*a\n",
    "xma"
   ]
  },
  {
   "cell_type": "code",
   "execution_count": 6,
   "id": "5120e231-310e-42c3-a6af-d3da2676434e",
   "metadata": {},
   "outputs": [
    {
     "data": {
      "text/plain": [
       "array([0.4       , 0.66666667, 2.        , 0.22222222, 0.11764706,\n",
       "       0.01980198])"
      ]
     },
     "execution_count": 6,
     "metadata": {},
     "output_type": "execute_result"
    }
   ],
   "source": [
    "rat1 = 1/xpa\n",
    "rat1"
   ]
  },
  {
   "cell_type": "code",
   "execution_count": 7,
   "id": "b6ea5bbc-0265-4f86-9f81-9778149cc739",
   "metadata": {},
   "outputs": [
    {
     "data": {
      "text/plain": [
       "array([0.4       , 0.66666667, 2.        , 0.22222222, 0.11764706])"
      ]
     },
     "execution_count": 7,
     "metadata": {},
     "output_type": "execute_result"
    }
   ],
   "source": [
    "rat1[xpa < 35]"
   ]
  },
  {
   "cell_type": "code",
   "execution_count": 13,
   "id": "e866e85d-816c-41dd-a5ee-745c34092419",
   "metadata": {},
   "outputs": [
    {
     "data": {
      "text/plain": [
       "True"
      ]
     },
     "execution_count": 13,
     "metadata": {},
     "output_type": "execute_result"
    }
   ],
   "source": [
    "s <= 1"
   ]
  },
  {
   "cell_type": "code",
   "execution_count": null,
   "id": "6ead2c73-abf0-4818-9a42-3b4e9d946fea",
   "metadata": {},
   "outputs": [],
   "source": [
    "\n",
    "    \n",
    "    \n",
    "    \n",
    "    \n",
    "    \n",
    "    \n",
    "    if isinstance(xpa, np.ndarray):\n",
    "        for i in range(len(xpa)):\n",
    "            if xpa[i] < 35:\n",
    "                rat1[i] = norm.cdf(-xpa[i]) / norm.pdf(xpa[i])\n",
    "    else:\n",
    "        if xpa < 35:\n",
    "            rat1 = norm.cdf(-xpa) / norm.pdf(xpa)\n",
    "\n",
    "    rat2 = 1/np.abs(xma)\n",
    "    \n",
    "    if isinstance(xma, np.ndarray):\n",
    "        for i in range(len(xma)):\n",
    "            if xma[i] > 35:\n",
    "                xma[i] = 35\n",
    "    else:\n",
    "         if xma > 35:\n",
    "                xma = 35\n",
    "                \n",
    "    if isinstance(xma, np.ndarray):\n",
    "        for i in range(len(xma)):\n",
    "            if xma[i] > -35:\n",
    "                rat2[i] = norm.cdf(xma[i])/norm.pdf(xma[i])   \n",
    "    else:\n",
    "        if xma > -35:\n",
    "            rat2 = norm.cdf(xma)/norm.pdf(xma)   \n",
    "\n",
    "    beta = (a * s) / 2 * (rat1 + rat2) - 1"
   ]
  },
  {
   "cell_type": "markdown",
   "id": "31cfdbfd-1c03-43ca-9fa1-1880b8256efd",
   "metadata": {},
   "source": [
    "- R code"
   ]
  },
  {
   "cell_type": "markdown",
   "id": "49f98fea-acd6-4b3d-8e00-baaecd4936dc",
   "metadata": {},
   "source": [
    "```R\n",
    "beta.laplace <- function(x, s = 1, a = 0.5) {\n",
    "#\n",
    "#  The function beta for the Laplace prior given parameter a and s (sd)\n",
    "#\n",
    "\tx <- abs(x)\n",
    "\txpa <- x/s + s*a\n",
    "\txma <- x/s - s*a\n",
    "\trat1 <- 1/xpa\n",
    "\trat1[xpa < 35] <- pnorm( - xpa[xpa < 35])/dnorm(xpa[xpa < 35])\n",
    "\trat2 <- 1/abs(xma)\n",
    "\txma[xma > 35] <- 35\n",
    "\trat2[xma > -35] <- pnorm(xma[xma > -35])/dnorm(xma[xma > -35])\n",
    "\tbeta <- (a * s) / 2 * (rat1 + rat2) - 1\n",
    "\treturn(beta)\n",
    "}\n",
    "```"
   ]
  },
  {
   "cell_type": "markdown",
   "id": "49833a2f-6a66-48b6-93fa-4954a954b6d8",
   "metadata": {},
   "source": [
    "**결과**"
   ]
  },
  {
   "cell_type": "markdown",
   "id": "f8cf8b0d-2512-40f7-8ac6-6df9ed330b56",
   "metadata": {},
   "source": [
    "- Python"
   ]
  },
  {
   "cell_type": "code",
   "execution_count": 4,
   "id": "bb7f3af1-e452-4b76-ab27-56d9c1c2c5a8",
   "metadata": {},
   "outputs": [
    {
     "data": {
      "text/plain": [
       "array([ 8.89852030e-001, -3.80041717e-001, -5.61817772e-001,\n",
       "        2.85459467e+002,  1.02698062e+012,  6.34453954e+265])"
      ]
     },
     "execution_count": 4,
     "metadata": {},
     "output_type": "execute_result"
    }
   ],
   "source": [
    "EbayesThresh.beta_laplace(np.array([-2,1,0,-4,8,50]),s=1)"
   ]
  },
  {
   "cell_type": "code",
   "execution_count": 22,
   "id": "aa84d058-0b5e-4d2f-a152-410f7da2f78b",
   "metadata": {},
   "outputs": [
    {
     "name": "stdout",
     "output_type": "stream",
     "text": [
      "[ 8.90821055e-001 -1.62658317e-001 -3.44320458e-001  1.11763852e+002\n",
      "  5.47362128e+010  1.26890791e+266]\n",
      "[-3.97301589e-002 -1.29919250e-001 -1.57261541e-001  4.89966520e-001\n",
      "  1.72626254e+001  1.86200309e+115]\n",
      "[-5.47817038e-02 -7.85266727e-02 -8.62291039e-02  5.07055851e-02\n",
      "  7.25566365e-01  1.35975389e+41]\n",
      "[-4.17233012e-02 -5.04965878e-02 -5.33904683e-02 -5.20319315e-03\n",
      "  1.67493780e-01  2.44910886e+16]\n",
      "[-3.07299814e-02 -3.46568340e-02 -3.59594764e-02 -1.47336507e-02\n",
      "  5.42137177e-02  1.68155326e+06]\n",
      "[-2.30695463e-02 -2.50691640e-02 -2.57340346e-02 -1.49952854e-02\n",
      "  1.85602410e-02  1.12493577e+02]\n"
     ]
    }
   ],
   "source": [
    "for i in range(1,7):\n",
    "    print(EbayesThresh.beta_laplace(np.array([-2,1,0,-4,8,50]),s=i,a=1))"
   ]
  },
  {
   "cell_type": "markdown",
   "id": "dd8ff5e4-405d-4b35-b0d2-e919fd1eddf7",
   "metadata": {},
   "source": [
    "- R"
   ]
  },
  {
   "cell_type": "markdown",
   "id": "36ae799d-eb09-4b65-b1ad-864a01ad6a7e",
   "metadata": {},
   "source": [
    "```R\n",
    "> beta.laplace(c(-2,1,0,-4,8,50), s=1)\n",
    "[1]   8.898520e-01  -3.800417e-01  -5.618178e-01   2.854595e+02   1.026981e+12  6.344540e+265\n",
    "> beta.laplace(c(-2,1,0,-4,8,50), s=1:6, a=1)\n",
    "[1]   0.890821055  -0.129919250  -0.086229104  -0.005203193   0.054213718 112.493576777\n",
    "```"
   ]
  },
  {
   "cell_type": "markdown",
   "id": "c69a5880-a821-43ce-a951-cc656f135547",
   "metadata": {},
   "source": [
    "`Mad(Median Absolute Deviation)`"
   ]
  },
  {
   "cell_type": "markdown",
   "id": "409a95c8-7a6c-4ba5-bd4b-efd388d11c41",
   "metadata": {},
   "source": [
    "> 중앙값 절대 편차, 분산이나 퍼진 정도 확인 가능"
   ]
  },
  {
   "cell_type": "code",
   "execution_count": 7,
   "id": "96c83ff1-b6fa-412a-abea-7dd9726c7431",
   "metadata": {},
   "outputs": [
    {
     "data": {
      "text/plain": [
       "2.9652"
      ]
     },
     "execution_count": 7,
     "metadata": {},
     "output_type": "execute_result"
    }
   ],
   "source": [
    "EbayesThresh.mad(np.array([1, 2, 3, 3, 4, 4, 4, 5, 5.5, 6, 6, 6.5, 7, 7, 7.5, 8, 9, 12, 52, 90]))"
   ]
  },
  {
   "cell_type": "markdown",
   "id": "b200d13b-eea1-4ba0-be51-ce0b0b0ac3f8",
   "metadata": {},
   "source": [
    "`wfromt`"
   ]
  },
  {
   "cell_type": "markdown",
   "id": "fa52ee17-339b-4b86-893a-1e2aa5c0c6fe",
   "metadata": {},
   "source": [
    "> Given a value or vector of thresholds and sampling standard deviations (sd equals 1 for Cauchy prior), find the mixing weight for which this is(these are) the threshold(s) of the posterior median estimator. If a vector of threshold values is provided, the vector of corresponding weights is returned."
   ]
  },
  {
   "cell_type": "markdown",
   "id": "bcca8520-e048-41c6-8aee-959e13c47d6e",
   "metadata": {},
   "source": [
    "*주어진 임계값과 표준편차에 대해, posterior median estimator에서 이 임계값이 나오도록 하는 혼합 가중치를 계산하는 함수가 제공된다.*"
   ]
  },
  {
   "cell_type": "code",
   "execution_count": 8,
   "id": "73b44642-ca91-4f3a-a22b-1e8e52944e63",
   "metadata": {},
   "outputs": [
    {
     "data": {
      "text/plain": [
       "array([4.22963403e-01, 9.33799336e-02, 9.31590884e-05])"
      ]
     },
     "execution_count": 8,
     "metadata": {},
     "output_type": "execute_result"
    }
   ],
   "source": [
    "EbayesThresh.wfromt(np.array([2,3,5]),prior='cachy')"
   ]
  },
  {
   "cell_type": "markdown",
   "id": "af50c953-86f5-404a-9da9-391602fe988a",
   "metadata": {},
   "source": [
    "`wfromx`"
   ]
  },
  {
   "cell_type": "markdown",
   "id": "6a5ff3ad-8804-4214-aede-2dfa7ae3a4f0",
   "metadata": {},
   "source": [
    "> Suppose the vector $(x_1, \\cdots, x_n)$ is such that $x_i$ is drawn independently from a normal distribution with mean $\\theta_i$ and standard deviation $s_i$ ($s_i$ equals $1$ for Cauchy prior). The prior distribution of the $\\theta_i$ is a mixture with probability $1 − w$ of zero and probability $w$ of a given symmetric heavy-tailed distribution. This routine finds the marginal maximum likelihood estimate of the parameter $w$."
   ]
  },
  {
   "cell_type": "markdown",
   "id": "a5d8a2a2-14bb-4099-86c7-f0bb1799afda",
   "metadata": {},
   "source": [
    "*주어진 정규 분포 데이터에 대해 $\\theta_𝑖$의 사전 분포가 주어진 상황에서, 모수 $w$의 최대우도 추정치를 계산하는 방법을 제공한다*"
   ]
  },
  {
   "cell_type": "code",
   "execution_count": 9,
   "id": "314626a3-6dc7-419e-a17a-b4e9b17bb98e",
   "metadata": {},
   "outputs": [],
   "source": [
    "s = np.array([0] * 90 + [5] * 10)\n",
    "x = np.random.normal(0, s, size=100)"
   ]
  },
  {
   "cell_type": "code",
   "execution_count": 10,
   "id": "fc57fdd3-8daf-4885-8e93-6d2b0a9a2bda",
   "metadata": {},
   "outputs": [
    {
     "data": {
      "text/plain": [
       "0.08644292644513768"
      ]
     },
     "execution_count": 10,
     "metadata": {},
     "output_type": "execute_result"
    }
   ],
   "source": [
    "EbayesThresh.wfromx(x, prior = \"cauchy\")"
   ]
  },
  {
   "cell_type": "markdown",
   "id": "d225619e-6edc-4877-b6b8-fb997e937bdd",
   "metadata": {},
   "source": [
    "`isotone`"
   ]
  },
  {
   "cell_type": "markdown",
   "id": "d5be0587-9901-46a3-8ae7-85cfdf92d207",
   "metadata": {},
   "source": [
    "> Isotonic Regression은 입력 변수에 따른 출력 변수의 단조 증가(monotonic increasing) 또는 감소(monotonic decreasing) 패턴을 찾는 방법"
   ]
  },
  {
   "cell_type": "code",
   "execution_count": 11,
   "id": "50d3f97e-3039-4325-98ab-205c5eacc612",
   "metadata": {},
   "outputs": [
    {
     "data": {
      "text/plain": [
       "[3.67430141208924,\n",
       " -0.8467422493615953,\n",
       " -0.8467422493615953,\n",
       " -0.8467422493615953]"
      ]
     },
     "execution_count": 11,
     "metadata": {},
     "output_type": "execute_result"
    }
   ],
   "source": [
    "beta = EbayesThresh.beta_cauchy(np.array([-2,1,0,-4]))\n",
    "w = np.ones(len(beta))\n",
    "aa = w + 1/beta\n",
    "ps = w + aa\n",
    "ww = 1/aa**2\n",
    "wnew = EbayesThresh.isotone(ps, ww, increasing = False)\n",
    "wnew"
   ]
  },
  {
   "cell_type": "markdown",
   "id": "74a01364-da90-456f-9d61-8160da684753",
   "metadata": {},
   "source": [
    "`wmonfromx`"
   ]
  },
  {
   "cell_type": "markdown",
   "id": "587a1573-eca4-467a-8e3a-1a4028a8d33a",
   "metadata": {},
   "source": [
    "> Given a vector of data, find the marginal maximum likelihood choice of weight sequence subject to the constraints that the weights are monotone decreasing"
   ]
  },
  {
   "cell_type": "markdown",
   "id": "38ceac71-1926-44bc-83f1-c08d724c92c0",
   "metadata": {},
   "source": [
    "*데이터에 대해 가중치 시퀀스를 선택하는 과정에서 조건이 주어지는데, 이 가중치 시퀀스는 각각의 가중치 값이 단조 감소해야 하며, 주어진 데이터에 대한 최대 우도를 갖도록 선택되어야 함.*"
   ]
  },
  {
   "cell_type": "code",
   "execution_count": 12,
   "id": "b87a21a1-0929-4cfa-b457-289b75d9afdf",
   "metadata": {},
   "outputs": [],
   "source": [
    "s = np.array([0] * 30 + [5] * 10)\n",
    "x = np.random.normal(0, s, size=40)"
   ]
  },
  {
   "cell_type": "code",
   "execution_count": 13,
   "id": "97c98c4a-4cd9-454c-877d-5f6a381ca9c4",
   "metadata": {},
   "outputs": [
    {
     "data": {
      "text/plain": [
       "array([0.16414571, 0.16414571, 0.16414571, 0.16414571, 0.16414571,\n",
       "       0.16414571, 0.16414571, 0.16414571, 0.16414571, 0.16414571,\n",
       "       0.16414571, 0.16414571, 0.16414571, 0.16414571, 0.16414571,\n",
       "       0.16414571, 0.16414571, 0.16414571, 0.16414571, 0.16414571,\n",
       "       0.16414571, 0.16414571, 0.16414571, 0.16414571, 0.16414571,\n",
       "       0.16414571, 0.16414571, 0.16414571, 0.16414571, 0.16414571,\n",
       "       0.16414571, 0.16414571, 0.16414571, 0.16414571, 0.16414571,\n",
       "       0.16414571, 0.16414571, 0.16414571, 0.16414571, 0.16414571])"
      ]
     },
     "execution_count": 13,
     "metadata": {},
     "output_type": "execute_result"
    }
   ],
   "source": [
    "EbayesThresh.wmonfromx(x, prior = \"cauchy\")"
   ]
  },
  {
   "cell_type": "markdown",
   "id": "d1ba29f1-17ba-44d7-bc9c-56b1669ca307",
   "metadata": {},
   "source": [
    "`thresh`"
   ]
  },
  {
   "cell_type": "markdown",
   "id": "a35b5df0-5c82-45d7-8fc6-fd50c0ea9baf",
   "metadata": {},
   "source": [
    "> 임계값 t를 이용해서 데이터 조정"
   ]
  },
  {
   "cell_type": "code",
   "execution_count": 14,
   "id": "78e57bc7-116c-4d3d-aa30-f1ba9e579a28",
   "metadata": {},
   "outputs": [
    {
     "data": {
      "text/plain": [
       "array([-3.6, -2.6, -1.6, -0.6, -0. ,  0. ,  0. ,  0.6,  1.6,  2.6])"
      ]
     },
     "execution_count": 14,
     "metadata": {},
     "output_type": "execute_result"
    }
   ],
   "source": [
    "EbayesThresh.threshold(np.array(range(-5,5)), t=1.4, hard=False)"
   ]
  },
  {
   "cell_type": "markdown",
   "id": "92547c48-ed40-4d31-a4b5-4ff0a2611dc7",
   "metadata": {},
   "source": [
    "`negloglik.laplace`"
   ]
  },
  {
   "cell_type": "markdown",
   "id": "e31a9d26-36be-434e-89f2-23c03e443032",
   "metadata": {},
   "source": [
    "> Marginal negative log likelihood function for laplace prior."
   ]
  },
  {
   "cell_type": "markdown",
   "id": "b3bd11fb-fa5b-4a16-9660-4c108196c7ae",
   "metadata": {},
   "source": [
    "- 라플라스 프라이어에 대한 한계음의로그우도함수 계산"
   ]
  },
  {
   "cell_type": "code",
   "execution_count": 15,
   "id": "fa6f36cd-c343-4a35-8e77-bdb85fd10f44",
   "metadata": {},
   "outputs": [],
   "source": [
    "xpar = np.array([0.5,0.6,0.3])\n",
    "xx = np.array([1,2,3,4,5])\n",
    "ss = np.array([1])\n",
    "tlo = np.sqrt(2 * np.log(len(np.array([1,2,3,4,5])))) * 1\n",
    "thi = np.array([0,0,0])\n",
    "a = xpar[1]"
   ]
  },
  {
   "cell_type": "code",
   "execution_count": 16,
   "id": "9afd8514-1c47-4e5d-b70f-a94490fd04a2",
   "metadata": {},
   "outputs": [
    {
     "data": {
      "text/plain": [
       "-16.797273710172206"
      ]
     },
     "execution_count": 16,
     "metadata": {},
     "output_type": "execute_result"
    }
   ],
   "source": [
    "EbayesThresh.negloglik_laplace(xpar, xx, ss, tlo, thi)"
   ]
  },
  {
   "cell_type": "markdown",
   "id": "ed7715e2-bc87-4fb0-9f35-0809ad745db8",
   "metadata": {},
   "source": [
    "`postmean.cauchy`"
   ]
  },
  {
   "cell_type": "markdown",
   "id": "0abf26ab-4776-4005-9295-3b439bc843c6",
   "metadata": {},
   "source": [
    "> Find the posterior mean for the quasi-Cauchy prior with mixing weight w given data x, which may be a scalar or a vector."
   ]
  },
  {
   "cell_type": "markdown",
   "id": "754501e6-a37c-4200-8343-508c1d671da6",
   "metadata": {},
   "source": [
    "- quasi-Cauch에 대한 사후 평균 구하기"
   ]
  },
  {
   "cell_type": "code",
   "execution_count": 17,
   "id": "e30de365-f9cf-45bc-87a6-b7b9d89ab545",
   "metadata": {},
   "outputs": [
    {
     "data": {
      "text/plain": [
       "array([ 0,  0,  0, -3,  7, 49])"
      ]
     },
     "execution_count": 17,
     "metadata": {},
     "output_type": "execute_result"
    }
   ],
   "source": [
    "EbayesThresh.postmean_cauchy(np.array([-2,1,0,-4,8,50]),0.5)"
   ]
  },
  {
   "cell_type": "markdown",
   "id": "e28670de-b3fb-4562-b053-fe0eeab79904",
   "metadata": {},
   "source": [
    "`wpost.laplace`"
   ]
  },
  {
   "cell_type": "markdown",
   "id": "bb9038a6-421f-4ac4-adbd-52a973c77197",
   "metadata": {},
   "source": [
    "> Calculate the posterior weight for non-zero effect"
   ]
  },
  {
   "cell_type": "markdown",
   "id": "3452bf95-4b1f-4f38-af26-d078f096b4f9",
   "metadata": {},
   "source": [
    "- 0이 아닌 효과에 대한 사후 가중치 계산"
   ]
  },
  {
   "cell_type": "code",
   "execution_count": 18,
   "id": "def1cb56-68a3-4b8d-9b26-4f0b41967eb6",
   "metadata": {},
   "outputs": [
    {
     "data": {
      "text/plain": [
       "array([0.65396152, 0.38270015, 0.30467782, 0.99652125, 1.        ,\n",
       "       1.        ])"
      ]
     },
     "execution_count": 18,
     "metadata": {},
     "output_type": "execute_result"
    }
   ],
   "source": [
    "EbayesThresh.wpost_laplace(0.5,np.array([-2,1,0,-4,8,50]))"
   ]
  },
  {
   "cell_type": "markdown",
   "id": "9807d13a-c4ca-4a17-969f-f751fa39fe05",
   "metadata": {},
   "source": [
    "`postmean.laplace`"
   ]
  },
  {
   "cell_type": "markdown",
   "id": "1ab424b1-dcac-488f-bce7-c9f95883e544",
   "metadata": {},
   "source": [
    "> Find the posterior mean for the double exponential prior for given $x, s (sd), w$, and $a$."
   ]
  },
  {
   "cell_type": "markdown",
   "id": "eae49959-e67e-4b31-9a2e-564c30d6fd8e",
   "metadata": {},
   "source": [
    "- 이전 지수 분포에 대한 사후 평균"
   ]
  },
  {
   "cell_type": "code",
   "execution_count": 19,
   "id": "82b4fc5b-6d08-44d8-bc18-ba08d4f510c4",
   "metadata": {},
   "outputs": [
    {
     "data": {
      "text/plain": [
       "array([-1.63431541,  0.56091461,  0.        , -4.48434556,  8.5       ,\n",
       "       50.5       ])"
      ]
     },
     "execution_count": 19,
     "metadata": {},
     "output_type": "execute_result"
    }
   ],
   "source": [
    "EbayesThresh.postmean_laplace(np.array([-2,1,0,-4,8,50]))"
   ]
  },
  {
   "cell_type": "markdown",
   "id": "1aa5c88a-aee9-43a6-88ef-b34db7c172e5",
   "metadata": {},
   "source": [
    "`postmean`"
   ]
  },
  {
   "cell_type": "markdown",
   "id": "4e061743-58ed-4340-914f-24c897e4c972",
   "metadata": {},
   "source": [
    "> Given a single value or a vector of data and sampling standard deviations (sd equals 1 for Cauchy prior), find the corresponding posterior mean estimate(s) of the underlying signal value(s)."
   ]
  },
  {
   "cell_type": "markdown",
   "id": "9191169d-5089-4ff6-b4e1-ce636fa8e8a3",
   "metadata": {},
   "source": [
    "- 적절한 사후 평균 찾기"
   ]
  },
  {
   "cell_type": "code",
   "execution_count": 20,
   "id": "4f6ec048-878a-4dde-bbd2-bcaefbd09b1c",
   "metadata": {},
   "outputs": [
    {
     "data": {
      "text/plain": [
       "array([-1.63431541,  0.56091461,  0.        , -4.48434556,  8.5       ,\n",
       "       50.5       ])"
      ]
     },
     "execution_count": 20,
     "metadata": {},
     "output_type": "execute_result"
    }
   ],
   "source": [
    "EbayesThresh.postmean(np.array([-2,1,0,-4,8,50]), s=1, w = 0.5, prior = \"laplace\", a = 0.5)"
   ]
  },
  {
   "cell_type": "markdown",
   "id": "cf25ec4c-b4a6-476d-9c0c-7d64bd476207",
   "metadata": {},
   "source": [
    "`wandafromx`"
   ]
  },
  {
   "cell_type": "markdown",
   "id": "a29e4ec3-322b-4b7d-8168-ba3b39df5503",
   "metadata": {},
   "source": [
    "> Given a vector of data and a single value or vector of sampling standard deviations, find the marginal maximum likelihood choice of both weight and scale factor under the Laplace prior"
   ]
  },
  {
   "cell_type": "code",
   "execution_count": 23,
   "id": "a7131cbd-1729-4ec7-a77d-6906a49c29f2",
   "metadata": {},
   "outputs": [
    {
     "data": {
      "text/plain": [
       "{'w': -1.491836784542754, 'a': 0.5}"
      ]
     },
     "execution_count": 23,
     "metadata": {},
     "output_type": "execute_result"
    }
   ],
   "source": [
    "EbayesThresh.wandafromx(np.array([-2,1,0,-4,8,50]))"
   ]
  },
  {
   "cell_type": "markdown",
   "id": "d4042c98-d51b-4e3f-a770-73376ee23bc3",
   "metadata": {},
   "source": [
    "`threshold`"
   ]
  },
  {
   "cell_type": "markdown",
   "id": "01bee521-27a4-4bec-b431-45395cbb3a7d",
   "metadata": {},
   "source": [
    "> Given a data value or a vector of data, threshold the data at a specified value, using hard or soft thresholding"
   ]
  },
  {
   "cell_type": "markdown",
   "id": "a78f7a6a-3700-401b-8ed3-3325a735ed21",
   "metadata": {},
   "source": [
    "*임계값 t를 이용하여 threshold하는 함수*"
   ]
  },
  {
   "cell_type": "markdown",
   "id": "c78dfac2-df91-4649-a90e-b6648df88197",
   "metadata": {},
   "source": [
    "```R\n",
    "threshld <- function(x, t, hard = TRUE) {\n",
    "#\n",
    "#  threshold the data x using threshold t\n",
    "#  if hard=TRUE use hard thresholding\n",
    "#  if hard=FALSE use soft thresholding\n",
    "\tif(hard) z <- x * (abs(x) >= t) else {\n",
    "\t\tz <- sign(x) * pmax(0, abs(x) - t)\n",
    "\t}\n",
    "\treturn(z)\n",
    "}\n",
    "```"
   ]
  },
  {
   "cell_type": "code",
   "execution_count": 7,
   "id": "6786f33e-dd81-45fe-9043-14b6c1e4706c",
   "metadata": {},
   "outputs": [
    {
     "data": {
      "text/plain": [
       "array([0, 0, 3, 4, 5])"
      ]
     },
     "execution_count": 7,
     "metadata": {},
     "output_type": "execute_result"
    }
   ],
   "source": [
    "EbayesThresh.threshld(np.array([1,2,3,4,5]), 3, hard = True)"
   ]
  },
  {
   "cell_type": "markdown",
   "id": "3294200a-fe6c-4c83-8bb9-0375c1228cc0",
   "metadata": {},
   "source": [
    "`vecbinsolv`"
   ]
  },
  {
   "cell_type": "code",
   "execution_count": null,
   "id": "30bd5963-4e82-45fe-ae69-1801eef6c02c",
   "metadata": {},
   "outputs": [],
   "source": []
  },
  {
   "cell_type": "code",
   "execution_count": null,
   "id": "dcabbcb2-3e17-4b29-a449-f6f383ee1284",
   "metadata": {},
   "outputs": [],
   "source": []
  },
  {
   "cell_type": "code",
   "execution_count": null,
   "id": "3554ab92-90a5-40bb-a854-4c12c22f24d1",
   "metadata": {},
   "outputs": [],
   "source": []
  },
  {
   "cell_type": "markdown",
   "id": "f481cd95-1af1-4b39-b3cd-9e06a9b39075",
   "metadata": {},
   "source": [
    "```R\n",
    "vecbinsolv <- function(zf, fun, tlo, thi, nits = 30, ...) {\n",
    "#\n",
    "#  Given a monotone function fun, and a vector of values\n",
    "#   zf find a vector of numbers t such that f(t) = zf.\n",
    "#   The solution is constrained to lie on the interval (tlo, thi)\n",
    "#\n",
    "#  The function fun may be a vector of increasing functions \n",
    "#\n",
    "#  Present version is inefficient because separate calculations\n",
    "#   are done for each element of z, and because bisections are done even\n",
    "#   if the solution is outside the range supplied\n",
    "#    \n",
    "#  It is important that fun should work for vector arguments.\n",
    "#   Additional arguments to fun can be passed through ...\n",
    "#\n",
    "#  Works by successive bisection, carrying out nits harmonic bisections\n",
    "#   of the interval between tlo and thi\n",
    "#\n",
    "\tnz <- length(zf)\n",
    "\tif(length(tlo)==1) tlo <- rep(tlo, nz)\n",
    "\tif(length(tlo)!=nz)\n",
    "          stop(paste(\"Lower constraint has to be homogeneous\",\n",
    "                     \"or has the same length as #functions.\"))\n",
    "\tif(length(thi)==1) thi <- rep(thi, nz)\n",
    "\tif(length(thi)!=nz)\n",
    "          stop(paste(\"Upper constraint has to be homogeneous\",\n",
    "                     \"or has the same length as #functions.\"))\n",
    "\n",
    "#  carry out nits bisections\n",
    "#\n",
    "\tfor(jj in (1:nits)) {\n",
    "\t\ttmid <- (tlo + thi)/2\n",
    "\t\tfmid <- fun(tmid, ...)\n",
    "\t\tindt <- (fmid <= zf)\n",
    "\t\ttlo[indt] <- tmid[indt]\n",
    "\t\tthi[!indt] <- tmid[!indt]\n",
    "\t}\n",
    "\ttsol <- (tlo + thi)/2\n",
    "\treturn(tsol)\n",
    "}\n",
    "```"
   ]
  },
  {
   "cell_type": "code",
   "execution_count": null,
   "id": "d858dc8c-6dc3-43bb-a8df-05d592202c02",
   "metadata": {},
   "outputs": [],
   "source": []
  },
  {
   "cell_type": "markdown",
   "id": "8dcd0d7e-eace-46fd-b80c-f612d161771a",
   "metadata": {},
   "source": [
    "`tfromw`"
   ]
  },
  {
   "cell_type": "markdown",
   "id": "cb479aec-fd7f-459a-8d59-62a7f0eb1375",
   "metadata": {},
   "source": [
    "> Given a single value or a vector of weights (i.e. prior probabilities that the parameter is nonzero) and sampling standard deviations (sd equals 1 for Cauchy prior), find the corresponding threshold(s) under the specified prior."
   ]
  },
  {
   "cell_type": "markdown",
   "id": "e51be23a-55e4-43b1-8460-92c5b231c70a",
   "metadata": {},
   "source": [
    "```R\n",
    "tfromw <- function(w, s = 1, prior = \"laplace\", bayesfac = FALSE, a = 0.5) {\n",
    "#\n",
    "#  Given the vector of weights w and s (sd), find the threshold or\n",
    "#   vector of thresholds corresponding to these weights, under the\n",
    "#   specified prior.\n",
    "#  If bayesfac=TRUE the Bayes factor thresholds are found, otherwise\n",
    "#   the posterior median thresholds are found.\n",
    "#  If the Laplace prior is used, a gives the value of the inverse scale\n",
    "#   (i.e., rate) parameter\n",
    "#\n",
    "\tpr <- substring(prior, 1, 1)\n",
    "\tif(bayesfac) {\n",
    "\t\tz <- 1/w - 2\n",
    "\t\tif(pr == \"l\"){ \n",
    "\t\t  if(length(w)>=length(s)) {\n",
    "\t\t    zz <- z\n",
    "\t\t  } else { zz <- rep(z, length(s)) }\n",
    "\t\t  tt <- vecbinsolv(zz, beta.laplace, 0, 10, s = s, a = a)\n",
    "\t\t}\n",
    "\t\tif(pr == \"c\")\n",
    "\t\t\ttt <- vecbinsolv(z, beta.cauchy, 0, 10)\n",
    "\t}\n",
    "\telse {\n",
    "\t  z <- 0\n",
    "\t\tif(pr == \"l\"){\n",
    "\t\t  zz <- rep(0, max(length(s), length(w)))\n",
    "                  \n",
    "\t\t  # When x/s-s*a>25, laplace.threshzero has value\n",
    "\t\t  #  close to 1/2; The boundary value of x can be\n",
    "\t\t  #  treated as the upper bound for search.\n",
    "  \t\t  tt <- vecbinsolv(zz, laplace.threshzero, 0, s*(25+s*a),\n",
    "                                   s = s, w = w, a = a)\n",
    "\t\t}\n",
    "\t\tif(pr == \"c\")\n",
    "\t\t\ttt <- vecbinsolv(z, cauchy.threshzero, 0, 10, w = w)\n",
    "\t}\n",
    "\treturn(tt)\n",
    "}\n",
    "```"
   ]
  },
  {
   "cell_type": "code",
   "execution_count": null,
   "id": "44df58cd-f7fd-48ac-83f2-b7f613f0c90d",
   "metadata": {},
   "outputs": [],
   "source": [
    "def tfromw(w, s=1, prior=\"laplace\", bayesfac=False, a=0.5):\n",
    "    pr = prior[0:1]\n",
    "    if bayesfac:\n",
    "        z = 1/w - 2\n",
    "        if pr == \"l\":\n",
    "            if len(w) >= len(s):\n",
    "                zz = z\n",
    "            else:\n",
    "                zz = np.tile(z, len(s))\n",
    "            tt = vecbinsolv(zz, beta.laplace, 0, 10, s = s, a = a) ********************\n",
    "        elif pr == \"c\":\n",
    "            tt = vecbinsolv(z, beta.cauchy, 0, 10)\n",
    "    else:\n",
    "        z = 0\n",
    "        if pr == \"l\":\n",
    "            zz = [0] * max(len(s), len(w))\n",
    "            tt = vecbinsolv(zz, laplace.threshzero, 0, s*(25+s*a), s = s, w = w, a = a)\n",
    "        elif prior == \"c\":\n",
    "            tt = vecbinsolv(z, cauchy.threshzero, 0, 10, w = w)\n",
    "    return tt\n"
   ]
  },
  {
   "cell_type": "code",
   "execution_count": null,
   "id": "58f80a46-89e0-4f83-8296-1ddd212ed453",
   "metadata": {},
   "outputs": [],
   "source": []
  },
  {
   "cell_type": "markdown",
   "id": "b509f71b-4fd3-4fe3-905b-fd1b3144f6dd",
   "metadata": {},
   "source": [
    "`tfromx`"
   ]
  },
  {
   "cell_type": "markdown",
   "id": "036e86e2-5e93-40dd-8231-8d0a15274e6c",
   "metadata": {},
   "source": [
    "> Given a vector of data and standard deviations (sd equals 1 for Cauchy prior), find the value or vector (heterogeneous sampling standard deviation with Laplace prior) of thresholds corresponding to the marginal maximum likelihood choice of weight."
   ]
  },
  {
   "cell_type": "markdown",
   "id": "9616c67c-5bb8-4520-9f5b-0a58cef5670a",
   "metadata": {},
   "source": [
    "*데이터가 주어졌을때, 가중치의 한계 최대 우도로 임계값 찾는 함수*"
   ]
  },
  {
   "cell_type": "markdown",
   "id": "c54a5f6e-a7a2-4496-b5fa-24c6c77c6350",
   "metadata": {},
   "source": [
    "```R\n",
    "tfromx <- function (x, s = 1, prior = \"laplace\", bayesfac = FALSE, a = 0.5,\n",
    "                    universalthresh = TRUE) {\n",
    "#\n",
    "#  Given the data x, the prior, and any other parameters, find the\n",
    "#   threshold corresponding to the marginal maximum likelihood\n",
    "#   estimator of the mixing weight.\n",
    "#\n",
    "  pr <- substring(prior, 1, 1)\n",
    "  if(pr == \"c\")\n",
    "    s = 1\n",
    "  if ( pr==\"l\" && is.na (a) ) {\n",
    "\twa <-  wandafromx(x, s, universalthresh)\n",
    "\tw  <-  wa$w\n",
    "\ta  <-  wa$a \n",
    "  } else {\n",
    "\tw <- wfromx(x, s, prior = prior, a = a)\n",
    "  }\n",
    "  return(tfromw(w, s, prior = prior, bayesfac = bayesfac, a = a))\n",
    "}\n",
    "```"
   ]
  },
  {
   "cell_type": "code",
   "execution_count": null,
   "id": "a41ad3ed-bba3-456c-84b7-065385208787",
   "metadata": {},
   "outputs": [],
   "source": [
    "EbayesThresh.tfromx(x, s = 1, prior = \"laplace\", bayesfac = False, a = 0.5, universalthresh = True)"
   ]
  }
 ],
 "metadata": {
  "kernelspec": {
   "display_name": "Python 3",
   "language": "python",
   "name": "python3"
  },
  "language_info": {
   "codemirror_mode": {
    "name": "ipython",
    "version": 3
   },
   "file_extension": ".py",
   "mimetype": "text/x-python",
   "name": "python",
   "nbconvert_exporter": "python",
   "pygments_lexer": "ipython3",
   "version": "3.8.0"
  }
 },
 "nbformat": 4,
 "nbformat_minor": 5
}
