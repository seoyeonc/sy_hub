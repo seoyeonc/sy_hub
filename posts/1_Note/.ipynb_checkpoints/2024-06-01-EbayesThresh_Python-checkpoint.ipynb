{
 "cells": [
  {
   "cell_type": "raw",
   "id": "ecafae6c-f0a2-4852-ae83-c01c4513d836",
   "metadata": {
    "id": "cac470df-29e7-4148-9bbd-d8b9a32fa570",
    "tags": []
   },
   "source": [
    "---\n",
    "title: \"EbayesThresh Python화 시도\"\n",
    "author: \"SEOYEON CHOI\"\n",
    "date: \"2024-06-01\"\n",
    "---"
   ]
  },
  {
   "cell_type": "markdown",
   "id": "3d501e0e-ba39-4e4b-b47c-2c01f59e07db",
   "metadata": {},
   "source": [
    "https://cran.r-project.org/web/packages/EbayesThresh/EbayesThresh.pdf"
   ]
  },
  {
   "cell_type": "markdown",
   "id": "4839d19a-56b2-458b-95dd-d596e42c9ca2",
   "metadata": {},
   "source": [
    "https://guebin.github.io/STML2022/posts/II.%20DNN/2022-10-12-6wk.html#%EC%8B%9C%EB%B2%A4%EC%BD%94%EC%A0%95%EB%A6%AC"
   ]
  },
  {
   "cell_type": "markdown",
   "id": "45b6158d-6c95-4349-8f57-57f4319dac5d",
   "metadata": {},
   "source": [
    "# Import"
   ]
  },
  {
   "cell_type": "code",
   "execution_count": 1,
   "id": "7b74dbea-662a-4ddf-b71f-b5ad0edf1778",
   "metadata": {},
   "outputs": [],
   "source": [
    "import numpy as np\n",
    "import matplotlib.pyplot as plt\n",
    "import ebayesthresh"
   ]
  },
  {
   "cell_type": "markdown",
   "id": "f67c6dca-cca7-4e88-b1b6-ce89976d1b3b",
   "metadata": {},
   "source": [
    "## 확인용 import"
   ]
  },
  {
   "cell_type": "code",
   "execution_count": 2,
   "id": "5f0a2e3e-bef8-48a9-af05-343378f104f4",
   "metadata": {},
   "outputs": [],
   "source": [
    "from scipy.stats import norm, stats\n",
    "from scipy.optimize import minimize, root_scalar\n",
    "from statsmodels.robust.scale import mad\n",
    "import pywt"
   ]
  },
  {
   "cell_type": "markdown",
   "id": "def4d6e1-c26f-406d-b212-2652fbd98ce6",
   "metadata": {},
   "source": [
    "# beta.cauchy"
   ]
  },
  {
   "cell_type": "markdown",
   "id": "43e97aa0-7ba1-4e23-b0dd-399c929ef26c",
   "metadata": {},
   "source": [
    "> Function beta for the quasi-Cauchy prior"
   ]
  },
  {
   "cell_type": "markdown",
   "id": "56965f19-ffb5-4c07-bece-297e09160b5f",
   "metadata": {},
   "source": [
    "- Description"
   ]
  },
  {
   "cell_type": "markdown",
   "id": "da48ae1d-4d63-4436-962e-550a761b4dc5",
   "metadata": {},
   "source": [
    "> Given a value or vector x of values, find the value(s) of the function $\\beta(x) = g(x)/\\phi(x) − 1$, where\n",
    "$g$ is the convolution of the quasi-Cauchy with the normal density $\\phi(x)$."
   ]
  },
  {
   "cell_type": "markdown",
   "id": "94044667-6997-499d-b85e-b2654aae4494",
   "metadata": {},
   "source": [
    "*x가 입력되면 코시 분포와 정규 분포를 혼합해서 함수 베타 구하기*"
   ]
  },
  {
   "cell_type": "code",
   "execution_count": 3,
   "id": "6eda332f-56ae-45e3-83d0-60372bbb189d",
   "metadata": {},
   "outputs": [],
   "source": [
    "x = np.array([-2,1,0,-4,8,50])"
   ]
  },
  {
   "cell_type": "code",
   "execution_count": 4,
   "id": "83d2e100-7eea-4c67-9555-62c667a9f3c1",
   "metadata": {},
   "outputs": [
    {
     "data": {
      "text/plain": [
       "array([5.39909665e-02, 2.41970725e-01, 3.98942280e-01, 1.33830226e-04,\n",
       "       5.05227108e-15, 0.00000000e+00])"
      ]
     },
     "execution_count": 4,
     "metadata": {},
     "output_type": "execute_result"
    }
   ],
   "source": [
    "phix = norm.pdf(x)\n",
    "phix"
   ]
  },
  {
   "cell_type": "markdown",
   "id": "6b8f0466-0023-4f78-9e4b-ed81d1a5141f",
   "metadata": {},
   "source": [
    "- x의 확률밀도함수pdf 구하기"
   ]
  },
  {
   "cell_type": "code",
   "execution_count": 5,
   "id": "e98f276c-5326-4b4d-ae44-eea140d80241",
   "metadata": {},
   "outputs": [
    {
     "data": {
      "text/plain": [
       "array([ True,  True, False,  True,  True,  True])"
      ]
     },
     "execution_count": 5,
     "metadata": {},
     "output_type": "execute_result"
    }
   ],
   "source": [
    "j = (x != 0)\n",
    "j"
   ]
  },
  {
   "cell_type": "markdown",
   "id": "17b28c3f-637d-4e4a-b751-ec1394799dff",
   "metadata": {},
   "source": [
    "- 0이 아닌 인덱스만 얻기"
   ]
  },
  {
   "cell_type": "code",
   "execution_count": 6,
   "id": "6bc89b87-9433-411a-b959-429335f4b423",
   "metadata": {},
   "outputs": [
    {
     "data": {
      "text/plain": [
       "array([-2,  1,  0, -4,  8, 50])"
      ]
     },
     "execution_count": 6,
     "metadata": {},
     "output_type": "execute_result"
    }
   ],
   "source": [
    "beta = x\n",
    "beta"
   ]
  },
  {
   "cell_type": "code",
   "execution_count": 7,
   "id": "94a4ea29-d8b9-4f25-967a-67ba7e963640",
   "metadata": {},
   "outputs": [
    {
     "data": {
      "text/plain": [
       "array([-2. ,  1. , -0.5, -4. ,  8. , 50. ])"
      ]
     },
     "execution_count": 7,
     "metadata": {},
     "output_type": "execute_result"
    }
   ],
   "source": [
    "beta = np.where(j == False, -1/2, beta)\n",
    "beta"
   ]
  },
  {
   "cell_type": "markdown",
   "id": "272f488d-f4d3-4047-8617-521b3de2d7bc",
   "metadata": {},
   "source": [
    "- j가 False 즉 0이면 -1/2를 넣고 아니면 beta값 그대로 넣기"
   ]
  },
  {
   "cell_type": "code",
   "execution_count": 8,
   "id": "884e614d-7a6c-427f-864e-81f099a0a873",
   "metadata": {},
   "outputs": [
    {
     "name": "stderr",
     "output_type": "stream",
     "text": [
      "<ipython-input-8-d26bd9cf5070>:1: RuntimeWarning: divide by zero encountered in divide\n",
      "  beta[j] = (norm.pdf(0) / phix[j] - 1) / (x[j] ** 2) - 1\n"
     ]
    },
    {
     "data": {
      "text/plain": [
       "array([ 5.97264025e-01, -3.51278729e-01, -5.00000000e-01,  1.85247374e+02,\n",
       "        1.23379625e+12,             inf])"
      ]
     },
     "execution_count": 8,
     "metadata": {},
     "output_type": "execute_result"
    }
   ],
   "source": [
    "beta[j] = (norm.pdf(0) / phix[j] - 1) / (x[j] ** 2) - 1\n",
    "beta"
   ]
  },
  {
   "cell_type": "markdown",
   "id": "94bd5e8e-1d6d-47f8-9360-7aa0361c3533",
   "metadata": {},
   "source": [
    "- 0의 확률밀도함수pdf에서 x의 확률밀도함수phix로 나누어서 1을 빼고 그것을 x 중 0이 아닌 값들에 제곱한 값으로 나눠 1을 빼기\n",
    "- $\\beta(x) = \\begin{cases} x & \\text{ if } x = 0 \\\\ \\frac{\\frac{\\phi(0)}{\\phi(x)}-1}{x^2} - 1 & \\\\ \\text{ if } x \\ne 0\\end{cases}$"
   ]
  },
  {
   "cell_type": "markdown",
   "id": "f10a77bd-c16c-4aa4-bbe8-e8945b6bea67",
   "metadata": {},
   "source": [
    "- R code"
   ]
  },
  {
   "cell_type": "markdown",
   "id": "0971d959-faf3-4971-904a-c56bf15fde05",
   "metadata": {},
   "source": [
    "```R\n",
    "beta.cauchy <- function(x) {\n",
    "#\n",
    "#   Find the function beta for the mixed normal prior with Cauchy\n",
    "#   tails.  It is assumed that the noise variance is equal to one.\n",
    "#\n",
    "\tphix <- dnorm(x)\n",
    "\tj <- (x != 0)\n",
    "\tbeta <- x\n",
    "\tbeta[!j] <- -1/2\n",
    "\tbeta[j] <- (dnorm(0)/phix[j] - 1)/x[j]^2 - 1\n",
    "\treturn(beta)\n",
    "}\n",
    "```"
   ]
  },
  {
   "cell_type": "markdown",
   "id": "ef5bc485-462b-4b37-af8b-da3a1a4f4b3c",
   "metadata": {},
   "source": [
    "**결과**"
   ]
  },
  {
   "cell_type": "markdown",
   "id": "9ba79e9b-c46e-4ec3-a431-4cc718b19b18",
   "metadata": {},
   "source": [
    "- Python"
   ]
  },
  {
   "cell_type": "code",
   "execution_count": 9,
   "id": "bb4b9c53-44e8-45a2-9eb9-abc205f9729e",
   "metadata": {},
   "outputs": [
    {
     "name": "stderr",
     "output_type": "stream",
     "text": [
      "/home/csy/Dropbox/sy_hub/posts/1_Note/ebayesthresh/utils.py:21: RuntimeWarning: divide by zero encountered in divide\n",
      "  beta[j] = (norm.pdf(0) / phix[j] - 1) / (x[j] ** 2) - 1\n"
     ]
    },
    {
     "data": {
      "text/plain": [
       "array([ 5.97264025e-01, -3.51278729e-01, -5.00000000e-01,  1.85247374e+02,\n",
       "        1.23379625e+12,             inf])"
      ]
     },
     "execution_count": 9,
     "metadata": {},
     "output_type": "execute_result"
    }
   ],
   "source": [
    "ebayesthresh.beta_cauchy(np.array([-2,1,0,-4,8,50]))"
   ]
  },
  {
   "cell_type": "markdown",
   "id": "91a9054f-acee-46a4-9cf8-58e1b7f4e9fd",
   "metadata": {},
   "source": [
    "- R"
   ]
  },
  {
   "cell_type": "markdown",
   "id": "92212884-d02c-4e92-b9cb-11239ec72be0",
   "metadata": {},
   "source": [
    "```R\n",
    "> beta.cauchy(c(-2,1,0,-4,8,50))\n",
    "[1]  5.972640e-01 -3.512787e-01 -5.000000e-01  1.852474e+02  1.233796e+12           Inf\n",
    "```"
   ]
  },
  {
   "cell_type": "markdown",
   "id": "1ad008ed-3d0b-457f-99e2-a35ee4db7c6a",
   "metadata": {},
   "source": [
    "- 무한히 꼬리가 긴 분포를 가진 코시분포"
   ]
  },
  {
   "cell_type": "code",
   "execution_count": 10,
   "id": "799f0502-4646-4661-8361-91f4df6a68dd",
   "metadata": {},
   "outputs": [
    {
     "data": {
      "image/png": "[encoded data removed]",
      "text/plain": [
       "<Figure size 864x432 with 2 Axes>"
      ]
     },
     "metadata": {
      "needs_background": "light"
     },
     "output_type": "display_data"
    }
   ],
   "source": [
    "import numpy as np\n",
    "import matplotlib.pyplot as plt\n",
    "from scipy.stats import cauchy\n",
    "\n",
    "# 모수 설정\n",
    "loc_values = [0.0, 0.0, -2.0]  # 위치 모수\n",
    "scale_values = [0.5, 1.0, 2.0]  # 척도 모수\n",
    "\n",
    "# 그래프 그리기\n",
    "x = np.linspace(-10, 10, 1000)\n",
    "plt.figure(figsize=(12, 6))\n",
    "\n",
    "# PDF 그리기\n",
    "plt.subplot(1, 2, 1)\n",
    "for loc, scale in zip(loc_values, scale_values):\n",
    "    plt.plot(x, cauchy.pdf(x, loc, scale), label=f'loc={loc}, scale={scale}')\n",
    "plt.title('Cauchy PDF')\n",
    "plt.xlabel('x')\n",
    "plt.ylabel('Probability Density')\n",
    "plt.legend()\n",
    "\n",
    "# CDF 그리기\n",
    "plt.subplot(1, 2, 2)\n",
    "for loc, scale in zip(loc_values, scale_values):\n",
    "    plt.plot(x, cauchy.cdf(x, loc, scale), label=f'loc={loc}, scale={scale}')\n",
    "plt.title('Cauchy CDF')\n",
    "plt.xlabel('x')\n",
    "plt.ylabel('Cumulative Probability')\n",
    "plt.legend()\n",
    "\n",
    "plt.show()"
   ]
  },
  {
   "cell_type": "markdown",
   "id": "5c8a622f-de1e-4717-9c26-5a5c62f67dfc",
   "metadata": {},
   "source": [
    "# beta.laplace"
   ]
  },
  {
   "cell_type": "markdown",
   "id": "86db9185-0acc-4107-95fe-b5cae990e312",
   "metadata": {},
   "source": [
    "> Function beta for the Laplace prior"
   ]
  },
  {
   "cell_type": "markdown",
   "id": "4bf3908b-933e-492d-a5f1-f056209ade11",
   "metadata": {},
   "source": [
    "- Description"
   ]
  },
  {
   "cell_type": "markdown",
   "id": "28121928-cc1b-4531-aa03-afa7baba87e3",
   "metadata": {},
   "source": [
    ">  Given a single value or a vector of $x$ and $s$, find the value(s) of the function $\\beta(x; s, a) = \\frac{g(x; s, a)}{f_n(x; 0, s)}−1$, where $f_n(x; 0, s)$ is the normal density with mean $0$ and standard deviation $s$, and $g$ is the convolution of the Laplace density with scale parameter a, $γa(\\mu)$, with the normal density $f_n(x; µ, s)$ with mean mu and standard deviation $s$."
   ]
  },
  {
   "cell_type": "markdown",
   "id": "4f54ecb9-1dde-429c-9c29-9f2b458635f1",
   "metadata": {},
   "source": [
    "*평균이 $\\mu$이며, 스케일 파라메터 a를 가진 라플라스와 정규분포의 합성함수 $g$와 평균이 0이고 표준편차가s인 f로 계산되는 함수 베타*"
   ]
  },
  {
   "cell_type": "code",
   "execution_count": 11,
   "id": "231edf1b-c02e-4e9d-bbeb-084b7b5a168e",
   "metadata": {},
   "outputs": [],
   "source": [
    "# x = np.array([-2,1,0,-4,8,50])\n",
    "x = 2.14\n",
    "s = 1\n",
    "# s = np.arange(1, 7)\n",
    "a = 0.5"
   ]
  },
  {
   "cell_type": "markdown",
   "id": "93b65f30-d2c6-445b-aecd-8936aedb6c55",
   "metadata": {},
   "source": [
    "- s는 표준편차\n",
    "- a는 Laplaxe prior모수, 이 값이 클수록 부포 모양이 뾰족해진다."
   ]
  },
  {
   "cell_type": "code",
   "execution_count": 12,
   "id": "9ca7e9a4-0f51-4e36-acfd-c4689279d2b9",
   "metadata": {},
   "outputs": [
    {
     "data": {
      "text/plain": [
       "2.14"
      ]
     },
     "execution_count": 12,
     "metadata": {},
     "output_type": "execute_result"
    }
   ],
   "source": [
    "x = np.abs(x)\n",
    "x"
   ]
  },
  {
   "cell_type": "markdown",
   "id": "840348da-112d-4d27-aabe-5f8bf3eabc85",
   "metadata": {},
   "source": [
    "- 확률변수 x에 절대값 취하고"
   ]
  },
  {
   "cell_type": "code",
   "execution_count": 13,
   "id": "454bc930-e458-4000-88c8-c99f7de6cd0e",
   "metadata": {},
   "outputs": [
    {
     "data": {
      "text/plain": [
       "2.64"
      ]
     },
     "execution_count": 13,
     "metadata": {},
     "output_type": "execute_result"
    }
   ],
   "source": [
    "xpa = x/s + s*a\n",
    "xpa"
   ]
  },
  {
   "cell_type": "code",
   "execution_count": 14,
   "id": "9f7bc2af-c859-495e-87bb-9f67f4fdf9f9",
   "metadata": {},
   "outputs": [
    {
     "data": {
      "text/plain": [
       "1.6400000000000001"
      ]
     },
     "execution_count": 14,
     "metadata": {},
     "output_type": "execute_result"
    }
   ],
   "source": [
    "xma = x/s - s*a\n",
    "xma"
   ]
  },
  {
   "cell_type": "code",
   "execution_count": 15,
   "id": "5120e231-310e-42c3-a6af-d3da2676434e",
   "metadata": {},
   "outputs": [
    {
     "data": {
      "text/plain": [
       "0.3787878787878788"
      ]
     },
     "execution_count": 15,
     "metadata": {},
     "output_type": "execute_result"
    }
   ],
   "source": [
    "rat1 = 1/xpa\n",
    "rat1"
   ]
  },
  {
   "cell_type": "code",
   "execution_count": 16,
   "id": "b6fbb6b1-3138-44de-ac43-b417c2268de1",
   "metadata": {},
   "outputs": [
    {
     "data": {
      "text/plain": [
       "True"
      ]
     },
     "execution_count": 16,
     "metadata": {},
     "output_type": "execute_result"
    }
   ],
   "source": [
    "xpa < 35"
   ]
  },
  {
   "cell_type": "code",
   "execution_count": 17,
   "id": "b6ea5bbc-0265-4f86-9f81-9778149cc739",
   "metadata": {},
   "outputs": [
    {
     "data": {
      "text/plain": [
       "array([0.37878788])"
      ]
     },
     "execution_count": 17,
     "metadata": {},
     "output_type": "execute_result"
    }
   ],
   "source": [
    "rat1[xpa < 35]"
   ]
  },
  {
   "cell_type": "markdown",
   "id": "45f12a1f-a511-4fd5-91d6-93289d00dfcf",
   "metadata": {},
   "source": [
    "- 표준정규분포 누적 분포 함수cdf /  표준정규분포 밀도함수 pdf"
   ]
  },
  {
   "cell_type": "code",
   "execution_count": 18,
   "id": "8a35a308-c7fd-4ee8-a987-df47fa73023b",
   "metadata": {},
   "outputs": [],
   "source": [
    "if isinstance(rat1, (int, float, str, bool)) and xpa < 35:\n",
    "    rat1 = norm.cdf(-xpa) / norm.pdf(xpa)\n",
    "elif isinstance(rat1, (int, float, str, bool)) and xpa > 35:\n",
    "    rat1 = rat1\n",
    "else:\n",
    "    rat1[xpa < 35] = norm.cdf(-xpa[xpa < 35]) / norm.pdf(xpa[xpa < 35])"
   ]
  },
  {
   "cell_type": "code",
   "execution_count": 19,
   "id": "1b628426-0452-4d79-94fe-7b90a5e95721",
   "metadata": {},
   "outputs": [
    {
     "data": {
      "text/plain": [
       "0.33890303155852075"
      ]
     },
     "execution_count": 19,
     "metadata": {},
     "output_type": "execute_result"
    }
   ],
   "source": [
    "rat1"
   ]
  },
  {
   "cell_type": "code",
   "execution_count": 20,
   "id": "e1f472e7-14ce-4c37-83e6-c01e228ee835",
   "metadata": {},
   "outputs": [
    {
     "data": {
      "text/plain": [
       "0.6097560975609756"
      ]
     },
     "execution_count": 20,
     "metadata": {},
     "output_type": "execute_result"
    }
   ],
   "source": [
    "rat2 = 1/np.abs(xma)\n",
    "rat2"
   ]
  },
  {
   "cell_type": "code",
   "execution_count": 21,
   "id": "350404f0-3aff-4849-bd4c-f598187041f1",
   "metadata": {},
   "outputs": [],
   "source": [
    "if isinstance(xma, (int, float, str, bool)) and xma > 35:\n",
    "    xma = 35\n",
    "elif isinstance(xma, (int, float, str, bool)) and xma < 35:\n",
    "    xma = xma\n",
    "else:\n",
    "    xma[xma > 35] = 35"
   ]
  },
  {
   "cell_type": "code",
   "execution_count": 22,
   "id": "0cc0a00a-e5cd-4357-8493-4866184fbbe8",
   "metadata": {},
   "outputs": [
    {
     "data": {
      "text/plain": [
       "1.6400000000000001"
      ]
     },
     "execution_count": 22,
     "metadata": {},
     "output_type": "execute_result"
    }
   ],
   "source": [
    "xma"
   ]
  },
  {
   "cell_type": "code",
   "execution_count": 23,
   "id": "cef4aca1-a2df-469d-9b6e-ef13d9845f25",
   "metadata": {},
   "outputs": [],
   "source": [
    "if isinstance(rat1, (int, float, str, bool)) and xma > -35:\n",
    "    rat2 = norm.cdf(xma) / norm.pdf(xma)\n",
    "elif isinstance(rat1, (int, float, str, bool)) and xma < -35:\n",
    "    rat2 = rat2\n",
    "else:\n",
    "    rat2[xma > -35] = norm.cdf(xma[xma > -35]) / norm.pdf(xma[xma > -35])"
   ]
  },
  {
   "cell_type": "code",
   "execution_count": 24,
   "id": "cdca3e49-8616-4761-8257-36b041488b09",
   "metadata": {},
   "outputs": [
    {
     "data": {
      "text/plain": [
       "9.133199429298308"
      ]
     },
     "execution_count": 24,
     "metadata": {},
     "output_type": "execute_result"
    }
   ],
   "source": [
    "rat2"
   ]
  },
  {
   "cell_type": "markdown",
   "id": "05bbca55-e108-4744-9c3f-f4db52b46678",
   "metadata": {},
   "source": [
    "- beta = $\\frac{g(x; s, a)}{f_n(x; 0, s)}−1$\n",
    "- g = 스케일 파라메터 a를 가진 라플라스 밀도의 convolution + $\\gamma (u ; a)$\n",
    "  - 단, The Laplace density is given by $\\gamma (u ; a) = \\frac{1}{2} a e^{-a |u|}$ and is also known as the double exponential density."
   ]
  },
  {
   "cell_type": "code",
   "execution_count": 25,
   "id": "ef888a8d-1a39-49f5-a905-306bdb87cc03",
   "metadata": {},
   "outputs": [
    {
     "data": {
      "text/plain": [
       "1.3680256152142074"
      ]
     },
     "execution_count": 25,
     "metadata": {},
     "output_type": "execute_result"
    }
   ],
   "source": [
    "beta = (a * s) / 2 * (rat1 + rat2) - 1\n",
    "beta"
   ]
  },
  {
   "cell_type": "markdown",
   "id": "31cfdbfd-1c03-43ca-9fa1-1880b8256efd",
   "metadata": {},
   "source": [
    "- R code"
   ]
  },
  {
   "cell_type": "markdown",
   "id": "49f98fea-acd6-4b3d-8e00-baaecd4936dc",
   "metadata": {},
   "source": [
    "```R\n",
    "beta.laplace <- function(x, s = 1, a = 0.5) {\n",
    "#\n",
    "#  The function beta for the Laplace prior given parameter a and s (sd)\n",
    "#\n",
    "\tx <- abs(x)\n",
    "\txpa <- x/s + s*a\n",
    "\txma <- x/s - s*a\n",
    "\trat1 <- 1/xpa\n",
    "\trat1[xpa < 35] <- pnorm( - xpa[xpa < 35])/dnorm(xpa[xpa < 35])\n",
    "\trat2 <- 1/abs(xma)\n",
    "\txma[xma > 35] <- 35\n",
    "\trat2[xma > -35] <- pnorm(xma[xma > -35])/dnorm(xma[xma > -35])\n",
    "\tbeta <- (a * s) / 2 * (rat1 + rat2) - 1\n",
    "\treturn(beta)\n",
    "}\n",
    "```"
   ]
  },
  {
   "cell_type": "markdown",
   "id": "49833a2f-6a66-48b6-93fa-4954a954b6d8",
   "metadata": {},
   "source": [
    "**결과**"
   ]
  },
  {
   "cell_type": "markdown",
   "id": "f8cf8b0d-2512-40f7-8ac6-6df9ed330b56",
   "metadata": {},
   "source": [
    "- Python"
   ]
  },
  {
   "cell_type": "code",
   "execution_count": 26,
   "id": "bb7f3af1-e452-4b76-ab27-56d9c1c2c5a8",
   "metadata": {},
   "outputs": [
    {
     "data": {
      "text/plain": [
       "array([ 8.89852030e-001, -3.80041717e-001, -5.61817772e-001,\n",
       "        2.85459467e+002,  1.02698062e+012,  6.34453954e+265])"
      ]
     },
     "execution_count": 26,
     "metadata": {},
     "output_type": "execute_result"
    }
   ],
   "source": [
    "ebayesthresh.beta_laplace(np.array([-2,1,0,-4,8,50]),s=1)"
   ]
  },
  {
   "cell_type": "code",
   "execution_count": 27,
   "id": "ab955f9b-2802-4199-9db5-2f9ee57a4cb7",
   "metadata": {},
   "outputs": [
    {
     "data": {
      "text/plain": [
       "0.8898520296511427"
      ]
     },
     "execution_count": 27,
     "metadata": {},
     "output_type": "execute_result"
    }
   ],
   "source": [
    "ebayesthresh.beta_laplace(-2,s=1,a=0.5)"
   ]
  },
  {
   "cell_type": "code",
   "execution_count": 28,
   "id": "032868a9-2856-4554-89af-3d63a0a30d85",
   "metadata": {},
   "outputs": [
    {
     "data": {
      "text/plain": [
       "array([ 8.89852030e-01, -3.03909953e-01, -2.26276543e-01, -3.97301589e-02,\n",
       "        1.53950123e-01,  5.64694733e+06])"
      ]
     },
     "execution_count": 28,
     "metadata": {},
     "output_type": "execute_result"
    }
   ],
   "source": [
    "ebayesthresh.beta_laplace(np.array([-2,1,0,-4,8,50]),s=np.arange(1, 7))"
   ]
  },
  {
   "cell_type": "markdown",
   "id": "dd8ff5e4-405d-4b35-b0d2-e919fd1eddf7",
   "metadata": {},
   "source": [
    "- R"
   ]
  },
  {
   "cell_type": "markdown",
   "id": "36ae799d-eb09-4b65-b1ad-864a01ad6a7e",
   "metadata": {},
   "source": [
    "```R\n",
    "> beta.laplace(c(-2,1,0,-4,8,50), s=1)\n",
    "[1]   8.898520e-01  -3.800417e-01  -5.618178e-01   2.854595e+02   1.026981e+12  6.344540e+265\n",
    "> beta.laplace(-2, s=1, a=0.5)\n",
    "[1] 0.889852\n",
    "> beta.laplace(c(-2,1,0,-4,8,50), s=1:6, a=1)\n",
    "[1]   0.890821055  -0.129919250  -0.086229104  -0.005203193   0.054213718 112.493576777\n",
    "```"
   ]
  },
  {
   "cell_type": "markdown",
   "id": "6f1b331f-edcb-429b-a2e7-94fccd79b09c",
   "metadata": {},
   "source": [
    "라플라스 분포, 정규분포와 유사한 모습, 하지만 중간이 뾰족한 모형"
   ]
  },
  {
   "cell_type": "markdown",
   "id": "b8fa6395-a659-4737-b2a7-58ea77fa7f55",
   "metadata": {},
   "source": [
    "$f(x) = \\frac{1}{2b} \\exp \\big[ \\frac{-|x - \\mu|}{b} \\big]$"
   ]
  },
  {
   "cell_type": "code",
   "execution_count": 29,
   "id": "e52b199f-44a9-4efa-8be7-315cf42a0856",
   "metadata": {},
   "outputs": [
    {
     "data": {
      "image/png": "[encoded data removed]",
      "text/plain": [
       "<Figure size 576x432 with 1 Axes>"
      ]
     },
     "metadata": {
      "needs_background": "light"
     },
     "output_type": "display_data"
    }
   ],
   "source": [
    "import numpy as np\n",
    "import matplotlib.pyplot as plt\n",
    "\n",
    "# 라플라스 분포의 확률 밀도 함수 정의\n",
    "def laplace_pdf(x, mu, b):\n",
    "    return 1/(2*b) * np.exp(-np.abs(x - mu) / b)\n",
    "\n",
    "# 파라미터 설정\n",
    "mu = 0  # 평균\n",
    "b = 1   # 스케일 파라미터\n",
    "\n",
    "# x 값 생성\n",
    "x_values = np.linspace(-10, 10, 1000)\n",
    "\n",
    "# 라플라스 분포의 확률 밀도 함수 계산\n",
    "pdf_values = laplace_pdf(x_values, mu, b)\n",
    "\n",
    "# 그래프 그리기\n",
    "plt.figure(figsize=(8, 6))\n",
    "plt.plot(x_values, pdf_values, label=f'Laplace Distribution (mu={mu}, b={b})')\n",
    "plt.title('Laplace Distribution')\n",
    "plt.xlabel('x')\n",
    "plt.ylabel('Probability Density')\n",
    "plt.legend()\n",
    "plt.grid(True)\n",
    "plt.show()"
   ]
  },
  {
   "cell_type": "markdown",
   "id": "065357ea-2237-4ba2-a2ec-25aee5dc6d3b",
   "metadata": {},
   "source": [
    "# cauchy_medzero"
   ]
  },
  {
   "cell_type": "markdown",
   "id": "1dac7281-052f-4901-a779-f28196abae53",
   "metadata": {},
   "source": [
    "> the objective function that has to be zeroed, component by component, to find the posterior median when the quasi-Cauchy prior is used.  x is the parameter vector, z is the data vector, w is the weight x and z may be scalars"
   ]
  },
  {
   "cell_type": "markdown",
   "id": "9e979ec0-2c57-4205-bdd8-c45fb3180485",
   "metadata": {},
   "source": [
    "- quasi-Cauchy prior에서 사후 중앙값 찾기 위한 함수\n",
    "- x,z는 벡터일수도 있고, 스칼라일 수 도 있다."
   ]
  },
  {
   "cell_type": "code",
   "execution_count": 30,
   "id": "110b1f7b-25e8-4439-b088-769895d8782c",
   "metadata": {},
   "outputs": [],
   "source": [
    "# x = np.array([-2,1,0,-4,8,50])\n",
    "x = 4\n",
    "# z = np.array([1,0,2,3,-1,-1])\n",
    "z = 5\n",
    "w = 0.5"
   ]
  },
  {
   "cell_type": "code",
   "execution_count": 31,
   "id": "54e20a49-11c3-47f5-9445-8dd770805f20",
   "metadata": {},
   "outputs": [
    {
     "data": {
      "text/plain": [
       "1"
      ]
     },
     "execution_count": 31,
     "metadata": {},
     "output_type": "execute_result"
    }
   ],
   "source": [
    "hh = z - x\n",
    "hh"
   ]
  },
  {
   "cell_type": "code",
   "execution_count": 32,
   "id": "a5a8b009-9314-4172-998c-a556c360699a",
   "metadata": {},
   "outputs": [
    {
     "data": {
      "text/plain": [
       "0.24197072451914337"
      ]
     },
     "execution_count": 32,
     "metadata": {},
     "output_type": "execute_result"
    }
   ],
   "source": [
    "dnhh = norm.pdf(hh)\n",
    "dnhh"
   ]
  },
  {
   "cell_type": "code",
   "execution_count": 33,
   "id": "8a3d63c3-c0af-4185-8737-f6e655087e1d",
   "metadata": {},
   "outputs": [
    {
     "data": {
      "text/plain": [
       "0.7194871459755684"
      ]
     },
     "execution_count": 33,
     "metadata": {},
     "output_type": "execute_result"
    }
   ],
   "source": [
    "yleft = norm.cdf(hh) - z * dnhh + ((z * x - 1) * dnhh * norm.cdf(-x)) / norm.pdf(x)\n",
    "yleft"
   ]
  },
  {
   "cell_type": "code",
   "execution_count": 34,
   "id": "e941f9c1-f260-473e-8a4c-75a635bf8f76",
   "metadata": {},
   "outputs": [
    {
     "data": {
      "text/plain": [
       "1.00008943967613"
      ]
     },
     "execution_count": 34,
     "metadata": {},
     "output_type": "execute_result"
    }
   ],
   "source": [
    "yright2 = 1 + np.exp(-z**2 / 2) * (z**2 * (1 / w - 1) - 1)\n",
    "yright2"
   ]
  },
  {
   "cell_type": "code",
   "execution_count": 35,
   "id": "f33f3337-989a-4d7c-b3c0-4ee15d0f0653",
   "metadata": {},
   "outputs": [
    {
     "data": {
      "text/plain": [
       "-0.21944242613750342"
      ]
     },
     "execution_count": 35,
     "metadata": {},
     "output_type": "execute_result"
    }
   ],
   "source": [
    "yright2 / 2 - yleft"
   ]
  },
  {
   "cell_type": "markdown",
   "id": "07a4ff6c-21b5-42c2-b949-47b795d3c470",
   "metadata": {},
   "source": [
    "- R코드"
   ]
  },
  {
   "cell_type": "markdown",
   "id": "d492524a-bd7d-46f1-ba33-0e4fcbd663b4",
   "metadata": {},
   "source": [
    "```R\n",
    "cauchy.medzero <- function(x, z, w) {\n",
    "#    \n",
    "# the objective function that has to be zeroed, component by\n",
    "# component, to find the posterior median when the quasi-Cauchy prior\n",
    "# is used.  x is the parameter vector, z is the data vector, w is the\n",
    "# weight x and z may be scalars\n",
    "#\n",
    "\thh <- z - x\n",
    "\tdnhh <- dnorm(hh)\n",
    "\tyleft <- pnorm(hh) - z * dnhh + ((z * x - 1) * dnhh * pnorm( - x))/\n",
    "\t\tdnorm(x)\n",
    "\tyright2 <- 1 + exp( - z^2/2) * (z^2 * (1/w - 1) - 1)\n",
    "\treturn(yright2/2 - yleft)\n",
    "}\n",
    "```"
   ]
  },
  {
   "cell_type": "markdown",
   "id": "47edd58e-f68d-494e-8591-43bd36fe0d7c",
   "metadata": {},
   "source": [
    "**결과**"
   ]
  },
  {
   "cell_type": "markdown",
   "id": "ec23890b-19dc-4f45-adff-0ffa52fa05e2",
   "metadata": {},
   "source": [
    "- Python\n",
    "    - 벡터, 스칼라일때 가능한지 확인"
   ]
  },
  {
   "cell_type": "code",
   "execution_count": 36,
   "id": "33c5dc9e-402b-4973-af51-f7e503a389a6",
   "metadata": {},
   "outputs": [
    {
     "name": "stderr",
     "output_type": "stream",
     "text": [
      "/home/csy/Dropbox/sy_hub/posts/1_Note/ebayesthresh/utils.py:203: RuntimeWarning: invalid value encountered in divide\n",
      "  yleft = norm.cdf(hh) - z * dnhh + ((z * x - 1) * dnhh * norm.cdf(-x)) / norm.pdf(x)\n"
     ]
    },
    {
     "data": {
      "text/plain": [
       "array([-0.25356559,  0.        , -0.09859737, -0.45556313,  0.5       ,\n",
       "               nan])"
      ]
     },
     "execution_count": 36,
     "metadata": {},
     "output_type": "execute_result"
    }
   ],
   "source": [
    "ebayesthresh.cauchy_medzero(np.array([-2,1,0,-4,8,50]),np.array([1,0,2,3,-1,-1]),0.5)"
   ]
  },
  {
   "cell_type": "code",
   "execution_count": 37,
   "id": "b0033926-f009-4149-8701-c52b1a4fe29a",
   "metadata": {},
   "outputs": [
    {
     "data": {
      "text/plain": [
       "-0.21944242613750342"
      ]
     },
     "execution_count": 37,
     "metadata": {},
     "output_type": "execute_result"
    }
   ],
   "source": [
    "ebayesthresh.cauchy_medzero(4,5,0.5)"
   ]
  },
  {
   "cell_type": "markdown",
   "id": "e0ead2f0-02ba-4acc-8965-37dd45c762b2",
   "metadata": {},
   "source": [
    "- R"
   ]
  },
  {
   "cell_type": "markdown",
   "id": "92aa7d5d-7a01-4bf4-8d24-334702bb8648",
   "metadata": {},
   "source": [
    "```R\n",
    "> cauchy.medzero(c(-2,1,0,-4,8,50),c(1,0,2,3,-1,-1),0.5)\n",
    "[1] -0.25356559  0.00000000 -0.09859737 -0.45556313  0.50000000         NaN\n",
    "> cauchy.medzero(4,5,0.5)\n",
    "[1] -0.2194424\n",
    "````"
   ]
  },
  {
   "cell_type": "markdown",
   "id": "9f50954c-d639-40a5-b900-87f7baf9a8f4",
   "metadata": {},
   "source": [
    "# cauchy_threshzero"
   ]
  },
  {
   "cell_type": "markdown",
   "id": "147936f1-48ab-45d3-860d-ff648052dd1c",
   "metadata": {},
   "source": [
    "- cauchy 임계값 찾기 위한 것\n",
    "- 아래에서 반환되는 y가 0에 가깝도록 만들어주는 z를 찾는 과정"
   ]
  },
  {
   "cell_type": "code",
   "execution_count": 38,
   "id": "36371433-adf0-4635-9714-e244292d1e13",
   "metadata": {},
   "outputs": [],
   "source": [
    "z = np.array([1,0,2,3,-1,-1])\n",
    "# z = 0\n",
    "# w = 0.5\n",
    "w = np.array([0.5,0.4,0.3,0.2,0,0.1])"
   ]
  },
  {
   "cell_type": "code",
   "execution_count": 39,
   "id": "4c4747a5-8050-4afb-8651-51083d1cab2a",
   "metadata": {},
   "outputs": [],
   "source": [
    "if isinstance(z, (list)):\n",
    "    z = np.array(z)"
   ]
  },
  {
   "cell_type": "code",
   "execution_count": 40,
   "id": "0a51bc70-37fd-43e2-8382-e8e35a7c02b4",
   "metadata": {},
   "outputs": [
    {
     "name": "stderr",
     "output_type": "stream",
     "text": [
      "<ipython-input-40-055d9f72abf2>:1: RuntimeWarning: divide by zero encountered in divide\n",
      "  y = norm.cdf(z) - z * norm.pdf(z) - 1/2 - (z**2 * np.exp(-z**2/2) * (1/w - 1))/2\n"
     ]
    },
    {
     "data": {
      "text/plain": [
       "array([-0.20389131,  0.        , -0.26229672,  0.28539262,        -inf,\n",
       "       -2.82876199])"
      ]
     },
     "execution_count": 40,
     "metadata": {},
     "output_type": "execute_result"
    }
   ],
   "source": [
    "y = norm.cdf(z) - z * norm.pdf(z) - 1/2 - (z**2 * np.exp(-z**2/2) * (1/w - 1))/2\n",
    "y"
   ]
  },
  {
   "cell_type": "markdown",
   "id": "8b4d7df9-058a-46ed-b7c5-af2776963ce6",
   "metadata": {},
   "source": [
    "$y = pnorm(z) - z \\times dnorm(z) - \\frac{1}{2} - \\frac{z^2 \\exp (\\frac{z^2}{2})(\\frac{1}{w} - 1)}{2}$"
   ]
  },
  {
   "cell_type": "markdown",
   "id": "122ae753-5fa5-4856-aff3-82cb580cf417",
   "metadata": {},
   "source": [
    "- R 코드"
   ]
  },
  {
   "cell_type": "markdown",
   "id": "b244df04-cbfd-4bd5-9373-4d1cc9489f03",
   "metadata": {},
   "source": [
    "```R\n",
    "cauchy.threshzero <- function(z, w) {\n",
    "#    \n",
    "# The objective function that has to be zeroed to find the Cauchy\n",
    "# threshold. z is the putative threshold vector, w is the weight w\n",
    "# can be a vector\n",
    "#\n",
    "    y <- pnorm(z) - z * dnorm(z) - 1/2 -\n",
    "         (z^2 * exp( - z^2/2) * (1/w - 1))/2\n",
    "    return(y)\n",
    "}\n",
    "```"
   ]
  },
  {
   "cell_type": "markdown",
   "id": "64a7c17f-2e55-4453-b8c7-2df45407a401",
   "metadata": {},
   "source": [
    "**결과**"
   ]
  },
  {
   "cell_type": "markdown",
   "id": "b977884e-5d7a-4c91-a4ee-7b073c373415",
   "metadata": {},
   "source": [
    "- Python"
   ]
  },
  {
   "cell_type": "code",
   "execution_count": 41,
   "id": "5096b23d-3dac-4a36-968b-ac979e3a9b9c",
   "metadata": {},
   "outputs": [
    {
     "data": {
      "text/plain": [
       "array([-0.20389131,  0.        ,  0.09859737,  0.43536407, -0.40263935,\n",
       "       -0.40263935])"
      ]
     },
     "execution_count": 41,
     "metadata": {},
     "output_type": "execute_result"
    }
   ],
   "source": [
    "ebayesthresh.cauchy_threshzero(np.array([1,0,2,3,-1,-1]),0.5)"
   ]
  },
  {
   "cell_type": "code",
   "execution_count": 42,
   "id": "8760aa06-b8c9-416e-9f54-6ab88be1496e",
   "metadata": {},
   "outputs": [
    {
     "name": "stderr",
     "output_type": "stream",
     "text": [
      "/home/csy/Dropbox/sy_hub/posts/1_Note/ebayesthresh/utils.py:211: RuntimeWarning: divide by zero encountered in divide\n",
      "  y = norm.cdf(z) - z * norm.pdf(z) - 1/2 - (z**2 * np.exp(-z**2/2) * (1/w - 1))/2\n"
     ]
    },
    {
     "data": {
      "text/plain": [
       "array([-0.20389131,  0.        , -0.26229672,  0.28539262,        -inf,\n",
       "       -2.82876199])"
      ]
     },
     "execution_count": 42,
     "metadata": {},
     "output_type": "execute_result"
    }
   ],
   "source": [
    "ebayesthresh.cauchy_threshzero(np.array([1,0,2,3,-1,-1]),np.array([0.5,0.4,0.3,0.2,0,0.1]))"
   ]
  },
  {
   "cell_type": "markdown",
   "id": "b3b4540a-1f1f-4896-ab54-c90d21dc7c49",
   "metadata": {},
   "source": [
    "- R"
   ]
  },
  {
   "cell_type": "markdown",
   "id": "2248fd27-1a5c-45e6-ac7d-edee562effd1",
   "metadata": {},
   "source": [
    "```R\n",
    "> cauchy.threshzero(c(1,0,2,3,-1,-1),0.5)\n",
    "[1] -0.20389131  0.00000000  0.09859737  0.43536407 -0.40263935 -0.40263935\n",
    "cauchy.threshzero(c(1,0,2,3,-1,-1), c(0.5,0.4,0.3,0.2,0,0.1))\n",
    "[1] -0.2038913  0.0000000 -0.2622967  0.2853926       -Inf -2.8287620\n",
    "```"
   ]
  },
  {
   "cell_type": "markdown",
   "id": "5b64a12c-1ac0-448d-a44e-b4b8af407179",
   "metadata": {},
   "source": [
    "# ebayesthresh"
   ]
  },
  {
   "cell_type": "code",
   "execution_count": 43,
   "id": "c1c750ca-c019-4374-9cd7-e488433cd744",
   "metadata": {},
   "outputs": [],
   "source": [
    "x = np.concatenate([np.random.normal(0, 1, 90), np.random.normal(5, 1, 10)])\n",
    "sdev = 1\n",
    "prior=\"laplace\"\n",
    "a=0.5\n",
    "bayesfac=False\n",
    "verbose=False\n",
    "threshrule=\"median\"\n",
    "universalthresh=True\n",
    "stabadjustment=None"
   ]
  },
  {
   "cell_type": "code",
   "execution_count": 44,
   "id": "dec7ed08-f20b-46d0-832d-929bddc4c829",
   "metadata": {},
   "outputs": [
    {
     "data": {
      "text/plain": [
       "'l'"
      ]
     },
     "execution_count": 44,
     "metadata": {},
     "output_type": "execute_result"
    }
   ],
   "source": [
    "pr = prior[0:1]\n",
    "pr"
   ]
  },
  {
   "cell_type": "code",
   "execution_count": 45,
   "id": "7d50fd50-79b4-4d62-8109-e09b21787032",
   "metadata": {},
   "outputs": [],
   "source": [
    "if sdev is None:\n",
    "    sdev = ebayesthresh.mad(x, center=0)\n",
    "    stabadjustment_condition = True\n",
    "elif len(np.atleast_1d(sdev)) == 1:\n",
    "    if stabadjustment is not None:\n",
    "        raise ValueError(\"Argument stabadjustment is not applicable when variances are homogeneous.\")\n",
    "    if np.isnan(sdev):\n",
    "        sdev = ebayesthresh.mad(x, center=0)\n",
    "    stabadjustment_condition = True\n",
    "else:\n",
    "    if pr == \"c\":\n",
    "        raise ValueError(\"Standard deviation has to be homogeneous for Cauchy prior.\")\n",
    "    if len(sdev) != len(x):\n",
    "        raise ValueError(\"Standard deviation has to be homogeneous or have the same length as observations.\")\n",
    "    if stabadjustment is None:\n",
    "        stabadjustment = False\n",
    "    stabadjustment_condition = stabadjustment"
   ]
  },
  {
   "cell_type": "code",
   "execution_count": 46,
   "id": "3cbaccb8-c63c-4b4c-9a1d-fb418681b434",
   "metadata": {},
   "outputs": [
    {
     "data": {
      "text/plain": [
       "True"
      ]
     },
     "execution_count": 46,
     "metadata": {},
     "output_type": "execute_result"
    }
   ],
   "source": [
    "stabadjustment_condition"
   ]
  },
  {
   "cell_type": "code",
   "execution_count": 47,
   "id": "6cd4a734-6581-478c-9389-4591e99b70d6",
   "metadata": {},
   "outputs": [],
   "source": [
    "if stabadjustment_condition:\n",
    "    m_sdev = np.mean(sdev)\n",
    "    s = sdev / m_sdev\n",
    "    x = x / m_sdev\n",
    "else:\n",
    "    s = sdev"
   ]
  },
  {
   "cell_type": "code",
   "execution_count": 48,
   "id": "33cdfff2-dd41-43da-b0a4-ad00a6378438",
   "metadata": {},
   "outputs": [
    {
     "data": {
      "text/plain": [
       "0.5"
      ]
     },
     "execution_count": 48,
     "metadata": {},
     "output_type": "execute_result"
    }
   ],
   "source": [
    "a"
   ]
  },
  {
   "cell_type": "code",
   "execution_count": 49,
   "id": "bc073fcc-e844-47a5-8e2b-390e6a0431f4",
   "metadata": {},
   "outputs": [],
   "source": [
    "if (pr == \"l\") and np.isnan(a):\n",
    "    pp = ebayesthresh.wandafromx(x, s, universalthresh)\n",
    "    w = pp['w']\n",
    "    a = pp['a']\n",
    "else:\n",
    "    w = ebayesthresh.wfromx(x, s, prior=prior, a=a, universalthresh=universalthresh)"
   ]
  },
  {
   "cell_type": "code",
   "execution_count": 50,
   "id": "b7efd6b1-d527-47ff-be1d-8135d96271b4",
   "metadata": {},
   "outputs": [
    {
     "data": {
      "text/plain": [
       "0.3200062747569716"
      ]
     },
     "execution_count": 50,
     "metadata": {},
     "output_type": "execute_result"
    }
   ],
   "source": [
    "w"
   ]
  },
  {
   "cell_type": "code",
   "execution_count": 51,
   "id": "368eb6b2-5c11-44cc-8f35-5698d3553c8b",
   "metadata": {},
   "outputs": [
    {
     "data": {
      "text/plain": [
       "0.5"
      ]
     },
     "execution_count": 51,
     "metadata": {},
     "output_type": "execute_result"
    }
   ],
   "source": [
    "a"
   ]
  },
  {
   "cell_type": "code",
   "execution_count": 52,
   "id": "b5bd6d78-5c90-4e74-9ff1-518b9c1ade2e",
   "metadata": {},
   "outputs": [
    {
     "data": {
      "text/plain": [
       "1.0"
      ]
     },
     "execution_count": 52,
     "metadata": {},
     "output_type": "execute_result"
    }
   ],
   "source": [
    "s"
   ]
  },
  {
   "cell_type": "code",
   "execution_count": 53,
   "id": "b771d6ca-8b27-4096-a55d-39e750aa32cb",
   "metadata": {},
   "outputs": [],
   "source": [
    "if pr != \"m\" or verbose:\n",
    "    tt = ebayesthresh.tfromw(w, s, prior=prior, bayesfac=bayesfac, a=a)[0]\n",
    "    if stabadjustment_condition:\n",
    "        tcor = tt * m_sdev\n",
    "    else:\n",
    "        tcor = tt"
   ]
  },
  {
   "cell_type": "code",
   "execution_count": 54,
   "id": "f89246d9-fae4-4b09-9d21-ddfcffc8c205",
   "metadata": {},
   "outputs": [],
   "source": [
    "if threshrule == \"median\":\n",
    "    muhat = ebayesthresh.postmed(x, s, w, prior=prior, a=a)\n",
    "elif threshrule == \"mean\":\n",
    "    muhat = ebayesthresh.postmean(x, s, w, prior=prior, a=a)\n",
    "elif threshrule == \"hard\":\n",
    "    muhat = ebayesthresh.threshld(x, tt)\n",
    "elif threshrule == \"soft\":\n",
    "    muhat = ebayesthresh.threshld(x, tt, hard=False)\n",
    "elif threshrule == \"none\":\n",
    "    muhat = None\n",
    "else:\n",
    "    raise ValueError(f\"Unknown threshold rule: {threshrule}\")"
   ]
  },
  {
   "cell_type": "code",
   "execution_count": 55,
   "id": "9995f6bf-1e89-4391-9951-b6f345cb5bfa",
   "metadata": {},
   "outputs": [
    {
     "data": {
      "text/plain": [
       "array([ 0.        ,  1.34329661,  0.        , -0.        , -0.        ,\n",
       "       -0.        , -0.        ,  0.        ,  0.        ,  0.        ,\n",
       "       -0.        ,  0.        , -0.        ,  0.        , -0.        ,\n",
       "        0.        ,  0.        ,  0.        ,  0.        ,  0.        ,\n",
       "       -0.        ,  0.        , -0.        ,  0.        ,  0.        ,\n",
       "       -0.        , -0.        ,  0.        , -0.        , -0.        ,\n",
       "       -0.        ,  0.        , -0.        ,  0.        , -0.        ,\n",
       "       -0.        , -0.        , -0.        ,  0.        ,  0.        ,\n",
       "        0.        , -0.        ,  0.        ,  0.        , -0.        ,\n",
       "        0.        ,  0.        ,  0.        , -0.        ,  0.        ,\n",
       "        1.38682932, -0.        , -0.        ,  0.        ,  0.        ,\n",
       "       -0.        , -0.        , -0.        , -0.        ,  0.        ,\n",
       "       -0.        , -0.        , -0.        , -0.        , -0.        ,\n",
       "       -1.94078819, -0.        ,  0.        , -0.        , -0.        ,\n",
       "       -0.        , -0.        , -0.        ,  0.        , -0.        ,\n",
       "       -0.        , -0.        ,  0.        ,  0.        , -0.        ,\n",
       "        0.        , -0.        , -0.        ,  0.        , -0.        ,\n",
       "       -0.        ,  0.        , -0.        , -0.        , -0.        ,\n",
       "        7.23887854,  4.28032392,  4.38326438,  3.63340097,  4.98882396,\n",
       "        5.10584713,  4.50526557,  3.20664347,  4.56728499,  4.21031715])"
      ]
     },
     "execution_count": 55,
     "metadata": {},
     "output_type": "execute_result"
    }
   ],
   "source": [
    "muhat"
   ]
  },
  {
   "cell_type": "code",
   "execution_count": 56,
   "id": "bb7976e6-6a25-4bfd-a03f-2f3ad34d2b88",
   "metadata": {},
   "outputs": [],
   "source": [
    "if stabadjustment_condition:\n",
    "    muhat = muhat * m_sdev"
   ]
  },
  {
   "cell_type": "code",
   "execution_count": 57,
   "id": "4f829f40-61e9-4190-9611-af03923a2c41",
   "metadata": {},
   "outputs": [
    {
     "data": {
      "text/plain": [
       "array([ 0.        ,  1.34329661,  0.        , -0.        , -0.        ,\n",
       "       -0.        , -0.        ,  0.        ,  0.        ,  0.        ,\n",
       "       -0.        ,  0.        , -0.        ,  0.        , -0.        ,\n",
       "        0.        ,  0.        ,  0.        ,  0.        ,  0.        ,\n",
       "       -0.        ,  0.        , -0.        ,  0.        ,  0.        ,\n",
       "       -0.        , -0.        ,  0.        , -0.        , -0.        ,\n",
       "       -0.        ,  0.        , -0.        ,  0.        , -0.        ,\n",
       "       -0.        , -0.        , -0.        ,  0.        ,  0.        ,\n",
       "        0.        , -0.        ,  0.        ,  0.        , -0.        ,\n",
       "        0.        ,  0.        ,  0.        , -0.        ,  0.        ,\n",
       "        1.38682932, -0.        , -0.        ,  0.        ,  0.        ,\n",
       "       -0.        , -0.        , -0.        , -0.        ,  0.        ,\n",
       "       -0.        , -0.        , -0.        , -0.        , -0.        ,\n",
       "       -1.94078819, -0.        ,  0.        , -0.        , -0.        ,\n",
       "       -0.        , -0.        , -0.        ,  0.        , -0.        ,\n",
       "       -0.        , -0.        ,  0.        ,  0.        , -0.        ,\n",
       "        0.        , -0.        , -0.        ,  0.        , -0.        ,\n",
       "       -0.        ,  0.        , -0.        , -0.        , -0.        ,\n",
       "        7.23887854,  4.28032392,  4.38326438,  3.63340097,  4.98882396,\n",
       "        5.10584713,  4.50526557,  3.20664347,  4.56728499,  4.21031715])"
      ]
     },
     "execution_count": 57,
     "metadata": {},
     "output_type": "execute_result"
    }
   ],
   "source": [
    "muhat"
   ]
  },
  {
   "cell_type": "code",
   "execution_count": 58,
   "id": "901491d0-4d0e-4e87-a68d-432dfa56ea54",
   "metadata": {},
   "outputs": [],
   "source": [
    "if not verbose:\n",
    "    muhat\n",
    "else:\n",
    "    retlist = {\n",
    "        'muhat': muhat,\n",
    "        'x': x,\n",
    "        'threshold.sdevscale': tt,\n",
    "        'threshold.origscale': tcor,\n",
    "        'prior': prior,\n",
    "        'w': w,\n",
    "        'a': a,\n",
    "        'bayesfac': bayesfac,\n",
    "        'sdev': sdev,\n",
    "        'threshrule': threshrule\n",
    "    }\n",
    "    if pr == \"c\":\n",
    "        del retlist['a']\n",
    "    if threshrule == \"none\":\n",
    "        del retlist['muhat']\n",
    "    retlist"
   ]
  },
  {
   "cell_type": "markdown",
   "id": "6b284779-4852-4664-bb2e-034178975562",
   "metadata": {},
   "source": [
    "R코드"
   ]
  },
  {
   "cell_type": "markdown",
   "id": "cb071aaf-c415-4e37-affa-9cfb355ed7cb",
   "metadata": {},
   "source": [
    "```R\n",
    "ebayesthresh <- function (x, prior = \"laplace\", a = 0.5, bayesfac = FALSE,\n",
    "                          sdev = NA, verbose = FALSE, threshrule = \"median\",\n",
    "                          universalthresh = TRUE, stabadjustment) {\n",
    "#  \n",
    "#  Given a vector of data x, find the marginal maximum likelihood\n",
    "#  estimator of the mixing weight w, and apply an appropriate\n",
    "#  thresholding rule using this weight.\n",
    "#\n",
    "#  If the prior is laplace and a=NA, then the inverse scale parameter\n",
    "#  is also found by MML.\n",
    "#\n",
    "#  Standard deviation sdev can be a vector (heterogeneous variance) or\n",
    "#  a single value (homogeneous variance). If sdev=NA, then it is\n",
    "#  estimated using the function mad(x). Heterogeneous variance is\n",
    "#  allowed only for laplace prior currently.\n",
    "#    \n",
    "#  The thresholding rules allowed are \"median\", \"mean\", \"hard\", \"soft\"\n",
    "#  and \"none\"; if \"none\" is used, then only the parameters are worked\n",
    "#  out.\n",
    "#\n",
    "#  If hard or soft thresholding is used, the argument \"bayesfac\"\n",
    "#  specifies whether to use the bayes factor threshold or the\n",
    "#  posterior median threshold.\n",
    "#    \n",
    "#  If universalthresh=TRUE, the thresholds will be upper bounded by\n",
    "#  universal threshold adjusted by standard deviation; otherwise,\n",
    "#  weight w will be searched in [0, 1].\n",
    "#    \n",
    "#  If stabadjustment=TRUE, the observations and standard deviations\n",
    "#  will be first divided by the mean of all given standard deviations\n",
    "#  in case of inefficiency due to large value of standard\n",
    "#  deviation. In the case of homogeneous variance, the standard\n",
    "#  deviations will be normalized to 1 automatically.\n",
    "#\n",
    "#  If verbose=TRUE then the routine returns a list with several\n",
    "#  arguments, including muhat which is the result of the\n",
    "#  thresholding. If verbose=FALSE then only muhat is returned.\n",
    "#\n",
    "    \n",
    "  # Find the standard deviation if necessary and estimate the parameters\n",
    "  pr <- substring(prior, 1, 1)\n",
    "\n",
    "  if(length(sdev) == 1) {\n",
    "      if(!missing(stabadjustment))\n",
    "        stop(paste(\"Argument stabadjustment is not applicable when\",\n",
    "                   \"variances are homogeneous.\"))\n",
    "      if(is.na(sdev)) {\n",
    "          sdev <- mad(x, center = 0)\n",
    "      }\n",
    "      stabadjustment_condition = TRUE\n",
    "  } else{\n",
    "    if(pr == \"c\")\n",
    "      stop(\"Standard deviation has to be homogeneous for Cauchy prior.\")\n",
    "    if(length(sdev) != length(x))\n",
    "      stop(paste(\"Standard deviation has to be homogeneous or has the\",\n",
    "                 \"same length as observations.\"))\n",
    "    if(missing(stabadjustment))\n",
    "      stabadjustment <- FALSE\n",
    "    stabadjustment_condition = stabadjustment\n",
    "  }\n",
    "  \n",
    "  if (stabadjustment_condition) {\n",
    "    m_sdev <- mean(sdev)\n",
    "    s <- sdev/m_sdev\n",
    "    x <- x/m_sdev\n",
    "  } else { s <- sdev }\n",
    "  \n",
    "\tif ((pr == \"l\") & is.na(a)) {\n",
    "\t  pp <- wandafromx(x, s, universalthresh)\n",
    "          w  <- pp$w\n",
    "          a  <- pp$a\n",
    "\t}\n",
    "\telse\n",
    "          w <- wfromx(x, s, prior = prior, a = a, universalthresh)\n",
    "\tif(pr != \"m\" | verbose) {\n",
    "\t  tt <- tfromw(w, s, prior = prior, bayesfac = bayesfac, a = a)\n",
    "\t  if(stabadjustment_condition) {\n",
    "\t    tcor <- tt * m_sdev\n",
    "          } else {\n",
    "            tcor <- tt\n",
    "          }\n",
    "\t}\n",
    "\tif(threshrule == \"median\")\n",
    "\t\tmuhat <- postmed(x, s, w, prior = prior, a = a)\n",
    "\tif(threshrule == \"mean\")\n",
    "    muhat <- postmean(x, s, w, prior = prior, a = a)\n",
    "\tif(threshrule == \"hard\")\n",
    "\t\tmuhat <- threshld(x, tt)\n",
    "\tif(threshrule == \"soft\")\n",
    "\t\tmuhat <- threshld(x, tt, hard = FALSE)\n",
    "        if(threshrule == \"none\")\n",
    "                muhat <- NA\n",
    "\n",
    "\t# Now return desired output\n",
    "\tif(stabadjustment_condition) {\n",
    "\t  muhat <- muhat * m_sdev\n",
    "\t}\n",
    "\tif(!verbose)\n",
    "            return(muhat)\n",
    "\tretlist <- list(muhat = muhat, x = x, threshold.sdevscale = tt, \n",
    "                        threshold.origscale = tcor, prior = prior, w = w,\n",
    "                        a = a, bayesfac = bayesfac, sdev = sdev,\n",
    "                        threshrule = threshrule)\n",
    "\tif(pr == \"c\")\n",
    "\t\tretlist <- retlist[-7]\n",
    "\tif(threshrule == \"none\")\n",
    "\t\tretlist <- retlist[-1]\n",
    "\treturn(retlist)\n",
    "}\n",
    "```"
   ]
  },
  {
   "cell_type": "markdown",
   "id": "ff00eb94-bf92-42d6-841f-554e12008e16",
   "metadata": {},
   "source": [
    "결과"
   ]
  },
  {
   "cell_type": "markdown",
   "id": "28f0a2b7-6404-45f2-ae43-e019827336b7",
   "metadata": {},
   "source": [
    "- Python"
   ]
  },
  {
   "cell_type": "code",
   "execution_count": 59,
   "id": "dd53fa2b-eeb8-4be6-ad1b-379fbe0c0657",
   "metadata": {},
   "outputs": [
    {
     "data": {
      "text/plain": [
       "array([ 0.        ,  0.        , -0.        , -0.        , -0.        ,\n",
       "        0.        , -0.        ,  0.        , -0.        , -0.        ,\n",
       "       -0.        ,  0.        ,  0.        ,  0.        , -0.        ,\n",
       "        0.        ,  0.        ,  0.        , -0.        , -0.        ,\n",
       "       -0.        ,  0.        ,  0.        ,  0.        , -0.        ,\n",
       "        0.        , -0.        ,  0.        ,  0.        , -0.        ,\n",
       "       -0.        ,  0.        , -0.        ,  0.        , -0.        ,\n",
       "        0.        , -0.        , -0.        ,  0.        ,  0.        ,\n",
       "        0.        , -0.        ,  0.        ,  0.        , -0.        ,\n",
       "       -0.        , -0.15798723,  0.        ,  1.5784871 , -0.        ,\n",
       "        2.16796225, -0.        ,  0.        ,  0.        ,  0.        ,\n",
       "       -0.        ,  1.6454291 , -0.        ,  0.        , -0.        ,\n",
       "       -0.        ,  0.        ,  0.        , -0.        ,  0.        ,\n",
       "        0.        ,  0.        ,  0.        , -0.        , -0.        ,\n",
       "       -0.        , -0.        ,  0.        ,  0.        ,  0.        ,\n",
       "       -0.        ,  0.        ,  0.        , -0.        ,  0.        ,\n",
       "       -0.        , -0.        , -0.        ,  0.        ,  0.        ,\n",
       "        0.        ,  0.        , -0.22048162, -0.        , -0.        ,\n",
       "        3.71312167,  3.33739314,  2.11176721,  6.00144628,  4.51031269,\n",
       "        2.97643769,  5.49006448,  2.98365748,  4.79352558,  4.20984628])"
      ]
     },
     "execution_count": 59,
     "metadata": {},
     "output_type": "execute_result"
    }
   ],
   "source": [
    "ebayesthresh.ebayesthresh(x=np.concatenate([np.random.normal(0, 1, 90), np.random.normal(5, 1, 10)]), sdev = 1)"
   ]
  },
  {
   "cell_type": "markdown",
   "id": "5a5f0c14-569d-4cda-a590-49000c166f47",
   "metadata": {},
   "source": [
    "- R"
   ]
  },
  {
   "cell_type": "markdown",
   "id": "82fe4ec7-c315-40c3-a4e7-116577a88808",
   "metadata": {},
   "source": [
    "```R\n",
    "> ebayesthresh(x = rnorm(100, c(rep(0,90), rep(5,10))),\n",
    "+              prior = \"laplace\", sdev = 1)\n",
    "  [1]  0.0000000  0.0000000  0.0000000  0.0000000  0.0000000  0.0000000  0.0000000  0.0000000  0.0000000  0.0000000  0.0000000  0.0000000  0.0000000  0.0000000\n",
    " [15]  0.0000000  0.0000000  0.0000000  0.0000000  0.0000000  0.0000000  0.0000000  0.0000000  0.0000000  0.0000000  0.0000000  0.0000000  0.0000000  0.0000000\n",
    " [29]  0.0000000  0.0000000  0.0000000  0.0000000  0.0000000  0.0000000  0.0000000  0.0000000  0.0000000  0.0000000  0.0000000  0.0000000  0.0000000  0.0000000\n",
    " [43]  0.0000000  0.0000000  0.0000000  0.0000000  0.0000000  0.0000000  0.0000000  0.0000000  0.0000000  0.0000000  0.0000000  0.0000000  0.0000000  0.0000000\n",
    " [57]  0.0000000  0.0000000  0.0000000  0.0000000  0.0000000  0.0000000  0.0000000  0.0000000  0.0000000  0.0000000  0.0000000  0.0000000  0.0000000  0.0000000\n",
    " [71]  0.0000000  0.0000000  0.0000000  0.0000000  0.0000000  0.0000000  0.0000000  0.0000000  0.0000000  0.0000000  0.0000000  0.0000000  0.0000000 -0.4480064\n",
    " [85]  0.0000000  0.0000000  0.0000000  0.0000000  0.0000000  0.0000000  5.1534865  6.2732386  4.4612851  5.9931848  4.5828731  4.6154038  4.8247775  3.6219544\n",
    " [99]  4.4480080  5.4084453\n",
    "```"
   ]
  },
  {
   "cell_type": "markdown",
   "id": "6f784e69-ddec-4fce-a004-8fd4abd5de62",
   "metadata": {
    "tags": []
   },
   "source": [
    "# ebayesthresh.wavelet"
   ]
  },
  {
   "cell_type": "markdown",
   "id": "cd30ff3a-7ecf-40a0-8e4b-bc24a5288cdf",
   "metadata": {},
   "source": [
    "R코드"
   ]
  },
  {
   "cell_type": "markdown",
   "id": "063be2bb-beee-40e6-b431-343aacaa7ada",
   "metadata": {},
   "source": [
    "```R\n",
    "ebayesthresh.wavelet <-\n",
    "  function (xtr, vscale = \"independent\", smooth.levels = Inf,\n",
    "            prior = \"laplace\", a = 0.5, bayesfac = FALSE,\n",
    "            threshrule = \"median\") {\n",
    "    xcl <- class(xtr)\n",
    "\tif (class(xcl) == \"dwt \" && length(xcl) > 1) {\n",
    "            xtr <- ebayesthresh.wavelet.splus(xtr, vscale, smooth.levels,\n",
    "                                              prior, a, bayesfac, threshrule)\n",
    "            return(xtr)\n",
    "        }\n",
    "\tif (xcl == \"wd\") {\n",
    "            xtr <- ebayesthresh.wavelet.wd(xtr, vscale, smooth.levels, prior,\n",
    "                                           a, bayesfac, threshrule)\n",
    "            return(xtr)\n",
    "        }\n",
    "        if (xcl == \"dwt\" || xcl==\"modwt\") {\n",
    "            xtr <- ebayesthresh.wavelet.dwt(xtr, vscale, smooth.levels,\n",
    "                                            prior, a, bayesfac, threshrule)\n",
    "            return(xtr)\n",
    "        }\n",
    "    stop(\"Unknown wavelet transform type; no smoothing performed\")\n",
    "    return(xtr)\n",
    "}\n",
    "```"
   ]
  },
  {
   "cell_type": "markdown",
   "id": "ffa96ba0-18b6-40ac-8fb3-8f505a695397",
   "metadata": {},
   "source": [
    "결과"
   ]
  },
  {
   "cell_type": "markdown",
   "id": "0ab52287-8339-4fe5-9c8d-2fcbdcf61415",
   "metadata": {},
   "source": [
    "- Python"
   ]
  },
  {
   "cell_type": "markdown",
   "id": "5e305ab8-6095-43d1-96fb-3f9d35294cff",
   "metadata": {},
   "source": [
    "- R"
   ]
  },
  {
   "cell_type": "markdown",
   "id": "28098736-0406-48ba-a181-ecf8162a9120",
   "metadata": {},
   "source": [
    "```R\n",
    "\n",
    "```"
   ]
  },
  {
   "cell_type": "markdown",
   "id": "6b6d3956-7278-437c-b3ae-b22f13682996",
   "metadata": {
    "tags": []
   },
   "source": [
    "# ebayesthresh.wavelet.dwt"
   ]
  },
  {
   "cell_type": "code",
   "execution_count": 12,
   "id": "19033606-66db-4d10-be59-7d75cc20b343",
   "metadata": {},
   "outputs": [
    {
     "data": {
      "text/plain": [
       "[array([ 1.4836815 ,  2.5460343 , -1.306332  ,  1.31723319, -2.55056374,\n",
       "         5.08187009, -0.83959987, -3.73303537,  2.84676984,  4.08970155,\n",
       "         7.31864861, -0.9809799 ,  1.16959737]),\n",
       " array([ 0.74184075, -1.25167459,  1.27301715, -2.76291158, -0.653166  ,\n",
       "        -1.67217533,  0.6586166 ,  2.04732727, -1.27528187,  1.14064582,\n",
       "         2.54093505, -3.09342206, -0.41979993, -1.14225822, -1.86651769,\n",
       "         1.20685697,  1.42338492,  1.94833839,  2.04485077, -3.20509258,\n",
       "         3.6593243 , -0.02077669, -0.49048995,  1.47917861,  0.58479869]),\n",
       " array([ 0.47868431, -0.26315645,  0.31878975,  1.57046433,  1.13616511,\n",
       "        -0.13685204,  0.4748337 ,  3.23774528,  1.05890084,  1.71206684,\n",
       "        -0.47029185,  1.20188347, -1.31592992, -1.97454652,  0.96714734,\n",
       "        -1.08017994, -1.82143641, -0.54615454, -1.44897433, -2.58962015,\n",
       "         0.4946747 , -2.04626034, -1.47187691,  1.62154515, -0.0205145 ,\n",
       "         0.39928543, -2.00296752, -0.86070929, -1.84618836,  0.02032933,\n",
       "         1.884058  ,  0.67720103,  0.44194886, -0.98143606,  0.12154746,\n",
       "        -1.82679094,  0.41042574, -1.63442503, -2.87055564,  0.33453694,\n",
       "         2.38411684, -1.27520746,  1.96971695,  1.99049364,  0.07055637,\n",
       "         0.56104632,  3.25314351,  1.7739649 ,  0.34259736, -0.24220132])]"
      ]
     },
     "execution_count": 12,
     "metadata": {},
     "output_type": "execute_result"
    }
   ],
   "source": [
    "data = np.concatenate([np.random.normal(0, 1, 90), np.random.normal(5, 1, 10)])\n",
    "n = len(data)\n",
    "level1 = data[::2] - data[1::2]\n",
    "level2 = level1[::2] - level1[1::2]\n",
    "approximation = level2[::2] + level2[::2]\n",
    "\n",
    "# Create a list of wavelet coefficients for each level\n",
    "x_dwt = [approximation, level2, level1]\n",
    "x_dwt"
   ]
  },
  {
   "cell_type": "code",
   "execution_count": 13,
   "id": "31216e61-8ce2-4a49-8316-6de2f1db52be",
   "metadata": {},
   "outputs": [],
   "source": [
    "# x_dwt\n",
    "vscale=\"independent\"\n",
    "smooth_levels=float('inf')\n",
    "prior=\"laplace\"\n",
    "a=0.5\n",
    "bayesfac=False,\n",
    "threshrule=\"median\""
   ]
  },
  {
   "cell_type": "code",
   "execution_count": 7,
   "id": "186435c3-b17d-40dc-be86-b14c2c0192d7",
   "metadata": {},
   "outputs": [
    {
     "data": {
      "text/plain": [
       "2"
      ]
     },
     "execution_count": 7,
     "metadata": {},
     "output_type": "execute_result"
    }
   ],
   "source": [
    "nlevs = len(x_dwt) - 1\n",
    "nlevs"
   ]
  },
  {
   "cell_type": "code",
   "execution_count": 8,
   "id": "d2714f03-32e9-4e1b-a76e-fb922e3641a1",
   "metadata": {},
   "outputs": [
    {
     "data": {
      "text/plain": [
       "2"
      ]
     },
     "execution_count": 8,
     "metadata": {},
     "output_type": "execute_result"
    }
   ],
   "source": [
    "slevs = min(nlevs, smooth_levels)\n",
    "slevs"
   ]
  },
  {
   "cell_type": "code",
   "execution_count": 18,
   "id": "22bc297a-8f78-4b7b-abe6-251902c7018d",
   "metadata": {},
   "outputs": [],
   "source": [
    "if isinstance(vscale, str):\n",
    "    vs = vscale[0].lower()\n",
    "    if vs == \"i\":\n",
    "        vscale = ebayesthresh.mad(x_dwt[0], center=0)\n",
    "    if vs == \"l\":\n",
    "        vscale = None"
   ]
  },
  {
   "cell_type": "code",
   "execution_count": 23,
   "id": "596be008-5439-470f-97d8-0a23a2932494",
   "metadata": {},
   "outputs": [
    {
     "name": "stdout",
     "output_type": "stream",
     "text": [
      "Unexpected exception formatting exception. Falling back to standard exception\n"
     ]
    },
    {
     "name": "stderr",
     "output_type": "stream",
     "text": [
      "Traceback (most recent call last):\n",
      "  File \"/home/csy/anaconda3/envs/temp_csy/lib/python3.8/site-packages/IPython/core/interactiveshell.py\", line 3398, in run_code\n",
      "    exec(code_obj, self.user_global_ns, self.user_ns)\n",
      "  File \"<ipython-input-23-7fc60b3f848b>\", line 2, in <cell line: 1>\n",
      "    x_dwt[j] = EbayesThresh.ebayesthresh(x_dwt[j], prior=prior, a=a, bayesfac=bayesfac,\n",
      "  File \"/home/csy/Dropbox/sy_hub/posts/1_Note/EbayesThresh/utils.py\", line 100, in ebayesthresh\n",
      "    tt = tfromw(w, s, prior=prior, bayesfac=bayesfac, a=a)[0]\n",
      "  File \"/home/csy/Dropbox/sy_hub/posts/1_Note/EbayesThresh/utils.py\", line 713, in tfromw\n",
      "TypeError: object of type 'numpy.float64' has no len()\n",
      "\n",
      "During handling of the above exception, another exception occurred:\n",
      "\n",
      "Traceback (most recent call last):\n",
      "  File \"/home/csy/anaconda3/envs/temp_csy/lib/python3.8/site-packages/IPython/core/interactiveshell.py\", line 1993, in showtraceback\n",
      "    stb = self.InteractiveTB.structured_traceback(\n",
      "  File \"/home/csy/anaconda3/envs/temp_csy/lib/python3.8/site-packages/IPython/core/ultratb.py\", line 1118, in structured_traceback\n",
      "    return FormattedTB.structured_traceback(\n",
      "  File \"/home/csy/anaconda3/envs/temp_csy/lib/python3.8/site-packages/IPython/core/ultratb.py\", line 1012, in structured_traceback\n",
      "    return VerboseTB.structured_traceback(\n",
      "  File \"/home/csy/anaconda3/envs/temp_csy/lib/python3.8/site-packages/IPython/core/ultratb.py\", line 865, in structured_traceback\n",
      "    formatted_exception = self.format_exception_as_a_whole(etype, evalue, etb, number_of_lines_of_context,\n",
      "  File \"/home/csy/anaconda3/envs/temp_csy/lib/python3.8/site-packages/IPython/core/ultratb.py\", line 818, in format_exception_as_a_whole\n",
      "    frames.append(self.format_record(r))\n",
      "  File \"/home/csy/anaconda3/envs/temp_csy/lib/python3.8/site-packages/IPython/core/ultratb.py\", line 736, in format_record\n",
      "    result += ''.join(_format_traceback_lines(frame_info.lines, Colors, self.has_colors, lvals))\n",
      "  File \"/home/csy/anaconda3/envs/temp_csy/lib/python3.8/site-packages/stack_data/utils.py\", line 144, in cached_property_wrapper\n",
      "    value = obj.__dict__[self.func.__name__] = self.func(obj)\n",
      "  File \"/home/csy/anaconda3/envs/temp_csy/lib/python3.8/site-packages/stack_data/core.py\", line 734, in lines\n",
      "    pieces = self.included_pieces\n",
      "  File \"/home/csy/anaconda3/envs/temp_csy/lib/python3.8/site-packages/stack_data/utils.py\", line 144, in cached_property_wrapper\n",
      "    value = obj.__dict__[self.func.__name__] = self.func(obj)\n",
      "  File \"/home/csy/anaconda3/envs/temp_csy/lib/python3.8/site-packages/stack_data/core.py\", line 681, in included_pieces\n",
      "    pos = scope_pieces.index(self.executing_piece)\n",
      "  File \"/home/csy/anaconda3/envs/temp_csy/lib/python3.8/site-packages/stack_data/utils.py\", line 144, in cached_property_wrapper\n",
      "    value = obj.__dict__[self.func.__name__] = self.func(obj)\n",
      "  File \"/home/csy/anaconda3/envs/temp_csy/lib/python3.8/site-packages/stack_data/core.py\", line 660, in executing_piece\n",
      "    return only(\n",
      "  File \"/home/csy/anaconda3/envs/temp_csy/lib/python3.8/site-packages/executing/executing.py\", line 190, in only\n",
      "    raise NotOneValueFound('Expected one value, found 0')\n",
      "executing.executing.NotOneValueFound: Expected one value, found 0\n"
     ]
    }
   ],
   "source": [
    "for j in range(slevs):\n",
    "    x_dwt[j] = ebayesthresh.ebayesthresh(x_dwt[j], prior=prior, a=a, bayesfac=bayesfac, \n",
    "                            sdev=vscale, verbose=False, threshrule=threshrule)"
   ]
  },
  {
   "cell_type": "code",
   "execution_count": 24,
   "id": "25b823f8-2b7b-4ffb-9eb8-8410e1304218",
   "metadata": {},
   "outputs": [
    {
     "data": {
      "text/plain": [
       "[array([-3.97210513, -4.0287387 ,  0.03812726,  1.98061813, -0.20712241,\n",
       "        -1.94263661, -3.20640339, -1.52713519,  3.36779351,  3.58251383,\n",
       "        -1.57906486,  0.59753974, -3.67964951]),\n",
       " array([-1.98605257, -2.03819191, -2.01436935, -0.23136287,  0.01906363,\n",
       "         2.48481231,  0.99030907,  0.80823516, -0.1035612 ,  2.53250102,\n",
       "        -0.9713183 , -2.40256619, -1.60320169, -1.59307862, -0.7635676 ,\n",
       "         0.88817825,  1.68389675, -1.00917812,  1.79125692,  1.06362513,\n",
       "        -0.78953243,  1.3533214 ,  0.29876987, -1.80890545, -1.83982476]),\n",
       " array([-0.90884553,  1.07720704, -1.07828366,  0.95990824, -1.96840177,\n",
       "         0.04596758, -0.70551575, -0.47415287, -1.34986168, -1.36892531,\n",
       "         0.40485746, -2.07995485,  0.54909349, -0.44121557,  0.1563934 ,\n",
       "        -0.65184176, -0.43358298, -0.33002178,  3.00455902,  0.472058  ,\n",
       "         0.79130012,  1.76261842, -1.14949085,  1.25307534, -2.67917775,\n",
       "        -1.07597605,  0.58772537,  2.18080399, -0.33286881,  0.43069878,\n",
       "        -0.90429141, -1.79246966,  1.98651968,  0.30262293, -2.10891536,\n",
       "        -1.09973725,  1.15116106, -0.64009585,  1.62734043,  0.56371529,\n",
       "        -1.83981846, -1.05028603,  0.0481002 , -1.30522119, -0.23335818,\n",
       "        -0.53212805, -1.39336681,  0.41553864, -1.58935501,  0.25046975])]"
      ]
     },
     "execution_count": 24,
     "metadata": {},
     "output_type": "execute_result"
    }
   ],
   "source": [
    "x_dwt"
   ]
  },
  {
   "cell_type": "markdown",
   "id": "6c6ce661-3cd1-43b1-8e89-27513c90a365",
   "metadata": {},
   "source": [
    "R코드"
   ]
  },
  {
   "cell_type": "markdown",
   "id": "d391ca0f-c1c6-490f-9132-b8b52b485106",
   "metadata": {},
   "source": [
    "```R\n",
    "ebayesthresh.wavelet.dwt <-\n",
    "  function (x.dwt, vscale = \"independent\", smooth.levels = Inf, \n",
    "            prior = \"laplace\", a = 0.5, bayesfac = FALSE,\n",
    "            threshrule = \"median\") {\n",
    "        nlevs <- length(x.dwt)-1\n",
    "        slevs <- min(nlevs, smooth.levels)\n",
    "        if (is.character(vscale)) {\n",
    "            vs <- substring(vscale, 1, 1)\n",
    "            if (vs == \"i\") \n",
    "                vscale <- mad(x.dwt[[1]])\n",
    "            if (vs == \"l\") \n",
    "                vscale <- NA\n",
    "        }\n",
    "        for (j in 1:slevs) {\n",
    "            x.dwt[[j]] <-\n",
    "              ebayesthresh(x.dwt[[j]], prior, a, bayesfac, vscale,\n",
    "                           FALSE, threshrule)\n",
    "        }\n",
    "     return(x.dwt)\n",
    "}\n",
    "```"
   ]
  },
  {
   "cell_type": "markdown",
   "id": "2658dcfd-bb0b-4d7b-893e-3cbbe56faa89",
   "metadata": {},
   "source": [
    "결과"
   ]
  },
  {
   "cell_type": "markdown",
   "id": "87202839-c8bf-4d95-9a63-e318707b3897",
   "metadata": {},
   "source": [
    "- Python"
   ]
  },
  {
   "cell_type": "code",
   "execution_count": 13,
   "id": "1f2a322b-5c94-470e-b7f7-94928e8588b7",
   "metadata": {},
   "outputs": [
    {
     "data": {
      "text/plain": [
       "[array([ 0.,  0., -0.,  0., -0.,  0., -0., -0.,  0.,  0.,  0., -0.,  0.]),\n",
       " array([ 0., -0.,  0., -0., -0., -0.,  0.,  0., -0.,  0.,  0., -0., -0.,\n",
       "        -0., -0.,  0.,  0.,  0.,  0., -0.,  0., -0., -0.,  0.,  0.]),\n",
       " array([ 0.47868431, -0.26315645,  0.31878975,  1.57046433,  1.13616511,\n",
       "        -0.13685204,  0.4748337 ,  3.23774528,  1.05890084,  1.71206684,\n",
       "        -0.47029185,  1.20188347, -1.31592992, -1.97454652,  0.96714734,\n",
       "        -1.08017994, -1.82143641, -0.54615454, -1.44897433, -2.58962015,\n",
       "         0.4946747 , -2.04626034, -1.47187691,  1.62154515, -0.0205145 ,\n",
       "         0.39928543, -2.00296752, -0.86070929, -1.84618836,  0.02032933,\n",
       "         1.884058  ,  0.67720103,  0.44194886, -0.98143606,  0.12154746,\n",
       "        -1.82679094,  0.41042574, -1.63442503, -2.87055564,  0.33453694,\n",
       "         2.38411684, -1.27520746,  1.96971695,  1.99049364,  0.07055637,\n",
       "         0.56104632,  3.25314351,  1.7739649 ,  0.34259736, -0.24220132])]"
      ]
     },
     "execution_count": 13,
     "metadata": {},
     "output_type": "execute_result"
    }
   ],
   "source": [
    "ebayesthresh.ebayesthresh_wavelet_dwt(x_dwt)"
   ]
  },
  {
   "cell_type": "markdown",
   "id": "264d5f65-4bbe-48d4-9c7a-ec64fe4e7268",
   "metadata": {},
   "source": [
    "- R"
   ]
  },
  {
   "cell_type": "markdown",
   "id": "bc3274c2-58ed-47db-8a6b-eb97f1a5e4ac",
   "metadata": {},
   "source": [
    "확인 불가"
   ]
  },
  {
   "cell_type": "markdown",
   "id": "df6ba75e-ab08-43a2-8a75-94a799b5c41b",
   "metadata": {},
   "source": [
    "```R\n",
    "> ebayesthresh.wavelet.dwt(x.dwt=x_dwt)\n",
    "Error in ebayesthresh.wavelet.dwt(x.dwt = x_dwt) : \n",
    "  could not find function \"ebayesthresh.wavelet.dwt\"\n",
    "```"
   ]
  },
  {
   "cell_type": "markdown",
   "id": "5b35ae5b-6f67-4b59-abe4-a04687f99fe5",
   "metadata": {
    "tags": []
   },
   "source": [
    "# ebayesthresh.wavelet.splus"
   ]
  },
  {
   "cell_type": "code",
   "execution_count": 7,
   "id": "ea5a4e9d-83b6-4b92-b28d-acb1ce793133",
   "metadata": {},
   "outputs": [
    {
     "data": {
      "text/plain": [
       "[array([  1.99404911,  -6.15701427,  -3.99558976,  -0.38391355,\n",
       "         -6.6016326 ,  -2.81007867, -17.52592145,  -7.07965432,\n",
       "         -1.3653538 ,  -4.08821234,  -2.66406197,  -4.45001631,\n",
       "         -2.9337468 ]),\n",
       " array([ 0.99702455,  2.06672342, -3.07850714,  3.12833675, -1.99779488,\n",
       "         0.82687941, -0.19195677,  0.73432995, -3.3008163 ,  2.46746019,\n",
       "        -1.40503934,  0.45749726, -8.76296072, -1.28596396, -3.53982716,\n",
       "         3.44395235, -0.6826769 , -0.11415533, -2.04410617,  0.87670091,\n",
       "        -1.33203099, -1.5215132 , -2.22500816,  2.61347947, -1.4668734 ]),\n",
       " array([ 0.26815468, -0.72886987, -0.47285771, -2.53958113, -2.01598499,\n",
       "         1.06252215,  2.86786944, -0.26046731, -2.45177824, -0.45398336,\n",
       "         0.9342025 ,  0.10732309, -0.43102009, -0.23906331,  0.55549546,\n",
       "        -0.17883449, -1.11553065,  2.18528565,  1.17389913, -1.29356106,\n",
       "        -0.51051515,  0.89452418, -0.37799399, -0.83549125, -5.18513165,\n",
       "         3.57782907, -0.40410394,  0.88186002, -0.82947095,  2.71035621,\n",
       "         2.01683439, -1.42711796, -1.16240604, -0.47972914, -1.00833728,\n",
       "        -0.89418195, -1.4092027 ,  0.63490347,  0.72968632, -0.1470146 ,\n",
       "         0.02978361,  1.3618146 , -0.03523747,  1.48627572, -1.02615173,\n",
       "         1.19885643,  0.62995346, -1.983526  , -0.21994701,  1.24692638])]"
      ]
     },
     "execution_count": 7,
     "metadata": {},
     "output_type": "execute_result"
    }
   ],
   "source": [
    "data = np.concatenate([np.random.normal(0, 1, 90), np.random.normal(5, 1, 10)])\n",
    "n = len(data)\n",
    "level1 = data[::2] - data[1::2]\n",
    "level2 = level1[::2] - level1[1::2]\n",
    "approximation = level2[::2] + level2[::2]\n",
    "\n",
    "# Create a list of wavelet coefficients for each level\n",
    "x_dwt = [approximation, level2, level1]\n",
    "x_dwt"
   ]
  },
  {
   "cell_type": "code",
   "execution_count": 5,
   "id": "c0993516-28fe-4ec7-b4cf-548100e93974",
   "metadata": {},
   "outputs": [],
   "source": [
    "vscale=\"independent\"\n",
    "smooth_levels=float('inf')\n",
    "prior=\"laplace\"\n",
    "a=0.5\n",
    "bayesfac=False\n",
    "threshrule=\"median\""
   ]
  },
  {
   "cell_type": "code",
   "execution_count": 6,
   "id": "f9dd028f-de60-4e64-8110-702dcc9f6f0b",
   "metadata": {},
   "outputs": [
    {
     "data": {
      "text/plain": [
       "3"
      ]
     },
     "execution_count": 6,
     "metadata": {},
     "output_type": "execute_result"
    }
   ],
   "source": [
    "nlevs = len(x_dwt)\n",
    "nlevs"
   ]
  },
  {
   "cell_type": "code",
   "execution_count": 7,
   "id": "3b309ac5-c848-4aca-af2b-ad18f03829b4",
   "metadata": {},
   "outputs": [
    {
     "data": {
      "text/plain": [
       "3"
      ]
     },
     "execution_count": 7,
     "metadata": {},
     "output_type": "execute_result"
    }
   ],
   "source": [
    "slevs = min(nlevs, smooth_levels)\n",
    "slevs"
   ]
  },
  {
   "cell_type": "code",
   "execution_count": 8,
   "id": "0d300712-8cd4-454a-9f9d-275566ad6f28",
   "metadata": {},
   "outputs": [],
   "source": [
    "if isinstance(vscale, str):\n",
    "    vs = vscale[0].lower()\n",
    "    if vs == \"i\":\n",
    "        vscale = ebayesthresh.mad(x_dwt[-1])  # Use the last level for vscale\n",
    "    elif vs == \"l\":\n",
    "        vscale = None"
   ]
  },
  {
   "cell_type": "code",
   "execution_count": 9,
   "id": "a6d4700a-b4cb-457e-819c-42b00ae9ccac",
   "metadata": {},
   "outputs": [
    {
     "data": {
      "text/plain": [
       "1.28961200438462"
      ]
     },
     "execution_count": 9,
     "metadata": {},
     "output_type": "execute_result"
    }
   ],
   "source": [
    "vscale"
   ]
  },
  {
   "cell_type": "code",
   "execution_count": 11,
   "id": "1fb655ed-f66a-453a-8854-c4679cffbddf",
   "metadata": {},
   "outputs": [],
   "source": [
    "for j in range(nlevs - slevs + 1, nlevs + 1):\n",
    "        x_dwt[j - 1] = ebayesthresh.ebayesthresh(x_dwt[j - 1], prior=prior, a=a, bayesfac=bayesfac, \n",
    "                                    sdev=vscale, verbose=False, threshrule=threshrule)"
   ]
  },
  {
   "cell_type": "code",
   "execution_count": 12,
   "id": "9e99526f-2182-4829-a225-8a3871db6645",
   "metadata": {},
   "outputs": [
    {
     "data": {
      "text/plain": [
       "[array([ 2.54686727, -3.93681469,  2.84493444, -0.22684436, -0.        ,\n",
       "         0.69626776, -0.1937811 , -5.05610077,  0.73042895,  4.06889481,\n",
       "         0.09960291,  1.5871375 ,  0.43377755]),\n",
       " array([ 0.        , -0.        , -0.        ,  0.        ,  0.        ,\n",
       "        -0.        , -0.        , -1.88673589, -0.        , -0.        ,\n",
       "         0.        , -0.        , -0.        ,  0.        , -0.        ,\n",
       "        -0.        ,  0.        ,  0.        ,  0.        ,  0.        ,\n",
       "         0.        , -0.        ,  0.        , -2.86961148,  0.        ]),\n",
       " array([ 0., -0.,  0.,  0., -0., -0.,  0.,  0.,  0., -0., -0.,  0.,  0.,\n",
       "         0., -0.,  0., -0., -0., -0.,  0.,  0.,  0., -0.,  0.,  0.,  0.,\n",
       "         0., -0., -0.,  0.,  0.,  0., -0., -0.,  0.,  0.,  0., -0.,  0.,\n",
       "         0.,  0.,  0., -0., -0.,  0., -0., -0.,  0., -0., -0.])]"
      ]
     },
     "execution_count": 12,
     "metadata": {},
     "output_type": "execute_result"
    }
   ],
   "source": [
    "x_dwt"
   ]
  },
  {
   "cell_type": "markdown",
   "id": "b86e8d56-ad8e-47b6-a06e-7dbe2371e35a",
   "metadata": {},
   "source": [
    "R코드"
   ]
  },
  {
   "cell_type": "markdown",
   "id": "5b829a01-47fc-4603-8efd-9a78a8d0677b",
   "metadata": {},
   "source": [
    "```R\n",
    "ebayesthresh.wavelet.splus <-\n",
    "  function (x.dwt, vscale = \"independent\", smooth.levels = Inf, \n",
    "            prior = \"laplace\", a = 0.5, bayesfac = FALSE,\n",
    "            threshrule = \"median\") {\n",
    "        nlevs <- attributes(x.dwt)$n.levels\n",
    "        slevs <- min(nlevs, smooth.levels)\n",
    "        if (is.character(vscale)) {\n",
    "            vs <- substring(vscale, 1, 1)\n",
    "            if (vs == \"i\") \n",
    "                vscale <- mad(x.dwt[[nlevs + 1]])\n",
    "            if (vs == \"l\") \n",
    "                vscale <- NA\n",
    "        }\n",
    "        for (j in ((nlevs - slevs + 2):(nlevs + 1)))\n",
    "          x.dwt[[j]] <-\n",
    "            ebayesthresh(as.vector(x.dwt[[j]]), prior, a, bayesfac,\n",
    "                         vscale, FALSE, threshrule)\n",
    "        return(x.dwt)\n",
    "}\n",
    "```"
   ]
  },
  {
   "cell_type": "markdown",
   "id": "fe095ec7-1e46-4a15-9892-4359b2f23917",
   "metadata": {},
   "source": [
    "결과"
   ]
  },
  {
   "cell_type": "markdown",
   "id": "d2116f61-04b5-45d6-8535-32ac6846584c",
   "metadata": {},
   "source": [
    "- Python"
   ]
  },
  {
   "cell_type": "code",
   "execution_count": null,
   "id": "7d19b97e-a479-4b15-9e70-7ddadf2a1743",
   "metadata": {},
   "outputs": [],
   "source": [
    "ebayesthresh.ebayesthresh_wavelet_splus(x_dwt=x_dwt)"
   ]
  },
  {
   "cell_type": "markdown",
   "id": "72d744b7-4223-48b5-adc5-3a03a5a35a58",
   "metadata": {},
   "source": [
    "- R"
   ]
  },
  {
   "cell_type": "markdown",
   "id": "8964cb37-acae-445d-aca8-38cdd3b8800c",
   "metadata": {},
   "source": [
    "확인 불가"
   ]
  },
  {
   "cell_type": "markdown",
   "id": "05bb39b1-522f-4ba0-8594-f2ff3dc5d851",
   "metadata": {},
   "source": [
    "```R\n",
    "> ebayesthresh.wavelet.splus(x.dwt=x_dwt)\n",
    "Error in ebayesthresh.wavelet.splus(x.dwt = x_dwt) : \n",
    "  could not find function \"ebayesthresh.wavelet.splus\"\n",
    "```"
   ]
  },
  {
   "cell_type": "markdown",
   "id": "d8c27279-be69-4e42-86db-ecd27d12152c",
   "metadata": {
    "tags": []
   },
   "source": [
    "# ebayesthresh.wavelet.wd"
   ]
  },
  {
   "cell_type": "code",
   "execution_count": 15,
   "id": "1b4726be-a951-4fb3-848e-996bbeb291f8",
   "metadata": {},
   "outputs": [],
   "source": [
    "def get_mother_wavelet_coefficients(data, level):\n",
    "    # Perform wavelet decomposition\n",
    "    coeffs = pywt.wavedec(data, 'db1', level=level)\n",
    "    \n",
    "    # Access the coefficients at the desired resolution level\n",
    "    mother_wavelet_coeffs = coeffs[level]\n",
    "    \n",
    "    return mother_wavelet_coeffs\n",
    "\n",
    "# Example usage:\n",
    "data = [1, 2, 3, 4, 5, 6, 7, 8]\n",
    "level = 2\n",
    "mother_wavelet_coeffs = get_mother_wavelet_coefficients(data, level)"
   ]
  },
  {
   "cell_type": "code",
   "execution_count": 16,
   "id": "50423893-3171-4063-83bc-631a2f1e4ada",
   "metadata": {},
   "outputs": [
    {
     "data": {
      "text/plain": [
       "array([-0.70710678, -0.70710678, -0.70710678, -0.70710678])"
      ]
     },
     "execution_count": 16,
     "metadata": {},
     "output_type": "execute_result"
    }
   ],
   "source": [
    "mother_wavelet_coeffs"
   ]
  },
  {
   "cell_type": "code",
   "execution_count": 17,
   "id": "3b312a0c-e270-4820-ba95-3211c8b2dfd9",
   "metadata": {},
   "outputs": [
    {
     "data": {
      "text/plain": [
       "pywt._extensions._pywt.Wavelet(name='db1', filter_bank=([0.7071067811865476, 0.7071067811865476], [-0.7071067811865476, 0.7071067811865476], [0.7071067811865476, 0.7071067811865476], [0.7071067811865476, -0.7071067811865476]))"
      ]
     },
     "execution_count": 17,
     "metadata": {},
     "output_type": "execute_result"
    }
   ],
   "source": [
    "x_wd = pywt.Wavelet('db1')\n",
    "x_wd"
   ]
  },
  {
   "cell_type": "code",
   "execution_count": 20,
   "id": "78abcd0b-3960-4469-b936-e59ef62975ab",
   "metadata": {},
   "outputs": [],
   "source": [
    "vscale=\"independent\"\n",
    "smooth_levels=float('inf')\n",
    "prior=\"laplace\"\n",
    "a=0.5\n",
    "bayesfac=False\n",
    "threshrule=\"median\""
   ]
  },
  {
   "cell_type": "code",
   "execution_count": null,
   "id": "7dad812d-26e9-41ef-b7b9-af6f57000b2e",
   "metadata": {},
   "outputs": [],
   "source": [
    "nlevs = x_wd['nlevels']\n",
    "nlevs"
   ]
  },
  {
   "cell_type": "code",
   "execution_count": null,
   "id": "9ecae59d-9e8f-4ad7-b01d-9006ddadbd4b",
   "metadata": {},
   "outputs": [],
   "source": [
    "slevs = min(nlevs - 1, smooth_levels)\n",
    "slevs"
   ]
  },
  {
   "cell_type": "code",
   "execution_count": null,
   "id": "8c6775cc-d730-482f-a317-a45bcb40e27b",
   "metadata": {},
   "outputs": [],
   "source": [
    "if isinstance(vscale, str):\n",
    "    vs = vscale[0].lower()\n",
    "    if vs == \"i\":\n",
    "        vscale = ebayesthresh.mad(get_mother_wavelet_coefficients(x_wd,-1))  # Use the last level for vscale\n",
    "    elif vs == \"l\":\n",
    "        vscale = None"
   ]
  },
  {
   "cell_type": "code",
   "execution_count": null,
   "id": "bd2837c7-c785-429b-b805-98555905118d",
   "metadata": {},
   "outputs": [],
   "source": [
    "for j in range(nlevs - slevs, nlevs - 1):\n",
    "        x_wd.d[j] = ebayesthresh(x_wd.d[j], prior=prior, a=a, bayesfac=bayesfac, \n",
    "                                  sdev=vscale, verbose=False, threshrule=threshrule)"
   ]
  },
  {
   "cell_type": "code",
   "execution_count": null,
   "id": "cd4d2231-5fa7-4b51-8328-0e3ddfab7b5a",
   "metadata": {},
   "outputs": [],
   "source": [
    "x_wd"
   ]
  },
  {
   "cell_type": "markdown",
   "id": "0d951dc4-d1cc-43ae-892b-07d7da9cd87f",
   "metadata": {},
   "source": [
    "R코드"
   ]
  },
  {
   "cell_type": "markdown",
   "id": "1569f14d-3c6c-41d6-a573-963336bbdcb5",
   "metadata": {},
   "source": [
    "```R\n",
    "ebayesthresh.wavelet.wd <-\n",
    "  function (x.wd, vscale = \"independent\", smooth.levels = Inf,\n",
    "            prior = \"laplace\", a = 0.5, bayesfac = FALSE,\n",
    "            threshrule = \"median\") {\n",
    "    nlevs <- x.wd$nlevels\n",
    "    slevs <- min(nlevs - 1, smooth.levels)\n",
    "    if (is.character(vscale)) {\n",
    "        vs <- substring(vscale, 1, 1)\n",
    "        if (vs == \"i\")\n",
    "            vscale <- mad(accessD(x.wd, level = nlevs - 1))\n",
    "        if (vs == \"l\")\n",
    "            vscale <- NA\n",
    "    }\n",
    "    for (j in (nlevs - slevs):(nlevs - 1)) {\n",
    "      x.wd <- putD(x.wd, level = j,\n",
    "                   v = ebayesthresh(accessD(x.wd, level = j), prior, a,\n",
    "                                    bayesfac, vscale, FALSE, threshrule))\n",
    "    }\n",
    "    return(x.wd)\n",
    "}\n",
    "```"
   ]
  },
  {
   "cell_type": "markdown",
   "id": "aacc027e-0820-40c0-a848-b7e8e0e944e8",
   "metadata": {},
   "source": [
    "결과"
   ]
  },
  {
   "cell_type": "markdown",
   "id": "41152d43-ac94-4c96-b620-a7fab6c1287b",
   "metadata": {},
   "source": [
    "- Python"
   ]
  },
  {
   "cell_type": "code",
   "execution_count": null,
   "id": "9b592732-8b13-47ea-8390-0ef2ca9dcf31",
   "metadata": {},
   "outputs": [],
   "source": [
    "ebayesthresh.ebayesthresh_wavelet_wd(x_wd)"
   ]
  },
  {
   "cell_type": "markdown",
   "id": "b8ccf978-ddde-44df-81a2-3d8ce5052b7e",
   "metadata": {},
   "source": [
    "- R"
   ]
  },
  {
   "cell_type": "markdown",
   "id": "4dd8b66a-e967-4f04-b51a-a79b5c7d70de",
   "metadata": {},
   "source": [
    "확인 불가"
   ]
  },
  {
   "cell_type": "markdown",
   "id": "c473be01-6678-473c-9495-275f6e1a325e",
   "metadata": {},
   "source": [
    "```R\n",
    "> ebayesthresh.wavelet.wd(x.dwt=x_dwt)\n",
    "Error in ebayesthresh.wavelet.wd(x.dwt = x_dwt) : \n",
    "  could not find function \"ebayesthresh.wavelet.wd\"\n",
    "```"
   ]
  },
  {
   "cell_type": "markdown",
   "id": "b4fb562e-cfd9-4f65-984c-fb55c4bf7e60",
   "metadata": {},
   "source": [
    "# isotone"
   ]
  },
  {
   "cell_type": "markdown",
   "id": "27ba6dec-0169-483e-847c-9099c803ad4c",
   "metadata": {},
   "source": [
    "> Isotonic Regression은 입력 변수에 따른 출력 변수의 단조 증가(monotonic increasing) 또는 감소(monotonic decreasing) 패턴을 찾는 방법"
   ]
  },
  {
   "cell_type": "code",
   "execution_count": 60,
   "id": "8ef6ca18-5787-45bd-8b12-7e8102dd08e9",
   "metadata": {},
   "outputs": [],
   "source": [
    "beta = ebayesthresh.beta_cauchy(np.array([-2,1,0,-4]))\n",
    "w = np.ones(len(beta))\n",
    "aa = w + 1/beta\n",
    "x = w + aa\n",
    "wt = 1/aa**2\n",
    "increasing = False"
   ]
  },
  {
   "cell_type": "code",
   "execution_count": 61,
   "id": "26584b11-31c2-48dc-b880-c015a9475489",
   "metadata": {},
   "outputs": [],
   "source": [
    "nn = len(x)"
   ]
  },
  {
   "cell_type": "code",
   "execution_count": 62,
   "id": "f5dca878-ed14-465c-b0ba-d64c3e24d653",
   "metadata": {},
   "outputs": [],
   "source": [
    "if nn == 1:\n",
    "    x = x"
   ]
  },
  {
   "cell_type": "code",
   "execution_count": 63,
   "id": "1ef1b57d-eb1d-402b-8d8e-c157e3c06dd3",
   "metadata": {},
   "outputs": [],
   "source": [
    "if not increasing:\n",
    "    x = -x"
   ]
  },
  {
   "cell_type": "code",
   "execution_count": 64,
   "id": "3e95c72d-b81c-4aa5-9655-9b0c0d601e47",
   "metadata": {},
   "outputs": [],
   "source": [
    "ip = np.arange(1, nn+1)\n",
    "dx = np.diff(x)\n",
    "nx = len(x)"
   ]
  },
  {
   "cell_type": "code",
   "execution_count": 65,
   "id": "8028188c-e899-424f-9d39-1f39e20e90f2",
   "metadata": {},
   "outputs": [],
   "source": [
    "jmax = np.arange(nx)[(np.concatenate((dx <= 0, [False])) & np.concatenate(([True], dx > 0)))]\n",
    "jmin = np.arange(nx)[(np.concatenate((dx > 0, [True])) & np.concatenate(([False], dx <= 0)))]"
   ]
  },
  {
   "cell_type": "code",
   "execution_count": 66,
   "id": "4c6a33bb-2fca-45b0-b313-419f51b24bfb",
   "metadata": {},
   "outputs": [],
   "source": [
    "jb=0\n",
    "ind = np.arange(jmax[jb], jmin[jb]+1)\n",
    "wtn = np.sum(wt[ind])"
   ]
  },
  {
   "cell_type": "code",
   "execution_count": 67,
   "id": "3add6e69-8e99-43ab-a623-173300cdc65d",
   "metadata": {},
   "outputs": [],
   "source": [
    "x[jmax[jb]] = np.sum(wt[ind] * x[ind]) / wtn"
   ]
  },
  {
   "cell_type": "code",
   "execution_count": 68,
   "id": "d6af3f80-2d9f-4a98-9df2-e8caf8225e5d",
   "metadata": {},
   "outputs": [],
   "source": [
    "wt[jmax[jb]] = wtn"
   ]
  },
  {
   "cell_type": "code",
   "execution_count": 69,
   "id": "c722b951-9843-43c4-89d0-ab69ff3ddefc",
   "metadata": {},
   "outputs": [],
   "source": [
    "x[jmax[jb]+1:jmin[jb]+1] = np.nan"
   ]
  },
  {
   "cell_type": "code",
   "execution_count": 70,
   "id": "81d97202-cc81-4f28-abc5-c31e050f0fdf",
   "metadata": {},
   "outputs": [],
   "source": [
    "# Clean up within iteration, eliminating the parts of sequences that\n",
    "# were set to NA\n",
    "ind = ~np.isnan(x)\n",
    "x = x[ind]\n",
    "wt = wt[ind]\n",
    "ip = ip[ind]\n",
    "dx = np.diff(x)\n",
    "nx = len(x)"
   ]
  },
  {
   "cell_type": "code",
   "execution_count": 71,
   "id": "dedc1ef1-5c13-4cb3-b9f7-3535cf7a80d6",
   "metadata": {},
   "outputs": [],
   "source": [
    "# Final cleanup: reconstruct z at all points by repeating the pooled\n",
    "# values the appropriate number of times\n",
    "jj = np.zeros(nn, dtype=int)\n",
    "jj[ip - 1] = 1\n",
    "z = x[np.cumsum(jj) - 1]"
   ]
  },
  {
   "cell_type": "code",
   "execution_count": 72,
   "id": "a8d9273c-e277-485a-af16-fa216fde39ff",
   "metadata": {},
   "outputs": [],
   "source": [
    "if not increasing:\n",
    "    z = -z"
   ]
  },
  {
   "cell_type": "code",
   "execution_count": 73,
   "id": "7a065097-c35a-4734-8eca-7d03d5f40cca",
   "metadata": {},
   "outputs": [
    {
     "data": {
      "text/plain": [
       "array([3.67430141, 0.76041105, 0.76041105, 0.76041105])"
      ]
     },
     "execution_count": 73,
     "metadata": {},
     "output_type": "execute_result"
    }
   ],
   "source": [
    "z"
   ]
  },
  {
   "cell_type": "markdown",
   "id": "3fbd7d4b-ebd3-4284-9e97-91f43466ed0e",
   "metadata": {},
   "source": [
    "R코드"
   ]
  },
  {
   "cell_type": "markdown",
   "id": "14bf7283-e778-4d22-8fa7-be66bcb23d4b",
   "metadata": {},
   "source": [
    "```R\n",
    "isotone <- function(x, wt = rep(1, length(x)), increasing = FALSE) {\n",
    "#\n",
    "#   find the weighted least squares isotone fit to the \n",
    "#   sequence x, the weights given by the sequence wt\n",
    "#\n",
    "#   if increasing == TRUE the curve is set to be increasing, \n",
    "#   otherwise to be decreasing\n",
    "#\n",
    "#   the vector ip contains the indices on the original scale of the\n",
    "#   breaks in the regression at each stage\n",
    "#\n",
    "\tnn <- length(x)\n",
    "\tif(nn == 1)\n",
    "\t\treturn(x)\n",
    "\tif(!increasing)\n",
    "\t\tx <-  - x\n",
    "\tip <- (1:nn)\n",
    "\tdx <- diff(x)\n",
    "\tnx <- length(x)\n",
    "\twhile((nx > 1) && (min(dx) < 0)) {\n",
    "#\n",
    "#  do single pool-adjacent-violators step\n",
    "#\n",
    "#  find all local minima and maxima\n",
    "#\n",
    "\t\tjmax <- (1:nx)[c(dx <= 0, FALSE) & c(TRUE, dx > 0)]\n",
    "\t\tjmin <- (1:nx)[c(dx > 0, TRUE) & c(FALSE, dx <= 0)]\n",
    "#  do pav step for each pair of maxima and minima\n",
    "#\n",
    "#  add up weights within subsequence that is pooled\n",
    "#  set first element of subsequence to the weighted average\n",
    "#  the first weight to the sum of the weights within the subsequence\n",
    "#    and remainder of the subsequence to NA\n",
    "#\n",
    "\t\tfor(jb in (1:length(jmax))) {\n",
    "\t\t\tind <- (jmax[jb]:jmin[jb])\n",
    "\t\t\twtn <- sum(wt[ind])\n",
    "\t\t\tx[jmax[jb]] <- sum(wt[ind] * x[ind])/wtn\n",
    "\t\t\twt[jmax[jb]] <- wtn\n",
    "\t\t\tx[(jmax[jb] + 1):jmin[jb]] <- NA\n",
    "\t\t}\n",
    "#\n",
    "#  clean up within iteration, eliminating the parts of sequences that\n",
    "#  were set to NA\n",
    "#\n",
    "\t\tind <- !is.na(x)\n",
    "\t\tx <- x[ind]\n",
    "\t\twt <- wt[ind]\n",
    "\t\tip <- ip[ind]\n",
    "\t\tdx <- diff(x)\n",
    "\t\tnx <- length(x)\n",
    "\t}\n",
    "# \n",
    "#  final cleanup: reconstruct z at all points by repeating the pooled\n",
    "#    values the appropriate number of times\n",
    "#\n",
    "\tjj <- rep(0, nn)\n",
    "\tjj[ip] <- 1\n",
    "\tz <- x[cumsum(jj)]\n",
    "\tif(!increasing)\n",
    "\t\tz <-  - z\n",
    "\treturn(z)\n",
    "}\n",
    "```"
   ]
  },
  {
   "cell_type": "markdown",
   "id": "3e0f038d-ce57-407d-a5cb-15ab6df72362",
   "metadata": {},
   "source": [
    "결과"
   ]
  },
  {
   "cell_type": "markdown",
   "id": "25120546-0473-456a-a75d-67d08b972d99",
   "metadata": {},
   "source": [
    "- Python"
   ]
  },
  {
   "cell_type": "code",
   "execution_count": 74,
   "id": "50d3f97e-3039-4325-98ab-205c5eacc612",
   "metadata": {},
   "outputs": [
    {
     "data": {
      "text/plain": [
       "[3.67430141208924, 0.760411047043364, 0.760411047043364, 0.760411047043364]"
      ]
     },
     "execution_count": 74,
     "metadata": {},
     "output_type": "execute_result"
    }
   ],
   "source": [
    "beta = ebayesthresh.beta_cauchy(np.array([-2,1,0,-4]))\n",
    "w = np.ones(len(beta))\n",
    "aa = w + 1/beta\n",
    "ps = w + aa\n",
    "ww = 1/aa**2\n",
    "wnew = ebayesthresh.isotone(ps, ww, increasing = False)\n",
    "wnew"
   ]
  },
  {
   "cell_type": "markdown",
   "id": "c401875f-3d3f-4d8e-bcfa-c0bb25d1cc80",
   "metadata": {},
   "source": [
    "R"
   ]
  },
  {
   "cell_type": "markdown",
   "id": "2bdeeeb8-6b53-4916-9776-c357b7817c75",
   "metadata": {},
   "source": [
    "```R\n",
    "> beta <- beta.cauchy(c(-2,1,0,-4))\n",
    "> w <- rep(1, length(x))\n",
    "> aa = w + 1/beta\n",
    "> ps = w + aa\n",
    "> ww = 1/aa**2\n",
    "> wnew = isotone(ps, ww, increasing = FALSE)\n",
    "> wnew\n",
    "[1] 3.674301 0.760411 0.760411 0.760411\n",
    "```"
   ]
  },
  {
   "cell_type": "markdown",
   "id": "19e378cd-82d6-431a-b128-6d977826e379",
   "metadata": {},
   "source": [
    "# laplace_threshzero"
   ]
  },
  {
   "cell_type": "code",
   "execution_count": 75,
   "id": "27046d75-8e3f-4b1a-bf44-ca433f7fba41",
   "metadata": {},
   "outputs": [],
   "source": [
    "x = np.array([-2,1,0,-4,8,50])\n",
    "s = 1\n",
    "w = 0.5\n",
    "a = 0.5"
   ]
  },
  {
   "cell_type": "code",
   "execution_count": 76,
   "id": "526d78ea-bb08-4464-a2e8-403f601f30ab",
   "metadata": {},
   "outputs": [
    {
     "data": {
      "text/plain": [
       "0.5"
      ]
     },
     "execution_count": 76,
     "metadata": {},
     "output_type": "execute_result"
    }
   ],
   "source": [
    "a = min(a, 20)\n",
    "a"
   ]
  },
  {
   "cell_type": "code",
   "execution_count": 77,
   "id": "0bdd55ed-5e80-40e8-a6c1-9b4be250e839",
   "metadata": {},
   "outputs": [],
   "source": [
    "if isinstance(x, list):\n",
    "    z = []\n",
    "    for elem in x:\n",
    "        xma = elem / s - s * a\n",
    "        z_add = norm.cdf(xma) - (1 / a) * (1 / s * norm.pdf(xma)) * (1 / w + ebayesthresh.beta_laplace(elem, s, a))\n",
    "        z.append(z_add)\n",
    "else:\n",
    "    xma = x / s - s * a\n",
    "    z = norm.cdf(xma) - (1 / a) * (1 / s * norm.pdf(xma)) * (1 / w + ebayesthresh.beta_laplace(x, s, a))"
   ]
  },
  {
   "cell_type": "code",
   "execution_count": 78,
   "id": "48b24f90-7db8-4583-84c9-e4346bbbc04f",
   "metadata": {},
   "outputs": [
    {
     "data": {
      "text/plain": [
       "array([-2.5,  0.5, -0.5, -4.5,  7.5, 49.5])"
      ]
     },
     "execution_count": 78,
     "metadata": {},
     "output_type": "execute_result"
    }
   ],
   "source": [
    "xma"
   ]
  },
  {
   "cell_type": "code",
   "execution_count": 79,
   "id": "03128e70-f81a-443a-9cb9-168485636467",
   "metadata": {},
   "outputs": [
    {
     "data": {
      "text/plain": [
       "array([-0.09509872, -0.44919982, -0.70413065, -0.00918596,  0.5       ,\n",
       "        1.        ])"
      ]
     },
     "execution_count": 79,
     "metadata": {},
     "output_type": "execute_result"
    }
   ],
   "source": [
    "z"
   ]
  },
  {
   "cell_type": "markdown",
   "id": "49dc7496-a8a9-4589-afb6-adb7a76be549",
   "metadata": {},
   "source": [
    "R코드"
   ]
  },
  {
   "cell_type": "markdown",
   "id": "09a8c697-3ae1-42f2-9813-f17b23211633",
   "metadata": {},
   "source": [
    "```R\n",
    "laplace.threshzero <- function(x, s = 1, w = 0.5, a = 0.5) {\n",
    "#\n",
    "# The function that has to be zeroed to find the threshold with the\n",
    "# Laplace prior.  Only allow a < 20 for input value.\n",
    "#    \n",
    "  a <- min(a, 20)\n",
    "  xma <- x/s - s*a\n",
    "  z <- pnorm(xma) - 1/a * (1/s*dnorm(xma)) * (1/w + beta.laplace(x, s, a))\n",
    "  return(z)\n",
    "}\n",
    "```"
   ]
  },
  {
   "cell_type": "markdown",
   "id": "5adeeab7-cd3d-45c3-b194-6b91155c17e3",
   "metadata": {},
   "source": [
    "결과"
   ]
  },
  {
   "cell_type": "markdown",
   "id": "5fbc0b77-9d4c-445c-9be4-cef0adc10104",
   "metadata": {},
   "source": [
    "- Python"
   ]
  },
  {
   "cell_type": "code",
   "execution_count": 80,
   "id": "8d2636a6-4869-4b72-960b-cb6ade162743",
   "metadata": {},
   "outputs": [
    {
     "data": {
      "text/plain": [
       "array([-0.09509872, -0.44919982, -0.70413065, -0.00918596,  0.5       ,\n",
       "        1.        ])"
      ]
     },
     "execution_count": 80,
     "metadata": {},
     "output_type": "execute_result"
    }
   ],
   "source": [
    "ebayesthresh.laplace_threshzero(np.array([-2,1,0,-4,8,50]), s = 1, w = 0.5, a = 0.5)"
   ]
  },
  {
   "cell_type": "code",
   "execution_count": 81,
   "id": "fefaea0b-02df-4fe4-9d43-4ebb991938d0",
   "metadata": {},
   "outputs": [
    {
     "data": {
      "text/plain": [
       "-0.0033691679532916346"
      ]
     },
     "execution_count": 81,
     "metadata": {},
     "output_type": "execute_result"
    }
   ],
   "source": [
    "ebayesthresh.laplace_threshzero(-5, s = 1, w = 0.5, a = 0.5)"
   ]
  },
  {
   "cell_type": "markdown",
   "id": "79fad817-0cfc-4218-b041-f16fb7a0857d",
   "metadata": {},
   "source": [
    "- R"
   ]
  },
  {
   "cell_type": "markdown",
   "id": "2b009058-4803-4f8d-8415-a3cfc8b16bc6",
   "metadata": {},
   "source": [
    "```R\n",
    "> laplace.threshzero(c(-2,1,0,-4,8,50), s = 1, w = 0.5, a = 0.5)\n",
    "[1] -0.095098724 -0.449199824 -0.704130654 -0.009185958  0.500000000  1.000000000\n",
    "> laplace.threshzero(-5, s = 1, w = 0.5, a = 0.5)\n",
    "[1] -0.003369168\n",
    "```"
   ]
  },
  {
   "cell_type": "markdown",
   "id": "848347c3-3a6d-4196-b2f6-d01d3c9f0476",
   "metadata": {},
   "source": [
    "# negloglik_laplace"
   ]
  },
  {
   "cell_type": "markdown",
   "id": "eba5f10d-bdbe-4799-b5a1-fa0423699636",
   "metadata": {},
   "source": [
    "> Marginal negative log likelihood function for laplace prior."
   ]
  },
  {
   "cell_type": "markdown",
   "id": "54539e94-b7bf-4082-8821-2499c02aea41",
   "metadata": {},
   "source": [
    "- 라플라스 프라이어에 대한 한계음의로그우도함수 계산"
   ]
  },
  {
   "cell_type": "code",
   "execution_count": 82,
   "id": "3388f296-4220-41f8-ac14-38c7e1639ed9",
   "metadata": {},
   "outputs": [],
   "source": [
    "xpar = np.array([0.5,0.6,0.3])\n",
    "xx = np.array([1,2,3,4,5])\n",
    "ss = np.array([1])\n",
    "tlo = np.sqrt(2 * np.log(len(np.array([1,2,3,4,5])))) * 1\n",
    "thi = np.array([0,0,0])"
   ]
  },
  {
   "cell_type": "code",
   "execution_count": 83,
   "id": "31bada3e-722f-41ec-b155-bfa4cb879474",
   "metadata": {},
   "outputs": [
    {
     "data": {
      "text/plain": [
       "0.6"
      ]
     },
     "execution_count": 83,
     "metadata": {},
     "output_type": "execute_result"
    }
   ],
   "source": [
    "a = xpar[1]\n",
    "a"
   ]
  },
  {
   "cell_type": "code",
   "execution_count": 84,
   "id": "d8d04b71-f069-4bc9-8d21-5179c4c1bc61",
   "metadata": {},
   "outputs": [
    {
     "data": {
      "text/plain": [
       "array([1., 1., 1.])"
      ]
     },
     "execution_count": 84,
     "metadata": {},
     "output_type": "execute_result"
    }
   ],
   "source": [
    "wlo = ebayesthresh.wfromt(thi, ss, a=a)\n",
    "wlo"
   ]
  },
  {
   "cell_type": "code",
   "execution_count": 85,
   "id": "454272d4-f558-4032-9791-a2396790ea45",
   "metadata": {},
   "outputs": [
    {
     "data": {
      "text/plain": [
       "array([0.44528236])"
      ]
     },
     "execution_count": 85,
     "metadata": {},
     "output_type": "execute_result"
    }
   ],
   "source": [
    "whi = ebayesthresh.wfromt(tlo, ss, a=a)\n",
    "whi"
   ]
  },
  {
   "cell_type": "code",
   "execution_count": 86,
   "id": "21855ded-2844-4316-811c-0853bbb2e1d1",
   "metadata": {},
   "outputs": [
    {
     "data": {
      "text/plain": [
       "1.0"
      ]
     },
     "execution_count": 86,
     "metadata": {},
     "output_type": "execute_result"
    }
   ],
   "source": [
    "wlo = np.max(wlo)\n",
    "wlo"
   ]
  },
  {
   "cell_type": "code",
   "execution_count": 87,
   "id": "afd2b72a-45c8-48c7-8718-e616ec3baafd",
   "metadata": {},
   "outputs": [
    {
     "data": {
      "text/plain": [
       "0.44528236200207744"
      ]
     },
     "execution_count": 87,
     "metadata": {},
     "output_type": "execute_result"
    }
   ],
   "source": [
    "whi = np.min(whi)\n",
    "whi"
   ]
  },
  {
   "cell_type": "code",
   "execution_count": 88,
   "id": "b6254c74-3006-4f30-940f-418530e28e18",
   "metadata": {},
   "outputs": [
    {
     "data": {
      "text/plain": [
       "-16.797273710172206"
      ]
     },
     "execution_count": 88,
     "metadata": {},
     "output_type": "execute_result"
    }
   ],
   "source": [
    "loglik = np.sum(np.log(1 + (xpar[0] * (whi - wlo) + wlo) *\n",
    "                           ebayesthresh.beta_laplace(xx, ss, a)))\n",
    "-loglik"
   ]
  },
  {
   "cell_type": "markdown",
   "id": "851bf5dc-17f3-4ef2-be47-f5562eac9755",
   "metadata": {},
   "source": [
    "R코드"
   ]
  },
  {
   "cell_type": "markdown",
   "id": "2da10538-41fa-4e2e-8ac3-ff9eff103a40",
   "metadata": {},
   "source": [
    "```R\n",
    "negloglik.laplace <- function(xpar, xx, ss, tlo, thi) {\n",
    "#\n",
    "#  Marginal negative log likelihood function for laplace prior. \n",
    "#   Constraints for thresholds need to be passed externally.\n",
    "#  \n",
    "#  xx   :data\n",
    "#  xpar :vector of two parameters:\n",
    "#      xpar[1] : a value between [0, 1] which will be adjusted to range of w \n",
    "#      xpar[2] : inverse scale (rate) parameter (\"a\")\n",
    "#  ss   :vector of standard deviations\n",
    "#  tlo  :lower bound of thresholds\n",
    "#  thi  :upper bound of thresholds\n",
    "#\n",
    "\ta <- xpar[2]\n",
    "        \n",
    "        # Calculate the range of w given a, using negative monotonicity\n",
    "        # between w and t\n",
    "\twlo <- wfromt(thi, ss, a = a)\n",
    "\twhi <- wfromt(tlo, ss, a = a)\n",
    "\twlo <- max(wlo)\n",
    "\twhi <- min(whi)\n",
    "\tloglik <- sum(log(1 + (xpar[1] * (whi - wlo) + wlo) *\n",
    "                          beta.laplace(xx, ss, a)))\n",
    "\treturn(-loglik)\n",
    "}\n",
    "```"
   ]
  },
  {
   "cell_type": "markdown",
   "id": "916c995e-ce79-4f8f-af25-8594d5fab7af",
   "metadata": {},
   "source": [
    "결과"
   ]
  },
  {
   "cell_type": "markdown",
   "id": "ddd3cd74-7b11-4a73-b11b-334834ed1541",
   "metadata": {},
   "source": [
    "- Python"
   ]
  },
  {
   "cell_type": "code",
   "execution_count": 89,
   "id": "fa6f36cd-c343-4a35-8e77-bdb85fd10f44",
   "metadata": {},
   "outputs": [],
   "source": [
    "xpar = np.array([0.5,0.6,0.3])\n",
    "xx = np.array([1,2,3,4,5])\n",
    "ss = np.array([1])\n",
    "tlo = np.sqrt(2 * np.log(len(np.array([1,2,3,4,5])))) * 1\n",
    "thi = np.array([0,0,0])"
   ]
  },
  {
   "cell_type": "code",
   "execution_count": 90,
   "id": "9afd8514-1c47-4e5d-b70f-a94490fd04a2",
   "metadata": {},
   "outputs": [
    {
     "data": {
      "text/plain": [
       "-16.797273710172206"
      ]
     },
     "execution_count": 90,
     "metadata": {},
     "output_type": "execute_result"
    }
   ],
   "source": [
    "ebayesthresh.negloglik_laplace(xpar, xx, ss, tlo, thi)"
   ]
  },
  {
   "cell_type": "markdown",
   "id": "e9c0c541-3681-4e06-9036-9e52a86340b3",
   "metadata": {},
   "source": [
    "- R"
   ]
  },
  {
   "cell_type": "markdown",
   "id": "d25e45f7-fd2c-4a98-8500-0f5dc9e5cf5d",
   "metadata": {},
   "source": [
    "```R\n",
    "> xpar <- c(0.5, 0.6, 0.3)\n",
    "> xx <- c(1, 2, 3, 4, 5)\n",
    "> ss <- c(1)\n",
    "> tlo <- sqrt(2 * log(length(c(1, 2, 3, 4, 5)))) * 1\n",
    "> thi <- c(0, 0, 0)\n",
    "> negloglik.laplace(xpar, xx, ss, tlo, thi)\n",
    "[1] -16.79727\n",
    "```"
   ]
  },
  {
   "cell_type": "markdown",
   "id": "5f65fd32-46df-4718-96cb-fddb075bd7b6",
   "metadata": {},
   "source": [
    "# postmean"
   ]
  },
  {
   "cell_type": "markdown",
   "id": "380ee5f2-7d88-43be-b52c-c7a1ff795017",
   "metadata": {},
   "source": [
    "> Given a single value or a vector of data and sampling standard deviations (sd equals 1 for Cauchy prior), find the corresponding posterior mean estimate(s) of the underlying signal value(s)."
   ]
  },
  {
   "cell_type": "markdown",
   "id": "da1df670-3392-4bdd-9f4f-03f06ca9e51e",
   "metadata": {},
   "source": [
    "- 적절한 사후 평균 찾기"
   ]
  },
  {
   "cell_type": "code",
   "execution_count": 91,
   "id": "4db78d4f-ee39-42a2-85aa-8b3fd298169d",
   "metadata": {},
   "outputs": [],
   "source": [
    "x = np.array([-2,1,0,-4,8,50])\n",
    "s = 1\n",
    "w = 0.5\n",
    "prior = \"cauchy\"\n",
    "# prior = \"laplace\"\n",
    "a = 0.5"
   ]
  },
  {
   "cell_type": "code",
   "execution_count": 92,
   "id": "47751138-2876-4ba8-baaa-825aa496a264",
   "metadata": {},
   "outputs": [
    {
     "data": {
      "text/plain": [
       "'c'"
      ]
     },
     "execution_count": 92,
     "metadata": {},
     "output_type": "execute_result"
    }
   ],
   "source": [
    "pr = prior[0:1]\n",
    "pr"
   ]
  },
  {
   "cell_type": "code",
   "execution_count": 93,
   "id": "fd9e3780-6672-4054-bab8-d389dd1515ad",
   "metadata": {},
   "outputs": [],
   "source": [
    "if pr == \"l\":\n",
    "    mutilde = ebayesthresh.postmean_laplace(x, s, w, a=a)\n",
    "elif pr == \"c\":\n",
    "    if np.any(s != 1):\n",
    "        raise ValueError(\"Only standard deviation of 1 is allowed for Cauchy prior.\")\n",
    "    mutilde = ebayesthresh.postmean_cauchy(x, w)\n",
    "else:\n",
    "    raise ValueError(\"Unknown prior type.\")"
   ]
  },
  {
   "cell_type": "code",
   "execution_count": 94,
   "id": "b0c298aa-dc02-4eb3-9e6e-dbf56036ffb2",
   "metadata": {},
   "outputs": [
    {
     "data": {
      "text/plain": [
       "array([ 0,  0,  0, -3,  7, 49])"
      ]
     },
     "execution_count": 94,
     "metadata": {},
     "output_type": "execute_result"
    }
   ],
   "source": [
    "mutilde"
   ]
  },
  {
   "cell_type": "markdown",
   "id": "98b849b5-a97d-4be3-99f4-a0843f2923f5",
   "metadata": {},
   "source": [
    "R코드"
   ]
  },
  {
   "cell_type": "markdown",
   "id": "5eebb81d-b329-4ab9-bd8b-9cba8b766e9a",
   "metadata": {},
   "source": [
    "```R\n",
    "postmean <- function(x, s = 1, w = 0.5, prior = \"laplace\", a = 0.5) {\n",
    "#\n",
    "#  Find the posterior mean for the appropriate prior for \n",
    "#   given x, s (sd), w and a.\n",
    "#\n",
    "\tpr <- substring(prior, 1, 1)\n",
    "\tif(pr == \"l\")\n",
    "\t\tmutilde <- postmean.laplace(x, s, w, a = a)\n",
    "\tif(pr == \"c\"){\n",
    "            if(any(s != 1))\n",
    "                stop(paste(\"Only standard deviation of 1 is allowed\",\n",
    "                           \"for Cauchy prior.\"))\n",
    "\t\tmutilde <- postmean.cauchy(x, w)\n",
    "\t}\n",
    "\treturn(mutilde)\n",
    "}\n",
    "```"
   ]
  },
  {
   "cell_type": "markdown",
   "id": "499e6589-0d25-4fcf-988f-034bbb34df24",
   "metadata": {},
   "source": [
    "결과"
   ]
  },
  {
   "cell_type": "markdown",
   "id": "fcec7705-5277-4968-81f4-50e4c00fe6b0",
   "metadata": {},
   "source": [
    "- Python"
   ]
  },
  {
   "cell_type": "code",
   "execution_count": 95,
   "id": "4f6ec048-878a-4dde-bbd2-bcaefbd09b1c",
   "metadata": {},
   "outputs": [
    {
     "data": {
      "text/plain": [
       "array([-1.01158962,  0.27095331,  0.        , -3.48800924,  7.5       ,\n",
       "       49.5       ])"
      ]
     },
     "execution_count": 95,
     "metadata": {},
     "output_type": "execute_result"
    }
   ],
   "source": [
    "ebayesthresh.postmean(np.array([-2,1,0,-4,8,50]), s=1, w = 0.5, prior = \"laplace\", a = 0.5)"
   ]
  },
  {
   "cell_type": "markdown",
   "id": "fc798bfe-6a52-45c4-8865-e97f40a50e43",
   "metadata": {},
   "source": [
    "- R"
   ]
  },
  {
   "cell_type": "markdown",
   "id": "36beaeee-fd80-464f-bdbc-b9c2c02bd1ae",
   "metadata": {},
   "source": [
    "```R\n",
    "> postmean(c(-2,1,0,-4,8,50), s=1, w = 0.5, prior = \"laplace\", a = 0.5)\n",
    "[1] -1.0115896  0.2709533  0.0000000 -3.4880092  7.5000000 49.5000000\n",
    "```"
   ]
  },
  {
   "cell_type": "markdown",
   "id": "f6ff6853-01dd-4709-8d49-8a011d9291e9",
   "metadata": {},
   "source": [
    "# postmean_cauchy"
   ]
  },
  {
   "cell_type": "markdown",
   "id": "27b4bd20-a767-4f48-9bda-d1c3a54e7cc7",
   "metadata": {},
   "source": [
    "> Find the posterior mean for the quasi-Cauchy prior with mixing weight w given data x, which may be a scalar or a vector."
   ]
  },
  {
   "cell_type": "markdown",
   "id": "0a946ba7-2f2c-419f-b470-a486bed20765",
   "metadata": {},
   "source": [
    "- quasi-Cauch에 대한 사후 평균 구하기"
   ]
  },
  {
   "cell_type": "code",
   "execution_count": 96,
   "id": "b74b235e-0245-475b-bc8b-52e5c04e9d8f",
   "metadata": {},
   "outputs": [],
   "source": [
    "x = np.array([-2,1,0,-4,8,50], dtype=float)\n",
    "w = 0.5"
   ]
  },
  {
   "cell_type": "code",
   "execution_count": 97,
   "id": "7f4b628e-bd89-4eca-8f1d-0f54163eaa16",
   "metadata": {},
   "outputs": [],
   "source": [
    "muhat = x"
   ]
  },
  {
   "cell_type": "code",
   "execution_count": 98,
   "id": "55c88c28-9fae-4b7d-999b-99ed3c854bb7",
   "metadata": {},
   "outputs": [
    {
     "data": {
      "text/plain": [
       "array([False, False,  True, False, False, False])"
      ]
     },
     "execution_count": 98,
     "metadata": {},
     "output_type": "execute_result"
    }
   ],
   "source": [
    "ind = (x == 0)\n",
    "ind"
   ]
  },
  {
   "cell_type": "code",
   "execution_count": 99,
   "id": "3b6529fb-1ab0-4c47-9a47-f95b5c7825be",
   "metadata": {},
   "outputs": [
    {
     "data": {
      "text/plain": [
       "array([-2.,  1., -4.,  8., 50.])"
      ]
     },
     "execution_count": 99,
     "metadata": {},
     "output_type": "execute_result"
    }
   ],
   "source": [
    "x = x[~ind]\n",
    "x"
   ]
  },
  {
   "cell_type": "code",
   "execution_count": 100,
   "id": "022add34-b091-4c72-9371-b73a95ff6fe2",
   "metadata": {},
   "outputs": [
    {
     "data": {
      "text/plain": [
       "array([1.35335283e-01, 6.06530660e-01, 3.35462628e-04, 1.26641655e-14,\n",
       "       0.00000000e+00])"
      ]
     },
     "execution_count": 100,
     "metadata": {},
     "output_type": "execute_result"
    }
   ],
   "source": [
    "ex = np.exp(-x**2/2)\n",
    "ex"
   ]
  },
  {
   "cell_type": "code",
   "execution_count": 101,
   "id": "acc83e6a-702b-48a5-a6f0-ea73a9a9856f",
   "metadata": {},
   "outputs": [
    {
     "data": {
      "text/plain": [
       "array([-0.56766764,  0.10653066, -1.75008387,  3.875     , 24.98      ])"
      ]
     },
     "execution_count": 101,
     "metadata": {},
     "output_type": "execute_result"
    }
   ],
   "source": [
    "z = w * (x - (2 * (1 - ex))/x)\n",
    "z"
   ]
  },
  {
   "cell_type": "code",
   "execution_count": 102,
   "id": "32d1bcc2-8e38-42ce-ac0f-a3577ab4929e",
   "metadata": {},
   "outputs": [
    {
     "data": {
      "text/plain": [
       "array([-0.80748973,  0.21306132, -3.48264328,  7.75      , 49.96      ])"
      ]
     },
     "execution_count": 102,
     "metadata": {},
     "output_type": "execute_result"
    }
   ],
   "source": [
    "z = z / (w * (1 - ex) + (1 - w) * ex * x**2)\n",
    "z"
   ]
  },
  {
   "cell_type": "code",
   "execution_count": 103,
   "id": "d6ca4d4a-2ca3-4a33-a370-9eb33d8c146d",
   "metadata": {},
   "outputs": [
    {
     "data": {
      "text/plain": [
       "array([-0.80748973,  0.21306132,  0.        , -3.48264328,  7.75      ,\n",
       "       49.96      ])"
      ]
     },
     "execution_count": 103,
     "metadata": {},
     "output_type": "execute_result"
    }
   ],
   "source": [
    "muhat[~ind] = z\n",
    "muhat"
   ]
  },
  {
   "cell_type": "markdown",
   "id": "6e7bb9b7-9632-42c0-97ae-dde8a2a7dd11",
   "metadata": {},
   "source": [
    "R코드"
   ]
  },
  {
   "cell_type": "markdown",
   "id": "e7e00bde-abe3-4dfc-a5bd-8800e4dfcb25",
   "metadata": {},
   "source": [
    "```R\n",
    "postmean.cauchy <- function(x, w) {\n",
    "#\n",
    "#  Find the posterior mean for the quasi-Cauchy prior with mixing\n",
    "#   weight w given data x, which may be a scalar or a vector.\n",
    "#\n",
    "\tmuhat <- x\n",
    "\tind <- (x == 0)\n",
    "\tx <- x[!ind]\n",
    "\tex <- exp( - x^2/2)\n",
    "\tz <- w * (x - (2 * (1 - ex))/x)\n",
    "\tz <- z/(w * (1 - ex) + (1 - w) * ex * x^2)\n",
    "\tmuhat[!ind] <- z\n",
    "\treturn(muhat)\n",
    "}\n",
    "```"
   ]
  },
  {
   "cell_type": "markdown",
   "id": "1a2d8025-a2e6-449d-806e-5bb451eb29cc",
   "metadata": {},
   "source": [
    "결과"
   ]
  },
  {
   "cell_type": "markdown",
   "id": "f6e6f637-0820-4866-bb15-4f68237d30bd",
   "metadata": {},
   "source": [
    "- Python"
   ]
  },
  {
   "cell_type": "code",
   "execution_count": 104,
   "id": "e30de365-f9cf-45bc-87a6-b7b9d89ab545",
   "metadata": {},
   "outputs": [
    {
     "data": {
      "text/plain": [
       "array([-0.80748973,  0.21306132,  0.        , -3.48264328,  7.75      ,\n",
       "       49.96      ])"
      ]
     },
     "execution_count": 104,
     "metadata": {},
     "output_type": "execute_result"
    }
   ],
   "source": [
    "ebayesthresh.postmean_cauchy(np.array([-2,1,0,-4,8,50], dtype=float),0.5)"
   ]
  },
  {
   "cell_type": "markdown",
   "id": "6e39db7c-86ee-47ee-86ec-230f90f65c67",
   "metadata": {},
   "source": [
    "- R"
   ]
  },
  {
   "cell_type": "markdown",
   "id": "295674f2-f723-4ffd-8375-1101b58f1b56",
   "metadata": {},
   "source": [
    "```R\n",
    "> postmean.cauchy(c(-2,1,0,-4,8,50),0.5)\n",
    "[1] -0.8074897  0.2130613  0.0000000 -3.4826433  7.7500000 49.9600000\n",
    "```"
   ]
  },
  {
   "cell_type": "markdown",
   "id": "b9c4ed9d-88d7-48ca-aee6-dec99be8435e",
   "metadata": {},
   "source": [
    "# postmean.laplace"
   ]
  },
  {
   "cell_type": "markdown",
   "id": "2efc53a0-102d-40a6-a0d4-0471ab7fcda5",
   "metadata": {},
   "source": [
    "> Find the posterior mean for the double exponential prior for given $x, s (sd), w$, and $a$."
   ]
  },
  {
   "cell_type": "markdown",
   "id": "aafe9a90-2473-4374-b857-e3011184e49b",
   "metadata": {},
   "source": [
    "- 이전 지수 분포에 대한 사후 평균"
   ]
  },
  {
   "cell_type": "code",
   "execution_count": 82,
   "id": "a8126ddd-5f06-4aea-814c-766bb7dd4b21",
   "metadata": {},
   "outputs": [],
   "source": [
    "x = np.array([-2,1,0,-4,8,50])\n",
    "s = 1\n",
    "w = 0.5\n",
    "a = 0.5"
   ]
  },
  {
   "cell_type": "code",
   "execution_count": 83,
   "id": "844ae66c-cd57-4959-840b-6b8c1413db19",
   "metadata": {},
   "outputs": [
    {
     "data": {
      "text/plain": [
       "0.5"
      ]
     },
     "execution_count": 83,
     "metadata": {},
     "output_type": "execute_result"
    }
   ],
   "source": [
    "a = min(a, 20)\n",
    "a"
   ]
  },
  {
   "cell_type": "code",
   "execution_count": 84,
   "id": "b7d0aec8-e1ee-4bde-ab50-8bfa9a89be1e",
   "metadata": {},
   "outputs": [
    {
     "data": {
      "text/plain": [
       "array([0.65396152, 0.38270015, 0.30467782, 0.99652125, 1.        ,\n",
       "       1.        ])"
      ]
     },
     "execution_count": 84,
     "metadata": {},
     "output_type": "execute_result"
    }
   ],
   "source": [
    "w_post = ebayesthresh.wpost_laplace(w, x, s, a)\n",
    "w_post"
   ]
  },
  {
   "cell_type": "code",
   "execution_count": 85,
   "id": "c9b2bd8a-6cb9-457a-b7c5-279884b6a60b",
   "metadata": {},
   "outputs": [
    {
     "data": {
      "text/plain": [
       "array([-1,  1,  0, -1,  1,  1])"
      ]
     },
     "execution_count": 85,
     "metadata": {},
     "output_type": "execute_result"
    }
   ],
   "source": [
    "sx = np.sign(x)\n",
    "sx"
   ]
  },
  {
   "cell_type": "code",
   "execution_count": 86,
   "id": "f66c7594-6b43-4acc-909c-ba626dab8b85",
   "metadata": {},
   "outputs": [
    {
     "data": {
      "text/plain": [
       "array([ 2,  1,  0,  4,  8, 50])"
      ]
     },
     "execution_count": 86,
     "metadata": {},
     "output_type": "execute_result"
    }
   ],
   "source": [
    "x = np.abs(x)\n",
    "x"
   ]
  },
  {
   "cell_type": "code",
   "execution_count": 87,
   "id": "8d74e731-acf1-443f-96bd-fa434858d04f",
   "metadata": {},
   "outputs": [
    {
     "data": {
      "text/plain": [
       "array([ 2.5,  1.5,  0.5,  4.5,  8.5, 50.5])"
      ]
     },
     "execution_count": 87,
     "metadata": {},
     "output_type": "execute_result"
    }
   ],
   "source": [
    "xpa = x/s + s*a\n",
    "xpa"
   ]
  },
  {
   "cell_type": "code",
   "execution_count": 88,
   "id": "321c53e3-dc4f-4914-a03c-24e685580e82",
   "metadata": {},
   "outputs": [
    {
     "data": {
      "text/plain": [
       "array([ 1.5,  0.5, -0.5,  3.5,  7.5, 49.5])"
      ]
     },
     "execution_count": 88,
     "metadata": {},
     "output_type": "execute_result"
    }
   ],
   "source": [
    "xma = x/s - s*a\n",
    "xma"
   ]
  },
  {
   "cell_type": "code",
   "execution_count": 89,
   "id": "4db15f50-64ed-48da-a7c8-16bd5990f031",
   "metadata": {},
   "outputs": [
    {
     "data": {
      "text/plain": [
       "array([ 2.5,  1.5,  0.5,  4.5,  8.5, 35. ])"
      ]
     },
     "execution_count": 89,
     "metadata": {},
     "output_type": "execute_result"
    }
   ],
   "source": [
    "xpa[xpa > 35] = 35\n",
    "xpa"
   ]
  },
  {
   "cell_type": "code",
   "execution_count": 90,
   "id": "fa6eb73f-0810-4fe6-87bd-33eb81f022c3",
   "metadata": {},
   "outputs": [
    {
     "data": {
      "text/plain": [
       "array([ 1.5,  0.5, -0.5,  3.5,  7.5, 49.5])"
      ]
     },
     "execution_count": 90,
     "metadata": {},
     "output_type": "execute_result"
    }
   ],
   "source": [
    "xma[xma < -35] = -35\n",
    "xma"
   ]
  },
  {
   "cell_type": "code",
   "execution_count": 91,
   "id": "52495477-5870-45fb-89ab-b2ca237895c4",
   "metadata": {},
   "outputs": [
    {
     "data": {
      "text/plain": [
       "array([0.9331928 , 0.69146246, 0.30853754, 0.99976737, 1.        ,\n",
       "       1.        ])"
      ]
     },
     "execution_count": 91,
     "metadata": {},
     "output_type": "execute_result"
    }
   ],
   "source": [
    "cp1 = norm.cdf(xma)\n",
    "cp1"
   ]
  },
  {
   "cell_type": "code",
   "execution_count": 92,
   "id": "f467e1c5-b69c-4342-808e-d2ecfb0ea8e1",
   "metadata": {},
   "outputs": [
    {
     "data": {
      "text/plain": [
       "array([6.20966533e-003, 6.68072013e-002, 3.08537539e-001, 3.39767312e-006,\n",
       "       9.47953482e-018, 1.12491071e-268])"
      ]
     },
     "execution_count": 92,
     "metadata": {},
     "output_type": "execute_result"
    }
   ],
   "source": [
    "cp2 = norm.cdf(-xpa)\n",
    "cp2"
   ]
  },
  {
   "cell_type": "code",
   "execution_count": 93,
   "id": "62f26cd5-257e-4c54-b606-2f49e651652d",
   "metadata": {},
   "outputs": [
    {
     "data": {
      "text/plain": [
       "array([7.38905610e+00, 2.71828183e+00, 1.00000000e+00, 5.45981500e+01,\n",
       "       2.98095799e+03, 5.18470553e+21])"
      ]
     },
     "execution_count": 93,
     "metadata": {},
     "output_type": "execute_result"
    }
   ],
   "source": [
    "ef = np.exp(np.minimum(2 * a * x, 100))\n",
    "ef"
   ]
  },
  {
   "cell_type": "code",
   "execution_count": 94,
   "id": "92d449c1-5770-4adf-aeb4-295507cf7484",
   "metadata": {},
   "outputs": [
    {
     "data": {
      "text/plain": [
       "array([ 1.54686413,  0.70800417,  0.        ,  3.50018552,  7.5       ,\n",
       "       49.5       ])"
      ]
     },
     "execution_count": 94,
     "metadata": {},
     "output_type": "execute_result"
    }
   ],
   "source": [
    "postmean_cond = x - a * s**2 * (2 * cp1 / (cp1 + ef * cp2) - 1)\n",
    "postmean_cond"
   ]
  },
  {
   "cell_type": "code",
   "execution_count": 95,
   "id": "c993cbe4-fbd2-4e62-83d2-e548282a7c30",
   "metadata": {},
   "outputs": [
    {
     "data": {
      "text/plain": [
       "array([-1.01158962,  0.27095331,  0.        , -3.48800924,  7.5       ,\n",
       "       49.5       ])"
      ]
     },
     "execution_count": 95,
     "metadata": {},
     "output_type": "execute_result"
    }
   ],
   "source": [
    "sx * w_post * postmean_cond"
   ]
  },
  {
   "cell_type": "markdown",
   "id": "ae6f189c-9d4c-47be-99f1-a130b67582af",
   "metadata": {},
   "source": [
    "R코드"
   ]
  },
  {
   "cell_type": "markdown",
   "id": "def1b50e-0b32-45c9-bf3f-03fb453dd2d8",
   "metadata": {},
   "source": [
    "```R\n",
    "postmean.laplace <- function(x, s = 1, w = 0.5, a = 0.5) {\n",
    "#\n",
    "#  Find the posterior mean for the double exponential prior for \n",
    "#   given x, s (sd), w and a.\n",
    "#\n",
    "    \n",
    "  # Only allow a < 20 for input value.\n",
    "  a <- min(a, 20)\n",
    "  \n",
    "  # First find the probability of being non-zero\n",
    "\twpost <- wpost.laplace(w, x, s, a)\n",
    "  \n",
    "  # Now find the posterior mean conditional on being non-zero\n",
    "\tsx <- sign(x)\n",
    "\tx <- abs(x)\n",
    "\txpa <- x/s + s*a\n",
    "\txma <- x/s - s*a\n",
    "\txpa[xpa > 35] <- 35\n",
    "\txma[xma < -35] <- -35\n",
    "\t\n",
    "\tcp1 <- pnorm(xma)\n",
    "\tcp2 <- pnorm( - xpa)\n",
    "\tef <- exp(pmin(2 * a * x, 100))\n",
    "\tpostmeancond <- x - a * s^2 * ( 2 * cp1/(cp1 + ef * cp2) - 1)\n",
    "  \n",
    "  # Calculate posterior mean and return\n",
    "\treturn(sx * wpost * postmeancond)\n",
    "}\n",
    "```"
   ]
  },
  {
   "cell_type": "markdown",
   "id": "cf85a110-b55d-46d9-91f8-7b3749846470",
   "metadata": {},
   "source": [
    "결과"
   ]
  },
  {
   "cell_type": "markdown",
   "id": "7e73bb3b-afb0-4708-9aa1-0e20562594bf",
   "metadata": {},
   "source": [
    "- Python"
   ]
  },
  {
   "cell_type": "code",
   "execution_count": 25,
   "id": "82b4fc5b-6d08-44d8-bc18-ba08d4f510c4",
   "metadata": {},
   "outputs": [
    {
     "data": {
      "text/plain": [
       "array([-1.01158962,  0.27095331,  0.        , -3.48800924,  7.5       ,\n",
       "       49.5       ])"
      ]
     },
     "execution_count": 25,
     "metadata": {},
     "output_type": "execute_result"
    }
   ],
   "source": [
    "ebayesthresh.postmean_laplace(np.array([-2,1,0,-4,8,50]))"
   ]
  },
  {
   "cell_type": "markdown",
   "id": "cdc9536a-640d-4511-ac7d-b9202bcc6660",
   "metadata": {},
   "source": [
    "- R"
   ]
  },
  {
   "cell_type": "markdown",
   "id": "648c182f-0f1e-426e-a92c-55f85cd42c81",
   "metadata": {},
   "source": [
    "```R\n",
    "> postmean.laplace(c(-2,1,0,-4,8,50))\n",
    "[1] -1.0115896  0.2709533  0.0000000 -3.4880092  7.5000000 49.5000000\n",
    "```"
   ]
  },
  {
   "cell_type": "markdown",
   "id": "d5df3776-103a-41e6-bed8-990d4928d9d2",
   "metadata": {},
   "source": [
    "# postmed"
   ]
  },
  {
   "cell_type": "markdown",
   "id": "d7934e79-e7bf-4877-a6d5-38082d957fb7",
   "metadata": {},
   "source": [
    "Description"
   ]
  },
  {
   "cell_type": "markdown",
   "id": "fbf799cf-8ca2-4be9-9602-4ca01e7314b4",
   "metadata": {},
   "source": [
    "> Given a single value or a vector of data and sampling standard deviations (sd is 1 for Cauchy prior), find the corresponding posterior median estimate(s) of the underlying signal value(s)."
   ]
  },
  {
   "cell_type": "markdown",
   "id": "4e045426-7d3c-4b7a-a7ce-5890e4c5939f",
   "metadata": {},
   "source": [
    "사후 확률 중앙값 추정치 구하기"
   ]
  },
  {
   "cell_type": "code",
   "execution_count": 105,
   "id": "1fbbb2e1-969d-40a5-bf88-6f6998ccd12f",
   "metadata": {},
   "outputs": [],
   "source": [
    "x = np.array([1.5, 2.5, 3.5])\n",
    "s = 1\n",
    "w = 0.5\n",
    "prior = \"laplace\"\n",
    "a = 0.5"
   ]
  },
  {
   "cell_type": "code",
   "execution_count": 106,
   "id": "7115ed8e-67d6-4935-88ef-288149d0701c",
   "metadata": {},
   "outputs": [
    {
     "data": {
      "text/plain": [
       "'l'"
      ]
     },
     "execution_count": 106,
     "metadata": {},
     "output_type": "execute_result"
    }
   ],
   "source": [
    "pr = prior[0:1]\n",
    "pr"
   ]
  },
  {
   "cell_type": "code",
   "execution_count": 107,
   "id": "20cfcfd2-c4d4-4c98-9c4b-d1ec25a94f7a",
   "metadata": {},
   "outputs": [],
   "source": [
    "if pr == \"l\":\n",
    "    muhat = ebayesthresh.postmed_laplace(x, s, w, a)\n",
    "elif pr == \"c\":\n",
    "    if np.any(s != 1):\n",
    "        raise ValueError(\"Only standard deviation of 1 is allowed for Cauchy prior.\")\n",
    "    muhat = ebayesthresh.postmed_cauchy(x, w)\n",
    "else:\n",
    "    raise ValueError(f\"Unknown prior: {prior}\")"
   ]
  },
  {
   "cell_type": "code",
   "execution_count": 108,
   "id": "419c63f7-b1a4-4091-a991-5522da2b08d6",
   "metadata": {},
   "outputs": [
    {
     "data": {
      "text/plain": [
       "array([0.        , 1.73413235, 2.97815763])"
      ]
     },
     "execution_count": 108,
     "metadata": {},
     "output_type": "execute_result"
    }
   ],
   "source": [
    "muhat"
   ]
  },
  {
   "cell_type": "markdown",
   "id": "897d71af-6ee8-4d49-8b08-f2e953db564b",
   "metadata": {},
   "source": [
    "R코드"
   ]
  },
  {
   "cell_type": "markdown",
   "id": "d23ebf8c-5c7f-45b4-8b32-432e28a0a91d",
   "metadata": {},
   "source": [
    "```R\n",
    "postmed <- function (x, s = 1, w = 0.5, prior = \"laplace\", a = 0.5) {\n",
    "#\n",
    "#  Find the posterior median for the appropriate prior for \n",
    "#   given x, s (sd), w and a. \n",
    "#\n",
    "\tpr <- substring(prior, 1, 1)\n",
    "\tif(pr == \"l\")\n",
    "\t\tmuhat <- postmed.laplace(x, s, w, a)\n",
    "\tif(pr == \"c\") {\n",
    "            if(any(s != 1))\n",
    "                stop(paste(\"Only standard deviation of 1 is allowed\",\n",
    "                           \"for Cauchy prior.\"))\n",
    "\t\tmuhat <- postmed.cauchy(x, w)\n",
    "\t}\n",
    "\treturn(muhat)\n",
    "}\n",
    "```"
   ]
  },
  {
   "cell_type": "markdown",
   "id": "5f365f90-8f1f-4444-8cca-8a8b7558504c",
   "metadata": {},
   "source": [
    "결과"
   ]
  },
  {
   "cell_type": "markdown",
   "id": "dfc66ca6-1d2b-40b4-a821-3fa207b7a4aa",
   "metadata": {},
   "source": [
    "- Python"
   ]
  },
  {
   "cell_type": "code",
   "execution_count": 109,
   "id": "fc3e6794-fdce-4ecd-a076-d656508773b8",
   "metadata": {},
   "outputs": [
    {
     "data": {
      "text/plain": [
       "array([0.        , 1.73413235, 2.97815763])"
      ]
     },
     "execution_count": 109,
     "metadata": {},
     "output_type": "execute_result"
    }
   ],
   "source": [
    "ebayesthresh.postmed(x = np.array([1.5, 2.5, 3.5]))"
   ]
  },
  {
   "cell_type": "markdown",
   "id": "eba897cd-2ed7-4f6d-9c0e-d31290757cb6",
   "metadata": {},
   "source": [
    "- R"
   ]
  },
  {
   "cell_type": "markdown",
   "id": "ae5e1b34-2761-4c42-ae87-17c9846179a6",
   "metadata": {},
   "source": [
    "```R\n",
    " postmed(x=c(1.5, 2.5, 3.5))\n",
    "[1] 0.000000 1.734132 2.978158\n",
    "```"
   ]
  },
  {
   "cell_type": "markdown",
   "id": "565b01ae-f73c-4877-9acf-37bb0fc6c059",
   "metadata": {},
   "source": [
    "# postmed_cauchy"
   ]
  },
  {
   "cell_type": "code",
   "execution_count": 3,
   "id": "6b3d3220-3956-4e81-885f-9d9787608323",
   "metadata": {},
   "outputs": [],
   "source": [
    "x = np.array([10, 15, 20, 25])\n",
    "w = 0.5"
   ]
  },
  {
   "cell_type": "code",
   "execution_count": 4,
   "id": "1ba01671-d551-4f44-86a5-588fa0df51c8",
   "metadata": {},
   "outputs": [
    {
     "data": {
      "text/plain": [
       "4"
      ]
     },
     "execution_count": 4,
     "metadata": {},
     "output_type": "execute_result"
    }
   ],
   "source": [
    "nx = len(x)\n",
    "nx"
   ]
  },
  {
   "cell_type": "code",
   "execution_count": 5,
   "id": "1b6fe68c-c2d7-4737-9f4e-7e1a703c56b7",
   "metadata": {},
   "outputs": [
    {
     "data": {
      "text/plain": [
       "array([nan, nan, nan, nan])"
      ]
     },
     "execution_count": 5,
     "metadata": {},
     "output_type": "execute_result"
    }
   ],
   "source": [
    "zest = np.full(nx, np.nan)\n",
    "zest"
   ]
  },
  {
   "cell_type": "code",
   "execution_count": 6,
   "id": "a9eb118a-86b1-4422-b6ff-15551cb502c8",
   "metadata": {},
   "outputs": [
    {
     "data": {
      "text/plain": [
       "array([0.5, 0.5, 0.5, 0.5])"
      ]
     },
     "execution_count": 6,
     "metadata": {},
     "output_type": "execute_result"
    }
   ],
   "source": [
    "w = np.full(nx, w)\n",
    "w"
   ]
  },
  {
   "cell_type": "code",
   "execution_count": 7,
   "id": "5865aedc-29d2-46f0-aa50-f335c059cca4",
   "metadata": {},
   "outputs": [
    {
     "data": {
      "text/plain": [
       "array([10, 15, 20, 25])"
      ]
     },
     "execution_count": 7,
     "metadata": {},
     "output_type": "execute_result"
    }
   ],
   "source": [
    "ax = np.abs(x)\n",
    "ax"
   ]
  },
  {
   "cell_type": "code",
   "execution_count": 8,
   "id": "eefa743b-8d90-49e1-ad39-277fabd5ea82",
   "metadata": {},
   "outputs": [
    {
     "data": {
      "text/plain": [
       "array([ True,  True, False, False])"
      ]
     },
     "execution_count": 8,
     "metadata": {},
     "output_type": "execute_result"
    }
   ],
   "source": [
    "j = (ax < 20)\n",
    "j"
   ]
  },
  {
   "cell_type": "code",
   "execution_count": 9,
   "id": "8ab6b946-a281-46b8-a4bc-0a9af1aae8ec",
   "metadata": {},
   "outputs": [
    {
     "data": {
      "text/plain": [
       "array([  nan,   nan, 19.9 , 24.92])"
      ]
     },
     "execution_count": 9,
     "metadata": {},
     "output_type": "execute_result"
    }
   ],
   "source": [
    "zest[~j] = ax[~j] - 2 / ax[~j]\n",
    "zest"
   ]
  },
  {
   "cell_type": "code",
   "execution_count": 10,
   "id": "887bb48a-f7a8-4b2a-b916-8eddf7629937",
   "metadata": {},
   "outputs": [],
   "source": [
    "if isinstance(np.max(ax[j]), (int, float, np.int64)):\n",
    "    a = np.array([np.max(ax[j])] * 4)"
   ]
  },
  {
   "cell_type": "code",
   "execution_count": 11,
   "id": "8f8f975b-fb3f-4582-abe4-5dde3ac0298f",
   "metadata": {},
   "outputs": [
    {
     "data": {
      "text/plain": [
       "array([15, 15, 15, 15])"
      ]
     },
     "execution_count": 11,
     "metadata": {},
     "output_type": "execute_result"
    }
   ],
   "source": [
    "a"
   ]
  },
  {
   "cell_type": "code",
   "execution_count": 12,
   "id": "db99851b-8707-4457-8b49-3cfe103d5740",
   "metadata": {},
   "outputs": [],
   "source": [
    "if np.sum(j) > 0:\n",
    "    zest[j] = ebayesthresh.vecbinsolv(zf=np.zeros(np.sum(j)), fun=ebayesthresh.cauchy_medzero, tlo=0, thi=np.max(ax[j]), z=ax[j], w=w[j])"
   ]
  },
  {
   "cell_type": "code",
   "execution_count": 13,
   "id": "636973b1-2556-4d08-aa24-05df45ea3152",
   "metadata": {},
   "outputs": [
    {
     "data": {
      "text/plain": [
       "array([ 9.80064279, 14.86686095, 19.9       , 24.92      ])"
      ]
     },
     "execution_count": 13,
     "metadata": {},
     "output_type": "execute_result"
    }
   ],
   "source": [
    "zest[zest < 1e-7] = 0\n",
    "zest"
   ]
  },
  {
   "cell_type": "code",
   "execution_count": 14,
   "id": "55ebc905-121b-4708-a6cd-dff8706fbef6",
   "metadata": {},
   "outputs": [
    {
     "data": {
      "text/plain": [
       "array([ 9.80064279, 14.86686095, 19.9       , 24.92      ])"
      ]
     },
     "execution_count": 14,
     "metadata": {},
     "output_type": "execute_result"
    }
   ],
   "source": [
    "zest = np.sign(x) * zest\n",
    "zest"
   ]
  },
  {
   "cell_type": "markdown",
   "id": "2a9882dd-cf08-40da-b8bc-db79d7bbd7e2",
   "metadata": {},
   "source": [
    "R코드"
   ]
  },
  {
   "cell_type": "markdown",
   "id": "457fa59d-6439-41bf-8320-397f913b90cf",
   "metadata": {},
   "source": [
    "```R\n",
    "postmed.cauchy <- function(x, w) {\n",
    "#\n",
    "# find the posterior median of the Cauchy prior with mixing weight w,\n",
    "# pointwise for each of the data points x\n",
    "#\n",
    "\tnx <- length(x)\n",
    "\tzest <- rep(NA, length(x))\n",
    "\tw <- rep(w, length.out = nx)\n",
    "\tax <- abs(x)\n",
    "\tj <- (ax < 20)\n",
    "\tzest[!j] <- ax[!j] - 2/ax[!j]\n",
    "\tif(sum(j) > 0) {\n",
    "  \t  zest[j] <- vecbinsolv(zf = rep(0, sum(j)), fun = cauchy.medzero,\n",
    "                                tlo = 0, thi = max(ax[j]), z = ax[j],\n",
    "                                w = w[j])\n",
    "\t}\n",
    "\tzest[zest < 1e-007] <- 0\n",
    "\tzest <- sign(x) * zest\n",
    "\treturn(zest)\n",
    "```"
   ]
  },
  {
   "cell_type": "markdown",
   "id": "33a6c8bf-a478-476a-90dc-7c07e7416ee3",
   "metadata": {},
   "source": [
    "결과"
   ]
  },
  {
   "cell_type": "markdown",
   "id": "6ee8c78a-efa9-4ed7-8039-b5c69abd85ae",
   "metadata": {},
   "source": [
    "- Python"
   ]
  },
  {
   "cell_type": "code",
   "execution_count": 28,
   "id": "09ce651c-8952-423e-80cc-18723c533745",
   "metadata": {},
   "outputs": [
    {
     "data": {
      "text/plain": [
       "array([ 9.80064279, 14.86686095, 19.9       , 24.92      ])"
      ]
     },
     "execution_count": 28,
     "metadata": {},
     "output_type": "execute_result"
    }
   ],
   "source": [
    "ebayesthresh.postmed_cauchy(x=np.array([10, 15, 20, 25]), w=0.5)"
   ]
  },
  {
   "cell_type": "markdown",
   "id": "177e4fe4-1d2c-4e61-9bc5-495ddbcd0c71",
   "metadata": {},
   "source": [
    "- R"
   ]
  },
  {
   "cell_type": "markdown",
   "id": "f31214a3-9a81-424c-83ea-f0f99fa7d176",
   "metadata": {},
   "source": [
    "```R\n",
    "> postmed.cauchy(x=c(10, 15, 20, 25),w=0.5)\n",
    "[1]  9.800643 14.866861 19.900000 24.920000\n",
    "```"
   ]
  },
  {
   "cell_type": "markdown",
   "id": "bb562e8a-0e9f-4e9f-b528-c95c16f37799",
   "metadata": {},
   "source": [
    "# postmed_laplace"
   ]
  },
  {
   "cell_type": "code",
   "execution_count": 110,
   "id": "f485fb8a-31fb-4bb4-882c-2becec986d39",
   "metadata": {},
   "outputs": [],
   "source": [
    "x = np.array([1.5, 2.5, 3.5])\n",
    "s = 1\n",
    "w = 0.5\n",
    "a = 0.5"
   ]
  },
  {
   "cell_type": "code",
   "execution_count": 111,
   "id": "752bbe0f-99e2-484c-a983-09da2213bcc9",
   "metadata": {},
   "outputs": [
    {
     "data": {
      "text/plain": [
       "0.5"
      ]
     },
     "execution_count": 111,
     "metadata": {},
     "output_type": "execute_result"
    }
   ],
   "source": [
    "a = min(a, 20)\n",
    "a"
   ]
  },
  {
   "cell_type": "code",
   "execution_count": 112,
   "id": "9079596f-82df-4cd6-b9a7-c314fdfd3d08",
   "metadata": {},
   "outputs": [
    {
     "data": {
      "text/plain": [
       "array([1., 1., 1.])"
      ]
     },
     "execution_count": 112,
     "metadata": {},
     "output_type": "execute_result"
    }
   ],
   "source": [
    "sx = np.sign(x)\n",
    "sx"
   ]
  },
  {
   "cell_type": "code",
   "execution_count": 113,
   "id": "d8b8c65d-39d5-48d4-9486-401188dce551",
   "metadata": {},
   "outputs": [
    {
     "data": {
      "text/plain": [
       "array([1.5, 2.5, 3.5])"
      ]
     },
     "execution_count": 113,
     "metadata": {},
     "output_type": "execute_result"
    }
   ],
   "source": [
    "x = np.abs(x)\n",
    "x"
   ]
  },
  {
   "cell_type": "code",
   "execution_count": 114,
   "id": "2b460c56-9d4b-411f-8167-f13075b6153e",
   "metadata": {},
   "outputs": [
    {
     "data": {
      "text/plain": [
       "array([1., 2., 3.])"
      ]
     },
     "execution_count": 114,
     "metadata": {},
     "output_type": "execute_result"
    }
   ],
   "source": [
    "xma = x / s - s * a\n",
    "xma"
   ]
  },
  {
   "cell_type": "code",
   "execution_count": 115,
   "id": "d76cdd6f-6d87-4ea6-9394-2ab1c8626e2b",
   "metadata": {},
   "outputs": [
    {
     "data": {
      "text/plain": [
       "array([0.95559333, 0.60482943, 0.50871315])"
      ]
     },
     "execution_count": 115,
     "metadata": {},
     "output_type": "execute_result"
    }
   ],
   "source": [
    "zz = 1 / a * (1 / s * norm.pdf(xma)) * (1 / w + ebayesthresh.beta_laplace(x, s, a))\n",
    "zz"
   ]
  },
  {
   "cell_type": "code",
   "execution_count": 116,
   "id": "26b4f2f6-0311-4a7b-b03e-56c650996404",
   "metadata": {},
   "outputs": [
    {
     "data": {
      "text/plain": [
       "array([0.95559333, 0.60482943, 0.50871315])"
      ]
     },
     "execution_count": 116,
     "metadata": {},
     "output_type": "execute_result"
    }
   ],
   "source": [
    "zz[xma > 25] = 0.5\n",
    "zz"
   ]
  },
  {
   "cell_type": "code",
   "execution_count": 117,
   "id": "c1edf1f3-c47e-44fb-818f-3033232ca524",
   "metadata": {},
   "outputs": [
    {
     "data": {
      "text/plain": [
       "array([1.70169084, 0.26586765, 0.02184237])"
      ]
     },
     "execution_count": 117,
     "metadata": {},
     "output_type": "execute_result"
    }
   ],
   "source": [
    "mucor = norm.ppf(np.minimum(zz, 1))\n",
    "mucor"
   ]
  },
  {
   "cell_type": "code",
   "execution_count": 118,
   "id": "9a3bf836-03b1-440b-b5d8-7fcaade58174",
   "metadata": {},
   "outputs": [
    {
     "data": {
      "text/plain": [
       "array([0.        , 1.73413235, 2.97815763])"
      ]
     },
     "execution_count": 118,
     "metadata": {},
     "output_type": "execute_result"
    }
   ],
   "source": [
    "muhat = sx * np.maximum(0, xma - mucor) * s\n",
    "muhat"
   ]
  },
  {
   "cell_type": "markdown",
   "id": "34fabebc-3d11-458c-a4af-b94b72ce5ddd",
   "metadata": {},
   "source": [
    "R코드"
   ]
  },
  {
   "cell_type": "markdown",
   "id": "043afe42-1fe4-463f-8586-e07921996911",
   "metadata": {},
   "source": [
    "```R\n",
    "postmed.laplace <- function(x, s = 1, w = 0.5, a = 0.5) {\n",
    "#\n",
    "#  Find the posterior median for the Laplace prior for \n",
    "#   given x (observations), s (sd), w and a.\n",
    "#\n",
    "    \n",
    "  # Only allow a < 20 for input value\n",
    "  a <- min(a, 20)\n",
    "  \n",
    "  # Work with the absolute value of x, and for x > 25 use the approximation\n",
    "  #  to dnorm(x-a)*beta.laplace(x, a)\n",
    "\tsx <- sign(x)\n",
    "\tx <- abs(x)\n",
    "\txma <- x/s - s*a\n",
    "\tzz <- 1/a * (1/s*dnorm(xma)) * (1/w + beta.laplace(x, s, a))\n",
    "\tzz[xma > 25] <- 1/2\n",
    "\tmucor <- qnorm(pmin(zz, 1))\n",
    "\tmuhat <- sx * pmax(0, xma - mucor) * s\n",
    "\treturn(muhat)\n",
    "}\n",
    "```"
   ]
  },
  {
   "cell_type": "markdown",
   "id": "b28b5a5b-41e7-4356-8578-4ce0ba48ee30",
   "metadata": {},
   "source": [
    "결과"
   ]
  },
  {
   "cell_type": "markdown",
   "id": "c8106d64-2eb6-45a2-8f82-2c89ed9ae9d7",
   "metadata": {},
   "source": [
    "- Python"
   ]
  },
  {
   "cell_type": "code",
   "execution_count": 119,
   "id": "cc0cb736-3192-4693-a946-6004a28f7b9f",
   "metadata": {},
   "outputs": [
    {
     "data": {
      "text/plain": [
       "array([0.        , 1.73413235, 2.97815763])"
      ]
     },
     "execution_count": 119,
     "metadata": {},
     "output_type": "execute_result"
    }
   ],
   "source": [
    "ebayesthresh.postmed_laplace(x = np.array([1.5, 2.5, 3.5]))"
   ]
  },
  {
   "cell_type": "markdown",
   "id": "a298bec6-d6a7-475c-848d-0ca5ea6dcd28",
   "metadata": {},
   "source": [
    "- R"
   ]
  },
  {
   "cell_type": "markdown",
   "id": "7f22203e-a651-43bb-a76a-e5ac929e9581",
   "metadata": {},
   "source": [
    "```R\n",
    "> postmed.laplace(x=c(1.5, 2.5, 3.5), s = 1, w = 0.5, a = 0.5)\n",
    "[1] 0.000000 1.734132 2.978158\n",
    "```"
   ]
  },
  {
   "cell_type": "markdown",
   "id": "519a96f2-8740-4ac4-8e56-a83c6d6d892f",
   "metadata": {},
   "source": [
    "# threshld"
   ]
  },
  {
   "cell_type": "markdown",
   "id": "8058332a-57f6-4b3e-8eac-3ff3c21bd37f",
   "metadata": {},
   "source": [
    "> 임계값 t를 이용해서 데이터 조정"
   ]
  },
  {
   "cell_type": "code",
   "execution_count": 120,
   "id": "216a09d4-da51-471d-be9b-f073944c71d2",
   "metadata": {},
   "outputs": [],
   "source": [
    "x = np.array(range(-5,5))\n",
    "t=1.4\n",
    "hard=False"
   ]
  },
  {
   "cell_type": "code",
   "execution_count": 121,
   "id": "1898d591-06c0-4723-afda-a01f081ee379",
   "metadata": {},
   "outputs": [],
   "source": [
    "if hard:\n",
    "    z = x * (np.abs(x) >= t)\n",
    "else:\n",
    "    z = np.sign(x) * np.maximum(0, np.abs(x) - t)"
   ]
  },
  {
   "cell_type": "code",
   "execution_count": 122,
   "id": "043604e6-2845-48fa-9630-c101da258b50",
   "metadata": {},
   "outputs": [
    {
     "data": {
      "text/plain": [
       "array([-3.6, -2.6, -1.6, -0.6, -0. ,  0. ,  0. ,  0.6,  1.6,  2.6])"
      ]
     },
     "execution_count": 122,
     "metadata": {},
     "output_type": "execute_result"
    }
   ],
   "source": [
    "z"
   ]
  },
  {
   "cell_type": "markdown",
   "id": "79ba84a2-4fa6-4e29-8945-df3f88005bbf",
   "metadata": {},
   "source": [
    "R코드"
   ]
  },
  {
   "cell_type": "markdown",
   "id": "222e4594-9d11-4ddd-9f83-71eefb1307ac",
   "metadata": {},
   "source": [
    "```R\n",
    "threshld <- function(x, t, hard = TRUE) {\n",
    "#\n",
    "#  threshold the data x using threshold t\n",
    "#  if hard=TRUE use hard thresholding\n",
    "#  if hard=FALSE use soft thresholding\n",
    "\tif(hard) z <- x * (abs(x) >= t) else {\n",
    "\t\tz <- sign(x) * pmax(0, abs(x) - t)\n",
    "\t}\n",
    "\treturn(z)\n",
    "}\n",
    "```"
   ]
  },
  {
   "cell_type": "markdown",
   "id": "984931d1-45bd-4f8a-ba4b-cd7758d7bdcb",
   "metadata": {},
   "source": [
    "결과"
   ]
  },
  {
   "cell_type": "markdown",
   "id": "46ceea88-5437-4fb5-9a3d-785fd37d84aa",
   "metadata": {},
   "source": [
    "- Python"
   ]
  },
  {
   "cell_type": "code",
   "execution_count": 123,
   "id": "0207eaa7-ba48-48ac-abef-b0bf0ddccd0c",
   "metadata": {},
   "outputs": [
    {
     "data": {
      "text/plain": [
       "array([-3.6, -2.6, -1.6, -0.6, -0. ,  0. ,  0. ,  0.6,  1.6,  2.6])"
      ]
     },
     "execution_count": 123,
     "metadata": {},
     "output_type": "execute_result"
    }
   ],
   "source": [
    "ebayesthresh.threshld(np.array(range(-5,5)), t=1.4, hard=False)"
   ]
  },
  {
   "cell_type": "markdown",
   "id": "4f9f0d57-1dda-4e56-aec1-36014a69bdc7",
   "metadata": {},
   "source": [
    "- R"
   ]
  },
  {
   "cell_type": "markdown",
   "id": "c3cd8a0a-f53e-41e0-a6d3-7183919162a8",
   "metadata": {},
   "source": [
    "```R\n",
    "> threshld(as.array(seq(-5, 5)), t=1.4, hard=FALSE)\n",
    " [1] -3.6 -2.6 -1.6 -0.6  0.0  0.0  0.0  0.6  1.6  2.6  3.6\n",
    " ```"
   ]
  },
  {
   "cell_type": "markdown",
   "id": "0403076c-0415-4faf-8d19-03650461e01f",
   "metadata": {},
   "source": [
    "# wandafromx"
   ]
  },
  {
   "cell_type": "markdown",
   "id": "3cd8b9a8-fb6c-456b-b091-556b121e4440",
   "metadata": {},
   "source": [
    "> Given a vector of data and a single value or vector of sampling standard deviations, find the marginal maximum likelihood choice of both weight and scale factor under the Laplace prior"
   ]
  },
  {
   "cell_type": "code",
   "execution_count": 124,
   "id": "a4fa125f-fd39-40df-ba23-57465d12e44e",
   "metadata": {},
   "outputs": [],
   "source": [
    "x = np.array([-2,1,0,-4,8], dtype=float)\n",
    "s = 1\n",
    "universalthresh = True"
   ]
  },
  {
   "cell_type": "code",
   "execution_count": 125,
   "id": "7e3238e2-e904-4fc7-8839-b2adf0ad3f0a",
   "metadata": {},
   "outputs": [],
   "source": [
    "if universalthresh:\n",
    "    thi = np.sqrt(2 * np.log(len(x))) * s\n",
    "else:\n",
    "    thi = np.inf"
   ]
  },
  {
   "cell_type": "code",
   "execution_count": 126,
   "id": "c216dbab-0e8c-42d3-9863-b07b725b9c78",
   "metadata": {},
   "outputs": [
    {
     "data": {
      "text/plain": [
       "1.7941225779941015"
      ]
     },
     "execution_count": 126,
     "metadata": {},
     "output_type": "execute_result"
    }
   ],
   "source": [
    "thi"
   ]
  },
  {
   "cell_type": "code",
   "execution_count": 127,
   "id": "cce71525-16f8-4d55-b8a0-e66576b86a87",
   "metadata": {},
   "outputs": [],
   "source": [
    "if isinstance(s, int):\n",
    "    tlo = np.zeros(len(str(s)))\n",
    "else:\n",
    "    tlo = np.zeros(len(s))"
   ]
  },
  {
   "cell_type": "code",
   "execution_count": 128,
   "id": "707b65ee-17ad-4728-b4de-c890809831b7",
   "metadata": {},
   "outputs": [
    {
     "data": {
      "text/plain": [
       "array([0.])"
      ]
     },
     "execution_count": 128,
     "metadata": {},
     "output_type": "execute_result"
    }
   ],
   "source": [
    "tlo"
   ]
  },
  {
   "cell_type": "code",
   "execution_count": 129,
   "id": "aff5dc4d-18fc-4f8e-b8b5-48ff4345fa7e",
   "metadata": {},
   "outputs": [
    {
     "data": {
      "text/plain": [
       "array([0.  , 0.04])"
      ]
     },
     "execution_count": 129,
     "metadata": {},
     "output_type": "execute_result"
    }
   ],
   "source": [
    "lo = np.array([0, 0.04])\n",
    "lo"
   ]
  },
  {
   "cell_type": "code",
   "execution_count": 130,
   "id": "254942b8-ea01-4690-ba94-93059e7de381",
   "metadata": {},
   "outputs": [
    {
     "data": {
      "text/plain": [
       "array([1, 3])"
      ]
     },
     "execution_count": 130,
     "metadata": {},
     "output_type": "execute_result"
    }
   ],
   "source": [
    "hi = np.array([1, 3])\n",
    "hi"
   ]
  },
  {
   "cell_type": "code",
   "execution_count": 131,
   "id": "501f23f2-ded1-4f88-ba65-63f569e25e68",
   "metadata": {},
   "outputs": [
    {
     "data": {
      "text/plain": [
       "array([0.5, 0.5])"
      ]
     },
     "execution_count": 131,
     "metadata": {},
     "output_type": "execute_result"
    }
   ],
   "source": [
    "startpar = np.array([0.5, 0.5])\n",
    "startpar"
   ]
  },
  {
   "cell_type": "markdown",
   "id": "d0ac9dcf-930c-45f6-afec-99fab92e4665",
   "metadata": {},
   "source": [
    "---"
   ]
  },
  {
   "cell_type": "markdown",
   "id": "35d70972-fef5-4cce-a37d-cc80ebf1aafe",
   "metadata": {},
   "source": [
    "negloglik_laplace 결과도 같음"
   ]
  },
  {
   "cell_type": "code",
   "execution_count": 132,
   "id": "af94037e-8000-4297-9dc0-d363021fb9a4",
   "metadata": {},
   "outputs": [
    {
     "data": {
      "text/plain": [
       "-32.32783"
      ]
     },
     "execution_count": 132,
     "metadata": {},
     "output_type": "execute_result"
    }
   ],
   "source": [
    "ebayesthresh.negloglik_laplace(startpar, x, s, tlo, thi).round(5)"
   ]
  },
  {
   "cell_type": "markdown",
   "id": "3320ec10-1957-4129-a182-4dd11dfef955",
   "metadata": {},
   "source": [
    "- R"
   ]
  },
  {
   "cell_type": "markdown",
   "id": "b721f1a9-2c65-449d-af8b-ab5b21d95300",
   "metadata": {},
   "source": [
    "```R\n",
    "> negloglik.laplace(startpar,x,s,thi,tlo)\n",
    "[1] -32.32783\n",
    "```"
   ]
  },
  {
   "cell_type": "markdown",
   "id": "32c8a8bd-ee02-4c87-ba5f-e0885be6cc63",
   "metadata": {},
   "source": [
    "---"
   ]
  },
  {
   "cell_type": "code",
   "execution_count": 133,
   "id": "ca8d507d-6f28-40f9-a93d-012722318759",
   "metadata": {},
   "outputs": [],
   "source": [
    "if 'optim' in globals():\n",
    "    result = minimize(ebayesthresh.negloglik_laplace, startpar, method='L-BFGS-B', bounds=[(lo[0], hi[0]), (lo[1], hi[1])], args=(x, s, tlo, thi))\n",
    "    uu = result.x\n",
    "else:\n",
    "    result = minimize(ebayesthresh.negloglik_laplace, startpar, bounds=[(lo[0], hi[0]), (lo[1], hi[1])], args=(x, s, tlo, thi))\n",
    "    uu = result.x"
   ]
  },
  {
   "cell_type": "code",
   "execution_count": 134,
   "id": "14273393-f09e-4376-b529-bc7f6140946c",
   "metadata": {},
   "outputs": [
    {
     "data": {
      "text/plain": [
       "array([0.69481312, 0.30010834])"
      ]
     },
     "execution_count": 134,
     "metadata": {},
     "output_type": "execute_result"
    }
   ],
   "source": [
    "minimize(ebayesthresh.negloglik_laplace, startpar, method='L-BFGS-B',\n",
    "         bounds=[(lo[0], hi[0]), (lo[1], hi[1])], args=(x, s, tlo, thi)).x"
   ]
  },
  {
   "cell_type": "code",
   "execution_count": 135,
   "id": "376d5a67-1003-4a53-887d-1fe2928f163d",
   "metadata": {},
   "outputs": [
    {
     "data": {
      "text/plain": [
       "-33.07559"
      ]
     },
     "execution_count": 135,
     "metadata": {},
     "output_type": "execute_result"
    }
   ],
   "source": [
    "minimize(ebayesthresh.negloglik_laplace, startpar, method='L-BFGS-B',\n",
    "         bounds=[(lo[0], hi[0]), (lo[1], hi[1])], args=(x, s, thi, tlo)).fun.round(5)"
   ]
  },
  {
   "cell_type": "markdown",
   "id": "85d791d5-7389-43f7-aaf6-3ecefc13c11d",
   "metadata": {},
   "source": [
    "```R\n",
    "> optim(startpar, negloglik.laplace, method=\"L-BFGS-B\",\n",
    "+               lower = lo, upper = hi, xx = x, ss = s, thi = thi,\n",
    "+               tlo = tlo)$par\n",
    "[1] 0.6948121 0.3001091\n",
    "> optim(startpar, negloglik.laplace, method=\"L-BFGS-B\",\n",
    "+               lower = lo, upper = hi, xx = x, ss = s, thi = thi,\n",
    "+               tlo = tlo)$value\n",
    "[1] -33.07559\n",
    "```"
   ]
  },
  {
   "cell_type": "code",
   "execution_count": 136,
   "id": "c2078b68-3a38-4110-ab7f-6ab8a1c73193",
   "metadata": {},
   "outputs": [
    {
     "data": {
      "text/plain": [
       "0.30010833999317726"
      ]
     },
     "execution_count": 136,
     "metadata": {},
     "output_type": "execute_result"
    }
   ],
   "source": [
    "a = uu[1]\n",
    "a"
   ]
  },
  {
   "cell_type": "code",
   "execution_count": 137,
   "id": "2920d7e7-9fb5-4109-b8a2-29d17772b3bc",
   "metadata": {},
   "outputs": [
    {
     "data": {
      "text/plain": [
       "0.49762405565749024"
      ]
     },
     "execution_count": 137,
     "metadata": {},
     "output_type": "execute_result"
    }
   ],
   "source": [
    "wlo = ebayesthresh.wfromt(thi, s, a=a)\n",
    "wlo"
   ]
  },
  {
   "cell_type": "code",
   "execution_count": 138,
   "id": "2abe8d5a-4f63-4e7c-b5d2-d404cfc782c6",
   "metadata": {},
   "outputs": [
    {
     "data": {
      "text/plain": [
       "array([1.])"
      ]
     },
     "execution_count": 138,
     "metadata": {},
     "output_type": "execute_result"
    }
   ],
   "source": [
    "whi = ebayesthresh.wfromt(tlo, s, a=a)\n",
    "whi"
   ]
  },
  {
   "cell_type": "code",
   "execution_count": 139,
   "id": "a6fa31cc-0444-4c2a-be58-3a62df0f7959",
   "metadata": {},
   "outputs": [
    {
     "data": {
      "text/plain": [
       "0.49762405565749024"
      ]
     },
     "execution_count": 139,
     "metadata": {},
     "output_type": "execute_result"
    }
   ],
   "source": [
    "wlo = np.max(wlo)\n",
    "wlo"
   ]
  },
  {
   "cell_type": "code",
   "execution_count": 140,
   "id": "33ba010f-71e3-413e-8e88-ba3f6a1a7f29",
   "metadata": {},
   "outputs": [
    {
     "data": {
      "text/plain": [
       "1.0"
      ]
     },
     "execution_count": 140,
     "metadata": {},
     "output_type": "execute_result"
    }
   ],
   "source": [
    "whi = np.min(whi)\n",
    "whi"
   ]
  },
  {
   "cell_type": "markdown",
   "id": "65484f05-b037-45f1-8d0f-56625a163af1",
   "metadata": {},
   "source": [
    "여기서 uu[0]값이 R과 다름"
   ]
  },
  {
   "cell_type": "code",
   "execution_count": 141,
   "id": "ec7940ed-4b74-4b02-a7f3-985969881764",
   "metadata": {},
   "outputs": [
    {
     "data": {
      "text/plain": [
       "0.8466814522110238"
      ]
     },
     "execution_count": 141,
     "metadata": {},
     "output_type": "execute_result"
    }
   ],
   "source": [
    "w = uu[0] * (whi - wlo) + wlo\n",
    "w"
   ]
  },
  {
   "cell_type": "markdown",
   "id": "def6b043-4edc-4795-abbc-17f35da3a7f9",
   "metadata": {},
   "source": [
    "R코드"
   ]
  },
  {
   "cell_type": "markdown",
   "id": "ac5ca6e1-babb-427a-89a5-cc475b2fc30b",
   "metadata": {},
   "source": [
    "```R\n",
    "wandafromx <- function(x, s = 1, universalthresh = TRUE) {\n",
    "#\n",
    "#  Find the marginal max lik estimators of w and a given standard\n",
    "#   deviation s, using a bivariate optimization;\n",
    "#    \n",
    "#  If universalthresh=TRUE, the thresholds will be upper bounded by\n",
    "#   universal threshold adjusted by standard deviation. The threshold\n",
    "#   is constrained to lie between 0 and sqrt ( 2 log (n)) *\n",
    "#   s. Otherwise, threshold can take any nonnegative value;\n",
    "#\n",
    "#  If running R, the routine optim is used; in S-PLUS the routine is\n",
    "#   nlminb.\n",
    "#\n",
    "    \n",
    "  # Range for thresholds\n",
    "  if(universalthresh) {\n",
    "    thi <- sqrt(2 * log(length(x))) * s\n",
    "  } else{\n",
    "    thi <- Inf\n",
    "  }\n",
    "  \n",
    "\ttlo <- rep(0, length(s))\n",
    "\tlo  <-  c(0,0.04)\n",
    "\thi  <-  c(1,3)\n",
    "\tstartpar  <-  c(0.5,0.5)\n",
    "\tif (exists(\"optim\")) {\n",
    "  \t  uu <- optim(startpar, negloglik.laplace, method=\"L-BFGS-B\",\n",
    "                      lower = lo, upper = hi, xx = x, ss = s, thi = thi,\n",
    "                      tlo = tlo)\n",
    "          uu <- uu$par\n",
    "\t}\n",
    "\telse {\n",
    "          uu <- nlminb(startpar, negloglik.laplace, lower = lo,\n",
    "                       upper = hi, xx = x, ss = s, thi = thi, tlo = tlo)\n",
    "          uu <- uu$parameters\n",
    "        }\n",
    "\t\n",
    "\ta <- uu[2]\n",
    "\twlo <- wfromt(thi, s, a = a)\n",
    "\twhi <- wfromt(tlo, s, a = a)\n",
    "\twlo <- max(wlo)\n",
    "\twhi <- min(whi)\n",
    "\tw <- uu[1]*(whi - wlo) + wlo\n",
    "\treturn(list(w=w, a=a))\n",
    "}\n",
    "```"
   ]
  },
  {
   "cell_type": "markdown",
   "id": "c2b0e315-7d3d-4781-92bd-a542e7fcc1fd",
   "metadata": {},
   "source": [
    "결과"
   ]
  },
  {
   "cell_type": "markdown",
   "id": "67f4c1db-5a06-4878-8dd1-e3fedc301609",
   "metadata": {},
   "source": [
    "- Pythom"
   ]
  },
  {
   "cell_type": "code",
   "execution_count": 142,
   "id": "a7131cbd-1729-4ec7-a77d-6906a49c29f2",
   "metadata": {},
   "outputs": [
    {
     "data": {
      "text/plain": [
       "{'w': 1.0, 'a': 0.41641372425894785}"
      ]
     },
     "execution_count": 142,
     "metadata": {},
     "output_type": "execute_result"
    }
   ],
   "source": [
    "ebayesthresh.wandafromx(np.array([-2,1,0,-4,8,50], dtype=float))"
   ]
  },
  {
   "cell_type": "code",
   "execution_count": 143,
   "id": "71589270-c5b6-4144-83e1-6b7108cdfc36",
   "metadata": {},
   "outputs": [
    {
     "data": {
      "text/plain": [
       "{'w': 0.8466814522110238, 'a': 0.30010833999317726}"
      ]
     },
     "execution_count": 143,
     "metadata": {},
     "output_type": "execute_result"
    }
   ],
   "source": [
    "ebayesthresh.wandafromx(np.array([-2,1,0,-4,8], dtype=float))"
   ]
  },
  {
   "cell_type": "markdown",
   "id": "342ebe32-34bd-4954-ae22-cbe6f98b2ac9",
   "metadata": {},
   "source": [
    "- R"
   ]
  },
  {
   "cell_type": "markdown",
   "id": "5d259494-abc4-4576-ba86-fa7fcbceea1f",
   "metadata": {},
   "source": [
    "```R\n",
    "> wandafromx(c(-2,1,0,-4,8,50))\n",
    "$w\n",
    "[1] 1\n",
    "\n",
    "$a\n",
    "[1] 0.4163946\n",
    "> wandafromx(c(-2,1,0,-4,8))\n",
    "$w\n",
    "[1] 0.8466808\n",
    "\n",
    "$a\n",
    "[1] 0.3001091\n",
    "\n",
    "```"
   ]
  },
  {
   "cell_type": "markdown",
   "id": "c69a5880-a821-43ce-a951-cc656f135547",
   "metadata": {},
   "source": [
    "# Mad(Median Absolute Deviation)"
   ]
  },
  {
   "cell_type": "markdown",
   "id": "409a95c8-7a6c-4ba5-bd4b-efd388d11c41",
   "metadata": {},
   "source": [
    "> 중앙값 절대 편차, 분산이나 퍼진 정도 확인 가능"
   ]
  },
  {
   "cell_type": "markdown",
   "id": "24288806-0cdc-4a57-bf10-44e2c494ad71",
   "metadata": {},
   "source": [
    "결과"
   ]
  },
  {
   "cell_type": "markdown",
   "id": "0870d0bf-9451-4579-ab1a-17bc640ae1f7",
   "metadata": {},
   "source": [
    "- Python"
   ]
  },
  {
   "cell_type": "code",
   "execution_count": 144,
   "id": "96c83ff1-b6fa-412a-abea-7dd9726c7431",
   "metadata": {},
   "outputs": [
    {
     "data": {
      "text/plain": [
       "2.9652"
      ]
     },
     "execution_count": 144,
     "metadata": {},
     "output_type": "execute_result"
    }
   ],
   "source": [
    "ebayesthresh.mad(np.array([1, 2, 3, 3, 4, 4, 4, 5, 5.5, 6, 6, 6.5, 7, 7, 7.5, 8, 9, 12, 52, 90]))"
   ]
  },
  {
   "cell_type": "markdown",
   "id": "a56cd18f-a662-4208-9bdb-3fab5d962625",
   "metadata": {},
   "source": [
    "- R"
   ]
  },
  {
   "cell_type": "markdown",
   "id": "242d0a36-9afe-4158-a79b-6a7a4c90d3ca",
   "metadata": {},
   "source": [
    "```R\n",
    "> mad(c(1, 2, 3, 3, 4, 4, 4, 5, 5.5, 6, 6, 6.5, 7, 7, 7.5, 8, 9, 12, 52, 90))\n",
    "[1] 2.9652\n",
    "```"
   ]
  },
  {
   "cell_type": "markdown",
   "id": "b200d13b-eea1-4ba0-be51-ce0b0b0ac3f8",
   "metadata": {},
   "source": [
    "# wfromt"
   ]
  },
  {
   "cell_type": "markdown",
   "id": "7a08dabf-81b1-4f6e-bf17-9b01e9ef22c5",
   "metadata": {},
   "source": [
    "Description"
   ]
  },
  {
   "cell_type": "markdown",
   "id": "fa52ee17-339b-4b86-893a-1e2aa5c0c6fe",
   "metadata": {},
   "source": [
    "> Given a value or vector of thresholds and sampling standard deviations (sd equals 1 for Cauchy prior), find the mixing weight for which this is(these are) the threshold(s) of the posterior median estimator. If a vector of threshold values is provided, the vector of corresponding weights is returned."
   ]
  },
  {
   "cell_type": "markdown",
   "id": "bcca8520-e048-41c6-8aee-959e13c47d6e",
   "metadata": {},
   "source": [
    "*주어진 임계값과 표준편차에 대해, posterior median estimator에서 이 임계값이 나오도록 하는 혼합 가중치를 계산하는 함수가 제공된다.*"
   ]
  },
  {
   "cell_type": "code",
   "execution_count": 145,
   "id": "75b9fdf5-3249-4c43-8b3f-7af41d8a1736",
   "metadata": {},
   "outputs": [],
   "source": [
    "# tt = np.array([2,3,5])\n",
    "tt = 2.14\n",
    "s = 1\n",
    "prior = 'laplace\"'\n",
    "a = 0.5"
   ]
  },
  {
   "cell_type": "code",
   "execution_count": 146,
   "id": "6376718e-39ce-463a-8286-e9e8466e5226",
   "metadata": {},
   "outputs": [
    {
     "data": {
      "text/plain": [
       "'l'"
      ]
     },
     "execution_count": 146,
     "metadata": {},
     "output_type": "execute_result"
    }
   ],
   "source": [
    "pr = prior[0:1]\n",
    "pr"
   ]
  },
  {
   "cell_type": "code",
   "execution_count": 147,
   "id": "afaebfd5-dd49-4603-97a2-bd29f901c644",
   "metadata": {},
   "outputs": [],
   "source": [
    "if pr == \"l\":\n",
    "    tma = tt / s - s * a\n",
    "    wi = 1 / np.abs(tma)\n",
    "    if isinstance(wi, (int, float, str, bool)) and tma > -35:\n",
    "        wi = norm.cdf(tma) / norm.pdf(tma)\n",
    "    elif isinstance(wi, (int, float, str, bool)) and tma < -35:\n",
    "        wi = wi\n",
    "    else:\n",
    "        wi[tma > -35] = norm.cdf(tma[tma > -35])/norm.pdf(tma[tma > -35])\n",
    "    wi = a * s * wi - ebayesthresh.beta_laplace(tt, s, a)"
   ]
  },
  {
   "cell_type": "code",
   "execution_count": 148,
   "id": "46cedaf0-91e5-4d06-babd-4fbfeadb353e",
   "metadata": {},
   "outputs": [
    {
     "data": {
      "text/plain": [
       "1.6400000000000001"
      ]
     },
     "execution_count": 148,
     "metadata": {},
     "output_type": "execute_result"
    }
   ],
   "source": [
    "tma"
   ]
  },
  {
   "cell_type": "code",
   "execution_count": 149,
   "id": "1d5ee94f-4204-4dfc-8f3f-de0decabac4b",
   "metadata": {},
   "outputs": [
    {
     "data": {
      "text/plain": [
       "3.1985740994349467"
      ]
     },
     "execution_count": 149,
     "metadata": {},
     "output_type": "execute_result"
    }
   ],
   "source": [
    "wi"
   ]
  },
  {
   "cell_type": "code",
   "execution_count": 150,
   "id": "cc119800-e195-4560-a3ee-8d6e6c944441",
   "metadata": {},
   "outputs": [],
   "source": [
    "if pr == \"c\":\n",
    "    dnz = norm.pdf(tt)\n",
    "    wi = 1 + (norm.cdf(tt) - tt * dnz - 1/2) / (np.sqrt(np.pi/2) * dnz * tt**2)\n",
    "    if isinstance(wi, np.ndarray):\n",
    "        for i in range(len(wi)):\n",
    "            if not np.isfinite(wi[i]):\n",
    "                wi[i] = 1\n",
    "    else:\n",
    "        if not np.isfinite(wi):\n",
    "            wi = 1"
   ]
  },
  {
   "cell_type": "code",
   "execution_count": 151,
   "id": "a6d9bc89-e3a6-4a0e-9dbb-df6eaa23fce1",
   "metadata": {},
   "outputs": [
    {
     "data": {
      "text/plain": [
       "0.31263931017782515"
      ]
     },
     "execution_count": 151,
     "metadata": {},
     "output_type": "execute_result"
    }
   ],
   "source": [
    "1 / wi"
   ]
  },
  {
   "cell_type": "markdown",
   "id": "621b8fc6-fe61-4d6b-924d-6e355e443208",
   "metadata": {},
   "source": [
    "- R코드"
   ]
  },
  {
   "cell_type": "markdown",
   "id": "622cf085-ecf6-48f1-a192-504a5fb3181d",
   "metadata": {},
   "source": [
    "```R\n",
    "wfromt <- function(tt, s = 1, prior = \"laplace\", a = 0.5) {\n",
    "  #\n",
    "  #  Find the weight that has posterior median threshold tt, \n",
    "  #   given s (sd) and a.\n",
    "  #\n",
    "pr <- substring(prior, 1, 1)\n",
    "if(pr == \"l\"){\n",
    "  tma <- tt/s - s*a\n",
    "  wi <- 1/abs(tma)\n",
    "  wi[tma > -35] <- pnorm(tma[tma > -35])/dnorm(tma[tma > -35])\n",
    "  wi <- a * s * wi - beta.laplace(tt, s, a)\n",
    "}\n",
    "if(pr == \"c\") {\n",
    "  dnz <- dnorm(tt)\n",
    "  wi <- 1 + (pnorm(tt) - tt * dnz - 1/2)/\n",
    "    (sqrt(pi/2) * dnz * tt^2)\n",
    "  wi[!is.finite(wi)] <- 1\n",
    "}\n",
    "1/wi\n",
    "}\n",
    "```"
   ]
  },
  {
   "cell_type": "markdown",
   "id": "aaa9711a-0b5d-4dca-9c9c-627dcd3a5170",
   "metadata": {},
   "source": [
    "결과"
   ]
  },
  {
   "cell_type": "markdown",
   "id": "5c46395f-4458-4610-a4b5-49f716638e12",
   "metadata": {},
   "source": [
    "- Python"
   ]
  },
  {
   "cell_type": "code",
   "execution_count": 152,
   "id": "73b44642-ca91-4f3a-a22b-1e8e52944e63",
   "metadata": {},
   "outputs": [
    {
     "data": {
      "text/plain": [
       "array([4.22963403e-01, 9.33799336e-02, 9.31590884e-05])"
      ]
     },
     "execution_count": 152,
     "metadata": {},
     "output_type": "execute_result"
    }
   ],
   "source": [
    "ebayesthresh.wfromt(np.array([2,3,5]),prior='cachy')"
   ]
  },
  {
   "cell_type": "code",
   "execution_count": 153,
   "id": "fb88ee73-ae38-4d45-8644-261900e07228",
   "metadata": {},
   "outputs": [
    {
     "data": {
      "text/plain": [
       "0.4229634032635055"
      ]
     },
     "execution_count": 153,
     "metadata": {},
     "output_type": "execute_result"
    }
   ],
   "source": [
    "ebayesthresh.wfromt(2,prior='cachy')"
   ]
  },
  {
   "cell_type": "code",
   "execution_count": 154,
   "id": "7eb4748a-a1f0-4865-afeb-020e91bcfa4c",
   "metadata": {},
   "outputs": [
    {
     "data": {
      "text/plain": [
       "0.3686337675493349"
      ]
     },
     "execution_count": 154,
     "metadata": {},
     "output_type": "execute_result"
    }
   ],
   "source": [
    "ebayesthresh.wfromt(2,prior='laplace')"
   ]
  },
  {
   "cell_type": "markdown",
   "id": "cd807064-9885-44a3-ab1e-050039bd0f30",
   "metadata": {},
   "source": [
    "- R"
   ]
  },
  {
   "cell_type": "markdown",
   "id": "d6c4d587-607e-4d05-a9b4-8bb78930b0e1",
   "metadata": {},
   "source": [
    "```R\n",
    "> wfromt(c(2,3,5),prior='cachy')\n",
    "[1] 4.229634e-01 9.337993e-02 9.315909e-05\n",
    "> wfromt(2,prior='cachy')\n",
    "[1] 0.4229634\n",
    "> wfromt(2,prior='laplace')\n",
    "[1] 0.3686338\n",
    "```"
   ]
  },
  {
   "cell_type": "markdown",
   "id": "af50c953-86f5-404a-9da9-391602fe988a",
   "metadata": {},
   "source": [
    "# wfromx"
   ]
  },
  {
   "cell_type": "markdown",
   "id": "084e5ec0-40a9-4f63-a3d1-08da93e120d5",
   "metadata": {},
   "source": [
    "Description"
   ]
  },
  {
   "cell_type": "markdown",
   "id": "c96c021e-d361-4967-b5db-7697c7141868",
   "metadata": {},
   "source": [
    "> The weight is found by marginal maximum likelihood. The search is over weights corresponding to threshold $t_i$ in the range $[0, s_i \\sqrt{2 log n}]$ if universalthresh=TRUE, where n is the length of the data vector and $(s_1, ..., s_n$) ($s_i$ is $1$ for Cauchy prior) is the vector of sampling standard deviation of data ($x_1, ..., x_n$); otherwise, the search is over $[0, 1]$. The search is by binary search for a solution to the equation $S(w) = 0$, where $S$ is the derivative of the log likelihood. The binary search is on a logarithmic scale in $w$. If the Laplace prior is used, the scale parameter is fixed at the value given for $a$, and defaults to $0.5$ if no value is provided. To estimate a as well as $w$ by marginal maximum likelihood, use the routine wandafromx."
   ]
  },
  {
   "cell_type": "markdown",
   "id": "6a5ff3ad-8804-4214-aede-2dfa7ae3a4f0",
   "metadata": {},
   "source": [
    "> Suppose the vector $(x_1, \\cdots, x_n)$ is such that $x_i$ is drawn independently from a normal distribution with mean $\\theta_i$ and standard deviation $s_i$ ($s_i$ equals $1$ for Cauchy prior). The prior distribution of the $\\theta_i$ is a mixture with probability $1 − w$ of zero and probability $w$ of a given symmetric heavy-tailed distribution. This routine finds the marginal maximum likelihood estimate of the parameter $w$."
   ]
  },
  {
   "cell_type": "markdown",
   "id": "a5d8a2a2-14bb-4099-86c7-f0bb1799afda",
   "metadata": {},
   "source": [
    "*주어진 정규 분포 데이터에 대해 $\\theta_𝑖$의 사전 분포가 주어진 상황에서, 모수 $w$의 최대우도 추정치를 계산하는 방법을 제공한다*"
   ]
  },
  {
   "cell_type": "code",
   "execution_count": 155,
   "id": "d910390e-7884-4f2d-824d-64a7ab927ae6",
   "metadata": {},
   "outputs": [],
   "source": [
    "s = np.concatenate((np.repeat(0, 90), np.repeat(5, 10)))\n",
    "x = np.random.normal(0, s, size=100)\n",
    "prior = \"cauchy\"\n",
    "a = 0.5\n",
    "universalthresh = True"
   ]
  },
  {
   "cell_type": "code",
   "execution_count": 156,
   "id": "e819cb92-4080-4fd4-813e-bc3304909bdf",
   "metadata": {},
   "outputs": [
    {
     "data": {
      "text/plain": [
       "'c'"
      ]
     },
     "execution_count": 156,
     "metadata": {},
     "output_type": "execute_result"
    }
   ],
   "source": [
    "pr = prior[0:1]\n",
    "pr"
   ]
  },
  {
   "cell_type": "code",
   "execution_count": 157,
   "id": "ff558a6d-ecb5-4760-af49-56c3d14f8b02",
   "metadata": {},
   "outputs": [],
   "source": [
    "if pr == \"c\":\n",
    "    s = 1"
   ]
  },
  {
   "cell_type": "code",
   "execution_count": 158,
   "id": "8b919edc-925a-45d4-af7e-8eb57c5dc8b8",
   "metadata": {},
   "outputs": [],
   "source": [
    "if universalthresh:\n",
    "    tuniv = np.sqrt(2 * np.log(len(x))) * s\n",
    "    wlo = ebayesthresh.wfromt(tuniv, s, prior, a)\n",
    "    wlo = np.max(wlo)\n",
    "else:\n",
    "    wlo = 0"
   ]
  },
  {
   "cell_type": "code",
   "execution_count": 159,
   "id": "1ed46a55-1872-407f-8947-a1ab3ac89aae",
   "metadata": {},
   "outputs": [],
   "source": [
    "if pr == \"l\":\n",
    "    beta = ebayesthresh.beta_laplace(x, s, a)\n",
    "elif pr == \"c\":\n",
    "    beta = ebayesthresh.beta_cauchy(x)"
   ]
  },
  {
   "cell_type": "code",
   "execution_count": 160,
   "id": "40b14a37-93b6-4ea9-8305-c74a09f5eff0",
   "metadata": {},
   "outputs": [],
   "source": [
    "whi = 1\n",
    "beta = np.minimum(beta, 1e20)\n",
    "\n",
    "shi = np.sum(beta / (1 + beta))"
   ]
  },
  {
   "cell_type": "code",
   "execution_count": 161,
   "id": "bd425b93-84eb-4b74-843c-80b07ea8a3ec",
   "metadata": {},
   "outputs": [],
   "source": [
    "if shi >= 0:\n",
    "    shi =  1"
   ]
  },
  {
   "cell_type": "code",
   "execution_count": 162,
   "id": "2bda427d-b7f4-4f17-95ca-e2b8c0b421c5",
   "metadata": {},
   "outputs": [],
   "source": [
    "slo = np.sum(beta / (1 + wlo * beta))"
   ]
  },
  {
   "cell_type": "code",
   "execution_count": 163,
   "id": "bcd6c356-619f-48fb-a0c6-2e9db261aadd",
   "metadata": {},
   "outputs": [],
   "source": [
    "if slo <= 0:\n",
    "    slo = wlo"
   ]
  },
  {
   "cell_type": "code",
   "execution_count": 164,
   "id": "e9b8bf5f-152e-428f-9d38-e5be0cc34ba1",
   "metadata": {},
   "outputs": [],
   "source": [
    "for _ in range(1,31):\n",
    "    wmid = np.sqrt(wlo * whi)\n",
    "    smid = np.sum(beta / (1 + wmid * beta))\n",
    "    if smid == 0:\n",
    "        smid = wmid\n",
    "    if smid > 0:\n",
    "        wlo = wmid\n",
    "    else:\n",
    "        whi = wmid"
   ]
  },
  {
   "cell_type": "code",
   "execution_count": 165,
   "id": "1a967f88-bb8d-441d-97d8-3fd021c36eb9",
   "metadata": {},
   "outputs": [
    {
     "data": {
      "text/plain": [
       "0.1397274377272373"
      ]
     },
     "execution_count": 165,
     "metadata": {},
     "output_type": "execute_result"
    }
   ],
   "source": [
    "np.sqrt(wlo * whi)"
   ]
  },
  {
   "cell_type": "markdown",
   "id": "159ee9bb-2367-4cc2-8091-0f0562eb43a3",
   "metadata": {},
   "source": [
    "- R코드"
   ]
  },
  {
   "cell_type": "markdown",
   "id": "17442d2c-55b3-445e-97c5-61b2b8ebd917",
   "metadata": {},
   "source": [
    "```R\n",
    "wfromx <- function (x, s = 1, prior = \"laplace\", a = 0.5,\n",
    "                    universalthresh = TRUE) {\n",
    "#    \n",
    "#  Given the vector of data x and s (sd),\n",
    "#   find the value of w that zeroes S(w) in the\n",
    "#   range by successive bisection, carrying out nits harmonic bisections\n",
    "#   of the original interval between wlo and 1.  \n",
    "#  \n",
    "\tpr <- substring(prior, 1, 1)\n",
    "\tif(pr == \"c\")\n",
    "          s = 1\n",
    "\tif(universalthresh) {\n",
    "    \t  tuniv <- sqrt(2 * log(length(x))) * s\n",
    "    \t  wlo <- wfromt(tuniv, s, prior, a)\n",
    "    \t  wlo <- max(wlo)\n",
    "\t} else \n",
    "          wlo = 0\n",
    "\tif(pr == \"l\")\n",
    "\t  beta <- beta.laplace(x, s, a)\n",
    "\tif(pr == \"c\")\n",
    "\t  beta <- beta.cauchy(x)\n",
    "\twhi  <- 1\n",
    "\tbeta <- pmin(beta, 1e20) \n",
    "\tshi  <- sum(beta/(1 + beta))\n",
    "\tif(shi >= 0)\n",
    "  \t  return(1)\n",
    "\tslo <- sum(beta/(1 + wlo * beta))\n",
    "\tif(slo <= 0)\n",
    "\t  return(wlo)\n",
    "\tfor(j in (1:30)) {\n",
    "\t  wmid <- sqrt(wlo * whi)\n",
    "\t  smid <- sum(beta/(1 + wmid * beta))\n",
    "\t  if(smid == 0)\n",
    "\t    return(wmid)\n",
    "\t  if(smid > 0)\n",
    "\t    wlo <- wmid\n",
    "  \t  else\n",
    "\t    whi <- wmid\n",
    "        }\n",
    "\treturn(sqrt(wlo * whi))\n",
    "}\n",
    "```"
   ]
  },
  {
   "cell_type": "markdown",
   "id": "9681dbf1-9429-4b9d-bdc3-bb984e7ac99c",
   "metadata": {},
   "source": [
    "결과"
   ]
  },
  {
   "cell_type": "markdown",
   "id": "5ac8f2ea-12f9-448f-a88f-9277a51989db",
   "metadata": {},
   "source": [
    "- Python"
   ]
  },
  {
   "cell_type": "code",
   "execution_count": 166,
   "id": "fc57fdd3-8daf-4885-8e93-6d2b0a9a2bda",
   "metadata": {},
   "outputs": [
    {
     "data": {
      "text/plain": [
       "0.08644292644513768"
      ]
     },
     "execution_count": 166,
     "metadata": {},
     "output_type": "execute_result"
    }
   ],
   "source": [
    "ebayesthresh.wfromx(x= np.random.normal(0, np.concatenate((np.repeat(0, 90), np.repeat(5, 10))), size=100), prior = \"cauchy\")"
   ]
  },
  {
   "cell_type": "markdown",
   "id": "e886347e-d060-4598-a709-32227fd00461",
   "metadata": {},
   "source": [
    "- R"
   ]
  },
  {
   "cell_type": "markdown",
   "id": "89d2b4d2-1ffe-4397-8d2c-7f514468df2e",
   "metadata": {},
   "source": [
    "```R\n",
    "> wfromx(x = rnorm(100, s = c(rep(0,90),rep(5,10))), prior = \"cauchy\")\n",
    "[1] 0.116067\n",
    "```"
   ]
  },
  {
   "cell_type": "markdown",
   "id": "b9795eca-91db-44fb-96dc-810193c9b638",
   "metadata": {},
   "source": [
    "# wmonfromx"
   ]
  },
  {
   "cell_type": "markdown",
   "id": "0d55fba6-9f82-4c69-b0bb-df663dfd6a2d",
   "metadata": {},
   "source": [
    "> Given a vector of data, find the marginal maximum likelihood choice of weight sequence subject to the constraints that the weights are monotone decreasing"
   ]
  },
  {
   "cell_type": "markdown",
   "id": "8d02e5c9-d4f8-4898-b4e0-440c09aaf8a7",
   "metadata": {},
   "source": [
    "*데이터에 대해 가중치 시퀀스를 선택하는 과정에서 조건이 주어지는데, 이 가중치 시퀀스는 각각의 가중치 값이 단조 감소해야 하며, 주어진 데이터에 대한 최대 우도를 갖도록 선택되어야 함.*"
   ]
  },
  {
   "cell_type": "code",
   "execution_count": 167,
   "id": "3aa2177c-5d49-41f7-8de1-03ad794876fb",
   "metadata": {},
   "outputs": [],
   "source": [
    "xd = np.random.normal(0, 1, size=10)\n",
    "prior = \"laplace\"\n",
    "a = 0.5\n",
    "tol = 1e-08\n",
    "maxits = 20"
   ]
  },
  {
   "cell_type": "code",
   "execution_count": 168,
   "id": "001fbe8c-ff43-4a1b-9dec-37f68d8c8ec2",
   "metadata": {},
   "outputs": [
    {
     "data": {
      "text/plain": [
       "'l'"
      ]
     },
     "execution_count": 168,
     "metadata": {},
     "output_type": "execute_result"
    }
   ],
   "source": [
    "pr = prior[0:1]\n",
    "pr"
   ]
  },
  {
   "cell_type": "code",
   "execution_count": 169,
   "id": "b5465c74-ce75-4766-8336-3cdac24f412b",
   "metadata": {},
   "outputs": [
    {
     "data": {
      "text/plain": [
       "10"
      ]
     },
     "execution_count": 169,
     "metadata": {},
     "output_type": "execute_result"
    }
   ],
   "source": [
    "nx = len(xd)\n",
    "nx"
   ]
  },
  {
   "cell_type": "code",
   "execution_count": 170,
   "id": "432b7102-4761-4e74-92fe-cb3fdf506c66",
   "metadata": {},
   "outputs": [
    {
     "data": {
      "text/plain": [
       "0.31029680918570224"
      ]
     },
     "execution_count": 170,
     "metadata": {},
     "output_type": "execute_result"
    }
   ],
   "source": [
    "wmin = ebayesthresh.wfromt(np.sqrt(2 * np.log(len(xd))), prior=prior, a=a)\n",
    "wmin"
   ]
  },
  {
   "cell_type": "code",
   "execution_count": 171,
   "id": "efbff82a-6850-4c50-bab5-eca5c437e9cd",
   "metadata": {},
   "outputs": [
    {
     "data": {
      "text/plain": [
       "1"
      ]
     },
     "execution_count": 171,
     "metadata": {},
     "output_type": "execute_result"
    }
   ],
   "source": [
    "winit = 1\n",
    "winit"
   ]
  },
  {
   "cell_type": "code",
   "execution_count": 172,
   "id": "212aeb05-8200-4fa8-acb2-a40d05bd2764",
   "metadata": {},
   "outputs": [],
   "source": [
    "if pr == \"l\":\n",
    "    beta = ebayesthresh.beta_laplace(xd, a=a)\n",
    "if pr == \"c\":\n",
    "    beta = ebayesthresh.beta_cauchy(xd)"
   ]
  },
  {
   "cell_type": "code",
   "execution_count": 173,
   "id": "413dc397-1929-426c-b009-5aa31042e5b2",
   "metadata": {},
   "outputs": [
    {
     "data": {
      "text/plain": [
       "array([1, 1, 1, 1, 1, 1, 1, 1, 1, 1])"
      ]
     },
     "execution_count": 173,
     "metadata": {},
     "output_type": "execute_result"
    }
   ],
   "source": [
    "w = np.repeat(winit, len(beta))\n",
    "w"
   ]
  },
  {
   "cell_type": "code",
   "execution_count": 174,
   "id": "462512a3-e114-4c03-bf83-28abd61791ac",
   "metadata": {},
   "outputs": [],
   "source": [
    "for j in range(maxits):\n",
    "    aa = w + 1 / beta\n",
    "    ps = w + aa\n",
    "    ww = 1 / aa ** 2\n",
    "    wnew = ebayesthresh.isotone(ps, ww, increasing=False)\n",
    "    wnew = np.maximum(wmin, wnew)\n",
    "    wnew = np.minimum(1, wnew)\n",
    "    zinc = np.max(np.abs(np.diff(wnew)))\n",
    "    w = wnew\n",
    "    # if zinc < tol:\n",
    "    #     return w"
   ]
  },
  {
   "cell_type": "code",
   "execution_count": 176,
   "id": "2496f0ea-5005-467b-9e0a-0669d7d2eb28",
   "metadata": {},
   "outputs": [],
   "source": [
    "# warnings.filterwarnings(\"More iterations required to achieve convergence\")"
   ]
  },
  {
   "cell_type": "markdown",
   "id": "3c044fd4-5269-464c-808b-0a57c39dae88",
   "metadata": {},
   "source": [
    "R코드"
   ]
  },
  {
   "cell_type": "markdown",
   "id": "478aa1ec-06ab-4ad5-97a4-b27bb05240b2",
   "metadata": {},
   "source": [
    "```R\n",
    "wmonfromx <- function (xd, prior = \"laplace\", a = 0.5,\n",
    "                       tol = 1e-08, maxits = 20) {\n",
    "#\n",
    "#  Find the monotone marginal maximum likelihood estimate of the\n",
    "#   mixing weights for the Laplace prior with parameter a.  It is\n",
    "#   assumed that the noise variance is equal to one.\n",
    "#\n",
    "#  Find the beta values and the minimum weight\n",
    "#  \n",
    "#  Current version allows for standard deviation of 1 only.\n",
    "#\n",
    "\tpr <- substring(prior, 1, 1)\n",
    "\tnx <- length(xd)\n",
    "\twmin <- wfromt(sqrt(2 * log(length(xd))), prior=prior, a=a)\n",
    "\twinit <- 1\n",
    "\tif(pr == \"l\")\n",
    "\t  beta <- beta.laplace(xd, a=a)\n",
    "\tif(pr == \"c\")\n",
    "           beta <- beta.cauchy(xd)\n",
    "        \n",
    "#   now conduct iterated weighted least squares isotone regression\n",
    "#    \n",
    "\tw <- rep(winit, length(beta))\n",
    "\tfor(j in (1:maxits)) {\n",
    "\t\taa <- w + 1/beta\n",
    "\t\tps <- w + aa\n",
    "\t\tww <- 1/aa^2\n",
    "\t\twnew <- isotone(ps, ww, increasing = FALSE)\n",
    "\t\twnew <- pmax(wmin, wnew)\n",
    "\t\twnew <- pmin(1, wnew)\n",
    "\t\tzinc <- max(abs(range(wnew - w)))\n",
    "\t\tw <- wnew\n",
    "\t\tif(zinc < tol)\n",
    " \t\t  return(w)\n",
    "\t}\n",
    "        \n",
    "\twarning(\"More iterations required to achieve convergence\")\n",
    "\treturn(w)\n",
    "}\n",
    "```"
   ]
  },
  {
   "cell_type": "markdown",
   "id": "6f488fa4-12a4-4356-ac7f-e26c99ce23d2",
   "metadata": {},
   "source": [
    "결과"
   ]
  },
  {
   "cell_type": "markdown",
   "id": "62516f87-b142-4ae8-a8ea-c695e6e6e193",
   "metadata": {},
   "source": [
    "- Python"
   ]
  },
  {
   "cell_type": "code",
   "execution_count": 2,
   "id": "97c98c4a-4cd9-454c-877d-5f6a381ca9c4",
   "metadata": {},
   "outputs": [
    {
     "data": {
      "text/plain": [
       "array([0.31029681, 0.31029681, 0.31029681, 0.31029681, 0.31029681,\n",
       "       0.31029681, 0.31029681, 0.31029681, 0.31029681, 0.31029681])"
      ]
     },
     "execution_count": 2,
     "metadata": {},
     "output_type": "execute_result"
    }
   ],
   "source": [
    "ebayesthresh.wmonfromx(xd = np.random.normal(0, 1, size=10), prior = \"laplace\")"
   ]
  },
  {
   "cell_type": "markdown",
   "id": "97651a1e-10a9-41f5-89ce-a1c374b10933",
   "metadata": {},
   "source": [
    "- R"
   ]
  },
  {
   "cell_type": "markdown",
   "id": "d605664e-5c7c-4301-b6cc-fad3e20cc6fb",
   "metadata": {},
   "source": [
    "```R\n",
    "> wmonfromx(xd <- rnorm(10,0,1), prior = \"laplace\")\n",
    " [1] 0.3102968 0.3102968 0.3102968 0.3102968 0.3102968 0.3102968 0.3102968 0.3102968 0.3102968 0.3102968\n",
    "```"
   ]
  },
  {
   "cell_type": "markdown",
   "id": "de563388-b43d-4896-982c-8b94f458ce7a",
   "metadata": {},
   "source": [
    "> wmonfromx(xd=rnorm(5, s = 1), prior = \"laplace\", a = 0.5, tol = 1e-08, maxits = 20)\n",
    "[1] 0.9363989 0.9363989 0.9363989 0.4522184 0.4522184"
   ]
  },
  {
   "cell_type": "markdown",
   "id": "3294200a-fe6c-4c83-8bb9-0375c1228cc0",
   "metadata": {},
   "source": [
    "# vecbinsolv"
   ]
  },
  {
   "cell_type": "code",
   "execution_count": 3,
   "id": "30bd5963-4e82-45fe-ae69-1801eef6c02c",
   "metadata": {},
   "outputs": [],
   "source": [
    "zf = np.array([1, 2, 3])\n",
    "# zf = 0\n",
    "def fun(t, *args, **kwargs):\n",
    "    c = kwargs.get('c', 0) \n",
    "    return [x**2+c for x in t]\n",
    "tlo = 0\n",
    "thi = 10\n",
    "nits = 30"
   ]
  },
  {
   "cell_type": "code",
   "execution_count": 4,
   "id": "d66e5827-c4ff-4cc7-8fb7-f55f96f2110a",
   "metadata": {},
   "outputs": [],
   "source": [
    "if isinstance(zf, int):\n",
    "    nz = len(str(zf))\n",
    "else:\n",
    "    nz = len(zf)"
   ]
  },
  {
   "cell_type": "code",
   "execution_count": 5,
   "id": "f333c41b-a16d-42d6-9674-db14f475ebbd",
   "metadata": {},
   "outputs": [
    {
     "data": {
      "text/plain": [
       "3"
      ]
     },
     "execution_count": 5,
     "metadata": {},
     "output_type": "execute_result"
    }
   ],
   "source": [
    "nz"
   ]
  },
  {
   "cell_type": "code",
   "execution_count": 6,
   "id": "d1094a7d-5f11-4126-b419-c772fb9c8368",
   "metadata": {},
   "outputs": [],
   "source": [
    "if isinstance(tlo, (int, float)):\n",
    "    tlo = [tlo] * nz"
   ]
  },
  {
   "cell_type": "code",
   "execution_count": 7,
   "id": "762d1b29-1a9b-4757-8aec-da7ea03573ff",
   "metadata": {},
   "outputs": [
    {
     "data": {
      "text/plain": [
       "[0, 0, 0]"
      ]
     },
     "execution_count": 7,
     "metadata": {},
     "output_type": "execute_result"
    }
   ],
   "source": [
    "tlo"
   ]
  },
  {
   "cell_type": "code",
   "execution_count": 8,
   "id": "eff54a2d-1eb6-4143-97bd-1bfea83b506e",
   "metadata": {},
   "outputs": [],
   "source": [
    "if len(tlo) != nz:\n",
    "    raise ValueError(\"Lower constraint has to be homogeneous or has the same length as #functions.\")"
   ]
  },
  {
   "cell_type": "code",
   "execution_count": 9,
   "id": "a387c62e-0b90-4a21-9afd-1bdd3bd34c81",
   "metadata": {},
   "outputs": [],
   "source": [
    "if isinstance(thi, (int, float)):\n",
    "    thi = [thi] * nz"
   ]
  },
  {
   "cell_type": "code",
   "execution_count": 10,
   "id": "dfaf2a76-396c-431c-83ca-347882cfabb1",
   "metadata": {},
   "outputs": [
    {
     "data": {
      "text/plain": [
       "[10, 10, 10]"
      ]
     },
     "execution_count": 10,
     "metadata": {},
     "output_type": "execute_result"
    }
   ],
   "source": [
    "thi"
   ]
  },
  {
   "cell_type": "code",
   "execution_count": 11,
   "id": "c33ad23f-5430-433c-9dee-a5d55280106b",
   "metadata": {},
   "outputs": [],
   "source": [
    "if len(thi) != nz:\n",
    "    raise ValueError(\"Upper constraint has to be homogeneous or has the same length as #functions.\")"
   ]
  },
  {
   "cell_type": "code",
   "execution_count": 12,
   "id": "28a3e935-335d-4005-bba2-6d73d9dccf62",
   "metadata": {},
   "outputs": [],
   "source": [
    "c=2\n",
    "\n",
    "for _ in range(nits):\n",
    "    tmid = np.array([(lo + hi) / 2 for lo, hi in zip(tlo, thi)])\n",
    "    if fun == ebayesthresh.cauchy_threshzero:\n",
    "        fmid = fun(tmid, s=s,w=w)\n",
    "    elif fun == ebayesthresh.laplace_threshzero:\n",
    "        fmid = fun(tmid, s=s,w=w,a=a)\n",
    "    else:\n",
    "        fmid = fun(tmid)\n",
    "    if isinstance(fmid, (list,np.ndarray)) and isinstance(zf, (list,np.ndarray)):\n",
    "        indt = [f <= z for f, z in zip(fmid, zf)]\n",
    "    else: \n",
    "        indt = fmid <= zf\n",
    "    tlo = [tm if ind else lo for tm, lo, ind in zip(tmid, tlo, indt)]\n",
    "    thi = [tm if not ind else hi for tm, hi, ind in zip(tmid, thi, indt)]"
   ]
  },
  {
   "cell_type": "code",
   "execution_count": 13,
   "id": "719a350b-31ae-4b62-817e-c432adce8f23",
   "metadata": {},
   "outputs": [
    {
     "data": {
      "text/plain": [
       "array([1.00000001, 1.41421356, 1.7320508 ])"
      ]
     },
     "execution_count": 13,
     "metadata": {},
     "output_type": "execute_result"
    }
   ],
   "source": [
    "tmid"
   ]
  },
  {
   "cell_type": "code",
   "execution_count": 14,
   "id": "d1eafbcb-96d8-4a64-b4c0-f13da4635ab6",
   "metadata": {},
   "outputs": [
    {
     "data": {
      "text/plain": [
       "[1.000000011175871, 2.0000000000315445, 2.999999989096492]"
      ]
     },
     "execution_count": 14,
     "metadata": {},
     "output_type": "execute_result"
    }
   ],
   "source": [
    "fmid"
   ]
  },
  {
   "cell_type": "code",
   "execution_count": 15,
   "id": "59a9e806-a2f8-4d42-ac82-369d63f81794",
   "metadata": {},
   "outputs": [
    {
     "data": {
      "text/plain": [
       "[False, False, True]"
      ]
     },
     "execution_count": 15,
     "metadata": {},
     "output_type": "execute_result"
    }
   ],
   "source": [
    "indt"
   ]
  },
  {
   "cell_type": "code",
   "execution_count": 16,
   "id": "a3db3cef-bf60-4d1c-ac78-15da61bfc958",
   "metadata": {},
   "outputs": [
    {
     "data": {
      "text/plain": [
       "[0.9999999962747097, 1.414213553071022, 1.7320508044213057]"
      ]
     },
     "execution_count": 16,
     "metadata": {},
     "output_type": "execute_result"
    }
   ],
   "source": [
    "tlo"
   ]
  },
  {
   "cell_type": "code",
   "execution_count": 17,
   "id": "faac9dbc-acd3-4f99-9e69-74ba8550ee15",
   "metadata": {},
   "outputs": [
    {
     "data": {
      "text/plain": [
       "[1.0000000055879354, 1.4142135623842478, 1.7320508137345314]"
      ]
     },
     "execution_count": 17,
     "metadata": {},
     "output_type": "execute_result"
    }
   ],
   "source": [
    "thi"
   ]
  },
  {
   "cell_type": "code",
   "execution_count": 18,
   "id": "30f4432c-f4bb-4ff4-8e39-612b40168553",
   "metadata": {},
   "outputs": [
    {
     "data": {
      "text/plain": [
       "[1.0000000009313226, 1.414213557727635, 1.7320508090779185]"
      ]
     },
     "execution_count": 18,
     "metadata": {},
     "output_type": "execute_result"
    }
   ],
   "source": [
    "tsol = [(lo + hi) / 2 for lo, hi in zip(tlo, thi)]\n",
    "tsol"
   ]
  },
  {
   "cell_type": "markdown",
   "id": "4fb99aff-74cd-42bf-b899-442a70b45a17",
   "metadata": {},
   "source": [
    "R코드"
   ]
  },
  {
   "cell_type": "markdown",
   "id": "f481cd95-1af1-4b39-b3cd-9e06a9b39075",
   "metadata": {},
   "source": [
    "```R\n",
    "vecbinsolv <- function(zf, fun, tlo, thi, nits = 30, ...) {\n",
    "#\n",
    "#  Given a monotone function fun, and a vector of values\n",
    "#   zf find a vector of numbers t such that f(t) = zf.\n",
    "#   The solution is constrained to lie on the interval (tlo, thi)\n",
    "#\n",
    "#  The function fun may be a vector of increasing functions \n",
    "#\n",
    "#  Present version is inefficient because separate calculations\n",
    "#   are done for each element of z, and because bisections are done even\n",
    "#   if the solution is outside the range supplied\n",
    "#    \n",
    "#  It is important that fun should work for vector arguments.\n",
    "#   Additional arguments to fun can be passed through ...\n",
    "#\n",
    "#  Works by successive bisection, carrying out nits harmonic bisections\n",
    "#   of the interval between tlo and thi\n",
    "#\n",
    "\tnz <- length(zf)\n",
    "\tif(length(tlo)==1) tlo <- rep(tlo, nz)\n",
    "\tif(length(tlo)!=nz)\n",
    "          stop(paste(\"Lower constraint has to be homogeneous\",\n",
    "                     \"or has the same length as #functions.\"))\n",
    "\tif(length(thi)==1) thi <- rep(thi, nz)\n",
    "\tif(length(thi)!=nz)\n",
    "          stop(paste(\"Upper constraint has to be homogeneous\",\n",
    "                     \"or has the same length as #functions.\"))\n",
    "\n",
    "#  carry out nits bisections\n",
    "#\n",
    "\tfor(jj in (1:nits)) {\n",
    "\t\ttmid <- (tlo + thi)/2\n",
    "\t\tfmid <- fun(tmid, ...)\n",
    "\t\tindt <- (fmid <= zf)\n",
    "\t\ttlo[indt] <- tmid[indt]\n",
    "\t\tthi[!indt] <- tmid[!indt]\n",
    "\t}\n",
    "\ttsol <- (tlo + thi)/2\n",
    "\treturn(tsol)\n",
    "}\n",
    "```"
   ]
  },
  {
   "cell_type": "markdown",
   "id": "b57c9353-2d1a-4011-b6e3-5c34e472d5d9",
   "metadata": {},
   "source": [
    "결과"
   ]
  },
  {
   "cell_type": "markdown",
   "id": "15fd07f5-e1d9-490a-b193-8d8e3a2c4933",
   "metadata": {},
   "source": [
    "- Python"
   ]
  },
  {
   "cell_type": "code",
   "execution_count": 19,
   "id": "76d5c14d-e588-4e10-9f34-de24a985f6de",
   "metadata": {},
   "outputs": [
    {
     "data": {
      "text/plain": [
       "[0.5000000027939677, 1.0000000009313226, 1.4999999990686774]"
      ]
     },
     "execution_count": 19,
     "metadata": {},
     "output_type": "execute_result"
    }
   ],
   "source": [
    "zf = np.array([1, 2, 3])\n",
    "def fun(t, *args, **kwargs):\n",
    "    return [2*x for x in t]\n",
    "tlo = 0\n",
    "thi = 10\n",
    "ebayesthresh.vecbinsolv(zf, fun, tlo, thi)"
   ]
  },
  {
   "cell_type": "code",
   "execution_count": 20,
   "id": "cf82d855-f17c-4cba-9fdc-8665f15b6c9b",
   "metadata": {},
   "outputs": [
    {
     "data": {
      "text/plain": [
       "[1.0000000009313226, 1.414213557727635, 1.7320508090779185]"
      ]
     },
     "execution_count": 20,
     "metadata": {},
     "output_type": "execute_result"
    }
   ],
   "source": [
    "def fun(t, *args, **kwargs):\n",
    "    return [x**2 for x in t]\n",
    "ebayesthresh.vecbinsolv(zf, fun, tlo, thi)"
   ]
  },
  {
   "cell_type": "markdown",
   "id": "66883648-d636-4d2e-99b7-5b0dcb2a631d",
   "metadata": {},
   "source": [
    "- R"
   ]
  },
  {
   "cell_type": "markdown",
   "id": "77217641-b6d6-4696-b800-0860570c2b06",
   "metadata": {},
   "source": [
    "```R\n",
    "> zf <- c(1, 2, 3)\n",
    "> fun <- function(x) 2*x\n",
    "> tlo <- 0\n",
    "> thi <- 10\n",
    "> vecbinsolv(zf, fun, tlo, thi)\n",
    "[1] 0.5 1.0 1.5\n",
    "> fun <- function(x) x**2\n",
    "> vecbinsolv(zf, fun, tlo, thi)\n",
    "[1] 1.000000 1.414214 1.732051\n",
    "```"
   ]
  },
  {
   "cell_type": "markdown",
   "id": "8dcd0d7e-eace-46fd-b80c-f612d161771a",
   "metadata": {},
   "source": [
    "# tfromw"
   ]
  },
  {
   "cell_type": "markdown",
   "id": "cb479aec-fd7f-459a-8d59-62a7f0eb1375",
   "metadata": {},
   "source": [
    "> Given a single value or a vector of weights (i.e. prior probabilities that the parameter is nonzero) and sampling standard deviations (sd equals 1 for Cauchy prior), find the corresponding threshold(s) under the specified prior."
   ]
  },
  {
   "cell_type": "markdown",
   "id": "8d740a87-3df5-4ae8-bd18-e565fe6c7eab",
   "metadata": {},
   "source": [
    "주어진 가중치 벡터 w와 s(표준 편차)에 대해 지정된 사전 분포를 사용하여 임계값 또는 해당 가중치에 대한 임계값 벡터 찾기. 만약 bayesfac=True이면 베이즈 요인 임계값을 찾고, 그렇지 않으면 사후 중앙값 임계값을 찾음. 만약 Laplace 사전 분포를 사용하는 경우, a는 역 스케일(즉, rate) 매개변수의 값 나옴.\n",
    "\n",
    "Parameters:\n",
    "\n",
    "- w (array-like): 가중치 벡터\n",
    "- s (float): 표준 편차(default: 1)\n",
    "- prior (str): 사전 분포 (default: \"laplace\")\n",
    "- bayesfac (bool): 베이즈 요인 임계값을 찾는지 여부 (default: False)\n",
    "- a (float): a < 20인 입력 값 (default: 0.5)"
   ]
  },
  {
   "cell_type": "code",
   "execution_count": 21,
   "id": "ec94de7a-416d-4eed-9a4e-c56c7397f29c",
   "metadata": {},
   "outputs": [],
   "source": [
    "w = np.array([0.05, 0.1])\n",
    "# w = 0.5\n",
    "s = 1\n",
    "prior = \"laplace\"\n",
    "# prior = \"c\"\n",
    "bayesfac = False\n",
    "a = 0.5"
   ]
  },
  {
   "cell_type": "code",
   "execution_count": 22,
   "id": "1938f75d-5191-4fb2-abdf-947e3dd8fc32",
   "metadata": {},
   "outputs": [],
   "source": [
    "w=np.array([0.05,0.1])\n",
    "s = 1\n",
    "prior = \"laplace\"\n",
    "bayesfac = False\n",
    "a = 0.5\n",
    "universalthresh = True"
   ]
  },
  {
   "cell_type": "code",
   "execution_count": 23,
   "id": "8c675780-b0d8-4568-b6c3-83fbb1418e4f",
   "metadata": {},
   "outputs": [
    {
     "data": {
      "text/plain": [
       "'l'"
      ]
     },
     "execution_count": 23,
     "metadata": {},
     "output_type": "execute_result"
    }
   ],
   "source": [
    "pr = prior[0:1]\n",
    "pr"
   ]
  },
  {
   "cell_type": "code",
   "execution_count": 24,
   "id": "77c4a023-c639-40b7-aa4e-a9a505d602a7",
   "metadata": {},
   "outputs": [],
   "source": [
    "if bayesfac:\n",
    "    z = 1 / w - 2\n",
    "    if pr == \"l\":\n",
    "        if isinstance(s, (int, float, str, bool)) and len(w) >= len(str(s)):\n",
    "            zz = z\n",
    "        elif isinstance(s, (int, float, str, bool)) and len(w) <len(str(s)):\n",
    "            zz = [z] * len(str(s))\n",
    "        elif len(w) >= len(s):\n",
    "            zz = z\n",
    "        elif len(w) < len(str(s)):\n",
    "            zz = [z] * len(s)\n",
    "        tt = ebayesthresh.vecbinsolv(zz, ebayesthresh.beta_laplace, 0, 10, 30, s=s,w=w, a=a)\n",
    "    elif pr == \"c\":\n",
    "        tt = ebayesthresh.vecbinsolv(z, ebayesthresh.beta_cauchy, 0, 10, 30, w=w)\n",
    "\n",
    "else:\n",
    "    z = 0\n",
    "    if pr == \"l\":\n",
    "        if isinstance(s, (int, float, str, bool)) and not isinstance(w, (int, float, str, bool)):\n",
    "            zz = np.array([0] * max(len(str(s)), len(w)))\n",
    "        elif not isinstance(s, (int, float, str, bool)) and isinstance(w, (int, float, str, bool)):\n",
    "            zz = np.array([0] * max(len(s), len(str(w))))\n",
    "        elif isinstance(s, (int, float, str, bool)) and isinstance(w, (int, float, str, bool)):\n",
    "            zz = np.array([0] * max(len(str(s)), len(str(w))))\n",
    "        else:\n",
    "            zz = [0] * max(len(s), len(w))\n",
    "        tt = ebayesthresh.vecbinsolv(zz, ebayesthresh.laplace_threshzero, 0, s * (25 + s * a), 30, s=s, w=w, a=a)\n",
    "    elif pr == \"c\":\n",
    "        tt = ebayesthresh.vecbinsolv(z, ebayesthresh.cauchy_threshzero, 0, 10, 30, w=w)"
   ]
  },
  {
   "cell_type": "code",
   "execution_count": 25,
   "id": "5406994f-3a88-4243-bea0-30f6afd32bbd",
   "metadata": {},
   "outputs": [
    {
     "data": {
      "text/plain": [
       "[3.1152117408346385, 2.8163059337530285]"
      ]
     },
     "execution_count": 25,
     "metadata": {},
     "output_type": "execute_result"
    }
   ],
   "source": [
    "tt"
   ]
  },
  {
   "cell_type": "markdown",
   "id": "67e5afb6-6240-46c2-827e-cc7fdb789662",
   "metadata": {},
   "source": [
    "R코드"
   ]
  },
  {
   "cell_type": "markdown",
   "id": "e51be23a-55e4-43b1-8460-92c5b231c70a",
   "metadata": {},
   "source": [
    "```R\n",
    "tfromw <- function(w, s = 1, prior = \"laplace\", bayesfac = FALSE, a = 0.5) {\n",
    "#\n",
    "#  Given the vector of weights w and s (sd), find the threshold or\n",
    "#   vector of thresholds corresponding to these weights, under the\n",
    "#   specified prior.\n",
    "#  If bayesfac=TRUE the Bayes factor thresholds are found, otherwise\n",
    "#   the posterior median thresholds are found.\n",
    "#  If the Laplace prior is used, a gives the value of the inverse scale\n",
    "#   (i.e., rate) parameter\n",
    "#\n",
    "\tpr <- substring(prior, 1, 1)\n",
    "\tif(bayesfac) {\n",
    "\t\tz <- 1/w - 2\n",
    "\t\tif(pr == \"l\"){ \n",
    "\t\t  if(length(w)>=length(s)) {\n",
    "\t\t    zz <- z\n",
    "\t\t  } else { zz <- rep(z, length(s)) }\n",
    "\t\t  tt <- vecbinsolv(zz, beta.laplace, 0, 10, s = s, a = a)\n",
    "\t\t}\n",
    "\t\tif(pr == \"c\")\n",
    "\t\t\ttt <- vecbinsolv(z, beta.cauchy, 0, 10)\n",
    "\t}\n",
    "\telse {\n",
    "\t  z <- 0\n",
    "\t\tif(pr == \"l\"){\n",
    "\t\t  zz <- rep(0, max(length(s), length(w)))\n",
    "                  \n",
    "\t\t  # When x/s-s*a>25, laplace.threshzero has value\n",
    "\t\t  #  close to 1/2; The boundary value of x can be\n",
    "\t\t  #  treated as the upper bound for search.\n",
    "  \t\t  tt <- vecbinsolv(zz, laplace.threshzero, 0, s*(25+s*a),\n",
    "                                   s = s, w = w, a = a)\n",
    "\t\t}\n",
    "\t\tif(pr == \"c\")\n",
    "\t\t\ttt <- vecbinsolv(z, cauchy.threshzero, 0, 10, w = w)\n",
    "\t}\n",
    "\treturn(tt)\n",
    "}\n",
    "```"
   ]
  },
  {
   "cell_type": "markdown",
   "id": "7ee6a15a-d891-4c31-a52b-098ee2bf3cd0",
   "metadata": {},
   "source": [
    "결과"
   ]
  },
  {
   "cell_type": "markdown",
   "id": "1fce1caf-f725-472a-b3ae-a2624ce67880",
   "metadata": {},
   "source": [
    "- Python"
   ]
  },
  {
   "cell_type": "code",
   "execution_count": 26,
   "id": "d4b0444b-1034-4f31-82d1-802ca5b2aeb0",
   "metadata": {},
   "outputs": [
    {
     "data": {
      "text/plain": [
       "[3.1152117408346385, 2.8163059337530285]"
      ]
     },
     "execution_count": 26,
     "metadata": {},
     "output_type": "execute_result"
    }
   ],
   "source": [
    "ebayesthresh.tfromw(np.array([0.05, 0.1]), s = 1)"
   ]
  },
  {
   "cell_type": "code",
   "execution_count": 27,
   "id": "63474424-ddc0-46bb-8364-fd50bf75e62f",
   "metadata": {},
   "outputs": [
    {
     "data": {
      "text/plain": [
       "[3.2596351904794574, 2.9597404645755887]"
      ]
     },
     "execution_count": 27,
     "metadata": {},
     "output_type": "execute_result"
    }
   ],
   "source": [
    "ebayesthresh.tfromw(np.array([0.05, 0.1]), prior = \"cauchy\", bayesfac = True)"
   ]
  },
  {
   "cell_type": "markdown",
   "id": "e98087ed-a06c-4f0c-b010-c0f692458e78",
   "metadata": {},
   "source": [
    "- R"
   ]
  },
  {
   "cell_type": "markdown",
   "id": "fb681462-323c-417a-bc0e-b75af0769857",
   "metadata": {},
   "source": [
    "```R\n",
    "> tfromw(c(0.05, 0.1), s = 1)\n",
    "[1] 3.115212 2.816306\n",
    "> tfromw(c(0.05, 0.1), prior = \"cauchy\", bayesfac = TRUE)\n",
    "[1] 3.259635 2.959740\n",
    "```"
   ]
  },
  {
   "cell_type": "markdown",
   "id": "b509f71b-4fd3-4fe3-905b-fd1b3144f6dd",
   "metadata": {},
   "source": [
    "# tfromx"
   ]
  },
  {
   "cell_type": "markdown",
   "id": "036e86e2-5e93-40dd-8231-8d0a15274e6c",
   "metadata": {},
   "source": [
    "> Given a vector of data and standard deviations (sd equals 1 for Cauchy prior), find the value or vector (heterogeneous sampling standard deviation with Laplace prior) of thresholds corresponding to the marginal maximum likelihood choice of weight."
   ]
  },
  {
   "cell_type": "markdown",
   "id": "9616c67c-5bb8-4520-9f5b-0a58cef5670a",
   "metadata": {},
   "source": [
    "*데이터가 주어졌을때, 가중치의 한계 최대 우도로 임계값 찾는 함수*"
   ]
  },
  {
   "cell_type": "code",
   "execution_count": 28,
   "id": "310b64a8-5a86-4de0-8320-c6b034e86223",
   "metadata": {},
   "outputs": [],
   "source": [
    "x=np.array([0.05,0.1]),\n",
    "s=1\n",
    "prior=\"laplace\"\n",
    "bayesfac=False\n",
    "a=0.5\n",
    "universalthresh=True"
   ]
  },
  {
   "cell_type": "code",
   "execution_count": 29,
   "id": "15879d8d-af17-4b65-97be-4f5783dc25ee",
   "metadata": {},
   "outputs": [],
   "source": [
    "pr = prior[0:1]"
   ]
  },
  {
   "cell_type": "code",
   "execution_count": 30,
   "id": "e91e1aa7-7949-496a-b647-d1f0e4ba25fb",
   "metadata": {},
   "outputs": [],
   "source": [
    "if pr == \"c\":\n",
    "    s = 1"
   ]
  },
  {
   "cell_type": "code",
   "execution_count": 31,
   "id": "556fc367-b945-4bb0-93d4-4b8e84a466e3",
   "metadata": {},
   "outputs": [],
   "source": [
    "if pr == \"l\" and np.isnan(a):\n",
    "    wa = ebayesthresh.wandafromx(x, s, universalthresh)\n",
    "    w = wa['w']\n",
    "    a = wa['a']\n",
    "else:\n",
    "    w = ebayesthresh.wfromx(x, s, prior=prior, a=a)"
   ]
  },
  {
   "cell_type": "code",
   "execution_count": 32,
   "id": "02cf5a6e-0cd0-4453-b1cf-c583e4da036a",
   "metadata": {},
   "outputs": [
    {
     "data": {
      "text/plain": [
       "[1.1874362826347351e-08, 1.1874362826347351e-08, 1.1874362826347351e-08]"
      ]
     },
     "execution_count": 32,
     "metadata": {},
     "output_type": "execute_result"
    }
   ],
   "source": [
    "ebayesthresh.tfromw(w, s, prior=prior, bayesfac=bayesfac, a=a)"
   ]
  },
  {
   "cell_type": "markdown",
   "id": "951a0161-f09c-4a8d-bb3d-95d02a993930",
   "metadata": {},
   "source": [
    "R코드"
   ]
  },
  {
   "cell_type": "markdown",
   "id": "c54a5f6e-a7a2-4496-b5fa-24c6c77c6350",
   "metadata": {},
   "source": [
    "```R\n",
    "tfromx <- function (x, s = 1, prior = \"laplace\", bayesfac = FALSE, a = 0.5,\n",
    "                    universalthresh = TRUE) {\n",
    "#\n",
    "#  Given the data x, the prior, and any other parameters, find the\n",
    "#   threshold corresponding to the marginal maximum likelihood\n",
    "#   estimator of the mixing weight.\n",
    "#\n",
    "  pr <- substring(prior, 1, 1)\n",
    "  if(pr == \"c\")\n",
    "    s = 1\n",
    "  if ( pr==\"l\" && is.na (a) ) {\n",
    "\twa <-  wandafromx(x, s, universalthresh)\n",
    "\tw  <-  wa$w\n",
    "\ta  <-  wa$a \n",
    "  } else {\n",
    "\tw <- wfromx(x, s, prior = prior, a = a)\n",
    "  }\n",
    "  return(tfromw(w, s, prior = prior, bayesfac = bayesfac, a = a))\n",
    "}\n",
    "```"
   ]
  },
  {
   "cell_type": "markdown",
   "id": "c719d61b-bfa9-4268-b64a-def4009ec940",
   "metadata": {},
   "source": [
    "결과"
   ]
  },
  {
   "cell_type": "markdown",
   "id": "10fdfaf2-a97b-4b09-b1f2-b122105c70c2",
   "metadata": {},
   "source": [
    "- Python"
   ]
  },
  {
   "cell_type": "code",
   "execution_count": 33,
   "id": "a41ad3ed-bba3-456c-84b7-065385208787",
   "metadata": {},
   "outputs": [
    {
     "data": {
      "text/plain": [
       "1.1774100337643176"
      ]
     },
     "execution_count": 33,
     "metadata": {},
     "output_type": "execute_result"
    }
   ],
   "source": [
    "ebayesthresh.tfromx(x=np.array([0.05,0.1]), s = 1, prior = \"laplace\", bayesfac = False, a = 0.5, universalthresh = True)"
   ]
  },
  {
   "cell_type": "code",
   "execution_count": 34,
   "id": "fd41ae58-e558-4edb-954e-8e30c4603399",
   "metadata": {},
   "outputs": [
    {
     "data": {
      "text/plain": [
       "2.2073050821200013"
      ]
     },
     "execution_count": 34,
     "metadata": {},
     "output_type": "execute_result"
    }
   ],
   "source": [
    "ebayesthresh.tfromx(x = np.concatenate([np.random.normal(0, 1, 90), np.random.normal(5, 1, 10)]), prior = \"cauchy\")"
   ]
  },
  {
   "cell_type": "markdown",
   "id": "10dea38f-1ec7-40a6-8075-c69f065507b5",
   "metadata": {},
   "source": [
    "- R"
   ]
  },
  {
   "cell_type": "markdown",
   "id": "15bfb4d6-de6c-4828-974c-f66e7d3f5fba",
   "metadata": {},
   "source": [
    "```R\n",
    "> tfromx(x=c(0.05,0.1), s = 1, prior = \"laplace\", bayesfac = FALSE, a = 0.5,universalthresh = TRUE)\n",
    "[1] 1.17741\n",
    "> tfromx(x=c(rnorm(90, mean=0, sd=1), rnorm(10, mean=5, sd=1)), prior = \"cauchy\")\n",
    "[1] 2.301196\n",
    "```"
   ]
  },
  {
   "cell_type": "markdown",
   "id": "c7b98bf9-e48c-4ed0-a5ee-e4d20fc96f2f",
   "metadata": {},
   "source": [
    "# wpost_laplace"
   ]
  },
  {
   "cell_type": "markdown",
   "id": "ae79df3a-33e2-4896-b318-b70a11596a21",
   "metadata": {},
   "source": [
    "> Calculate the posterior weight for non-zero effect"
   ]
  },
  {
   "cell_type": "markdown",
   "id": "beaf0e42-7457-48a0-be40-38fbdb61b3a1",
   "metadata": {},
   "source": [
    "- 0이 아닌 효과에 대한 사후 가중치 계산"
   ]
  },
  {
   "cell_type": "code",
   "execution_count": 35,
   "id": "7a7f72af-2f77-4d52-a920-bc3ba542831b",
   "metadata": {},
   "outputs": [],
   "source": [
    "ㅈ = 0.5\n",
    "x = np.array([-2,1,0,-4,8,50])\n",
    "s = 1\n",
    "a = 0.5"
   ]
  },
  {
   "cell_type": "code",
   "execution_count": 36,
   "id": "4da89605-18ee-4b80-970a-654875db9779",
   "metadata": {},
   "outputs": [
    {
     "data": {
      "text/plain": [
       "array([ 8.89852030e-001, -3.80041717e-001, -5.61817772e-001,\n",
       "        2.85459467e+002,  1.02698062e+012,  6.34453954e+265])"
      ]
     },
     "execution_count": 36,
     "metadata": {},
     "output_type": "execute_result"
    }
   ],
   "source": [
    "laplace_beta = ebayesthresh.beta_laplace(x, s, a)\n",
    "laplace_beta"
   ]
  },
  {
   "cell_type": "code",
   "execution_count": 37,
   "id": "c6e8bcee-8887-4576-bfaa-f2334aee3083",
   "metadata": {},
   "outputs": [
    {
     "data": {
      "text/plain": [
       "array([1., 1., 1., 1., 1., 1.])"
      ]
     },
     "execution_count": 37,
     "metadata": {},
     "output_type": "execute_result"
    }
   ],
   "source": [
    "1 - (1 - w) / (1 + w * laplace_beta)"
   ]
  },
  {
   "cell_type": "markdown",
   "id": "e73b1fa0-f0c4-4076-b4d2-656177d28c3f",
   "metadata": {},
   "source": [
    "R코드"
   ]
  },
  {
   "cell_type": "markdown",
   "id": "7fbba2e1-a726-4f06-a97f-249b268095f7",
   "metadata": {},
   "source": [
    "```R\n",
    "wpost.laplace <- function(w, x, s = 1, a = 0.5)\n",
    "#\n",
    "#  Calculate the posterior weight for non-zero effect\n",
    "#\n",
    "  1 - (1 - w)/(1 + w * beta.laplace(x, s, a))\n",
    "```"
   ]
  },
  {
   "cell_type": "markdown",
   "id": "f3bc684e-13a9-49fd-9fb0-c9cf532a32f0",
   "metadata": {},
   "source": [
    "결과"
   ]
  },
  {
   "cell_type": "markdown",
   "id": "b3e1f93c-9bd4-400d-a450-926b8c00c8f7",
   "metadata": {},
   "source": [
    "- Python"
   ]
  },
  {
   "cell_type": "code",
   "execution_count": 38,
   "id": "def1cb56-68a3-4b8d-9b26-4f0b41967eb6",
   "metadata": {},
   "outputs": [
    {
     "data": {
      "text/plain": [
       "array([0.65396152, 0.38270015, 0.30467782, 0.99652125, 1.        ,\n",
       "       1.        ])"
      ]
     },
     "execution_count": 38,
     "metadata": {},
     "output_type": "execute_result"
    }
   ],
   "source": [
    "ebayesthresh.wpost_laplace(0.5,np.array([-2,1,0,-4,8,50]))"
   ]
  },
  {
   "cell_type": "markdown",
   "id": "12c31b28-ed4d-4f3c-a8b5-8745a642a6ab",
   "metadata": {},
   "source": [
    "- R"
   ]
  },
  {
   "cell_type": "markdown",
   "id": "f0ae80ef-0844-44d7-bc77-724b22a9e693",
   "metadata": {},
   "source": [
    "이베이즈 깃헙에 있는데 R 패키지에는 없음."
   ]
  },
  {
   "cell_type": "markdown",
   "id": "92869d44-9de1-4fde-8238-d47d30b94e01",
   "metadata": {},
   "source": [
    "# zetafromx"
   ]
  },
  {
   "cell_type": "markdown",
   "id": "349590e2-ba8d-4274-8b92-94805902b1eb",
   "metadata": {},
   "source": [
    "Description"
   ]
  },
  {
   "cell_type": "markdown",
   "id": "1a242b47-95ab-49fb-a723-2f5a3a0577b7",
   "metadata": {},
   "source": [
    "> Suppose a sequence of data has underlying mean vector with elements $\\theta_i$. Given the sequence of data, and a vector of scale factors cs and a lower limit pilo, this routine finds the marginal maximum likelihood estimate of the parameter zeta such that the prior probability of $\\theta_i$ being nonzero is of the form median(pilo, zeta*cs, 1)."
   ]
  },
  {
   "cell_type": "markdown",
   "id": "92dac42c-3b8c-421b-81ea-45db7b1c8213",
   "metadata": {},
   "source": [
    "*파라메터 제타의 최대 우도 추정치 계산*"
   ]
  },
  {
   "cell_type": "code",
   "execution_count": 39,
   "id": "5b91e931-72bd-4852-bb53-9d5725b17699",
   "metadata": {},
   "outputs": [],
   "source": [
    "xd = np.array([-2,1,0,-4,8,50])\n",
    "cs = np.array([2,3,5,6,1,-1])\n",
    "pilo = None\n",
    "prior=\"laplace\"\n",
    "# priir=\"c\"\n",
    "a=0.5"
   ]
  },
  {
   "cell_type": "code",
   "execution_count": 40,
   "id": "9c7f843e-f94c-4946-b7c7-afd88dd83479",
   "metadata": {},
   "outputs": [
    {
     "data": {
      "text/plain": [
       "'l'"
      ]
     },
     "execution_count": 40,
     "metadata": {},
     "output_type": "execute_result"
    }
   ],
   "source": [
    "pr = prior[0:1]\n",
    "pr"
   ]
  },
  {
   "cell_type": "code",
   "execution_count": 41,
   "id": "ef0df944-2d23-4cf5-a311-20f2cb094daa",
   "metadata": {},
   "outputs": [
    {
     "data": {
      "text/plain": [
       "6"
      ]
     },
     "execution_count": 41,
     "metadata": {},
     "output_type": "execute_result"
    }
   ],
   "source": [
    "nx = len(xd)\n",
    "nx"
   ]
  },
  {
   "cell_type": "code",
   "execution_count": 42,
   "id": "8aa218ae-692e-44d1-b0a3-210b51d9e542",
   "metadata": {},
   "outputs": [],
   "source": [
    "if pilo is None:\n",
    "    pilo = ebayesthresh.wfromt(np.sqrt(2 * np.log(len(xd))), prior=prior, a=a)"
   ]
  },
  {
   "cell_type": "code",
   "execution_count": 43,
   "id": "7cd451ea-8d3f-4304-8bfd-f4dc90570c1b",
   "metadata": {},
   "outputs": [
    {
     "data": {
      "text/plain": [
       "0.4121150272751926"
      ]
     },
     "execution_count": 43,
     "metadata": {},
     "output_type": "execute_result"
    }
   ],
   "source": [
    "pilo"
   ]
  },
  {
   "cell_type": "code",
   "execution_count": 44,
   "id": "be39a1e5-d7b1-4731-b974-f2e3b5cb6e55",
   "metadata": {},
   "outputs": [],
   "source": [
    "if pr == \"l\":\n",
    "    beta = ebayesthresh.beta_laplace(xd, a=a)\n",
    "elif pr == \"c\":\n",
    "    beta = ebayesthresh.beta_cauchy(xd)"
   ]
  },
  {
   "cell_type": "code",
   "execution_count": 45,
   "id": "5524b7e6-52dc-42f4-b214-af23583f33ed",
   "metadata": {},
   "outputs": [
    {
     "data": {
      "text/plain": [
       "array([ 8.89852030e-001, -3.80041717e-001, -5.61817772e-001,\n",
       "        2.85459467e+002,  1.02698062e+012,  6.34453954e+265])"
      ]
     },
     "execution_count": 45,
     "metadata": {},
     "output_type": "execute_result"
    }
   ],
   "source": [
    "beta"
   ]
  },
  {
   "cell_type": "code",
   "execution_count": 46,
   "id": "a0ca53c8-2197-477d-a635-43685654b340",
   "metadata": {},
   "outputs": [
    {
     "data": {
      "text/plain": [
       "array([ 0.20605751,  0.13737168,  0.08242301,  0.06868584,  0.41211503,\n",
       "       -0.41211503])"
      ]
     },
     "execution_count": 46,
     "metadata": {},
     "output_type": "execute_result"
    }
   ],
   "source": [
    "zs1 = pilo / cs\n",
    "zs1"
   ]
  },
  {
   "cell_type": "code",
   "execution_count": 47,
   "id": "5de5a5d9-de9a-4d41-a743-3324cbf9b78e",
   "metadata": {},
   "outputs": [
    {
     "data": {
      "text/plain": [
       "array([ 0.5       ,  0.33333333,  0.2       ,  0.16666667,  1.        ,\n",
       "       -1.        ])"
      ]
     },
     "execution_count": 47,
     "metadata": {},
     "output_type": "execute_result"
    }
   ],
   "source": [
    "zs2 = 1 / cs\n",
    "zs2"
   ]
  },
  {
   "cell_type": "code",
   "execution_count": 48,
   "id": "eeaaecd6-5fea-44eb-873f-3687eb53362e",
   "metadata": {},
   "outputs": [
    {
     "data": {
      "text/plain": [
       "array([-1.        , -0.41211503,  0.06868584,  0.08242301,  0.13737168,\n",
       "        0.16666667,  0.2       ,  0.20605751,  0.33333333,  0.41211503,\n",
       "        0.5       ,  1.        ])"
      ]
     },
     "execution_count": 48,
     "metadata": {},
     "output_type": "execute_result"
    }
   ],
   "source": [
    "zj = np.sort(np.unique(np.concatenate((zs1, zs2))))\n",
    "zj"
   ]
  },
  {
   "cell_type": "code",
   "execution_count": 49,
   "id": "86681619-8e0f-4586-8783-04edcdbd25c6",
   "metadata": {},
   "outputs": [
    {
     "data": {
      "text/plain": [
       "array([ 1.77970406e+000, -1.14012515e+000, -2.80908886e+000,\n",
       "        1.71275680e+003,  1.02698062e+012, -6.34453954e+265])"
      ]
     },
     "execution_count": 49,
     "metadata": {},
     "output_type": "execute_result"
    }
   ],
   "source": [
    "cb = cs * beta\n",
    "cb"
   ]
  },
  {
   "cell_type": "code",
   "execution_count": 50,
   "id": "d272598a-fd8a-447e-a94a-53c7fc76b361",
   "metadata": {},
   "outputs": [
    {
     "data": {
      "text/plain": [
       "12"
      ]
     },
     "execution_count": 50,
     "metadata": {},
     "output_type": "execute_result"
    }
   ],
   "source": [
    "mz = len(zj)\n",
    "mz"
   ]
  },
  {
   "cell_type": "code",
   "execution_count": 51,
   "id": "f1ded7f9-2df3-43a0-8fda-e4c8619d0192",
   "metadata": {},
   "outputs": [],
   "source": [
    "zlmax = None\n",
    "zlmax"
   ]
  },
  {
   "cell_type": "code",
   "execution_count": 52,
   "id": "62284f9f-9c06-4faf-9ed4-e27aacdd3170",
   "metadata": {},
   "outputs": [
    {
     "data": {
      "text/plain": [
       "array([False, False, False, False, False, False, False, False, False,\n",
       "       False, False, False])"
      ]
     },
     "execution_count": 52,
     "metadata": {},
     "output_type": "execute_result"
    }
   ],
   "source": [
    "lmin = np.zeros(mz, dtype=bool)\n",
    "lmin"
   ]
  },
  {
   "cell_type": "code",
   "execution_count": 53,
   "id": "1b10107d-797b-4ed5-984f-8e331fd5775d",
   "metadata": {},
   "outputs": [],
   "source": [
    "for j in range(1, mz - 1):\n",
    "    ze = zj[j]\n",
    "    cbil = cb[(ze > zs1) & (ze <= zs2)]\n",
    "    ld = np.sum(cbil / (1 + ze * cbil))\n",
    "    if ld <= 0:\n",
    "        cbir = cb[(ze >= zs1) & (ze < zs2)]\n",
    "        rd = np.sum(cbir / (1 + ze * cbir))\n",
    "        lmin[j] = rd >= 0"
   ]
  },
  {
   "cell_type": "code",
   "execution_count": 54,
   "id": "efbe827d-a278-4d92-be0e-ddc915800c86",
   "metadata": {},
   "outputs": [
    {
     "data": {
      "text/plain": [
       "array([], dtype=float64)"
      ]
     },
     "execution_count": 54,
     "metadata": {},
     "output_type": "execute_result"
    }
   ],
   "source": [
    "cbir = cb[zj[0] == zs1]\n",
    "cbir"
   ]
  },
  {
   "cell_type": "code",
   "execution_count": 55,
   "id": "7917d593-1d8f-4b3e-a345-465d578d6354",
   "metadata": {},
   "outputs": [
    {
     "data": {
      "text/plain": [
       "0.0"
      ]
     },
     "execution_count": 55,
     "metadata": {},
     "output_type": "execute_result"
    }
   ],
   "source": [
    "rd = np.sum(cbir / (1 + zj[0] * cbir))\n",
    "rd"
   ]
  },
  {
   "cell_type": "code",
   "execution_count": 56,
   "id": "9f0c1a67-5ac2-4560-93f4-2320c71f3cc1",
   "metadata": {},
   "outputs": [],
   "source": [
    "if rd > 0:\n",
    "    lmin[0] = True\n",
    "else:\n",
    "    zlmax = zj[0]"
   ]
  },
  {
   "cell_type": "code",
   "execution_count": 57,
   "id": "b79af5d9-a6f6-4514-bfe0-84c2b00f5361",
   "metadata": {},
   "outputs": [
    {
     "data": {
      "text/plain": [
       "array([1.02698062e+12])"
      ]
     },
     "execution_count": 57,
     "metadata": {},
     "output_type": "execute_result"
    }
   ],
   "source": [
    "cbil = cb[zj[mz - 1] == zs2]\n",
    "cbil"
   ]
  },
  {
   "cell_type": "code",
   "execution_count": 58,
   "id": "88ec8228-9c2c-4b38-b674-6f3d1cd260f9",
   "metadata": {},
   "outputs": [
    {
     "data": {
      "text/plain": [
       "0.9999999999990262"
      ]
     },
     "execution_count": 58,
     "metadata": {},
     "output_type": "execute_result"
    }
   ],
   "source": [
    "ld = np.sum(cbil / (1 + zj[mz - 1] * cbil))\n",
    "ld"
   ]
  },
  {
   "cell_type": "code",
   "execution_count": 59,
   "id": "cf4bc128-4408-4ac2-9c80-b66fffba688b",
   "metadata": {},
   "outputs": [],
   "source": [
    "if ld < 0:\n",
    "    lmin[mz - 1] = True\n",
    "else:\n",
    "    zlmax = zj[mz - 1]"
   ]
  },
  {
   "cell_type": "code",
   "execution_count": 60,
   "id": "7126b557-118a-4182-9cb6-c42a5d8d819a",
   "metadata": {},
   "outputs": [
    {
     "data": {
      "text/plain": [
       "array([-0.41211503,  0.06868584,  0.33333333])"
      ]
     },
     "execution_count": 60,
     "metadata": {},
     "output_type": "execute_result"
    }
   ],
   "source": [
    "zlmin = zj[lmin]\n",
    "zlmin"
   ]
  },
  {
   "cell_type": "code",
   "execution_count": 61,
   "id": "f4f11400-8560-492f-b435-2fc56c4ea487",
   "metadata": {},
   "outputs": [
    {
     "data": {
      "text/plain": [
       "3"
      ]
     },
     "execution_count": 61,
     "metadata": {},
     "output_type": "execute_result"
    }
   ],
   "source": [
    "nlmin = len(zlmin)\n",
    "nlmin"
   ]
  },
  {
   "cell_type": "code",
   "execution_count": 62,
   "id": "dc6ab330-20e8-4cff-9633-bca373b23ca9",
   "metadata": {},
   "outputs": [],
   "source": [
    "for j in range(1, nlmin):\n",
    "    zlo = zlmin[j - 1]\n",
    "    zhi = zlmin[j]\n",
    "    ze = (zlo + zhi) / 2\n",
    "    zstep = (zhi - zlo) / 2\n",
    "    for nit in range(10):\n",
    "        cbi = cb[(ze >= zs1) & (ze <= zs2)]\n",
    "        likd = np.sum(cbi / (1 + ze * cbi))\n",
    "        zstep /= 2\n",
    "        ze += zstep * np.sign(likd)\n",
    "    zlmax = np.append(zlmax, ze)"
   ]
  },
  {
   "cell_type": "code",
   "execution_count": 63,
   "id": "07f7e29e-8070-42d2-aeda-1f1db424decd",
   "metadata": {},
   "outputs": [
    {
     "data": {
      "text/plain": [
       "3"
      ]
     },
     "execution_count": 63,
     "metadata": {},
     "output_type": "execute_result"
    }
   ],
   "source": [
    "nlmax = len(zlmax)\n",
    "nlmax"
   ]
  },
  {
   "cell_type": "code",
   "execution_count": 64,
   "id": "169849aa-adf7-49c8-ae06-e90e025edc4a",
   "metadata": {},
   "outputs": [
    {
     "data": {
      "text/plain": [
       "array([  0.82238932,   0.56239524, 267.81623818])"
      ]
     },
     "execution_count": 64,
     "metadata": {},
     "output_type": "execute_result"
    }
   ],
   "source": [
    "zm = np.empty(nlmax)\n",
    "zm"
   ]
  },
  {
   "cell_type": "code",
   "execution_count": 65,
   "id": "b433c266-d1a0-4b41-9428-9b07212fdb23",
   "metadata": {},
   "outputs": [],
   "source": [
    "for j in range(nlmax):\n",
    "    pz = np.maximum(zs1, np.minimum(zlmax[j], zs2))\n",
    "    zm[j] = np.sum(np.log(1 + cb * pz))"
   ]
  },
  {
   "cell_type": "code",
   "execution_count": 66,
   "id": "1dbf4015-f214-4172-b310-e3f97f1ad1ee",
   "metadata": {},
   "outputs": [
    {
     "data": {
      "text/plain": [
       "array([ 0.20605751,  0.15591096,  0.15591096,  0.15591096,  0.41211503,\n",
       "       -0.41211503])"
      ]
     },
     "execution_count": 66,
     "metadata": {},
     "output_type": "execute_result"
    }
   ],
   "source": [
    "pz"
   ]
  },
  {
   "cell_type": "code",
   "execution_count": 67,
   "id": "92f1ea15-0ec1-4f15-b1d3-5fadc929a4bc",
   "metadata": {},
   "outputs": [
    {
     "data": {
      "text/plain": [
       "array([643.79470765, 642.57221213, 643.04900807])"
      ]
     },
     "execution_count": 67,
     "metadata": {},
     "output_type": "execute_result"
    }
   ],
   "source": [
    "zm"
   ]
  },
  {
   "cell_type": "code",
   "execution_count": 68,
   "id": "9be69d5d-f4c4-45cc-ad97-bc9e00bed4f8",
   "metadata": {},
   "outputs": [
    {
     "data": {
      "text/plain": [
       "array([1.])"
      ]
     },
     "execution_count": 68,
     "metadata": {},
     "output_type": "execute_result"
    }
   ],
   "source": [
    "zeta = zlmax[zm == np.max(zm)]\n",
    "zeta"
   ]
  },
  {
   "cell_type": "code",
   "execution_count": 69,
   "id": "225f2b93-45ab-4c06-9224-3f04339f236e",
   "metadata": {},
   "outputs": [
    {
     "data": {
      "text/plain": [
       "1.0"
      ]
     },
     "execution_count": 69,
     "metadata": {},
     "output_type": "execute_result"
    }
   ],
   "source": [
    "zeta = np.min(zeta)\n",
    "zeta"
   ]
  },
  {
   "cell_type": "code",
   "execution_count": 70,
   "id": "4b244ca9-359f-426e-bd48-f64214f459ce",
   "metadata": {},
   "outputs": [
    {
     "data": {
      "text/plain": [
       "array([1.        , 1.        , 1.        , 1.        , 1.        ,\n",
       "       0.41211503])"
      ]
     },
     "execution_count": 70,
     "metadata": {},
     "output_type": "execute_result"
    }
   ],
   "source": [
    "w = np.minimum(1, np.maximum(zeta * cs, pilo))\n",
    "w"
   ]
  },
  {
   "cell_type": "markdown",
   "id": "c7cbf8bb-5a8d-490a-8316-a5a7823678ca",
   "metadata": {},
   "source": [
    "R 코드"
   ]
  },
  {
   "cell_type": "markdown",
   "id": "c30d043a-8bbd-4502-ba43-c753380b7c73",
   "metadata": {},
   "source": [
    "```R\n",
    "zetafromx <- function(xd, cs, pilo = NA, prior = \"laplace\", a = 0.5) {\n",
    "#\n",
    "#  Given a sequence xd, a vector of scale factors cs and\n",
    "#   a lower limit pilo, find the marginal maximum likelihood\n",
    "#   estimate of the parameter zeta such that the prior prob\n",
    "#   is of the form median( pilo, zeta*cs, 1)\n",
    "#\n",
    "#  If pilo=NA then it is calculated according to the sample size\n",
    "#   to corrrespond to the universal threshold\n",
    "#  \n",
    "#  Find the beta values and the minimum weight if necessary\n",
    "#\n",
    "#  Current version allows for standard deviation of 1 only.\n",
    "#\n",
    "\tpr <- substring(prior, 1, 1)\n",
    "\tnx <- length(xd)\n",
    "\tif (is.na(pilo))\n",
    "          pilo <- wfromt(sqrt(2 * log(length(xd))), prior=prior, a=a)\n",
    "\tif(pr == \"l\")\n",
    "\t  beta <- beta.laplace(xd, a=a)\n",
    "\tif(pr == \"c\") beta <- beta.cauchy(xd)\n",
    "#\n",
    "#  Find jump points zj in derivative of log likelihood as function\n",
    "#    of z, and other preliminary calculations\n",
    "#\n",
    "\tzs1 <- pilo/cs\n",
    "\tzs2 <- 1/cs\n",
    "\tzj <- sort(unique(c(zs1, zs2)))\n",
    "\tcb <- cs * beta\n",
    "\tmz <- length(zj)\n",
    "\tzlmax <- NULL\n",
    "        \n",
    "#  Find left and right derivatives at each zj and check which are\n",
    "#  local minima Check internal zj first\n",
    "\tlmin <- rep(FALSE, mz)\n",
    "\tfor(j in (2:(mz - 1))) {\n",
    "\t\tze <- zj[j]\n",
    "\t\tcbil <- cb[(ze > zs1) & (ze <= zs2)]\n",
    "\t\tld <- sum(cbil/(1 + ze * cbil))\n",
    "\t\tif(ld <= 0) {\n",
    "\t\t\tcbir <- cb[(ze >= zs1) & (ze < zs2)]\n",
    "\t\t\trd <- sum(cbir/(1 + ze * cbir))\n",
    "\t\t\tlmin[j] <- (rd >= 0)\n",
    "\t\t}\n",
    "\t}\n",
    "#\n",
    "#  Deal with the two end points in turn, finding right deriv\n",
    "#   at lower end and left deriv at upper\n",
    "#\n",
    "#  In each case the corresponding end point is either a local min\n",
    "#   or a local max depending on the sign of the relevant deriv\n",
    "#\n",
    "\tcbir <- cb[zj[1] == zs1]\n",
    "\trd <- sum(cbir/(1 + zj[1] * cbir))\n",
    "\tif(rd > 0) lmin[1] <- TRUE else zlmax <- zj[1]\n",
    "\tcbil <- cb[zj[mz] == zs2]\n",
    "\tld <- sum(cbil/(1 + zj[mz] * cbil))\n",
    "\tif(ld < 0) lmin[mz] <- TRUE else zlmax <- zj[mz]\n",
    "        \n",
    "#  Flag all local minima and do a binary search between them to find\n",
    "#  the local maxima\n",
    "#\n",
    "\tzlmin <- zj[lmin]\n",
    "\tnlmin <- length(zlmin)\n",
    "\tif(nlmin >= 2) for(j in (2:nlmin)) {\n",
    "\t\t\tzlo <- zlmin[j - 1]\n",
    "\t\t\tzhi <- zlmin[j]\n",
    "\t\t\tze <- (zlo + zhi)/2\n",
    "\t\t\tzstep <- (zhi - zlo)/2\n",
    "\t\t\tfor(nit in (1:10)) {\n",
    "\t\t\t\tcbi <- cb[(ze >= zs1) & (ze <= zs2)]\n",
    "\t\t\t\tlikd <- sum(cbi/(1 + ze * cbi))\n",
    "\t\t\t\tzstep <- zstep/2\n",
    "\t\t\t\tze <- ze + zstep * sign(likd)\n",
    "\t\t\t}\n",
    "\t\t\tzlmax <- c(zlmax, ze)\n",
    "\t\t}\n",
    "#\n",
    "#  Evaluate all local maxima and find global max; use smaller value\n",
    "#   if there is an exact tie for the global maximum.\n",
    "#\n",
    "\tnlmax <- length(zlmax)\n",
    "\tzm <- rep(NA, nlmax)\n",
    "\tfor(j in (1:nlmax)) {\n",
    "\t\tpz <- pmax(zs1, pmin(zlmax[j], zs2))\n",
    "\t\tzm[j] <- sum(log(1 + cb * pz))\n",
    "\t}\n",
    "\tzeta <- zlmax[zm == max(zm)]\n",
    "\tzeta <- min(zeta)\n",
    "\tw <- pmin(1, pmax(zeta*cs, pilo)) \n",
    "\treturn(list(zeta=zeta, w=w, cs=cs, pilo=pilo))\n",
    "}\n",
    "```"
   ]
  },
  {
   "cell_type": "markdown",
   "id": "1fd0e79c-e1da-41b5-9230-38b2f577d37b",
   "metadata": {},
   "source": [
    "결과"
   ]
  },
  {
   "cell_type": "markdown",
   "id": "ff4099f4-3003-47b1-9b8d-8d8d39ad0ca7",
   "metadata": {},
   "source": [
    "- Python"
   ]
  },
  {
   "cell_type": "code",
   "execution_count": 71,
   "id": "e056ec31-2f03-4ee7-8f6b-0b2262608d98",
   "metadata": {},
   "outputs": [
    {
     "data": {
      "text/plain": [
       "{'zeta': 1.0,\n",
       " 'w': array([1.        , 1.        , 1.        , 1.        , 1.        ,\n",
       "        0.41211503]),\n",
       " 'cs': array([ 2,  3,  5,  6,  1, -1]),\n",
       " 'pilo': 0.4121150272751926}"
      ]
     },
     "execution_count": 71,
     "metadata": {},
     "output_type": "execute_result"
    }
   ],
   "source": [
    "ebayesthresh.zetafromx(np.array([-2,1,0,-4,8,50]),np.array([2,3,5,6,1,-1]))"
   ]
  },
  {
   "cell_type": "markdown",
   "id": "ae937392-f8aa-4be1-a02d-0c84dcca99e9",
   "metadata": {},
   "source": [
    "- R"
   ]
  },
  {
   "cell_type": "markdown",
   "id": "57ecf88e-5a70-41f3-b015-31d3c97233cc",
   "metadata": {},
   "source": [
    "```R\n",
    "> zetafromx(c(-2,1,0,-4,8,50),c(2,3,5,6,1,-1))\n",
    "$zeta\n",
    "[1] 1\n",
    "\n",
    "$w\n",
    "[1] 1.000000 1.000000 1.000000 1.000000 1.000000 0.412115\n",
    "\n",
    "$cs\n",
    "[1]  2  3  5  6  1 -1\n",
    "\n",
    "$pilo\n",
    "[1] 0.412115\n",
    "```"
   ]
  },
  {
   "cell_type": "markdown",
   "id": "7dfa3db4-71af-4df9-a3d6-d7a32049450c",
   "metadata": {},
   "source": [
    "---"
   ]
  },
  {
   "cell_type": "code",
   "execution_count": 19,
   "id": "a35b6538-891e-4dd1-b279-deae4cbd7710",
   "metadata": {},
   "outputs": [],
   "source": [
    "def make_Psi(T):\n",
    "    W = np.zeros((T,T))\n",
    "    for i in range(T):\n",
    "        for j in range(T):\n",
    "            if i==j :\n",
    "                W[i,j] = 0\n",
    "            elif np.abs(i-j) <= 1 : \n",
    "                W[i,j] = 1\n",
    "    d = np.array(W.sum(axis=1))\n",
    "    D = np.diag(d)\n",
    "    L = np.array(np.diag(1/np.sqrt(d)) @ (D-W) @ np.diag(1/np.sqrt(d)))\n",
    "    lamb, Psi = np.linalg.eigh(L)\n",
    "    return Psi"
   ]
  },
  {
   "cell_type": "markdown",
   "id": "2e6f9974-2b0d-4c78-afa4-545e06e03c82",
   "metadata": {},
   "source": [
    "# 시도"
   ]
  },
  {
   "cell_type": "code",
   "execution_count": 20,
   "id": "68c6ae49-e2c8-4e9a-ae5e-bd7e9d0832bb",
   "metadata": {},
   "outputs": [
    {
     "data": {
      "text/plain": [
       "[<matplotlib.lines.Line2D at 0x7f21b2866e80>]"
      ]
     },
     "execution_count": 20,
     "metadata": {},
     "output_type": "execute_result"
    },
    {
     "data": {
      "image/png": "[encoded data removed]",
      "text/plain": [
       "<Figure size 720x432 with 1 Axes>"
      ]
     },
     "metadata": {
      "needs_background": "light"
     },
     "output_type": "display_data"
    }
   ],
   "source": [
    "T = 100\n",
    "t = np.arange(T)/T * 10\n",
    "y_true = 3*np.sin(0.5*t) + 1.2*np.sin(1.0*t) + 0.5*np.sin(1.2*t) \n",
    "y = y_true + np.random.normal(size=T)\n",
    "plt.figure(figsize=(10,6))\n",
    "plt.plot(t,y_true)"
   ]
  },
  {
   "cell_type": "code",
   "execution_count": 21,
   "id": "76f4e9de-3bd3-48fa-8692-3e074788526b",
   "metadata": {},
   "outputs": [
    {
     "data": {
      "text/plain": [
       "[<matplotlib.lines.Line2D at 0x7f21b27d3130>]"
      ]
     },
     "execution_count": 21,
     "metadata": {},
     "output_type": "execute_result"
    },
    {
     "data": {
      "image/png": "[encoded data removed]",
      "text/plain": [
       "<Figure size 432x288 with 1 Axes>"
      ]
     },
     "metadata": {
      "needs_background": "light"
     },
     "output_type": "display_data"
    }
   ],
   "source": [
    "plt.plot(t,y,'o')\n",
    "plt.plot(t,y_true,'--')"
   ]
  },
  {
   "cell_type": "code",
   "execution_count": 22,
   "id": "4e61d9cf-4665-44e6-9abd-de41aada06cb",
   "metadata": {},
   "outputs": [],
   "source": [
    "f = np.array(y)\n",
    "if len(f.shape)==1: f = f.reshape(-1,1)\n",
    "T,N = f.shape\n",
    "Psi = make_Psi(T)\n",
    "fbar = Psi.T @ f # apply dft "
   ]
  },
  {
   "cell_type": "code",
   "execution_count": 23,
   "id": "dbcab11e-3834-4388-9dbe-ebba699b5170",
   "metadata": {},
   "outputs": [
    {
     "data": {
      "text/plain": [
       "[<matplotlib.lines.Line2D at 0x7f21b273d8e0>]"
      ]
     },
     "execution_count": 23,
     "metadata": {},
     "output_type": "execute_result"
    },
    {
     "data": {
      "image/png": "[encoded data removed]",
      "text/plain": [
       "<Figure size 432x288 with 1 Axes>"
      ]
     },
     "metadata": {
      "needs_background": "light"
     },
     "output_type": "display_data"
    }
   ],
   "source": [
    "plt.plot(t,fbar**2) # periodogram "
   ]
  },
  {
   "cell_type": "code",
   "execution_count": 24,
   "id": "89fcd9dc-bfaa-4e54-bd14-5134fd2ef70f",
   "metadata": {},
   "outputs": [],
   "source": [
    "fbar_threshed = ebayesthresh.ebayesthresh(fbar[:,0])"
   ]
  },
  {
   "cell_type": "code",
   "execution_count": 25,
   "id": "d1b529f6-aac6-444f-8ad0-d912dee7779d",
   "metadata": {},
   "outputs": [
    {
     "data": {
      "text/plain": [
       "[<matplotlib.lines.Line2D at 0x7f21b2738a30>]"
      ]
     },
     "execution_count": 25,
     "metadata": {},
     "output_type": "execute_result"
    },
    {
     "data": {
      "image/png": "[encoded data removed]",
      "text/plain": [
       "<Figure size 432x288 with 1 Axes>"
      ]
     },
     "metadata": {
      "needs_background": "light"
     },
     "output_type": "display_data"
    }
   ],
   "source": [
    "# fbar_threshed = np.stack([ebayesthresh(FloatVector(fbar[:,i])) for i in range(N)],axis=1)\n",
    "plt.plot((fbar**2)) # periodogram \n",
    "plt.plot((fbar_threshed**2)) \n"
   ]
  },
  {
   "cell_type": "code",
   "execution_count": 26,
   "id": "b413e3e9-0976-497a-bb23-4e66b4fd06ff",
   "metadata": {},
   "outputs": [
    {
     "data": {
      "text/plain": [
       "[<matplotlib.lines.Line2D at 0x7f21b26400a0>]"
      ]
     },
     "execution_count": 26,
     "metadata": {},
     "output_type": "execute_result"
    },
    {
     "data": {
      "image/png": "[encoded data removed]",
      "text/plain": [
       "<Figure size 432x288 with 1 Axes>"
      ]
     },
     "metadata": {
      "needs_background": "light"
     },
     "output_type": "display_data"
    }
   ],
   "source": [
    "plt.plot((fbar**2)[20:80]) # periodogram \n",
    "plt.plot((fbar_threshed**2)[20:80]) "
   ]
  },
  {
   "cell_type": "code",
   "execution_count": 27,
   "id": "80db53fc-8399-49d7-bea0-675fd81e1b01",
   "metadata": {},
   "outputs": [
    {
     "data": {
      "text/plain": [
       "[<matplotlib.lines.Line2D at 0x7f21b2638850>]"
      ]
     },
     "execution_count": 27,
     "metadata": {},
     "output_type": "execute_result"
    },
    {
     "data": {
      "image/png": "[encoded data removed]",
      "text/plain": [
       "<Figure size 720x432 with 1 Axes>"
      ]
     },
     "metadata": {
      "needs_background": "light"
     },
     "output_type": "display_data"
    }
   ],
   "source": [
    "yhat = Psi @ fbar_threshed # inverse dft\n",
    "plt.figure(figsize=(10,6))\n",
    "plt.plot(t,y,'.')\n",
    "plt.plot(t,y_true,'--')\n",
    "plt.plot(t,yhat)"
   ]
  },
  {
   "cell_type": "markdown",
   "id": "12b6422d-43cd-440b-9867-e8e8edd480b5",
   "metadata": {},
   "source": [
    "---"
   ]
  },
  {
   "cell_type": "markdown",
   "id": "d2d1d9e8-9127-4f9f-8ad7-6646479c37c2",
   "metadata": {},
   "source": [
    "# torch.nn.module 시도"
   ]
  },
  {
   "cell_type": "code",
   "execution_count": 33,
   "id": "792b3741-240a-460f-9626-5d496d46839d",
   "metadata": {},
   "outputs": [],
   "source": [
    "import torch\n",
    "import torch.nn as nn\n",
    "import torch.nn.functional as F\n",
    "import matplotlib.pyplot as plt"
   ]
  },
  {
   "cell_type": "code",
   "execution_count": 34,
   "id": "499d301e-35e6-4c6f-a75c-67440f1a76bc",
   "metadata": {},
   "outputs": [],
   "source": [
    "class ebayesthresh_nn(torch.nn.Module):\n",
    "    def __init__(self):\n",
    "        super().__init__()\n",
    "    def forward(self,input):\n",
    "        return ebayesthresh.ebayesthresh(input)"
   ]
  },
  {
   "cell_type": "code",
   "execution_count": 35,
   "id": "b3f3f5c7-ba9e-459e-baa1-3783888c8b47",
   "metadata": {},
   "outputs": [
    {
     "data": {
      "text/plain": [
       "array([ 5.67178448e+00, -1.74569575e+01, -5.26778247e+00,  1.54436540e+00,\n",
       "       -7.18541222e+00,  3.17708094e+00, -3.17999572e+00, -1.05264316e+00,\n",
       "       -9.90853296e-02,  1.93804886e+00, -7.80786790e-01,  1.41565604e-01,\n",
       "       -1.97574188e+00,  1.32326955e+00,  2.23209354e+00,  1.13368176e+00,\n",
       "       -4.95056926e-01, -6.17458939e-01,  1.56806424e+00,  4.63345207e-01,\n",
       "       -9.00982809e-01, -4.16356384e-02, -1.16943024e+00, -1.59359288e+00,\n",
       "       -4.31198091e-01, -1.20026143e+00,  1.75013369e+00, -1.47611824e+00,\n",
       "        1.19143344e+00, -1.38968750e+00,  2.01557373e-01, -8.96974542e-01,\n",
       "        4.16791571e-01,  1.05366582e+00, -2.44904562e-01,  1.79030266e+00,\n",
       "       -6.34254982e-01,  4.41643000e-01, -3.64223878e-02,  1.33695032e+00,\n",
       "       -9.62529821e-02, -1.57157663e-01,  3.02214251e-01,  4.90833121e-01,\n",
       "        2.38407943e-01,  1.69418549e+00, -6.25979841e-03, -1.57295380e+00,\n",
       "        2.87772378e-01,  2.02574744e-01, -1.25294665e-01, -7.95064486e-01,\n",
       "       -3.03954960e-01, -5.79108441e-01,  6.12796208e-01,  7.01787027e-02,\n",
       "       -1.35588044e+00,  4.50146253e-01,  6.89312358e-01,  1.30558041e+00,\n",
       "       -6.77907561e-01, -3.57482215e-01, -2.57572280e+00, -7.92854140e-01,\n",
       "        8.47077708e-01, -1.10643201e+00, -6.82035565e-01, -2.69470736e-01,\n",
       "        1.60837070e+00, -1.64052964e+00,  7.55846285e-01, -4.52560898e-01,\n",
       "        2.45067808e+00, -7.72616110e-01, -1.71048172e+00,  2.58095601e-01,\n",
       "        4.04495785e-01,  1.97091872e-01,  3.25172845e-01,  6.40815692e-01,\n",
       "        8.27555092e-01, -4.04341311e-01,  2.85436550e-01,  6.33110989e-01,\n",
       "       -5.87795942e-01,  1.12303237e+00,  1.26666848e+00,  1.11850480e+00,\n",
       "       -9.51665485e-01,  2.66404572e-01, -2.59127504e-02, -8.36345475e-02,\n",
       "        1.68715985e+00, -1.25932506e-01,  3.06708566e+00, -4.31911063e-01,\n",
       "        7.41547726e-01,  6.74003323e-01, -1.96321668e+00,  5.05598214e-01])"
      ]
     },
     "execution_count": 35,
     "metadata": {},
     "output_type": "execute_result"
    }
   ],
   "source": [
    "fbar[:,0]"
   ]
  },
  {
   "cell_type": "code",
   "execution_count": 36,
   "id": "0f247663-39e8-4a79-9d13-201e5d6f0bc1",
   "metadata": {},
   "outputs": [],
   "source": [
    "thresh_layer = ebayesthresh_nn()"
   ]
  },
  {
   "cell_type": "code",
   "execution_count": 39,
   "id": "10c15875-a5de-4349-8254-73e075490218",
   "metadata": {},
   "outputs": [
    {
     "data": {
      "text/plain": [
       "[<matplotlib.lines.Line2D at 0x7f21b1fc6a90>]"
      ]
     },
     "execution_count": 39,
     "metadata": {},
     "output_type": "execute_result"
    },
    {
     "data": {
      "image/png": "[encoded data removed]",
      "text/plain": [
       "<Figure size 432x288 with 1 Axes>"
      ]
     },
     "metadata": {
      "needs_background": "light"
     },
     "output_type": "display_data"
    }
   ],
   "source": [
    "plt.plot(fbar[:,0])"
   ]
  },
  {
   "cell_type": "code",
   "execution_count": 38,
   "id": "e4010662-d50d-48ba-a870-00cf52dafeb2",
   "metadata": {},
   "outputs": [
    {
     "data": {
      "text/plain": [
       "[<matplotlib.lines.Line2D at 0x7f21b2a012e0>]"
      ]
     },
     "execution_count": 38,
     "metadata": {},
     "output_type": "execute_result"
    },
    {
     "data": {
      "image/png": "[encoded data removed]",
      "text/plain": [
       "<Figure size 432x288 with 1 Axes>"
      ]
     },
     "metadata": {
      "needs_background": "light"
     },
     "output_type": "display_data"
    }
   ],
   "source": [
    "plt.plot(thresh_layer(fbar[:,0]))"
   ]
  },
  {
   "cell_type": "code",
   "execution_count": null,
   "id": "f5e44b17-fb52-498f-b4cd-5cd2b707ce5d",
   "metadata": {},
   "outputs": [],
   "source": []
  },
  {
   "cell_type": "code",
   "execution_count": null,
   "id": "fc547531-d454-494a-b331-32c6b1c3077e",
   "metadata": {},
   "outputs": [],
   "source": []
  },
  {
   "cell_type": "code",
   "execution_count": null,
   "id": "16a9f766-8e7c-48d3-9df6-2b242d6d8c44",
   "metadata": {},
   "outputs": [],
   "source": []
  },
  {
   "cell_type": "code",
   "execution_count": null,
   "id": "c31eab32-4f8e-410b-8726-7a825584ce13",
   "metadata": {},
   "outputs": [],
   "source": []
  },
  {
   "cell_type": "code",
   "execution_count": null,
   "id": "2b823311-99ec-4c7a-bf80-a5f201caee27",
   "metadata": {},
   "outputs": [],
   "source": []
  }
 ],
 "metadata": {
  "kernelspec": {
   "display_name": "Python 3",
   "language": "python",
   "name": "python3"
  },
  "language_info": {
   "codemirror_mode": {
    "name": "ipython",
    "version": 3
   },
   "file_extension": ".py",
   "mimetype": "text/x-python",
   "name": "python",
   "nbconvert_exporter": "python",
   "pygments_lexer": "ipython3",
   "version": "3.8.0"
  }
 },
 "nbformat": 4,
 "nbformat_minor": 5
}
