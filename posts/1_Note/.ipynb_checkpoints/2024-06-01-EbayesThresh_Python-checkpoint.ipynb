{
 "cells": [
  {
   "cell_type": "raw",
   "id": "ecafae6c-f0a2-4852-ae83-c01c4513d836",
   "metadata": {
    "id": "cac470df-29e7-4148-9bbd-d8b9a32fa570",
    "tags": []
   },
   "source": [
    "---\n",
    "title: \"EbayesThresh Python화 시도\"\n",
    "author: \"SEOYEON CHOI\"\n",
    "date: \"2024-06-01\"\n",
    "---"
   ]
  },
  {
   "cell_type": "markdown",
   "id": "3d501e0e-ba39-4e4b-b47c-2c01f59e07db",
   "metadata": {},
   "source": [
    "https://cran.r-project.org/web/packages/EbayesThresh/EbayesThresh.pdf"
   ]
  },
  {
   "cell_type": "markdown",
   "id": "45b6158d-6c95-4349-8f57-57f4319dac5d",
   "metadata": {},
   "source": [
    "# Import"
   ]
  },
  {
   "cell_type": "code",
   "execution_count": 1,
   "id": "7b74dbea-662a-4ddf-b71f-b5ad0edf1778",
   "metadata": {},
   "outputs": [],
   "source": [
    "import numpy as np\n",
    "import matplotlib.pyplot as plt\n",
    "import EbayesThresh"
   ]
  },
  {
   "cell_type": "markdown",
   "id": "f67c6dca-cca7-4e88-b1b6-ce89976d1b3b",
   "metadata": {},
   "source": [
    "## 확인용 import"
   ]
  },
  {
   "cell_type": "code",
   "execution_count": 2,
   "id": "5f0a2e3e-bef8-48a9-af05-343378f104f4",
   "metadata": {},
   "outputs": [],
   "source": [
    "from scipy.stats import norm\n",
    "from scipy.optimize import minimize"
   ]
  },
  {
   "cell_type": "markdown",
   "id": "def4d6e1-c26f-406d-b212-2652fbd98ce6",
   "metadata": {},
   "source": [
    "# beta.cauchy"
   ]
  },
  {
   "cell_type": "markdown",
   "id": "43e97aa0-7ba1-4e23-b0dd-399c929ef26c",
   "metadata": {},
   "source": [
    "> Function beta for the quasi-Cauchy prior"
   ]
  },
  {
   "cell_type": "markdown",
   "id": "56965f19-ffb5-4c07-bece-297e09160b5f",
   "metadata": {},
   "source": [
    "- Description"
   ]
  },
  {
   "cell_type": "markdown",
   "id": "da48ae1d-4d63-4436-962e-550a761b4dc5",
   "metadata": {},
   "source": [
    "> Given a value or vector x of values, find the value(s) of the function $\\beta(x) = g(x)/\\phi(x) − 1$, where\n",
    "$g$ is the convolution of the quasi-Cauchy with the normal density $\\phi(x)$."
   ]
  },
  {
   "cell_type": "markdown",
   "id": "94044667-6997-499d-b85e-b2654aae4494",
   "metadata": {},
   "source": [
    "*x가 입력되면 코시 분포와 정규 분포를 혼합해서 함수 베타 구하기*"
   ]
  },
  {
   "cell_type": "code",
   "execution_count": 8,
   "id": "6eda332f-56ae-45e3-83d0-60372bbb189d",
   "metadata": {},
   "outputs": [],
   "source": [
    "x = np.array([-2,1,0,-4,8,50])"
   ]
  },
  {
   "cell_type": "code",
   "execution_count": 11,
   "id": "83d2e100-7eea-4c67-9555-62c667a9f3c1",
   "metadata": {},
   "outputs": [
    {
     "data": {
      "text/plain": [
       "array([5.39909665e-02, 2.41970725e-01, 3.98942280e-01, 1.33830226e-04,\n",
       "       5.05227108e-15, 0.00000000e+00])"
      ]
     },
     "execution_count": 11,
     "metadata": {},
     "output_type": "execute_result"
    }
   ],
   "source": [
    "phix = norm.pdf(x)\n",
    "phix"
   ]
  },
  {
   "cell_type": "markdown",
   "id": "6b8f0466-0023-4f78-9e4b-ed81d1a5141f",
   "metadata": {},
   "source": [
    "- x의 확률밀도함수pdf 구하기"
   ]
  },
  {
   "cell_type": "code",
   "execution_count": 12,
   "id": "e98f276c-5326-4b4d-ae44-eea140d80241",
   "metadata": {},
   "outputs": [
    {
     "data": {
      "text/plain": [
       "array([ True,  True, False,  True,  True,  True])"
      ]
     },
     "execution_count": 12,
     "metadata": {},
     "output_type": "execute_result"
    }
   ],
   "source": [
    "j = (x != 0)\n",
    "j"
   ]
  },
  {
   "cell_type": "markdown",
   "id": "17b28c3f-637d-4e4a-b751-ec1394799dff",
   "metadata": {},
   "source": [
    "- 0이 아닌 인덱스만 얻기"
   ]
  },
  {
   "cell_type": "code",
   "execution_count": 13,
   "id": "6bc89b87-9433-411a-b959-429335f4b423",
   "metadata": {},
   "outputs": [
    {
     "data": {
      "text/plain": [
       "array([-2,  1,  0, -4,  8, 50])"
      ]
     },
     "execution_count": 13,
     "metadata": {},
     "output_type": "execute_result"
    }
   ],
   "source": [
    "beta = x\n",
    "beta"
   ]
  },
  {
   "cell_type": "code",
   "execution_count": 14,
   "id": "94a4ea29-d8b9-4f25-967a-67ba7e963640",
   "metadata": {},
   "outputs": [
    {
     "data": {
      "text/plain": [
       "array([-2. ,  1. , -0.5, -4. ,  8. , 50. ])"
      ]
     },
     "execution_count": 14,
     "metadata": {},
     "output_type": "execute_result"
    }
   ],
   "source": [
    "beta = np.where(j == False, -1/2, beta)\n",
    "beta"
   ]
  },
  {
   "cell_type": "markdown",
   "id": "272f488d-f4d3-4047-8617-521b3de2d7bc",
   "metadata": {},
   "source": [
    "- j가 False 즉 0이면 -1/2를 넣고 아니면 beta값 그대로 넣기"
   ]
  },
  {
   "cell_type": "code",
   "execution_count": 16,
   "id": "884e614d-7a6c-427f-864e-81f099a0a873",
   "metadata": {},
   "outputs": [
    {
     "name": "stderr",
     "output_type": "stream",
     "text": [
      "<ipython-input-16-d26bd9cf5070>:1: RuntimeWarning: divide by zero encountered in divide\n",
      "  beta[j] = (norm.pdf(0) / phix[j] - 1) / (x[j] ** 2) - 1\n"
     ]
    },
    {
     "data": {
      "text/plain": [
       "array([ 5.97264025e-01, -3.51278729e-01, -5.00000000e-01,  1.85247374e+02,\n",
       "        1.23379625e+12,             inf])"
      ]
     },
     "execution_count": 16,
     "metadata": {},
     "output_type": "execute_result"
    }
   ],
   "source": [
    "beta[j] = (norm.pdf(0) / phix[j] - 1) / (x[j] ** 2) - 1\n",
    "beta"
   ]
  },
  {
   "cell_type": "markdown",
   "id": "94bd5e8e-1d6d-47f8-9360-7aa0361c3533",
   "metadata": {},
   "source": [
    "- 0의 확률밀도함수pdf에서 x의 확률밀도함수phix로 나누어서 1을 빼고 그것을 x 중 0이 아닌 값들에 제곱한 값으로 나눠 1을 빼기\n",
    "- $\\beta(x) = \\begin{cases} x & \\text{ if } x = 0 \\\\ \\frac{\\frac{\\phi(0)}{\\phi(x)}-1}{x^2} - 1 & \\\\ \\text{ if } x \\ne 0\\end{cases}$"
   ]
  },
  {
   "cell_type": "markdown",
   "id": "f10a77bd-c16c-4aa4-bbe8-e8945b6bea67",
   "metadata": {},
   "source": [
    "- R code"
   ]
  },
  {
   "cell_type": "markdown",
   "id": "0971d959-faf3-4971-904a-c56bf15fde05",
   "metadata": {},
   "source": [
    "```R\n",
    "beta.cauchy <- function(x) {\n",
    "#\n",
    "#   Find the function beta for the mixed normal prior with Cauchy\n",
    "#   tails.  It is assumed that the noise variance is equal to one.\n",
    "#\n",
    "\tphix <- dnorm(x)\n",
    "\tj <- (x != 0)\n",
    "\tbeta <- x\n",
    "\tbeta[!j] <- -1/2\n",
    "\tbeta[j] <- (dnorm(0)/phix[j] - 1)/x[j]^2 - 1\n",
    "\treturn(beta)\n",
    "}\n",
    "```"
   ]
  },
  {
   "cell_type": "markdown",
   "id": "ef5bc485-462b-4b37-af8b-da3a1a4f4b3c",
   "metadata": {},
   "source": [
    "**결과**"
   ]
  },
  {
   "cell_type": "markdown",
   "id": "9ba79e9b-c46e-4ec3-a431-4cc718b19b18",
   "metadata": {},
   "source": [
    "- Python"
   ]
  },
  {
   "cell_type": "code",
   "execution_count": 2,
   "id": "bb4b9c53-44e8-45a2-9eb9-abc205f9729e",
   "metadata": {},
   "outputs": [
    {
     "name": "stderr",
     "output_type": "stream",
     "text": [
      "/home/csy/Dropbox/sy_hub/posts/1_Note/EbayesThresh/utils.py:26: RuntimeWarning: divide by zero encountered in divide\n",
      "  beta[j] = (norm.pdf(0) / phix[j] - 1) / (x[j] ** 2) - 1\n"
     ]
    },
    {
     "data": {
      "text/plain": [
       "array([ 5.97264025e-01, -3.51278729e-01, -5.00000000e-01,  1.85247374e+02,\n",
       "        1.23379625e+12,             inf])"
      ]
     },
     "execution_count": 2,
     "metadata": {},
     "output_type": "execute_result"
    }
   ],
   "source": [
    "EbayesThresh.beta_cauchy(np.array([-2,1,0,-4,8,50]))"
   ]
  },
  {
   "cell_type": "markdown",
   "id": "91a9054f-acee-46a4-9cf8-58e1b7f4e9fd",
   "metadata": {},
   "source": [
    "- R"
   ]
  },
  {
   "cell_type": "markdown",
   "id": "92212884-d02c-4e92-b9cb-11239ec72be0",
   "metadata": {},
   "source": [
    "```R\n",
    "> beta.cauchy(c(-2,1,0,-4,8,50))\n",
    "[1]  5.972640e-01 -3.512787e-01 -5.000000e-01  1.852474e+02  1.233796e+12           Inf\n",
    "```"
   ]
  },
  {
   "cell_type": "markdown",
   "id": "1ad008ed-3d0b-457f-99e2-a35ee4db7c6a",
   "metadata": {},
   "source": [
    "- 무한히 꼬리가 긴 분포를 가진 코시분포"
   ]
  },
  {
   "cell_type": "code",
   "execution_count": 18,
   "id": "799f0502-4646-4661-8361-91f4df6a68dd",
   "metadata": {},
   "outputs": [
    {
     "data": {
      "image/png": "[encoded data removed]",
      "text/plain": [
       "<Figure size 864x432 with 2 Axes>"
      ]
     },
     "metadata": {
      "needs_background": "light"
     },
     "output_type": "display_data"
    }
   ],
   "source": [
    "import numpy as np\n",
    "import matplotlib.pyplot as plt\n",
    "from scipy.stats import cauchy\n",
    "\n",
    "# 모수 설정\n",
    "loc_values = [0.0, 0.0, -2.0]  # 위치 모수\n",
    "scale_values = [0.5, 1.0, 2.0]  # 척도 모수\n",
    "\n",
    "# 그래프 그리기\n",
    "x = np.linspace(-10, 10, 1000)\n",
    "plt.figure(figsize=(12, 6))\n",
    "\n",
    "# PDF 그리기\n",
    "plt.subplot(1, 2, 1)\n",
    "for loc, scale in zip(loc_values, scale_values):\n",
    "    plt.plot(x, cauchy.pdf(x, loc, scale), label=f'loc={loc}, scale={scale}')\n",
    "plt.title('Cauchy PDF')\n",
    "plt.xlabel('x')\n",
    "plt.ylabel('Probability Density')\n",
    "plt.legend()\n",
    "\n",
    "# CDF 그리기\n",
    "plt.subplot(1, 2, 2)\n",
    "for loc, scale in zip(loc_values, scale_values):\n",
    "    plt.plot(x, cauchy.cdf(x, loc, scale), label=f'loc={loc}, scale={scale}')\n",
    "plt.title('Cauchy CDF')\n",
    "plt.xlabel('x')\n",
    "plt.ylabel('Cumulative Probability')\n",
    "plt.legend()\n",
    "\n",
    "plt.show()"
   ]
  },
  {
   "cell_type": "markdown",
   "id": "5c8a622f-de1e-4717-9c26-5a5c62f67dfc",
   "metadata": {},
   "source": [
    "# beta.laplace"
   ]
  },
  {
   "cell_type": "markdown",
   "id": "86db9185-0acc-4107-95fe-b5cae990e312",
   "metadata": {},
   "source": [
    "> Function beta for the Laplace prior"
   ]
  },
  {
   "cell_type": "markdown",
   "id": "4bf3908b-933e-492d-a5f1-f056209ade11",
   "metadata": {},
   "source": [
    "- Description"
   ]
  },
  {
   "cell_type": "markdown",
   "id": "28121928-cc1b-4531-aa03-afa7baba87e3",
   "metadata": {},
   "source": [
    ">  Given a single value or a vector of $x$ and $s$, find the value(s) of the function $\\beta(x; s, a) = \\frac{g(x; s, a)}{f_n(x; 0, s)}−1$, where $f_n(x; 0, s)$ is the normal density with mean $0$ and standard deviation $s$, and $g$ is the convolution of the Laplace density with scale parameter a, $γa(\\mu)$, with the normal density $f_n(x; µ, s)$ with mean mu and standard deviation $s$."
   ]
  },
  {
   "cell_type": "markdown",
   "id": "4f54ecb9-1dde-429c-9c29-9f2b458635f1",
   "metadata": {},
   "source": [
    "*평균이 $\\mu$이며, 스케일 파라메터 a를 가진 라플라스와 정규분포의 합성함수 $g$와 평균이 0이고 표준편차가s인 f로 계산되는 함수 베타*"
   ]
  },
  {
   "cell_type": "code",
   "execution_count": 120,
   "id": "231edf1b-c02e-4e9d-bbeb-084b7b5a168e",
   "metadata": {},
   "outputs": [],
   "source": [
    "# x = np.array([-2,1,0,-4,8,50])\n",
    "x = 2.14\n",
    "s = 1\n",
    "# s = np.arange(1, 7)\n",
    "a = 0.5"
   ]
  },
  {
   "cell_type": "markdown",
   "id": "93b65f30-d2c6-445b-aecd-8936aedb6c55",
   "metadata": {},
   "source": [
    "- s는 표준편차\n",
    "- a는 Laplaxe prior모수, 이 값이 클수록 부포 모양이 뾰족해진다."
   ]
  },
  {
   "cell_type": "code",
   "execution_count": 121,
   "id": "9ca7e9a4-0f51-4e36-acfd-c4689279d2b9",
   "metadata": {},
   "outputs": [
    {
     "data": {
      "text/plain": [
       "2.14"
      ]
     },
     "execution_count": 121,
     "metadata": {},
     "output_type": "execute_result"
    }
   ],
   "source": [
    "x = np.abs(x)\n",
    "x"
   ]
  },
  {
   "cell_type": "markdown",
   "id": "840348da-112d-4d27-aabe-5f8bf3eabc85",
   "metadata": {},
   "source": [
    "- 확률변수 x에 절대값 취하고"
   ]
  },
  {
   "cell_type": "code",
   "execution_count": 122,
   "id": "454bc930-e458-4000-88c8-c99f7de6cd0e",
   "metadata": {},
   "outputs": [
    {
     "data": {
      "text/plain": [
       "2.64"
      ]
     },
     "execution_count": 122,
     "metadata": {},
     "output_type": "execute_result"
    }
   ],
   "source": [
    "xpa = x/s + s*a\n",
    "xpa"
   ]
  },
  {
   "cell_type": "code",
   "execution_count": 123,
   "id": "9f7bc2af-c859-495e-87bb-9f67f4fdf9f9",
   "metadata": {},
   "outputs": [
    {
     "data": {
      "text/plain": [
       "1.6400000000000001"
      ]
     },
     "execution_count": 123,
     "metadata": {},
     "output_type": "execute_result"
    }
   ],
   "source": [
    "xma = x/s - s*a\n",
    "xma"
   ]
  },
  {
   "cell_type": "code",
   "execution_count": 124,
   "id": "5120e231-310e-42c3-a6af-d3da2676434e",
   "metadata": {},
   "outputs": [
    {
     "data": {
      "text/plain": [
       "0.3787878787878788"
      ]
     },
     "execution_count": 124,
     "metadata": {},
     "output_type": "execute_result"
    }
   ],
   "source": [
    "rat1 = 1/xpa\n",
    "rat1"
   ]
  },
  {
   "cell_type": "code",
   "execution_count": 125,
   "id": "b6fbb6b1-3138-44de-ac43-b417c2268de1",
   "metadata": {},
   "outputs": [
    {
     "data": {
      "text/plain": [
       "True"
      ]
     },
     "execution_count": 125,
     "metadata": {},
     "output_type": "execute_result"
    }
   ],
   "source": [
    "xpa < 35"
   ]
  },
  {
   "cell_type": "code",
   "execution_count": 126,
   "id": "b6ea5bbc-0265-4f86-9f81-9778149cc739",
   "metadata": {},
   "outputs": [
    {
     "data": {
      "text/plain": [
       "array([0.37878788])"
      ]
     },
     "execution_count": 126,
     "metadata": {},
     "output_type": "execute_result"
    }
   ],
   "source": [
    "rat1[xpa < 35]"
   ]
  },
  {
   "cell_type": "markdown",
   "id": "45f12a1f-a511-4fd5-91d6-93289d00dfcf",
   "metadata": {},
   "source": [
    "- 표준정규분포 누적 분포 함수cdf /  표준정규분포 밀도함수 pdf"
   ]
  },
  {
   "cell_type": "code",
   "execution_count": 127,
   "id": "8a35a308-c7fd-4ee8-a987-df47fa73023b",
   "metadata": {},
   "outputs": [],
   "source": [
    "if isinstance(rat1, (int, float, str, bool)) and xpa < 35:\n",
    "    rat1 = norm.cdf(-xpa) / norm.pdf(xpa)\n",
    "elif isinstance(rat1, (int, float, str, bool)) and xpa > 35:\n",
    "    rat1 = rat1\n",
    "else:\n",
    "    rat1[xpa < 35] = norm.cdf(-xpa[xpa < 35]) / norm.pdf(xpa[xpa < 35])"
   ]
  },
  {
   "cell_type": "code",
   "execution_count": 128,
   "id": "1b628426-0452-4d79-94fe-7b90a5e95721",
   "metadata": {},
   "outputs": [
    {
     "data": {
      "text/plain": [
       "0.33890303155852075"
      ]
     },
     "execution_count": 128,
     "metadata": {},
     "output_type": "execute_result"
    }
   ],
   "source": [
    "rat1"
   ]
  },
  {
   "cell_type": "code",
   "execution_count": 129,
   "id": "e1f472e7-14ce-4c37-83e6-c01e228ee835",
   "metadata": {},
   "outputs": [
    {
     "data": {
      "text/plain": [
       "0.6097560975609756"
      ]
     },
     "execution_count": 129,
     "metadata": {},
     "output_type": "execute_result"
    }
   ],
   "source": [
    "rat2 = 1/np.abs(xma)\n",
    "rat2"
   ]
  },
  {
   "cell_type": "code",
   "execution_count": 130,
   "id": "350404f0-3aff-4849-bd4c-f598187041f1",
   "metadata": {},
   "outputs": [],
   "source": [
    "if isinstance(xma, (int, float, str, bool)) and xma > 35:\n",
    "    xma = 35\n",
    "elif isinstance(xma, (int, float, str, bool)) and xma < 35:\n",
    "    xma = xma\n",
    "else:\n",
    "    xma[xma > 35] = 35"
   ]
  },
  {
   "cell_type": "code",
   "execution_count": 131,
   "id": "0cc0a00a-e5cd-4357-8493-4866184fbbe8",
   "metadata": {},
   "outputs": [
    {
     "data": {
      "text/plain": [
       "1.6400000000000001"
      ]
     },
     "execution_count": 131,
     "metadata": {},
     "output_type": "execute_result"
    }
   ],
   "source": [
    "xma"
   ]
  },
  {
   "cell_type": "code",
   "execution_count": 132,
   "id": "cef4aca1-a2df-469d-9b6e-ef13d9845f25",
   "metadata": {},
   "outputs": [],
   "source": [
    "if isinstance(rat1, (int, float, str, bool)) and xma > -35:\n",
    "    rat2 = norm.cdf(xma) / norm.pdf(xma)\n",
    "elif isinstance(rat1, (int, float, str, bool)) and xma < -35:\n",
    "    rat2 = rat2\n",
    "else:\n",
    "    rat2[xma > -35] = norm.cdf(xma[xma > -35]) / norm.pdf(xma[xma > -35])"
   ]
  },
  {
   "cell_type": "code",
   "execution_count": 133,
   "id": "cdca3e49-8616-4761-8257-36b041488b09",
   "metadata": {},
   "outputs": [
    {
     "data": {
      "text/plain": [
       "9.133199429298308"
      ]
     },
     "execution_count": 133,
     "metadata": {},
     "output_type": "execute_result"
    }
   ],
   "source": [
    "rat2"
   ]
  },
  {
   "cell_type": "markdown",
   "id": "05bbca55-e108-4744-9c3f-f4db52b46678",
   "metadata": {},
   "source": [
    "- beta = $\\frac{g(x; s, a)}{f_n(x; 0, s)}−1$\n",
    "- g = 스케일 파라메터 a를 가진 라플라스 밀도의 convolution + $\\gamma (u ; a)$\n",
    "  - 단, The Laplace density is given by $\\gamma (u ; a) = \\frac{1}{2} a e^{-a |u|}$ and is also known as the double exponential density."
   ]
  },
  {
   "cell_type": "code",
   "execution_count": 134,
   "id": "ef888a8d-1a39-49f5-a905-306bdb87cc03",
   "metadata": {},
   "outputs": [
    {
     "data": {
      "text/plain": [
       "1.3680256152142074"
      ]
     },
     "execution_count": 134,
     "metadata": {},
     "output_type": "execute_result"
    }
   ],
   "source": [
    "beta = (a * s) / 2 * (rat1 + rat2) - 1\n",
    "beta"
   ]
  },
  {
   "cell_type": "markdown",
   "id": "31cfdbfd-1c03-43ca-9fa1-1880b8256efd",
   "metadata": {},
   "source": [
    "- R code"
   ]
  },
  {
   "cell_type": "markdown",
   "id": "49f98fea-acd6-4b3d-8e00-baaecd4936dc",
   "metadata": {},
   "source": [
    "```R\n",
    "beta.laplace <- function(x, s = 1, a = 0.5) {\n",
    "#\n",
    "#  The function beta for the Laplace prior given parameter a and s (sd)\n",
    "#\n",
    "\tx <- abs(x)\n",
    "\txpa <- x/s + s*a\n",
    "\txma <- x/s - s*a\n",
    "\trat1 <- 1/xpa\n",
    "\trat1[xpa < 35] <- pnorm( - xpa[xpa < 35])/dnorm(xpa[xpa < 35])\n",
    "\trat2 <- 1/abs(xma)\n",
    "\txma[xma > 35] <- 35\n",
    "\trat2[xma > -35] <- pnorm(xma[xma > -35])/dnorm(xma[xma > -35])\n",
    "\tbeta <- (a * s) / 2 * (rat1 + rat2) - 1\n",
    "\treturn(beta)\n",
    "}\n",
    "```"
   ]
  },
  {
   "cell_type": "markdown",
   "id": "49833a2f-6a66-48b6-93fa-4954a954b6d8",
   "metadata": {},
   "source": [
    "**결과**"
   ]
  },
  {
   "cell_type": "markdown",
   "id": "f8cf8b0d-2512-40f7-8ac6-6df9ed330b56",
   "metadata": {},
   "source": [
    "- Python"
   ]
  },
  {
   "cell_type": "code",
   "execution_count": 3,
   "id": "bb7f3af1-e452-4b76-ab27-56d9c1c2c5a8",
   "metadata": {},
   "outputs": [
    {
     "data": {
      "text/plain": [
       "array([ 8.89852030e-001, -3.80041717e-001, -5.61817772e-001,\n",
       "        2.85459467e+002,  1.02698062e+012,  6.34453954e+265])"
      ]
     },
     "execution_count": 3,
     "metadata": {},
     "output_type": "execute_result"
    }
   ],
   "source": [
    "EbayesThresh.beta_laplace(np.array([-2,1,0,-4,8,50]),s=1)"
   ]
  },
  {
   "cell_type": "code",
   "execution_count": 9,
   "id": "ab955f9b-2802-4199-9db5-2f9ee57a4cb7",
   "metadata": {},
   "outputs": [
    {
     "data": {
      "text/plain": [
       "0.8898520296511427"
      ]
     },
     "execution_count": 9,
     "metadata": {},
     "output_type": "execute_result"
    }
   ],
   "source": [
    "EbayesThresh.beta_laplace(-2,s=1,a=0.5)"
   ]
  },
  {
   "cell_type": "code",
   "execution_count": 5,
   "id": "032868a9-2856-4554-89af-3d63a0a30d85",
   "metadata": {},
   "outputs": [
    {
     "data": {
      "text/plain": [
       "array([ 8.89852030e-01, -3.03909953e-01, -2.26276543e-01, -3.97301589e-02,\n",
       "        1.53950123e-01,  5.64694733e+06])"
      ]
     },
     "execution_count": 5,
     "metadata": {},
     "output_type": "execute_result"
    }
   ],
   "source": [
    "EbayesThresh.beta_laplace(np.array([-2,1,0,-4,8,50]),s=np.arange(1, 7))"
   ]
  },
  {
   "cell_type": "markdown",
   "id": "dd8ff5e4-405d-4b35-b0d2-e919fd1eddf7",
   "metadata": {},
   "source": [
    "- R"
   ]
  },
  {
   "cell_type": "markdown",
   "id": "36ae799d-eb09-4b65-b1ad-864a01ad6a7e",
   "metadata": {},
   "source": [
    "```R\n",
    "> beta.laplace(c(-2,1,0,-4,8,50), s=1)\n",
    "[1]   8.898520e-01  -3.800417e-01  -5.618178e-01   2.854595e+02   1.026981e+12  6.344540e+265\n",
    "> beta.laplace(-2, s=1, a=0.5)\n",
    "[1] 0.889852\n",
    "> beta.laplace(c(-2,1,0,-4,8,50), s=1:6, a=1)\n",
    "[1]   0.890821055  -0.129919250  -0.086229104  -0.005203193   0.054213718 112.493576777\n",
    "```"
   ]
  },
  {
   "cell_type": "markdown",
   "id": "065357ea-2237-4ba2-a2ec-25aee5dc6d3b",
   "metadata": {},
   "source": [
    "# cauchy_medzero"
   ]
  },
  {
   "cell_type": "markdown",
   "id": "1dac7281-052f-4901-a779-f28196abae53",
   "metadata": {},
   "source": [
    "> the objective function that has to be zeroed, component by component, to find the posterior median when the quasi-Cauchy prior is used.  x is the parameter vector, z is the data vector, w is the weight x and z may be scalars"
   ]
  },
  {
   "cell_type": "markdown",
   "id": "9e979ec0-2c57-4205-bdd8-c45fb3180485",
   "metadata": {},
   "source": [
    "- quasi-Cauchy prior에서 사후 중앙값 찾기 위한 함수\n",
    "- x,z는 벡터일수도 있고, 스칼라일 수 도 있다."
   ]
  },
  {
   "cell_type": "code",
   "execution_count": 11,
   "id": "110b1f7b-25e8-4439-b088-769895d8782c",
   "metadata": {},
   "outputs": [],
   "source": [
    "# x = np.array([-2,1,0,-4,8,50])\n",
    "x = 4\n",
    "# z = np.array([1,0,2,3,-1,-1])\n",
    "z = 5\n",
    "w = 0.5"
   ]
  },
  {
   "cell_type": "code",
   "execution_count": 12,
   "id": "54e20a49-11c3-47f5-9445-8dd770805f20",
   "metadata": {},
   "outputs": [
    {
     "data": {
      "text/plain": [
       "1"
      ]
     },
     "execution_count": 12,
     "metadata": {},
     "output_type": "execute_result"
    }
   ],
   "source": [
    "hh = z - x\n",
    "hh"
   ]
  },
  {
   "cell_type": "code",
   "execution_count": 13,
   "id": "a5a8b009-9314-4172-998c-a556c360699a",
   "metadata": {},
   "outputs": [
    {
     "data": {
      "text/plain": [
       "0.24197072451914337"
      ]
     },
     "execution_count": 13,
     "metadata": {},
     "output_type": "execute_result"
    }
   ],
   "source": [
    "dnhh = norm.pdf(hh)\n",
    "dnhh"
   ]
  },
  {
   "cell_type": "code",
   "execution_count": 14,
   "id": "8a3d63c3-c0af-4185-8737-f6e655087e1d",
   "metadata": {},
   "outputs": [
    {
     "data": {
      "text/plain": [
       "0.7194871459755684"
      ]
     },
     "execution_count": 14,
     "metadata": {},
     "output_type": "execute_result"
    }
   ],
   "source": [
    "yleft = norm.cdf(hh) - z * dnhh + ((z * x - 1) * dnhh * norm.cdf(-x)) / norm.pdf(x)\n",
    "yleft"
   ]
  },
  {
   "cell_type": "code",
   "execution_count": 15,
   "id": "e941f9c1-f260-473e-8a4c-75a635bf8f76",
   "metadata": {},
   "outputs": [
    {
     "data": {
      "text/plain": [
       "1.00008943967613"
      ]
     },
     "execution_count": 15,
     "metadata": {},
     "output_type": "execute_result"
    }
   ],
   "source": [
    "yright2 = 1 + np.exp(-z**2 / 2) * (z**2 * (1 / w - 1) - 1)\n",
    "yright2"
   ]
  },
  {
   "cell_type": "code",
   "execution_count": 16,
   "id": "f33f3337-989a-4d7c-b3c0-4ee15d0f0653",
   "metadata": {},
   "outputs": [
    {
     "data": {
      "text/plain": [
       "-0.21944242613750342"
      ]
     },
     "execution_count": 16,
     "metadata": {},
     "output_type": "execute_result"
    }
   ],
   "source": [
    "yright2 / 2 - yleft"
   ]
  },
  {
   "cell_type": "markdown",
   "id": "07a4ff6c-21b5-42c2-b949-47b795d3c470",
   "metadata": {},
   "source": [
    "- R코드"
   ]
  },
  {
   "cell_type": "markdown",
   "id": "d492524a-bd7d-46f1-ba33-0e4fcbd663b4",
   "metadata": {},
   "source": [
    "```R\n",
    "cauchy.medzero <- function(x, z, w) {\n",
    "#    \n",
    "# the objective function that has to be zeroed, component by\n",
    "# component, to find the posterior median when the quasi-Cauchy prior\n",
    "# is used.  x is the parameter vector, z is the data vector, w is the\n",
    "# weight x and z may be scalars\n",
    "#\n",
    "\thh <- z - x\n",
    "\tdnhh <- dnorm(hh)\n",
    "\tyleft <- pnorm(hh) - z * dnhh + ((z * x - 1) * dnhh * pnorm( - x))/\n",
    "\t\tdnorm(x)\n",
    "\tyright2 <- 1 + exp( - z^2/2) * (z^2 * (1/w - 1) - 1)\n",
    "\treturn(yright2/2 - yleft)\n",
    "}\n",
    "```"
   ]
  },
  {
   "cell_type": "markdown",
   "id": "47edd58e-f68d-494e-8591-43bd36fe0d7c",
   "metadata": {},
   "source": [
    "**결과**"
   ]
  },
  {
   "cell_type": "markdown",
   "id": "ec23890b-19dc-4f45-adff-0ffa52fa05e2",
   "metadata": {},
   "source": [
    "- Python\n",
    "    - 벡터, 스칼라일때 가능한지 확인"
   ]
  },
  {
   "cell_type": "code",
   "execution_count": 4,
   "id": "33c5dc9e-402b-4973-af51-f7e503a389a6",
   "metadata": {},
   "outputs": [
    {
     "name": "stderr",
     "output_type": "stream",
     "text": [
      "/home/csy/Dropbox/sy_hub/posts/1_Note/EbayesThresh/utils.py:50: RuntimeWarning: invalid value encountered in divide\n",
      "  yleft = norm.cdf(hh) - z * dnhh + ((z * x - 1) * dnhh * norm.cdf(-x)) / norm.pdf(x)\n"
     ]
    },
    {
     "data": {
      "text/plain": [
       "array([-0.25356559,  0.        , -0.09859737, -0.45556313,  0.5       ,\n",
       "               nan])"
      ]
     },
     "execution_count": 4,
     "metadata": {},
     "output_type": "execute_result"
    }
   ],
   "source": [
    "EbayesThresh.cauchy_medzero(np.array([-2,1,0,-4,8,50]),np.array([1,0,2,3,-1,-1]),0.5)"
   ]
  },
  {
   "cell_type": "code",
   "execution_count": 17,
   "id": "b0033926-f009-4149-8701-c52b1a4fe29a",
   "metadata": {},
   "outputs": [
    {
     "data": {
      "text/plain": [
       "-0.21944242613750342"
      ]
     },
     "execution_count": 17,
     "metadata": {},
     "output_type": "execute_result"
    }
   ],
   "source": [
    "EbayesThresh.cauchy_medzero(4,5,0.5)"
   ]
  },
  {
   "cell_type": "markdown",
   "id": "e0ead2f0-02ba-4acc-8965-37dd45c762b2",
   "metadata": {},
   "source": [
    "- R"
   ]
  },
  {
   "cell_type": "markdown",
   "id": "92aa7d5d-7a01-4bf4-8d24-334702bb8648",
   "metadata": {},
   "source": [
    "```R\n",
    "> cauchy.medzero(c(-2,1,0,-4,8,50),c(1,0,2,3,-1,-1),0.5)\n",
    "[1] -0.25356559  0.00000000 -0.09859737 -0.45556313  0.50000000         NaN\n",
    "> cauchy.medzero(4,5,0.5)\n",
    "[1] -0.2194424\n",
    "````"
   ]
  },
  {
   "cell_type": "markdown",
   "id": "9f50954c-d639-40a5-b900-87f7baf9a8f4",
   "metadata": {},
   "source": [
    "# cauchy_threshzero"
   ]
  },
  {
   "cell_type": "markdown",
   "id": "147936f1-48ab-45d3-860d-ff648052dd1c",
   "metadata": {},
   "source": [
    "- cauchy 임계값 찾기 위한 것\n",
    "- 아래에서 반환되는 y가 0에 가깝도록 만들어주는 z를 찾는 과정"
   ]
  },
  {
   "cell_type": "code",
   "execution_count": 21,
   "id": "36371433-adf0-4635-9714-e244292d1e13",
   "metadata": {},
   "outputs": [],
   "source": [
    "z = np.array([1,0,2,3,-1,-1])\n",
    "w = 0.5"
   ]
  },
  {
   "cell_type": "code",
   "execution_count": 23,
   "id": "0a51bc70-37fd-43e2-8382-e8e35a7c02b4",
   "metadata": {},
   "outputs": [
    {
     "data": {
      "text/plain": [
       "array([-0.20389131,  0.        ,  0.09859737,  0.43536407, -0.40263935,\n",
       "       -0.40263935])"
      ]
     },
     "execution_count": 23,
     "metadata": {},
     "output_type": "execute_result"
    }
   ],
   "source": [
    "y = norm.cdf(z) - z * norm.pdf(z) - 1/2 - (z**2 * np.exp(-z**2/2) * (1/w - 1))/2\n",
    "y"
   ]
  },
  {
   "cell_type": "markdown",
   "id": "8b4d7df9-058a-46ed-b7c5-af2776963ce6",
   "metadata": {},
   "source": [
    "$y = pnorm(z) - z \\times dnorm(z) - \\frac{1}{2} - \\frac{z^2 \\exp (\\frac{z^2}{2})(\\frac{1}{w} - 1)}{2}$"
   ]
  },
  {
   "cell_type": "markdown",
   "id": "122ae753-5fa5-4856-aff3-82cb580cf417",
   "metadata": {},
   "source": [
    "- R 코드"
   ]
  },
  {
   "cell_type": "markdown",
   "id": "b244df04-cbfd-4bd5-9373-4d1cc9489f03",
   "metadata": {},
   "source": [
    "```R\n",
    "cauchy.threshzero <- function(z, w) {\n",
    "#    \n",
    "# The objective function that has to be zeroed to find the Cauchy\n",
    "# threshold. z is the putative threshold vector, w is the weight w\n",
    "# can be a vector\n",
    "#\n",
    "    y <- pnorm(z) - z * dnorm(z) - 1/2 -\n",
    "         (z^2 * exp( - z^2/2) * (1/w - 1))/2\n",
    "    return(y)\n",
    "}\n",
    "```"
   ]
  },
  {
   "cell_type": "markdown",
   "id": "64a7c17f-2e55-4453-b8c7-2df45407a401",
   "metadata": {},
   "source": [
    "**결과**"
   ]
  },
  {
   "cell_type": "markdown",
   "id": "b977884e-5d7a-4c91-a4ee-7b073c373415",
   "metadata": {},
   "source": [
    "- Python"
   ]
  },
  {
   "cell_type": "code",
   "execution_count": 5,
   "id": "5096b23d-3dac-4a36-968b-ac979e3a9b9c",
   "metadata": {},
   "outputs": [
    {
     "data": {
      "text/plain": [
       "array([-0.20389131,  0.        ,  0.09859737,  0.43536407, -0.40263935,\n",
       "       -0.40263935])"
      ]
     },
     "execution_count": 5,
     "metadata": {},
     "output_type": "execute_result"
    }
   ],
   "source": [
    "EbayesThresh.cauchy_threshzero(np.array([1,0,2,3,-1,-1]),0.5)"
   ]
  },
  {
   "cell_type": "code",
   "execution_count": 7,
   "id": "8760aa06-b8c9-416e-9f54-6ab88be1496e",
   "metadata": {},
   "outputs": [
    {
     "name": "stderr",
     "output_type": "stream",
     "text": [
      "/home/csy/Dropbox/sy_hub/posts/1_Note/EbayesThresh/utils.py:56: RuntimeWarning: divide by zero encountered in divide\n",
      "  y = norm.cdf(z) - z * norm.pdf(z) - 1/2 - (z**2 * np.exp(-z**2/2) * (1/w - 1))/2\n"
     ]
    },
    {
     "data": {
      "text/plain": [
       "array([-0.20389131,  0.        , -0.26229672,  0.28539262,        -inf,\n",
       "       -2.82876199])"
      ]
     },
     "execution_count": 7,
     "metadata": {},
     "output_type": "execute_result"
    }
   ],
   "source": [
    "EbayesThresh.cauchy_threshzero(np.array([1,0,2,3,-1,-1]),np.array([0.5,0.4,0.3,0.2,0,0.1]))"
   ]
  },
  {
   "cell_type": "markdown",
   "id": "b3b4540a-1f1f-4896-ab54-c90d21dc7c49",
   "metadata": {},
   "source": [
    "- R"
   ]
  },
  {
   "cell_type": "markdown",
   "id": "2248fd27-1a5c-45e6-ac7d-edee562effd1",
   "metadata": {},
   "source": [
    "```R\n",
    "> cauchy.threshzero(c(1,0,2,3,-1,-1),0.5)\n",
    "[1] -0.20389131  0.00000000  0.09859737  0.43536407 -0.40263935 -0.40263935\n",
    "cauchy.threshzero(c(1,0,2,3,-1,-1), c(0.5,0.4,0.3,0.2,0,0.1))\n",
    "[1] -0.2038913  0.0000000 -0.2622967  0.2853926       -Inf -2.8287620\n",
    "```"
   ]
  },
  {
   "cell_type": "markdown",
   "id": "c69a5880-a821-43ce-a951-cc656f135547",
   "metadata": {},
   "source": [
    "# Mad(Median Absolute Deviation)"
   ]
  },
  {
   "cell_type": "markdown",
   "id": "409a95c8-7a6c-4ba5-bd4b-efd388d11c41",
   "metadata": {},
   "source": [
    "> 중앙값 절대 편차, 분산이나 퍼진 정도 확인 가능"
   ]
  },
  {
   "cell_type": "markdown",
   "id": "24288806-0cdc-4a57-bf10-44e2c494ad71",
   "metadata": {},
   "source": [
    "결과"
   ]
  },
  {
   "cell_type": "markdown",
   "id": "0870d0bf-9451-4579-ab1a-17bc640ae1f7",
   "metadata": {},
   "source": [
    "- Python"
   ]
  },
  {
   "cell_type": "code",
   "execution_count": 8,
   "id": "96c83ff1-b6fa-412a-abea-7dd9726c7431",
   "metadata": {},
   "outputs": [
    {
     "data": {
      "text/plain": [
       "2.9652"
      ]
     },
     "execution_count": 8,
     "metadata": {},
     "output_type": "execute_result"
    }
   ],
   "source": [
    "EbayesThresh.mad(np.array([1, 2, 3, 3, 4, 4, 4, 5, 5.5, 6, 6, 6.5, 7, 7, 7.5, 8, 9, 12, 52, 90]))"
   ]
  },
  {
   "cell_type": "markdown",
   "id": "a56cd18f-a662-4208-9bdb-3fab5d962625",
   "metadata": {},
   "source": [
    "- R"
   ]
  },
  {
   "cell_type": "markdown",
   "id": "242d0a36-9afe-4158-a79b-6a7a4c90d3ca",
   "metadata": {},
   "source": [
    "```R\n",
    "> mad(c(1, 2, 3, 3, 4, 4, 4, 5, 5.5, 6, 6, 6.5, 7, 7, 7.5, 8, 9, 12, 52, 90))\n",
    "[1] 2.9652\n",
    "```"
   ]
  },
  {
   "cell_type": "markdown",
   "id": "b200d13b-eea1-4ba0-be51-ce0b0b0ac3f8",
   "metadata": {},
   "source": [
    "# wfromt"
   ]
  },
  {
   "cell_type": "markdown",
   "id": "7a08dabf-81b1-4f6e-bf17-9b01e9ef22c5",
   "metadata": {},
   "source": [
    "Description"
   ]
  },
  {
   "cell_type": "markdown",
   "id": "fa52ee17-339b-4b86-893a-1e2aa5c0c6fe",
   "metadata": {},
   "source": [
    "> Given a value or vector of thresholds and sampling standard deviations (sd equals 1 for Cauchy prior), find the mixing weight for which this is(these are) the threshold(s) of the posterior median estimator. If a vector of threshold values is provided, the vector of corresponding weights is returned."
   ]
  },
  {
   "cell_type": "markdown",
   "id": "bcca8520-e048-41c6-8aee-959e13c47d6e",
   "metadata": {},
   "source": [
    "*주어진 임계값과 표준편차에 대해, posterior median estimator에서 이 임계값이 나오도록 하는 혼합 가중치를 계산하는 함수가 제공된다.*"
   ]
  },
  {
   "cell_type": "code",
   "execution_count": 33,
   "id": "75b9fdf5-3249-4c43-8b3f-7af41d8a1736",
   "metadata": {},
   "outputs": [],
   "source": [
    "# tt = np.array([2,3,5])\n",
    "tt = 2.14\n",
    "s = 1\n",
    "prior = 'laplace\"'\n",
    "a = 0.5"
   ]
  },
  {
   "cell_type": "code",
   "execution_count": 34,
   "id": "6376718e-39ce-463a-8286-e9e8466e5226",
   "metadata": {},
   "outputs": [
    {
     "data": {
      "text/plain": [
       "'l'"
      ]
     },
     "execution_count": 34,
     "metadata": {},
     "output_type": "execute_result"
    }
   ],
   "source": [
    "pr = prior[0:1]\n",
    "pr"
   ]
  },
  {
   "cell_type": "code",
   "execution_count": 35,
   "id": "afaebfd5-dd49-4603-97a2-bd29f901c644",
   "metadata": {},
   "outputs": [],
   "source": [
    "if pr == \"l\":\n",
    "    tma = tt / s - s * a\n",
    "    wi = 1 / np.abs(tma)\n",
    "    if isinstance(wi, (int, float, str, bool)) and tma > -35:\n",
    "        wi = norm.cdf(tma) / norm.pdf(tma)\n",
    "    elif isinstance(wi, (int, float, str, bool)) and tma < -35:\n",
    "        wi = wi\n",
    "    else:\n",
    "        wi[tma > -35] = norm.cdf(tma[tma > -35])/norm.pdf(tma[tma > -35])\n",
    "    wi = a * s * wi - EbayesThresh.beta_laplace(tt, s, a)"
   ]
  },
  {
   "cell_type": "code",
   "execution_count": 36,
   "id": "46cedaf0-91e5-4d06-babd-4fbfeadb353e",
   "metadata": {},
   "outputs": [
    {
     "data": {
      "text/plain": [
       "1.6400000000000001"
      ]
     },
     "execution_count": 36,
     "metadata": {},
     "output_type": "execute_result"
    }
   ],
   "source": [
    "tma"
   ]
  },
  {
   "cell_type": "code",
   "execution_count": 37,
   "id": "1d5ee94f-4204-4dfc-8f3f-de0decabac4b",
   "metadata": {},
   "outputs": [
    {
     "data": {
      "text/plain": [
       "3.1985740994349467"
      ]
     },
     "execution_count": 37,
     "metadata": {},
     "output_type": "execute_result"
    }
   ],
   "source": [
    "wi"
   ]
  },
  {
   "cell_type": "code",
   "execution_count": 38,
   "id": "cc119800-e195-4560-a3ee-8d6e6c944441",
   "metadata": {},
   "outputs": [],
   "source": [
    "if pr == \"c\":\n",
    "    dnz = norm.pdf(tt)\n",
    "    wi = 1 + (norm.cdf(tt) - tt * dnz - 1/2) / (np.sqrt(np.pi/2) * dnz * tt**2)\n",
    "    if isinstance(wi, np.ndarray):\n",
    "        for i in range(len(wi)):\n",
    "            if not np.isfinite(wi[i]):\n",
    "                wi[i] = 1\n",
    "    else:\n",
    "        if not np.isfinite(wi):\n",
    "            wi = 1"
   ]
  },
  {
   "cell_type": "code",
   "execution_count": 39,
   "id": "a6d9bc89-e3a6-4a0e-9dbb-df6eaa23fce1",
   "metadata": {},
   "outputs": [
    {
     "data": {
      "text/plain": [
       "0.31263931017782515"
      ]
     },
     "execution_count": 39,
     "metadata": {},
     "output_type": "execute_result"
    }
   ],
   "source": [
    "1 / wi"
   ]
  },
  {
   "cell_type": "markdown",
   "id": "621b8fc6-fe61-4d6b-924d-6e355e443208",
   "metadata": {},
   "source": [
    "- R코드"
   ]
  },
  {
   "cell_type": "markdown",
   "id": "622cf085-ecf6-48f1-a192-504a5fb3181d",
   "metadata": {},
   "source": [
    "```R\n",
    "wfromt <- function(tt, s = 1, prior = \"laplace\", a = 0.5) {\n",
    "  #\n",
    "  #  Find the weight that has posterior median threshold tt, \n",
    "  #   given s (sd) and a.\n",
    "  #\n",
    "pr <- substring(prior, 1, 1)\n",
    "if(pr == \"l\"){\n",
    "  tma <- tt/s - s*a\n",
    "  wi <- 1/abs(tma)\n",
    "  wi[tma > -35] <- pnorm(tma[tma > -35])/dnorm(tma[tma > -35])\n",
    "  wi <- a * s * wi - beta.laplace(tt, s, a)\n",
    "}\n",
    "if(pr == \"c\") {\n",
    "  dnz <- dnorm(tt)\n",
    "  wi <- 1 + (pnorm(tt) - tt * dnz - 1/2)/\n",
    "    (sqrt(pi/2) * dnz * tt^2)\n",
    "  wi[!is.finite(wi)] <- 1\n",
    "}\n",
    "1/wi\n",
    "}\n",
    "```"
   ]
  },
  {
   "cell_type": "markdown",
   "id": "aaa9711a-0b5d-4dca-9c9c-627dcd3a5170",
   "metadata": {},
   "source": [
    "결과"
   ]
  },
  {
   "cell_type": "markdown",
   "id": "5c46395f-4458-4610-a4b5-49f716638e12",
   "metadata": {},
   "source": [
    "- Python"
   ]
  },
  {
   "cell_type": "code",
   "execution_count": 3,
   "id": "73b44642-ca91-4f3a-a22b-1e8e52944e63",
   "metadata": {},
   "outputs": [
    {
     "data": {
      "text/plain": [
       "array([4.22963403e-01, 9.33799336e-02, 9.31590884e-05])"
      ]
     },
     "execution_count": 3,
     "metadata": {},
     "output_type": "execute_result"
    }
   ],
   "source": [
    "EbayesThresh.wfromt(np.array([2,3,5]),prior='cachy')"
   ]
  },
  {
   "cell_type": "code",
   "execution_count": 4,
   "id": "fb88ee73-ae38-4d45-8644-261900e07228",
   "metadata": {},
   "outputs": [
    {
     "data": {
      "text/plain": [
       "0.4229634032635055"
      ]
     },
     "execution_count": 4,
     "metadata": {},
     "output_type": "execute_result"
    }
   ],
   "source": [
    "EbayesThresh.wfromt(2,prior='cachy')"
   ]
  },
  {
   "cell_type": "code",
   "execution_count": 5,
   "id": "7eb4748a-a1f0-4865-afeb-020e91bcfa4c",
   "metadata": {},
   "outputs": [
    {
     "data": {
      "text/plain": [
       "0.3686337675493349"
      ]
     },
     "execution_count": 5,
     "metadata": {},
     "output_type": "execute_result"
    }
   ],
   "source": [
    "EbayesThresh.wfromt(2,prior='laplace')"
   ]
  },
  {
   "cell_type": "markdown",
   "id": "cd807064-9885-44a3-ab1e-050039bd0f30",
   "metadata": {},
   "source": [
    "- R"
   ]
  },
  {
   "cell_type": "markdown",
   "id": "d6c4d587-607e-4d05-a9b4-8bb78930b0e1",
   "metadata": {},
   "source": [
    "```R\n",
    "> wfromt(c(2,3,5),prior='cachy')\n",
    "[1] 4.229634e-01 9.337993e-02 9.315909e-05\n",
    "> wfromt(2,prior='cachy')\n",
    "[1] 0.4229634\n",
    "> wfromt(2,prior='laplace')\n",
    "[1] 0.3686338\n",
    "```"
   ]
  },
  {
   "cell_type": "markdown",
   "id": "af50c953-86f5-404a-9da9-391602fe988a",
   "metadata": {},
   "source": [
    "# wfromx"
   ]
  },
  {
   "cell_type": "markdown",
   "id": "084e5ec0-40a9-4f63-a3d1-08da93e120d5",
   "metadata": {},
   "source": [
    "Description"
   ]
  },
  {
   "cell_type": "markdown",
   "id": "c96c021e-d361-4967-b5db-7697c7141868",
   "metadata": {},
   "source": [
    "> The weight is found by marginal maximum likelihood. The search is over weights corresponding to threshold $t_i$ in the range $[0, s_i \\sqrt{2 log n}]$ if universalthresh=TRUE, where n is the length of the data vector and $(s_1, ..., s_n$) ($s_i$ is $1$ for Cauchy prior) is the vector of sampling standard deviation of data ($x_1, ..., x_n$); otherwise, the search is over $[0, 1]$. The search is by binary search for a solution to the equation $S(w) = 0$, where $S$ is the derivative of the log likelihood. The binary search is on a logarithmic scale in $w$. If the Laplace prior is used, the scale parameter is fixed at the value given for $a$, and defaults to $0.5$ if no value is provided. To estimate a as well as $w$ by marginal maximum likelihood, use the routine wandafromx."
   ]
  },
  {
   "cell_type": "markdown",
   "id": "6a5ff3ad-8804-4214-aede-2dfa7ae3a4f0",
   "metadata": {},
   "source": [
    "> Suppose the vector $(x_1, \\cdots, x_n)$ is such that $x_i$ is drawn independently from a normal distribution with mean $\\theta_i$ and standard deviation $s_i$ ($s_i$ equals $1$ for Cauchy prior). The prior distribution of the $\\theta_i$ is a mixture with probability $1 − w$ of zero and probability $w$ of a given symmetric heavy-tailed distribution. This routine finds the marginal maximum likelihood estimate of the parameter $w$."
   ]
  },
  {
   "cell_type": "markdown",
   "id": "a5d8a2a2-14bb-4099-86c7-f0bb1799afda",
   "metadata": {},
   "source": [
    "*주어진 정규 분포 데이터에 대해 $\\theta_𝑖$의 사전 분포가 주어진 상황에서, 모수 $w$의 최대우도 추정치를 계산하는 방법을 제공한다*"
   ]
  },
  {
   "cell_type": "code",
   "execution_count": 3,
   "id": "d910390e-7884-4f2d-824d-64a7ab927ae6",
   "metadata": {},
   "outputs": [],
   "source": [
    "s = np.concatenate((np.repeat(0, 90), np.repeat(5, 10)))\n",
    "x = np.random.normal(0, s, size=100)\n",
    "prior = \"cauchy\"\n",
    "a = 0.5\n",
    "universalthresh = True"
   ]
  },
  {
   "cell_type": "code",
   "execution_count": 4,
   "id": "e819cb92-4080-4fd4-813e-bc3304909bdf",
   "metadata": {},
   "outputs": [
    {
     "data": {
      "text/plain": [
       "'c'"
      ]
     },
     "execution_count": 4,
     "metadata": {},
     "output_type": "execute_result"
    }
   ],
   "source": [
    "pr = prior[0:1]\n",
    "pr"
   ]
  },
  {
   "cell_type": "code",
   "execution_count": 5,
   "id": "ff558a6d-ecb5-4760-af49-56c3d14f8b02",
   "metadata": {},
   "outputs": [],
   "source": [
    "if pr == \"c\":\n",
    "    s = 1"
   ]
  },
  {
   "cell_type": "code",
   "execution_count": 7,
   "id": "8b919edc-925a-45d4-af7e-8eb57c5dc8b8",
   "metadata": {},
   "outputs": [],
   "source": [
    "if universalthresh:\n",
    "    tuniv = np.sqrt(2 * np.log(len(x))) * s\n",
    "    wlo = EbayesThresh.wfromt(tuniv, s, prior, a)\n",
    "    wlo = np.max(wlo)\n",
    "else:\n",
    "    wlo = 0"
   ]
  },
  {
   "cell_type": "code",
   "execution_count": 11,
   "id": "1ed46a55-1872-407f-8947-a1ab3ac89aae",
   "metadata": {},
   "outputs": [],
   "source": [
    "if pr == \"l\":\n",
    "    beta = EbayesThresh.beta_laplace(x, s, a)\n",
    "elif pr == \"c\":\n",
    "    beta = EbayesThresh.beta_cauchy(x)"
   ]
  },
  {
   "cell_type": "code",
   "execution_count": 13,
   "id": "40b14a37-93b6-4ea9-8305-c74a09f5eff0",
   "metadata": {},
   "outputs": [],
   "source": [
    "whi = 1\n",
    "beta = np.minimum(beta, 1e20)\n",
    "\n",
    "shi = np.sum(beta / (1 + beta))"
   ]
  },
  {
   "cell_type": "code",
   "execution_count": 15,
   "id": "bd425b93-84eb-4b74-843c-80b07ea8a3ec",
   "metadata": {},
   "outputs": [],
   "source": [
    "if shi >= 0:\n",
    "    shi =  1"
   ]
  },
  {
   "cell_type": "code",
   "execution_count": 17,
   "id": "2bda427d-b7f4-4f17-95ca-e2b8c0b421c5",
   "metadata": {},
   "outputs": [],
   "source": [
    "slo = np.sum(beta / (1 + wlo * beta))"
   ]
  },
  {
   "cell_type": "code",
   "execution_count": 19,
   "id": "bcd6c356-619f-48fb-a0c6-2e9db261aadd",
   "metadata": {},
   "outputs": [],
   "source": [
    "if slo <= 0:\n",
    "    slo = wlo"
   ]
  },
  {
   "cell_type": "code",
   "execution_count": 21,
   "id": "e9b8bf5f-152e-428f-9d38-e5be0cc34ba1",
   "metadata": {},
   "outputs": [],
   "source": [
    "for _ in range(1,31):\n",
    "    wmid = np.sqrt(wlo * whi)\n",
    "    smid = np.sum(beta / (1 + wmid * beta))\n",
    "    if smid == 0:\n",
    "        smid = wmid\n",
    "    if smid > 0:\n",
    "        wlo = wmid\n",
    "    else:\n",
    "        whi = wmid"
   ]
  },
  {
   "cell_type": "code",
   "execution_count": 28,
   "id": "1a967f88-bb8d-441d-97d8-3fd021c36eb9",
   "metadata": {},
   "outputs": [
    {
     "data": {
      "text/plain": [
       "0.08644292644513768"
      ]
     },
     "execution_count": 28,
     "metadata": {},
     "output_type": "execute_result"
    }
   ],
   "source": [
    "np.sqrt(wlo * whi)"
   ]
  },
  {
   "cell_type": "markdown",
   "id": "159ee9bb-2367-4cc2-8091-0f0562eb43a3",
   "metadata": {},
   "source": [
    "- R코드"
   ]
  },
  {
   "cell_type": "markdown",
   "id": "17442d2c-55b3-445e-97c5-61b2b8ebd917",
   "metadata": {},
   "source": [
    "```R\n",
    "wfromx <- function (x, s = 1, prior = \"laplace\", a = 0.5,\n",
    "                    universalthresh = TRUE) {\n",
    "#    \n",
    "#  Given the vector of data x and s (sd),\n",
    "#   find the value of w that zeroes S(w) in the\n",
    "#   range by successive bisection, carrying out nits harmonic bisections\n",
    "#   of the original interval between wlo and 1.  \n",
    "#  \n",
    "\tpr <- substring(prior, 1, 1)\n",
    "\tif(pr == \"c\")\n",
    "          s = 1\n",
    "\tif(universalthresh) {\n",
    "    \t  tuniv <- sqrt(2 * log(length(x))) * s\n",
    "    \t  wlo <- wfromt(tuniv, s, prior, a)\n",
    "    \t  wlo <- max(wlo)\n",
    "\t} else \n",
    "          wlo = 0\n",
    "\tif(pr == \"l\")\n",
    "\t  beta <- beta.laplace(x, s, a)\n",
    "\tif(pr == \"c\")\n",
    "\t  beta <- beta.cauchy(x)\n",
    "\twhi  <- 1\n",
    "\tbeta <- pmin(beta, 1e20) \n",
    "\tshi  <- sum(beta/(1 + beta))\n",
    "\tif(shi >= 0)\n",
    "  \t  return(1)\n",
    "\tslo <- sum(beta/(1 + wlo * beta))\n",
    "\tif(slo <= 0)\n",
    "\t  return(wlo)\n",
    "\tfor(j in (1:30)) {\n",
    "\t  wmid <- sqrt(wlo * whi)\n",
    "\t  smid <- sum(beta/(1 + wmid * beta))\n",
    "\t  if(smid == 0)\n",
    "\t    return(wmid)\n",
    "\t  if(smid > 0)\n",
    "\t    wlo <- wmid\n",
    "  \t  else\n",
    "\t    whi <- wmid\n",
    "        }\n",
    "\treturn(sqrt(wlo * whi))\n",
    "}\n",
    "```"
   ]
  },
  {
   "cell_type": "markdown",
   "id": "9681dbf1-9429-4b9d-bdc3-bb984e7ac99c",
   "metadata": {},
   "source": [
    "결과"
   ]
  },
  {
   "cell_type": "markdown",
   "id": "5ac8f2ea-12f9-448f-a88f-9277a51989db",
   "metadata": {},
   "source": [
    "- Python"
   ]
  },
  {
   "cell_type": "code",
   "execution_count": 30,
   "id": "fc57fdd3-8daf-4885-8e93-6d2b0a9a2bda",
   "metadata": {},
   "outputs": [
    {
     "data": {
      "text/plain": [
       "0.11202819672131105"
      ]
     },
     "execution_count": 30,
     "metadata": {},
     "output_type": "execute_result"
    }
   ],
   "source": [
    "EbayesThresh.wfromx(x= np.random.normal(0, np.concatenate((np.repeat(0, 90), np.repeat(5, 10))), size=100), prior = \"cauchy\")"
   ]
  },
  {
   "cell_type": "markdown",
   "id": "e886347e-d060-4598-a709-32227fd00461",
   "metadata": {},
   "source": [
    "- R"
   ]
  },
  {
   "cell_type": "markdown",
   "id": "89d2b4d2-1ffe-4397-8d2c-7f514468df2e",
   "metadata": {},
   "source": [
    "```R\n",
    "> wfromx(x = rnorm(100, s = c(rep(0,90),rep(5,10))), prior = \"cauchy\")\n",
    "[1] 0.116067\n",
    "```"
   ]
  },
  {
   "cell_type": "markdown",
   "id": "d225619e-6edc-4877-b6b8-fb997e937bdd",
   "metadata": {},
   "source": [
    "# isotone"
   ]
  },
  {
   "cell_type": "markdown",
   "id": "d5be0587-9901-46a3-8ae7-85cfdf92d207",
   "metadata": {},
   "source": [
    "> Isotonic Regression은 입력 변수에 따른 출력 변수의 단조 증가(monotonic increasing) 또는 감소(monotonic decreasing) 패턴을 찾는 방법"
   ]
  },
  {
   "cell_type": "code",
   "execution_count": 4,
   "id": "8ef6ca18-5787-45bd-8b12-7e8102dd08e9",
   "metadata": {},
   "outputs": [],
   "source": [
    "beta = EbayesThresh.beta_cauchy(np.array([-2,1,0,-4]))\n",
    "w = np.ones(len(beta))\n",
    "aa = w + 1/beta\n",
    "x = w + aa\n",
    "wt = 1/aa**2\n",
    "increasing = False"
   ]
  },
  {
   "cell_type": "code",
   "execution_count": 5,
   "id": "26584b11-31c2-48dc-b880-c015a9475489",
   "metadata": {},
   "outputs": [],
   "source": [
    "nn = len(x)"
   ]
  },
  {
   "cell_type": "code",
   "execution_count": 6,
   "id": "f5dca878-ed14-465c-b0ba-d64c3e24d653",
   "metadata": {},
   "outputs": [],
   "source": [
    "if nn == 1:\n",
    "    x = x"
   ]
  },
  {
   "cell_type": "code",
   "execution_count": 7,
   "id": "1ef1b57d-eb1d-402b-8d8e-c157e3c06dd3",
   "metadata": {},
   "outputs": [],
   "source": [
    "if not increasing:\n",
    "    x = -x"
   ]
  },
  {
   "cell_type": "code",
   "execution_count": 8,
   "id": "3e95c72d-b81c-4aa5-9655-9b0c0d601e47",
   "metadata": {},
   "outputs": [],
   "source": [
    "ip = np.arange(1, nn+1)\n",
    "dx = np.diff(x)\n",
    "nx = len(x)"
   ]
  },
  {
   "cell_type": "code",
   "execution_count": 9,
   "id": "8028188c-e899-424f-9d39-1f39e20e90f2",
   "metadata": {},
   "outputs": [],
   "source": [
    "jmax = np.arange(nx)[(np.concatenate((dx <= 0, [False])) & np.concatenate(([True], dx > 0)))]\n",
    "jmin = np.arange(nx)[(np.concatenate((dx > 0, [True])) & np.concatenate(([False], dx <= 0)))]"
   ]
  },
  {
   "cell_type": "code",
   "execution_count": 12,
   "id": "4c6a33bb-2fca-45b0-b313-419f51b24bfb",
   "metadata": {},
   "outputs": [],
   "source": [
    "jb=0\n",
    "ind = np.arange(jmax[jb], jmin[jb]+1)\n",
    "wtn = np.sum(wt[ind])"
   ]
  },
  {
   "cell_type": "code",
   "execution_count": 16,
   "id": "3add6e69-8e99-43ab-a623-173300cdc65d",
   "metadata": {},
   "outputs": [],
   "source": [
    "x[jmax[jb]] = np.sum(wt[ind] * x[ind]) / wtn"
   ]
  },
  {
   "cell_type": "code",
   "execution_count": 18,
   "id": "d6af3f80-2d9f-4a98-9df2-e8caf8225e5d",
   "metadata": {},
   "outputs": [],
   "source": [
    "wt[jmax[jb]] = wtn"
   ]
  },
  {
   "cell_type": "code",
   "execution_count": 20,
   "id": "c722b951-9843-43c4-89d0-ab69ff3ddefc",
   "metadata": {},
   "outputs": [],
   "source": [
    "x[jmax[jb]+1:jmin[jb]+1] = np.nan"
   ]
  },
  {
   "cell_type": "code",
   "execution_count": 24,
   "id": "81d97202-cc81-4f28-abc5-c31e050f0fdf",
   "metadata": {},
   "outputs": [],
   "source": [
    "# Clean up within iteration, eliminating the parts of sequences that\n",
    "# were set to NA\n",
    "ind = ~np.isnan(x)\n",
    "x = x[ind]\n",
    "wt = wt[ind]\n",
    "ip = ip[ind]\n",
    "dx = np.diff(x)\n",
    "nx = len(x)"
   ]
  },
  {
   "cell_type": "code",
   "execution_count": 25,
   "id": "dedc1ef1-5c13-4cb3-b9f7-3535cf7a80d6",
   "metadata": {},
   "outputs": [],
   "source": [
    "# Final cleanup: reconstruct z at all points by repeating the pooled\n",
    "# values the appropriate number of times\n",
    "jj = np.zeros(nn, dtype=int)\n",
    "jj[ip - 1] = 1\n",
    "z = x[np.cumsum(jj) - 1]"
   ]
  },
  {
   "cell_type": "code",
   "execution_count": 26,
   "id": "a8d9273c-e277-485a-af16-fa216fde39ff",
   "metadata": {},
   "outputs": [],
   "source": [
    "if not increasing:\n",
    "    z = -z"
   ]
  },
  {
   "cell_type": "code",
   "execution_count": 27,
   "id": "7a065097-c35a-4734-8eca-7d03d5f40cca",
   "metadata": {},
   "outputs": [
    {
     "data": {
      "text/plain": [
       "array([3.67430141, 0.76041105, 0.76041105, 0.76041105])"
      ]
     },
     "execution_count": 27,
     "metadata": {},
     "output_type": "execute_result"
    }
   ],
   "source": [
    "z"
   ]
  },
  {
   "cell_type": "markdown",
   "id": "7d0229b9-2026-4e58-83c7-9199009b913b",
   "metadata": {},
   "source": [
    "R코드"
   ]
  },
  {
   "cell_type": "markdown",
   "id": "25a3edbe-4d3b-4a8e-8461-f8440e81e3ce",
   "metadata": {},
   "source": [
    "```R\n",
    "isotone <- function(x, wt = rep(1, length(x)), increasing = FALSE) {\n",
    "#\n",
    "#   find the weighted least squares isotone fit to the \n",
    "#   sequence x, the weights given by the sequence wt\n",
    "#\n",
    "#   if increasing == TRUE the curve is set to be increasing, \n",
    "#   otherwise to be decreasing\n",
    "#\n",
    "#   the vector ip contains the indices on the original scale of the\n",
    "#   breaks in the regression at each stage\n",
    "#\n",
    "\tnn <- length(x)\n",
    "\tif(nn == 1)\n",
    "\t\treturn(x)\n",
    "\tif(!increasing)\n",
    "\t\tx <-  - x\n",
    "\tip <- (1:nn)\n",
    "\tdx <- diff(x)\n",
    "\tnx <- length(x)\n",
    "\twhile((nx > 1) && (min(dx) < 0)) {\n",
    "#\n",
    "#  do single pool-adjacent-violators step\n",
    "#\n",
    "#  find all local minima and maxima\n",
    "#\n",
    "\t\tjmax <- (1:nx)[c(dx <= 0, FALSE) & c(TRUE, dx > 0)]\n",
    "\t\tjmin <- (1:nx)[c(dx > 0, TRUE) & c(FALSE, dx <= 0)]\n",
    "#  do pav step for each pair of maxima and minima\n",
    "#\n",
    "#  add up weights within subsequence that is pooled\n",
    "#  set first element of subsequence to the weighted average\n",
    "#  the first weight to the sum of the weights within the subsequence\n",
    "#    and remainder of the subsequence to NA\n",
    "#\n",
    "\t\tfor(jb in (1:length(jmax))) {\n",
    "\t\t\tind <- (jmax[jb]:jmin[jb])\n",
    "\t\t\twtn <- sum(wt[ind])\n",
    "\t\t\tx[jmax[jb]] <- sum(wt[ind] * x[ind])/wtn\n",
    "\t\t\twt[jmax[jb]] <- wtn\n",
    "\t\t\tx[(jmax[jb] + 1):jmin[jb]] <- NA\n",
    "\t\t}\n",
    "#\n",
    "#  clean up within iteration, eliminating the parts of sequences that\n",
    "#  were set to NA\n",
    "#\n",
    "\t\tind <- !is.na(x)\n",
    "\t\tx <- x[ind]\n",
    "\t\twt <- wt[ind]\n",
    "\t\tip <- ip[ind]\n",
    "\t\tdx <- diff(x)\n",
    "\t\tnx <- length(x)\n",
    "\t}\n",
    "# \n",
    "#  final cleanup: reconstruct z at all points by repeating the pooled\n",
    "#    values the appropriate number of times\n",
    "#\n",
    "\tjj <- rep(0, nn)\n",
    "\tjj[ip] <- 1\n",
    "\tz <- x[cumsum(jj)]\n",
    "\tif(!increasing)\n",
    "\t\tz <-  - z\n",
    "\treturn(z)\n",
    "}\n",
    "```"
   ]
  },
  {
   "cell_type": "markdown",
   "id": "7f6abe56-8126-4891-8e39-500c243cceae",
   "metadata": {},
   "source": [
    "결과"
   ]
  },
  {
   "cell_type": "markdown",
   "id": "ec0ee0fa-392b-4441-9593-d36c107dd550",
   "metadata": {},
   "source": [
    "- Python"
   ]
  },
  {
   "cell_type": "code",
   "execution_count": 3,
   "id": "50d3f97e-3039-4325-98ab-205c5eacc612",
   "metadata": {},
   "outputs": [
    {
     "data": {
      "text/plain": [
       "[3.67430141208924, 0.760411047043364, 0.760411047043364, 0.760411047043364]"
      ]
     },
     "execution_count": 3,
     "metadata": {},
     "output_type": "execute_result"
    }
   ],
   "source": [
    "beta = EbayesThresh.beta_cauchy(np.array([-2,1,0,-4]))\n",
    "w = np.ones(len(beta))\n",
    "aa = w + 1/beta\n",
    "ps = w + aa\n",
    "ww = 1/aa**2\n",
    "wnew = EbayesThresh.isotone(ps, ww, increasing = False)\n",
    "wnew"
   ]
  },
  {
   "cell_type": "markdown",
   "id": "f968dc3c-f248-440c-b0c4-d40e7e45accb",
   "metadata": {},
   "source": [
    "R"
   ]
  },
  {
   "cell_type": "markdown",
   "id": "9735ce6c-a229-4c7c-8d24-b271485f02d2",
   "metadata": {},
   "source": [
    "```R\n",
    "> beta <- beta.cauchy(c(-2,1,0,-4))\n",
    "> w <- rep(1, length(x))\n",
    "> aa = w + 1/beta\n",
    "> ps = w + aa\n",
    "> ww = 1/aa**2\n",
    "> wnew = isotone(ps, ww, increasing = FALSE)\n",
    "> wnew\n",
    "[1] 3.674301 0.760411 0.760411 0.760411\n",
    "```"
   ]
  },
  {
   "cell_type": "markdown",
   "id": "74a01364-da90-456f-9d61-8160da684753",
   "metadata": {},
   "source": [
    "# wmonfromx"
   ]
  },
  {
   "cell_type": "markdown",
   "id": "587a1573-eca4-467a-8e3a-1a4028a8d33a",
   "metadata": {},
   "source": [
    "> Given a vector of data, find the marginal maximum likelihood choice of weight sequence subject to the constraints that the weights are monotone decreasing"
   ]
  },
  {
   "cell_type": "markdown",
   "id": "38ceac71-1926-44bc-83f1-c08d724c92c0",
   "metadata": {},
   "source": [
    "*데이터에 대해 가중치 시퀀스를 선택하는 과정에서 조건이 주어지는데, 이 가중치 시퀀스는 각각의 가중치 값이 단조 감소해야 하며, 주어진 데이터에 대한 최대 우도를 갖도록 선택되어야 함.*"
   ]
  },
  {
   "cell_type": "code",
   "execution_count": 6,
   "id": "3aa2177c-5d49-41f7-8de1-03ad794876fb",
   "metadata": {},
   "outputs": [],
   "source": [
    "xd = np.random.normal(0, 1, size=10)\n",
    "prior = \"laplace\"\n",
    "a = 0.5\n",
    "tol = 1e-08\n",
    "maxits = 20"
   ]
  },
  {
   "cell_type": "code",
   "execution_count": 7,
   "id": "001fbe8c-ff43-4a1b-9dec-37f68d8c8ec2",
   "metadata": {},
   "outputs": [
    {
     "data": {
      "text/plain": [
       "'l'"
      ]
     },
     "execution_count": 7,
     "metadata": {},
     "output_type": "execute_result"
    }
   ],
   "source": [
    "pr = prior[0:1]\n",
    "pr"
   ]
  },
  {
   "cell_type": "code",
   "execution_count": 8,
   "id": "b5465c74-ce75-4766-8336-3cdac24f412b",
   "metadata": {},
   "outputs": [
    {
     "data": {
      "text/plain": [
       "10"
      ]
     },
     "execution_count": 8,
     "metadata": {},
     "output_type": "execute_result"
    }
   ],
   "source": [
    "nx = len(xd)\n",
    "nx"
   ]
  },
  {
   "cell_type": "code",
   "execution_count": 9,
   "id": "432b7102-4761-4e74-92fe-cb3fdf506c66",
   "metadata": {},
   "outputs": [
    {
     "data": {
      "text/plain": [
       "0.31029680918570224"
      ]
     },
     "execution_count": 9,
     "metadata": {},
     "output_type": "execute_result"
    }
   ],
   "source": [
    "wmin = EbayesThresh.wfromt(np.sqrt(2 * np.log(len(xd))), prior=prior, a=a)\n",
    "wmin"
   ]
  },
  {
   "cell_type": "code",
   "execution_count": 12,
   "id": "efbff82a-6850-4c50-bab5-eca5c437e9cd",
   "metadata": {},
   "outputs": [
    {
     "data": {
      "text/plain": [
       "1"
      ]
     },
     "execution_count": 12,
     "metadata": {},
     "output_type": "execute_result"
    }
   ],
   "source": [
    "winit = 1\n",
    "winit"
   ]
  },
  {
   "cell_type": "code",
   "execution_count": 14,
   "id": "212aeb05-8200-4fa8-acb2-a40d05bd2764",
   "metadata": {},
   "outputs": [],
   "source": [
    "if pr == \"l\":\n",
    "    beta = EbayesThresh.beta_laplace(xd, a=a)\n",
    "if pr == \"c\":\n",
    "    beta = EbayesThresh.beta_cauchy(xd)"
   ]
  },
  {
   "cell_type": "code",
   "execution_count": 15,
   "id": "413dc397-1929-426c-b009-5aa31042e5b2",
   "metadata": {},
   "outputs": [
    {
     "data": {
      "text/plain": [
       "array([1, 1, 1, 1, 1, 1, 1, 1, 1, 1])"
      ]
     },
     "execution_count": 15,
     "metadata": {},
     "output_type": "execute_result"
    }
   ],
   "source": [
    "w = np.repeat(winit, len(beta))\n",
    "w"
   ]
  },
  {
   "cell_type": "code",
   "execution_count": 21,
   "id": "462512a3-e114-4c03-bf83-28abd61791ac",
   "metadata": {},
   "outputs": [],
   "source": [
    "for j in range(maxits):\n",
    "    aa = w + 1 / beta\n",
    "    ps = w + aa\n",
    "    ww = 1 / aa ** 2\n",
    "    wnew = EbayesThresh.isotone(ps, ww, increasing=False)\n",
    "    wnew = np.maximum(wmin, wnew)\n",
    "    wnew = np.minimum(1, wnew)\n",
    "    zinc = np.max(np.abs(np.diff(wnew)))\n",
    "    w = wnew\n",
    "    # if zinc < tol:\n",
    "    #     return w"
   ]
  },
  {
   "cell_type": "code",
   "execution_count": null,
   "id": "2496f0ea-5005-467b-9e0a-0669d7d2eb28",
   "metadata": {},
   "outputs": [],
   "source": [
    "warnings.filterwarnings(\"More iterations required to achieve convergence\")"
   ]
  },
  {
   "cell_type": "markdown",
   "id": "c03233a2-36ab-4988-bd3a-ca97e5a7104c",
   "metadata": {},
   "source": [
    "R코드"
   ]
  },
  {
   "cell_type": "markdown",
   "id": "623f9ff3-ea10-4acd-a020-939fb44289ac",
   "metadata": {},
   "source": [
    "```R\n",
    "wmonfromx <- function (xd, prior = \"laplace\", a = 0.5,\n",
    "                       tol = 1e-08, maxits = 20) {\n",
    "#\n",
    "#  Find the monotone marginal maximum likelihood estimate of the\n",
    "#   mixing weights for the Laplace prior with parameter a.  It is\n",
    "#   assumed that the noise variance is equal to one.\n",
    "#\n",
    "#  Find the beta values and the minimum weight\n",
    "#  \n",
    "#  Current version allows for standard deviation of 1 only.\n",
    "#\n",
    "\tpr <- substring(prior, 1, 1)\n",
    "\tnx <- length(xd)\n",
    "\twmin <- wfromt(sqrt(2 * log(length(xd))), prior=prior, a=a)\n",
    "\twinit <- 1\n",
    "\tif(pr == \"l\")\n",
    "\t  beta <- beta.laplace(xd, a=a)\n",
    "\tif(pr == \"c\")\n",
    "           beta <- beta.cauchy(xd)\n",
    "        \n",
    "#   now conduct iterated weighted least squares isotone regression\n",
    "#    \n",
    "\tw <- rep(winit, length(beta))\n",
    "\tfor(j in (1:maxits)) {\n",
    "\t\taa <- w + 1/beta\n",
    "\t\tps <- w + aa\n",
    "\t\tww <- 1/aa^2\n",
    "\t\twnew <- isotone(ps, ww, increasing = FALSE)\n",
    "\t\twnew <- pmax(wmin, wnew)\n",
    "\t\twnew <- pmin(1, wnew)\n",
    "\t\tzinc <- max(abs(range(wnew - w)))\n",
    "\t\tw <- wnew\n",
    "\t\tif(zinc < tol)\n",
    " \t\t  return(w)\n",
    "\t}\n",
    "        \n",
    "\twarning(\"More iterations required to achieve convergence\")\n",
    "\treturn(w)\n",
    "}\n",
    "```"
   ]
  },
  {
   "cell_type": "markdown",
   "id": "88f78575-d84c-4506-ac01-e43e855e0c2e",
   "metadata": {},
   "source": [
    "결과"
   ]
  },
  {
   "cell_type": "markdown",
   "id": "3153039a-cf5e-405e-bfc4-b6fe92440549",
   "metadata": {},
   "source": [
    "- Python"
   ]
  },
  {
   "cell_type": "code",
   "execution_count": 11,
   "id": "97c98c4a-4cd9-454c-877d-5f6a381ca9c4",
   "metadata": {},
   "outputs": [
    {
     "data": {
      "text/plain": [
       "array([0.31029681, 0.31029681, 0.31029681, 0.31029681, 0.31029681,\n",
       "       0.31029681, 0.31029681, 0.31029681, 0.31029681, 0.31029681])"
      ]
     },
     "execution_count": 11,
     "metadata": {},
     "output_type": "execute_result"
    }
   ],
   "source": [
    "EbayesThresh.wmonfromx(xd = np.random.normal(0, 1, size=10), prior = \"laplace\")"
   ]
  },
  {
   "cell_type": "markdown",
   "id": "90c6f81f-77cb-4171-aca6-bd9d47c528b6",
   "metadata": {},
   "source": [
    "- R"
   ]
  },
  {
   "cell_type": "markdown",
   "id": "fc4aca82-9a0c-4cd8-a222-5403a91bce0a",
   "metadata": {},
   "source": [
    "```R\n",
    "> wmonfromx(xd <- rnorm(10,0,1), prior = \"laplace\")\n",
    " [1] 0.3102968 0.3102968 0.3102968 0.3102968 0.3102968 0.3102968 0.3102968 0.3102968 0.3102968 0.3102968\n",
    "```"
   ]
  },
  {
   "cell_type": "markdown",
   "id": "438c952a-faac-4dc0-92ec-ca0d66d02dc3",
   "metadata": {},
   "source": [
    "> wmonfromx(xd=rnorm(5, s = 1), prior = \"laplace\", a = 0.5, tol = 1e-08, maxits = 20)\n",
    "[1] 0.9363989 0.9363989 0.9363989 0.4522184 0.4522184"
   ]
  },
  {
   "cell_type": "markdown",
   "id": "d1ba29f1-17ba-44d7-bc9c-56b1669ca307",
   "metadata": {},
   "source": [
    "# threshld"
   ]
  },
  {
   "cell_type": "markdown",
   "id": "a35b5df0-5c82-45d7-8fc6-fd50c0ea9baf",
   "metadata": {},
   "source": [
    "> 임계값 t를 이용해서 데이터 조정"
   ]
  },
  {
   "cell_type": "code",
   "execution_count": 7,
   "id": "216a09d4-da51-471d-be9b-f073944c71d2",
   "metadata": {},
   "outputs": [],
   "source": [
    "x = np.array(range(-5,5))\n",
    "t=1.4\n",
    "hard=False"
   ]
  },
  {
   "cell_type": "code",
   "execution_count": 8,
   "id": "1898d591-06c0-4723-afda-a01f081ee379",
   "metadata": {},
   "outputs": [],
   "source": [
    "if hard:\n",
    "    z = x * (np.abs(x) >= t)\n",
    "else:\n",
    "    z = np.sign(x) * np.maximum(0, np.abs(x) - t)"
   ]
  },
  {
   "cell_type": "code",
   "execution_count": 9,
   "id": "043604e6-2845-48fa-9630-c101da258b50",
   "metadata": {},
   "outputs": [
    {
     "data": {
      "text/plain": [
       "array([-3.6, -2.6, -1.6, -0.6, -0. ,  0. ,  0. ,  0.6,  1.6,  2.6])"
      ]
     },
     "execution_count": 9,
     "metadata": {},
     "output_type": "execute_result"
    }
   ],
   "source": [
    "z"
   ]
  },
  {
   "cell_type": "markdown",
   "id": "316cc785-4cb7-4a41-870f-b7e902a25b27",
   "metadata": {},
   "source": [
    "R코드"
   ]
  },
  {
   "cell_type": "markdown",
   "id": "d483c17d-1429-4069-959c-3ee0ec697503",
   "metadata": {},
   "source": [
    "```R\n",
    "threshld <- function(x, t, hard = TRUE) {\n",
    "#\n",
    "#  threshold the data x using threshold t\n",
    "#  if hard=TRUE use hard thresholding\n",
    "#  if hard=FALSE use soft thresholding\n",
    "\tif(hard) z <- x * (abs(x) >= t) else {\n",
    "\t\tz <- sign(x) * pmax(0, abs(x) - t)\n",
    "\t}\n",
    "\treturn(z)\n",
    "}\n",
    "```"
   ]
  },
  {
   "cell_type": "markdown",
   "id": "ada81986-d797-4872-807b-d935b6769b0a",
   "metadata": {},
   "source": [
    "결과"
   ]
  },
  {
   "cell_type": "markdown",
   "id": "913e39bd-cbe8-422e-8319-7a47cf50140e",
   "metadata": {},
   "source": [
    "- Python"
   ]
  },
  {
   "cell_type": "code",
   "execution_count": 3,
   "id": "0207eaa7-ba48-48ac-abef-b0bf0ddccd0c",
   "metadata": {},
   "outputs": [
    {
     "data": {
      "text/plain": [
       "array([-3.6, -2.6, -1.6, -0.6, -0. ,  0. ,  0. ,  0.6,  1.6,  2.6])"
      ]
     },
     "execution_count": 3,
     "metadata": {},
     "output_type": "execute_result"
    }
   ],
   "source": [
    "EbayesThresh.threshld(np.array(range(-5,5)), t=1.4, hard=False)"
   ]
  },
  {
   "cell_type": "markdown",
   "id": "f1ec3071-cf6b-4725-9af8-f62a03217d5e",
   "metadata": {},
   "source": [
    "- R"
   ]
  },
  {
   "cell_type": "markdown",
   "id": "9ff5e3cb-4cdc-459d-93af-95d8f83e6603",
   "metadata": {},
   "source": [
    "```R\n",
    "> threshld(as.array(seq(-5, 5)), t=1.4, hard=FALSE)\n",
    " [1] -3.6 -2.6 -1.6 -0.6  0.0  0.0  0.0  0.6  1.6  2.6  3.6\n",
    " ```"
   ]
  },
  {
   "cell_type": "markdown",
   "id": "92547c48-ed40-4d31-a4b5-4ff0a2611dc7",
   "metadata": {},
   "source": [
    "# negloglik_laplace"
   ]
  },
  {
   "cell_type": "markdown",
   "id": "e31a9d26-36be-434e-89f2-23c03e443032",
   "metadata": {},
   "source": [
    "> Marginal negative log likelihood function for laplace prior."
   ]
  },
  {
   "cell_type": "markdown",
   "id": "b3bd11fb-fa5b-4a16-9660-4c108196c7ae",
   "metadata": {},
   "source": [
    "- 라플라스 프라이어에 대한 한계음의로그우도함수 계산"
   ]
  },
  {
   "cell_type": "code",
   "execution_count": 11,
   "id": "3388f296-4220-41f8-ac14-38c7e1639ed9",
   "metadata": {},
   "outputs": [],
   "source": [
    "xpar = np.array([0.5,0.6,0.3])\n",
    "xx = np.array([1,2,3,4,5])\n",
    "ss = np.array([1])\n",
    "tlo = np.sqrt(2 * np.log(len(np.array([1,2,3,4,5])))) * 1\n",
    "thi = np.array([0,0,0])"
   ]
  },
  {
   "cell_type": "code",
   "execution_count": 13,
   "id": "31bada3e-722f-41ec-b155-bfa4cb879474",
   "metadata": {},
   "outputs": [
    {
     "data": {
      "text/plain": [
       "0.6"
      ]
     },
     "execution_count": 13,
     "metadata": {},
     "output_type": "execute_result"
    }
   ],
   "source": [
    "a = xpar[1]\n",
    "a"
   ]
  },
  {
   "cell_type": "code",
   "execution_count": 15,
   "id": "d8d04b71-f069-4bc9-8d21-5179c4c1bc61",
   "metadata": {},
   "outputs": [
    {
     "data": {
      "text/plain": [
       "array([1., 1., 1.])"
      ]
     },
     "execution_count": 15,
     "metadata": {},
     "output_type": "execute_result"
    }
   ],
   "source": [
    "wlo = EbayesThresh.wfromt(thi, ss, a=a)\n",
    "wlo"
   ]
  },
  {
   "cell_type": "code",
   "execution_count": 17,
   "id": "454272d4-f558-4032-9791-a2396790ea45",
   "metadata": {},
   "outputs": [
    {
     "data": {
      "text/plain": [
       "array([0.44528236])"
      ]
     },
     "execution_count": 17,
     "metadata": {},
     "output_type": "execute_result"
    }
   ],
   "source": [
    "whi = EbayesThresh.wfromt(tlo, ss, a=a)\n",
    "whi"
   ]
  },
  {
   "cell_type": "code",
   "execution_count": 18,
   "id": "21855ded-2844-4316-811c-0853bbb2e1d1",
   "metadata": {},
   "outputs": [
    {
     "data": {
      "text/plain": [
       "1.0"
      ]
     },
     "execution_count": 18,
     "metadata": {},
     "output_type": "execute_result"
    }
   ],
   "source": [
    "wlo = np.max(wlo)\n",
    "wlo"
   ]
  },
  {
   "cell_type": "code",
   "execution_count": 19,
   "id": "afd2b72a-45c8-48c7-8718-e616ec3baafd",
   "metadata": {},
   "outputs": [
    {
     "data": {
      "text/plain": [
       "0.44528236200207744"
      ]
     },
     "execution_count": 19,
     "metadata": {},
     "output_type": "execute_result"
    }
   ],
   "source": [
    "whi = np.min(whi)\n",
    "whi"
   ]
  },
  {
   "cell_type": "code",
   "execution_count": 22,
   "id": "b6254c74-3006-4f30-940f-418530e28e18",
   "metadata": {},
   "outputs": [
    {
     "data": {
      "text/plain": [
       "-16.797273710172206"
      ]
     },
     "execution_count": 22,
     "metadata": {},
     "output_type": "execute_result"
    }
   ],
   "source": [
    "loglik = np.sum(np.log(1 + (xpar[0] * (whi - wlo) + wlo) *\n",
    "                           EbayesThresh.beta_laplace(xx, ss, a)))\n",
    "-loglik"
   ]
  },
  {
   "cell_type": "markdown",
   "id": "252b91db-da2e-420c-b3d1-6cbc8296b27b",
   "metadata": {},
   "source": [
    "R코드"
   ]
  },
  {
   "cell_type": "markdown",
   "id": "efff73e1-8bd5-43db-897b-55d0839d9517",
   "metadata": {},
   "source": [
    "```R\n",
    "negloglik.laplace <- function(xpar, xx, ss, tlo, thi) {\n",
    "#\n",
    "#  Marginal negative log likelihood function for laplace prior. \n",
    "#   Constraints for thresholds need to be passed externally.\n",
    "#  \n",
    "#  xx   :data\n",
    "#  xpar :vector of two parameters:\n",
    "#      xpar[1] : a value between [0, 1] which will be adjusted to range of w \n",
    "#      xpar[2] : inverse scale (rate) parameter (\"a\")\n",
    "#  ss   :vector of standard deviations\n",
    "#  tlo  :lower bound of thresholds\n",
    "#  thi  :upper bound of thresholds\n",
    "#\n",
    "\ta <- xpar[2]\n",
    "        \n",
    "        # Calculate the range of w given a, using negative monotonicity\n",
    "        # between w and t\n",
    "\twlo <- wfromt(thi, ss, a = a)\n",
    "\twhi <- wfromt(tlo, ss, a = a)\n",
    "\twlo <- max(wlo)\n",
    "\twhi <- min(whi)\n",
    "\tloglik <- sum(log(1 + (xpar[1] * (whi - wlo) + wlo) *\n",
    "                          beta.laplace(xx, ss, a)))\n",
    "\treturn(-loglik)\n",
    "}\n",
    "```"
   ]
  },
  {
   "cell_type": "markdown",
   "id": "f665911b-375c-4426-a5fc-95a2df735b79",
   "metadata": {},
   "source": [
    "결과"
   ]
  },
  {
   "cell_type": "markdown",
   "id": "2e7dec81-6e85-4050-aafc-283aa1836f1b",
   "metadata": {},
   "source": [
    "- Python"
   ]
  },
  {
   "cell_type": "code",
   "execution_count": 23,
   "id": "fa6f36cd-c343-4a35-8e77-bdb85fd10f44",
   "metadata": {},
   "outputs": [],
   "source": [
    "xpar = np.array([0.5,0.6,0.3])\n",
    "xx = np.array([1,2,3,4,5])\n",
    "ss = np.array([1])\n",
    "tlo = np.sqrt(2 * np.log(len(np.array([1,2,3,4,5])))) * 1\n",
    "thi = np.array([0,0,0])"
   ]
  },
  {
   "cell_type": "code",
   "execution_count": 24,
   "id": "9afd8514-1c47-4e5d-b70f-a94490fd04a2",
   "metadata": {},
   "outputs": [
    {
     "data": {
      "text/plain": [
       "-16.797273710172206"
      ]
     },
     "execution_count": 24,
     "metadata": {},
     "output_type": "execute_result"
    }
   ],
   "source": [
    "EbayesThresh.negloglik_laplace(xpar, xx, ss, tlo, thi)"
   ]
  },
  {
   "cell_type": "markdown",
   "id": "e8fa09c3-92b9-4002-9743-0c5ab7e5d28f",
   "metadata": {},
   "source": [
    "- R"
   ]
  },
  {
   "cell_type": "markdown",
   "id": "c5ce5ccc-589e-4ac9-93e1-cc1bb8ec61ce",
   "metadata": {},
   "source": [
    "```R\n",
    "> xpar <- c(0.5, 0.6, 0.3)\n",
    "> xx <- c(1, 2, 3, 4, 5)\n",
    "> ss <- c(1)\n",
    "> tlo <- sqrt(2 * log(length(c(1, 2, 3, 4, 5)))) * 1\n",
    "> thi <- c(0, 0, 0)\n",
    "> negloglik.laplace(xpar, xx, ss, tlo, thi)\n",
    "[1] -16.79727\n",
    "```"
   ]
  },
  {
   "cell_type": "markdown",
   "id": "ed7715e2-bc87-4fb0-9f35-0809ad745db8",
   "metadata": {},
   "source": [
    "# postmean_cauchy"
   ]
  },
  {
   "cell_type": "markdown",
   "id": "0abf26ab-4776-4005-9295-3b439bc843c6",
   "metadata": {},
   "source": [
    "> Find the posterior mean for the quasi-Cauchy prior with mixing weight w given data x, which may be a scalar or a vector."
   ]
  },
  {
   "cell_type": "markdown",
   "id": "754501e6-a37c-4200-8343-508c1d671da6",
   "metadata": {},
   "source": [
    "- quasi-Cauch에 대한 사후 평균 구하기"
   ]
  },
  {
   "cell_type": "code",
   "execution_count": 48,
   "id": "b74b235e-0245-475b-bc8b-52e5c04e9d8f",
   "metadata": {},
   "outputs": [],
   "source": [
    "x = np.array([-2,1,0,-4,8,50], dtype=float)\n",
    "w = 0.5"
   ]
  },
  {
   "cell_type": "code",
   "execution_count": 49,
   "id": "7f4b628e-bd89-4eca-8f1d-0f54163eaa16",
   "metadata": {},
   "outputs": [],
   "source": [
    "muhat = x"
   ]
  },
  {
   "cell_type": "code",
   "execution_count": 50,
   "id": "55c88c28-9fae-4b7d-999b-99ed3c854bb7",
   "metadata": {},
   "outputs": [
    {
     "data": {
      "text/plain": [
       "array([False, False,  True, False, False, False])"
      ]
     },
     "execution_count": 50,
     "metadata": {},
     "output_type": "execute_result"
    }
   ],
   "source": [
    "ind = (x == 0)\n",
    "ind"
   ]
  },
  {
   "cell_type": "code",
   "execution_count": 51,
   "id": "3b6529fb-1ab0-4c47-9a47-f95b5c7825be",
   "metadata": {},
   "outputs": [
    {
     "data": {
      "text/plain": [
       "array([-2.,  1., -4.,  8., 50.])"
      ]
     },
     "execution_count": 51,
     "metadata": {},
     "output_type": "execute_result"
    }
   ],
   "source": [
    "x = x[~ind]\n",
    "x"
   ]
  },
  {
   "cell_type": "code",
   "execution_count": 52,
   "id": "022add34-b091-4c72-9371-b73a95ff6fe2",
   "metadata": {},
   "outputs": [
    {
     "data": {
      "text/plain": [
       "array([1.35335283e-01, 6.06530660e-01, 3.35462628e-04, 1.26641655e-14,\n",
       "       0.00000000e+00])"
      ]
     },
     "execution_count": 52,
     "metadata": {},
     "output_type": "execute_result"
    }
   ],
   "source": [
    "ex = np.exp(-x**2/2)\n",
    "ex"
   ]
  },
  {
   "cell_type": "code",
   "execution_count": 53,
   "id": "acc83e6a-702b-48a5-a6f0-ea73a9a9856f",
   "metadata": {},
   "outputs": [
    {
     "data": {
      "text/plain": [
       "array([-0.56766764,  0.10653066, -1.75008387,  3.875     , 24.98      ])"
      ]
     },
     "execution_count": 53,
     "metadata": {},
     "output_type": "execute_result"
    }
   ],
   "source": [
    "z = w * (x - (2 * (1 - ex))/x)\n",
    "z"
   ]
  },
  {
   "cell_type": "code",
   "execution_count": 54,
   "id": "32d1bcc2-8e38-42ce-ac0f-a3577ab4929e",
   "metadata": {},
   "outputs": [
    {
     "data": {
      "text/plain": [
       "array([-0.80748973,  0.21306132, -3.48264328,  7.75      , 49.96      ])"
      ]
     },
     "execution_count": 54,
     "metadata": {},
     "output_type": "execute_result"
    }
   ],
   "source": [
    "z = z / (w * (1 - ex) + (1 - w) * ex * x**2)\n",
    "z"
   ]
  },
  {
   "cell_type": "code",
   "execution_count": 55,
   "id": "d6ca4d4a-2ca3-4a33-a370-9eb33d8c146d",
   "metadata": {},
   "outputs": [
    {
     "data": {
      "text/plain": [
       "array([-0.80748973,  0.21306132,  0.        , -3.48264328,  7.75      ,\n",
       "       49.96      ])"
      ]
     },
     "execution_count": 55,
     "metadata": {},
     "output_type": "execute_result"
    }
   ],
   "source": [
    "muhat[~ind] = z\n",
    "muhat"
   ]
  },
  {
   "cell_type": "markdown",
   "id": "04cfb675-e315-4175-8696-7798536439bc",
   "metadata": {},
   "source": [
    "R코드"
   ]
  },
  {
   "cell_type": "markdown",
   "id": "29decd1d-ba31-4939-95c5-dcc11ffa6490",
   "metadata": {},
   "source": [
    "```R\n",
    "postmean.cauchy <- function(x, w) {\n",
    "#\n",
    "#  Find the posterior mean for the quasi-Cauchy prior with mixing\n",
    "#   weight w given data x, which may be a scalar or a vector.\n",
    "#\n",
    "\tmuhat <- x\n",
    "\tind <- (x == 0)\n",
    "\tx <- x[!ind]\n",
    "\tex <- exp( - x^2/2)\n",
    "\tz <- w * (x - (2 * (1 - ex))/x)\n",
    "\tz <- z/(w * (1 - ex) + (1 - w) * ex * x^2)\n",
    "\tmuhat[!ind] <- z\n",
    "\treturn(muhat)\n",
    "}\n",
    "```"
   ]
  },
  {
   "cell_type": "markdown",
   "id": "efe258ce-1d70-4606-b3f3-36a0633dfe2f",
   "metadata": {},
   "source": [
    "결과"
   ]
  },
  {
   "cell_type": "markdown",
   "id": "7148349f-6aa2-469e-9a20-1c06a9940348",
   "metadata": {},
   "source": [
    "- Python"
   ]
  },
  {
   "cell_type": "code",
   "execution_count": 56,
   "id": "e30de365-f9cf-45bc-87a6-b7b9d89ab545",
   "metadata": {},
   "outputs": [
    {
     "data": {
      "text/plain": [
       "array([-0.80748973,  0.21306132,  0.        , -3.48264328,  7.75      ,\n",
       "       49.96      ])"
      ]
     },
     "execution_count": 56,
     "metadata": {},
     "output_type": "execute_result"
    }
   ],
   "source": [
    "EbayesThresh.postmean_cauchy(np.array([-2,1,0,-4,8,50], dtype=float),0.5)"
   ]
  },
  {
   "cell_type": "markdown",
   "id": "4cfae3fc-df6d-4c83-b5a6-445d293da53f",
   "metadata": {},
   "source": [
    "- R"
   ]
  },
  {
   "cell_type": "markdown",
   "id": "ee544520-c71b-4c4b-a1c0-e1f3e38fcea9",
   "metadata": {},
   "source": [
    "```R\n",
    "> postmean.cauchy(c(-2,1,0,-4,8,50),0.5)\n",
    "[1] -0.8074897  0.2130613  0.0000000 -3.4826433  7.7500000 49.9600000\n",
    "```"
   ]
  },
  {
   "cell_type": "markdown",
   "id": "e28670de-b3fb-4562-b053-fe0eeab79904",
   "metadata": {},
   "source": [
    "# wpost_laplace"
   ]
  },
  {
   "cell_type": "markdown",
   "id": "bb9038a6-421f-4ac4-adbd-52a973c77197",
   "metadata": {},
   "source": [
    "> Calculate the posterior weight for non-zero effect"
   ]
  },
  {
   "cell_type": "markdown",
   "id": "3452bf95-4b1f-4f38-af26-d078f096b4f9",
   "metadata": {},
   "source": [
    "- 0이 아닌 효과에 대한 사후 가중치 계산"
   ]
  },
  {
   "cell_type": "code",
   "execution_count": 59,
   "id": "7a7f72af-2f77-4d52-a920-bc3ba542831b",
   "metadata": {},
   "outputs": [],
   "source": [
    "ㅈ = 0.5\n",
    "x = np.array([-2,1,0,-4,8,50])\n",
    "s = 1\n",
    "a = 0.5"
   ]
  },
  {
   "cell_type": "code",
   "execution_count": 60,
   "id": "4da89605-18ee-4b80-970a-654875db9779",
   "metadata": {},
   "outputs": [
    {
     "data": {
      "text/plain": [
       "array([ 8.89852030e-001, -3.80041717e-001, -5.61817772e-001,\n",
       "        2.85459467e+002,  1.02698062e+012,  6.34453954e+265])"
      ]
     },
     "execution_count": 60,
     "metadata": {},
     "output_type": "execute_result"
    }
   ],
   "source": [
    "laplace_beta = EbayesThresh.beta_laplace(x, s, a)\n",
    "laplace_beta"
   ]
  },
  {
   "cell_type": "code",
   "execution_count": 61,
   "id": "c6e8bcee-8887-4576-bfaa-f2334aee3083",
   "metadata": {},
   "outputs": [
    {
     "data": {
      "text/plain": [
       "array([0.65396152, 0.38270015, 0.30467782, 0.99652125, 1.        ,\n",
       "       1.        ])"
      ]
     },
     "execution_count": 61,
     "metadata": {},
     "output_type": "execute_result"
    }
   ],
   "source": [
    "1 - (1 - w) / (1 + w * laplace_beta)"
   ]
  },
  {
   "cell_type": "markdown",
   "id": "d7e5316f-60ec-43a5-b06a-f8abadf7a63c",
   "metadata": {},
   "source": [
    "R코드"
   ]
  },
  {
   "cell_type": "markdown",
   "id": "c41dd72a-b9c9-40dd-aede-d1682b8eb481",
   "metadata": {},
   "source": [
    "```R\n",
    "wpost.laplace <- function(w, x, s = 1, a = 0.5)\n",
    "#\n",
    "#  Calculate the posterior weight for non-zero effect\n",
    "#\n",
    "  1 - (1 - w)/(1 + w * beta.laplace(x, s, a))\n",
    "```"
   ]
  },
  {
   "cell_type": "markdown",
   "id": "69b6abd8-58fb-4a86-87b0-a3d5de401fae",
   "metadata": {},
   "source": [
    "결과"
   ]
  },
  {
   "cell_type": "markdown",
   "id": "d4697705-72d9-4379-9ea0-ac9f1cffd094",
   "metadata": {},
   "source": [
    "- Python"
   ]
  },
  {
   "cell_type": "code",
   "execution_count": 57,
   "id": "def1cb56-68a3-4b8d-9b26-4f0b41967eb6",
   "metadata": {},
   "outputs": [
    {
     "data": {
      "text/plain": [
       "array([0.65396152, 0.38270015, 0.30467782, 0.99652125, 1.        ,\n",
       "       1.        ])"
      ]
     },
     "execution_count": 57,
     "metadata": {},
     "output_type": "execute_result"
    }
   ],
   "source": [
    "EbayesThresh.wpost_laplace(0.5,np.array([-2,1,0,-4,8,50]))"
   ]
  },
  {
   "cell_type": "markdown",
   "id": "aaf2785b-5ab0-49e7-b2ab-15e3c4e8770c",
   "metadata": {},
   "source": [
    "- R"
   ]
  },
  {
   "cell_type": "markdown",
   "id": "57676c58-a329-405e-9719-1d488336ac19",
   "metadata": {},
   "source": [
    "이베이즈 깃헙에 있는데 R 패키지에는 없음."
   ]
  },
  {
   "cell_type": "markdown",
   "id": "9807d13a-c4ca-4a17-969f-f751fa39fe05",
   "metadata": {},
   "source": [
    "# postmean.laplace"
   ]
  },
  {
   "cell_type": "markdown",
   "id": "1ab424b1-dcac-488f-bce7-c9f95883e544",
   "metadata": {},
   "source": [
    "> Find the posterior mean for the double exponential prior for given $x, s (sd), w$, and $a$."
   ]
  },
  {
   "cell_type": "markdown",
   "id": "eae49959-e67e-4b31-9a2e-564c30d6fd8e",
   "metadata": {},
   "source": [
    "- 이전 지수 분포에 대한 사후 평균"
   ]
  },
  {
   "cell_type": "code",
   "execution_count": 82,
   "id": "a8126ddd-5f06-4aea-814c-766bb7dd4b21",
   "metadata": {},
   "outputs": [],
   "source": [
    "x = np.array([-2,1,0,-4,8,50])\n",
    "s = 1\n",
    "w = 0.5\n",
    "a = 0.5"
   ]
  },
  {
   "cell_type": "code",
   "execution_count": 83,
   "id": "844ae66c-cd57-4959-840b-6b8c1413db19",
   "metadata": {},
   "outputs": [
    {
     "data": {
      "text/plain": [
       "0.5"
      ]
     },
     "execution_count": 83,
     "metadata": {},
     "output_type": "execute_result"
    }
   ],
   "source": [
    "a = min(a, 20)\n",
    "a"
   ]
  },
  {
   "cell_type": "code",
   "execution_count": 84,
   "id": "b7d0aec8-e1ee-4bde-ab50-8bfa9a89be1e",
   "metadata": {},
   "outputs": [
    {
     "data": {
      "text/plain": [
       "array([0.65396152, 0.38270015, 0.30467782, 0.99652125, 1.        ,\n",
       "       1.        ])"
      ]
     },
     "execution_count": 84,
     "metadata": {},
     "output_type": "execute_result"
    }
   ],
   "source": [
    "w_post = EbayesThresh.wpost_laplace(w, x, s, a)\n",
    "w_post"
   ]
  },
  {
   "cell_type": "code",
   "execution_count": 85,
   "id": "c9b2bd8a-6cb9-457a-b7c5-279884b6a60b",
   "metadata": {},
   "outputs": [
    {
     "data": {
      "text/plain": [
       "array([-1,  1,  0, -1,  1,  1])"
      ]
     },
     "execution_count": 85,
     "metadata": {},
     "output_type": "execute_result"
    }
   ],
   "source": [
    "sx = np.sign(x)\n",
    "sx"
   ]
  },
  {
   "cell_type": "code",
   "execution_count": 86,
   "id": "f66c7594-6b43-4acc-909c-ba626dab8b85",
   "metadata": {},
   "outputs": [
    {
     "data": {
      "text/plain": [
       "array([ 2,  1,  0,  4,  8, 50])"
      ]
     },
     "execution_count": 86,
     "metadata": {},
     "output_type": "execute_result"
    }
   ],
   "source": [
    "x = np.abs(x)\n",
    "x"
   ]
  },
  {
   "cell_type": "code",
   "execution_count": 87,
   "id": "8d74e731-acf1-443f-96bd-fa434858d04f",
   "metadata": {},
   "outputs": [
    {
     "data": {
      "text/plain": [
       "array([ 2.5,  1.5,  0.5,  4.5,  8.5, 50.5])"
      ]
     },
     "execution_count": 87,
     "metadata": {},
     "output_type": "execute_result"
    }
   ],
   "source": [
    "xpa = x/s + s*a\n",
    "xpa"
   ]
  },
  {
   "cell_type": "code",
   "execution_count": 88,
   "id": "321c53e3-dc4f-4914-a03c-24e685580e82",
   "metadata": {},
   "outputs": [
    {
     "data": {
      "text/plain": [
       "array([ 1.5,  0.5, -0.5,  3.5,  7.5, 49.5])"
      ]
     },
     "execution_count": 88,
     "metadata": {},
     "output_type": "execute_result"
    }
   ],
   "source": [
    "xma = x/s - s*a\n",
    "xma"
   ]
  },
  {
   "cell_type": "code",
   "execution_count": 89,
   "id": "4db15f50-64ed-48da-a7c8-16bd5990f031",
   "metadata": {},
   "outputs": [
    {
     "data": {
      "text/plain": [
       "array([ 2.5,  1.5,  0.5,  4.5,  8.5, 35. ])"
      ]
     },
     "execution_count": 89,
     "metadata": {},
     "output_type": "execute_result"
    }
   ],
   "source": [
    "xpa[xpa > 35] = 35\n",
    "xpa"
   ]
  },
  {
   "cell_type": "code",
   "execution_count": 90,
   "id": "fa6eb73f-0810-4fe6-87bd-33eb81f022c3",
   "metadata": {},
   "outputs": [
    {
     "data": {
      "text/plain": [
       "array([ 1.5,  0.5, -0.5,  3.5,  7.5, 49.5])"
      ]
     },
     "execution_count": 90,
     "metadata": {},
     "output_type": "execute_result"
    }
   ],
   "source": [
    "xma[xma < -35] = -35\n",
    "xma"
   ]
  },
  {
   "cell_type": "code",
   "execution_count": 91,
   "id": "52495477-5870-45fb-89ab-b2ca237895c4",
   "metadata": {},
   "outputs": [
    {
     "data": {
      "text/plain": [
       "array([0.9331928 , 0.69146246, 0.30853754, 0.99976737, 1.        ,\n",
       "       1.        ])"
      ]
     },
     "execution_count": 91,
     "metadata": {},
     "output_type": "execute_result"
    }
   ],
   "source": [
    "cp1 = norm.cdf(xma)\n",
    "cp1"
   ]
  },
  {
   "cell_type": "code",
   "execution_count": 92,
   "id": "f467e1c5-b69c-4342-808e-d2ecfb0ea8e1",
   "metadata": {},
   "outputs": [
    {
     "data": {
      "text/plain": [
       "array([6.20966533e-003, 6.68072013e-002, 3.08537539e-001, 3.39767312e-006,\n",
       "       9.47953482e-018, 1.12491071e-268])"
      ]
     },
     "execution_count": 92,
     "metadata": {},
     "output_type": "execute_result"
    }
   ],
   "source": [
    "cp2 = norm.cdf(-xpa)\n",
    "cp2"
   ]
  },
  {
   "cell_type": "code",
   "execution_count": 93,
   "id": "62f26cd5-257e-4c54-b606-2f49e651652d",
   "metadata": {},
   "outputs": [
    {
     "data": {
      "text/plain": [
       "array([7.38905610e+00, 2.71828183e+00, 1.00000000e+00, 5.45981500e+01,\n",
       "       2.98095799e+03, 5.18470553e+21])"
      ]
     },
     "execution_count": 93,
     "metadata": {},
     "output_type": "execute_result"
    }
   ],
   "source": [
    "ef = np.exp(np.minimum(2 * a * x, 100))\n",
    "ef"
   ]
  },
  {
   "cell_type": "code",
   "execution_count": 94,
   "id": "92d449c1-5770-4adf-aeb4-295507cf7484",
   "metadata": {},
   "outputs": [
    {
     "data": {
      "text/plain": [
       "array([ 1.54686413,  0.70800417,  0.        ,  3.50018552,  7.5       ,\n",
       "       49.5       ])"
      ]
     },
     "execution_count": 94,
     "metadata": {},
     "output_type": "execute_result"
    }
   ],
   "source": [
    "postmean_cond = x - a * s**2 * (2 * cp1 / (cp1 + ef * cp2) - 1)\n",
    "postmean_cond"
   ]
  },
  {
   "cell_type": "code",
   "execution_count": 95,
   "id": "c993cbe4-fbd2-4e62-83d2-e548282a7c30",
   "metadata": {},
   "outputs": [
    {
     "data": {
      "text/plain": [
       "array([-1.01158962,  0.27095331,  0.        , -3.48800924,  7.5       ,\n",
       "       49.5       ])"
      ]
     },
     "execution_count": 95,
     "metadata": {},
     "output_type": "execute_result"
    }
   ],
   "source": [
    "sx * w_post * postmean_cond"
   ]
  },
  {
   "cell_type": "markdown",
   "id": "675501b4-27dc-4e60-8fd2-42fdc356a168",
   "metadata": {},
   "source": [
    "R코드"
   ]
  },
  {
   "cell_type": "markdown",
   "id": "ff9cdc55-1134-4a3d-9f9a-3d71a457fed7",
   "metadata": {},
   "source": [
    "```R\n",
    "postmean.laplace <- function(x, s = 1, w = 0.5, a = 0.5) {\n",
    "#\n",
    "#  Find the posterior mean for the double exponential prior for \n",
    "#   given x, s (sd), w and a.\n",
    "#\n",
    "    \n",
    "  # Only allow a < 20 for input value.\n",
    "  a <- min(a, 20)\n",
    "  \n",
    "  # First find the probability of being non-zero\n",
    "\twpost <- wpost.laplace(w, x, s, a)\n",
    "  \n",
    "  # Now find the posterior mean conditional on being non-zero\n",
    "\tsx <- sign(x)\n",
    "\tx <- abs(x)\n",
    "\txpa <- x/s + s*a\n",
    "\txma <- x/s - s*a\n",
    "\txpa[xpa > 35] <- 35\n",
    "\txma[xma < -35] <- -35\n",
    "\t\n",
    "\tcp1 <- pnorm(xma)\n",
    "\tcp2 <- pnorm( - xpa)\n",
    "\tef <- exp(pmin(2 * a * x, 100))\n",
    "\tpostmeancond <- x - a * s^2 * ( 2 * cp1/(cp1 + ef * cp2) - 1)\n",
    "  \n",
    "  # Calculate posterior mean and return\n",
    "\treturn(sx * wpost * postmeancond)\n",
    "}\n",
    "```"
   ]
  },
  {
   "cell_type": "markdown",
   "id": "93809ab1-757a-4412-a30d-95ce81757fc5",
   "metadata": {},
   "source": [
    "결과"
   ]
  },
  {
   "cell_type": "markdown",
   "id": "f899717e-9ebe-429e-b79a-59b432c5eddb",
   "metadata": {},
   "source": [
    "- Python"
   ]
  },
  {
   "cell_type": "code",
   "execution_count": 3,
   "id": "82b4fc5b-6d08-44d8-bc18-ba08d4f510c4",
   "metadata": {},
   "outputs": [
    {
     "data": {
      "text/plain": [
       "array([-1.01158962,  0.27095331,  0.        , -3.48800924,  7.5       ,\n",
       "       49.5       ])"
      ]
     },
     "execution_count": 3,
     "metadata": {},
     "output_type": "execute_result"
    }
   ],
   "source": [
    "EbayesThresh.postmean_laplace(np.array([-2,1,0,-4,8,50]))"
   ]
  },
  {
   "cell_type": "markdown",
   "id": "fc8a9182-1e23-466c-ae51-03d0647b671a",
   "metadata": {},
   "source": [
    "- R"
   ]
  },
  {
   "cell_type": "markdown",
   "id": "6a53795d-dd87-4cf9-8bfc-0e3ebf0acee1",
   "metadata": {},
   "source": [
    "```R\n",
    "> postmean.laplace(c(-2,1,0,-4,8,50))\n",
    "[1] -1.0115896  0.2709533  0.0000000 -3.4880092  7.5000000 49.5000000\n",
    "```"
   ]
  },
  {
   "cell_type": "markdown",
   "id": "1aa5c88a-aee9-43a6-88ef-b34db7c172e5",
   "metadata": {},
   "source": [
    "# postmean"
   ]
  },
  {
   "cell_type": "markdown",
   "id": "4e061743-58ed-4340-914f-24c897e4c972",
   "metadata": {},
   "source": [
    "> Given a single value or a vector of data and sampling standard deviations (sd equals 1 for Cauchy prior), find the corresponding posterior mean estimate(s) of the underlying signal value(s)."
   ]
  },
  {
   "cell_type": "markdown",
   "id": "9191169d-5089-4ff6-b4e1-ce636fa8e8a3",
   "metadata": {},
   "source": [
    "- 적절한 사후 평균 찾기"
   ]
  },
  {
   "cell_type": "code",
   "execution_count": 4,
   "id": "4db78d4f-ee39-42a2-85aa-8b3fd298169d",
   "metadata": {},
   "outputs": [],
   "source": [
    "x = np.array([-2,1,0,-4,8,50])\n",
    "s = 1\n",
    "w = 0.5\n",
    "prior = \"laplace\"\n",
    "a = 0.5"
   ]
  },
  {
   "cell_type": "code",
   "execution_count": 5,
   "id": "47751138-2876-4ba8-baaa-825aa496a264",
   "metadata": {},
   "outputs": [
    {
     "data": {
      "text/plain": [
       "'l'"
      ]
     },
     "execution_count": 5,
     "metadata": {},
     "output_type": "execute_result"
    }
   ],
   "source": [
    "pr = prior[0:1]\n",
    "pr"
   ]
  },
  {
   "cell_type": "code",
   "execution_count": 7,
   "id": "fd9e3780-6672-4054-bab8-d389dd1515ad",
   "metadata": {},
   "outputs": [],
   "source": [
    "if pr == \"l\":\n",
    "    mutilde = EbayesThresh.postmean_laplace(x, s, w, a=a)\n",
    "elif pr == \"c\":\n",
    "    if np.any(s != 1):\n",
    "        raise ValueError(\"Only standard deviation of 1 is allowed for Cauchy prior.\")\n",
    "    mutilde = postmean_cauchy(x, w)\n",
    "else:\n",
    "    raise ValueError(\"Unknown prior type.\")"
   ]
  },
  {
   "cell_type": "code",
   "execution_count": 8,
   "id": "b0c298aa-dc02-4eb3-9e6e-dbf56036ffb2",
   "metadata": {},
   "outputs": [
    {
     "data": {
      "text/plain": [
       "array([-1.01158962,  0.27095331,  0.        , -3.48800924,  7.5       ,\n",
       "       49.5       ])"
      ]
     },
     "execution_count": 8,
     "metadata": {},
     "output_type": "execute_result"
    }
   ],
   "source": [
    "mutilde"
   ]
  },
  {
   "cell_type": "markdown",
   "id": "c741d986-941c-4dc9-8563-43f4dc80561a",
   "metadata": {},
   "source": [
    "R코드"
   ]
  },
  {
   "cell_type": "markdown",
   "id": "6bc64c1c-1034-4572-a3df-a841e4741dd8",
   "metadata": {},
   "source": [
    "```R\n",
    "postmean <- function(x, s = 1, w = 0.5, prior = \"laplace\", a = 0.5) {\n",
    "#\n",
    "#  Find the posterior mean for the appropriate prior for \n",
    "#   given x, s (sd), w and a.\n",
    "#\n",
    "\tpr <- substring(prior, 1, 1)\n",
    "\tif(pr == \"l\")\n",
    "\t\tmutilde <- postmean.laplace(x, s, w, a = a)\n",
    "\tif(pr == \"c\"){\n",
    "            if(any(s != 1))\n",
    "                stop(paste(\"Only standard deviation of 1 is allowed\",\n",
    "                           \"for Cauchy prior.\"))\n",
    "\t\tmutilde <- postmean.cauchy(x, w)\n",
    "\t}\n",
    "\treturn(mutilde)\n",
    "}\n",
    "```"
   ]
  },
  {
   "cell_type": "markdown",
   "id": "fa35fd3b-af25-4794-b0bf-1d35a035f8ce",
   "metadata": {},
   "source": [
    "결과"
   ]
  },
  {
   "cell_type": "markdown",
   "id": "4674a5d9-ba79-47fe-a582-9cb539f751da",
   "metadata": {},
   "source": [
    "- Python"
   ]
  },
  {
   "cell_type": "code",
   "execution_count": 9,
   "id": "4f6ec048-878a-4dde-bbd2-bcaefbd09b1c",
   "metadata": {},
   "outputs": [
    {
     "data": {
      "text/plain": [
       "array([-1.01158962,  0.27095331,  0.        , -3.48800924,  7.5       ,\n",
       "       49.5       ])"
      ]
     },
     "execution_count": 9,
     "metadata": {},
     "output_type": "execute_result"
    }
   ],
   "source": [
    "EbayesThresh.postmean(np.array([-2,1,0,-4,8,50]), s=1, w = 0.5, prior = \"laplace\", a = 0.5)"
   ]
  },
  {
   "cell_type": "markdown",
   "id": "313ac208-73da-44d6-b2cd-cf14eb46fbf4",
   "metadata": {},
   "source": [
    "- R"
   ]
  },
  {
   "cell_type": "markdown",
   "id": "06140539-1494-4c55-ae91-3366e0e7d1a1",
   "metadata": {},
   "source": [
    "```R\n",
    "> postmean(c(-2,1,0,-4,8,50), s=1, w = 0.5, prior = \"laplace\", a = 0.5)\n",
    "[1] -1.0115896  0.2709533  0.0000000 -3.4880092  7.5000000 49.5000000\n",
    "```"
   ]
  },
  {
   "cell_type": "markdown",
   "id": "cf25ec4c-b4a6-476d-9c0c-7d64bd476207",
   "metadata": {},
   "source": [
    "# wandafromx"
   ]
  },
  {
   "cell_type": "markdown",
   "id": "a29e4ec3-322b-4b7d-8168-ba3b39df5503",
   "metadata": {},
   "source": [
    "> Given a vector of data and a single value or vector of sampling standard deviations, find the marginal maximum likelihood choice of both weight and scale factor under the Laplace prior"
   ]
  },
  {
   "cell_type": "code",
   "execution_count": 114,
   "id": "a4fa125f-fd39-40df-ba23-57465d12e44e",
   "metadata": {},
   "outputs": [],
   "source": [
    "x = np.array([-2,1,0,-4,8], dtype=float)\n",
    "s = 1\n",
    "universalthresh = True"
   ]
  },
  {
   "cell_type": "code",
   "execution_count": 115,
   "id": "7e3238e2-e904-4fc7-8839-b2adf0ad3f0a",
   "metadata": {},
   "outputs": [],
   "source": [
    "if universalthresh:\n",
    "    thi = np.sqrt(2 * np.log(len(x))) * s\n",
    "else:\n",
    "    thi = np.inf"
   ]
  },
  {
   "cell_type": "code",
   "execution_count": 116,
   "id": "c216dbab-0e8c-42d3-9863-b07b725b9c78",
   "metadata": {},
   "outputs": [
    {
     "data": {
      "text/plain": [
       "1.7941225779941015"
      ]
     },
     "execution_count": 116,
     "metadata": {},
     "output_type": "execute_result"
    }
   ],
   "source": [
    "thi"
   ]
  },
  {
   "cell_type": "code",
   "execution_count": 117,
   "id": "cce71525-16f8-4d55-b8a0-e66576b86a87",
   "metadata": {},
   "outputs": [],
   "source": [
    "if isinstance(s, int):\n",
    "    tlo = np.zeros(len(str(s)))\n",
    "else:\n",
    "    tlo = np.zeros(len(s))"
   ]
  },
  {
   "cell_type": "code",
   "execution_count": 118,
   "id": "707b65ee-17ad-4728-b4de-c890809831b7",
   "metadata": {},
   "outputs": [
    {
     "data": {
      "text/plain": [
       "array([0.])"
      ]
     },
     "execution_count": 118,
     "metadata": {},
     "output_type": "execute_result"
    }
   ],
   "source": [
    "tlo"
   ]
  },
  {
   "cell_type": "code",
   "execution_count": 119,
   "id": "aff5dc4d-18fc-4f8e-b8b5-48ff4345fa7e",
   "metadata": {},
   "outputs": [
    {
     "data": {
      "text/plain": [
       "array([0.  , 0.04])"
      ]
     },
     "execution_count": 119,
     "metadata": {},
     "output_type": "execute_result"
    }
   ],
   "source": [
    "lo = np.array([0, 0.04])\n",
    "lo"
   ]
  },
  {
   "cell_type": "code",
   "execution_count": 120,
   "id": "254942b8-ea01-4690-ba94-93059e7de381",
   "metadata": {},
   "outputs": [
    {
     "data": {
      "text/plain": [
       "array([1, 3])"
      ]
     },
     "execution_count": 120,
     "metadata": {},
     "output_type": "execute_result"
    }
   ],
   "source": [
    "hi = np.array([1, 3])\n",
    "hi"
   ]
  },
  {
   "cell_type": "code",
   "execution_count": 121,
   "id": "501f23f2-ded1-4f88-ba65-63f569e25e68",
   "metadata": {},
   "outputs": [
    {
     "data": {
      "text/plain": [
       "array([0.5, 0.5])"
      ]
     },
     "execution_count": 121,
     "metadata": {},
     "output_type": "execute_result"
    }
   ],
   "source": [
    "startpar = np.array([0.5, 0.5])\n",
    "startpar"
   ]
  },
  {
   "cell_type": "markdown",
   "id": "7bd24417-6cde-4f2a-9ce4-f2e0b05f53de",
   "metadata": {},
   "source": [
    "---"
   ]
  },
  {
   "cell_type": "markdown",
   "id": "492e1188-fbd3-43c9-a5e7-88b7bf69c78d",
   "metadata": {},
   "source": [
    "negloglik_laplace 결과도 같음"
   ]
  },
  {
   "cell_type": "code",
   "execution_count": 122,
   "id": "af94037e-8000-4297-9dc0-d363021fb9a4",
   "metadata": {},
   "outputs": [
    {
     "data": {
      "text/plain": [
       "-32.32783"
      ]
     },
     "execution_count": 122,
     "metadata": {},
     "output_type": "execute_result"
    }
   ],
   "source": [
    "EbayesThresh.negloglik_laplace(startpar, x, s, tlo, thi).round(5)"
   ]
  },
  {
   "cell_type": "markdown",
   "id": "ee932472-133e-4d0f-bc16-7136272611d5",
   "metadata": {},
   "source": [
    "- R"
   ]
  },
  {
   "cell_type": "markdown",
   "id": "427a9aeb-d2c0-48eb-abbc-ab49c474afb4",
   "metadata": {},
   "source": [
    "```R\n",
    "> negloglik.laplace(startpar,x,s,thi,tlo)\n",
    "[1] -32.32783\n",
    "```"
   ]
  },
  {
   "cell_type": "markdown",
   "id": "9425f429-3094-44ee-90e3-a35bbe3387e4",
   "metadata": {},
   "source": [
    "---"
   ]
  },
  {
   "cell_type": "code",
   "execution_count": 123,
   "id": "ca8d507d-6f28-40f9-a93d-012722318759",
   "metadata": {},
   "outputs": [],
   "source": [
    "if 'optim' in globals():\n",
    "    result = minimize(EbayesThresh.negloglik_laplace, startpar, method='L-BFGS-B', bounds=[(lo[0], hi[0]), (lo[1], hi[1])], args=(x, s, tlo, thi))\n",
    "    uu = result.x\n",
    "else:\n",
    "    result = minimize(EbayesThresh.negloglik_laplace, startpar, bounds=[(lo[0], hi[0]), (lo[1], hi[1])], args=(x, s, tlo, thi))\n",
    "    uu = result.x"
   ]
  },
  {
   "cell_type": "code",
   "execution_count": 125,
   "id": "14273393-f09e-4376-b529-bc7f6140946c",
   "metadata": {},
   "outputs": [
    {
     "data": {
      "text/plain": [
       "array([0.69481312, 0.30010834])"
      ]
     },
     "execution_count": 125,
     "metadata": {},
     "output_type": "execute_result"
    }
   ],
   "source": [
    "minimize(EbayesThresh.negloglik_laplace, startpar, method='L-BFGS-B',\n",
    "         bounds=[(lo[0], hi[0]), (lo[1], hi[1])], args=(x, s, tlo, thi)).x"
   ]
  },
  {
   "cell_type": "code",
   "execution_count": 126,
   "id": "376d5a67-1003-4a53-887d-1fe2928f163d",
   "metadata": {},
   "outputs": [
    {
     "data": {
      "text/plain": [
       "-33.07559"
      ]
     },
     "execution_count": 126,
     "metadata": {},
     "output_type": "execute_result"
    }
   ],
   "source": [
    "minimize(EbayesThresh.negloglik_laplace, startpar, method='L-BFGS-B',\n",
    "         bounds=[(lo[0], hi[0]), (lo[1], hi[1])], args=(x, s, thi, tlo)).fun.round(5)"
   ]
  },
  {
   "cell_type": "markdown",
   "id": "bf7fe4c2-6351-4c06-85de-1a2beb0292d2",
   "metadata": {},
   "source": [
    "```R\n",
    "> optim(startpar, negloglik.laplace, method=\"L-BFGS-B\",\n",
    "+               lower = lo, upper = hi, xx = x, ss = s, thi = thi,\n",
    "+               tlo = tlo)$par\n",
    "[1] 0.6948121 0.3001091\n",
    "> optim(startpar, negloglik.laplace, method=\"L-BFGS-B\",\n",
    "+               lower = lo, upper = hi, xx = x, ss = s, thi = thi,\n",
    "+               tlo = tlo)$value\n",
    "[1] -33.07559\n",
    "```"
   ]
  },
  {
   "cell_type": "code",
   "execution_count": 127,
   "id": "c2078b68-3a38-4110-ab7f-6ab8a1c73193",
   "metadata": {},
   "outputs": [
    {
     "data": {
      "text/plain": [
       "0.30010833999317726"
      ]
     },
     "execution_count": 127,
     "metadata": {},
     "output_type": "execute_result"
    }
   ],
   "source": [
    "a = uu[1]\n",
    "a"
   ]
  },
  {
   "cell_type": "code",
   "execution_count": 128,
   "id": "2920d7e7-9fb5-4109-b8a2-29d17772b3bc",
   "metadata": {},
   "outputs": [
    {
     "data": {
      "text/plain": [
       "0.49762405565749024"
      ]
     },
     "execution_count": 128,
     "metadata": {},
     "output_type": "execute_result"
    }
   ],
   "source": [
    "wlo = EbayesThresh.wfromt(thi, s, a=a)\n",
    "wlo"
   ]
  },
  {
   "cell_type": "code",
   "execution_count": 129,
   "id": "2abe8d5a-4f63-4e7c-b5d2-d404cfc782c6",
   "metadata": {},
   "outputs": [
    {
     "data": {
      "text/plain": [
       "array([1.])"
      ]
     },
     "execution_count": 129,
     "metadata": {},
     "output_type": "execute_result"
    }
   ],
   "source": [
    "whi = EbayesThresh.wfromt(tlo, s, a=a)\n",
    "whi"
   ]
  },
  {
   "cell_type": "code",
   "execution_count": 130,
   "id": "a6fa31cc-0444-4c2a-be58-3a62df0f7959",
   "metadata": {},
   "outputs": [
    {
     "data": {
      "text/plain": [
       "0.49762405565749024"
      ]
     },
     "execution_count": 130,
     "metadata": {},
     "output_type": "execute_result"
    }
   ],
   "source": [
    "wlo = np.max(wlo)\n",
    "wlo"
   ]
  },
  {
   "cell_type": "code",
   "execution_count": 131,
   "id": "33ba010f-71e3-413e-8e88-ba3f6a1a7f29",
   "metadata": {},
   "outputs": [
    {
     "data": {
      "text/plain": [
       "1.0"
      ]
     },
     "execution_count": 131,
     "metadata": {},
     "output_type": "execute_result"
    }
   ],
   "source": [
    "whi = np.min(whi)\n",
    "whi"
   ]
  },
  {
   "cell_type": "markdown",
   "id": "fdc9ee08-1d0f-4d68-b81a-003ddb16321d",
   "metadata": {},
   "source": [
    "여기서 uu[0]값이 R과 다름"
   ]
  },
  {
   "cell_type": "code",
   "execution_count": 132,
   "id": "ec7940ed-4b74-4b02-a7f3-985969881764",
   "metadata": {},
   "outputs": [
    {
     "data": {
      "text/plain": [
       "0.8466814522110238"
      ]
     },
     "execution_count": 132,
     "metadata": {},
     "output_type": "execute_result"
    }
   ],
   "source": [
    "w = uu[0] * (whi - wlo) + wlo\n",
    "w"
   ]
  },
  {
   "cell_type": "markdown",
   "id": "38abcc4e-a316-4576-a070-d8c72b69cedc",
   "metadata": {},
   "source": [
    "R코드"
   ]
  },
  {
   "cell_type": "markdown",
   "id": "a0a14969-3a96-4f27-824c-2ffd851a2cb0",
   "metadata": {},
   "source": [
    "```R\n",
    "wandafromx <- function(x, s = 1, universalthresh = TRUE) {\n",
    "#\n",
    "#  Find the marginal max lik estimators of w and a given standard\n",
    "#   deviation s, using a bivariate optimization;\n",
    "#    \n",
    "#  If universalthresh=TRUE, the thresholds will be upper bounded by\n",
    "#   universal threshold adjusted by standard deviation. The threshold\n",
    "#   is constrained to lie between 0 and sqrt ( 2 log (n)) *\n",
    "#   s. Otherwise, threshold can take any nonnegative value;\n",
    "#\n",
    "#  If running R, the routine optim is used; in S-PLUS the routine is\n",
    "#   nlminb.\n",
    "#\n",
    "    \n",
    "  # Range for thresholds\n",
    "  if(universalthresh) {\n",
    "    thi <- sqrt(2 * log(length(x))) * s\n",
    "  } else{\n",
    "    thi <- Inf\n",
    "  }\n",
    "  \n",
    "\ttlo <- rep(0, length(s))\n",
    "\tlo  <-  c(0,0.04)\n",
    "\thi  <-  c(1,3)\n",
    "\tstartpar  <-  c(0.5,0.5)\n",
    "\tif (exists(\"optim\")) {\n",
    "  \t  uu <- optim(startpar, negloglik.laplace, method=\"L-BFGS-B\",\n",
    "                      lower = lo, upper = hi, xx = x, ss = s, thi = thi,\n",
    "                      tlo = tlo)\n",
    "          uu <- uu$par\n",
    "\t}\n",
    "\telse {\n",
    "          uu <- nlminb(startpar, negloglik.laplace, lower = lo,\n",
    "                       upper = hi, xx = x, ss = s, thi = thi, tlo = tlo)\n",
    "          uu <- uu$parameters\n",
    "        }\n",
    "\t\n",
    "\ta <- uu[2]\n",
    "\twlo <- wfromt(thi, s, a = a)\n",
    "\twhi <- wfromt(tlo, s, a = a)\n",
    "\twlo <- max(wlo)\n",
    "\twhi <- min(whi)\n",
    "\tw <- uu[1]*(whi - wlo) + wlo\n",
    "\treturn(list(w=w, a=a))\n",
    "}\n",
    "```"
   ]
  },
  {
   "cell_type": "markdown",
   "id": "76cdec56-f0a2-49eb-b3e5-bff4cff106df",
   "metadata": {},
   "source": [
    "결과"
   ]
  },
  {
   "cell_type": "markdown",
   "id": "264e540e-a4b4-444c-9887-6ded81c1eaa4",
   "metadata": {},
   "source": [
    "- Pythom"
   ]
  },
  {
   "cell_type": "code",
   "execution_count": 3,
   "id": "a7131cbd-1729-4ec7-a77d-6906a49c29f2",
   "metadata": {},
   "outputs": [
    {
     "data": {
      "text/plain": [
       "{'w': 1.0, 'a': 0.41641372425894785}"
      ]
     },
     "execution_count": 3,
     "metadata": {},
     "output_type": "execute_result"
    }
   ],
   "source": [
    "EbayesThresh.wandafromx(np.array([-2,1,0,-4,8,50], dtype=float))"
   ]
  },
  {
   "cell_type": "code",
   "execution_count": 4,
   "id": "71589270-c5b6-4144-83e1-6b7108cdfc36",
   "metadata": {},
   "outputs": [
    {
     "data": {
      "text/plain": [
       "{'w': 0.8466814522110238, 'a': 0.30010833999317726}"
      ]
     },
     "execution_count": 4,
     "metadata": {},
     "output_type": "execute_result"
    }
   ],
   "source": [
    "EbayesThresh.wandafromx(np.array([-2,1,0,-4,8], dtype=float))"
   ]
  },
  {
   "cell_type": "markdown",
   "id": "05478490-b30d-47b1-beab-83cc426390b1",
   "metadata": {},
   "source": [
    "- R"
   ]
  },
  {
   "cell_type": "markdown",
   "id": "3d93ab11-3735-4d1e-8bbd-434550b65ae0",
   "metadata": {},
   "source": [
    "```R\n",
    "> wandafromx(c(-2,1,0,-4,8,50))\n",
    "$w\n",
    "[1] 1\n",
    "\n",
    "$a\n",
    "[1] 0.4163946\n",
    "> wandafromx(c(-2,1,0,-4,8))\n",
    "$w\n",
    "[1] 0.8466808\n",
    "\n",
    "$a\n",
    "[1] 0.3001091\n",
    "\n",
    "```"
   ]
  },
  {
   "cell_type": "markdown",
   "id": "3294200a-fe6c-4c83-8bb9-0375c1228cc0",
   "metadata": {},
   "source": [
    "# vecbinsolv"
   ]
  },
  {
   "cell_type": "code",
   "execution_count": 4,
   "id": "30bd5963-4e82-45fe-ae69-1801eef6c02c",
   "metadata": {},
   "outputs": [],
   "source": [
    "zf = 6\n",
    "def fun(t):\n",
    "    return 2 * t\n",
    "tlo = 0\n",
    "thi = 10"
   ]
  },
  {
   "cell_type": "code",
   "execution_count": 5,
   "id": "dcabbcb2-3e17-4b29-a449-f6f383ee1284",
   "metadata": {},
   "outputs": [
    {
     "ename": "TypeError",
     "evalue": "object of type 'int' has no len()",
     "output_type": "error",
     "traceback": [
      "\u001b[0;31m---------------------------------------------------------------------------\u001b[0m",
      "\u001b[0;31mTypeError\u001b[0m                                 Traceback (most recent call last)",
      "Input \u001b[0;32mIn [5]\u001b[0m, in \u001b[0;36m<cell line: 1>\u001b[0;34m()\u001b[0m\n\u001b[0;32m----> 1\u001b[0m nz \u001b[38;5;241m=\u001b[39m \u001b[38;5;28;43mlen\u001b[39;49m\u001b[43m(\u001b[49m\u001b[43mzf\u001b[49m\u001b[43m)\u001b[49m\n",
      "\u001b[0;31mTypeError\u001b[0m: object of type 'int' has no len()"
     ]
    }
   ],
   "source": [
    "nz = len(zf)"
   ]
  },
  {
   "cell_type": "code",
   "execution_count": null,
   "id": "d1094a7d-5f11-4126-b419-c772fb9c8368",
   "metadata": {},
   "outputs": [],
   "source": []
  },
  {
   "cell_type": "code",
   "execution_count": null,
   "id": "3554ab92-90a5-40bb-a854-4c12c22f24d1",
   "metadata": {},
   "outputs": [],
   "source": [
    "\n",
    "def vecbinsolv(zf, fun, tlo, thi, nits=30, *args, **kwargs):\n",
    "    \n",
    "    if isinstance(tlo, (int, float)):\n",
    "        tlo = [tlo] * nz\n",
    "    if len(tlo) != nz:\n",
    "        raise ValueError(\"Lower constraint has to be homogeneous or has the same length as #functions.\")\n",
    "    if isinstance(thi, (int, float)):\n",
    "        thi = [thi] * nz\n",
    "    if len(thi) != nz:\n",
    "        raise ValueError(\"Upper constraint has to be homogeneous or has the same length as #functions.\")\n",
    "\n",
    "    # carry out nits bisections\n",
    "    for _ in range(nits):\n",
    "        tmid = [(lo + hi) / 2 for lo, hi in zip(tlo, thi)]\n",
    "        fmid = fun(tmid, *args, **kwargs)\n",
    "        indt = [f <= z for f, z in zip(fmid, zf)]\n",
    "        tlo = [tm if ind else lo for tm, lo, ind in zip(tmid, tlo, indt)]\n",
    "        thi = [tm if not ind else hi for tm, hi, ind in zip(tmid, thi, indt)]\n",
    "        \n",
    "    tsol = [(lo + hi) / 2 for lo, hi in zip(tlo, thi)]\n",
    "    return tsol"
   ]
  },
  {
   "cell_type": "markdown",
   "id": "4fb99aff-74cd-42bf-b899-442a70b45a17",
   "metadata": {},
   "source": [
    "R코드"
   ]
  },
  {
   "cell_type": "markdown",
   "id": "f481cd95-1af1-4b39-b3cd-9e06a9b39075",
   "metadata": {},
   "source": [
    "```R\n",
    "vecbinsolv <- function(zf, fun, tlo, thi, nits = 30, ...) {\n",
    "#\n",
    "#  Given a monotone function fun, and a vector of values\n",
    "#   zf find a vector of numbers t such that f(t) = zf.\n",
    "#   The solution is constrained to lie on the interval (tlo, thi)\n",
    "#\n",
    "#  The function fun may be a vector of increasing functions \n",
    "#\n",
    "#  Present version is inefficient because separate calculations\n",
    "#   are done for each element of z, and because bisections are done even\n",
    "#   if the solution is outside the range supplied\n",
    "#    \n",
    "#  It is important that fun should work for vector arguments.\n",
    "#   Additional arguments to fun can be passed through ...\n",
    "#\n",
    "#  Works by successive bisection, carrying out nits harmonic bisections\n",
    "#   of the interval between tlo and thi\n",
    "#\n",
    "\tnz <- length(zf)\n",
    "\tif(length(tlo)==1) tlo <- rep(tlo, nz)\n",
    "\tif(length(tlo)!=nz)\n",
    "          stop(paste(\"Lower constraint has to be homogeneous\",\n",
    "                     \"or has the same length as #functions.\"))\n",
    "\tif(length(thi)==1) thi <- rep(thi, nz)\n",
    "\tif(length(thi)!=nz)\n",
    "          stop(paste(\"Upper constraint has to be homogeneous\",\n",
    "                     \"or has the same length as #functions.\"))\n",
    "\n",
    "#  carry out nits bisections\n",
    "#\n",
    "\tfor(jj in (1:nits)) {\n",
    "\t\ttmid <- (tlo + thi)/2\n",
    "\t\tfmid <- fun(tmid, ...)\n",
    "\t\tindt <- (fmid <= zf)\n",
    "\t\ttlo[indt] <- tmid[indt]\n",
    "\t\tthi[!indt] <- tmid[!indt]\n",
    "\t}\n",
    "\ttsol <- (tlo + thi)/2\n",
    "\treturn(tsol)\n",
    "}\n",
    "```"
   ]
  },
  {
   "cell_type": "markdown",
   "id": "b57c9353-2d1a-4011-b6e3-5c34e472d5d9",
   "metadata": {},
   "source": [
    "결과"
   ]
  },
  {
   "cell_type": "markdown",
   "id": "15fd07f5-e1d9-490a-b193-8d8e3a2c4933",
   "metadata": {},
   "source": [
    "- Python"
   ]
  },
  {
   "cell_type": "code",
   "execution_count": 3,
   "id": "76d5c14d-e588-4e10-9f34-de24a985f6de",
   "metadata": {},
   "outputs": [
    {
     "ename": "TypeError",
     "evalue": "object of type 'int' has no len()",
     "output_type": "error",
     "traceback": [
      "\u001b[0;31m---------------------------------------------------------------------------\u001b[0m",
      "\u001b[0;31mTypeError\u001b[0m                                 Traceback (most recent call last)",
      "Input \u001b[0;32mIn [3]\u001b[0m, in \u001b[0;36m<cell line: 6>\u001b[0;34m()\u001b[0m\n\u001b[1;32m      4\u001b[0m tlo \u001b[38;5;241m=\u001b[39m \u001b[38;5;241m0\u001b[39m\n\u001b[1;32m      5\u001b[0m thi \u001b[38;5;241m=\u001b[39m \u001b[38;5;241m10\u001b[39m\n\u001b[0;32m----> 6\u001b[0m \u001b[43mEbayesThresh\u001b[49m\u001b[38;5;241;43m.\u001b[39;49m\u001b[43mvecbinsolv\u001b[49m\u001b[43m(\u001b[49m\u001b[43mzf\u001b[49m\u001b[43m,\u001b[49m\u001b[43m \u001b[49m\u001b[43mfun\u001b[49m\u001b[43m,\u001b[49m\u001b[43m \u001b[49m\u001b[43mtlo\u001b[49m\u001b[43m,\u001b[49m\u001b[43m \u001b[49m\u001b[43mthi\u001b[49m\u001b[43m)\u001b[49m\n",
      "File \u001b[0;32m~/Dropbox/sy_hub/posts/1_Note/EbayesThresh/utils.py:477\u001b[0m, in \u001b[0;36mvecbinsolv\u001b[0;34m(zf, fun, tlo, thi, nits, *args, **kwargs)\u001b[0m\n\u001b[1;32m    452\u001b[0m \u001b[38;5;28;01mdef\u001b[39;00m \u001b[38;5;21mvecbinsolv\u001b[39m(zf, fun, tlo, thi, nits\u001b[38;5;241m=\u001b[39m\u001b[38;5;241m30\u001b[39m, \u001b[38;5;241m*\u001b[39margs, \u001b[38;5;241m*\u001b[39m\u001b[38;5;241m*\u001b[39mkwargs):\n\u001b[1;32m    453\u001b[0m \u001b[38;5;250m    \u001b[39m\u001b[38;5;124;03m\"\"\"\u001b[39;00m\n\u001b[1;32m    454\u001b[0m \u001b[38;5;124;03m    Given a monotone function fun, and a vector of values zf find a vector of numbers t such that f(t) = zf.\u001b[39;00m\n\u001b[1;32m    455\u001b[0m \u001b[38;5;124;03m    The solution is constrained to lie on the interval (tlo, thi).\u001b[39;00m\n\u001b[0;32m   (...)\u001b[0m\n\u001b[1;32m    475\u001b[0m \u001b[38;5;124;03m    nits-number of binary subdivisions carried out\u001b[39;00m\n\u001b[1;32m    476\u001b[0m \u001b[38;5;124;03m    \"\"\"\u001b[39;00m\n\u001b[0;32m--> 477\u001b[0m     nz \u001b[38;5;241m=\u001b[39m \u001b[38;5;28;43mlen\u001b[39;49m\u001b[43m(\u001b[49m\u001b[43mzf\u001b[49m\u001b[43m)\u001b[49m\n\u001b[1;32m    478\u001b[0m     \u001b[38;5;28;01mif\u001b[39;00m \u001b[38;5;28misinstance\u001b[39m(tlo, (\u001b[38;5;28mint\u001b[39m, \u001b[38;5;28mfloat\u001b[39m)):\n\u001b[1;32m    479\u001b[0m         tlo \u001b[38;5;241m=\u001b[39m [tlo] \u001b[38;5;241m*\u001b[39m nz\n",
      "\u001b[0;31mTypeError\u001b[0m: object of type 'int' has no len()"
     ]
    }
   ],
   "source": [
    "zf = 6\n",
    "def fun(t):\n",
    "    return 2 * t\n",
    "tlo = 0\n",
    "thi = 10\n",
    "EbayesThresh.vecbinsolv(zf, fun, tlo, thi)"
   ]
  },
  {
   "cell_type": "markdown",
   "id": "66883648-d636-4d2e-99b7-5b0dcb2a631d",
   "metadata": {},
   "source": [
    "- R"
   ]
  },
  {
   "cell_type": "markdown",
   "id": "77217641-b6d6-4696-b800-0860570c2b06",
   "metadata": {},
   "source": [
    "```R\n",
    "> fun <- function(t) {\n",
    "+     return(2 * t)\n",
    "+ }\n",
    "> zf <- 6\n",
    "> tlo <- 0\n",
    "> thi <- 10\n",
    "> vecbinsolv(zf, fun, tlo, thi)\n",
    "[1] 3\n",
    "```"
   ]
  },
  {
   "cell_type": "markdown",
   "id": "8dcd0d7e-eace-46fd-b80c-f612d161771a",
   "metadata": {},
   "source": [
    "`tfromw`"
   ]
  },
  {
   "cell_type": "markdown",
   "id": "cb479aec-fd7f-459a-8d59-62a7f0eb1375",
   "metadata": {},
   "source": [
    "> Given a single value or a vector of weights (i.e. prior probabilities that the parameter is nonzero) and sampling standard deviations (sd equals 1 for Cauchy prior), find the corresponding threshold(s) under the specified prior."
   ]
  },
  {
   "cell_type": "markdown",
   "id": "e51be23a-55e4-43b1-8460-92c5b231c70a",
   "metadata": {},
   "source": [
    "```R\n",
    "tfromw <- function(w, s = 1, prior = \"laplace\", bayesfac = FALSE, a = 0.5) {\n",
    "#\n",
    "#  Given the vector of weights w and s (sd), find the threshold or\n",
    "#   vector of thresholds corresponding to these weights, under the\n",
    "#   specified prior.\n",
    "#  If bayesfac=TRUE the Bayes factor thresholds are found, otherwise\n",
    "#   the posterior median thresholds are found.\n",
    "#  If the Laplace prior is used, a gives the value of the inverse scale\n",
    "#   (i.e., rate) parameter\n",
    "#\n",
    "\tpr <- substring(prior, 1, 1)\n",
    "\tif(bayesfac) {\n",
    "\t\tz <- 1/w - 2\n",
    "\t\tif(pr == \"l\"){ \n",
    "\t\t  if(length(w)>=length(s)) {\n",
    "\t\t    zz <- z\n",
    "\t\t  } else { zz <- rep(z, length(s)) }\n",
    "\t\t  tt <- vecbinsolv(zz, beta.laplace, 0, 10, s = s, a = a)\n",
    "\t\t}\n",
    "\t\tif(pr == \"c\")\n",
    "\t\t\ttt <- vecbinsolv(z, beta.cauchy, 0, 10)\n",
    "\t}\n",
    "\telse {\n",
    "\t  z <- 0\n",
    "\t\tif(pr == \"l\"){\n",
    "\t\t  zz <- rep(0, max(length(s), length(w)))\n",
    "                  \n",
    "\t\t  # When x/s-s*a>25, laplace.threshzero has value\n",
    "\t\t  #  close to 1/2; The boundary value of x can be\n",
    "\t\t  #  treated as the upper bound for search.\n",
    "  \t\t  tt <- vecbinsolv(zz, laplace.threshzero, 0, s*(25+s*a),\n",
    "                                   s = s, w = w, a = a)\n",
    "\t\t}\n",
    "\t\tif(pr == \"c\")\n",
    "\t\t\ttt <- vecbinsolv(z, cauchy.threshzero, 0, 10, w = w)\n",
    "\t}\n",
    "\treturn(tt)\n",
    "}\n",
    "```"
   ]
  },
  {
   "cell_type": "code",
   "execution_count": null,
   "id": "44df58cd-f7fd-48ac-83f2-b7f613f0c90d",
   "metadata": {},
   "outputs": [],
   "source": [
    "def tfromw(w, s=1, prior=\"laplace\", bayesfac=False, a=0.5):\n",
    "    pr = prior[0:1]\n",
    "    if bayesfac:\n",
    "        z = 1/w - 2\n",
    "        if pr == \"l\":\n",
    "            if len(w) >= len(s):\n",
    "                zz = z\n",
    "            else:\n",
    "                zz = np.tile(z, len(s))\n",
    "            tt = vecbinsolv(zz, beta.laplace, 0, 10, s = s, a = a) ********************\n",
    "        elif pr == \"c\":\n",
    "            tt = vecbinsolv(z, beta.cauchy, 0, 10)\n",
    "    else:\n",
    "        z = 0\n",
    "        if pr == \"l\":\n",
    "            zz = [0] * max(len(s), len(w))\n",
    "            tt = vecbinsolv(zz, laplace.threshzero, 0, s*(25+s*a), s = s, w = w, a = a)\n",
    "        elif prior == \"c\":\n",
    "            tt = vecbinsolv(z, cauchy.threshzero, 0, 10, w = w)\n",
    "    return tt\n"
   ]
  },
  {
   "cell_type": "code",
   "execution_count": null,
   "id": "58f80a46-89e0-4f83-8296-1ddd212ed453",
   "metadata": {},
   "outputs": [],
   "source": []
  },
  {
   "cell_type": "markdown",
   "id": "b509f71b-4fd3-4fe3-905b-fd1b3144f6dd",
   "metadata": {},
   "source": [
    "`tfromx`"
   ]
  },
  {
   "cell_type": "markdown",
   "id": "036e86e2-5e93-40dd-8231-8d0a15274e6c",
   "metadata": {},
   "source": [
    "> Given a vector of data and standard deviations (sd equals 1 for Cauchy prior), find the value or vector (heterogeneous sampling standard deviation with Laplace prior) of thresholds corresponding to the marginal maximum likelihood choice of weight."
   ]
  },
  {
   "cell_type": "markdown",
   "id": "9616c67c-5bb8-4520-9f5b-0a58cef5670a",
   "metadata": {},
   "source": [
    "*데이터가 주어졌을때, 가중치의 한계 최대 우도로 임계값 찾는 함수*"
   ]
  },
  {
   "cell_type": "markdown",
   "id": "c54a5f6e-a7a2-4496-b5fa-24c6c77c6350",
   "metadata": {},
   "source": [
    "```R\n",
    "tfromx <- function (x, s = 1, prior = \"laplace\", bayesfac = FALSE, a = 0.5,\n",
    "                    universalthresh = TRUE) {\n",
    "#\n",
    "#  Given the data x, the prior, and any other parameters, find the\n",
    "#   threshold corresponding to the marginal maximum likelihood\n",
    "#   estimator of the mixing weight.\n",
    "#\n",
    "  pr <- substring(prior, 1, 1)\n",
    "  if(pr == \"c\")\n",
    "    s = 1\n",
    "  if ( pr==\"l\" && is.na (a) ) {\n",
    "\twa <-  wandafromx(x, s, universalthresh)\n",
    "\tw  <-  wa$w\n",
    "\ta  <-  wa$a \n",
    "  } else {\n",
    "\tw <- wfromx(x, s, prior = prior, a = a)\n",
    "  }\n",
    "  return(tfromw(w, s, prior = prior, bayesfac = bayesfac, a = a))\n",
    "}\n",
    "```"
   ]
  },
  {
   "cell_type": "code",
   "execution_count": null,
   "id": "a41ad3ed-bba3-456c-84b7-065385208787",
   "metadata": {},
   "outputs": [],
   "source": [
    "EbayesThresh.tfromx(x, s = 1, prior = \"laplace\", bayesfac = False, a = 0.5, universalthresh = True)"
   ]
  }
 ],
 "metadata": {
  "kernelspec": {
   "display_name": "Python 3",
   "language": "python",
   "name": "python3"
  },
  "language_info": {
   "codemirror_mode": {
    "name": "ipython",
    "version": 3
   },
   "file_extension": ".py",
   "mimetype": "text/x-python",
   "name": "python",
   "nbconvert_exporter": "python",
   "pygments_lexer": "ipython3",
   "version": "3.8.0"
  }
 },
 "nbformat": 4,
 "nbformat_minor": 5
}
