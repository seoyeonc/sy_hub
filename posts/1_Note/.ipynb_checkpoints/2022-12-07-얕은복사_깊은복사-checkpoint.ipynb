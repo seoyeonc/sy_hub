{
 "cells": [
  {
   "cell_type": "raw",
   "id": "5e4ad430-b4d0-437d-9c5c-40aa60385e15",
   "metadata": {
    "id": "cac470df-29e7-4148-9bbd-d8b9a32fa570",
    "tags": []
   },
   "source": [
    "---\n",
    "title: \"A1: 깊은복사와 얕은복사 (12주차)\"\n",
    "author: \"SEOYEON CHOI\"\n",
    "date: \"2022-12-07\"\n",
    "---"
   ]
  },
  {
   "cell_type": "markdown",
   "id": "e7c417c1-67ec-4392-9968-e1b5c7ab4ec6",
   "metadata": {},
   "source": [
    "> copy"
   ]
  },
  {
   "cell_type": "markdown",
   "id": "e8a0f655-b3d9-41a9-b85f-eab461038506",
   "metadata": {},
   "source": [
    "# Introduction"
   ]
  },
  {
   "cell_type": "markdown",
   "id": "1124ba42-6cc0-492e-a390-f56170887168",
   "metadata": {},
   "source": [
    "# 비상식적인 append"
   ]
  },
  {
   "cell_type": "markdown",
   "id": "be44f765-c12f-44ba-8666-bb2e43e147ba",
   "metadata": {},
   "source": [
    "`-` 아래의 코드를 관찰하자."
   ]
  },
  {
   "cell_type": "code",
   "execution_count": 1,
   "id": "c0547980-98b1-4ec3-bb05-e7946a993ff7",
   "metadata": {},
   "outputs": [],
   "source": [
    "a=[1,2,3]\n",
    "b=a\n",
    "a=a+[4]"
   ]
  },
  {
   "cell_type": "markdown",
   "id": "19aee6f4-0831-4b0d-a74d-885b64a09f3d",
   "metadata": {},
   "source": [
    "현재 a,b의 출력결과는?"
   ]
  },
  {
   "cell_type": "code",
   "execution_count": 2,
   "id": "3d74df72-01fc-4f4c-a9f1-3f47b44ab141",
   "metadata": {},
   "outputs": [
    {
     "data": {
      "text/plain": [
       "([1, 2, 3, 4], [1, 2, 3])"
      ]
     },
     "execution_count": 2,
     "metadata": {},
     "output_type": "execute_result"
    }
   ],
   "source": [
    "a,b"
   ]
  },
  {
   "cell_type": "markdown",
   "id": "86d53ecf-29a7-4e2b-9b7a-1059fa829f68",
   "metadata": {},
   "source": [
    "`-` 이제 다시 아래의 코드를 관찰하자."
   ]
  },
  {
   "cell_type": "code",
   "execution_count": 3,
   "id": "51b557ca-b1a8-4a11-88fe-1e58e7f51263",
   "metadata": {},
   "outputs": [],
   "source": [
    "a=[1,2,3]\n",
    "b=a\n",
    "a.append(4) "
   ]
  },
  {
   "cell_type": "code",
   "execution_count": 4,
   "id": "b834ac6a-5f4c-4600-a1d5-f0fcee787ebf",
   "metadata": {},
   "outputs": [
    {
     "data": {
      "text/plain": [
       "([1, 2, 3, 4], [1, 2, 3, 4])"
      ]
     },
     "execution_count": 4,
     "metadata": {},
     "output_type": "execute_result"
    }
   ],
   "source": [
    "a,b"
   ]
  },
  {
   "cell_type": "markdown",
   "id": "d1c45dba-7e23-4fe6-8e09-1bf02f1407b5",
   "metadata": {},
   "source": [
    "# append의 동작원리: 틀린상상"
   ]
  },
  {
   "cell_type": "markdown",
   "id": "092b97b0-eaaf-4092-9762-04375d841185",
   "metadata": {},
   "source": [
    "`-` 아래의 코드를 다시 살펴보자."
   ]
  },
  {
   "cell_type": "code",
   "execution_count": 5,
   "id": "083e7654-13e8-4402-829a-a9da8690629b",
   "metadata": {},
   "outputs": [],
   "source": [
    "a=[1,2,3]\n",
    "b=a\n",
    "a.append(4)"
   ]
  },
  {
   "cell_type": "markdown",
   "id": "9873d0c0-aa55-48b1-ba02-80d1ac330e2c",
   "metadata": {},
   "source": [
    "a,b라는 변수들은 메모리에 어떻게 저장이 되어있을까?\n",
    "\n",
    "상상력을 조금 발휘하면 아래와 같이 여길 수 있다.\n",
    "\n",
    "1. 메모리는 변수를 담을 방이 여러개 있는 호텔이라고 생각하자.\n",
    "\n",
    "2. 아래를 실행하였을 경우"
   ]
  },
  {
   "cell_type": "code",
   "execution_count": 6,
   "id": "12fdd0ee-b13b-4ebd-92a3-15cfba6c512f",
   "metadata": {},
   "outputs": [],
   "source": [
    "a=[1,2,3]"
   ]
  },
  {
   "cell_type": "markdown",
   "id": "5496513e-8229-491c-9a2e-4695d8cb3c96",
   "metadata": {},
   "source": [
    "- 메모리주소1에 존재하는 방을 a라고 하고, 그 방에 [1,2,3]을 넣는다.\n",
    "\n",
    "3. 아래를 실행하였을 경우"
   ]
  },
  {
   "cell_type": "code",
   "execution_count": 7,
   "id": "8b09be7f-929e-4eb2-9376-872391128804",
   "metadata": {},
   "outputs": [],
   "source": [
    "b=a"
   ]
  },
  {
   "cell_type": "markdown",
   "id": "f6b3de61-53f8-4b6c-9bbb-11cdf80ca5d7",
   "metadata": {},
   "source": [
    "- 메모리주소2에 존재하는 방을 b라고 하고, 그 방에 a를 넣어야하는데, a는 [1,2,3]이니까 [1,2,3]을 넣는다.\n",
    "\n",
    "4. 아래를 실행하면"
   ]
  },
  {
   "cell_type": "code",
   "execution_count": 8,
   "id": "a9922b20-7afb-4bb3-85cf-c2a4962a2e44",
   "metadata": {},
   "outputs": [],
   "source": [
    "a.append(4)"
   ]
  },
  {
   "cell_type": "markdown",
   "id": "69e0cd88-2ad0-492b-9956-99f8d040436b",
   "metadata": {},
   "source": [
    "- 방 a로가서 [1,2,3]을 [1,2,3,4]로 바꾼다.\n",
    "\n",
    "- 그리고 방 b에는 아무것도 하지 않는다.\n",
    "\n",
    "`-` R에서는 맞는 비유인데, 파이썬은 적절하지 않은 비유이다."
   ]
  },
  {
   "cell_type": "markdown",
   "id": "8645830e-ba69-4f43-bacf-69903f365161",
   "metadata": {},
   "source": [
    "## 틀린이유"
   ]
  },
  {
   "cell_type": "code",
   "execution_count": 9,
   "id": "78069b30-63a6-4f81-bc62-71cd7134e248",
   "metadata": {},
   "outputs": [
    {
     "data": {
      "text/plain": [
       "139660748276272"
      ]
     },
     "execution_count": 9,
     "metadata": {},
     "output_type": "execute_result"
    }
   ],
   "source": [
    "id(a)"
   ]
  },
  {
   "cell_type": "code",
   "execution_count": 10,
   "id": "2d848fcf-22dc-4441-8883-dc738605c3c0",
   "metadata": {},
   "outputs": [
    {
     "data": {
      "text/plain": [
       "139660748276272"
      ]
     },
     "execution_count": 10,
     "metadata": {},
     "output_type": "execute_result"
    }
   ],
   "source": [
    "id(b)"
   ]
  },
  {
   "cell_type": "markdown",
   "id": "fc39ec01-95f6-4dd3-91f1-af6792586182",
   "metadata": {},
   "source": [
    "실제로는 a,b가 저장된 메모리 주소가 동일함"
   ]
  },
  {
   "cell_type": "markdown",
   "id": "fee1d063-154d-4c0f-b631-8755ab744b81",
   "metadata": {},
   "source": [
    "# append의 동작원리: 올바른 상상"
   ]
  },
  {
   "cell_type": "markdown",
   "id": "97063788-9d97-47e6-85e0-0acdcd736bfd",
   "metadata": {},
   "source": [
    "`-` 파이썬에서는 아래가 더 적절한 비유이다.\n",
    "\n",
    "1. 메모리는 변수를 담을 방이 여러개 있는 호텔이라고 생각하자.\n",
    "\n",
    "2. 아래를 실행하였을 경우"
   ]
  },
  {
   "cell_type": "code",
   "execution_count": 11,
   "id": "3ebf54a9-2c10-49bf-bb9d-71732d3f5890",
   "metadata": {},
   "outputs": [],
   "source": [
    "a=[1,2,3]"
   ]
  },
  {
   "cell_type": "markdown",
   "id": "880dfe4e-4e6d-4561-b1ed-12061ec588c8",
   "metadata": {},
   "source": [
    "- 메모리주소 `139753545242336`에서 [1,2,3]을 생성\n",
    "- 방 `139753545242336`의 방문에 a라는 포스트잇을 붙인다.\n",
    "- 앞으로 [1,2,3]에 접근하기 위해서는 여러 메모리방중에서 a라는 포스트잇이 붙은 방을 찾아가면 된다.\n",
    "\n",
    "3. 아래를 실행하였을 경우"
   ]
  },
  {
   "cell_type": "code",
   "execution_count": 12,
   "id": "3bdca776-3a23-4d6c-b4b9-31fcce7049ce",
   "metadata": {},
   "outputs": [],
   "source": [
    "b=a"
   ]
  },
  {
   "cell_type": "markdown",
   "id": "44217034-09ef-4413-8b4c-5e74c8a47e13",
   "metadata": {},
   "source": [
    "- a라는 포스트잇이 있는데, `a`라는 포스트잇이랑 b라는 포스트잇과 같은 효과를 주도록 한다.\n",
    "- 쉽게말하면 b라는 포스트잇을 방 `139753545242336`의 방문에 붙인다는 이야기.\n",
    "- 앞으로 [1,2,3]에 접근하기 위해서는 여러 메모리방중에서 a라는 포스트잇이 붙어 있거나 b라는 포스트잇이 붙어있는 방을 찾아가면 된다.\n",
    "\n",
    "4. 아래를 실행하면"
   ]
  },
  {
   "cell_type": "code",
   "execution_count": 13,
   "id": "14996c7f-4fcd-48e3-a2f9-8f018a69a951",
   "metadata": {},
   "outputs": [],
   "source": [
    "a.append(4)"
   ]
  },
  {
   "cell_type": "markdown",
   "id": "210b57f4-a671-4505-8d0d-ec2ab8d77de3",
   "metadata": {},
   "source": [
    "- `a`라는 포스트잇이 붙어있는 방으로 가서, 그 내용물에 append함수를 적용하여 4를 추가하라. 즉 내용물 [1,2,3]을 [1,2,3,4]로 바꾸라.\n",
    "- 같은방(`139753545242336`)에 a,b라는 포스트잇이 모두 붙어있음. 따라서 b라는 포스트잇이 붙은 방을 찾아가서 내용물을 열어보면 [1,2,3,4]가 나온다."
   ]
  },
  {
   "cell_type": "markdown",
   "id": "213d24e3-73bc-4b75-bc34-a553edff5235",
   "metadata": {},
   "source": [
    "# 할당문(=)의 이해"
   ]
  },
  {
   "cell_type": "markdown",
   "id": "1b9f8a98-7779-40cf-a3a6-961358297f5b",
   "metadata": {},
   "source": [
    "`-` 파이썬에서 할당문을 이해하기 위해서는 언제나 오른쪽을 먼저 읽어야 한다. \n",
    "\n",
    "`-` 할당문의 오른쪽에서는 객체를 생성하거나 가져옴 - 그 후에 라벨을 붙이듯이 할당문 왼쪽의 변수가 할당문 오른쪽의 객체에 바인딩 된다. (참조)\n",
    "\n",
    "`-` `b=a`는\n",
    "\n",
    "> 나는 이미 a가 의미하는게 무엇인지 알고있어. 그런데 그 실체를 b라고도 부르고 싶어. $\\to$ 참조\n",
    "\n",
    "라는 것과 같다. 즉 이미 a라고 부르고 있는것을 내가 b라고도 부르고 싶다는 의미인데 이는 마치 별명과 같다. (b는 a의 별명, alias) 그리고 이처럼 하나의 오브젝트에 여러개의 이름을 붙이는 것을 에일리어싱이라고 부른다."
   ]
  },
  {
   "cell_type": "markdown",
   "id": "1c4db83f-10ca-455d-b638-a7d5e68b1d04",
   "metadata": {},
   "source": [
    "# id, value"
   ]
  },
  {
   "cell_type": "markdown",
   "id": "13ad6fa8-f006-4a5d-98fe-163bb2406e74",
   "metadata": {},
   "source": [
    "## 예제1"
   ]
  },
  {
   "cell_type": "code",
   "execution_count": 14,
   "id": "2b0d6710-5005-471b-932b-4c61a6cb2080",
   "metadata": {},
   "outputs": [],
   "source": [
    "a=[1,2,3]\n",
    "b=a\n",
    "a.append(4)\n",
    "c=[1,2,3,4]"
   ]
  },
  {
   "cell_type": "markdown",
   "id": "b4d2ed54-ff11-42db-a2de-7092371a238f",
   "metadata": {},
   "source": [
    "여기에서 a,b,c는 모두 같은 value를 가진다."
   ]
  },
  {
   "cell_type": "code",
   "execution_count": 15,
   "id": "411edda8-787b-46dd-8985-c767ef9e9b56",
   "metadata": {},
   "outputs": [
    {
     "data": {
      "text/plain": [
       "[1, 2, 3, 4]"
      ]
     },
     "execution_count": 15,
     "metadata": {},
     "output_type": "execute_result"
    }
   ],
   "source": [
    "a"
   ]
  },
  {
   "cell_type": "code",
   "execution_count": 16,
   "id": "04f311a0-d401-4656-925b-7bb6332a6ae2",
   "metadata": {},
   "outputs": [
    {
     "data": {
      "text/plain": [
       "[1, 2, 3, 4]"
      ]
     },
     "execution_count": 16,
     "metadata": {},
     "output_type": "execute_result"
    }
   ],
   "source": [
    "b"
   ]
  },
  {
   "cell_type": "code",
   "execution_count": 17,
   "id": "223e70c0-e263-49de-ac79-5f481c6fca7c",
   "metadata": {},
   "outputs": [
    {
     "data": {
      "text/plain": [
       "[1, 2, 3, 4]"
      ]
     },
     "execution_count": 17,
     "metadata": {},
     "output_type": "execute_result"
    }
   ],
   "source": [
    "c"
   ]
  },
  {
   "cell_type": "markdown",
   "id": "7302e02d-430e-4f98-8812-c8e76b2b49fa",
   "metadata": {},
   "source": [
    "하지만 그 id까지 같은 것은 아니다."
   ]
  },
  {
   "cell_type": "code",
   "execution_count": 18,
   "id": "2772367a-b8c3-4939-95ff-d585fead0654",
   "metadata": {},
   "outputs": [
    {
     "data": {
      "text/plain": [
       "(139660748305984, 139660748305984, 139660748286224)"
      ]
     },
     "execution_count": 18,
     "metadata": {},
     "output_type": "execute_result"
    }
   ],
   "source": [
    "id(a), id(b), id(c)"
   ]
  },
  {
   "cell_type": "markdown",
   "id": "c4599a91-017f-4a7f-857d-4cd18fafda68",
   "metadata": {},
   "source": [
    "## 예제2"
   ]
  },
  {
   "cell_type": "code",
   "execution_count": 19,
   "id": "1e55505e-5630-414d-93b2-6fa9afd4ed78",
   "metadata": {},
   "outputs": [],
   "source": [
    "a=[1,2,3] \n",
    "b=a \n",
    "a=[1,2,3]+[4] "
   ]
  },
  {
   "cell_type": "markdown",
   "id": "1e5cf5f6-9c4b-407a-8602-1b0965b439fc",
   "metadata": {},
   "source": [
    "`a`를 다시 정의한 것이라 보면 될 듯"
   ]
  },
  {
   "cell_type": "code",
   "execution_count": 20,
   "id": "d54c3ef3-e84d-4d6d-80d5-a00096fdb4ba",
   "metadata": {},
   "outputs": [
    {
     "data": {
      "text/plain": [
       "([1, 2, 3, 4], [1, 2, 3])"
      ]
     },
     "execution_count": 20,
     "metadata": {},
     "output_type": "execute_result"
    }
   ],
   "source": [
    "a,b"
   ]
  },
  {
   "cell_type": "code",
   "execution_count": 21,
   "id": "4accc211-0343-4b45-bb50-c03b8cca3513",
   "metadata": {},
   "outputs": [
    {
     "data": {
      "text/plain": [
       "(139660748313296, 139660748290960)"
      ]
     },
     "execution_count": 21,
     "metadata": {},
     "output_type": "execute_result"
    }
   ],
   "source": [
    "id(a), id(b)"
   ]
  },
  {
   "cell_type": "markdown",
   "id": "c18bcd1f-7918-45aa-a315-9f00bb9eb33e",
   "metadata": {},
   "source": [
    "# 이터닝"
   ]
  },
  {
   "cell_type": "markdown",
   "id": "57ceebc2-5a68-436b-9044-095bca0c9679",
   "metadata": {},
   "source": [
    "## 예제1"
   ]
  },
  {
   "cell_type": "code",
   "execution_count": 22,
   "id": "6d3a4e56-e311-4224-b267-7f90ac239f84",
   "metadata": {},
   "outputs": [
    {
     "data": {
      "text/plain": [
       "139660748450224"
      ]
     },
     "execution_count": 22,
     "metadata": {},
     "output_type": "execute_result"
    }
   ],
   "source": [
    "a=1+2021\n",
    "id(a)"
   ]
  },
  {
   "cell_type": "markdown",
   "id": "4e8ae4e1-6f13-4d6d-a52c-e5b56ae1de8b",
   "metadata": {},
   "source": [
    "일단 할당"
   ]
  },
  {
   "cell_type": "code",
   "execution_count": 23,
   "id": "dfab8c68-3558-41ea-944f-9f5360b309aa",
   "metadata": {},
   "outputs": [
    {
     "data": {
      "text/plain": [
       "139660748450768"
      ]
     },
     "execution_count": 23,
     "metadata": {},
     "output_type": "execute_result"
    }
   ],
   "source": [
    "b=2023-1\n",
    "id(b)"
   ]
  },
  {
   "cell_type": "markdown",
   "id": "558dff64-5b31-4217-ab91-3a4422ee6ade",
   "metadata": {},
   "source": [
    "독립적으로 오브젝트 만들었으니 id가 다르지"
   ]
  },
  {
   "cell_type": "code",
   "execution_count": 24,
   "id": "8c958c29-0df8-4511-9357-e214bc8217f7",
   "metadata": {},
   "outputs": [
    {
     "data": {
      "text/plain": [
       "139660748450832"
      ]
     },
     "execution_count": 24,
     "metadata": {},
     "output_type": "execute_result"
    }
   ],
   "source": [
    "id(2022)"
   ]
  },
  {
   "cell_type": "markdown",
   "id": "e3afd618-0b06-405a-bc7d-73929350760a",
   "metadata": {},
   "source": [
    "## 예제2: 이제 다 이해했다고 생각했는데.."
   ]
  },
  {
   "cell_type": "code",
   "execution_count": 25,
   "id": "27cef373-6659-4280-bb2a-eeb86f3dc4db",
   "metadata": {},
   "outputs": [
    {
     "data": {
      "text/plain": [
       "7402432"
      ]
     },
     "execution_count": 25,
     "metadata": {},
     "output_type": "execute_result"
    }
   ],
   "source": [
    "a=1+2 \n",
    "id(a)"
   ]
  },
  {
   "cell_type": "code",
   "execution_count": 26,
   "id": "a4a22d42-7be6-4d93-93a5-845b086821b2",
   "metadata": {},
   "outputs": [
    {
     "data": {
      "text/plain": [
       "7402432"
      ]
     },
     "execution_count": 26,
     "metadata": {},
     "output_type": "execute_result"
    }
   ],
   "source": [
    "b=4-1\n",
    "id(b)"
   ]
  },
  {
   "cell_type": "markdown",
   "id": "f90850a1-1e5c-4786-bca8-0631f79105d9",
   "metadata": {},
   "source": [
    "이게 왜 똑같지..?\n",
    "\n",
    "(해설) 파이썬의 경우 효율성을 위해서 -5~256까지의 정수를 미리 저장해둠."
   ]
  },
  {
   "cell_type": "code",
   "execution_count": 27,
   "id": "1ec0d0c1-f710-41e6-bb96-54158c72db29",
   "metadata": {},
   "outputs": [
    {
     "data": {
      "text/plain": [
       "7402432"
      ]
     },
     "execution_count": 27,
     "metadata": {},
     "output_type": "execute_result"
    }
   ],
   "source": [
    "id(3)"
   ]
  },
  {
   "cell_type": "markdown",
   "id": "0ff79978-eda1-42d3-add3-6978e8a91972",
   "metadata": {},
   "source": [
    "# `.copy()`의 사용 (shallow copy의 사용)"
   ]
  },
  {
   "cell_type": "markdown",
   "id": "abe66097-c537-407e-8bc1-42565deb8b0b",
   "metadata": {},
   "source": [
    "## 예제1"
   ]
  },
  {
   "cell_type": "markdown",
   "id": "7a7946aa-8ded-4764-a035-b3d15108f203",
   "metadata": {},
   "source": [
    "- 아래의 예제를 살펴보자. (참조를 제대로 이해했다면 아래의 예제는 자연스럽게 이해가능)"
   ]
  },
  {
   "cell_type": "code",
   "execution_count": 28,
   "id": "0c90ff08-2ebf-401f-b68f-b6bc9b8a170e",
   "metadata": {},
   "outputs": [],
   "source": [
    "l1 = [3, [66,55,44]]\n",
    "l2 = l1"
   ]
  },
  {
   "cell_type": "code",
   "execution_count": 29,
   "id": "1f78fd85-a7d7-4a6d-a482-0b01817f9646",
   "metadata": {},
   "outputs": [
    {
     "data": {
      "text/plain": [
       "(139660748249920, 139660748249920)"
      ]
     },
     "execution_count": 29,
     "metadata": {},
     "output_type": "execute_result"
    }
   ],
   "source": [
    "id(l1),id(l2)"
   ]
  },
  {
   "cell_type": "code",
   "execution_count": 30,
   "id": "978a3bb5-1e13-4507-aca3-607be1340c20",
   "metadata": {},
   "outputs": [],
   "source": [
    "l1[0]=4"
   ]
  },
  {
   "cell_type": "code",
   "execution_count": 31,
   "id": "252454ac-c3e6-453a-9a8f-1b1cb69b7b9d",
   "metadata": {},
   "outputs": [
    {
     "data": {
      "text/plain": [
       "[4, [66, 55, 44]]"
      ]
     },
     "execution_count": 31,
     "metadata": {},
     "output_type": "execute_result"
    }
   ],
   "source": [
    "l1"
   ]
  },
  {
   "cell_type": "code",
   "execution_count": 32,
   "id": "fdf01e87-1429-46f9-81ab-a8fdb6d393d1",
   "metadata": {},
   "outputs": [
    {
     "data": {
      "text/plain": [
       "[4, [66, 55, 44]]"
      ]
     },
     "execution_count": 32,
     "metadata": {},
     "output_type": "execute_result"
    }
   ],
   "source": [
    "l2"
   ]
  },
  {
   "cell_type": "code",
   "execution_count": 33,
   "id": "e84463a7-47ef-4d32-8930-5a01c3204661",
   "metadata": {},
   "outputs": [
    {
     "data": {
      "text/plain": [
       "[4, [66, 55, 44], 5]"
      ]
     },
     "execution_count": 33,
     "metadata": {},
     "output_type": "execute_result"
    }
   ],
   "source": [
    "l2.append(5)\n",
    "l2"
   ]
  },
  {
   "cell_type": "code",
   "execution_count": 34,
   "id": "66c242f9-f267-4769-b8fa-74584d6f41f4",
   "metadata": {},
   "outputs": [
    {
     "data": {
      "text/plain": [
       "[4, [66, 55, 44], 5]"
      ]
     },
     "execution_count": 34,
     "metadata": {},
     "output_type": "execute_result"
    }
   ],
   "source": [
    "l1"
   ]
  },
  {
   "cell_type": "markdown",
   "id": "e8966b3d-624a-460f-84aa-76d122545144",
   "metadata": {},
   "source": [
    "## 예제2: R과 같이 = 를 쓰고 싶다면?"
   ]
  },
  {
   "cell_type": "code",
   "execution_count": 35,
   "id": "88a85ac3-3d11-43fc-afea-2d21d2fb2dcc",
   "metadata": {
    "tags": []
   },
   "outputs": [],
   "source": [
    "l1 = [3, [66,55,44]]\n",
    "l2 = l1.copy()"
   ]
  },
  {
   "cell_type": "code",
   "execution_count": 36,
   "id": "fabdd433-9205-44f7-b317-5a0307531f0c",
   "metadata": {},
   "outputs": [
    {
     "data": {
      "text/plain": [
       "(139660748530944, 139660748530784)"
      ]
     },
     "execution_count": 36,
     "metadata": {},
     "output_type": "execute_result"
    }
   ],
   "source": [
    "id(l1),id(l2) ## 드디어 주소가 달라졌다."
   ]
  },
  {
   "cell_type": "markdown",
   "id": "691cd77c-edb9-4e4f-b2ae-ed1220e92e17",
   "metadata": {},
   "source": [
    "주소 달라짐!!"
   ]
  },
  {
   "cell_type": "code",
   "execution_count": 37,
   "id": "a143835d-5b1a-474e-8221-d7ba3c6ba7f8",
   "metadata": {},
   "outputs": [],
   "source": [
    "l1[0]=100"
   ]
  },
  {
   "cell_type": "code",
   "execution_count": 38,
   "id": "e97c9d19-f742-4dbb-9e55-eb7649550cb8",
   "metadata": {},
   "outputs": [
    {
     "data": {
      "text/plain": [
       "[100, [66, 55, 44]]"
      ]
     },
     "execution_count": 38,
     "metadata": {},
     "output_type": "execute_result"
    }
   ],
   "source": [
    "l1"
   ]
  },
  {
   "cell_type": "code",
   "execution_count": 39,
   "id": "ad03b631-e21a-459b-b266-d4e2f2c39a6a",
   "metadata": {},
   "outputs": [
    {
     "data": {
      "text/plain": [
       "[3, [66, 55, 44]]"
      ]
     },
     "execution_count": 39,
     "metadata": {},
     "output_type": "execute_result"
    }
   ],
   "source": [
    "l2"
   ]
  },
  {
   "cell_type": "markdown",
   "id": "7c221bf8-6071-47b5-bb60-200aa47d3d65",
   "metadata": {},
   "source": [
    "## 예제3: 이제 다 이해했다고 생각했는데.."
   ]
  },
  {
   "cell_type": "markdown",
   "id": "f59dd403-0517-4bf5-be35-07c0201512c2",
   "metadata": {},
   "source": [
    "- 이제 다 이해했다고 생각했는데.."
   ]
  },
  {
   "cell_type": "code",
   "execution_count": 40,
   "id": "f755e3a0-f1d5-44a2-b284-c71d1b1f28f1",
   "metadata": {},
   "outputs": [],
   "source": [
    "l1 = [3,[66,55,44]]\n",
    "l2 = l1.copy()"
   ]
  },
  {
   "cell_type": "code",
   "execution_count": 41,
   "id": "36c64be6-4fa3-4e19-a5fc-b0ca25f52925",
   "metadata": {},
   "outputs": [
    {
     "data": {
      "text/plain": [
       "(139660807804960, 139660807804560)"
      ]
     },
     "execution_count": 41,
     "metadata": {},
     "output_type": "execute_result"
    }
   ],
   "source": [
    "id(l1),id(l2)"
   ]
  },
  {
   "cell_type": "code",
   "execution_count": 42,
   "id": "1c0dbb5b-606d-455c-b81c-5261f3a05fb2",
   "metadata": {},
   "outputs": [],
   "source": [
    "l1[1].append(33)"
   ]
  },
  {
   "cell_type": "code",
   "execution_count": 43,
   "id": "36457ee5-8536-4956-a9f4-03fda5a43780",
   "metadata": {},
   "outputs": [
    {
     "data": {
      "text/plain": [
       "[3, [66, 55, 44, 33]]"
      ]
     },
     "execution_count": 43,
     "metadata": {},
     "output_type": "execute_result"
    }
   ],
   "source": [
    "l1"
   ]
  },
  {
   "cell_type": "code",
   "execution_count": 44,
   "id": "58acf5f4-28ba-40bb-8d0c-c5085de8113d",
   "metadata": {},
   "outputs": [
    {
     "data": {
      "text/plain": [
       "[3, [66, 55, 44, 33]]"
      ]
     },
     "execution_count": 44,
     "metadata": {},
     "output_type": "execute_result"
    }
   ],
   "source": [
    "l2"
   ]
  },
  {
   "cell_type": "markdown",
   "id": "edd0cd46-1bdc-4e14-a361-ec0a5c740df3",
   "metadata": {},
   "source": [
    "왜 또 참조한것마냥 l1과 l2가 같이 바뀌고 있지?"
   ]
  },
  {
   "cell_type": "markdown",
   "id": "1ee5bc88-50d4-4ceb-bff0-3aad9c34bc94",
   "metadata": {},
   "source": [
    "# Shallow copy의 이해"
   ]
  },
  {
   "cell_type": "markdown",
   "id": "54f6409b-f554-45d4-9aab-631c4161f7bb",
   "metadata": {},
   "source": [
    "- 방금 살펴본 예제3을 이해하기 위해서는 shallow copy를 이해해야 한다."
   ]
  },
  {
   "cell_type": "markdown",
   "id": "db4b6fb2-09f3-46d7-8fb5-c2730b34ecbc",
   "metadata": {},
   "source": [
    "## 예제1"
   ]
  },
  {
   "cell_type": "code",
   "execution_count": 45,
   "id": "d16fc3bb-8af8-4d9b-aac5-ac7cce960ef1",
   "metadata": {},
   "outputs": [],
   "source": [
    "a=2222\n",
    "b=2222"
   ]
  },
  {
   "cell_type": "code",
   "execution_count": 46,
   "id": "ee1b7ab0-034b-4b44-8ae1-d3b653258bba",
   "metadata": {},
   "outputs": [
    {
     "data": {
      "text/plain": [
       "(139660739479536, 139660739478192)"
      ]
     },
     "execution_count": 46,
     "metadata": {},
     "output_type": "execute_result"
    }
   ],
   "source": [
    "id(a),id(b)"
   ]
  },
  {
   "cell_type": "markdown",
   "id": "3d004af4-ca61-4f90-8c71-7f5dacc962b5",
   "metadata": {},
   "source": [
    "메모리 상황\n",
    "\n",
    "1. 2222라는 오브젝트가 어떤공간(id(a): `139753545300880`)에 생성되고 그 공간에 `a`라는 라벨이 붙음\n",
    "2. 2222라는 오브젝트가 어떤공간(id(b): `139753545300880`)에 생성되고 그 공간에 `b`라는 라벨이 붙음\n",
    "\n",
    "즉 -5~256 이외의 2개의 메모리 공간을 추가적으로 사용"
   ]
  },
  {
   "cell_type": "markdown",
   "id": "b830be3a-dabc-4c58-af11-7b25d6a7c7d0",
   "metadata": {},
   "source": [
    "## 예제2"
   ]
  },
  {
   "cell_type": "code",
   "execution_count": 48,
   "id": "76b758c8-c4db-4dfb-afe9-955395b3b49e",
   "metadata": {},
   "outputs": [],
   "source": [
    "a=[1,2,2222]\n",
    "b=[1,2,2222]"
   ]
  },
  {
   "cell_type": "markdown",
   "id": "5b3024c0-411f-4d99-ae6e-b2c471e2fcf9",
   "metadata": {},
   "source": [
    "메모리 공간에 1,2는 이미 저장되어 있어서 생성할 필요 없고 2022만 메모리 공간에 생성하면 된다."
   ]
  },
  {
   "cell_type": "code",
   "execution_count": 49,
   "id": "347dac90-3314-4caf-a151-4ca1deb72f55",
   "metadata": {},
   "outputs": [
    {
     "data": {
      "text/plain": [
       "(139660739560064, [7402368, 7402400, 139660739480272])"
      ]
     },
     "execution_count": 49,
     "metadata": {},
     "output_type": "execute_result"
    }
   ],
   "source": [
    "id(a), [id(a[0]),id(a[1]),id(a[2])] # a=[1,2,2222]"
   ]
  },
  {
   "cell_type": "code",
   "execution_count": 50,
   "id": "c5efa054-465b-46b9-a8a9-2f39d9d115ab",
   "metadata": {},
   "outputs": [
    {
     "data": {
      "text/plain": [
       "(139660739560864, [7402368, 7402400, 139660739479312])"
      ]
     },
     "execution_count": 50,
     "metadata": {},
     "output_type": "execute_result"
    }
   ],
   "source": [
    "id(b), [id(b[0]),id(b[1]),id(b[2])] # b=[1,2,2222] "
   ]
  },
  {
   "cell_type": "code",
   "execution_count": 51,
   "id": "2e8090d0-bdf3-42e7-ab84-e814741af313",
   "metadata": {},
   "outputs": [],
   "source": [
    "a.append(4)"
   ]
  },
  {
   "cell_type": "code",
   "execution_count": 52,
   "id": "2268bb70-3960-48be-8c87-c08d88c83382",
   "metadata": {},
   "outputs": [
    {
     "data": {
      "text/plain": [
       "[1, 2, 2222, 4]"
      ]
     },
     "execution_count": 52,
     "metadata": {},
     "output_type": "execute_result"
    }
   ],
   "source": [
    "a"
   ]
  },
  {
   "cell_type": "code",
   "execution_count": 53,
   "id": "c1276683-8af2-49ef-9f50-8f4d472048a7",
   "metadata": {},
   "outputs": [
    {
     "data": {
      "text/plain": [
       "[1, 2, 2222]"
      ]
     },
     "execution_count": 53,
     "metadata": {},
     "output_type": "execute_result"
    }
   ],
   "source": [
    "b"
   ]
  },
  {
   "cell_type": "markdown",
   "id": "6faf2a74-febd-45f3-b813-cbcefe62ffb9",
   "metadata": {},
   "source": [
    "메모리상황\n",
    "\n",
    "0. -5~256까지의 숫자는 미리 메모리에 저장되어 있다.(`이터닝`) 이중에서 1은 id(a[0]): `7394656`, 2는 id(a[1]): `7394688`에 저장되어있음.\n",
    "1. 2222가 공간 id(a[2]): `139753178093776`에서 만들어진다.\n",
    "2. 어떠한 리스트오브젝트가 공간 id(a): `139753182327904`에서 만들어지고 원소로 [1,2,2222]를 가진다. 이 공간에 a라는 포스트잇을 붙인다.\n",
    "3. 2222가 공간 id(a)[2]: `139753178095568`에서 만들어진다.\n",
    "4. 어떠한 리스트오브젝트가 공간 id(b): `139753173818656`에서 만들어지고 원소로 [1,2,2222]를 가진다. 이 공간에 b라는 포스트잇을 붙인다.\n",
    "5. a라는 포스트잇이 붙은 공간으로 이동하여 원소에 4를 추가시킨다.\n",
    "\n",
    "즉 -5~256이외에 4개의 메모리 공간을 추가사용 (a,b,a의 2222,b의 2222)"
   ]
  },
  {
   "cell_type": "markdown",
   "id": "6f660d67-d0a8-4b18-9763-88377f0e9bb0",
   "metadata": {},
   "source": [
    "## 예제3"
   ]
  },
  {
   "cell_type": "code",
   "execution_count": 54,
   "id": "434ded1c-d95d-4bd4-b695-16fced98c573",
   "metadata": {},
   "outputs": [],
   "source": [
    "l1 = [3,[66,55,44]]\n",
    "l2 = l1.copy()"
   ]
  },
  {
   "cell_type": "code",
   "execution_count": 55,
   "id": "e3b27d13-df69-4c32-89d8-7101d3207bc5",
   "metadata": {},
   "outputs": [
    {
     "data": {
      "text/plain": [
       "(139660748288960, [7402432, 139660739562784])"
      ]
     },
     "execution_count": 55,
     "metadata": {},
     "output_type": "execute_result"
    }
   ],
   "source": [
    "id(l1), [id(l1[0]), id(l1[1])]"
   ]
  },
  {
   "cell_type": "code",
   "execution_count": 56,
   "id": "37db6d58-0db4-406f-a801-417f86cbe35d",
   "metadata": {},
   "outputs": [
    {
     "data": {
      "text/plain": [
       "(139660739539504, [7402432, 139660739562784])"
      ]
     },
     "execution_count": 56,
     "metadata": {},
     "output_type": "execute_result"
    }
   ],
   "source": [
    "id(l2), [id(l2[0]), id(l2[1])]"
   ]
  },
  {
   "cell_type": "markdown",
   "id": "130dfafe-6b2f-43a5-b879-efa6d2f84e8b",
   "metadata": {},
   "source": [
    "메모리상황 "
   ]
  },
  {
   "cell_type": "markdown",
   "id": "841c01bc-37f4-4890-b3b5-98b2ed173ffa",
   "metadata": {},
   "source": [
    "0. -5~256까지의 숫자가 메모리에 저장되어 있다. \n",
    "1. 저장된 숫자중 66,55,44를 묶어서 리스트로 구성하고 이 리스트를 공간 id(l1[1]): `139753183707216`에 저장. \n",
    "2. 숫자 3과 공간 id(l1[1]): `139753183707216`에 저장된 리스트 [66,55,44]를 하나로 묶어서 새로운 리스트를 구성하고 이를 공간 id(l1): `139753183437040`에 저장. 공간 id(l1): `139753183437040`에 `l1`이라는 포스트잇 생성. \n",
    "3. 공간 id(l2): `139753182311120`에 `l1`의 원소들을 모아서 새로운 리스트를 구성함. 공간 id(l2): `139753182311120`에 `l2`라는 포스트잇 생성. "
   ]
  },
  {
   "cell_type": "code",
   "execution_count": 57,
   "id": "8f9c4af8-aed7-445a-a618-ae849681c547",
   "metadata": {},
   "outputs": [
    {
     "data": {
      "text/plain": [
       "([7777, [66, 55, 44]], [3, [66, 55, 44]])"
      ]
     },
     "execution_count": 57,
     "metadata": {},
     "output_type": "execute_result"
    }
   ],
   "source": [
    "l1[0] = 7777\n",
    "l1,l2"
   ]
  },
  {
   "cell_type": "code",
   "execution_count": 58,
   "id": "1b09f483-072a-44c5-a2c7-8940586323f2",
   "metadata": {},
   "outputs": [
    {
     "data": {
      "text/plain": [
       "(139660748288960, [139660739478544, 139660739562784])"
      ]
     },
     "execution_count": 58,
     "metadata": {},
     "output_type": "execute_result"
    }
   ],
   "source": [
    "id(l1), [id(l1[0]), id(l1[1])]"
   ]
  },
  {
   "cell_type": "code",
   "execution_count": 59,
   "id": "954b040b-3139-4b0c-a072-7973a9a61881",
   "metadata": {},
   "outputs": [
    {
     "data": {
      "text/plain": [
       "(139660739539504, [7402432, 139660739562784])"
      ]
     },
     "execution_count": 59,
     "metadata": {},
     "output_type": "execute_result"
    }
   ],
   "source": [
    "id(l2), [id(l2[0]), id(l2[1])]"
   ]
  },
  {
   "cell_type": "markdown",
   "id": "2e1333f2-8e8d-4155-9f0a-54cb70ecb855",
   "metadata": {},
   "source": [
    "0. l1[0]은 원래 공간 `7394720`와 binding 되어 있었음.  \n",
    "1. 그런데 7777이라는 새로운 오브젝트가 공간 id(l1): `139753178092080`에 생성되고 l1[0]이 공간 `139753178092080`와 다시 binding 됨. "
   ]
  },
  {
   "cell_type": "markdown",
   "id": "ec3efb9f-d741-4830-ba92-84aa0e988b58",
   "metadata": {
    "tags": []
   },
   "source": [
    "## 예제4"
   ]
  },
  {
   "cell_type": "code",
   "execution_count": 60,
   "id": "5e278e3b-b4d1-4af6-b7da-62e16c1f6cdd",
   "metadata": {},
   "outputs": [],
   "source": [
    "l1 = [3,[66,55,44]]\n",
    "l2 = l1.copy()\n",
    "l1.append(7777)"
   ]
  },
  {
   "cell_type": "code",
   "execution_count": 61,
   "id": "1845c29f-68d9-4c73-9b29-756f395681d6",
   "metadata": {},
   "outputs": [
    {
     "data": {
      "text/plain": [
       "([3, [66, 55, 44], 7777], [3, [66, 55, 44]])"
      ]
     },
     "execution_count": 61,
     "metadata": {},
     "output_type": "execute_result"
    }
   ],
   "source": [
    "l1,l2"
   ]
  },
  {
   "cell_type": "code",
   "execution_count": 62,
   "id": "69747b98-5a41-4c8f-aaa8-3ef02a47afd7",
   "metadata": {},
   "outputs": [
    {
     "data": {
      "text/plain": [
       "(139660739540064, [7402432, 139660748258672, 139660739477968])"
      ]
     },
     "execution_count": 62,
     "metadata": {},
     "output_type": "execute_result"
    }
   ],
   "source": [
    "id(l1), [id(l1[0]), id(l1[1]), id(l1[2])]"
   ]
  },
  {
   "cell_type": "code",
   "execution_count": 63,
   "id": "fd0596a5-4ebd-4c50-acaa-2464d1053c18",
   "metadata": {},
   "outputs": [
    {
     "data": {
      "text/plain": [
       "(139660748282608, [7402432, 139660748258672])"
      ]
     },
     "execution_count": 63,
     "metadata": {},
     "output_type": "execute_result"
    }
   ],
   "source": [
    "id(l2), [id(l2[0]), id(l2[1])]"
   ]
  },
  {
   "cell_type": "markdown",
   "id": "c7f9ab30-2960-4357-9491-5b1e4e000bce",
   "metadata": {},
   "source": [
    "> 예제3, 예제4를 통하여 리스트가 가변형객체라는 것을 확인할 수 있다. 예제3의 경우 l1이 저장되어있던 메모리공간의 내용물이 [3,[66,55,44]] 에서 [7777,[66,55,44]] 로 바뀌었다. 예제4의 경우 l1이 저장되어있던 메모리공간의 내용물이 [3,[66,55,44]] 에서 [3,[66,55,44],7777] 로 바뀌었다. "
   ]
  },
  {
   "cell_type": "markdown",
   "id": "9981b3ad-3211-437f-92b0-1d8ae96c4d27",
   "metadata": {
    "tags": []
   },
   "source": [
    "## 예제5: 우리를 힘들게 했던 그 예제. "
   ]
  },
  {
   "cell_type": "markdown",
   "id": "e225ff8f-1af4-40c6-8cbf-6afcad803c8b",
   "metadata": {},
   "source": [
    "(시점1)"
   ]
  },
  {
   "cell_type": "code",
   "execution_count": 64,
   "id": "9e04a648-d879-4fb3-a0c4-f3d75fab4436",
   "metadata": {},
   "outputs": [],
   "source": [
    "l1 = [3,[66,55,44]]\n",
    "l2 = l1.copy()"
   ]
  },
  {
   "cell_type": "code",
   "execution_count": 65,
   "id": "bf6440b5-fbc4-4929-9681-1d087ac8926c",
   "metadata": {},
   "outputs": [
    {
     "data": {
      "text/plain": [
       "([3, [66, 55, 44]], [3, [66, 55, 44]])"
      ]
     },
     "execution_count": 65,
     "metadata": {},
     "output_type": "execute_result"
    }
   ],
   "source": [
    "l1,l2"
   ]
  },
  {
   "cell_type": "code",
   "execution_count": 66,
   "id": "289ee11f-294a-4b2e-9ecb-645055658f55",
   "metadata": {},
   "outputs": [
    {
     "data": {
      "text/plain": [
       "(139660748600336, [7402432, 139660748255792])"
      ]
     },
     "execution_count": 66,
     "metadata": {},
     "output_type": "execute_result"
    }
   ],
   "source": [
    "id(l1), [id(l1[0]), id(l1[1])]"
   ]
  },
  {
   "cell_type": "code",
   "execution_count": 67,
   "id": "e62bea00-9648-47fb-99fe-249275c1e3a8",
   "metadata": {},
   "outputs": [
    {
     "data": {
      "text/plain": [
       "(139660748237712, [7402432, 139660748255792])"
      ]
     },
     "execution_count": 67,
     "metadata": {},
     "output_type": "execute_result"
    }
   ],
   "source": [
    "id(l2), [id(l2[0]), id(l2[1])]"
   ]
  },
  {
   "cell_type": "markdown",
   "id": "a0b495c4-418d-4a0b-91f4-73030a4cccf4",
   "metadata": {},
   "source": [
    "(시점2)"
   ]
  },
  {
   "cell_type": "code",
   "execution_count": 68,
   "id": "b429f91d-7bde-40ff-af07-1a72a92afd5c",
   "metadata": {},
   "outputs": [],
   "source": [
    "l1[1].append(7777)"
   ]
  },
  {
   "cell_type": "markdown",
   "id": "a783d88a-1911-492d-bcec-7326fcb94794",
   "metadata": {},
   "source": [
    "l1[1]의 묶음방식이 저장된 공간에 7777 추가할 거야"
   ]
  },
  {
   "cell_type": "code",
   "execution_count": 69,
   "id": "a203644f-b066-4a88-b569-24d17a358626",
   "metadata": {},
   "outputs": [
    {
     "data": {
      "text/plain": [
       "([3, [66, 55, 44, 7777]], [3, [66, 55, 44, 7777]])"
      ]
     },
     "execution_count": 69,
     "metadata": {},
     "output_type": "execute_result"
    }
   ],
   "source": [
    "l1,l2"
   ]
  },
  {
   "cell_type": "code",
   "execution_count": 70,
   "id": "2f9d38f7-dd16-4a00-b427-3020126163b6",
   "metadata": {},
   "outputs": [
    {
     "data": {
      "text/plain": [
       "(139660748600336, [7402432, 139660748255792])"
      ]
     },
     "execution_count": 70,
     "metadata": {},
     "output_type": "execute_result"
    }
   ],
   "source": [
    "id(l1), [id(l1[0]), id(l1[1])]"
   ]
  },
  {
   "cell_type": "code",
   "execution_count": 71,
   "id": "b9ed88f8-962f-4976-b173-5cecc15b8210",
   "metadata": {},
   "outputs": [
    {
     "data": {
      "text/plain": [
       "(139660748237712, [7402432, 139660748255792])"
      ]
     },
     "execution_count": 71,
     "metadata": {},
     "output_type": "execute_result"
    }
   ],
   "source": [
    "id(l2), [id(l2[0]), id(l2[1])]"
   ]
  },
  {
   "cell_type": "markdown",
   "id": "f2bc9b64-91a9-4dbf-b89d-08be0d6c5af0",
   "metadata": {},
   "source": [
    "해설: 사실 시점1에서 메모리 주소상황을 잘 이해했다면 신기한 일이 아니다. `.copy()`는 l1과 l2의 주소만 다르게 만들 뿐 내용물인 `l1[0]`,`l1[1]`는 동일하니까."
   ]
  },
  {
   "cell_type": "markdown",
   "id": "90520c01-7a4d-4984-bdbd-69a65226e64f",
   "metadata": {},
   "source": [
    "## 예제6: 신임교수=['최규빈','이영미']"
   ]
  },
  {
   "cell_type": "markdown",
   "id": "44409039-f30e-4b04-822d-9a857a743440",
   "metadata": {},
   "source": [
    "`-` 최규빈, 이영미는 신임교수임 "
   ]
  },
  {
   "cell_type": "code",
   "execution_count": 72,
   "id": "54b3bbc3-2640-4970-9f3d-534b78673cd4",
   "metadata": {},
   "outputs": [],
   "source": [
    "신임교수 = ['최규빈','이영미']"
   ]
  },
  {
   "cell_type": "code",
   "execution_count": 73,
   "id": "da788bd7-f3c7-4e6b-9a05-2deaaf725d92",
   "metadata": {},
   "outputs": [
    {
     "data": {
      "text/plain": [
       "(139660748511984, 139660748209680, 139660748209200)"
      ]
     },
     "execution_count": 73,
     "metadata": {},
     "output_type": "execute_result"
    }
   ],
   "source": [
    "id(신임교수), id('최규빈'), id('이영미')"
   ]
  },
  {
   "cell_type": "markdown",
   "id": "53f168c7-6f3f-4a98-bcf6-270a12b21a21",
   "metadata": {},
   "source": [
    "`-` 신임교수를 누군가는 막내들이라고 부르기도 함. "
   ]
  },
  {
   "cell_type": "code",
   "execution_count": 74,
   "id": "f6f11817-fac8-430d-a0eb-c716779ac281",
   "metadata": {},
   "outputs": [],
   "source": [
    "막내들 = 신임교수 "
   ]
  },
  {
   "cell_type": "markdown",
   "id": "0ab50242-eb9f-4f3f-a571-cf71fbc03925",
   "metadata": {},
   "source": [
    "참조"
   ]
  },
  {
   "cell_type": "code",
   "execution_count": 75,
   "id": "dfe6250e-a7e8-426d-bff7-1d6f93683780",
   "metadata": {},
   "outputs": [
    {
     "data": {
      "text/plain": [
       "(139660748511984, 139660748511984)"
      ]
     },
     "execution_count": 75,
     "metadata": {},
     "output_type": "execute_result"
    }
   ],
   "source": [
    "id(막내들), id(신임교수)"
   ]
  },
  {
   "cell_type": "markdown",
   "id": "8c07df61-7e3b-42a1-80ef-2982c6e234e6",
   "metadata": {},
   "source": [
    "\"막내들\"이라는 단어와 \"신임교수\"라는 단어는 사실 같은 말임 "
   ]
  },
  {
   "cell_type": "markdown",
   "id": "43d3f353-5936-4acc-9cab-41a93b09bfbf",
   "metadata": {},
   "source": [
    "여기까지 참조 설명"
   ]
  },
  {
   "cell_type": "markdown",
   "id": "27be4005-aeba-4983-b4ac-b35e72805b57",
   "metadata": {},
   "source": [
    "`-` 새로운 교수 \"박혜원\"이 뽑혔음. "
   ]
  },
  {
   "cell_type": "code",
   "execution_count": 76,
   "id": "5a67704f-9f4e-47fc-83be-7b99f75d28c4",
   "metadata": {},
   "outputs": [],
   "source": [
    "신임교수.append(\"박혜원\")"
   ]
  },
  {
   "cell_type": "code",
   "execution_count": 77,
   "id": "3b3f013c-ca5f-42c9-9cad-0fae2ce2385d",
   "metadata": {},
   "outputs": [
    {
     "data": {
      "text/plain": [
       "(['최규빈', '이영미', '박혜원'], ['최규빈', '이영미', '박혜원'])"
      ]
     },
     "execution_count": 77,
     "metadata": {},
     "output_type": "execute_result"
    }
   ],
   "source": [
    "신임교수, 막내들"
   ]
  },
  {
   "cell_type": "markdown",
   "id": "2452a4b4-ebee-4e8e-80b7-d261bd225b42",
   "metadata": {},
   "source": [
    "`-` 전북대 통계학과에서 R특강팀을 구성하여 방학중 R교육을 실시하고자함. 특강팀은 우선 신임교수들로 구성. "
   ]
  },
  {
   "cell_type": "code",
   "execution_count": 78,
   "id": "8286f139-7902-4f00-8ef6-34ce8d517b21",
   "metadata": {},
   "outputs": [
    {
     "data": {
      "text/plain": [
       "['최규빈', '이영미', '박혜원']"
      ]
     },
     "execution_count": 78,
     "metadata": {},
     "output_type": "execute_result"
    }
   ],
   "source": [
    "R특강팀 = 신임교수.copy()\n",
    "R특강팀 "
   ]
  },
  {
   "cell_type": "markdown",
   "id": "64e6849d-063e-4400-b1af-c1b61e064571",
   "metadata": {},
   "source": [
    "`-` R특강팀에 `최혜미`교수님 추가. (그렇지만 최혜미교수님이 막내는 아니야.. // 참조와 shallow copy의 차이점) "
   ]
  },
  {
   "cell_type": "code",
   "execution_count": 79,
   "id": "20d6a7f7-f9cd-49c2-a461-6a771ce89468",
   "metadata": {},
   "outputs": [],
   "source": [
    "R특강팀.append(\"최혜미\") "
   ]
  },
  {
   "cell_type": "code",
   "execution_count": 80,
   "id": "894b9912-6caa-496c-acb7-b6e502110b8f",
   "metadata": {},
   "outputs": [
    {
     "data": {
      "text/plain": [
       "(['최규빈', '이영미', '박혜원', '최혜미'], ['최규빈', '이영미', '박혜원'], ['최규빈', '이영미', '박혜원'])"
      ]
     },
     "execution_count": 80,
     "metadata": {},
     "output_type": "execute_result"
    }
   ],
   "source": [
    "R특강팀, 신임교수, 막내들"
   ]
  },
  {
   "cell_type": "markdown",
   "id": "83bb6746-c85e-4939-9de6-f612f560191e",
   "metadata": {},
   "source": [
    "`-` R특강팀에서 양성준 교수를 추가하여 파이썬 특강팀을 구성 "
   ]
  },
  {
   "cell_type": "code",
   "execution_count": 81,
   "id": "7a244d77-4e39-406f-8d3e-0afc744a9645",
   "metadata": {},
   "outputs": [
    {
     "data": {
      "text/plain": [
       "[['최규빈', '이영미', '박혜원', '최혜미'], '양성준']"
      ]
     },
     "execution_count": 81,
     "metadata": {},
     "output_type": "execute_result"
    }
   ],
   "source": [
    "파이썬특강팀 = [R특강팀, \"양성준\"]\n",
    "파이썬특강팀"
   ]
  },
  {
   "cell_type": "markdown",
   "id": "41c6e3c3-5c6a-4f0d-985a-ebd7adb3c650",
   "metadata": {},
   "source": [
    "`-` 이영미교수는 다른 일이 많아서 R특강 팀에서 제외됨. (그럼 자연히 파이썬에서도 제외됨!!) "
   ]
  },
  {
   "cell_type": "code",
   "execution_count": 82,
   "id": "faacb22c-219e-4695-ab75-06dca59d29a4",
   "metadata": {},
   "outputs": [],
   "source": [
    "R특강팀.remove(\"이영미\")"
   ]
  },
  {
   "cell_type": "code",
   "execution_count": 83,
   "id": "4946991b-5330-449e-be0f-c06522ec89fc",
   "metadata": {},
   "outputs": [
    {
     "data": {
      "text/plain": [
       "(['최규빈', '박혜원', '최혜미'], [['최규빈', '박혜원', '최혜미'], '양성준'])"
      ]
     },
     "execution_count": 83,
     "metadata": {},
     "output_type": "execute_result"
    }
   ],
   "source": [
    "R특강팀, 파이썬특강팀"
   ]
  },
  {
   "cell_type": "markdown",
   "id": "a681c766-0dd5-4ae1-97c1-4144f1e574fe",
   "metadata": {},
   "source": [
    "하지만 이영미교수는 여전히 신임교수이면서 막내들임 "
   ]
  },
  {
   "cell_type": "code",
   "execution_count": 84,
   "id": "8729da8a-fcab-4d3f-8d0d-31ff5b0809f3",
   "metadata": {},
   "outputs": [
    {
     "data": {
      "text/plain": [
       "(['최규빈', '이영미', '박혜원'], ['최규빈', '이영미', '박혜원'])"
      ]
     },
     "execution_count": 84,
     "metadata": {},
     "output_type": "execute_result"
    }
   ],
   "source": [
    "신임교수, 막내들"
   ]
  },
  {
   "cell_type": "markdown",
   "id": "2e47c38e-39fe-4faa-99e2-497eb36668be",
   "metadata": {},
   "source": [
    "`-` 새로운 교수로 \"손흥민\"이 임용됨. "
   ]
  },
  {
   "cell_type": "code",
   "execution_count": 85,
   "id": "f0917d44-d212-48ec-939c-1462593578ac",
   "metadata": {},
   "outputs": [],
   "source": [
    "막내들.append(\"손흥민\")"
   ]
  },
  {
   "cell_type": "code",
   "execution_count": 86,
   "id": "a264a61f-1295-4d4b-bad0-dc5cd8aa4b4d",
   "metadata": {},
   "outputs": [
    {
     "data": {
      "text/plain": [
       "(['최규빈', '이영미', '박혜원', '손흥민'], ['최규빈', '이영미', '박혜원', '손흥민'])"
      ]
     },
     "execution_count": 86,
     "metadata": {},
     "output_type": "execute_result"
    }
   ],
   "source": [
    "막내들, 신임교수"
   ]
  },
  {
   "cell_type": "markdown",
   "id": "2535a533-8dfd-4ec1-a95f-10e59a50b9d0",
   "metadata": {},
   "source": [
    "`-` 그렇다고 해서 손흥민 교수가 바로 R이나 파이썬 특강팀에 자동소속되는건 아님"
   ]
  },
  {
   "cell_type": "markdown",
   "id": "3f2f715c-860a-46ef-b261-fed56cb3593d",
   "metadata": {},
   "source": [
    "shallow copy로 id 주소가 각각 할당되었기 때문"
   ]
  },
  {
   "cell_type": "code",
   "execution_count": 87,
   "id": "78f88ee6-6192-42fc-817e-ff7bbfb90ce3",
   "metadata": {},
   "outputs": [
    {
     "data": {
      "text/plain": [
       "(['최규빈', '박혜원', '최혜미'], [['최규빈', '박혜원', '최혜미'], '양성준'])"
      ]
     },
     "execution_count": 87,
     "metadata": {},
     "output_type": "execute_result"
    }
   ],
   "source": [
    "R특강팀, 파이썬특강팀"
   ]
  },
  {
   "cell_type": "markdown",
   "id": "77882dad-d806-4480-83b0-9c3fabbfe3c8",
   "metadata": {},
   "source": [
    "# Deep copy"
   ]
  },
  {
   "cell_type": "markdown",
   "id": "6c9cd074-c2ce-49a0-bd35-2b8f53603594",
   "metadata": {},
   "source": [
    "## 예제1: Motivation example"
   ]
  },
  {
   "cell_type": "markdown",
   "id": "49bbc4c9-f91c-4576-86ee-e23783cdee13",
   "metadata": {},
   "source": [
    "`-` 아래의 상황을 다시 생각해보자."
   ]
  },
  {
   "cell_type": "code",
   "execution_count": 88,
   "id": "87354eac-d26a-47c8-919b-4d56100660b2",
   "metadata": {},
   "outputs": [],
   "source": [
    "파이썬특강팀 = [\"양성준\",[\"최규빈\",\"이영미\",\"최혜미\"]]\n",
    "ADSP특강팀 = 파이썬특강팀.copy()\n",
    "파이썬특강팀[-1].remove(\"이영미\")"
   ]
  },
  {
   "cell_type": "code",
   "execution_count": 89,
   "id": "7069a622-6568-4ddf-8fb8-8af9f6badbc6",
   "metadata": {},
   "outputs": [
    {
     "data": {
      "text/plain": [
       "(['양성준', ['최규빈', '최혜미']], ['양성준', ['최규빈', '최혜미']])"
      ]
     },
     "execution_count": 89,
     "metadata": {},
     "output_type": "execute_result"
    }
   ],
   "source": [
    "파이썬특강팀, ADSP특강팀"
   ]
  },
  {
   "cell_type": "markdown",
   "id": "f8790890-1e8b-4e04-98e5-9d4b5a71b890",
   "metadata": {},
   "source": [
    "**이슈:** 이영미교수가 파이썬특강에서 제외되면서 ADSP특강팀에서도 제외되었음. 그런데 사실 이영미교수가 파이썬특강팀에서만 제외되길 원한 것이지 ADSP특강팀에서 제외되길 원한게 아닐수도 있음. "
   ]
  },
  {
   "cell_type": "markdown",
   "id": "403878eb-cf90-47ad-a504-8bdefb226f44",
   "metadata": {
    "tags": []
   },
   "source": [
    "**해결**: Deep copy의 사용"
   ]
  },
  {
   "cell_type": "code",
   "execution_count": 90,
   "id": "a6617e2a-ff6c-4794-9bf2-377d1a22a31a",
   "metadata": {},
   "outputs": [],
   "source": [
    "import copy"
   ]
  },
  {
   "cell_type": "markdown",
   "id": "f36ac52b-32cf-4a59-8a35-71e39373e19e",
   "metadata": {},
   "source": [
    "패키지 필요"
   ]
  },
  {
   "cell_type": "code",
   "execution_count": 91,
   "id": "cb1edccc-be95-4420-90dc-bd1100db2a48",
   "metadata": {},
   "outputs": [],
   "source": [
    "파이썬특강팀 = [\"양성준\",[\"최규빈\",\"이영미\",\"최혜미\"]]\n",
    "ADSP특강팀 = copy.deepcopy(파이썬특강팀)\n",
    "파이썬특강팀[-1].remove(\"이영미\")"
   ]
  },
  {
   "cell_type": "code",
   "execution_count": 92,
   "id": "95cf292c-50a3-4e2d-b662-b566d11dca11",
   "metadata": {},
   "outputs": [
    {
     "data": {
      "text/plain": [
       "(['양성준', ['최규빈', '최혜미']], ['양성준', ['최규빈', '이영미', '최혜미']])"
      ]
     },
     "execution_count": 92,
     "metadata": {},
     "output_type": "execute_result"
    }
   ],
   "source": [
    "파이썬특강팀, ADSP특강팀"
   ]
  },
  {
   "cell_type": "code",
   "execution_count": 93,
   "id": "143dd68d-8e44-49c0-a4d1-cda73cfb85ed",
   "metadata": {},
   "outputs": [
    {
     "data": {
      "text/plain": [
       "\u001b[0;31mType:\u001b[0m        module\n",
       "\u001b[0;31mString form:\u001b[0m <module 'copy' from '/home/csy/anaconda3/envs/py37/lib/python3.7/copy.py'>\n",
       "\u001b[0;31mFile:\u001b[0m        ~/anaconda3/envs/py37/lib/python3.7/copy.py\n",
       "\u001b[0;31mDocstring:\u001b[0m  \n",
       "Generic (shallow and deep) copying operations.\n",
       "\n",
       "Interface summary:\n",
       "\n",
       "        import copy\n",
       "\n",
       "        x = copy.copy(y)        # make a shallow copy of y\n",
       "        x = copy.deepcopy(y)    # make a deep copy of y\n",
       "\n",
       "For module specific errors, copy.Error is raised.\n",
       "\n",
       "The difference between shallow and deep copying is only relevant for\n",
       "compound objects (objects that contain other objects, like lists or\n",
       "class instances).\n",
       "\n",
       "- A shallow copy constructs a new compound object and then (to the\n",
       "  extent possible) inserts *the same objects* into it that the\n",
       "  original contains.\n",
       "\n",
       "- A deep copy constructs a new compound object and then, recursively,\n",
       "  inserts *copies* into it of the objects found in the original.\n",
       "\n",
       "Two problems often exist with deep copy operations that don't exist\n",
       "with shallow copy operations:\n",
       "\n",
       " a) recursive objects (compound objects that, directly or indirectly,\n",
       "    contain a reference to themselves) may cause a recursive loop\n",
       "\n",
       " b) because deep copy copies *everything* it may copy too much, e.g.\n",
       "    administrative data structures that should be shared even between\n",
       "    copies\n",
       "\n",
       "Python's deep copy operation avoids these problems by:\n",
       "\n",
       " a) keeping a table of objects already copied during the current\n",
       "    copying pass\n",
       "\n",
       " b) letting user-defined classes override the copying operation or the\n",
       "    set of components copied\n",
       "\n",
       "This version does not copy types like module, class, function, method,\n",
       "nor stack trace, stack frame, nor file, socket, window, nor array, nor\n",
       "any similar types.\n",
       "\n",
       "Classes can use the same interfaces to control copying that they use\n",
       "to control pickling: they can define methods called __getinitargs__(),\n",
       "__getstate__() and __setstate__().  See the documentation for module\n",
       "\"pickle\" for information on these methods.\n"
      ]
     },
     "metadata": {},
     "output_type": "display_data"
    }
   ],
   "source": [
    "copy?"
   ]
  },
  {
   "cell_type": "markdown",
   "id": "9801ad37-c4e4-48cb-a92c-bdc82dcffd00",
   "metadata": {},
   "source": [
    "## 예제2"
   ]
  },
  {
   "cell_type": "markdown",
   "id": "3cb95074-dcee-456c-b873-ae8c0e80fdfb",
   "metadata": {},
   "source": [
    "`-` deepcopy"
   ]
  },
  {
   "cell_type": "code",
   "execution_count": 94,
   "id": "3bde715f-8fda-463b-935b-593d61d39138",
   "metadata": {},
   "outputs": [],
   "source": [
    "l1 = [3,[66,[55,44]]] \n",
    "l2 = copy.deepcopy(l1)"
   ]
  },
  {
   "cell_type": "code",
   "execution_count": 95,
   "id": "3d843846-5c1c-4152-986f-24e30b2ead94",
   "metadata": {},
   "outputs": [],
   "source": [
    "l2[1][1].append(33)"
   ]
  },
  {
   "cell_type": "code",
   "execution_count": 96,
   "id": "fb910139-2fdb-4e99-8263-6c271a8f16a9",
   "metadata": {},
   "outputs": [
    {
     "data": {
      "text/plain": [
       "([3, [66, [55, 44]]], [3, [66, [55, 44, 33]]])"
      ]
     },
     "execution_count": 96,
     "metadata": {},
     "output_type": "execute_result"
    }
   ],
   "source": [
    "l1,l2"
   ]
  },
  {
   "cell_type": "code",
   "execution_count": 97,
   "id": "5706ae9e-05ca-4553-be4d-7755bd6a61e0",
   "metadata": {},
   "outputs": [
    {
     "name": "stdout",
     "output_type": "stream",
     "text": [
      "level 1\n",
      "l1: 139660748278352\n",
      "l2: 139660748540176\n"
     ]
    }
   ],
   "source": [
    "print('level 1')\n",
    "print('l1:', id(l1))\n",
    "print('l2:', id(l2))"
   ]
  },
  {
   "cell_type": "code",
   "execution_count": 98,
   "id": "e4063de2-ec8e-408e-a95e-bae825ed4db9",
   "metadata": {},
   "outputs": [
    {
     "name": "stdout",
     "output_type": "stream",
     "text": [
      "level 2\n",
      "l1: 139660748278352 [7402432, 139660739509776]\n",
      "l2: 139660748540176 [7402432, 139660739569056]\n"
     ]
    }
   ],
   "source": [
    "print('level 2')\n",
    "print('l1:', id(l1), [id(l1[0]),id(l1[1])])\n",
    "print('l2:', id(l2), [id(l2[0]),id(l2[1])])"
   ]
  },
  {
   "cell_type": "code",
   "execution_count": 99,
   "id": "7c5748bf-a81b-4885-add6-65af396f5063",
   "metadata": {},
   "outputs": [
    {
     "name": "stdout",
     "output_type": "stream",
     "text": [
      "level 3\n",
      "l1: 139660748278352 [7402432, [7404448, 139660748244224]]\n",
      "l2: 139660748540176 [7402432, [7404448, 139660739567776]]\n"
     ]
    }
   ],
   "source": [
    "print('level 3')\n",
    "print('l1:', id(l1), [id(l1[0]),[id(l1[1][0]),id(l1[1][1])]])\n",
    "print('l2:', id(l2), [id(l2[0]),[id(l2[1][0]),id(l2[1][1])]])"
   ]
  },
  {
   "cell_type": "markdown",
   "id": "7a8c2eb8-1e92-40dd-9986-1b5b76ad69a1",
   "metadata": {},
   "source": [
    "묶음 방식이 달라지면서 다른 주소가 할당된 모습"
   ]
  },
  {
   "cell_type": "markdown",
   "id": "8b6c3492-530f-4b2b-9954-bab133e99e7b",
   "metadata": {},
   "source": [
    "`-` 비교를 위한 shallow copy"
   ]
  },
  {
   "cell_type": "code",
   "execution_count": 100,
   "id": "5f1f2626-70dd-4920-b623-466a0b777e78",
   "metadata": {},
   "outputs": [],
   "source": [
    "l1 = [3,[66,[55,44]]] \n",
    "l2 = l1.copy()"
   ]
  },
  {
   "cell_type": "code",
   "execution_count": 101,
   "id": "19128502-1da8-424f-a6b1-95e43345e457",
   "metadata": {},
   "outputs": [],
   "source": [
    "l2[1][1].append(33)"
   ]
  },
  {
   "cell_type": "code",
   "execution_count": 102,
   "id": "9afa082d-8d53-49da-9554-7b813129b6fd",
   "metadata": {},
   "outputs": [
    {
     "data": {
      "text/plain": [
       "([3, [66, [55, 44, 33]]], [3, [66, [55, 44, 33]]])"
      ]
     },
     "execution_count": 102,
     "metadata": {},
     "output_type": "execute_result"
    }
   ],
   "source": [
    "l1,l2"
   ]
  },
  {
   "cell_type": "code",
   "execution_count": 103,
   "id": "e496772b-0e89-4c18-9b11-4ae7cb91c733",
   "metadata": {},
   "outputs": [
    {
     "name": "stdout",
     "output_type": "stream",
     "text": [
      "level 1\n",
      "l1: 139660739568976\n",
      "l2: 139660748318112\n"
     ]
    }
   ],
   "source": [
    "print('level 1')\n",
    "print('l1:', id(l1))\n",
    "print('l2:', id(l2))"
   ]
  },
  {
   "cell_type": "code",
   "execution_count": 104,
   "id": "a09c38a9-b289-4cd9-a892-0331bafc7e62",
   "metadata": {},
   "outputs": [
    {
     "name": "stdout",
     "output_type": "stream",
     "text": [
      "level 2\n",
      "l1: 139660739568976 [7402432, 139660807428768]\n",
      "l2: 139660748318112 [7402432, 139660807428768]\n"
     ]
    }
   ],
   "source": [
    "print('level 2')\n",
    "print('l1:', id(l1), [id(l1[0]),id(l1[1])])\n",
    "print('l2:', id(l2), [id(l2[0]),id(l2[1])])"
   ]
  },
  {
   "cell_type": "code",
   "execution_count": 105,
   "id": "6f743f8e-4618-4562-80b5-b622dc4ffaa5",
   "metadata": {},
   "outputs": [
    {
     "name": "stdout",
     "output_type": "stream",
     "text": [
      "level 3\n",
      "l1: 139660739568976 [7402432, [7404448, 139660748313776]]\n",
      "l2: 139660748318112 [7402432, [7404448, 139660748313776]]\n"
     ]
    }
   ],
   "source": [
    "print('level 3')\n",
    "print('l1:', id(l1), [id(l1[0]),[id(l1[1][0]),id(l1[1][1])]])\n",
    "print('l2:', id(l2), [id(l2[0]),[id(l2[1][0]),id(l2[1][1])]])"
   ]
  },
  {
   "cell_type": "markdown",
   "id": "5c400fc4-f40d-47ca-b320-9f3c4abbf680",
   "metadata": {},
   "source": [
    "`-` 비교를 위한 참조 "
   ]
  },
  {
   "cell_type": "code",
   "execution_count": 106,
   "id": "0b768836-7864-4a1a-bcbd-382b8dcfeb39",
   "metadata": {},
   "outputs": [],
   "source": [
    "l1 = [3,[66,[55,44]]] \n",
    "l2 = l1"
   ]
  },
  {
   "cell_type": "code",
   "execution_count": 107,
   "id": "ba5e6948-f50c-4585-b93a-7918559715e3",
   "metadata": {},
   "outputs": [],
   "source": [
    "l2[1][1].append(33)"
   ]
  },
  {
   "cell_type": "code",
   "execution_count": 108,
   "id": "05aef170-0ba2-41c7-aa07-c228d3d06ed4",
   "metadata": {},
   "outputs": [
    {
     "data": {
      "text/plain": [
       "([3, [66, [55, 44, 33]]], [3, [66, [55, 44, 33]]])"
      ]
     },
     "execution_count": 108,
     "metadata": {},
     "output_type": "execute_result"
    }
   ],
   "source": [
    "l1,l2"
   ]
  },
  {
   "cell_type": "code",
   "execution_count": 109,
   "id": "b80b3c17-3eb5-4920-b7ca-a8c99e3f078f",
   "metadata": {},
   "outputs": [
    {
     "name": "stdout",
     "output_type": "stream",
     "text": [
      "level 1\n",
      "l1: 139660748238432\n",
      "l2: 139660748238432\n"
     ]
    }
   ],
   "source": [
    "print('level 1')\n",
    "print('l1:', id(l1))\n",
    "print('l2:', id(l2))"
   ]
  },
  {
   "cell_type": "code",
   "execution_count": 110,
   "id": "191dcc5c-98e8-42c2-ada1-115089ced026",
   "metadata": {},
   "outputs": [
    {
     "name": "stdout",
     "output_type": "stream",
     "text": [
      "level 2\n",
      "l1: 139660748238432 [7402432, 139660748240128]\n",
      "l2: 139660748238432 [7402432, 139660748240128]\n"
     ]
    }
   ],
   "source": [
    "print('level 2')\n",
    "print('l1:', id(l1), [id(l1[0]),id(l1[1])])\n",
    "print('l2:', id(l2), [id(l2[0]),id(l2[1])])"
   ]
  },
  {
   "cell_type": "code",
   "execution_count": 111,
   "id": "b6fac6b9-0874-405c-bd51-45854c55b3ef",
   "metadata": {},
   "outputs": [
    {
     "name": "stdout",
     "output_type": "stream",
     "text": [
      "level 3\n",
      "l1: 139660748238432 [7402432, [7404448, 139660748531664]]\n",
      "l2: 139660748238432 [7402432, [7404448, 139660748531664]]\n"
     ]
    }
   ],
   "source": [
    "print('level 3')\n",
    "print('l1:', id(l1), [id(l1[0]),[id(l1[1][0]),id(l1[1][1])]])\n",
    "print('l2:', id(l2), [id(l2[0]),[id(l2[1][0]),id(l2[1][1])]])"
   ]
  },
  {
   "cell_type": "markdown",
   "id": "ffa58ee8-4f9b-4406-901e-2749f39dfba2",
   "metadata": {},
   "source": [
    "주소 다 똑같아"
   ]
  },
  {
   "cell_type": "markdown",
   "id": "8a6f5fbf-4b97-4cfa-9812-c478a80b9eb5",
   "metadata": {},
   "source": [
    "# Shallow copy 연습문제 "
   ]
  },
  {
   "cell_type": "markdown",
   "id": "f4a31d6c-853f-4294-8eb0-732b3d5b943b",
   "metadata": {},
   "source": [
    "## 예제1"
   ]
  },
  {
   "cell_type": "markdown",
   "id": "651b5ce4-925f-441e-aa67-ec8d0a405e84",
   "metadata": {},
   "source": [
    "`-` 아래의 코드결과를 예측하라. 결과가 나오는 이유를 설명하라. "
   ]
  },
  {
   "cell_type": "code",
   "execution_count": 112,
   "id": "c2994407-822c-4192-9888-3f1e341bcf0d",
   "metadata": {},
   "outputs": [],
   "source": [
    "l1= [3,[66,55,44]]\n",
    "l2= l1.copy() \n",
    "l1[-1].append(33)"
   ]
  },
  {
   "cell_type": "code",
   "execution_count": 113,
   "id": "90176271-b0bb-4e90-816a-488ef080482c",
   "metadata": {},
   "outputs": [
    {
     "data": {
      "text/plain": [
       "([3, [66, 55, 44, 33]], [3, [66, 55, 44, 33]])"
      ]
     },
     "execution_count": 113,
     "metadata": {},
     "output_type": "execute_result"
    }
   ],
   "source": [
    "l1,l2"
   ]
  },
  {
   "cell_type": "markdown",
   "id": "95f6591a-c03d-4b0c-9449-c3291609920b",
   "metadata": {},
   "source": [
    "shallow copy 썼으니까 같이 추가된 모습"
   ]
  },
  {
   "cell_type": "markdown",
   "id": "cd439a52-59df-4960-939a-c07672158b0d",
   "metadata": {},
   "source": [
    "## 예제2"
   ]
  },
  {
   "cell_type": "markdown",
   "id": "e0e79bae-9609-4d37-b45e-65b09398299a",
   "metadata": {},
   "source": [
    "`-` 아래의 코드결과를 예측하라. 결과가 나오는 이유를 설명하라. "
   ]
  },
  {
   "cell_type": "code",
   "execution_count": 114,
   "id": "4a12b304-352e-488d-aa0b-e4ffb7f26327",
   "metadata": {},
   "outputs": [],
   "source": [
    "l1= [3,[66,55,44]] \n",
    "l2= l1.copy() \n",
    "l1[-1] = l1[-1]+[33] "
   ]
  },
  {
   "cell_type": "code",
   "execution_count": 115,
   "id": "1438b9a3-86b3-4403-89d2-aae8c1c6a088",
   "metadata": {},
   "outputs": [
    {
     "data": {
      "text/plain": [
       "([3, [66, 55, 44, 33]], [3, [66, 55, 44]])"
      ]
     },
     "execution_count": 115,
     "metadata": {},
     "output_type": "execute_result"
    }
   ],
   "source": [
    "l1,l2"
   ]
  },
  {
   "cell_type": "code",
   "execution_count": 116,
   "id": "09d60bb5-7c12-4a0f-ab66-e56a4ddbfa20",
   "metadata": {},
   "outputs": [
    {
     "data": {
      "text/plain": [
       "(139660748276032, 139660748245744)"
      ]
     },
     "execution_count": 116,
     "metadata": {},
     "output_type": "execute_result"
    }
   ],
   "source": [
    "id(l1),id(l2)"
   ]
  },
  {
   "cell_type": "markdown",
   "id": "7f3ff113-6970-4aa6-9ee6-565ab6f1a41d",
   "metadata": {},
   "source": [
    "l1에 재할당한 것이라 생각하면 된다."
   ]
  },
  {
   "cell_type": "markdown",
   "id": "c05300ea-41b8-4fba-81f6-7a94c5ca0ac7",
   "metadata": {},
   "source": [
    "## 예제3"
   ]
  },
  {
   "cell_type": "code",
   "execution_count": 117,
   "id": "39b80991-44c9-4187-935e-71aca40a2b3b",
   "metadata": {},
   "outputs": [],
   "source": [
    "l1= [3,[66,55,44]] \n",
    "l2= l1.copy() \n",
    "l1[-1] = l1[-1]+[33] \n",
    "l1[-1].remove(33)"
   ]
  },
  {
   "cell_type": "code",
   "execution_count": 118,
   "id": "a1835fe0-91ac-4fa3-87bd-274edfb43e66",
   "metadata": {},
   "outputs": [
    {
     "data": {
      "text/plain": [
       "([3, [66, 55, 44]], [3, [66, 55, 44]])"
      ]
     },
     "execution_count": 118,
     "metadata": {},
     "output_type": "execute_result"
    }
   ],
   "source": [
    "l1,l2"
   ]
  },
  {
   "cell_type": "code",
   "execution_count": 119,
   "id": "1c766907-fc63-4658-b8da-be3c11a0194b",
   "metadata": {},
   "outputs": [
    {
     "data": {
      "text/plain": [
       "(139660807804240, 139660748282048)"
      ]
     },
     "execution_count": 119,
     "metadata": {},
     "output_type": "execute_result"
    }
   ],
   "source": [
    "id(l1),id(l2)"
   ]
  },
  {
   "cell_type": "markdown",
   "id": "f64b3fde-ccba-4e08-980d-16c7604f4084",
   "metadata": {},
   "source": [
    "## 예제4"
   ]
  },
  {
   "cell_type": "code",
   "execution_count": 120,
   "id": "f4c5d01c-0cab-4e54-a7a3-c975260c7c02",
   "metadata": {},
   "outputs": [],
   "source": [
    "l1= [3,[66,55,44]] \n",
    "l2= l1.copy() \n",
    "l1[-1] = l1[-1]+[33] \n",
    "l1[-1].remove(33)\n",
    "l1[-1].append(33)"
   ]
  },
  {
   "cell_type": "markdown",
   "id": "d45626d3-f13c-44fe-a105-2cc82f7f20be",
   "metadata": {},
   "source": [
    "(잘못된 상상) 아래의 코드와 결과가 같을거야!!"
   ]
  },
  {
   "cell_type": "code",
   "execution_count": 121,
   "id": "b73480d3-fe4a-48e6-87e0-5452257af0f7",
   "metadata": {},
   "outputs": [],
   "source": [
    "l1= [3,[66,55,44]] \n",
    "l2= l1.copy() \n",
    "# l1[-1] = l1[-1]+[33] \n",
    "# l1[-1].remove(33)\n",
    "l1[-1].append(33)"
   ]
  },
  {
   "cell_type": "code",
   "execution_count": 122,
   "id": "a4223b3d-e095-4402-b1b9-23d0a15bcd30",
   "metadata": {},
   "outputs": [
    {
     "data": {
      "text/plain": [
       "([3, [66, 55, 44, 33]], [3, [66, 55, 44, 33]])"
      ]
     },
     "execution_count": 122,
     "metadata": {},
     "output_type": "execute_result"
    }
   ],
   "source": [
    "l1,l2 "
   ]
  },
  {
   "cell_type": "markdown",
   "id": "c0059706-5b7e-4589-8525-09ff4de8b1ab",
   "metadata": {},
   "source": [
    "(하지만 현실은)"
   ]
  },
  {
   "cell_type": "code",
   "execution_count": 123,
   "id": "3bea4d23-f6ce-4200-8947-eb98609f8248",
   "metadata": {},
   "outputs": [],
   "source": [
    "l1= [3,[66,55,44]] \n",
    "l2= l1.copy() \n",
    "l1[-1] = l1[-1]+[33] \n",
    "l1[-1].remove(33)\n",
    "l1[-1].append(33)"
   ]
  },
  {
   "cell_type": "code",
   "execution_count": 124,
   "id": "3f57cc02-3f50-4584-b3e2-b03274207d93",
   "metadata": {},
   "outputs": [
    {
     "data": {
      "text/plain": [
       "([3, [66, 55, 44, 33]], [3, [66, 55, 44]])"
      ]
     },
     "execution_count": 124,
     "metadata": {},
     "output_type": "execute_result"
    }
   ],
   "source": [
    "l1,l2"
   ]
  },
  {
   "cell_type": "markdown",
   "id": "c5b633ee-9bad-45bc-86c4-3b2bdbea9e6c",
   "metadata": {},
   "source": [
    "재할당의 개념이 있었기 때문에 주소가 다른게 할당된 것이고, 결국 다른 결과가 나온다."
   ]
  },
  {
   "cell_type": "markdown",
   "id": "5f34bb34-0336-488d-a47a-33a7962d6935",
   "metadata": {},
   "source": [
    "## 예제5"
   ]
  },
  {
   "cell_type": "code",
   "execution_count": 125,
   "id": "d9249722-b357-4e50-985a-13dec78ff82d",
   "metadata": {},
   "outputs": [],
   "source": [
    "l1= [3,[66,55,44]] \n",
    "l2= l1.copy() \n",
    "l1[-1] += [33] # l1[-1] = l1[-1]+[33] \n",
    "l1[-1].remove(33)\n",
    "l1[-1].append(33)"
   ]
  },
  {
   "cell_type": "code",
   "execution_count": 126,
   "id": "cd894af5-5f1e-4230-9a23-61c0c6491021",
   "metadata": {},
   "outputs": [
    {
     "data": {
      "text/plain": [
       "([3, [66, 55, 44, 33]], [3, [66, 55, 44, 33]])"
      ]
     },
     "execution_count": 126,
     "metadata": {},
     "output_type": "execute_result"
    }
   ],
   "source": [
    "l1,l2"
   ]
  },
  {
   "cell_type": "code",
   "execution_count": 127,
   "id": "4c4fcb2c-b030-47ab-9c0c-0658c7d4df92",
   "metadata": {},
   "outputs": [
    {
     "data": {
      "text/plain": [
       "(139660739562464, 139660739561344)"
      ]
     },
     "execution_count": 127,
     "metadata": {},
     "output_type": "execute_result"
    }
   ],
   "source": [
    "id(l1),id(l2)"
   ]
  },
  {
   "cell_type": "markdown",
   "id": "8274d251-c80f-4968-a479-a427afe69634",
   "metadata": {},
   "source": [
    "주소는 다르지만 재할당의 개념이 없어!\n",
    "\n",
    "l1에 append 하는 식으로 되어서 묶음 방식이 같이 움직인다."
   ]
  },
  {
   "cell_type": "markdown",
   "id": "f413800a-8505-4341-8627-2aa3383d4e9c",
   "metadata": {},
   "source": [
    "> ??? 예제4랑 예제5는 같은코드가 아니었음!!! `a += [1]` 는 새로운 오브젝트를 만드는게 아니고, 기존의 오브젝트를 변형하는 스타일의 코드였음! (마치 append 메소드처럼) "
   ]
  },
  {
   "cell_type": "markdown",
   "id": "6032ef68-30b6-4064-bc4c-0756c83d9109",
   "metadata": {},
   "source": [
    "# 불변형 객체 "
   ]
  },
  {
   "cell_type": "markdown",
   "id": "512cc840-d6ad-4517-bb1b-4bf8c54076e3",
   "metadata": {},
   "source": [
    "## Motivation example"
   ]
  },
  {
   "cell_type": "markdown",
   "id": "3b499140-5a9f-41b9-a993-57e617fd36a1",
   "metadata": {},
   "source": [
    "`-` 우리는 이제 아래의 내용은 마스터함 "
   ]
  },
  {
   "cell_type": "code",
   "execution_count": 128,
   "id": "97f83ae7-3cac-4d22-834b-93fe29fa82b2",
   "metadata": {},
   "outputs": [],
   "source": [
    "l1= [3,[66,55,44]] \n",
    "l2= l1.copy() \n",
    "l1[-1] += [33] # l1[-1].append(33)이랑 같은거.."
   ]
  },
  {
   "cell_type": "code",
   "execution_count": 129,
   "id": "be0d4f25-158c-400e-a2c9-95583b267322",
   "metadata": {},
   "outputs": [
    {
     "data": {
      "text/plain": [
       "([3, [66, 55, 44, 33]], [3, [66, 55, 44, 33]])"
      ]
     },
     "execution_count": 129,
     "metadata": {},
     "output_type": "execute_result"
    }
   ],
   "source": [
    "l1,l2"
   ]
  },
  {
   "cell_type": "markdown",
   "id": "be89a6f5-ef5d-40d6-a384-1063a01989dd",
   "metadata": {},
   "source": [
    "`-` 아래의 결과를 한번 예측해볼까? "
   ]
  },
  {
   "cell_type": "code",
   "execution_count": 130,
   "id": "64b7d730-889f-45f3-91e6-7f2b84dd7857",
   "metadata": {},
   "outputs": [],
   "source": [
    "l1=[3,(66,55,44)]\n",
    "l2=l1.copy()\n",
    "l2[1] += (33,)"
   ]
  },
  {
   "cell_type": "markdown",
   "id": "f4028d48-ffdf-4716-a61f-22402bcb21c8",
   "metadata": {},
   "source": [
    "이번엔 튜플로"
   ]
  },
  {
   "cell_type": "code",
   "execution_count": 131,
   "id": "d56e31d6-de80-424d-aa85-a73e4aa0e4e0",
   "metadata": {},
   "outputs": [
    {
     "data": {
      "text/plain": [
       "([3, (66, 55, 44)], [3, (66, 55, 44, 33)])"
      ]
     },
     "execution_count": 131,
     "metadata": {},
     "output_type": "execute_result"
    }
   ],
   "source": [
    "l1,l2"
   ]
  },
  {
   "cell_type": "markdown",
   "id": "49fbd384-3900-476d-af00-3a8ca7a1d1d7",
   "metadata": {},
   "source": [
    "## 해설 "
   ]
  },
  {
   "cell_type": "markdown",
   "id": "1dc6e95c-613a-4728-a02e-7112b11ba8ab",
   "metadata": {},
   "source": [
    "(시점1)"
   ]
  },
  {
   "cell_type": "code",
   "execution_count": 132,
   "id": "e808316a-e575-4551-8da8-94920f2c3862",
   "metadata": {},
   "outputs": [],
   "source": [
    "l1=[3,(66,55,44)]\n",
    "l2=l1.copy()"
   ]
  },
  {
   "cell_type": "markdown",
   "id": "c04928dc-3912-4d75-ac47-96b220fc0a25",
   "metadata": {},
   "source": [
    "이번엔 리스트 안에 튜플을 넣어봄"
   ]
  },
  {
   "cell_type": "code",
   "execution_count": 133,
   "id": "5174f366-bf2b-4e29-9c1c-67ce8fd9badf",
   "metadata": {},
   "outputs": [
    {
     "data": {
      "text/plain": [
       "([3, (66, 55, 44)], [3, (66, 55, 44)])"
      ]
     },
     "execution_count": 133,
     "metadata": {},
     "output_type": "execute_result"
    }
   ],
   "source": [
    "l1,l2"
   ]
  },
  {
   "cell_type": "code",
   "execution_count": 134,
   "id": "54c01c6d-21c0-4c07-8fd4-1230974d66cc",
   "metadata": {},
   "outputs": [
    {
     "name": "stdout",
     "output_type": "stream",
     "text": [
      "level 1\n",
      "l1: 139660739586080\n",
      "l2: 139660807832512\n"
     ]
    }
   ],
   "source": [
    "print('level 1')\n",
    "print('l1:', id(l1))\n",
    "print('l2:', id(l2))"
   ]
  },
  {
   "cell_type": "code",
   "execution_count": 135,
   "id": "761a842b-7368-4cac-8b21-c82722454ab4",
   "metadata": {},
   "outputs": [
    {
     "name": "stdout",
     "output_type": "stream",
     "text": [
      "level 2\n",
      "l1: 139660739586080 [7402432, 139660748091792]\n",
      "l2: 139660807832512 [7402432, 139660748091792]\n"
     ]
    }
   ],
   "source": [
    "print('level 2')\n",
    "print('l1:', id(l1), [id(l1[0]),id(l1[1])])\n",
    "print('l2:', id(l2), [id(l2[0]),id(l2[1])])"
   ]
  },
  {
   "cell_type": "markdown",
   "id": "00a4f6c6-6082-47ce-8250-ccdaf7209c31",
   "metadata": {},
   "source": [
    "(시점2)"
   ]
  },
  {
   "cell_type": "code",
   "execution_count": 136,
   "id": "6736e057-c92e-43e5-aab9-4a8788b491c8",
   "metadata": {},
   "outputs": [],
   "source": [
    "l2[1] += (33,)"
   ]
  },
  {
   "cell_type": "code",
   "execution_count": 137,
   "id": "7a6079a8-0f69-432f-9747-72660283418a",
   "metadata": {},
   "outputs": [
    {
     "data": {
      "text/plain": [
       "([3, (66, 55, 44)], [3, (66, 55, 44, 33)])"
      ]
     },
     "execution_count": 137,
     "metadata": {},
     "output_type": "execute_result"
    }
   ],
   "source": [
    "l1,l2"
   ]
  },
  {
   "cell_type": "code",
   "execution_count": 138,
   "id": "49596f21-8ab5-4f3b-a78a-abd28ea936b7",
   "metadata": {},
   "outputs": [
    {
     "name": "stdout",
     "output_type": "stream",
     "text": [
      "level 1\n",
      "l1: 139660739586080\n",
      "l2: 139660807832512\n"
     ]
    }
   ],
   "source": [
    "print('level 1')\n",
    "print('l1:', id(l1))\n",
    "print('l2:', id(l2))"
   ]
  },
  {
   "cell_type": "code",
   "execution_count": 139,
   "id": "b210d631-1432-43b3-bda3-5461a8a0e0a0",
   "metadata": {},
   "outputs": [
    {
     "name": "stdout",
     "output_type": "stream",
     "text": [
      "level 2\n",
      "l1: 139660739586080 [7402432, 139660748091792]\n",
      "l2: 139660807832512 [7402432, 139660739627824]\n"
     ]
    }
   ],
   "source": [
    "print('level 2')\n",
    "print('l1:', id(l1), [id(l1[0]),id(l1[1])])\n",
    "print('l2:', id(l2), [id(l2[0]),id(l2[1])])"
   ]
  },
  {
   "cell_type": "markdown",
   "id": "35ea8073-aadb-491a-9aab-bfcf2691b444",
   "metadata": {},
   "source": [
    "주소 `139753182280032`에 있는 값을 바꾸고 싶지만 불변형이라 못바꿈 $\\to$ 그냥 새로 만들자. 그래서 그걸 `139753174874064`에 저장하자. "
   ]
  },
  {
   "cell_type": "markdown",
   "id": "4af56750-d23a-462f-a160-d8c5e8e095bd",
   "metadata": {},
   "source": [
    "튜플의 묶음 방식은 불변형! 정의: 값을 변환할 수 없는 오브젝트다~ 새로 오브젝트 만들어 저장함.\n",
    "\n",
    "리스트 : 값을 바꿀 수 있는 오브젝트다, 묶음 방식을 바꿀 수 있다."
   ]
  },
  {
   "cell_type": "markdown",
   "id": "2c5510fc-4888-4f89-a9f3-4b6cd21edacf",
   "metadata": {},
   "source": [
    "# Shallow copy vs Deep copy"
   ]
  },
  {
   "cell_type": "markdown",
   "id": "9ff6ef4f-2b5d-4bf6-a5da-6e517f7bbbc9",
   "metadata": {},
   "source": [
    "`-` 암기용문구: \"shallow copy는 껍데기만 복사한다. deep copy는 내부까지 복사한다.\""
   ]
  },
  {
   "cell_type": "markdown",
   "id": "9a2c84b3-f16f-4122-9cdd-715fbbd2a050",
   "metadata": {},
   "source": [
    "`-` 일부교재에서는 경우에 따라 shallow copy가 선호될 수 있다는 식으로 설명되어있으나 솔직히 대부분 코드에서 shallow copy의 동작을 의도하고 코드를 사용하진 않는다. 대부분의 경우에서 shallow copy는 불필요한 side effect을 유발하는 쓸모없는 개념이라 생각한다. "
   ]
  },
  {
   "cell_type": "markdown",
   "id": "5d9675ba-7f7c-439c-af3b-4ad9fbaee8d9",
   "metadata": {},
   "source": [
    "`-` 그럼 shallow copy의 장점은 무엇인가? shallow copy가 deep copy보다 메모리를 더 적게 사용한다. "
   ]
  },
  {
   "cell_type": "markdown",
   "id": "049bac29-51bb-4093-913a-8dae2d192686",
   "metadata": {},
   "source": [
    "```Python\n",
    "## 예제1\n",
    "lst1 = ['양성준',['최규빈','이영미','최혜미']]\n",
    "lst2 = lst1.copy()\n",
    "## 예제2 \n",
    "lst1 = ['양성준',['최규빈','이영미','최혜미']]\n",
    "lst2 = copy.deepcopy(lst1)\n",
    "```"
   ]
  },
  {
   "cell_type": "markdown",
   "id": "eab2f030-1057-4b55-8301-c4d3f92d12cf",
   "metadata": {},
   "source": [
    "- 예제1: 4+1+2 = 7개의 공간 사용 \n",
    "- 예제2: 4+2+2 = 8개의 공간 사용 "
   ]
  },
  {
   "cell_type": "markdown",
   "id": "6ded48ea-9b85-4471-b4a6-7fac9a1a9d4b",
   "metadata": {},
   "source": [
    "`-` 분노: 참조인지 카피인지 구분하는것도 힘든데, 카피도 shallow 인지 deep 인지 구분해서 사용해야해? 겨우 저 메모리때문에? "
   ]
  },
  {
   "cell_type": "markdown",
   "id": "99faedb5-b015-4100-a416-7184419b6063",
   "metadata": {},
   "source": [
    "**요약**"
   ]
  },
  {
   "cell_type": "markdown",
   "id": "5cf9bd55-87b1-4b95-9025-e1ee59f5caf1",
   "metadata": {},
   "source": [
    "`-` 파이썬은 메모리를 아끼기 위해서 shallow copy라는 이상한 행동을 한다. "
   ]
  },
  {
   "cell_type": "markdown",
   "id": "5222be85-1a67-4e37-8303-7d2c20984ccf",
   "metadata": {},
   "source": [
    "`-` 통찰1: 그런데 오묘하게도 [1,2,3,4,5,6]와 같이 중첩된 리스트가 아니라면 문제가 되지 않음. (***메모리는 아끼면서 문제가 되지 않는다?? 천재인데??***) \n",
    "\n",
    "-  중첩된 리스트가 아닐 경우는 `shallow copy = deep copy` 임."
   ]
  },
  {
   "cell_type": "markdown",
   "id": "dd53c531-39aa-4d42-af83-81cda42b50a0",
   "metadata": {},
   "source": [
    "1차원이면 이런 문제 생기지 않지, 하지만 모든 데이터가 1차원?"
   ]
  },
  {
   "cell_type": "markdown",
   "id": "dc5ef343-9a0e-4c3e-b594-819691020658",
   "metadata": {},
   "source": [
    "`-` 통찰2: 생각해보니까 모든 자료형이 불변형인 경우에도 문제가 되지 않음. (R은 모든 자료형이 불변형이다) "
   ]
  },
  {
   "cell_type": "markdown",
   "id": "44cb10a2-ee29-4001-bae6-af9a54587071",
   "metadata": {},
   "source": [
    "`-` 문제상황요약: [[1,2],[3,4]] 와 같이 리스트에 리스트가 포함된 형태라면 문제가 생긴다. (이건 개선이 필요함) \n",
    "- 개선1: 깊은복사(import copy)\n",
    "- 개선2: 넘파이"
   ]
  },
  {
   "cell_type": "markdown",
   "id": "1fc75c12-d73a-4f51-9f66-97113ab82675",
   "metadata": {},
   "source": [
    "# numpy "
   ]
  },
  {
   "cell_type": "code",
   "execution_count": 140,
   "id": "1ae73e16-45b2-4a01-a793-749b92526d4f",
   "metadata": {},
   "outputs": [],
   "source": [
    "import numpy as np"
   ]
  },
  {
   "cell_type": "markdown",
   "id": "311741d3-b738-4173-8c4c-2696e1b3fb21",
   "metadata": {},
   "source": [
    "## 2차원의 실체"
   ]
  },
  {
   "cell_type": "markdown",
   "id": "e3dd42e3-7496-4287-b54e-9642d872632b",
   "metadata": {},
   "source": [
    "`-` 2차원 array a,b를 선언하자. "
   ]
  },
  {
   "cell_type": "code",
   "execution_count": 141,
   "id": "5d01d48e-3d9e-4377-9562-456a91b32fd4",
   "metadata": {},
   "outputs": [],
   "source": [
    "a = np.array([[11,22,33,44]]).reshape(2,2)\n",
    "b = np.array([[11,22,33,44,55,66]]).reshape(2,3)\n",
    "c = np.array([11,22,33,44]).reshape(4,1)\n",
    "d = np.array([11,22,33,44])"
   ]
  },
  {
   "cell_type": "markdown",
   "id": "7f709c45-205a-4611-8020-3d913c1a0881",
   "metadata": {},
   "source": [
    "`-` a,b,c,d 속성비교 "
   ]
  },
  {
   "cell_type": "code",
   "execution_count": 142,
   "id": "e0fd159f-b35f-4bf4-8efb-97f02a0707c7",
   "metadata": {},
   "outputs": [
    {
     "data": {
      "text/plain": [
       "((2, 2), (2, 3), (4, 1), (4,))"
      ]
     },
     "execution_count": 142,
     "metadata": {},
     "output_type": "execute_result"
    }
   ],
   "source": [
    "a.shape, b.shape, c.shape, d.shape ## 차원 "
   ]
  },
  {
   "cell_type": "code",
   "execution_count": 143,
   "id": "2ec2c9d5-9a2a-4c68-a3b9-01ea4c536f43",
   "metadata": {},
   "outputs": [
    {
     "data": {
      "text/plain": [
       "((16, 8), (24, 8), (8, 8), (8,))"
      ]
     },
     "execution_count": 143,
     "metadata": {},
     "output_type": "execute_result"
    }
   ],
   "source": [
    "a.strides, b.strides, c.strides, d.strides ## 차원이랑 관련이 있어보임.. + 8의 배수 "
   ]
  },
  {
   "cell_type": "markdown",
   "id": "29b9a21c-f209-4d5b-a565-9cb9b65a7bcb",
   "metadata": {},
   "source": [
    "`-` strides는 무엇? \n",
    "\n",
    "- strides: (다음 행으로 가기위해서 JUMP해야하는 메모리 공간수, 다음 열로 가기위해서 JUMP해야하는 메모리 공간수) "
   ]
  },
  {
   "cell_type": "markdown",
   "id": "66d24006-9d6f-4c85-94b3-8c8e695cfab0",
   "metadata": {},
   "source": [
    "`-` 사실 a,b,c,d 는 모두 1차원으로 저장되어있음. (중첩된 리스트꼴이 아니라)"
   ]
  },
  {
   "cell_type": "markdown",
   "id": "5655f693-a871-4ad6-bda7-07a8c9f2226f",
   "metadata": {},
   "source": [
    "shape이나 strides 등의 옵션으로 1차원이 아니게 보여지는 것 뿐"
   ]
  },
  {
   "cell_type": "markdown",
   "id": "87596953-3c41-4487-9437-19d7e1d129ec",
   "metadata": {},
   "source": [
    "## 참조 "
   ]
  },
  {
   "cell_type": "markdown",
   "id": "3a91cf92-7aef-4f36-a798-bf636c1c86da",
   "metadata": {},
   "source": [
    "`-` a를 선언, b는 a의 참조"
   ]
  },
  {
   "cell_type": "code",
   "execution_count": 144,
   "id": "550def7a-0547-4c14-bee5-607fc130b7b0",
   "metadata": {},
   "outputs": [],
   "source": [
    "a=np.array([[1,2],[3,4]])\n",
    "b=a ## 참조 "
   ]
  },
  {
   "cell_type": "code",
   "execution_count": 145,
   "id": "219a0489-e491-425a-b3a5-3fc5dafc84ca",
   "metadata": {},
   "outputs": [
    {
     "data": {
      "text/plain": [
       "array([[1, 2],\n",
       "       [3, 4]])"
      ]
     },
     "execution_count": 145,
     "metadata": {},
     "output_type": "execute_result"
    }
   ],
   "source": [
    "a"
   ]
  },
  {
   "cell_type": "code",
   "execution_count": 146,
   "id": "148c3b29-39f4-46af-aa27-c5d5631724c4",
   "metadata": {},
   "outputs": [
    {
     "data": {
      "text/plain": [
       "array([[1, 2],\n",
       "       [3, 4]])"
      ]
     },
     "execution_count": 146,
     "metadata": {},
     "output_type": "execute_result"
    }
   ],
   "source": [
    "b"
   ]
  },
  {
   "cell_type": "code",
   "execution_count": 147,
   "id": "9477b828-b445-48f0-8fa0-481892372a72",
   "metadata": {},
   "outputs": [
    {
     "data": {
      "text/plain": [
       "(2, 2)"
      ]
     },
     "execution_count": 147,
     "metadata": {},
     "output_type": "execute_result"
    }
   ],
   "source": [
    "a.shape"
   ]
  },
  {
   "cell_type": "code",
   "execution_count": 148,
   "id": "c3a86cc1-60ff-4c5a-b443-8a85a99be348",
   "metadata": {},
   "outputs": [
    {
     "data": {
      "text/plain": [
       "(2, 2)"
      ]
     },
     "execution_count": 148,
     "metadata": {},
     "output_type": "execute_result"
    }
   ],
   "source": [
    "b.shape"
   ]
  },
  {
   "cell_type": "markdown",
   "id": "1ef7002e-7426-492d-bab6-28b389c91b5d",
   "metadata": {},
   "source": [
    "`-` a의 shape을 바꾸어보자 $\\to$ b도 같이 바뀐다 "
   ]
  },
  {
   "cell_type": "code",
   "execution_count": 149,
   "id": "e4565ea5-5334-44a6-9bc9-d92255ca94bf",
   "metadata": {},
   "outputs": [],
   "source": [
    "a.shape = (4,)"
   ]
  },
  {
   "cell_type": "code",
   "execution_count": 150,
   "id": "61ea4e3d-66d2-4008-9904-ccfa883a5ff6",
   "metadata": {},
   "outputs": [
    {
     "data": {
      "text/plain": [
       "array([1, 2, 3, 4])"
      ]
     },
     "execution_count": 150,
     "metadata": {},
     "output_type": "execute_result"
    }
   ],
   "source": [
    "a"
   ]
  },
  {
   "cell_type": "code",
   "execution_count": 151,
   "id": "630ac7d7-847d-452a-b491-90485df00b91",
   "metadata": {},
   "outputs": [
    {
     "data": {
      "text/plain": [
       "array([1, 2, 3, 4])"
      ]
     },
     "execution_count": 151,
     "metadata": {},
     "output_type": "execute_result"
    }
   ],
   "source": [
    "b"
   ]
  },
  {
   "cell_type": "code",
   "execution_count": 152,
   "id": "45ba0b0d-9d1f-478c-a604-34b9212c974f",
   "metadata": {},
   "outputs": [
    {
     "data": {
      "text/plain": [
       "(139660739644368, 139660739644368)"
      ]
     },
     "execution_count": 152,
     "metadata": {},
     "output_type": "execute_result"
    }
   ],
   "source": [
    "id(a),id(b)"
   ]
  },
  {
   "cell_type": "markdown",
   "id": "47b5aa0d-6f64-4466-bed7-df896f318f76",
   "metadata": {
    "tags": []
   },
   "source": [
    "## view "
   ]
  },
  {
   "cell_type": "markdown",
   "id": "6a36d070-04db-4c13-bff6-1726bb87e277",
   "metadata": {},
   "source": [
    "`-` a를 선언, b는 a의 view"
   ]
  },
  {
   "cell_type": "code",
   "execution_count": 153,
   "id": "ac5714d5-1e11-4a59-9b2e-c390e192d4e7",
   "metadata": {},
   "outputs": [],
   "source": [
    "a=np.array([[1,2],[3,4]]) \n",
    "b=a.view() ## shallow copy 라고 부르기도 한다. "
   ]
  },
  {
   "cell_type": "code",
   "execution_count": 154,
   "id": "c242f5f2-5296-4ef5-a00e-7631739d67de",
   "metadata": {},
   "outputs": [
    {
     "data": {
      "text/plain": [
       "array([[1, 2],\n",
       "       [3, 4]])"
      ]
     },
     "execution_count": 154,
     "metadata": {},
     "output_type": "execute_result"
    }
   ],
   "source": [
    "a"
   ]
  },
  {
   "cell_type": "code",
   "execution_count": 155,
   "id": "bd523457-0607-4783-8540-a936d6507ae8",
   "metadata": {},
   "outputs": [
    {
     "data": {
      "text/plain": [
       "array([[1, 2],\n",
       "       [3, 4]])"
      ]
     },
     "execution_count": 155,
     "metadata": {},
     "output_type": "execute_result"
    }
   ],
   "source": [
    "b"
   ]
  },
  {
   "cell_type": "code",
   "execution_count": 156,
   "id": "4567870d-73e1-4bc4-9b56-f6cdc04bb524",
   "metadata": {},
   "outputs": [
    {
     "data": {
      "text/plain": [
       "(2, 2)"
      ]
     },
     "execution_count": 156,
     "metadata": {},
     "output_type": "execute_result"
    }
   ],
   "source": [
    "a.shape"
   ]
  },
  {
   "cell_type": "code",
   "execution_count": 157,
   "id": "a5057727-e886-46c2-a027-a16ecc5ea66a",
   "metadata": {},
   "outputs": [
    {
     "data": {
      "text/plain": [
       "(2, 2)"
      ]
     },
     "execution_count": 157,
     "metadata": {},
     "output_type": "execute_result"
    }
   ],
   "source": [
    "b.shape"
   ]
  },
  {
   "cell_type": "code",
   "execution_count": 158,
   "id": "736809cd-d08e-4fb5-8d1c-44b0833eabd2",
   "metadata": {},
   "outputs": [],
   "source": [
    "a.shape= (4,1)"
   ]
  },
  {
   "cell_type": "code",
   "execution_count": 159,
   "id": "55337459-6379-442e-a369-2deb2b35db3e",
   "metadata": {},
   "outputs": [
    {
     "data": {
      "text/plain": [
       "array([[1],\n",
       "       [2],\n",
       "       [3],\n",
       "       [4]])"
      ]
     },
     "execution_count": 159,
     "metadata": {},
     "output_type": "execute_result"
    }
   ],
   "source": [
    "a"
   ]
  },
  {
   "cell_type": "code",
   "execution_count": 160,
   "id": "d82235e7-505c-49bd-ad8d-02869b567d25",
   "metadata": {},
   "outputs": [
    {
     "data": {
      "text/plain": [
       "array([[1, 2],\n",
       "       [3, 4]])"
      ]
     },
     "execution_count": 160,
     "metadata": {},
     "output_type": "execute_result"
    }
   ],
   "source": [
    "b"
   ]
  },
  {
   "cell_type": "code",
   "execution_count": 161,
   "id": "4c2ae89f-b22c-4ca1-82da-f2bb96eac841",
   "metadata": {},
   "outputs": [
    {
     "data": {
      "text/plain": [
       "(139660382911248, 139660382911344)"
      ]
     },
     "execution_count": 161,
     "metadata": {},
     "output_type": "execute_result"
    }
   ],
   "source": [
    "id(a), id(b)"
   ]
  },
  {
   "cell_type": "markdown",
   "id": "58b9f7de-a820-4b52-94a2-72a066c593e9",
   "metadata": {},
   "source": [
    "view가 shallow copy 같은 이유 껍데기 주소만 복사해옴, 공간에 대한 주소는 같지 않음"
   ]
  },
  {
   "cell_type": "markdown",
   "id": "f72d98e6-a43c-4ae5-adfc-9ea9850e4bd3",
   "metadata": {},
   "source": [
    "`-` 그런데.. "
   ]
  },
  {
   "cell_type": "code",
   "execution_count": 162,
   "id": "bff87cdb-a0c3-4684-acdb-67e3a473f026",
   "metadata": {},
   "outputs": [],
   "source": [
    "a[0]=100"
   ]
  },
  {
   "cell_type": "code",
   "execution_count": 163,
   "id": "b7e594ae-29a7-4787-99bb-3f1e992ac04a",
   "metadata": {},
   "outputs": [
    {
     "data": {
      "text/plain": [
       "array([[100],\n",
       "       [  2],\n",
       "       [  3],\n",
       "       [  4]])"
      ]
     },
     "execution_count": 163,
     "metadata": {},
     "output_type": "execute_result"
    }
   ],
   "source": [
    "a"
   ]
  },
  {
   "cell_type": "code",
   "execution_count": 164,
   "id": "b0fda4b0-eb25-417d-8e78-18877a11fd33",
   "metadata": {},
   "outputs": [
    {
     "data": {
      "text/plain": [
       "array([[100,   2],\n",
       "       [  3,   4]])"
      ]
     },
     "execution_count": 164,
     "metadata": {},
     "output_type": "execute_result"
    }
   ],
   "source": [
    "b"
   ]
  },
  {
   "cell_type": "markdown",
   "id": "c7a6f9a4-3bf4-46dd-87c7-ca98ddbe52aa",
   "metadata": {},
   "source": [
    "`-` 출생의 비밀 "
   ]
  },
  {
   "cell_type": "code",
   "execution_count": 165,
   "id": "0b6caa8d-9606-43e4-ad0a-0e3e5a858ac2",
   "metadata": {},
   "outputs": [
    {
     "data": {
      "text/plain": [
       "array([[100,   2],\n",
       "       [  3,   4]])"
      ]
     },
     "execution_count": 165,
     "metadata": {},
     "output_type": "execute_result"
    }
   ],
   "source": [
    "b"
   ]
  },
  {
   "cell_type": "code",
   "execution_count": 166,
   "id": "a80b0045-726c-4006-b391-29657de9b622",
   "metadata": {},
   "outputs": [
    {
     "data": {
      "text/plain": [
       "array([[100],\n",
       "       [  2],\n",
       "       [  3],\n",
       "       [  4]])"
      ]
     },
     "execution_count": 166,
     "metadata": {},
     "output_type": "execute_result"
    }
   ],
   "source": [
    "b.base"
   ]
  },
  {
   "cell_type": "markdown",
   "id": "dcf6138d-dec8-4625-ad42-3ca4ae8b71ad",
   "metadata": {},
   "source": [
    "- ? 이거 바뀐 a아니야? "
   ]
  },
  {
   "cell_type": "code",
   "execution_count": 167,
   "id": "96294804-eef0-428a-b97d-d8ed5e60ae0c",
   "metadata": {},
   "outputs": [
    {
     "data": {
      "text/plain": [
       "(139660382911248, 139660382911248)"
      ]
     },
     "execution_count": 167,
     "metadata": {},
     "output_type": "execute_result"
    }
   ],
   "source": [
    "id(b.base), id(a)"
   ]
  },
  {
   "cell_type": "markdown",
   "id": "75c36fa2-c1e6-46a6-b5e0-d7ada68abf15",
   "metadata": {},
   "source": [
    "`-` View \n",
    "- b가 a의 뷰라는 의미는, b가 a를 소스로하여 만들어진 오브젝트란 의미이다. \n",
    "- 따라서 이때 b.base는 a가 된다. \n",
    "- b는 자체적으로 데이터를 가지고 있지 않으며 a와 공유한다. \n",
    "- 이러한 의미에서 view를 shallow copy 라고 부른다. (stride, shape과 같은 껍데기만 새로 생성, base는 유지) "
   ]
  },
  {
   "cell_type": "markdown",
   "id": "33245470-c3c5-4255-a510-0ea1ab61ff74",
   "metadata": {},
   "source": [
    "`note1` 원본 ndarray의 일 경우는 .base가 None으로 나온다. "
   ]
  },
  {
   "cell_type": "code",
   "execution_count": 168,
   "id": "4bb884aa-1d10-48e2-98e2-0e281edf6228",
   "metadata": {},
   "outputs": [],
   "source": [
    "a.base"
   ]
  },
  {
   "cell_type": "code",
   "execution_count": 169,
   "id": "449b02d0-dc24-49af-a6ed-661822f9ba0e",
   "metadata": {},
   "outputs": [
    {
     "name": "stdout",
     "output_type": "stream",
     "text": [
      "None\n"
     ]
    }
   ],
   "source": [
    "print(a.base)"
   ]
  },
  {
   "cell_type": "markdown",
   "id": "684b7583-3c87-4606-8a3b-ee32cf923341",
   "metadata": {},
   "source": [
    "`note2` b.base의 shpae과 b의 shape은 아무 관련없다. "
   ]
  },
  {
   "cell_type": "code",
   "execution_count": 170,
   "id": "b95c1572-8aee-4c0e-b2e9-fc9a0a80e79d",
   "metadata": {},
   "outputs": [
    {
     "data": {
      "text/plain": [
       "(2, 2)"
      ]
     },
     "execution_count": 170,
     "metadata": {},
     "output_type": "execute_result"
    }
   ],
   "source": [
    "b.shape"
   ]
  },
  {
   "cell_type": "code",
   "execution_count": 171,
   "id": "c170532b-ad7d-41f4-aa41-d67f582976ac",
   "metadata": {},
   "outputs": [
    {
     "data": {
      "text/plain": [
       "(4, 1)"
      ]
     },
     "execution_count": 171,
     "metadata": {},
     "output_type": "execute_result"
    }
   ],
   "source": [
    "b.base.shape"
   ]
  },
  {
   "cell_type": "markdown",
   "id": "d3fb4c09-4a5c-47c9-ae4d-1c3f0b9fa5a9",
   "metadata": {},
   "source": [
    "## copy "
   ]
  },
  {
   "cell_type": "markdown",
   "id": "4ccb1543-e897-4dd3-af9a-0da4bc55cd33",
   "metadata": {},
   "source": [
    "`-` a를 선언, b는 a의 copy"
   ]
  },
  {
   "cell_type": "code",
   "execution_count": 172,
   "id": "e85dd52a-fa50-433b-aba9-f8100bb7179c",
   "metadata": {},
   "outputs": [],
   "source": [
    "a=np.array([[1,2],[3,4]])\n",
    "b=a.copy() # 껍데기를 새로 생성 (strides, shape) + base도 새로생성 "
   ]
  },
  {
   "cell_type": "code",
   "execution_count": 173,
   "id": "1d3badf7-7b2b-4b08-8636-a586a8a641ce",
   "metadata": {},
   "outputs": [
    {
     "data": {
      "text/plain": [
       "(139660382910288, 139660382910000)"
      ]
     },
     "execution_count": 173,
     "metadata": {},
     "output_type": "execute_result"
    }
   ],
   "source": [
    "id(a),id(b)"
   ]
  },
  {
   "cell_type": "markdown",
   "id": "1ad8300c-10fc-4213-bf13-9ecc40155c03",
   "metadata": {},
   "source": [
    "`-` a의 shape을 바꿔도 b에는 적용되지 않음 "
   ]
  },
  {
   "cell_type": "code",
   "execution_count": 174,
   "id": "7c45d130-1af9-4d33-8de3-12054d642c05",
   "metadata": {},
   "outputs": [
    {
     "data": {
      "text/plain": [
       "array([[1],\n",
       "       [2],\n",
       "       [3],\n",
       "       [4]])"
      ]
     },
     "execution_count": 174,
     "metadata": {},
     "output_type": "execute_result"
    }
   ],
   "source": [
    "a.shape = (4,1)\n",
    "a"
   ]
  },
  {
   "cell_type": "code",
   "execution_count": 175,
   "id": "9900ce1f-048d-4e0b-be32-2fcff4b9d017",
   "metadata": {},
   "outputs": [
    {
     "data": {
      "text/plain": [
       "array([[1, 2],\n",
       "       [3, 4]])"
      ]
     },
     "execution_count": 175,
     "metadata": {},
     "output_type": "execute_result"
    }
   ],
   "source": [
    "b"
   ]
  },
  {
   "cell_type": "markdown",
   "id": "87cdff1f-919e-40fd-bde1-bb669c9747ce",
   "metadata": {},
   "source": [
    "`-` 그리고 a[0]의 값을 바꿔도 b에는 적용되지 않음. "
   ]
  },
  {
   "cell_type": "code",
   "execution_count": 176,
   "id": "62483f9f-9964-40ae-8423-dafa0dd97b28",
   "metadata": {},
   "outputs": [],
   "source": [
    "a[0]=100"
   ]
  },
  {
   "cell_type": "code",
   "execution_count": 177,
   "id": "aacf34cb-4458-4ba0-9769-95afbe1c6363",
   "metadata": {},
   "outputs": [
    {
     "data": {
      "text/plain": [
       "array([[100],\n",
       "       [  2],\n",
       "       [  3],\n",
       "       [  4]])"
      ]
     },
     "execution_count": 177,
     "metadata": {},
     "output_type": "execute_result"
    }
   ],
   "source": [
    "a"
   ]
  },
  {
   "cell_type": "code",
   "execution_count": 178,
   "id": "b2f4629a-c469-400e-b5af-1b7c7c8f8173",
   "metadata": {},
   "outputs": [
    {
     "data": {
      "text/plain": [
       "array([[1, 2],\n",
       "       [3, 4]])"
      ]
     },
     "execution_count": 178,
     "metadata": {},
     "output_type": "execute_result"
    }
   ],
   "source": [
    "b"
   ]
  },
  {
   "cell_type": "markdown",
   "id": "05b66189-c119-4ae4-8f2e-b07f222080cc",
   "metadata": {},
   "source": [
    "`-` b의 출생을 조사해보니.. "
   ]
  },
  {
   "cell_type": "code",
   "execution_count": 179,
   "id": "77fac26a-daf3-4b64-98aa-34c70c55eaaf",
   "metadata": {},
   "outputs": [
    {
     "data": {
      "text/plain": [
       "(None, None)"
      ]
     },
     "execution_count": 179,
     "metadata": {},
     "output_type": "execute_result"
    }
   ],
   "source": [
    "a.base,b.base"
   ]
  },
  {
   "cell_type": "markdown",
   "id": "0e38df1c-b8f9-4226-a83b-1f8bef291638",
   "metadata": {},
   "source": [
    "출생의 비밀은 없었다. 둘다 원본. "
   ]
  },
  {
   "cell_type": "markdown",
   "id": "bee78aed-9d8b-4e9c-93e2-5e67f0ed2643",
   "metadata": {},
   "source": [
    "`-` `.view()` 는 껍데기만, `.copy()` 는 껍데기 + base 까지 새로생성 "
   ]
  },
  {
   "cell_type": "markdown",
   "id": "660dd79c-8875-4a09-bbfb-4b3228359e24",
   "metadata": {},
   "source": [
    "### ***Appendix: .copy의 한계(?)***"
   ]
  },
  {
   "cell_type": "code",
   "execution_count": 180,
   "id": "56b2ea9c-02aa-4d12-9e77-38ff3f6e8dff",
   "metadata": {},
   "outputs": [
    {
     "data": {
      "text/plain": [
       "array([1, list([1, 2])], dtype=object)"
      ]
     },
     "execution_count": 180,
     "metadata": {},
     "output_type": "execute_result"
    }
   ],
   "source": [
    "a=np.array([1,[1,2]],dtype='O')\n",
    "a"
   ]
  },
  {
   "cell_type": "code",
   "execution_count": 181,
   "id": "19f8dd95-1141-493a-9eca-ef3bb47b5002",
   "metadata": {},
   "outputs": [],
   "source": [
    "b=a.copy()"
   ]
  },
  {
   "cell_type": "code",
   "execution_count": 182,
   "id": "759bec3a-e4cb-4a2d-b700-83f507be0de9",
   "metadata": {},
   "outputs": [
    {
     "data": {
      "text/plain": [
       "array([1, list([1, 2])], dtype=object)"
      ]
     },
     "execution_count": 182,
     "metadata": {},
     "output_type": "execute_result"
    }
   ],
   "source": [
    "b"
   ]
  },
  {
   "cell_type": "code",
   "execution_count": 183,
   "id": "a80631a9-da0d-4463-98c9-dbc289de866f",
   "metadata": {},
   "outputs": [],
   "source": [
    "a[0]=222"
   ]
  },
  {
   "cell_type": "code",
   "execution_count": 184,
   "id": "2f1109ae-d906-4ae9-aff1-c55177731141",
   "metadata": {},
   "outputs": [
    {
     "data": {
      "text/plain": [
       "array([222, list([1, 2])], dtype=object)"
      ]
     },
     "execution_count": 184,
     "metadata": {},
     "output_type": "execute_result"
    }
   ],
   "source": [
    "a"
   ]
  },
  {
   "cell_type": "code",
   "execution_count": 185,
   "id": "5a874179-1395-4d83-9c53-d43205f8484b",
   "metadata": {},
   "outputs": [
    {
     "data": {
      "text/plain": [
       "array([1, list([1, 2])], dtype=object)"
      ]
     },
     "execution_count": 185,
     "metadata": {},
     "output_type": "execute_result"
    }
   ],
   "source": [
    "b"
   ]
  },
  {
   "cell_type": "code",
   "execution_count": 186,
   "id": "2d574ef7-d583-44c3-bb31-a7d9daaa43db",
   "metadata": {},
   "outputs": [],
   "source": [
    "a[1][0]=333"
   ]
  },
  {
   "cell_type": "code",
   "execution_count": 187,
   "id": "621be79d-6462-460a-ab77-35b03e26918f",
   "metadata": {},
   "outputs": [
    {
     "data": {
      "text/plain": [
       "array([222, list([333, 2])], dtype=object)"
      ]
     },
     "execution_count": 187,
     "metadata": {},
     "output_type": "execute_result"
    }
   ],
   "source": [
    "a"
   ]
  },
  {
   "cell_type": "code",
   "execution_count": 188,
   "id": "8acd657e-fe1c-460d-a3f5-c55333edc0f2",
   "metadata": {},
   "outputs": [
    {
     "data": {
      "text/plain": [
       "array([1, list([333, 2])], dtype=object)"
      ]
     },
     "execution_count": 188,
     "metadata": {},
     "output_type": "execute_result"
    }
   ],
   "source": [
    "b"
   ]
  },
  {
   "cell_type": "markdown",
   "id": "29a5fe68-3f87-4337-a489-2776a62d28ad",
   "metadata": {},
   "source": [
    "***해결책: 더 깊은 복사***"
   ]
  },
  {
   "cell_type": "code",
   "execution_count": 189,
   "id": "52ce0f16-71ac-4afd-bff7-d86693728443",
   "metadata": {},
   "outputs": [],
   "source": [
    "import copy "
   ]
  },
  {
   "cell_type": "code",
   "execution_count": 190,
   "id": "5eaec091-5c41-4958-ac05-961dee360cd3",
   "metadata": {},
   "outputs": [],
   "source": [
    "a=np.array([1,[1,2]],dtype='O')\n",
    "b=copy.deepcopy(a)"
   ]
  },
  {
   "cell_type": "code",
   "execution_count": 191,
   "id": "dbd1ee27-cf8b-41b0-9424-2d7e5294fb2b",
   "metadata": {},
   "outputs": [
    {
     "data": {
      "text/plain": [
       "array([1, list([1, 2])], dtype=object)"
      ]
     },
     "execution_count": 191,
     "metadata": {},
     "output_type": "execute_result"
    }
   ],
   "source": [
    "a"
   ]
  },
  {
   "cell_type": "code",
   "execution_count": 192,
   "id": "233c3ab5-a135-45f7-ac61-0e2bfddfab87",
   "metadata": {},
   "outputs": [
    {
     "data": {
      "text/plain": [
       "array([1, list([1, 2])], dtype=object)"
      ]
     },
     "execution_count": 192,
     "metadata": {},
     "output_type": "execute_result"
    }
   ],
   "source": [
    "b"
   ]
  },
  {
   "cell_type": "code",
   "execution_count": 193,
   "id": "11516781-5786-4245-bc85-62dcccc0891f",
   "metadata": {},
   "outputs": [],
   "source": [
    "a[0]=100"
   ]
  },
  {
   "cell_type": "code",
   "execution_count": 194,
   "id": "00e742ce-7526-4a40-874e-c4b89aa28be8",
   "metadata": {},
   "outputs": [
    {
     "data": {
      "text/plain": [
       "(array([100, list([1, 2])], dtype=object),\n",
       " array([1, list([1, 2])], dtype=object))"
      ]
     },
     "execution_count": 194,
     "metadata": {},
     "output_type": "execute_result"
    }
   ],
   "source": [
    "a,b"
   ]
  },
  {
   "cell_type": "code",
   "execution_count": 195,
   "id": "b41ed535-0146-47c2-8abf-1c879e091008",
   "metadata": {},
   "outputs": [],
   "source": [
    "a[1][0]=200"
   ]
  },
  {
   "cell_type": "code",
   "execution_count": 196,
   "id": "28448080-2cef-4e15-a19d-932090fc9f60",
   "metadata": {},
   "outputs": [
    {
     "data": {
      "text/plain": [
       "(array([100, list([200, 2])], dtype=object),\n",
       " array([1, list([1, 2])], dtype=object))"
      ]
     },
     "execution_count": 196,
     "metadata": {},
     "output_type": "execute_result"
    }
   ],
   "source": [
    "a,b"
   ]
  },
  {
   "cell_type": "markdown",
   "id": "2ff849c7-e02a-4cc9-9fb0-eae83bcf1945",
   "metadata": {},
   "source": [
    "`-` 중간요약\n",
    "\n",
    "- 사실 `.copy()`는 온전한 deep copy 가 아니라 level 2 deep copy 이다. \n",
    "- 따라서 `.copy()`는 base의 정보를 shallow copy 한다 (level 1 deep copy 한다.)\n",
    "- 그래서 base가 다시 중첩구조를 가지는 경우는 온전한 deep-copy가 수행되지 않는다. \n",
    "- 그런데 일반적으로 넘파이를 이용할때 자주 사용하는 데이터 구조인 행렬, 텐서등은 base가 중첩구조를 가지지 않는다. (1차원 array로만 저장되어 있음) \n",
    "- 따라서 행렬, 텐서에 한정하면 `.copy()`는 온전한 deep copy라고 이해해도 무방하다. "
   ]
  },
  {
   "cell_type": "markdown",
   "id": "3c1c544a-34e7-4027-bd25-b13e5400745f",
   "metadata": {},
   "source": [
    "행/열 같지 않으면 numpy쓰면 힘들걸..\n",
    "\n",
    "모든 데이터 구조가 2차원까지로 정리 된다."
   ]
  },
  {
   "cell_type": "markdown",
   "id": "f5d229d3-d950-4767-828f-00a524a626fc",
   "metadata": {},
   "source": [
    "## 별명, 뷰, 카피 "
   ]
  },
  {
   "cell_type": "markdown",
   "id": "6b206df6-3440-41d3-933a-b2ff361b7962",
   "metadata": {},
   "source": [
    "`-` test 함수 작성 "
   ]
  },
  {
   "cell_type": "code",
   "execution_count": 197,
   "id": "9fe37d75-601d-49a1-8235-fb69c86c82db",
   "metadata": {},
   "outputs": [],
   "source": [
    "def test(a,b): \n",
    "    if id(a) == id(b): \n",
    "        print(\"별명\")\n",
    "    elif id(a) == id(b.base) or id(a.base)==id(b): \n",
    "        print(\"뷰\")\n",
    "    elif (id(a.base)!=id(None) and id(b.base)!=id(None)) and id(a.base) == id(b.base):\n",
    "        print(\"공통의 base를 가짐\")\n",
    "    else: \n",
    "        print(\"카피, 혹은 아무 관련없는 오브젝트\") "
   ]
  },
  {
   "cell_type": "markdown",
   "id": "b1aab04c-94ac-4fb6-b80d-2b6b51562b1b",
   "metadata": {},
   "source": [
    "`-` 잘 동작하나? "
   ]
  },
  {
   "cell_type": "markdown",
   "id": "1ad4d55b-d34f-44a9-af62-e3081cce9a01",
   "metadata": {},
   "source": [
    "(테스트1) "
   ]
  },
  {
   "cell_type": "code",
   "execution_count": 198,
   "id": "a0acb6b3-aefb-48a4-af18-0018ce4f7ed0",
   "metadata": {},
   "outputs": [],
   "source": [
    "a=np.array([1,2,3,4])\n",
    "b=a"
   ]
  },
  {
   "cell_type": "code",
   "execution_count": 199,
   "id": "612dac6a-8141-4845-b64b-568662c6177f",
   "metadata": {},
   "outputs": [
    {
     "name": "stdout",
     "output_type": "stream",
     "text": [
      "별명\n"
     ]
    }
   ],
   "source": [
    "test(a,b)"
   ]
  },
  {
   "cell_type": "markdown",
   "id": "3bb97b3c-ced9-40e5-8619-f4078f7b51e4",
   "metadata": {},
   "source": [
    "참조"
   ]
  },
  {
   "cell_type": "markdown",
   "id": "ae7d99be-7b7b-4d03-904c-cf0bf22b2cb9",
   "metadata": {},
   "source": [
    "(테스트2) "
   ]
  },
  {
   "cell_type": "code",
   "execution_count": 200,
   "id": "5895deb3-199c-42ca-a8db-14f832f521c1",
   "metadata": {},
   "outputs": [],
   "source": [
    "a=np.array([1,2,3,4])\n",
    "b=a.view()"
   ]
  },
  {
   "cell_type": "code",
   "execution_count": 201,
   "id": "3f63217d-468f-4f37-9a0e-45e45b4126e8",
   "metadata": {},
   "outputs": [
    {
     "name": "stdout",
     "output_type": "stream",
     "text": [
      "뷰\n"
     ]
    }
   ],
   "source": [
    "test(a,b)"
   ]
  },
  {
   "cell_type": "markdown",
   "id": "73b4575d-6a1c-4728-b12e-7d748a5758a5",
   "metadata": {},
   "source": [
    "(테스트3) "
   ]
  },
  {
   "cell_type": "code",
   "execution_count": 202,
   "id": "4a6e4be3-1dc8-4779-8cf2-2bbe9b762590",
   "metadata": {},
   "outputs": [],
   "source": [
    "a=np.array([1,2,3,4])\n",
    "b=a.view()\n",
    "c=a.view()"
   ]
  },
  {
   "cell_type": "code",
   "execution_count": 203,
   "id": "aefd3ee4-71c0-490f-9298-f228b1033f3a",
   "metadata": {},
   "outputs": [
    {
     "name": "stdout",
     "output_type": "stream",
     "text": [
      "공통의 base를 가짐\n"
     ]
    }
   ],
   "source": [
    "test(b,c)"
   ]
  },
  {
   "cell_type": "code",
   "execution_count": 204,
   "id": "71a23f92-9a3e-424a-9f67-02e272d415cf",
   "metadata": {},
   "outputs": [
    {
     "name": "stdout",
     "output_type": "stream",
     "text": [
      "뷰\n"
     ]
    }
   ],
   "source": [
    "test(a,b)"
   ]
  },
  {
   "cell_type": "code",
   "execution_count": 205,
   "id": "ca81a32c-4ca6-4bbd-b9ae-9facbdef3af0",
   "metadata": {},
   "outputs": [
    {
     "name": "stdout",
     "output_type": "stream",
     "text": [
      "뷰\n"
     ]
    }
   ],
   "source": [
    "test(a,c)"
   ]
  },
  {
   "cell_type": "markdown",
   "id": "b5b5ebff-1c2c-4efd-963b-b25536026ae1",
   "metadata": {},
   "source": [
    "(테스트4) "
   ]
  },
  {
   "cell_type": "code",
   "execution_count": 206,
   "id": "887d05f2-ea7f-41e7-819c-7669aeeaaf10",
   "metadata": {},
   "outputs": [],
   "source": [
    "a=np.array([1,2,3,4])\n",
    "b=a.copy()"
   ]
  },
  {
   "cell_type": "code",
   "execution_count": 207,
   "id": "5d6ef4ad-cd90-4a5a-b2dd-1ab3e7b1f1e9",
   "metadata": {},
   "outputs": [
    {
     "name": "stdout",
     "output_type": "stream",
     "text": [
      "카피, 혹은 아무 관련없는 오브젝트\n"
     ]
    }
   ],
   "source": [
    "test(a,b)"
   ]
  },
  {
   "cell_type": "markdown",
   "id": "b9251f5e-7aeb-4a2d-a82e-f1dc8e778b2f",
   "metadata": {},
   "source": [
    "## 결론 "
   ]
  },
  {
   "cell_type": "markdown",
   "id": "ab3fd6db-a860-44da-81f8-a36786f2c3f9",
   "metadata": {},
   "source": [
    "`-` 우리가 사용했던 어떠한 것들이 뷰가 나올지 카피가 나올지 사실 잘 모른다. (그래서 원리를 이해해도 대응할 방법이 사실없음) "
   ]
  },
  {
   "cell_type": "markdown",
   "id": "16476fdc-13a3-41ec-9f6f-0322ac0205c9",
   "metadata": {},
   "source": [
    "### 예시1"
   ]
  },
  {
   "cell_type": "code",
   "execution_count": 208,
   "id": "261ec62b-664d-4163-977b-a0f5428a88d5",
   "metadata": {},
   "outputs": [],
   "source": [
    "a=np.array([1,2,3,4])\n",
    "b=a[:3]"
   ]
  },
  {
   "cell_type": "code",
   "execution_count": 209,
   "id": "d8eff61f-7c56-4f41-a4a0-81fc579f7d69",
   "metadata": {},
   "outputs": [
    {
     "data": {
      "text/plain": [
       "array([1, 2, 3, 4])"
      ]
     },
     "execution_count": 209,
     "metadata": {},
     "output_type": "execute_result"
    }
   ],
   "source": [
    "a"
   ]
  },
  {
   "cell_type": "code",
   "execution_count": 210,
   "id": "598a91f8-2a82-402d-aa7a-8d4c21f8cd9a",
   "metadata": {},
   "outputs": [
    {
     "data": {
      "text/plain": [
       "array([1, 2, 3])"
      ]
     },
     "execution_count": 210,
     "metadata": {},
     "output_type": "execute_result"
    }
   ],
   "source": [
    "b"
   ]
  },
  {
   "cell_type": "code",
   "execution_count": 211,
   "id": "8286317b-9042-4cf3-a786-78c711b52d18",
   "metadata": {},
   "outputs": [
    {
     "name": "stdout",
     "output_type": "stream",
     "text": [
      "뷰\n"
     ]
    }
   ],
   "source": [
    "test(a,b)"
   ]
  },
  {
   "cell_type": "code",
   "execution_count": 212,
   "id": "20a02093-53e7-4838-a6ec-4f53c2cc38c2",
   "metadata": {},
   "outputs": [
    {
     "data": {
      "text/plain": [
       "array([1, 2, 3])"
      ]
     },
     "execution_count": 212,
     "metadata": {},
     "output_type": "execute_result"
    }
   ],
   "source": [
    "c=a[[0,1,2]]\n",
    "c"
   ]
  },
  {
   "cell_type": "code",
   "execution_count": 213,
   "id": "ac8c4ea5-93bf-456b-9c82-27d3dd477aa4",
   "metadata": {},
   "outputs": [
    {
     "name": "stdout",
     "output_type": "stream",
     "text": [
      "카피, 혹은 아무 관련없는 오브젝트\n"
     ]
    }
   ],
   "source": [
    "test(a,c)"
   ]
  },
  {
   "cell_type": "code",
   "execution_count": 214,
   "id": "a09db5c7-9ac3-4bfe-9993-f0dfb125cf46",
   "metadata": {},
   "outputs": [],
   "source": [
    "d = a[3]"
   ]
  },
  {
   "cell_type": "code",
   "execution_count": 215,
   "id": "8ecb5c06-890d-425c-bbc9-41522d9912c8",
   "metadata": {},
   "outputs": [
    {
     "name": "stdout",
     "output_type": "stream",
     "text": [
      "카피, 혹은 아무 관련없는 오브젝트\n"
     ]
    }
   ],
   "source": [
    "test(a,d)"
   ]
  },
  {
   "cell_type": "markdown",
   "id": "b2f1271a-1cf5-4f9f-8a76-5bb04e619166",
   "metadata": {},
   "source": [
    "### 예시2"
   ]
  },
  {
   "cell_type": "code",
   "execution_count": 216,
   "id": "f9c62e35-07ed-4cde-b205-590097484f7b",
   "metadata": {},
   "outputs": [
    {
     "data": {
      "text/plain": [
       "array([[1, 2],\n",
       "       [3, 4]])"
      ]
     },
     "execution_count": 216,
     "metadata": {},
     "output_type": "execute_result"
    }
   ],
   "source": [
    "a=np.array([[1,2],[3,4]])\n",
    "a"
   ]
  },
  {
   "cell_type": "code",
   "execution_count": 217,
   "id": "4ffa8af7-e25f-4441-afe3-f9da43e09df2",
   "metadata": {},
   "outputs": [],
   "source": [
    "b=a.flatten()\n",
    "c=a.ravel()\n",
    "d=a.reshape(-1)"
   ]
  },
  {
   "cell_type": "code",
   "execution_count": 218,
   "id": "eb2bdcf4-c7cf-4caf-a490-7d6415f54b46",
   "metadata": {},
   "outputs": [
    {
     "name": "stdout",
     "output_type": "stream",
     "text": [
      "카피, 혹은 아무 관련없는 오브젝트\n"
     ]
    }
   ],
   "source": [
    "test(a,b)"
   ]
  },
  {
   "cell_type": "code",
   "execution_count": 219,
   "id": "d91d8ddd-7ce5-4f81-8c23-dfa1b365ef8c",
   "metadata": {},
   "outputs": [
    {
     "name": "stdout",
     "output_type": "stream",
     "text": [
      "뷰\n"
     ]
    }
   ],
   "source": [
    "test(a,c)"
   ]
  },
  {
   "cell_type": "code",
   "execution_count": 220,
   "id": "8b833924-bdc6-4b84-8645-c7ec0cc41bbe",
   "metadata": {},
   "outputs": [
    {
     "name": "stdout",
     "output_type": "stream",
     "text": [
      "뷰\n"
     ]
    }
   ],
   "source": [
    "test(a,d)"
   ]
  },
  {
   "cell_type": "code",
   "execution_count": 221,
   "id": "27607628-bae7-41c5-bef1-02043a848f97",
   "metadata": {},
   "outputs": [
    {
     "name": "stdout",
     "output_type": "stream",
     "text": [
      "공통의 base를 가짐\n"
     ]
    }
   ],
   "source": [
    "test(c,d)"
   ]
  },
  {
   "cell_type": "code",
   "execution_count": 222,
   "id": "559aaad4-c578-4221-85b3-c439c9b5878e",
   "metadata": {},
   "outputs": [
    {
     "name": "stdout",
     "output_type": "stream",
     "text": [
      "카피, 혹은 아무 관련없는 오브젝트\n"
     ]
    }
   ],
   "source": [
    "test(b,c)"
   ]
  }
 ],
 "metadata": {
  "kernelspec": {
   "display_name": "Python 3",
   "language": "python",
   "name": "python3"
  },
  "language_info": {
   "codemirror_mode": {
    "name": "ipython",
    "version": 3
   },
   "file_extension": ".py",
   "mimetype": "text/x-python",
   "name": "python",
   "nbconvert_exporter": "python",
   "pygments_lexer": "ipython3",
   "version": "3.8.0"
  }
 },
 "nbformat": 4,
 "nbformat_minor": 5
}
