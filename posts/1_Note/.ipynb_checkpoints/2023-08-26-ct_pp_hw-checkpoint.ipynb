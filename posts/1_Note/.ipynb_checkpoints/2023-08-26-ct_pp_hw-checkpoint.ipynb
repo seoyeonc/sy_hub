{
 "cells": [
  {
   "cell_type": "raw",
   "id": "657e0fdd-8dbc-44af-85e4-e6a332614304",
   "metadata": {
    "id": "cac470df-29e7-4148-9bbd-d8b9a32fa570",
    "tags": []
   },
   "source": [
    "---\n",
    "title: \"**[Coding Test]**Python Programming HW review\"\n",
    "author: \"SEOYEON CHOI\"\n",
    "date: \"2023-08-26\"\n",
    "---"
   ]
  },
  {
   "cell_type": "markdown",
   "id": "56f7949e-ffbb-4993-ba87-fdde2bbd2cd4",
   "metadata": {},
   "source": [
    "# 1.\n",
    "\n",
    "HW: 0315\n",
    "\n",
    "[02wk-1: 파이썬의 자료형 (2)](https://guebin.github.io/PP2023/posts/01_PythonBasic/2023-03-13-2wk-1.html#%EA%B0%95%EC%9D%98%EC%98%81%EC%83%81)"
   ]
  },
  {
   "cell_type": "markdown",
   "id": "cce2cd01-d392-43eb-b04b-e15b6d91bc33",
   "metadata": {},
   "source": [
    "아래와 같은 문자열이 있다고 하자."
   ]
  },
  {
   "cell_type": "code",
   "execution_count": 1,
   "id": "64a20bd2-f2a3-4d45-9d6a-b7a50afeb0e8",
   "metadata": {},
   "outputs": [],
   "source": [
    "a='Jeonbuk National University' "
   ]
  },
  {
   "cell_type": "markdown",
   "id": "77533341-5add-46bd-856f-c4a1851867f7",
   "metadata": {},
   "source": [
    "`1`. 적당한 인덱싱을 통하여 출력결과가 아래와 같도록 하라."
   ]
  },
  {
   "cell_type": "code",
   "execution_count": 11,
   "id": "1830a7a8-97a4-4082-a8f4-667422ae3ca7",
   "metadata": {},
   "outputs": [
    {
     "data": {
      "text/plain": [
       "17"
      ]
     },
     "execution_count": 11,
     "metadata": {},
     "output_type": "execute_result"
    }
   ],
   "source": [
    "a.find('U')"
   ]
  },
  {
   "cell_type": "code",
   "execution_count": 12,
   "id": "05eb56ce-9ac4-4599-b141-8efec2453f34",
   "metadata": {},
   "outputs": [
    {
     "data": {
      "text/plain": [
       "26"
      ]
     },
     "execution_count": 12,
     "metadata": {},
     "output_type": "execute_result"
    }
   ],
   "source": [
    "a.find('y')"
   ]
  },
  {
   "cell_type": "code",
   "execution_count": 13,
   "id": "a7147cfe-d365-4b1e-8c4d-c6b738692729",
   "metadata": {},
   "outputs": [
    {
     "data": {
      "text/plain": [
       "'Jeonbuk National University'"
      ]
     },
     "execution_count": 13,
     "metadata": {},
     "output_type": "execute_result"
    }
   ],
   "source": [
    "str(a)"
   ]
  },
  {
   "cell_type": "code",
   "execution_count": 15,
   "id": "335324ce-7133-4192-9dcc-72274aae1f34",
   "metadata": {},
   "outputs": [
    {
     "data": {
      "text/plain": [
       "'University'"
      ]
     },
     "execution_count": 15,
     "metadata": {},
     "output_type": "execute_result"
    }
   ],
   "source": [
    "a[a.find('U'):a.find('y')+1]"
   ]
  },
  {
   "cell_type": "markdown",
   "id": "e378573c-b9f8-45b7-a88f-2ea329d75843",
   "metadata": {},
   "source": [
    "hint: University는 10글자이다."
   ]
  },
  {
   "cell_type": "markdown",
   "id": "dce65795-d11b-4a78-8cfe-9514fc172b8f",
   "metadata": {},
   "source": [
    "`2`. 출력결과가 아래와 같도록 하는 코드를 작성하라. (lower 함수를 이용할 것)"
   ]
  },
  {
   "cell_type": "code",
   "execution_count": 17,
   "id": "726b18c3-0145-452e-903a-173d69b15cbe",
   "metadata": {},
   "outputs": [
    {
     "data": {
      "text/plain": [
       "'jeonbuk national university'"
      ]
     },
     "execution_count": 17,
     "metadata": {},
     "output_type": "execute_result"
    }
   ],
   "source": [
    "a.lower()"
   ]
  },
  {
   "cell_type": "markdown",
   "id": "f727b6f1-a919-4285-b3d0-18c7fa47d4ca",
   "metadata": {},
   "source": [
    "`3`. 아래의 코드를 관찰하고 isupper()의 기능이 무엇인지 스스로 정리해보라."
   ]
  },
  {
   "cell_type": "code",
   "execution_count": 18,
   "id": "05dd8c7c-bd64-4193-8db5-ab91f4bd1caa",
   "metadata": {},
   "outputs": [
    {
     "data": {
      "text/plain": [
       "True"
      ]
     },
     "execution_count": 18,
     "metadata": {},
     "output_type": "execute_result"
    }
   ],
   "source": [
    "'A'.isupper()"
   ]
  },
  {
   "cell_type": "code",
   "execution_count": 19,
   "id": "a84adb29-cdbd-449f-a4d5-277f2d4c0c4c",
   "metadata": {},
   "outputs": [
    {
     "data": {
      "text/plain": [
       "True"
      ]
     },
     "execution_count": 19,
     "metadata": {},
     "output_type": "execute_result"
    }
   ],
   "source": [
    "'AA'.isupper()"
   ]
  },
  {
   "cell_type": "code",
   "execution_count": 20,
   "id": "f13a5686-4369-411d-8b1f-ca251e9d57c0",
   "metadata": {},
   "outputs": [
    {
     "data": {
      "text/plain": [
       "False"
      ]
     },
     "execution_count": 20,
     "metadata": {},
     "output_type": "execute_result"
    }
   ],
   "source": [
    "'Aa'.isupper()"
   ]
  },
  {
   "cell_type": "code",
   "execution_count": 21,
   "id": "4b4a40bd-099c-4c22-99e0-93e078eea6b5",
   "metadata": {},
   "outputs": [
    {
     "data": {
      "text/plain": [
       "False"
      ]
     },
     "execution_count": 21,
     "metadata": {},
     "output_type": "execute_result"
    }
   ],
   "source": [
    "'aa'.isupper()"
   ]
  },
  {
   "cell_type": "code",
   "execution_count": 22,
   "id": "87ce39e6-923f-4a6d-a1f3-46e5a203711f",
   "metadata": {},
   "outputs": [
    {
     "data": {
      "text/plain": [
       "False"
      ]
     },
     "execution_count": 22,
     "metadata": {},
     "output_type": "execute_result"
    }
   ],
   "source": [
    "'aA'.isupper()"
   ]
  },
  {
   "cell_type": "markdown",
   "id": "9607617a-ec1f-4047-a278-fb19175a6a12",
   "metadata": {},
   "source": [
    "대문자인가 확인하는 코드!"
   ]
  },
  {
   "cell_type": "code",
   "execution_count": 23,
   "id": "e6858eca-a56f-47ee-87c1-e7991ee82dbf",
   "metadata": {},
   "outputs": [
    {
     "data": {
      "text/plain": [
       "False"
      ]
     },
     "execution_count": 23,
     "metadata": {},
     "output_type": "execute_result"
    }
   ],
   "source": [
    "'aA'.islower()"
   ]
  },
  {
   "cell_type": "markdown",
   "id": "4b4ff5c1-9862-4599-929e-8a9efe86eef6",
   "metadata": {},
   "source": [
    "소문자인거 확인하는 코드!"
   ]
  },
  {
   "cell_type": "markdown",
   "id": "d009dd48-b1e8-4201-a412-4c1dada3bb56",
   "metadata": {},
   "source": [
    "`4`. 다음중 실행 불가능한 코드를 모두 골라라."
   ]
  },
  {
   "cell_type": "markdown",
   "id": "56f5d6e3-79c2-4c6b-b775-bd709e1d7ffa",
   "metadata": {},
   "source": [
    "(a) 'a'*2 "
   ]
  },
  {
   "cell_type": "code",
   "execution_count": 31,
   "id": "901de343-4f02-4c8d-b4af-7d4283b1acf1",
   "metadata": {},
   "outputs": [
    {
     "data": {
      "text/plain": [
       "'aa'"
      ]
     },
     "execution_count": 31,
     "metadata": {},
     "output_type": "execute_result"
    }
   ],
   "source": [
    "'a'*2"
   ]
  },
  {
   "cell_type": "markdown",
   "id": "4a53c5d4-5cdc-4a29-9d42-21b5633112f2",
   "metadata": {},
   "source": [
    "(b) 'a'*'2'"
   ]
  },
  {
   "cell_type": "code",
   "execution_count": 32,
   "id": "7c4e335a-c7ed-4fff-a869-fe4651563aea",
   "metadata": {},
   "outputs": [
    {
     "ename": "TypeError",
     "evalue": "can't multiply sequence by non-int of type 'str'",
     "output_type": "error",
     "traceback": [
      "\u001b[0;31m---------------------------------------------------------------------------\u001b[0m",
      "\u001b[0;31mTypeError\u001b[0m                                 Traceback (most recent call last)",
      "Input \u001b[0;32mIn [32]\u001b[0m, in \u001b[0;36m<cell line: 1>\u001b[0;34m()\u001b[0m\n\u001b[0;32m----> 1\u001b[0m \u001b[38;5;124;43m'\u001b[39;49m\u001b[38;5;124;43ma\u001b[39;49m\u001b[38;5;124;43m'\u001b[39;49m\u001b[38;5;241;43m*\u001b[39;49m\u001b[38;5;124;43m'\u001b[39;49m\u001b[38;5;124;43m2\u001b[39;49m\u001b[38;5;124;43m'\u001b[39;49m\n",
      "\u001b[0;31mTypeError\u001b[0m: can't multiply sequence by non-int of type 'str'"
     ]
    }
   ],
   "source": [
    "'a'*'2'"
   ]
  },
  {
   "cell_type": "markdown",
   "id": "e6f71a63-acc4-44d3-9ad2-9aa94f45233f",
   "metadata": {},
   "source": [
    "(c) 'a'+2 "
   ]
  },
  {
   "cell_type": "code",
   "execution_count": 33,
   "id": "8de0f92f-1dfe-431b-870c-da5e5642b888",
   "metadata": {},
   "outputs": [
    {
     "ename": "TypeError",
     "evalue": "can only concatenate str (not \"int\") to str",
     "output_type": "error",
     "traceback": [
      "\u001b[0;31m---------------------------------------------------------------------------\u001b[0m",
      "\u001b[0;31mTypeError\u001b[0m                                 Traceback (most recent call last)",
      "Input \u001b[0;32mIn [33]\u001b[0m, in \u001b[0;36m<cell line: 1>\u001b[0;34m()\u001b[0m\n\u001b[0;32m----> 1\u001b[0m \u001b[38;5;124;43m'\u001b[39;49m\u001b[38;5;124;43ma\u001b[39;49m\u001b[38;5;124;43m'\u001b[39;49m\u001b[38;5;241;43m+\u001b[39;49m\u001b[38;5;241;43m2\u001b[39;49m\n",
      "\u001b[0;31mTypeError\u001b[0m: can only concatenate str (not \"int\") to str"
     ]
    }
   ],
   "source": [
    "'a'+2"
   ]
  },
  {
   "cell_type": "markdown",
   "id": "250aef08-8a9c-4332-9561-30be16647996",
   "metadata": {},
   "source": [
    "(d) 'a'+'2'"
   ]
  },
  {
   "cell_type": "code",
   "execution_count": 34,
   "id": "4361a776-5295-4da2-baf0-6c6d4cc03518",
   "metadata": {},
   "outputs": [
    {
     "data": {
      "text/plain": [
       "'a2'"
      ]
     },
     "execution_count": 34,
     "metadata": {},
     "output_type": "execute_result"
    }
   ],
   "source": [
    "'a'+'2'"
   ]
  },
  {
   "cell_type": "markdown",
   "id": "5a79df36-813f-46cf-8b88-658cf849fa74",
   "metadata": {},
   "source": [
    "# 2.\n",
    "\n",
    "HW 0315"
   ]
  },
  {
   "cell_type": "markdown",
   "id": "6e98223c-0e08-4b6c-977d-e69c3bf8c83d",
   "metadata": {},
   "source": [
    "[02wk-2: 파이썬의 자료형 (3)](https://guebin.github.io/PP2023/posts/01_PythonBasic/2023-03-15-2wk-2.html)"
   ]
  },
  {
   "cell_type": "markdown",
   "id": "12d76447-aa6d-4684-8886-22d8109f955a",
   "metadata": {},
   "source": [
    "`1`. 길이가 0인 리스트를 만들어라. (비어있는 리스트를 만들어라)"
   ]
  },
  {
   "cell_type": "markdown",
   "id": "41869e13-e63e-4282-aa19-116deab1eb28",
   "metadata": {},
   "source": [
    "(풀이1)"
   ]
  },
  {
   "cell_type": "code",
   "execution_count": 35,
   "id": "040fbc81-dd6e-4410-b7b6-d8ff91565120",
   "metadata": {},
   "outputs": [
    {
     "data": {
      "text/plain": [
       "[]"
      ]
     },
     "execution_count": 35,
     "metadata": {},
     "output_type": "execute_result"
    }
   ],
   "source": [
    "[]"
   ]
  },
  {
   "cell_type": "markdown",
   "id": "fd2e9f7e-1240-416d-a52e-69ef04d1f35e",
   "metadata": {},
   "source": [
    "(풀이2)"
   ]
  },
  {
   "cell_type": "code",
   "execution_count": 36,
   "id": "b38513de-d851-4c3f-81f4-a495738eed1d",
   "metadata": {},
   "outputs": [
    {
     "data": {
      "text/plain": [
       "[]"
      ]
     },
     "execution_count": 36,
     "metadata": {},
     "output_type": "execute_result"
    }
   ],
   "source": [
    "list()"
   ]
  },
  {
   "cell_type": "markdown",
   "id": "96bbacf6-7618-4838-ad24-0c3e71018eea",
   "metadata": {},
   "source": [
    "`2`. 다음의 실행값 중 가장 큰 숫자가 나오는 보기를 골라라. (에러가 나는 코드는 정답에서 제외함)"
   ]
  },
  {
   "cell_type": "code",
   "execution_count": null,
   "id": "28f50fac-b753-4870-98a3-5f3c89d36c02",
   "metadata": {},
   "outputs": [],
   "source": [
    "(a) len(3.14) \n",
    "(b) len([3.14]) \n",
    "(c) len('3.14') "
   ]
  },
  {
   "cell_type": "code",
   "execution_count": 38,
   "id": "99fb7341-1bd5-41c8-959a-8893d4435195",
   "metadata": {},
   "outputs": [
    {
     "ename": "TypeError",
     "evalue": "object of type 'float' has no len()",
     "output_type": "error",
     "traceback": [
      "\u001b[0;31m---------------------------------------------------------------------------\u001b[0m",
      "\u001b[0;31mTypeError\u001b[0m                                 Traceback (most recent call last)",
      "Input \u001b[0;32mIn [38]\u001b[0m, in \u001b[0;36m<cell line: 1>\u001b[0;34m()\u001b[0m\n\u001b[0;32m----> 1\u001b[0m \u001b[38;5;28;43mlen\u001b[39;49m\u001b[43m(\u001b[49m\u001b[38;5;241;43m3.14\u001b[39;49m\u001b[43m)\u001b[49m\n",
      "\u001b[0;31mTypeError\u001b[0m: object of type 'float' has no len()"
     ]
    }
   ],
   "source": [
    "len(3.14)"
   ]
  },
  {
   "cell_type": "code",
   "execution_count": 58,
   "id": "c49714ea-2aa8-4c58-90ef-f2d21a753f34",
   "metadata": {},
   "outputs": [
    {
     "data": {
      "text/plain": [
       "\u001b[0;31mType:\u001b[0m        float\n",
       "\u001b[0;31mString form:\u001b[0m 3.14\n",
       "\u001b[0;31mDocstring:\u001b[0m   Convert a string or number to a floating point number, if possible.\n"
      ]
     },
     "metadata": {},
     "output_type": "display_data"
    }
   ],
   "source": [
    "a = 3.14;a?"
   ]
  },
  {
   "cell_type": "code",
   "execution_count": 59,
   "id": "cdfface5-680b-47c0-826c-5dbc0ba1cf7c",
   "metadata": {},
   "outputs": [
    {
     "data": {
      "text/plain": [
       "False"
      ]
     },
     "execution_count": 59,
     "metadata": {},
     "output_type": "execute_result"
    }
   ],
   "source": [
    "a.is_integer()"
   ]
  },
  {
   "cell_type": "code",
   "execution_count": 60,
   "id": "baa22330-5a4e-471a-a344-dd0869974ee3",
   "metadata": {},
   "outputs": [
    {
     "data": {
      "text/plain": [
       "1"
      ]
     },
     "execution_count": 60,
     "metadata": {},
     "output_type": "execute_result"
    }
   ],
   "source": [
    "len([3.14])"
   ]
  },
  {
   "cell_type": "code",
   "execution_count": 61,
   "id": "6d579427-9b74-4222-91f5-a2979a864339",
   "metadata": {},
   "outputs": [
    {
     "data": {
      "text/plain": [
       "\u001b[0;31mType:\u001b[0m        float\n",
       "\u001b[0;31mString form:\u001b[0m 3.14\n",
       "\u001b[0;31mDocstring:\u001b[0m   Convert a string or number to a floating point number, if possible.\n"
      ]
     },
     "metadata": {},
     "output_type": "display_data"
    }
   ],
   "source": [
    "a = [3.14];a?"
   ]
  },
  {
   "cell_type": "code",
   "execution_count": 62,
   "id": "28e2c852-210e-4bfe-9543-df0b9d2aa299",
   "metadata": {},
   "outputs": [
    {
     "data": {
      "text/plain": [
       "False"
      ]
     },
     "execution_count": 62,
     "metadata": {},
     "output_type": "execute_result"
    }
   ],
   "source": [
    "a.is_integer()"
   ]
  },
  {
   "cell_type": "code",
   "execution_count": 63,
   "id": "32f50cd3-bfec-4ad1-bd00-3e9d38f6c867",
   "metadata": {},
   "outputs": [
    {
     "data": {
      "text/plain": [
       "4"
      ]
     },
     "execution_count": 63,
     "metadata": {},
     "output_type": "execute_result"
    }
   ],
   "source": [
    "len('3.14') "
   ]
  },
  {
   "cell_type": "code",
   "execution_count": 64,
   "id": "b4be516a-b56d-4bc5-ace7-5a60acb2592c",
   "metadata": {},
   "outputs": [
    {
     "data": {
      "text/plain": [
       "\u001b[0;31mType:\u001b[0m        float\n",
       "\u001b[0;31mString form:\u001b[0m 3.14\n",
       "\u001b[0;31mDocstring:\u001b[0m   Convert a string or number to a floating point number, if possible.\n"
      ]
     },
     "metadata": {},
     "output_type": "display_data"
    }
   ],
   "source": [
    "a = '3.14';a?"
   ]
  },
  {
   "cell_type": "code",
   "execution_count": 65,
   "id": "6090121c-8f82-48e8-9967-98efd7afc892",
   "metadata": {},
   "outputs": [
    {
     "data": {
      "text/plain": [
       "False"
      ]
     },
     "execution_count": 65,
     "metadata": {},
     "output_type": "execute_result"
    }
   ],
   "source": [
    "a.is_integer()"
   ]
  },
  {
   "cell_type": "markdown",
   "id": "1272f35f-0ee8-4710-b9e7-57a6da97d977",
   "metadata": {},
   "source": [
    "`3`. 아래의 예제를 관찰하라."
   ]
  },
  {
   "cell_type": "code",
   "execution_count": 66,
   "id": "d0fc29a4-760f-4ebe-b6b2-ed475f929798",
   "metadata": {},
   "outputs": [
    {
     "data": {
      "text/plain": [
       "'제 이름은 abc입니다'"
      ]
     },
     "execution_count": 66,
     "metadata": {},
     "output_type": "execute_result"
    }
   ],
   "source": [
    "'제 이름은 {}입니다'.format('abc')"
   ]
  },
  {
   "cell_type": "code",
   "execution_count": 67,
   "id": "9525067a-aefb-4586-acc3-4d9ad57e4008",
   "metadata": {},
   "outputs": [
    {
     "data": {
      "text/plain": [
       "'제 이름은 abc이고 사는곳은 de입니다.'"
      ]
     },
     "execution_count": 67,
     "metadata": {},
     "output_type": "execute_result"
    }
   ],
   "source": [
    "'제 이름은 {}이고 사는곳은 {}입니다.'.format('abc','de')"
   ]
  },
  {
   "cell_type": "markdown",
   "id": "3151308f-daf4-48c2-bafa-e6f841214158",
   "metadata": {},
   "source": [
    "이 예제를 바탕으로 문자열에 포함된 .format()함수의 기능을 유추하라. 그리고 아래의 결과를 확인하라."
   ]
  },
  {
   "cell_type": "markdown",
   "id": "cde1d634-5bf4-4e3b-8ee7-17116d0629ec",
   "metadata": {},
   "source": [
    "$\\to$ `.format`의 기능은 `{}`에 문자를 순서대로 넣어주는 역할."
   ]
  },
  {
   "cell_type": "code",
   "execution_count": 69,
   "id": "f5903be4-079d-4718-9284-2de21526c848",
   "metadata": {},
   "outputs": [
    {
     "data": {
      "text/plain": [
       "'행사가 3월24일-3월25일 abc펜션에서 있다고 합니다. 자세한 일정 등은 다시 공지하겠습니다.'"
      ]
     },
     "execution_count": 69,
     "metadata": {},
     "output_type": "execute_result"
    }
   ],
   "source": [
    "string = '행사가 {}월{}일-{}월{}일 abc펜션에서 있다고 합니다. 자세한 일정 등은 다시 공지하겠습니다.' \n",
    "string.format(3,24,3,25)"
   ]
  },
  {
   "cell_type": "code",
   "execution_count": 71,
   "id": "d2d6bbc8-e473-4c1d-8ca0-81429bef1a1c",
   "metadata": {},
   "outputs": [
    {
     "data": {
      "text/plain": [
       "'행사가 1월1일-2월2일 abc펜션에서 있다고 합니다. 자세한 일정 등은 다시 공지하겠습니다.'"
      ]
     },
     "execution_count": 71,
     "metadata": {},
     "output_type": "execute_result"
    }
   ],
   "source": [
    "string.format(1,1,2,2)"
   ]
  },
  {
   "cell_type": "markdown",
   "id": "34b52493-e6c4-4299-9b45-cae43e6fa151",
   "metadata": {},
   "source": [
    "`4`. 아래의 예제를 관찰하라."
   ]
  },
  {
   "cell_type": "code",
   "execution_count": 72,
   "id": "bfbc0161-6047-4feb-bf8d-75e8f345ffe5",
   "metadata": {},
   "outputs": [
    {
     "data": {
      "text/plain": [
       "'abcdefu'"
      ]
     },
     "execution_count": 72,
     "metadata": {},
     "output_type": "execute_result"
    }
   ],
   "source": [
    "'abcdefg'.replace('g','u')"
   ]
  },
  {
   "cell_type": "markdown",
   "id": "175d5ac9-049d-4297-82c1-d8958649d5e5",
   "metadata": {},
   "source": [
    "이 예제를 바탕으로 문자열의 .replace() 기능을 유추하라."
   ]
  },
  {
   "cell_type": "markdown",
   "id": "9ffd001b-dc95-472f-9925-6cf658590411",
   "metadata": {},
   "source": [
    "$\\to$ `.replace`의 기능은 'g'를 'u'로 바꿔준다."
   ]
  },
  {
   "cell_type": "markdown",
   "id": "48ca901a-31e0-41d1-b0ff-67c6a56a6b80",
   "metadata": {},
   "source": [
    "`5`. 리스트자료형의 +와 * 연산을 이용하여 아래와 같은 list를 생성하라."
   ]
  },
  {
   "cell_type": "code",
   "execution_count": 73,
   "id": "1a600451-5c9f-4b15-a146-367be5b52aaf",
   "metadata": {},
   "outputs": [
    {
     "data": {
      "text/plain": [
       "[1, 2, 2, 3, 3, 3, 4, 4, 4, 4, 5, 5, 5, 5, 5]"
      ]
     },
     "execution_count": 73,
     "metadata": {},
     "output_type": "execute_result"
    }
   ],
   "source": [
    "[1, 2, 2, 3, 3, 3, 4, 4, 4, 4, 5, 5, 5, 5, 5]"
   ]
  },
  {
   "cell_type": "code",
   "execution_count": 76,
   "id": "0246f417-f895-4aaa-a0aa-6e47e03bf6e3",
   "metadata": {},
   "outputs": [
    {
     "data": {
      "text/plain": [
       "[1, 2, 2, 3, 3, 3, 4, 4, 4, 4, 5, 5, 5, 5, 5]"
      ]
     },
     "execution_count": 76,
     "metadata": {},
     "output_type": "execute_result"
    }
   ],
   "source": [
    "[1] + [2] * 2 + [3] * 3 + [4] * 4 + [5] * 5"
   ]
  },
  {
   "cell_type": "markdown",
   "id": "76655529-07e5-460d-b1b6-620b8284d815",
   "metadata": {},
   "source": [
    "hint: 아래의 코드를 관찰해보세요"
   ]
  },
  {
   "cell_type": "code",
   "execution_count": 74,
   "id": "b00547c4-d1fb-4602-83ea-276e3fb9335e",
   "metadata": {},
   "outputs": [
    {
     "data": {
      "text/plain": [
       "[1, 2, 2]"
      ]
     },
     "execution_count": 74,
     "metadata": {},
     "output_type": "execute_result"
    }
   ],
   "source": [
    "[1]*1+[2]*2 "
   ]
  },
  {
   "cell_type": "markdown",
   "id": "249c393f-640b-4bc5-b246-ec1ed45cc75b",
   "metadata": {},
   "source": [
    "`6`. 넘파이를 이용하여 아래와 같은 결과가 나오도록 코드가 작성하라."
   ]
  },
  {
   "cell_type": "markdown",
   "id": "d1fc35e4-5a97-46f2-981f-afad2eb248d5",
   "metadata": {},
   "source": [
    "$$\\begin{bmatrix}\n",
    "1 \\\\\n",
    "2 \n",
    "\\end{bmatrix} + \\begin{bmatrix}\n",
    "11 \\\\\n",
    "22 \n",
    "\\end{bmatrix} = \n",
    "\\begin{bmatrix}\n",
    "12 \\\\\n",
    "24\n",
    "\\end{bmatrix}$$"
   ]
  },
  {
   "cell_type": "code",
   "execution_count": 77,
   "id": "656530f0-bb65-44ff-8aff-191814763248",
   "metadata": {},
   "outputs": [],
   "source": [
    "import numpy as np"
   ]
  },
  {
   "cell_type": "code",
   "execution_count": 83,
   "id": "4fbeac2d-8e46-4263-851f-1caffd9e752b",
   "metadata": {},
   "outputs": [
    {
     "data": {
      "text/plain": [
       "array([12, 24])"
      ]
     },
     "execution_count": 83,
     "metadata": {},
     "output_type": "execute_result"
    }
   ],
   "source": [
    "np.array([1,2]) + np.array([11,22]) "
   ]
  },
  {
   "cell_type": "code",
   "execution_count": 84,
   "id": "fd77a1c8-542d-4dc0-ae50-13ab0132fc09",
   "metadata": {},
   "outputs": [
    {
     "data": {
      "text/plain": [
       "array([[12],\n",
       "       [24]])"
      ]
     },
     "execution_count": 84,
     "metadata": {},
     "output_type": "execute_result"
    }
   ],
   "source": [
    "np.array([[1],[2]]) + np.array([[11],[22]])"
   ]
  },
  {
   "cell_type": "markdown",
   "id": "216c4fe8-fdf7-43a5-aeb2-a9b5aebf86f0",
   "metadata": {},
   "source": [
    "7. 아래와 같은 벡터가 있다고 하자."
   ]
  },
  {
   "cell_type": "markdown",
   "id": "33ab04da-65d4-499a-a5b9-ae29345907f2",
   "metadata": {},
   "source": [
    "$$\\boldsymbol{a}=\n",
    "\\begin{bmatrix}\n",
    "12 \\\\\n",
    "24\n",
    "\\end{bmatrix}$$"
   ]
  },
  {
   "cell_type": "markdown",
   "id": "77edcdf4-cde5-4fa1-bcea-cc9f8f939cf0",
   "metadata": {},
   "source": [
    "넘파이를 이용하여 아래의 결과가 나오게 하는 코드를 작성하라.\n",
    "\n",
    "$$2\\boldsymbol{a}=\n",
    "\\begin{bmatrix}\n",
    "24 \\\\\n",
    "48\n",
    "\\end{bmatrix}$$ "
   ]
  },
  {
   "cell_type": "code",
   "execution_count": 86,
   "id": "9ed32d55-0bd8-4521-8872-f6e434c2badc",
   "metadata": {},
   "outputs": [
    {
     "data": {
      "text/plain": [
       "array([[24],\n",
       "       [48]])"
      ]
     },
     "execution_count": 86,
     "metadata": {},
     "output_type": "execute_result"
    }
   ],
   "source": [
    "2 * (np.array([[1],[2]]) + np.array([[11],[22]]))"
   ]
  },
  {
   "cell_type": "code",
   "execution_count": 88,
   "id": "2a5d3c75-863a-417a-b06a-2f87332728fe",
   "metadata": {},
   "outputs": [
    {
     "data": {
      "text/plain": [
       "array([24, 48])"
      ]
     },
     "execution_count": 88,
     "metadata": {},
     "output_type": "execute_result"
    }
   ],
   "source": [
    "2 * np.array([12, 24])"
   ]
  },
  {
   "cell_type": "code",
   "execution_count": 89,
   "id": "2c67da41-c3f0-43e9-acb3-0ba3c1db808b",
   "metadata": {},
   "outputs": [
    {
     "data": {
      "text/plain": [
       "array([[24],\n",
       "       [48]])"
      ]
     },
     "execution_count": 89,
     "metadata": {},
     "output_type": "execute_result"
    }
   ],
   "source": [
    "2 * np.array([[12], [24]])"
   ]
  },
  {
   "cell_type": "markdown",
   "id": "aea60f0a-1f5c-45d9-9bf7-c71a5473e727",
   "metadata": {},
   "source": [
    "# 3.\n",
    "\n",
    "HW 0320"
   ]
  },
  {
   "cell_type": "markdown",
   "id": "1be5d20b-add0-4010-97cc-ca8e1254fb10",
   "metadata": {},
   "source": [
    "[03wk-1: 파이썬의 자료형 (4)](https://guebin.github.io/PP2023/posts/01_PythonBasic/2023-03-20-3wk-1.html)"
   ]
  },
  {
   "cell_type": "markdown",
   "id": "3481eed7-5490-4c28-bfef-18d1f4dcca69",
   "metadata": {},
   "source": [
    "`1`. 아래의 코드를 관찰하고, sum()의 기능을 유추하라."
   ]
  },
  {
   "cell_type": "code",
   "execution_count": 90,
   "id": "570087c7-5fbb-4945-a74f-21d80379d710",
   "metadata": {},
   "outputs": [
    {
     "data": {
      "text/plain": [
       "2"
      ]
     },
     "execution_count": 90,
     "metadata": {},
     "output_type": "execute_result"
    }
   ],
   "source": [
    "sum([1,0,1,0])"
   ]
  },
  {
   "cell_type": "markdown",
   "id": "ffe2a9b9-4fce-4aec-b15c-1986956fefb4",
   "metadata": {},
   "source": [
    "$\\to$ 원소의 합"
   ]
  },
  {
   "cell_type": "code",
   "execution_count": 91,
   "id": "4b1d98af-709d-4d99-a22a-fa987190ac4c",
   "metadata": {},
   "outputs": [
    {
     "data": {
      "text/plain": [
       "2"
      ]
     },
     "execution_count": 91,
     "metadata": {},
     "output_type": "execute_result"
    }
   ],
   "source": [
    "sum([True,False,True,False])"
   ]
  },
  {
   "cell_type": "markdown",
   "id": "99248531-609e-42be-8a8e-6aae7a39b4b8",
   "metadata": {},
   "source": [
    "$\\to$ True는 1로, False는 0으로 인식"
   ]
  },
  {
   "cell_type": "markdown",
   "id": "604e64dc-5a95-4702-b804-58f6a633d72c",
   "metadata": {},
   "source": [
    "`2`. 다음과 같은 리스트를 고려하자."
   ]
  },
  {
   "cell_type": "code",
   "execution_count": 92,
   "id": "2d8b9c9a-9dd2-4fbb-9d1d-b3572985512c",
   "metadata": {},
   "outputs": [
    {
     "data": {
      "text/plain": [
       "[80, 60, 80, 90, 55, 85, 95, 100, 35, 70, 75, 65, 95]"
      ]
     },
     "execution_count": 92,
     "metadata": {},
     "output_type": "execute_result"
    }
   ],
   "source": [
    "x = [80,60,80,90,55,85,95,100,35,70,75,65,95]\n",
    "x"
   ]
  },
  {
   "cell_type": "markdown",
   "id": "9c6dfd93-ac7c-44b7-a6bb-9b77bbf9beec",
   "metadata": {},
   "source": [
    "이를 수식으로 표현하면 아래와 같다."
   ]
  },
  {
   "cell_type": "markdown",
   "id": "3dfa2108-64e0-4d2b-a4e3-94999e4ca3fe",
   "metadata": {},
   "source": [
    "${\\bf x} = [x_1,\\dots,x_{13}]=[80,60,80,90,55,85,95,100,35,70,75,65,95]$"
   ]
  },
  {
   "cell_type": "markdown",
   "id": "7a2c7edc-ace2-47ab-878e-29d7b31c9219",
   "metadata": {},
   "source": [
    "리스트의 원소중 \"$x_i>80$\" 의 조건을 만족하는 원소는 모두 몇개인가? "
   ]
  },
  {
   "cell_type": "markdown",
   "id": "5159444c-4a89-462b-a76e-aac2436f4b2e",
   "metadata": {},
   "source": [
    "hint: 리스트컴프리헨션과 `sum()`함수를 이용할 것"
   ]
  },
  {
   "cell_type": "code",
   "execution_count": 99,
   "id": "bf4dd951-42a6-44c2-a6aa-c29efabec8cc",
   "metadata": {},
   "outputs": [
    {
     "data": {
      "text/plain": [
       "5"
      ]
     },
     "execution_count": 99,
     "metadata": {},
     "output_type": "execute_result"
    }
   ],
   "source": [
    "sum([xi >80 for xi in x])"
   ]
  },
  {
   "cell_type": "markdown",
   "id": "d2eb4e6f-8404-4e57-abb8-92a3f9289424",
   "metadata": {},
   "source": [
    "my answer"
   ]
  },
  {
   "cell_type": "code",
   "execution_count": 98,
   "id": "4cc99e0b-9911-493d-b6ee-b2ea9d25a225",
   "metadata": {},
   "outputs": [
    {
     "data": {
      "text/plain": [
       "5"
      ]
     },
     "execution_count": 98,
     "metadata": {},
     "output_type": "execute_result"
    }
   ],
   "source": [
    "sum([x[i] > 80 for i in range(len(x))])"
   ]
  },
  {
   "cell_type": "markdown",
   "id": "ef49bdb0-1f50-4c3d-b03d-c92b1fcdedf9",
   "metadata": {},
   "source": [
    "`3`. 다음과 같은 리스트를 고려하자."
   ]
  },
  {
   "cell_type": "code",
   "execution_count": 100,
   "id": "832dd14a-4871-47d5-8429-ca2dd34474df",
   "metadata": {},
   "outputs": [
    {
     "data": {
      "text/plain": [
       "['A', 'B', 'C', 'D', 'A', 'A', 'B', 'A', 'F', 'C', 'C', 'C', 'A']"
      ]
     },
     "execution_count": 100,
     "metadata": {},
     "output_type": "execute_result"
    }
   ],
   "source": [
    "['A','B','C','D','A','A','B','A','F','C','C','C','A']"
   ]
  },
  {
   "cell_type": "markdown",
   "id": "d371f9fc-387e-47f1-93a3-7dec5a1521a9",
   "metadata": {},
   "source": [
    "이 리스트에서 ‘A’ 혹은 ’B’의 숫자는 모두 몇개인가?"
   ]
  },
  {
   "cell_type": "markdown",
   "id": "d1e1a922-8574-492f-bd98-7b4933ca59c5",
   "metadata": {},
   "source": [
    "hint: 아래를 관찰"
   ]
  },
  {
   "cell_type": "code",
   "execution_count": 101,
   "id": "df6fadbc-1a03-42cf-a213-e8635810f5a2",
   "metadata": {},
   "outputs": [
    {
     "data": {
      "text/plain": [
       "True"
      ]
     },
     "execution_count": 101,
     "metadata": {},
     "output_type": "execute_result"
    }
   ],
   "source": [
    "'A' < 'C'"
   ]
  },
  {
   "cell_type": "code",
   "execution_count": 102,
   "id": "5a53123d-21e2-407c-8738-68eec96ed98f",
   "metadata": {},
   "outputs": [
    {
     "data": {
      "text/plain": [
       "True"
      ]
     },
     "execution_count": 102,
     "metadata": {},
     "output_type": "execute_result"
    }
   ],
   "source": [
    "'B' < 'C'"
   ]
  },
  {
   "cell_type": "code",
   "execution_count": 107,
   "id": "e8faa1c3-e1a5-4c9d-a9df-3f52849032f9",
   "metadata": {},
   "outputs": [
    {
     "data": {
      "text/plain": [
       "7"
      ]
     },
     "execution_count": 107,
     "metadata": {},
     "output_type": "execute_result"
    }
   ],
   "source": [
    "lst = ['A','B','C','D','A','A','B','A','F','C','C','C','A']\n",
    "sum([l <'C' for l in lst])"
   ]
  },
  {
   "cell_type": "markdown",
   "id": "339889eb-523b-4e52-a3e5-94753717e957",
   "metadata": {},
   "source": [
    "my answer"
   ]
  },
  {
   "cell_type": "code",
   "execution_count": 105,
   "id": "8af9b4df-fbf4-4003-961a-b3d055be3ff0",
   "metadata": {},
   "outputs": [
    {
     "data": {
      "text/plain": [
       "7"
      ]
     },
     "execution_count": 105,
     "metadata": {},
     "output_type": "execute_result"
    }
   ],
   "source": [
    "lst = ['A','B','C','D','A','A','B','A','F','C','C','C','A']\n",
    "sum([lst[i] < 'C' for i in range(len(lst))])"
   ]
  },
  {
   "cell_type": "markdown",
   "id": "ea84b7e4-26f3-41e0-a44c-de93f83eda34",
   "metadata": {},
   "source": [
    "`4`. 아래와 같은 리스트가 있다고 하자."
   ]
  },
  {
   "cell_type": "markdown",
   "id": "c4ddf01c-70bc-4e2e-880c-f459c8dfb591",
   "metadata": {},
   "source": [
    "${\\bf x} = [1,2,1,5,6,2,4,7]$\n",
    "\n",
    "${\\bf y} = [3,2,4,1,2,5,6,7]$"
   ]
  },
  {
   "cell_type": "markdown",
   "id": "9b63ddf3-0bae-4de6-943f-0274d7c1bffa",
   "metadata": {},
   "source": [
    "이러한 벡터를 파이썬에서 표현하기 위해서 아래와 같은 리스트를 만들었다고 하자."
   ]
  },
  {
   "cell_type": "code",
   "execution_count": 108,
   "id": "ab865ed6-6a26-42db-b640-26756485d8ed",
   "metadata": {},
   "outputs": [],
   "source": [
    "x=[1,2,1,5,6,2,4,7]\n",
    "y=[3,2,4,1,2,5,6,7] "
   ]
  },
  {
   "cell_type": "markdown",
   "id": "fce68597-ac76-439f-9f83-6373b868e0e5",
   "metadata": {},
   "source": [
    "리스트컴프리헨션을 이용하여 \n",
    "\n",
    "$${\\bf z}=[x_1^2+y_1^2, \\dots, x_{8}^2+y_{8}^2]=[x_i^2+y_i^2: \\text{for $i = 1,2,3,\\dots,8$}]$$ \n",
    "\n",
    "와 같은 리스트를 생성하라. "
   ]
  },
  {
   "cell_type": "code",
   "execution_count": 113,
   "id": "5bf09f3d-0199-48da-b06d-350b14c0a68f",
   "metadata": {},
   "outputs": [
    {
     "data": {
      "text/plain": [
       "[10, 8, 17, 26, 40, 29, 52, 98]"
      ]
     },
     "execution_count": 113,
     "metadata": {},
     "output_type": "execute_result"
    }
   ],
   "source": [
    "[x[i]**2+y[i]**2 for i in range(8)]"
   ]
  },
  {
   "cell_type": "markdown",
   "id": "deadd4ac-d2ec-4747-b987-e6280c8d7ce4",
   "metadata": {},
   "source": [
    "my answer"
   ]
  },
  {
   "cell_type": "code",
   "execution_count": 112,
   "id": "a82f1091-96aa-4342-b2b1-dbc30a91dcee",
   "metadata": {},
   "outputs": [
    {
     "data": {
      "text/plain": [
       "[10, 8, 17, 26, 40, 29, 52, 98]"
      ]
     },
     "execution_count": 112,
     "metadata": {},
     "output_type": "execute_result"
    }
   ],
   "source": [
    "[x[i]**2 + y[i]**2 for i in range(len(x))]"
   ]
  },
  {
   "cell_type": "markdown",
   "id": "943e8c4c-9f96-4239-a85f-8b224227f6cb",
   "metadata": {},
   "source": [
    "`5`. 아래와 같은 문자열이 있다고 하자."
   ]
  },
  {
   "cell_type": "code",
   "execution_count": 115,
   "id": "c93adaf7-36be-4e5a-a563-acc5fb994658",
   "metadata": {},
   "outputs": [],
   "source": [
    "test_arr = 'ssh-rsa AAAAB3NzaC1yc2EAAAABIwAAAQEAklOUpkDHrfHY17SbrmTIpNLTGK9Tjom/BWDSUGPl+nafzlHDTYW7hdI4yZ5ew18JH4JW9jbhUFrviQzM7xlELEVf4h9lFX5QVkbPppSwg0cda3Pbv7kOdJ/MTyBlWXFCR+HAo3FXRitBqxiX1nKhXpHAZsMciLq8V6RjsNAQwdsdMFvSlVK/7XAt3FaoJoAsncM1Q9x5+3V0Ww68/eIFmb1zuUFljQJKprrX88XypNDvjYNby6vw/Pb0rwert/EnmZ+AW4OZPnTPI89ZPmVMLuayrD2cE86Z/il8b+gw3r3+1nKatmIkjn2so1d01QraTlMqVSsbxNrRFi9wrf+M7Q== schacon@mylaptop.local'"
   ]
  },
  {
   "cell_type": "markdown",
   "id": "e9ad3247-6493-4f00-82b7-5c5602ce307b",
   "metadata": {},
   "source": [
    "이 문자열에서 대문자의 수를 count하라. (2022년 파이썬입문 중간고사 1-(5) 참고)"
   ]
  },
  {
   "cell_type": "code",
   "execution_count": 128,
   "id": "b5aa3fd2-7fb5-49da-9aa9-80afe75318c2",
   "metadata": {},
   "outputs": [
    {
     "data": {
      "text/plain": [
       "155"
      ]
     },
     "execution_count": 128,
     "metadata": {},
     "output_type": "execute_result"
    }
   ],
   "source": [
    "sum([s.isupper() for s in test_arr ])"
   ]
  },
  {
   "cell_type": "markdown",
   "id": "88ea967b-c868-4e64-a291-e771c035eddf",
   "metadata": {},
   "source": [
    "error on my answer"
   ]
  },
  {
   "cell_type": "code",
   "execution_count": 126,
   "id": "9b4af721-07ab-4a12-bff4-e7e8c73c6518",
   "metadata": {},
   "outputs": [
    {
     "data": {
      "text/plain": [
       "230"
      ]
     },
     "execution_count": 126,
     "metadata": {},
     "output_type": "execute_result"
    }
   ],
   "source": [
    "sum([test_arr[i] == test_arr.upper()[i] for i in range(len(test_arr))])"
   ]
  },
  {
   "cell_type": "markdown",
   "id": "b1373951-c442-4ee8-9e8b-b9c3bff26c63",
   "metadata": {},
   "source": [
    "<font color=green>이렇게 비교하면 대문자인 것은 세겠지만, 기호가 같은 것도 세기 때문에 over해서 sum하게 된다.</font>"
   ]
  },
  {
   "cell_type": "markdown",
   "id": "2cb88cfe-8cd3-491b-a31a-9e098b79ee00",
   "metadata": {},
   "source": [
    "`6`. 리스트컴프리헨션을 이용하여 아래와 같은 리스트를 생성하라. (2022년 파이썬입문 중간고사 1-(7) 참고)"
   ]
  },
  {
   "cell_type": "markdown",
   "id": "f68da889-c288-437d-8096-e5fcb2053ef3",
   "metadata": {},
   "source": [
    "```python\n",
    "['a',\n",
    " 'aa',\n",
    " 'aaa',\n",
    " 'aaaa',\n",
    " 'aaaaa',\n",
    " 'aaaaaa',\n",
    " 'aaaaaaa',\n",
    " 'aaaaaaaa',\n",
    " 'aaaaaaaaa',\n",
    " 'aaaaaaaaaa'] <- a가 10개있음\n",
    "```"
   ]
  },
  {
   "cell_type": "code",
   "execution_count": 144,
   "id": "d41a49b1-90d4-4114-96ed-fca337feb339",
   "metadata": {},
   "outputs": [
    {
     "data": {
      "text/plain": [
       "['a',\n",
       " 'aa',\n",
       " 'aaa',\n",
       " 'aaaa',\n",
       " 'aaaaa',\n",
       " 'aaaaaa',\n",
       " 'aaaaaaa',\n",
       " 'aaaaaaaa',\n",
       " 'aaaaaaaaa',\n",
       " 'aaaaaaaaaa']"
      ]
     },
     "execution_count": 144,
     "metadata": {},
     "output_type": "execute_result"
    }
   ],
   "source": [
    "['a'*i for i in range(1,11)]"
   ]
  },
  {
   "cell_type": "markdown",
   "id": "f9cf76e5-fa38-475c-aaf0-229cf75ec1b9",
   "metadata": {},
   "source": [
    "my answer"
   ]
  },
  {
   "cell_type": "code",
   "execution_count": 143,
   "id": "3efd51ee-4474-40fe-a4c9-4a2366205439",
   "metadata": {},
   "outputs": [
    {
     "data": {
      "text/plain": [
       "['a',\n",
       " 'aa',\n",
       " 'aaa',\n",
       " 'aaaa',\n",
       " 'aaaaa',\n",
       " 'aaaaaa',\n",
       " 'aaaaaaa',\n",
       " 'aaaaaaaa',\n",
       " 'aaaaaaaaa',\n",
       " 'aaaaaaaaaa']"
      ]
     },
     "execution_count": 143,
     "metadata": {},
     "output_type": "execute_result"
    }
   ],
   "source": [
    "['a' * i for i in range(1,11)]"
   ]
  },
  {
   "cell_type": "markdown",
   "id": "5cc68195-7e81-49e9-92b7-9e6a65c61bd5",
   "metadata": {},
   "source": [
    "`7`. 아래와 같은 list가 있다고 하자."
   ]
  },
  {
   "cell_type": "code",
   "execution_count": 145,
   "id": "3714583a-f566-4e3a-a60f-73a6b7a07153",
   "metadata": {},
   "outputs": [],
   "source": [
    "test_lst = [['g',1],['u',5],['e',2],['b',8],['i',2],['n',9]]"
   ]
  },
  {
   "cell_type": "markdown",
   "id": "800c3d3b-8f27-4049-b47c-d39adbef3a7f",
   "metadata": {},
   "source": [
    "test_lst와 리스트컴프리헨션을 이용하여 아래를 출력하는 코드를 구현하라. (2022년 파이썬입문 중간고사 1-(9) 참고)"
   ]
  },
  {
   "cell_type": "code",
   "execution_count": 146,
   "id": "9f5c422a-9d1e-4ceb-8bf8-4589fbd2bc3a",
   "metadata": {},
   "outputs": [
    {
     "data": {
      "text/plain": [
       "['g', 'uuuuu', 'ee', 'bbbbbbbb', 'ii', 'nnnnnnnnn']"
      ]
     },
     "execution_count": 146,
     "metadata": {},
     "output_type": "execute_result"
    }
   ],
   "source": [
    "['g', 'uuuuu', 'ee', 'bbbbbbbb', 'ii', 'nnnnnnnnn']"
   ]
  },
  {
   "cell_type": "code",
   "execution_count": 152,
   "id": "b62f82c5-5ec7-4059-82f6-8bc52ce3f66f",
   "metadata": {},
   "outputs": [
    {
     "data": {
      "text/plain": [
       "['g', 'uuuuu', 'ee', 'bbbbbbbb', 'ii', 'nnnnnnnnn']"
      ]
     },
     "execution_count": 152,
     "metadata": {},
     "output_type": "execute_result"
    }
   ],
   "source": [
    "[l[0]*l[1] for l in test_lst]"
   ]
  },
  {
   "cell_type": "markdown",
   "id": "bb0bccd0-4a67-4ce1-8dd9-72302d750d02",
   "metadata": {},
   "source": [
    "my answer"
   ]
  },
  {
   "cell_type": "code",
   "execution_count": 151,
   "id": "c35618d2-577f-4e68-958a-63994a1eaf45",
   "metadata": {},
   "outputs": [
    {
     "data": {
      "text/plain": [
       "['g', 'uuuuu', 'ee', 'bbbbbbbb', 'ii', 'nnnnnnnnn']"
      ]
     },
     "execution_count": 151,
     "metadata": {},
     "output_type": "execute_result"
    }
   ],
   "source": [
    "[test_lst[i][0] * test_lst[i][1] for i in range(len(test_lst))]"
   ]
  },
  {
   "cell_type": "markdown",
   "id": "823a9bf3-9e92-4949-8a07-d64dd0f635b4",
   "metadata": {},
   "source": [
    "`8`. 아래와 같은 list를 생성하라."
   ]
  },
  {
   "cell_type": "markdown",
   "id": "38cce146-0e38-46b1-9220-b380481271a4",
   "metadata": {},
   "source": [
    "```python\n",
    "[1,\n",
    " 2,2,\n",
    " 3,3,3,\n",
    " 4,4,4,4,\n",
    " 5,5,5,5,5,\n",
    " ...\n",
    " 9,9,9,9,9,9,9,9,9] <- 9가 9개 있음 \n",
    "```"
   ]
  },
  {
   "cell_type": "markdown",
   "id": "b67a9fe8-4ccf-4991-a211-9c776fd434b6",
   "metadata": {},
   "source": [
    "(풀이1) – 의도한 풀이"
   ]
  },
  {
   "cell_type": "code",
   "execution_count": 203,
   "id": "55177c0f-dcd3-4072-bf69-e07f96f3fc10",
   "metadata": {},
   "outputs": [],
   "source": [
    "lst = list()\n",
    "for i in range(1,10):\n",
    "    lst = lst + [i]*i"
   ]
  },
  {
   "cell_type": "markdown",
   "id": "bf171c7a-02ef-4735-8f30-9f0eff64dc40",
   "metadata": {},
   "source": [
    "(풀이2) – 이걸 의도한건 아니었음…"
   ]
  },
  {
   "cell_type": "code",
   "execution_count": 205,
   "id": "34c75f67-6eab-475d-8377-715752e900a3",
   "metadata": {},
   "outputs": [],
   "source": [
    "lst = [[i]*i for i in range(1,10)]"
   ]
  },
  {
   "cell_type": "code",
   "execution_count": 206,
   "id": "ae9e44be-fc26-461d-82aa-47b3804968e1",
   "metadata": {},
   "outputs": [
    {
     "name": "stdout",
     "output_type": "stream",
     "text": [
      "[1,\n",
      " 2,2,\n",
      " 3,3,3,\n",
      " 4,4,4,4,\n",
      " 5,5,5,5,5,\n",
      " 6,6,6,6,6,6,\n",
      " 7,7,7,7,7,7,7,\n",
      " 8,8,8,8,8,8,8,8,\n",
      " 9,9,9,9,9,9,9,9,9]\n",
      " \n"
     ]
    }
   ],
   "source": [
    "print(str(lst).replace(' ','').replace(',[','').replace(']',',\\n ').replace('[[','[').replace(',\\n ,',']'))"
   ]
  },
  {
   "cell_type": "markdown",
   "id": "59571c02-2fdc-4883-85ee-6f1b62a1bcfc",
   "metadata": {},
   "source": [
    "error on my answer"
   ]
  },
  {
   "cell_type": "code",
   "execution_count": 199,
   "id": "4738e7bf-955d-41f8-bc8d-27cc21db7cf8",
   "metadata": {},
   "outputs": [
    {
     "data": {
      "text/plain": [
       "[[1],\n",
       " [2, 2],\n",
       " [3, 3, 3],\n",
       " [4, 4, 4, 4],\n",
       " [5, 5, 5, 5, 5],\n",
       " [6, 6, 6, 6, 6, 6],\n",
       " [7, 7, 7, 7, 7, 7, 7],\n",
       " [8, 8, 8, 8, 8, 8, 8, 8],\n",
       " [9, 9, 9, 9, 9, 9, 9, 9, 9]]"
      ]
     },
     "execution_count": 199,
     "metadata": {},
     "output_type": "execute_result"
    }
   ],
   "source": [
    "[[i] * i for i in range(1,10)]"
   ]
  },
  {
   "cell_type": "markdown",
   "id": "d8831678-7a02-4643-9bc2-e2836cf505d6",
   "metadata": {},
   "source": [
    "right answer"
   ]
  },
  {
   "cell_type": "code",
   "execution_count": 200,
   "id": "7cdfef19-fd9a-490e-a437-cc894e094c92",
   "metadata": {},
   "outputs": [],
   "source": [
    "l = []\n",
    "for i in range(1,10):\n",
    "    l = l + [i] * i"
   ]
  },
  {
   "cell_type": "markdown",
   "id": "0eb45358-0dd5-47ae-9992-f087fefe18bb",
   "metadata": {},
   "source": [
    "`9`. 아래와 같은 리스트를 관찰하라."
   ]
  },
  {
   "cell_type": "code",
   "execution_count": 207,
   "id": "1fb67434-de97-4f75-9644-2e6425532bd3",
   "metadata": {},
   "outputs": [],
   "source": [
    "lst = ['2022/09/21','2022/10/30','2022/12/25','2023/01/01','2023/01/31','2023/03/20']"
   ]
  },
  {
   "cell_type": "markdown",
   "id": "263e9274-4af0-4a17-aec7-18f5817624cf",
   "metadata": {},
   "source": [
    "이러한 리스트를 아래와 같은 리스트로 변환하는 코드를 작성하라."
   ]
  },
  {
   "cell_type": "code",
   "execution_count": 208,
   "id": "8a8b73d6-e4ae-44fb-8bf6-34c3d84cd76d",
   "metadata": {},
   "outputs": [
    {
     "data": {
      "text/plain": [
       "['2022-09-21',\n",
       " '2022-10-30',\n",
       " '2022-12-25',\n",
       " '2023-01-01',\n",
       " '2023-01-31',\n",
       " '2023-03-20']"
      ]
     },
     "execution_count": 208,
     "metadata": {},
     "output_type": "execute_result"
    }
   ],
   "source": [
    "['2022-09-21', '2022-10-30', '2022-12-25', '2023-01-01', '2023-01-31', '2023-03-20']"
   ]
  },
  {
   "cell_type": "markdown",
   "id": "25186d0e-3499-4442-a2be-439ed651f170",
   "metadata": {},
   "source": [
    "hint: string의 .replace()기능과 리스트 컴프리헨션의 응용"
   ]
  },
  {
   "cell_type": "code",
   "execution_count": 216,
   "id": "a4bad245-cfc0-4829-9227-3584eea9ddda",
   "metadata": {},
   "outputs": [
    {
     "data": {
      "text/plain": [
       "['2022-09-21',\n",
       " '2022-10-30',\n",
       " '2022-12-25',\n",
       " '2023-01-01',\n",
       " '2023-01-31',\n",
       " '2023-03-20']"
      ]
     },
     "execution_count": 216,
     "metadata": {},
     "output_type": "execute_result"
    }
   ],
   "source": [
    "[s.replace('/','-') for s in lst]"
   ]
  },
  {
   "cell_type": "markdown",
   "id": "9a804d35-e0f6-4183-91b1-ed33e36da579",
   "metadata": {},
   "source": [
    "my answer"
   ]
  },
  {
   "cell_type": "code",
   "execution_count": 215,
   "id": "a5d55562-4254-4dfb-b6f3-cac69ea2b3fb",
   "metadata": {},
   "outputs": [
    {
     "data": {
      "text/plain": [
       "['2022/09/21',\n",
       " '2022/10/30',\n",
       " '2022/12/25',\n",
       " '2023/01/01',\n",
       " '2023/01/31',\n",
       " '2023/03/20']"
      ]
     },
     "execution_count": 215,
     "metadata": {},
     "output_type": "execute_result"
    }
   ],
   "source": [
    "for i in range(len(lst)):\n",
    "    lst[i].replace('/','-')\n",
    "lst"
   ]
  },
  {
   "cell_type": "markdown",
   "id": "6d4998c7-3175-4d8c-954a-5018520031e5",
   "metadata": {},
   "source": [
    "`10`. 아래와 같은 문자열을 고려하라."
   ]
  },
  {
   "cell_type": "code",
   "execution_count": 217,
   "id": "21f9e2e2-88f4-488d-a6a3-bfe27bffe781",
   "metadata": {},
   "outputs": [
    {
     "data": {
      "text/plain": [
       "'2021. 01. 05.'"
      ]
     },
     "execution_count": 217,
     "metadata": {},
     "output_type": "execute_result"
    }
   ],
   "source": [
    "'2021. 01. 05.'"
   ]
  },
  {
   "cell_type": "markdown",
   "id": "f5eb3810-b259-4889-9ad9-23e0835f4d15",
   "metadata": {},
   "source": [
    "띄어쓰기를 제거하는 코드를 구현하라. 즉 출력결과가 아래와 같도록 만드는 코드를 구현하라."
   ]
  },
  {
   "cell_type": "code",
   "execution_count": 218,
   "id": "d22f9c2b-e7e7-4fa3-bb6e-c4216736d747",
   "metadata": {},
   "outputs": [
    {
     "data": {
      "text/plain": [
       "'2021.01.05'"
      ]
     },
     "execution_count": 218,
     "metadata": {},
     "output_type": "execute_result"
    }
   ],
   "source": [
    "'2021.01.05'"
   ]
  },
  {
   "cell_type": "markdown",
   "id": "40f56025-482b-4d02-9b87-3be64e0e23a6",
   "metadata": {},
   "source": [
    "hint: 아래코드 관찰"
   ]
  },
  {
   "cell_type": "code",
   "execution_count": 222,
   "id": "0bd3ee23-afcd-4817-9218-8426b0283db2",
   "metadata": {},
   "outputs": [
    {
     "data": {
      "text/plain": [
       "'sdf'"
      ]
     },
     "execution_count": 222,
     "metadata": {},
     "output_type": "execute_result"
    }
   ],
   "source": [
    "'asdf'.replace('a','')"
   ]
  },
  {
   "cell_type": "code",
   "execution_count": 223,
   "id": "48905d3f-07f5-45c7-9d37-4f6818dd84c2",
   "metadata": {},
   "outputs": [
    {
     "data": {
      "text/plain": [
       "'2021.01.05.'"
      ]
     },
     "execution_count": 223,
     "metadata": {},
     "output_type": "execute_result"
    }
   ],
   "source": [
    "'2021. 01. 05.'.replace(' ','')"
   ]
  },
  {
   "cell_type": "markdown",
   "id": "fc6c29a8-0c29-4090-b796-3b698035c0f5",
   "metadata": {},
   "source": [
    "my answer"
   ]
  },
  {
   "cell_type": "code",
   "execution_count": 221,
   "id": "169fd7e8-1bdc-44fd-8da8-be17a9e17d5f",
   "metadata": {},
   "outputs": [
    {
     "data": {
      "text/plain": [
       "'2021.01.05'"
      ]
     },
     "execution_count": 221,
     "metadata": {},
     "output_type": "execute_result"
    }
   ],
   "source": [
    "a = '2021.01.05';a.replace('. ','.');a"
   ]
  },
  {
   "cell_type": "markdown",
   "id": "075b15c2-6e7d-48ed-8567-d5de3d62525f",
   "metadata": {},
   "source": [
    "`11`. 아래의 코드를 관찰하라."
   ]
  },
  {
   "cell_type": "code",
   "execution_count": 224,
   "id": "c0f55745-4dfd-405e-91ec-e9be164a363c",
   "metadata": {},
   "outputs": [
    {
     "data": {
      "text/plain": [
       "'2022-01-05'"
      ]
     },
     "execution_count": 224,
     "metadata": {},
     "output_type": "execute_result"
    }
   ],
   "source": [
    "'-'.join(['2022','01','05'])"
   ]
  },
  {
   "cell_type": "code",
   "execution_count": 225,
   "id": "9cc03043-ad46-4fd7-8b81-99a8047484a2",
   "metadata": {},
   "outputs": [
    {
     "data": {
      "text/plain": [
       "'2022.01.05'"
      ]
     },
     "execution_count": 225,
     "metadata": {},
     "output_type": "execute_result"
    }
   ],
   "source": [
    "'.'.join(['2022','01','05'])"
   ]
  },
  {
   "cell_type": "markdown",
   "id": "f104a175-74f5-4fad-b36b-d91e52142092",
   "metadata": {},
   "source": [
    "'dd'에 있는 내용을 이용하여 join의 원소들을 합쳐라."
   ]
  },
  {
   "cell_type": "markdown",
   "id": "c6fa593e-5656-4002-b8bc-4e21cd87a440",
   "metadata": {},
   "source": [
    "`12`. 아래와 같이 하나의 특수문자로 이루어진 리스트를 고려하자."
   ]
  },
  {
   "cell_type": "code",
   "execution_count": 226,
   "id": "c65b4ed2-d909-4428-aab4-e8c9a576f975",
   "metadata": {},
   "outputs": [],
   "source": [
    "block = ['■'] "
   ]
  },
  {
   "cell_type": "markdown",
   "id": "c1fb905d-4ca2-4899-8cb0-2fb6d7b2dbd4",
   "metadata": {},
   "source": [
    "이를 이용하여 아래와 같은 결과를 출력하라."
   ]
  },
  {
   "cell_type": "code",
   "execution_count": 227,
   "id": "fca99004-7a65-44e1-aa5f-22ac595e77ae",
   "metadata": {},
   "outputs": [
    {
     "data": {
      "text/plain": [
       "'■-■-■-■-■-■-■-■-■-■'"
      ]
     },
     "execution_count": 227,
     "metadata": {},
     "output_type": "execute_result"
    }
   ],
   "source": [
    "'■-■-■-■-■-■-■-■-■-■' # 여기에서 '■'는 모두 10개 있음"
   ]
  },
  {
   "cell_type": "markdown",
   "id": "7ca842c6-a498-4433-a7b9-9ec5f8147fc6",
   "metadata": {},
   "source": [
    "hint: 11번 문제의 코드를 응용할 것"
   ]
  },
  {
   "cell_type": "code",
   "execution_count": 235,
   "id": "93458a47-2b41-422f-b40a-95a394d7687f",
   "metadata": {},
   "outputs": [
    {
     "data": {
      "text/plain": [
       "'■-■-■-■-■-■-■-■-■-■'"
      ]
     },
     "execution_count": 235,
     "metadata": {},
     "output_type": "execute_result"
    }
   ],
   "source": [
    "'-'.join(block*10)"
   ]
  },
  {
   "cell_type": "markdown",
   "id": "b1af3bf9-6673-4c15-ad54-d7fd4eb1f6ad",
   "metadata": {},
   "source": [
    "my answer"
   ]
  },
  {
   "cell_type": "code",
   "execution_count": 234,
   "id": "b22af366-4006-41fb-b8bc-229b845cceb9",
   "metadata": {},
   "outputs": [
    {
     "data": {
      "text/plain": [
       "'■-■-■-■-■-■-■-■-■-■'"
      ]
     },
     "execution_count": 234,
     "metadata": {},
     "output_type": "execute_result"
    }
   ],
   "source": [
    "'-'.join(block*10)"
   ]
  },
  {
   "cell_type": "markdown",
   "id": "1fc7a3cd-2c9f-4d06-a69a-88a237840841",
   "metadata": {},
   "source": [
    "# 4.\n",
    "\n",
    "HW: 03-22 (2)\n",
    "\n",
    "[03wk-2: 파이썬의 자료형 (5)](03wk-2: 파이썬의 자료형 (5))"
   ]
  },
  {
   "cell_type": "markdown",
   "id": "c014bb4d-5cd6-413a-9a6c-2569c6d18848",
   "metadata": {},
   "source": [
    "`1`. 길이가 1인 튜플을 만들어 자신의 학번을 저장하라. 길이가 1인 튜플을 만들어 자신의 영문이름을 저장하라. 두 튜플을 + 연산자로 합쳐아래와 같은 출력결과를 얻어라. 최종 결과는 예를들면 아래와 같아야 한다."
   ]
  },
  {
   "cell_type": "code",
   "execution_count": 237,
   "id": "ad32f492-571e-4378-ac29-5f63ec2493d2",
   "metadata": {},
   "outputs": [
    {
     "data": {
      "text/plain": [
       "('2021-43052', 'TomJohn')"
      ]
     },
     "execution_count": 237,
     "metadata": {},
     "output_type": "execute_result"
    }
   ],
   "source": [
    "('2021-43052', 'TomJohn')"
   ]
  },
  {
   "cell_type": "code",
   "execution_count": 245,
   "id": "5525ced8-2ce5-46ee-92a9-d034e657f926",
   "metadata": {},
   "outputs": [
    {
     "data": {
      "text/plain": [
       "('2021-43052', 'tomJohn')"
      ]
     },
     "execution_count": 245,
     "metadata": {},
     "output_type": "execute_result"
    }
   ],
   "source": [
    "a='2021-43052', \n",
    "b='tomJohn',\n",
    "a+b"
   ]
  },
  {
   "cell_type": "markdown",
   "id": "31d86c8c-7842-448b-949b-d98d2edffd68",
   "metadata": {},
   "source": [
    "my answer"
   ]
  },
  {
   "cell_type": "code",
   "execution_count": 243,
   "id": "ae334687-932d-4f12-ad68-814c9da264b0",
   "metadata": {},
   "outputs": [
    {
     "data": {
      "text/plain": [
       "('2222-1111', 'TomJohn')"
      ]
     },
     "execution_count": 243,
     "metadata": {},
     "output_type": "execute_result"
    }
   ],
   "source": [
    "a = '2222-1111';b = 'TomJohn'; (a , b)"
   ]
  },
  {
   "cell_type": "markdown",
   "id": "f7dad09b-a889-4a1b-b81b-2a65d3ad47b0",
   "metadata": {},
   "source": [
    "`2-5`. 아래는 파이썬프로그래밍 수강생들의 학번, 이름, 출석점수, 과제점수, 중간고사점수, 기말고사점수를 저장한 중첩리스트이다."
   ]
  },
  {
   "cell_type": "code",
   "execution_count": 247,
   "id": "3d5342e4-8bdc-46c4-be49-dde42192154f",
   "metadata": {},
   "outputs": [
    {
     "data": {
      "text/plain": [
       "[['2021-43052', 'GuebinChoi', 5, 10, 20, 25],\n",
       " ['2019-12342', 'Heung-min Son', 10, 15, 30, 15],\n",
       " ['2018-32234', 'hynn', 7, 20, 30, 15],\n",
       " ['2022-42323', 'Minji', 8, 20, 20, 35],\n",
       " ['2023-55342', 'Hanni', 7, 20, 30, 35],\n",
       " ['2022-46624', 'Danielle', 3, 15, 30, 40],\n",
       " ['2022-11239', 'Haerin', 10, 20, 30, 40],\n",
       " ['2022-32114', 'Hyein', 10, 20, 20, 35]]"
      ]
     },
     "execution_count": 247,
     "metadata": {},
     "output_type": "execute_result"
    }
   ],
   "source": [
    "lst = [['2021-43052', 'GuebinChoi', 5, 10, 20, 25],\n",
    "       ['2019-12342', 'Heung-min Son', 10, 15, 30, 15],\n",
    "       ['2018-32234', 'hynn', 7, 20, 30, 15],\n",
    "       ['2022-42323', 'Minji', 8, 20, 20, 35],\n",
    "       ['2023-55342', 'Hanni', 7, 20, 30, 35],\n",
    "       ['2022-46624', 'Danielle', 3, 15, 30, 40],\n",
    "       ['2022-11239', 'Haerin', 10, 20, 30, 40],\n",
    "       ['2022-32114', 'Hyein', 10, 20, 20, 35]]\n",
    "lst "
   ]
  },
  {
   "cell_type": "markdown",
   "id": "4016a6be-7d79-45a9-925b-776c1518d09c",
   "metadata": {},
   "source": [
    "`2`. 파이썬프로그래밍 수강생의 수는 모두 몇명인가?"
   ]
  },
  {
   "cell_type": "code",
   "execution_count": 249,
   "id": "49e96cd5-8ccd-4815-a905-71603b0d7a15",
   "metadata": {},
   "outputs": [
    {
     "data": {
      "text/plain": [
       "8"
      ]
     },
     "execution_count": 249,
     "metadata": {},
     "output_type": "execute_result"
    }
   ],
   "source": [
    "len(lst)"
   ]
  },
  {
   "cell_type": "markdown",
   "id": "64dbf60e-49e3-455c-8e1b-9764cc8c8a32",
   "metadata": {},
   "source": [
    "`3`. 전북대학교 지침에 따라 출석점수가 7보다 작은 학생은 (즉 `출석점수 < 7` 일 경우) F학점을 부여하게 되어있다. 이 기준에 따르면 F를 받는 학생은 모두 몇명인가?"
   ]
  },
  {
   "cell_type": "code",
   "execution_count": 250,
   "id": "c920316f-6a6a-464d-9d81-ad8a10fdb50a",
   "metadata": {},
   "outputs": [
    {
     "data": {
      "text/plain": [
       "2"
      ]
     },
     "execution_count": 250,
     "metadata": {},
     "output_type": "execute_result"
    }
   ],
   "source": [
    "sum([att<7 for _,_, att, *rest in lst])"
   ]
  },
  {
   "cell_type": "markdown",
   "id": "8936090b-c1ef-4ba2-90fc-fa8e0c57f078",
   "metadata": {},
   "source": [
    "my answer"
   ]
  },
  {
   "cell_type": "code",
   "execution_count": 256,
   "id": "db14d240-5b8e-4d7c-a5a6-77d55ec22422",
   "metadata": {},
   "outputs": [
    {
     "data": {
      "text/plain": [
       "2"
      ]
     },
     "execution_count": 256,
     "metadata": {},
     "output_type": "execute_result"
    }
   ],
   "source": [
    "sum([lst[i][2] < 7 for i in range(len(lst))])"
   ]
  },
  {
   "cell_type": "markdown",
   "id": "c5ec5f66-e3ec-4283-bbd7-4c57416b5848",
   "metadata": {},
   "source": [
    "풀이 뜯어보기"
   ]
  },
  {
   "cell_type": "code",
   "execution_count": 266,
   "id": "62934422-8a1e-4170-aab7-8119290ef6cc",
   "metadata": {},
   "outputs": [
    {
     "data": {
      "text/plain": [
       "[5, 10, 7, 8, 7, 3, 10, 10]"
      ]
     },
     "execution_count": 266,
     "metadata": {},
     "output_type": "execute_result"
    }
   ],
   "source": [
    "[att for _,_, att, *rest in lst]"
   ]
  },
  {
   "cell_type": "markdown",
   "id": "2b1e9e9e-8b99-47b6-9157-74f1fd1e2af3",
   "metadata": {},
   "source": [
    "순서대로 학번, 이름, 출석점수, 나머지~"
   ]
  },
  {
   "cell_type": "markdown",
   "id": "887bd35d-fb70-4d42-bd7b-0bb8ad82d74d",
   "metadata": {},
   "source": [
    "---"
   ]
  },
  {
   "cell_type": "markdown",
   "id": "8a0de0ad-4138-482b-8484-fe8179721b13",
   "metadata": {},
   "source": [
    "`-`"
   ]
  },
  {
   "cell_type": "code",
   "execution_count": 261,
   "id": "bbe35238-19fa-458f-8f96-ac4efe64a157",
   "metadata": {},
   "outputs": [
    {
     "name": "stdout",
     "output_type": "stream",
     "text": [
      "5 10\n",
      "10 15\n",
      "7 20\n",
      "8 20\n",
      "7 20\n",
      "3 15\n",
      "10 20\n",
      "10 20\n"
     ]
    }
   ],
   "source": [
    "for a,b,c,d,_,_ in lst:\n",
    "    print(c,d)"
   ]
  },
  {
   "cell_type": "markdown",
   "id": "a168e7c1-b32b-47e0-960c-7c13d1f52985",
   "metadata": {},
   "source": [
    "`-`"
   ]
  },
  {
   "cell_type": "code",
   "execution_count": 262,
   "id": "4284eb78-34f0-4f89-86d3-460ea67684ae",
   "metadata": {},
   "outputs": [
    {
     "name": "stdout",
     "output_type": "stream",
     "text": [
      "1 2 3\n"
     ]
    }
   ],
   "source": [
    "print(*[1,2,3])"
   ]
  },
  {
   "cell_type": "code",
   "execution_count": 263,
   "id": "bf2db5f9-edb7-4b0c-a08f-a3eaf176a52e",
   "metadata": {},
   "outputs": [
    {
     "name": "stdout",
     "output_type": "stream",
     "text": [
      "[1, 2, 3]\n"
     ]
    }
   ],
   "source": [
    "print([1,2,3])"
   ]
  },
  {
   "cell_type": "markdown",
   "id": "b298d1a2-e5b5-4211-a879-23c6ab2f9dd3",
   "metadata": {},
   "source": [
    "---"
   ]
  },
  {
   "cell_type": "markdown",
   "id": "326bbd59-18fb-4bf4-984f-c5bcd2133bff",
   "metadata": {},
   "source": [
    "`4`. 파이썬프로그래밍 수업의 경우 출석+레포트 < 21 일 경우 F학점을 부여한다고 한다. 이 기준에 따르면 F를 받는 학생은 모두 몇명인가?"
   ]
  },
  {
   "cell_type": "code",
   "execution_count": 278,
   "id": "158b0182-ac96-48d7-a05f-fa53debf20ab",
   "metadata": {},
   "outputs": [
    {
     "data": {
      "text/plain": [
       "2"
      ]
     },
     "execution_count": 278,
     "metadata": {},
     "output_type": "execute_result"
    }
   ],
   "source": [
    "sum([att+rep < 21 for _,_, att,rep, *rest in lst])"
   ]
  },
  {
   "cell_type": "markdown",
   "id": "930996af-a3ed-4ed2-8559-78e27985f5d0",
   "metadata": {},
   "source": [
    "my answer"
   ]
  },
  {
   "cell_type": "code",
   "execution_count": 276,
   "id": "2386fa33-a6e5-487d-89c0-bde85ea17e23",
   "metadata": {},
   "outputs": [
    {
     "data": {
      "text/plain": [
       "2"
      ]
     },
     "execution_count": 276,
     "metadata": {},
     "output_type": "execute_result"
    }
   ],
   "source": [
    "sum([c + d < 21 for _,_,c,d,*rest in lst])"
   ]
  },
  {
   "cell_type": "markdown",
   "id": "c53f45ee-1212-483e-af04-c992f3f739a9",
   "metadata": {},
   "source": [
    "`5`. 리스트의 정렬순서를 [학번, 이름, …, 기말고사점수] 가 아니라 [이름, 학번, … , 기말고사점수] 와 같이 되도록 변경하는 코드를 작성하라."
   ]
  },
  {
   "cell_type": "code",
   "execution_count": 284,
   "id": "1e3e7116-8583-4c80-9ad4-5f7e7089b15f",
   "metadata": {},
   "outputs": [
    {
     "data": {
      "text/plain": [
       "[['GuebinChoi', '2021-43052', 5, 10, 20, 25],\n",
       " ['Heung-min Son', '2019-12342', 10, 15, 30, 15],\n",
       " ['hynn', '2018-32234', 7, 20, 30, 15],\n",
       " ['Minji', '2022-42323', 8, 20, 20, 35],\n",
       " ['Hanni', '2023-55342', 7, 20, 30, 35],\n",
       " ['Danielle', '2022-46624', 3, 15, 30, 40],\n",
       " ['Haerin', '2022-11239', 10, 20, 30, 40],\n",
       " ['Hyein', '2022-32114', 10, 20, 20, 35]]"
      ]
     },
     "execution_count": 284,
     "metadata": {},
     "output_type": "execute_result"
    }
   ],
   "source": [
    "[[name,studentid,*rest] for studentid, name, *rest in lst]"
   ]
  },
  {
   "cell_type": "markdown",
   "id": "2a9e86ed-baea-4dba-9594-d37d0712d892",
   "metadata": {},
   "source": [
    "my answer"
   ]
  },
  {
   "cell_type": "code",
   "execution_count": 283,
   "id": "be054f74-a618-4958-8e95-a1d26bd65881",
   "metadata": {},
   "outputs": [
    {
     "data": {
      "text/plain": [
       "[['GuebinChoi', '2021-43052', 5, 10, 20, 25],\n",
       " ['Heung-min Son', '2019-12342', 10, 15, 30, 15],\n",
       " ['hynn', '2018-32234', 7, 20, 30, 15],\n",
       " ['Minji', '2022-42323', 8, 20, 20, 35],\n",
       " ['Hanni', '2023-55342', 7, 20, 30, 35],\n",
       " ['Danielle', '2022-46624', 3, 15, 30, 40],\n",
       " ['Haerin', '2022-11239', 10, 20, 30, 40],\n",
       " ['Hyein', '2022-32114', 10, 20, 20, 35]]"
      ]
     },
     "execution_count": 283,
     "metadata": {},
     "output_type": "execute_result"
    }
   ],
   "source": [
    "[[b,a,*rest] for a,b,*rest in lst]"
   ]
  },
  {
   "cell_type": "markdown",
   "id": "4628ffde-92e6-489a-9d2c-7a2a26b04207",
   "metadata": {},
   "source": [
    "`6`. 아래의 코드를 관찰하라."
   ]
  },
  {
   "cell_type": "code",
   "execution_count": 285,
   "id": "b8b14877-a762-47bf-a6f7-11d45c556641",
   "metadata": {},
   "outputs": [
    {
     "data": {
      "text/plain": [
       "['2023', '03', '22']"
      ]
     },
     "execution_count": 285,
     "metadata": {},
     "output_type": "execute_result"
    }
   ],
   "source": [
    "'2023-03-22'.split('-')"
   ]
  },
  {
   "cell_type": "markdown",
   "id": "773a4967-206b-40f9-91f7-3f81f7c7fc18",
   "metadata": {},
   "source": [
    "이 코드를 바탕으로 split의 기능을 유추하라."
   ]
  },
  {
   "cell_type": "markdown",
   "id": "3062db8f-ab03-4510-9e3a-014974ccfd30",
   "metadata": {},
   "source": [
    "$\\to$ `split`은 호출한 문자 기준으로 문자 나누는 역할"
   ]
  },
  {
   "cell_type": "markdown",
   "id": "1490a831-197a-4f0a-95a6-369f0153bdea",
   "metadata": {},
   "source": [
    "`7`. 6의 실행결과를 되돌리는 코드를 작성하라. 즉"
   ]
  },
  {
   "cell_type": "code",
   "execution_count": 286,
   "id": "33002b84-4a7f-40d3-9e44-8d8321a67e8d",
   "metadata": {},
   "outputs": [
    {
     "data": {
      "text/plain": [
       "['2023', '03', '22']"
      ]
     },
     "execution_count": 286,
     "metadata": {},
     "output_type": "execute_result"
    }
   ],
   "source": [
    "['2023', '03', '22']"
   ]
  },
  {
   "cell_type": "markdown",
   "id": "59e102d3-bbb8-4e41-9a9e-6f514b6e4ea6",
   "metadata": {},
   "source": [
    "와 같은 리스트를 아래의 string으로 바꾸는 코드를 작성하라."
   ]
  },
  {
   "cell_type": "code",
   "execution_count": 287,
   "id": "b005dfcf-b5ed-486c-a854-3f429526b871",
   "metadata": {},
   "outputs": [
    {
     "data": {
      "text/plain": [
       "'2023-03-22'"
      ]
     },
     "execution_count": 287,
     "metadata": {},
     "output_type": "execute_result"
    }
   ],
   "source": [
    "'2023-03-22'"
   ]
  },
  {
   "cell_type": "markdown",
   "id": "8ed15632-75f9-4bb4-809e-dc0d826d1c2c",
   "metadata": {},
   "source": [
    "hint: join을 이용할 것"
   ]
  },
  {
   "cell_type": "code",
   "execution_count": 291,
   "id": "d819bbb2-7fea-4244-9b01-d9ad3b2e9060",
   "metadata": {},
   "outputs": [
    {
     "data": {
      "text/plain": [
       "'2023-03-22'"
      ]
     },
     "execution_count": 291,
     "metadata": {},
     "output_type": "execute_result"
    }
   ],
   "source": [
    "'-'.join(['2023', '03', '22'])"
   ]
  },
  {
   "cell_type": "markdown",
   "id": "1ce47d9d-a0ae-45e8-a6d1-703bfc3b72a0",
   "metadata": {},
   "source": [
    "my answer"
   ]
  },
  {
   "cell_type": "code",
   "execution_count": 290,
   "id": "1f584807-9957-4b32-ab35-b4779fd4b78b",
   "metadata": {},
   "outputs": [
    {
     "data": {
      "text/plain": [
       "'2023-03-22'"
      ]
     },
     "execution_count": 290,
     "metadata": {},
     "output_type": "execute_result"
    }
   ],
   "source": [
    "lst = ['2023', '03', '22'];'-'.join(lst)"
   ]
  },
  {
   "cell_type": "markdown",
   "id": "0889c5fd-6a3e-488e-bdba-e6fe436e59a3",
   "metadata": {},
   "source": [
    "다음은 인터넷에서 긁어온 어떠한 텍스트이다."
   ]
  },
  {
   "cell_type": "code",
   "execution_count": 292,
   "id": "c6dc60e5-9ecf-4520-a86e-860a588155c9",
   "metadata": {},
   "outputs": [],
   "source": [
    "text = \"국내뿐 아니라 해외 인기도 심상치 않다. 2023년 1월 18일 'Ditto'가 빌보드 핫 100에 96위로 진입했다. 이는 K-pop 역사상 데뷔후 최단 빌보드 Hot 100 차트 입성 기록이다. 다른 뮤지션들이 보통 데뷔 후 수년간 쌓아온 팬덤을 기반으로 빌보드에 입성한데 비해, 뉴진스의 기록은 이례적인 것으로 평가받고 있다. 또한 'OMG'가 빌보드 핫 100에 91위로 진입한 동시에 'Ditto'는 85위로 순위가 상승, 핫 100 주간차트에 두 곡을 올려놓았다. K-Pop 역사상 이 차트에 두 곡 이상을 진입시킨 아티스트는 방탄소년단과 블랙핑크가 유일하다. 'Ditto'는 1월 셋째주 기준, 빌보드뿐만 아니라 영국 오피셜 싱글 차트 '톱 100'에 2주 연속 진입하기도 했다.\""
   ]
  },
  {
   "cell_type": "markdown",
   "id": "0b129450-a396-4a35-8d52-47c324bbc62a",
   "metadata": {},
   "source": [
    "`8`. text는 총 몇개의 문장으로 이루어져 있는가?"
   ]
  },
  {
   "cell_type": "markdown",
   "id": "9a4ecf08-decc-4226-8c04-70cb69e12db7",
   "metadata": {},
   "source": [
    "hint: 이 텍스트의 문장은 모두 .로 끝난다."
   ]
  },
  {
   "cell_type": "code",
   "execution_count": 299,
   "id": "27e6a8c6-7d3b-422e-9df7-a8061ea71603",
   "metadata": {},
   "outputs": [
    {
     "data": {
      "text/plain": [
       "['국내뿐 아니라 해외 인기도 심상치 않다',\n",
       " \"2023년 1월 18일 'Ditto'가 빌보드 핫 100에 96위로 진입했다\",\n",
       " '이는 K-pop 역사상 데뷔후 최단 빌보드 Hot 100 차트 입성 기록이다',\n",
       " '다른 뮤지션들이 보통 데뷔 후 수년간 쌓아온 팬덤을 기반으로 빌보드에 입성한데 비해, 뉴진스의 기록은 이례적인 것으로 평가받고 있다',\n",
       " \"또한 'OMG'가 빌보드 핫 100에 91위로 진입한 동시에 'Ditto'는 85위로 순위가 상승, 핫 100 주간차트에 두 곡을 올려놓았다\",\n",
       " 'K-Pop 역사상 이 차트에 두 곡 이상을 진입시킨 아티스트는 방탄소년단과 블랙핑크가 유일하다',\n",
       " \"'Ditto'는 1월 셋째주 기준, 빌보드뿐만 아니라 영국 오피셜 싱글 차트 '톱 100'에 2주 연속 진입하기도 했다.\"]"
      ]
     },
     "execution_count": 299,
     "metadata": {},
     "output_type": "execute_result"
    }
   ],
   "source": [
    "lst = text.split('. ')\n",
    "lst "
   ]
  },
  {
   "cell_type": "code",
   "execution_count": 300,
   "id": "84dfbb19-2aee-43d0-9754-488b13ff17b7",
   "metadata": {},
   "outputs": [
    {
     "data": {
      "text/plain": [
       "7"
      ]
     },
     "execution_count": 300,
     "metadata": {},
     "output_type": "execute_result"
    }
   ],
   "source": [
    "len(lst)"
   ]
  },
  {
   "cell_type": "markdown",
   "id": "ef125838-c1cd-48f5-a1eb-4ea3b46a861c",
   "metadata": {},
   "source": [
    "error on my answer"
   ]
  },
  {
   "cell_type": "code",
   "execution_count": 296,
   "id": "09726d2a-d09c-4f14-a045-4b95363b253e",
   "metadata": {},
   "outputs": [
    {
     "data": {
      "text/plain": [
       "7"
      ]
     },
     "execution_count": 296,
     "metadata": {},
     "output_type": "execute_result"
    }
   ],
   "source": [
    "len(text.split('.'))-1"
   ]
  },
  {
   "cell_type": "markdown",
   "id": "98ee2b6b-760c-4c66-a436-906a1b382d2a",
   "metadata": {},
   "source": [
    "$\\to$ . 띄어쓰기를 생각 못 함"
   ]
  },
  {
   "cell_type": "markdown",
   "id": "ff0db787-bf11-479d-9595-d8ab10db75f6",
   "metadata": {},
   "source": [
    "`9`. 각 문장은 몇개의 단어로 이루어져 있는가?"
   ]
  },
  {
   "cell_type": "markdown",
   "id": "6aa80bf1-8b03-49df-aeef-979b5ff2ac46",
   "metadata": {},
   "source": [
    "hint: 각 단어는 공백으로 구분된다."
   ]
  },
  {
   "cell_type": "code",
   "execution_count": 312,
   "id": "ba1c0afb-e5b2-42e8-9018-3a2c4e4afabc",
   "metadata": {},
   "outputs": [
    {
     "data": {
      "text/plain": [
       "[6, 9, 11, 18, 18, 12, 16]"
      ]
     },
     "execution_count": 312,
     "metadata": {},
     "output_type": "execute_result"
    }
   ],
   "source": [
    "[len(s.split(' ')) for s in lst]"
   ]
  },
  {
   "cell_type": "code",
   "execution_count": 314,
   "id": "a1d8fee6-3d19-42bc-b9d5-78e782cc3d2c",
   "metadata": {},
   "outputs": [
    {
     "data": {
      "text/plain": [
       "90"
      ]
     },
     "execution_count": 314,
     "metadata": {},
     "output_type": "execute_result"
    }
   ],
   "source": [
    "sum([len(s.split(' ')) for s in lst])"
   ]
  },
  {
   "cell_type": "markdown",
   "id": "bafc3472-34b4-435f-9291-868181caf8b0",
   "metadata": {},
   "source": [
    "my answer"
   ]
  },
  {
   "cell_type": "code",
   "execution_count": 311,
   "id": "45a00800-2091-4846-88d4-d3ee204ddec1",
   "metadata": {},
   "outputs": [
    {
     "data": {
      "text/plain": [
       "[6, 9, 11, 18, 18, 12, 16]"
      ]
     },
     "execution_count": 311,
     "metadata": {},
     "output_type": "execute_result"
    }
   ],
   "source": [
    "[len(text.split('. ')[i].split(' ')) for i in range(len(text.split('. ')))]"
   ]
  },
  {
   "cell_type": "code",
   "execution_count": 313,
   "id": "50f95684-f591-48c7-b0b6-cd7aecb3b36d",
   "metadata": {},
   "outputs": [
    {
     "data": {
      "text/plain": [
       "90"
      ]
     },
     "execution_count": 313,
     "metadata": {},
     "output_type": "execute_result"
    }
   ],
   "source": [
    "sum([len(text.split('. ')[i].split(' ')) for i in range(len(text.split('. ')))])"
   ]
  },
  {
   "cell_type": "markdown",
   "id": "d29036c5-4bae-4426-b10a-38eb79a69221",
   "metadata": {},
   "source": [
    "`10`. 100이라는 단어가 포함된 문장은 모두 몇 개 인가?"
   ]
  },
  {
   "cell_type": "markdown",
   "id": "cfa7d87e-4962-4f27-8a2d-9ad36a3823b4",
   "metadata": {},
   "source": [
    "hint: 아래의 코드를 관찰"
   ]
  },
  {
   "cell_type": "code",
   "execution_count": 315,
   "id": "6688f549-34f6-4684-9e56-8a6db891087c",
   "metadata": {},
   "outputs": [
    {
     "data": {
      "text/plain": [
       "True"
      ]
     },
     "execution_count": 315,
     "metadata": {},
     "output_type": "execute_result"
    }
   ],
   "source": [
    "'a' in 'abcd'"
   ]
  },
  {
   "cell_type": "code",
   "execution_count": 323,
   "id": "71f262de-48ab-42e0-9c4a-2b2ec444ad0e",
   "metadata": {},
   "outputs": [
    {
     "data": {
      "text/plain": [
       "[False, True, True, False, True, False, True]"
      ]
     },
     "execution_count": 323,
     "metadata": {},
     "output_type": "execute_result"
    }
   ],
   "source": [
    "['100' in s for s in lst]"
   ]
  },
  {
   "cell_type": "code",
   "execution_count": 324,
   "id": "f4a18919-854a-4b04-8679-760eccd556b6",
   "metadata": {},
   "outputs": [
    {
     "data": {
      "text/plain": [
       "4"
      ]
     },
     "execution_count": 324,
     "metadata": {},
     "output_type": "execute_result"
    }
   ],
   "source": [
    "sum(['100' in s for s in lst])"
   ]
  },
  {
   "cell_type": "markdown",
   "id": "69afdbe8-ca3e-4e99-a2da-e1d74711a1de",
   "metadata": {},
   "source": [
    "my answer"
   ]
  },
  {
   "cell_type": "code",
   "execution_count": 322,
   "id": "70e05137-8c85-4900-86a8-c2eaad16b2b3",
   "metadata": {},
   "outputs": [
    {
     "data": {
      "text/plain": [
       "4"
      ]
     },
     "execution_count": 322,
     "metadata": {},
     "output_type": "execute_result"
    }
   ],
   "source": [
    "sum(['100' in text.split('. ')[i] for i in range(len(text.split('. ')))])"
   ]
  },
  {
   "cell_type": "markdown",
   "id": "84cafc09-c263-495d-8e85-c7bfdf5e6546",
   "metadata": {},
   "source": [
    "# 5 \n",
    "\n",
    "HW 0327 (1)\n",
    "\n",
    "[04wk-1: 파이썬의 자료형 (6)](https://guebin.github.io/PP2023/posts/01_PythonBasic/2023-03-27-4wk-1.html)"
   ]
  },
  {
   "cell_type": "markdown",
   "id": "c126b5d8-bddb-494f-9b3d-f4148f99cc00",
   "metadata": {},
   "source": [
    "`ssh코드`: 1-2"
   ]
  },
  {
   "cell_type": "markdown",
   "id": "27c12c40-144e-4205-a756-d2b9bce75c2e",
   "metadata": {},
   "source": [
    "아래의 문자열을 고려하자."
   ]
  },
  {
   "cell_type": "code",
   "execution_count": 325,
   "id": "84e808ce-ad15-4b91-b7ad-6e0bfe36aed6",
   "metadata": {},
   "outputs": [],
   "source": [
    "test_arr = 'ssh-rsa AAAAB3NzaC1yc2EAAAABIwAAAQEAklOUpkDHrfHY17SbrmTIpNLTGK9Tjom/BWDSUGPl+nafzlHDTYW7hdI4yZ5ew18JH4JW9jbhUFrviQzM7xlELEVf4h9lFX5QVkbPppSwg0cda3Pbv7kOdJ/MTyBlWXFCR+HAo3FXRitBqxiX1nKhXpHAZsMciLq8V6RjsNAQwdsdMFvSlVK/7XAt3FaoJoAsncM1Q9x5+3V0Ww68/eIFmb1zuUFljQJKprrX88XypNDvjYNby6vw/Pb0rwert/EnmZ+AW4OZPnTPI89ZPmVMLuayrD2cE86Z/il8b+gw3r3+1nKatmIkjn2so1d01QraTlMqVSsbxNrRFi9wrf+M7Q== schacon@mylaptop.local'"
   ]
  },
  {
   "cell_type": "markdown",
   "id": "7a65ec92-81bb-4860-b45a-87c252a03dcd",
   "metadata": {},
   "source": [
    "`1`. 이 문자열에서 index = 0,2,4,6,8,... 에 해당하는 원소를 출력하는 코드를 작성하라. (2022-파이썬입문 중간고사 1-(2) 참고)"
   ]
  },
  {
   "cell_type": "markdown",
   "id": "d10cd925-b437-4a4a-b8bb-4ff8f6beeb88",
   "metadata": {},
   "source": [
    "```python\n",
    "# 출력결과는 아래와 같아야 한다. \n",
    "\n",
    "'shraAABNa1cEAAIAAEkOpDrH1SrTpLG9jmBDUP+azHTWhIy5w8HJ9bUriz7lLV49F5VbpSgcaPvkd/TBWFRHoFRtqi1KXHZMiqVRsAwsMvlK7A3aJAnMQx+VW6/Im1uFjJpr8XpDjNyv/bretEm+WOPTI9PVLar2E6/lbg331KtIj2od1rTMVsxrF9r+7= cao@yatplcl'\n",
    "```"
   ]
  },
  {
   "cell_type": "code",
   "execution_count": 327,
   "id": "42340322-3543-4c72-9701-feb2ea0d8abf",
   "metadata": {},
   "outputs": [
    {
     "data": {
      "text/plain": [
       "'shraAABNa1cEAAIAAEkOpDrH1SrTpLG9jmBDUP+azHTWhIy5w8HJ9bUriz7lLV49F5VbpSgcaPvkd/TBWFRHoFRtqi1KXHZMiqVRsAwsMvlK7A3aJAnMQx+VW6/Im1uFjJpr8XpDjNyv/bretEm+WOPTI9PVLar2E6/lbg331KtIj2od1rTMVsxrF9r+7= cao@yatplcl'"
      ]
     },
     "execution_count": 327,
     "metadata": {},
     "output_type": "execute_result"
    }
   ],
   "source": [
    "test_arr[::2]"
   ]
  },
  {
   "cell_type": "markdown",
   "id": "eab1ea57-44c1-4639-a7a2-82d0764b77f3",
   "metadata": {},
   "source": [
    "`2`. 위 문자열을 뒤집은 문자열을 구하는 코드를 구현하라. (2022-파이썬입문 중간고사 1-(4) 참고)"
   ]
  },
  {
   "cell_type": "markdown",
   "id": "455a8c89-88ab-4069-9f12-d3b8814ed06b",
   "metadata": {},
   "source": [
    "```python\n",
    "# 출력결과는 아래와 같아야 한다. \n",
    "\n",
    "'lacol.potpalym@nocahcs ==Q7M+frw9iFRrNxbsSVqMlTarQ10d1os2njkImtaKn1+3r3wg+b8li/Z68Ec2DryauLMVmPZ98IPTnPZO4WA+ZmnE/trewr0bP/wv6ybNYjvDNpyX88XrrpKJQjlFUuz1bmFIe/86wW0V3+5x9Q1McnsAoJoaF3tAX7/KVlSvFMdsdwQANsjR6V8qLicMsZAHpXhKn1XixqBtiRXF3oAH+RCFXWlByTM/JdOk7vbP3adc0gwSppPbkVQ5XFl9h4fVELElx7MzQivrFUhbj9WJ4HJ81we5Zy4Idh7WYTDHlzfan+lPGUSDWB/mojT9KGTLNpITmrbS71YHfrHDkpUOlkAEQAAAwIBAAAAE2cy1CazN3BAAAA asr-hss'\n",
    "```"
   ]
  },
  {
   "cell_type": "code",
   "execution_count": 343,
   "id": "74a8b982-88ac-46e7-aa8b-067648afe5fb",
   "metadata": {},
   "outputs": [
    {
     "data": {
      "text/plain": [
       "'lacol.potpalym@nocahcs ==Q7M+frw9iFRrNxbsSVqMlTarQ10d1os2njkImtaKn1+3r3wg+b8li/Z68Ec2DryauLMVmPZ98IPTnPZO4WA+ZmnE/trewr0bP/wv6ybNYjvDNpyX88XrrpKJQjlFUuz1bmFIe/86wW0V3+5x9Q1McnsAoJoaF3tAX7/KVlSvFMdsdwQANsjR6V8qLicMsZAHpXhKn1XixqBtiRXF3oAH+RCFXWlByTM/JdOk7vbP3adc0gwSppPbkVQ5XFl9h4fVELElx7MzQivrFUhbj9WJ4HJ81we5Zy4Idh7WYTDHlzfan+lPGUSDWB/mojT9KGTLNpITmrbS71YHfrHDkpUOlkAEQAAAwIBAAAAE2cy1CazN3BAAAA asr-hss'"
      ]
     },
     "execution_count": 343,
     "metadata": {},
     "output_type": "execute_result"
    }
   ],
   "source": [
    "test_arr[::-1]"
   ]
  },
  {
   "cell_type": "markdown",
   "id": "61213f2c-4fe7-4862-8544-bcdbcc95ed42",
   "metadata": {},
   "source": [
    "`파이썬 프로그래밍 시험성적`: 3-4"
   ]
  },
  {
   "cell_type": "markdown",
   "id": "018b9756-20a8-40c5-a5ec-d6e2d2f2967b",
   "metadata": {},
   "source": [
    "아래와 같은 dictionary가 있다고 가정하자."
   ]
  },
  {
   "cell_type": "code",
   "execution_count": 344,
   "id": "92e44214-d441-4681-af06-03cdfdfb1828",
   "metadata": {},
   "outputs": [],
   "source": [
    "dct={'202212377': {'att': 65, 'rep': 45, 'mid': 0, 'fin': 10},\n",
    "     '202212473': {'att': 95, 'rep': 30, 'mid': 60, 'fin': 10},\n",
    "     '202212310': {'att': 65, 'rep': 85, 'mid': 15, 'fin': 20},\n",
    "     '202212460': {'att': 55, 'rep': 35, 'mid': 35, 'fin': 5},\n",
    "     '202212320': {'att': 80, 'rep': 60, 'mid': 55, 'fin': 70},\n",
    "     '202212329': {'att': 75, 'rep': 40, 'mid': 75, 'fin': 85},\n",
    "     '202212408': {'att': 65, 'rep': 70, 'mid': 60, 'fin': 75},\n",
    "     '202212319': {'att': 60, 'rep': 25, 'mid': 20, 'fin': 35},\n",
    "     '202212348': {'att': 95, 'rep': 55, 'mid': 65, 'fin': 90},\n",
    "     '202212306': {'att': 90, 'rep': 25, 'mid': 95, 'fin': 50},\n",
    "     '202212308': {'att': 55, 'rep': 45, 'mid': 75, 'fin': 30},\n",
    "     '202212366': {'att': 95, 'rep': 60, 'mid': 25, 'fin': 55},\n",
    "     '202212367': {'att': 95, 'rep': 35, 'mid': 0, 'fin': 25},\n",
    "     '202212461': {'att': 50, 'rep': 55, 'mid': 90, 'fin': 45}}"
   ]
  },
  {
   "cell_type": "markdown",
   "id": "82b3a881-f8d0-47a4-bccb-a10793d9e856",
   "metadata": {},
   "source": [
    "여기에서 ‘202212377’ 등은 학번을, att는 출석점수, rep는 레포트점수, mid는 중간고사 점수, fin은 기말고사 점수를 의미한다."
   ]
  },
  {
   "cell_type": "markdown",
   "id": "3900ba7f-94d0-4e4f-8bca-e0932e032aca",
   "metadata": {},
   "source": [
    "`3`. 학생들의 학번을 아래와 같은 방식으로 출력하는 코드를 작성하라."
   ]
  },
  {
   "cell_type": "markdown",
   "id": "91f96154-4529-4af8-aeda-d2edc1a227df",
   "metadata": {},
   "source": [
    "```python\n",
    "# 출력예시\n",
    "\n",
    "['2022-12377',\n",
    " '2022-12473',\n",
    " '2022-12310',\n",
    " '2022-12460',\n",
    " '2022-12320',\n",
    " '2022-12329',\n",
    " '2022-12408',\n",
    " '2022-12319',\n",
    " '2022-12348',\n",
    " '2022-12306',\n",
    " '2022-12308',\n",
    " '2022-12366',\n",
    " '2022-12367',\n",
    " '2022-12461']\n",
    "```"
   ]
  },
  {
   "cell_type": "code",
   "execution_count": 354,
   "id": "0cdb4077-953c-4efd-a0e6-df64961d8a60",
   "metadata": {},
   "outputs": [
    {
     "data": {
      "text/plain": [
       "['2022-12377',\n",
       " '2022-12473',\n",
       " '2022-12310',\n",
       " '2022-12460',\n",
       " '2022-12320',\n",
       " '2022-12329',\n",
       " '2022-12408',\n",
       " '2022-12319',\n",
       " '2022-12348',\n",
       " '2022-12306',\n",
       " '2022-12308',\n",
       " '2022-12366',\n",
       " '2022-12367',\n",
       " '2022-12461']"
      ]
     },
     "execution_count": 354,
     "metadata": {},
     "output_type": "execute_result"
    }
   ],
   "source": [
    "[k[:4]+'-'+k[4:] for k in dct]"
   ]
  },
  {
   "cell_type": "markdown",
   "id": "2fac47cc-cab7-4261-8b81-279bcbbf5fc0",
   "metadata": {},
   "source": [
    "error on my answer"
   ]
  },
  {
   "cell_type": "code",
   "execution_count": 362,
   "id": "fc26321d-b2bf-497c-8b52-6f8ef75ee5df",
   "metadata": {},
   "outputs": [
    {
     "name": "stdout",
     "output_type": "stream",
     "text": [
      "2022 - 12377\n",
      "2022 - 12473\n",
      "2022 - 12310\n",
      "2022 - 12460\n",
      "2022 - 12320\n",
      "2022 - 12329\n",
      "2022 - 12408\n",
      "2022 - 12319\n",
      "2022 - 12348\n",
      "2022 - 12306\n",
      "2022 - 12308\n",
      "2022 - 12366\n",
      "2022 - 12367\n",
      "2022 - 12461\n"
     ]
    }
   ],
   "source": [
    "for k in dct.keys():\n",
    "    print(k[:4],'-',k[4:])"
   ]
  },
  {
   "cell_type": "markdown",
   "id": "11226863-663f-4ef9-843e-905f684a0056",
   "metadata": {},
   "source": [
    "<font color=green>띄어쓰기가 있고, ''로 묶이지도 않았고, 리스트로 묶이지도 않음</font>"
   ]
  },
  {
   "cell_type": "code",
   "execution_count": 368,
   "id": "50284660-c4de-4c40-a15c-3994cfef095a",
   "metadata": {},
   "outputs": [
    {
     "data": {
      "text/plain": [
       "['2022-12377',\n",
       " '2022-12473',\n",
       " '2022-12310',\n",
       " '2022-12460',\n",
       " '2022-12320',\n",
       " '2022-12329',\n",
       " '2022-12408',\n",
       " '2022-12319',\n",
       " '2022-12348',\n",
       " '2022-12306',\n",
       " '2022-12308',\n",
       " '2022-12366',\n",
       " '2022-12367',\n",
       " '2022-12461']"
      ]
     },
     "execution_count": 368,
     "metadata": {},
     "output_type": "execute_result"
    }
   ],
   "source": [
    "kk = []\n",
    "for k in dct.keys():\n",
    "    kk.append(k[:4]+'-'+k[4:])\n",
    "kk"
   ]
  },
  {
   "cell_type": "markdown",
   "id": "ca6b55db-f390-4d23-bb80-c7b58dac1ec3",
   "metadata": {},
   "source": [
    "`4`. 출석점수가 70점 이상인(>=70) 학생들의 학번을 출력하는 코드를 작성하라. (2022-파이썬입문 중간고사 2-(3) 참고)"
   ]
  },
  {
   "cell_type": "markdown",
   "id": "1b9f621a-c279-453f-b933-8bc216fd69d8",
   "metadata": {},
   "source": [
    "```python\n",
    "# 출력예시 \n",
    "\n",
    "['2022-12473',\n",
    " '2022-12320',\n",
    " '2022-12329',\n",
    " '2022-12348',\n",
    " '2022-12306',\n",
    " '2022-12366',\n",
    " '2022-12367']\n",
    "```"
   ]
  },
  {
   "cell_type": "code",
   "execution_count": 382,
   "id": "d85393b5-eff1-4e9a-9618-f9e6a734d088",
   "metadata": {},
   "outputs": [
    {
     "data": {
      "text/plain": [
       "['2022-12473',\n",
       " '2022-12320',\n",
       " '2022-12329',\n",
       " '2022-12348',\n",
       " '2022-12306',\n",
       " '2022-12366',\n",
       " '2022-12367']"
      ]
     },
     "execution_count": 382,
     "metadata": {},
     "output_type": "execute_result"
    }
   ],
   "source": [
    "[k[:4]+'-'+k[4:] for k,v in dct.items() if v['att']>70]"
   ]
  },
  {
   "cell_type": "markdown",
   "id": "6075d495-2939-46a7-a33b-afb30e1ae9e9",
   "metadata": {},
   "source": [
    "my answer"
   ]
  },
  {
   "cell_type": "code",
   "execution_count": 381,
   "id": "6cacb95f-8e48-48d9-9fe9-8b6336e2da4b",
   "metadata": {},
   "outputs": [
    {
     "data": {
      "text/plain": [
       "['2022-12473',\n",
       " '2022-12320',\n",
       " '2022-12329',\n",
       " '2022-12348',\n",
       " '2022-12306',\n",
       " '2022-12366',\n",
       " '2022-12367']"
      ]
     },
     "execution_count": 381,
     "metadata": {},
     "output_type": "execute_result"
    }
   ],
   "source": [
    "[k[:4] + '-' + k[4:] for k in dct if dct[k]['att']>=70]"
   ]
  },
  {
   "cell_type": "markdown",
   "id": "7013ea4f-c229-4e27-ac24-22e27a71f0d9",
   "metadata": {},
   "source": [
    "---"
   ]
  },
  {
   "cell_type": "markdown",
   "id": "bd135a3f-b279-4883-9da0-c14b7188b070",
   "metadata": {},
   "source": [
    "`Oxford-III`: 5–10 // [reference](https://www.robots.ox.ac.uk/~vgg/data/pets/)"
   ]
  },
  {
   "cell_type": "markdown",
   "id": "3b7016a1-f267-4d06-a393-6bfbb4798852",
   "metadata": {},
   "source": [
    "아래는 이미지 파일명들이 저장된 string을 불러오는 코드이다."
   ]
  },
  {
   "cell_type": "code",
   "execution_count": 384,
   "id": "ec321753-b441-49b4-89de-63952d58c4b4",
   "metadata": {},
   "outputs": [],
   "source": [
    "import requests\n",
    "url = 'https://raw.githubusercontent.com/guebin/PP2023/main/posts/01_PythonBasic/Oxford-IIIT.txt'\n",
    "txt = requests.get(url).content.decode()"
   ]
  },
  {
   "cell_type": "markdown",
   "id": "f87e1325-fa62-4cea-b6a8-97fa49f11128",
   "metadata": {},
   "source": [
    "txt의 출력 일부를 나타내면 아래와 같다."
   ]
  },
  {
   "cell_type": "code",
   "execution_count": null,
   "id": "89343996-db4a-4ea4-9aaf-fb25f0292eba",
   "metadata": {},
   "outputs": [],
   "source": [
    "'Abyssinian_1.jpg\\nAbyssinian_10.jpg\\nAbyssinian_100.jpg\\nAbyssinian_100.mat\\nAbyssinian_101.jpg\\nAbyssinian_101.mat\\nAbyssinian_102.jpg\\nAbyssinian_102.mat\\nAbyssinian_103.jpg\\nAbyssinian_104.jpg\\nAbyssinian_105.jpg\\nAbyssinian_106.jpg\\nAbyssinian_107.jpg\\nAbyssinian_108.jpg\\nAbyssinian_109.jpg\\nAbyssinian_11.jpg\\nAbyssinian_110.jpg\\nAbyssinian_111.jpg\\nAbyssinian_112.jpg\\nAbyssinian_113.jpg\\nAbyssinian_114.jpg\\nAbyssinian_115.jpg\\nAbyssinian_116.jpg\\nAbyssinian_117.jpg\\nAbyssinian_118.jpg\\nAbyssinian_119.jpg\\nAbyssinian_12.jpg\\nAbyssinian_120.jpg\\nAbyssinian_121.jpg\\nAbyssinian_122.jpg\\nAbyssinian_123.jpg\\nAbyssinian_124.jpg\\nAbyssinian_125.jpg\\nAbyssinian_126.jpg\\nAbyssinian_127.jpg\\nAbyssinian_128.jpg\\nAbyssinian_129.jpg\\nAbyssinian_13.jpg\\nAbyssinian_130.jpg\\nAbyssinian_131.jpg\\nAbyssinian_132.jpg\\n ....... "
   ]
  },
  {
   "cell_type": "markdown",
   "id": "afe85b27-00e1-47e8-bd5d-f139f2f7741b",
   "metadata": {},
   "source": [
    "`5`. 각 파일명은 \\n으로 구분되어있다. 위의 스트링을 분해하여 아래와 같은 리스트를 생성하고 fname_list에 저장하라."
   ]
  },
  {
   "cell_type": "markdown",
   "id": "a8840edf-ec9b-4a1a-97c6-84e975cdb4d0",
   "metadata": {},
   "source": [
    "```python\n",
    "# fname_list 의 출력결과는 아래와 같아야 한다. \n",
    "['Abyssinian_1.jpg','Abyssinian_10.jpg', ... ,'yorkshire_terrier_98.jpg', 'yorkshire_terrier_99.jpg']\n",
    "```"
   ]
  },
  {
   "cell_type": "code",
   "execution_count": 391,
   "id": "e18126fe-6707-434f-8855-9da13f34122e",
   "metadata": {},
   "outputs": [
    {
     "data": {
      "text/plain": [
       "['Abyssinian_1.jpg',\n",
       " 'Abyssinian_10.jpg',\n",
       " 'Abyssinian_100.jpg',\n",
       " 'Abyssinian_100.mat',\n",
       " 'Abyssinian_101.jpg',\n",
       " 'Abyssinian_101.mat',\n",
       " 'Abyssinian_102.jpg',\n",
       " 'Abyssinian_102.mat',\n",
       " 'Abyssinian_103.jpg',\n",
       " 'Abyssinian_104.jpg']"
      ]
     },
     "execution_count": 391,
     "metadata": {},
     "output_type": "execute_result"
    }
   ],
   "source": [
    "fname_list = txt.split('\\n')\n",
    "fname_list[:10]"
   ]
  },
  {
   "cell_type": "markdown",
   "id": "ebb690e6-dd9b-47c4-9504-88e66904d718",
   "metadata": {},
   "source": [
    "`6`. 각 이미지파일명은 아래와 같은 규칙으로 저장되어 있다."
   ]
  },
  {
   "cell_type": "markdown",
   "id": "aa21aee8-22ea-4630-8d13-87d0c3b4a117",
   "metadata": {},
   "source": [
    "- 파일명의 첫글자가 대문자이면 고양이를 의미하고 첫글자가 소문자이면 강아지를 의미한다.\n",
    "- `_` 이전의 영문명은 고양이 혹은 강아지의 종(breed)을 의미한다.\n",
    "- 이미지 파일명이 입력으로 오면 강아지인지 고양이인지 판단하여 ‘cat’ or ’dog’를 리턴하는 함수 f를 구현하라."
   ]
  },
  {
   "cell_type": "markdown",
   "id": "36dc6f9d-ec5e-4079-adb5-52dd2ce3de7e",
   "metadata": {},
   "source": [
    "```python\n",
    "(함수사용예시)\n",
    "\n",
    "f('yorkshire_terrier_99.jpg')\n",
    "'dog'\n",
    "f('Abyssinian_1.jpg')\n",
    "'cat'\n",
    "```"
   ]
  },
  {
   "cell_type": "code",
   "execution_count": 399,
   "id": "125f0c53-4ba0-4bca-af5f-7de49e012e32",
   "metadata": {},
   "outputs": [],
   "source": [
    "def f(fname): \n",
    "    return 'cat' if fname[0].isupper() else 'dog' "
   ]
  },
  {
   "cell_type": "code",
   "execution_count": 400,
   "id": "de6b91ef-aac1-4760-928a-a7ae74c17c97",
   "metadata": {},
   "outputs": [
    {
     "data": {
      "text/plain": [
       "('dog', 'cat')"
      ]
     },
     "execution_count": 400,
     "metadata": {},
     "output_type": "execute_result"
    }
   ],
   "source": [
    "f('yorkshire_terrier_99.jpg'), f('Abyssinian_1.jpg')"
   ]
  },
  {
   "cell_type": "markdown",
   "id": "53c53227-e059-4516-bac2-dbe98d7c1573",
   "metadata": {},
   "source": [
    "my answer"
   ]
  },
  {
   "cell_type": "code",
   "execution_count": 396,
   "id": "1b2591ad-0b9f-4f95-ad99-33ee320839f2",
   "metadata": {},
   "outputs": [],
   "source": [
    "def name(name):\n",
    "    if name[0].isupper():\n",
    "        return 'cat'\n",
    "    elif name[0].islower():\n",
    "        return 'dog'"
   ]
  },
  {
   "cell_type": "code",
   "execution_count": 401,
   "id": "cc94eccc-5f3c-4a2a-aa16-d2ac9772f11a",
   "metadata": {},
   "outputs": [
    {
     "data": {
      "text/plain": [
       "('dog', 'cat')"
      ]
     },
     "execution_count": 401,
     "metadata": {},
     "output_type": "execute_result"
    }
   ],
   "source": [
    "name('yorkshire_terrier_99.jpg'), name('Abyssinian_1.jpg')"
   ]
  },
  {
   "cell_type": "markdown",
   "id": "9197d20d-6a4f-49c3-8854-286d5057f66d",
   "metadata": {},
   "source": [
    "`7`. 5의 결과로 나온 fname_list를 입력으로 하고 리스트의 각 원소가 고양이를 의미하는 그림인지 강아지를 의미하는 그림인지 나타내는 리스트를 만들어라."
   ]
  },
  {
   "cell_type": "markdown",
   "id": "d4570db7-2774-4b33-acc1-c82e1e9aa334",
   "metadata": {},
   "source": [
    "```python\n",
    "## 입력예시 \n",
    "['Abyssinian_1.jpg','Abyssinian_10.jpg',...,'yorkshire_terrier_98.jpg', 'yorkshire_terrier_99.jpg']\n",
    "## 출력예시\n",
    "['cat', 'cat', ... , 'dog', 'dog']\n",
    "```"
   ]
  },
  {
   "cell_type": "code",
   "execution_count": 412,
   "id": "0d46ddb5-6b57-475a-8bae-efccf846034c",
   "metadata": {},
   "outputs": [
    {
     "data": {
      "text/plain": [
       "['cat', 'cat', 'cat', 'cat', 'cat', 'cat', 'cat', 'cat', 'cat', 'cat']"
      ]
     },
     "execution_count": 412,
     "metadata": {},
     "output_type": "execute_result"
    }
   ],
   "source": [
    "result = [f(l) for l in fname_list]\n",
    "result[:10]"
   ]
  },
  {
   "cell_type": "markdown",
   "id": "3c7bb6f5-6e66-418f-a1b0-da25f1b89bec",
   "metadata": {},
   "source": [
    "my answer"
   ]
  },
  {
   "cell_type": "code",
   "execution_count": 411,
   "id": "c821ddaa-4c78-48f3-a7c8-13023cedffbd",
   "metadata": {},
   "outputs": [
    {
     "data": {
      "text/plain": [
       "['cat', 'cat', 'cat', 'cat', 'cat', 'cat', 'cat', 'cat', 'cat', 'cat']"
      ]
     },
     "execution_count": 411,
     "metadata": {},
     "output_type": "execute_result"
    }
   ],
   "source": [
    "[f(fname_list[i]) for i in range(len(fname_list))][:10]"
   ]
  },
  {
   "cell_type": "markdown",
   "id": "bf11023d-9b0d-4be8-be05-5ada31c69c94",
   "metadata": {},
   "source": [
    "`8`. 강아지 그림과 고양이 그림이 각각 몇 장씩 포함되어 있는지 파악하는 코드를 구현하라."
   ]
  },
  {
   "cell_type": "code",
   "execution_count": 416,
   "id": "bb3c64b6-0f8d-42dd-af6a-077770688245",
   "metadata": {},
   "outputs": [
    {
     "data": {
      "text/plain": [
       "2403"
      ]
     },
     "execution_count": 416,
     "metadata": {},
     "output_type": "execute_result"
    }
   ],
   "source": [
    "sum([s=='cat' for s in result]) # 고양이"
   ]
  },
  {
   "cell_type": "code",
   "execution_count": 417,
   "id": "e0a78d94-609c-4f12-8b29-efe35b147165",
   "metadata": {},
   "outputs": [
    {
     "data": {
      "text/plain": [
       "4990"
      ]
     },
     "execution_count": 417,
     "metadata": {},
     "output_type": "execute_result"
    }
   ],
   "source": [
    "sum([s=='dog' for s in result]) # 강아지"
   ]
  },
  {
   "cell_type": "markdown",
   "id": "c0571e32-8932-4ad7-897d-b0cb5c42a6a6",
   "metadata": {},
   "source": [
    "my answer"
   ]
  },
  {
   "cell_type": "code",
   "execution_count": 414,
   "id": "654510a9-bc43-404f-9989-0602cdb19c39",
   "metadata": {},
   "outputs": [
    {
     "data": {
      "text/plain": [
       "2403"
      ]
     },
     "execution_count": 414,
     "metadata": {},
     "output_type": "execute_result"
    }
   ],
   "source": [
    "sum([result[i] == 'cat' for i in range(len(result))])"
   ]
  },
  {
   "cell_type": "code",
   "execution_count": 415,
   "id": "11dab986-e55d-49f7-90fa-09f37737aa35",
   "metadata": {},
   "outputs": [
    {
     "data": {
      "text/plain": [
       "4990"
      ]
     },
     "execution_count": 415,
     "metadata": {},
     "output_type": "execute_result"
    }
   ],
   "source": [
    "len(result) - sum([result[i] == 'cat' for i in range(len(result))])"
   ]
  },
  {
   "cell_type": "markdown",
   "id": "78c3ee0d-3192-4b91-aaad-c7395bf63aae",
   "metadata": {},
   "source": [
    "`9`. 포메라니안 종의 그림이 몇장있는지 파악하는 코드를 구현하라."
   ]
  },
  {
   "cell_type": "markdown",
   "id": "7bb7559b-1981-4bac-96ae-5c7f1ee1296a",
   "metadata": {},
   "source": [
    "hint: 포메라니안 그림은 파일명에 ‘pomeranian’ 을 포함한다."
   ]
  },
  {
   "cell_type": "code",
   "execution_count": 451,
   "id": "e0cf066f-0b0a-440f-9a42-1f8b6712e018",
   "metadata": {},
   "outputs": [
    {
     "data": {
      "text/plain": [
       "200"
      ]
     },
     "execution_count": 451,
     "metadata": {},
     "output_type": "execute_result"
    }
   ],
   "source": [
    "sum(['pomeranian'  in s for s in fname_list])"
   ]
  },
  {
   "cell_type": "markdown",
   "id": "1a0c8d5f-27ef-49b0-b6a1-887703fd02cb",
   "metadata": {},
   "source": [
    "my answer"
   ]
  },
  {
   "cell_type": "markdown",
   "id": "32ef78b1-6172-4f4b-aa9c-80e87e8ed528",
   "metadata": {},
   "source": [
    "<font color=green>'pomeranian'을 포함하면 0이 return 되고 아니면 -1이 return되는 코드로 길게 짰다.</font>"
   ]
  },
  {
   "cell_type": "code",
   "execution_count": 450,
   "id": "43f513bf-0a67-48f7-9027-58046c8a9528",
   "metadata": {},
   "outputs": [
    {
     "data": {
      "text/plain": [
       "200"
      ]
     },
     "execution_count": 450,
     "metadata": {},
     "output_type": "execute_result"
    }
   ],
   "source": [
    "len(fname_list) + sum(fname_list[i].find('pomeranian') for i in range(len(fname_list)))"
   ]
  },
  {
   "cell_type": "markdown",
   "id": "af8c5abf-314f-4ec1-899c-8a5f7d08f95c",
   "metadata": {},
   "source": [
    "`10`. 아래의 dct는 포메라니안과 사모예드가 각각 몇장씩 포함되어있는지 정리하기 위해 임시로 정리한 dictionary이다. 각 종이 몇 장씩 포함되어있는지 구하여 dct를 수정하라."
   ]
  },
  {
   "cell_type": "code",
   "execution_count": 452,
   "id": "94ae1ac1-8ee5-4c0c-b13e-7784ec98ac38",
   "metadata": {},
   "outputs": [
    {
     "data": {
      "text/plain": [
       "{'pomeranian': 0, 'samoyed': 0}"
      ]
     },
     "execution_count": 452,
     "metadata": {},
     "output_type": "execute_result"
    }
   ],
   "source": [
    "dct = {'pomeranian':0, 'samoyed':0} \n",
    "dct"
   ]
  },
  {
   "cell_type": "markdown",
   "id": "c0068b01-6750-464d-b208-f2e3e0b71409",
   "metadata": {},
   "source": [
    "예를들어 포메라니안과 사모에예드의 그림이 각각 200장씩 있다면 아래와 같이 딕셔너리를 수정해야한다."
   ]
  },
  {
   "cell_type": "code",
   "execution_count": 466,
   "id": "61e2200f-bd4b-4025-a787-d235c551f02e",
   "metadata": {},
   "outputs": [
    {
     "data": {
      "text/plain": [
       "{'pomeranian': 200, 'samoyed': 200}"
      ]
     },
     "execution_count": 466,
     "metadata": {},
     "output_type": "execute_result"
    }
   ],
   "source": [
    "dct['pomeranian'] = sum(['pomeranian'  in s for s in fname_list])\n",
    "dct['samoyed'] = sum(['samoyed'  in s for s in fname_list])\n",
    "dct"
   ]
  },
  {
   "cell_type": "markdown",
   "id": "0d7e037d-efe4-4736-8fa4-81c2860b3f1d",
   "metadata": {},
   "source": [
    "my answer"
   ]
  },
  {
   "cell_type": "code",
   "execution_count": 462,
   "id": "d0f9be96-d32a-49c8-b937-dc0333e9fc04",
   "metadata": {},
   "outputs": [],
   "source": [
    "dct['pomeranian'] = sum(['pomeranian'  in s for s in fname_list])"
   ]
  },
  {
   "cell_type": "code",
   "execution_count": 463,
   "id": "1d81fa1b-d352-452c-9dba-40f0ab60f843",
   "metadata": {},
   "outputs": [],
   "source": [
    "dct['samoyed'] = sum(['samoyed'  in s for s in fname_list])"
   ]
  },
  {
   "cell_type": "code",
   "execution_count": 464,
   "id": "88fdf4ee-0b62-40b1-88fa-60fba48ecb5c",
   "metadata": {},
   "outputs": [
    {
     "data": {
      "text/plain": [
       "{'pomeranian': 200, 'samoyed': 200}"
      ]
     },
     "execution_count": 464,
     "metadata": {},
     "output_type": "execute_result"
    }
   ],
   "source": [
    "dct"
   ]
  },
  {
   "cell_type": "markdown",
   "id": "3ae4a799-8eac-402d-979a-28002fa0a1f6",
   "metadata": {},
   "source": [
    "# 6.\n",
    "\n",
    "HW 0327 (2)\n",
    "\n",
    "\n",
    "[04wk-1: 파이썬의 자료형 (6)](https://guebin.github.io/PP2023/posts/01_PythonBasic/2023-03-27-4wk-1.html#%ED%95%A8%EC%88%98%EA%B3%A0%EA%B8%89-if%EB%AC%B8%EC%9D%B4-%ED%8F%AC%ED%95%A8%EB%90%9C-%EB%A6%AC%ED%84%B4)"
   ]
  },
  {
   "cell_type": "markdown",
   "id": "883aefa8-5258-4417-9bfa-48854926ae8d",
   "metadata": {},
   "source": [
    "`1`. 아래와 같은 맵핑을 고려하자."
   ]
  },
  {
   "cell_type": "markdown",
   "id": "78d2ca8c-1577-47ef-b5a9-0c452de7776d",
   "metadata": {},
   "source": [
    "|문자|숫자|\n",
    "|:--:|:--:|\n",
    "|a|1|\n",
    "|b|0|"
   ]
  },
  {
   "cell_type": "markdown",
   "id": "29b1962b-cf89-4ae3-a559-62b8b62f3538",
   "metadata": {},
   "source": [
    "이를 딕셔너리로 표현하면 아래와 같다."
   ]
  },
  {
   "cell_type": "code",
   "execution_count": 468,
   "id": "92a4afdc-38a4-4bfe-b44b-ab9234b9bb94",
   "metadata": {},
   "outputs": [],
   "source": [
    "dct = {'a':0, 'b':1} "
   ]
  },
  {
   "cell_type": "markdown",
   "id": "a5988707-bea6-41cf-a3ac-9c547d77bf5e",
   "metadata": {},
   "source": [
    "위 규칙에 따라서 아래의 리스트의 원소를 문자로 각각 변환하라."
   ]
  },
  {
   "cell_type": "code",
   "execution_count": 572,
   "id": "97c01b2e-fdd8-48ca-bca5-ae476e1d91af",
   "metadata": {},
   "outputs": [],
   "source": [
    "lst = [1, 0, 1, 0, 1, 0, 1, 1, 1, 1, 0, 0, 1, 0, 1]"
   ]
  },
  {
   "cell_type": "markdown",
   "id": "9babf670-4de3-469c-a258-efc5199459dc",
   "metadata": {},
   "source": [
    "```python\n",
    "# 출력은 아래와 같아야 한다. \n",
    "['b', 'a', 'b', 'a', 'b', 'a', 'b', 'b', 'b', 'b', 'a', 'a', 'b', 'a', 'b']\n",
    "```"
   ]
  },
  {
   "cell_type": "code",
   "execution_count": 573,
   "id": "7995d206-8730-498d-aaaf-446ef2ae62a5",
   "metadata": {},
   "outputs": [
    {
     "data": {
      "text/plain": [
       "['b', 'a', 'b', 'a', 'b', 'a', 'b', 'b', 'b', 'b', 'a', 'a', 'b', 'a', 'b']"
      ]
     },
     "execution_count": 573,
     "metadata": {},
     "output_type": "execute_result"
    }
   ],
   "source": [
    "[k for l in lst for k,v in dct.items() if v==l]"
   ]
  },
  {
   "cell_type": "markdown",
   "id": "1372c443-0a6c-46e4-beb1-f3fb1d2e7219",
   "metadata": {},
   "source": [
    "error on my answer"
   ]
  },
  {
   "cell_type": "markdown",
   "id": "243f4411-56dd-443b-9c29-f90864fa5163",
   "metadata": {},
   "source": [
    "<font color=green>인덱싱된 값(value)을 가져와서 lst랑 비교한다음 id랑 연결해야 하는데, 연결해서 가져오는 법을 몰랐다.</font>"
   ]
  },
  {
   "cell_type": "code",
   "execution_count": 578,
   "id": "7d3e7f20-dce2-45c6-ae68-544929f14c55",
   "metadata": {},
   "outputs": [
    {
     "data": {
      "text/plain": [
       "[0, 1]"
      ]
     },
     "execution_count": 578,
     "metadata": {},
     "output_type": "execute_result"
    }
   ],
   "source": [
    "[v for k,v in dct.items()]"
   ]
  },
  {
   "cell_type": "code",
   "execution_count": 579,
   "id": "60c0cef0-ed68-4773-9927-bad30507a935",
   "metadata": {},
   "outputs": [
    {
     "data": {
      "text/plain": [
       "['a', 'b']"
      ]
     },
     "execution_count": 579,
     "metadata": {},
     "output_type": "execute_result"
    }
   ],
   "source": [
    "[k for k,v in dct.items()]"
   ]
  },
  {
   "cell_type": "code",
   "execution_count": 580,
   "id": "3a051563-8e54-4d8b-848f-d3692d7f31c4",
   "metadata": {},
   "outputs": [
    {
     "data": {
      "text/plain": [
       "['b', 'a', 'b', 'a', 'b', 'a', 'b', 'b', 'b', 'b', 'a', 'a', 'b', 'a', 'b']"
      ]
     },
     "execution_count": 580,
     "metadata": {},
     "output_type": "execute_result"
    }
   ],
   "source": [
    "[k for s in lst for k,v in dct.items() if v==s]"
   ]
  },
  {
   "cell_type": "markdown",
   "id": "42ec88a7-08a3-42b1-9e2b-7a98551b08af",
   "metadata": {},
   "source": [
    "`2`. 아래와 같은 맵핑을 고려하자."
   ]
  },
  {
   "cell_type": "markdown",
   "id": "f10ed2fb-1f16-4134-bb8e-5b5630ea27f4",
   "metadata": {},
   "source": [
    "|월|의미|\n",
    "|:--:|:--:|\n",
    "|1,2|겨울방학|\n",
    "|3,4,5,6|1학기|\n",
    "|7,8|여름방학|\n",
    "|9,10,11,12|2학기|"
   ]
  },
  {
   "cell_type": "markdown",
   "id": "e5ec5e69-5f30-4385-a417-90ff19b48c19",
   "metadata": {},
   "source": [
    "이러한 규칙에 맞게 아래의 리스트를 적절한 문자열로 변환하라."
   ]
  },
  {
   "cell_type": "code",
   "execution_count": 582,
   "id": "6e8ca3e6-d55e-4368-abef-8c1ee42d748f",
   "metadata": {},
   "outputs": [],
   "source": [
    "month = [1,2,2,3,4,5,6,7,8,9,9,10,11,12] "
   ]
  },
  {
   "cell_type": "markdown",
   "id": "f867d803-c21e-4116-8aaf-c234942af24f",
   "metadata": {},
   "source": [
    "```python\n",
    "## 출력은 아래와 같아야 한다. \n",
    "['겨울방학', '겨울방학', '겨울방학', '1학기', '1학기', '1학기', '1학기', '여름방학', '여름방학', '2학기', '2학기', '2학기', '2학기', '2학기']\n",
    "```"
   ]
  },
  {
   "cell_type": "code",
   "execution_count": 603,
   "id": "cac3837b-2a9f-49a6-871d-e249d48a8832",
   "metadata": {},
   "outputs": [
    {
     "data": {
      "text/plain": [
       "['겨울방학',\n",
       " '겨울방학',\n",
       " '겨울방학',\n",
       " '1학기',\n",
       " '1학기',\n",
       " '1학기',\n",
       " '1학기',\n",
       " '여름방학',\n",
       " '여름방학',\n",
       " '2학기',\n",
       " '2학기',\n",
       " '2학기',\n",
       " '2학기',\n",
       " '2학기']"
      ]
     },
     "execution_count": 603,
     "metadata": {},
     "output_type": "execute_result"
    }
   ],
   "source": [
    "dct = {'겨울방학':[1,2], '1학기':[3,4,5,6], '여름방학':[7,8], '2학기':[9,10,11,12]} \n",
    "[k for m in month for k,v in dct.items() if m in v] "
   ]
  },
  {
   "cell_type": "markdown",
   "id": "9b2fbc6b-1635-49b3-8168-75d4eeb231a2",
   "metadata": {},
   "source": [
    "my answer"
   ]
  },
  {
   "cell_type": "markdown",
   "id": "9879a9fc-b430-4412-8941-c88c5df89d17",
   "metadata": {},
   "source": [
    "<font color=green>`if c in v`을 못 씀.....</font>"
   ]
  },
  {
   "cell_type": "code",
   "execution_count": 586,
   "id": "e75cb998-4bf5-4154-9501-f0da682a7861",
   "metadata": {},
   "outputs": [],
   "source": [
    "dct = {'겨울방학':[1,2],'1학기':[3,4,5,6],'여름방학':[7,8],'2학기':[9,10,11,12]}"
   ]
  },
  {
   "cell_type": "code",
   "execution_count": 601,
   "id": "f0c363e1-1bae-4194-9fb6-6ce160288d57",
   "metadata": {},
   "outputs": [
    {
     "data": {
      "text/plain": [
       "['겨울방학',\n",
       " '겨울방학',\n",
       " '겨울방학',\n",
       " '1학기',\n",
       " '1학기',\n",
       " '1학기',\n",
       " '1학기',\n",
       " '여름방학',\n",
       " '여름방학',\n",
       " '2학기',\n",
       " '2학기',\n",
       " '2학기',\n",
       " '2학기',\n",
       " '2학기']"
      ]
     },
     "execution_count": 601,
     "metadata": {},
     "output_type": "execute_result"
    }
   ],
   "source": [
    "[k for c in month for k,v in dct.items() if c in v]"
   ]
  },
  {
   "cell_type": "markdown",
   "id": "c1812c5f-4737-4712-b944-3a1bf150303f",
   "metadata": {},
   "source": [
    "---"
   ]
  },
  {
   "cell_type": "markdown",
   "id": "be38c9a6-8ddd-49fa-968f-3a44a5c4add1",
   "metadata": {},
   "source": [
    "`합성변환` 3-5."
   ]
  },
  {
   "cell_type": "markdown",
   "id": "afdb135c-3b58-430f-81e3-eb80bd792971",
   "metadata": {},
   "source": [
    "아래와 같은 맵핑을 고려하자."
   ]
  },
  {
   "cell_type": "markdown",
   "id": "c1c9de24-bfdc-49f2-955f-b6f862fd1da8",
   "metadata": {},
   "source": [
    "(규칙1)"
   ]
  },
  {
   "cell_type": "markdown",
   "id": "b4089d41-1ddd-4090-9385-bb6f3782d376",
   "metadata": {},
   "source": [
    "|문자|숫자|\n",
    "|:--:|:--:|\n",
    "|바나나|0|\n",
    "|사과|1|\n",
    "|오토바이|2|\n",
    "|자동차|3|\n",
    "|자전거|4|"
   ]
  },
  {
   "cell_type": "markdown",
   "id": "e56cb8bd-d7d6-4f4c-b4b5-c0243f962bc0",
   "metadata": {},
   "source": [
    "(규칙2)"
   ]
  },
  {
   "cell_type": "markdown",
   "id": "fbd921a7-956b-478a-abd5-dedfe16c9640",
   "metadata": {},
   "source": [
    "|아이템|카테고리|\n",
    "|:--:|:--:|\n",
    "|바나나|과일|\n",
    "|사과|과일|\n",
    "|오토바이|탈것|\n",
    "|자동차|탈것|\n",
    "|자전거|탈것|"
   ]
  },
  {
   "cell_type": "markdown",
   "id": "15a66d7f-b6d2-44ff-9939-ad882b734a52",
   "metadata": {},
   "source": [
    "각각의 규칙을 나타내는 딕셔너리는 아래와 같이 선언되어있다고 하자."
   ]
  },
  {
   "cell_type": "code",
   "execution_count": 604,
   "id": "ea6967bd-3785-4bc8-a31e-eb3e2c73e733",
   "metadata": {},
   "outputs": [],
   "source": [
    "dct1 = {'바나나':0, '사과':1, '오토바이':2, '자동차':3, '자전거':4} \n",
    "dct2 = {'과일':['바나나','사과'], '탈것':['오토바이','자동차','자전거']} "
   ]
  },
  {
   "cell_type": "markdown",
   "id": "0ab7cfdb-f77b-46d6-ab06-23f2c06bd494",
   "metadata": {},
   "source": [
    "`3`. 규칙1를 이용하여 아래와 같은 리스트를 변환하는 함수를 구현하고 그 함수를 f라 선언하라."
   ]
  },
  {
   "cell_type": "markdown",
   "id": "3e5722c4-650c-4ccc-9913-7c2103abaa3f",
   "metadata": {},
   "source": [
    "```python\n",
    "# 입력 \n",
    "[0,1,0,1,4]\n",
    "\n",
    "# 출력 \n",
    "['바나나', '사과', '바나나', '사과', '자전거']\n",
    "```"
   ]
  },
  {
   "cell_type": "markdown",
   "id": "a6f2d7ef-843b-4329-b816-c913caad6bfb",
   "metadata": {},
   "source": [
    "```python\n",
    "(사용예시)\n",
    "\n",
    "f([0,1,0,1,4])\n",
    "\n",
    "['바나나', '사과', '바나나', '사과', '자전거']\n",
    "```"
   ]
  },
  {
   "cell_type": "code",
   "execution_count": 609,
   "id": "2a0e0c25-4287-4341-9123-08ceb9b285e6",
   "metadata": {},
   "outputs": [
    {
     "data": {
      "text/plain": [
       "['바나나', '사과', '바나나', '사과', '자전거']"
      ]
     },
     "execution_count": 609,
     "metadata": {},
     "output_type": "execute_result"
    }
   ],
   "source": [
    "def f(lst):\n",
    "    return [k for l in lst for k,v in dct1.items() if v == l]    \n",
    "\n",
    "f([0,1,0,1,4])"
   ]
  },
  {
   "cell_type": "markdown",
   "id": "99ec2596-1a13-4a61-9c14-15b672b44246",
   "metadata": {},
   "source": [
    "my answer"
   ]
  },
  {
   "cell_type": "code",
   "execution_count": 608,
   "id": "c891305b-0e0c-4d46-ae8e-a75563051508",
   "metadata": {},
   "outputs": [
    {
     "data": {
      "text/plain": [
       "['바나나', '사과', '바나나', '사과', '자전거']"
      ]
     },
     "execution_count": 608,
     "metadata": {},
     "output_type": "execute_result"
    }
   ],
   "source": [
    "[k for i in [0,1,0,1,4] for k,v in dct1.items() if i==v]"
   ]
  },
  {
   "cell_type": "code",
   "execution_count": 614,
   "id": "34c1ad9d-eaf4-437d-bb9e-736bf3dcff41",
   "metadata": {},
   "outputs": [],
   "source": [
    "def f_csy(a):\n",
    "    return [k for i in a for k,v in dct1.items() if i==v]"
   ]
  },
  {
   "cell_type": "code",
   "execution_count": 615,
   "id": "4d27b36b-de2d-4afa-b716-9c5a658b42a9",
   "metadata": {},
   "outputs": [
    {
     "data": {
      "text/plain": [
       "['바나나', '사과', '바나나', '사과', '자전거']"
      ]
     },
     "execution_count": 615,
     "metadata": {},
     "output_type": "execute_result"
    }
   ],
   "source": [
    "f_csy([0,1,0,1,4])"
   ]
  },
  {
   "cell_type": "markdown",
   "id": "3477d434-2a5e-49d2-ada8-74cac5406c87",
   "metadata": {},
   "source": [
    "`4`. 규칙2를 이용하여 아래와 같이 리스트를 변환하는 함수를 구현하고 그 함수를 g라고 선언하라."
   ]
  },
  {
   "cell_type": "markdown",
   "id": "feb85a1a-9ff5-4249-be24-6a39f5d50f39",
   "metadata": {},
   "source": [
    "```python\n",
    "# 입력 \n",
    "['바나나','바나나','바나나','자동차']\n",
    "\n",
    "# 출력 \n",
    "['과일','과일','과일','탈것']\n",
    "\n",
    "(사용예시)\n",
    "\n",
    "g(['바나나','바나나','바나나','자동차'])\n",
    "\n",
    "['과일', '과일', '과일', '탈것']\n",
    "```"
   ]
  },
  {
   "cell_type": "code",
   "execution_count": 621,
   "id": "e357eacf-4abf-4997-8bb4-0e600b57228d",
   "metadata": {},
   "outputs": [
    {
     "data": {
      "text/plain": [
       "['과일', '과일', '과일', '탈것']"
      ]
     },
     "execution_count": 621,
     "metadata": {},
     "output_type": "execute_result"
    }
   ],
   "source": [
    "def g(lst):\n",
    "    return [k for l in lst for k,v in dct2.items() if l in v] \n",
    "\n",
    "g(['바나나','바나나','바나나','자동차'])"
   ]
  },
  {
   "cell_type": "markdown",
   "id": "d8e95012-26df-4f04-b0d0-c9a4bf874417",
   "metadata": {},
   "source": [
    "my answer"
   ]
  },
  {
   "cell_type": "code",
   "execution_count": 620,
   "id": "6bec2891-3495-4a00-8fb0-686a1a0a08c6",
   "metadata": {},
   "outputs": [
    {
     "data": {
      "text/plain": [
       "['과일', '과일', '과일', '탈것']"
      ]
     },
     "execution_count": 620,
     "metadata": {},
     "output_type": "execute_result"
    }
   ],
   "source": [
    "[k for a in ['바나나','바나나','바나나','자동차'] for k,v in dct2.items() if a in v]"
   ]
  },
  {
   "cell_type": "code",
   "execution_count": 622,
   "id": "a8f0d54b-cd81-43b2-bff7-6b0f990caee3",
   "metadata": {},
   "outputs": [],
   "source": [
    "def g_csy(b):\n",
    "    return([k for a in b for k,v in dct2.items() if a in v])"
   ]
  },
  {
   "cell_type": "code",
   "execution_count": 623,
   "id": "6dfcbb8b-4c2b-414b-bf89-6ef62cf6f47d",
   "metadata": {},
   "outputs": [
    {
     "data": {
      "text/plain": [
       "['과일', '과일', '과일', '탈것']"
      ]
     },
     "execution_count": 623,
     "metadata": {},
     "output_type": "execute_result"
    }
   ],
   "source": [
    "g_csy(['바나나','바나나','바나나','자동차'])"
   ]
  },
  {
   "cell_type": "markdown",
   "id": "b049c95e-67eb-4712-bdb2-8c74ead4cf6b",
   "metadata": {},
   "source": [
    "`5`. 규칙1-2를 이용하여 아래와 같은 숫자로 이루어진 입력을 ‘과일’, ‘탈것’ 중 하나로 바꾸는 코드를 구현하라."
   ]
  },
  {
   "cell_type": "markdown",
   "id": "0d950dc5-aa58-41c2-a206-3ec8c54a9019",
   "metadata": {},
   "source": [
    "```python\n",
    "# 입력 \n",
    "[0,1,0,1,3,4,2,2,3,4,1,0]\n",
    "\n",
    "# 출력 \n",
    "['과일', '과일', '과일', '과일', '탈것', '탈것', '탈것', '탈것', '탈것', '탈것', '과일', '과일']\n",
    "```"
   ]
  },
  {
   "cell_type": "markdown",
   "id": "6f779fd9-48a6-4e05-a37b-6dea0fa99e39",
   "metadata": {},
   "source": [
    "hint $g(f(x))$ 를 이용하라."
   ]
  },
  {
   "cell_type": "code",
   "execution_count": 625,
   "id": "b62db18d-1ca0-45ef-8334-ada764219767",
   "metadata": {},
   "outputs": [
    {
     "data": {
      "text/plain": [
       "['과일', '과일', '과일', '과일', '탈것', '탈것', '탈것', '탈것', '탈것', '탈것', '과일', '과일']"
      ]
     },
     "execution_count": 625,
     "metadata": {},
     "output_type": "execute_result"
    }
   ],
   "source": [
    "g(f([0,1,0,1,3,4,2,2,3,4,1,0]))\n",
    "\n",
    "['과일', '과일', '과일', '과일', '탈것', '탈것', '탈것', '탈것', '탈것', '탈것', '과일', '과일']"
   ]
  },
  {
   "cell_type": "markdown",
   "id": "73a86470-1abe-4b9f-97bf-e9890b063232",
   "metadata": {},
   "source": [
    "my answer"
   ]
  },
  {
   "cell_type": "code",
   "execution_count": 624,
   "id": "81cdc486-2588-4ea9-b54e-edd2cb80cf22",
   "metadata": {},
   "outputs": [
    {
     "data": {
      "text/plain": [
       "['과일', '과일', '과일', '과일', '탈것', '탈것', '탈것', '탈것', '탈것', '탈것', '과일', '과일']"
      ]
     },
     "execution_count": 624,
     "metadata": {},
     "output_type": "execute_result"
    }
   ],
   "source": [
    "g_csy(f_csy([0,1,0,1,3,4,2,2,3,4,1,0]))"
   ]
  },
  {
   "cell_type": "markdown",
   "id": "9d1c13eb-f1c0-4876-b6eb-24d2c95ed6db",
   "metadata": {},
   "source": [
    "# 7.\n",
    "\n",
    "[04wk-2: 파이썬의 자료형 (7)](https://guebin.github.io/PP2023/posts/01_PythonBasic/2023-03-29-4wk-2.html)"
   ]
  },
  {
   "cell_type": "markdown",
   "id": "1cec8660-7464-46fc-817b-29102ddff046",
   "metadata": {},
   "source": [
    "`Oxford-III`: 1–5 // [reference](https://www.robots.ox.ac.uk/~vgg/data/pets/)"
   ]
  },
  {
   "cell_type": "markdown",
   "id": "18c9bb45-a18e-4c54-9e30-d9d15b48b927",
   "metadata": {},
   "source": [
    "아래는 이미지 파일명들이 저장된 string을 불러오는 코드이다."
   ]
  },
  {
   "cell_type": "code",
   "execution_count": 627,
   "id": "9508b026-c835-4b68-a37a-34cd0873e8f0",
   "metadata": {},
   "outputs": [],
   "source": [
    "import requests\n",
    "url = 'https://raw.githubusercontent.com/guebin/PP2023/main/posts/01_PythonBasic/Oxford-IIIT.txt'\n",
    "txt = requests.get(url).content.decode()"
   ]
  },
  {
   "cell_type": "markdown",
   "id": "16215df5-8ff6-451b-8a6b-3fabb02d64a2",
   "metadata": {},
   "source": [
    "이미지파일이 저장된 형식은 아래와 같다."
   ]
  },
  {
   "cell_type": "markdown",
   "id": "e2cef5e7-e6d0-4f3f-a28a-85c242d4ba19",
   "metadata": {},
   "source": [
    "```python\n",
    "Abyssinian_1.jpg\n",
    "British_Shorthair_129.jpg\n",
    "```\n",
    "**note**: British_Shorthair와 같이 종 이름 사이에 _가 들어있는 경우도 있음."
   ]
  },
  {
   "cell_type": "markdown",
   "id": "baafd191-e571-45c2-bdcc-33d789698dd2",
   "metadata": {},
   "source": [
    "`1`. txt를 적당히 변환하여 아래와 같은 list를 만들어라."
   ]
  },
  {
   "cell_type": "markdown",
   "id": "2e8e9619-def0-405f-8e16-6b0657f24bad",
   "metadata": {},
   "source": [
    "```python\n",
    "lst[:10],lst[810:820]\n",
    "\n",
    "(['Abyssinian',\n",
    "  'Abyssinian',\n",
    "  'Abyssinian',\n",
    "  'Abyssinian',\n",
    "  'Abyssinian',\n",
    "  'Abyssinian',\n",
    "  'Abyssinian',\n",
    "  'Abyssinian',\n",
    "  'Abyssinian',\n",
    "  'Abyssinian'],\n",
    " ['BritishShorthair',\n",
    "  'BritishShorthair',\n",
    "  'BritishShorthair',\n",
    "  'BritishShorthair',\n",
    "  'BritishShorthair',\n",
    "  'BritishShorthair',\n",
    "  'BritishShorthair',\n",
    "  'BritishShorthair',\n",
    "  'BritishShorthair',\n",
    "  'BritishShorthair'])\n",
    "```"
   ]
  },
  {
   "cell_type": "markdown",
   "id": "04fd4759-9900-4e46-94fa-fc4851802d9a",
   "metadata": {},
   "source": [
    "**hint1**"
   ]
  },
  {
   "cell_type": "code",
   "execution_count": 648,
   "id": "3ea03ed6-1a96-4a3f-9b41-e2a237db1894",
   "metadata": {},
   "outputs": [
    {
     "data": {
      "text/plain": [
       "['Abyssinian_1.jpg', 'Abyssinian_10.jpg']"
      ]
     },
     "execution_count": 648,
     "metadata": {},
     "output_type": "execute_result"
    }
   ],
   "source": [
    "'Abyssinian_1.jpg\\nAbyssinian_10.jpg'.split('\\n')"
   ]
  },
  {
   "cell_type": "markdown",
   "id": "26d4fd26-0826-48d3-a9a8-71a508dabe65",
   "metadata": {},
   "source": [
    "**hint2**"
   ]
  },
  {
   "cell_type": "code",
   "execution_count": 649,
   "id": "93cf0a71-61ee-48c6-9416-bbe40d967829",
   "metadata": {},
   "outputs": [
    {
     "data": {
      "text/plain": [
       "'BritishShorthair'"
      ]
     },
     "execution_count": 649,
     "metadata": {},
     "output_type": "execute_result"
    }
   ],
   "source": [
    "''.join(['British', 'Shorthair'])"
   ]
  },
  {
   "cell_type": "code",
   "execution_count": 655,
   "id": "55b79c1c-038c-47cb-9d19-6439e3441253",
   "metadata": {},
   "outputs": [
    {
     "data": {
      "text/plain": [
       "'Abyssinian'"
      ]
     },
     "execution_count": 655,
     "metadata": {},
     "output_type": "execute_result"
    }
   ],
   "source": [
    "''.join(['Abyssinian'])"
   ]
  },
  {
   "cell_type": "markdown",
   "id": "0c338b3f-0179-4746-820d-63fff914470f",
   "metadata": {},
   "source": [
    "(풀이1)"
   ]
  },
  {
   "cell_type": "code",
   "execution_count": 656,
   "id": "92fd0ea0-1257-4ee7-9ff2-5eccc10c3b4e",
   "metadata": {},
   "outputs": [],
   "source": [
    "lst = [''.join(filename.split('_')[:-1]) for filename in txt.split('\\n')]"
   ]
  },
  {
   "cell_type": "code",
   "execution_count": 657,
   "id": "3712ee6d-5f37-4f09-b9e2-a3c059cd2718",
   "metadata": {},
   "outputs": [
    {
     "data": {
      "text/plain": [
       "(['Abyssinian',\n",
       "  'Abyssinian',\n",
       "  'Abyssinian',\n",
       "  'Abyssinian',\n",
       "  'Abyssinian',\n",
       "  'Abyssinian',\n",
       "  'Abyssinian',\n",
       "  'Abyssinian',\n",
       "  'Abyssinian',\n",
       "  'Abyssinian'],\n",
       " ['BritishShorthair',\n",
       "  'BritishShorthair',\n",
       "  'BritishShorthair',\n",
       "  'BritishShorthair',\n",
       "  'BritishShorthair',\n",
       "  'BritishShorthair',\n",
       "  'BritishShorthair',\n",
       "  'BritishShorthair',\n",
       "  'BritishShorthair',\n",
       "  'BritishShorthair'])"
      ]
     },
     "execution_count": 657,
     "metadata": {},
     "output_type": "execute_result"
    }
   ],
   "source": [
    "lst[:10],lst[810:820]"
   ]
  },
  {
   "cell_type": "markdown",
   "id": "7e46e05b-aa23-4fac-baa0-9c1f496e8d56",
   "metadata": {},
   "source": [
    "(풀이2)"
   ]
  },
  {
   "cell_type": "code",
   "execution_count": 658,
   "id": "d9c665b5-dd6b-423b-ab33-b3f55fed55af",
   "metadata": {},
   "outputs": [],
   "source": [
    "def f(filename): \n",
    "    *name, _ = filename.split('_')\n",
    "    return ''.join(name)\n",
    "lst = [f(filename) for filename in txt.split('\\n')]"
   ]
  },
  {
   "cell_type": "code",
   "execution_count": 659,
   "id": "bee5578e-f999-431c-b816-7a7cfda6bd7a",
   "metadata": {},
   "outputs": [
    {
     "data": {
      "text/plain": [
       "(['Abyssinian',\n",
       "  'Abyssinian',\n",
       "  'Abyssinian',\n",
       "  'Abyssinian',\n",
       "  'Abyssinian',\n",
       "  'Abyssinian',\n",
       "  'Abyssinian',\n",
       "  'Abyssinian',\n",
       "  'Abyssinian',\n",
       "  'Abyssinian'],\n",
       " ['BritishShorthair',\n",
       "  'BritishShorthair',\n",
       "  'BritishShorthair',\n",
       "  'BritishShorthair',\n",
       "  'BritishShorthair',\n",
       "  'BritishShorthair',\n",
       "  'BritishShorthair',\n",
       "  'BritishShorthair',\n",
       "  'BritishShorthair',\n",
       "  'BritishShorthair'])"
      ]
     },
     "execution_count": 659,
     "metadata": {},
     "output_type": "execute_result"
    }
   ],
   "source": [
    "lst[:10],lst[810:820]"
   ]
  },
  {
   "cell_type": "markdown",
   "id": "2204528d-db62-493c-b520-fbe50b96bf82",
   "metadata": {},
   "source": [
    "my answer"
   ]
  },
  {
   "cell_type": "code",
   "execution_count": 736,
   "id": "3eadbbf9-9936-4fd2-a2f4-781d6e857633",
   "metadata": {},
   "outputs": [],
   "source": [
    "lst = [''.join(txt.split('\\n')[i].split('_')[:-1]) for i in range(len(txt.split('\\n')))]"
   ]
  },
  {
   "cell_type": "code",
   "execution_count": 737,
   "id": "5153f8b7-f7ae-466d-a8ed-d0f2669983a7",
   "metadata": {},
   "outputs": [
    {
     "data": {
      "text/plain": [
       "(['Abyssinian',\n",
       "  'Abyssinian',\n",
       "  'Abyssinian',\n",
       "  'Abyssinian',\n",
       "  'Abyssinian',\n",
       "  'Abyssinian',\n",
       "  'Abyssinian',\n",
       "  'Abyssinian',\n",
       "  'Abyssinian',\n",
       "  'Abyssinian'],\n",
       " ['BritishShorthair',\n",
       "  'BritishShorthair',\n",
       "  'BritishShorthair',\n",
       "  'BritishShorthair',\n",
       "  'BritishShorthair',\n",
       "  'BritishShorthair',\n",
       "  'BritishShorthair',\n",
       "  'BritishShorthair',\n",
       "  'BritishShorthair',\n",
       "  'BritishShorthair'])"
      ]
     },
     "execution_count": 737,
     "metadata": {},
     "output_type": "execute_result"
    }
   ],
   "source": [
    "lst[:10],lst[810:820]"
   ]
  },
  {
   "cell_type": "markdown",
   "id": "546bb6d1-f8dd-49f4-a651-92dc3216df81",
   "metadata": {},
   "source": [
    "`2`. 그림파일에는 총 몇가지 종류의 고양이와, 몇가지 종류의 강아지가 있는가?"
   ]
  },
  {
   "cell_type": "markdown",
   "id": "e223e375-2c53-43d1-873a-3fb7d7c7fb2d",
   "metadata": {},
   "source": [
    "**note**: 고양이사진은 대문자로 시작하고, 강아지 사진은 소문자로 시작한다.\n",
    "\n",
    "**note**: 12종의 고양이, 25종의 강아지가 있음"
   ]
  },
  {
   "cell_type": "code",
   "execution_count": 674,
   "id": "51442e45-5a4f-4b27-89ae-5b5eac53c20d",
   "metadata": {},
   "outputs": [
    {
     "data": {
      "text/plain": [
       "12"
      ]
     },
     "execution_count": 674,
     "metadata": {},
     "output_type": "execute_result"
    }
   ],
   "source": [
    "[s[0].isupper() for s in set(lst)].count(True) # 고양이 12"
   ]
  },
  {
   "cell_type": "code",
   "execution_count": 697,
   "id": "429fc58e-5b2e-4574-a99e-4206e0e76766",
   "metadata": {},
   "outputs": [
    {
     "data": {
      "text/plain": [
       "25"
      ]
     },
     "execution_count": 697,
     "metadata": {},
     "output_type": "execute_result"
    }
   ],
   "source": [
    "[s[0].isupper() for s in set(lst)].count(False) # 강아지 25 "
   ]
  },
  {
   "cell_type": "markdown",
   "id": "37e8fcac-862d-4249-8f8d-9b2bded6393c",
   "metadata": {},
   "source": [
    "my answer"
   ]
  },
  {
   "cell_type": "code",
   "execution_count": 695,
   "id": "a3e5f848-adef-47d2-a123-6522d626bc11",
   "metadata": {},
   "outputs": [
    {
     "data": {
      "text/plain": [
       "12"
      ]
     },
     "execution_count": 695,
     "metadata": {},
     "output_type": "execute_result"
    }
   ],
   "source": [
    "len([i for i in set(lst) if i[0].isupper()])"
   ]
  },
  {
   "cell_type": "code",
   "execution_count": 696,
   "id": "0f3bd3d5-8e4c-4773-95a9-63723ee05236",
   "metadata": {},
   "outputs": [
    {
     "data": {
      "text/plain": [
       "25"
      ]
     },
     "execution_count": 696,
     "metadata": {},
     "output_type": "execute_result"
    }
   ],
   "source": [
    "len([i for i in set(lst) if i[0].islower()])"
   ]
  },
  {
   "cell_type": "markdown",
   "id": "70435e53-c693-4c0c-8ac4-7e6f9c983fa3",
   "metadata": {},
   "source": [
    "`3`. 아래는 1번의 결과로 얻어진 lst의 첫 10개의 원소와 마지막 10개의 원소이다."
   ]
  },
  {
   "cell_type": "markdown",
   "id": "f98d1d13-85c9-4c0f-9191-edc984b132d7",
   "metadata": {},
   "source": [
    "```python\n",
    "lst[:10], lst[-10:]\n",
    "\n",
    "(['Abyssinian',\n",
    "  'Abyssinian',\n",
    "  'Abyssinian',\n",
    "  'Abyssinian',\n",
    "  'Abyssinian',\n",
    "  'Abyssinian',\n",
    "  'Abyssinian',\n",
    "  'Abyssinian',\n",
    "  'Abyssinian',\n",
    "  'Abyssinian'],\n",
    " ['yorkshireterrier',\n",
    "  'yorkshireterrier',\n",
    "  'yorkshireterrier',\n",
    "  'yorkshireterrier',\n",
    "  'yorkshireterrier',\n",
    "  'yorkshireterrier',\n",
    "  'yorkshireterrier',\n",
    "  'yorkshireterrier',\n",
    "  'yorkshireterrier',\n",
    "  'yorkshireterrier'])\n",
    "```"
   ]
  },
  {
   "cell_type": "markdown",
   "id": "48e38809-0beb-4783-8a5b-48c1c9fc16d1",
   "metadata": {},
   "source": [
    "적당한 변환을 정의하여 lst를 아래와 같이 바꾸어라."
   ]
  },
  {
   "cell_type": "markdown",
   "id": "804af562-bfcb-402e-8743-0bbab83a10d3",
   "metadata": {},
   "source": [
    "```python\n",
    "lst2[:10], lst2[-10:] # 바뀐 lst\n",
    "(['cat', 'cat', 'cat', 'cat', 'cat', 'cat', 'cat', 'cat', 'cat', 'cat'],\n",
    " ['dog', 'dog', 'dog', 'dog', 'dog', 'dog', 'dog', 'dog', 'dog', 'dog'])\n",
    "```"
   ]
  },
  {
   "cell_type": "markdown",
   "id": "e1cf6840-7bf8-4389-ae55-ab934a1da20e",
   "metadata": {},
   "source": [
    "(풀이1)"
   ]
  },
  {
   "cell_type": "code",
   "execution_count": 755,
   "id": "fb5ffbfe-ddd3-4626-b5b7-ac3bbd62d100",
   "metadata": {},
   "outputs": [],
   "source": [
    "dct = {'cat':[s for s in set(lst) if s[0].isupper()], 'dog': [s for s in set(lst) if not s[0].isupper()]}\n",
    "lst2 = [k for l in lst for k,v in dct.items() if l in v]"
   ]
  },
  {
   "cell_type": "markdown",
   "id": "36ce6fb4-2616-441f-84a1-b7492fd71729",
   "metadata": {},
   "source": [
    "(풀이2)"
   ]
  },
  {
   "cell_type": "code",
   "execution_count": 757,
   "id": "dc20d119-aad4-4342-86ef-00835b8de3da",
   "metadata": {},
   "outputs": [],
   "source": [
    "def f(fname): \n",
    "    return 'cat' if fname[0].isupper() else 'dog'\n",
    "lst2= [f(fname) for fname in lst]"
   ]
  },
  {
   "cell_type": "markdown",
   "id": "820d7914-545c-4d7d-8064-34d40145b0d8",
   "metadata": {},
   "source": [
    "my answer"
   ]
  },
  {
   "cell_type": "code",
   "execution_count": 756,
   "id": "7e290847-61c1-483e-a559-3a998cd8a546",
   "metadata": {},
   "outputs": [],
   "source": [
    "lst2 = []\n",
    "for j in range(len(lst)):\n",
    "    if [lst[l][0].isupper() for l in range(len(lst))][j] == True:\n",
    "        lst2.append('cat')\n",
    "    else:\n",
    "        lst2.append('dog')"
   ]
  },
  {
   "cell_type": "markdown",
   "id": "ebc98521-fdca-49c2-bf62-fed98999ae24",
   "metadata": {},
   "source": [
    "`4`. txt에는 강아지사진과 고양이사진이 모두 몇장씩 들어있는가?"
   ]
  },
  {
   "cell_type": "markdown",
   "id": "503e8291-9148-4451-a22a-20382257f477",
   "metadata": {},
   "source": [
    "```python\n",
    "## 출력예시 \n",
    "\n",
    "{'dog': 4990, 'cat': 2403}\n",
    "```"
   ]
  },
  {
   "cell_type": "code",
   "execution_count": 764,
   "id": "463bd33c-0532-44f0-8ebd-68119b029b71",
   "metadata": {},
   "outputs": [
    {
     "data": {
      "text/plain": [
       "{'dog': 4990, 'cat': 2403}"
      ]
     },
     "execution_count": 764,
     "metadata": {},
     "output_type": "execute_result"
    }
   ],
   "source": [
    "{k:lst2.count(k) for k in ['dog','cat']}"
   ]
  },
  {
   "cell_type": "markdown",
   "id": "89eecdaf-4c38-48fc-97b6-fa9f0e8c0d37",
   "metadata": {},
   "source": [
    "my answer"
   ]
  },
  {
   "cell_type": "markdown",
   "id": "1963ca40-a197-4bd4-9490-c902aec61db5",
   "metadata": {},
   "source": [
    "<font color=green>너무 길게 코드를 짰다.. 비.효.율.적.</font>"
   ]
  },
  {
   "cell_type": "code",
   "execution_count": 769,
   "id": "576b2a2f-5b5b-4156-b74a-e5b09254c29c",
   "metadata": {},
   "outputs": [
    {
     "data": {
      "text/plain": [
       "{'dog': 4990, 'cat': 2403}"
      ]
     },
     "execution_count": 769,
     "metadata": {},
     "output_type": "execute_result"
    }
   ],
   "source": [
    "{'dog':sum((lst2[i] == 'dog' for i in range(len(lst2)))),\n",
    " 'cat':sum((lst2[i] == 'cat' for i in range(len(lst2))))}"
   ]
  },
  {
   "cell_type": "markdown",
   "id": "7a34ac9d-6ca5-44bf-9856-9203d87708fd",
   "metadata": {},
   "source": [
    "`5`. txt에 각 종별로 몇장의 사진이 있는지 조사하라."
   ]
  },
  {
   "cell_type": "markdown",
   "id": "4d3c88f8-fde9-4442-9c24-f458bbdcb0be",
   "metadata": {},
   "source": [
    "```python\n",
    "## 출력예시\n",
    "\n",
    "{'beagle': 200,\n",
    " 'scottishterrier': 199,\n",
    " 'newfoundland': 200,\n",
    " 'Birman': 200,\n",
    " 'Bombay': 200,\n",
    " 'pug': 200,\n",
    " 'germanshorthaired': 200,\n",
    " 'samoyed': 200,\n",
    " 'Sphynx': 200,\n",
    " 'englishsetter': 200,\n",
    " 'Bengal': 200,\n",
    " 'MaineCoon': 200,\n",
    " 'Persian': 200,\n",
    " 'boxer': 200,\n",
    " 'staffordshirebullterrier': 191,\n",
    " 'Siamese': 200,\n",
    " 'bassethound': 200,\n",
    " 'wheatenterrier': 200,\n",
    " 'englishcockerspaniel': 200,\n",
    " 'Ragdoll': 200,\n",
    " 'yorkshireterrier': 200,\n",
    " 'EgyptianMau': 200,\n",
    " 'BritishShorthair': 200,\n",
    " 'keeshond': 200,\n",
    " 'RussianBlue': 200,\n",
    " 'saintbernard': 200,\n",
    " 'americanbulldog': 200,\n",
    " 'Abyssinian': 203,\n",
    " 'leonberger': 200,\n",
    " 'greatpyrenees': 200,\n",
    " 'japanesechin': 200,\n",
    " 'pomeranian': 200,\n",
    " 'chihuahua': 200,\n",
    " 'shibainu': 200,\n",
    " 'americanpitbullterrier': 200,\n",
    " 'miniaturepinscher': 200,\n",
    " 'havanese': 200}\n",
    "```"
   ]
  },
  {
   "cell_type": "code",
   "execution_count": 784,
   "id": "0951186e-8f38-42b7-9a56-de67ccf95f4c",
   "metadata": {},
   "outputs": [
    {
     "data": {
      "text/plain": [
       "{'greatpyrenees': 200,\n",
       " 'americanbulldog': 200,\n",
       " 'englishcockerspaniel': 200,\n",
       " 'japanesechin': 200,\n",
       " 'boxer': 200,\n",
       " 'Sphynx': 200,\n",
       " 'havanese': 200,\n",
       " 'saintbernard': 200,\n",
       " 'samoyed': 200,\n",
       " 'yorkshireterrier': 200,\n",
       " 'wheatenterrier': 200,\n",
       " 'chihuahua': 200,\n",
       " 'MaineCoon': 200,\n",
       " 'miniaturepinscher': 200,\n",
       " 'RussianBlue': 200,\n",
       " 'pug': 200,\n",
       " 'Bengal': 200,\n",
       " 'americanpitbullterrier': 200,\n",
       " 'pomeranian': 200,\n",
       " 'EgyptianMau': 200,\n",
       " 'englishsetter': 200,\n",
       " 'Birman': 200,\n",
       " 'shibainu': 200,\n",
       " 'germanshorthaired': 200,\n",
       " 'Persian': 200,\n",
       " 'beagle': 200,\n",
       " 'staffordshirebullterrier': 191,\n",
       " 'keeshond': 200,\n",
       " 'newfoundland': 200,\n",
       " 'Bombay': 200,\n",
       " 'Siamese': 200,\n",
       " 'BritishShorthair': 200,\n",
       " 'scottishterrier': 199,\n",
       " 'leonberger': 200,\n",
       " 'Ragdoll': 200,\n",
       " 'Abyssinian': 203,\n",
       " 'bassethound': 200}"
      ]
     },
     "execution_count": 784,
     "metadata": {},
     "output_type": "execute_result"
    }
   ],
   "source": [
    "{k:lst.count(k) for k in set(lst)}"
   ]
  }
 ],
 "metadata": {
  "kernelspec": {
   "display_name": "Python 3",
   "language": "python",
   "name": "python3"
  },
  "language_info": {
   "codemirror_mode": {
    "name": "ipython",
    "version": 3
   },
   "file_extension": ".py",
   "mimetype": "text/x-python",
   "name": "python",
   "nbconvert_exporter": "python",
   "pygments_lexer": "ipython3",
   "version": "3.8.0"
  }
 },
 "nbformat": 4,
 "nbformat_minor": 5
}
