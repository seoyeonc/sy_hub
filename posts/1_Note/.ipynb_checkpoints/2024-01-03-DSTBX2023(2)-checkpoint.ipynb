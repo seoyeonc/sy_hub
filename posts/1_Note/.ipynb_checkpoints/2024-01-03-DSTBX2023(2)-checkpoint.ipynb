{
 "cells": [
  {
   "cell_type": "raw",
   "id": "ea394fa3-82fa-4830-86da-56cb1b17f3a9",
   "metadata": {
    "id": "cac470df-29e7-4148-9bbd-d8b9a32fa570",
    "tags": []
   },
   "source": [
    "---\n",
    "title: \"DSTBX2023(2)\"\n",
    "author: \"SEOYEON CHOI\"\n",
    "date: \"2024-01-03\"\n",
    "---"
   ]
  },
  {
   "cell_type": "markdown",
   "id": "1dd489d9-207c-4c1d-92c2-ecbec1872553",
   "metadata": {},
   "source": [
    "# 실습13: 코드스페이스에 작업한 블로그를 윈도우로 pull (강의용 윈도우 컴퓨터)"
   ]
  },
  {
   "cell_type": "markdown",
   "id": "474b46b8-7d66-49b2-8284-5087fb4d75f4",
   "metadata": {},
   "source": [
    "```\n",
    "git switch gh-pages\n",
    "git add .\n",
    "git commit -m .\n",
    "git switch main\n",
    "git add .\n",
    "git commit -m .\n",
    "git push\n",
    "```"
   ]
  },
  {
   "cell_type": "markdown",
   "id": "ee5c8e53-d670-452a-8f4e-e18c5b45f288",
   "metadata": {},
   "source": [
    "```{python}\n",
    "!ls\n",
    "```"
   ]
  },
  {
   "cell_type": "markdown",
   "id": "8fe8a132-caee-49e4-b20c-e55e3bb4cd9f",
   "metadata": {},
   "source": [
    "리눅스 명령어 주피터 노트북에서 쓰기"
   ]
  },
  {
   "cell_type": "markdown",
   "id": "add6d262-fd5a-41b6-83e1-f1ec7aa2bc50",
   "metadata": {},
   "source": [
    "```{python}\n",
    "!ls ..\n",
    "```"
   ]
  },
  {
   "cell_type": "markdown",
   "id": "aff6db9c-67fc-466e-b2dc-d1782e416754",
   "metadata": {},
   "source": [
    "상위 목록 보기"
   ]
  },
  {
   "cell_type": "markdown",
   "id": "4772d7a9-2001-43b6-b473-00d921dfd019",
   "metadata": {},
   "source": [
    "```{python}\n",
    "!ls .. > ttt.txt\n",
    "```"
   ]
  },
  {
   "cell_type": "markdown",
   "id": "b5527b4b-4a4c-4066-a968-69f06d7a3c81",
   "metadata": {},
   "source": [
    "상위 폴더에 있는 파일 이름들 txt파일로 만들기"
   ]
  },
  {
   "cell_type": "markdown",
   "id": "ae029866-a533-4ed7-a40c-93e4e7760f58",
   "metadata": {},
   "source": [
    "```{python}\n",
    "!cat ttt.txt\n",
    "```"
   ]
  },
  {
   "cell_type": "markdown",
   "id": "3fb8ad28-cfae-4f5d-a01e-5383a097a498",
   "metadata": {},
   "source": [
    "파일 확인 하는 방법"
   ]
  },
  {
   "cell_type": "markdown",
   "id": "30610e89-933a-439d-b3d2-c51f647f4acc",
   "metadata": {},
   "source": [
    "```{python}\n",
    "!chmod +x ddd.sh\n",
    "```"
   ]
  },
  {
   "cell_type": "markdown",
   "id": "90ed1fc0-3e64-4fc8-9af2-8a56de3a034c",
   "metadata": {},
   "source": [
    "::: {.callout-note}\n",
    "리눅스에서 cat 명령어는 concatenate(연결)의 약자로, 파일의 내용을 화면에 출력하거나 파일을 합쳐주는 데 사용됩니다. 주로 텍스트 파일의 내용을 확인하거나 여러 파일을 하나로 합칠 때 사용됩니다.\n",
    "\n",
    ":::\n"
   ]
  },
  {
   "cell_type": "markdown",
   "id": "25e2b922-b535-43b5-b1c7-41899d0e3233",
   "metadata": {},
   "source": [
    "```{python}\n",
    "fnames=(\n",
    "    \"sss.txt\"\n",
    ")\n",
    "for fname in \"${fnames[@]}\"; do\n",
    "    echo \"File: $fname\"\n",
    "    cat \"../1dayhw/$fname\"\n",
    "    echo \"----------------\"\n",
    "done\n",
    "```"
   ]
  },
  {
   "cell_type": "markdown",
   "id": "941700c4-0f62-48f2-b716-bef5b5bb433b",
   "metadata": {},
   "source": [
    "# 실습14: quarto publish 의 동작이해 (강의용 윈도우 컴퓨터)"
   ]
  },
  {
   "cell_type": "markdown",
   "id": "72f7530c-8a02-4bbf-ae90-e59fed55c895",
   "metadata": {},
   "source": [
    "질문1: git add . \n",
    "\n",
    "-> git commit -m .\n",
    "\n",
    "-> git push\n",
    "\n",
    "-> quarto publish –no-browser –no-prompt 순서로 꼭 업로드 해야하는가?\n",
    "\n",
    "그냥 단순히 “quarto publish –no-browser –no-prompt” 만 하면 안되는가?"
   ]
  },
  {
   "cell_type": "markdown",
   "id": "92f7ed23-15a0-4eaf-96e4-855abf452961",
   "metadata": {},
   "source": [
    "## 실습13: 숙제검사 "
   ]
  },
  {
   "cell_type": "markdown",
   "id": "dcbb791f-0ff6-4fd4-b0a4-cb8534a581f6",
   "metadata": {},
   "source": [
    "`-` 이거 클론하세요"
   ]
  },
  {
   "cell_type": "markdown",
   "id": "6b7ed6b0-831e-4cc2-a9e7-471ef516b80c",
   "metadata": {},
   "source": [
    "`-` 방법1"
   ]
  },
  {
   "cell_type": "code",
   "execution_count": null,
   "id": "68e63261-c91d-4528-811c-8c02300e0d82",
   "metadata": {
    "tags": []
   },
   "outputs": [
    {
     "name": "stdout",
     "output_type": "stream",
     "text": [
      "baek_gm.txt   guebin.txt     jinsil.txt   seongjoon.txt\n",
      "choyun.txt    handoehee.txt  junhan.txt   seunghoon.txt\n",
      "coco.txt      hyeonji.txt    leejjae.txt  soonwon.txt\n",
      "daehyeon.txt  jeongmin.txt   mingu.txt\t  suwhan.txt\n"
     ]
    }
   ],
   "source": [
    "!ls ../1dayhw "
   ]
  },
  {
   "cell_type": "code",
   "execution_count": null,
   "id": "ed7234d8-a2e3-46ce-97e9-e1b62f3c9a65",
   "metadata": {
    "tags": []
   },
   "outputs": [],
   "source": [
    "!cat ../1dayhw/choyun.txt"
   ]
  },
  {
   "cell_type": "markdown",
   "id": "ec085934-396c-4dc0-896a-f34b4d20ebd2",
   "metadata": {},
   "source": [
    "`-` 방법2"
   ]
  },
  {
   "cell_type": "code",
   "execution_count": null,
   "id": "ede647f3-cd47-41eb-af93-4da77e9c7bf8",
   "metadata": {
    "tags": []
   },
   "outputs": [],
   "source": [
    "!ls ../1dayhw > fnames.txt"
   ]
  },
  {
   "cell_type": "code",
   "execution_count": null,
   "id": "1d5bf07e-97cb-44a2-b6a4-c6d1be023085",
   "metadata": {
    "tags": []
   },
   "outputs": [],
   "source": [
    "!chmod +x show.sh"
   ]
  },
  {
   "cell_type": "code",
   "execution_count": null,
   "id": "6f3527c0-661e-499f-87e3-4c183af03847",
   "metadata": {
    "tags": []
   },
   "outputs": [],
   "source": [
    "#!./show.sh"
   ]
  },
  {
   "cell_type": "markdown",
   "id": "9fd94142-cdf1-4e12-b776-c442859219da",
   "metadata": {},
   "source": [
    "`sh` 확장자는 bash로 하자"
   ]
  },
  {
   "cell_type": "markdown",
   "id": "346b99c3-c7dd-41e3-9919-1c5b08dd0d48",
   "metadata": {},
   "source": [
    "`-` 방법3: 아래의 파일을 생성하고 출력 "
   ]
  },
  {
   "cell_type": "markdown",
   "id": "6d92e15c-be13-478b-b0f8-d251ba96b7f0",
   "metadata": {},
   "source": [
    "```{.bash filename=\"show2.sh\"}\n",
    "fnames=(\n",
    "    \"baek_gm.txt\" \"guebin.txt\" \"jinsil.txt\" \"seongjoon.txt\"\n",
    "    \"choyun.txt\" \"handoehee.txt\" \"junhan.txt\" \"seunghoon.txt\"\n",
    "    \"coco.txt\" \"hyeonji.txt\" \"leejjae.txt\" \"soonwon.txt\"\n",
    "    \"daehyeon.txt\" \"jeongmin.txt\" \"mingu.txt\" \"suwhan.txt\"\n",
    ")\n",
    "for fname in \"${fnames[@]}\"; do\n",
    "    echo \"File: $fname\"\n",
    "    cat \"../1dayhw/$fname\"\n",
    "    echo \"----------------\"\n",
    "done\n",
    "```"
   ]
  },
  {
   "cell_type": "code",
   "execution_count": null,
   "id": "35f25bad-e3a3-4371-ae3c-44f8c096995e",
   "metadata": {
    "tags": []
   },
   "outputs": [],
   "source": [
    "#!bash show2.sh"
   ]
  },
  {
   "cell_type": "markdown",
   "id": "bf27a4e1-5ee6-433b-9479-389c13e5690d",
   "metadata": {
    "tags": []
   },
   "source": [
    "`-` `./show2.sh` 와 `bash show2.sh` 의 차이? \n",
    "\n",
    "- 스크립트의 권한, 셸 지정\n",
    "- 잘 모르겠어요"
   ]
  },
  {
   "cell_type": "markdown",
   "id": "13cf9ab9-ed58-49c4-beb2-e52ffb073015",
   "metadata": {},
   "source": [
    "::: {.callout-note}\n",
    "`!bash show.sh` 명령어는 show.sh 스크립트를 Bash 셸에서 실행하는 명령어입니다. 이 명령어는 일반적으로 사용자가 현재 셸에서 직접 스크립트를 실행하고자 할 때 사용됩니다.\n",
    ":::"
   ]
  },
  {
   "cell_type": "markdown",
   "id": "bb34c2e4-6b2d-4445-961b-f0e58ab218d5",
   "metadata": {},
   "source": [
    "---"
   ]
  },
  {
   "cell_type": "markdown",
   "id": "959b1521-f68f-40b4-8fdb-336add77bea5",
   "metadata": {},
   "source": [
    "저 숙제를 바탕으로 183 컴퓨터에 계정을 생성했습니다. "
   ]
  },
  {
   "cell_type": "markdown",
   "id": "07dd0411-ffe1-4e84-b37d-3e6a718fff00",
   "metadata": {},
   "source": [
    "***그냥 참고용.. 이렇게도 가능함 ㅎㅎ***"
   ]
  },
  {
   "cell_type": "code",
   "execution_count": null,
   "id": "76793745-5371-4ee9-a96a-2e28af93a8a1",
   "metadata": {
    "tags": []
   },
   "outputs": [],
   "source": [
    "file_names = [\n",
    "    \"baek_gm\", \"guebin\", \"jinsil\", \"seongjoon\",\n",
    "    \"choyun\", \"handoehee\", \"junhan\", \"seunghoon\",\n",
    "    \"coco\", \"hyeonji\", \"leejjae\", \"soonwon\",\n",
    "    \"daehyeon\", \"jeongmin\", \"mingu\", \"suwhan\"\n",
    "]"
   ]
  },
  {
   "cell_type": "code",
   "execution_count": null,
   "id": "19fc6765-dd61-4612-9b72-96c16b1e22c2",
   "metadata": {
    "tags": []
   },
   "outputs": [
    {
     "name": "stdout",
     "output_type": "stream",
     "text": [
      "adduser baek_gm --gecos \"\" --disabled-password && echo \"baek_gm:jbnu\" | chpasswd && usermod -aG sudo baek_gm\n",
      "adduser guebin --gecos \"\" --disabled-password && echo \"guebin:jbnu\" | chpasswd && usermod -aG sudo guebin\n",
      "adduser jinsil --gecos \"\" --disabled-password && echo \"jinsil:jbnu\" | chpasswd && usermod -aG sudo jinsil\n",
      "adduser seongjoon --gecos \"\" --disabled-password && echo \"seongjoon:jbnu\" | chpasswd && usermod -aG sudo seongjoon\n",
      "adduser choyun --gecos \"\" --disabled-password && echo \"choyun:jbnu\" | chpasswd && usermod -aG sudo choyun\n",
      "adduser handoehee --gecos \"\" --disabled-password && echo \"handoehee:jbnu\" | chpasswd && usermod -aG sudo handoehee\n",
      "adduser junhan --gecos \"\" --disabled-password && echo \"junhan:jbnu\" | chpasswd && usermod -aG sudo junhan\n",
      "adduser seunghoon --gecos \"\" --disabled-password && echo \"seunghoon:jbnu\" | chpasswd && usermod -aG sudo seunghoon\n",
      "adduser coco --gecos \"\" --disabled-password && echo \"coco:jbnu\" | chpasswd && usermod -aG sudo coco\n",
      "adduser hyeonji --gecos \"\" --disabled-password && echo \"hyeonji:jbnu\" | chpasswd && usermod -aG sudo hyeonji\n",
      "adduser leejjae --gecos \"\" --disabled-password && echo \"leejjae:jbnu\" | chpasswd && usermod -aG sudo leejjae\n",
      "adduser soonwon --gecos \"\" --disabled-password && echo \"soonwon:jbnu\" | chpasswd && usermod -aG sudo soonwon\n",
      "adduser daehyeon --gecos \"\" --disabled-password && echo \"daehyeon:jbnu\" | chpasswd && usermod -aG sudo daehyeon\n",
      "adduser jeongmin --gecos \"\" --disabled-password && echo \"jeongmin:jbnu\" | chpasswd && usermod -aG sudo jeongmin\n",
      "adduser mingu --gecos \"\" --disabled-password && echo \"mingu:jbnu\" | chpasswd && usermod -aG sudo mingu\n",
      "adduser suwhan --gecos \"\" --disabled-password && echo \"suwhan:jbnu\" | chpasswd && usermod -aG sudo suwhan\n"
     ]
    }
   ],
   "source": [
    "for username in file_names:\n",
    "    print(f'adduser {username} --gecos \"\" --disabled-password && echo \"{username}:jbnu\" | chpasswd && usermod -aG sudo {username}')"
   ]
  },
  {
   "cell_type": "markdown",
   "id": "17c3ac17-c15a-46ec-af79-bc43256b1f78",
   "metadata": {},
   "source": [
    "---"
   ]
  },
  {
   "cell_type": "markdown",
   "id": "51c67a05-8b3b-4f9c-8298-e935e3179376",
   "metadata": {},
   "source": [
    "## 실습14: 183 컴퓨터 접속 + passwd"
   ]
  },
  {
   "cell_type": "markdown",
   "id": "6149f733-e082-4a95-8c73-5d36eecd31de",
   "metadata": {},
   "source": [
    "```\n",
    "passwd\n",
    "```"
   ]
  },
  {
   "cell_type": "markdown",
   "id": "45d37db6-0aa2-4e30-aa51-c601a6ffa51a",
   "metadata": {},
   "source": [
    "## 실습15: 183에서 git의 설치 및 연결"
   ]
  },
  {
   "cell_type": "markdown",
   "id": "d849f1a0-a654-4c6d-b156-dde9f8626100",
   "metadata": {},
   "source": [
    "```\n",
    "which git\n",
    "```"
   ]
  },
  {
   "cell_type": "code",
   "execution_count": 4,
   "id": "ceb5628c-2187-4422-b6ca-ccb09209235f",
   "metadata": {},
   "outputs": [
    {
     "name": "stdout",
     "output_type": "stream",
     "text": [
      "/usr/bin/git\n"
     ]
    }
   ],
   "source": [
    "!which git"
   ]
  },
  {
   "cell_type": "markdown",
   "id": "f4096389-5535-489f-9dd8-90a0a9a04246",
   "metadata": {},
   "source": [
    "- 위치 확인"
   ]
  },
  {
   "cell_type": "markdown",
   "id": "55f60903-ab00-43e1-b29f-4be02e4a48c2",
   "metadata": {},
   "source": [
    "```\n",
    "ls gi*\n",
    "```"
   ]
  },
  {
   "cell_type": "markdown",
   "id": "c1a9b27a-249a-4f14-8357-0edc99c809a0",
   "metadata": {},
   "source": [
    "gi로 시작되는 파일들 찾아줘"
   ]
  },
  {
   "cell_type": "markdown",
   "id": "fe0229a4-4d37-4a64-ac58-1b4e8c7e3d78",
   "metadata": {},
   "source": [
    "```\n",
    "sudo apt-get install git\n",
    "```"
   ]
  },
  {
   "cell_type": "markdown",
   "id": "04b31a89-b2b1-4b18-a485-662c063a26fc",
   "metadata": {},
   "source": [
    "- 리눅스 배포판에서 사용되는 패키지 관리 도구인 apt-get"
   ]
  },
  {
   "cell_type": "markdown",
   "id": "1340696d-f4ff-491b-9f21-9ef0a220ff77",
   "metadata": {},
   "source": [
    "설치"
   ]
  },
  {
   "cell_type": "markdown",
   "id": "61f82b44-45fd-40c6-969f-aa36c1b2d9c9",
   "metadata": {},
   "source": [
    "```\n",
    "sudo apt-get remove git\n",
    "```"
   ]
  },
  {
   "cell_type": "markdown",
   "id": "aad35c46-91a4-48c2-98b7-888de60ffb1f",
   "metadata": {},
   "source": [
    "삭제"
   ]
  },
  {
   "cell_type": "markdown",
   "id": "6487860c-eabd-4f77-9dae-6a6342296444",
   "metadata": {},
   "source": [
    "::: {.callout-note}\n",
    "일반 사용자, 슈퍼 사용자, 루트 사용자는 리눅스 및 유닉스 기반 운영 체제에서 사용되는 용어로 각각 다른 권한 수준을 나타냅니다.\n",
    "\n",
    "1. **일반 사용자 (Regular User):**\n",
    "   - 일반적인 사용자 계정으로, 시스템에 로그인하여 일반적인 작업을 수행합니다.\n",
    "   - 시스템 리소스 및 파일에 대한 접근 권한이 제한적입니다.\n",
    "   - 시스템 전반을 관리하거나 변경할 수 있는 특별한 권한이 없습니다.\n",
    "\n",
    "2. **슈퍼 사용자 (Superuser 또는 sudoer):**\n",
    "   - 일반 사용자 중에서 일시적으로 슈퍼 사용자의 권한을 얻을 수 있는 계정을 의미합니다.\n",
    "   - `sudo` 명령어를 사용하여 특정 명령어나 작업을 슈퍼 사용자 권한으로 실행할 수 있습니다.\n",
    "   - 필요한 경우, `sudo` 명령어를 사용하여 일시적으로 루트 권한을 얻을 수 있습니다.\n",
    "\n",
    "3. **루트 사용자 (Root User):**\n",
    "   - 시스템에서 최상위 권한을 가진 사용자로, 시스템의 모든 부분에 접근하고 모든 작업을 수행할 수 있습니다.\n",
    "   - 일반적으로 시스템의 관리자 또는 슈퍼 사용자로서 시스템의 설정, 관리, 유지보수 등을 책임집니다.\n",
    "   - 보안상의 이유로, 루트 계정으로 로그인하는 것은 권장되지 않으며, 슈퍼 사용자 계정을 통해 필요한 경우에만 루트 권한을 얻는 것이 일반적입니다.\n",
    "\n",
    "요약하면, 루트 사용자는 시스템에서 모든 권한을 가지며, 슈퍼 사용자는 필요에 따라 일시적으로 슈퍼 사용자 권한을 얻을 수 있습니다. 그리고 일반 사용자는 보다 제한된 권한을 갖고 일반적인 사용자 작업을 수행합니다.\n",
    ":::\n"
   ]
  },
  {
   "cell_type": "markdown",
   "id": "cfcd997e-7882-46a1-a7a8-96daa8d54c7b",
   "metadata": {},
   "source": [
    "## 실습16: 183에서 quarto의 설치"
   ]
  },
  {
   "cell_type": "markdown",
   "id": "dfce7c7a-4436-4096-8225-de6e73546f82",
   "metadata": {},
   "source": [
    "- which quarto \n",
    "- wget https://github.com/quarto-dev/quarto-cli/releases/download/v1.4.533/quarto-1.4.533-linux-amd64.deb"
   ]
  },
  {
   "cell_type": "markdown",
   "id": "03bb4597-f352-4cba-997b-60d1d9df1e62",
   "metadata": {},
   "source": [
    "```\n",
    "cd ~\n",
    "```"
   ]
  },
  {
   "cell_type": "markdown",
   "id": "40e6cf5c-fd6b-4d94-bd8b-9ff3d9e69e23",
   "metadata": {},
   "source": [
    "최상위 폴더"
   ]
  },
  {
   "cell_type": "markdown",
   "id": "39ab85c2-9b08-4846-91d8-9674664844fd",
   "metadata": {},
   "source": [
    "```\n",
    "sudo dpkg -i quarto-1.4.533-linux-amd64.deb \n",
    "```"
   ]
  },
  {
   "cell_type": "markdown",
   "id": "97ad46db-4860-430b-bd9a-1e18c942ca3e",
   "metadata": {},
   "source": [
    "```\n",
    "sudo dpkg -r quarto \n",
    "```"
   ]
  },
  {
   "cell_type": "markdown",
   "id": "d5af3f2d-aa61-4116-840e-cabcc4843582",
   "metadata": {},
   "source": [
    "`i`는 install `r`은 remove"
   ]
  },
  {
   "cell_type": "markdown",
   "id": "a2a29167-592a-4f51-9f02-d27efac46a79",
   "metadata": {},
   "source": [
    "## 실습17: 183에서 아나콘다 설치"
   ]
  },
  {
   "cell_type": "markdown",
   "id": "6fba9a73-80de-40d7-87f2-a434ccc80483",
   "metadata": {},
   "source": [
    "- https://www.anaconda.com/download <- 여기서 다운받을 수 있는 주소 get 하세여\n",
    "- bash Anaconda3-2019.03-Linux-x86_64.sh"
   ]
  },
  {
   "cell_type": "markdown",
   "id": "1d846747-b09b-45c9-99bb-504a3b8d852e",
   "metadata": {},
   "source": [
    "아나콘다와 git/quarto의 차이는? "
   ]
  },
  {
   "cell_type": "markdown",
   "id": "29f8700a-b5f3-437a-a83c-9dac2b4f0afc",
   "metadata": {},
   "source": [
    "## 실습18: 183에서 주피터랩 설치"
   ]
  },
  {
   "cell_type": "markdown",
   "id": "a47ec6b7-51da-40f7-b19d-205181cba7b4",
   "metadata": {
    "tags": []
   },
   "source": [
    "- conda create py310 python=3.10\n",
    "- conda activate py310 \n",
    "- conda install -c conda-forge jupyterlab \n",
    "- conda install -c conda-forge notebook "
   ]
  },
  {
   "cell_type": "markdown",
   "id": "58e9095a-3034-4606-819c-f251ebfae980",
   "metadata": {},
   "source": [
    "`-` 접속하는 방법1"
   ]
  },
  {
   "cell_type": "markdown",
   "id": "4fb8d529-cd85-4d3b-b9cd-4c9628f0c0ef",
   "metadata": {},
   "source": [
    "주피터 오픈 후"
   ]
  },
  {
   "cell_type": "markdown",
   "id": "ba39c70a-21e1-4e8c-8fba-119ef54d5d8e",
   "metadata": {},
   "source": [
    "```\n",
    "jupyter lab --ip=\"0.0.0.0\" --port={8888}\n",
    "```"
   ]
  },
  {
   "cell_type": "markdown",
   "id": "9d67367a-fc40-42df-a56a-eb5175d1ffc6",
   "metadata": {},
   "source": [
    "http://127.0.0.1:1212/lab?token=b07f224ffe23a846b907c496234868acfb52bc381df8f4fd\n",
    "\n",
    "->\n",
    "\n",
    "http://210.117.173.183:1212/lab?token=b07f224ffe23a846b907c496234868acfb52bc381df8f4fd\n",
    "\n",
    "ip 바꿔서 들어가면 됌"
   ]
  },
  {
   "cell_type": "markdown",
   "id": "1d68627a-c439-4488-968d-bb35bfeeafad",
   "metadata": {
    "tags": []
   },
   "source": [
    "`-` 접속하는 방법2"
   ]
  },
  {
   "cell_type": "markdown",
   "id": "ade9a717-b368-4cdc-9bd3-b5be6c6291dc",
   "metadata": {},
   "source": [
    "- jupyter notebook password"
   ]
  },
  {
   "cell_type": "markdown",
   "id": "9d662768-27a4-4819-961b-fa56a0a34bfa",
   "metadata": {},
   "source": [
    "비밀번호 설정해서 들어가기"
   ]
  },
  {
   "cell_type": "markdown",
   "id": "321e64d2-a3cc-4e83-af75-3e72ee006c6d",
   "metadata": {},
   "source": [
    "이번엔 ip 치고 들어가기"
   ]
  },
  {
   "cell_type": "markdown",
   "id": "5523cefe-db8b-4eae-90d6-7b1f3ede34ae",
   "metadata": {},
   "source": [
    "```\n",
    "jupyter lab --ip=\"210.117.178.183\" --port={8888}\n",
    "```"
   ]
  },
  {
   "cell_type": "markdown",
   "id": "26160851-ce93-403c-b21d-b71aaa33dcf5",
   "metadata": {},
   "source": [
    "## 실습19: 1일차 숙제 쉽게 하는 방법"
   ]
  },
  {
   "cell_type": "markdown",
   "id": "55b751ea-9da2-493c-b88c-7d378c33f4cb",
   "metadata": {},
   "source": [
    "https://guebin.github.io/IP2022/2022/03/28/(4주차)-3월28일.html"
   ]
  },
  {
   "cell_type": "markdown",
   "id": "a3934c49-c5a5-4de4-9efb-604174a472d4",
   "metadata": {},
   "source": [
    "`-` 깃헙에서 홈페이지 만들경우 대응하는 레포지토리를 찾으면 쉽게 복사가능."
   ]
  },
  {
   "cell_type": "code",
   "execution_count": null,
   "id": "13a6036c-0f70-4560-a66e-dde16e95494c",
   "metadata": {
    "tags": []
   },
   "outputs": [],
   "source": [
    "#!wget \"https://raw.githubusercontent.com/guebin/IP2022/master/_notebooks/2022-03-28-(4%EC%A3%BC%EC%B0%A8)%203%EC%9B%9428%EC%9D%BC.ipynb\""
   ]
  },
  {
   "cell_type": "markdown",
   "id": "14c25c3a-c033-4269-b3ab-6ad3a7ce854c",
   "metadata": {},
   "source": [
    "```\n",
    "!wget 주소 or !wget \"주소\"\n",
    "```"
   ]
  },
  {
   "cell_type": "markdown",
   "id": "a8988148-a689-4052-80ce-b3954ea1ffee",
   "metadata": {},
   "source": [
    "## 실습20: 블로그 꾸미기"
   ]
  },
  {
   "cell_type": "markdown",
   "id": "041b7ef3-8da7-4761-9b55-3faeb5c8d9ae",
   "metadata": {},
   "source": [
    "## 실습21: 이미지 그리기 (슈퍼유저)"
   ]
  },
  {
   "cell_type": "markdown",
   "id": "775fcf96-3d53-4958-bb4d-3f1f21d95f43",
   "metadata": {},
   "source": [
    "`-` 방법1"
   ]
  },
  {
   "cell_type": "code",
   "execution_count": null,
   "id": "87ac7753-06b9-4a1a-ba9d-aa38abd7f358",
   "metadata": {
    "tags": []
   },
   "outputs": [
    {
     "name": "stdout",
     "output_type": "stream",
     "text": [
      "--2024-01-03 14:08:48--  https://imgs.xkcd.com/comics/sandwich.png\n",
      "Resolving imgs.xkcd.com (imgs.xkcd.com)... 146.75.48.67, 2a04:4e42:7c::67\n",
      "Connecting to imgs.xkcd.com (imgs.xkcd.com)|146.75.48.67|:443... connected.\n",
      "HTTP request sent, awaiting response... 200 OK\n",
      "Length: 11828 (12K) [image/png]\n",
      "Saving to: ‘sandwich.png’\n",
      "\n",
      "sandwich.png        100%[===================>]  11.55K  --.-KB/s    in 0s      \n",
      "\n",
      "2024-01-03 14:08:48 (69.3 MB/s) - ‘sandwich.png’ saved [11828/11828]\n",
      "\n"
     ]
    }
   ],
   "source": [
    "!wget https://imgs.xkcd.com/comics/sandwich.png"
   ]
  },
  {
   "cell_type": "code",
   "execution_count": null,
   "id": "49a96cb0-2289-42fb-bf39-de5f4d2cbde1",
   "metadata": {},
   "outputs": [],
   "source": [
    "# ![](sandwich.png)"
   ]
  },
  {
   "cell_type": "markdown",
   "id": "55976051-6317-42f5-8c05-79d67e4bcb12",
   "metadata": {},
   "source": [
    "`-` 방법2"
   ]
  },
  {
   "cell_type": "code",
   "execution_count": null,
   "id": "43ca1559-05c1-4024-b9c0-4b46b6a56f09",
   "metadata": {
    "tags": []
   },
   "outputs": [],
   "source": [
    "# ![](https://imgs.xkcd.com/comics/sandwich.png)"
   ]
  },
  {
   "cell_type": "markdown",
   "id": "8bf82d4a-368d-4d27-8b42-a0d9d86794f3",
   "metadata": {},
   "source": [
    "`-` 방법3: 스크린샷 "
   ]
  },
  {
   "cell_type": "markdown",
   "id": "f2df0b67-c160-4b3a-b753-064fdd82e111",
   "metadata": {
    "tags": []
   },
   "source": [
    "## 실습22: 182 ssh차단 우회하기 (배운적X)"
   ]
  },
  {
   "cell_type": "markdown",
   "id": "9f527bed-bb65-498f-8442-1acb4c89abad",
   "metadata": {},
   "source": [
    "```\n",
    "sudo vi /etc/ssh/sshd_config \n",
    "```"
   ]
  },
  {
   "cell_type": "markdown",
   "id": "fb23ac66-fe6b-4599-8839-cf15b96cb88f",
   "metadata": {},
   "source": [
    "원래 기본으로 22번으로 인식해서 포트 번호 입력 안 해도 ssh로 들어갈 수 있었음.\n",
    "\n",
    "위 코드에서 port 주석처리 풀어주고 포트 번호 지정해준 후"
   ]
  },
  {
   "cell_type": "markdown",
   "id": "928413a5-9eed-48d4-be1f-335740e1284c",
   "metadata": {},
   "source": [
    "```\n",
    "sudo systemctl restart ssh.service\n",
    "```"
   ]
  },
  {
   "cell_type": "markdown",
   "id": "3fe0725b-d684-43f7-a36b-d58b548e8a1f",
   "metadata": {},
   "source": [
    "하면 ssh 이름@0.0.0.0 -p 번호\n",
    "\n",
    "로 들어갈 수 있음"
   ]
  },
  {
   "cell_type": "markdown",
   "id": "83f87954-7a09-4faa-9cfd-2994627c01ae",
   "metadata": {
    "tags": []
   },
   "source": [
    "## 실습23: 186 컴퓨터 접속"
   ]
  },
  {
   "cell_type": "markdown",
   "id": "90009911-e009-4e34-a62a-81ad727bd753",
   "metadata": {
    "tags": []
   },
   "source": [
    "## 실습24: 186 ssh차단 우회하기 (배운적X)"
   ]
  },
  {
   "cell_type": "markdown",
   "id": "f831e3db-09cf-4b98-9b5a-d7da521bdaca",
   "metadata": {
    "tags": []
   },
   "source": [
    "## 실습25: 186 컴퓨터 개발환경 셋팅하기"
   ]
  },
  {
   "cell_type": "markdown",
   "id": "fab384d2-341b-4f8f-8b96-9ae4c879a834",
   "metadata": {},
   "source": [
    "\n",
    "\n",
    "\n"
   ]
  }
 ],
 "metadata": {
  "kernelspec": {
   "display_name": "Python 3",
   "language": "python",
   "name": "python3"
  },
  "language_info": {
   "codemirror_mode": {
    "name": "ipython",
    "version": 3
   },
   "file_extension": ".py",
   "mimetype": "text/x-python",
   "name": "python",
   "nbconvert_exporter": "python",
   "pygments_lexer": "ipython3",
   "version": "3.8.0"
  }
 },
 "nbformat": 4,
 "nbformat_minor": 5
}
