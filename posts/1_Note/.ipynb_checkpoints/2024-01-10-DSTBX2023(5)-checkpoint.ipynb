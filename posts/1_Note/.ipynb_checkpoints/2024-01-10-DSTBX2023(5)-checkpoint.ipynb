{
 "cells": [
  {
   "cell_type": "raw",
   "id": "e328ee05-6d10-4bba-b932-e5d5a53d33a2",
   "metadata": {
    "id": "cac470df-29e7-4148-9bbd-d8b9a32fa570",
    "tags": []
   },
   "source": [
    "---\n",
    "title: \"DSTBX2023(5)\"\n",
    "author: \"SEOYEON CHOI\"\n",
    "date: \"2024-01-10\"\n",
    "---"
   ]
  },
  {
   "cell_type": "markdown",
   "id": "281d1b53-0e3c-40b3-940d-5100cb02973f",
   "metadata": {},
   "source": [
    "## 실습64: docker로 Rstudio 실행하기(실습실 컴퓨터)"
   ]
  },
  {
   "cell_type": "markdown",
   "id": "eb626ea9-098c-4d7c-a23b-f2c63c69d75d",
   "metadata": {},
   "source": [
    "ref: <https://rocker-project.org/>"
   ]
  },
  {
   "cell_type": "markdown",
   "id": "09046151-1000-47ab-90f0-626ceda613bd",
   "metadata": {},
   "source": [
    "`-` 다커실행파일 다운로드 \n",
    "\n",
    "- <https://docs.docker.com/desktop/install/windows-install/>"
   ]
  },
  {
   "cell_type": "markdown",
   "id": "4f0dc168-bc1b-4a38-acc9-576cc2e61adc",
   "metadata": {},
   "source": [
    "`-` docker 이미지 다운로드 \n",
    "\n",
    "**방법1**\n",
    "```bash\n",
    "docker pull rocker/rstudio\n",
    "```\n",
    "\n",
    "**방법2**\n",
    "\n",
    "- 사실 잘 몰라요 ㅎㅎ "
   ]
  },
  {
   "cell_type": "markdown",
   "id": "8c8beca8-8a76-442f-8bd2-e5e8036675ef",
   "metadata": {},
   "source": [
    "`-` 다운받은 이미지 확인하기 "
   ]
  },
  {
   "cell_type": "markdown",
   "id": "97113fa0-ebea-4072-a081-492f8c919f7c",
   "metadata": {
    "tags": []
   },
   "source": [
    "**방법1**\n",
    "```bash\n",
    "docker images\n",
    "```\n",
    "\n",
    "**방법2**\n",
    "\n",
    "- GUI"
   ]
  },
  {
   "cell_type": "markdown",
   "id": "b8539544-0c97-4a05-ab67-57077d087e3b",
   "metadata": {},
   "source": [
    "`-` 이미지에서 컨테이너생성 (컨테이너는 인스턴스라고 생각하자..)"
   ]
  },
  {
   "cell_type": "markdown",
   "id": "4de83238-91c6-4781-a902-19b907b80c43",
   "metadata": {
    "tags": []
   },
   "source": [
    "**방법1**\n",
    "\n",
    "```bash\n",
    "docker run -ti -e PASSWORD=\"jbnu\" -p 8787:8787 rocker/rstudio\n",
    "```\n",
    "\n",
    "**방법2**\n",
    "\n",
    "- GUI"
   ]
  },
  {
   "cell_type": "markdown",
   "id": "367b9d06-01ac-4e2d-8f33-9d62dd1c795b",
   "metadata": {},
   "source": [
    "::: {.callout-note}\n",
    "`rocker/rstudio`\n",
    "\n",
    "이게 이미지\n",
    "\n",
    "비밀번호는 큰 따옴표로 하거나 아예 안 쓰기\n",
    ":::"
   ]
  },
  {
   "cell_type": "markdown",
   "id": "31a4ec0a-fe19-4a45-abc9-413b4159dab4",
   "metadata": {},
   "source": [
    "::: {.callout-tip}\n",
    "이미지는 python의 class\n",
    "\n",
    "컨테이너는 python의 함수\n",
    ":::"
   ]
  },
  {
   "cell_type": "markdown",
   "id": "281b2ec1-c1f5-4e4b-8b13-70f9c1bef052",
   "metadata": {},
   "source": [
    "::: {.callout-tip}\n",
    "docker run: Docker 컨테이너를 실행하는 명령어.\n",
    "\n",
    "-ti: 터미널 상호작용을 가능하게 하는 옵션으로, 이 옵션을 사용하면 컨테이너가 실행되면서 사용자와 상호작용할 수 있습니다.\n",
    "\n",
    "-e PASSWORD=\"jbnu\": 컨테이너 내부에서 사용할 RStudio Server의 비밀번호를 설정하는 옵션입니다. 이 예제에서는 \"jbnu\"로 비밀번호를 설정했습니다.\n",
    "\n",
    "-p 8787:8787: 호스트 머신의 8787 포트를 컨테이너의 8787 포트와 연결하는 옵션입니다. RStudio Server는 기본적으로 8787 포트에서 실행됩니다.\n",
    "\n",
    "rocker/rstudio: Docker 이미지의 이름입니다. rocker는 R언어 및 RStudio를 설치하고 설정한 이미지입니다.\n",
    ":::"
   ]
  },
  {
   "cell_type": "markdown",
   "id": "0310752c-1f4f-4dae-894f-d508a240e0f1",
   "metadata": {},
   "source": [
    "::: {.callout-tip}\n",
    "`docker ps -a`\n",
    "\n",
    "실행했던 ( 과거의 히스토리까지) 모든 결과 보여줌\n",
    "\n",
    "`docker ps`\n",
    "\n",
    "현재 실행하는 컨테이너 보여줌\n",
    "\n",
    "`docker images`\n",
    "\n",
    "현재 있는 이미지 보여줌\n",
    ":::"
   ]
  },
  {
   "cell_type": "markdown",
   "id": "e6a398c4-ecf3-4c1d-b357-985a2feb9868",
   "metadata": {},
   "source": [
    "::: {.callout-tip}\n",
    "이미지의 컨테이너에 들어가서 r 작업하면\n",
    "\n",
    "컨테이너 꺼도 다시 시작하면 히스토리가 남아있음\n",
    "\n",
    "--> 이 말은 컨테이너 끄고 컨테이너 삭제해야 이미지도 삭제할 수 있다는 뜻\n",
    ":::"
   ]
  },
  {
   "cell_type": "markdown",
   "id": "962f8df5-5acf-4b0a-8fdb-d2d2828ed84a",
   "metadata": {},
   "source": [
    "::: {.callout-note}\n",
    "어떻게 돌아가느냐 - 컨테이너에 패키지 다 설치해서 그걸 share 해 그 share 한 공간에서 추가 패키지 설치하든 알아서 사용 가능 \n",
    ":::"
   ]
  },
  {
   "cell_type": "markdown",
   "id": "4140aaf6-a5ec-42af-bc30-08251b358548",
   "metadata": {},
   "source": [
    "`-` Rstudio 사용"
   ]
  },
  {
   "cell_type": "markdown",
   "id": "c1b80332-b330-4a4f-ac86-dbb04219ea55",
   "metadata": {},
   "source": [
    "## 실습65: docker로 ubuntu 실행하기(실습실 컴퓨터)"
   ]
  },
  {
   "cell_type": "markdown",
   "id": "f5aa1baf-68b5-41a9-8802-ac4652ac1ad3",
   "metadata": {},
   "source": [
    "`-` 우분투 이미지 다운로드 \n",
    "\n",
    "```bash\n",
    "docker pull ubuntu\n",
    "```"
   ]
  },
  {
   "cell_type": "markdown",
   "id": "3ea6980c-a21f-47fe-8bb4-de6b9f85cf14",
   "metadata": {},
   "source": [
    "`-` 실행 "
   ]
  },
  {
   "cell_type": "markdown",
   "id": "081954ad-8e14-4471-bd46-127dfbec5cf6",
   "metadata": {},
   "source": [
    "```bash\n",
    "docker run -ti -d -t ubuntu /bin/bash\n",
    "docker exec -ti {넣고 싶은 name 쓰기} bash \n",
    "```"
   ]
  },
  {
   "cell_type": "markdown",
   "id": "1a55b4ef-bc22-4d2d-b017-e77589233753",
   "metadata": {},
   "source": [
    "## 실습65: docker로 ubuntu 실행하기 (183컴퓨터)"
   ]
  },
  {
   "cell_type": "markdown",
   "id": "6240314d-1d2f-4b50-ae73-9584592eedfb",
   "metadata": {},
   "source": [
    "`-` 우분투안에서 우분투 실행 \n",
    "\n",
    "```bash\n",
    "docker run -ti -d -t -p ?????:????? --name guebin ubuntu /bin/bash\n",
    "docker exec -ti guebin bash \n",
    "```"
   ]
  },
  {
   "cell_type": "markdown",
   "id": "e6ba6965-7488-4798-b232-225504f930b1",
   "metadata": {},
   "source": [
    "`-` 아래를 수행 \n",
    "\n",
    "```bash\n",
    "passwd root\n",
    "apt update \n",
    "apt install gcc\n",
    "apt install build-essential\n",
    "apt install vim \n",
    "```"
   ]
  },
  {
   "cell_type": "markdown",
   "id": "2a45d652-f81a-4e4d-8243-7577876968cf",
   "metadata": {},
   "source": [
    "## 실습66: 코드스페이스 사용하기 "
   ]
  },
  {
   "cell_type": "markdown",
   "id": "8db37d6b-b0e7-4de2-b8c3-9fbe28d25ba3",
   "metadata": {},
   "source": [
    "`-` 아래를 이용하여 코드스페이스 설치 "
   ]
  },
  {
   "cell_type": "markdown",
   "id": "2ac063aa-671f-4243-ab5a-b946e5961c26",
   "metadata": {},
   "source": [
    "```bash\n",
    "apt-get install curl\n",
    "curl -Lk 'https://code.visualstudio.com/sha/download?build=stable&os=cli-alpine-x64' --output vscode_cli.tar.gz\n",
    "tar -xf vscode_cli.tar.gz\n",
    "```"
   ]
  },
  {
   "cell_type": "markdown",
   "id": "7b20c916-433e-4364-8475-af0271e85b00",
   "metadata": {},
   "source": [
    "`-` 아래를 이용하여 초기설정 "
   ]
  },
  {
   "cell_type": "markdown",
   "id": "2a2e9002-6f03-4886-bb70-d9e018b4b7d1",
   "metadata": {},
   "source": [
    "```bash\n",
    "./code tunnel \n",
    "```"
   ]
  },
  {
   "cell_type": "markdown",
   "id": "d6d8ab72-d8ff-444a-b180-afc3d41d0408",
   "metadata": {},
   "source": [
    "- 컴퓨터 이름 잘 써야해요... \n",
    "- 외워야 하는 이름이에요.. "
   ]
  },
  {
   "cell_type": "markdown",
   "id": "a33525dd-c6aa-4bd0-a0a1-1a122ce77bc2",
   "metadata": {},
   "source": [
    "::: {.callout-note}\n",
    "두 개 선택하라고 나오는데 여기서 Github Account 선택하고 터미널에서 나온 코드 입력\n",
    ":::"
   ]
  },
  {
   "cell_type": "markdown",
   "id": "41bfd0ab-fa71-4e3e-9755-1c166ff919d9",
   "metadata": {},
   "source": [
    "`-` 코드스페이스 평생켜놓기 \n",
    "\n",
    "```bash\n",
    "nohup ./code tunnel > /dev/null 2>&1 &\n",
    "```"
   ]
  },
  {
   "cell_type": "markdown",
   "id": "c9539c75-0ec3-4a6f-aab3-2a01c958f584",
   "metadata": {},
   "source": [
    "`-` 코드스페이스의 장점\n",
    "\n",
    "- 별도의 포트를 먹지 않는다. \n",
    "- 하나의 창에서 모든 가상환경을 동시에 이용할 수 있다. <-- 제가 이거때문에 씁니당..\n",
    "- 보안접속이 가능하다. "
   ]
  },
  {
   "cell_type": "markdown",
   "id": "b5badc98-1cdd-4657-b72a-46e1a96e1eba",
   "metadata": {},
   "source": [
    "## 실습67: Rstudio 사용하기"
   ]
  },
  {
   "cell_type": "markdown",
   "id": "471d9d0e-8b92-45cb-983d-291066536499",
   "metadata": {},
   "source": [
    "`-` 아래를 이용하여 Rstudio를 설치 (base환경인지 r환경인지는 무의미)"
   ]
  },
  {
   "cell_type": "markdown",
   "id": "46e025c6-3a65-4773-83c4-9f0567994e58",
   "metadata": {},
   "source": [
    "```bash\n",
    "sudo apt-get install gdebi-core\n",
    "wget https://download2.rstudio.org/server/jammy/amd64/rstudio-server-2022.12.0-353-amd64.deb\n",
    "sudo gdebi rstudio-server-2022.12.0-353-amd64.deb\n",
    "```"
   ]
  },
  {
   "cell_type": "markdown",
   "id": "728d7614-d919-4317-a4e8-2dfa445ceb5c",
   "metadata": {},
   "source": [
    "`-` `grst`가 만든 `rstudio-server-conda`를 클론 \n",
    "\n",
    "```bash\n",
    "git clone https://github.com/grst/rstudio-server-conda.git\n",
    "```"
   ]
  },
  {
   "cell_type": "markdown",
   "id": "3f01da4e-8d74-4440-88cb-0a112f3df09c",
   "metadata": {},
   "source": [
    "::: {.callout-note}\n",
    "`local` 파일 들어가서\n",
    "\n",
    "`start_rstudio_server.sh` 를 `vi`로 보기\n",
    "\n",
    "` --www-port=$1 \\`\n",
    " \n",
    " 를\n",
    " \n",
    "  `--www-port=8888` \n",
    "  \n",
    "  원하는 주소로 설정\n",
    "  \n",
    "그 밑에\n",
    "\n",
    "`--auth-minimum-user-id=0 `\n",
    "\n",
    "추가\n",
    ":::"
   ]
  },
  {
   "cell_type": "markdown",
   "id": "f1afe818-8eea-4518-9c34-edb3d527bb47",
   "metadata": {},
   "source": [
    "`-` 내용을 수정\n",
    "\n",
    "```{.bash filename= \"~/rstudio-server-conda/local/start_rstudio_server.sh\"}\n",
    "...\n",
    "blalba\n",
    "...\n",
    "/usr/lib/rstudio-server/bin/rserver --server-daemonize=0 \\\n",
    "  --www-port=????? \\ ### <--- 여기 수정!!!!!\n",
    "  --auth-minimum-user-id=0 \\ ### <--- 여기 추가!!!!!\n",
    "  --secure-cookie-key-file=$COOKIE_KEY_PATH \\\n",
    "  --server-pid-file=\"$CWD/rstudio-server.pid\" \\\n",
    "  --server-data-dir=\"$CWD/rstudio-server\" \\\n",
    "  --rsession-which-r=$(which R) \\\n",
    "  --rsession-ld-library-path=$CONDA_PREFIX/lib \\\n",
    "  --rsession-path=\"$CWD/rsession.sh\" \\\n",
    "  --server-user $USER \\\n",
    "  --database-config-file \"$CWD/database.conf\" \\\n",
    "  $REVOCATION_LIST_PAR\n",
    "```"
   ]
  },
  {
   "cell_type": "markdown",
   "id": "3c4414eb-6eb7-4588-b479-3606e1cdb127",
   "metadata": {},
   "source": [
    "`-` `start_rstudio_server.sh`를 실행 "
   ]
  }
 ],
 "metadata": {
  "kernelspec": {
   "display_name": "Python 3",
   "language": "python",
   "name": "python3"
  },
  "language_info": {
   "codemirror_mode": {
    "name": "ipython",
    "version": 3
   },
   "file_extension": ".py",
   "mimetype": "text/x-python",
   "name": "python",
   "nbconvert_exporter": "python",
   "pygments_lexer": "ipython3",
   "version": "3.8.0"
  }
 },
 "nbformat": 4,
 "nbformat_minor": 5
}
