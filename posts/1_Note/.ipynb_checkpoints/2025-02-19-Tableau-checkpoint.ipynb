{
 "cells": [
  {
   "cell_type": "raw",
   "id": "e0cc2625-8d5c-423a-92d3-db254c2df7eb",
   "metadata": {
    "id": "cac470df-29e7-4148-9bbd-d8b9a32fa570",
    "tags": []
   },
   "source": [
    "---\n",
    "title: \"Tableau\"\n",
    "author: \"SEOYEON CHOI\"\n",
    "date: \"2025-02-19\"\n",
    "---"
   ]
  },
  {
   "cell_type": "markdown",
   "id": "d0d254b0-0a41-4b01-8b70-4232ebcd295c",
   "metadata": {},
   "source": [
    "# Keywords"
   ]
  },
  {
   "cell_type": "markdown",
   "id": "d544e330-890f-4c4f-9a6a-f73d3cf37b85",
   "metadata": {},
   "source": [
    "- 디지털 트랜스포메이션 Digital Transformation = DT\n",
    "- 데이터 리터러시 Data Literacy\n",
    "    - 데이터를 보고 활용힐 수 있는 능력\n",
    "    - 비즈니스 인사이트 발굴\n",
    "- 데이터 시각화 Data Visualization\n",
    "    - 스토리텔링 및 인사이트 발굴"
   ]
  },
  {
   "cell_type": "markdown",
   "id": "2dec714a-d6e4-4304-a684-9f879fcb7670",
   "metadata": {},
   "source": [
    "# Tableau"
   ]
  },
  {
   "cell_type": "markdown",
   "id": "bff5f21c-68b7-4511-b103-d7fb60ee08a2",
   "metadata": {},
   "source": [
    "누구나 사용할 수 있는 Data Visulazation Solution\n",
    "\n",
    "- 장점\n",
    "    - drag만으로 figure 만들기 가능\n",
    "    - 다양한 혀애의 visualization"
   ]
  },
  {
   "cell_type": "markdown",
   "id": "4d7e16ad-b6cb-4e28-ad86-432e18978ccd",
   "metadata": {},
   "source": [
    "- 측정값\n",
    "    - 숫자-액션-집계-차트 순\n",
    "- 차원\n",
    "    - 어떻게 나눠서 볼 것인가?"
   ]
  },
  {
   "cell_type": "markdown",
   "id": "a1704e20-289c-4e45-8257-2f7eadd400a7",
   "metadata": {},
   "source": [
    "- 불연속형 필드 파란색\n",
    "- 연속형 필드 초록색"
   ]
  },
  {
   "cell_type": "markdown",
   "id": "e2d60de5-83fc-4c9a-a305-ad1dd12610e0",
   "metadata": {},
   "source": [
    "- 부분전체 분석"
   ]
  },
  {
   "cell_type": "markdown",
   "id": "b77d10c9-f851-4859-a9be-1ea0d30aa7dc",
   "metadata": {},
   "source": [
    "command + 1 = show me 단축키"
   ]
  },
  {
   "cell_type": "markdown",
   "id": "f00bd0c1-1302-44e5-9fab-7ab16f29bd14",
   "metadata": {},
   "source": [
    "Δ 표시는 테이블 단위로 계산되었다는 표시"
   ]
  },
  {
   "cell_type": "markdown",
   "id": "fe8bebf8-a2c9-4e65-b364-9e438dfb3563",
   "metadata": {},
   "source": [
    "- 파이차트보다 트리맵이 좋은 경우\n",
    "    - 분류 수가 많은 경우 파이차트는 시각적으로 보기 어렵다."
   ]
  },
  {
   "cell_type": "markdown",
   "id": "92458587-bf77-445b-a855-68875ce9df21",
   "metadata": {},
   "source": [
    "- 분산형 차트\n",
    "    - 차원은 0 개 이산\n",
    "    - 측정값이 2~4개인 경우 추천\n",
    "    - 열 선반과 행 선반에 각각 측정값을 배차하면 자동적으로 만들어진다.\n",
    "- 데이터 설명\n",
    "    - 이상치가 있으면 설명해주기도 함\n",
    "- 매개 변수 적용"
   ]
  },
  {
   "cell_type": "markdown",
   "id": "f46af73a-5ea7-4d0f-b09a-cf9c3ad47833",
   "metadata": {},
   "source": [
    "- 이중 축(Dual Axis)\n",
    "- 결합된 축(Combined Axis)"
   ]
  },
  {
   "cell_type": "markdown",
   "id": "6e4d07c1-5b9f-4434-a803-6345524b356e",
   "metadata": {},
   "source": [
    "- 그룹(Group)\n",
    "    - 차원필드에서 우클릭 만들기 그룹\n",
    "    - 여러 그룹으로 묶기 가능\n",
    "- 집합(Set)\n",
    "    - 교집합 여집합 합집합으로 조건 보기 가능\n",
    "    - 폴더로 차원보기해서 보고싶른 집합만 폴더로 묶기 가능\n",
    "    - in / out으로 표시"
   ]
  },
  {
   "cell_type": "markdown",
   "id": "bd9fba50-0823-4918-a659-a7bf781371a1",
   "metadata": {},
   "source": [
    "- 계층 만들기\n",
    "    - 계층(hierarchy) 은 화면에서\n",
    "    - 드릴 다운(Drill-down)해서 값을 세부적으로 찾는 데 유용합니다.\n",
    "- 총계 만들기\n",
    "    - 총계(Total)는 각각의 요소들의 총 값을 보여주는 방식으로 범위에 따라\n",
    "    - 총합계 및 소계, 그리고 열과 행 기준으로 각각 TOTAL을 표시할 수 있습니다."
   ]
  },
  {
   "cell_type": "markdown",
   "id": "e7ec4aa9-910a-49da-931f-70c8a18e4f6d",
   "metadata": {},
   "source": [
    "- 지리적 역할 부여하기\n",
    "- map 차트 구현하기"
   ]
  },
  {
   "cell_type": "markdown",
   "id": "35b60d75-d29a-49db-88d0-c562dca8ab3b",
   "metadata": {},
   "source": [
    "- 대시보드 \n",
    "    - 태블로 퍼블릭에 저장해서 다른 사람과 공유 가능(server탭)\n",
    "    - 이미지로 내보내기 가능\n",
    "    - pdf 내보내기 가능\n",
    "    - 복수 개의 시트로 구성\n",
    "    - 어떤 인사이트를 찾을 것인가?"
   ]
  },
  {
   "cell_type": "markdown",
   "id": "366497be-afa0-4a0a-8370-4dc4aeccd5e7",
   "metadata": {},
   "source": [
    "- 스토리 만들기\n",
    "    - 스토리 포인트에 따라 구성 가능\n",
    "    - AB 바교 대조"
   ]
  },
  {
   "cell_type": "markdown",
   "id": "4bf6a0c3-8460-4f56-9d8f-ae95cf525bab",
   "metadata": {},
   "source": [
    "- 누계 Running Total\n",
    "    - 누계 (Running Total) 각각의 값을 누적해서 보는 개념입니다.\n",
    "- 차이 Difference\n",
    "    - 차이 (Difference) 앞의 항목과 어느 정도 차이가 나는지를 구하는 것입니다.\n",
    "- 구성 비율 Percent of Total\n",
    "    - 구성 비율 (Percent of Total) 전체에서 각 멤버들의 비중을 확인할 때 활용합니다.\n",
    "- 순위 rank\n",
    "    - 순위 (Rank) 각 멤버들의 측정값을 기준으로 순위를 나타낼 때 사용합니다"
   ]
  },
  {
   "cell_type": "markdown",
   "id": "b332a7ca-05ff-480a-a490-a7fdd8d8c518",
   "metadata": {},
   "source": [
    "- 비율 차이 Percent Difference\n",
    "- 전년 대비 성장률 Year Over Year\n",
    "- 백분위수\n",
    "- 이동 평균\n",
    "- YTD 통계\n",
    "    - 기준부터 특정시점까지 누적되는 값 확인\n",
    "    "
   ]
  },
  {
   "cell_type": "markdown",
   "id": "816b6e7d-cbad-4bf7-bf59-c2560e085fc3",
   "metadata": {},
   "source": [
    "- 집계 계산식 만들기\n",
    "- IF 계산식 만들기\n",
    "- 효율적인 계산 만들기"
   ]
  },
  {
   "cell_type": "markdown",
   "id": "86785f26-10e0-4215-9911-0adfc863bc52",
   "metadata": {},
   "source": [
    "- 범위형 매개변수\n",
    "- 목록형 매개변수\n",
    "    - 매개변수는 계산식, 필터, 참조선과 연동해야 동적인 값으로 사용 가능"
   ]
  },
  {
   "cell_type": "markdown",
   "id": "120652eb-c12f-4bba-95dc-83b47cc46512",
   "metadata": {},
   "source": [
    "- 복합 매개변수 만들기\n",
    "    - iif, case 잘 활용할것"
   ]
  },
  {
   "cell_type": "markdown",
   "id": "8b5b0910-1588-4526-9ffe-f95b928be02c",
   "metadata": {},
   "source": [
    "- 태블로 작업 순서\n",
    "    - rows/column에 우측 마우스 눌러서 나오는 filter에서 use all 선택하면 데이터 나중에 추가되어도 적용\n",
    "    - extra filter > data source filter > context filter\n",
    "- 컨텍스트 필터"
   ]
  },
  {
   "cell_type": "markdown",
   "id": "5f29c33f-a3f2-4d31-a72c-82c373540b12",
   "metadata": {},
   "source": [
    "대시보드의 동작(Action) 작업\n",
    "\n",
    "- 필터\n",
    "- 하이라이트\n",
    "- URL 이동"
   ]
  },
  {
   "cell_type": "code",
   "execution_count": null,
   "id": "74e05c48-0c95-4f2e-8d23-6334908b2669",
   "metadata": {},
   "outputs": [],
   "source": []
  }
 ],
 "metadata": {
  "kernelspec": {
   "display_name": "Python 3",
   "language": "python",
   "name": "python3"
  },
  "language_info": {
   "codemirror_mode": {
    "name": "ipython",
    "version": 3
   },
   "file_extension": ".py",
   "mimetype": "text/x-python",
   "name": "python",
   "nbconvert_exporter": "python",
   "pygments_lexer": "ipython3",
   "version": "3.8.0"
  }
 },
 "nbformat": 4,
 "nbformat_minor": 5
}
