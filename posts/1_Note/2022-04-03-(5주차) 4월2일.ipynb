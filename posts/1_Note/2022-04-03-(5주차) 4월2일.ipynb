{
 "cells": [
  {
   "cell_type": "raw",
   "id": "6c681eaa-32fe-44a3-8495-3e664a597684",
   "metadata": {
    "id": "cac470df-29e7-4148-9bbd-d8b9a32fa570",
    "tags": []
   },
   "source": [
    "---\n",
    "title: \"Introduction to Python 5wk\"\n",
    "author: \"SEOYEON CHOI\"\n",
    "date: \"2022-04-04\"\n",
    "---"
   ]
  },
  {
   "cell_type": "markdown",
   "id": "a5ea1bbc-814a-4452-85fc-32fd8dda9915",
   "metadata": {
    "tags": []
   },
   "source": [
    "> 소스코드 관리, 모듈, 패키지, 라이브러리 "
   ]
  },
  {
   "cell_type": "markdown",
   "id": "92cf8b7a-77fc-498f-9cec-d5002fa1dac5",
   "metadata": {},
   "source": [
    "https://guebin.github.io/IP2022/2022/04/03/(5%EC%A3%BC%EC%B0%A8)-4%EC%9B%942%EC%9D%BC.html"
   ]
  },
  {
   "cell_type": "markdown",
   "id": "555bd45f-20c9-457f-82be-09663b981697",
   "metadata": {},
   "source": [
    "### 강의영상 "
   ]
  },
  {
   "cell_type": "markdown",
   "id": "15e26cba-1f3f-4fd7-84fb-75db1cc9cb6f",
   "metadata": {},
   "source": [
    "> youtube: https://youtube.com/playlist?list=PLQqh36zP38-yzovneTfJptA4K705FOG1f"
   ]
  },
  {
   "cell_type": "markdown",
   "id": "10149810-d065-4bdb-b98b-dcaea2045f10",
   "metadata": {},
   "source": [
    "`-` (1/7) intro \n",
    "\n",
    "`-` (2/7) import 사용방법, 도움말 작성기능 \n",
    "\n",
    "`-` (3/7) import 사용시 주의점 \n",
    "\n",
    "`-` (4/7) import 고급 \n",
    "\n",
    "`-` (5/7) site-packages 1 \n",
    "\n",
    "`-` (6/7) site-packages 2 \n",
    "\n",
    "`-` (7/7) 모듈, 패키지, 라이브러리, 숙제설명 "
   ]
  },
  {
   "cell_type": "markdown",
   "id": "2cecb45e-3803-4898-9f17-c431f1743c0f",
   "metadata": {},
   "source": [
    "### intro "
   ]
  },
  {
   "cell_type": "markdown",
   "id": "8f32554f-5e24-4625-9c17-5320d55b610f",
   "metadata": {},
   "source": [
    "`-` 현재 파이썬은 길이가 2인 벡터의 덧셈을 지원하지 않음 "
   ]
  },
  {
   "cell_type": "code",
   "execution_count": 2,
   "id": "ffc98a50-faf6-4302-9749-62ce4358f994",
   "metadata": {},
   "outputs": [
    {
     "data": {
      "text/plain": [
       "[1, 2, 3, 4]"
      ]
     },
     "execution_count": 2,
     "metadata": {},
     "output_type": "execute_result"
    }
   ],
   "source": [
    "a=[1,2]\n",
    "b=[3,4]\n",
    "a+b"
   ]
  },
  {
   "cell_type": "markdown",
   "id": "3f1d44de-c0e2-43ab-9809-ff663c096884",
   "metadata": {},
   "source": [
    "`-` 아래와 같은 기능을 구현하는 함수를 만들고 싶음 "
   ]
  },
  {
   "cell_type": "markdown",
   "id": "09b9ff9f-b7a7-4b1a-8db4-c878b5c77c61",
   "metadata": {},
   "source": [
    "[1,2], [3,4] -> [4,6] "
   ]
  },
  {
   "cell_type": "markdown",
   "id": "fcaba994-f34c-42a6-b20d-91f95e8cf3eb",
   "metadata": {},
   "source": [
    "`-` 구현 "
   ]
  },
  {
   "cell_type": "code",
   "execution_count": 6,
   "id": "8a7458f9-84e8-4f5d-8a53-782ddc528f95",
   "metadata": {},
   "outputs": [],
   "source": [
    "def vec2_add(a,b): \n",
    "    return [a[0]+b[0], a[1]+b[1]]"
   ]
  },
  {
   "cell_type": "markdown",
   "id": "1b00dfbd-7ea5-4a35-989a-1d3c66a2f57e",
   "metadata": {},
   "source": [
    "`-` test"
   ]
  },
  {
   "cell_type": "code",
   "execution_count": 7,
   "id": "b42f8db7-d34b-4aaa-9371-84bff28ecfad",
   "metadata": {},
   "outputs": [],
   "source": [
    "a=[1,2]\n",
    "b=[3,4]"
   ]
  },
  {
   "cell_type": "code",
   "execution_count": 8,
   "id": "893fa0b6-84f0-4b6d-ba8e-baa4a5995b44",
   "metadata": {},
   "outputs": [
    {
     "data": {
      "text/plain": [
       "[4, 6]"
      ]
     },
     "execution_count": 8,
     "metadata": {},
     "output_type": "execute_result"
    }
   ],
   "source": [
    "vec2_add(a,b)"
   ]
  },
  {
   "cell_type": "markdown",
   "id": "e5ee27bc-e73f-4500-84ca-97ff4bf5a171",
   "metadata": {},
   "source": [
    "### make `myfuns.py`"
   ]
  },
  {
   "cell_type": "markdown",
   "id": "bd5f91fa-f669-4d9f-a410-0e249838d845",
   "metadata": {},
   "source": [
    "`-` 생각해보니까 vec2_add는 내가 앞으로 자주 쓸 기능임 "
   ]
  },
  {
   "cell_type": "markdown",
   "id": "8f512843-aedc-4db0-b5b1-6e25d068fc89",
   "metadata": {},
   "source": [
    "`-` 그런데 현재 사용방법으로는 내가 노트북파일을 새로 만들떄마다 `def vec2_add(a,b):` 와 같은 형태로 vec2_add를 매번 정의해줘야 하는 불편한이 있다.  "
   ]
  },
  {
   "cell_type": "markdown",
   "id": "e6dedd5a-6f67-4c96-8f16-015d80840739",
   "metadata": {
    "tags": []
   },
   "source": [
    "#### 해결1"
   ]
  },
  {
   "cell_type": "markdown",
   "id": "f5241654-5113-4cf2-814d-8924e3683d48",
   "metadata": {},
   "source": [
    "`-` 자주 사용하는 함수를 `myfuns.py`에 저장한다. \n",
    "```python\n",
    "# myfuns.py\n",
    "def vec2_add(a,b): \n",
    "    return [a[0]+b[0], a[1]+b[1]]\n",
    "```"
   ]
  },
  {
   "cell_type": "markdown",
   "id": "800998ea-d5d3-4b81-8114-aa2d61a1ecd2",
   "metadata": {},
   "source": [
    "`-` %run myfuns를 실행 "
   ]
  },
  {
   "cell_type": "markdown",
   "id": "9808919e-2a2a-4e67-b93d-6c4273e75a12",
   "metadata": {},
   "source": [
    "준비: \"00\" -> 커널재시작 "
   ]
  },
  {
   "cell_type": "code",
   "execution_count": 1,
   "id": "2ff0cfd2-b853-4573-870d-b85d4d4b659c",
   "metadata": {},
   "outputs": [],
   "source": [
    "%run myfuns "
   ]
  },
  {
   "cell_type": "code",
   "execution_count": 2,
   "id": "f983744c-216b-4842-ab33-e148db82eb67",
   "metadata": {},
   "outputs": [
    {
     "data": {
      "text/plain": [
       "[4, 6]"
      ]
     },
     "execution_count": 2,
     "metadata": {},
     "output_type": "execute_result"
    }
   ],
   "source": [
    "vec2_add([1,2],[3,4])"
   ]
  },
  {
   "cell_type": "markdown",
   "id": "c3ceed80-9cbc-43a1-bdcd-aa4168dfaf07",
   "metadata": {
    "tags": []
   },
   "source": [
    "#### 해결2"
   ]
  },
  {
   "cell_type": "markdown",
   "id": "20c6f85b-9400-4646-8b17-0d38ca333d0c",
   "metadata": {},
   "source": [
    "`-` 자주 사용하는 함수를 `myfuns.py`에 저장한다. \n",
    "```python\n",
    "# myfuns.py\n",
    "def vec2_add(a,b): \n",
    "    return [a[0]+b[0], a[1]+b[1]]\n",
    "```"
   ]
  },
  {
   "cell_type": "markdown",
   "id": "c339643a-dab0-4b6c-a3f6-0df534ae17c1",
   "metadata": {},
   "source": [
    "`-` import myfuns를 이용 "
   ]
  },
  {
   "cell_type": "markdown",
   "id": "a1101e13-b16a-4490-85ea-02cba5a10612",
   "metadata": {},
   "source": [
    "(준비) \"00\" -> 커널재시작 "
   ]
  },
  {
   "cell_type": "code",
   "execution_count": 3,
   "id": "2c889d49-848d-417e-8243-f02d5173dfb0",
   "metadata": {},
   "outputs": [],
   "source": [
    "import myfuns "
   ]
  },
  {
   "cell_type": "code",
   "execution_count": 4,
   "id": "49463a2a-ca2b-4186-a772-d93d3fc49e87",
   "metadata": {},
   "outputs": [
    {
     "data": {
      "text/plain": [
       "[4, 6]"
      ]
     },
     "execution_count": 4,
     "metadata": {},
     "output_type": "execute_result"
    }
   ],
   "source": [
    "a=[1,2]\n",
    "b=[3,4]\n",
    "myfuns.vec2_add(a,b)"
   ]
  },
  {
   "cell_type": "markdown",
   "id": "fd8502dd-36e7-4e50-b295-f0a3b2031eb3",
   "metadata": {},
   "source": [
    "### import 기본 "
   ]
  },
  {
   "cell_type": "markdown",
   "id": "794fbeee-e5b2-4f28-b13b-247111ee0eca",
   "metadata": {},
   "source": [
    "#### 사용방법 "
   ]
  },
  {
   "cell_type": "markdown",
   "id": "5d31351c-a99b-4a75-9e78-decfc8540020",
   "metadata": {},
   "source": [
    "`-` 사용방법1"
   ]
  },
  {
   "cell_type": "markdown",
   "id": "904765d1-7de5-48b2-b69f-7e1d1f52af65",
   "metadata": {},
   "source": [
    "준비: \"00\" -> 커널재시작 "
   ]
  },
  {
   "cell_type": "code",
   "execution_count": 1,
   "id": "0ef31d20-11a1-4c4e-9b51-7a87d4bea3c2",
   "metadata": {},
   "outputs": [],
   "source": [
    "import myfuns "
   ]
  },
  {
   "cell_type": "code",
   "execution_count": 2,
   "id": "7f7a04a1-5d3c-4f23-803c-44760e185ded",
   "metadata": {},
   "outputs": [
    {
     "data": {
      "text/plain": [
       "[4, 6]"
      ]
     },
     "execution_count": 2,
     "metadata": {},
     "output_type": "execute_result"
    }
   ],
   "source": [
    "myfuns.vec2_add([1,2],[3,4]) "
   ]
  },
  {
   "cell_type": "markdown",
   "id": "9118f150-6450-4243-857b-f8e2edff86b2",
   "metadata": {},
   "source": [
    "- myfuns.vec2_add 의 의미: myfuns.py 라는 파일안에 vec2_add라는 함수가 있음. 그것을 실행하라. \n",
    "- `.`의 의미: `상위.하위`의 개념!"
   ]
  },
  {
   "cell_type": "markdown",
   "id": "e796067d-15cd-4e41-baea-4ce8f02feefa",
   "metadata": {},
   "source": [
    "(주의) 아래와 같이 사용불가능 하다. "
   ]
  },
  {
   "cell_type": "code",
   "execution_count": 3,
   "id": "f4675030-e9b3-4a12-b643-536c547f5c21",
   "metadata": {
    "tags": []
   },
   "outputs": [
    {
     "ename": "NameError",
     "evalue": "name 'vec2_add' is not defined",
     "output_type": "error",
     "traceback": [
      "\u001b[0;31m---------------------------------------------------------------------------\u001b[0m",
      "\u001b[0;31mNameError\u001b[0m                                 Traceback (most recent call last)",
      "Input \u001b[0;32mIn [3]\u001b[0m, in \u001b[0;36m<cell line: 1>\u001b[0;34m()\u001b[0m\n\u001b[0;32m----> 1\u001b[0m \u001b[43mvec2_add\u001b[49m([\u001b[38;5;241m1\u001b[39m,\u001b[38;5;241m2\u001b[39m],[\u001b[38;5;241m3\u001b[39m,\u001b[38;5;241m4\u001b[39m])\n",
      "\u001b[0;31mNameError\u001b[0m: name 'vec2_add' is not defined"
     ]
    }
   ],
   "source": [
    "vec2_add([1,2],[3,4])"
   ]
  },
  {
   "cell_type": "markdown",
   "id": "a8160580-ef00-4310-b31a-e274c00e17cf",
   "metadata": {},
   "source": [
    "`-` 사용방법2"
   ]
  },
  {
   "cell_type": "markdown",
   "id": "5a76aa8a-1b9a-461b-b4d8-1764332df738",
   "metadata": {},
   "source": [
    "준비: \"00\" -> 커널재시작 "
   ]
  },
  {
   "cell_type": "code",
   "execution_count": 3,
   "id": "bd9c7d32-987a-4dec-af79-4d0a46b71892",
   "metadata": {},
   "outputs": [],
   "source": [
    "from myfuns import vec2_add "
   ]
  },
  {
   "cell_type": "code",
   "execution_count": 4,
   "id": "d3a8ba6d-c2ad-488f-9709-f79952277b0e",
   "metadata": {},
   "outputs": [
    {
     "data": {
      "text/plain": [
       "[4, 6]"
      ]
     },
     "execution_count": 4,
     "metadata": {},
     "output_type": "execute_result"
    }
   ],
   "source": [
    "vec2_add([1,2],[3,4])"
   ]
  },
  {
   "cell_type": "markdown",
   "id": "475c2de3-e34e-4cec-8eba-99f1a5780412",
   "metadata": {},
   "source": [
    "(주의) 이 경우는 오히려 아래가 불가능함 "
   ]
  },
  {
   "cell_type": "code",
   "execution_count": 6,
   "id": "4ea0f9b1-b779-473b-92de-367b425eefdc",
   "metadata": {},
   "outputs": [
    {
     "ename": "NameError",
     "evalue": "name 'myfuns' is not defined",
     "output_type": "error",
     "traceback": [
      "\u001b[0;31m---------------------------------------------------------------------------\u001b[0m",
      "\u001b[0;31mNameError\u001b[0m                                 Traceback (most recent call last)",
      "Input \u001b[0;32mIn [6]\u001b[0m, in \u001b[0;36m<cell line: 1>\u001b[0;34m()\u001b[0m\n\u001b[0;32m----> 1\u001b[0m \u001b[43mmyfuns\u001b[49m\u001b[38;5;241m.\u001b[39mvec2_add([\u001b[38;5;241m1\u001b[39m,\u001b[38;5;241m2\u001b[39m],[\u001b[38;5;241m3\u001b[39m,\u001b[38;5;241m4\u001b[39m])\n",
      "\u001b[0;31mNameError\u001b[0m: name 'myfuns' is not defined"
     ]
    }
   ],
   "source": [
    "myfuns.vec2_add([1,2],[3,4]) # myfuns안의 vec2_add만 임포트했지 myfuns자체를 임포트 한것은 아님 "
   ]
  },
  {
   "cell_type": "markdown",
   "id": "6d8cb1f4-700e-47f1-af57-ee884e1a64bc",
   "metadata": {},
   "source": [
    "`-` 사용방법3"
   ]
  },
  {
   "cell_type": "markdown",
   "id": "b3b7f9e5-a8ad-4e02-bc4a-d64e665a1aa9",
   "metadata": {},
   "source": [
    "준비: \"00\" -> 커널재시작 "
   ]
  },
  {
   "cell_type": "code",
   "execution_count": 1,
   "id": "2b3ba15d-bab0-4d23-a6a9-c2d38fb36bd5",
   "metadata": {},
   "outputs": [],
   "source": [
    "import myfuns\n",
    "from myfuns import vec2_add"
   ]
  },
  {
   "cell_type": "code",
   "execution_count": 2,
   "id": "816239fc-0399-418d-a932-d56279bbfe67",
   "metadata": {},
   "outputs": [
    {
     "data": {
      "text/plain": [
       "[4, 6]"
      ]
     },
     "execution_count": 2,
     "metadata": {},
     "output_type": "execute_result"
    }
   ],
   "source": [
    "myfuns.vec2_add([1,2],[3,4])"
   ]
  },
  {
   "cell_type": "code",
   "execution_count": 3,
   "id": "0b3f4901-da62-4d73-a10e-9abb4975152a",
   "metadata": {},
   "outputs": [
    {
     "data": {
      "text/plain": [
       "[4, 6]"
      ]
     },
     "execution_count": 3,
     "metadata": {},
     "output_type": "execute_result"
    }
   ],
   "source": [
    "vec2_add([1,2],[3,4])"
   ]
  },
  {
   "cell_type": "markdown",
   "id": "f55a0ef1-0f83-443e-9cad-6fbaa08970b4",
   "metadata": {},
   "source": [
    "`-` 사용방법4"
   ]
  },
  {
   "cell_type": "markdown",
   "id": "17ee9b46-9a84-48ac-bbed-452bfbea7676",
   "metadata": {},
   "source": [
    "준비: \"00\" -> 커널재시작 "
   ]
  },
  {
   "cell_type": "code",
   "execution_count": 1,
   "id": "2d800976-d839-478c-8951-e27734477915",
   "metadata": {},
   "outputs": [],
   "source": [
    "from myfuns import vec2_add, vec2_sub "
   ]
  },
  {
   "cell_type": "code",
   "execution_count": 2,
   "id": "92dfa064-0b3f-47fe-8a08-0ff8125235ce",
   "metadata": {},
   "outputs": [
    {
     "data": {
      "text/plain": [
       "[4, 6]"
      ]
     },
     "execution_count": 2,
     "metadata": {},
     "output_type": "execute_result"
    }
   ],
   "source": [
    "vec2_add([1,2],[3,4])"
   ]
  },
  {
   "cell_type": "code",
   "execution_count": 3,
   "id": "6d35ef9f-7dd6-4ac4-bdf6-11c2e9bfa267",
   "metadata": {},
   "outputs": [
    {
     "data": {
      "text/plain": [
       "[-2, -2]"
      ]
     },
     "execution_count": 3,
     "metadata": {},
     "output_type": "execute_result"
    }
   ],
   "source": [
    "vec2_sub([1,2],[3,4])"
   ]
  },
  {
   "cell_type": "markdown",
   "id": "37122564-ff53-47f4-b0ae-e263545478f8",
   "metadata": {},
   "source": [
    "`-` 사용방법5"
   ]
  },
  {
   "cell_type": "markdown",
   "id": "727548e0-ad89-4e5b-b3e6-08c7181c863b",
   "metadata": {},
   "source": [
    "준비: \"00\" -> 커널재시작 "
   ]
  },
  {
   "cell_type": "code",
   "execution_count": 2,
   "id": "9a2717f3-9f4f-449c-9acb-b22d652ee43a",
   "metadata": {},
   "outputs": [],
   "source": [
    "from myfuns import * #*는 all의 의미 "
   ]
  },
  {
   "cell_type": "code",
   "execution_count": 3,
   "id": "009985a1-4c98-4929-a4e4-5c1dfe984761",
   "metadata": {},
   "outputs": [
    {
     "data": {
      "text/plain": [
       "[4, 6]"
      ]
     },
     "execution_count": 3,
     "metadata": {},
     "output_type": "execute_result"
    }
   ],
   "source": [
    "vec2_add([1,2],[3,4])"
   ]
  },
  {
   "cell_type": "code",
   "execution_count": 4,
   "id": "21bbb950-52dd-44c7-927f-0146b3eccf2e",
   "metadata": {},
   "outputs": [
    {
     "data": {
      "text/plain": [
       "[-2, -2]"
      ]
     },
     "execution_count": 4,
     "metadata": {},
     "output_type": "execute_result"
    }
   ],
   "source": [
    "vec2_sub([1,2],[3,4])"
   ]
  },
  {
   "cell_type": "markdown",
   "id": "b8753309-4b3a-4c76-aa94-f132ef7976a7",
   "metadata": {},
   "source": [
    "`-` 사용방법6"
   ]
  },
  {
   "cell_type": "markdown",
   "id": "881103f5-42c2-401b-a981-0486bf05d572",
   "metadata": {},
   "source": [
    "준비: \"00\" -> 커널재시작 "
   ]
  },
  {
   "cell_type": "code",
   "execution_count": 1,
   "id": "217811c3-083f-4767-95c3-339773495523",
   "metadata": {},
   "outputs": [],
   "source": [
    "import myfuns as mf "
   ]
  },
  {
   "cell_type": "code",
   "execution_count": 2,
   "id": "097463ca-d044-4d4f-bec1-1277b7f17247",
   "metadata": {},
   "outputs": [
    {
     "data": {
      "text/plain": [
       "[4, 6]"
      ]
     },
     "execution_count": 2,
     "metadata": {},
     "output_type": "execute_result"
    }
   ],
   "source": [
    "mf.vec2_add([1,2],[3,4])"
   ]
  },
  {
   "cell_type": "code",
   "execution_count": 3,
   "id": "21f777ae-3d20-425d-95ec-08ebbf3c57dd",
   "metadata": {},
   "outputs": [
    {
     "data": {
      "text/plain": [
       "[-2, -2]"
      ]
     },
     "execution_count": 3,
     "metadata": {},
     "output_type": "execute_result"
    }
   ],
   "source": [
    "mf.vec2_sub([1,2],[3,4])"
   ]
  },
  {
   "cell_type": "markdown",
   "id": "97b36515-6d23-4685-870e-44d3cd7bbe8e",
   "metadata": {},
   "source": [
    "(오히려 아래는 실행불가능)"
   ]
  },
  {
   "cell_type": "code",
   "execution_count": 4,
   "id": "aaf67901-1deb-4c45-b564-9ae5e1af678e",
   "metadata": {},
   "outputs": [
    {
     "ename": "NameError",
     "evalue": "name 'myfuns' is not defined",
     "output_type": "error",
     "traceback": [
      "\u001b[0;31m---------------------------------------------------------------------------\u001b[0m",
      "\u001b[0;31mNameError\u001b[0m                                 Traceback (most recent call last)",
      "Input \u001b[0;32mIn [4]\u001b[0m, in \u001b[0;36m<cell line: 1>\u001b[0;34m()\u001b[0m\n\u001b[0;32m----> 1\u001b[0m \u001b[43mmyfuns\u001b[49m\u001b[38;5;241m.\u001b[39mvec2_add([\u001b[38;5;241m1\u001b[39m,\u001b[38;5;241m2\u001b[39m],[\u001b[38;5;241m3\u001b[39m,\u001b[38;5;241m4\u001b[39m])\n",
      "\u001b[0;31mNameError\u001b[0m: name 'myfuns' is not defined"
     ]
    }
   ],
   "source": [
    "myfuns.vec2_add([1,2],[3,4])"
   ]
  },
  {
   "cell_type": "code",
   "execution_count": 5,
   "id": "eb906459-7b6c-4bd9-8302-e7ee34cb675a",
   "metadata": {},
   "outputs": [
    {
     "ename": "NameError",
     "evalue": "name 'myfuns' is not defined",
     "output_type": "error",
     "traceback": [
      "\u001b[0;31m---------------------------------------------------------------------------\u001b[0m",
      "\u001b[0;31mNameError\u001b[0m                                 Traceback (most recent call last)",
      "Input \u001b[0;32mIn [5]\u001b[0m, in \u001b[0;36m<cell line: 1>\u001b[0;34m()\u001b[0m\n\u001b[0;32m----> 1\u001b[0m \u001b[43mmyfuns\u001b[49m\u001b[38;5;241m.\u001b[39mvec2_sub([\u001b[38;5;241m1\u001b[39m,\u001b[38;5;241m2\u001b[39m],[\u001b[38;5;241m3\u001b[39m,\u001b[38;5;241m4\u001b[39m])\n",
      "\u001b[0;31mNameError\u001b[0m: name 'myfuns' is not defined"
     ]
    }
   ],
   "source": [
    "myfuns.vec2_sub([1,2],[3,4])"
   ]
  },
  {
   "cell_type": "markdown",
   "id": "09669f86-0bd1-4048-b0f3-a679c83ddfc3",
   "metadata": {},
   "source": [
    "`-` 잘못된 사용방법1"
   ]
  },
  {
   "cell_type": "markdown",
   "id": "317e7e8f-9833-48c3-989b-1b75426ea4a3",
   "metadata": {},
   "source": [
    "준비: \"00\" -> 커널재시작 "
   ]
  },
  {
   "cell_type": "code",
   "execution_count": 1,
   "id": "0743e6b4-e077-4f6c-b80d-c3ce79fbd115",
   "metadata": {},
   "outputs": [
    {
     "ename": "ModuleNotFoundError",
     "evalue": "No module named 'mf'",
     "output_type": "error",
     "traceback": [
      "\u001b[0;31m---------------------------------------------------------------------------\u001b[0m",
      "\u001b[0;31mModuleNotFoundError\u001b[0m                       Traceback (most recent call last)",
      "Input \u001b[0;32mIn [1]\u001b[0m, in \u001b[0;36m<cell line: 2>\u001b[0;34m()\u001b[0m\n\u001b[1;32m      1\u001b[0m \u001b[38;5;28;01mimport\u001b[39;00m \u001b[38;5;21;01mmyfuns\u001b[39;00m \u001b[38;5;28;01mas\u001b[39;00m \u001b[38;5;21;01mmf\u001b[39;00m \n\u001b[0;32m----> 2\u001b[0m \u001b[38;5;28;01mfrom\u001b[39;00m \u001b[38;5;21;01mmf\u001b[39;00m \u001b[38;5;28;01mimport\u001b[39;00m vec2_add\n",
      "\u001b[0;31mModuleNotFoundError\u001b[0m: No module named 'mf'"
     ]
    }
   ],
   "source": [
    "import myfuns as mf \n",
    "from mf import vec2_add "
   ]
  },
  {
   "cell_type": "markdown",
   "id": "becfd166-e0b9-4d83-8afc-380f1010c358",
   "metadata": {},
   "source": [
    "`-` 사용방법7"
   ]
  },
  {
   "cell_type": "markdown",
   "id": "9b108971-5368-4c33-8d92-3dd1fcebcfdc",
   "metadata": {},
   "source": [
    "준비: \"00\" -> 커널재시작 "
   ]
  },
  {
   "cell_type": "code",
   "execution_count": 1,
   "id": "5fcce038-c801-4db3-93e0-941ccf5ac6a1",
   "metadata": {},
   "outputs": [],
   "source": [
    "import myfuns as mf \n",
    "from myfuns import vec2_add "
   ]
  },
  {
   "cell_type": "code",
   "execution_count": 4,
   "id": "5c019c12-bdc4-4272-8df1-db2b4f733493",
   "metadata": {},
   "outputs": [
    {
     "data": {
      "text/plain": [
       "[4, 6]"
      ]
     },
     "execution_count": 4,
     "metadata": {},
     "output_type": "execute_result"
    }
   ],
   "source": [
    "mf.vec2_add([1,2],[3,4])"
   ]
  },
  {
   "cell_type": "code",
   "execution_count": 5,
   "id": "4b1a4ec2-1940-49d1-a545-b06c7bf9262f",
   "metadata": {},
   "outputs": [
    {
     "data": {
      "text/plain": [
       "[4, 6]"
      ]
     },
     "execution_count": 5,
     "metadata": {},
     "output_type": "execute_result"
    }
   ],
   "source": [
    "vec2_add([1,2],[3,4])"
   ]
  },
  {
   "cell_type": "markdown",
   "id": "b2114b25-77c1-4b9c-a9b0-efab87b5ba5e",
   "metadata": {},
   "source": [
    "`-` 사용방법8"
   ]
  },
  {
   "cell_type": "markdown",
   "id": "ed54ddf4-a428-4b8f-adca-a1b5eea4e346",
   "metadata": {},
   "source": [
    "준비: \"00\" -> 커널재시작 "
   ]
  },
  {
   "cell_type": "code",
   "execution_count": 1,
   "id": "8d62be0f-53c6-4825-a2ab-8561b84d64e3",
   "metadata": {},
   "outputs": [],
   "source": [
    "import myfuns as mf \n",
    "from myfuns import vec2_add as add "
   ]
  },
  {
   "cell_type": "code",
   "execution_count": 2,
   "id": "01fca27f-f1a5-4649-9f3f-0d3841243836",
   "metadata": {},
   "outputs": [
    {
     "data": {
      "text/plain": [
       "[4, 6]"
      ]
     },
     "execution_count": 2,
     "metadata": {},
     "output_type": "execute_result"
    }
   ],
   "source": [
    "mf.vec2_add([1,2],[3,4])"
   ]
  },
  {
   "cell_type": "code",
   "execution_count": 3,
   "id": "0e8598fa-92c2-4112-a145-b663ddb9eddc",
   "metadata": {},
   "outputs": [
    {
     "ename": "NameError",
     "evalue": "name 'vec2_add' is not defined",
     "output_type": "error",
     "traceback": [
      "\u001b[0;31m---------------------------------------------------------------------------\u001b[0m",
      "\u001b[0;31mNameError\u001b[0m                                 Traceback (most recent call last)",
      "Input \u001b[0;32mIn [3]\u001b[0m, in \u001b[0;36m<cell line: 1>\u001b[0;34m()\u001b[0m\n\u001b[0;32m----> 1\u001b[0m \u001b[43mvec2_add\u001b[49m([\u001b[38;5;241m1\u001b[39m,\u001b[38;5;241m2\u001b[39m],[\u001b[38;5;241m3\u001b[39m,\u001b[38;5;241m4\u001b[39m])\n",
      "\u001b[0;31mNameError\u001b[0m: name 'vec2_add' is not defined"
     ]
    }
   ],
   "source": [
    "vec2_add([1,2],[3,4])"
   ]
  },
  {
   "cell_type": "code",
   "execution_count": 4,
   "id": "748eb343-66fa-49c0-94a9-0abb1b280861",
   "metadata": {},
   "outputs": [
    {
     "data": {
      "text/plain": [
       "[4, 6]"
      ]
     },
     "execution_count": 4,
     "metadata": {},
     "output_type": "execute_result"
    }
   ],
   "source": [
    "add([1,2],[3,4])"
   ]
  },
  {
   "cell_type": "markdown",
   "id": "6d6bcf51-060f-4b5e-9a8f-f7e53e7904e9",
   "metadata": {},
   "source": [
    "#### 도움말 작성기능 "
   ]
  },
  {
   "cell_type": "markdown",
   "id": "24824f07-af85-4ec0-8f6f-05fd386f0461",
   "metadata": {},
   "source": [
    "`-` mf란 무엇인가? "
   ]
  },
  {
   "cell_type": "markdown",
   "id": "3cccb3fd-bc63-438f-aa83-4477f3b59802",
   "metadata": {},
   "source": [
    "준비: \"00\" -> 커널재시작 "
   ]
  },
  {
   "cell_type": "code",
   "execution_count": 1,
   "id": "545d529c-cc33-4151-820d-2d7127722f95",
   "metadata": {},
   "outputs": [],
   "source": [
    "import myfuns as mf "
   ]
  },
  {
   "cell_type": "code",
   "execution_count": 2,
   "id": "5bef3b5c-0fdc-464a-867f-891d61e9d7fd",
   "metadata": {},
   "outputs": [
    {
     "data": {
      "text/plain": [
       "<module 'myfuns' from '/home/cgb3/Dropbox/07_lectures/IP2022/_notebooks/myfuns.py'>"
      ]
     },
     "execution_count": 2,
     "metadata": {},
     "output_type": "execute_result"
    }
   ],
   "source": [
    "mf"
   ]
  },
  {
   "cell_type": "code",
   "execution_count": 3,
   "id": "6f75b592-6270-4427-bd8c-6b753dc877af",
   "metadata": {},
   "outputs": [
    {
     "data": {
      "text/plain": [
       "\u001b[0;31mType:\u001b[0m        module\n",
       "\u001b[0;31mString form:\u001b[0m <module 'myfuns' from '/home/cgb3/Dropbox/07_lectures/IP2022/_notebooks/myfuns.py'>\n",
       "\u001b[0;31mFile:\u001b[0m        ~/Dropbox/07_lectures/IP2022/_notebooks/myfuns.py\n",
       "\u001b[0;31mDocstring:\u001b[0m   <no docstring>\n"
      ]
     },
     "metadata": {},
     "output_type": "display_data"
    }
   ],
   "source": [
    "mf?"
   ]
  },
  {
   "cell_type": "code",
   "execution_count": 4,
   "id": "3d055de8-daac-410b-96c2-754db9ab4dbb",
   "metadata": {},
   "outputs": [
    {
     "data": {
      "text/plain": [
       "module"
      ]
     },
     "execution_count": 4,
     "metadata": {},
     "output_type": "execute_result"
    }
   ],
   "source": [
    "type(mf)"
   ]
  },
  {
   "cell_type": "markdown",
   "id": "3563d247-d349-4474-8f42-1ab03270412c",
   "metadata": {},
   "source": [
    "- mf의 타입은 모듈이라고 나옴, 현재 단계에서는 무엇인지 알기 어려움 "
   ]
  },
  {
   "cell_type": "markdown",
   "id": "1ea3b78d-7877-4170-94e2-abee420258f4",
   "metadata": {},
   "source": [
    "`-` Docstring의 내용을 채울 수 있을까? "
   ]
  },
  {
   "cell_type": "markdown",
   "id": "8ae1a439-59fd-4c34-80d7-48c340ee9132",
   "metadata": {},
   "source": [
    "준비1: myfuns.py 파일을 아래와 같이 수정한다. "
   ]
  },
  {
   "cell_type": "markdown",
   "id": "3e800f53-1445-4073-a849-93f86fb0b7e6",
   "metadata": {},
   "source": [
    "준비2: \"00\" -> 커널재시작 "
   ]
  },
  {
   "cell_type": "code",
   "execution_count": 1,
   "id": "49832bca-3ffc-4a7d-a80e-c0bce929b9b3",
   "metadata": {},
   "outputs": [],
   "source": [
    "import myfuns as mf "
   ]
  },
  {
   "cell_type": "code",
   "execution_count": 2,
   "id": "c8db7ac6-bf5d-4cb9-a549-75595bfc5d5d",
   "metadata": {},
   "outputs": [
    {
     "data": {
      "text/plain": [
       "\u001b[0;31mType:\u001b[0m        module\n",
       "\u001b[0;31mString form:\u001b[0m <module 'myfuns' from '/home/cgb3/Dropbox/07_lectures/IP2022/_notebooks/myfuns.py'>\n",
       "\u001b[0;31mFile:\u001b[0m        ~/Dropbox/07_lectures/IP2022/_notebooks/myfuns.py\n",
       "\u001b[0;31mDocstring:\u001b[0m   이것은 길이가 2인 벡터의 합 혹은 차를 구하는 모듈입니다.\n"
      ]
     },
     "metadata": {},
     "output_type": "display_data"
    }
   ],
   "source": [
    "mf?"
   ]
  },
  {
   "cell_type": "markdown",
   "id": "dfc9a6b1-11ea-4c57-814a-2042b0976a11",
   "metadata": {},
   "source": [
    "#### 주의점 "
   ]
  },
  {
   "cell_type": "markdown",
   "id": "f7c2bca1-4bc4-4970-9d29-6d375cc2774b",
   "metadata": {},
   "source": [
    "`-` `myfuns.py`는 최초 한번만 import 된다.  "
   ]
  },
  {
   "cell_type": "markdown",
   "id": "123bc903-1a62-491f-81a0-ab5690e1516e",
   "metadata": {},
   "source": [
    "준비: \"00\" -> 커널재시작 "
   ]
  },
  {
   "cell_type": "code",
   "execution_count": 1,
   "id": "acfe65a9-f53b-46b7-9494-af76e03b8954",
   "metadata": {},
   "outputs": [],
   "source": [
    "import myfuns"
   ]
  },
  {
   "cell_type": "code",
   "execution_count": 2,
   "id": "8722fd99-5b7f-4fe9-93d3-e0090fcca82a",
   "metadata": {},
   "outputs": [
    {
     "data": {
      "text/plain": [
       "[4, 6]"
      ]
     },
     "execution_count": 2,
     "metadata": {},
     "output_type": "execute_result"
    }
   ],
   "source": [
    "myfuns.vec2_add([1,2],[3,4])"
   ]
  },
  {
   "cell_type": "markdown",
   "id": "e1f99461-ca3e-479d-b08e-262553d350ce",
   "metadata": {},
   "source": [
    "`myfuns.py`파일을 열고 함수를 아래와 같이 바꾸자. \n",
    "```python\n",
    "\"\"\"이것은 길이가 2인 벡터의 합 혹은 차를 구하는 모듈입니다.\"\"\" \n",
    "def vec2_add(a,b): \n",
    "    print(\"이것은 myfuns.py에 정의된 함수입니다\") \n",
    "    return [a[0]+b[0], a[1]+b[1]]\n",
    "def vec2_sub(a,b): \n",
    "    return [a[0]-b[0], a[1]-b[1]]\n",
    "```"
   ]
  },
  {
   "cell_type": "markdown",
   "id": "1391a982-6703-44df-8bcc-0c679ba89e07",
   "metadata": {},
   "source": [
    "다시 myfuns를 로드하고 myfuns.vec2_add 를 실행하여 보자. "
   ]
  },
  {
   "cell_type": "code",
   "execution_count": 4,
   "id": "ba07d5f9-e9f9-4c52-9708-23cf12a8b827",
   "metadata": {},
   "outputs": [],
   "source": [
    "import myfuns"
   ]
  },
  {
   "cell_type": "code",
   "execution_count": 5,
   "id": "6435f7ab-7a46-485c-93b0-e0ba68c26cc8",
   "metadata": {},
   "outputs": [
    {
     "data": {
      "text/plain": [
       "[4, 6]"
      ]
     },
     "execution_count": 5,
     "metadata": {},
     "output_type": "execute_result"
    }
   ],
   "source": [
    "myfuns.vec2_add([1,2],[3,4])"
   ]
  },
  {
   "cell_type": "markdown",
   "id": "53c7c1dc-e6ca-4fa1-b752-e738b37dbaca",
   "metadata": {},
   "source": [
    "바뀐내용이 적용되지 않는다. "
   ]
  },
  {
   "cell_type": "markdown",
   "id": "0c099f31-4a7e-43f3-9ad3-8f62ca933143",
   "metadata": {},
   "source": [
    "커널을 다시 시작하고 임포트해보자. "
   ]
  },
  {
   "cell_type": "markdown",
   "id": "9feaba99-af21-459e-bbea-a03f3ea006d1",
   "metadata": {},
   "source": [
    "\"00\" -> 커널재시작 "
   ]
  },
  {
   "cell_type": "code",
   "execution_count": 1,
   "id": "bed6da2b-e897-4101-bc3d-e19f56a854fb",
   "metadata": {},
   "outputs": [],
   "source": [
    "import myfuns"
   ]
  },
  {
   "cell_type": "code",
   "execution_count": 2,
   "id": "73a73a21-ffbf-47f1-9473-eb50a19f650c",
   "metadata": {},
   "outputs": [
    {
     "name": "stdout",
     "output_type": "stream",
     "text": [
      "이것은 myfuns.py에 정의된 함수입니다\n"
     ]
    },
    {
     "data": {
      "text/plain": [
       "[4, 6]"
      ]
     },
     "execution_count": 2,
     "metadata": {},
     "output_type": "execute_result"
    }
   ],
   "source": [
    "myfuns.vec2_add([1,2],[3,4])"
   ]
  },
  {
   "cell_type": "markdown",
   "id": "60a9c841-db22-4fba-82e8-038ff2aae0bd",
   "metadata": {},
   "source": [
    "`-` `myfuns.py`는 주피터노트북파일과 같은 폴더에 존재해야 한다. "
   ]
  },
  {
   "cell_type": "markdown",
   "id": "019e6c41-af13-48ec-af70-e3e384e2b58d",
   "metadata": {},
   "source": [
    "준비1: \"00\" -> 커널재시작 "
   ]
  },
  {
   "cell_type": "markdown",
   "id": "27694dbb-f70b-482d-ab71-1bc4159e211b",
   "metadata": {},
   "source": [
    "준비2: `myfuns.py`을 복사하여 다른 폴더로 이동. 예를들면 IP0403 폴더를 만들고 그 폴더안에 myfuns.py파일을 복사해서 붙여넣은뒤에 파일이름을 myfuns2.py 로 변경. "
   ]
  },
  {
   "cell_type": "code",
   "execution_count": 3,
   "id": "a1d40149-b665-4176-b506-d0b471894f67",
   "metadata": {},
   "outputs": [],
   "source": [
    "import myfuns # 주피터노트북파일과 같은 폴더에 있는 myfuns는 잘 로드되지만 "
   ]
  },
  {
   "cell_type": "code",
   "execution_count": 4,
   "id": "165420e4-a661-4d20-89eb-2e3121460460",
   "metadata": {},
   "outputs": [
    {
     "ename": "ModuleNotFoundError",
     "evalue": "No module named 'myfuns2'",
     "output_type": "error",
     "traceback": [
      "\u001b[0;31m---------------------------------------------------------------------------\u001b[0m",
      "\u001b[0;31mModuleNotFoundError\u001b[0m                       Traceback (most recent call last)",
      "Input \u001b[0;32mIn [4]\u001b[0m, in \u001b[0;36m<cell line: 1>\u001b[0;34m()\u001b[0m\n\u001b[0;32m----> 1\u001b[0m \u001b[38;5;28;01mimport\u001b[39;00m \u001b[38;5;21;01mmyfuns2\u001b[39;00m\n",
      "\u001b[0;31mModuleNotFoundError\u001b[0m: No module named 'myfuns2'"
     ]
    }
   ],
   "source": [
    "import myfuns2 # 주피터노트북파일과 다른 폴더에 있는 myfuns2는 그렇지 않다. "
   ]
  },
  {
   "cell_type": "markdown",
   "id": "aed513be-450a-4a35-ad15-11858844b3c4",
   "metadata": {},
   "source": [
    "`-` IP0403 폴더에 있는 myfuns2.py를 실행하기 위해서는 아래와 같이 할 수 있다. "
   ]
  },
  {
   "cell_type": "markdown",
   "id": "a811b304-1c15-480e-a520-fd38e0e4e820",
   "metadata": {},
   "source": [
    "준비: \"00\" -> 커널재시작 "
   ]
  },
  {
   "cell_type": "code",
   "execution_count": 1,
   "id": "9f57caca-6965-4a73-be1c-99cd7e568abd",
   "metadata": {},
   "outputs": [],
   "source": [
    "from IP0403 import myfuns2"
   ]
  },
  {
   "cell_type": "code",
   "execution_count": 2,
   "id": "4c013c7f-d4d4-421a-99a5-dd1d478f5fa7",
   "metadata": {},
   "outputs": [
    {
     "name": "stdout",
     "output_type": "stream",
     "text": [
      "이것은 myfuns2.py에 정의된 함수입니다\n"
     ]
    },
    {
     "data": {
      "text/plain": [
       "[4, 6]"
      ]
     },
     "execution_count": 2,
     "metadata": {},
     "output_type": "execute_result"
    }
   ],
   "source": [
    "myfuns2.vec2_add([1,2],[3,4]) "
   ]
  },
  {
   "cell_type": "markdown",
   "id": "d6f37606-bbfd-4698-bed2-7ab520e19ee8",
   "metadata": {},
   "source": [
    "`-` 아래도 가능하다. "
   ]
  },
  {
   "cell_type": "markdown",
   "id": "6304c731-e6d5-42cd-bc05-b85215002ca2",
   "metadata": {},
   "source": [
    "준비: \"00\" -> 커널재시작 "
   ]
  },
  {
   "cell_type": "code",
   "execution_count": 1,
   "id": "faf6c053-2978-4f72-afae-f5796965daf5",
   "metadata": {},
   "outputs": [],
   "source": [
    "from IP0403.myfuns2 import vec2_add as add "
   ]
  },
  {
   "cell_type": "code",
   "execution_count": 2,
   "id": "a543ad80-0a41-4fb5-917a-7b8451de0625",
   "metadata": {},
   "outputs": [
    {
     "name": "stdout",
     "output_type": "stream",
     "text": [
      "이것은 myfuns2.py에 정의된 함수입니다\n"
     ]
    },
    {
     "data": {
      "text/plain": [
       "[4, 6]"
      ]
     },
     "execution_count": 2,
     "metadata": {},
     "output_type": "execute_result"
    }
   ],
   "source": [
    "add([1,2],[3,4])"
   ]
  },
  {
   "cell_type": "markdown",
   "id": "e90250bf-821b-47ad-bd3f-bb5fe143dabe",
   "metadata": {},
   "source": [
    "참고로 아래는 모두 정의되지 않음 "
   ]
  },
  {
   "cell_type": "code",
   "execution_count": 3,
   "id": "1bb0d58c-153c-4983-84a4-87ed0785445d",
   "metadata": {},
   "outputs": [
    {
     "ename": "NameError",
     "evalue": "name 'IP0403' is not defined",
     "output_type": "error",
     "traceback": [
      "\u001b[0;31m---------------------------------------------------------------------------\u001b[0m",
      "\u001b[0;31mNameError\u001b[0m                                 Traceback (most recent call last)",
      "Input \u001b[0;32mIn [3]\u001b[0m, in \u001b[0;36m<cell line: 1>\u001b[0;34m()\u001b[0m\n\u001b[0;32m----> 1\u001b[0m \u001b[43mIP0403\u001b[49m\u001b[38;5;241m.\u001b[39mmyfuns2\u001b[38;5;241m.\u001b[39mvec2_add([\u001b[38;5;241m1\u001b[39m,\u001b[38;5;241m2\u001b[39m],[\u001b[38;5;241m3\u001b[39m,\u001b[38;5;241m4\u001b[39m])\n",
      "\u001b[0;31mNameError\u001b[0m: name 'IP0403' is not defined"
     ]
    }
   ],
   "source": [
    "IP0403.myfuns2.vec2_add([1,2],[3,4]) "
   ]
  },
  {
   "cell_type": "code",
   "execution_count": 4,
   "id": "bd98263b-6b0a-47ff-a0ed-608507e7bae1",
   "metadata": {},
   "outputs": [
    {
     "ename": "NameError",
     "evalue": "name 'myfuns2' is not defined",
     "output_type": "error",
     "traceback": [
      "\u001b[0;31m---------------------------------------------------------------------------\u001b[0m",
      "\u001b[0;31mNameError\u001b[0m                                 Traceback (most recent call last)",
      "Input \u001b[0;32mIn [4]\u001b[0m, in \u001b[0;36m<cell line: 1>\u001b[0;34m()\u001b[0m\n\u001b[0;32m----> 1\u001b[0m \u001b[43mmyfuns2\u001b[49m\u001b[38;5;241m.\u001b[39mvec2_add([\u001b[38;5;241m1\u001b[39m,\u001b[38;5;241m2\u001b[39m],[\u001b[38;5;241m3\u001b[39m,\u001b[38;5;241m4\u001b[39m])\n",
      "\u001b[0;31mNameError\u001b[0m: name 'myfuns2' is not defined"
     ]
    }
   ],
   "source": [
    "myfuns2.vec2_add([1,2],[3,4]) "
   ]
  },
  {
   "cell_type": "code",
   "execution_count": 5,
   "id": "44dc14a3-bace-43be-b24a-40b838a135f7",
   "metadata": {},
   "outputs": [
    {
     "ename": "NameError",
     "evalue": "name 'vec2_add' is not defined",
     "output_type": "error",
     "traceback": [
      "\u001b[0;31m---------------------------------------------------------------------------\u001b[0m",
      "\u001b[0;31mNameError\u001b[0m                                 Traceback (most recent call last)",
      "Input \u001b[0;32mIn [5]\u001b[0m, in \u001b[0;36m<cell line: 1>\u001b[0;34m()\u001b[0m\n\u001b[0;32m----> 1\u001b[0m \u001b[43mvec2_add\u001b[49m([\u001b[38;5;241m1\u001b[39m,\u001b[38;5;241m2\u001b[39m],[\u001b[38;5;241m3\u001b[39m,\u001b[38;5;241m4\u001b[39m])\n",
      "\u001b[0;31mNameError\u001b[0m: name 'vec2_add' is not defined"
     ]
    }
   ],
   "source": [
    "vec2_add([1,2],[3,4]) "
   ]
  },
  {
   "cell_type": "markdown",
   "id": "98105b92-7019-42a9-8f51-f99b6fb47879",
   "metadata": {},
   "source": [
    "### import 고급 "
   ]
  },
  {
   "cell_type": "markdown",
   "id": "43c695bb-3da6-4d2f-b1dc-833191a65b00",
   "metadata": {},
   "source": [
    "#### 폴더와 함께 사용할시 "
   ]
  },
  {
   "cell_type": "markdown",
   "id": "99b43188-b802-427a-a6c8-876c97b1c7be",
   "metadata": {},
   "source": [
    "`-` 언뜻 생각하면 아래가 가능할 것 같다. \n",
    "```python\n",
    "import IP0403 \n",
    "IP0403.myfuns2.vec2_add([1,2],[3,4]) \n",
    "```"
   ]
  },
  {
   "cell_type": "markdown",
   "id": "131e890a-c233-4262-be75-b933f9d146ad",
   "metadata": {},
   "source": [
    "`-` 하지만 불가능하다. "
   ]
  },
  {
   "cell_type": "markdown",
   "id": "511f3e62-feff-47b4-8442-4ff20a3c485e",
   "metadata": {},
   "source": [
    "준비: \"00\" -> 커널재시작 "
   ]
  },
  {
   "cell_type": "code",
   "execution_count": 1,
   "id": "4b327bc5-c22c-4796-88c9-be5773c212e5",
   "metadata": {},
   "outputs": [],
   "source": [
    "import IP0403 "
   ]
  },
  {
   "cell_type": "markdown",
   "id": "a8f6f76c-497f-4d14-a4e3-70ea14ea4ae8",
   "metadata": {},
   "source": [
    "- 되는거아냐? "
   ]
  },
  {
   "cell_type": "code",
   "execution_count": 2,
   "id": "0a0f80fc-ef95-4a6c-a555-2dd3ebfd2db8",
   "metadata": {},
   "outputs": [
    {
     "ename": "AttributeError",
     "evalue": "module 'IP0403' has no attribute 'myfuns2'",
     "output_type": "error",
     "traceback": [
      "\u001b[0;31m---------------------------------------------------------------------------\u001b[0m",
      "\u001b[0;31mAttributeError\u001b[0m                            Traceback (most recent call last)",
      "Input \u001b[0;32mIn [2]\u001b[0m, in \u001b[0;36m<cell line: 1>\u001b[0;34m()\u001b[0m\n\u001b[0;32m----> 1\u001b[0m \u001b[43mIP0403\u001b[49m\u001b[38;5;241;43m.\u001b[39;49m\u001b[43mmyfuns2\u001b[49m\u001b[38;5;241m.\u001b[39mvec2_add([\u001b[38;5;241m1\u001b[39m,\u001b[38;5;241m2\u001b[39m],[\u001b[38;5;241m3\u001b[39m,\u001b[38;5;241m4\u001b[39m])\n",
      "\u001b[0;31mAttributeError\u001b[0m: module 'IP0403' has no attribute 'myfuns2'"
     ]
    }
   ],
   "source": [
    "IP0403.myfuns2.vec2_add([1,2],[3,4])"
   ]
  },
  {
   "cell_type": "markdown",
   "id": "09ea4a07-80c0-462a-b196-830821910b94",
   "metadata": {},
   "source": [
    "- 여기서 불가능하다. "
   ]
  },
  {
   "cell_type": "markdown",
   "id": "1057286d-4a63-4a65-9b0e-3532d4bfe95a",
   "metadata": {},
   "source": [
    "`-` **(암기)** IP0403 폴더안에 `__init__.py`라는 파일을 만들고 내용에 아래와 같이 쓰면 가능하다. \n",
    "```python\n",
    "# ./IP0403/__init__.py \n",
    "from . import myfuns2\n",
    "```"
   ]
  },
  {
   "cell_type": "markdown",
   "id": "abb0a355-cc12-456f-ba41-0f8a51aee128",
   "metadata": {},
   "source": [
    "준비1: 위의 지침을 따른다. "
   ]
  },
  {
   "cell_type": "markdown",
   "id": "90bd6171-4e8e-4ca2-a351-d8980d5fcdf0",
   "metadata": {},
   "source": [
    "준비2: \"00\" -> 커널재시작 "
   ]
  },
  {
   "cell_type": "code",
   "execution_count": 1,
   "id": "052a9b76-a579-4da9-b859-e2c1057a4883",
   "metadata": {},
   "outputs": [],
   "source": [
    "import IP0403 "
   ]
  },
  {
   "cell_type": "code",
   "execution_count": 2,
   "id": "f5866a18-6654-4471-b371-0c885823473e",
   "metadata": {},
   "outputs": [
    {
     "name": "stdout",
     "output_type": "stream",
     "text": [
      "이것은 myfuns2.py에 정의된 함수입니다\n"
     ]
    },
    {
     "data": {
      "text/plain": [
       "[4, 6]"
      ]
     },
     "execution_count": 2,
     "metadata": {},
     "output_type": "execute_result"
    }
   ],
   "source": [
    "IP0403.myfuns2.vec2_add([1,2],[3,4])"
   ]
  },
  {
   "cell_type": "markdown",
   "id": "ce4cfc7f-1f25-4f50-b8a3-3e5e54daf723",
   "metadata": {},
   "source": [
    "**컴퓨터 상식**\n",
    "- `.`: 현재폴더를 의미 \n",
    "- `..`: 상위폴더를 의미 \n",
    "- `./myfuns.py`: 현재폴더안에 있는 myfuns.py를 의미 \n",
    "- `./IP0403/myfuns2.py`: 현재폴더만에 IP0403폴더안의 myfuns2.py 파일을 의미\n",
    "- `../myfuns.py`: 현재폴더보다 한단계상위폴더에 있는 myfuns.py를 의미 \n",
    "- `cd ./IP0403`: 현재폴더안에 있는 IP0403폴더로 이동해라. (`cd IP0403`으로 줄여쓸 수 있음) \n",
    "- `cd ..` 현재폴더보다 한단계 상위폴더로 이동하라. "
   ]
  },
  {
   "cell_type": "markdown",
   "id": "5a608bab-04d0-4efe-99f2-b2c3ddad927c",
   "metadata": {},
   "source": [
    "**따라서 `from . import myfuns2`는 현재폴더에서 myfuns2를 찾아서 임포트 하라는 의미로 해석가능**"
   ]
  },
  {
   "cell_type": "markdown",
   "id": "7104a0ae-d555-48ae-be21-1c209b8e4f12",
   "metadata": {},
   "source": [
    "`-` 의미상으로 보면 아래가 실행가능할듯 한데 불가능하다. "
   ]
  },
  {
   "cell_type": "code",
   "execution_count": 3,
   "id": "f1992b93-6dc2-46bb-86e3-ea0046add92c",
   "metadata": {},
   "outputs": [
    {
     "ename": "ImportError",
     "evalue": "attempted relative import with no known parent package",
     "output_type": "error",
     "traceback": [
      "\u001b[0;31m---------------------------------------------------------------------------\u001b[0m",
      "\u001b[0;31mImportError\u001b[0m                               Traceback (most recent call last)",
      "Input \u001b[0;32mIn [3]\u001b[0m, in \u001b[0;36m<cell line: 2>\u001b[0;34m()\u001b[0m\n\u001b[1;32m      1\u001b[0m \u001b[38;5;66;03m#import myfuns\u001b[39;00m\n\u001b[0;32m----> 2\u001b[0m \u001b[38;5;28;01mfrom\u001b[39;00m \u001b[38;5;21;01m.\u001b[39;00m \u001b[38;5;28;01mimport\u001b[39;00m myfuns\n",
      "\u001b[0;31mImportError\u001b[0m: attempted relative import with no known parent package"
     ]
    }
   ],
   "source": [
    "#import myfuns\n",
    "from . import myfuns"
   ]
  },
  {
   "cell_type": "markdown",
   "id": "5891e4b0-bdf9-4932-9e66-c7f04355ea99",
   "metadata": {},
   "source": [
    "### site-packages (실습금지)"
   ]
  },
  {
   "cell_type": "markdown",
   "id": "bad9e945-6392-45e9-ac04-529119f40df7",
   "metadata": {},
   "source": [
    "`-` 의문: 왜 현재폴더에 numpy.py라든가 numpy라는 이름의 폴더가 없는데도 import 가능한지? "
   ]
  },
  {
   "cell_type": "markdown",
   "id": "1a49f6a4-25c8-450e-92c9-d2be97781fb2",
   "metadata": {},
   "source": [
    "준비: \"00\" -> 커널재시작 "
   ]
  },
  {
   "cell_type": "code",
   "execution_count": 1,
   "id": "468f0cb3-832a-4422-8045-20a03090505c",
   "metadata": {},
   "outputs": [],
   "source": [
    "import numpy as np"
   ]
  },
  {
   "cell_type": "code",
   "execution_count": 2,
   "id": "0840bd40-5fb3-49a5-914a-32c915339669",
   "metadata": {},
   "outputs": [],
   "source": [
    "import IP0403 as ip "
   ]
  },
  {
   "cell_type": "code",
   "execution_count": 7,
   "id": "ec310a73-1776-4a85-86b4-9d990debe8ce",
   "metadata": {},
   "outputs": [
    {
     "data": {
      "text/plain": [
       "\u001b[0;31mType:\u001b[0m        module\n",
       "\u001b[0;31mString form:\u001b[0m <module 'IP0403' from '/home/cgb3/Dropbox/07_lectures/IP2022/_notebooks/IP0403/__init__.py'>\n",
       "\u001b[0;31mFile:\u001b[0m        ~/Dropbox/07_lectures/IP2022/_notebooks/IP0403/__init__.py\n",
       "\u001b[0;31mDocstring:\u001b[0m   <no docstring>\n"
      ]
     },
     "metadata": {},
     "output_type": "display_data"
    }
   ],
   "source": [
    "ip?"
   ]
  },
  {
   "cell_type": "code",
   "execution_count": 6,
   "id": "35192748-2d19-4507-82bd-b7b76385596c",
   "metadata": {},
   "outputs": [
    {
     "data": {
      "text/plain": [
       "\u001b[0;31mType:\u001b[0m        module\n",
       "\u001b[0;31mString form:\u001b[0m <module 'numpy' from '/home/cgb3/anaconda3/envs/py310/lib/python3.10/site-packages/numpy/__init__.py'>\n",
       "\u001b[0;31mFile:\u001b[0m        ~/anaconda3/envs/py310/lib/python3.10/site-packages/numpy/__init__.py\n",
       "\u001b[0;31mDocstring:\u001b[0m  \n",
       "NumPy\n",
       "=====\n",
       "\n",
       "Provides\n",
       "  1. An array object of arbitrary homogeneous items\n",
       "  2. Fast mathematical operations over arrays\n",
       "  3. Linear Algebra, Fourier Transforms, Random Number Generation\n",
       "\n",
       "How to use the documentation\n",
       "----------------------------\n",
       "Documentation is available in two forms: docstrings provided\n",
       "with the code, and a loose standing reference guide, available from\n",
       "`the NumPy homepage <https://www.scipy.org>`_.\n",
       "\n",
       "We recommend exploring the docstrings using\n",
       "`IPython <https://ipython.org>`_, an advanced Python shell with\n",
       "TAB-completion and introspection capabilities.  See below for further\n",
       "instructions.\n",
       "\n",
       "The docstring examples assume that `numpy` has been imported as `np`::\n",
       "\n",
       "  >>> import numpy as np\n",
       "\n",
       "Code snippets are indicated by three greater-than signs::\n",
       "\n",
       "  >>> x = 42\n",
       "  >>> x = x + 1\n",
       "\n",
       "Use the built-in ``help`` function to view a function's docstring::\n",
       "\n",
       "  >>> help(np.sort)\n",
       "  ... # doctest: +SKIP\n",
       "\n",
       "For some objects, ``np.info(obj)`` may provide additional help.  This is\n",
       "particularly true if you see the line \"Help on ufunc object:\" at the top\n",
       "of the help() page.  Ufuncs are implemented in C, not Python, for speed.\n",
       "The native Python help() does not know how to view their help, but our\n",
       "np.info() function does.\n",
       "\n",
       "To search for documents containing a keyword, do::\n",
       "\n",
       "  >>> np.lookfor('keyword')\n",
       "  ... # doctest: +SKIP\n",
       "\n",
       "General-purpose documents like a glossary and help on the basic concepts\n",
       "of numpy are available under the ``doc`` sub-module::\n",
       "\n",
       "  >>> from numpy import doc\n",
       "  >>> help(doc)\n",
       "  ... # doctest: +SKIP\n",
       "\n",
       "Available subpackages\n",
       "---------------------\n",
       "doc\n",
       "    Topical documentation on broadcasting, indexing, etc.\n",
       "lib\n",
       "    Basic functions used by several sub-packages.\n",
       "random\n",
       "    Core Random Tools\n",
       "linalg\n",
       "    Core Linear Algebra Tools\n",
       "fft\n",
       "    Core FFT routines\n",
       "polynomial\n",
       "    Polynomial tools\n",
       "testing\n",
       "    NumPy testing tools\n",
       "f2py\n",
       "    Fortran to Python Interface Generator.\n",
       "distutils\n",
       "    Enhancements to distutils with support for\n",
       "    Fortran compilers support and more.\n",
       "\n",
       "Utilities\n",
       "---------\n",
       "test\n",
       "    Run numpy unittests\n",
       "show_config\n",
       "    Show numpy build configuration\n",
       "dual\n",
       "    Overwrite certain functions with high-performance SciPy tools.\n",
       "    Note: `numpy.dual` is deprecated.  Use the functions from NumPy or Scipy\n",
       "    directly instead of importing them from `numpy.dual`.\n",
       "matlib\n",
       "    Make everything matrices.\n",
       "__version__\n",
       "    NumPy version string\n",
       "\n",
       "Viewing documentation using IPython\n",
       "-----------------------------------\n",
       "Start IPython with the NumPy profile (``ipython -p numpy``), which will\n",
       "import `numpy` under the alias `np`.  Then, use the ``cpaste`` command to\n",
       "paste examples into the shell.  To see which functions are available in\n",
       "`numpy`, type ``np.<TAB>`` (where ``<TAB>`` refers to the TAB key), or use\n",
       "``np.*cos*?<ENTER>`` (where ``<ENTER>`` refers to the ENTER key) to narrow\n",
       "down the list.  To view the docstring for a function, use\n",
       "``np.cos?<ENTER>`` (to view the docstring) and ``np.cos??<ENTER>`` (to view\n",
       "the source code).\n",
       "\n",
       "Copies vs. in-place operation\n",
       "-----------------------------\n",
       "Most of the functions in `numpy` return a copy of the array argument\n",
       "(e.g., `np.sort`).  In-place versions of these functions are often\n",
       "available as array methods, i.e. ``x = np.array([1,2,3]); x.sort()``.\n",
       "Exceptions to this rule are documented.\n"
      ]
     },
     "metadata": {},
     "output_type": "display_data"
    }
   ],
   "source": [
    "np?"
   ]
  },
  {
   "cell_type": "markdown",
   "id": "ec2ae520-3089-4267-adeb-ced1a720cbb4",
   "metadata": {},
   "source": [
    "`-` 추측: `~/anaconda3/envs/py310/lib/python3.10/site-packages/`를 찾아가보자. 그곳에 numpy폴더가 있을 것이다. "
   ]
  },
  {
   "cell_type": "code",
   "execution_count": 13,
   "id": "ceaaaf68-5731-4919-a811-d3b3dfc3ab2d",
   "metadata": {},
   "outputs": [
    {
     "name": "stdout",
     "output_type": "stream",
     "text": [
      "numpy\n",
      "numpy-1.22.2.dist-info\n"
     ]
    }
   ],
   "source": [
    "!ls ~/anaconda3/envs/py310/lib/python3.10/site-packages | grep numpy"
   ]
  },
  {
   "cell_type": "markdown",
   "id": "9b823f22-c54a-453a-b23d-99c3275767ef",
   "metadata": {},
   "source": [
    "`-` 추측2: `~/anaconda3/envs/py310/lib/python3.10/site-packages/`에 내가 자주 쓰는 기능을 폴더로 만들어서 모아두면 어디서든지 import 할 수 있다. "
   ]
  },
  {
   "cell_type": "code",
   "execution_count": 14,
   "id": "fc3bcab1-9e3d-405b-8a87-5dd8008876eb",
   "metadata": {},
   "outputs": [],
   "source": [
    "!mkdir ~/anaconda3/envs/py310/lib/python3.10/site-packages/guebin # guebin 폴더 생성 "
   ]
  },
  {
   "cell_type": "code",
   "execution_count": 15,
   "id": "bcabf2fe-7e33-4420-95b1-f58a5af80742",
   "metadata": {},
   "outputs": [],
   "source": [
    "!cp ./myfuns.py ~/anaconda3/envs/py310/lib/python3.10/site-packages/guebin \n",
    "# 현폴더에 있는 myfuns.py를 아까만든 guebin 폴더로 복사 "
   ]
  },
  {
   "cell_type": "code",
   "execution_count": 16,
   "id": "d3b9d818-ef74-43bd-9dd6-0af505d4a1b2",
   "metadata": {},
   "outputs": [],
   "source": [
    "from guebin import myfuns"
   ]
  },
  {
   "cell_type": "code",
   "execution_count": 17,
   "id": "2e174e4d-dcff-4239-9f92-e5b1827bd828",
   "metadata": {},
   "outputs": [
    {
     "data": {
      "text/plain": [
       "\u001b[0;31mType:\u001b[0m        module\n",
       "\u001b[0;31mString form:\u001b[0m <module 'guebin.myfuns' from '/home/cgb3/anaconda3/envs/py310/lib/python3.10/site-packages/guebin/myfuns.py'>\n",
       "\u001b[0;31mFile:\u001b[0m        ~/anaconda3/envs/py310/lib/python3.10/site-packages/guebin/myfuns.py\n",
       "\u001b[0;31mDocstring:\u001b[0m   이것은 길이가 2인 벡터의 합 혹은 차를 구하는 모듈입니다.\n"
      ]
     },
     "metadata": {},
     "output_type": "display_data"
    }
   ],
   "source": [
    "myfuns?"
   ]
  },
  {
   "cell_type": "code",
   "execution_count": 19,
   "id": "7acb63b0-fb63-4d05-abbf-e42f2d1b5939",
   "metadata": {},
   "outputs": [],
   "source": [
    "!rm  ~/anaconda3/envs/py310/lib/python3.10/site-packages/guebin -rf # guebin 폴더삭제 "
   ]
  },
  {
   "cell_type": "markdown",
   "id": "8c18fd09-9454-49fd-9e28-e6dd1fe3d918",
   "metadata": {},
   "source": [
    "`-` 추측3: guebin이 사라진 상태에서는 `from guebin import myfuns` 이 동작하지 않을 것이다. "
   ]
  },
  {
   "cell_type": "markdown",
   "id": "cb1d9bc3-74a3-4172-9fd2-92a9feec6ab8",
   "metadata": {},
   "source": [
    "준비: \"00\" -> 커널재시작 "
   ]
  },
  {
   "cell_type": "code",
   "execution_count": 1,
   "id": "333e805b-1106-4981-9f93-da7e548cb92d",
   "metadata": {},
   "outputs": [
    {
     "ename": "ModuleNotFoundError",
     "evalue": "No module named 'guebin'",
     "output_type": "error",
     "traceback": [
      "\u001b[0;31m---------------------------------------------------------------------------\u001b[0m",
      "\u001b[0;31mModuleNotFoundError\u001b[0m                       Traceback (most recent call last)",
      "Input \u001b[0;32mIn [1]\u001b[0m, in \u001b[0;36m<cell line: 1>\u001b[0;34m()\u001b[0m\n\u001b[0;32m----> 1\u001b[0m \u001b[38;5;28;01mfrom\u001b[39;00m \u001b[38;5;21;01mguebin\u001b[39;00m \u001b[38;5;28;01mimport\u001b[39;00m myfuns\n",
      "\u001b[0;31mModuleNotFoundError\u001b[0m: No module named 'guebin'"
     ]
    }
   ],
   "source": [
    "from guebin import myfuns"
   ]
  },
  {
   "cell_type": "markdown",
   "id": "ef090f40-557e-488e-9e0e-c1f558b58084",
   "metadata": {},
   "source": [
    "`-` 추측4: `~/anaconda3/envs/py310/lib/python3.10/site-packages/`에서 numpy를 지운다면 numpy를 import할 수 없다. "
   ]
  },
  {
   "cell_type": "markdown",
   "id": "b7fecfb4-9ab8-4aa7-a61a-6fa417fc9545",
   "metadata": {},
   "source": [
    "준비: \"00\" -> 커널재시작 "
   ]
  },
  {
   "cell_type": "code",
   "execution_count": 1,
   "id": "5e93e14a-5a47-4d17-9b5e-4b46e5eadbcb",
   "metadata": {},
   "outputs": [
    {
     "ename": "ModuleNotFoundError",
     "evalue": "No module named 'numpy'",
     "output_type": "error",
     "traceback": [
      "\u001b[0;31m---------------------------------------------------------------------------\u001b[0m",
      "\u001b[0;31mModuleNotFoundError\u001b[0m                       Traceback (most recent call last)",
      "Input \u001b[0;32mIn [1]\u001b[0m, in \u001b[0;36m<cell line: 1>\u001b[0;34m()\u001b[0m\n\u001b[0;32m----> 1\u001b[0m \u001b[38;5;28;01mimport\u001b[39;00m \u001b[38;5;21;01mnumpy\u001b[39;00m \u001b[38;5;28;01mas\u001b[39;00m \u001b[38;5;21;01mnp\u001b[39;00m\n",
      "\u001b[0;31mModuleNotFoundError\u001b[0m: No module named 'numpy'"
     ]
    }
   ],
   "source": [
    "import numpy as np"
   ]
  },
  {
   "cell_type": "markdown",
   "id": "4ccfcdd9-d20a-40ac-9149-0f75bca986b1",
   "metadata": {},
   "source": [
    "`-` 추측5: `!pip install numpy`를 하면 다시 폴더가 생길 것이다. "
   ]
  },
  {
   "cell_type": "code",
   "execution_count": 3,
   "id": "3bf3e7a2-8ebd-49aa-8b59-f7094efa6fc0",
   "metadata": {},
   "outputs": [
    {
     "name": "stdout",
     "output_type": "stream",
     "text": [
      "Found existing installation: numpy 1.22.2\n",
      "Uninstalling numpy-1.22.2:\n",
      "  Successfully uninstalled numpy-1.22.2\n"
     ]
    }
   ],
   "source": [
    "!pip uninstall numpy -y "
   ]
  },
  {
   "cell_type": "code",
   "execution_count": 4,
   "id": "1bc9331e-158d-487a-b1fe-45cd212d51ad",
   "metadata": {},
   "outputs": [
    {
     "name": "stdout",
     "output_type": "stream",
     "text": [
      "Collecting numpy\n",
      "  Downloading numpy-1.22.3-cp310-cp310-manylinux_2_17_x86_64.manylinux2014_x86_64.whl (16.8 MB)\n",
      "\u001b[K     |████████████████████████████████| 16.8 MB 11.4 MB/s eta 0:00:01\n",
      "\u001b[?25hInstalling collected packages: numpy\n",
      "Successfully installed numpy-1.22.3\n"
     ]
    }
   ],
   "source": [
    "!pip install numpy "
   ]
  },
  {
   "cell_type": "markdown",
   "id": "ed84b450-b3b2-4aa3-be95-ffa6ffb34dee",
   "metadata": {},
   "source": [
    "### 모듈, 패키지, 라이브러리? "
   ]
  },
  {
   "cell_type": "markdown",
   "id": "566820ed-48ba-463a-8496-274db9307060",
   "metadata": {},
   "source": [
    "`-` 모듈의 개념은 아까 살펴본것과 같다. (import를 하여 생기게 되는 오브젝트) "
   ]
  },
  {
   "cell_type": "markdown",
   "id": "d38b90d9-d061-4f74-b01f-d4103f53f10f",
   "metadata": {},
   "source": [
    "`-` 교수님들: 모듈이 모이면 패키지라고 부른다. 그리고 라이브러리는 패키지보다 큰 개념이다. "
   ]
  },
  {
   "cell_type": "markdown",
   "id": "6197251f-7d01-456f-888e-bcef1721c065",
   "metadata": {},
   "source": [
    "`-` 그런데 구분이 모호하다. "
   ]
  },
  {
   "cell_type": "code",
   "execution_count": 1,
   "id": "d0bade15-350a-4553-a4c3-3754ffda1dee",
   "metadata": {},
   "outputs": [],
   "source": [
    "import numpy as np"
   ]
  },
  {
   "cell_type": "code",
   "execution_count": 3,
   "id": "0971cf4b-f7a7-4962-a393-cc50c92d6e52",
   "metadata": {},
   "outputs": [
    {
     "data": {
      "text/plain": [
       "module"
      ]
     },
     "execution_count": 3,
     "metadata": {},
     "output_type": "execute_result"
    }
   ],
   "source": [
    "type(np)"
   ]
  },
  {
   "cell_type": "markdown",
   "id": "12a125dd-636d-4c6d-889d-adb09add6160",
   "metadata": {},
   "source": [
    "`-` python에서의 numpy의 type은 모듈 "
   ]
  },
  {
   "cell_type": "markdown",
   "id": "9b9c5076-28b2-481d-a981-4bc55f7bae9c",
   "metadata": {},
   "source": [
    "`-` 그런데 numpy package 라고 검색하면 검색이 된다. "
   ]
  },
  {
   "cell_type": "markdown",
   "id": "cb2d2d90-1597-4f38-aaa3-0c40066206eb",
   "metadata": {},
   "source": [
    "`-` 심지어 numpy library 라고 해도 검색가능 "
   ]
  },
  {
   "cell_type": "markdown",
   "id": "5c09000c-85e0-4f54-b213-439b1719d1c7",
   "metadata": {},
   "source": [
    "`-` 내생각: 넘파이모듈, 넘파이패키지, 넘파이라이브러리 다 맞는 말임 "
   ]
  },
  {
   "cell_type": "markdown",
   "id": "bf1ec07e-e97d-46cf-a408-3431bd03ee99",
   "metadata": {},
   "source": [
    "### 숙제 "
   ]
  },
  {
   "cell_type": "markdown",
   "id": "18e78699-af7d-4368-91ca-5e44dc2da7f5",
   "metadata": {},
   "source": [
    "myfuns.py 도움말 만드는 예제에서\n",
    "```\n",
    "이것은 길이가 2인 벡터의 합 혹은 차를 구하는 모듈입니다\n",
    "```\n",
    "대신에 \n",
    "```\n",
    "이것은 길이가 2인 벡터의 합 혹은 차를 구하는 모듈입니다. (학번: 2022-43052) \n",
    "```\n",
    "와 같이 출력되도록 하고 스크린샷 제출 "
   ]
  }
 ],
 "metadata": {
  "kernelspec": {
   "display_name": "Python 3",
   "language": "python",
   "name": "python3"
  },
  "language_info": {
   "codemirror_mode": {
    "name": "ipython",
    "version": 3
   },
   "file_extension": ".py",
   "mimetype": "text/x-python",
   "name": "python",
   "nbconvert_exporter": "python",
   "pygments_lexer": "ipython3",
   "version": "3.8.0"
  }
 },
 "nbformat": 4,
 "nbformat_minor": 5
}
