{
 "cells": [
  {
   "cell_type": "raw",
   "id": "f1e8715c-9213-4e6e-911a-b6f22962ee67",
   "metadata": {
    "id": "cac470df-29e7-4148-9bbd-d8b9a32fa570",
    "tags": []
   },
   "source": [
    "---\n",
    "title: \"DSTBX2023(6)\"\n",
    "author: \"SEOYEON CHOI\"\n",
    "date: \"2024-01-12\"\n",
    "---"
   ]
  },
  {
   "cell_type": "markdown",
   "id": "281d1b53-0e3c-40b3-940d-5100cb02973f",
   "metadata": {},
   "source": [
    "## 실습68: 100MB 충돌 "
   ]
  },
  {
   "cell_type": "markdown",
   "id": "5a4e0bbc-c024-49bc-ace8-180d327f83f2",
   "metadata": {},
   "source": [
    "`-` 100MB가 넘는 파일을 upload할 경우 생기는 충돌 재현 \n",
    "\n",
    "```bash\n",
    "git clone https://github.com/guebin/dinner.git # 각자 레포를 만들고 클론할것 \n",
    "cd dinner # 클론한 repo로 이동\n",
    "git config credential.helper store # git 등록 \n",
    "wget https://media.githubusercontent.com/media/guebin/PP2023/main/posts/fashion-mnist_train.csv # 100MB넘는 csv다운로드 \n",
    "git add .\n",
    "git commit -m .\n",
    "git push \n",
    "#여기서 1차당황\n",
    "```"
   ]
  },
  {
   "cell_type": "markdown",
   "id": "8d4aee89-89ba-4d62-9f0b-936961838ea8",
   "metadata": {},
   "source": [
    "`-` 깃 클론 한 거 삭제후 다시 push\n",
    "\n",
    "```bash\n",
    "rm fashion-mnist_train.csv \n",
    "git add .\n",
    "git commit -m .\n",
    "git push \n",
    "# 여기서 2차당황\n",
    "```"
   ]
  },
  {
   "cell_type": "markdown",
   "id": "60d240e0-1ceb-4e30-9894-39e14481dc74",
   "metadata": {},
   "source": [
    "`-` 해결책? local에서 기존 폴더 잘 저장해놓고 깃폴더삭제하고 다시 clone  "
   ]
  },
  {
   "cell_type": "markdown",
   "id": "f155b113-5d89-482d-b79e-76ad5f5c2957",
   "metadata": {},
   "source": [
    "## 실습69: git ignore "
   ]
  },
  {
   "cell_type": "markdown",
   "id": "1ec4e293-4ae3-446d-ac42-320b9a050d26",
   "metadata": {},
   "source": [
    "`-` 다시 아래의 상황을 만듦. \n",
    "\n",
    "```bash\n",
    "git clone https://github.com/guebin/dinner.git # 각자 레포를 만들고 클론할것 \n",
    "cd dinner # 클론한 repo로 이동\n",
    "git config credential.helper store # git 등록 \n",
    "wget https://media.githubusercontent.com/media/guebin/PP2023/main/posts/fashion-mnist_train.csv # 100MB넘는 csv다운로드 \n",
    "```"
   ]
  },
  {
   "cell_type": "markdown",
   "id": "f18e3869-a5f2-480b-ab74-5b2046b178da",
   "metadata": {
    "tags": []
   },
   "source": [
    "`-` `.gitignore` 파일 생성 \n",
    "\n",
    "```{.bash filename=~/dinner/.gitignore}\n",
    "*.csv\n",
    "```\n",
    "\n",
    "위와 같이 입력"
   ]
  },
  {
   "cell_type": "markdown",
   "id": "470905f4-48be-4b9c-8e4d-7f2da61ac5b7",
   "metadata": {},
   "source": [
    "`-` 아래를 시도 \n",
    "\n",
    "```bash\n",
    "git add .\n",
    "git commit -m .\n",
    "git push \n",
    "```"
   ]
  },
  {
   "cell_type": "markdown",
   "id": "1763b440-c35f-49a2-b160-fe9958b90a4c",
   "metadata": {},
   "source": [
    "`-` 하위폴더도 영향받음을 확인 \n",
    "\n",
    "- data라는 폴더를 생성\n",
    "- fashion-mnist_train.csv 를 data 폴더로 이동 \n",
    "- `ls data > ./data/data_list.txt` 실행 (무슨뜻?)\n",
    "- github으로 push"
   ]
  },
  {
   "cell_type": "markdown",
   "id": "03bf0551-b2c4-4739-90ce-6be7cbb4cbbe",
   "metadata": {},
   "source": [
    "## 실습70: 블로그 제목이 update 되지 않을때 "
   ]
  },
  {
   "cell_type": "markdown",
   "id": "004a4144-7f11-4b27-b8cc-0dfd308f94e2",
   "metadata": {},
   "source": [
    "::: {.callout-note}\n",
    "docs 로 render하는 버전일 떄, docs 폴더를 지우고 다시 render 하지\n",
    ":::\n"
   ]
  },
  {
   "cell_type": "markdown",
   "id": "7a991649-e46e-4c31-b149-2715f6acd381",
   "metadata": {},
   "source": [
    "## 실습71: dinner를 codespace로 만들기 "
   ]
  },
  {
   "cell_type": "markdown",
   "id": "60a33c42-c40b-45cd-bd20-87671b44daf3",
   "metadata": {},
   "source": [
    "## 실습72: `revert` vs `reset` "
   ]
  },
  {
   "cell_type": "markdown",
   "id": "b96938e7-cb2f-44e0-afbc-7f896d3c299a",
   "metadata": {},
   "source": [
    "```\n",
    "git add .\n",
    "git commit \"message\"\n",
    "```"
   ]
  },
  {
   "cell_type": "markdown",
   "id": "ed383237-c28d-42b6-8eac-31f5dcae3e18",
   "metadata": {},
   "source": [
    "```\n",
    "git log\n",
    "git reset \"log기록 넣기\" --hard\n",
    "```"
   ]
  },
  {
   "cell_type": "markdown",
   "id": "d979d81a-4107-4882-8fea-fa9481198e45",
   "metadata": {},
   "source": [
    "::: {.callout-note}\n",
    "여기서 `--hard`는 중요하지 않음\n",
    "\n",
    "그 시점으 자체로 돌아가는 것\n",
    ":::"
   ]
  },
  {
   "cell_type": "markdown",
   "id": "260a1421-af2e-4e96-9bca-6cb1a33b0449",
   "metadata": {},
   "source": [
    "```\n",
    "git reflog\n",
    "```"
   ]
  },
  {
   "cell_type": "markdown",
   "id": "3c52a4aa-57d0-4fc8-873c-eac4b1aa409f",
   "metadata": {},
   "source": [
    "::: {.callout-note}\n",
    "시점이 적혀있는 git 기록들을 볼 수 있다.\n",
    ":::"
   ]
  },
  {
   "cell_type": "markdown",
   "id": "f76e215a-d970-4af9-97eb-2f9d4e9d187a",
   "metadata": {},
   "source": [
    "```\n",
    "HEAD@{0}: reset: moving to c7a5bf764427bde274f6d42472f13ac1b4fae152\n",
    "```"
   ]
  },
  {
   "cell_type": "markdown",
   "id": "738f70c1-9836-47c5-aa9f-044e51fcc2af",
   "metadata": {},
   "source": [
    "> 이처럼 내가 reset한 기록도 뜬다,"
   ]
  },
  {
   "cell_type": "markdown",
   "id": "0bf7d7c1-9efa-437a-a753-dd16b385827e",
   "metadata": {},
   "source": [
    "::: {.callout-tip}\n",
    "시점 이동해서 파일 열어볼 수도 있지\n",
    "\n",
    "특정 시점으로 이동 가능\n",
    "\n",
    "마지막 git 이후에 git이 다시 log된다!\n",
    ":::"
   ]
  },
  {
   "cell_type": "markdown",
   "id": "85584459-b668-44c3-9b81-f62e132632ff",
   "metadata": {},
   "source": [
    "> `sudo apt-get install git`으로 git을 설치함으로써 할 수 있는 action들이다."
   ]
  },
  {
   "cell_type": "markdown",
   "id": "a8c95420-3759-48ca-87e8-ebccd32ad191",
   "metadata": {},
   "source": [
    "## 실습73: 한꺼풀씩 `revert`"
   ]
  },
  {
   "cell_type": "markdown",
   "id": "b9d19a54-c682-45e8-b364-fc72714d01bd",
   "metadata": {},
   "source": [
    "> git log 가 3개 있다고 할때, 3시점으로 각각 위로 올라갈 수 있음."
   ]
  },
  {
   "cell_type": "markdown",
   "id": "5782319f-24c5-4d57-b19e-f31bacb6c715",
   "metadata": {},
   "source": [
    "::: {.callout-note}\n",
    "`git add .`\n",
    "\n",
    "모든 파일을 올리겠다는 뜻\n",
    "\n",
    "`git add a.txt`\n",
    "\n",
    "`a.txt` 파일을 올리겠다는 뜻\n",
    ":::"
   ]
  },
  {
   "cell_type": "markdown",
   "id": "07099a88-0d96-4bf7-ac79-495abaf1a2de",
   "metadata": {},
   "source": [
    "## 실습74: `revert`, `reset`이 가능한 이유? "
   ]
  },
  {
   "cell_type": "markdown",
   "id": "c8822b0f-c4f6-4c9c-8ad2-bb2ab9677026",
   "metadata": {},
   "source": [
    "## 실습75: git과 github의 차이점"
   ]
  },
  {
   "cell_type": "markdown",
   "id": "0fdc4c87-a34a-4ed6-b263-48a055dc403d",
   "metadata": {},
   "source": [
    "## 실습76: `git branch` "
   ]
  },
  {
   "cell_type": "markdown",
   "id": "f82f069c-c2f8-4203-aad5-ba9c02e4931e",
   "metadata": {},
   "source": [
    "```\n",
    "git branch \"name\"\n",
    "\n",
    "이라고 치면 name의 branch 가 만드렁짐\n",
    "```"
   ]
  },
  {
   "cell_type": "markdown",
   "id": "0cbd713b-0257-49fa-b282-713d0db77604",
   "metadata": {},
   "source": [
    "## 실습77: `merge` 와 `rebase`의 차이점 "
   ]
  },
  {
   "cell_type": "markdown",
   "id": "712af8f0-0827-4390-b80c-fc91afd8f323",
   "metadata": {},
   "source": [
    "> `branch main`으로 switch해서 하기"
   ]
  },
  {
   "cell_type": "markdown",
   "id": "933c8c5e-c369-40ee-b007-b27ba5d77200",
   "metadata": {},
   "source": [
    "::: {.callout-note}\n",
    "`git rebase \"name\"`\n",
    "\n",
    "하면 시점이 다시 작성됨, 원래 각 branch에 쓰이던 게 main이 한 것 처럼?\n",
    ":::"
   ]
  },
  {
   "cell_type": "markdown",
   "id": "b2667e57-45a1-473b-9145-0f71f487d64e",
   "metadata": {},
   "source": [
    "::: {.callout-tip}\n",
    "만약 branch 간 같은 파일에 대해 각 branch에서 수정했다면 merge 하라고 경고 뜨고 rebase 해주지 않는다.:::"
   ]
  },
  {
   "cell_type": "markdown",
   "id": "139553ca-5cd7-42a6-9e0e-8cc567f6fc1a",
   "metadata": {},
   "source": [
    "::: {.callout-note}\n",
    "`git merge \"name\"`\n",
    "\n",
    "시점 순서 바뀌지 않음. main에 대한 시점이 추가될 뿐\n",
    ":::"
   ]
  },
  {
   "cell_type": "markdown",
   "id": "a9f62285-6c95-4d72-9eba-881673689c28",
   "metadata": {},
   "source": [
    "## 실습78: 제가 쓰는 방식 "
   ]
  },
  {
   "cell_type": "markdown",
   "id": "e8fa64ff-5229-4f50-9267-e1a0493ffd00",
   "metadata": {},
   "source": [
    "---"
   ]
  },
  {
   "cell_type": "markdown",
   "id": "81f142ea-8ebd-49c4-89b1-5a913dd4dd41",
   "metadata": {},
   "source": [
    "git lens 를 vscode에서 쓰자\n",
    "\n",
    "시각적으로 좋음"
   ]
  },
  {
   "cell_type": "code",
   "execution_count": null,
   "id": "89097fe0-3498-4be9-80c4-dd3b00996433",
   "metadata": {},
   "outputs": [],
   "source": []
  }
 ],
 "metadata": {
  "kernelspec": {
   "display_name": "Python 3",
   "language": "python",
   "name": "python3"
  },
  "language_info": {
   "codemirror_mode": {
    "name": "ipython",
    "version": 3
   },
   "file_extension": ".py",
   "mimetype": "text/x-python",
   "name": "python",
   "nbconvert_exporter": "python",
   "pygments_lexer": "ipython3",
   "version": "3.8.0"
  }
 },
 "nbformat": 4,
 "nbformat_minor": 5
}
