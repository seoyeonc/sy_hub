{
 "cells": [
  {
   "cell_type": "raw",
   "id": "e0cc2625-8d5c-423a-92d3-db254c2df7eb",
   "metadata": {
    "id": "cac470df-29e7-4148-9bbd-d8b9a32fa570",
    "tags": []
   },
   "source": [
    "---\n",
    "title: \"Tableau\"\n",
    "author: \"SEOYEON CHOI\"\n",
    "date: \"2025-02-19\"\n",
    "---"
   ]
  },
  {
   "cell_type": "markdown",
   "id": "d0d254b0-0a41-4b01-8b70-4232ebcd295c",
   "metadata": {},
   "source": [
    "# Keywords"
   ]
  },
  {
   "cell_type": "markdown",
   "id": "d544e330-890f-4c4f-9a6a-f73d3cf37b85",
   "metadata": {},
   "source": [
    "- 디지털 트랜스포메이션 Digital Transformation = DT\n",
    "- 데이터 리터러시 Data Literacy\n",
    "    - 데이터를 보고 활용힐 수 있는 능력\n",
    "    - 비즈니스 인사이트 발굴\n",
    "- 데이터 시각화 Data Visualization\n",
    "    - 스토리텔링 및 인사이트 발굴"
   ]
  },
  {
   "cell_type": "markdown",
   "id": "2dec714a-d6e4-4304-a684-9f879fcb7670",
   "metadata": {},
   "source": [
    "# Tableau"
   ]
  },
  {
   "cell_type": "markdown",
   "id": "bff5f21c-68b7-4511-b103-d7fb60ee08a2",
   "metadata": {},
   "source": [
    "누구나 사용할 수 있는 Data Visulazation Solution\n",
    "\n",
    "- 장점\n",
    "    - drag만으로 figure 만들기 가능\n",
    "    - 다양한 혀애의 visualization"
   ]
  },
  {
   "cell_type": "markdown",
   "id": "4d7e16ad-b6cb-4e28-ad86-432e18978ccd",
   "metadata": {},
   "source": [
    "- 측정값\n",
    "    - 숫자-액션-집계-차트 순\n",
    "- 차원\n",
    "    - 어떻게 나눠서 볼 것인가?"
   ]
  },
  {
   "cell_type": "markdown",
   "id": "a1704e20-289c-4e45-8257-2f7eadd400a7",
   "metadata": {},
   "source": [
    "- 불연속형 필드\n",
    "- 연속형 필드"
   ]
  },
  {
   "cell_type": "markdown",
   "id": "e2d60de5-83fc-4c9a-a305-ad1dd12610e0",
   "metadata": {},
   "source": [
    "- 부분전체 분석"
   ]
  },
  {
   "cell_type": "markdown",
   "id": "b77d10c9-f851-4859-a9be-1ea0d30aa7dc",
   "metadata": {},
   "source": [
    "command + 1 = show me 단축키"
   ]
  },
  {
   "cell_type": "markdown",
   "id": "f00bd0c1-1302-44e5-9fab-7ab16f29bd14",
   "metadata": {},
   "source": [
    "Δ 표시는 테이블 단위로 계산되었다는 표시"
   ]
  },
  {
   "cell_type": "markdown",
   "id": "fe8bebf8-a2c9-4e65-b364-9e438dfb3563",
   "metadata": {},
   "source": [
    "- 파이차트보다 트리맵이 좋은 경우\n",
    "    - 분류 수가 많은 경우 파이차트는 시각적으로 보기 어렵다."
   ]
  },
  {
   "cell_type": "markdown",
   "id": "92458587-bf77-445b-a855-68875ce9df21",
   "metadata": {},
   "source": [
    "- 분산형 차트\n",
    "    - 차원은 0 개 이산\n",
    "    - 측정값이 2~4개인 경우 추천\n",
    "    - 열 선반과 행 선반에 각각 측정값을 배차하면 자동적으로 만들어진다.\n",
    "- 데이터 설명\n",
    "    - 이상치가 있으면 설명해주기도 함\n",
    "- 매개 변수 적용"
   ]
  },
  {
   "cell_type": "markdown",
   "id": "f46af73a-5ea7-4d0f-b09a-cf9c3ad47833",
   "metadata": {},
   "source": [
    "- 이중 축(Dual Axis)\n",
    "- 결합된 축(Combined Axis)"
   ]
  },
  {
   "cell_type": "markdown",
   "id": "6e4d07c1-5b9f-4434-a803-6345524b356e",
   "metadata": {},
   "source": [
    "- 그룹(Group)\n",
    "    - 차원필드에서 우클릭 만들기 그룹\n",
    "    - 여러 그룹으로 묶기 가능\n",
    "- 집합(Set)\n",
    "    - 교집합 여집합 합집합으로 조건 보기 가능\n",
    "    - 폴더로 차원보기해서 보고싶른 집합만 폴더로 묶기 가능\n",
    "    - in / out으로 표시"
   ]
  },
  {
   "cell_type": "markdown",
   "id": "bd9fba50-0823-4918-a659-a7bf781371a1",
   "metadata": {},
   "source": [
    "- 계층 만들기\n",
    "    - 계층(hierarchy) 은 화면에서\n",
    "    - 드릴 다운(Drill-down)해서 값을 세부적으로 찾는 데 유용합니다.\n",
    "- 총계 만들기\n",
    "    - 총계(Total)는 각각의 요소들의 총 값을 보여주는 방식으로 범위에 따라\n",
    "    - 총합계 및 소계, 그리고 열과 행 기준으로 각각 TOTAL을 표시할 수 있습니다."
   ]
  },
  {
   "cell_type": "markdown",
   "id": "e7ec4aa9-910a-49da-931f-70c8a18e4f6d",
   "metadata": {},
   "source": [
    "- 지리적 역할 부여하기\n",
    "- map 차트 구현하기"
   ]
  },
  {
   "cell_type": "markdown",
   "id": "35b60d75-d29a-49db-88d0-c562dca8ab3b",
   "metadata": {},
   "source": [
    "- 대시보드 "
   ]
  },
  {
   "cell_type": "code",
   "execution_count": null,
   "id": "bae7acd2-1730-42a6-80b3-0e1de8885425",
   "metadata": {},
   "outputs": [],
   "source": []
  }
 ],
 "metadata": {
  "kernelspec": {
   "display_name": "Python 3",
   "language": "python",
   "name": "python3"
  },
  "language_info": {
   "codemirror_mode": {
    "name": "ipython",
    "version": 3
   },
   "file_extension": ".py",
   "mimetype": "text/x-python",
   "name": "python",
   "nbconvert_exporter": "python",
   "pygments_lexer": "ipython3",
   "version": "3.8.0"
  }
 },
 "nbformat": 4,
 "nbformat_minor": 5
}
