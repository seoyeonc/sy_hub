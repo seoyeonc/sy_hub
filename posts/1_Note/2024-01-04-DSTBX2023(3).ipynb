{
 "cells": [
  {
   "cell_type": "raw",
   "id": "b87d7eeb-5617-4c91-a691-e761c12a8fa9",
   "metadata": {
    "id": "cac470df-29e7-4148-9bbd-d8b9a32fa570",
    "tags": []
   },
   "source": [
    "---\n",
    "title: \"DSTBX2023(3)\"\n",
    "author: \"SEOYEON CHOI\"\n",
    "date: \"2024-01-04\"\n",
    "---"
   ]
  },
  {
   "cell_type": "markdown",
   "id": "f45c3406-4e03-4271-9cb6-ebd43568ef02",
   "metadata": {
    "tags": []
   },
   "source": [
    "## 실습26: 186 컴퓨터에서 깃+깃헙연결하기 "
   ]
  },
  {
   "cell_type": "markdown",
   "id": "3a8c60ac-78ba-4fc9-855d-ce1c0909b4f3",
   "metadata": {},
   "source": [
    "`-` 186에서 깃+깃헙연결할때 어려운점. \n",
    "\n",
    "- 토큰을 쳐야한다는게 어려움. \n",
    "- 윈도우에서는 직접로그인으로 인증했음. 코드스페이스에서는 별도의 인증과정이 필요없었음.\n",
    "- 일반서버에서는 토큰으로 해결해야함. (다른 방법도 있는데 그냥 이게 젤 편함) "
   ]
  },
  {
   "cell_type": "markdown",
   "id": "18471396-43d5-44bf-8520-5e1c76a8b838",
   "metadata": {
    "tags": []
   },
   "source": [
    "`-` 비밀번호 치는게 귀찮으면? \n",
    "\n",
    "```bash\n",
    "git config credential.helper store # 이걸실행하고 이후에 한번만 푸시하면 된다. \n",
    "git add .\n",
    "git commit -m . \n",
    "git push \n",
    "```"
   ]
  },
  {
   "cell_type": "markdown",
   "id": "7d8b12c5-66d4-4769-a338-446be3b3e106",
   "metadata": {},
   "source": [
    "## 실습27: 작업하던 블로그를 강의실 윈도우로 clone"
   ]
  },
  {
   "cell_type": "markdown",
   "id": "ab58a4ce-8ca4-4e6f-8a08-972675c86823",
   "metadata": {},
   "source": [
    "`-` 아래를 실행하면 됩니당 \n",
    "\n",
    "```bash\n",
    "git clone {repo-name} # 처음부터 새로만듦\n",
    "```"
   ]
  },
  {
   "cell_type": "markdown",
   "id": "a33375c7-d0a9-4fe3-8f5e-74572f5c53ed",
   "metadata": {},
   "source": [
    "## 실습28: 블로그 생성원리 이해하기 "
   ]
  },
  {
   "cell_type": "markdown",
   "id": "af2c2d23-29f1-4994-988c-5d5e1e2bc4a9",
   "metadata": {},
   "source": [
    "`-` 아래를 실행하고 `git switch`를 사용할시 무슨일이 생기는지 파악 \n",
    "\n",
    "```bash\n",
    "# git add . \n",
    "# git commit -m . # 이거 2개가 깃에서의 save 라고 생각하자. \n",
    "git switch gh-pages\n",
    "git switch main \n",
    "```"
   ]
  },
  {
   "cell_type": "markdown",
   "id": "582e4d06-bf78-4c70-bef7-c09982ed65cb",
   "metadata": {},
   "source": [
    "`-` 위의 과정을 반복해보면서 폴더를 관찰. 느낀점 서술 "
   ]
  },
  {
   "cell_type": "markdown",
   "id": "82dbe55d-20d3-4e63-a3bd-c5c37d7eb480",
   "metadata": {},
   "source": [
    "`-` `git switch gh-pages`한 상태에서 폴더에 존재하는 html파일들을 열어볼 것. "
   ]
  },
  {
   "cell_type": "markdown",
   "id": "caedfbd2-4817-41dd-8135-fb094f3b81ec",
   "metadata": {},
   "source": [
    "::: {.callout-note}\n",
    "`git switch gh-pages` - html 로 열리는 about 등 파일\n",
    "\n",
    "`git switch main ` - qmd 로 열리는 about 등 파일\n",
    ":::"
   ]
  },
  {
   "cell_type": "markdown",
   "id": "4bfe7809-f552-473e-8878-db9b851673fc",
   "metadata": {},
   "source": [
    "## 실습29: 블로그 깨기 "
   ]
  },
  {
   "cell_type": "markdown",
   "id": "6a8358c3-bf60-493d-a12c-2bd67b2853fe",
   "metadata": {},
   "source": [
    "`-` `git swtich gh-pages`한 상태에서 폴더에 존재하는 모든 파일을 삭제 $\\to$ 본인 홈페이지에 가보자. 홈페이지는 살아 있는가? "
   ]
  },
  {
   "cell_type": "markdown",
   "id": "89c42c42-9a40-41e1-a802-27dcf61df7ee",
   "metadata": {},
   "source": [
    "`-` 아래를 실행하고 본인홈페이지에 방문해보자. 홈페이지는 살아있는가? \n",
    "\n",
    "```bash\n",
    "git add . \n",
    "git commit -m .\n",
    "git push\n",
    "```"
   ]
  },
  {
   "cell_type": "markdown",
   "id": "90738cbc-2fac-40c6-89a4-56ca7a82b07e",
   "metadata": {},
   "source": [
    "`-` 왜 죽었다고 생각하는가? "
   ]
  },
  {
   "cell_type": "markdown",
   "id": "0639459f-685f-45cc-ae57-0351b2c4d795",
   "metadata": {},
   "source": [
    "`-` 깃헙 특수기능 중 하나인 웹페이지 배포능력에 대하여 스스로 이해한 바를 서술해보자. "
   ]
  },
  {
   "cell_type": "markdown",
   "id": "e7522790-07a7-4eb8-9512-7bd4b8dc3592",
   "metadata": {},
   "source": [
    "## 실습30: 코드를 숨기는 블로그 (야메)"
   ]
  },
  {
   "cell_type": "markdown",
   "id": "0c2c7001-6625-492e-8da9-17226f725d4c",
   "metadata": {},
   "source": [
    "`-` 주피터다운로드 후 블로그를 만드는 것은 포스트를 엄청 빠르게 만드는 사기적 능력임 \n",
    "\n",
    "- <https://scikit-learn.org/stable/auto_examples/index.html>\n",
    "- <https://matplotlib.org/stable/gallery/index.html>"
   ]
  },
  {
   "cell_type": "markdown",
   "id": "d4bff760-4a68-4d64-bc60-a8f7176d65c8",
   "metadata": {},
   "source": [
    "`-` 내가 베낄때는 좋지만 누군가가 내 블로그를 베낀다 생각하면 기분나쁠 수 있음 "
   ]
  },
  {
   "cell_type": "markdown",
   "id": "8da7b48a-3a7e-4d3f-b3ab-8600ce4e72e4",
   "metadata": {},
   "source": [
    "`-` 실습29를 응용하여 코드가 없는 블로그를 만들어보자 "
   ]
  },
  {
   "cell_type": "markdown",
   "id": "f1f1bf73-ed23-4031-940c-8d10759be747",
   "metadata": {},
   "source": [
    "## 실습31: 코드를 숨기는 블로그 (합법)"
   ]
  },
  {
   "cell_type": "markdown",
   "id": "b439d9be-f660-4f85-bcb9-b91992778d07",
   "metadata": {},
   "source": [
    "`-` 의문점: 그런데 작업내용을 블로그에 올릴때 꼭 \n",
    "\n",
    "```bash \n",
    "git add . \n",
    "git commit -m . \n",
    "git push\n",
    "quarto publish --no-browser --no-prompt\n",
    "```\n",
    "\n",
    "순서로 업로드 해야하는가? 그냥 단순히 \n",
    "\n",
    "```bash\n",
    "quarto publish --no-browser --no-prompt\n",
    "```\n",
    "\n",
    "만 하면 안되는가? (경험상 되던데요?)"
   ]
  },
  {
   "cell_type": "markdown",
   "id": "f6ca41fe-3199-4c6a-9234-54e9567f935b",
   "metadata": {},
   "source": [
    "`-` 코드를 숨길 수 있는 블로그를 만들고 싶다면? 어떻게 하면 좋을지 생각해보자. "
   ]
  },
  {
   "cell_type": "markdown",
   "id": "f6a7f137-e03c-49b5-99a6-49b11afa5ee2",
   "metadata": {},
   "source": [
    "## 실습32: `pull` + `push` (잘 쓰면 편해)"
   ]
  },
  {
   "cell_type": "markdown",
   "id": "88482817-aa22-4130-9107-27d1bb1ba685",
   "metadata": {},
   "source": [
    "`-` 186 컴퓨터 (혹은 본인이 주로 쓰는 서버 컴퓨터) 에서 pull "
   ]
  },
  {
   "cell_type": "markdown",
   "id": "a8466cfd-9a53-487c-b9b0-5bf5a692d831",
   "metadata": {},
   "source": [
    "`-` 186 컴퓨터에서 수정 $\\to$ push "
   ]
  },
  {
   "cell_type": "markdown",
   "id": "8b4da9aa-7fee-48e2-92bc-fa4193f2bece",
   "metadata": {},
   "source": [
    "`-` 실습실 컴퓨터에서 다시 pull "
   ]
  },
  {
   "cell_type": "markdown",
   "id": "0f62a7da-b001-46e6-b3e6-47a7edd00dd7",
   "metadata": {},
   "source": [
    "`-` 실습실 컴퓨터에서 수정 $\\to$ push "
   ]
  },
  {
   "cell_type": "markdown",
   "id": "93672f02-8124-4ead-a98e-92021f1aa414",
   "metadata": {},
   "source": [
    "`-` 소감: "
   ]
  },
  {
   "cell_type": "markdown",
   "id": "e00226c2-ac79-46b2-983e-955c883b06cc",
   "metadata": {},
   "source": [
    "## 실습33: `pull` + `push` (난 불편해)"
   ]
  },
  {
   "cell_type": "markdown",
   "id": "d3c36a44-64b4-4596-85fb-b6767bb4e964",
   "metadata": {},
   "source": [
    "`-` 186 컴퓨터 (혹은 본인이 주로 쓰는 서버 컴퓨터) 에서 pull "
   ]
  },
  {
   "cell_type": "markdown",
   "id": "0c72b130-5a80-45b4-8e0e-33a333250109",
   "metadata": {},
   "source": [
    "`-` 186 컴퓨터에서 수정 $\\to$ push 안함"
   ]
  },
  {
   "cell_type": "markdown",
   "id": "2b873971-3b7a-4e5b-9b5d-e6a3f952a415",
   "metadata": {},
   "source": [
    "`-` 실습실 컴퓨터에서 수정 $\\to$ push "
   ]
  },
  {
   "cell_type": "markdown",
   "id": "4c3d073f-b1d4-4ba0-946f-726f52a6ce75",
   "metadata": {},
   "source": [
    "`-` 186컴퓨터는 뭐야? $\\to$ push 시도.. $\\to$ 실패"
   ]
  },
  {
   "cell_type": "markdown",
   "id": "128d1bc0-a956-4dcb-9e45-642532bca552",
   "metadata": {},
   "source": [
    "`-` 해결책:"
   ]
  },
  {
   "cell_type": "markdown",
   "id": "432aa270-fbf6-41b4-b7e7-59ccf2853bc2",
   "metadata": {},
   "source": [
    "## 실습34: `gh-pages`에서 만들기 싫다면..? "
   ]
  },
  {
   "cell_type": "markdown",
   "id": "f6a30f1e-b77d-4b88-9b1e-6a4d11f537a4",
   "metadata": {},
   "source": [
    "`-` 생각해보니까 딱히 내 코드가 비밀은 아님 "
   ]
  },
  {
   "cell_type": "markdown",
   "id": "f0d8b8ac-2db3-43c7-b0a2-3c1e2f6ddf54",
   "metadata": {},
   "source": [
    "`-` 브랜치를 쓰는게 이론상 깔끔하긴 한데 막상 쓰려니까 불편함. (그 파일이 순간적으로 없어지는 거잖아요?.. 엄청 찝찝해요)"
   ]
  },
  {
   "cell_type": "markdown",
   "id": "d2042cfd-cc2c-42fe-8056-0d04e9e4f98a",
   "metadata": {},
   "source": [
    "`-` `quarto publish`는 아래동작의 결합이다. \n",
    "\n",
    "```bash\n",
    "quarto render \n",
    "# html파일들이 어딘가 만들어져있음. \n",
    "git switch gh-pages\n",
    "# 만들어진 html파일들이 복사됨. \n",
    "git add .\n",
    "git commit -m . \n",
    "git push \n",
    "git switch main \n",
    "```"
   ]
  },
  {
   "cell_type": "markdown",
   "id": "e25801f4-88d0-4d69-af0f-b0068860e429",
   "metadata": {
    "tags": []
   },
   "source": [
    "`-` 아래와 같이 수정하고 싶다면? \n",
    "\n",
    "```bash\n",
    "quarto render \n",
    "# html파일들을 docs라는 폴더에 저장\n",
    "git add .\n",
    "git commit -m . \n",
    "git push \n",
    "```"
   ]
  },
  {
   "cell_type": "markdown",
   "id": "c0326ae7-d9cb-49a4-a881-da74010f11d6",
   "metadata": {},
   "source": [
    "그리고 깃헙설정을 변경한다면? "
   ]
  },
  {
   "cell_type": "markdown",
   "id": "db419b0e-1d68-46fb-a182-f43ff13459d1",
   "metadata": {},
   "source": [
    "`-` 하는방법 \n",
    "\n",
    "**step1**\n",
    "\n",
    "```bash\n",
    "git switch main # 으로 와서\n",
    "git push origin --delete gh-pages # 로칼에서 브랜치삭제 + 원격으로 업데이트\n",
    "git switch gh-pages # rm -rf -a 해서 다 지우고\n",
    "git switch main #\n",
    "\n",
    "\n",
    "git add .\n",
    "git commit -m .\n",
    "git push \n",
    "```\n",
    "\n",
    "**step2**\n",
    "\n",
    "\b_quarto.yml 수정하기\n",
    "\n",
    "```{.bash filename=\"_quarto.yml\"}\n",
    "project:\n",
    "  type: website\n",
    "  output-dir: docs # <- 이거 추가하세요\n",
    "# 이 아래는 수정필요없음 \n",
    "```\n",
    "\n",
    "**step3**\n",
    "\n",
    "이후 <https://github.com/{user-name}/{repo-name}/settings/pages> 로 이동하여 셋팅을 변경하면 된다. \n",
    "\n",
    "- setting 에서 pages를 docs로 변경"
   ]
  },
  {
   "cell_type": "markdown",
   "id": "67e57aff-f835-4715-98f9-fe059a37e1ec",
   "metadata": {},
   "source": [
    "## 실습35: 파이썬 버전확인하기"
   ]
  },
  {
   "cell_type": "markdown",
   "id": "48e2621b-eef4-4681-a0ef-e1cb1d8401a7",
   "metadata": {},
   "source": [
    "`-` 기본명령 \n",
    "\n",
    "```bash\n",
    "python --version \n",
    "```"
   ]
  },
  {
   "cell_type": "markdown",
   "id": "3fab05bd-ace5-4e10-a8ac-02b7eeb9280b",
   "metadata": {},
   "source": [
    "`-` 이걸 이용해서 코랩의 파이썬 버전을 확인해보자. "
   ]
  },
  {
   "cell_type": "markdown",
   "id": "2d6f3d35-4dab-4cab-8cd7-ab59494c0038",
   "metadata": {},
   "source": [
    "## 실습36: 가상환경 py310생성 + pip으로 판다스 설치하고 버전확인"
   ]
  },
  {
   "cell_type": "markdown",
   "id": "0217994c-6864-44aa-ad27-fbcee7fae9de",
   "metadata": {
    "tags": []
   },
   "source": [
    "`-` 우리의 무기1: `pip list`\n",
    "\n",
    "```bash \n",
    "pip list \n",
    "```"
   ]
  },
  {
   "cell_type": "markdown",
   "id": "767260f1-ff1d-408a-8cfd-d7d4ab117316",
   "metadata": {
    "tags": []
   },
   "source": [
    "```\n",
    "Package    Version\n",
    "---------- -------\n",
    "pip        23.3.1\n",
    "setuptools 68.2.2\n",
    "wheel      0.41.2\n",
    "```"
   ]
  },
  {
   "cell_type": "markdown",
   "id": "53851386-0263-441e-865b-b8c3aa6d3cea",
   "metadata": {
    "tags": []
   },
   "source": [
    "`-` 우리의 무기2: `conda list` "
   ]
  },
  {
   "cell_type": "markdown",
   "id": "95923b7f-a3b3-416b-834b-bbb677608543",
   "metadata": {},
   "source": [
    "```bash\n",
    "conda list \n",
    "```"
   ]
  },
  {
   "cell_type": "markdown",
   "id": "2705d925-bf48-4c0c-9f88-60359030f76e",
   "metadata": {},
   "source": [
    "```\n",
    "# packages in environment at /root/anaconda3/envs/py310:\n",
    "#\n",
    "# Name                    Version                   Build  Channel\n",
    "_libgcc_mutex             0.1                        main  \n",
    "_openmp_mutex             5.1                       1_gnu  \n",
    "bzip2                     1.0.8                h7b6447c_0  \n",
    "ca-certificates           2023.12.12           h06a4308_0  \n",
    "ld_impl_linux-64          2.38                 h1181459_1  \n",
    "libffi                    3.4.4                h6a678d5_0  \n",
    "libgcc-ng                 11.2.0               h1234567_1  \n",
    "libgomp                   11.2.0               h1234567_1  \n",
    "libstdcxx-ng              11.2.0               h1234567_1  \n",
    "libuuid                   1.41.5               h5eee18b_0  \n",
    "ncurses                   6.4                  h6a678d5_0  \n",
    "openssl                   3.0.12               h7f8727e_0  \n",
    "pip                       23.3.1          py310h06a4308_0  \n",
    "python                    3.10.13              h955ad1f_0  \n",
    "readline                  8.2                  h5eee18b_0  \n",
    "setuptools                68.2.2          py310h06a4308_0  \n",
    "sqlite                    3.41.2               h5eee18b_0  \n",
    "tk                        8.6.12               h1ccaba5_0  \n",
    "tzdata                    2023c                h04d1e81_0  \n",
    "wheel                     0.41.2          py310h06a4308_0  \n",
    "xz                        5.4.5                h5eee18b_0  \n",
    "zlib                      1.2.13               h5eee18b_0  \n",
    "```"
   ]
  },
  {
   "cell_type": "markdown",
   "id": "3a17ae82-c74f-43ba-95f1-082b9168f12d",
   "metadata": {},
   "source": [
    "`-` 판다스의 설치 \n",
    "\n",
    "```bash\n",
    "pip install pandas # 터미널에서 하는게 적성입니다. 나머지 야메에요\n",
    "```"
   ]
  },
  {
   "cell_type": "markdown",
   "id": "6cafd671-af06-41b5-81f3-40195a88b36b",
   "metadata": {},
   "source": [
    "`-` `pip list`로 확인"
   ]
  },
  {
   "cell_type": "markdown",
   "id": "b2ba2f61-b85b-42b9-b6f9-49e4c7db9693",
   "metadata": {},
   "source": [
    "```\n",
    "Package         Version\n",
    "--------------- ------------\n",
    "numpy           1.26.3\n",
    "pandas          2.1.4\n",
    "pip             23.3.1\n",
    "python-dateutil 2.8.2\n",
    "pytz            2023.3.post1\n",
    "setuptools      68.2.2\n",
    "six             1.16.0\n",
    "tzdata          2023.4\n",
    "wheel           0.41.2\n",
    "```"
   ]
  },
  {
   "cell_type": "markdown",
   "id": "80812dbf-e82a-412f-910a-b62647abb71f",
   "metadata": {},
   "source": [
    "`-` `conda list`로 확인 "
   ]
  },
  {
   "cell_type": "markdown",
   "id": "d97ff408-2b85-4629-8cb7-a5db7f5428c9",
   "metadata": {},
   "source": [
    "```\n",
    "# packages in environment at /root/anaconda3/envs/py310:\n",
    "#\n",
    "# Name                    Version                   Build  Channel\n",
    "_libgcc_mutex             0.1                        main  \n",
    "_openmp_mutex             5.1                       1_gnu  \n",
    "bzip2                     1.0.8                h7b6447c_0  \n",
    "ca-certificates           2023.12.12           h06a4308_0  \n",
    "ld_impl_linux-64          2.38                 h1181459_1  \n",
    "libffi                    3.4.4                h6a678d5_0  \n",
    "libgcc-ng                 11.2.0               h1234567_1  \n",
    "libgomp                   11.2.0               h1234567_1  \n",
    "libstdcxx-ng              11.2.0               h1234567_1  \n",
    "libuuid                   1.41.5               h5eee18b_0  \n",
    "ncurses                   6.4                  h6a678d5_0  \n",
    "numpy                     1.26.3                   pypi_0    pypi\n",
    "openssl                   3.0.12               h7f8727e_0  \n",
    "pandas                    2.1.4                    pypi_0    pypi\n",
    "pip                       23.3.1          py310h06a4308_0  \n",
    "python                    3.10.13              h955ad1f_0  \n",
    "python-dateutil           2.8.2                    pypi_0    pypi\n",
    "pytz                      2023.3.post1             pypi_0    pypi\n",
    "readline                  8.2                  h5eee18b_0  \n",
    "setuptools                68.2.2          py310h06a4308_0  \n",
    "six                       1.16.0                   pypi_0    pypi\n",
    "sqlite                    3.41.2               h5eee18b_0  \n",
    "tk                        8.6.12               h1ccaba5_0  \n",
    "tzdata                    2023.4                   pypi_0    pypi\n",
    "wheel                     0.41.2          py310h06a4308_0  \n",
    "xz                        5.4.5                h5eee18b_0  \n",
    "zlib                      1.2.13               h5eee18b_0  \n",
    "```"
   ]
  },
  {
   "cell_type": "markdown",
   "id": "76877088-d8ed-42e3-8792-4436defaf2a9",
   "metadata": {},
   "source": [
    "`-` 방법3: 파이썬에서 \n",
    "\n",
    "```python\n",
    "import pandas as pd\n",
    "pd.__version__\n",
    "```"
   ]
  },
  {
   "cell_type": "markdown",
   "id": "bffa805a-820e-4022-ba22-b12977b80633",
   "metadata": {},
   "source": [
    "## 실습37: 저의 가장 최신 흑역사 재현"
   ]
  },
  {
   "cell_type": "markdown",
   "id": "3d9e0cd2-9140-4d45-bc9d-c30bc3e975b4",
   "metadata": {},
   "source": [
    "`-` 기억하고 싶지 않았음: <https://guebin.github.io/DV2023/posts/13wk-2.html>"
   ]
  },
  {
   "cell_type": "markdown",
   "id": "4e77104d-fed9-4740-b7c7-f1fc24c35666",
   "metadata": {},
   "source": [
    "`-` py310 환경에서 아래의 코드를 실행한다. \n",
    "\n",
    "```python\n",
    "df = pd.DataFrame({'A':[2143,2143],'B':['-',3456]})\n",
    "df.map(lambda x: 0 if x == '-' else x)\n",
    "```"
   ]
  },
  {
   "cell_type": "markdown",
   "id": "aa530c04-60f1-46a9-b065-ee217800c071",
   "metadata": {},
   "source": [
    "`-` colab 환경의 python과 pandas 버전을 조사하고 유사환경을 만든다. \n",
    "\n",
    "```bash\n",
    "# 이렇게 하면됩니당\n",
    "conda create -n co python=3.10.12\n",
    "conda activate co \n",
    "pip install pandas==1.5.3\n",
    "```"
   ]
  },
  {
   "cell_type": "markdown",
   "id": "cec97aed-7d6b-4702-aeca-464f9d715a34",
   "metadata": {},
   "source": [
    "`-` 아래의 코드를 실행해보자. \n",
    "\n",
    "```python\n",
    "df = pd.DataFrame({'A':[2143,2143],'B':['-',3456]})\n",
    "df.map(lambda x: 0 if x == '-' else x)\n",
    "```"
   ]
  },
  {
   "cell_type": "markdown",
   "id": "430ab08c-2944-4094-95b8-0f94cf6005de",
   "metadata": {},
   "source": [
    "`-` 학생들 질문: 제 컴퓨터에서는 안되는데요.. 어쩌죠?\n",
    "\n",
    "- 답변1: 코랩에서 하세요.."
   ]
  },
  {
   "cell_type": "markdown",
   "id": "7889dc27-ad4d-4de6-99ac-17c549a6648f",
   "metadata": {},
   "source": [
    "`-` 학생들 질문2: `pip install pandas` 해도 안되는데요, 어쩌죠?\n",
    "\n",
    "- 답변1: 코랩해서 하세요.. \n",
    "- 진짜 많이 겪는 상황: 저는 꼭 제 노트북으로 해야겠습니다.. -> 아나콘다 쓰시나요? -> 쓰긴쓰는데........ -> 환경분리해서 실습했어요? -> ????? -> 제가 볼게요.. (찾아보니까) base에 있음.. \n",
    "- 답변2: 일단은 `pip install pandas -U` 해보세요 "
   ]
  },
  {
   "cell_type": "markdown",
   "id": "1477949c-063c-45d8-b2a9-e6e76e69b9bc",
   "metadata": {},
   "source": [
    "`-` 답변2가 적절할까? "
   ]
  },
  {
   "cell_type": "markdown",
   "id": "a5e53c12-fe5b-41e1-b4a8-ba94ec572eaf",
   "metadata": {},
   "source": [
    "`-` 가장 좋아하는 답변: 환경 새로 파세요"
   ]
  },
  {
   "cell_type": "markdown",
   "id": "cc6ae3c3-c85a-4591-ae9a-c2606e9b06e0",
   "metadata": {
    "tags": []
   },
   "source": [
    "`-` 최악의 상황\n",
    "\n",
    "1. 일단 아나콘다는 깔아놓았음. \n",
    "2. 잘 몰라서 (base) 상태에서 이것저것 깔기 시작함. \n",
    "3. 교수랑 코드 \"똑.같.이.\" 쳤는데 내 컴퓨터에서는 안됨. \n",
    "4. 교수가 맥이라서 그런가보다 하고 인터넷에서 해결책 찾기 시작함. \n",
    "5. 뭐 하라는 대로 해서 이제까지 해결해 왔음. (버전은 점점 엉키기 시작함) \n",
    "6. 안되는건 잘하는 선배찾아가서 물어봤는데 귀신같이 해결해줌. (하지만 버전은 점점 더 엉키고 있음) \n",
    "7. 그런데 또 문제가 생겼고 이제는 해결못하겠음. \n",
    "8. 교수한테 찾아감 ->  교수가 해준다면서 (base)에서 새로운 환경 (py310)을 만들어서 이것저것 시도해 봄. \n",
    "9. 성공하면 다행인데, 실패함^[4학년쯤에는 이미 (base) 가 손쓸 수 없는 상태로 깨져있는 경우가 허다함. 공부를 열심히 한 학생일수록 그러함. 이럴경우 소생가능성이 없음]\n",
    "10. 이건 방법이 없다며 아나콘다를 지우고 재설치 시도. 그런데 윈도우에서는 아나콘다 지우는게 까다로움. (먼가 설정이 자꾸 남아있단 말이에요) \n",
    "11. 새로 계정만들어서 아나콘다 설치시도 -> 실패\n",
    "12. 교수도 사실 윈도우 잘 모른다고 하면서 회피. \n",
    "13. 포맷\n",
    "14. 다시 아나콘다 깔고 1-13을 반복함. "
   ]
  },
  {
   "cell_type": "markdown",
   "id": "670285f3-6078-488c-8a37-0dd90aeedd26",
   "metadata": {},
   "source": [
    "`-` 부작용: 아나콘다 트라우마 발생해서 \"리눅스에서 쓰는 모든 명령\" 을 (base) 상태에서 실행해야하는지 (py310) 상태에서 실행해야 하는지 알고 싶어하고, 그게 명확하지 않을 경우 두려워함. "
   ]
  },
  {
   "cell_type": "markdown",
   "id": "3696eae5-60bb-4769-a03c-4d006ca7cf3c",
   "metadata": {},
   "source": [
    "`-` 부작용을 극복하는 방법: 서버사용하세요. 막 쓰세요. 컴퓨터 망가뜨리면 찾아오세요. 모든 자료는 언제든 클론가능하게 깃헙에 저장하세요."
   ]
  },
  {
   "cell_type": "markdown",
   "id": "31bd22e4-e6c9-4840-8897-931831a870fa",
   "metadata": {},
   "source": [
    "## 실습38: 여러개의 가상환경 생성"
   ]
  },
  {
   "cell_type": "markdown",
   "id": "aa106580-bb02-41e4-81bb-01f49bed1554",
   "metadata": {},
   "source": [
    "`-` 가능하면 프로젝트별로 환경을 분리하는게 좋다. "
   ]
  },
  {
   "cell_type": "markdown",
   "id": "bc22b3df-a0fe-41c1-9b10-b959a69ea5a2",
   "metadata": {},
   "source": [
    "`-` 하나의 환경에 모든 패키지를 때려밖아 설치하는건 패키지 충돌나라고 기도하는 꼴이다. "
   ]
  },
  {
   "cell_type": "markdown",
   "id": "f1aebd1e-b4dd-4587-b1c4-afabe607bc4a",
   "metadata": {},
   "source": [
    "## 실습39: 주피터랩 설정변경"
   ]
  },
  {
   "cell_type": "markdown",
   "id": "1717d213-e674-4038-a366-af868beabcf3",
   "metadata": {},
   "source": [
    "`-` root유저의 홈에서 `ls`, `ls -a`를 쳐보자. "
   ]
  },
  {
   "cell_type": "markdown",
   "id": "5b7b801a-df9b-499e-a0f2-961804faabce",
   "metadata": {},
   "source": [
    "`-` 들어가서 `jupyter_notebook_config.py`를 열어보자. "
   ]
  },
  {
   "cell_type": "markdown",
   "id": "1a392a47-0800-4dee-a5e8-6fc8ac5b27a5",
   "metadata": {},
   "source": [
    "없다면 아래를 이용하여 만들자.\n",
    "\n",
    "```bash\n",
    "jupyter notebook --generate-config\n",
    "```"
   ]
  },
  {
   "cell_type": "markdown",
   "id": "6ac2a410-3a32-428d-b5f5-271e03b2a0cd",
   "metadata": {
    "tags": []
   },
   "source": [
    "`-` 아래의 내용을 변경 \n",
    "\n",
    "```python\n",
    "c.ServerApp.ip = \"0.0.0.0\" \n",
    "c.ServerApp.port = 8888 # 8888아니구요. 본인이 쓸수 있는 포트중에서 좋아하는거 쓰세여 \n",
    "c.ServerApp.allow_root = True \n",
    "c.ServerApp.allow_remote_access = True # 당장필요한건 아닌데요.. 해놓으세여 \n",
    "```"
   ]
  },
  {
   "cell_type": "markdown",
   "id": "4afcc0b3-006b-45a3-b935-ca221f31582b",
   "metadata": {},
   "source": [
    "`c.ServerApp.allow_remote_access`  이 설정은 Jupyter Notebook 애플리케이션에서 원격 액세스를 허용하도록 하는 것\n",
    "\n",
    "root일때"
   ]
  },
  {
   "cell_type": "markdown",
   "id": "97536ba3-3093-4ee3-95bf-eca9b6a5af7a",
   "metadata": {},
   "source": [
    "`-` 이제 켜보세요.. "
   ]
  },
  {
   "cell_type": "markdown",
   "id": "ff1207aa-0e69-4505-8360-275eee908f84",
   "metadata": {},
   "source": [
    "## 실습40: 주피터랩 평생 켜놓기"
   ]
  },
  {
   "cell_type": "markdown",
   "id": "2559bdcd-5148-4a2f-8537-ff7c5dbe3f86",
   "metadata": {},
   "source": [
    "`-` 아래와 같이 하면 됩니다. \n",
    "\n",
    "```bash\n",
    "nohup jupyter lab --ip=\"0.0.0.0\" --port={MY-PORT} --allow-root > /dev/null 2>&1 &\n",
    "```"
   ]
  },
  {
   "cell_type": "markdown",
   "id": "941e1d08-c37f-466f-9ee7-d9a5081de9dd",
   "metadata": {},
   "source": [
    "## 실습41: R+Python 사용가능한 개발환경 만들기 "
   ]
  },
  {
   "cell_type": "markdown",
   "id": "95ef713d-a454-47c9-ba99-16e39b038c5d",
   "metadata": {},
   "source": [
    "`-` 아래를 실행 \n",
    "\n",
    "```bash\n",
    "conda create -n rpy \n",
    "conda activate rpy\n",
    "conda install -c conda-forge r-essentials\n",
    "conda install -c conda-forge plotly\n",
    "conda install -c conda-forge rpy2\n",
    "```"
   ]
  },
  {
   "cell_type": "markdown",
   "id": "4f6cd401-9989-4350-a34d-13c9abae9663",
   "metadata": {},
   "source": [
    "`-` 여기에서 `conda install -c conda-forge r-essentials`로 인하여 R, Python, Jupyter 가 모두 최신버전으로 설치된다."
   ]
  },
  {
   "cell_type": "markdown",
   "id": "1ad45b57-141a-40c9-b946-8e50e3d92902",
   "metadata": {},
   "source": [
    "`-` 또한 R에는 이미 `tidyverse`, `IRkernel` 등의 패키지가 기본으로 깔려있다."
   ]
  },
  {
   "cell_type": "markdown",
   "id": "df274e06-6d65-4cc1-83d2-b190cb2ca9f8",
   "metadata": {},
   "source": [
    "`-` R이 설치된 경로를 찾아보자. "
   ]
  },
  {
   "cell_type": "markdown",
   "id": "6ab32e3f-d27d-4a2d-beba-585f06940585",
   "metadata": {},
   "source": [
    "`-` 수틀리면 이 R을 지우면 된다."
   ]
  },
  {
   "cell_type": "markdown",
   "id": "ec9e09e6-3ceb-48ff-89aa-00fecfbfbaa6",
   "metadata": {},
   "source": [
    "`-` R이 설치될 수 있는 3가지 시나리오 \n",
    "\n",
    "```bash\n",
    "sudo apt-get install r-base # r 공식홈페이지, 수틀리면 리눅스 포맷  \n",
    "(base) conda install -c conda-forge ... # 수틀리면 아나콘다 삭제해야함. \n",
    "(rpy) conda install -c conda-forge ... # 수틀리면 가상환경 삭제 \n",
    "```"
   ]
  },
  {
   "cell_type": "markdown",
   "id": "d418dc74-90c0-47ba-bb22-e01752a14397",
   "metadata": {},
   "source": [
    "## 실습42: 여러가지 프로그램, 여러가지 설치방법 "
   ]
  },
  {
   "cell_type": "markdown",
   "id": "a2fb25b6-2699-4dd6-916e-4d1fe50da9a1",
   "metadata": {
    "tags": []
   },
   "source": [
    "`-` 우분투자체의 프로그램\n",
    "\n",
    "- 우분투 자체의 프로그램 예시: git, quarto, python, R, anaconda, vi, ssh, wget, vscode\n",
    "- 우분투 자체의 프로그램은 다시 모든 유저가 영향을 받는 받는 프로그램과 그렇지 않은 프로그램이 있음 \n",
    "- 우분투 자체의 프로그램을 설치하는 방법들 \n",
    "\n",
    "```bash\n",
    "sudo apt install git \n",
    "sudo apt-get install git \n",
    "sudo dpkg -i quarto-1.4.533-linux-amd64.deb \n",
    "bash Anaconda3-2019.03-Linux-x86_64.sh\n",
    "sudo gdebi rstudio-server-1.2.5033-amd64.deb\n",
    "# 기타 파일을 넣을 수 있는 모든 방법 (예를들면 압축파일 다운로드후 풀기) \n",
    "```"
   ]
  },
  {
   "cell_type": "markdown",
   "id": "c6187c44-3d3e-4b9a-826a-6ec86aa6b528",
   "metadata": {},
   "source": [
    "`-` 아나콘다(=base)에 종속된 프로그램\n",
    "\n",
    "- 아나콘다내에 종속된 프로그램의 예시: conda, python, R, jupyter\n",
    "- 아나콘다에 종속된 프로그램은 `anaconda3` 폴더안에 있음. "
   ]
  },
  {
   "cell_type": "markdown",
   "id": "194ecdac-9f17-41da-9cf7-5d69505ae688",
   "metadata": {},
   "source": [
    "`-` 아나콘다환경에 종속시킬 수 \"있는\" 프로그램\n",
    "\n",
    "- 아나콘다내에 종속된 프로그램의 예시: python, R, jupyter \n",
    "- 아나콘다환경에 종속된 프로그램은 `anaconda3/envs/py310` 와 같은 형식의 폴더안에 있음. "
   ]
  },
  {
   "cell_type": "markdown",
   "id": "804a22eb-718b-4b51-a916-240d46d8adee",
   "metadata": {},
   "source": [
    "`-` 파이썬에 종속된 프로그램 (=파이썬패키지=파이썬라이브러리=파이썬모듈)\n",
    "\n",
    "- 파이썬에 종속된 프로그램 예시: numpy, pandas\n",
    "- 얘네들이 어디에 깔리는지는 그때그때 다름 \n",
    "- 지우는 방법도 그때그때 다르겠지? (젤 편하고 깔끔하게 지우려면?)"
   ]
  },
  {
   "cell_type": "markdown",
   "id": "04ca2c56-5965-46f4-823f-958ed0bcfb6d",
   "metadata": {},
   "source": [
    "`-` R에 종속된 프로그램 (=R패키지=R라이브러리)\n",
    "\n",
    "- R에 종속된 프로그램의 예시: tidyverse\n",
    "- 얘들이 어디 깔리는지도 그때그때 다름 \n",
    "- 지우는 방법도 그때그때 다르겠지? (젤 편하고 깔끔하게 지우려면?) "
   ]
  },
  {
   "cell_type": "markdown",
   "id": "eba0a2ab-4dc1-466b-8c92-871aead04755",
   "metadata": {},
   "source": [
    "`-` 질문1: `pip install` vs `conda install`\n",
    "\n",
    "- 설치되는 레벨의 차이\n",
    "- 설치에서 느껴지는 편안함의 차이\n",
    "- 삭제할때 느껴지는 불편함의 차이 \n",
    "- `pip install pandas`는 사실 `install.packages(\"tidyverse\")`에 대응되는 것임 "
   ]
  },
  {
   "cell_type": "markdown",
   "id": "c0442190-8390-4a39-a1ac-9ef62072e32c",
   "metadata": {},
   "source": [
    "`-` 질문2: 언제 `pip install`을 쓰고 언제 `conda install`을 써야할까? 답은없어요. 저는 대충 아래와 같이 합니다. (해보고 수틀리면 그냥 환경날리세여)\n",
    "\n",
    "- 만만한 패키지는 pip install 로 설치: numpy, pandas \n",
    "- 까다로운 패키지는 conda install 로 설치: torch, autogluon "
   ]
  },
  {
   "cell_type": "markdown",
   "id": "7fbdcbf5-487e-438b-9cb5-8f0149be0efb",
   "metadata": {},
   "source": [
    "## 실습43: (base)에서 (rpy)에 있는 R 실행 "
   ]
  },
  {
   "cell_type": "markdown",
   "id": "3551cce9-7efb-4611-b519-220dacb21650",
   "metadata": {},
   "source": [
    "`-` 원래는 불가능한 일이겠죠? "
   ]
  },
  {
   "cell_type": "markdown",
   "id": "d29daae3-6659-4b6d-be35-10cd4f29c6b7",
   "metadata": {},
   "source": [
    "`-` 억지로 가능하게 하려면? "
   ]
  },
  {
   "cell_type": "markdown",
   "id": "22c87888-aff9-4b7a-8fa7-927213bdc2fb",
   "metadata": {},
   "source": [
    "## 실습44: (rpy)에서 EPT라는 R패키지 설치하고 위치파악하기 "
   ]
  },
  {
   "cell_type": "markdown",
   "id": "1cbe62dd-bec5-41de-bed5-6a9a8f71778f",
   "metadata": {},
   "source": [
    "`-` R을 실행 \n",
    "\n",
    "```bash\n",
    "conda activate rpy\n",
    "R\n",
    "```\n",
    "\n",
    "`-` 또다른 터미널을 열고 아래의 폴더로 이동 + 패키지확인 \n",
    "\n",
    "```r\n",
    "cd ~/anaconda3/envs/rpy/lib/R/library\n",
    "ls\n",
    "```"
   ]
  },
  {
   "cell_type": "markdown",
   "id": "23a4a160-4eeb-4686-9a39-c378fd50b90e",
   "metadata": {},
   "source": [
    "`-` EPT패키지 설치 \n",
    "\n",
    "```r\n",
    "install.packages(\"EPT\")\n",
    "```"
   ]
  },
  {
   "cell_type": "markdown",
   "id": "3fb65880-7a99-4430-b9d8-5fef71f3ef70",
   "metadata": {},
   "source": [
    "`-` `~/anaconda3/envs/rpy/lib/R/library`에서 확인 "
   ]
  },
  {
   "cell_type": "markdown",
   "id": "f3837774-1674-45bc-9d1a-636780d25468",
   "metadata": {},
   "source": [
    "## 실습45: (rpy)에 설치된 R과 주피터 연결하기"
   ]
  },
  {
   "cell_type": "markdown",
   "id": "f5a2e3f4-6875-41ae-8345-5b4539679ba5",
   "metadata": {},
   "source": [
    "`-` R을 실행 \n",
    "\n",
    "```r\n",
    "IRkernel::installspec()\n",
    "```"
   ]
  },
  {
   "cell_type": "markdown",
   "id": "f81f4b8a-d53d-4be6-a9c2-a8f77fdb0036",
   "metadata": {},
   "source": [
    "`-` 주피터 실행 "
   ]
  }
 ],
 "metadata": {
  "kernelspec": {
   "display_name": "Python 3",
   "language": "python",
   "name": "python3"
  },
  "language_info": {
   "codemirror_mode": {
    "name": "ipython",
    "version": 3
   },
   "file_extension": ".py",
   "mimetype": "text/x-python",
   "name": "python",
   "nbconvert_exporter": "python",
   "pygments_lexer": "ipython3",
   "version": "3.8.0"
  }
 },
 "nbformat": 4,
 "nbformat_minor": 5
}
