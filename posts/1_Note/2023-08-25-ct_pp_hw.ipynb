{
 "cells": [
  {
   "cell_type": "raw",
   "id": "657e0fdd-8dbc-44af-85e4-e6a332614304",
   "metadata": {
    "id": "cac470df-29e7-4148-9bbd-d8b9a32fa570",
    "tags": []
   },
   "source": [
    "---\n",
    "title: \"**[Coding Test]**Python Programming HW review\"\n",
    "author: \"SEOYEON CHOI\"\n",
    "date: \"2023-08-25\"\n",
    "---"
   ]
  },
  {
   "cell_type": "markdown",
   "id": "56f7949e-ffbb-4993-ba87-fdde2bbd2cd4",
   "metadata": {},
   "source": [
    "# 1.\n",
    "\n",
    "HW: 0315\n",
    "\n",
    "[02wk-1: 파이썬의 자료형 (2)](https://guebin.github.io/PP2023/posts/01_PythonBasic/2023-03-13-2wk-1.html#%EA%B0%95%EC%9D%98%EC%98%81%EC%83%81)"
   ]
  },
  {
   "cell_type": "markdown",
   "id": "cce2cd01-d392-43eb-b04b-e15b6d91bc33",
   "metadata": {},
   "source": [
    "아래와 같은 문자열이 있다고 하자."
   ]
  },
  {
   "cell_type": "code",
   "execution_count": 1,
   "id": "64a20bd2-f2a3-4d45-9d6a-b7a50afeb0e8",
   "metadata": {},
   "outputs": [],
   "source": [
    "a='Jeonbuk National University' "
   ]
  },
  {
   "cell_type": "markdown",
   "id": "77533341-5add-46bd-856f-c4a1851867f7",
   "metadata": {},
   "source": [
    "`1`. 적당한 인덱싱을 통하여 출력결과가 아래와 같도록 하라."
   ]
  },
  {
   "cell_type": "code",
   "execution_count": 11,
   "id": "1830a7a8-97a4-4082-a8f4-667422ae3ca7",
   "metadata": {},
   "outputs": [
    {
     "data": {
      "text/plain": [
       "17"
      ]
     },
     "execution_count": 11,
     "metadata": {},
     "output_type": "execute_result"
    }
   ],
   "source": [
    "a.find('U')"
   ]
  },
  {
   "cell_type": "code",
   "execution_count": 12,
   "id": "05eb56ce-9ac4-4599-b141-8efec2453f34",
   "metadata": {},
   "outputs": [
    {
     "data": {
      "text/plain": [
       "26"
      ]
     },
     "execution_count": 12,
     "metadata": {},
     "output_type": "execute_result"
    }
   ],
   "source": [
    "a.find('y')"
   ]
  },
  {
   "cell_type": "code",
   "execution_count": 13,
   "id": "a7147cfe-d365-4b1e-8c4d-c6b738692729",
   "metadata": {},
   "outputs": [
    {
     "data": {
      "text/plain": [
       "'Jeonbuk National University'"
      ]
     },
     "execution_count": 13,
     "metadata": {},
     "output_type": "execute_result"
    }
   ],
   "source": [
    "str(a)"
   ]
  },
  {
   "cell_type": "code",
   "execution_count": 15,
   "id": "335324ce-7133-4192-9dcc-72274aae1f34",
   "metadata": {},
   "outputs": [
    {
     "data": {
      "text/plain": [
       "'University'"
      ]
     },
     "execution_count": 15,
     "metadata": {},
     "output_type": "execute_result"
    }
   ],
   "source": [
    "a[a.find('U'):a.find('y')+1]"
   ]
  },
  {
   "cell_type": "markdown",
   "id": "e378573c-b9f8-45b7-a88f-2ea329d75843",
   "metadata": {},
   "source": [
    "hint: University는 10글자이다."
   ]
  },
  {
   "cell_type": "markdown",
   "id": "dce65795-d11b-4a78-8cfe-9514fc172b8f",
   "metadata": {},
   "source": [
    "`2`. 출력결과가 아래와 같도록 하는 코드를 작성하라. (lower 함수를 이용할 것)"
   ]
  },
  {
   "cell_type": "code",
   "execution_count": 17,
   "id": "726b18c3-0145-452e-903a-173d69b15cbe",
   "metadata": {},
   "outputs": [
    {
     "data": {
      "text/plain": [
       "'jeonbuk national university'"
      ]
     },
     "execution_count": 17,
     "metadata": {},
     "output_type": "execute_result"
    }
   ],
   "source": [
    "a.lower()"
   ]
  },
  {
   "cell_type": "markdown",
   "id": "f727b6f1-a919-4285-b3d0-18c7fa47d4ca",
   "metadata": {},
   "source": [
    "`3`. 아래의 코드를 관찰하고 isupper()의 기능이 무엇인지 스스로 정리해보라."
   ]
  },
  {
   "cell_type": "code",
   "execution_count": 18,
   "id": "05dd8c7c-bd64-4193-8db5-ab91f4bd1caa",
   "metadata": {},
   "outputs": [
    {
     "data": {
      "text/plain": [
       "True"
      ]
     },
     "execution_count": 18,
     "metadata": {},
     "output_type": "execute_result"
    }
   ],
   "source": [
    "'A'.isupper()"
   ]
  },
  {
   "cell_type": "code",
   "execution_count": 19,
   "id": "a84adb29-cdbd-449f-a4d5-277f2d4c0c4c",
   "metadata": {},
   "outputs": [
    {
     "data": {
      "text/plain": [
       "True"
      ]
     },
     "execution_count": 19,
     "metadata": {},
     "output_type": "execute_result"
    }
   ],
   "source": [
    "'AA'.isupper()"
   ]
  },
  {
   "cell_type": "code",
   "execution_count": 20,
   "id": "f13a5686-4369-411d-8b1f-ca251e9d57c0",
   "metadata": {},
   "outputs": [
    {
     "data": {
      "text/plain": [
       "False"
      ]
     },
     "execution_count": 20,
     "metadata": {},
     "output_type": "execute_result"
    }
   ],
   "source": [
    "'Aa'.isupper()"
   ]
  },
  {
   "cell_type": "code",
   "execution_count": 21,
   "id": "4b4a40bd-099c-4c22-99e0-93e078eea6b5",
   "metadata": {},
   "outputs": [
    {
     "data": {
      "text/plain": [
       "False"
      ]
     },
     "execution_count": 21,
     "metadata": {},
     "output_type": "execute_result"
    }
   ],
   "source": [
    "'aa'.isupper()"
   ]
  },
  {
   "cell_type": "code",
   "execution_count": 22,
   "id": "87ce39e6-923f-4a6d-a1f3-46e5a203711f",
   "metadata": {},
   "outputs": [
    {
     "data": {
      "text/plain": [
       "False"
      ]
     },
     "execution_count": 22,
     "metadata": {},
     "output_type": "execute_result"
    }
   ],
   "source": [
    "'aA'.isupper()"
   ]
  },
  {
   "cell_type": "markdown",
   "id": "9607617a-ec1f-4047-a278-fb19175a6a12",
   "metadata": {},
   "source": [
    "대문자인가 확인하는 코드!"
   ]
  },
  {
   "cell_type": "code",
   "execution_count": 23,
   "id": "e6858eca-a56f-47ee-87c1-e7991ee82dbf",
   "metadata": {},
   "outputs": [
    {
     "data": {
      "text/plain": [
       "False"
      ]
     },
     "execution_count": 23,
     "metadata": {},
     "output_type": "execute_result"
    }
   ],
   "source": [
    "'aA'.islower()"
   ]
  },
  {
   "cell_type": "markdown",
   "id": "4b4ff5c1-9862-4599-929e-8a9efe86eef6",
   "metadata": {},
   "source": [
    "소문자인거 확인하는 코드!"
   ]
  },
  {
   "cell_type": "markdown",
   "id": "d009dd48-b1e8-4201-a412-4c1dada3bb56",
   "metadata": {},
   "source": [
    "`4`. 다음중 실행 불가능한 코드를 모두 골라라."
   ]
  },
  {
   "cell_type": "markdown",
   "id": "56f5d6e3-79c2-4c6b-b775-bd709e1d7ffa",
   "metadata": {},
   "source": [
    "(a) 'a'*2 "
   ]
  },
  {
   "cell_type": "code",
   "execution_count": 31,
   "id": "901de343-4f02-4c8d-b4af-7d4283b1acf1",
   "metadata": {},
   "outputs": [
    {
     "data": {
      "text/plain": [
       "'aa'"
      ]
     },
     "execution_count": 31,
     "metadata": {},
     "output_type": "execute_result"
    }
   ],
   "source": [
    "'a'*2"
   ]
  },
  {
   "cell_type": "markdown",
   "id": "4a53c5d4-5cdc-4a29-9d42-21b5633112f2",
   "metadata": {},
   "source": [
    "(b) 'a'*'2'"
   ]
  },
  {
   "cell_type": "code",
   "execution_count": 32,
   "id": "7c4e335a-c7ed-4fff-a869-fe4651563aea",
   "metadata": {},
   "outputs": [
    {
     "ename": "TypeError",
     "evalue": "can't multiply sequence by non-int of type 'str'",
     "output_type": "error",
     "traceback": [
      "\u001b[0;31m---------------------------------------------------------------------------\u001b[0m",
      "\u001b[0;31mTypeError\u001b[0m                                 Traceback (most recent call last)",
      "Input \u001b[0;32mIn [32]\u001b[0m, in \u001b[0;36m<cell line: 1>\u001b[0;34m()\u001b[0m\n\u001b[0;32m----> 1\u001b[0m \u001b[38;5;124;43m'\u001b[39;49m\u001b[38;5;124;43ma\u001b[39;49m\u001b[38;5;124;43m'\u001b[39;49m\u001b[38;5;241;43m*\u001b[39;49m\u001b[38;5;124;43m'\u001b[39;49m\u001b[38;5;124;43m2\u001b[39;49m\u001b[38;5;124;43m'\u001b[39;49m\n",
      "\u001b[0;31mTypeError\u001b[0m: can't multiply sequence by non-int of type 'str'"
     ]
    }
   ],
   "source": [
    "'a'*'2'"
   ]
  },
  {
   "cell_type": "markdown",
   "id": "e6f71a63-acc4-44d3-9ad2-9aa94f45233f",
   "metadata": {},
   "source": [
    "(c) 'a'+2 "
   ]
  },
  {
   "cell_type": "code",
   "execution_count": 33,
   "id": "8de0f92f-1dfe-431b-870c-da5e5642b888",
   "metadata": {},
   "outputs": [
    {
     "ename": "TypeError",
     "evalue": "can only concatenate str (not \"int\") to str",
     "output_type": "error",
     "traceback": [
      "\u001b[0;31m---------------------------------------------------------------------------\u001b[0m",
      "\u001b[0;31mTypeError\u001b[0m                                 Traceback (most recent call last)",
      "Input \u001b[0;32mIn [33]\u001b[0m, in \u001b[0;36m<cell line: 1>\u001b[0;34m()\u001b[0m\n\u001b[0;32m----> 1\u001b[0m \u001b[38;5;124;43m'\u001b[39;49m\u001b[38;5;124;43ma\u001b[39;49m\u001b[38;5;124;43m'\u001b[39;49m\u001b[38;5;241;43m+\u001b[39;49m\u001b[38;5;241;43m2\u001b[39;49m\n",
      "\u001b[0;31mTypeError\u001b[0m: can only concatenate str (not \"int\") to str"
     ]
    }
   ],
   "source": [
    "'a'+2"
   ]
  },
  {
   "cell_type": "markdown",
   "id": "250aef08-8a9c-4332-9561-30be16647996",
   "metadata": {},
   "source": [
    "(d) 'a'+'2'"
   ]
  },
  {
   "cell_type": "code",
   "execution_count": 34,
   "id": "4361a776-5295-4da2-baf0-6c6d4cc03518",
   "metadata": {},
   "outputs": [
    {
     "data": {
      "text/plain": [
       "'a2'"
      ]
     },
     "execution_count": 34,
     "metadata": {},
     "output_type": "execute_result"
    }
   ],
   "source": [
    "'a'+'2'"
   ]
  },
  {
   "cell_type": "markdown",
   "id": "5a79df36-813f-46cf-8b88-658cf849fa74",
   "metadata": {},
   "source": [
    "# 2.\n",
    "\n",
    "HW 0315"
   ]
  },
  {
   "cell_type": "markdown",
   "id": "6e98223c-0e08-4b6c-977d-e69c3bf8c83d",
   "metadata": {},
   "source": [
    "[02wk-2: 파이썬의 자료형 (3)](https://guebin.github.io/PP2023/posts/01_PythonBasic/2023-03-15-2wk-2.html)"
   ]
  },
  {
   "cell_type": "markdown",
   "id": "12d76447-aa6d-4684-8886-22d8109f955a",
   "metadata": {},
   "source": [
    "`1`. 길이가 0인 리스트를 만들어라. (비어있는 리스트를 만들어라)"
   ]
  },
  {
   "cell_type": "markdown",
   "id": "41869e13-e63e-4282-aa19-116deab1eb28",
   "metadata": {},
   "source": [
    "(풀이1)"
   ]
  },
  {
   "cell_type": "code",
   "execution_count": 35,
   "id": "040fbc81-dd6e-4410-b7b6-d8ff91565120",
   "metadata": {},
   "outputs": [
    {
     "data": {
      "text/plain": [
       "[]"
      ]
     },
     "execution_count": 35,
     "metadata": {},
     "output_type": "execute_result"
    }
   ],
   "source": [
    "[]"
   ]
  },
  {
   "cell_type": "markdown",
   "id": "fd2e9f7e-1240-416d-a52e-69ef04d1f35e",
   "metadata": {},
   "source": [
    "(풀이2)"
   ]
  },
  {
   "cell_type": "code",
   "execution_count": 36,
   "id": "b38513de-d851-4c3f-81f4-a495738eed1d",
   "metadata": {},
   "outputs": [
    {
     "data": {
      "text/plain": [
       "[]"
      ]
     },
     "execution_count": 36,
     "metadata": {},
     "output_type": "execute_result"
    }
   ],
   "source": [
    "list()"
   ]
  },
  {
   "cell_type": "markdown",
   "id": "96bbacf6-7618-4838-ad24-0c3e71018eea",
   "metadata": {},
   "source": [
    "`2`. 다음의 실행값 중 가장 큰 숫자가 나오는 보기를 골라라. (에러가 나는 코드는 정답에서 제외함)"
   ]
  },
  {
   "cell_type": "code",
   "execution_count": null,
   "id": "28f50fac-b753-4870-98a3-5f3c89d36c02",
   "metadata": {},
   "outputs": [],
   "source": [
    "(a) len(3.14) \n",
    "(b) len([3.14]) \n",
    "(c) len('3.14') "
   ]
  },
  {
   "cell_type": "code",
   "execution_count": 38,
   "id": "99fb7341-1bd5-41c8-959a-8893d4435195",
   "metadata": {},
   "outputs": [
    {
     "ename": "TypeError",
     "evalue": "object of type 'float' has no len()",
     "output_type": "error",
     "traceback": [
      "\u001b[0;31m---------------------------------------------------------------------------\u001b[0m",
      "\u001b[0;31mTypeError\u001b[0m                                 Traceback (most recent call last)",
      "Input \u001b[0;32mIn [38]\u001b[0m, in \u001b[0;36m<cell line: 1>\u001b[0;34m()\u001b[0m\n\u001b[0;32m----> 1\u001b[0m \u001b[38;5;28;43mlen\u001b[39;49m\u001b[43m(\u001b[49m\u001b[38;5;241;43m3.14\u001b[39;49m\u001b[43m)\u001b[49m\n",
      "\u001b[0;31mTypeError\u001b[0m: object of type 'float' has no len()"
     ]
    }
   ],
   "source": [
    "len(3.14)"
   ]
  },
  {
   "cell_type": "code",
   "execution_count": 58,
   "id": "c49714ea-2aa8-4c58-90ef-f2d21a753f34",
   "metadata": {},
   "outputs": [
    {
     "data": {
      "text/plain": [
       "\u001b[0;31mType:\u001b[0m        float\n",
       "\u001b[0;31mString form:\u001b[0m 3.14\n",
       "\u001b[0;31mDocstring:\u001b[0m   Convert a string or number to a floating point number, if possible.\n"
      ]
     },
     "metadata": {},
     "output_type": "display_data"
    }
   ],
   "source": [
    "a = 3.14;a?"
   ]
  },
  {
   "cell_type": "code",
   "execution_count": 59,
   "id": "cdfface5-680b-47c0-826c-5dbc0ba1cf7c",
   "metadata": {},
   "outputs": [
    {
     "data": {
      "text/plain": [
       "False"
      ]
     },
     "execution_count": 59,
     "metadata": {},
     "output_type": "execute_result"
    }
   ],
   "source": [
    "a.is_integer()"
   ]
  },
  {
   "cell_type": "code",
   "execution_count": 60,
   "id": "baa22330-5a4e-471a-a344-dd0869974ee3",
   "metadata": {},
   "outputs": [
    {
     "data": {
      "text/plain": [
       "1"
      ]
     },
     "execution_count": 60,
     "metadata": {},
     "output_type": "execute_result"
    }
   ],
   "source": [
    "len([3.14])"
   ]
  },
  {
   "cell_type": "code",
   "execution_count": 61,
   "id": "6d579427-9b74-4222-91f5-a2979a864339",
   "metadata": {},
   "outputs": [
    {
     "data": {
      "text/plain": [
       "\u001b[0;31mType:\u001b[0m        float\n",
       "\u001b[0;31mString form:\u001b[0m 3.14\n",
       "\u001b[0;31mDocstring:\u001b[0m   Convert a string or number to a floating point number, if possible.\n"
      ]
     },
     "metadata": {},
     "output_type": "display_data"
    }
   ],
   "source": [
    "a = [3.14];a?"
   ]
  },
  {
   "cell_type": "code",
   "execution_count": 62,
   "id": "28e2c852-210e-4bfe-9543-df0b9d2aa299",
   "metadata": {},
   "outputs": [
    {
     "data": {
      "text/plain": [
       "False"
      ]
     },
     "execution_count": 62,
     "metadata": {},
     "output_type": "execute_result"
    }
   ],
   "source": [
    "a.is_integer()"
   ]
  },
  {
   "cell_type": "code",
   "execution_count": 63,
   "id": "32f50cd3-bfec-4ad1-bd00-3e9d38f6c867",
   "metadata": {},
   "outputs": [
    {
     "data": {
      "text/plain": [
       "4"
      ]
     },
     "execution_count": 63,
     "metadata": {},
     "output_type": "execute_result"
    }
   ],
   "source": [
    "len('3.14') "
   ]
  },
  {
   "cell_type": "code",
   "execution_count": 64,
   "id": "b4be516a-b56d-4bc5-ace7-5a60acb2592c",
   "metadata": {},
   "outputs": [
    {
     "data": {
      "text/plain": [
       "\u001b[0;31mType:\u001b[0m        float\n",
       "\u001b[0;31mString form:\u001b[0m 3.14\n",
       "\u001b[0;31mDocstring:\u001b[0m   Convert a string or number to a floating point number, if possible.\n"
      ]
     },
     "metadata": {},
     "output_type": "display_data"
    }
   ],
   "source": [
    "a = '3.14';a?"
   ]
  },
  {
   "cell_type": "code",
   "execution_count": 65,
   "id": "6090121c-8f82-48e8-9967-98efd7afc892",
   "metadata": {},
   "outputs": [
    {
     "data": {
      "text/plain": [
       "False"
      ]
     },
     "execution_count": 65,
     "metadata": {},
     "output_type": "execute_result"
    }
   ],
   "source": [
    "a.is_integer()"
   ]
  },
  {
   "cell_type": "markdown",
   "id": "1272f35f-0ee8-4710-b9e7-57a6da97d977",
   "metadata": {},
   "source": [
    "`3`. 아래의 예제를 관찰하라."
   ]
  },
  {
   "cell_type": "code",
   "execution_count": 66,
   "id": "d0fc29a4-760f-4ebe-b6b2-ed475f929798",
   "metadata": {},
   "outputs": [
    {
     "data": {
      "text/plain": [
       "'제 이름은 abc입니다'"
      ]
     },
     "execution_count": 66,
     "metadata": {},
     "output_type": "execute_result"
    }
   ],
   "source": [
    "'제 이름은 {}입니다'.format('abc')"
   ]
  },
  {
   "cell_type": "code",
   "execution_count": 67,
   "id": "9525067a-aefb-4586-acc3-4d9ad57e4008",
   "metadata": {},
   "outputs": [
    {
     "data": {
      "text/plain": [
       "'제 이름은 abc이고 사는곳은 de입니다.'"
      ]
     },
     "execution_count": 67,
     "metadata": {},
     "output_type": "execute_result"
    }
   ],
   "source": [
    "'제 이름은 {}이고 사는곳은 {}입니다.'.format('abc','de')"
   ]
  },
  {
   "cell_type": "markdown",
   "id": "3151308f-daf4-48c2-bafa-e6f841214158",
   "metadata": {},
   "source": [
    "이 예제를 바탕으로 문자열에 포함된 .format()함수의 기능을 유추하라. 그리고 아래의 결과를 확인하라."
   ]
  },
  {
   "cell_type": "markdown",
   "id": "cde1d634-5bf4-4e3b-8ee7-17116d0629ec",
   "metadata": {},
   "source": [
    "$\\to$ `.format`의 기능은 `{}`에 문자를 순서대로 넣어주는 역할."
   ]
  },
  {
   "cell_type": "code",
   "execution_count": 69,
   "id": "f5903be4-079d-4718-9284-2de21526c848",
   "metadata": {},
   "outputs": [
    {
     "data": {
      "text/plain": [
       "'행사가 3월24일-3월25일 abc펜션에서 있다고 합니다. 자세한 일정 등은 다시 공지하겠습니다.'"
      ]
     },
     "execution_count": 69,
     "metadata": {},
     "output_type": "execute_result"
    }
   ],
   "source": [
    "string = '행사가 {}월{}일-{}월{}일 abc펜션에서 있다고 합니다. 자세한 일정 등은 다시 공지하겠습니다.' \n",
    "string.format(3,24,3,25)"
   ]
  },
  {
   "cell_type": "code",
   "execution_count": 71,
   "id": "d2d6bbc8-e473-4c1d-8ca0-81429bef1a1c",
   "metadata": {},
   "outputs": [
    {
     "data": {
      "text/plain": [
       "'행사가 1월1일-2월2일 abc펜션에서 있다고 합니다. 자세한 일정 등은 다시 공지하겠습니다.'"
      ]
     },
     "execution_count": 71,
     "metadata": {},
     "output_type": "execute_result"
    }
   ],
   "source": [
    "string.format(1,1,2,2)"
   ]
  },
  {
   "cell_type": "markdown",
   "id": "34b52493-e6c4-4299-9b45-cae43e6fa151",
   "metadata": {},
   "source": [
    "`4`. 아래의 예제를 관찰하라."
   ]
  },
  {
   "cell_type": "code",
   "execution_count": 72,
   "id": "bfbc0161-6047-4feb-bf8d-75e8f345ffe5",
   "metadata": {},
   "outputs": [
    {
     "data": {
      "text/plain": [
       "'abcdefu'"
      ]
     },
     "execution_count": 72,
     "metadata": {},
     "output_type": "execute_result"
    }
   ],
   "source": [
    "'abcdefg'.replace('g','u')"
   ]
  },
  {
   "cell_type": "markdown",
   "id": "175d5ac9-049d-4297-82c1-d8958649d5e5",
   "metadata": {},
   "source": [
    "이 예제를 바탕으로 문자열의 .replace() 기능을 유추하라."
   ]
  },
  {
   "cell_type": "markdown",
   "id": "9ffd001b-dc95-472f-9925-6cf658590411",
   "metadata": {},
   "source": [
    "$\\to$ `.replace`의 기능은 'g'를 'u'로 바꿔준다."
   ]
  },
  {
   "cell_type": "markdown",
   "id": "48ca901a-31e0-41d1-b0ff-67c6a56a6b80",
   "metadata": {},
   "source": [
    "`5`. 리스트자료형의 +와 * 연산을 이용하여 아래와 같은 list를 생성하라."
   ]
  },
  {
   "cell_type": "code",
   "execution_count": 73,
   "id": "1a600451-5c9f-4b15-a146-367be5b52aaf",
   "metadata": {},
   "outputs": [
    {
     "data": {
      "text/plain": [
       "[1, 2, 2, 3, 3, 3, 4, 4, 4, 4, 5, 5, 5, 5, 5]"
      ]
     },
     "execution_count": 73,
     "metadata": {},
     "output_type": "execute_result"
    }
   ],
   "source": [
    "[1, 2, 2, 3, 3, 3, 4, 4, 4, 4, 5, 5, 5, 5, 5]"
   ]
  },
  {
   "cell_type": "code",
   "execution_count": 76,
   "id": "0246f417-f895-4aaa-a0aa-6e47e03bf6e3",
   "metadata": {},
   "outputs": [
    {
     "data": {
      "text/plain": [
       "[1, 2, 2, 3, 3, 3, 4, 4, 4, 4, 5, 5, 5, 5, 5]"
      ]
     },
     "execution_count": 76,
     "metadata": {},
     "output_type": "execute_result"
    }
   ],
   "source": [
    "[1] + [2] * 2 + [3] * 3 + [4] * 4 + [5] * 5"
   ]
  },
  {
   "cell_type": "markdown",
   "id": "76655529-07e5-460d-b1b6-620b8284d815",
   "metadata": {},
   "source": [
    "hint: 아래의 코드를 관찰해보세요"
   ]
  },
  {
   "cell_type": "code",
   "execution_count": 74,
   "id": "b00547c4-d1fb-4602-83ea-276e3fb9335e",
   "metadata": {},
   "outputs": [
    {
     "data": {
      "text/plain": [
       "[1, 2, 2]"
      ]
     },
     "execution_count": 74,
     "metadata": {},
     "output_type": "execute_result"
    }
   ],
   "source": [
    "[1]*1+[2]*2 "
   ]
  },
  {
   "cell_type": "markdown",
   "id": "249c393f-640b-4bc5-b246-ec1ed45cc75b",
   "metadata": {},
   "source": [
    "`6`. 넘파이를 이용하여 아래와 같은 결과가 나오도록 코드가 작성하라."
   ]
  },
  {
   "cell_type": "markdown",
   "id": "d1fc35e4-5a97-46f2-981f-afad2eb248d5",
   "metadata": {},
   "source": [
    "$$\\begin{bmatrix}\n",
    "1 \\\\\n",
    "2 \n",
    "\\end{bmatrix} + \\begin{bmatrix}\n",
    "11 \\\\\n",
    "22 \n",
    "\\end{bmatrix} = \n",
    "\\begin{bmatrix}\n",
    "12 \\\\\n",
    "24\n",
    "\\end{bmatrix}$$"
   ]
  },
  {
   "cell_type": "code",
   "execution_count": 77,
   "id": "656530f0-bb65-44ff-8aff-191814763248",
   "metadata": {},
   "outputs": [],
   "source": [
    "import numpy as np"
   ]
  },
  {
   "cell_type": "code",
   "execution_count": 83,
   "id": "4fbeac2d-8e46-4263-851f-1caffd9e752b",
   "metadata": {},
   "outputs": [
    {
     "data": {
      "text/plain": [
       "array([12, 24])"
      ]
     },
     "execution_count": 83,
     "metadata": {},
     "output_type": "execute_result"
    }
   ],
   "source": [
    "np.array([1,2]) + np.array([11,22]) "
   ]
  },
  {
   "cell_type": "code",
   "execution_count": 84,
   "id": "fd77a1c8-542d-4dc0-ae50-13ab0132fc09",
   "metadata": {},
   "outputs": [
    {
     "data": {
      "text/plain": [
       "array([[12],\n",
       "       [24]])"
      ]
     },
     "execution_count": 84,
     "metadata": {},
     "output_type": "execute_result"
    }
   ],
   "source": [
    "np.array([[1],[2]]) + np.array([[11],[22]])"
   ]
  },
  {
   "cell_type": "markdown",
   "id": "216c4fe8-fdf7-43a5-aeb2-a9b5aebf86f0",
   "metadata": {},
   "source": [
    "7. 아래와 같은 벡터가 있다고 하자."
   ]
  },
  {
   "cell_type": "markdown",
   "id": "33ab04da-65d4-499a-a5b9-ae29345907f2",
   "metadata": {},
   "source": [
    "$$\\boldsymbol{a}=\n",
    "\\begin{bmatrix}\n",
    "12 \\\\\n",
    "24\n",
    "\\end{bmatrix}$$"
   ]
  },
  {
   "cell_type": "markdown",
   "id": "77edcdf4-cde5-4fa1-bcea-cc9f8f939cf0",
   "metadata": {},
   "source": [
    "넘파이를 이용하여 아래의 결과가 나오게 하는 코드를 작성하라.\n",
    "\n",
    "$$2\\boldsymbol{a}=\n",
    "\\begin{bmatrix}\n",
    "24 \\\\\n",
    "48\n",
    "\\end{bmatrix}$$ "
   ]
  },
  {
   "cell_type": "code",
   "execution_count": 86,
   "id": "9ed32d55-0bd8-4521-8872-f6e434c2badc",
   "metadata": {},
   "outputs": [
    {
     "data": {
      "text/plain": [
       "array([[24],\n",
       "       [48]])"
      ]
     },
     "execution_count": 86,
     "metadata": {},
     "output_type": "execute_result"
    }
   ],
   "source": [
    "2 * (np.array([[1],[2]]) + np.array([[11],[22]]))"
   ]
  },
  {
   "cell_type": "code",
   "execution_count": 88,
   "id": "2a5d3c75-863a-417a-b06a-2f87332728fe",
   "metadata": {},
   "outputs": [
    {
     "data": {
      "text/plain": [
       "array([24, 48])"
      ]
     },
     "execution_count": 88,
     "metadata": {},
     "output_type": "execute_result"
    }
   ],
   "source": [
    "2 * np.array([12, 24])"
   ]
  },
  {
   "cell_type": "code",
   "execution_count": 89,
   "id": "2c67da41-c3f0-43e9-acb3-0ba3c1db808b",
   "metadata": {},
   "outputs": [
    {
     "data": {
      "text/plain": [
       "array([[24],\n",
       "       [48]])"
      ]
     },
     "execution_count": 89,
     "metadata": {},
     "output_type": "execute_result"
    }
   ],
   "source": [
    "2 * np.array([[12], [24]])"
   ]
  },
  {
   "cell_type": "markdown",
   "id": "aea60f0a-1f5c-45d9-9bf7-c71a5473e727",
   "metadata": {},
   "source": [
    "3.\n",
    "\n",
    "HW 0320"
   ]
  },
  {
   "cell_type": "markdown",
   "id": "1be5d20b-add0-4010-97cc-ca8e1254fb10",
   "metadata": {},
   "source": [
    "[03wk-1: 파이썬의 자료형 (4)](https://guebin.github.io/PP2023/posts/01_PythonBasic/2023-03-20-3wk-1.html)"
   ]
  },
  {
   "cell_type": "code",
   "execution_count": null,
   "id": "dd0bed57-90e7-4d2e-b0ad-e43717454323",
   "metadata": {},
   "outputs": [],
   "source": []
  }
 ],
 "metadata": {
  "kernelspec": {
   "display_name": "Python 3",
   "language": "python",
   "name": "python3"
  },
  "language_info": {
   "codemirror_mode": {
    "name": "ipython",
    "version": 3
   },
   "file_extension": ".py",
   "mimetype": "text/x-python",
   "name": "python",
   "nbconvert_exporter": "python",
   "pygments_lexer": "ipython3",
   "version": "3.8.0"
  }
 },
 "nbformat": 4,
 "nbformat_minor": 5
}
